{
 "cells": [
  {
   "cell_type": "code",
   "execution_count": 1,
   "metadata": {},
   "outputs": [],
   "source": [
    "from lighter.utils.runner import parse_config\n",
    "from lighter.utils.dynamic_imports import import_module_from_path\n",
    "\n",
    "import os\n",
    "from monai.visualize import blend_images\n",
    "import matplotlib.pyplot as plt\n",
    "import numpy as np\n",
    "import torch\n",
    "\n",
    "# Change directory to the experiment folder\n",
    "os.chdir(\"/home/suraj/Repositories/FM-extractors-radiomics/pyramid_pretraining\")"
   ]
  },
  {
   "cell_type": "code",
   "execution_count": 2,
   "metadata": {},
   "outputs": [
    {
     "data": {
      "text/plain": [
       "'/home/suraj/Repositories/FM-extractors-radiomics/pyramid_pretraining'"
      ]
     },
     "execution_count": 2,
     "metadata": {},
     "output_type": "execute_result"
    }
   ],
   "source": [
    "os.getcwd()"
   ]
  },
  {
   "cell_type": "code",
   "execution_count": 3,
   "metadata": {},
   "outputs": [
    {
     "data": {
      "text/html": [
       "<pre style=\"white-space:pre;overflow-x:auto;line-height:normal;font-family:Menlo,'DejaVu Sans Mono',consolas,'Courier New',monospace\"><span style=\"color: #008080; text-decoration-color: #008080; font-weight: bold\">2025</span><span style=\"color: #008000; text-decoration-color: #008000\">/</span><span style=\"color: #008080; text-decoration-color: #008080; font-weight: bold\">02</span><span style=\"color: #008000; text-decoration-color: #008000\">/</span><span style=\"color: #008080; text-decoration-color: #008080; font-weight: bold\">06</span><span style=\"color: #008000; text-decoration-color: #008000\"> </span><span style=\"color: #00ff00; text-decoration-color: #00ff00; font-weight: bold\">13:50:09</span><span style=\"color: #008000; text-decoration-color: #008000\">.</span><span style=\"color: #008080; text-decoration-color: #008080; font-weight: bold\">116</span>  |  ℹ️  <span style=\"font-weight: bold\">INFO      </span>|                                                    <a href=\"file:///home/suraj/miniconda3/envs/lighter_dev/lib/python3.10/site-packages/lighter/utils/dynamic_imports.py\" target=\"_blank\"><span style=\"color: #7f7f7f; text-decoration-color: #7f7f7f\">dynamic_imports.py</span></a><span style=\"color: #7f7f7f; text-decoration-color: #7f7f7f\">:</span><a href=\"file:///home/suraj/miniconda3/envs/lighter_dev/lib/python3.10/site-packages/lighter/utils/dynamic_imports.py#79\" target=\"_blank\"><span style=\"color: #7f7f7f; text-decoration-color: #7f7f7f\">79</span></a>\n",
       "<span style=\"color: #800080; text-decoration-color: #800080; font-weight: bold\">/home/suraj/Repositories/FM-extractors-radiomics/</span><span style=\"color: #ff00ff; text-decoration-color: #ff00ff; font-weight: bold\">pyramid_pretraining</span><span style=\"font-weight: bold\"> imported as </span><span style=\"color: #008000; text-decoration-color: #008000\">'project'</span><span style=\"font-weight: bold\"> </span>   <span style=\"color: #7f7f7f; text-decoration-color: #7f7f7f\">                     </span>\n",
       "<span style=\"font-weight: bold\">module.</span>                                                                                       <span style=\"color: #7f7f7f; text-decoration-color: #7f7f7f\">                     </span>\n",
       "</pre>\n"
      ],
      "text/plain": [
       "\u001b[1;36m2025\u001b[0m\u001b[32m/\u001b[0m\u001b[1;36m02\u001b[0m\u001b[32m/\u001b[0m\u001b[1;36m06\u001b[0m\u001b[32m \u001b[0m\u001b[1;92m13:50:09\u001b[0m\u001b[32m.\u001b[0m\u001b[1;36m116\u001b[0m  |  ℹ️  \u001b[1mINFO      \u001b[0m|                                                    \u001b]8;id=481148;file:///home/suraj/miniconda3/envs/lighter_dev/lib/python3.10/site-packages/lighter/utils/dynamic_imports.py\u001b\\\u001b[2mdynamic_imports.py\u001b[0m\u001b]8;;\u001b\\\u001b[2m:\u001b[0m\u001b]8;id=191539;file:///home/suraj/miniconda3/envs/lighter_dev/lib/python3.10/site-packages/lighter/utils/dynamic_imports.py#79\u001b\\\u001b[2m79\u001b[0m\u001b]8;;\u001b\\\n",
       "\u001b[1;35m/home/suraj/Repositories/FM-extractors-radiomics/\u001b[0m\u001b[1;95mpyramid_pretraining\u001b[0m\u001b[1m imported as \u001b[0m\u001b[32m'project'\u001b[0m\u001b[1m \u001b[0m   \u001b[2m                     \u001b[0m\n",
       "\u001b[1mmodule.\u001b[0m                                                                                       \u001b[2m                     \u001b[0m\n"
      ]
     },
     "metadata": {},
     "output_type": "display_data"
    }
   ],
   "source": [
    "kwargs = {\n",
    "    \"config\": [\"./experiments/base.yaml\", \"./experiments/frameworks/intrasample_simclr.yaml\", \"./experiments/backbones/segresenc.yaml\"],\n",
    "    \"vars#name\": 'baseline',\n",
    "    \"vars#project\": 'test',\n",
    "    \"vars#wandb_group\": \"\"\n",
    "}\n",
    "# Parse and validate the config.\n",
    "parser = parse_config(**kwargs)\n",
    "\n",
    "# Import the project folder as a module, if specified.\n",
    "project = parser.get_parsed_content(\"project\")\n",
    "if project is not None:\n",
    "    import_module_from_path(\"project\", project)\n"
   ]
  },
  {
   "cell_type": "code",
   "execution_count": 4,
   "metadata": {},
   "outputs": [],
   "source": [
    "\n",
    "def dataset_item_generator(item):\n",
    "    if isinstance(item, list) or isinstance(item, tuple):\n",
    "        for sub_item in item:\n",
    "            if sub_item is None:\n",
    "                continue\n",
    "            elif isinstance(sub_item, list) or isinstance(sub_item, tuple):\n",
    "                yield from dataset_item_generator(sub_item)\n",
    "            else:\n",
    "                yield sub_item\n",
    "    elif isinstance(item, dict):\n",
    "        for key, value in item.items():\n",
    "            if value is None:\n",
    "                continue\n",
    "            elif isinstance(value, list) or isinstance(value, tuple):\n",
    "                yield from dataset_item_generator(value)\n",
    "            else:\n",
    "                yield value\n",
    "    else:\n",
    "        yield item\n",
    "\n",
    "        \n"
   ]
  },
  {
   "cell_type": "code",
   "execution_count": 5,
   "metadata": {},
   "outputs": [],
   "source": [
    "train_dataset = parser.get_parsed_content(\"system#datasets#train\")\n"
   ]
  },
  {
   "cell_type": "code",
   "execution_count": 6,
   "metadata": {},
   "outputs": [],
   "source": [
    "# val_dataset = parser.get_parsed_content(\"system#datasets#val\")\n",
    "# predict_dataset = parser.get_parsed_content(\"system#datasets#predict\")"
   ]
  },
  {
   "cell_type": "code",
   "execution_count": 7,
   "metadata": {},
   "outputs": [
    {
     "data": {
      "text/plain": [
       "39436"
      ]
     },
     "execution_count": 7,
     "metadata": {},
     "output_type": "execute_result"
    }
   ],
   "source": [
    "len(train_dataset)"
   ]
  },
  {
   "cell_type": "code",
   "execution_count": 8,
   "metadata": {},
   "outputs": [],
   "source": [
    "\n",
    "def plot_3d_image(ret):\n",
    "    # Plot axial slice\n",
    "    plt.figure(figsize=(10, 10))\n",
    "    plt.subplot(3, 1, 1)\n",
    "    plt.imshow(ret[:, ret.shape[1] // 2, :, :].permute(1, 2, 0), cmap=\"gray\")\n",
    "    plt.title(\"Axial\")\n",
    "    plt.axis(\"off\")\n",
    "\n",
    "    # Plot sagittal slice\n",
    "    plt.subplot(3, 1, 2)\n",
    "    plt.imshow(ret[:, :, ret.shape[2] // 2, :].permute(1, 2, 0), cmap=\"gray\")\n",
    "    plt.title(\"Coronal\")\n",
    "    plt.axis(\"off\")\n",
    "\n",
    "    # Plot coronal slice\n",
    "    plt.subplot(3, 1, 3)\n",
    "    plt.imshow(ret[:, :, :, ret.shape[3] // 2].permute(1, 2, 0), cmap=\"gray\")\n",
    "    plt.title(\"Sagittal\")\n",
    "\n",
    "    plt.axis(\"off\")\n",
    "    plt.show()"
   ]
  },
  {
   "cell_type": "code",
   "execution_count": null,
   "metadata": {},
   "outputs": [],
   "source": [
    "dataset_idx = 9\n",
    "dataset_item = train_dataset[dataset_idx]\n",
    "\n",
    "# Recursively get the first valid item\n",
    "g = dataset_item_generator(dataset_item)            \n",
    "\n",
    "for item in g:\n",
    "    if isinstance(item, dict):\n",
    "        for k, v in item.items():\n",
    "            if isinstance(v, torch.Tensor):\n",
    "                print(k, v.shape)\n",
    "                if len(v.shape) == 4:\n",
    "                    plot_3d_image(v)\n",
    "                else:\n",
    "                    plt.imshow(v[0])\n",
    "                    plt.show()\n",
    "            else:\n",
    "                print(v)\n",
    "    elif isinstance(item, torch.Tensor) or isinstance(item, np.ndarray):\n",
    "        if len(item.shape) == 4:\n",
    "            # item = item.transpose(0, 3, 2, 1)\n",
    "            item = torch.tensor(item)\n",
    "            plot_3d_image(item)\n",
    "        else:\n",
    "            plt.imshow(item[0])\n",
    "            plt.show()\n",
    "        "
   ]
  },
  {
   "cell_type": "code",
   "execution_count": 9,
   "metadata": {},
   "outputs": [
    {
     "name": "stdout",
     "output_type": "stream",
     "text": [
      "Data statistics:\n",
      "Type: <class 'str'> None\n",
      "Shape: None\n",
      "Value range: (not a PyTorch or Numpy array, type: <class 'str'>)\n",
      "Value: /mnt/data1/datasets/ULS23/images/novel_data/ULS23_DeepLesion3D/images/000010_02_02_100_lesion_01.nii.gz\n"
     ]
    },
    {
     "data": {
      "text/html": [
       "<pre style=\"white-space:pre;overflow-x:auto;line-height:normal;font-family:Menlo,'DejaVu Sans Mono',consolas,'Courier New',monospace\"><span style=\"color: #008080; text-decoration-color: #008080; font-weight: bold\">2025</span><span style=\"color: #008000; text-decoration-color: #008000\">/</span><span style=\"color: #008080; text-decoration-color: #008080; font-weight: bold\">02</span><span style=\"color: #008000; text-decoration-color: #008000\">/</span><span style=\"color: #008080; text-decoration-color: #008080; font-weight: bold\">06</span><span style=\"color: #008000; text-decoration-color: #008000\"> </span><span style=\"color: #00ff00; text-decoration-color: #00ff00; font-weight: bold\">13:50:12</span><span style=\"color: #008000; text-decoration-color: #008000\">.</span><span style=\"color: #008080; text-decoration-color: #008080; font-weight: bold\">391</span>  |  ℹ️  <span style=\"font-weight: bold\">INFO      </span>|  <span style=\"font-weight: bold\">Data statistics:</span>                                           <a href=\"file:///home/suraj/miniconda3/envs/lighter_dev/lib/python3.10/site-packages/monai/transforms/utility/array.py\" target=\"_blank\"><span style=\"color: #7f7f7f; text-decoration-color: #7f7f7f\">array.py</span></a><span style=\"color: #7f7f7f; text-decoration-color: #7f7f7f\">:</span><a href=\"file:///home/suraj/miniconda3/envs/lighter_dev/lib/python3.10/site-packages/monai/transforms/utility/array.py#733\" target=\"_blank\"><span style=\"color: #7f7f7f; text-decoration-color: #7f7f7f\">733</span></a>\n",
       "<span style=\"font-weight: bold\">Type: &lt;</span><span style=\"color: #ff00ff; text-decoration-color: #ff00ff; font-weight: bold\">class</span><span style=\"color: #000000; text-decoration-color: #000000; font-weight: bold\"> </span><span style=\"color: #008000; text-decoration-color: #008000\">'str'</span><span style=\"color: #000000; text-decoration-color: #000000; font-weight: bold\">&gt; </span><span style=\"color: #800080; text-decoration-color: #800080; font-weight: bold; font-style: italic\">None</span>                                                                               <span style=\"color: #7f7f7f; text-decoration-color: #7f7f7f\">            </span>\n",
       "<span style=\"color: #000000; text-decoration-color: #000000; font-weight: bold\">Shape: </span><span style=\"color: #800080; text-decoration-color: #800080; font-weight: bold; font-style: italic\">None</span>                                                                                            <span style=\"color: #7f7f7f; text-decoration-color: #7f7f7f\">            </span>\n",
       "<span style=\"color: #000000; text-decoration-color: #000000; font-weight: bold\">Value range: (not a PyTorch or Numpy array, type: &lt;class </span><span style=\"color: #008000; text-decoration-color: #008000\">'str'</span><span style=\"font-weight: bold\">&gt;)</span>                                       <span style=\"color: #7f7f7f; text-decoration-color: #7f7f7f\">            </span>\n",
       "<span style=\"font-weight: bold\">Value: </span>                                                                                                <span style=\"color: #7f7f7f; text-decoration-color: #7f7f7f\">            </span>\n",
       "<span style=\"color: #800080; text-decoration-color: #800080; font-weight: bold\">/mnt/data1/datasets/ULS23/images/novel_data/ULS23_DeepLesion3D/images/</span><span style=\"color: #ff00ff; text-decoration-color: #ff00ff; font-weight: bold\">000010_02_02_100_lesion_01.nii.g</span> <span style=\"color: #7f7f7f; text-decoration-color: #7f7f7f\">            </span>\n",
       "<span style=\"color: #ff00ff; text-decoration-color: #ff00ff; font-weight: bold\">z</span>                                                                                                      <span style=\"color: #7f7f7f; text-decoration-color: #7f7f7f\">            </span>\n",
       "</pre>\n"
      ],
      "text/plain": [
       "\u001b[1;36m2025\u001b[0m\u001b[32m/\u001b[0m\u001b[1;36m02\u001b[0m\u001b[32m/\u001b[0m\u001b[1;36m06\u001b[0m\u001b[32m \u001b[0m\u001b[1;92m13:50:12\u001b[0m\u001b[32m.\u001b[0m\u001b[1;36m391\u001b[0m  |  ℹ️  \u001b[1mINFO      \u001b[0m|  \u001b[1mData statistics:\u001b[0m                                           \u001b]8;id=101146;file:///home/suraj/miniconda3/envs/lighter_dev/lib/python3.10/site-packages/monai/transforms/utility/array.py\u001b\\\u001b[2marray.py\u001b[0m\u001b]8;;\u001b\\\u001b[2m:\u001b[0m\u001b]8;id=422568;file:///home/suraj/miniconda3/envs/lighter_dev/lib/python3.10/site-packages/monai/transforms/utility/array.py#733\u001b\\\u001b[2m733\u001b[0m\u001b]8;;\u001b\\\n",
       "\u001b[1mType: \u001b[0m\u001b[1m<\u001b[0m\u001b[1;95mclass\u001b[0m\u001b[1;39m \u001b[0m\u001b[32m'str'\u001b[0m\u001b[1;39m> \u001b[0m\u001b[1;3;35mNone\u001b[0m                                                                               \u001b[2m            \u001b[0m\n",
       "\u001b[1;39mShape: \u001b[0m\u001b[1;3;35mNone\u001b[0m                                                                                            \u001b[2m            \u001b[0m\n",
       "\u001b[1;39mValue range: \u001b[0m\u001b[1;39m(\u001b[0m\u001b[1;39mnot a PyTorch or Numpy array, type: <class \u001b[0m\u001b[32m'str'\u001b[0m\u001b[1m>\u001b[0m\u001b[1m)\u001b[0m                                       \u001b[2m            \u001b[0m\n",
       "\u001b[1mValue: \u001b[0m                                                                                                \u001b[2m            \u001b[0m\n",
       "\u001b[1;35m/mnt/data1/datasets/ULS23/images/novel_data/ULS23_DeepLesion3D/images/\u001b[0m\u001b[1;95m000010_02_02_100_lesion_01.nii.g\u001b[0m \u001b[2m            \u001b[0m\n",
       "\u001b[1;95mz\u001b[0m                                                                                                      \u001b[2m            \u001b[0m\n"
      ]
     },
     "metadata": {},
     "output_type": "display_data"
    },
    {
     "name": "stdout",
     "output_type": "stream",
     "text": [
      "Data statistics:\n",
      "Type: <class 'pathlib.PosixPath'> None\n",
      "Shape: None\n",
      "Value range: (not a PyTorch or Numpy array, type: <class 'pathlib.PosixPath'>)\n",
      "Value: /mnt/data1/datasets/ULS23/annotations/novel_data/ULS23_DeepLesion3D/labels/000010_02_02_100_lesion_01.nii.gz\n"
     ]
    },
    {
     "data": {
      "text/html": [
       "<pre style=\"white-space:pre;overflow-x:auto;line-height:normal;font-family:Menlo,'DejaVu Sans Mono',consolas,'Courier New',monospace\"><span style=\"color: #008080; text-decoration-color: #008080; font-weight: bold\">2025</span><span style=\"color: #008000; text-decoration-color: #008000\">/</span><span style=\"color: #008080; text-decoration-color: #008080; font-weight: bold\">02</span><span style=\"color: #008000; text-decoration-color: #008000\">/</span><span style=\"color: #008080; text-decoration-color: #008080; font-weight: bold\">06</span><span style=\"color: #008000; text-decoration-color: #008000\"> </span><span style=\"color: #00ff00; text-decoration-color: #00ff00; font-weight: bold\">13:50:12</span><span style=\"color: #008000; text-decoration-color: #008000\">.</span><span style=\"color: #008080; text-decoration-color: #008080; font-weight: bold\">396</span>  |  ℹ️  <span style=\"font-weight: bold\">INFO      </span>|  <span style=\"font-weight: bold\">Data statistics:</span>                                           <a href=\"file:///home/suraj/miniconda3/envs/lighter_dev/lib/python3.10/site-packages/monai/transforms/utility/array.py\" target=\"_blank\"><span style=\"color: #7f7f7f; text-decoration-color: #7f7f7f\">array.py</span></a><span style=\"color: #7f7f7f; text-decoration-color: #7f7f7f\">:</span><a href=\"file:///home/suraj/miniconda3/envs/lighter_dev/lib/python3.10/site-packages/monai/transforms/utility/array.py#733\" target=\"_blank\"><span style=\"color: #7f7f7f; text-decoration-color: #7f7f7f\">733</span></a>\n",
       "<span style=\"font-weight: bold\">Type: &lt;</span><span style=\"color: #ff00ff; text-decoration-color: #ff00ff; font-weight: bold\">class</span><span style=\"color: #000000; text-decoration-color: #000000; font-weight: bold\"> </span><span style=\"color: #008000; text-decoration-color: #008000\">'pathlib.PosixPath'</span><span style=\"color: #000000; text-decoration-color: #000000; font-weight: bold\">&gt; </span><span style=\"color: #800080; text-decoration-color: #800080; font-weight: bold; font-style: italic\">None</span>                                                                 <span style=\"color: #7f7f7f; text-decoration-color: #7f7f7f\">            </span>\n",
       "<span style=\"color: #000000; text-decoration-color: #000000; font-weight: bold\">Shape: </span><span style=\"color: #800080; text-decoration-color: #800080; font-weight: bold; font-style: italic\">None</span>                                                                                            <span style=\"color: #7f7f7f; text-decoration-color: #7f7f7f\">            </span>\n",
       "<span style=\"color: #000000; text-decoration-color: #000000; font-weight: bold\">Value range: (not a PyTorch or Numpy array, type: &lt;class </span><span style=\"color: #008000; text-decoration-color: #008000\">'pathlib.PosixPath'</span><span style=\"font-weight: bold\">&gt;)</span>                         <span style=\"color: #7f7f7f; text-decoration-color: #7f7f7f\">            </span>\n",
       "<span style=\"font-weight: bold\">Value: </span>                                                                                                <span style=\"color: #7f7f7f; text-decoration-color: #7f7f7f\">            </span>\n",
       "<span style=\"color: #800080; text-decoration-color: #800080; font-weight: bold\">/mnt/data1/datasets/ULS23/annotations/novel_data/ULS23_DeepLesion3D/labels/</span><span style=\"color: #ff00ff; text-decoration-color: #ff00ff; font-weight: bold\">000010_02_02_100_lesion_01.</span> <span style=\"color: #7f7f7f; text-decoration-color: #7f7f7f\">            </span>\n",
       "<span style=\"color: #ff00ff; text-decoration-color: #ff00ff; font-weight: bold\">nii.gz</span>                                                                                                 <span style=\"color: #7f7f7f; text-decoration-color: #7f7f7f\">            </span>\n",
       "</pre>\n"
      ],
      "text/plain": [
       "\u001b[1;36m2025\u001b[0m\u001b[32m/\u001b[0m\u001b[1;36m02\u001b[0m\u001b[32m/\u001b[0m\u001b[1;36m06\u001b[0m\u001b[32m \u001b[0m\u001b[1;92m13:50:12\u001b[0m\u001b[32m.\u001b[0m\u001b[1;36m396\u001b[0m  |  ℹ️  \u001b[1mINFO      \u001b[0m|  \u001b[1mData statistics:\u001b[0m                                           \u001b]8;id=57353;file:///home/suraj/miniconda3/envs/lighter_dev/lib/python3.10/site-packages/monai/transforms/utility/array.py\u001b\\\u001b[2marray.py\u001b[0m\u001b]8;;\u001b\\\u001b[2m:\u001b[0m\u001b]8;id=553091;file:///home/suraj/miniconda3/envs/lighter_dev/lib/python3.10/site-packages/monai/transforms/utility/array.py#733\u001b\\\u001b[2m733\u001b[0m\u001b]8;;\u001b\\\n",
       "\u001b[1mType: \u001b[0m\u001b[1m<\u001b[0m\u001b[1;95mclass\u001b[0m\u001b[1;39m \u001b[0m\u001b[32m'pathlib.PosixPath'\u001b[0m\u001b[1;39m> \u001b[0m\u001b[1;3;35mNone\u001b[0m                                                                 \u001b[2m            \u001b[0m\n",
       "\u001b[1;39mShape: \u001b[0m\u001b[1;3;35mNone\u001b[0m                                                                                            \u001b[2m            \u001b[0m\n",
       "\u001b[1;39mValue range: \u001b[0m\u001b[1;39m(\u001b[0m\u001b[1;39mnot a PyTorch or Numpy array, type: <class \u001b[0m\u001b[32m'pathlib.PosixPath'\u001b[0m\u001b[1m>\u001b[0m\u001b[1m)\u001b[0m                         \u001b[2m            \u001b[0m\n",
       "\u001b[1mValue: \u001b[0m                                                                                                \u001b[2m            \u001b[0m\n",
       "\u001b[1;35m/mnt/data1/datasets/ULS23/annotations/novel_data/ULS23_DeepLesion3D/labels/\u001b[0m\u001b[1;95m000010_02_02_100_lesion_01.\u001b[0m \u001b[2m            \u001b[0m\n",
       "\u001b[1;95mnii.gz\u001b[0m                                                                                                 \u001b[2m            \u001b[0m\n"
      ]
     },
     "metadata": {},
     "output_type": "display_data"
    },
    {
     "data": {
      "image/png": "[encoded data removed]",
      "text/plain": [
       "<Figure size 1000x1000 with 3 Axes>"
      ]
     },
     "metadata": {},
     "output_type": "display_data"
    },
    {
     "ename": "",
     "evalue": "",
     "output_type": "error",
     "traceback": [
      "\u001b[1;31mThe Kernel crashed while executing code in the current cell or a previous cell. \n",
      "\u001b[1;31mPlease review the code in the cell(s) to identify a possible cause of the failure. \n",
      "\u001b[1;31mClick <a href='https://aka.ms/vscodeJupyterKernelCrash'>here</a> for more info. \n",
      "\u001b[1;31mView Jupyter <a href='command:jupyter.viewOutput'>log</a> for further details."
     ]
    }
   ],
   "source": [
    "plot_3d_image(train_dataset[0]['input'][0][0])"
   ]
  },
  {
   "cell_type": "code",
   "execution_count": null,
   "metadata": {},
   "outputs": [],
   "source": [
    "set(np.unique(label).tolist()).intersection(set([6, 5, 4, 3, 2, 1, 22, 32, 31, 30, 29, 28, 27, 26, 25, 21, 20, 19, 18, 7]))"
   ]
  },
  {
   "cell_type": "code",
   "execution_count": null,
   "metadata": {},
   "outputs": [],
   "source": [
    "dataset[idx]"
   ]
  },
  {
   "cell_type": "code",
   "execution_count": null,
   "metadata": {},
   "outputs": [],
   "source": [
    "item[\"id\"]"
   ]
  },
  {
   "cell_type": "code",
   "execution_count": null,
   "metadata": {},
   "outputs": [],
   "source": [
    "from tqdm import tqdm\n",
    "dataset = parser.get_parsed_content(\"system#datasets#train\")\n",
    "exclude_list = []\n",
    "for i in tqdm(range(0, len(dataset))):\n",
    "    try:\n",
    "        out = dataset[i]\n",
    "    except:\n",
    "        exclude_list.append(i)"
   ]
  },
  {
   "cell_type": "code",
   "execution_count": null,
   "metadata": {},
   "outputs": [],
   "source": [
    "exclude_list"
   ]
  },
  {
   "cell_type": "code",
   "execution_count": null,
   "metadata": {},
   "outputs": [],
   "source": [
    "for exclude_idx in exclude_list:\n",
    "    print(dataset.data[exclude_idx])"
   ]
  },
  {
   "cell_type": "code",
   "execution_count": 49,
   "metadata": {},
   "outputs": [],
   "source": [
    "import pandas as pd\n",
    "x = pd.read_csv(\"/mnt/data1/TotalSegmentator/v2/processed/meta.csv\")"
   ]
  },
  {
   "cell_type": "code",
   "execution_count": null,
   "metadata": {},
   "outputs": [],
   "source": [
    "x[~x['image_id'].isin(['s1275', 's1341', 's1268', 's1261'])]"
   ]
  },
  {
   "cell_type": "code",
   "execution_count": null,
   "metadata": {},
   "outputs": [],
   "source": [
    "df"
   ]
  },
  {
   "cell_type": "code",
   "execution_count": null,
   "metadata": {},
   "outputs": [],
   "source": []
  }
 ],
 "metadata": {
  "kernelspec": {
   "display_name": "lighter_dev",
   "language": "python",
   "name": "python3"
  },
  "language_info": {
   "codemirror_mode": {
    "name": "ipython",
    "version": 3
   },
   "file_extension": ".py",
   "mimetype": "text/x-python",
   "name": "python",
   "nbconvert_exporter": "python",
   "pygments_lexer": "ipython3",
   "version": "3.10.14"
  }
 },
 "nbformat": 4,
 "nbformat_minor": 2
}
