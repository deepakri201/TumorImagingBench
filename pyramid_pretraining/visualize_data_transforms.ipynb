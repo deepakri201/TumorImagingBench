{
 "cells": [
  {
   "cell_type": "code",
   "execution_count": 9,
   "metadata": {},
   "outputs": [],
   "source": [
    "from lighter.utils.runner import parse_config\n",
    "from lighter.utils.dynamic_imports import import_module_from_path\n",
    "\n",
    "import os\n",
    "from monai.visualize import blend_images\n",
    "import matplotlib.pyplot as plt\n",
    "import numpy as np\n",
    "import torch\n",
    "\n",
    "# Change directory to the experiment folder\n",
    "os.chdir(\"/home/suraj/Repositories/FM-extractors-radiomics/pyramid_pretraining\")"
   ]
  },
  {
   "cell_type": "code",
   "execution_count": 2,
   "metadata": {},
   "outputs": [
    {
     "data": {
      "text/plain": [
       "'/home/suraj/Repositories/FM-extractors-radiomics/pyramid_pretraining'"
      ]
     },
     "execution_count": 2,
     "metadata": {},
     "output_type": "execute_result"
    }
   ],
   "source": [
    "os.getcwd()"
   ]
  },
  {
   "cell_type": "code",
   "execution_count": 3,
   "metadata": {},
   "outputs": [
    {
     "data": {
      "text/html": [
       "<pre style=\"white-space:pre;overflow-x:auto;line-height:normal;font-family:Menlo,'DejaVu Sans Mono',consolas,'Courier New',monospace\"><span style=\"color: #008080; text-decoration-color: #008080; font-weight: bold\">2024</span><span style=\"color: #008000; text-decoration-color: #008000\">/</span><span style=\"color: #008080; text-decoration-color: #008080; font-weight: bold\">11</span><span style=\"color: #008000; text-decoration-color: #008000\">/</span><span style=\"color: #008080; text-decoration-color: #008080; font-weight: bold\">19</span><span style=\"color: #008000; text-decoration-color: #008000\"> </span><span style=\"color: #00ff00; text-decoration-color: #00ff00; font-weight: bold\">08:28:23</span><span style=\"color: #008000; text-decoration-color: #008000\">.</span><span style=\"color: #008080; text-decoration-color: #008080; font-weight: bold\">181</span>  |  ℹ️  <span style=\"font-weight: bold\">INFO      </span>|                                                    <a href=\"file:///home/suraj/Repositories/lighter/lighter/utils/dynamic_imports.py\" target=\"_blank\"><span style=\"color: #7f7f7f; text-decoration-color: #7f7f7f\">dynamic_imports.py</span></a><span style=\"color: #7f7f7f; text-decoration-color: #7f7f7f\">:</span><a href=\"file:///home/suraj/Repositories/lighter/lighter/utils/dynamic_imports.py#79\" target=\"_blank\"><span style=\"color: #7f7f7f; text-decoration-color: #7f7f7f\">79</span></a>\n",
       "<span style=\"color: #800080; text-decoration-color: #800080; font-weight: bold\">/home/suraj/Repositories/FM-extractors-radiomics/</span><span style=\"color: #ff00ff; text-decoration-color: #ff00ff; font-weight: bold\">pyramid_pretraining</span><span style=\"font-weight: bold\"> imported as </span><span style=\"color: #008000; text-decoration-color: #008000\">'project'</span><span style=\"font-weight: bold\"> </span>   <span style=\"color: #7f7f7f; text-decoration-color: #7f7f7f\">                     </span>\n",
       "<span style=\"font-weight: bold\">module.</span>                                                                                       <span style=\"color: #7f7f7f; text-decoration-color: #7f7f7f\">                     </span>\n",
       "</pre>\n"
      ],
      "text/plain": [
       "\u001b[1;36m2024\u001b[0m\u001b[32m/\u001b[0m\u001b[1;36m11\u001b[0m\u001b[32m/\u001b[0m\u001b[1;36m19\u001b[0m\u001b[32m \u001b[0m\u001b[1;92m08:28:23\u001b[0m\u001b[32m.\u001b[0m\u001b[1;36m181\u001b[0m  |  ℹ️  \u001b[1mINFO      \u001b[0m|                                                    \u001b]8;id=631678;file:///home/suraj/Repositories/lighter/lighter/utils/dynamic_imports.py\u001b\\\u001b[2mdynamic_imports.py\u001b[0m\u001b]8;;\u001b\\\u001b[2m:\u001b[0m\u001b]8;id=211497;file:///home/suraj/Repositories/lighter/lighter/utils/dynamic_imports.py#79\u001b\\\u001b[2m79\u001b[0m\u001b]8;;\u001b\\\n",
       "\u001b[1;35m/home/suraj/Repositories/FM-extractors-radiomics/\u001b[0m\u001b[1;95mpyramid_pretraining\u001b[0m\u001b[1m imported as \u001b[0m\u001b[32m'project'\u001b[0m\u001b[1m \u001b[0m   \u001b[2m                     \u001b[0m\n",
       "\u001b[1mmodule.\u001b[0m                                                                                       \u001b[2m                     \u001b[0m\n"
      ]
     },
     "metadata": {},
     "output_type": "display_data"
    }
   ],
   "source": [
    "kwargs = {\n",
    "    \"config\": [\"./experiments/base.yaml\", \"./experiments/frameworks/intrasample_simclr.yaml\", \"./experiments/backbones/segresenc.yaml\"],\n",
    "    \"vars#name\": 'baseline',\n",
    "    \"vars#project\": 'test',\n",
    "    \"vars#wandb_group\": \"\"\n",
    "}\n",
    "# Parse and validate the config.\n",
    "parser = parse_config(**kwargs)\n",
    "\n",
    "# Import the project folder as a module, if specified.\n",
    "project = parser.get_parsed_content(\"project\")\n",
    "if project is not None:\n",
    "    import_module_from_path(\"project\", project)\n"
   ]
  },
  {
   "cell_type": "code",
   "execution_count": 4,
   "metadata": {},
   "outputs": [],
   "source": [
    "\n",
    "def dataset_item_generator(item):\n",
    "    if isinstance(item, list) or isinstance(item, tuple):\n",
    "        for sub_item in item:\n",
    "            if sub_item is None:\n",
    "                continue\n",
    "            elif isinstance(sub_item, list) or isinstance(sub_item, tuple):\n",
    "                yield from dataset_item_generator(sub_item)\n",
    "            else:\n",
    "                yield sub_item\n",
    "    elif isinstance(item, dict):\n",
    "        for key, value in item.items():\n",
    "            if value is None:\n",
    "                continue\n",
    "            elif isinstance(value, list) or isinstance(value, tuple):\n",
    "                yield from dataset_item_generator(value)\n",
    "            else:\n",
    "                yield value\n",
    "    else:\n",
    "        yield item\n",
    "\n",
    "        \n"
   ]
  },
  {
   "cell_type": "code",
   "execution_count": 5,
   "metadata": {},
   "outputs": [],
   "source": [
    "train_dataset = parser.get_parsed_content(\"system#datasets#train\")\n"
   ]
  },
  {
   "cell_type": "code",
   "execution_count": null,
   "metadata": {},
   "outputs": [],
   "source": [
    "val_dataset = parser.get_parsed_content(\"system#datasets#val\")\n",
    "predict_dataset = parser.get_parsed_content(\"system#datasets#predict\")"
   ]
  },
  {
   "cell_type": "code",
   "execution_count": 6,
   "metadata": {},
   "outputs": [
    {
     "data": {
      "text/plain": [
       "39436"
      ]
     },
     "execution_count": 6,
     "metadata": {},
     "output_type": "execute_result"
    }
   ],
   "source": [
    "len(train_dataset)"
   ]
  },
  {
   "cell_type": "code",
   "execution_count": 7,
   "metadata": {},
   "outputs": [],
   "source": [
    "\n",
    "def plot_3d_image(ret):\n",
    "    # Plot axial slice\n",
    "    plt.figure(figsize=(10, 10))\n",
    "    plt.subplot(3, 1, 1)\n",
    "    plt.imshow(ret[:, ret.shape[1] // 2, :, :].permute(1, 2, 0), cmap=\"gray\")\n",
    "    plt.title(\"Axial\")\n",
    "    plt.axis(\"off\")\n",
    "\n",
    "    # Plot sagittal slice\n",
    "    plt.subplot(3, 1, 2)\n",
    "    plt.imshow(ret[:, :, ret.shape[2] // 2, :].permute(1, 2, 0), cmap=\"gray\")\n",
    "    plt.title(\"Coronal\")\n",
    "    plt.axis(\"off\")\n",
    "\n",
    "    # Plot coronal slice\n",
    "    plt.subplot(3, 1, 3)\n",
    "    plt.imshow(ret[:, :, :, ret.shape[3] // 2].permute(1, 2, 0), cmap=\"gray\")\n",
    "    plt.title(\"Sagittal\")\n",
    "\n",
    "    plt.axis(\"off\")\n",
    "    plt.show()"
   ]
  },
  {
   "cell_type": "code",
   "execution_count": 21,
   "metadata": {},
   "outputs": [
    {
     "data": {
      "text/html": [
       "<pre style=\"white-space:pre;overflow-x:auto;line-height:normal;font-family:Menlo,'DejaVu Sans Mono',consolas,'Courier New',monospace\"><span style=\"color: #008080; text-decoration-color: #008080; font-weight: bold\">2024</span><span style=\"color: #008000; text-decoration-color: #008000\">/</span><span style=\"color: #008080; text-decoration-color: #008080; font-weight: bold\">11</span><span style=\"color: #008000; text-decoration-color: #008000\">/</span><span style=\"color: #008080; text-decoration-color: #008080; font-weight: bold\">19</span><span style=\"color: #008000; text-decoration-color: #008000\"> </span><span style=\"color: #00ff00; text-decoration-color: #00ff00; font-weight: bold\">08:38:38</span><span style=\"color: #008000; text-decoration-color: #008000\">.</span><span style=\"color: #008080; text-decoration-color: #008080; font-weight: bold\">031</span>  |  ⚠️  <span style=\"color: #808000; text-decoration-color: #808000\">WARNING   </span>|  <span style=\"color: #808000; text-decoration-color: #808000\">To copy construct from a tensor, it is recommended to </span>  <a href=\"file:///tmp/ipykernel_3812768/771546602.py\" target=\"_blank\"><span style=\"color: #7f7f7f; text-decoration-color: #7f7f7f\">771546602.py</span></a><span style=\"color: #7f7f7f; text-decoration-color: #7f7f7f\">:</span><a href=\"file:///tmp/ipykernel_3812768/771546602.py#22\" target=\"_blank\"><span style=\"color: #7f7f7f; text-decoration-color: #7f7f7f\">22</span></a>\n",
       "<span style=\"color: #808000; text-decoration-color: #808000\">use </span><span style=\"color: #800080; text-decoration-color: #800080; font-weight: bold\">sourceTensor.clone</span><span style=\"color: #808000; text-decoration-color: #808000; font-weight: bold\">()</span><span style=\"color: #800080; text-decoration-color: #800080; font-weight: bold\">.detach</span><span style=\"color: #808000; text-decoration-color: #808000; font-weight: bold\">()</span><span style=\"color: #808000; text-decoration-color: #808000\"> or </span><span style=\"color: #800080; text-decoration-color: #800080; font-weight: bold\">sourceTensor.clone</span><span style=\"color: #808000; text-decoration-color: #808000; font-weight: bold\">()</span><span style=\"color: #800080; text-decoration-color: #800080; font-weight: bold\">.detach</span><span style=\"color: #808000; text-decoration-color: #808000; font-weight: bold\">()</span><span style=\"color: #800080; text-decoration-color: #800080; font-weight: bold\">.requires_grad_</span><span style=\"color: #808000; text-decoration-color: #808000; font-weight: bold\">(</span><span style=\"color: #00ff00; text-decoration-color: #00ff00; font-style: italic\">True</span><span style=\"color: #808000; text-decoration-color: #808000; font-weight: bold\">)</span><span style=\"color: #808000; text-decoration-color: #808000\">, rather </span>    <span style=\"color: #7f7f7f; text-decoration-color: #7f7f7f\">               </span>\n",
       "<span style=\"color: #808000; text-decoration-color: #808000\">than </span><span style=\"color: #800080; text-decoration-color: #800080; font-weight: bold\">torch.tensor</span><span style=\"color: #808000; text-decoration-color: #808000; font-weight: bold\">(</span><span style=\"color: #808000; text-decoration-color: #808000\">sourceTensor</span><span style=\"color: #808000; text-decoration-color: #808000; font-weight: bold\">)</span><span style=\"color: #808000; text-decoration-color: #808000\">.</span>                                                                    <span style=\"color: #7f7f7f; text-decoration-color: #7f7f7f\">               </span>\n",
       "</pre>\n"
      ],
      "text/plain": [
       "\u001b[1;36m2024\u001b[0m\u001b[32m/\u001b[0m\u001b[1;36m11\u001b[0m\u001b[32m/\u001b[0m\u001b[1;36m19\u001b[0m\u001b[32m \u001b[0m\u001b[1;92m08:38:38\u001b[0m\u001b[32m.\u001b[0m\u001b[1;36m031\u001b[0m  |  ⚠️  \u001b[33mWARNING   \u001b[0m|  \u001b[33mTo copy construct from a tensor, it is recommended to \u001b[0m  \u001b]8;id=632244;file:///tmp/ipykernel_3812768/771546602.py\u001b\\\u001b[2m771546602.py\u001b[0m\u001b]8;;\u001b\\\u001b[2m:\u001b[0m\u001b]8;id=447493;file:///tmp/ipykernel_3812768/771546602.py#22\u001b\\\u001b[2m22\u001b[0m\u001b]8;;\u001b\\\n",
       "\u001b[33muse \u001b[0m\u001b[1;35msourceTensor.clone\u001b[0m\u001b[1;33m(\u001b[0m\u001b[1;33m)\u001b[0m\u001b[1;35m.detach\u001b[0m\u001b[1;33m(\u001b[0m\u001b[1;33m)\u001b[0m\u001b[33m or \u001b[0m\u001b[1;35msourceTensor.clone\u001b[0m\u001b[1;33m(\u001b[0m\u001b[1;33m)\u001b[0m\u001b[1;35m.detach\u001b[0m\u001b[1;33m(\u001b[0m\u001b[1;33m)\u001b[0m\u001b[1;35m.requires_grad_\u001b[0m\u001b[1;33m(\u001b[0m\u001b[3;92mTrue\u001b[0m\u001b[1;33m)\u001b[0m\u001b[33m, rather \u001b[0m    \u001b[2m               \u001b[0m\n",
       "\u001b[33mthan \u001b[0m\u001b[1;35mtorch.tensor\u001b[0m\u001b[1;33m(\u001b[0m\u001b[33msourceTensor\u001b[0m\u001b[1;33m)\u001b[0m\u001b[33m.\u001b[0m                                                                    \u001b[2m               \u001b[0m\n"
      ]
     },
     "metadata": {},
     "output_type": "display_data"
    },
    {
     "data": {
      "image/png": "[encoded data removed]",
      "text/plain": [
       "<Figure size 1000x1000 with 3 Axes>"
      ]
     },
     "metadata": {},
     "output_type": "display_data"
    },
    {
     "data": {
      "image/png": "[encoded data removed]",
      "text/plain": [
       "<Figure size 1000x1000 with 3 Axes>"
      ]
     },
     "metadata": {},
     "output_type": "display_data"
    },
    {
     "data": {
      "image/png": "[encoded data removed]",
      "text/plain": [
       "<Figure size 1000x1000 with 3 Axes>"
      ]
     },
     "metadata": {},
     "output_type": "display_data"
    },
    {
     "data": {
      "image/png": "[encoded data removed]",
      "text/plain": [
       "<Figure size 1000x1000 with 3 Axes>"
      ]
     },
     "metadata": {},
     "output_type": "display_data"
    }
   ],
   "source": [
    "dataset_idx = 9\n",
    "dataset_item = train_dataset[dataset_idx]\n",
    "\n",
    "# Recursively get the first valid item\n",
    "g = dataset_item_generator(dataset_item)            \n",
    "\n",
    "for item in g:\n",
    "    if isinstance(item, dict):\n",
    "        for k, v in item.items():\n",
    "            if isinstance(v, torch.Tensor):\n",
    "                print(k, v.shape)\n",
    "                if len(v.shape) == 4:\n",
    "                    plot_3d_image(v)\n",
    "                else:\n",
    "                    plt.imshow(v[0])\n",
    "                    plt.show()\n",
    "            else:\n",
    "                print(v)\n",
    "    elif isinstance(item, torch.Tensor) or isinstance(item, np.ndarray):\n",
    "        if len(item.shape) == 4:\n",
    "            # item = item.transpose(0, 3, 2, 1)\n",
    "            item = torch.tensor(item)\n",
    "            plot_3d_image(item)\n",
    "        else:\n",
    "            plt.imshow(item[0])\n",
    "            plt.show()\n",
    "        "
   ]
  },
  {
   "cell_type": "code",
   "execution_count": 11,
   "metadata": {},
   "outputs": [
    {
     "data": {
      "text/plain": [
       "set()"
      ]
     },
     "execution_count": 11,
     "metadata": {},
     "output_type": "execute_result"
    }
   ],
   "source": [
    "set(np.unique(label).tolist()).intersection(set([6, 5, 4, 3, 2, 1, 22, 32, 31, 30, 29, 28, 27, 26, 25, 21, 20, 19, 18, 7]))"
   ]
  },
  {
   "cell_type": "code",
   "execution_count": 12,
   "metadata": {},
   "outputs": [
    {
     "data": {
      "text/html": [
       "<pre style=\"white-space:pre;overflow-x:auto;line-height:normal;font-family:Menlo,'DejaVu Sans Mono',consolas,'Courier New',monospace\"><span style=\"color: #800000; text-decoration-color: #800000\">╭─────────────────────────────────────── </span><span style=\"color: #800000; text-decoration-color: #800000; font-weight: bold\">Traceback </span><span style=\"color: #bf7f7f; text-decoration-color: #bf7f7f; font-weight: bold\">(most recent call last)</span><span style=\"color: #800000; text-decoration-color: #800000\"> ───────────────────────────────────────╮</span>\n",
       "<span style=\"color: #800000; text-decoration-color: #800000\">│</span> in <span style=\"color: #00ff00; text-decoration-color: #00ff00\">&lt;module&gt;</span>:<span style=\"color: #0000ff; text-decoration-color: #0000ff\">1</span>                                                                                                   <span style=\"color: #800000; text-decoration-color: #800000\">│</span>\n",
       "<span style=\"color: #800000; text-decoration-color: #800000\">│</span>                                                                                                                 <span style=\"color: #800000; text-decoration-color: #800000\">│</span>\n",
       "<span style=\"color: #800000; text-decoration-color: #800000\">│</span> <span style=\"color: #800000; text-decoration-color: #800000\">❱ </span>1 dataset[idx]                                                                                                <span style=\"color: #800000; text-decoration-color: #800000\">│</span>\n",
       "<span style=\"color: #800000; text-decoration-color: #800000\">│</span>   <span style=\"color: #7f7f7f; text-decoration-color: #7f7f7f\">2 </span>                                                                                                            <span style=\"color: #800000; text-decoration-color: #800000\">│</span>\n",
       "<span style=\"color: #800000; text-decoration-color: #800000\">╰─────────────────────────────────────────────────────────────────────────────────────────────────────────────────╯</span>\n",
       "<span style=\"color: #ff0000; text-decoration-color: #ff0000; font-weight: bold\">NameError: </span>name <span style=\"color: #008000; text-decoration-color: #008000\">'dataset'</span> is not defined\n",
       "</pre>\n"
      ],
      "text/plain": [
       "\u001b[31m╭─\u001b[0m\u001b[31m──────────────────────────────────────\u001b[0m\u001b[31m \u001b[0m\u001b[1;31mTraceback \u001b[0m\u001b[1;2;31m(most recent call last)\u001b[0m\u001b[31m \u001b[0m\u001b[31m──────────────────────────────────────\u001b[0m\u001b[31m─╮\u001b[0m\n",
       "\u001b[31m│\u001b[0m in \u001b[92m<module>\u001b[0m:\u001b[94m1\u001b[0m                                                                                                   \u001b[31m│\u001b[0m\n",
       "\u001b[31m│\u001b[0m                                                                                                                 \u001b[31m│\u001b[0m\n",
       "\u001b[31m│\u001b[0m \u001b[31m❱ \u001b[0m1 dataset[idx]                                                                                                \u001b[31m│\u001b[0m\n",
       "\u001b[31m│\u001b[0m   \u001b[2m2 \u001b[0m                                                                                                            \u001b[31m│\u001b[0m\n",
       "\u001b[31m╰─────────────────────────────────────────────────────────────────────────────────────────────────────────────────╯\u001b[0m\n",
       "\u001b[1;91mNameError: \u001b[0mname \u001b[32m'dataset'\u001b[0m is not defined\n"
      ]
     },
     "metadata": {},
     "output_type": "display_data"
    }
   ],
   "source": [
    "dataset[idx]"
   ]
  },
  {
   "cell_type": "code",
   "execution_count": 9,
   "metadata": {},
   "outputs": [
    {
     "data": {
      "text/html": [
       "<pre style=\"white-space:pre;overflow-x:auto;line-height:normal;font-family:Menlo,'DejaVu Sans Mono',consolas,'Courier New',monospace\"><span style=\"color: #800000; text-decoration-color: #800000\">╭─────────────────────────────────────── </span><span style=\"color: #800000; text-decoration-color: #800000; font-weight: bold\">Traceback </span><span style=\"color: #bf7f7f; text-decoration-color: #bf7f7f; font-weight: bold\">(most recent call last)</span><span style=\"color: #800000; text-decoration-color: #800000\"> ───────────────────────────────────────╮</span>\n",
       "<span style=\"color: #800000; text-decoration-color: #800000\">│</span> in <span style=\"color: #00ff00; text-decoration-color: #00ff00\">&lt;module&gt;</span>:<span style=\"color: #0000ff; text-decoration-color: #0000ff\">1</span>                                                                                                   <span style=\"color: #800000; text-decoration-color: #800000\">│</span>\n",
       "<span style=\"color: #800000; text-decoration-color: #800000\">│</span>                                                                                                                 <span style=\"color: #800000; text-decoration-color: #800000\">│</span>\n",
       "<span style=\"color: #800000; text-decoration-color: #800000\">│</span> <span style=\"color: #800000; text-decoration-color: #800000\">❱ </span>1 item[<span style=\"color: #808000; text-decoration-color: #808000\">\"id\"</span>]                                                                                                  <span style=\"color: #800000; text-decoration-color: #800000\">│</span>\n",
       "<span style=\"color: #800000; text-decoration-color: #800000\">│</span>   <span style=\"color: #7f7f7f; text-decoration-color: #7f7f7f\">2 </span>                                                                                                            <span style=\"color: #800000; text-decoration-color: #800000\">│</span>\n",
       "<span style=\"color: #800000; text-decoration-color: #800000\">╰─────────────────────────────────────────────────────────────────────────────────────────────────────────────────╯</span>\n",
       "<span style=\"color: #ff0000; text-decoration-color: #ff0000; font-weight: bold\">NameError: </span>name <span style=\"color: #008000; text-decoration-color: #008000\">'item'</span> is not defined\n",
       "</pre>\n"
      ],
      "text/plain": [
       "\u001b[31m╭─\u001b[0m\u001b[31m──────────────────────────────────────\u001b[0m\u001b[31m \u001b[0m\u001b[1;31mTraceback \u001b[0m\u001b[1;2;31m(most recent call last)\u001b[0m\u001b[31m \u001b[0m\u001b[31m──────────────────────────────────────\u001b[0m\u001b[31m─╮\u001b[0m\n",
       "\u001b[31m│\u001b[0m in \u001b[92m<module>\u001b[0m:\u001b[94m1\u001b[0m                                                                                                   \u001b[31m│\u001b[0m\n",
       "\u001b[31m│\u001b[0m                                                                                                                 \u001b[31m│\u001b[0m\n",
       "\u001b[31m│\u001b[0m \u001b[31m❱ \u001b[0m1 item[\u001b[33m\"\u001b[0m\u001b[33mid\u001b[0m\u001b[33m\"\u001b[0m]                                                                                                  \u001b[31m│\u001b[0m\n",
       "\u001b[31m│\u001b[0m   \u001b[2m2 \u001b[0m                                                                                                            \u001b[31m│\u001b[0m\n",
       "\u001b[31m╰─────────────────────────────────────────────────────────────────────────────────────────────────────────────────╯\u001b[0m\n",
       "\u001b[1;91mNameError: \u001b[0mname \u001b[32m'item'\u001b[0m is not defined\n"
      ]
     },
     "metadata": {},
     "output_type": "display_data"
    }
   ],
   "source": [
    "item[\"id\"]"
   ]
  },
  {
   "cell_type": "code",
   "execution_count": 34,
   "metadata": {},
   "outputs": [
    {
     "name": "stderr",
     "output_type": "stream",
     "text": [
      " 69%|██████▉   | 240/347 [00:55<00:22,  4.69it/s]"
     ]
    },
    {
     "data": {
      "text/html": [
       "<pre style=\"white-space:pre;overflow-x:auto;line-height:normal;font-family:Menlo,'DejaVu Sans Mono',consolas,'Courier New',monospace\"><span style=\"color: #008080; text-decoration-color: #008080; font-weight: bold\">2024</span><span style=\"color: #008000; text-decoration-color: #008000\">/</span><span style=\"color: #008080; text-decoration-color: #008080; font-weight: bold\">08</span><span style=\"color: #008000; text-decoration-color: #008000\">/</span><span style=\"color: #008080; text-decoration-color: #008080; font-weight: bold\">08</span><span style=\"color: #008000; text-decoration-color: #008000\"> </span><span style=\"color: #00ff00; text-decoration-color: #00ff00; font-weight: bold\">17:09:44</span><span style=\"color: #008000; text-decoration-color: #008000\">.</span><span style=\"color: #008080; text-decoration-color: #008080; font-weight: bold\">034</span>  |  ⚠️  <span style=\"color: #808000; text-decoration-color: #808000\">WARNING   </span>|  <span style=\"color: #808000; text-decoration-color: #808000\">invalid value encountered in divide</span>                        <a href=\"file:///home/suraj/miniconda3/envs/lighter_dev/lib/python3.10/site-packages/monai/transforms/utils.py\" target=\"_blank\"><span style=\"color: #7f7f7f; text-decoration-color: #7f7f7f\">utils.py</span></a><span style=\"color: #7f7f7f; text-decoration-color: #7f7f7f\">:</span><a href=\"file:///home/suraj/miniconda3/envs/lighter_dev/lib/python3.10/site-packages/monai/transforms/utils.py#673\" target=\"_blank\"><span style=\"color: #7f7f7f; text-decoration-color: #7f7f7f\">673</span></a>\n",
       "</pre>\n"
      ],
      "text/plain": [
       "\u001b[1;36m2024\u001b[0m\u001b[32m/\u001b[0m\u001b[1;36m08\u001b[0m\u001b[32m/\u001b[0m\u001b[1;36m08\u001b[0m\u001b[32m \u001b[0m\u001b[1;92m17:09:44\u001b[0m\u001b[32m.\u001b[0m\u001b[1;36m034\u001b[0m  |  ⚠️  \u001b[33mWARNING   \u001b[0m|  \u001b[33minvalid value encountered in divide\u001b[0m                        \u001b]8;id=568797;file:///home/suraj/miniconda3/envs/lighter_dev/lib/python3.10/site-packages/monai/transforms/utils.py\u001b\\\u001b[2mutils.py\u001b[0m\u001b]8;;\u001b\\\u001b[2m:\u001b[0m\u001b]8;id=503038;file:///home/suraj/miniconda3/envs/lighter_dev/lib/python3.10/site-packages/monai/transforms/utils.py#673\u001b\\\u001b[2m673\u001b[0m\u001b]8;;\u001b\\\n"
      ]
     },
     "metadata": {},
     "output_type": "display_data"
    },
    {
     "name": "stderr",
     "output_type": "stream",
     "text": [
      "100%|██████████| 347/347 [03:10<00:00,  1.82it/s]\n"
     ]
    }
   ],
   "source": [
    "from tqdm import tqdm\n",
    "dataset = parser.get_parsed_content(\"system#datasets#train\")\n",
    "exclude_list = []\n",
    "for i in tqdm(range(0, len(dataset))):\n",
    "    try:\n",
    "        out = dataset[i]\n",
    "    except:\n",
    "        exclude_list.append(i)"
   ]
  },
  {
   "cell_type": "code",
   "execution_count": 35,
   "metadata": {},
   "outputs": [
    {
     "data": {
      "text/plain": [
       "[240, 244, 254, 256]"
      ]
     },
     "execution_count": 35,
     "metadata": {},
     "output_type": "execute_result"
    }
   ],
   "source": [
    "exclude_list"
   ]
  },
  {
   "cell_type": "code",
   "execution_count": 46,
   "metadata": {},
   "outputs": [
    {
     "name": "stdout",
     "output_type": "stream",
     "text": [
      "{'image': PosixPath('/mnt/data1/TotalSegmentator/v2/processed/s1275/ct.nii.gz'), 'label': PosixPath('/mnt/data1/TotalSegmentator/v2/processed/s1275/label.nii.gz'), 'id': 's1275'}\n",
      "{'image': PosixPath('/mnt/data1/TotalSegmentator/v2/processed/s1341/ct.nii.gz'), 'label': PosixPath('/mnt/data1/TotalSegmentator/v2/processed/s1341/label.nii.gz'), 'id': 's1341'}\n",
      "{'image': PosixPath('/mnt/data1/TotalSegmentator/v2/processed/s1268/ct.nii.gz'), 'label': PosixPath('/mnt/data1/TotalSegmentator/v2/processed/s1268/label.nii.gz'), 'id': 's1268'}\n",
      "{'image': PosixPath('/mnt/data1/TotalSegmentator/v2/processed/s1261/ct.nii.gz'), 'label': PosixPath('/mnt/data1/TotalSegmentator/v2/processed/s1261/label.nii.gz'), 'id': 's1261'}\n"
     ]
    }
   ],
   "source": [
    "for exclude_idx in exclude_list:\n",
    "    print(dataset.data[exclude_idx])"
   ]
  },
  {
   "cell_type": "code",
   "execution_count": 49,
   "metadata": {},
   "outputs": [],
   "source": [
    "import pandas as pd\n",
    "x = pd.read_csv(\"/mnt/data1/TotalSegmentator/v2/processed/meta.csv\")"
   ]
  },
  {
   "cell_type": "code",
   "execution_count": 50,
   "metadata": {},
   "outputs": [
    {
     "data": {
      "text/html": [
       "<div>\n",
       "<style scoped>\n",
       "    .dataframe tbody tr th:only-of-type {\n",
       "        vertical-align: middle;\n",
       "    }\n",
       "\n",
       "    .dataframe tbody tr th {\n",
       "        vertical-align: top;\n",
       "    }\n",
       "\n",
       "    .dataframe thead th {\n",
       "        text-align: right;\n",
       "    }\n",
       "</style>\n",
       "<table border=\"1\" class=\"dataframe\">\n",
       "  <thead>\n",
       "    <tr style=\"text-align: right;\">\n",
       "      <th></th>\n",
       "      <th>image_id</th>\n",
       "      <th>age</th>\n",
       "      <th>gender</th>\n",
       "      <th>institute</th>\n",
       "      <th>study_type</th>\n",
       "      <th>split</th>\n",
       "      <th>manufacturer</th>\n",
       "      <th>scanner_model</th>\n",
       "      <th>kvp</th>\n",
       "      <th>pathology</th>\n",
       "      <th>pathology_location</th>\n",
       "      <th>vista_split</th>\n",
       "    </tr>\n",
       "  </thead>\n",
       "  <tbody>\n",
       "    <tr>\n",
       "      <th>0</th>\n",
       "      <td>s1366</td>\n",
       "      <td>50.0</td>\n",
       "      <td>NaN</td>\n",
       "      <td>I</td>\n",
       "      <td>ct polytrauma</td>\n",
       "      <td>train</td>\n",
       "      <td>siemens</td>\n",
       "      <td>sensation 64</td>\n",
       "      <td>120.0</td>\n",
       "      <td>unclear</td>\n",
       "      <td>unclear</td>\n",
       "      <td>train</td>\n",
       "    </tr>\n",
       "    <tr>\n",
       "      <th>1</th>\n",
       "      <td>s0245</td>\n",
       "      <td>77.0</td>\n",
       "      <td>m</td>\n",
       "      <td>I</td>\n",
       "      <td>ct abdomen-pelvis</td>\n",
       "      <td>train</td>\n",
       "      <td>siemens</td>\n",
       "      <td>somatom definition flash</td>\n",
       "      <td>100.0</td>\n",
       "      <td>no_pathology</td>\n",
       "      <td>no_location</td>\n",
       "      <td>train</td>\n",
       "    </tr>\n",
       "    <tr>\n",
       "      <th>2</th>\n",
       "      <td>s0325</td>\n",
       "      <td>65.0</td>\n",
       "      <td>f</td>\n",
       "      <td>I</td>\n",
       "      <td>ct abdomen-pelvis</td>\n",
       "      <td>train</td>\n",
       "      <td>siemens</td>\n",
       "      <td>sensation 64</td>\n",
       "      <td>120.0</td>\n",
       "      <td>other</td>\n",
       "      <td>abdomen</td>\n",
       "      <td>train</td>\n",
       "    </tr>\n",
       "    <tr>\n",
       "      <th>3</th>\n",
       "      <td>s0320</td>\n",
       "      <td>80.0</td>\n",
       "      <td>m</td>\n",
       "      <td>I</td>\n",
       "      <td>ct angiography abdomen-pelvis-leg</td>\n",
       "      <td>train</td>\n",
       "      <td>siemens</td>\n",
       "      <td>sensation 64</td>\n",
       "      <td>120.0</td>\n",
       "      <td>vascular</td>\n",
       "      <td>abdomen</td>\n",
       "      <td>val</td>\n",
       "    </tr>\n",
       "    <tr>\n",
       "      <th>4</th>\n",
       "      <td>s0193</td>\n",
       "      <td>63.0</td>\n",
       "      <td>m</td>\n",
       "      <td>C</td>\n",
       "      <td>ct abdomen-pelvis</td>\n",
       "      <td>train</td>\n",
       "      <td>siemens</td>\n",
       "      <td>emotion 16</td>\n",
       "      <td>130.0</td>\n",
       "      <td>no_pathology</td>\n",
       "      <td>no_location</td>\n",
       "      <td>test</td>\n",
       "    </tr>\n",
       "    <tr>\n",
       "      <th>...</th>\n",
       "      <td>...</td>\n",
       "      <td>...</td>\n",
       "      <td>...</td>\n",
       "      <td>...</td>\n",
       "      <td>...</td>\n",
       "      <td>...</td>\n",
       "      <td>...</td>\n",
       "      <td>...</td>\n",
       "      <td>...</td>\n",
       "      <td>...</td>\n",
       "      <td>...</td>\n",
       "      <td>...</td>\n",
       "    </tr>\n",
       "    <tr>\n",
       "      <th>1223</th>\n",
       "      <td>s1425</td>\n",
       "      <td>NaN</td>\n",
       "      <td>NaN</td>\n",
       "      <td>NaN</td>\n",
       "      <td>NaN</td>\n",
       "      <td>test</td>\n",
       "      <td>NaN</td>\n",
       "      <td>NaN</td>\n",
       "      <td>NaN</td>\n",
       "      <td>NaN</td>\n",
       "      <td>NaN</td>\n",
       "      <td>train</td>\n",
       "    </tr>\n",
       "    <tr>\n",
       "      <th>1224</th>\n",
       "      <td>s1426</td>\n",
       "      <td>68.0</td>\n",
       "      <td>m</td>\n",
       "      <td>NaN</td>\n",
       "      <td>NaN</td>\n",
       "      <td>test</td>\n",
       "      <td>ge</td>\n",
       "      <td>lightspeed pro 16</td>\n",
       "      <td>120.0</td>\n",
       "      <td>NaN</td>\n",
       "      <td>NaN</td>\n",
       "      <td>train</td>\n",
       "    </tr>\n",
       "    <tr>\n",
       "      <th>1225</th>\n",
       "      <td>s1427</td>\n",
       "      <td>23.0</td>\n",
       "      <td>m</td>\n",
       "      <td>NaN</td>\n",
       "      <td>NaN</td>\n",
       "      <td>test</td>\n",
       "      <td>ge</td>\n",
       "      <td>lightspeed16</td>\n",
       "      <td>120.0</td>\n",
       "      <td>NaN</td>\n",
       "      <td>NaN</td>\n",
       "      <td>train</td>\n",
       "    </tr>\n",
       "    <tr>\n",
       "      <th>1226</th>\n",
       "      <td>s1428</td>\n",
       "      <td>66.0</td>\n",
       "      <td>m</td>\n",
       "      <td>NaN</td>\n",
       "      <td>NaN</td>\n",
       "      <td>test</td>\n",
       "      <td>ge</td>\n",
       "      <td>discovery mi</td>\n",
       "      <td>120.0</td>\n",
       "      <td>NaN</td>\n",
       "      <td>NaN</td>\n",
       "      <td>train</td>\n",
       "    </tr>\n",
       "    <tr>\n",
       "      <th>1227</th>\n",
       "      <td>s1429</td>\n",
       "      <td>24.0</td>\n",
       "      <td>f</td>\n",
       "      <td>NaN</td>\n",
       "      <td>NaN</td>\n",
       "      <td>test</td>\n",
       "      <td>ge</td>\n",
       "      <td>optima ct680 series</td>\n",
       "      <td>120.0</td>\n",
       "      <td>NaN</td>\n",
       "      <td>NaN</td>\n",
       "      <td>train</td>\n",
       "    </tr>\n",
       "  </tbody>\n",
       "</table>\n",
       "<p>1224 rows × 12 columns</p>\n",
       "</div>"
      ],
      "text/plain": [
       "     image_id   age gender institute                         study_type  \\\n",
       "0       s1366  50.0    NaN         I                      ct polytrauma   \n",
       "1       s0245  77.0      m         I                  ct abdomen-pelvis   \n",
       "2       s0325  65.0      f         I                  ct abdomen-pelvis   \n",
       "3       s0320  80.0      m         I  ct angiography abdomen-pelvis-leg   \n",
       "4       s0193  63.0      m         C                  ct abdomen-pelvis   \n",
       "...       ...   ...    ...       ...                                ...   \n",
       "1223    s1425   NaN    NaN       NaN                                NaN   \n",
       "1224    s1426  68.0      m       NaN                                NaN   \n",
       "1225    s1427  23.0      m       NaN                                NaN   \n",
       "1226    s1428  66.0      m       NaN                                NaN   \n",
       "1227    s1429  24.0      f       NaN                                NaN   \n",
       "\n",
       "      split manufacturer             scanner_model    kvp     pathology  \\\n",
       "0     train      siemens              sensation 64  120.0       unclear   \n",
       "1     train      siemens  somatom definition flash  100.0  no_pathology   \n",
       "2     train      siemens              sensation 64  120.0         other   \n",
       "3     train      siemens              sensation 64  120.0      vascular   \n",
       "4     train      siemens                emotion 16  130.0  no_pathology   \n",
       "...     ...          ...                       ...    ...           ...   \n",
       "1223   test          NaN                       NaN    NaN           NaN   \n",
       "1224   test           ge         lightspeed pro 16  120.0           NaN   \n",
       "1225   test           ge              lightspeed16  120.0           NaN   \n",
       "1226   test           ge              discovery mi  120.0           NaN   \n",
       "1227   test           ge       optima ct680 series  120.0           NaN   \n",
       "\n",
       "     pathology_location vista_split  \n",
       "0               unclear       train  \n",
       "1           no_location       train  \n",
       "2               abdomen       train  \n",
       "3               abdomen         val  \n",
       "4           no_location        test  \n",
       "...                 ...         ...  \n",
       "1223                NaN       train  \n",
       "1224                NaN       train  \n",
       "1225                NaN       train  \n",
       "1226                NaN       train  \n",
       "1227                NaN       train  \n",
       "\n",
       "[1224 rows x 12 columns]"
      ]
     },
     "execution_count": 50,
     "metadata": {},
     "output_type": "execute_result"
    }
   ],
   "source": [
    "x[~x['image_id'].isin(['s1275', 's1341', 's1268', 's1261'])]"
   ]
  },
  {
   "cell_type": "code",
   "execution_count": 43,
   "metadata": {},
   "outputs": [
    {
     "data": {
      "text/html": [
       "<div>\n",
       "<style scoped>\n",
       "    .dataframe tbody tr th:only-of-type {\n",
       "        vertical-align: middle;\n",
       "    }\n",
       "\n",
       "    .dataframe tbody tr th {\n",
       "        vertical-align: top;\n",
       "    }\n",
       "\n",
       "    .dataframe thead th {\n",
       "        text-align: right;\n",
       "    }\n",
       "</style>\n",
       "<table border=\"1\" class=\"dataframe\">\n",
       "  <thead>\n",
       "    <tr style=\"text-align: right;\">\n",
       "      <th></th>\n",
       "      <th>image_id</th>\n",
       "      <th>age</th>\n",
       "      <th>gender</th>\n",
       "      <th>institute</th>\n",
       "      <th>study_type</th>\n",
       "      <th>split</th>\n",
       "      <th>manufacturer</th>\n",
       "      <th>scanner_model</th>\n",
       "      <th>kvp</th>\n",
       "      <th>pathology</th>\n",
       "      <th>pathology_location</th>\n",
       "      <th>vista_split</th>\n",
       "    </tr>\n",
       "  </thead>\n",
       "  <tbody>\n",
       "    <tr>\n",
       "      <th>0</th>\n",
       "      <td>s1366</td>\n",
       "      <td>50.0</td>\n",
       "      <td>NaN</td>\n",
       "      <td>I</td>\n",
       "      <td>ct polytrauma</td>\n",
       "      <td>train</td>\n",
       "      <td>siemens</td>\n",
       "      <td>sensation 64</td>\n",
       "      <td>120.0</td>\n",
       "      <td>unclear</td>\n",
       "      <td>unclear</td>\n",
       "      <td>train</td>\n",
       "    </tr>\n",
       "    <tr>\n",
       "      <th>1</th>\n",
       "      <td>s0245</td>\n",
       "      <td>77.0</td>\n",
       "      <td>m</td>\n",
       "      <td>I</td>\n",
       "      <td>ct abdomen-pelvis</td>\n",
       "      <td>train</td>\n",
       "      <td>siemens</td>\n",
       "      <td>somatom definition flash</td>\n",
       "      <td>100.0</td>\n",
       "      <td>no_pathology</td>\n",
       "      <td>no_location</td>\n",
       "      <td>train</td>\n",
       "    </tr>\n",
       "    <tr>\n",
       "      <th>2</th>\n",
       "      <td>s0325</td>\n",
       "      <td>65.0</td>\n",
       "      <td>f</td>\n",
       "      <td>I</td>\n",
       "      <td>ct abdomen-pelvis</td>\n",
       "      <td>train</td>\n",
       "      <td>siemens</td>\n",
       "      <td>sensation 64</td>\n",
       "      <td>120.0</td>\n",
       "      <td>other</td>\n",
       "      <td>abdomen</td>\n",
       "      <td>train</td>\n",
       "    </tr>\n",
       "    <tr>\n",
       "      <th>3</th>\n",
       "      <td>s0320</td>\n",
       "      <td>80.0</td>\n",
       "      <td>m</td>\n",
       "      <td>I</td>\n",
       "      <td>ct angiography abdomen-pelvis-leg</td>\n",
       "      <td>train</td>\n",
       "      <td>siemens</td>\n",
       "      <td>sensation 64</td>\n",
       "      <td>120.0</td>\n",
       "      <td>vascular</td>\n",
       "      <td>abdomen</td>\n",
       "      <td>val</td>\n",
       "    </tr>\n",
       "    <tr>\n",
       "      <th>4</th>\n",
       "      <td>s0193</td>\n",
       "      <td>63.0</td>\n",
       "      <td>m</td>\n",
       "      <td>C</td>\n",
       "      <td>ct abdomen-pelvis</td>\n",
       "      <td>train</td>\n",
       "      <td>siemens</td>\n",
       "      <td>emotion 16</td>\n",
       "      <td>130.0</td>\n",
       "      <td>no_pathology</td>\n",
       "      <td>no_location</td>\n",
       "      <td>test</td>\n",
       "    </tr>\n",
       "    <tr>\n",
       "      <th>...</th>\n",
       "      <td>...</td>\n",
       "      <td>...</td>\n",
       "      <td>...</td>\n",
       "      <td>...</td>\n",
       "      <td>...</td>\n",
       "      <td>...</td>\n",
       "      <td>...</td>\n",
       "      <td>...</td>\n",
       "      <td>...</td>\n",
       "      <td>...</td>\n",
       "      <td>...</td>\n",
       "      <td>...</td>\n",
       "    </tr>\n",
       "    <tr>\n",
       "      <th>1223</th>\n",
       "      <td>s1425</td>\n",
       "      <td>NaN</td>\n",
       "      <td>NaN</td>\n",
       "      <td>NaN</td>\n",
       "      <td>NaN</td>\n",
       "      <td>test</td>\n",
       "      <td>NaN</td>\n",
       "      <td>NaN</td>\n",
       "      <td>NaN</td>\n",
       "      <td>NaN</td>\n",
       "      <td>NaN</td>\n",
       "      <td>train</td>\n",
       "    </tr>\n",
       "    <tr>\n",
       "      <th>1224</th>\n",
       "      <td>s1426</td>\n",
       "      <td>68.0</td>\n",
       "      <td>m</td>\n",
       "      <td>NaN</td>\n",
       "      <td>NaN</td>\n",
       "      <td>test</td>\n",
       "      <td>ge</td>\n",
       "      <td>lightspeed pro 16</td>\n",
       "      <td>120.0</td>\n",
       "      <td>NaN</td>\n",
       "      <td>NaN</td>\n",
       "      <td>train</td>\n",
       "    </tr>\n",
       "    <tr>\n",
       "      <th>1225</th>\n",
       "      <td>s1427</td>\n",
       "      <td>23.0</td>\n",
       "      <td>m</td>\n",
       "      <td>NaN</td>\n",
       "      <td>NaN</td>\n",
       "      <td>test</td>\n",
       "      <td>ge</td>\n",
       "      <td>lightspeed16</td>\n",
       "      <td>120.0</td>\n",
       "      <td>NaN</td>\n",
       "      <td>NaN</td>\n",
       "      <td>train</td>\n",
       "    </tr>\n",
       "    <tr>\n",
       "      <th>1226</th>\n",
       "      <td>s1428</td>\n",
       "      <td>66.0</td>\n",
       "      <td>m</td>\n",
       "      <td>NaN</td>\n",
       "      <td>NaN</td>\n",
       "      <td>test</td>\n",
       "      <td>ge</td>\n",
       "      <td>discovery mi</td>\n",
       "      <td>120.0</td>\n",
       "      <td>NaN</td>\n",
       "      <td>NaN</td>\n",
       "      <td>train</td>\n",
       "    </tr>\n",
       "    <tr>\n",
       "      <th>1227</th>\n",
       "      <td>s1429</td>\n",
       "      <td>24.0</td>\n",
       "      <td>f</td>\n",
       "      <td>NaN</td>\n",
       "      <td>NaN</td>\n",
       "      <td>test</td>\n",
       "      <td>ge</td>\n",
       "      <td>optima ct680 series</td>\n",
       "      <td>120.0</td>\n",
       "      <td>NaN</td>\n",
       "      <td>NaN</td>\n",
       "      <td>train</td>\n",
       "    </tr>\n",
       "  </tbody>\n",
       "</table>\n",
       "<p>1228 rows × 12 columns</p>\n",
       "</div>"
      ],
      "text/plain": [
       "     image_id   age gender institute                         study_type  \\\n",
       "0       s1366  50.0    NaN         I                      ct polytrauma   \n",
       "1       s0245  77.0      m         I                  ct abdomen-pelvis   \n",
       "2       s0325  65.0      f         I                  ct abdomen-pelvis   \n",
       "3       s0320  80.0      m         I  ct angiography abdomen-pelvis-leg   \n",
       "4       s0193  63.0      m         C                  ct abdomen-pelvis   \n",
       "...       ...   ...    ...       ...                                ...   \n",
       "1223    s1425   NaN    NaN       NaN                                NaN   \n",
       "1224    s1426  68.0      m       NaN                                NaN   \n",
       "1225    s1427  23.0      m       NaN                                NaN   \n",
       "1226    s1428  66.0      m       NaN                                NaN   \n",
       "1227    s1429  24.0      f       NaN                                NaN   \n",
       "\n",
       "      split manufacturer             scanner_model    kvp     pathology  \\\n",
       "0     train      siemens              sensation 64  120.0       unclear   \n",
       "1     train      siemens  somatom definition flash  100.0  no_pathology   \n",
       "2     train      siemens              sensation 64  120.0         other   \n",
       "3     train      siemens              sensation 64  120.0      vascular   \n",
       "4     train      siemens                emotion 16  130.0  no_pathology   \n",
       "...     ...          ...                       ...    ...           ...   \n",
       "1223   test          NaN                       NaN    NaN           NaN   \n",
       "1224   test           ge         lightspeed pro 16  120.0           NaN   \n",
       "1225   test           ge              lightspeed16  120.0           NaN   \n",
       "1226   test           ge              discovery mi  120.0           NaN   \n",
       "1227   test           ge       optima ct680 series  120.0           NaN   \n",
       "\n",
       "     pathology_location vista_split  \n",
       "0               unclear       train  \n",
       "1           no_location       train  \n",
       "2               abdomen       train  \n",
       "3               abdomen         val  \n",
       "4           no_location        test  \n",
       "...                 ...         ...  \n",
       "1223                NaN       train  \n",
       "1224                NaN       train  \n",
       "1225                NaN       train  \n",
       "1226                NaN       train  \n",
       "1227                NaN       train  \n",
       "\n",
       "[1228 rows x 12 columns]"
      ]
     },
     "execution_count": 43,
     "metadata": {},
     "output_type": "execute_result"
    }
   ],
   "source": [
    "df"
   ]
  },
  {
   "cell_type": "code",
   "execution_count": null,
   "metadata": {},
   "outputs": [],
   "source": []
  }
 ],
 "metadata": {
  "kernelspec": {
   "display_name": "lighter_dev",
   "language": "python",
   "name": "python3"
  },
  "language_info": {
   "codemirror_mode": {
    "name": "ipython",
    "version": 3
   },
   "file_extension": ".py",
   "mimetype": "text/x-python",
   "name": "python",
   "nbconvert_exporter": "python",
   "pygments_lexer": "ipython3",
   "version": "3.10.14"
  }
 },
 "nbformat": 4,
 "nbformat_minor": 2
}
