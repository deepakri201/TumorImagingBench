{
 "cells": [
  {
   "cell_type": "code",
   "execution_count": 1,
   "metadata": {},
   "outputs": [
    {
     "name": "stdout",
     "output_type": "stream",
     "text": [
      "Warning: CTClipVitExtractor not available due to missing dependencies: No module named 'transformer_maskgit'\n"
     ]
    },
    {
     "name": "stderr",
     "output_type": "stream",
     "text": [
      "In the future `np.bool` will be defined as the corresponding NumPy scalar.\n",
      "In the future `np.bool` will be defined as the corresponding NumPy scalar.\n",
      "In the future `np.bool` will be defined as the corresponding NumPy scalar.\n"
     ]
    },
    {
     "name": "stdout",
     "output_type": "stream",
     "text": [
      "Warning: MedImageInsightExtractor not available due to missing dependencies: No module named 'MedImageInsight'\n"
     ]
    }
   ],
   "source": [
    "import tumorimagingbench as tib"
   ]
  },
  {
   "cell_type": "code",
   "execution_count": 2,
   "metadata": {},
   "outputs": [
    {
     "name": "stdout",
     "output_type": "stream",
     "text": [
      "TumorImagingBench Module Status:\n",
      "  models: ✓ Available\n",
      "  evaluation: ✓ Available\n",
      "\n",
      "Available Extractors (8):\n",
      "  ✓ CTFMExtractor\n",
      "  ✓ FMCIBExtractor\n",
      "  ✓ MerlinExtractor\n",
      "  ✓ ModelsGenExtractor\n",
      "  ✓ PASTAExtractor\n",
      "  ✓ SUPREMExtractor\n",
      "  ✓ VISTA3DExtractor\n",
      "  ✓ VocoExtractor\n"
     ]
    }
   ],
   "source": [
    "tib.check_module_status()"
   ]
  },
  {
   "cell_type": "code",
   "execution_count": 3,
   "metadata": {},
   "outputs": [
    {
     "data": {
      "text/plain": [
       "{'CTFMExtractor': tumorimagingbench.models.ct_fm.CTFMExtractor,\n",
       " 'FMCIBExtractor': tumorimagingbench.models.fmcib.FMCIBExtractor,\n",
       " 'MerlinExtractor': tumorimagingbench.models.merlin.MerlinExtractor,\n",
       " 'ModelsGenExtractor': tumorimagingbench.models.modelsgen.ModelsGenExtractor,\n",
       " 'PASTAExtractor': tumorimagingbench.models.pasta.PASTAExtractor,\n",
       " 'SUPREMExtractor': tumorimagingbench.models.suprem.SUPREMExtractor,\n",
       " 'VISTA3DExtractor': tumorimagingbench.models.vista3d.VISTA3DExtractor,\n",
       " 'VocoExtractor': tumorimagingbench.models.voco.VocoExtractor}"
      ]
     },
     "execution_count": 3,
     "metadata": {},
     "output_type": "execute_result"
    }
   ],
   "source": [
    "tib.models.AVAILABLE_EXTRACTORS"
   ]
  },
  {
   "cell_type": "code",
   "execution_count": 4,
   "metadata": {},
   "outputs": [
    {
     "name": "stderr",
     "output_type": "stream",
     "text": [
      "2025-10-27 17:22:18.860 | INFO     | fmcib.datasets:generate_dummy_data:68 - Generated dummy data at /home/suraj/Repositories/TumorImagingBench/notebooks/data/dummy.csv\n"
     ]
    }
   ],
   "source": [
    "from fmcib.datasets import generate_dummy_data\n",
    "import pandas as pd\n",
    "\n",
    "generate_dummy_data(\"data\", size=1) # Generate 100 samples"
   ]
  },
  {
   "cell_type": "code",
   "execution_count": 5,
   "metadata": {},
   "outputs": [],
   "source": [
    "df = pd.read_csv(\"./data/dummy.csv\")"
   ]
  },
  {
   "cell_type": "code",
   "execution_count": 6,
   "metadata": {},
   "outputs": [],
   "source": [
    "row = df.iloc[0]"
   ]
  },
  {
   "cell_type": "code",
   "execution_count": null,
   "metadata": {},
   "outputs": [
    {
     "name": "stderr",
     "output_type": "stream",
     "text": [
      "In the future `np.bool` will be defined as the corresponding NumPy scalar.\n",
      "In the future `np.bool` will be defined as the corresponding NumPy scalar.\n",
      "required package for reader ITKReader is not installed, or the version doesn't match requirement.\n"
     ]
    },
    {
     "name": "stdout",
     "output_type": "stream",
     "text": [
      "Processing: CTFMExtractor\n",
      "Input shape: torch.Size([1, 1, 48, 48, 48])\n",
      "Feature shape: torch.Size([1, 512])\n",
      "Downloading: 0% [4661248 / 738451713] bytes"
     ]
    }
   ],
   "source": [
    "import torch\n",
    "\n",
    "feature_set = {}\n",
    "\n",
    "for model_name, model_cls in tib.models.AVAILABLE_EXTRACTORS.items():\n",
    "  model = model_cls()\n",
    "  print(f\"Processing: {model_name}\")\n",
    "  input = model.preprocess(row).unsqueeze(0)\n",
    "  print(f\"Input shape: {input.shape}\")\n",
    "  feature = model(input)\n",
    "\n",
    "  feature_set[model_name] = feature\n",
    "  print(f\"Feature shape: {feature.shape}\")"
   ]
  },
  {
   "cell_type": "code",
   "execution_count": null,
   "metadata": {},
   "outputs": [],
   "source": []
  }
 ],
 "metadata": {
  "kernelspec": {
   "display_name": ".venv",
   "language": "python",
   "name": "python3"
  },
  "language_info": {
   "codemirror_mode": {
    "name": "ipython",
    "version": 3
   },
   "file_extension": ".py",
   "mimetype": "text/x-python",
   "name": "python",
   "nbconvert_exporter": "python",
   "pygments_lexer": "ipython3",
   "version": "3.11.11"
  }
 },
 "nbformat": 4,
 "nbformat_minor": 2
}
