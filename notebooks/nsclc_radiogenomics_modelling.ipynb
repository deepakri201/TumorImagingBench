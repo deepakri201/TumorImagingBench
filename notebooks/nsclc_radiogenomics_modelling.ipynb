{
 "cells": [
  {
   "cell_type": "code",
   "execution_count": 43,
   "metadata": {},
   "outputs": [],
   "source": [
    "# Import necessary libraries\n",
    "\n",
    "import pandas as pd # For data manipulation and analysis\n",
    "import numpy as np # For numerical operations\n",
    "import pickle # For serializing and deserializing Python objects\n",
    "from modelling_utils import train_knn_classifier, evaluate_model, plot_model_comparison"
   ]
  },
  {
   "cell_type": "code",
   "execution_count": 44,
   "metadata": {},
   "outputs": [],
   "source": [
    "# Load features from a pickle file\n",
    "feature_dict_path = \"/home/suraj/Repositories/FM-extractors-radiomics/evaluation/features/nsclc_radiogenomics.pkl\" # Path to the pickle file containing features\n",
    "with open(feature_dict_path, 'rb') as file: # Open the file in read binary mode\n",
    "    data = pickle.load(file) # Load the data from the pickle file"
   ]
  },
  {
   "cell_type": "code",
   "execution_count": 45,
   "metadata": {},
   "outputs": [
    {
     "name": "stderr",
     "output_type": "stream",
     "text": [
      "[I 2025-01-22 16:27:37,706] A new study created in memory with name: no-name-d62270f9-838d-49fc-b4bb-0fdca8932ebd\n",
      "[I 2025-01-22 16:27:37,715] Trial 0 finished with value: 0.4791666666666667 and parameters: {'k': 3}. Best is trial 0 with value: 0.4791666666666667.\n",
      "[I 2025-01-22 16:27:37,723] Trial 1 finished with value: 0.6875 and parameters: {'k': 29}. Best is trial 1 with value: 0.6875.\n",
      "[I 2025-01-22 16:27:37,731] Trial 2 finished with value: 0.6458333333333334 and parameters: {'k': 14}. Best is trial 1 with value: 0.6875.\n",
      "[I 2025-01-22 16:27:37,739] Trial 3 finished with value: 0.6041666666666667 and parameters: {'k': 11}. Best is trial 1 with value: 0.6875.\n",
      "[I 2025-01-22 16:27:37,749] Trial 4 finished with value: 0.7395833333333334 and parameters: {'k': 27}. Best is trial 4 with value: 0.7395833333333334.\n",
      "[I 2025-01-22 16:27:37,757] Trial 5 finished with value: 0.8333333333333334 and parameters: {'k': 25}. Best is trial 5 with value: 0.8333333333333334.\n",
      "[I 2025-01-22 16:27:37,765] Trial 6 finished with value: 0.6875 and parameters: {'k': 28}. Best is trial 5 with value: 0.8333333333333334.\n",
      "[I 2025-01-22 16:27:37,775] Trial 7 finished with value: 0.625 and parameters: {'k': 12}. Best is trial 5 with value: 0.8333333333333334.\n",
      "[I 2025-01-22 16:27:37,787] Trial 8 finished with value: 0.7916666666666667 and parameters: {'k': 18}. Best is trial 5 with value: 0.8333333333333334.\n",
      "[I 2025-01-22 16:27:37,797] Trial 9 finished with value: 0.8020833333333333 and parameters: {'k': 23}. Best is trial 5 with value: 0.8333333333333334.\n",
      "[I 2025-01-22 16:27:37,806] Trial 10 finished with value: 0.46875000000000006 and parameters: {'k': 6}. Best is trial 5 with value: 0.8333333333333334.\n",
      "[I 2025-01-22 16:27:37,817] Trial 11 finished with value: 0.7291666666666667 and parameters: {'k': 17}. Best is trial 5 with value: 0.8333333333333334.\n",
      "[I 2025-01-22 16:27:37,826] Trial 12 finished with value: 0.625 and parameters: {'k': 9}. Best is trial 5 with value: 0.8333333333333334.\n",
      "[I 2025-01-22 16:27:37,836] Trial 13 finished with value: 0.6458333333333333 and parameters: {'k': 15}. Best is trial 5 with value: 0.8333333333333334.\n",
      "[I 2025-01-22 16:27:37,845] Trial 14 finished with value: 0.8333333333333334 and parameters: {'k': 24}. Best is trial 5 with value: 0.8333333333333334.\n",
      "[I 2025-01-22 16:27:37,854] Trial 15 finished with value: 0.7708333333333334 and parameters: {'k': 21}. Best is trial 5 with value: 0.8333333333333334.\n",
      "[I 2025-01-22 16:27:37,863] Trial 16 finished with value: 0.4583333333333333 and parameters: {'k': 2}. Best is trial 5 with value: 0.8333333333333334.\n",
      "[I 2025-01-22 16:27:37,872] Trial 17 finished with value: 0.6666666666666667 and parameters: {'k': 30}. Best is trial 5 with value: 0.8333333333333334.\n",
      "[I 2025-01-22 16:27:37,882] Trial 18 finished with value: 0.4791666666666667 and parameters: {'k': 7}. Best is trial 5 with value: 0.8333333333333334.\n",
      "[I 2025-01-22 16:27:37,892] Trial 19 finished with value: 0.5416666666666667 and parameters: {'k': 5}. Best is trial 5 with value: 0.8333333333333334.\n",
      "[I 2025-01-22 16:27:37,903] Trial 20 finished with value: 0.7916666666666666 and parameters: {'k': 19}. Best is trial 5 with value: 0.8333333333333334.\n",
      "[I 2025-01-22 16:27:37,913] Trial 21 finished with value: 0.75 and parameters: {'k': 20}. Best is trial 5 with value: 0.8333333333333334.\n",
      "[I 2025-01-22 16:27:37,923] Trial 22 finished with value: 0.59375 and parameters: {'k': 10}. Best is trial 5 with value: 0.8333333333333334.\n",
      "[I 2025-01-22 16:27:37,934] Trial 23 finished with value: 0.5625 and parameters: {'k': 8}. Best is trial 5 with value: 0.8333333333333334.\n",
      "[I 2025-01-22 16:27:37,945] Trial 24 finished with value: 0.75 and parameters: {'k': 26}. Best is trial 5 with value: 0.8333333333333334.\n",
      "[I 2025-01-22 16:27:37,959] Trial 25 finished with value: 0.5833333333333334 and parameters: {'k': 4}. Best is trial 5 with value: 0.8333333333333334.\n",
      "[I 2025-01-22 16:27:37,969] Trial 26 finished with value: 0.5416666666666667 and parameters: {'k': 1}. Best is trial 5 with value: 0.8333333333333334.\n",
      "[I 2025-01-22 16:27:37,979] Trial 27 finished with value: 0.7708333333333333 and parameters: {'k': 22}. Best is trial 5 with value: 0.8333333333333334.\n",
      "[I 2025-01-22 16:27:37,989] Trial 28 finished with value: 0.7083333333333333 and parameters: {'k': 16}. Best is trial 5 with value: 0.8333333333333334.\n",
      "[I 2025-01-22 16:27:37,998] Trial 29 finished with value: 0.6458333333333334 and parameters: {'k': 13}. Best is trial 5 with value: 0.8333333333333334.\n",
      "[I 2025-01-22 16:27:38,010] A new study created in memory with name: no-name-e639a4a7-a2c0-49a6-bac7-ced399745001\n",
      "[I 2025-01-22 16:27:38,016] Trial 0 finished with value: 0.65625 and parameters: {'k': 3}. Best is trial 0 with value: 0.65625.\n",
      "[I 2025-01-22 16:27:38,021] Trial 1 finished with value: 0.8437500000000001 and parameters: {'k': 29}. Best is trial 1 with value: 0.8437500000000001.\n",
      "[I 2025-01-22 16:27:38,025] Trial 2 finished with value: 0.8541666666666667 and parameters: {'k': 14}. Best is trial 2 with value: 0.8541666666666667.\n",
      "[I 2025-01-22 16:27:38,030] Trial 3 finished with value: 0.8541666666666666 and parameters: {'k': 11}. Best is trial 2 with value: 0.8541666666666667.\n",
      "[I 2025-01-22 16:27:38,036] Trial 4 finished with value: 0.875 and parameters: {'k': 27}. Best is trial 4 with value: 0.875.\n",
      "[I 2025-01-22 16:27:38,042] Trial 5 finished with value: 0.875 and parameters: {'k': 25}. Best is trial 4 with value: 0.875.\n",
      "[I 2025-01-22 16:27:38,048] Trial 6 finished with value: 0.8333333333333334 and parameters: {'k': 28}. Best is trial 4 with value: 0.875.\n",
      "[I 2025-01-22 16:27:38,055] Trial 7 finished with value: 0.8229166666666667 and parameters: {'k': 12}. Best is trial 4 with value: 0.875.\n",
      "[I 2025-01-22 16:27:38,061] Trial 8 finished with value: 0.8125 and parameters: {'k': 18}. Best is trial 4 with value: 0.875.\n",
      "[I 2025-01-22 16:27:38,068] Trial 9 finished with value: 0.84375 and parameters: {'k': 23}. Best is trial 4 with value: 0.875.\n",
      "[I 2025-01-22 16:27:38,075] Trial 10 finished with value: 0.84375 and parameters: {'k': 6}. Best is trial 4 with value: 0.875.\n",
      "[I 2025-01-22 16:27:38,082] Trial 11 finished with value: 0.8333333333333334 and parameters: {'k': 17}. Best is trial 4 with value: 0.875.\n",
      "[I 2025-01-22 16:27:38,089] Trial 12 finished with value: 0.8541666666666666 and parameters: {'k': 9}. Best is trial 4 with value: 0.875.\n",
      "[I 2025-01-22 16:27:38,097] Trial 13 finished with value: 0.8125 and parameters: {'k': 15}. Best is trial 4 with value: 0.875.\n",
      "[I 2025-01-22 16:27:38,104] Trial 14 finished with value: 0.8333333333333334 and parameters: {'k': 24}. Best is trial 4 with value: 0.875.\n",
      "[I 2025-01-22 16:27:38,112] Trial 15 finished with value: 0.8125 and parameters: {'k': 21}. Best is trial 4 with value: 0.875.\n",
      "[I 2025-01-22 16:27:38,119] Trial 16 finished with value: 0.7083333333333334 and parameters: {'k': 2}. Best is trial 4 with value: 0.875.\n",
      "[I 2025-01-22 16:27:38,128] Trial 17 finished with value: 0.8125 and parameters: {'k': 30}. Best is trial 4 with value: 0.875.\n",
      "[I 2025-01-22 16:27:38,136] Trial 18 finished with value: 0.8541666666666667 and parameters: {'k': 7}. Best is trial 4 with value: 0.875.\n",
      "[I 2025-01-22 16:27:38,145] Trial 19 finished with value: 0.84375 and parameters: {'k': 5}. Best is trial 4 with value: 0.875.\n",
      "[I 2025-01-22 16:27:38,153] Trial 20 finished with value: 0.7604166666666667 and parameters: {'k': 19}. Best is trial 4 with value: 0.875.\n",
      "[I 2025-01-22 16:27:38,162] Trial 21 finished with value: 0.7708333333333334 and parameters: {'k': 20}. Best is trial 4 with value: 0.875.\n",
      "[I 2025-01-22 16:27:38,170] Trial 22 finished with value: 0.8645833333333334 and parameters: {'k': 10}. Best is trial 4 with value: 0.875.\n",
      "[I 2025-01-22 16:27:38,179] Trial 23 finished with value: 0.8541666666666667 and parameters: {'k': 8}. Best is trial 4 with value: 0.875.\n",
      "[I 2025-01-22 16:27:38,187] Trial 24 finished with value: 0.875 and parameters: {'k': 26}. Best is trial 4 with value: 0.875.\n",
      "[I 2025-01-22 16:27:38,196] Trial 25 finished with value: 0.7291666666666667 and parameters: {'k': 4}. Best is trial 4 with value: 0.875.\n",
      "[I 2025-01-22 16:27:38,205] Trial 26 finished with value: 0.7708333333333335 and parameters: {'k': 1}. Best is trial 4 with value: 0.875.\n",
      "[I 2025-01-22 16:27:38,214] Trial 27 finished with value: 0.8333333333333334 and parameters: {'k': 22}. Best is trial 4 with value: 0.875.\n",
      "[I 2025-01-22 16:27:38,223] Trial 28 finished with value: 0.8333333333333334 and parameters: {'k': 16}. Best is trial 4 with value: 0.875.\n",
      "[I 2025-01-22 16:27:38,232] Trial 29 finished with value: 0.84375 and parameters: {'k': 13}. Best is trial 4 with value: 0.875.\n",
      "[I 2025-01-22 16:27:38,242] A new study created in memory with name: no-name-6b87593c-9c46-4eaa-a1da-539b971405ac\n",
      "[I 2025-01-22 16:27:38,248] Trial 0 finished with value: 0.39583333333333337 and parameters: {'k': 3}. Best is trial 0 with value: 0.39583333333333337.\n",
      "[I 2025-01-22 16:27:38,254] Trial 1 finished with value: 0.5520833333333334 and parameters: {'k': 29}. Best is trial 1 with value: 0.5520833333333334.\n",
      "[I 2025-01-22 16:27:38,261] Trial 2 finished with value: 0.23958333333333331 and parameters: {'k': 14}. Best is trial 1 with value: 0.5520833333333334.\n",
      "[I 2025-01-22 16:27:38,267] Trial 3 finished with value: 0.23958333333333331 and parameters: {'k': 11}. Best is trial 1 with value: 0.5520833333333334.\n",
      "[I 2025-01-22 16:27:38,273] Trial 4 finished with value: 0.6354166666666667 and parameters: {'k': 27}. Best is trial 4 with value: 0.6354166666666667.\n",
      "[I 2025-01-22 16:27:38,280] Trial 5 finished with value: 0.5520833333333333 and parameters: {'k': 25}. Best is trial 4 with value: 0.6354166666666667.\n",
      "[I 2025-01-22 16:27:38,286] Trial 6 finished with value: 0.5729166666666667 and parameters: {'k': 28}. Best is trial 4 with value: 0.6354166666666667.\n",
      "[I 2025-01-22 16:27:38,292] Trial 7 finished with value: 0.21875 and parameters: {'k': 12}. Best is trial 4 with value: 0.6354166666666667.\n",
      "[I 2025-01-22 16:27:38,299] Trial 8 finished with value: 0.34375 and parameters: {'k': 18}. Best is trial 4 with value: 0.6354166666666667.\n",
      "[I 2025-01-22 16:27:38,306] Trial 9 finished with value: 0.41666666666666663 and parameters: {'k': 23}. Best is trial 4 with value: 0.6354166666666667.\n",
      "[I 2025-01-22 16:27:38,312] Trial 10 finished with value: 0.27083333333333337 and parameters: {'k': 6}. Best is trial 4 with value: 0.6354166666666667.\n",
      "[I 2025-01-22 16:27:38,319] Trial 11 finished with value: 0.23958333333333331 and parameters: {'k': 17}. Best is trial 4 with value: 0.6354166666666667.\n",
      "[I 2025-01-22 16:27:38,326] Trial 12 finished with value: 0.3125 and parameters: {'k': 9}. Best is trial 4 with value: 0.6354166666666667.\n",
      "[I 2025-01-22 16:27:38,334] Trial 13 finished with value: 0.3125 and parameters: {'k': 15}. Best is trial 4 with value: 0.6354166666666667.\n",
      "[I 2025-01-22 16:27:38,342] Trial 14 finished with value: 0.5520833333333333 and parameters: {'k': 24}. Best is trial 4 with value: 0.6354166666666667.\n",
      "[I 2025-01-22 16:27:38,350] Trial 15 finished with value: 0.3229166666666667 and parameters: {'k': 21}. Best is trial 4 with value: 0.6354166666666667.\n",
      "[I 2025-01-22 16:27:38,358] Trial 16 finished with value: 0.45833333333333337 and parameters: {'k': 2}. Best is trial 4 with value: 0.6354166666666667.\n",
      "[I 2025-01-22 16:27:38,365] Trial 17 finished with value: 0.59375 and parameters: {'k': 30}. Best is trial 4 with value: 0.6354166666666667.\n",
      "[I 2025-01-22 16:27:38,371] Trial 18 finished with value: 0.34375 and parameters: {'k': 7}. Best is trial 4 with value: 0.6354166666666667.\n",
      "[I 2025-01-22 16:27:38,378] Trial 19 finished with value: 0.34375 and parameters: {'k': 5}. Best is trial 4 with value: 0.6354166666666667.\n",
      "[I 2025-01-22 16:27:38,384] Trial 20 finished with value: 0.3125 and parameters: {'k': 19}. Best is trial 4 with value: 0.6354166666666667.\n",
      "[I 2025-01-22 16:27:38,391] Trial 21 finished with value: 0.30208333333333337 and parameters: {'k': 20}. Best is trial 4 with value: 0.6354166666666667.\n",
      "[I 2025-01-22 16:27:38,398] Trial 22 finished with value: 0.3125 and parameters: {'k': 10}. Best is trial 4 with value: 0.6354166666666667.\n",
      "[I 2025-01-22 16:27:38,405] Trial 23 finished with value: 0.3229166666666667 and parameters: {'k': 8}. Best is trial 4 with value: 0.6354166666666667.\n",
      "[I 2025-01-22 16:27:38,414] Trial 24 finished with value: 0.6041666666666667 and parameters: {'k': 26}. Best is trial 4 with value: 0.6354166666666667.\n",
      "[I 2025-01-22 16:27:38,423] Trial 25 finished with value: 0.39583333333333337 and parameters: {'k': 4}. Best is trial 4 with value: 0.6354166666666667.\n",
      "[I 2025-01-22 16:27:38,432] Trial 26 finished with value: 0.4375 and parameters: {'k': 1}. Best is trial 4 with value: 0.6354166666666667.\n",
      "[I 2025-01-22 16:27:38,442] Trial 27 finished with value: 0.3541666666666667 and parameters: {'k': 22}. Best is trial 4 with value: 0.6354166666666667.\n",
      "[I 2025-01-22 16:27:38,451] Trial 28 finished with value: 0.28125 and parameters: {'k': 16}. Best is trial 4 with value: 0.6354166666666667.\n",
      "[I 2025-01-22 16:27:38,460] Trial 29 finished with value: 0.19791666666666669 and parameters: {'k': 13}. Best is trial 4 with value: 0.6354166666666667.\n",
      "[I 2025-01-22 16:27:38,470] A new study created in memory with name: no-name-0f8fcf37-3274-4521-a20b-405b215ce9fb\n",
      "[I 2025-01-22 16:27:38,476] Trial 0 finished with value: 0.75 and parameters: {'k': 3}. Best is trial 0 with value: 0.75.\n",
      "[I 2025-01-22 16:27:38,482] Trial 1 finished with value: 0.8541666666666666 and parameters: {'k': 29}. Best is trial 1 with value: 0.8541666666666666.\n",
      "[I 2025-01-22 16:27:38,488] Trial 2 finished with value: 0.8229166666666667 and parameters: {'k': 14}. Best is trial 1 with value: 0.8541666666666666.\n",
      "[I 2025-01-22 16:27:38,494] Trial 3 finished with value: 0.7291666666666667 and parameters: {'k': 11}. Best is trial 1 with value: 0.8541666666666666.\n",
      "[I 2025-01-22 16:27:38,500] Trial 4 finished with value: 0.8229166666666666 and parameters: {'k': 27}. Best is trial 1 with value: 0.8541666666666666.\n",
      "[I 2025-01-22 16:27:38,507] Trial 5 finished with value: 0.8020833333333334 and parameters: {'k': 25}. Best is trial 1 with value: 0.8541666666666666.\n",
      "[I 2025-01-22 16:27:38,513] Trial 6 finished with value: 0.8541666666666666 and parameters: {'k': 28}. Best is trial 1 with value: 0.8541666666666666.\n",
      "[I 2025-01-22 16:27:38,520] Trial 7 finished with value: 0.7395833333333334 and parameters: {'k': 12}. Best is trial 1 with value: 0.8541666666666666.\n",
      "[I 2025-01-22 16:27:38,527] Trial 8 finished with value: 0.8333333333333333 and parameters: {'k': 18}. Best is trial 1 with value: 0.8541666666666666.\n",
      "[I 2025-01-22 16:27:38,534] Trial 9 finished with value: 0.8020833333333334 and parameters: {'k': 23}. Best is trial 1 with value: 0.8541666666666666.\n",
      "[I 2025-01-22 16:27:38,541] Trial 10 finished with value: 0.7395833333333334 and parameters: {'k': 6}. Best is trial 1 with value: 0.8541666666666666.\n",
      "[I 2025-01-22 16:27:38,548] Trial 11 finished with value: 0.8645833333333334 and parameters: {'k': 17}. Best is trial 11 with value: 0.8645833333333334.\n",
      "[I 2025-01-22 16:27:38,556] Trial 12 finished with value: 0.7604166666666667 and parameters: {'k': 9}. Best is trial 11 with value: 0.8645833333333334.\n",
      "[I 2025-01-22 16:27:38,563] Trial 13 finished with value: 0.8645833333333334 and parameters: {'k': 15}. Best is trial 11 with value: 0.8645833333333334.\n",
      "[I 2025-01-22 16:27:38,569] Trial 14 finished with value: 0.7916666666666667 and parameters: {'k': 24}. Best is trial 11 with value: 0.8645833333333334.\n",
      "[I 2025-01-22 16:27:38,575] Trial 15 finished with value: 0.8020833333333334 and parameters: {'k': 21}. Best is trial 11 with value: 0.8645833333333334.\n",
      "[I 2025-01-22 16:27:38,581] Trial 16 finished with value: 0.7916666666666667 and parameters: {'k': 2}. Best is trial 11 with value: 0.8645833333333334.\n",
      "[I 2025-01-22 16:27:38,587] Trial 17 finished with value: 0.8645833333333334 and parameters: {'k': 30}. Best is trial 11 with value: 0.8645833333333334.\n",
      "[I 2025-01-22 16:27:38,594] Trial 18 finished with value: 0.6979166666666667 and parameters: {'k': 7}. Best is trial 11 with value: 0.8645833333333334.\n",
      "[I 2025-01-22 16:27:38,600] Trial 19 finished with value: 0.8125 and parameters: {'k': 5}. Best is trial 11 with value: 0.8645833333333334.\n",
      "[I 2025-01-22 16:27:38,607] Trial 20 finished with value: 0.8333333333333334 and parameters: {'k': 19}. Best is trial 11 with value: 0.8645833333333334.\n",
      "[I 2025-01-22 16:27:38,613] Trial 21 finished with value: 0.78125 and parameters: {'k': 20}. Best is trial 11 with value: 0.8645833333333334.\n",
      "[I 2025-01-22 16:27:38,620] Trial 22 finished with value: 0.75 and parameters: {'k': 10}. Best is trial 11 with value: 0.8645833333333334.\n",
      "[I 2025-01-22 16:27:38,627] Trial 23 finished with value: 0.75 and parameters: {'k': 8}. Best is trial 11 with value: 0.8645833333333334.\n",
      "[I 2025-01-22 16:27:38,634] Trial 24 finished with value: 0.8333333333333333 and parameters: {'k': 26}. Best is trial 11 with value: 0.8645833333333334.\n",
      "[I 2025-01-22 16:27:38,641] Trial 25 finished with value: 0.7604166666666667 and parameters: {'k': 4}. Best is trial 11 with value: 0.8645833333333334.\n",
      "[I 2025-01-22 16:27:38,647] Trial 26 finished with value: 0.75 and parameters: {'k': 1}. Best is trial 11 with value: 0.8645833333333334.\n",
      "[I 2025-01-22 16:27:38,655] Trial 27 finished with value: 0.7708333333333333 and parameters: {'k': 22}. Best is trial 11 with value: 0.8645833333333334.\n",
      "[I 2025-01-22 16:27:38,662] Trial 28 finished with value: 0.84375 and parameters: {'k': 16}. Best is trial 11 with value: 0.8645833333333334.\n",
      "[I 2025-01-22 16:27:38,670] Trial 29 finished with value: 0.8020833333333334 and parameters: {'k': 13}. Best is trial 11 with value: 0.8645833333333334.\n",
      "[I 2025-01-22 16:27:38,680] A new study created in memory with name: no-name-1d2c147a-dff3-4b4a-8a97-2aff3b083155\n",
      "[I 2025-01-22 16:27:38,687] Trial 0 finished with value: 0.4479166666666667 and parameters: {'k': 3}. Best is trial 0 with value: 0.4479166666666667.\n",
      "[I 2025-01-22 16:27:38,694] Trial 1 finished with value: 0.5104166666666666 and parameters: {'k': 29}. Best is trial 1 with value: 0.5104166666666666.\n",
      "[I 2025-01-22 16:27:38,701] Trial 2 finished with value: 0.5625 and parameters: {'k': 14}. Best is trial 2 with value: 0.5625.\n",
      "[I 2025-01-22 16:27:38,709] Trial 3 finished with value: 0.6875 and parameters: {'k': 11}. Best is trial 3 with value: 0.6875.\n",
      "[I 2025-01-22 16:27:38,717] Trial 4 finished with value: 0.5729166666666666 and parameters: {'k': 27}. Best is trial 3 with value: 0.6875.\n",
      "[I 2025-01-22 16:27:38,724] Trial 5 finished with value: 0.4791666666666667 and parameters: {'k': 25}. Best is trial 3 with value: 0.6875.\n",
      "[I 2025-01-22 16:27:38,732] Trial 6 finished with value: 0.5520833333333334 and parameters: {'k': 28}. Best is trial 3 with value: 0.6875.\n",
      "[I 2025-01-22 16:27:38,740] Trial 7 finished with value: 0.7083333333333333 and parameters: {'k': 12}. Best is trial 7 with value: 0.7083333333333333.\n",
      "[I 2025-01-22 16:27:38,749] Trial 8 finished with value: 0.5416666666666667 and parameters: {'k': 18}. Best is trial 7 with value: 0.7083333333333333.\n",
      "[I 2025-01-22 16:27:38,758] Trial 9 finished with value: 0.4895833333333333 and parameters: {'k': 23}. Best is trial 7 with value: 0.7083333333333333.\n",
      "[I 2025-01-22 16:27:38,766] Trial 10 finished with value: 0.45833333333333337 and parameters: {'k': 6}. Best is trial 7 with value: 0.7083333333333333.\n",
      "[I 2025-01-22 16:27:38,774] Trial 11 finished with value: 0.59375 and parameters: {'k': 17}. Best is trial 7 with value: 0.7083333333333333.\n",
      "[I 2025-01-22 16:27:38,782] Trial 12 finished with value: 0.4375 and parameters: {'k': 9}. Best is trial 7 with value: 0.7083333333333333.\n",
      "[I 2025-01-22 16:27:38,791] Trial 13 finished with value: 0.5833333333333334 and parameters: {'k': 15}. Best is trial 7 with value: 0.7083333333333333.\n",
      "[I 2025-01-22 16:27:38,799] Trial 14 finished with value: 0.45833333333333337 and parameters: {'k': 24}. Best is trial 7 with value: 0.7083333333333333.\n",
      "[I 2025-01-22 16:27:38,808] Trial 15 finished with value: 0.5104166666666666 and parameters: {'k': 21}. Best is trial 7 with value: 0.7083333333333333.\n",
      "[I 2025-01-22 16:27:38,817] Trial 16 finished with value: 0.5833333333333334 and parameters: {'k': 2}. Best is trial 7 with value: 0.7083333333333333.\n",
      "[I 2025-01-22 16:27:38,828] Trial 17 finished with value: 0.5520833333333334 and parameters: {'k': 30}. Best is trial 7 with value: 0.7083333333333333.\n",
      "[I 2025-01-22 16:27:38,838] Trial 18 finished with value: 0.5 and parameters: {'k': 7}. Best is trial 7 with value: 0.7083333333333333.\n",
      "[I 2025-01-22 16:27:38,849] Trial 19 finished with value: 0.36458333333333337 and parameters: {'k': 5}. Best is trial 7 with value: 0.7083333333333333.\n",
      "[I 2025-01-22 16:27:38,859] Trial 20 finished with value: 0.40625000000000006 and parameters: {'k': 19}. Best is trial 7 with value: 0.7083333333333333.\n",
      "[I 2025-01-22 16:27:38,869] Trial 21 finished with value: 0.5104166666666667 and parameters: {'k': 20}. Best is trial 7 with value: 0.7083333333333333.\n",
      "[I 2025-01-22 16:27:38,879] Trial 22 finished with value: 0.6875 and parameters: {'k': 10}. Best is trial 7 with value: 0.7083333333333333.\n",
      "[I 2025-01-22 16:27:38,889] Trial 23 finished with value: 0.5 and parameters: {'k': 8}. Best is trial 7 with value: 0.7083333333333333.\n",
      "[I 2025-01-22 16:27:38,899] Trial 24 finished with value: 0.4791666666666667 and parameters: {'k': 26}. Best is trial 7 with value: 0.7083333333333333.\n",
      "[I 2025-01-22 16:27:38,909] Trial 25 finished with value: 0.4375 and parameters: {'k': 4}. Best is trial 7 with value: 0.7083333333333333.\n",
      "[I 2025-01-22 16:27:38,919] Trial 26 finished with value: 0.4375 and parameters: {'k': 1}. Best is trial 7 with value: 0.7083333333333333.\n",
      "[I 2025-01-22 16:27:38,930] Trial 27 finished with value: 0.4479166666666667 and parameters: {'k': 22}. Best is trial 7 with value: 0.7083333333333333.\n",
      "[I 2025-01-22 16:27:38,942] Trial 28 finished with value: 0.625 and parameters: {'k': 16}. Best is trial 7 with value: 0.7083333333333333.\n",
      "[I 2025-01-22 16:27:38,954] Trial 29 finished with value: 0.7083333333333334 and parameters: {'k': 13}. Best is trial 29 with value: 0.7083333333333334.\n",
      "[I 2025-01-22 16:27:38,967] A new study created in memory with name: no-name-20612da3-4f1e-49d0-874d-584d974d10c9\n",
      "[I 2025-01-22 16:27:38,973] Trial 0 finished with value: 0.6354166666666666 and parameters: {'k': 3}. Best is trial 0 with value: 0.6354166666666666.\n",
      "[I 2025-01-22 16:27:38,978] Trial 1 finished with value: 0.5 and parameters: {'k': 29}. Best is trial 0 with value: 0.6354166666666666.\n",
      "[I 2025-01-22 16:27:38,983] Trial 2 finished with value: 0.6145833333333334 and parameters: {'k': 14}. Best is trial 0 with value: 0.6354166666666666.\n",
      "[I 2025-01-22 16:27:38,988] Trial 3 finished with value: 0.65625 and parameters: {'k': 11}. Best is trial 3 with value: 0.65625.\n",
      "[I 2025-01-22 16:27:38,994] Trial 4 finished with value: 0.5 and parameters: {'k': 27}. Best is trial 3 with value: 0.65625.\n",
      "[I 2025-01-22 16:27:39,005] Trial 5 finished with value: 0.39583333333333337 and parameters: {'k': 25}. Best is trial 3 with value: 0.65625.\n",
      "[I 2025-01-22 16:27:39,013] Trial 6 finished with value: 0.5833333333333333 and parameters: {'k': 28}. Best is trial 3 with value: 0.65625.\n",
      "[I 2025-01-22 16:27:39,024] Trial 7 finished with value: 0.6458333333333334 and parameters: {'k': 12}. Best is trial 3 with value: 0.65625.\n",
      "[I 2025-01-22 16:27:39,031] Trial 8 finished with value: 0.6041666666666667 and parameters: {'k': 18}. Best is trial 3 with value: 0.65625.\n",
      "[I 2025-01-22 16:27:39,038] Trial 9 finished with value: 0.41666666666666663 and parameters: {'k': 23}. Best is trial 3 with value: 0.65625.\n",
      "[I 2025-01-22 16:27:39,045] Trial 10 finished with value: 0.65625 and parameters: {'k': 6}. Best is trial 3 with value: 0.65625.\n",
      "[I 2025-01-22 16:27:39,052] Trial 11 finished with value: 0.6145833333333333 and parameters: {'k': 17}. Best is trial 3 with value: 0.65625.\n",
      "[I 2025-01-22 16:27:39,060] Trial 12 finished with value: 0.71875 and parameters: {'k': 9}. Best is trial 12 with value: 0.71875.\n",
      "[I 2025-01-22 16:27:39,067] Trial 13 finished with value: 0.5729166666666666 and parameters: {'k': 15}. Best is trial 12 with value: 0.71875.\n",
      "[I 2025-01-22 16:27:39,074] Trial 14 finished with value: 0.4270833333333333 and parameters: {'k': 24}. Best is trial 12 with value: 0.71875.\n",
      "[I 2025-01-22 16:27:39,081] Trial 15 finished with value: 0.4791666666666667 and parameters: {'k': 21}. Best is trial 12 with value: 0.71875.\n",
      "[I 2025-01-22 16:27:39,088] Trial 16 finished with value: 0.4791666666666667 and parameters: {'k': 2}. Best is trial 12 with value: 0.71875.\n",
      "[I 2025-01-22 16:27:39,096] Trial 17 finished with value: 0.4583333333333333 and parameters: {'k': 30}. Best is trial 12 with value: 0.71875.\n",
      "[I 2025-01-22 16:27:39,103] Trial 18 finished with value: 0.6458333333333333 and parameters: {'k': 7}. Best is trial 12 with value: 0.71875.\n",
      "[I 2025-01-22 16:27:39,111] Trial 19 finished with value: 0.7708333333333334 and parameters: {'k': 5}. Best is trial 19 with value: 0.7708333333333334.\n",
      "[I 2025-01-22 16:27:39,119] Trial 20 finished with value: 0.625 and parameters: {'k': 19}. Best is trial 19 with value: 0.7708333333333334.\n",
      "[I 2025-01-22 16:27:39,128] Trial 21 finished with value: 0.53125 and parameters: {'k': 20}. Best is trial 19 with value: 0.7708333333333334.\n",
      "[I 2025-01-22 16:27:39,137] Trial 22 finished with value: 0.6354166666666666 and parameters: {'k': 10}. Best is trial 19 with value: 0.7708333333333334.\n",
      "[I 2025-01-22 16:27:39,145] Trial 23 finished with value: 0.6770833333333333 and parameters: {'k': 8}. Best is trial 19 with value: 0.7708333333333334.\n",
      "[I 2025-01-22 16:27:39,154] Trial 24 finished with value: 0.4479166666666667 and parameters: {'k': 26}. Best is trial 19 with value: 0.7708333333333334.\n",
      "[I 2025-01-22 16:27:39,162] Trial 25 finished with value: 0.7916666666666666 and parameters: {'k': 4}. Best is trial 25 with value: 0.7916666666666666.\n",
      "[I 2025-01-22 16:27:39,171] Trial 26 finished with value: 0.4375 and parameters: {'k': 1}. Best is trial 25 with value: 0.7916666666666666.\n",
      "[I 2025-01-22 16:27:39,180] Trial 27 finished with value: 0.46875 and parameters: {'k': 22}. Best is trial 25 with value: 0.7916666666666666.\n",
      "[I 2025-01-22 16:27:39,188] Trial 28 finished with value: 0.625 and parameters: {'k': 16}. Best is trial 25 with value: 0.7916666666666666.\n",
      "[I 2025-01-22 16:27:39,196] Trial 29 finished with value: 0.6666666666666667 and parameters: {'k': 13}. Best is trial 25 with value: 0.7916666666666666.\n",
      "[I 2025-01-22 16:27:39,204] A new study created in memory with name: no-name-2f61865a-4a6a-45ad-a3ad-12e0b4cd96d4\n",
      "[I 2025-01-22 16:27:39,209] Trial 0 finished with value: 0.625 and parameters: {'k': 3}. Best is trial 0 with value: 0.625.\n",
      "[I 2025-01-22 16:27:39,213] Trial 1 finished with value: 0.6041666666666667 and parameters: {'k': 29}. Best is trial 0 with value: 0.625.\n",
      "[I 2025-01-22 16:27:39,217] Trial 2 finished with value: 0.625 and parameters: {'k': 14}. Best is trial 0 with value: 0.625.\n",
      "[I 2025-01-22 16:27:39,222] Trial 3 finished with value: 0.59375 and parameters: {'k': 11}. Best is trial 0 with value: 0.625.\n",
      "[I 2025-01-22 16:27:39,227] Trial 4 finished with value: 0.6041666666666666 and parameters: {'k': 27}. Best is trial 0 with value: 0.625.\n",
      "[I 2025-01-22 16:27:39,232] Trial 5 finished with value: 0.5937499999999999 and parameters: {'k': 25}. Best is trial 0 with value: 0.625.\n",
      "[I 2025-01-22 16:27:39,237] Trial 6 finished with value: 0.5625 and parameters: {'k': 28}. Best is trial 0 with value: 0.625.\n",
      "[I 2025-01-22 16:27:39,243] Trial 7 finished with value: 0.5729166666666667 and parameters: {'k': 12}. Best is trial 0 with value: 0.625.\n",
      "[I 2025-01-22 16:27:39,248] Trial 8 finished with value: 0.6666666666666667 and parameters: {'k': 18}. Best is trial 8 with value: 0.6666666666666667.\n",
      "[I 2025-01-22 16:27:39,254] Trial 9 finished with value: 0.625 and parameters: {'k': 23}. Best is trial 8 with value: 0.6666666666666667.\n",
      "[I 2025-01-22 16:27:39,260] Trial 10 finished with value: 0.5104166666666666 and parameters: {'k': 6}. Best is trial 8 with value: 0.6666666666666667.\n",
      "[I 2025-01-22 16:27:39,266] Trial 11 finished with value: 0.7291666666666665 and parameters: {'k': 17}. Best is trial 11 with value: 0.7291666666666665.\n",
      "[I 2025-01-22 16:27:39,272] Trial 12 finished with value: 0.5416666666666666 and parameters: {'k': 9}. Best is trial 11 with value: 0.7291666666666665.\n",
      "[I 2025-01-22 16:27:39,282] Trial 13 finished with value: 0.6666666666666667 and parameters: {'k': 15}. Best is trial 11 with value: 0.7291666666666665.\n",
      "[I 2025-01-22 16:27:39,290] Trial 14 finished with value: 0.6041666666666666 and parameters: {'k': 24}. Best is trial 11 with value: 0.7291666666666665.\n",
      "[I 2025-01-22 16:27:39,299] Trial 15 finished with value: 0.6666666666666665 and parameters: {'k': 21}. Best is trial 11 with value: 0.7291666666666665.\n",
      "[I 2025-01-22 16:27:39,308] Trial 16 finished with value: 0.5520833333333334 and parameters: {'k': 2}. Best is trial 11 with value: 0.7291666666666665.\n",
      "[I 2025-01-22 16:27:39,317] Trial 17 finished with value: 0.6354166666666666 and parameters: {'k': 30}. Best is trial 11 with value: 0.7291666666666665.\n",
      "[I 2025-01-22 16:27:39,326] Trial 18 finished with value: 0.5104166666666666 and parameters: {'k': 7}. Best is trial 11 with value: 0.7291666666666665.\n",
      "[I 2025-01-22 16:27:39,335] Trial 19 finished with value: 0.5208333333333334 and parameters: {'k': 5}. Best is trial 11 with value: 0.7291666666666665.\n",
      "[I 2025-01-22 16:27:39,344] Trial 20 finished with value: 0.65625 and parameters: {'k': 19}. Best is trial 11 with value: 0.7291666666666665.\n",
      "[I 2025-01-22 16:27:39,353] Trial 21 finished with value: 0.6770833333333334 and parameters: {'k': 20}. Best is trial 11 with value: 0.7291666666666665.\n",
      "[I 2025-01-22 16:27:39,362] Trial 22 finished with value: 0.5520833333333333 and parameters: {'k': 10}. Best is trial 11 with value: 0.7291666666666665.\n",
      "[I 2025-01-22 16:27:39,372] Trial 23 finished with value: 0.5520833333333334 and parameters: {'k': 8}. Best is trial 11 with value: 0.7291666666666665.\n",
      "[I 2025-01-22 16:27:39,381] Trial 24 finished with value: 0.6041666666666667 and parameters: {'k': 26}. Best is trial 11 with value: 0.7291666666666665.\n",
      "[I 2025-01-22 16:27:39,389] Trial 25 finished with value: 0.5625 and parameters: {'k': 4}. Best is trial 11 with value: 0.7291666666666665.\n",
      "[I 2025-01-22 16:27:39,398] Trial 26 finished with value: 0.6875 and parameters: {'k': 1}. Best is trial 11 with value: 0.7291666666666665.\n",
      "[I 2025-01-22 16:27:39,407] Trial 27 finished with value: 0.6666666666666666 and parameters: {'k': 22}. Best is trial 11 with value: 0.7291666666666665.\n",
      "[I 2025-01-22 16:27:39,416] Trial 28 finished with value: 0.6979166666666667 and parameters: {'k': 16}. Best is trial 11 with value: 0.7291666666666665.\n",
      "[I 2025-01-22 16:27:39,425] Trial 29 finished with value: 0.6041666666666667 and parameters: {'k': 13}. Best is trial 11 with value: 0.7291666666666665.\n",
      "[I 2025-01-22 16:27:39,438] A new study created in memory with name: no-name-0eed3fb2-b24f-4537-bd4f-a060b78b7c03\n",
      "[I 2025-01-22 16:27:39,449] Trial 0 finished with value: 0.7708333333333333 and parameters: {'k': 3}. Best is trial 0 with value: 0.7708333333333333.\n",
      "[I 2025-01-22 16:27:39,459] Trial 1 finished with value: 0.7604166666666666 and parameters: {'k': 29}. Best is trial 0 with value: 0.7708333333333333.\n",
      "[I 2025-01-22 16:27:39,469] Trial 2 finished with value: 0.7395833333333334 and parameters: {'k': 14}. Best is trial 0 with value: 0.7708333333333333.\n",
      "[I 2025-01-22 16:27:39,477] Trial 3 finished with value: 0.8125 and parameters: {'k': 11}. Best is trial 3 with value: 0.8125.\n",
      "[I 2025-01-22 16:27:39,487] Trial 4 finished with value: 0.6979166666666667 and parameters: {'k': 27}. Best is trial 3 with value: 0.8125.\n",
      "[I 2025-01-22 16:27:39,500] Trial 5 finished with value: 0.6875000000000001 and parameters: {'k': 25}. Best is trial 3 with value: 0.8125.\n",
      "[I 2025-01-22 16:27:39,512] Trial 6 finished with value: 0.7395833333333333 and parameters: {'k': 28}. Best is trial 3 with value: 0.8125.\n",
      "[I 2025-01-22 16:27:39,522] Trial 7 finished with value: 0.8020833333333334 and parameters: {'k': 12}. Best is trial 3 with value: 0.8125.\n",
      "[I 2025-01-22 16:27:39,532] Trial 8 finished with value: 0.6770833333333334 and parameters: {'k': 18}. Best is trial 3 with value: 0.8125.\n",
      "[I 2025-01-22 16:27:39,540] Trial 9 finished with value: 0.6979166666666667 and parameters: {'k': 23}. Best is trial 3 with value: 0.8125.\n",
      "[I 2025-01-22 16:27:39,548] Trial 10 finished with value: 0.7083333333333333 and parameters: {'k': 6}. Best is trial 3 with value: 0.8125.\n",
      "[I 2025-01-22 16:27:39,556] Trial 11 finished with value: 0.6666666666666667 and parameters: {'k': 17}. Best is trial 3 with value: 0.8125.\n",
      "[I 2025-01-22 16:27:39,563] Trial 12 finished with value: 0.8020833333333333 and parameters: {'k': 9}. Best is trial 3 with value: 0.8125.\n",
      "[I 2025-01-22 16:27:39,572] Trial 13 finished with value: 0.7395833333333334 and parameters: {'k': 15}. Best is trial 3 with value: 0.8125.\n",
      "[I 2025-01-22 16:27:39,581] Trial 14 finished with value: 0.65625 and parameters: {'k': 24}. Best is trial 3 with value: 0.8125.\n",
      "[I 2025-01-22 16:27:39,590] Trial 15 finished with value: 0.71875 and parameters: {'k': 21}. Best is trial 3 with value: 0.8125.\n",
      "[I 2025-01-22 16:27:39,599] Trial 16 finished with value: 0.8541666666666667 and parameters: {'k': 2}. Best is trial 16 with value: 0.8541666666666667.\n",
      "[I 2025-01-22 16:27:39,607] Trial 17 finished with value: 0.7916666666666666 and parameters: {'k': 30}. Best is trial 16 with value: 0.8541666666666667.\n",
      "[I 2025-01-22 16:27:39,615] Trial 18 finished with value: 0.7604166666666667 and parameters: {'k': 7}. Best is trial 16 with value: 0.8541666666666667.\n",
      "[I 2025-01-22 16:27:39,624] Trial 19 finished with value: 0.7083333333333334 and parameters: {'k': 5}. Best is trial 16 with value: 0.8541666666666667.\n",
      "[I 2025-01-22 16:27:39,632] Trial 20 finished with value: 0.6875 and parameters: {'k': 19}. Best is trial 16 with value: 0.8541666666666667.\n",
      "[I 2025-01-22 16:27:39,640] Trial 21 finished with value: 0.71875 and parameters: {'k': 20}. Best is trial 16 with value: 0.8541666666666667.\n",
      "[I 2025-01-22 16:27:39,649] Trial 22 finished with value: 0.8229166666666667 and parameters: {'k': 10}. Best is trial 16 with value: 0.8541666666666667.\n",
      "[I 2025-01-22 16:27:39,658] Trial 23 finished with value: 0.84375 and parameters: {'k': 8}. Best is trial 16 with value: 0.8541666666666667.\n",
      "[I 2025-01-22 16:27:39,667] Trial 24 finished with value: 0.6666666666666667 and parameters: {'k': 26}. Best is trial 16 with value: 0.8541666666666667.\n",
      "[I 2025-01-22 16:27:39,675] Trial 25 finished with value: 0.75 and parameters: {'k': 4}. Best is trial 16 with value: 0.8541666666666667.\n",
      "[I 2025-01-22 16:27:39,684] Trial 26 finished with value: 0.8333333333333334 and parameters: {'k': 1}. Best is trial 16 with value: 0.8541666666666667.\n",
      "[I 2025-01-22 16:27:39,692] Trial 27 finished with value: 0.7083333333333334 and parameters: {'k': 22}. Best is trial 16 with value: 0.8541666666666667.\n",
      "[I 2025-01-22 16:27:39,701] Trial 28 finished with value: 0.7083333333333334 and parameters: {'k': 16}. Best is trial 16 with value: 0.8541666666666667.\n",
      "[I 2025-01-22 16:27:39,709] Trial 29 finished with value: 0.7916666666666667 and parameters: {'k': 13}. Best is trial 16 with value: 0.8541666666666667.\n"
     ]
    }
   ],
   "source": [
    "# Store test accuracies for each model\n",
    "test_accuracies_dict = {} # Initialize an empty dictionary to store test accuracies\n",
    "\n",
    "# Iterate through each model's features\n",
    "for model_name, values in data.items():\n",
    "    # Skip MedImageInsightExtractor\n",
    "    if model_name == \"MedImageInsightExtractor\":\n",
    "        continue\n",
    "        \n",
    "    # Extract labels and features\n",
    "    train_labels = [v[\"row\"][\"survival\"] for v in values[\"train\"]]\n",
    "    val_labels = [v[\"row\"][\"survival\"] for v in values[\"val\"]] \n",
    "    test_labels = [v[\"row\"][\"survival\"] for v in values[\"test\"]]\n",
    "    \n",
    "    train_items = np.vstack([v[\"feature\"] for v in values[\"train\"]])\n",
    "    val_items = np.vstack([v[\"feature\"] for v in values[\"val\"]])\n",
    "    test_items = np.vstack([v[\"feature\"] for v in values[\"test\"]])\n",
    "\n",
    "    # Train model with hyperparameter optimization\n",
    "    best_model, study = train_knn_classifier(train_items, train_labels, val_items, val_labels, n_trials=30)\n",
    "    \n",
    "    # Evaluate on test set\n",
    "    test_accuracies_dict[model_name] = evaluate_model(best_model, test_items, test_labels)"
   ]
  },
  {
   "cell_type": "code",
   "execution_count": 46,
   "metadata": {},
   "outputs": [
    {
     "data": {
      "application/vnd.plotly.v1+json": {
       "config": {
        "plotlyServerURL": "https://plot.ly"
       },
       "data": [
        {
         "alignmentgroup": "True",
         "hovertemplate": "Model Name=%{x}<br>Test Accuracy=%{y}<br>text=%{text}<extra></extra>",
         "legendgroup": "",
         "marker": {
          "color": "#1f77b4",
          "pattern": {
           "shape": ""
          }
         },
         "name": "",
         "offsetgroup": "",
         "orientation": "v",
         "showlegend": false,
         "text": [
          "0.618",
          "0.454",
          "0.582",
          "0.473",
          "0.388",
          "0.487",
          "0.551",
          "0.420"
         ],
         "textposition": "outside",
         "type": "bar",
         "x": [
          "FMCIBExtractor",
          "CTFMExtractor",
          "PyramidExtractor",
          "VISTA3DExtractor",
          "VocoExtractor",
          "SUPREMExtractor",
          "MerlinExtractor",
          "ModelsGenExtractor"
         ],
         "xaxis": "x",
         "y": [
          0.6175595238095238,
          0.4538690476190476,
          0.5818452380952381,
          0.47321428571428564,
          0.38839285714285715,
          0.48735119047619047,
          0.5505952380952381,
          0.41964285714285715
         ],
         "yaxis": "y"
        }
       ],
       "layout": {
        "barmode": "relative",
        "font": {
         "size": 10
        },
        "height": 500,
        "legend": {
         "tracegroupgap": 0
        },
        "plot_bgcolor": "rgba(0,0,0,0)",
        "showlegend": false,
        "template": {
         "data": {
          "bar": [
           {
            "error_x": {
             "color": "#2a3f5f"
            },
            "error_y": {
             "color": "#2a3f5f"
            },
            "marker": {
             "line": {
              "color": "white",
              "width": 0.5
             },
             "pattern": {
              "fillmode": "overlay",
              "size": 10,
              "solidity": 0.2
             }
            },
            "type": "bar"
           }
          ],
          "barpolar": [
           {
            "marker": {
             "line": {
              "color": "white",
              "width": 0.5
             },
             "pattern": {
              "fillmode": "overlay",
              "size": 10,
              "solidity": 0.2
             }
            },
            "type": "barpolar"
           }
          ],
          "carpet": [
           {
            "aaxis": {
             "endlinecolor": "#2a3f5f",
             "gridcolor": "#C8D4E3",
             "linecolor": "#C8D4E3",
             "minorgridcolor": "#C8D4E3",
             "startlinecolor": "#2a3f5f"
            },
            "baxis": {
             "endlinecolor": "#2a3f5f",
             "gridcolor": "#C8D4E3",
             "linecolor": "#C8D4E3",
             "minorgridcolor": "#C8D4E3",
             "startlinecolor": "#2a3f5f"
            },
            "type": "carpet"
           }
          ],
          "choropleth": [
           {
            "colorbar": {
             "outlinewidth": 0,
             "ticks": ""
            },
            "type": "choropleth"
           }
          ],
          "contour": [
           {
            "colorbar": {
             "outlinewidth": 0,
             "ticks": ""
            },
            "colorscale": [
             [
              0,
              "#0d0887"
             ],
             [
              0.1111111111111111,
              "#46039f"
             ],
             [
              0.2222222222222222,
              "#7201a8"
             ],
             [
              0.3333333333333333,
              "#9c179e"
             ],
             [
              0.4444444444444444,
              "#bd3786"
             ],
             [
              0.5555555555555556,
              "#d8576b"
             ],
             [
              0.6666666666666666,
              "#ed7953"
             ],
             [
              0.7777777777777778,
              "#fb9f3a"
             ],
             [
              0.8888888888888888,
              "#fdca26"
             ],
             [
              1,
              "#f0f921"
             ]
            ],
            "type": "contour"
           }
          ],
          "contourcarpet": [
           {
            "colorbar": {
             "outlinewidth": 0,
             "ticks": ""
            },
            "type": "contourcarpet"
           }
          ],
          "heatmap": [
           {
            "colorbar": {
             "outlinewidth": 0,
             "ticks": ""
            },
            "colorscale": [
             [
              0,
              "#0d0887"
             ],
             [
              0.1111111111111111,
              "#46039f"
             ],
             [
              0.2222222222222222,
              "#7201a8"
             ],
             [
              0.3333333333333333,
              "#9c179e"
             ],
             [
              0.4444444444444444,
              "#bd3786"
             ],
             [
              0.5555555555555556,
              "#d8576b"
             ],
             [
              0.6666666666666666,
              "#ed7953"
             ],
             [
              0.7777777777777778,
              "#fb9f3a"
             ],
             [
              0.8888888888888888,
              "#fdca26"
             ],
             [
              1,
              "#f0f921"
             ]
            ],
            "type": "heatmap"
           }
          ],
          "heatmapgl": [
           {
            "colorbar": {
             "outlinewidth": 0,
             "ticks": ""
            },
            "colorscale": [
             [
              0,
              "#0d0887"
             ],
             [
              0.1111111111111111,
              "#46039f"
             ],
             [
              0.2222222222222222,
              "#7201a8"
             ],
             [
              0.3333333333333333,
              "#9c179e"
             ],
             [
              0.4444444444444444,
              "#bd3786"
             ],
             [
              0.5555555555555556,
              "#d8576b"
             ],
             [
              0.6666666666666666,
              "#ed7953"
             ],
             [
              0.7777777777777778,
              "#fb9f3a"
             ],
             [
              0.8888888888888888,
              "#fdca26"
             ],
             [
              1,
              "#f0f921"
             ]
            ],
            "type": "heatmapgl"
           }
          ],
          "histogram": [
           {
            "marker": {
             "pattern": {
              "fillmode": "overlay",
              "size": 10,
              "solidity": 0.2
             }
            },
            "type": "histogram"
           }
          ],
          "histogram2d": [
           {
            "colorbar": {
             "outlinewidth": 0,
             "ticks": ""
            },
            "colorscale": [
             [
              0,
              "#0d0887"
             ],
             [
              0.1111111111111111,
              "#46039f"
             ],
             [
              0.2222222222222222,
              "#7201a8"
             ],
             [
              0.3333333333333333,
              "#9c179e"
             ],
             [
              0.4444444444444444,
              "#bd3786"
             ],
             [
              0.5555555555555556,
              "#d8576b"
             ],
             [
              0.6666666666666666,
              "#ed7953"
             ],
             [
              0.7777777777777778,
              "#fb9f3a"
             ],
             [
              0.8888888888888888,
              "#fdca26"
             ],
             [
              1,
              "#f0f921"
             ]
            ],
            "type": "histogram2d"
           }
          ],
          "histogram2dcontour": [
           {
            "colorbar": {
             "outlinewidth": 0,
             "ticks": ""
            },
            "colorscale": [
             [
              0,
              "#0d0887"
             ],
             [
              0.1111111111111111,
              "#46039f"
             ],
             [
              0.2222222222222222,
              "#7201a8"
             ],
             [
              0.3333333333333333,
              "#9c179e"
             ],
             [
              0.4444444444444444,
              "#bd3786"
             ],
             [
              0.5555555555555556,
              "#d8576b"
             ],
             [
              0.6666666666666666,
              "#ed7953"
             ],
             [
              0.7777777777777778,
              "#fb9f3a"
             ],
             [
              0.8888888888888888,
              "#fdca26"
             ],
             [
              1,
              "#f0f921"
             ]
            ],
            "type": "histogram2dcontour"
           }
          ],
          "mesh3d": [
           {
            "colorbar": {
             "outlinewidth": 0,
             "ticks": ""
            },
            "type": "mesh3d"
           }
          ],
          "parcoords": [
           {
            "line": {
             "colorbar": {
              "outlinewidth": 0,
              "ticks": ""
             }
            },
            "type": "parcoords"
           }
          ],
          "pie": [
           {
            "automargin": true,
            "type": "pie"
           }
          ],
          "scatter": [
           {
            "fillpattern": {
             "fillmode": "overlay",
             "size": 10,
             "solidity": 0.2
            },
            "type": "scatter"
           }
          ],
          "scatter3d": [
           {
            "line": {
             "colorbar": {
              "outlinewidth": 0,
              "ticks": ""
             }
            },
            "marker": {
             "colorbar": {
              "outlinewidth": 0,
              "ticks": ""
             }
            },
            "type": "scatter3d"
           }
          ],
          "scattercarpet": [
           {
            "marker": {
             "colorbar": {
              "outlinewidth": 0,
              "ticks": ""
             }
            },
            "type": "scattercarpet"
           }
          ],
          "scattergeo": [
           {
            "marker": {
             "colorbar": {
              "outlinewidth": 0,
              "ticks": ""
             }
            },
            "type": "scattergeo"
           }
          ],
          "scattergl": [
           {
            "marker": {
             "colorbar": {
              "outlinewidth": 0,
              "ticks": ""
             }
            },
            "type": "scattergl"
           }
          ],
          "scattermapbox": [
           {
            "marker": {
             "colorbar": {
              "outlinewidth": 0,
              "ticks": ""
             }
            },
            "type": "scattermapbox"
           }
          ],
          "scatterpolar": [
           {
            "marker": {
             "colorbar": {
              "outlinewidth": 0,
              "ticks": ""
             }
            },
            "type": "scatterpolar"
           }
          ],
          "scatterpolargl": [
           {
            "marker": {
             "colorbar": {
              "outlinewidth": 0,
              "ticks": ""
             }
            },
            "type": "scatterpolargl"
           }
          ],
          "scatterternary": [
           {
            "marker": {
             "colorbar": {
              "outlinewidth": 0,
              "ticks": ""
             }
            },
            "type": "scatterternary"
           }
          ],
          "surface": [
           {
            "colorbar": {
             "outlinewidth": 0,
             "ticks": ""
            },
            "colorscale": [
             [
              0,
              "#0d0887"
             ],
             [
              0.1111111111111111,
              "#46039f"
             ],
             [
              0.2222222222222222,
              "#7201a8"
             ],
             [
              0.3333333333333333,
              "#9c179e"
             ],
             [
              0.4444444444444444,
              "#bd3786"
             ],
             [
              0.5555555555555556,
              "#d8576b"
             ],
             [
              0.6666666666666666,
              "#ed7953"
             ],
             [
              0.7777777777777778,
              "#fb9f3a"
             ],
             [
              0.8888888888888888,
              "#fdca26"
             ],
             [
              1,
              "#f0f921"
             ]
            ],
            "type": "surface"
           }
          ],
          "table": [
           {
            "cells": {
             "fill": {
              "color": "#EBF0F8"
             },
             "line": {
              "color": "white"
             }
            },
            "header": {
             "fill": {
              "color": "#C8D4E3"
             },
             "line": {
              "color": "white"
             }
            },
            "type": "table"
           }
          ]
         },
         "layout": {
          "annotationdefaults": {
           "arrowcolor": "#2a3f5f",
           "arrowhead": 0,
           "arrowwidth": 1
          },
          "autotypenumbers": "strict",
          "coloraxis": {
           "colorbar": {
            "outlinewidth": 0,
            "ticks": ""
           }
          },
          "colorscale": {
           "diverging": [
            [
             0,
             "#8e0152"
            ],
            [
             0.1,
             "#c51b7d"
            ],
            [
             0.2,
             "#de77ae"
            ],
            [
             0.3,
             "#f1b6da"
            ],
            [
             0.4,
             "#fde0ef"
            ],
            [
             0.5,
             "#f7f7f7"
            ],
            [
             0.6,
             "#e6f5d0"
            ],
            [
             0.7,
             "#b8e186"
            ],
            [
             0.8,
             "#7fbc41"
            ],
            [
             0.9,
             "#4d9221"
            ],
            [
             1,
             "#276419"
            ]
           ],
           "sequential": [
            [
             0,
             "#0d0887"
            ],
            [
             0.1111111111111111,
             "#46039f"
            ],
            [
             0.2222222222222222,
             "#7201a8"
            ],
            [
             0.3333333333333333,
             "#9c179e"
            ],
            [
             0.4444444444444444,
             "#bd3786"
            ],
            [
             0.5555555555555556,
             "#d8576b"
            ],
            [
             0.6666666666666666,
             "#ed7953"
            ],
            [
             0.7777777777777778,
             "#fb9f3a"
            ],
            [
             0.8888888888888888,
             "#fdca26"
            ],
            [
             1,
             "#f0f921"
            ]
           ],
           "sequentialminus": [
            [
             0,
             "#0d0887"
            ],
            [
             0.1111111111111111,
             "#46039f"
            ],
            [
             0.2222222222222222,
             "#7201a8"
            ],
            [
             0.3333333333333333,
             "#9c179e"
            ],
            [
             0.4444444444444444,
             "#bd3786"
            ],
            [
             0.5555555555555556,
             "#d8576b"
            ],
            [
             0.6666666666666666,
             "#ed7953"
            ],
            [
             0.7777777777777778,
             "#fb9f3a"
            ],
            [
             0.8888888888888888,
             "#fdca26"
            ],
            [
             1,
             "#f0f921"
            ]
           ]
          },
          "colorway": [
           "#636efa",
           "#EF553B",
           "#00cc96",
           "#ab63fa",
           "#FFA15A",
           "#19d3f3",
           "#FF6692",
           "#B6E880",
           "#FF97FF",
           "#FECB52"
          ],
          "font": {
           "color": "#2a3f5f"
          },
          "geo": {
           "bgcolor": "white",
           "lakecolor": "white",
           "landcolor": "white",
           "showlakes": true,
           "showland": true,
           "subunitcolor": "#C8D4E3"
          },
          "hoverlabel": {
           "align": "left"
          },
          "hovermode": "closest",
          "mapbox": {
           "style": "light"
          },
          "paper_bgcolor": "white",
          "plot_bgcolor": "white",
          "polar": {
           "angularaxis": {
            "gridcolor": "#EBF0F8",
            "linecolor": "#EBF0F8",
            "ticks": ""
           },
           "bgcolor": "white",
           "radialaxis": {
            "gridcolor": "#EBF0F8",
            "linecolor": "#EBF0F8",
            "ticks": ""
           }
          },
          "scene": {
           "xaxis": {
            "backgroundcolor": "white",
            "gridcolor": "#DFE8F3",
            "gridwidth": 2,
            "linecolor": "#EBF0F8",
            "showbackground": true,
            "ticks": "",
            "zerolinecolor": "#EBF0F8"
           },
           "yaxis": {
            "backgroundcolor": "white",
            "gridcolor": "#DFE8F3",
            "gridwidth": 2,
            "linecolor": "#EBF0F8",
            "showbackground": true,
            "ticks": "",
            "zerolinecolor": "#EBF0F8"
           },
           "zaxis": {
            "backgroundcolor": "white",
            "gridcolor": "#DFE8F3",
            "gridwidth": 2,
            "linecolor": "#EBF0F8",
            "showbackground": true,
            "ticks": "",
            "zerolinecolor": "#EBF0F8"
           }
          },
          "shapedefaults": {
           "line": {
            "color": "#2a3f5f"
           }
          },
          "ternary": {
           "aaxis": {
            "gridcolor": "#DFE8F3",
            "linecolor": "#A2B1C6",
            "ticks": ""
           },
           "baxis": {
            "gridcolor": "#DFE8F3",
            "linecolor": "#A2B1C6",
            "ticks": ""
           },
           "bgcolor": "white",
           "caxis": {
            "gridcolor": "#DFE8F3",
            "linecolor": "#A2B1C6",
            "ticks": ""
           }
          },
          "title": {
           "x": 0.05
          },
          "xaxis": {
           "automargin": true,
           "gridcolor": "#EBF0F8",
           "linecolor": "#EBF0F8",
           "ticks": "",
           "title": {
            "standoff": 15
           },
           "zerolinecolor": "#EBF0F8",
           "zerolinewidth": 2
          },
          "yaxis": {
           "automargin": true,
           "gridcolor": "#EBF0F8",
           "linecolor": "#EBF0F8",
           "ticks": "",
           "title": {
            "standoff": 15
           },
           "zerolinecolor": "#EBF0F8",
           "zerolinewidth": 2
          }
         }
        },
        "title": {
         "text": "Test AUC Comparison Between Models",
         "x": 0.5
        },
        "width": 500,
        "xaxis": {
         "anchor": "y",
         "domain": [
          0,
          1
         ],
         "linecolor": "black",
         "ticks": "",
         "title": {
          "text": "Model Name"
         }
        },
        "yaxis": {
         "anchor": "x",
         "domain": [
          0,
          1
         ],
         "linecolor": "black",
         "range": [
          0,
          1
         ],
         "ticks": "",
         "title": {
          "text": "Test Accuracy"
         }
        }
       }
      },
      "text/html": [
       "<div>                            <div id=\"cb065dd3-183b-40ec-85e6-30f96db88df5\" class=\"plotly-graph-div\" style=\"height:500px; width:500px;\"></div>            <script type=\"text/javascript\">                require([\"plotly\"], function(Plotly) {                    window.PLOTLYENV=window.PLOTLYENV || {};                                    if (document.getElementById(\"cb065dd3-183b-40ec-85e6-30f96db88df5\")) {                    Plotly.newPlot(                        \"cb065dd3-183b-40ec-85e6-30f96db88df5\",                        [{\"alignmentgroup\":\"True\",\"hovertemplate\":\"Model Name=%{x}\\u003cbr\\u003eTest Accuracy=%{y}\\u003cbr\\u003etext=%{text}\\u003cextra\\u003e\\u003c\\u002fextra\\u003e\",\"legendgroup\":\"\",\"marker\":{\"color\":\"#1f77b4\",\"pattern\":{\"shape\":\"\"}},\"name\":\"\",\"offsetgroup\":\"\",\"orientation\":\"v\",\"showlegend\":false,\"text\":[\"0.618\",\"0.454\",\"0.582\",\"0.473\",\"0.388\",\"0.487\",\"0.551\",\"0.420\"],\"textposition\":\"outside\",\"x\":[\"FMCIBExtractor\",\"CTFMExtractor\",\"PyramidExtractor\",\"VISTA3DExtractor\",\"VocoExtractor\",\"SUPREMExtractor\",\"MerlinExtractor\",\"ModelsGenExtractor\"],\"xaxis\":\"x\",\"y\":[0.6175595238095238,0.4538690476190476,0.5818452380952381,0.47321428571428564,0.38839285714285715,0.48735119047619047,0.5505952380952381,0.41964285714285715],\"yaxis\":\"y\",\"type\":\"bar\"}],                        {\"template\":{\"data\":{\"barpolar\":[{\"marker\":{\"line\":{\"color\":\"white\",\"width\":0.5},\"pattern\":{\"fillmode\":\"overlay\",\"size\":10,\"solidity\":0.2}},\"type\":\"barpolar\"}],\"bar\":[{\"error_x\":{\"color\":\"#2a3f5f\"},\"error_y\":{\"color\":\"#2a3f5f\"},\"marker\":{\"line\":{\"color\":\"white\",\"width\":0.5},\"pattern\":{\"fillmode\":\"overlay\",\"size\":10,\"solidity\":0.2}},\"type\":\"bar\"}],\"carpet\":[{\"aaxis\":{\"endlinecolor\":\"#2a3f5f\",\"gridcolor\":\"#C8D4E3\",\"linecolor\":\"#C8D4E3\",\"minorgridcolor\":\"#C8D4E3\",\"startlinecolor\":\"#2a3f5f\"},\"baxis\":{\"endlinecolor\":\"#2a3f5f\",\"gridcolor\":\"#C8D4E3\",\"linecolor\":\"#C8D4E3\",\"minorgridcolor\":\"#C8D4E3\",\"startlinecolor\":\"#2a3f5f\"},\"type\":\"carpet\"}],\"choropleth\":[{\"colorbar\":{\"outlinewidth\":0,\"ticks\":\"\"},\"type\":\"choropleth\"}],\"contourcarpet\":[{\"colorbar\":{\"outlinewidth\":0,\"ticks\":\"\"},\"type\":\"contourcarpet\"}],\"contour\":[{\"colorbar\":{\"outlinewidth\":0,\"ticks\":\"\"},\"colorscale\":[[0.0,\"#0d0887\"],[0.1111111111111111,\"#46039f\"],[0.2222222222222222,\"#7201a8\"],[0.3333333333333333,\"#9c179e\"],[0.4444444444444444,\"#bd3786\"],[0.5555555555555556,\"#d8576b\"],[0.6666666666666666,\"#ed7953\"],[0.7777777777777778,\"#fb9f3a\"],[0.8888888888888888,\"#fdca26\"],[1.0,\"#f0f921\"]],\"type\":\"contour\"}],\"heatmapgl\":[{\"colorbar\":{\"outlinewidth\":0,\"ticks\":\"\"},\"colorscale\":[[0.0,\"#0d0887\"],[0.1111111111111111,\"#46039f\"],[0.2222222222222222,\"#7201a8\"],[0.3333333333333333,\"#9c179e\"],[0.4444444444444444,\"#bd3786\"],[0.5555555555555556,\"#d8576b\"],[0.6666666666666666,\"#ed7953\"],[0.7777777777777778,\"#fb9f3a\"],[0.8888888888888888,\"#fdca26\"],[1.0,\"#f0f921\"]],\"type\":\"heatmapgl\"}],\"heatmap\":[{\"colorbar\":{\"outlinewidth\":0,\"ticks\":\"\"},\"colorscale\":[[0.0,\"#0d0887\"],[0.1111111111111111,\"#46039f\"],[0.2222222222222222,\"#7201a8\"],[0.3333333333333333,\"#9c179e\"],[0.4444444444444444,\"#bd3786\"],[0.5555555555555556,\"#d8576b\"],[0.6666666666666666,\"#ed7953\"],[0.7777777777777778,\"#fb9f3a\"],[0.8888888888888888,\"#fdca26\"],[1.0,\"#f0f921\"]],\"type\":\"heatmap\"}],\"histogram2dcontour\":[{\"colorbar\":{\"outlinewidth\":0,\"ticks\":\"\"},\"colorscale\":[[0.0,\"#0d0887\"],[0.1111111111111111,\"#46039f\"],[0.2222222222222222,\"#7201a8\"],[0.3333333333333333,\"#9c179e\"],[0.4444444444444444,\"#bd3786\"],[0.5555555555555556,\"#d8576b\"],[0.6666666666666666,\"#ed7953\"],[0.7777777777777778,\"#fb9f3a\"],[0.8888888888888888,\"#fdca26\"],[1.0,\"#f0f921\"]],\"type\":\"histogram2dcontour\"}],\"histogram2d\":[{\"colorbar\":{\"outlinewidth\":0,\"ticks\":\"\"},\"colorscale\":[[0.0,\"#0d0887\"],[0.1111111111111111,\"#46039f\"],[0.2222222222222222,\"#7201a8\"],[0.3333333333333333,\"#9c179e\"],[0.4444444444444444,\"#bd3786\"],[0.5555555555555556,\"#d8576b\"],[0.6666666666666666,\"#ed7953\"],[0.7777777777777778,\"#fb9f3a\"],[0.8888888888888888,\"#fdca26\"],[1.0,\"#f0f921\"]],\"type\":\"histogram2d\"}],\"histogram\":[{\"marker\":{\"pattern\":{\"fillmode\":\"overlay\",\"size\":10,\"solidity\":0.2}},\"type\":\"histogram\"}],\"mesh3d\":[{\"colorbar\":{\"outlinewidth\":0,\"ticks\":\"\"},\"type\":\"mesh3d\"}],\"parcoords\":[{\"line\":{\"colorbar\":{\"outlinewidth\":0,\"ticks\":\"\"}},\"type\":\"parcoords\"}],\"pie\":[{\"automargin\":true,\"type\":\"pie\"}],\"scatter3d\":[{\"line\":{\"colorbar\":{\"outlinewidth\":0,\"ticks\":\"\"}},\"marker\":{\"colorbar\":{\"outlinewidth\":0,\"ticks\":\"\"}},\"type\":\"scatter3d\"}],\"scattercarpet\":[{\"marker\":{\"colorbar\":{\"outlinewidth\":0,\"ticks\":\"\"}},\"type\":\"scattercarpet\"}],\"scattergeo\":[{\"marker\":{\"colorbar\":{\"outlinewidth\":0,\"ticks\":\"\"}},\"type\":\"scattergeo\"}],\"scattergl\":[{\"marker\":{\"colorbar\":{\"outlinewidth\":0,\"ticks\":\"\"}},\"type\":\"scattergl\"}],\"scattermapbox\":[{\"marker\":{\"colorbar\":{\"outlinewidth\":0,\"ticks\":\"\"}},\"type\":\"scattermapbox\"}],\"scatterpolargl\":[{\"marker\":{\"colorbar\":{\"outlinewidth\":0,\"ticks\":\"\"}},\"type\":\"scatterpolargl\"}],\"scatterpolar\":[{\"marker\":{\"colorbar\":{\"outlinewidth\":0,\"ticks\":\"\"}},\"type\":\"scatterpolar\"}],\"scatter\":[{\"fillpattern\":{\"fillmode\":\"overlay\",\"size\":10,\"solidity\":0.2},\"type\":\"scatter\"}],\"scatterternary\":[{\"marker\":{\"colorbar\":{\"outlinewidth\":0,\"ticks\":\"\"}},\"type\":\"scatterternary\"}],\"surface\":[{\"colorbar\":{\"outlinewidth\":0,\"ticks\":\"\"},\"colorscale\":[[0.0,\"#0d0887\"],[0.1111111111111111,\"#46039f\"],[0.2222222222222222,\"#7201a8\"],[0.3333333333333333,\"#9c179e\"],[0.4444444444444444,\"#bd3786\"],[0.5555555555555556,\"#d8576b\"],[0.6666666666666666,\"#ed7953\"],[0.7777777777777778,\"#fb9f3a\"],[0.8888888888888888,\"#fdca26\"],[1.0,\"#f0f921\"]],\"type\":\"surface\"}],\"table\":[{\"cells\":{\"fill\":{\"color\":\"#EBF0F8\"},\"line\":{\"color\":\"white\"}},\"header\":{\"fill\":{\"color\":\"#C8D4E3\"},\"line\":{\"color\":\"white\"}},\"type\":\"table\"}]},\"layout\":{\"annotationdefaults\":{\"arrowcolor\":\"#2a3f5f\",\"arrowhead\":0,\"arrowwidth\":1},\"autotypenumbers\":\"strict\",\"coloraxis\":{\"colorbar\":{\"outlinewidth\":0,\"ticks\":\"\"}},\"colorscale\":{\"diverging\":[[0,\"#8e0152\"],[0.1,\"#c51b7d\"],[0.2,\"#de77ae\"],[0.3,\"#f1b6da\"],[0.4,\"#fde0ef\"],[0.5,\"#f7f7f7\"],[0.6,\"#e6f5d0\"],[0.7,\"#b8e186\"],[0.8,\"#7fbc41\"],[0.9,\"#4d9221\"],[1,\"#276419\"]],\"sequential\":[[0.0,\"#0d0887\"],[0.1111111111111111,\"#46039f\"],[0.2222222222222222,\"#7201a8\"],[0.3333333333333333,\"#9c179e\"],[0.4444444444444444,\"#bd3786\"],[0.5555555555555556,\"#d8576b\"],[0.6666666666666666,\"#ed7953\"],[0.7777777777777778,\"#fb9f3a\"],[0.8888888888888888,\"#fdca26\"],[1.0,\"#f0f921\"]],\"sequentialminus\":[[0.0,\"#0d0887\"],[0.1111111111111111,\"#46039f\"],[0.2222222222222222,\"#7201a8\"],[0.3333333333333333,\"#9c179e\"],[0.4444444444444444,\"#bd3786\"],[0.5555555555555556,\"#d8576b\"],[0.6666666666666666,\"#ed7953\"],[0.7777777777777778,\"#fb9f3a\"],[0.8888888888888888,\"#fdca26\"],[1.0,\"#f0f921\"]]},\"colorway\":[\"#636efa\",\"#EF553B\",\"#00cc96\",\"#ab63fa\",\"#FFA15A\",\"#19d3f3\",\"#FF6692\",\"#B6E880\",\"#FF97FF\",\"#FECB52\"],\"font\":{\"color\":\"#2a3f5f\"},\"geo\":{\"bgcolor\":\"white\",\"lakecolor\":\"white\",\"landcolor\":\"white\",\"showlakes\":true,\"showland\":true,\"subunitcolor\":\"#C8D4E3\"},\"hoverlabel\":{\"align\":\"left\"},\"hovermode\":\"closest\",\"mapbox\":{\"style\":\"light\"},\"paper_bgcolor\":\"white\",\"plot_bgcolor\":\"white\",\"polar\":{\"angularaxis\":{\"gridcolor\":\"#EBF0F8\",\"linecolor\":\"#EBF0F8\",\"ticks\":\"\"},\"bgcolor\":\"white\",\"radialaxis\":{\"gridcolor\":\"#EBF0F8\",\"linecolor\":\"#EBF0F8\",\"ticks\":\"\"}},\"scene\":{\"xaxis\":{\"backgroundcolor\":\"white\",\"gridcolor\":\"#DFE8F3\",\"gridwidth\":2,\"linecolor\":\"#EBF0F8\",\"showbackground\":true,\"ticks\":\"\",\"zerolinecolor\":\"#EBF0F8\"},\"yaxis\":{\"backgroundcolor\":\"white\",\"gridcolor\":\"#DFE8F3\",\"gridwidth\":2,\"linecolor\":\"#EBF0F8\",\"showbackground\":true,\"ticks\":\"\",\"zerolinecolor\":\"#EBF0F8\"},\"zaxis\":{\"backgroundcolor\":\"white\",\"gridcolor\":\"#DFE8F3\",\"gridwidth\":2,\"linecolor\":\"#EBF0F8\",\"showbackground\":true,\"ticks\":\"\",\"zerolinecolor\":\"#EBF0F8\"}},\"shapedefaults\":{\"line\":{\"color\":\"#2a3f5f\"}},\"ternary\":{\"aaxis\":{\"gridcolor\":\"#DFE8F3\",\"linecolor\":\"#A2B1C6\",\"ticks\":\"\"},\"baxis\":{\"gridcolor\":\"#DFE8F3\",\"linecolor\":\"#A2B1C6\",\"ticks\":\"\"},\"bgcolor\":\"white\",\"caxis\":{\"gridcolor\":\"#DFE8F3\",\"linecolor\":\"#A2B1C6\",\"ticks\":\"\"}},\"title\":{\"x\":0.05},\"xaxis\":{\"automargin\":true,\"gridcolor\":\"#EBF0F8\",\"linecolor\":\"#EBF0F8\",\"ticks\":\"\",\"title\":{\"standoff\":15},\"zerolinecolor\":\"#EBF0F8\",\"zerolinewidth\":2},\"yaxis\":{\"automargin\":true,\"gridcolor\":\"#EBF0F8\",\"linecolor\":\"#EBF0F8\",\"ticks\":\"\",\"title\":{\"standoff\":15},\"zerolinecolor\":\"#EBF0F8\",\"zerolinewidth\":2}}},\"xaxis\":{\"anchor\":\"y\",\"domain\":[0.0,1.0],\"title\":{\"text\":\"Model Name\"},\"linecolor\":\"black\",\"ticks\":\"\"},\"yaxis\":{\"anchor\":\"x\",\"domain\":[0.0,1.0],\"title\":{\"text\":\"Test Accuracy\"},\"range\":[0,1],\"linecolor\":\"black\",\"ticks\":\"\"},\"legend\":{\"tracegroupgap\":0},\"title\":{\"text\":\"Test AUC Comparison Between Models\",\"x\":0.5},\"barmode\":\"relative\",\"height\":500,\"width\":500,\"font\":{\"size\":10},\"showlegend\":false,\"plot_bgcolor\":\"rgba(0,0,0,0)\"},                        {\"responsive\": true}                    ).then(function(){\n",
       "                            \n",
       "var gd = document.getElementById('cb065dd3-183b-40ec-85e6-30f96db88df5');\n",
       "var x = new MutationObserver(function (mutations, observer) {{\n",
       "        var display = window.getComputedStyle(gd).display;\n",
       "        if (!display || display === 'none') {{\n",
       "            console.log([gd, 'removed!']);\n",
       "            Plotly.purge(gd);\n",
       "            observer.disconnect();\n",
       "        }}\n",
       "}});\n",
       "\n",
       "// Listen for the removal of the full notebook cells\n",
       "var notebookContainer = gd.closest('#notebook-container');\n",
       "if (notebookContainer) {{\n",
       "    x.observe(notebookContainer, {childList: true});\n",
       "}}\n",
       "\n",
       "// Listen for the clearing of the current output cell\n",
       "var outputEl = gd.closest('.output');\n",
       "if (outputEl) {{\n",
       "    x.observe(outputEl, {childList: true});\n",
       "}}\n",
       "\n",
       "                        })                };                });            </script>        </div>"
      ]
     },
     "metadata": {},
     "output_type": "display_data"
    }
   ],
   "source": [
    "# Plot test accuracies\n",
    "fig = plot_model_comparison(test_accuracies_dict)\n",
    "fig.show() # Show the plot"
   ]
  },
  {
   "cell_type": "code",
   "execution_count": null,
   "metadata": {},
   "outputs": [],
   "source": []
  }
 ],
 "metadata": {
  "kernelspec": {
   "display_name": "Python 3",
   "language": "python",
   "name": "python3"
  },
  "language_info": {
   "codemirror_mode": {
    "name": "ipython",
    "version": 3
   },
   "file_extension": ".py",
   "mimetype": "text/x-python",
   "name": "python",
   "nbconvert_exporter": "python",
   "pygments_lexer": "ipython3",
   "version": "3.8.0"
  }
 },
 "nbformat": 4,
 "nbformat_minor": 4
}
