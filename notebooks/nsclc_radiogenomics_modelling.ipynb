{
 "cells": [
  {
   "cell_type": "code",
   "execution_count": 6,
   "metadata": {},
   "outputs": [],
   "source": [
    "# Import necessary libraries\n",
    "import pandas as pd # For data manipulation and analysis\n",
    "import numpy as np # For numerical operations\n",
    "import pickle # For serializing and deserializing Python objects\n",
    "from modelling_utils import train_knn_classifier, evaluate_model, plot_model_comparison, extract_model_features, compute_knn_indices, compute_overlap_matrix, plot_overlap_matrix, split_shuffle_data"
   ]
  },
  {
   "cell_type": "code",
   "execution_count": 7,
   "metadata": {},
   "outputs": [],
   "source": [
    "# Load features from a pickle file\n",
    "feature_dict_path = \"/home/suraj/Repositories/FM-extractors-radiomics/evaluation/features/nsclc_radiogenomics.pkl\" # Path to the pickle file containing features\n",
    "with open(feature_dict_path, 'rb') as file: # Open the file in read binary mode\n",
    "    data = pickle.load(file) # Load the data from the pickle file"
   ]
  },
  {
   "cell_type": "code",
   "execution_count": 8,
   "metadata": {},
   "outputs": [
    {
     "name": "stderr",
     "output_type": "stream",
     "text": [
      "[I 2025-02-05 17:23:36,994] A new study created in memory with name: no-name-a42bcc29-dfdd-4ed9-9519-abc69ad3aa45\n"
     ]
    },
    {
     "name": "stderr",
     "output_type": "stream",
     "text": [
      "[I 2025-02-05 17:23:37,015] Trial 0 finished with value: 0.4625 and parameters: {'k': 29}. Best is trial 0 with value: 0.4625.\n",
      "[I 2025-02-05 17:23:37,028] Trial 1 finished with value: 0.47500000000000003 and parameters: {'k': 12}. Best is trial 1 with value: 0.47500000000000003.\n",
      "[I 2025-02-05 17:23:37,050] Trial 2 finished with value: 0.38750000000000007 and parameters: {'k': 11}. Best is trial 1 with value: 0.47500000000000003.\n",
      "[I 2025-02-05 17:23:37,058] Trial 3 finished with value: 0.8125 and parameters: {'k': 42}. Best is trial 3 with value: 0.8125.\n",
      "[I 2025-02-05 17:23:37,063] Trial 4 finished with value: 0.27499999999999997 and parameters: {'k': 3}. Best is trial 3 with value: 0.8125.\n",
      "[I 2025-02-05 17:23:37,080] Trial 5 finished with value: 0.5375 and parameters: {'k': 28}. Best is trial 3 with value: 0.8125.\n",
      "[I 2025-02-05 17:23:37,093] Trial 6 finished with value: 0.8 and parameters: {'k': 39}. Best is trial 3 with value: 0.8125.\n",
      "[I 2025-02-05 17:23:37,108] Trial 7 finished with value: 0.5499999999999999 and parameters: {'k': 32}. Best is trial 3 with value: 0.8125.\n",
      "[I 2025-02-05 17:23:37,122] Trial 8 finished with value: 0.6500000000000001 and parameters: {'k': 23}. Best is trial 3 with value: 0.8125.\n",
      "[I 2025-02-05 17:23:37,152] Trial 9 finished with value: 0.325 and parameters: {'k': 5}. Best is trial 3 with value: 0.8125.\n",
      "[I 2025-02-05 17:23:37,173] Trial 10 finished with value: 0.6125 and parameters: {'k': 34}. Best is trial 3 with value: 0.8125.\n",
      "[I 2025-02-05 17:23:37,181] Trial 11 finished with value: 0.675 and parameters: {'k': 36}. Best is trial 3 with value: 0.8125.\n",
      "[I 2025-02-05 17:23:37,197] Trial 12 finished with value: 0.525 and parameters: {'k': 27}. Best is trial 3 with value: 0.8125.\n",
      "[I 2025-02-05 17:23:37,207] Trial 13 finished with value: 0.6375 and parameters: {'k': 35}. Best is trial 3 with value: 0.8125.\n",
      "[I 2025-02-05 17:23:37,230] Trial 14 finished with value: 0.7125 and parameters: {'k': 19}. Best is trial 3 with value: 0.8125.\n",
      "[I 2025-02-05 17:23:37,245] Trial 15 finished with value: 0.25 and parameters: {'k': 8}. Best is trial 3 with value: 0.8125.\n",
      "[I 2025-02-05 17:23:37,254] Trial 16 finished with value: 0.6625000000000001 and parameters: {'k': 15}. Best is trial 3 with value: 0.8125.\n",
      "[I 2025-02-05 17:23:37,264] Trial 17 finished with value: 0.75 and parameters: {'k': 46}. Best is trial 3 with value: 0.8125.\n",
      "[I 2025-02-05 17:23:37,274] Trial 18 finished with value: 0.6625 and parameters: {'k': 49}. Best is trial 3 with value: 0.8125.\n",
      "[I 2025-02-05 17:23:37,285] Trial 19 finished with value: 0.5375 and parameters: {'k': 30}. Best is trial 3 with value: 0.8125.\n",
      "[I 2025-02-05 17:23:37,296] Trial 20 finished with value: 0.625 and parameters: {'k': 16}. Best is trial 3 with value: 0.8125.\n",
      "[I 2025-02-05 17:23:37,306] Trial 21 finished with value: 0.5375000000000001 and parameters: {'k': 31}. Best is trial 3 with value: 0.8125.\n",
      "[I 2025-02-05 17:23:37,316] Trial 22 finished with value: 0.6125 and parameters: {'k': 33}. Best is trial 3 with value: 0.8125.\n",
      "[I 2025-02-05 17:23:37,324] Trial 23 finished with value: 0.7374999999999999 and parameters: {'k': 17}. Best is trial 3 with value: 0.8125.\n",
      "[I 2025-02-05 17:23:37,333] Trial 24 finished with value: 0.775 and parameters: {'k': 43}. Best is trial 3 with value: 0.8125.\n",
      "[I 2025-02-05 17:23:37,342] Trial 25 finished with value: 0.75 and parameters: {'k': 21}. Best is trial 3 with value: 0.8125.\n",
      "[I 2025-02-05 17:23:37,351] Trial 26 finished with value: 0.75 and parameters: {'k': 44}. Best is trial 3 with value: 0.8125.\n",
      "[I 2025-02-05 17:23:37,361] Trial 27 finished with value: 0.31249999999999994 and parameters: {'k': 9}. Best is trial 3 with value: 0.8125.\n",
      "[I 2025-02-05 17:23:37,372] Trial 28 finished with value: 0.5625 and parameters: {'k': 14}. Best is trial 3 with value: 0.8125.\n",
      "[I 2025-02-05 17:23:37,383] Trial 29 finished with value: 0.525 and parameters: {'k': 26}. Best is trial 3 with value: 0.8125.\n",
      "[I 2025-02-05 17:23:37,396] Trial 30 finished with value: 0.22500000000000003 and parameters: {'k': 6}. Best is trial 3 with value: 0.8125.\n",
      "[I 2025-02-05 17:23:37,421] Trial 31 finished with value: 0.7625000000000001 and parameters: {'k': 18}. Best is trial 3 with value: 0.8125.\n",
      "[I 2025-02-05 17:23:37,432] Trial 32 finished with value: 0.8125 and parameters: {'k': 41}. Best is trial 3 with value: 0.8125.\n",
      "[I 2025-02-05 17:23:37,449] Trial 33 finished with value: 0.6875 and parameters: {'k': 50}. Best is trial 3 with value: 0.8125.\n",
      "[I 2025-02-05 17:23:37,493] Trial 34 finished with value: 0.325 and parameters: {'k': 2}. Best is trial 3 with value: 0.8125.\n",
      "[I 2025-02-05 17:23:37,518] Trial 35 finished with value: 0.55 and parameters: {'k': 13}. Best is trial 3 with value: 0.8125.\n",
      "[I 2025-02-05 17:23:37,531] Trial 36 finished with value: 0.775 and parameters: {'k': 38}. Best is trial 3 with value: 0.8125.\n",
      "[I 2025-02-05 17:23:37,546] Trial 37 finished with value: 0.6124999999999999 and parameters: {'k': 25}. Best is trial 3 with value: 0.8125.\n",
      "[I 2025-02-05 17:23:37,559] Trial 38 finished with value: 0.225 and parameters: {'k': 7}. Best is trial 3 with value: 0.8125.\n",
      "[I 2025-02-05 17:23:37,597] Trial 39 finished with value: 0.6375 and parameters: {'k': 24}. Best is trial 3 with value: 0.8125.\n",
      "[I 2025-02-05 17:23:37,622] Trial 40 finished with value: 0.7250000000000001 and parameters: {'k': 37}. Best is trial 3 with value: 0.8125.\n",
      "[I 2025-02-05 17:23:37,643] Trial 41 finished with value: 0.675 and parameters: {'k': 22}. Best is trial 3 with value: 0.8125.\n",
      "[I 2025-02-05 17:23:37,677] Trial 42 finished with value: 0.75 and parameters: {'k': 20}. Best is trial 3 with value: 0.8125.\n",
      "[I 2025-02-05 17:23:37,691] Trial 43 finished with value: 0.31249999999999994 and parameters: {'k': 10}. Best is trial 3 with value: 0.8125.\n",
      "[I 2025-02-05 17:23:37,704] Trial 44 finished with value: 0.825 and parameters: {'k': 40}. Best is trial 44 with value: 0.825.\n",
      "[I 2025-02-05 17:23:37,718] Trial 45 finished with value: 0.725 and parameters: {'k': 47}. Best is trial 44 with value: 0.825.\n",
      "[I 2025-02-05 17:23:37,733] Trial 46 finished with value: 0.2 and parameters: {'k': 4}. Best is trial 44 with value: 0.825.\n",
      "[I 2025-02-05 17:23:37,761] Trial 47 finished with value: 0.5 and parameters: {'k': 1}. Best is trial 44 with value: 0.825.\n",
      "[I 2025-02-05 17:23:37,776] Trial 48 finished with value: 0.6499999999999999 and parameters: {'k': 48}. Best is trial 44 with value: 0.825.\n",
      "[I 2025-02-05 17:23:37,790] Trial 49 finished with value: 0.7375 and parameters: {'k': 45}. Best is trial 44 with value: 0.825.\n",
      "[I 2025-02-05 17:23:37,797] A new study created in memory with name: no-name-f5dfa117-d210-40c8-b6b7-7cc36fa5a8b3\n",
      "[I 2025-02-05 17:23:37,803] Trial 0 finished with value: 0.4222222222222222 and parameters: {'k': 29}. Best is trial 0 with value: 0.4222222222222222.\n",
      "[I 2025-02-05 17:23:37,829] Trial 1 finished with value: 0.3888888888888889 and parameters: {'k': 12}. Best is trial 0 with value: 0.4222222222222222.\n",
      "[I 2025-02-05 17:23:37,835] Trial 2 finished with value: 0.4222222222222223 and parameters: {'k': 11}. Best is trial 2 with value: 0.4222222222222223.\n",
      "[I 2025-02-05 17:23:37,846] Trial 3 finished with value: 0.5666666666666667 and parameters: {'k': 42}. Best is trial 3 with value: 0.5666666666666667.\n",
      "[I 2025-02-05 17:23:37,852] Trial 4 finished with value: 0.49999999999999994 and parameters: {'k': 3}. Best is trial 3 with value: 0.5666666666666667.\n",
      "[I 2025-02-05 17:23:37,858] Trial 5 finished with value: 0.4111111111111111 and parameters: {'k': 28}. Best is trial 3 with value: 0.5666666666666667.\n",
      "[I 2025-02-05 17:23:37,865] Trial 6 finished with value: 0.41111111111111115 and parameters: {'k': 39}. Best is trial 3 with value: 0.5666666666666667.\n",
      "[I 2025-02-05 17:23:37,871] Trial 7 finished with value: 0.4111111111111111 and parameters: {'k': 32}. Best is trial 3 with value: 0.5666666666666667.\n",
      "[I 2025-02-05 17:23:37,878] Trial 8 finished with value: 0.37777777777777777 and parameters: {'k': 23}. Best is trial 3 with value: 0.5666666666666667.\n",
      "[I 2025-02-05 17:23:37,885] Trial 9 finished with value: 0.47777777777777775 and parameters: {'k': 5}. Best is trial 3 with value: 0.5666666666666667.\n",
      "[I 2025-02-05 17:23:37,892] Trial 10 finished with value: 0.45555555555555555 and parameters: {'k': 34}. Best is trial 3 with value: 0.5666666666666667.\n",
      "[I 2025-02-05 17:23:37,899] Trial 11 finished with value: 0.37777777777777777 and parameters: {'k': 36}. Best is trial 3 with value: 0.5666666666666667.\n",
      "[I 2025-02-05 17:23:37,907] Trial 12 finished with value: 0.4444444444444444 and parameters: {'k': 27}. Best is trial 3 with value: 0.5666666666666667.\n",
      "[I 2025-02-05 17:23:37,915] Trial 13 finished with value: 0.4111111111111111 and parameters: {'k': 35}. Best is trial 3 with value: 0.5666666666666667.\n",
      "[I 2025-02-05 17:23:37,924] Trial 14 finished with value: 0.3666666666666667 and parameters: {'k': 19}. Best is trial 3 with value: 0.5666666666666667.\n",
      "[I 2025-02-05 17:23:37,933] Trial 15 finished with value: 0.4222222222222222 and parameters: {'k': 8}. Best is trial 3 with value: 0.5666666666666667.\n",
      "[I 2025-02-05 17:23:37,942] Trial 16 finished with value: 0.43333333333333335 and parameters: {'k': 15}. Best is trial 3 with value: 0.5666666666666667.\n",
      "[I 2025-02-05 17:23:37,951] Trial 17 finished with value: 0.5333333333333333 and parameters: {'k': 46}. Best is trial 3 with value: 0.5666666666666667.\n",
      "[I 2025-02-05 17:23:37,961] Trial 18 finished with value: 0.5444444444444444 and parameters: {'k': 49}. Best is trial 3 with value: 0.5666666666666667.\n",
      "[I 2025-02-05 17:23:37,970] Trial 19 finished with value: 0.4444444444444444 and parameters: {'k': 30}. Best is trial 3 with value: 0.5666666666666667.\n",
      "[I 2025-02-05 17:23:37,979] Trial 20 finished with value: 0.37777777777777777 and parameters: {'k': 16}. Best is trial 3 with value: 0.5666666666666667.\n",
      "[I 2025-02-05 17:23:37,988] Trial 21 finished with value: 0.4111111111111111 and parameters: {'k': 31}. Best is trial 3 with value: 0.5666666666666667.\n",
      "[I 2025-02-05 17:23:37,997] Trial 22 finished with value: 0.43333333333333335 and parameters: {'k': 33}. Best is trial 3 with value: 0.5666666666666667.\n",
      "[I 2025-02-05 17:23:38,010] Trial 23 finished with value: 0.43333333333333335 and parameters: {'k': 17}. Best is trial 3 with value: 0.5666666666666667.\n",
      "[I 2025-02-05 17:23:38,021] Trial 24 finished with value: 0.5666666666666667 and parameters: {'k': 43}. Best is trial 3 with value: 0.5666666666666667.\n",
      "[I 2025-02-05 17:23:38,033] Trial 25 finished with value: 0.3555555555555555 and parameters: {'k': 21}. Best is trial 3 with value: 0.5666666666666667.\n",
      "[I 2025-02-05 17:23:38,057] Trial 26 finished with value: 0.5444444444444444 and parameters: {'k': 44}. Best is trial 3 with value: 0.5666666666666667.\n",
      "[I 2025-02-05 17:23:38,066] Trial 27 finished with value: 0.4444444444444444 and parameters: {'k': 9}. Best is trial 3 with value: 0.5666666666666667.\n",
      "[I 2025-02-05 17:23:38,083] Trial 28 finished with value: 0.3888888888888889 and parameters: {'k': 14}. Best is trial 3 with value: 0.5666666666666667.\n",
      "[I 2025-02-05 17:23:38,108] Trial 29 finished with value: 0.4444444444444444 and parameters: {'k': 26}. Best is trial 3 with value: 0.5666666666666667.\n",
      "[I 2025-02-05 17:23:38,130] Trial 30 finished with value: 0.45555555555555555 and parameters: {'k': 6}. Best is trial 3 with value: 0.5666666666666667.\n",
      "[I 2025-02-05 17:23:38,141] Trial 31 finished with value: 0.38888888888888884 and parameters: {'k': 18}. Best is trial 3 with value: 0.5666666666666667.\n",
      "[I 2025-02-05 17:23:38,153] Trial 32 finished with value: 0.4444444444444444 and parameters: {'k': 41}. Best is trial 3 with value: 0.5666666666666667.\n",
      "[I 2025-02-05 17:23:38,165] Trial 33 finished with value: 0.4888888888888889 and parameters: {'k': 50}. Best is trial 3 with value: 0.5666666666666667.\n",
      "[I 2025-02-05 17:23:38,179] Trial 34 finished with value: 0.5333333333333333 and parameters: {'k': 2}. Best is trial 3 with value: 0.5666666666666667.\n",
      "[I 2025-02-05 17:23:38,190] Trial 35 finished with value: 0.38888888888888884 and parameters: {'k': 13}. Best is trial 3 with value: 0.5666666666666667.\n",
      "[I 2025-02-05 17:23:38,202] Trial 36 finished with value: 0.4222222222222222 and parameters: {'k': 38}. Best is trial 3 with value: 0.5666666666666667.\n",
      "[I 2025-02-05 17:23:38,214] Trial 37 finished with value: 0.4222222222222223 and parameters: {'k': 25}. Best is trial 3 with value: 0.5666666666666667.\n",
      "[I 2025-02-05 17:23:38,226] Trial 38 finished with value: 0.4444444444444444 and parameters: {'k': 7}. Best is trial 3 with value: 0.5666666666666667.\n",
      "[I 2025-02-05 17:23:38,238] Trial 39 finished with value: 0.4 and parameters: {'k': 24}. Best is trial 3 with value: 0.5666666666666667.\n",
      "[I 2025-02-05 17:23:38,251] Trial 40 finished with value: 0.37777777777777777 and parameters: {'k': 37}. Best is trial 3 with value: 0.5666666666666667.\n",
      "[I 2025-02-05 17:23:38,280] Trial 41 finished with value: 0.3333333333333333 and parameters: {'k': 22}. Best is trial 3 with value: 0.5666666666666667.\n",
      "[I 2025-02-05 17:23:38,298] Trial 42 finished with value: 0.4 and parameters: {'k': 20}. Best is trial 3 with value: 0.5666666666666667.\n",
      "[I 2025-02-05 17:23:38,314] Trial 43 finished with value: 0.4666666666666667 and parameters: {'k': 10}. Best is trial 3 with value: 0.5666666666666667.\n",
      "[I 2025-02-05 17:23:38,326] Trial 44 finished with value: 0.4111111111111111 and parameters: {'k': 40}. Best is trial 3 with value: 0.5666666666666667.\n",
      "[I 2025-02-05 17:23:38,340] Trial 45 finished with value: 0.5222222222222223 and parameters: {'k': 47}. Best is trial 3 with value: 0.5666666666666667.\n",
      "[I 2025-02-05 17:23:38,372] Trial 46 finished with value: 0.5666666666666667 and parameters: {'k': 4}. Best is trial 3 with value: 0.5666666666666667.\n",
      "[I 2025-02-05 17:23:38,392] Trial 47 finished with value: 0.6 and parameters: {'k': 1}. Best is trial 47 with value: 0.6.\n",
      "[I 2025-02-05 17:23:38,406] Trial 48 finished with value: 0.47777777777777775 and parameters: {'k': 48}. Best is trial 47 with value: 0.6.\n",
      "[I 2025-02-05 17:23:38,421] Trial 49 finished with value: 0.5333333333333333 and parameters: {'k': 45}. Best is trial 47 with value: 0.6.\n",
      "[I 2025-02-05 17:23:38,427] A new study created in memory with name: no-name-a821e565-4d9f-432a-940e-68a47091a579\n",
      "[I 2025-02-05 17:23:38,433] Trial 0 finished with value: 0.6125 and parameters: {'k': 29}. Best is trial 0 with value: 0.6125.\n",
      "[I 2025-02-05 17:23:38,438] Trial 1 finished with value: 0.5625 and parameters: {'k': 12}. Best is trial 0 with value: 0.6125.\n",
      "[I 2025-02-05 17:23:38,444] Trial 2 finished with value: 0.6 and parameters: {'k': 11}. Best is trial 0 with value: 0.6125.\n",
      "[I 2025-02-05 17:23:38,449] Trial 3 finished with value: 0.7 and parameters: {'k': 42}. Best is trial 3 with value: 0.7.\n",
      "[I 2025-02-05 17:23:38,454] Trial 4 finished with value: 0.37499999999999994 and parameters: {'k': 3}. Best is trial 3 with value: 0.7.\n",
      "[I 2025-02-05 17:23:38,460] Trial 5 finished with value: 0.55 and parameters: {'k': 28}. Best is trial 3 with value: 0.7.\n",
      "[I 2025-02-05 17:23:38,466] Trial 6 finished with value: 0.7250000000000001 and parameters: {'k': 39}. Best is trial 6 with value: 0.7250000000000001.\n",
      "[I 2025-02-05 17:23:38,472] Trial 7 finished with value: 0.5875 and parameters: {'k': 32}. Best is trial 6 with value: 0.7250000000000001.\n",
      "[I 2025-02-05 17:23:38,478] Trial 8 finished with value: 0.6625000000000001 and parameters: {'k': 23}. Best is trial 6 with value: 0.7250000000000001.\n",
      "[I 2025-02-05 17:23:38,484] Trial 9 finished with value: 0.5125 and parameters: {'k': 5}. Best is trial 6 with value: 0.7250000000000001.\n",
      "[I 2025-02-05 17:23:38,490] Trial 10 finished with value: 0.6 and parameters: {'k': 34}. Best is trial 6 with value: 0.7250000000000001.\n",
      "[I 2025-02-05 17:23:38,497] Trial 11 finished with value: 0.6125 and parameters: {'k': 36}. Best is trial 6 with value: 0.7250000000000001.\n",
      "[I 2025-02-05 17:23:38,503] Trial 12 finished with value: 0.6125 and parameters: {'k': 27}. Best is trial 6 with value: 0.7250000000000001.\n",
      "[I 2025-02-05 17:23:38,513] Trial 13 finished with value: 0.6000000000000001 and parameters: {'k': 35}. Best is trial 6 with value: 0.7250000000000001.\n",
      "[I 2025-02-05 17:23:38,528] Trial 14 finished with value: 0.6125 and parameters: {'k': 19}. Best is trial 6 with value: 0.7250000000000001.\n",
      "[I 2025-02-05 17:23:38,537] Trial 15 finished with value: 0.5875 and parameters: {'k': 8}. Best is trial 6 with value: 0.7250000000000001.\n",
      "[I 2025-02-05 17:23:38,577] Trial 16 finished with value: 0.65 and parameters: {'k': 15}. Best is trial 6 with value: 0.7250000000000001.\n",
      "[I 2025-02-05 17:23:38,591] Trial 17 finished with value: 0.725 and parameters: {'k': 46}. Best is trial 6 with value: 0.7250000000000001.\n",
      "[I 2025-02-05 17:23:38,608] Trial 18 finished with value: 0.675 and parameters: {'k': 49}. Best is trial 6 with value: 0.7250000000000001.\n",
      "[I 2025-02-05 17:23:38,634] Trial 19 finished with value: 0.5875 and parameters: {'k': 30}. Best is trial 6 with value: 0.7250000000000001.\n",
      "[I 2025-02-05 17:23:38,650] Trial 20 finished with value: 0.625 and parameters: {'k': 16}. Best is trial 6 with value: 0.7250000000000001.\n",
      "[I 2025-02-05 17:23:38,696] Trial 21 finished with value: 0.575 and parameters: {'k': 31}. Best is trial 6 with value: 0.7250000000000001.\n",
      "[I 2025-02-05 17:23:38,726] Trial 22 finished with value: 0.5874999999999999 and parameters: {'k': 33}. Best is trial 6 with value: 0.7250000000000001.\n",
      "[I 2025-02-05 17:23:38,753] Trial 23 finished with value: 0.5874999999999999 and parameters: {'k': 17}. Best is trial 6 with value: 0.7250000000000001.\n",
      "[I 2025-02-05 17:23:38,761] Trial 24 finished with value: 0.7375 and parameters: {'k': 43}. Best is trial 24 with value: 0.7375.\n",
      "[I 2025-02-05 17:23:38,807] Trial 25 finished with value: 0.65 and parameters: {'k': 21}. Best is trial 24 with value: 0.7375.\n",
      "[I 2025-02-05 17:23:38,845] Trial 26 finished with value: 0.725 and parameters: {'k': 44}. Best is trial 24 with value: 0.7375.\n",
      "[I 2025-02-05 17:23:38,886] Trial 27 finished with value: 0.55 and parameters: {'k': 9}. Best is trial 24 with value: 0.7375.\n",
      "[I 2025-02-05 17:23:38,908] Trial 28 finished with value: 0.6375 and parameters: {'k': 14}. Best is trial 24 with value: 0.7375.\n",
      "[I 2025-02-05 17:23:38,938] Trial 29 finished with value: 0.5625 and parameters: {'k': 26}. Best is trial 24 with value: 0.7375.\n",
      "[I 2025-02-05 17:23:38,978] Trial 30 finished with value: 0.5374999999999999 and parameters: {'k': 6}. Best is trial 24 with value: 0.7375.\n",
      "[I 2025-02-05 17:23:39,009] Trial 31 finished with value: 0.6000000000000001 and parameters: {'k': 18}. Best is trial 24 with value: 0.7375.\n",
      "[I 2025-02-05 17:23:39,050] Trial 32 finished with value: 0.675 and parameters: {'k': 41}. Best is trial 24 with value: 0.7375.\n",
      "[I 2025-02-05 17:23:39,067] Trial 33 finished with value: 0.625 and parameters: {'k': 50}. Best is trial 24 with value: 0.7375.\n",
      "[I 2025-02-05 17:23:39,090] Trial 34 finished with value: 0.4125 and parameters: {'k': 2}. Best is trial 24 with value: 0.7375.\n",
      "[I 2025-02-05 17:23:39,106] Trial 35 finished with value: 0.625 and parameters: {'k': 13}. Best is trial 24 with value: 0.7375.\n",
      "[I 2025-02-05 17:23:39,133] Trial 36 finished with value: 0.75 and parameters: {'k': 38}. Best is trial 36 with value: 0.75.\n",
      "[I 2025-02-05 17:23:39,161] Trial 37 finished with value: 0.6 and parameters: {'k': 25}. Best is trial 36 with value: 0.75.\n",
      "[I 2025-02-05 17:23:39,172] Trial 38 finished with value: 0.6375000000000001 and parameters: {'k': 7}. Best is trial 36 with value: 0.75.\n",
      "[I 2025-02-05 17:23:39,183] Trial 39 finished with value: 0.65 and parameters: {'k': 24}. Best is trial 36 with value: 0.75.\n",
      "[I 2025-02-05 17:23:39,222] Trial 40 finished with value: 0.7250000000000001 and parameters: {'k': 37}. Best is trial 36 with value: 0.75.\n",
      "[I 2025-02-05 17:23:39,249] Trial 41 finished with value: 0.6375 and parameters: {'k': 22}. Best is trial 36 with value: 0.75.\n",
      "[I 2025-02-05 17:23:39,268] Trial 42 finished with value: 0.6000000000000001 and parameters: {'k': 20}. Best is trial 36 with value: 0.75.\n",
      "[I 2025-02-05 17:23:39,280] Trial 43 finished with value: 0.525 and parameters: {'k': 10}. Best is trial 36 with value: 0.75.\n",
      "[I 2025-02-05 17:23:39,292] Trial 44 finished with value: 0.6875 and parameters: {'k': 40}. Best is trial 36 with value: 0.75.\n",
      "[I 2025-02-05 17:23:39,303] Trial 45 finished with value: 0.7125 and parameters: {'k': 47}. Best is trial 36 with value: 0.75.\n",
      "[I 2025-02-05 17:23:39,314] Trial 46 finished with value: 0.4375 and parameters: {'k': 4}. Best is trial 36 with value: 0.75.\n",
      "[I 2025-02-05 17:23:39,326] Trial 47 finished with value: 0.44999999999999996 and parameters: {'k': 1}. Best is trial 36 with value: 0.75.\n",
      "[I 2025-02-05 17:23:39,338] Trial 48 finished with value: 0.7 and parameters: {'k': 48}. Best is trial 36 with value: 0.75.\n",
      "[I 2025-02-05 17:23:39,365] Trial 49 finished with value: 0.725 and parameters: {'k': 45}. Best is trial 36 with value: 0.75.\n",
      "[I 2025-02-05 17:23:39,398] A new study created in memory with name: no-name-0d740755-e625-43b9-8603-b67b7f654e38\n",
      "[I 2025-02-05 17:23:39,419] Trial 0 finished with value: 0.7291666666666666 and parameters: {'k': 29}. Best is trial 0 with value: 0.7291666666666666.\n",
      "[I 2025-02-05 17:23:39,436] Trial 1 finished with value: 0.39583333333333337 and parameters: {'k': 12}. Best is trial 0 with value: 0.7291666666666666.\n",
      "[I 2025-02-05 17:23:39,443] Trial 2 finished with value: 0.375 and parameters: {'k': 11}. Best is trial 0 with value: 0.7291666666666666.\n",
      "[I 2025-02-05 17:23:39,474] Trial 3 finished with value: 0.5833333333333334 and parameters: {'k': 42}. Best is trial 0 with value: 0.7291666666666666.\n",
      "[I 2025-02-05 17:23:39,491] Trial 4 finished with value: 0.29166666666666663 and parameters: {'k': 3}. Best is trial 0 with value: 0.7291666666666666.\n",
      "[I 2025-02-05 17:23:39,514] Trial 5 finished with value: 0.7708333333333333 and parameters: {'k': 28}. Best is trial 5 with value: 0.7708333333333333.\n",
      "[I 2025-02-05 17:23:39,548] Trial 6 finished with value: 0.6458333333333333 and parameters: {'k': 39}. Best is trial 5 with value: 0.7708333333333333.\n",
      "[I 2025-02-05 17:23:39,568] Trial 7 finished with value: 0.6666666666666666 and parameters: {'k': 32}. Best is trial 5 with value: 0.7708333333333333.\n",
      "[I 2025-02-05 17:23:39,600] Trial 8 finished with value: 0.5625 and parameters: {'k': 23}. Best is trial 5 with value: 0.7708333333333333.\n",
      "[I 2025-02-05 17:23:39,612] Trial 9 finished with value: 0.20833333333333331 and parameters: {'k': 5}. Best is trial 5 with value: 0.7708333333333333.\n",
      "[I 2025-02-05 17:23:39,634] Trial 10 finished with value: 0.7083333333333333 and parameters: {'k': 34}. Best is trial 5 with value: 0.7708333333333333.\n",
      "[I 2025-02-05 17:23:39,757] Trial 11 finished with value: 0.625 and parameters: {'k': 36}. Best is trial 5 with value: 0.7708333333333333.\n",
      "[I 2025-02-05 17:23:39,778] Trial 12 finished with value: 0.7083333333333333 and parameters: {'k': 27}. Best is trial 5 with value: 0.7708333333333333.\n",
      "[I 2025-02-05 17:23:39,802] Trial 13 finished with value: 0.6666666666666666 and parameters: {'k': 35}. Best is trial 5 with value: 0.7708333333333333.\n",
      "[I 2025-02-05 17:23:39,861] Trial 14 finished with value: 0.33333333333333337 and parameters: {'k': 19}. Best is trial 5 with value: 0.7708333333333333.\n",
      "[I 2025-02-05 17:23:39,949] Trial 15 finished with value: 0.2916666666666667 and parameters: {'k': 8}. Best is trial 5 with value: 0.7708333333333333.\n",
      "[I 2025-02-05 17:23:40,024] Trial 16 finished with value: 0.5416666666666666 and parameters: {'k': 15}. Best is trial 5 with value: 0.7708333333333333.\n",
      "[I 2025-02-05 17:23:40,059] Trial 17 finished with value: 0.5833333333333333 and parameters: {'k': 46}. Best is trial 5 with value: 0.7708333333333333.\n",
      "[I 2025-02-05 17:23:40,090] Trial 18 finished with value: 0.4583333333333333 and parameters: {'k': 49}. Best is trial 5 with value: 0.7708333333333333.\n",
      "[I 2025-02-05 17:23:40,116] Trial 19 finished with value: 0.6875 and parameters: {'k': 30}. Best is trial 5 with value: 0.7708333333333333.\n",
      "[I 2025-02-05 17:23:40,150] Trial 20 finished with value: 0.4791666666666667 and parameters: {'k': 16}. Best is trial 5 with value: 0.7708333333333333.\n",
      "[I 2025-02-05 17:23:40,188] Trial 21 finished with value: 0.6666666666666667 and parameters: {'k': 31}. Best is trial 5 with value: 0.7708333333333333.\n",
      "[I 2025-02-05 17:23:40,209] Trial 22 finished with value: 0.6666666666666666 and parameters: {'k': 33}. Best is trial 5 with value: 0.7708333333333333.\n",
      "[I 2025-02-05 17:23:40,234] Trial 23 finished with value: 0.4583333333333333 and parameters: {'k': 17}. Best is trial 5 with value: 0.7708333333333333.\n",
      "[I 2025-02-05 17:23:40,296] Trial 24 finished with value: 0.5208333333333333 and parameters: {'k': 43}. Best is trial 5 with value: 0.7708333333333333.\n",
      "[I 2025-02-05 17:23:40,365] Trial 25 finished with value: 0.6458333333333333 and parameters: {'k': 21}. Best is trial 5 with value: 0.7708333333333333.\n",
      "[I 2025-02-05 17:23:40,419] Trial 26 finished with value: 0.5625 and parameters: {'k': 44}. Best is trial 5 with value: 0.7708333333333333.\n",
      "[I 2025-02-05 17:23:40,463] Trial 27 finished with value: 0.3333333333333333 and parameters: {'k': 9}. Best is trial 5 with value: 0.7708333333333333.\n",
      "[I 2025-02-05 17:23:40,510] Trial 28 finished with value: 0.5208333333333334 and parameters: {'k': 14}. Best is trial 5 with value: 0.7708333333333333.\n",
      "[I 2025-02-05 17:23:40,545] Trial 29 finished with value: 0.6041666666666666 and parameters: {'k': 26}. Best is trial 5 with value: 0.7708333333333333.\n",
      "[I 2025-02-05 17:23:40,573] Trial 30 finished with value: 0.16666666666666666 and parameters: {'k': 6}. Best is trial 5 with value: 0.7708333333333333.\n",
      "[I 2025-02-05 17:23:40,675] Trial 31 finished with value: 0.3333333333333333 and parameters: {'k': 18}. Best is trial 5 with value: 0.7708333333333333.\n",
      "[I 2025-02-05 17:23:40,722] Trial 32 finished with value: 0.5833333333333333 and parameters: {'k': 41}. Best is trial 5 with value: 0.7708333333333333.\n",
      "[I 2025-02-05 17:23:40,867] Trial 33 finished with value: 0.5208333333333333 and parameters: {'k': 50}. Best is trial 5 with value: 0.7708333333333333.\n",
      "[I 2025-02-05 17:23:40,884] Trial 34 finished with value: 0.33333333333333337 and parameters: {'k': 2}. Best is trial 5 with value: 0.7708333333333333.\n",
      "[I 2025-02-05 17:23:40,979] Trial 35 finished with value: 0.4791666666666667 and parameters: {'k': 13}. Best is trial 5 with value: 0.7708333333333333.\n",
      "[I 2025-02-05 17:23:41,098] Trial 36 finished with value: 0.6041666666666667 and parameters: {'k': 38}. Best is trial 5 with value: 0.7708333333333333.\n",
      "[I 2025-02-05 17:23:41,141] Trial 37 finished with value: 0.5208333333333333 and parameters: {'k': 25}. Best is trial 5 with value: 0.7708333333333333.\n",
      "[I 2025-02-05 17:23:41,166] Trial 38 finished with value: 0.25 and parameters: {'k': 7}. Best is trial 5 with value: 0.7708333333333333.\n",
      "[I 2025-02-05 17:23:41,185] Trial 39 finished with value: 0.625 and parameters: {'k': 24}. Best is trial 5 with value: 0.7708333333333333.\n",
      "[I 2025-02-05 17:23:41,211] Trial 40 finished with value: 0.5833333333333333 and parameters: {'k': 37}. Best is trial 5 with value: 0.7708333333333333.\n",
      "[I 2025-02-05 17:23:41,236] Trial 41 finished with value: 0.5 and parameters: {'k': 22}. Best is trial 5 with value: 0.7708333333333333.\n",
      "[I 2025-02-05 17:23:41,249] Trial 42 finished with value: 0.5 and parameters: {'k': 20}. Best is trial 5 with value: 0.7708333333333333.\n",
      "[I 2025-02-05 17:23:41,263] Trial 43 finished with value: 0.2916666666666667 and parameters: {'k': 10}. Best is trial 5 with value: 0.7708333333333333.\n",
      "[I 2025-02-05 17:23:41,310] Trial 44 finished with value: 0.625 and parameters: {'k': 40}. Best is trial 5 with value: 0.7708333333333333.\n",
      "[I 2025-02-05 17:23:41,341] Trial 45 finished with value: 0.5416666666666666 and parameters: {'k': 47}. Best is trial 5 with value: 0.7708333333333333.\n",
      "[I 2025-02-05 17:23:41,406] Trial 46 finished with value: 0.20833333333333331 and parameters: {'k': 4}. Best is trial 5 with value: 0.7708333333333333.\n",
      "[I 2025-02-05 17:23:41,486] Trial 47 finished with value: 0.5416666666666667 and parameters: {'k': 1}. Best is trial 5 with value: 0.7708333333333333.\n",
      "[I 2025-02-05 17:23:41,527] Trial 48 finished with value: 0.4791666666666667 and parameters: {'k': 48}. Best is trial 5 with value: 0.7708333333333333.\n",
      "[I 2025-02-05 17:23:41,553] Trial 49 finished with value: 0.625 and parameters: {'k': 45}. Best is trial 5 with value: 0.7708333333333333.\n",
      "[I 2025-02-05 17:23:41,580] A new study created in memory with name: no-name-92898929-2f61-4655-96e2-7b2bec454d6f\n",
      "[I 2025-02-05 17:23:41,586] Trial 0 finished with value: 0.5757575757575757 and parameters: {'k': 29}. Best is trial 0 with value: 0.5757575757575757.\n",
      "[I 2025-02-05 17:23:41,592] Trial 1 finished with value: 0.4242424242424243 and parameters: {'k': 12}. Best is trial 0 with value: 0.5757575757575757.\n",
      "[I 2025-02-05 17:23:41,604] Trial 2 finished with value: 0.393939393939394 and parameters: {'k': 11}. Best is trial 0 with value: 0.5757575757575757.\n",
      "[I 2025-02-05 17:23:41,617] Trial 3 finished with value: 0.6666666666666667 and parameters: {'k': 42}. Best is trial 3 with value: 0.6666666666666667.\n",
      "[I 2025-02-05 17:23:41,622] Trial 4 finished with value: 0.48484848484848486 and parameters: {'k': 3}. Best is trial 3 with value: 0.6666666666666667.\n",
      "[I 2025-02-05 17:23:41,635] Trial 5 finished with value: 0.5757575757575757 and parameters: {'k': 28}. Best is trial 3 with value: 0.6666666666666667.\n",
      "[I 2025-02-05 17:23:41,663] Trial 6 finished with value: 0.6212121212121212 and parameters: {'k': 39}. Best is trial 3 with value: 0.6666666666666667.\n",
      "[I 2025-02-05 17:23:41,740] Trial 7 finished with value: 0.5454545454545454 and parameters: {'k': 32}. Best is trial 3 with value: 0.6666666666666667.\n",
      "[I 2025-02-05 17:23:41,771] Trial 8 finished with value: 0.5909090909090908 and parameters: {'k': 23}. Best is trial 3 with value: 0.6666666666666667.\n",
      "[I 2025-02-05 17:23:41,809] Trial 9 finished with value: 0.393939393939394 and parameters: {'k': 5}. Best is trial 3 with value: 0.6666666666666667.\n",
      "[I 2025-02-05 17:23:41,863] Trial 10 finished with value: 0.6363636363636364 and parameters: {'k': 34}. Best is trial 3 with value: 0.6666666666666667.\n",
      "[I 2025-02-05 17:23:41,880] Trial 11 finished with value: 0.5757575757575757 and parameters: {'k': 36}. Best is trial 3 with value: 0.6666666666666667.\n",
      "[I 2025-02-05 17:23:41,937] Trial 12 finished with value: 0.6060606060606061 and parameters: {'k': 27}. Best is trial 3 with value: 0.6666666666666667.\n",
      "[I 2025-02-05 17:23:42,003] Trial 13 finished with value: 0.606060606060606 and parameters: {'k': 35}. Best is trial 3 with value: 0.6666666666666667.\n",
      "[I 2025-02-05 17:23:42,031] Trial 14 finished with value: 0.4696969696969697 and parameters: {'k': 19}. Best is trial 3 with value: 0.6666666666666667.\n",
      "[I 2025-02-05 17:23:42,052] Trial 15 finished with value: 0.393939393939394 and parameters: {'k': 8}. Best is trial 3 with value: 0.6666666666666667.\n",
      "[I 2025-02-05 17:23:42,090] Trial 16 finished with value: 0.4090909090909091 and parameters: {'k': 15}. Best is trial 3 with value: 0.6666666666666667.\n",
      "[I 2025-02-05 17:23:42,142] Trial 17 finished with value: 0.696969696969697 and parameters: {'k': 46}. Best is trial 17 with value: 0.696969696969697.\n",
      "[I 2025-02-05 17:23:42,178] Trial 18 finished with value: 0.5909090909090909 and parameters: {'k': 49}. Best is trial 17 with value: 0.696969696969697.\n",
      "[I 2025-02-05 17:23:42,199] Trial 19 finished with value: 0.5909090909090908 and parameters: {'k': 30}. Best is trial 17 with value: 0.696969696969697.\n",
      "[I 2025-02-05 17:23:42,288] Trial 20 finished with value: 0.43939393939393945 and parameters: {'k': 16}. Best is trial 17 with value: 0.696969696969697.\n",
      "[I 2025-02-05 17:23:42,304] Trial 21 finished with value: 0.6060606060606061 and parameters: {'k': 31}. Best is trial 17 with value: 0.696969696969697.\n",
      "[I 2025-02-05 17:23:42,325] Trial 22 finished with value: 0.5303030303030303 and parameters: {'k': 33}. Best is trial 17 with value: 0.696969696969697.\n",
      "[I 2025-02-05 17:23:42,340] Trial 23 finished with value: 0.3787878787878788 and parameters: {'k': 17}. Best is trial 17 with value: 0.696969696969697.\n",
      "[I 2025-02-05 17:23:42,361] Trial 24 finished with value: 0.7424242424242424 and parameters: {'k': 43}. Best is trial 24 with value: 0.7424242424242424.\n",
      "[I 2025-02-05 17:23:42,377] Trial 25 finished with value: 0.5606060606060606 and parameters: {'k': 21}. Best is trial 24 with value: 0.7424242424242424.\n",
      "[I 2025-02-05 17:23:42,397] Trial 26 finished with value: 0.7727272727272728 and parameters: {'k': 44}. Best is trial 26 with value: 0.7727272727272728.\n",
      "[I 2025-02-05 17:23:42,467] Trial 27 finished with value: 0.4545454545454546 and parameters: {'k': 9}. Best is trial 26 with value: 0.7727272727272728.\n",
      "[I 2025-02-05 17:23:42,485] Trial 28 finished with value: 0.4242424242424243 and parameters: {'k': 14}. Best is trial 26 with value: 0.7727272727272728.\n",
      "[I 2025-02-05 17:23:42,496] Trial 29 finished with value: 0.6212121212121213 and parameters: {'k': 26}. Best is trial 26 with value: 0.7727272727272728.\n",
      "[I 2025-02-05 17:23:42,508] Trial 30 finished with value: 0.393939393939394 and parameters: {'k': 6}. Best is trial 26 with value: 0.7727272727272728.\n",
      "[I 2025-02-05 17:23:42,521] Trial 31 finished with value: 0.4090909090909091 and parameters: {'k': 18}. Best is trial 26 with value: 0.7727272727272728.\n",
      "[I 2025-02-05 17:23:42,533] Trial 32 finished with value: 0.6666666666666667 and parameters: {'k': 41}. Best is trial 26 with value: 0.7727272727272728.\n",
      "[I 2025-02-05 17:23:42,551] Trial 33 finished with value: 0.5454545454545454 and parameters: {'k': 50}. Best is trial 26 with value: 0.7727272727272728.\n",
      "[I 2025-02-05 17:23:42,565] Trial 34 finished with value: 0.5303030303030303 and parameters: {'k': 2}. Best is trial 26 with value: 0.7727272727272728.\n",
      "[I 2025-02-05 17:23:42,584] Trial 35 finished with value: 0.43939393939393945 and parameters: {'k': 13}. Best is trial 26 with value: 0.7727272727272728.\n",
      "[I 2025-02-05 17:23:42,599] Trial 36 finished with value: 0.5909090909090908 and parameters: {'k': 38}. Best is trial 26 with value: 0.7727272727272728.\n",
      "[I 2025-02-05 17:23:42,614] Trial 37 finished with value: 0.6060606060606061 and parameters: {'k': 25}. Best is trial 26 with value: 0.7727272727272728.\n",
      "[I 2025-02-05 17:23:42,648] Trial 38 finished with value: 0.393939393939394 and parameters: {'k': 7}. Best is trial 26 with value: 0.7727272727272728.\n",
      "[I 2025-02-05 17:23:42,671] Trial 39 finished with value: 0.5757575757575758 and parameters: {'k': 24}. Best is trial 26 with value: 0.7727272727272728.\n",
      "[I 2025-02-05 17:23:42,686] Trial 40 finished with value: 0.6212121212121212 and parameters: {'k': 37}. Best is trial 26 with value: 0.7727272727272728.\n",
      "[I 2025-02-05 17:23:42,723] Trial 41 finished with value: 0.606060606060606 and parameters: {'k': 22}. Best is trial 26 with value: 0.7727272727272728.\n",
      "[I 2025-02-05 17:23:42,738] Trial 42 finished with value: 0.5151515151515151 and parameters: {'k': 20}. Best is trial 26 with value: 0.7727272727272728.\n",
      "[I 2025-02-05 17:23:42,752] Trial 43 finished with value: 0.42424242424242425 and parameters: {'k': 10}. Best is trial 26 with value: 0.7727272727272728.\n",
      "[I 2025-02-05 17:23:42,767] Trial 44 finished with value: 0.6666666666666667 and parameters: {'k': 40}. Best is trial 26 with value: 0.7727272727272728.\n",
      "[I 2025-02-05 17:23:42,789] Trial 45 finished with value: 0.6515151515151516 and parameters: {'k': 47}. Best is trial 26 with value: 0.7727272727272728.\n",
      "[I 2025-02-05 17:23:42,806] Trial 46 finished with value: 0.4696969696969697 and parameters: {'k': 4}. Best is trial 26 with value: 0.7727272727272728.\n",
      "[I 2025-02-05 17:23:42,822] Trial 47 finished with value: 0.36363636363636365 and parameters: {'k': 1}. Best is trial 26 with value: 0.7727272727272728.\n",
      "[I 2025-02-05 17:23:42,837] Trial 48 finished with value: 0.5909090909090909 and parameters: {'k': 48}. Best is trial 26 with value: 0.7727272727272728.\n",
      "[I 2025-02-05 17:23:42,879] Trial 49 finished with value: 0.7272727272727273 and parameters: {'k': 45}. Best is trial 26 with value: 0.7727272727272728.\n",
      "[I 2025-02-05 17:23:42,920] A new study created in memory with name: no-name-2fb4acc6-f70d-4f73-a7d0-7b2db629b889\n",
      "[I 2025-02-05 17:23:42,935] Trial 0 finished with value: 0.45 and parameters: {'k': 29}. Best is trial 0 with value: 0.45.\n",
      "[I 2025-02-05 17:23:42,947] Trial 1 finished with value: 0.4875 and parameters: {'k': 12}. Best is trial 1 with value: 0.4875.\n",
      "[I 2025-02-05 17:23:42,966] Trial 2 finished with value: 0.5125 and parameters: {'k': 11}. Best is trial 2 with value: 0.5125.\n",
      "[I 2025-02-05 17:23:42,971] Trial 3 finished with value: 0.4625 and parameters: {'k': 42}. Best is trial 2 with value: 0.5125.\n",
      "[I 2025-02-05 17:23:42,976] Trial 4 finished with value: 0.6 and parameters: {'k': 3}. Best is trial 4 with value: 0.6.\n",
      "[I 2025-02-05 17:23:43,034] Trial 5 finished with value: 0.4375 and parameters: {'k': 28}. Best is trial 4 with value: 0.6.\n",
      "[I 2025-02-05 17:23:43,040] Trial 6 finished with value: 0.5625 and parameters: {'k': 39}. Best is trial 4 with value: 0.6.\n",
      "[I 2025-02-05 17:23:43,047] Trial 7 finished with value: 0.4875 and parameters: {'k': 32}. Best is trial 4 with value: 0.6.\n",
      "[I 2025-02-05 17:23:43,054] Trial 8 finished with value: 0.325 and parameters: {'k': 23}. Best is trial 4 with value: 0.6.\n",
      "[I 2025-02-05 17:23:43,060] Trial 9 finished with value: 0.5125 and parameters: {'k': 5}. Best is trial 4 with value: 0.6.\n",
      "[I 2025-02-05 17:23:43,066] Trial 10 finished with value: 0.475 and parameters: {'k': 34}. Best is trial 4 with value: 0.6.\n",
      "[I 2025-02-05 17:23:43,072] Trial 11 finished with value: 0.48750000000000004 and parameters: {'k': 36}. Best is trial 4 with value: 0.6.\n",
      "[I 2025-02-05 17:23:43,078] Trial 12 finished with value: 0.36250000000000004 and parameters: {'k': 27}. Best is trial 4 with value: 0.6.\n",
      "[I 2025-02-05 17:23:43,107] Trial 13 finished with value: 0.5 and parameters: {'k': 35}. Best is trial 4 with value: 0.6.\n",
      "[I 2025-02-05 17:23:43,149] Trial 14 finished with value: 0.30000000000000004 and parameters: {'k': 19}. Best is trial 4 with value: 0.6.\n",
      "[I 2025-02-05 17:23:43,174] Trial 15 finished with value: 0.47500000000000003 and parameters: {'k': 8}. Best is trial 4 with value: 0.6.\n",
      "[I 2025-02-05 17:23:43,197] Trial 16 finished with value: 0.35 and parameters: {'k': 15}. Best is trial 4 with value: 0.6.\n",
      "[I 2025-02-05 17:23:43,248] Trial 17 finished with value: 0.5125 and parameters: {'k': 46}. Best is trial 4 with value: 0.6.\n",
      "[I 2025-02-05 17:23:43,262] Trial 18 finished with value: 0.475 and parameters: {'k': 49}. Best is trial 4 with value: 0.6.\n",
      "[I 2025-02-05 17:23:43,287] Trial 19 finished with value: 0.47500000000000003 and parameters: {'k': 30}. Best is trial 4 with value: 0.6.\n",
      "[I 2025-02-05 17:23:43,365] Trial 20 finished with value: 0.3375 and parameters: {'k': 16}. Best is trial 4 with value: 0.6.\n",
      "[I 2025-02-05 17:23:43,373] Trial 21 finished with value: 0.4875 and parameters: {'k': 31}. Best is trial 4 with value: 0.6.\n",
      "[I 2025-02-05 17:23:43,423] Trial 22 finished with value: 0.48750000000000004 and parameters: {'k': 33}. Best is trial 4 with value: 0.6.\n",
      "[I 2025-02-05 17:23:43,461] Trial 23 finished with value: 0.30000000000000004 and parameters: {'k': 17}. Best is trial 4 with value: 0.6.\n",
      "[I 2025-02-05 17:23:43,493] Trial 24 finished with value: 0.4375 and parameters: {'k': 43}. Best is trial 4 with value: 0.6.\n",
      "[I 2025-02-05 17:23:43,507] Trial 25 finished with value: 0.30000000000000004 and parameters: {'k': 21}. Best is trial 4 with value: 0.6.\n",
      "[I 2025-02-05 17:23:43,517] Trial 26 finished with value: 0.475 and parameters: {'k': 44}. Best is trial 4 with value: 0.6.\n",
      "[I 2025-02-05 17:23:43,533] Trial 27 finished with value: 0.5125 and parameters: {'k': 9}. Best is trial 4 with value: 0.6.\n",
      "[I 2025-02-05 17:23:43,586] Trial 28 finished with value: 0.36250000000000004 and parameters: {'k': 14}. Best is trial 4 with value: 0.6.\n",
      "[I 2025-02-05 17:23:43,603] Trial 29 finished with value: 0.38750000000000007 and parameters: {'k': 26}. Best is trial 4 with value: 0.6.\n",
      "[I 2025-02-05 17:23:43,619] Trial 30 finished with value: 0.5875 and parameters: {'k': 6}. Best is trial 4 with value: 0.6.\n",
      "[I 2025-02-05 17:23:43,636] Trial 31 finished with value: 0.28750000000000003 and parameters: {'k': 18}. Best is trial 4 with value: 0.6.\n",
      "[I 2025-02-05 17:23:43,653] Trial 32 finished with value: 0.475 and parameters: {'k': 41}. Best is trial 4 with value: 0.6.\n",
      "[I 2025-02-05 17:23:43,663] Trial 33 finished with value: 0.475 and parameters: {'k': 50}. Best is trial 4 with value: 0.6.\n",
      "[I 2025-02-05 17:23:43,673] Trial 34 finished with value: 0.575 and parameters: {'k': 2}. Best is trial 4 with value: 0.6.\n",
      "[I 2025-02-05 17:23:43,693] Trial 35 finished with value: 0.4125 and parameters: {'k': 13}. Best is trial 4 with value: 0.6.\n",
      "[I 2025-02-05 17:23:43,716] Trial 36 finished with value: 0.5 and parameters: {'k': 38}. Best is trial 4 with value: 0.6.\n",
      "[I 2025-02-05 17:23:43,736] Trial 37 finished with value: 0.375 and parameters: {'k': 25}. Best is trial 4 with value: 0.6.\n",
      "[I 2025-02-05 17:23:43,750] Trial 38 finished with value: 0.5250000000000001 and parameters: {'k': 7}. Best is trial 4 with value: 0.6.\n",
      "[I 2025-02-05 17:23:43,762] Trial 39 finished with value: 0.3375 and parameters: {'k': 24}. Best is trial 4 with value: 0.6.\n",
      "[I 2025-02-05 17:23:43,774] Trial 40 finished with value: 0.525 and parameters: {'k': 37}. Best is trial 4 with value: 0.6.\n",
      "[I 2025-02-05 17:23:43,805] Trial 41 finished with value: 0.3 and parameters: {'k': 22}. Best is trial 4 with value: 0.6.\n",
      "[I 2025-02-05 17:23:43,825] Trial 42 finished with value: 0.30000000000000004 and parameters: {'k': 20}. Best is trial 4 with value: 0.6.\n",
      "[I 2025-02-05 17:23:43,837] Trial 43 finished with value: 0.5 and parameters: {'k': 10}. Best is trial 4 with value: 0.6.\n",
      "[I 2025-02-05 17:23:43,854] Trial 44 finished with value: 0.5 and parameters: {'k': 40}. Best is trial 4 with value: 0.6.\n",
      "[I 2025-02-05 17:23:43,871] Trial 45 finished with value: 0.5125 and parameters: {'k': 47}. Best is trial 4 with value: 0.6.\n",
      "[I 2025-02-05 17:23:43,883] Trial 46 finished with value: 0.55 and parameters: {'k': 4}. Best is trial 4 with value: 0.6.\n",
      "[I 2025-02-05 17:23:43,901] Trial 47 finished with value: 0.44999999999999996 and parameters: {'k': 1}. Best is trial 4 with value: 0.6.\n",
      "[I 2025-02-05 17:23:43,919] Trial 48 finished with value: 0.45 and parameters: {'k': 48}. Best is trial 4 with value: 0.6.\n",
      "[I 2025-02-05 17:23:43,935] Trial 49 finished with value: 0.525 and parameters: {'k': 45}. Best is trial 4 with value: 0.6.\n",
      "[I 2025-02-05 17:23:43,943] A new study created in memory with name: no-name-99d51645-e34b-4abb-b2e9-1d096d8702fc\n",
      "[I 2025-02-05 17:23:43,949] Trial 0 finished with value: 0.6333333333333333 and parameters: {'k': 29}. Best is trial 0 with value: 0.6333333333333333.\n",
      "[I 2025-02-05 17:23:43,960] Trial 1 finished with value: 0.6555555555555554 and parameters: {'k': 12}. Best is trial 1 with value: 0.6555555555555554.\n",
      "[I 2025-02-05 17:23:43,978] Trial 2 finished with value: 0.7333333333333333 and parameters: {'k': 11}. Best is trial 2 with value: 0.7333333333333333.\n",
      "[I 2025-02-05 17:23:43,984] Trial 3 finished with value: 0.7666666666666666 and parameters: {'k': 42}. Best is trial 3 with value: 0.7666666666666666.\n",
      "[I 2025-02-05 17:23:43,989] Trial 4 finished with value: 0.6000000000000001 and parameters: {'k': 3}. Best is trial 3 with value: 0.7666666666666666.\n",
      "[I 2025-02-05 17:23:43,995] Trial 5 finished with value: 0.6666666666666666 and parameters: {'k': 28}. Best is trial 3 with value: 0.7666666666666666.\n",
      "[I 2025-02-05 17:23:44,020] Trial 6 finished with value: 0.7 and parameters: {'k': 39}. Best is trial 3 with value: 0.7666666666666666.\n",
      "[I 2025-02-05 17:23:44,032] Trial 7 finished with value: 0.6222222222222222 and parameters: {'k': 32}. Best is trial 3 with value: 0.7666666666666666.\n",
      "[I 2025-02-05 17:23:44,038] Trial 8 finished with value: 0.6888888888888889 and parameters: {'k': 23}. Best is trial 3 with value: 0.7666666666666666.\n",
      "[I 2025-02-05 17:23:44,054] Trial 9 finished with value: 0.6555555555555556 and parameters: {'k': 5}. Best is trial 3 with value: 0.7666666666666666.\n",
      "[I 2025-02-05 17:23:44,059] Trial 10 finished with value: 0.6555555555555554 and parameters: {'k': 34}. Best is trial 3 with value: 0.7666666666666666.\n",
      "[I 2025-02-05 17:23:44,082] Trial 11 finished with value: 0.6888888888888889 and parameters: {'k': 36}. Best is trial 3 with value: 0.7666666666666666.\n",
      "[I 2025-02-05 17:23:44,089] Trial 12 finished with value: 0.6222222222222222 and parameters: {'k': 27}. Best is trial 3 with value: 0.7666666666666666.\n",
      "[I 2025-02-05 17:23:44,101] Trial 13 finished with value: 0.711111111111111 and parameters: {'k': 35}. Best is trial 3 with value: 0.7666666666666666.\n",
      "[I 2025-02-05 17:23:44,109] Trial 14 finished with value: 0.7333333333333334 and parameters: {'k': 19}. Best is trial 3 with value: 0.7666666666666666.\n",
      "[I 2025-02-05 17:23:44,115] Trial 15 finished with value: 0.7333333333333333 and parameters: {'k': 8}. Best is trial 3 with value: 0.7666666666666666.\n",
      "[I 2025-02-05 17:23:44,134] Trial 16 finished with value: 0.6888888888888889 and parameters: {'k': 15}. Best is trial 3 with value: 0.7666666666666666.\n",
      "[I 2025-02-05 17:23:44,150] Trial 17 finished with value: 0.711111111111111 and parameters: {'k': 46}. Best is trial 3 with value: 0.7666666666666666.\n",
      "[I 2025-02-05 17:23:44,157] Trial 18 finished with value: 0.6555555555555554 and parameters: {'k': 49}. Best is trial 3 with value: 0.7666666666666666.\n",
      "[I 2025-02-05 17:23:44,167] Trial 19 finished with value: 0.6222222222222222 and parameters: {'k': 30}. Best is trial 3 with value: 0.7666666666666666.\n",
      "[I 2025-02-05 17:23:44,184] Trial 20 finished with value: 0.7555555555555555 and parameters: {'k': 16}. Best is trial 3 with value: 0.7666666666666666.\n",
      "[I 2025-02-05 17:23:44,194] Trial 21 finished with value: 0.5999999999999999 and parameters: {'k': 31}. Best is trial 3 with value: 0.7666666666666666.\n",
      "[I 2025-02-05 17:23:44,219] Trial 22 finished with value: 0.6444444444444444 and parameters: {'k': 33}. Best is trial 3 with value: 0.7666666666666666.\n",
      "[I 2025-02-05 17:23:44,253] Trial 23 finished with value: 0.7 and parameters: {'k': 17}. Best is trial 3 with value: 0.7666666666666666.\n",
      "[I 2025-02-05 17:23:44,270] Trial 24 finished with value: 0.7555555555555555 and parameters: {'k': 43}. Best is trial 3 with value: 0.7666666666666666.\n",
      "[I 2025-02-05 17:23:44,296] Trial 25 finished with value: 0.7 and parameters: {'k': 21}. Best is trial 3 with value: 0.7666666666666666.\n",
      "[I 2025-02-05 17:23:44,311] Trial 26 finished with value: 0.7444444444444445 and parameters: {'k': 44}. Best is trial 3 with value: 0.7666666666666666.\n",
      "[I 2025-02-05 17:23:44,330] Trial 27 finished with value: 0.7000000000000001 and parameters: {'k': 9}. Best is trial 3 with value: 0.7666666666666666.\n",
      "[I 2025-02-05 17:23:44,345] Trial 28 finished with value: 0.7666666666666666 and parameters: {'k': 14}. Best is trial 3 with value: 0.7666666666666666.\n",
      "[I 2025-02-05 17:23:44,360] Trial 29 finished with value: 0.6222222222222222 and parameters: {'k': 26}. Best is trial 3 with value: 0.7666666666666666.\n",
      "[I 2025-02-05 17:23:44,374] Trial 30 finished with value: 0.7111111111111111 and parameters: {'k': 6}. Best is trial 3 with value: 0.7666666666666666.\n",
      "[I 2025-02-05 17:23:44,386] Trial 31 finished with value: 0.6777777777777778 and parameters: {'k': 18}. Best is trial 3 with value: 0.7666666666666666.\n",
      "[I 2025-02-05 17:23:44,419] Trial 32 finished with value: 0.7444444444444445 and parameters: {'k': 41}. Best is trial 3 with value: 0.7666666666666666.\n",
      "[I 2025-02-05 17:23:44,431] Trial 33 finished with value: 0.6333333333333333 and parameters: {'k': 50}. Best is trial 3 with value: 0.7666666666666666.\n",
      "[I 2025-02-05 17:23:44,443] Trial 34 finished with value: 0.6666666666666666 and parameters: {'k': 2}. Best is trial 3 with value: 0.7666666666666666.\n",
      "[I 2025-02-05 17:23:44,463] Trial 35 finished with value: 0.6777777777777778 and parameters: {'k': 13}. Best is trial 3 with value: 0.7666666666666666.\n",
      "[I 2025-02-05 17:23:44,478] Trial 36 finished with value: 0.6777777777777777 and parameters: {'k': 38}. Best is trial 3 with value: 0.7666666666666666.\n",
      "[I 2025-02-05 17:23:44,492] Trial 37 finished with value: 0.6555555555555554 and parameters: {'k': 25}. Best is trial 3 with value: 0.7666666666666666.\n",
      "[I 2025-02-05 17:23:44,502] Trial 38 finished with value: 0.7888888888888889 and parameters: {'k': 7}. Best is trial 38 with value: 0.7888888888888889.\n",
      "[I 2025-02-05 17:23:44,511] Trial 39 finished with value: 0.6666666666666666 and parameters: {'k': 24}. Best is trial 38 with value: 0.7888888888888889.\n",
      "[I 2025-02-05 17:23:44,520] Trial 40 finished with value: 0.6888888888888889 and parameters: {'k': 37}. Best is trial 38 with value: 0.7888888888888889.\n",
      "[I 2025-02-05 17:23:44,530] Trial 41 finished with value: 0.6555555555555556 and parameters: {'k': 22}. Best is trial 38 with value: 0.7888888888888889.\n",
      "[I 2025-02-05 17:23:44,540] Trial 42 finished with value: 0.6888888888888889 and parameters: {'k': 20}. Best is trial 38 with value: 0.7888888888888889.\n",
      "[I 2025-02-05 17:23:44,550] Trial 43 finished with value: 0.711111111111111 and parameters: {'k': 10}. Best is trial 38 with value: 0.7888888888888889.\n",
      "[I 2025-02-05 17:23:44,561] Trial 44 finished with value: 0.7333333333333334 and parameters: {'k': 40}. Best is trial 38 with value: 0.7888888888888889.\n",
      "[I 2025-02-05 17:23:44,574] Trial 45 finished with value: 0.6666666666666666 and parameters: {'k': 47}. Best is trial 38 with value: 0.7888888888888889.\n",
      "[I 2025-02-05 17:23:44,585] Trial 46 finished with value: 0.5777777777777777 and parameters: {'k': 4}. Best is trial 38 with value: 0.7888888888888889.\n",
      "[I 2025-02-05 17:23:44,597] Trial 47 finished with value: 0.5888888888888889 and parameters: {'k': 1}. Best is trial 38 with value: 0.7888888888888889.\n",
      "[I 2025-02-05 17:23:44,629] Trial 48 finished with value: 0.6666666666666666 and parameters: {'k': 48}. Best is trial 38 with value: 0.7888888888888889.\n",
      "[I 2025-02-05 17:23:44,650] Trial 49 finished with value: 0.6888888888888889 and parameters: {'k': 45}. Best is trial 38 with value: 0.7888888888888889.\n",
      "[I 2025-02-05 17:23:44,676] A new study created in memory with name: no-name-ede9d439-7b78-4eab-bdd3-c6db0cbb142b\n",
      "[I 2025-02-05 17:23:44,700] Trial 0 finished with value: 0.575 and parameters: {'k': 29}. Best is trial 0 with value: 0.575.\n",
      "[I 2025-02-05 17:23:44,733] Trial 1 finished with value: 0.7125 and parameters: {'k': 12}. Best is trial 1 with value: 0.7125.\n",
      "[I 2025-02-05 17:23:44,753] Trial 2 finished with value: 0.65 and parameters: {'k': 11}. Best is trial 1 with value: 0.7125.\n",
      "[I 2025-02-05 17:23:44,765] Trial 3 finished with value: 0.5125 and parameters: {'k': 42}. Best is trial 1 with value: 0.7125.\n",
      "[I 2025-02-05 17:23:44,784] Trial 4 finished with value: 0.625 and parameters: {'k': 3}. Best is trial 1 with value: 0.7125.\n",
      "[I 2025-02-05 17:23:44,794] Trial 5 finished with value: 0.4875 and parameters: {'k': 28}. Best is trial 1 with value: 0.7125.\n",
      "[I 2025-02-05 17:23:44,809] Trial 6 finished with value: 0.6125 and parameters: {'k': 39}. Best is trial 1 with value: 0.7125.\n",
      "[I 2025-02-05 17:23:44,827] Trial 7 finished with value: 0.6375 and parameters: {'k': 32}. Best is trial 1 with value: 0.7125.\n",
      "[I 2025-02-05 17:23:44,838] Trial 8 finished with value: 0.5125 and parameters: {'k': 23}. Best is trial 1 with value: 0.7125.\n",
      "[I 2025-02-05 17:23:44,855] Trial 9 finished with value: 0.7250000000000001 and parameters: {'k': 5}. Best is trial 9 with value: 0.7250000000000001.\n",
      "[I 2025-02-05 17:23:44,869] Trial 10 finished with value: 0.7 and parameters: {'k': 34}. Best is trial 9 with value: 0.7250000000000001.\n",
      "[I 2025-02-05 17:23:44,876] Trial 11 finished with value: 0.6625000000000001 and parameters: {'k': 36}. Best is trial 9 with value: 0.7250000000000001.\n",
      "[I 2025-02-05 17:23:44,886] Trial 12 finished with value: 0.46249999999999997 and parameters: {'k': 27}. Best is trial 9 with value: 0.7250000000000001.\n",
      "[I 2025-02-05 17:23:44,900] Trial 13 finished with value: 0.7 and parameters: {'k': 35}. Best is trial 9 with value: 0.7250000000000001.\n",
      "[I 2025-02-05 17:23:44,920] Trial 14 finished with value: 0.5375 and parameters: {'k': 19}. Best is trial 9 with value: 0.7250000000000001.\n",
      "[I 2025-02-05 17:23:44,926] Trial 15 finished with value: 0.625 and parameters: {'k': 8}. Best is trial 9 with value: 0.7250000000000001.\n",
      "[I 2025-02-05 17:23:44,932] Trial 16 finished with value: 0.6875 and parameters: {'k': 15}. Best is trial 9 with value: 0.7250000000000001.\n",
      "[I 2025-02-05 17:23:44,940] Trial 17 finished with value: 0.425 and parameters: {'k': 46}. Best is trial 9 with value: 0.7250000000000001.\n",
      "[I 2025-02-05 17:23:44,947] Trial 18 finished with value: 0.45 and parameters: {'k': 49}. Best is trial 9 with value: 0.7250000000000001.\n",
      "[I 2025-02-05 17:23:44,954] Trial 19 finished with value: 0.575 and parameters: {'k': 30}. Best is trial 9 with value: 0.7250000000000001.\n",
      "[I 2025-02-05 17:23:44,962] Trial 20 finished with value: 0.6375 and parameters: {'k': 16}. Best is trial 9 with value: 0.7250000000000001.\n",
      "[I 2025-02-05 17:23:44,973] Trial 21 finished with value: 0.5625 and parameters: {'k': 31}. Best is trial 9 with value: 0.7250000000000001.\n",
      "[I 2025-02-05 17:23:44,987] Trial 22 finished with value: 0.65 and parameters: {'k': 33}. Best is trial 9 with value: 0.7250000000000001.\n",
      "[I 2025-02-05 17:23:44,999] Trial 23 finished with value: 0.5875 and parameters: {'k': 17}. Best is trial 9 with value: 0.7250000000000001.\n",
      "[I 2025-02-05 17:23:45,033] Trial 24 finished with value: 0.5249999999999999 and parameters: {'k': 43}. Best is trial 9 with value: 0.7250000000000001.\n",
      "[I 2025-02-05 17:23:45,061] Trial 25 finished with value: 0.55 and parameters: {'k': 21}. Best is trial 9 with value: 0.7250000000000001.\n",
      "[I 2025-02-05 17:23:45,080] Trial 26 finished with value: 0.525 and parameters: {'k': 44}. Best is trial 9 with value: 0.7250000000000001.\n",
      "[I 2025-02-05 17:23:45,100] Trial 27 finished with value: 0.5875 and parameters: {'k': 9}. Best is trial 9 with value: 0.7250000000000001.\n",
      "[I 2025-02-05 17:23:45,118] Trial 28 finished with value: 0.7 and parameters: {'k': 14}. Best is trial 9 with value: 0.7250000000000001.\n",
      "[I 2025-02-05 17:23:45,127] Trial 29 finished with value: 0.4125 and parameters: {'k': 26}. Best is trial 9 with value: 0.7250000000000001.\n",
      "[I 2025-02-05 17:23:45,165] Trial 30 finished with value: 0.6749999999999999 and parameters: {'k': 6}. Best is trial 9 with value: 0.7250000000000001.\n",
      "[I 2025-02-05 17:23:45,194] Trial 31 finished with value: 0.5625 and parameters: {'k': 18}. Best is trial 9 with value: 0.7250000000000001.\n",
      "[I 2025-02-05 17:23:45,226] Trial 32 finished with value: 0.5375 and parameters: {'k': 41}. Best is trial 9 with value: 0.7250000000000001.\n",
      "[I 2025-02-05 17:23:45,245] Trial 33 finished with value: 0.42499999999999993 and parameters: {'k': 50}. Best is trial 9 with value: 0.7250000000000001.\n",
      "[I 2025-02-05 17:23:45,256] Trial 34 finished with value: 0.575 and parameters: {'k': 2}. Best is trial 9 with value: 0.7250000000000001.\n",
      "[I 2025-02-05 17:23:45,266] Trial 35 finished with value: 0.75 and parameters: {'k': 13}. Best is trial 35 with value: 0.75.\n",
      "[I 2025-02-05 17:23:45,282] Trial 36 finished with value: 0.625 and parameters: {'k': 38}. Best is trial 35 with value: 0.75.\n",
      "[I 2025-02-05 17:23:45,309] Trial 37 finished with value: 0.4125 and parameters: {'k': 25}. Best is trial 35 with value: 0.75.\n",
      "[I 2025-02-05 17:23:45,322] Trial 38 finished with value: 0.6375000000000001 and parameters: {'k': 7}. Best is trial 35 with value: 0.75.\n",
      "[I 2025-02-05 17:23:45,333] Trial 39 finished with value: 0.46249999999999997 and parameters: {'k': 24}. Best is trial 35 with value: 0.75.\n",
      "[I 2025-02-05 17:23:45,345] Trial 40 finished with value: 0.6625000000000001 and parameters: {'k': 37}. Best is trial 35 with value: 0.75.\n",
      "[I 2025-02-05 17:23:45,363] Trial 41 finished with value: 0.55 and parameters: {'k': 22}. Best is trial 35 with value: 0.75.\n",
      "[I 2025-02-05 17:23:45,390] Trial 42 finished with value: 0.525 and parameters: {'k': 20}. Best is trial 35 with value: 0.75.\n",
      "[I 2025-02-05 17:23:45,403] Trial 43 finished with value: 0.5625 and parameters: {'k': 10}. Best is trial 35 with value: 0.75.\n",
      "[I 2025-02-05 17:23:45,417] Trial 44 finished with value: 0.6125 and parameters: {'k': 40}. Best is trial 35 with value: 0.75.\n",
      "[I 2025-02-05 17:23:45,432] Trial 45 finished with value: 0.4625 and parameters: {'k': 47}. Best is trial 35 with value: 0.75.\n",
      "[I 2025-02-05 17:23:45,467] Trial 46 finished with value: 0.6875 and parameters: {'k': 4}. Best is trial 35 with value: 0.75.\n",
      "[I 2025-02-05 17:23:45,498] Trial 47 finished with value: 0.375 and parameters: {'k': 1}. Best is trial 35 with value: 0.75.\n",
      "[I 2025-02-05 17:23:45,517] Trial 48 finished with value: 0.46249999999999997 and parameters: {'k': 48}. Best is trial 35 with value: 0.75.\n",
      "[I 2025-02-05 17:23:45,547] Trial 49 finished with value: 0.5 and parameters: {'k': 45}. Best is trial 35 with value: 0.75.\n",
      "[I 2025-02-05 17:23:45,558] A new study created in memory with name: no-name-fb0d2ef1-8e7e-40a9-9818-215a2fe5945d\n",
      "[I 2025-02-05 17:23:45,562] Trial 0 finished with value: 0.625 and parameters: {'k': 29}. Best is trial 0 with value: 0.625.\n",
      "[I 2025-02-05 17:23:45,566] Trial 1 finished with value: 0.375 and parameters: {'k': 12}. Best is trial 0 with value: 0.625.\n",
      "[I 2025-02-05 17:23:45,576] Trial 2 finished with value: 0.41666666666666663 and parameters: {'k': 11}. Best is trial 0 with value: 0.625.\n",
      "[I 2025-02-05 17:23:45,591] Trial 3 finished with value: 0.6666666666666667 and parameters: {'k': 42}. Best is trial 3 with value: 0.6666666666666667.\n",
      "[I 2025-02-05 17:23:45,596] Trial 4 finished with value: 0.3125 and parameters: {'k': 3}. Best is trial 3 with value: 0.6666666666666667.\n",
      "[I 2025-02-05 17:23:45,607] Trial 5 finished with value: 0.6041666666666666 and parameters: {'k': 28}. Best is trial 3 with value: 0.6666666666666667.\n",
      "[I 2025-02-05 17:23:45,613] Trial 6 finished with value: 0.5208333333333334 and parameters: {'k': 39}. Best is trial 3 with value: 0.6666666666666667.\n",
      "[I 2025-02-05 17:23:45,625] Trial 7 finished with value: 0.7083333333333333 and parameters: {'k': 32}. Best is trial 7 with value: 0.7083333333333333.\n",
      "[I 2025-02-05 17:23:45,631] Trial 8 finished with value: 0.625 and parameters: {'k': 23}. Best is trial 7 with value: 0.7083333333333333.\n",
      "[I 2025-02-05 17:23:45,649] Trial 9 finished with value: 0.5625 and parameters: {'k': 5}. Best is trial 7 with value: 0.7083333333333333.\n",
      "[I 2025-02-05 17:23:45,671] Trial 10 finished with value: 0.6666666666666667 and parameters: {'k': 34}. Best is trial 7 with value: 0.7083333333333333.\n",
      "[I 2025-02-05 17:23:45,676] Trial 11 finished with value: 0.6041666666666666 and parameters: {'k': 36}. Best is trial 7 with value: 0.7083333333333333.\n",
      "[I 2025-02-05 17:23:45,688] Trial 12 finished with value: 0.5833333333333333 and parameters: {'k': 27}. Best is trial 7 with value: 0.7083333333333333.\n",
      "[I 2025-02-05 17:23:45,706] Trial 13 finished with value: 0.6666666666666666 and parameters: {'k': 35}. Best is trial 7 with value: 0.7083333333333333.\n",
      "[I 2025-02-05 17:23:45,732] Trial 14 finished with value: 0.6458333333333333 and parameters: {'k': 19}. Best is trial 7 with value: 0.7083333333333333.\n",
      "[I 2025-02-05 17:23:45,748] Trial 15 finished with value: 0.47916666666666674 and parameters: {'k': 8}. Best is trial 7 with value: 0.7083333333333333.\n",
      "[I 2025-02-05 17:23:45,754] Trial 16 finished with value: 0.45833333333333337 and parameters: {'k': 15}. Best is trial 7 with value: 0.7083333333333333.\n",
      "[I 2025-02-05 17:23:45,770] Trial 17 finished with value: 0.41666666666666663 and parameters: {'k': 46}. Best is trial 7 with value: 0.7083333333333333.\n",
      "[I 2025-02-05 17:23:45,788] Trial 18 finished with value: 0.5208333333333334 and parameters: {'k': 49}. Best is trial 7 with value: 0.7083333333333333.\n",
      "[I 2025-02-05 17:23:45,838] Trial 19 finished with value: 0.5625 and parameters: {'k': 30}. Best is trial 7 with value: 0.7083333333333333.\n",
      "[I 2025-02-05 17:23:45,863] Trial 20 finished with value: 0.4375 and parameters: {'k': 16}. Best is trial 7 with value: 0.7083333333333333.\n",
      "[I 2025-02-05 17:23:45,875] Trial 21 finished with value: 0.6666666666666667 and parameters: {'k': 31}. Best is trial 7 with value: 0.7083333333333333.\n",
      "[I 2025-02-05 17:23:45,887] Trial 22 finished with value: 0.75 and parameters: {'k': 33}. Best is trial 22 with value: 0.75.\n",
      "[I 2025-02-05 17:23:45,914] Trial 23 finished with value: 0.6041666666666666 and parameters: {'k': 17}. Best is trial 22 with value: 0.75.\n",
      "[I 2025-02-05 17:23:45,922] Trial 24 finished with value: 0.5625 and parameters: {'k': 43}. Best is trial 22 with value: 0.75.\n",
      "[I 2025-02-05 17:23:45,942] Trial 25 finished with value: 0.5416666666666666 and parameters: {'k': 21}. Best is trial 22 with value: 0.75.\n",
      "[I 2025-02-05 17:23:45,955] Trial 26 finished with value: 0.4791666666666667 and parameters: {'k': 44}. Best is trial 22 with value: 0.75.\n",
      "[I 2025-02-05 17:23:45,968] Trial 27 finished with value: 0.4583333333333333 and parameters: {'k': 9}. Best is trial 22 with value: 0.75.\n",
      "[I 2025-02-05 17:23:45,988] Trial 28 finished with value: 0.5208333333333334 and parameters: {'k': 14}. Best is trial 22 with value: 0.75.\n",
      "[I 2025-02-05 17:23:46,002] Trial 29 finished with value: 0.41666666666666663 and parameters: {'k': 26}. Best is trial 22 with value: 0.75.\n",
      "[I 2025-02-05 17:23:46,026] Trial 30 finished with value: 0.3541666666666667 and parameters: {'k': 6}. Best is trial 22 with value: 0.75.\n",
      "[I 2025-02-05 17:23:46,040] Trial 31 finished with value: 0.5833333333333333 and parameters: {'k': 18}. Best is trial 22 with value: 0.75.\n",
      "[I 2025-02-05 17:23:46,098] Trial 32 finished with value: 0.5625 and parameters: {'k': 41}. Best is trial 22 with value: 0.75.\n",
      "[I 2025-02-05 17:23:46,146] Trial 33 finished with value: 0.5 and parameters: {'k': 50}. Best is trial 22 with value: 0.75.\n",
      "[I 2025-02-05 17:23:46,191] Trial 34 finished with value: 0.125 and parameters: {'k': 2}. Best is trial 22 with value: 0.75.\n",
      "[I 2025-02-05 17:23:46,208] Trial 35 finished with value: 0.3541666666666667 and parameters: {'k': 13}. Best is trial 22 with value: 0.75.\n",
      "[I 2025-02-05 17:23:46,221] Trial 36 finished with value: 0.5625 and parameters: {'k': 38}. Best is trial 22 with value: 0.75.\n",
      "[I 2025-02-05 17:23:46,299] Trial 37 finished with value: 0.45833333333333337 and parameters: {'k': 25}. Best is trial 22 with value: 0.75.\n",
      "[I 2025-02-05 17:23:46,325] Trial 38 finished with value: 0.45833333333333337 and parameters: {'k': 7}. Best is trial 22 with value: 0.75.\n",
      "[I 2025-02-05 17:23:46,384] Trial 39 finished with value: 0.5416666666666666 and parameters: {'k': 24}. Best is trial 22 with value: 0.75.\n",
      "[I 2025-02-05 17:23:46,450] Trial 40 finished with value: 0.5416666666666667 and parameters: {'k': 37}. Best is trial 22 with value: 0.75.\n",
      "[I 2025-02-05 17:23:46,474] Trial 41 finished with value: 0.5416666666666667 and parameters: {'k': 22}. Best is trial 22 with value: 0.75.\n",
      "[I 2025-02-05 17:23:46,530] Trial 42 finished with value: 0.6041666666666666 and parameters: {'k': 20}. Best is trial 22 with value: 0.75.\n",
      "[I 2025-02-05 17:23:46,567] Trial 43 finished with value: 0.4166666666666667 and parameters: {'k': 10}. Best is trial 22 with value: 0.75.\n",
      "[I 2025-02-05 17:23:46,590] Trial 44 finished with value: 0.6458333333333334 and parameters: {'k': 40}. Best is trial 22 with value: 0.75.\n",
      "[I 2025-02-05 17:23:46,608] Trial 45 finished with value: 0.4375 and parameters: {'k': 47}. Best is trial 22 with value: 0.75.\n",
      "[I 2025-02-05 17:23:46,722] Trial 46 finished with value: 0.4791666666666667 and parameters: {'k': 4}. Best is trial 22 with value: 0.75.\n",
      "[I 2025-02-05 17:23:46,777] Trial 47 finished with value: 0.25 and parameters: {'k': 1}. Best is trial 22 with value: 0.75.\n",
      "[I 2025-02-05 17:23:46,793] Trial 48 finished with value: 0.37499999999999994 and parameters: {'k': 48}. Best is trial 22 with value: 0.75.\n",
      "[I 2025-02-05 17:23:46,816] Trial 49 finished with value: 0.43749999999999994 and parameters: {'k': 45}. Best is trial 22 with value: 0.75.\n",
      "[I 2025-02-05 17:23:46,833] A new study created in memory with name: no-name-d5f3c6f3-75cd-48ec-85d5-79d09bbead92\n",
      "[I 2025-02-05 17:23:46,851] Trial 0 finished with value: 0.5 and parameters: {'k': 29}. Best is trial 0 with value: 0.5.\n",
      "[I 2025-02-05 17:23:46,856] Trial 1 finished with value: 0.5151515151515152 and parameters: {'k': 12}. Best is trial 1 with value: 0.5151515151515152.\n",
      "[I 2025-02-05 17:23:46,869] Trial 2 finished with value: 0.5454545454545454 and parameters: {'k': 11}. Best is trial 2 with value: 0.5454545454545454.\n",
      "[I 2025-02-05 17:23:46,884] Trial 3 finished with value: 0.5909090909090909 and parameters: {'k': 42}. Best is trial 3 with value: 0.5909090909090909.\n",
      "[I 2025-02-05 17:23:46,892] Trial 4 finished with value: 0.6363636363636364 and parameters: {'k': 3}. Best is trial 4 with value: 0.6363636363636364.\n",
      "[I 2025-02-05 17:23:46,919] Trial 5 finished with value: 0.5151515151515151 and parameters: {'k': 28}. Best is trial 4 with value: 0.6363636363636364.\n",
      "[I 2025-02-05 17:23:46,931] Trial 6 finished with value: 0.5303030303030303 and parameters: {'k': 39}. Best is trial 4 with value: 0.6363636363636364.\n",
      "[I 2025-02-05 17:23:46,941] Trial 7 finished with value: 0.5151515151515151 and parameters: {'k': 32}. Best is trial 4 with value: 0.6363636363636364.\n",
      "[I 2025-02-05 17:23:46,955] Trial 8 finished with value: 0.5454545454545455 and parameters: {'k': 23}. Best is trial 4 with value: 0.6363636363636364.\n",
      "[I 2025-02-05 17:23:46,961] Trial 9 finished with value: 0.6666666666666667 and parameters: {'k': 5}. Best is trial 9 with value: 0.6666666666666667.\n",
      "[I 2025-02-05 17:23:46,967] Trial 10 finished with value: 0.5757575757575758 and parameters: {'k': 34}. Best is trial 9 with value: 0.6666666666666667.\n",
      "[I 2025-02-05 17:23:46,986] Trial 11 finished with value: 0.48484848484848486 and parameters: {'k': 36}. Best is trial 9 with value: 0.6666666666666667.\n",
      "[I 2025-02-05 17:23:47,009] Trial 12 finished with value: 0.5606060606060607 and parameters: {'k': 27}. Best is trial 9 with value: 0.6666666666666667.\n",
      "[I 2025-02-05 17:23:47,020] Trial 13 finished with value: 0.5303030303030303 and parameters: {'k': 35}. Best is trial 9 with value: 0.6666666666666667.\n",
      "[I 2025-02-05 17:23:47,084] Trial 14 finished with value: 0.5303030303030303 and parameters: {'k': 19}. Best is trial 9 with value: 0.6666666666666667.\n",
      "[I 2025-02-05 17:23:47,104] Trial 15 finished with value: 0.48484848484848486 and parameters: {'k': 8}. Best is trial 9 with value: 0.6666666666666667.\n",
      "[I 2025-02-05 17:23:47,110] Trial 16 finished with value: 0.7424242424242424 and parameters: {'k': 15}. Best is trial 16 with value: 0.7424242424242424.\n",
      "[I 2025-02-05 17:23:47,117] Trial 17 finished with value: 0.606060606060606 and parameters: {'k': 46}. Best is trial 16 with value: 0.7424242424242424.\n",
      "[I 2025-02-05 17:23:47,126] Trial 18 finished with value: 0.6515151515151516 and parameters: {'k': 49}. Best is trial 16 with value: 0.7424242424242424.\n",
      "[I 2025-02-05 17:23:47,142] Trial 19 finished with value: 0.5 and parameters: {'k': 30}. Best is trial 16 with value: 0.7424242424242424.\n",
      "[I 2025-02-05 17:23:47,173] Trial 20 finished with value: 0.6212121212121213 and parameters: {'k': 16}. Best is trial 16 with value: 0.7424242424242424.\n",
      "[I 2025-02-05 17:23:47,188] Trial 21 finished with value: 0.43939393939393945 and parameters: {'k': 31}. Best is trial 16 with value: 0.7424242424242424.\n",
      "[I 2025-02-05 17:23:47,199] Trial 22 finished with value: 0.5151515151515151 and parameters: {'k': 33}. Best is trial 16 with value: 0.7424242424242424.\n",
      "[I 2025-02-05 17:23:47,213] Trial 23 finished with value: 0.6060606060606061 and parameters: {'k': 17}. Best is trial 16 with value: 0.7424242424242424.\n",
      "[I 2025-02-05 17:23:47,220] Trial 24 finished with value: 0.6363636363636364 and parameters: {'k': 43}. Best is trial 16 with value: 0.7424242424242424.\n",
      "[I 2025-02-05 17:23:47,249] Trial 25 finished with value: 0.5 and parameters: {'k': 21}. Best is trial 16 with value: 0.7424242424242424.\n",
      "[I 2025-02-05 17:23:47,264] Trial 26 finished with value: 0.6212121212121212 and parameters: {'k': 44}. Best is trial 16 with value: 0.7424242424242424.\n",
      "[I 2025-02-05 17:23:47,282] Trial 27 finished with value: 0.48484848484848486 and parameters: {'k': 9}. Best is trial 16 with value: 0.7424242424242424.\n",
      "[I 2025-02-05 17:23:47,326] Trial 28 finished with value: 0.5757575757575757 and parameters: {'k': 14}. Best is trial 16 with value: 0.7424242424242424.\n",
      "[I 2025-02-05 17:23:47,340] Trial 29 finished with value: 0.5757575757575758 and parameters: {'k': 26}. Best is trial 16 with value: 0.7424242424242424.\n",
      "[I 2025-02-05 17:23:47,361] Trial 30 finished with value: 0.6060606060606061 and parameters: {'k': 6}. Best is trial 16 with value: 0.7424242424242424.\n",
      "[I 2025-02-05 17:23:47,376] Trial 31 finished with value: 0.5757575757575758 and parameters: {'k': 18}. Best is trial 16 with value: 0.7424242424242424.\n",
      "[I 2025-02-05 17:23:47,415] Trial 32 finished with value: 0.5909090909090909 and parameters: {'k': 41}. Best is trial 16 with value: 0.7424242424242424.\n",
      "[I 2025-02-05 17:23:47,462] Trial 33 finished with value: 0.6818181818181818 and parameters: {'k': 50}. Best is trial 16 with value: 0.7424242424242424.\n",
      "[I 2025-02-05 17:23:47,509] Trial 34 finished with value: 0.2727272727272727 and parameters: {'k': 2}. Best is trial 16 with value: 0.7424242424242424.\n",
      "[I 2025-02-05 17:23:47,537] Trial 35 finished with value: 0.46969696969696967 and parameters: {'k': 13}. Best is trial 16 with value: 0.7424242424242424.\n",
      "[I 2025-02-05 17:23:47,573] Trial 36 finished with value: 0.5303030303030303 and parameters: {'k': 38}. Best is trial 16 with value: 0.7424242424242424.\n",
      "[I 2025-02-05 17:23:47,589] Trial 37 finished with value: 0.6060606060606062 and parameters: {'k': 25}. Best is trial 16 with value: 0.7424242424242424.\n",
      "[I 2025-02-05 17:23:47,605] Trial 38 finished with value: 0.5454545454545454 and parameters: {'k': 7}. Best is trial 16 with value: 0.7424242424242424.\n",
      "[I 2025-02-05 17:23:47,615] Trial 39 finished with value: 0.6212121212121213 and parameters: {'k': 24}. Best is trial 16 with value: 0.7424242424242424.\n",
      "[I 2025-02-05 17:23:47,631] Trial 40 finished with value: 0.5 and parameters: {'k': 37}. Best is trial 16 with value: 0.7424242424242424.\n",
      "[I 2025-02-05 17:23:47,658] Trial 41 finished with value: 0.5606060606060606 and parameters: {'k': 22}. Best is trial 16 with value: 0.7424242424242424.\n",
      "[I 2025-02-05 17:23:47,704] Trial 42 finished with value: 0.5 and parameters: {'k': 20}. Best is trial 16 with value: 0.7424242424242424.\n",
      "[I 2025-02-05 17:23:47,761] Trial 43 finished with value: 0.48484848484848486 and parameters: {'k': 10}. Best is trial 16 with value: 0.7424242424242424.\n",
      "[I 2025-02-05 17:23:47,786] Trial 44 finished with value: 0.5303030303030304 and parameters: {'k': 40}. Best is trial 16 with value: 0.7424242424242424.\n",
      "[I 2025-02-05 17:23:47,822] Trial 45 finished with value: 0.6666666666666666 and parameters: {'k': 47}. Best is trial 16 with value: 0.7424242424242424.\n",
      "[I 2025-02-05 17:23:47,840] Trial 46 finished with value: 0.7272727272727273 and parameters: {'k': 4}. Best is trial 16 with value: 0.7424242424242424.\n",
      "[I 2025-02-05 17:23:47,853] Trial 47 finished with value: 0.45454545454545453 and parameters: {'k': 1}. Best is trial 16 with value: 0.7424242424242424.\n",
      "[I 2025-02-05 17:23:47,890] Trial 48 finished with value: 0.696969696969697 and parameters: {'k': 48}. Best is trial 16 with value: 0.7424242424242424.\n",
      "[I 2025-02-05 17:23:47,919] Trial 49 finished with value: 0.6363636363636365 and parameters: {'k': 45}. Best is trial 16 with value: 0.7424242424242424.\n",
      "[I 2025-02-05 17:23:47,952] A new study created in memory with name: no-name-c6a37e5e-e2a8-47f2-a0b4-29647913ab7b\n",
      "[I 2025-02-05 17:23:47,984] Trial 0 finished with value: 0.2875 and parameters: {'k': 29}. Best is trial 0 with value: 0.2875.\n",
      "[I 2025-02-05 17:23:47,998] Trial 1 finished with value: 0.625 and parameters: {'k': 12}. Best is trial 1 with value: 0.625.\n",
      "[I 2025-02-05 17:23:48,023] Trial 2 finished with value: 0.4625 and parameters: {'k': 11}. Best is trial 1 with value: 0.625.\n",
      "[I 2025-02-05 17:23:48,045] Trial 3 finished with value: 0.2 and parameters: {'k': 42}. Best is trial 1 with value: 0.625.\n",
      "[I 2025-02-05 17:23:48,057] Trial 4 finished with value: 0.5750000000000001 and parameters: {'k': 3}. Best is trial 1 with value: 0.625.\n",
      "[I 2025-02-05 17:23:48,075] Trial 5 finished with value: 0.2875 and parameters: {'k': 28}. Best is trial 1 with value: 0.625.\n",
      "[I 2025-02-05 17:23:48,091] Trial 6 finished with value: 0.2125 and parameters: {'k': 39}. Best is trial 1 with value: 0.625.\n",
      "[I 2025-02-05 17:23:48,104] Trial 7 finished with value: 0.21250000000000002 and parameters: {'k': 32}. Best is trial 1 with value: 0.625.\n",
      "[I 2025-02-05 17:23:48,116] Trial 8 finished with value: 0.425 and parameters: {'k': 23}. Best is trial 1 with value: 0.625.\n",
      "[I 2025-02-05 17:23:48,123] Trial 9 finished with value: 0.5250000000000001 and parameters: {'k': 5}. Best is trial 1 with value: 0.625.\n",
      "[I 2025-02-05 17:23:48,141] Trial 10 finished with value: 0.25 and parameters: {'k': 34}. Best is trial 1 with value: 0.625.\n",
      "[I 2025-02-05 17:23:48,150] Trial 11 finished with value: 0.225 and parameters: {'k': 36}. Best is trial 1 with value: 0.625.\n",
      "[I 2025-02-05 17:23:48,159] Trial 12 finished with value: 0.3 and parameters: {'k': 27}. Best is trial 1 with value: 0.625.\n",
      "[I 2025-02-05 17:23:48,180] Trial 13 finished with value: 0.30000000000000004 and parameters: {'k': 35}. Best is trial 1 with value: 0.625.\n",
      "[I 2025-02-05 17:23:48,215] Trial 14 finished with value: 0.375 and parameters: {'k': 19}. Best is trial 1 with value: 0.625.\n",
      "[I 2025-02-05 17:23:48,238] Trial 15 finished with value: 0.45000000000000007 and parameters: {'k': 8}. Best is trial 1 with value: 0.625.\n",
      "[I 2025-02-05 17:23:48,252] Trial 16 finished with value: 0.6375 and parameters: {'k': 15}. Best is trial 16 with value: 0.6375.\n",
      "[I 2025-02-05 17:23:48,270] Trial 17 finished with value: 0.55 and parameters: {'k': 46}. Best is trial 16 with value: 0.6375.\n",
      "[I 2025-02-05 17:23:48,283] Trial 18 finished with value: 0.6875 and parameters: {'k': 49}. Best is trial 18 with value: 0.6875.\n",
      "[I 2025-02-05 17:23:48,295] Trial 19 finished with value: 0.3125 and parameters: {'k': 30}. Best is trial 18 with value: 0.6875.\n",
      "[I 2025-02-05 17:23:48,308] Trial 20 finished with value: 0.6 and parameters: {'k': 16}. Best is trial 18 with value: 0.6875.\n",
      "[I 2025-02-05 17:23:48,321] Trial 21 finished with value: 0.2625 and parameters: {'k': 31}. Best is trial 18 with value: 0.6875.\n",
      "[I 2025-02-05 17:23:48,338] Trial 22 finished with value: 0.3 and parameters: {'k': 33}. Best is trial 18 with value: 0.6875.\n",
      "[I 2025-02-05 17:23:48,354] Trial 23 finished with value: 0.47500000000000003 and parameters: {'k': 17}. Best is trial 18 with value: 0.6875.\n",
      "[I 2025-02-05 17:23:48,368] Trial 24 finished with value: 0.275 and parameters: {'k': 43}. Best is trial 18 with value: 0.6875.\n",
      "[I 2025-02-05 17:23:48,403] Trial 25 finished with value: 0.425 and parameters: {'k': 21}. Best is trial 18 with value: 0.6875.\n",
      "[I 2025-02-05 17:23:48,448] Trial 26 finished with value: 0.3625 and parameters: {'k': 44}. Best is trial 18 with value: 0.6875.\n",
      "[I 2025-02-05 17:23:48,471] Trial 27 finished with value: 0.45000000000000007 and parameters: {'k': 9}. Best is trial 18 with value: 0.6875.\n",
      "[I 2025-02-05 17:23:48,495] Trial 28 finished with value: 0.6749999999999999 and parameters: {'k': 14}. Best is trial 18 with value: 0.6875.\n",
      "[I 2025-02-05 17:23:48,544] Trial 29 finished with value: 0.30000000000000004 and parameters: {'k': 26}. Best is trial 18 with value: 0.6875.\n",
      "[I 2025-02-05 17:23:48,560] Trial 30 finished with value: 0.4625 and parameters: {'k': 6}. Best is trial 18 with value: 0.6875.\n",
      "[I 2025-02-05 17:23:48,624] Trial 31 finished with value: 0.38749999999999996 and parameters: {'k': 18}. Best is trial 18 with value: 0.6875.\n",
      "[I 2025-02-05 17:23:48,647] Trial 32 finished with value: 0.21250000000000002 and parameters: {'k': 41}. Best is trial 18 with value: 0.6875.\n",
      "[I 2025-02-05 17:23:48,686] Trial 33 finished with value: 0.6000000000000001 and parameters: {'k': 50}. Best is trial 18 with value: 0.6875.\n",
      "[I 2025-02-05 17:23:48,731] Trial 34 finished with value: 0.675 and parameters: {'k': 2}. Best is trial 18 with value: 0.6875.\n",
      "[I 2025-02-05 17:23:48,790] Trial 35 finished with value: 0.625 and parameters: {'k': 13}. Best is trial 18 with value: 0.6875.\n",
      "[I 2025-02-05 17:23:48,882] Trial 36 finished with value: 0.23750000000000002 and parameters: {'k': 38}. Best is trial 18 with value: 0.6875.\n",
      "[I 2025-02-05 17:23:48,976] Trial 37 finished with value: 0.3 and parameters: {'k': 25}. Best is trial 18 with value: 0.6875.\n",
      "[I 2025-02-05 17:23:49,083] Trial 38 finished with value: 0.46249999999999997 and parameters: {'k': 7}. Best is trial 18 with value: 0.6875.\n",
      "[I 2025-02-05 17:23:49,140] Trial 39 finished with value: 0.275 and parameters: {'k': 24}. Best is trial 18 with value: 0.6875.\n",
      "[I 2025-02-05 17:23:49,161] Trial 40 finished with value: 0.19999999999999998 and parameters: {'k': 37}. Best is trial 18 with value: 0.6875.\n",
      "[I 2025-02-05 17:23:49,206] Trial 41 finished with value: 0.33749999999999997 and parameters: {'k': 22}. Best is trial 18 with value: 0.6875.\n",
      "[I 2025-02-05 17:23:49,275] Trial 42 finished with value: 0.47500000000000003 and parameters: {'k': 20}. Best is trial 18 with value: 0.6875.\n",
      "[I 2025-02-05 17:23:49,344] Trial 43 finished with value: 0.44999999999999996 and parameters: {'k': 10}. Best is trial 18 with value: 0.6875.\n",
      "[I 2025-02-05 17:23:49,394] Trial 44 finished with value: 0.2625 and parameters: {'k': 40}. Best is trial 18 with value: 0.6875.\n",
      "[I 2025-02-05 17:23:49,423] Trial 45 finished with value: 0.6125 and parameters: {'k': 47}. Best is trial 18 with value: 0.6875.\n",
      "[I 2025-02-05 17:23:49,473] Trial 46 finished with value: 0.5 and parameters: {'k': 4}. Best is trial 18 with value: 0.6875.\n",
      "[I 2025-02-05 17:23:49,490] Trial 47 finished with value: 0.75 and parameters: {'k': 1}. Best is trial 47 with value: 0.75.\n",
      "[I 2025-02-05 17:23:49,574] Trial 48 finished with value: 0.775 and parameters: {'k': 48}. Best is trial 48 with value: 0.775.\n",
      "[I 2025-02-05 17:23:49,691] Trial 49 finished with value: 0.48749999999999993 and parameters: {'k': 45}. Best is trial 48 with value: 0.775.\n",
      "[I 2025-02-05 17:23:49,740] A new study created in memory with name: no-name-3315d46b-4d3b-45a5-8ebb-b2f87c91515c\n",
      "[I 2025-02-05 17:23:49,768] Trial 0 finished with value: 0.2888888888888889 and parameters: {'k': 29}. Best is trial 0 with value: 0.2888888888888889.\n",
      "[I 2025-02-05 17:23:49,852] Trial 1 finished with value: 0.5 and parameters: {'k': 12}. Best is trial 1 with value: 0.5.\n",
      "[I 2025-02-05 17:23:49,875] Trial 2 finished with value: 0.5111111111111111 and parameters: {'k': 11}. Best is trial 2 with value: 0.5111111111111111.\n",
      "[I 2025-02-05 17:23:49,880] Trial 3 finished with value: 0.5888888888888889 and parameters: {'k': 42}. Best is trial 3 with value: 0.5888888888888889.\n",
      "[I 2025-02-05 17:23:49,893] Trial 4 finished with value: 0.2333333333333333 and parameters: {'k': 3}. Best is trial 3 with value: 0.5888888888888889.\n",
      "[I 2025-02-05 17:23:49,921] Trial 5 finished with value: 0.2222222222222222 and parameters: {'k': 28}. Best is trial 3 with value: 0.5888888888888889.\n",
      "[I 2025-02-05 17:23:49,969] Trial 6 finished with value: 0.5222222222222223 and parameters: {'k': 39}. Best is trial 3 with value: 0.5888888888888889.\n",
      "[I 2025-02-05 17:23:50,029] Trial 7 finished with value: 0.5333333333333333 and parameters: {'k': 32}. Best is trial 3 with value: 0.5888888888888889.\n",
      "[I 2025-02-05 17:23:50,055] Trial 8 finished with value: 0.24444444444444446 and parameters: {'k': 23}. Best is trial 3 with value: 0.5888888888888889.\n",
      "[I 2025-02-05 17:23:50,065] Trial 9 finished with value: 0.15555555555555556 and parameters: {'k': 5}. Best is trial 3 with value: 0.5888888888888889.\n",
      "[I 2025-02-05 17:23:50,102] Trial 10 finished with value: 0.6444444444444444 and parameters: {'k': 34}. Best is trial 10 with value: 0.6444444444444444.\n",
      "[I 2025-02-05 17:23:50,123] Trial 11 finished with value: 0.7333333333333334 and parameters: {'k': 36}. Best is trial 11 with value: 0.7333333333333334.\n",
      "[I 2025-02-05 17:23:50,146] Trial 12 finished with value: 0.26666666666666666 and parameters: {'k': 27}. Best is trial 11 with value: 0.7333333333333334.\n",
      "[I 2025-02-05 17:23:50,161] Trial 13 finished with value: 0.7333333333333333 and parameters: {'k': 35}. Best is trial 11 with value: 0.7333333333333334.\n",
      "[I 2025-02-05 17:23:50,182] Trial 14 finished with value: 0.3 and parameters: {'k': 19}. Best is trial 11 with value: 0.7333333333333334.\n",
      "[I 2025-02-05 17:23:50,204] Trial 15 finished with value: 0.28888888888888886 and parameters: {'k': 8}. Best is trial 11 with value: 0.7333333333333334.\n",
      "[I 2025-02-05 17:23:50,230] Trial 16 finished with value: 0.5555555555555555 and parameters: {'k': 15}. Best is trial 11 with value: 0.7333333333333334.\n",
      "[I 2025-02-05 17:23:50,251] Trial 17 finished with value: 0.6555555555555556 and parameters: {'k': 46}. Best is trial 11 with value: 0.7333333333333334.\n",
      "[I 2025-02-05 17:23:50,274] Trial 18 finished with value: 0.5555555555555556 and parameters: {'k': 49}. Best is trial 11 with value: 0.7333333333333334.\n",
      "[I 2025-02-05 17:23:50,289] Trial 19 finished with value: 0.32222222222222224 and parameters: {'k': 30}. Best is trial 11 with value: 0.7333333333333334.\n",
      "[I 2025-02-05 17:23:50,309] Trial 20 finished with value: 0.47777777777777775 and parameters: {'k': 16}. Best is trial 11 with value: 0.7333333333333334.\n",
      "[I 2025-02-05 17:23:50,329] Trial 21 finished with value: 0.36666666666666664 and parameters: {'k': 31}. Best is trial 11 with value: 0.7333333333333334.\n",
      "[I 2025-02-05 17:23:50,347] Trial 22 finished with value: 0.5555555555555556 and parameters: {'k': 33}. Best is trial 11 with value: 0.7333333333333334.\n",
      "[I 2025-02-05 17:23:50,360] Trial 23 finished with value: 0.4444444444444444 and parameters: {'k': 17}. Best is trial 11 with value: 0.7333333333333334.\n",
      "[I 2025-02-05 17:23:50,376] Trial 24 finished with value: 0.5888888888888889 and parameters: {'k': 43}. Best is trial 11 with value: 0.7333333333333334.\n",
      "[I 2025-02-05 17:23:50,400] Trial 25 finished with value: 0.24444444444444444 and parameters: {'k': 21}. Best is trial 11 with value: 0.7333333333333334.\n",
      "[I 2025-02-05 17:23:50,461] Trial 26 finished with value: 0.6222222222222222 and parameters: {'k': 44}. Best is trial 11 with value: 0.7333333333333334.\n",
      "[I 2025-02-05 17:23:50,481] Trial 27 finished with value: 0.2555555555555555 and parameters: {'k': 9}. Best is trial 11 with value: 0.7333333333333334.\n",
      "[I 2025-02-05 17:23:50,534] Trial 28 finished with value: 0.5555555555555556 and parameters: {'k': 14}. Best is trial 11 with value: 0.7333333333333334.\n",
      "[I 2025-02-05 17:23:50,568] Trial 29 finished with value: 0.3333333333333333 and parameters: {'k': 26}. Best is trial 11 with value: 0.7333333333333334.\n",
      "[I 2025-02-05 17:23:50,618] Trial 30 finished with value: 0.14444444444444443 and parameters: {'k': 6}. Best is trial 11 with value: 0.7333333333333334.\n",
      "[I 2025-02-05 17:23:50,665] Trial 31 finished with value: 0.34444444444444444 and parameters: {'k': 18}. Best is trial 11 with value: 0.7333333333333334.\n",
      "[I 2025-02-05 17:23:50,695] Trial 32 finished with value: 0.5222222222222221 and parameters: {'k': 41}. Best is trial 11 with value: 0.7333333333333334.\n",
      "[I 2025-02-05 17:23:50,779] Trial 33 finished with value: 0.5888888888888888 and parameters: {'k': 50}. Best is trial 11 with value: 0.7333333333333334.\n",
      "[I 2025-02-05 17:23:50,844] Trial 34 finished with value: 0.37777777777777777 and parameters: {'k': 2}. Best is trial 11 with value: 0.7333333333333334.\n",
      "[I 2025-02-05 17:23:50,917] Trial 35 finished with value: 0.4888888888888889 and parameters: {'k': 13}. Best is trial 11 with value: 0.7333333333333334.\n",
      "[I 2025-02-05 17:23:50,958] Trial 36 finished with value: 0.5555555555555556 and parameters: {'k': 38}. Best is trial 11 with value: 0.7333333333333334.\n",
      "[I 2025-02-05 17:23:51,019] Trial 37 finished with value: 0.37777777777777777 and parameters: {'k': 25}. Best is trial 11 with value: 0.7333333333333334.\n",
      "[I 2025-02-05 17:23:51,063] Trial 38 finished with value: 0.1333333333333333 and parameters: {'k': 7}. Best is trial 11 with value: 0.7333333333333334.\n",
      "[I 2025-02-05 17:23:51,084] Trial 39 finished with value: 0.32222222222222224 and parameters: {'k': 24}. Best is trial 11 with value: 0.7333333333333334.\n",
      "[I 2025-02-05 17:23:51,114] Trial 40 finished with value: 0.6222222222222222 and parameters: {'k': 37}. Best is trial 11 with value: 0.7333333333333334.\n",
      "[I 2025-02-05 17:23:51,137] Trial 41 finished with value: 0.26666666666666666 and parameters: {'k': 22}. Best is trial 11 with value: 0.7333333333333334.\n",
      "[I 2025-02-05 17:23:51,155] Trial 42 finished with value: 0.24444444444444444 and parameters: {'k': 20}. Best is trial 11 with value: 0.7333333333333334.\n",
      "[I 2025-02-05 17:23:51,179] Trial 43 finished with value: 0.38888888888888884 and parameters: {'k': 10}. Best is trial 11 with value: 0.7333333333333334.\n",
      "[I 2025-02-05 17:23:51,203] Trial 44 finished with value: 0.5111111111111111 and parameters: {'k': 40}. Best is trial 11 with value: 0.7333333333333334.\n",
      "[I 2025-02-05 17:23:51,225] Trial 45 finished with value: 0.6444444444444444 and parameters: {'k': 47}. Best is trial 11 with value: 0.7333333333333334.\n",
      "[I 2025-02-05 17:23:51,248] Trial 46 finished with value: 0.16666666666666669 and parameters: {'k': 4}. Best is trial 11 with value: 0.7333333333333334.\n",
      "[I 2025-02-05 17:23:51,265] Trial 47 finished with value: 0.5444444444444444 and parameters: {'k': 1}. Best is trial 11 with value: 0.7333333333333334.\n",
      "[I 2025-02-05 17:23:51,291] Trial 48 finished with value: 0.5888888888888888 and parameters: {'k': 48}. Best is trial 11 with value: 0.7333333333333334.\n",
      "[I 2025-02-05 17:23:51,322] Trial 49 finished with value: 0.6 and parameters: {'k': 45}. Best is trial 11 with value: 0.7333333333333334.\n",
      "[I 2025-02-05 17:23:51,350] A new study created in memory with name: no-name-7fdf59b1-61be-44bb-9252-9f53b0f8c489\n",
      "[I 2025-02-05 17:23:51,356] Trial 0 finished with value: 0.35000000000000003 and parameters: {'k': 29}. Best is trial 0 with value: 0.35000000000000003.\n",
      "[I 2025-02-05 17:23:51,382] Trial 1 finished with value: 0.65 and parameters: {'k': 12}. Best is trial 1 with value: 0.65.\n",
      "[I 2025-02-05 17:23:51,405] Trial 2 finished with value: 0.75 and parameters: {'k': 11}. Best is trial 2 with value: 0.75.\n",
      "[I 2025-02-05 17:23:51,489] Trial 3 finished with value: 0.35 and parameters: {'k': 42}. Best is trial 2 with value: 0.75.\n",
      "[I 2025-02-05 17:23:51,523] Trial 4 finished with value: 0.6000000000000001 and parameters: {'k': 3}. Best is trial 2 with value: 0.75.\n",
      "[I 2025-02-05 17:23:51,561] Trial 5 finished with value: 0.35000000000000003 and parameters: {'k': 28}. Best is trial 2 with value: 0.75.\n",
      "[I 2025-02-05 17:23:51,592] Trial 6 finished with value: 0.4625 and parameters: {'k': 39}. Best is trial 2 with value: 0.75.\n",
      "[I 2025-02-05 17:23:51,596] Trial 7 finished with value: 0.3 and parameters: {'k': 32}. Best is trial 2 with value: 0.75.\n",
      "[I 2025-02-05 17:23:51,633] Trial 8 finished with value: 0.4375 and parameters: {'k': 23}. Best is trial 2 with value: 0.75.\n",
      "[I 2025-02-05 17:23:51,639] Trial 9 finished with value: 0.5375000000000001 and parameters: {'k': 5}. Best is trial 2 with value: 0.75.\n",
      "[I 2025-02-05 17:23:51,667] Trial 10 finished with value: 0.3875 and parameters: {'k': 34}. Best is trial 2 with value: 0.75.\n",
      "[I 2025-02-05 17:23:51,675] Trial 11 finished with value: 0.3125 and parameters: {'k': 36}. Best is trial 2 with value: 0.75.\n",
      "[I 2025-02-05 17:23:51,683] Trial 12 finished with value: 0.32500000000000007 and parameters: {'k': 27}. Best is trial 2 with value: 0.75.\n",
      "[I 2025-02-05 17:23:51,700] Trial 13 finished with value: 0.3625 and parameters: {'k': 35}. Best is trial 2 with value: 0.75.\n",
      "[I 2025-02-05 17:23:51,727] Trial 14 finished with value: 0.675 and parameters: {'k': 19}. Best is trial 2 with value: 0.75.\n",
      "[I 2025-02-05 17:23:51,778] Trial 15 finished with value: 0.7125 and parameters: {'k': 8}. Best is trial 2 with value: 0.75.\n",
      "[I 2025-02-05 17:23:51,784] Trial 16 finished with value: 0.5625 and parameters: {'k': 15}. Best is trial 2 with value: 0.75.\n",
      "[I 2025-02-05 17:23:51,801] Trial 17 finished with value: 0.32499999999999996 and parameters: {'k': 46}. Best is trial 2 with value: 0.75.\n",
      "[I 2025-02-05 17:23:51,808] Trial 18 finished with value: 0.375 and parameters: {'k': 49}. Best is trial 2 with value: 0.75.\n",
      "[I 2025-02-05 17:23:51,816] Trial 19 finished with value: 0.325 and parameters: {'k': 30}. Best is trial 2 with value: 0.75.\n",
      "[I 2025-02-05 17:23:51,826] Trial 20 finished with value: 0.6000000000000001 and parameters: {'k': 16}. Best is trial 2 with value: 0.75.\n",
      "[I 2025-02-05 17:23:51,834] Trial 21 finished with value: 0.32500000000000007 and parameters: {'k': 31}. Best is trial 2 with value: 0.75.\n",
      "[I 2025-02-05 17:23:51,843] Trial 22 finished with value: 0.375 and parameters: {'k': 33}. Best is trial 2 with value: 0.75.\n",
      "[I 2025-02-05 17:23:51,854] Trial 23 finished with value: 0.6499999999999999 and parameters: {'k': 17}. Best is trial 2 with value: 0.75.\n",
      "[I 2025-02-05 17:23:51,864] Trial 24 finished with value: 0.25 and parameters: {'k': 43}. Best is trial 2 with value: 0.75.\n",
      "[I 2025-02-05 17:23:51,873] Trial 25 finished with value: 0.5125000000000001 and parameters: {'k': 21}. Best is trial 2 with value: 0.75.\n",
      "[I 2025-02-05 17:23:51,897] Trial 26 finished with value: 0.3 and parameters: {'k': 44}. Best is trial 2 with value: 0.75.\n",
      "[I 2025-02-05 17:23:51,915] Trial 27 finished with value: 0.7249999999999999 and parameters: {'k': 9}. Best is trial 2 with value: 0.75.\n",
      "[I 2025-02-05 17:23:51,941] Trial 28 finished with value: 0.625 and parameters: {'k': 14}. Best is trial 2 with value: 0.75.\n",
      "[I 2025-02-05 17:23:51,954] Trial 29 finished with value: 0.3 and parameters: {'k': 26}. Best is trial 2 with value: 0.75.\n",
      "[I 2025-02-05 17:23:51,965] Trial 30 finished with value: 0.5875 and parameters: {'k': 6}. Best is trial 2 with value: 0.75.\n",
      "[I 2025-02-05 17:23:51,981] Trial 31 finished with value: 0.6124999999999999 and parameters: {'k': 18}. Best is trial 2 with value: 0.75.\n",
      "[I 2025-02-05 17:23:51,998] Trial 32 finished with value: 0.39999999999999997 and parameters: {'k': 41}. Best is trial 2 with value: 0.75.\n",
      "[I 2025-02-05 17:23:52,017] Trial 33 finished with value: 0.35 and parameters: {'k': 50}. Best is trial 2 with value: 0.75.\n",
      "[I 2025-02-05 17:23:52,030] Trial 34 finished with value: 0.575 and parameters: {'k': 2}. Best is trial 2 with value: 0.75.\n",
      "[I 2025-02-05 17:23:52,050] Trial 35 finished with value: 0.6500000000000001 and parameters: {'k': 13}. Best is trial 2 with value: 0.75.\n",
      "[I 2025-02-05 17:23:52,062] Trial 36 finished with value: 0.5 and parameters: {'k': 38}. Best is trial 2 with value: 0.75.\n",
      "[I 2025-02-05 17:23:52,087] Trial 37 finished with value: 0.3 and parameters: {'k': 25}. Best is trial 2 with value: 0.75.\n",
      "[I 2025-02-05 17:23:52,099] Trial 38 finished with value: 0.7125 and parameters: {'k': 7}. Best is trial 2 with value: 0.75.\n",
      "[I 2025-02-05 17:23:52,130] Trial 39 finished with value: 0.3375 and parameters: {'k': 24}. Best is trial 2 with value: 0.75.\n",
      "[I 2025-02-05 17:23:52,142] Trial 40 finished with value: 0.35 and parameters: {'k': 37}. Best is trial 2 with value: 0.75.\n",
      "[I 2025-02-05 17:23:52,156] Trial 41 finished with value: 0.5125 and parameters: {'k': 22}. Best is trial 2 with value: 0.75.\n",
      "[I 2025-02-05 17:23:52,168] Trial 42 finished with value: 0.675 and parameters: {'k': 20}. Best is trial 2 with value: 0.75.\n",
      "[I 2025-02-05 17:23:52,178] Trial 43 finished with value: 0.7 and parameters: {'k': 10}. Best is trial 2 with value: 0.75.\n",
      "[I 2025-02-05 17:23:52,188] Trial 44 finished with value: 0.42499999999999993 and parameters: {'k': 40}. Best is trial 2 with value: 0.75.\n",
      "[I 2025-02-05 17:23:52,201] Trial 45 finished with value: 0.2875 and parameters: {'k': 47}. Best is trial 2 with value: 0.75.\n",
      "[I 2025-02-05 17:23:52,223] Trial 46 finished with value: 0.6 and parameters: {'k': 4}. Best is trial 2 with value: 0.75.\n",
      "[I 2025-02-05 17:23:52,252] Trial 47 finished with value: 0.6 and parameters: {'k': 1}. Best is trial 2 with value: 0.75.\n",
      "[I 2025-02-05 17:23:52,279] Trial 48 finished with value: 0.38749999999999996 and parameters: {'k': 48}. Best is trial 2 with value: 0.75.\n",
      "[I 2025-02-05 17:23:52,303] Trial 49 finished with value: 0.25 and parameters: {'k': 45}. Best is trial 2 with value: 0.75.\n",
      "[I 2025-02-05 17:23:52,322] A new study created in memory with name: no-name-d726e045-06c3-468b-98ca-7e7075e0ee25\n",
      "[I 2025-02-05 17:23:52,334] Trial 0 finished with value: 0.6041666666666666 and parameters: {'k': 29}. Best is trial 0 with value: 0.6041666666666666.\n",
      "[I 2025-02-05 17:23:52,346] Trial 1 finished with value: 0.7083333333333333 and parameters: {'k': 12}. Best is trial 1 with value: 0.7083333333333333.\n",
      "[I 2025-02-05 17:23:52,360] Trial 2 finished with value: 0.6458333333333333 and parameters: {'k': 11}. Best is trial 1 with value: 0.7083333333333333.\n",
      "[I 2025-02-05 17:23:52,371] Trial 3 finished with value: 0.39583333333333337 and parameters: {'k': 42}. Best is trial 1 with value: 0.7083333333333333.\n",
      "[I 2025-02-05 17:23:52,381] Trial 4 finished with value: 0.7708333333333333 and parameters: {'k': 3}. Best is trial 4 with value: 0.7708333333333333.\n",
      "[I 2025-02-05 17:23:52,405] Trial 5 finished with value: 0.5833333333333333 and parameters: {'k': 28}. Best is trial 4 with value: 0.7708333333333333.\n",
      "[I 2025-02-05 17:23:52,411] Trial 6 finished with value: 0.39583333333333337 and parameters: {'k': 39}. Best is trial 4 with value: 0.7708333333333333.\n",
      "[I 2025-02-05 17:23:52,421] Trial 7 finished with value: 0.7291666666666666 and parameters: {'k': 32}. Best is trial 4 with value: 0.7708333333333333.\n",
      "[I 2025-02-05 17:23:52,426] Trial 8 finished with value: 0.5833333333333334 and parameters: {'k': 23}. Best is trial 4 with value: 0.7708333333333333.\n",
      "[I 2025-02-05 17:23:52,445] Trial 9 finished with value: 0.6458333333333334 and parameters: {'k': 5}. Best is trial 4 with value: 0.7708333333333333.\n",
      "[I 2025-02-05 17:23:52,456] Trial 10 finished with value: 0.5625 and parameters: {'k': 34}. Best is trial 4 with value: 0.7708333333333333.\n",
      "[I 2025-02-05 17:23:52,468] Trial 11 finished with value: 0.5 and parameters: {'k': 36}. Best is trial 4 with value: 0.7708333333333333.\n",
      "[I 2025-02-05 17:23:52,482] Trial 12 finished with value: 0.6041666666666666 and parameters: {'k': 27}. Best is trial 4 with value: 0.7708333333333333.\n",
      "[I 2025-02-05 17:23:52,499] Trial 13 finished with value: 0.4791666666666667 and parameters: {'k': 35}. Best is trial 4 with value: 0.7708333333333333.\n",
      "[I 2025-02-05 17:23:52,514] Trial 14 finished with value: 0.5625 and parameters: {'k': 19}. Best is trial 4 with value: 0.7708333333333333.\n",
      "[I 2025-02-05 17:23:52,526] Trial 15 finished with value: 0.6041666666666666 and parameters: {'k': 8}. Best is trial 4 with value: 0.7708333333333333.\n",
      "[I 2025-02-05 17:23:52,532] Trial 16 finished with value: 0.7916666666666667 and parameters: {'k': 15}. Best is trial 16 with value: 0.7916666666666667.\n",
      "[I 2025-02-05 17:23:52,539] Trial 17 finished with value: 0.5625 and parameters: {'k': 46}. Best is trial 16 with value: 0.7916666666666667.\n",
      "[I 2025-02-05 17:23:52,548] Trial 18 finished with value: 0.625 and parameters: {'k': 49}. Best is trial 16 with value: 0.7916666666666667.\n",
      "[I 2025-02-05 17:23:52,563] Trial 19 finished with value: 0.625 and parameters: {'k': 30}. Best is trial 16 with value: 0.7916666666666667.\n",
      "[I 2025-02-05 17:23:52,577] Trial 20 finished with value: 0.7083333333333333 and parameters: {'k': 16}. Best is trial 16 with value: 0.7916666666666667.\n",
      "[I 2025-02-05 17:23:52,599] Trial 21 finished with value: 0.7291666666666666 and parameters: {'k': 31}. Best is trial 16 with value: 0.7916666666666667.\n",
      "[I 2025-02-05 17:23:52,611] Trial 22 finished with value: 0.6666666666666667 and parameters: {'k': 33}. Best is trial 16 with value: 0.7916666666666667.\n",
      "[I 2025-02-05 17:23:52,632] Trial 23 finished with value: 0.6041666666666666 and parameters: {'k': 17}. Best is trial 16 with value: 0.7916666666666667.\n",
      "[I 2025-02-05 17:23:52,660] Trial 24 finished with value: 0.4791666666666667 and parameters: {'k': 43}. Best is trial 16 with value: 0.7916666666666667.\n",
      "[I 2025-02-05 17:23:52,674] Trial 25 finished with value: 0.625 and parameters: {'k': 21}. Best is trial 16 with value: 0.7916666666666667.\n",
      "[I 2025-02-05 17:23:52,682] Trial 26 finished with value: 0.5208333333333334 and parameters: {'k': 44}. Best is trial 16 with value: 0.7916666666666667.\n",
      "[I 2025-02-05 17:23:52,703] Trial 27 finished with value: 0.7291666666666666 and parameters: {'k': 9}. Best is trial 16 with value: 0.7916666666666667.\n",
      "[I 2025-02-05 17:23:52,727] Trial 28 finished with value: 0.875 and parameters: {'k': 14}. Best is trial 28 with value: 0.875.\n",
      "[I 2025-02-05 17:23:52,743] Trial 29 finished with value: 0.6458333333333333 and parameters: {'k': 26}. Best is trial 28 with value: 0.875.\n",
      "[I 2025-02-05 17:23:52,767] Trial 30 finished with value: 0.5625 and parameters: {'k': 6}. Best is trial 28 with value: 0.875.\n",
      "[I 2025-02-05 17:23:52,819] Trial 31 finished with value: 0.625 and parameters: {'k': 18}. Best is trial 28 with value: 0.875.\n",
      "[I 2025-02-05 17:23:52,864] Trial 32 finished with value: 0.3125 and parameters: {'k': 41}. Best is trial 28 with value: 0.875.\n",
      "[I 2025-02-05 17:23:52,887] Trial 33 finished with value: 0.6458333333333333 and parameters: {'k': 50}. Best is trial 28 with value: 0.875.\n",
      "[I 2025-02-05 17:23:52,901] Trial 34 finished with value: 0.5416666666666667 and parameters: {'k': 2}. Best is trial 28 with value: 0.875.\n",
      "[I 2025-02-05 17:23:52,933] Trial 35 finished with value: 0.7291666666666666 and parameters: {'k': 13}. Best is trial 28 with value: 0.875.\n",
      "[I 2025-02-05 17:23:52,954] Trial 36 finished with value: 0.47916666666666663 and parameters: {'k': 38}. Best is trial 28 with value: 0.875.\n",
      "[I 2025-02-05 17:23:52,988] Trial 37 finished with value: 0.6458333333333333 and parameters: {'k': 25}. Best is trial 28 with value: 0.875.\n",
      "[I 2025-02-05 17:23:52,997] Trial 38 finished with value: 0.6666666666666667 and parameters: {'k': 7}. Best is trial 28 with value: 0.875.\n",
      "[I 2025-02-05 17:23:53,007] Trial 39 finished with value: 0.5833333333333334 and parameters: {'k': 24}. Best is trial 28 with value: 0.875.\n",
      "[I 2025-02-05 17:23:53,048] Trial 40 finished with value: 0.4791666666666667 and parameters: {'k': 37}. Best is trial 28 with value: 0.875.\n",
      "[I 2025-02-05 17:23:53,093] Trial 41 finished with value: 0.6458333333333333 and parameters: {'k': 22}. Best is trial 28 with value: 0.875.\n",
      "[I 2025-02-05 17:23:53,117] Trial 42 finished with value: 0.5833333333333334 and parameters: {'k': 20}. Best is trial 28 with value: 0.875.\n",
      "[I 2025-02-05 17:23:53,131] Trial 43 finished with value: 0.625 and parameters: {'k': 10}. Best is trial 28 with value: 0.875.\n",
      "[I 2025-02-05 17:23:53,142] Trial 44 finished with value: 0.3958333333333333 and parameters: {'k': 40}. Best is trial 28 with value: 0.875.\n",
      "[I 2025-02-05 17:23:53,154] Trial 45 finished with value: 0.6666666666666667 and parameters: {'k': 47}. Best is trial 28 with value: 0.875.\n",
      "[I 2025-02-05 17:23:53,168] Trial 46 finished with value: 0.7291666666666667 and parameters: {'k': 4}. Best is trial 28 with value: 0.875.\n",
      "[I 2025-02-05 17:23:53,182] Trial 47 finished with value: 0.625 and parameters: {'k': 1}. Best is trial 28 with value: 0.875.\n",
      "[I 2025-02-05 17:23:53,193] Trial 48 finished with value: 0.7083333333333334 and parameters: {'k': 48}. Best is trial 28 with value: 0.875.\n",
      "[I 2025-02-05 17:23:53,229] Trial 49 finished with value: 0.5625 and parameters: {'k': 45}. Best is trial 28 with value: 0.875.\n",
      "[I 2025-02-05 17:23:53,241] A new study created in memory with name: no-name-5a3a2442-144c-4252-9183-d1d8c9a584bc\n",
      "[I 2025-02-05 17:23:53,248] Trial 0 finished with value: 0.7575757575757576 and parameters: {'k': 29}. Best is trial 0 with value: 0.7575757575757576.\n",
      "[I 2025-02-05 17:23:53,256] Trial 1 finished with value: 0.5454545454545455 and parameters: {'k': 12}. Best is trial 0 with value: 0.7575757575757576.\n",
      "[I 2025-02-05 17:23:53,261] Trial 2 finished with value: 0.5303030303030303 and parameters: {'k': 11}. Best is trial 0 with value: 0.7575757575757576.\n",
      "[I 2025-02-05 17:23:53,275] Trial 3 finished with value: 0.6818181818181819 and parameters: {'k': 42}. Best is trial 0 with value: 0.7575757575757576.\n",
      "[I 2025-02-05 17:23:53,284] Trial 4 finished with value: 0.28787878787878796 and parameters: {'k': 3}. Best is trial 0 with value: 0.7575757575757576.\n",
      "[I 2025-02-05 17:23:53,293] Trial 5 finished with value: 0.6212121212121213 and parameters: {'k': 28}. Best is trial 0 with value: 0.7575757575757576.\n",
      "[I 2025-02-05 17:23:53,303] Trial 6 finished with value: 0.8636363636363636 and parameters: {'k': 39}. Best is trial 6 with value: 0.8636363636363636.\n",
      "[I 2025-02-05 17:23:53,308] Trial 7 finished with value: 0.7272727272727273 and parameters: {'k': 32}. Best is trial 6 with value: 0.8636363636363636.\n",
      "[I 2025-02-05 17:23:53,317] Trial 8 finished with value: 0.6666666666666667 and parameters: {'k': 23}. Best is trial 6 with value: 0.8636363636363636.\n",
      "[I 2025-02-05 17:23:53,337] Trial 9 finished with value: 0.48484848484848486 and parameters: {'k': 5}. Best is trial 6 with value: 0.8636363636363636.\n",
      "[I 2025-02-05 17:23:53,354] Trial 10 finished with value: 0.787878787878788 and parameters: {'k': 34}. Best is trial 6 with value: 0.8636363636363636.\n",
      "[I 2025-02-05 17:23:53,375] Trial 11 finished with value: 0.8484848484848486 and parameters: {'k': 36}. Best is trial 6 with value: 0.8636363636363636.\n",
      "[I 2025-02-05 17:23:53,394] Trial 12 finished with value: 0.5151515151515151 and parameters: {'k': 27}. Best is trial 6 with value: 0.8636363636363636.\n",
      "[I 2025-02-05 17:23:53,406] Trial 13 finished with value: 0.8333333333333334 and parameters: {'k': 35}. Best is trial 6 with value: 0.8636363636363636.\n",
      "[I 2025-02-05 17:23:53,421] Trial 14 finished with value: 0.5606060606060607 and parameters: {'k': 19}. Best is trial 6 with value: 0.8636363636363636.\n",
      "[I 2025-02-05 17:23:53,434] Trial 15 finished with value: 0.43939393939393945 and parameters: {'k': 8}. Best is trial 6 with value: 0.8636363636363636.\n",
      "[I 2025-02-05 17:23:53,453] Trial 16 finished with value: 0.6212121212121213 and parameters: {'k': 15}. Best is trial 6 with value: 0.8636363636363636.\n",
      "[I 2025-02-05 17:23:53,462] Trial 17 finished with value: 0.7575757575757576 and parameters: {'k': 46}. Best is trial 6 with value: 0.8636363636363636.\n",
      "[I 2025-02-05 17:23:53,476] Trial 18 finished with value: 0.7272727272727273 and parameters: {'k': 49}. Best is trial 6 with value: 0.8636363636363636.\n",
      "[I 2025-02-05 17:23:53,489] Trial 19 finished with value: 0.8333333333333334 and parameters: {'k': 30}. Best is trial 6 with value: 0.8636363636363636.\n",
      "[I 2025-02-05 17:23:53,520] Trial 20 finished with value: 0.6212121212121213 and parameters: {'k': 16}. Best is trial 6 with value: 0.8636363636363636.\n",
      "[I 2025-02-05 17:23:53,546] Trial 21 finished with value: 0.8030303030303031 and parameters: {'k': 31}. Best is trial 6 with value: 0.8636363636363636.\n",
      "[I 2025-02-05 17:23:53,556] Trial 22 finished with value: 0.7272727272727273 and parameters: {'k': 33}. Best is trial 6 with value: 0.8636363636363636.\n",
      "[I 2025-02-05 17:23:53,572] Trial 23 finished with value: 0.5909090909090909 and parameters: {'k': 17}. Best is trial 6 with value: 0.8636363636363636.\n",
      "[I 2025-02-05 17:23:53,584] Trial 24 finished with value: 0.696969696969697 and parameters: {'k': 43}. Best is trial 6 with value: 0.8636363636363636.\n",
      "[I 2025-02-05 17:23:53,598] Trial 25 finished with value: 0.5303030303030303 and parameters: {'k': 21}. Best is trial 6 with value: 0.8636363636363636.\n",
      "[I 2025-02-05 17:23:53,607] Trial 26 finished with value: 0.7272727272727273 and parameters: {'k': 44}. Best is trial 6 with value: 0.8636363636363636.\n",
      "[I 2025-02-05 17:23:53,621] Trial 27 finished with value: 0.4545454545454546 and parameters: {'k': 9}. Best is trial 6 with value: 0.8636363636363636.\n",
      "[I 2025-02-05 17:23:53,637] Trial 28 finished with value: 0.5606060606060607 and parameters: {'k': 14}. Best is trial 6 with value: 0.8636363636363636.\n",
      "[I 2025-02-05 17:23:53,652] Trial 29 finished with value: 0.48484848484848486 and parameters: {'k': 26}. Best is trial 6 with value: 0.8636363636363636.\n",
      "[I 2025-02-05 17:23:53,673] Trial 30 finished with value: 0.43939393939393945 and parameters: {'k': 6}. Best is trial 6 with value: 0.8636363636363636.\n",
      "[I 2025-02-05 17:23:53,693] Trial 31 finished with value: 0.5909090909090909 and parameters: {'k': 18}. Best is trial 6 with value: 0.8636363636363636.\n",
      "[I 2025-02-05 17:23:53,702] Trial 32 finished with value: 0.7272727272727273 and parameters: {'k': 41}. Best is trial 6 with value: 0.8636363636363636.\n",
      "[I 2025-02-05 17:23:53,712] Trial 33 finished with value: 0.7575757575757577 and parameters: {'k': 50}. Best is trial 6 with value: 0.8636363636363636.\n",
      "[I 2025-02-05 17:23:53,727] Trial 34 finished with value: 0.31818181818181823 and parameters: {'k': 2}. Best is trial 6 with value: 0.8636363636363636.\n",
      "[I 2025-02-05 17:23:53,740] Trial 35 finished with value: 0.5909090909090909 and parameters: {'k': 13}. Best is trial 6 with value: 0.8636363636363636.\n",
      "[I 2025-02-05 17:23:53,760] Trial 36 finished with value: 0.8787878787878788 and parameters: {'k': 38}. Best is trial 36 with value: 0.8787878787878788.\n",
      "[I 2025-02-05 17:23:53,777] Trial 37 finished with value: 0.4696969696969697 and parameters: {'k': 25}. Best is trial 36 with value: 0.8787878787878788.\n",
      "[I 2025-02-05 17:23:53,793] Trial 38 finished with value: 0.5000000000000001 and parameters: {'k': 7}. Best is trial 36 with value: 0.8787878787878788.\n",
      "[I 2025-02-05 17:23:53,812] Trial 39 finished with value: 0.5454545454545454 and parameters: {'k': 24}. Best is trial 36 with value: 0.8787878787878788.\n",
      "[I 2025-02-05 17:23:53,835] Trial 40 finished with value: 0.8636363636363636 and parameters: {'k': 37}. Best is trial 36 with value: 0.8787878787878788.\n",
      "[I 2025-02-05 17:23:53,849] Trial 41 finished with value: 0.7121212121212122 and parameters: {'k': 22}. Best is trial 36 with value: 0.8787878787878788.\n",
      "[I 2025-02-05 17:23:53,877] Trial 42 finished with value: 0.5606060606060607 and parameters: {'k': 20}. Best is trial 36 with value: 0.8787878787878788.\n",
      "[I 2025-02-05 17:23:53,925] Trial 43 finished with value: 0.5303030303030303 and parameters: {'k': 10}. Best is trial 36 with value: 0.8787878787878788.\n",
      "[I 2025-02-05 17:23:53,942] Trial 44 finished with value: 0.8636363636363636 and parameters: {'k': 40}. Best is trial 36 with value: 0.8787878787878788.\n",
      "[I 2025-02-05 17:23:53,960] Trial 45 finished with value: 0.6818181818181819 and parameters: {'k': 47}. Best is trial 36 with value: 0.8787878787878788.\n",
      "[I 2025-02-05 17:23:53,978] Trial 46 finished with value: 0.42424242424242425 and parameters: {'k': 4}. Best is trial 36 with value: 0.8787878787878788.\n",
      "[I 2025-02-05 17:23:54,017] Trial 47 finished with value: 0.43939393939393945 and parameters: {'k': 1}. Best is trial 36 with value: 0.8787878787878788.\n",
      "[I 2025-02-05 17:23:54,042] Trial 48 finished with value: 0.7878787878787878 and parameters: {'k': 48}. Best is trial 36 with value: 0.8787878787878788.\n",
      "[I 2025-02-05 17:23:54,057] Trial 49 finished with value: 0.787878787878788 and parameters: {'k': 45}. Best is trial 36 with value: 0.8787878787878788.\n",
      "[I 2025-02-05 17:23:54,069] A new study created in memory with name: no-name-18562380-9aa1-4d54-b4a7-aa82ce63a361\n",
      "[I 2025-02-05 17:23:54,073] Trial 0 finished with value: 0.2875 and parameters: {'k': 29}. Best is trial 0 with value: 0.2875.\n",
      "[I 2025-02-05 17:23:54,078] Trial 1 finished with value: 0.325 and parameters: {'k': 12}. Best is trial 1 with value: 0.325.\n",
      "[I 2025-02-05 17:23:54,081] Trial 2 finished with value: 0.35 and parameters: {'k': 11}. Best is trial 2 with value: 0.35.\n",
      "[I 2025-02-05 17:23:54,086] Trial 3 finished with value: 0.225 and parameters: {'k': 42}. Best is trial 2 with value: 0.35.\n",
      "[I 2025-02-05 17:23:54,092] Trial 4 finished with value: 0.5375000000000001 and parameters: {'k': 3}. Best is trial 4 with value: 0.5375000000000001.\n",
      "[I 2025-02-05 17:23:54,096] Trial 5 finished with value: 0.375 and parameters: {'k': 28}. Best is trial 4 with value: 0.5375000000000001.\n",
      "[I 2025-02-05 17:23:54,101] Trial 6 finished with value: 0.44999999999999996 and parameters: {'k': 39}. Best is trial 4 with value: 0.5375000000000001.\n",
      "[I 2025-02-05 17:23:54,106] Trial 7 finished with value: 0.2875 and parameters: {'k': 32}. Best is trial 4 with value: 0.5375000000000001.\n",
      "[I 2025-02-05 17:23:54,118] Trial 8 finished with value: 0.38749999999999996 and parameters: {'k': 23}. Best is trial 4 with value: 0.5375000000000001.\n",
      "[I 2025-02-05 17:23:54,124] Trial 9 finished with value: 0.4875 and parameters: {'k': 5}. Best is trial 4 with value: 0.5375000000000001.\n",
      "[I 2025-02-05 17:23:54,132] Trial 10 finished with value: 0.38749999999999996 and parameters: {'k': 34}. Best is trial 4 with value: 0.5375000000000001.\n",
      "[I 2025-02-05 17:23:54,140] Trial 11 finished with value: 0.47500000000000003 and parameters: {'k': 36}. Best is trial 4 with value: 0.5375000000000001.\n",
      "[I 2025-02-05 17:23:54,151] Trial 12 finished with value: 0.325 and parameters: {'k': 27}. Best is trial 4 with value: 0.5375000000000001.\n",
      "[I 2025-02-05 17:23:54,162] Trial 13 finished with value: 0.43749999999999994 and parameters: {'k': 35}. Best is trial 4 with value: 0.5375000000000001.\n",
      "[I 2025-02-05 17:23:54,168] Trial 14 finished with value: 0.375 and parameters: {'k': 19}. Best is trial 4 with value: 0.5375000000000001.\n",
      "[I 2025-02-05 17:23:54,178] Trial 15 finished with value: 0.325 and parameters: {'k': 8}. Best is trial 4 with value: 0.5375000000000001.\n",
      "[I 2025-02-05 17:23:54,184] Trial 16 finished with value: 0.4 and parameters: {'k': 15}. Best is trial 4 with value: 0.5375000000000001.\n",
      "[I 2025-02-05 17:23:54,203] Trial 17 finished with value: 0.3875 and parameters: {'k': 46}. Best is trial 4 with value: 0.5375000000000001.\n",
      "[I 2025-02-05 17:23:54,211] Trial 18 finished with value: 0.3375 and parameters: {'k': 49}. Best is trial 4 with value: 0.5375000000000001.\n",
      "[I 2025-02-05 17:23:54,219] Trial 19 finished with value: 0.325 and parameters: {'k': 30}. Best is trial 4 with value: 0.5375000000000001.\n",
      "[I 2025-02-05 17:23:54,232] Trial 20 finished with value: 0.3875 and parameters: {'k': 16}. Best is trial 4 with value: 0.5375000000000001.\n",
      "[I 2025-02-05 17:23:54,254] Trial 21 finished with value: 0.3625 and parameters: {'k': 31}. Best is trial 4 with value: 0.5375000000000001.\n",
      "[I 2025-02-05 17:23:54,267] Trial 22 finished with value: 0.42500000000000004 and parameters: {'k': 33}. Best is trial 4 with value: 0.5375000000000001.\n",
      "[I 2025-02-05 17:23:54,281] Trial 23 finished with value: 0.375 and parameters: {'k': 17}. Best is trial 4 with value: 0.5375000000000001.\n",
      "[I 2025-02-05 17:23:54,293] Trial 24 finished with value: 0.2625 and parameters: {'k': 43}. Best is trial 4 with value: 0.5375000000000001.\n",
      "[I 2025-02-05 17:23:54,305] Trial 25 finished with value: 0.4375 and parameters: {'k': 21}. Best is trial 4 with value: 0.5375000000000001.\n",
      "[I 2025-02-05 17:23:54,316] Trial 26 finished with value: 0.3125 and parameters: {'k': 44}. Best is trial 4 with value: 0.5375000000000001.\n",
      "[I 2025-02-05 17:23:54,325] Trial 27 finished with value: 0.275 and parameters: {'k': 9}. Best is trial 4 with value: 0.5375000000000001.\n",
      "[I 2025-02-05 17:23:54,334] Trial 28 finished with value: 0.3875 and parameters: {'k': 14}. Best is trial 4 with value: 0.5375000000000001.\n",
      "[I 2025-02-05 17:23:54,345] Trial 29 finished with value: 0.325 and parameters: {'k': 26}. Best is trial 4 with value: 0.5375000000000001.\n",
      "[I 2025-02-05 17:23:54,558] Trial 30 finished with value: 0.5625 and parameters: {'k': 6}. Best is trial 30 with value: 0.5625.\n",
      "[I 2025-02-05 17:23:54,578] Trial 31 finished with value: 0.375 and parameters: {'k': 18}. Best is trial 30 with value: 0.5625.\n",
      "[I 2025-02-05 17:23:54,606] Trial 32 finished with value: 0.3125 and parameters: {'k': 41}. Best is trial 30 with value: 0.5625.\n",
      "[I 2025-02-05 17:23:54,655] Trial 33 finished with value: 0.3 and parameters: {'k': 50}. Best is trial 30 with value: 0.5625.\n",
      "[I 2025-02-05 17:23:54,685] Trial 34 finished with value: 0.475 and parameters: {'k': 2}. Best is trial 30 with value: 0.5625.\n",
      "[I 2025-02-05 17:23:54,714] Trial 35 finished with value: 0.36250000000000004 and parameters: {'k': 13}. Best is trial 30 with value: 0.5625.\n",
      "[I 2025-02-05 17:23:54,741] Trial 36 finished with value: 0.5 and parameters: {'k': 38}. Best is trial 30 with value: 0.5625.\n",
      "[I 2025-02-05 17:23:54,757] Trial 37 finished with value: 0.3125 and parameters: {'k': 25}. Best is trial 30 with value: 0.5625.\n",
      "[I 2025-02-05 17:23:54,813] Trial 38 finished with value: 0.46249999999999997 and parameters: {'k': 7}. Best is trial 30 with value: 0.5625.\n",
      "[I 2025-02-05 17:23:54,838] Trial 39 finished with value: 0.325 and parameters: {'k': 24}. Best is trial 30 with value: 0.5625.\n",
      "[I 2025-02-05 17:23:54,874] Trial 40 finished with value: 0.5125 and parameters: {'k': 37}. Best is trial 30 with value: 0.5625.\n",
      "[I 2025-02-05 17:23:54,893] Trial 41 finished with value: 0.4125 and parameters: {'k': 22}. Best is trial 30 with value: 0.5625.\n",
      "[I 2025-02-05 17:23:54,919] Trial 42 finished with value: 0.38749999999999996 and parameters: {'k': 20}. Best is trial 30 with value: 0.5625.\n",
      "[I 2025-02-05 17:23:54,960] Trial 43 finished with value: 0.375 and parameters: {'k': 10}. Best is trial 30 with value: 0.5625.\n",
      "[I 2025-02-05 17:23:54,981] Trial 44 finished with value: 0.42500000000000004 and parameters: {'k': 40}. Best is trial 30 with value: 0.5625.\n",
      "[I 2025-02-05 17:23:55,003] Trial 45 finished with value: 0.3875 and parameters: {'k': 47}. Best is trial 30 with value: 0.5625.\n",
      "[I 2025-02-05 17:23:55,031] Trial 46 finished with value: 0.6 and parameters: {'k': 4}. Best is trial 46 with value: 0.6.\n",
      "[I 2025-02-05 17:23:55,101] Trial 47 finished with value: 0.475 and parameters: {'k': 1}. Best is trial 46 with value: 0.6.\n",
      "[I 2025-02-05 17:23:55,148] Trial 48 finished with value: 0.3875 and parameters: {'k': 48}. Best is trial 46 with value: 0.6.\n",
      "[I 2025-02-05 17:23:55,167] Trial 49 finished with value: 0.4 and parameters: {'k': 45}. Best is trial 46 with value: 0.6.\n",
      "[I 2025-02-05 17:23:55,171] A new study created in memory with name: no-name-5de7fa00-f06b-490d-a15f-453ddad42e1c\n",
      "[I 2025-02-05 17:23:55,187] Trial 0 finished with value: 0.25555555555555554 and parameters: {'k': 29}. Best is trial 0 with value: 0.25555555555555554.\n",
      "[I 2025-02-05 17:23:55,205] Trial 1 finished with value: 0.5111111111111111 and parameters: {'k': 12}. Best is trial 1 with value: 0.5111111111111111.\n",
      "[I 2025-02-05 17:23:55,218] Trial 2 finished with value: 0.5111111111111111 and parameters: {'k': 11}. Best is trial 1 with value: 0.5111111111111111.\n",
      "[I 2025-02-05 17:23:55,225] Trial 3 finished with value: 0.38888888888888884 and parameters: {'k': 42}. Best is trial 1 with value: 0.5111111111111111.\n",
      "[I 2025-02-05 17:23:55,231] Trial 4 finished with value: 0.5333333333333333 and parameters: {'k': 3}. Best is trial 4 with value: 0.5333333333333333.\n",
      "[I 2025-02-05 17:23:55,236] Trial 5 finished with value: 0.3555555555555555 and parameters: {'k': 28}. Best is trial 4 with value: 0.5333333333333333.\n",
      "[I 2025-02-05 17:23:55,240] Trial 6 finished with value: 0.4111111111111111 and parameters: {'k': 39}. Best is trial 4 with value: 0.5333333333333333.\n",
      "[I 2025-02-05 17:23:55,246] Trial 7 finished with value: 0.26666666666666666 and parameters: {'k': 32}. Best is trial 4 with value: 0.5333333333333333.\n",
      "[I 2025-02-05 17:23:55,251] Trial 8 finished with value: 0.37777777777777777 and parameters: {'k': 23}. Best is trial 4 with value: 0.5333333333333333.\n",
      "[I 2025-02-05 17:23:55,256] Trial 9 finished with value: 0.5555555555555556 and parameters: {'k': 5}. Best is trial 9 with value: 0.5555555555555556.\n",
      "[I 2025-02-05 17:23:55,262] Trial 10 finished with value: 0.3333333333333333 and parameters: {'k': 34}. Best is trial 9 with value: 0.5555555555555556.\n",
      "[I 2025-02-05 17:23:55,269] Trial 11 finished with value: 0.37777777777777777 and parameters: {'k': 36}. Best is trial 9 with value: 0.5555555555555556.\n",
      "[I 2025-02-05 17:23:55,275] Trial 12 finished with value: 0.3555555555555555 and parameters: {'k': 27}. Best is trial 9 with value: 0.5555555555555556.\n",
      "[I 2025-02-05 17:23:55,290] Trial 13 finished with value: 0.34444444444444444 and parameters: {'k': 35}. Best is trial 9 with value: 0.5555555555555556.\n",
      "[I 2025-02-05 17:23:55,297] Trial 14 finished with value: 0.43333333333333335 and parameters: {'k': 19}. Best is trial 9 with value: 0.5555555555555556.\n",
      "[I 2025-02-05 17:23:55,309] Trial 15 finished with value: 0.3666666666666667 and parameters: {'k': 8}. Best is trial 9 with value: 0.5555555555555556.\n",
      "[I 2025-02-05 17:23:55,326] Trial 16 finished with value: 0.5333333333333333 and parameters: {'k': 15}. Best is trial 9 with value: 0.5555555555555556.\n",
      "[I 2025-02-05 17:23:55,332] Trial 17 finished with value: 0.3666666666666667 and parameters: {'k': 46}. Best is trial 9 with value: 0.5555555555555556.\n",
      "[I 2025-02-05 17:23:55,342] Trial 18 finished with value: 0.3555555555555555 and parameters: {'k': 49}. Best is trial 9 with value: 0.5555555555555556.\n",
      "[I 2025-02-05 17:23:55,359] Trial 19 finished with value: 0.2777777777777778 and parameters: {'k': 30}. Best is trial 9 with value: 0.5555555555555556.\n",
      "[I 2025-02-05 17:23:55,369] Trial 20 finished with value: 0.5333333333333333 and parameters: {'k': 16}. Best is trial 9 with value: 0.5555555555555556.\n",
      "[I 2025-02-05 17:23:55,386] Trial 21 finished with value: 0.2111111111111111 and parameters: {'k': 31}. Best is trial 9 with value: 0.5555555555555556.\n",
      "[I 2025-02-05 17:23:55,412] Trial 22 finished with value: 0.28888888888888886 and parameters: {'k': 33}. Best is trial 9 with value: 0.5555555555555556.\n",
      "[I 2025-02-05 17:23:55,422] Trial 23 finished with value: 0.5333333333333333 and parameters: {'k': 17}. Best is trial 9 with value: 0.5555555555555556.\n",
      "[I 2025-02-05 17:23:55,434] Trial 24 finished with value: 0.37777777777777777 and parameters: {'k': 43}. Best is trial 9 with value: 0.5555555555555556.\n",
      "[I 2025-02-05 17:23:55,447] Trial 25 finished with value: 0.43333333333333335 and parameters: {'k': 21}. Best is trial 9 with value: 0.5555555555555556.\n",
      "[I 2025-02-05 17:23:55,460] Trial 26 finished with value: 0.4111111111111111 and parameters: {'k': 44}. Best is trial 9 with value: 0.5555555555555556.\n",
      "[I 2025-02-05 17:23:55,492] Trial 27 finished with value: 0.5 and parameters: {'k': 9}. Best is trial 9 with value: 0.5555555555555556.\n",
      "[I 2025-02-05 17:23:55,507] Trial 28 finished with value: 0.4666666666666667 and parameters: {'k': 14}. Best is trial 9 with value: 0.5555555555555556.\n",
      "[I 2025-02-05 17:23:55,524] Trial 29 finished with value: 0.3 and parameters: {'k': 26}. Best is trial 9 with value: 0.5555555555555556.\n",
      "[I 2025-02-05 17:23:55,533] Trial 30 finished with value: 0.44444444444444453 and parameters: {'k': 6}. Best is trial 9 with value: 0.5555555555555556.\n",
      "[I 2025-02-05 17:23:55,541] Trial 31 finished with value: 0.4555555555555555 and parameters: {'k': 18}. Best is trial 9 with value: 0.5555555555555556.\n",
      "[I 2025-02-05 17:23:55,550] Trial 32 finished with value: 0.43333333333333324 and parameters: {'k': 41}. Best is trial 9 with value: 0.5555555555555556.\n",
      "[I 2025-02-05 17:23:55,559] Trial 33 finished with value: 0.37777777777777777 and parameters: {'k': 50}. Best is trial 9 with value: 0.5555555555555556.\n",
      "[I 2025-02-05 17:23:55,567] Trial 34 finished with value: 0.5888888888888889 and parameters: {'k': 2}. Best is trial 34 with value: 0.5888888888888889.\n",
      "[I 2025-02-05 17:23:55,595] Trial 35 finished with value: 0.4555555555555555 and parameters: {'k': 13}. Best is trial 34 with value: 0.5888888888888889.\n",
      "[I 2025-02-05 17:23:55,614] Trial 36 finished with value: 0.4444444444444444 and parameters: {'k': 38}. Best is trial 34 with value: 0.5888888888888889.\n",
      "[I 2025-02-05 17:23:55,635] Trial 37 finished with value: 0.3222222222222222 and parameters: {'k': 25}. Best is trial 34 with value: 0.5888888888888889.\n",
      "[I 2025-02-05 17:23:55,650] Trial 38 finished with value: 0.4666666666666667 and parameters: {'k': 7}. Best is trial 34 with value: 0.5888888888888889.\n",
      "[I 2025-02-05 17:23:55,670] Trial 39 finished with value: 0.3555555555555555 and parameters: {'k': 24}. Best is trial 34 with value: 0.5888888888888889.\n",
      "[I 2025-02-05 17:23:55,688] Trial 40 finished with value: 0.4333333333333333 and parameters: {'k': 37}. Best is trial 34 with value: 0.5888888888888889.\n",
      "[I 2025-02-05 17:23:55,698] Trial 41 finished with value: 0.4111111111111111 and parameters: {'k': 22}. Best is trial 34 with value: 0.5888888888888889.\n",
      "[I 2025-02-05 17:23:55,715] Trial 42 finished with value: 0.4222222222222222 and parameters: {'k': 20}. Best is trial 34 with value: 0.5888888888888889.\n",
      "[I 2025-02-05 17:23:55,731] Trial 43 finished with value: 0.5 and parameters: {'k': 10}. Best is trial 34 with value: 0.5888888888888889.\n",
      "[I 2025-02-05 17:23:55,749] Trial 44 finished with value: 0.4444444444444444 and parameters: {'k': 40}. Best is trial 34 with value: 0.5888888888888889.\n",
      "[I 2025-02-05 17:23:55,778] Trial 45 finished with value: 0.3555555555555555 and parameters: {'k': 47}. Best is trial 34 with value: 0.5888888888888889.\n",
      "[I 2025-02-05 17:23:55,801] Trial 46 finished with value: 0.6333333333333334 and parameters: {'k': 4}. Best is trial 46 with value: 0.6333333333333334.\n",
      "[I 2025-02-05 17:23:55,818] Trial 47 finished with value: 0.6444444444444444 and parameters: {'k': 1}. Best is trial 47 with value: 0.6444444444444444.\n",
      "[I 2025-02-05 17:23:55,828] Trial 48 finished with value: 0.3 and parameters: {'k': 48}. Best is trial 47 with value: 0.6444444444444444.\n",
      "[I 2025-02-05 17:23:55,851] Trial 49 finished with value: 0.4111111111111111 and parameters: {'k': 45}. Best is trial 47 with value: 0.6444444444444444.\n",
      "[I 2025-02-05 17:23:55,880] A new study created in memory with name: no-name-f7a15315-554d-4ec7-ab16-6ce97b58e944\n",
      "[I 2025-02-05 17:23:55,888] Trial 0 finished with value: 0.5 and parameters: {'k': 29}. Best is trial 0 with value: 0.5.\n",
      "[I 2025-02-05 17:23:55,898] Trial 1 finished with value: 0.675 and parameters: {'k': 12}. Best is trial 1 with value: 0.675.\n",
      "[I 2025-02-05 17:23:55,918] Trial 2 finished with value: 0.7 and parameters: {'k': 11}. Best is trial 2 with value: 0.7.\n",
      "[I 2025-02-05 17:23:55,934] Trial 3 finished with value: 0.625 and parameters: {'k': 42}. Best is trial 2 with value: 0.7.\n",
      "[I 2025-02-05 17:23:55,966] Trial 4 finished with value: 0.5499999999999999 and parameters: {'k': 3}. Best is trial 2 with value: 0.7.\n",
      "[I 2025-02-05 17:23:55,987] Trial 5 finished with value: 0.475 and parameters: {'k': 28}. Best is trial 2 with value: 0.7.\n",
      "[I 2025-02-05 17:23:56,020] Trial 6 finished with value: 0.425 and parameters: {'k': 39}. Best is trial 2 with value: 0.7.\n",
      "[I 2025-02-05 17:23:56,036] Trial 7 finished with value: 0.6125 and parameters: {'k': 32}. Best is trial 2 with value: 0.7.\n",
      "[I 2025-02-05 17:23:56,057] Trial 8 finished with value: 0.5125 and parameters: {'k': 23}. Best is trial 2 with value: 0.7.\n",
      "[I 2025-02-05 17:23:56,071] Trial 9 finished with value: 0.42500000000000004 and parameters: {'k': 5}. Best is trial 2 with value: 0.7.\n",
      "[I 2025-02-05 17:23:56,078] Trial 10 finished with value: 0.5874999999999999 and parameters: {'k': 34}. Best is trial 2 with value: 0.7.\n",
      "[I 2025-02-05 17:23:56,083] Trial 11 finished with value: 0.375 and parameters: {'k': 36}. Best is trial 2 with value: 0.7.\n",
      "[I 2025-02-05 17:23:56,116] Trial 12 finished with value: 0.4625 and parameters: {'k': 27}. Best is trial 2 with value: 0.7.\n",
      "[I 2025-02-05 17:23:56,130] Trial 13 finished with value: 0.525 and parameters: {'k': 35}. Best is trial 2 with value: 0.7.\n",
      "[I 2025-02-05 17:23:56,137] Trial 14 finished with value: 0.6375 and parameters: {'k': 19}. Best is trial 2 with value: 0.7.\n",
      "[I 2025-02-05 17:23:56,168] Trial 15 finished with value: 0.5625 and parameters: {'k': 8}. Best is trial 2 with value: 0.7.\n",
      "[I 2025-02-05 17:23:56,174] Trial 16 finished with value: 0.7 and parameters: {'k': 15}. Best is trial 2 with value: 0.7.\n",
      "[I 2025-02-05 17:23:56,196] Trial 17 finished with value: 0.45 and parameters: {'k': 46}. Best is trial 2 with value: 0.7.\n",
      "[I 2025-02-05 17:23:56,207] Trial 18 finished with value: 0.55 and parameters: {'k': 49}. Best is trial 2 with value: 0.7.\n",
      "[I 2025-02-05 17:23:56,227] Trial 19 finished with value: 0.5625 and parameters: {'k': 30}. Best is trial 2 with value: 0.7.\n",
      "[I 2025-02-05 17:23:56,251] Trial 20 finished with value: 0.575 and parameters: {'k': 16}. Best is trial 2 with value: 0.7.\n",
      "[I 2025-02-05 17:23:56,267] Trial 21 finished with value: 0.5875 and parameters: {'k': 31}. Best is trial 2 with value: 0.7.\n",
      "[I 2025-02-05 17:23:56,280] Trial 22 finished with value: 0.6375 and parameters: {'k': 33}. Best is trial 2 with value: 0.7.\n",
      "[I 2025-02-05 17:23:56,303] Trial 23 finished with value: 0.6125 and parameters: {'k': 17}. Best is trial 2 with value: 0.7.\n",
      "[I 2025-02-05 17:23:56,310] Trial 24 finished with value: 0.675 and parameters: {'k': 43}. Best is trial 2 with value: 0.7.\n",
      "[I 2025-02-05 17:23:56,317] Trial 25 finished with value: 0.5874999999999999 and parameters: {'k': 21}. Best is trial 2 with value: 0.7.\n",
      "[I 2025-02-05 17:23:56,324] Trial 26 finished with value: 0.6375 and parameters: {'k': 44}. Best is trial 2 with value: 0.7.\n",
      "[I 2025-02-05 17:23:56,332] Trial 27 finished with value: 0.625 and parameters: {'k': 9}. Best is trial 2 with value: 0.7.\n",
      "[I 2025-02-05 17:23:56,339] Trial 28 finished with value: 0.675 and parameters: {'k': 14}. Best is trial 2 with value: 0.7.\n",
      "[I 2025-02-05 17:23:56,347] Trial 29 finished with value: 0.5375 and parameters: {'k': 26}. Best is trial 2 with value: 0.7.\n",
      "[I 2025-02-05 17:23:56,355] Trial 30 finished with value: 0.4625 and parameters: {'k': 6}. Best is trial 2 with value: 0.7.\n",
      "[I 2025-02-05 17:23:56,380] Trial 31 finished with value: 0.6000000000000001 and parameters: {'k': 18}. Best is trial 2 with value: 0.7.\n",
      "[I 2025-02-05 17:23:56,397] Trial 32 finished with value: 0.525 and parameters: {'k': 41}. Best is trial 2 with value: 0.7.\n",
      "[I 2025-02-05 17:23:56,423] Trial 33 finished with value: 0.5750000000000001 and parameters: {'k': 50}. Best is trial 2 with value: 0.7.\n",
      "[I 2025-02-05 17:23:56,445] Trial 34 finished with value: 0.35 and parameters: {'k': 2}. Best is trial 2 with value: 0.7.\n",
      "[I 2025-02-05 17:23:56,462] Trial 35 finished with value: 0.6875 and parameters: {'k': 13}. Best is trial 2 with value: 0.7.\n",
      "[I 2025-02-05 17:23:56,482] Trial 36 finished with value: 0.41250000000000003 and parameters: {'k': 38}. Best is trial 2 with value: 0.7.\n",
      "[I 2025-02-05 17:23:56,506] Trial 37 finished with value: 0.5125 and parameters: {'k': 25}. Best is trial 2 with value: 0.7.\n",
      "[I 2025-02-05 17:23:56,523] Trial 38 finished with value: 0.5875 and parameters: {'k': 7}. Best is trial 2 with value: 0.7.\n",
      "[I 2025-02-05 17:23:56,559] Trial 39 finished with value: 0.5 and parameters: {'k': 24}. Best is trial 2 with value: 0.7.\n",
      "[I 2025-02-05 17:23:56,596] Trial 40 finished with value: 0.4 and parameters: {'k': 37}. Best is trial 2 with value: 0.7.\n",
      "[I 2025-02-05 17:23:56,626] Trial 41 finished with value: 0.575 and parameters: {'k': 22}. Best is trial 2 with value: 0.7.\n",
      "[I 2025-02-05 17:23:56,659] Trial 42 finished with value: 0.625 and parameters: {'k': 20}. Best is trial 2 with value: 0.7.\n",
      "[I 2025-02-05 17:23:56,698] Trial 43 finished with value: 0.6875 and parameters: {'k': 10}. Best is trial 2 with value: 0.7.\n",
      "[I 2025-02-05 17:23:56,711] Trial 44 finished with value: 0.55 and parameters: {'k': 40}. Best is trial 2 with value: 0.7.\n",
      "[I 2025-02-05 17:23:56,734] Trial 45 finished with value: 0.325 and parameters: {'k': 47}. Best is trial 2 with value: 0.7.\n",
      "[I 2025-02-05 17:23:56,756] Trial 46 finished with value: 0.45 and parameters: {'k': 4}. Best is trial 2 with value: 0.7.\n",
      "[I 2025-02-05 17:23:56,773] Trial 47 finished with value: 0.425 and parameters: {'k': 1}. Best is trial 2 with value: 0.7.\n",
      "[I 2025-02-05 17:23:56,788] Trial 48 finished with value: 0.5 and parameters: {'k': 48}. Best is trial 2 with value: 0.7.\n",
      "[I 2025-02-05 17:23:56,799] Trial 49 finished with value: 0.6 and parameters: {'k': 45}. Best is trial 2 with value: 0.7.\n",
      "[I 2025-02-05 17:23:56,803] A new study created in memory with name: no-name-6155bbdb-1c52-4672-ac88-64aabaeb5cc2\n",
      "[I 2025-02-05 17:23:56,807] Trial 0 finished with value: 0.25 and parameters: {'k': 29}. Best is trial 0 with value: 0.25.\n",
      "[I 2025-02-05 17:23:56,811] Trial 1 finished with value: 0.6041666666666667 and parameters: {'k': 12}. Best is trial 1 with value: 0.6041666666666667.\n",
      "[I 2025-02-05 17:23:56,815] Trial 2 finished with value: 0.5833333333333334 and parameters: {'k': 11}. Best is trial 1 with value: 0.6041666666666667.\n",
      "[I 2025-02-05 17:23:56,819] Trial 3 finished with value: 0.25 and parameters: {'k': 42}. Best is trial 1 with value: 0.6041666666666667.\n",
      "[I 2025-02-05 17:23:56,823] Trial 4 finished with value: 0.9791666666666666 and parameters: {'k': 3}. Best is trial 4 with value: 0.9791666666666666.\n",
      "[I 2025-02-05 17:23:56,827] Trial 5 finished with value: 0.25 and parameters: {'k': 28}. Best is trial 4 with value: 0.9791666666666666.\n",
      "[I 2025-02-05 17:23:56,831] Trial 6 finished with value: 0.29166666666666663 and parameters: {'k': 39}. Best is trial 4 with value: 0.9791666666666666.\n",
      "[I 2025-02-05 17:23:56,836] Trial 7 finished with value: 0.20833333333333334 and parameters: {'k': 32}. Best is trial 4 with value: 0.9791666666666666.\n",
      "[I 2025-02-05 17:23:56,840] Trial 8 finished with value: 0.45833333333333337 and parameters: {'k': 23}. Best is trial 4 with value: 0.9791666666666666.\n",
      "[I 2025-02-05 17:23:56,846] Trial 9 finished with value: 0.9375 and parameters: {'k': 5}. Best is trial 4 with value: 0.9791666666666666.\n",
      "[I 2025-02-05 17:23:56,853] Trial 10 finished with value: 0.25 and parameters: {'k': 34}. Best is trial 4 with value: 0.9791666666666666.\n",
      "[I 2025-02-05 17:23:56,858] Trial 11 finished with value: 0.39583333333333337 and parameters: {'k': 36}. Best is trial 4 with value: 0.9791666666666666.\n",
      "[I 2025-02-05 17:23:56,864] Trial 12 finished with value: 0.2708333333333333 and parameters: {'k': 27}. Best is trial 4 with value: 0.9791666666666666.\n",
      "[I 2025-02-05 17:23:56,869] Trial 13 finished with value: 0.39583333333333337 and parameters: {'k': 35}. Best is trial 4 with value: 0.9791666666666666.\n",
      "[I 2025-02-05 17:23:56,876] Trial 14 finished with value: 0.625 and parameters: {'k': 19}. Best is trial 4 with value: 0.9791666666666666.\n",
      "[I 2025-02-05 17:23:56,891] Trial 15 finished with value: 0.7708333333333333 and parameters: {'k': 8}. Best is trial 4 with value: 0.9791666666666666.\n",
      "[I 2025-02-05 17:23:56,897] Trial 16 finished with value: 0.5833333333333333 and parameters: {'k': 15}. Best is trial 4 with value: 0.9791666666666666.\n",
      "[I 2025-02-05 17:23:56,909] Trial 17 finished with value: 0.5 and parameters: {'k': 46}. Best is trial 4 with value: 0.9791666666666666.\n",
      "[I 2025-02-05 17:23:56,916] Trial 18 finished with value: 0.16666666666666666 and parameters: {'k': 49}. Best is trial 4 with value: 0.9791666666666666.\n",
      "[I 2025-02-05 17:23:56,922] Trial 19 finished with value: 0.22916666666666666 and parameters: {'k': 30}. Best is trial 4 with value: 0.9791666666666666.\n",
      "[I 2025-02-05 17:23:56,929] Trial 20 finished with value: 0.5416666666666667 and parameters: {'k': 16}. Best is trial 4 with value: 0.9791666666666666.\n",
      "[I 2025-02-05 17:23:56,936] Trial 21 finished with value: 0.16666666666666669 and parameters: {'k': 31}. Best is trial 4 with value: 0.9791666666666666.\n",
      "[I 2025-02-05 17:23:56,948] Trial 22 finished with value: 0.1875 and parameters: {'k': 33}. Best is trial 4 with value: 0.9791666666666666.\n",
      "[I 2025-02-05 17:23:56,956] Trial 23 finished with value: 0.5416666666666667 and parameters: {'k': 17}. Best is trial 4 with value: 0.9791666666666666.\n",
      "[I 2025-02-05 17:23:56,969] Trial 24 finished with value: 0.16666666666666666 and parameters: {'k': 43}. Best is trial 4 with value: 0.9791666666666666.\n",
      "[I 2025-02-05 17:23:56,980] Trial 25 finished with value: 0.5625 and parameters: {'k': 21}. Best is trial 4 with value: 0.9791666666666666.\n",
      "[I 2025-02-05 17:23:56,990] Trial 26 finished with value: 0.25 and parameters: {'k': 44}. Best is trial 4 with value: 0.9791666666666666.\n",
      "[I 2025-02-05 17:23:57,013] Trial 27 finished with value: 0.7291666666666667 and parameters: {'k': 9}. Best is trial 4 with value: 0.9791666666666666.\n",
      "[I 2025-02-05 17:23:57,033] Trial 28 finished with value: 0.5833333333333334 and parameters: {'k': 14}. Best is trial 4 with value: 0.9791666666666666.\n",
      "[I 2025-02-05 17:23:57,054] Trial 29 finished with value: 0.2916666666666667 and parameters: {'k': 26}. Best is trial 4 with value: 0.9791666666666666.\n",
      "[I 2025-02-05 17:23:57,071] Trial 30 finished with value: 0.875 and parameters: {'k': 6}. Best is trial 4 with value: 0.9791666666666666.\n",
      "[I 2025-02-05 17:23:57,089] Trial 31 finished with value: 0.5416666666666666 and parameters: {'k': 18}. Best is trial 4 with value: 0.9791666666666666.\n",
      "[I 2025-02-05 17:23:57,099] Trial 32 finished with value: 0.20833333333333334 and parameters: {'k': 41}. Best is trial 4 with value: 0.9791666666666666.\n",
      "[I 2025-02-05 17:23:57,109] Trial 33 finished with value: 0.375 and parameters: {'k': 50}. Best is trial 4 with value: 0.9791666666666666.\n",
      "[I 2025-02-05 17:23:57,119] Trial 34 finished with value: 0.9583333333333333 and parameters: {'k': 2}. Best is trial 4 with value: 0.9791666666666666.\n",
      "[I 2025-02-05 17:23:57,131] Trial 35 finished with value: 0.625 and parameters: {'k': 13}. Best is trial 4 with value: 0.9791666666666666.\n",
      "[I 2025-02-05 17:23:57,149] Trial 36 finished with value: 0.39583333333333337 and parameters: {'k': 38}. Best is trial 4 with value: 0.9791666666666666.\n",
      "[I 2025-02-05 17:23:57,166] Trial 37 finished with value: 0.2708333333333333 and parameters: {'k': 25}. Best is trial 4 with value: 0.9791666666666666.\n",
      "[I 2025-02-05 17:23:57,175] Trial 38 finished with value: 0.7916666666666667 and parameters: {'k': 7}. Best is trial 4 with value: 0.9791666666666666.\n",
      "[I 2025-02-05 17:23:57,184] Trial 39 finished with value: 0.3541666666666667 and parameters: {'k': 24}. Best is trial 4 with value: 0.9791666666666666.\n",
      "[I 2025-02-05 17:23:57,207] Trial 40 finished with value: 0.4583333333333333 and parameters: {'k': 37}. Best is trial 4 with value: 0.9791666666666666.\n",
      "[I 2025-02-05 17:23:57,225] Trial 41 finished with value: 0.5625 and parameters: {'k': 22}. Best is trial 4 with value: 0.9791666666666666.\n",
      "[I 2025-02-05 17:23:57,243] Trial 42 finished with value: 0.6041666666666666 and parameters: {'k': 20}. Best is trial 4 with value: 0.9791666666666666.\n",
      "[I 2025-02-05 17:23:57,286] Trial 43 finished with value: 0.625 and parameters: {'k': 10}. Best is trial 4 with value: 0.9791666666666666.\n",
      "[I 2025-02-05 17:23:57,326] Trial 44 finished with value: 0.22916666666666669 and parameters: {'k': 40}. Best is trial 4 with value: 0.9791666666666666.\n",
      "[I 2025-02-05 17:23:57,363] Trial 45 finished with value: 0.375 and parameters: {'k': 47}. Best is trial 4 with value: 0.9791666666666666.\n",
      "[I 2025-02-05 17:23:57,400] Trial 46 finished with value: 1.0 and parameters: {'k': 4}. Best is trial 46 with value: 1.0.\n",
      "[I 2025-02-05 17:23:57,439] Trial 47 finished with value: 0.75 and parameters: {'k': 1}. Best is trial 46 with value: 1.0.\n",
      "[I 2025-02-05 17:23:57,488] Trial 48 finished with value: 0.20833333333333334 and parameters: {'k': 48}. Best is trial 46 with value: 1.0.\n",
      "[I 2025-02-05 17:23:57,530] Trial 49 finished with value: 0.25 and parameters: {'k': 45}. Best is trial 46 with value: 1.0.\n",
      "[I 2025-02-05 17:23:57,539] A new study created in memory with name: no-name-90600843-bdea-4e1c-a6d7-5d2c47ac34c3\n",
      "[I 2025-02-05 17:23:57,557] Trial 0 finished with value: 0.5606060606060606 and parameters: {'k': 29}. Best is trial 0 with value: 0.5606060606060606.\n",
      "[I 2025-02-05 17:23:57,561] Trial 1 finished with value: 0.6666666666666667 and parameters: {'k': 12}. Best is trial 1 with value: 0.6666666666666667.\n",
      "[I 2025-02-05 17:23:57,579] Trial 2 finished with value: 0.696969696969697 and parameters: {'k': 11}. Best is trial 2 with value: 0.696969696969697.\n",
      "[I 2025-02-05 17:23:57,589] Trial 3 finished with value: 0.5151515151515152 and parameters: {'k': 42}. Best is trial 2 with value: 0.696969696969697.\n",
      "[I 2025-02-05 17:23:57,596] Trial 4 finished with value: 0.7121212121212122 and parameters: {'k': 3}. Best is trial 4 with value: 0.7121212121212122.\n",
      "[I 2025-02-05 17:23:57,653] Trial 5 finished with value: 0.5151515151515151 and parameters: {'k': 28}. Best is trial 4 with value: 0.7121212121212122.\n",
      "[I 2025-02-05 17:23:57,676] Trial 6 finished with value: 0.696969696969697 and parameters: {'k': 39}. Best is trial 4 with value: 0.7121212121212122.\n",
      "[I 2025-02-05 17:23:57,685] Trial 7 finished with value: 0.5909090909090909 and parameters: {'k': 32}. Best is trial 4 with value: 0.7121212121212122.\n",
      "[I 2025-02-05 17:23:57,693] Trial 8 finished with value: 0.6515151515151516 and parameters: {'k': 23}. Best is trial 4 with value: 0.7121212121212122.\n",
      "[I 2025-02-05 17:23:57,699] Trial 9 finished with value: 0.6818181818181819 and parameters: {'k': 5}. Best is trial 4 with value: 0.7121212121212122.\n",
      "[I 2025-02-05 17:23:57,713] Trial 10 finished with value: 0.5454545454545454 and parameters: {'k': 34}. Best is trial 4 with value: 0.7121212121212122.\n",
      "[I 2025-02-05 17:23:57,733] Trial 11 finished with value: 0.6060606060606062 and parameters: {'k': 36}. Best is trial 4 with value: 0.7121212121212122.\n",
      "[I 2025-02-05 17:23:57,744] Trial 12 finished with value: 0.6060606060606061 and parameters: {'k': 27}. Best is trial 4 with value: 0.7121212121212122.\n",
      "[I 2025-02-05 17:23:57,750] Trial 13 finished with value: 0.5757575757575759 and parameters: {'k': 35}. Best is trial 4 with value: 0.7121212121212122.\n",
      "[I 2025-02-05 17:23:57,768] Trial 14 finished with value: 0.5303030303030303 and parameters: {'k': 19}. Best is trial 4 with value: 0.7121212121212122.\n",
      "[I 2025-02-05 17:23:57,780] Trial 15 finished with value: 0.7878787878787878 and parameters: {'k': 8}. Best is trial 15 with value: 0.7878787878787878.\n",
      "[I 2025-02-05 17:23:57,795] Trial 16 finished with value: 0.5151515151515151 and parameters: {'k': 15}. Best is trial 15 with value: 0.7878787878787878.\n",
      "[I 2025-02-05 17:23:57,812] Trial 17 finished with value: 0.5 and parameters: {'k': 46}. Best is trial 15 with value: 0.7878787878787878.\n",
      "[I 2025-02-05 17:23:57,830] Trial 18 finished with value: 0.3484848484848485 and parameters: {'k': 49}. Best is trial 15 with value: 0.7878787878787878.\n",
      "[I 2025-02-05 17:23:57,837] Trial 19 finished with value: 0.6515151515151516 and parameters: {'k': 30}. Best is trial 15 with value: 0.7878787878787878.\n",
      "[I 2025-02-05 17:23:57,845] Trial 20 finished with value: 0.4696969696969697 and parameters: {'k': 16}. Best is trial 15 with value: 0.7878787878787878.\n",
      "[I 2025-02-05 17:23:57,851] Trial 21 finished with value: 0.6515151515151516 and parameters: {'k': 31}. Best is trial 15 with value: 0.7878787878787878.\n",
      "[I 2025-02-05 17:23:57,861] Trial 22 finished with value: 0.5151515151515151 and parameters: {'k': 33}. Best is trial 15 with value: 0.7878787878787878.\n",
      "[I 2025-02-05 17:23:57,874] Trial 23 finished with value: 0.4393939393939394 and parameters: {'k': 17}. Best is trial 15 with value: 0.7878787878787878.\n",
      "[I 2025-02-05 17:23:57,887] Trial 24 finished with value: 0.5151515151515151 and parameters: {'k': 43}. Best is trial 15 with value: 0.7878787878787878.\n",
      "[I 2025-02-05 17:23:57,909] Trial 25 finished with value: 0.5909090909090909 and parameters: {'k': 21}. Best is trial 15 with value: 0.7878787878787878.\n",
      "[I 2025-02-05 17:23:57,924] Trial 26 finished with value: 0.5151515151515151 and parameters: {'k': 44}. Best is trial 15 with value: 0.7878787878787878.\n",
      "[I 2025-02-05 17:23:57,948] Trial 27 finished with value: 0.8181818181818182 and parameters: {'k': 9}. Best is trial 27 with value: 0.8181818181818182.\n",
      "[I 2025-02-05 17:23:57,968] Trial 28 finished with value: 0.5909090909090908 and parameters: {'k': 14}. Best is trial 27 with value: 0.8181818181818182.\n",
      "[I 2025-02-05 17:23:57,982] Trial 29 finished with value: 0.6818181818181819 and parameters: {'k': 26}. Best is trial 27 with value: 0.8181818181818182.\n",
      "[I 2025-02-05 17:23:57,996] Trial 30 finished with value: 0.6666666666666667 and parameters: {'k': 6}. Best is trial 27 with value: 0.8181818181818182.\n",
      "[I 2025-02-05 17:23:58,016] Trial 31 finished with value: 0.5303030303030303 and parameters: {'k': 18}. Best is trial 27 with value: 0.8181818181818182.\n",
      "[I 2025-02-05 17:23:58,031] Trial 32 finished with value: 0.6515151515151516 and parameters: {'k': 41}. Best is trial 27 with value: 0.8181818181818182.\n",
      "[I 2025-02-05 17:23:58,055] Trial 33 finished with value: 0.3787878787878788 and parameters: {'k': 50}. Best is trial 27 with value: 0.8181818181818182.\n",
      "[I 2025-02-05 17:23:58,070] Trial 34 finished with value: 0.8484848484848485 and parameters: {'k': 2}. Best is trial 34 with value: 0.8484848484848485.\n",
      "[I 2025-02-05 17:23:58,091] Trial 35 finished with value: 0.6363636363636364 and parameters: {'k': 13}. Best is trial 34 with value: 0.8484848484848485.\n",
      "[I 2025-02-05 17:23:58,110] Trial 36 finished with value: 0.6060606060606062 and parameters: {'k': 38}. Best is trial 34 with value: 0.8484848484848485.\n",
      "[I 2025-02-05 17:23:58,128] Trial 37 finished with value: 0.6363636363636364 and parameters: {'k': 25}. Best is trial 34 with value: 0.8484848484848485.\n",
      "[I 2025-02-05 17:23:58,143] Trial 38 finished with value: 0.7424242424242424 and parameters: {'k': 7}. Best is trial 34 with value: 0.8484848484848485.\n",
      "[I 2025-02-05 17:23:58,165] Trial 39 finished with value: 0.5757575757575758 and parameters: {'k': 24}. Best is trial 34 with value: 0.8484848484848485.\n",
      "[I 2025-02-05 17:23:58,186] Trial 40 finished with value: 0.5454545454545454 and parameters: {'k': 37}. Best is trial 34 with value: 0.8484848484848485.\n",
      "[I 2025-02-05 17:23:58,204] Trial 41 finished with value: 0.5757575757575758 and parameters: {'k': 22}. Best is trial 34 with value: 0.8484848484848485.\n",
      "[I 2025-02-05 17:23:58,225] Trial 42 finished with value: 0.5454545454545454 and parameters: {'k': 20}. Best is trial 34 with value: 0.8484848484848485.\n",
      "[I 2025-02-05 17:23:58,254] Trial 43 finished with value: 0.787878787878788 and parameters: {'k': 10}. Best is trial 34 with value: 0.8484848484848485.\n",
      "[I 2025-02-05 17:23:58,281] Trial 44 finished with value: 0.6060606060606061 and parameters: {'k': 40}. Best is trial 34 with value: 0.8484848484848485.\n",
      "[I 2025-02-05 17:23:58,311] Trial 45 finished with value: 0.3939393939393939 and parameters: {'k': 47}. Best is trial 34 with value: 0.8484848484848485.\n",
      "[I 2025-02-05 17:23:58,333] Trial 46 finished with value: 0.696969696969697 and parameters: {'k': 4}. Best is trial 34 with value: 0.8484848484848485.\n",
      "[I 2025-02-05 17:23:58,363] Trial 47 finished with value: 0.787878787878788 and parameters: {'k': 1}. Best is trial 34 with value: 0.8484848484848485.\n",
      "[I 2025-02-05 17:23:58,396] Trial 48 finished with value: 0.24242424242424243 and parameters: {'k': 48}. Best is trial 34 with value: 0.8484848484848485.\n",
      "[I 2025-02-05 17:23:58,424] Trial 49 finished with value: 0.48484848484848486 and parameters: {'k': 45}. Best is trial 34 with value: 0.8484848484848485.\n",
      "[I 2025-02-05 17:23:58,448] A new study created in memory with name: no-name-0263db88-817d-47e6-9693-3c51bdec675f\n",
      "[I 2025-02-05 17:23:58,456] Trial 0 finished with value: 0.6375000000000001 and parameters: {'k': 29}. Best is trial 0 with value: 0.6375000000000001.\n",
      "[I 2025-02-05 17:23:58,461] Trial 1 finished with value: 0.4625 and parameters: {'k': 12}. Best is trial 0 with value: 0.6375000000000001.\n",
      "[I 2025-02-05 17:23:58,472] Trial 2 finished with value: 0.4625 and parameters: {'k': 11}. Best is trial 0 with value: 0.6375000000000001.\n",
      "[I 2025-02-05 17:23:58,478] Trial 3 finished with value: 0.375 and parameters: {'k': 42}. Best is trial 0 with value: 0.6375000000000001.\n",
      "[I 2025-02-05 17:23:58,486] Trial 4 finished with value: 0.44999999999999996 and parameters: {'k': 3}. Best is trial 0 with value: 0.6375000000000001.\n",
      "[I 2025-02-05 17:23:58,492] Trial 5 finished with value: 0.575 and parameters: {'k': 28}. Best is trial 0 with value: 0.6375000000000001.\n",
      "[I 2025-02-05 17:23:58,500] Trial 6 finished with value: 0.2875 and parameters: {'k': 39}. Best is trial 0 with value: 0.6375000000000001.\n",
      "[I 2025-02-05 17:23:58,505] Trial 7 finished with value: 0.5375000000000001 and parameters: {'k': 32}. Best is trial 0 with value: 0.6375000000000001.\n",
      "[I 2025-02-05 17:23:58,511] Trial 8 finished with value: 0.5999999999999999 and parameters: {'k': 23}. Best is trial 0 with value: 0.6375000000000001.\n",
      "[I 2025-02-05 17:23:58,525] Trial 9 finished with value: 0.2875 and parameters: {'k': 5}. Best is trial 0 with value: 0.6375000000000001.\n",
      "[I 2025-02-05 17:23:58,538] Trial 10 finished with value: 0.4 and parameters: {'k': 34}. Best is trial 0 with value: 0.6375000000000001.\n",
      "[I 2025-02-05 17:23:58,545] Trial 11 finished with value: 0.4 and parameters: {'k': 36}. Best is trial 0 with value: 0.6375000000000001.\n",
      "[I 2025-02-05 17:23:58,564] Trial 12 finished with value: 0.4875 and parameters: {'k': 27}. Best is trial 0 with value: 0.6375000000000001.\n",
      "[I 2025-02-05 17:23:58,589] Trial 13 finished with value: 0.4125 and parameters: {'k': 35}. Best is trial 0 with value: 0.6375000000000001.\n",
      "[I 2025-02-05 17:23:58,597] Trial 14 finished with value: 0.5125000000000001 and parameters: {'k': 19}. Best is trial 0 with value: 0.6375000000000001.\n",
      "[I 2025-02-05 17:23:58,617] Trial 15 finished with value: 0.4 and parameters: {'k': 8}. Best is trial 0 with value: 0.6375000000000001.\n",
      "[I 2025-02-05 17:23:58,628] Trial 16 finished with value: 0.5125 and parameters: {'k': 15}. Best is trial 0 with value: 0.6375000000000001.\n",
      "[I 2025-02-05 17:23:58,634] Trial 17 finished with value: 0.3375 and parameters: {'k': 46}. Best is trial 0 with value: 0.6375000000000001.\n",
      "[I 2025-02-05 17:23:58,647] Trial 18 finished with value: 0.3125 and parameters: {'k': 49}. Best is trial 0 with value: 0.6375000000000001.\n",
      "[I 2025-02-05 17:23:58,661] Trial 19 finished with value: 0.5625 and parameters: {'k': 30}. Best is trial 0 with value: 0.6375000000000001.\n",
      "[I 2025-02-05 17:23:58,677] Trial 20 finished with value: 0.4375 and parameters: {'k': 16}. Best is trial 0 with value: 0.6375000000000001.\n",
      "[I 2025-02-05 17:23:58,693] Trial 21 finished with value: 0.575 and parameters: {'k': 31}. Best is trial 0 with value: 0.6375000000000001.\n",
      "[I 2025-02-05 17:23:58,707] Trial 22 finished with value: 0.5125 and parameters: {'k': 33}. Best is trial 0 with value: 0.6375000000000001.\n",
      "[I 2025-02-05 17:23:58,732] Trial 23 finished with value: 0.39999999999999997 and parameters: {'k': 17}. Best is trial 0 with value: 0.6375000000000001.\n",
      "[I 2025-02-05 17:23:58,739] Trial 24 finished with value: 0.4 and parameters: {'k': 43}. Best is trial 0 with value: 0.6375000000000001.\n",
      "[I 2025-02-05 17:23:58,768] Trial 25 finished with value: 0.5874999999999999 and parameters: {'k': 21}. Best is trial 0 with value: 0.6375000000000001.\n",
      "[I 2025-02-05 17:23:58,808] Trial 26 finished with value: 0.375 and parameters: {'k': 44}. Best is trial 0 with value: 0.6375000000000001.\n",
      "[I 2025-02-05 17:23:58,824] Trial 27 finished with value: 0.45000000000000007 and parameters: {'k': 9}. Best is trial 0 with value: 0.6375000000000001.\n",
      "[I 2025-02-05 17:23:58,847] Trial 28 finished with value: 0.5375000000000001 and parameters: {'k': 14}. Best is trial 0 with value: 0.6375000000000001.\n",
      "[I 2025-02-05 17:23:58,857] Trial 29 finished with value: 0.5249999999999999 and parameters: {'k': 26}. Best is trial 0 with value: 0.6375000000000001.\n",
      "[I 2025-02-05 17:23:58,891] Trial 30 finished with value: 0.3625 and parameters: {'k': 6}. Best is trial 0 with value: 0.6375000000000001.\n",
      "[I 2025-02-05 17:23:58,913] Trial 31 finished with value: 0.43749999999999994 and parameters: {'k': 18}. Best is trial 0 with value: 0.6375000000000001.\n",
      "[I 2025-02-05 17:23:58,929] Trial 32 finished with value: 0.325 and parameters: {'k': 41}. Best is trial 0 with value: 0.6375000000000001.\n",
      "[I 2025-02-05 17:23:58,950] Trial 33 finished with value: 0.3 and parameters: {'k': 50}. Best is trial 0 with value: 0.6375000000000001.\n",
      "[I 2025-02-05 17:23:58,962] Trial 34 finished with value: 0.42500000000000004 and parameters: {'k': 2}. Best is trial 0 with value: 0.6375000000000001.\n",
      "[I 2025-02-05 17:23:58,980] Trial 35 finished with value: 0.525 and parameters: {'k': 13}. Best is trial 0 with value: 0.6375000000000001.\n",
      "[I 2025-02-05 17:23:58,996] Trial 36 finished with value: 0.32499999999999996 and parameters: {'k': 38}. Best is trial 0 with value: 0.6375000000000001.\n",
      "[I 2025-02-05 17:23:59,025] Trial 37 finished with value: 0.5875 and parameters: {'k': 25}. Best is trial 0 with value: 0.6375000000000001.\n",
      "[I 2025-02-05 17:23:59,038] Trial 38 finished with value: 0.3875 and parameters: {'k': 7}. Best is trial 0 with value: 0.6375000000000001.\n",
      "[I 2025-02-05 17:23:59,050] Trial 39 finished with value: 0.5125000000000001 and parameters: {'k': 24}. Best is trial 0 with value: 0.6375000000000001.\n",
      "[I 2025-02-05 17:23:59,062] Trial 40 finished with value: 0.39999999999999997 and parameters: {'k': 37}. Best is trial 0 with value: 0.6375000000000001.\n",
      "[I 2025-02-05 17:23:59,078] Trial 41 finished with value: 0.575 and parameters: {'k': 22}. Best is trial 0 with value: 0.6375000000000001.\n",
      "[I 2025-02-05 17:23:59,092] Trial 42 finished with value: 0.5249999999999999 and parameters: {'k': 20}. Best is trial 0 with value: 0.6375000000000001.\n",
      "[I 2025-02-05 17:23:59,105] Trial 43 finished with value: 0.4375 and parameters: {'k': 10}. Best is trial 0 with value: 0.6375000000000001.\n",
      "[I 2025-02-05 17:23:59,118] Trial 44 finished with value: 0.3125 and parameters: {'k': 40}. Best is trial 0 with value: 0.6375000000000001.\n",
      "[I 2025-02-05 17:23:59,135] Trial 45 finished with value: 0.3125 and parameters: {'k': 47}. Best is trial 0 with value: 0.6375000000000001.\n",
      "[I 2025-02-05 17:23:59,147] Trial 46 finished with value: 0.36250000000000004 and parameters: {'k': 4}. Best is trial 0 with value: 0.6375000000000001.\n",
      "[I 2025-02-05 17:23:59,160] Trial 47 finished with value: 0.6 and parameters: {'k': 1}. Best is trial 0 with value: 0.6375000000000001.\n",
      "[I 2025-02-05 17:23:59,173] Trial 48 finished with value: 0.2625 and parameters: {'k': 48}. Best is trial 0 with value: 0.6375000000000001.\n",
      "[I 2025-02-05 17:23:59,189] Trial 49 finished with value: 0.325 and parameters: {'k': 45}. Best is trial 0 with value: 0.6375000000000001.\n",
      "[I 2025-02-05 17:23:59,205] A new study created in memory with name: no-name-29e4ca79-8fcd-4da3-80e8-bd44a94e0358\n",
      "[I 2025-02-05 17:23:59,214] Trial 0 finished with value: 0.711111111111111 and parameters: {'k': 29}. Best is trial 0 with value: 0.711111111111111.\n",
      "[I 2025-02-05 17:23:59,221] Trial 1 finished with value: 0.5333333333333333 and parameters: {'k': 12}. Best is trial 0 with value: 0.711111111111111.\n",
      "[I 2025-02-05 17:23:59,230] Trial 2 finished with value: 0.5777777777777777 and parameters: {'k': 11}. Best is trial 0 with value: 0.711111111111111.\n",
      "[I 2025-02-05 17:23:59,259] Trial 3 finished with value: 0.6444444444444444 and parameters: {'k': 42}. Best is trial 0 with value: 0.711111111111111.\n",
      "[I 2025-02-05 17:23:59,276] Trial 4 finished with value: 0.45555555555555555 and parameters: {'k': 3}. Best is trial 0 with value: 0.711111111111111.\n",
      "[I 2025-02-05 17:23:59,297] Trial 5 finished with value: 0.7333333333333333 and parameters: {'k': 28}. Best is trial 5 with value: 0.7333333333333333.\n",
      "[I 2025-02-05 17:23:59,315] Trial 6 finished with value: 0.6222222222222222 and parameters: {'k': 39}. Best is trial 5 with value: 0.7333333333333333.\n",
      "[I 2025-02-05 17:23:59,324] Trial 7 finished with value: 0.6 and parameters: {'k': 32}. Best is trial 5 with value: 0.7333333333333333.\n",
      "[I 2025-02-05 17:23:59,335] Trial 8 finished with value: 0.6666666666666667 and parameters: {'k': 23}. Best is trial 5 with value: 0.7333333333333333.\n",
      "[I 2025-02-05 17:23:59,341] Trial 9 finished with value: 0.5555555555555556 and parameters: {'k': 5}. Best is trial 5 with value: 0.7333333333333333.\n",
      "[I 2025-02-05 17:23:59,353] Trial 10 finished with value: 0.5666666666666667 and parameters: {'k': 34}. Best is trial 5 with value: 0.7333333333333333.\n",
      "[I 2025-02-05 17:23:59,364] Trial 11 finished with value: 0.611111111111111 and parameters: {'k': 36}. Best is trial 5 with value: 0.7333333333333333.\n",
      "[I 2025-02-05 17:23:59,371] Trial 12 finished with value: 0.711111111111111 and parameters: {'k': 27}. Best is trial 5 with value: 0.7333333333333333.\n",
      "[I 2025-02-05 17:23:59,383] Trial 13 finished with value: 0.5888888888888888 and parameters: {'k': 35}. Best is trial 5 with value: 0.7333333333333333.\n",
      "[I 2025-02-05 17:23:59,395] Trial 14 finished with value: 0.6222222222222222 and parameters: {'k': 19}. Best is trial 5 with value: 0.7333333333333333.\n",
      "[I 2025-02-05 17:23:59,402] Trial 15 finished with value: 0.5666666666666667 and parameters: {'k': 8}. Best is trial 5 with value: 0.7333333333333333.\n",
      "[I 2025-02-05 17:23:59,415] Trial 16 finished with value: 0.6333333333333333 and parameters: {'k': 15}. Best is trial 5 with value: 0.7333333333333333.\n",
      "[I 2025-02-05 17:23:59,422] Trial 17 finished with value: 0.5666666666666667 and parameters: {'k': 46}. Best is trial 5 with value: 0.7333333333333333.\n",
      "[I 2025-02-05 17:23:59,442] Trial 18 finished with value: 0.5888888888888888 and parameters: {'k': 49}. Best is trial 5 with value: 0.7333333333333333.\n",
      "[I 2025-02-05 17:23:59,456] Trial 19 finished with value: 0.6555555555555556 and parameters: {'k': 30}. Best is trial 5 with value: 0.7333333333333333.\n",
      "[I 2025-02-05 17:23:59,468] Trial 20 finished with value: 0.6111111111111112 and parameters: {'k': 16}. Best is trial 5 with value: 0.7333333333333333.\n",
      "[I 2025-02-05 17:23:59,487] Trial 21 finished with value: 0.6666666666666666 and parameters: {'k': 31}. Best is trial 5 with value: 0.7333333333333333.\n",
      "[I 2025-02-05 17:23:59,503] Trial 22 finished with value: 0.6 and parameters: {'k': 33}. Best is trial 5 with value: 0.7333333333333333.\n",
      "[I 2025-02-05 17:23:59,519] Trial 23 finished with value: 0.6666666666666665 and parameters: {'k': 17}. Best is trial 5 with value: 0.7333333333333333.\n",
      "[I 2025-02-05 17:23:59,533] Trial 24 finished with value: 0.6777777777777778 and parameters: {'k': 43}. Best is trial 5 with value: 0.7333333333333333.\n",
      "[I 2025-02-05 17:23:59,547] Trial 25 finished with value: 0.6444444444444444 and parameters: {'k': 21}. Best is trial 5 with value: 0.7333333333333333.\n",
      "[I 2025-02-05 17:23:59,561] Trial 26 finished with value: 0.6555555555555554 and parameters: {'k': 44}. Best is trial 5 with value: 0.7333333333333333.\n",
      "[I 2025-02-05 17:23:59,577] Trial 27 finished with value: 0.5777777777777777 and parameters: {'k': 9}. Best is trial 5 with value: 0.7333333333333333.\n",
      "[I 2025-02-05 17:23:59,589] Trial 28 finished with value: 0.5111111111111111 and parameters: {'k': 14}. Best is trial 5 with value: 0.7333333333333333.\n",
      "[I 2025-02-05 17:23:59,601] Trial 29 finished with value: 0.711111111111111 and parameters: {'k': 26}. Best is trial 5 with value: 0.7333333333333333.\n",
      "[I 2025-02-05 17:23:59,614] Trial 30 finished with value: 0.5111111111111111 and parameters: {'k': 6}. Best is trial 5 with value: 0.7333333333333333.\n",
      "[I 2025-02-05 17:23:59,629] Trial 31 finished with value: 0.6444444444444445 and parameters: {'k': 18}. Best is trial 5 with value: 0.7333333333333333.\n",
      "[I 2025-02-05 17:23:59,651] Trial 32 finished with value: 0.6444444444444444 and parameters: {'k': 41}. Best is trial 5 with value: 0.7333333333333333.\n",
      "[I 2025-02-05 17:23:59,661] Trial 33 finished with value: 0.5999999999999999 and parameters: {'k': 50}. Best is trial 5 with value: 0.7333333333333333.\n",
      "[I 2025-02-05 17:23:59,673] Trial 34 finished with value: 0.49999999999999994 and parameters: {'k': 2}. Best is trial 5 with value: 0.7333333333333333.\n",
      "[I 2025-02-05 17:23:59,694] Trial 35 finished with value: 0.5333333333333332 and parameters: {'k': 13}. Best is trial 5 with value: 0.7333333333333333.\n",
      "[I 2025-02-05 17:23:59,708] Trial 36 finished with value: 0.6555555555555554 and parameters: {'k': 38}. Best is trial 5 with value: 0.7333333333333333.\n",
      "[I 2025-02-05 17:23:59,722] Trial 37 finished with value: 0.6777777777777778 and parameters: {'k': 25}. Best is trial 5 with value: 0.7333333333333333.\n",
      "[I 2025-02-05 17:23:59,742] Trial 38 finished with value: 0.5111111111111111 and parameters: {'k': 7}. Best is trial 5 with value: 0.7333333333333333.\n",
      "[I 2025-02-05 17:23:59,763] Trial 39 finished with value: 0.6777777777777778 and parameters: {'k': 24}. Best is trial 5 with value: 0.7333333333333333.\n",
      "[I 2025-02-05 17:23:59,775] Trial 40 finished with value: 0.6444444444444444 and parameters: {'k': 37}. Best is trial 5 with value: 0.7333333333333333.\n",
      "[I 2025-02-05 17:23:59,822] Trial 41 finished with value: 0.6666666666666666 and parameters: {'k': 22}. Best is trial 5 with value: 0.7333333333333333.\n",
      "[I 2025-02-05 17:23:59,835] Trial 42 finished with value: 0.6222222222222222 and parameters: {'k': 20}. Best is trial 5 with value: 0.7333333333333333.\n",
      "[I 2025-02-05 17:23:59,860] Trial 43 finished with value: 0.5555555555555556 and parameters: {'k': 10}. Best is trial 5 with value: 0.7333333333333333.\n",
      "[I 2025-02-05 17:23:59,881] Trial 44 finished with value: 0.6666666666666666 and parameters: {'k': 40}. Best is trial 5 with value: 0.7333333333333333.\n",
      "[I 2025-02-05 17:23:59,916] Trial 45 finished with value: 0.6 and parameters: {'k': 47}. Best is trial 5 with value: 0.7333333333333333.\n",
      "[I 2025-02-05 17:23:59,950] Trial 46 finished with value: 0.5222222222222221 and parameters: {'k': 4}. Best is trial 5 with value: 0.7333333333333333.\n",
      "[I 2025-02-05 17:23:59,961] Trial 47 finished with value: 0.5444444444444444 and parameters: {'k': 1}. Best is trial 5 with value: 0.7333333333333333.\n",
      "[I 2025-02-05 17:23:59,972] Trial 48 finished with value: 0.6444444444444444 and parameters: {'k': 48}. Best is trial 5 with value: 0.7333333333333333.\n",
      "[I 2025-02-05 17:23:59,982] Trial 49 finished with value: 0.5888888888888889 and parameters: {'k': 45}. Best is trial 5 with value: 0.7333333333333333.\n",
      "[I 2025-02-05 17:23:59,987] A new study created in memory with name: no-name-5426873c-b8db-49a7-a7fb-b55acf8ab966\n",
      "[I 2025-02-05 17:23:59,991] Trial 0 finished with value: 0.675 and parameters: {'k': 29}. Best is trial 0 with value: 0.675.\n",
      "[I 2025-02-05 17:23:59,994] Trial 1 finished with value: 0.7625 and parameters: {'k': 12}. Best is trial 1 with value: 0.7625.\n",
      "[I 2025-02-05 17:23:59,998] Trial 2 finished with value: 0.775 and parameters: {'k': 11}. Best is trial 2 with value: 0.775.\n",
      "[I 2025-02-05 17:24:00,006] Trial 3 finished with value: 0.575 and parameters: {'k': 42}. Best is trial 2 with value: 0.775.\n",
      "[I 2025-02-05 17:24:00,011] Trial 4 finished with value: 0.6 and parameters: {'k': 3}. Best is trial 2 with value: 0.775.\n",
      "[I 2025-02-05 17:24:00,016] Trial 5 finished with value: 0.6625 and parameters: {'k': 28}. Best is trial 2 with value: 0.775.\n",
      "[I 2025-02-05 17:24:00,021] Trial 6 finished with value: 0.6375 and parameters: {'k': 39}. Best is trial 2 with value: 0.775.\n",
      "[I 2025-02-05 17:24:00,027] Trial 7 finished with value: 0.675 and parameters: {'k': 32}. Best is trial 2 with value: 0.775.\n",
      "[I 2025-02-05 17:24:00,032] Trial 8 finished with value: 0.725 and parameters: {'k': 23}. Best is trial 2 with value: 0.775.\n",
      "[I 2025-02-05 17:24:00,038] Trial 9 finished with value: 0.675 and parameters: {'k': 5}. Best is trial 2 with value: 0.775.\n",
      "[I 2025-02-05 17:24:00,043] Trial 10 finished with value: 0.5875 and parameters: {'k': 34}. Best is trial 2 with value: 0.775.\n",
      "[I 2025-02-05 17:24:00,049] Trial 11 finished with value: 0.6499999999999999 and parameters: {'k': 36}. Best is trial 2 with value: 0.775.\n",
      "[I 2025-02-05 17:24:00,054] Trial 12 finished with value: 0.675 and parameters: {'k': 27}. Best is trial 2 with value: 0.775.\n",
      "[I 2025-02-05 17:24:00,060] Trial 13 finished with value: 0.625 and parameters: {'k': 35}. Best is trial 2 with value: 0.775.\n",
      "[I 2025-02-05 17:24:00,065] Trial 14 finished with value: 0.7375 and parameters: {'k': 19}. Best is trial 2 with value: 0.775.\n",
      "[I 2025-02-05 17:24:00,071] Trial 15 finished with value: 0.7625 and parameters: {'k': 8}. Best is trial 2 with value: 0.775.\n",
      "[I 2025-02-05 17:24:00,077] Trial 16 finished with value: 0.7625 and parameters: {'k': 15}. Best is trial 2 with value: 0.775.\n",
      "[I 2025-02-05 17:24:00,083] Trial 17 finished with value: 0.6625 and parameters: {'k': 46}. Best is trial 2 with value: 0.775.\n",
      "[I 2025-02-05 17:24:00,090] Trial 18 finished with value: 0.6375 and parameters: {'k': 49}. Best is trial 2 with value: 0.775.\n",
      "[I 2025-02-05 17:24:00,097] Trial 19 finished with value: 0.7124999999999999 and parameters: {'k': 30}. Best is trial 2 with value: 0.775.\n",
      "[I 2025-02-05 17:24:00,104] Trial 20 finished with value: 0.7625 and parameters: {'k': 16}. Best is trial 2 with value: 0.775.\n",
      "[I 2025-02-05 17:24:00,111] Trial 21 finished with value: 0.6875 and parameters: {'k': 31}. Best is trial 2 with value: 0.775.\n",
      "[I 2025-02-05 17:24:00,118] Trial 22 finished with value: 0.6 and parameters: {'k': 33}. Best is trial 2 with value: 0.775.\n",
      "[I 2025-02-05 17:24:00,126] Trial 23 finished with value: 0.7625 and parameters: {'k': 17}. Best is trial 2 with value: 0.775.\n",
      "[I 2025-02-05 17:24:00,135] Trial 24 finished with value: 0.6125 and parameters: {'k': 43}. Best is trial 2 with value: 0.775.\n",
      "[I 2025-02-05 17:24:00,143] Trial 25 finished with value: 0.7625 and parameters: {'k': 21}. Best is trial 2 with value: 0.775.\n",
      "[I 2025-02-05 17:24:00,150] Trial 26 finished with value: 0.575 and parameters: {'k': 44}. Best is trial 2 with value: 0.775.\n",
      "[I 2025-02-05 17:24:00,160] Trial 27 finished with value: 0.7875 and parameters: {'k': 9}. Best is trial 27 with value: 0.7875.\n",
      "[I 2025-02-05 17:24:00,169] Trial 28 finished with value: 0.7625 and parameters: {'k': 14}. Best is trial 27 with value: 0.7875.\n",
      "[I 2025-02-05 17:24:00,178] Trial 29 finished with value: 0.6875 and parameters: {'k': 26}. Best is trial 27 with value: 0.7875.\n",
      "[I 2025-02-05 17:24:00,188] Trial 30 finished with value: 0.7375 and parameters: {'k': 6}. Best is trial 27 with value: 0.7875.\n",
      "[I 2025-02-05 17:24:00,197] Trial 31 finished with value: 0.75 and parameters: {'k': 18}. Best is trial 27 with value: 0.7875.\n",
      "[I 2025-02-05 17:24:00,209] Trial 32 finished with value: 0.575 and parameters: {'k': 41}. Best is trial 27 with value: 0.7875.\n",
      "[I 2025-02-05 17:24:00,219] Trial 33 finished with value: 0.6 and parameters: {'k': 50}. Best is trial 27 with value: 0.7875.\n",
      "[I 2025-02-05 17:24:00,228] Trial 34 finished with value: 0.5375 and parameters: {'k': 2}. Best is trial 27 with value: 0.7875.\n",
      "[I 2025-02-05 17:24:00,238] Trial 35 finished with value: 0.75 and parameters: {'k': 13}. Best is trial 27 with value: 0.7875.\n",
      "[I 2025-02-05 17:24:00,254] Trial 36 finished with value: 0.6375 and parameters: {'k': 38}. Best is trial 27 with value: 0.7875.\n",
      "[I 2025-02-05 17:24:00,266] Trial 37 finished with value: 0.6875 and parameters: {'k': 25}. Best is trial 27 with value: 0.7875.\n",
      "[I 2025-02-05 17:24:00,275] Trial 38 finished with value: 0.8 and parameters: {'k': 7}. Best is trial 38 with value: 0.8.\n",
      "[I 2025-02-05 17:24:00,286] Trial 39 finished with value: 0.7125 and parameters: {'k': 24}. Best is trial 38 with value: 0.8.\n",
      "[I 2025-02-05 17:24:00,314] Trial 40 finished with value: 0.65 and parameters: {'k': 37}. Best is trial 38 with value: 0.8.\n",
      "[I 2025-02-05 17:24:00,333] Trial 41 finished with value: 0.7250000000000001 and parameters: {'k': 22}. Best is trial 38 with value: 0.8.\n",
      "[I 2025-02-05 17:24:00,345] Trial 42 finished with value: 0.7375 and parameters: {'k': 20}. Best is trial 38 with value: 0.8.\n",
      "[I 2025-02-05 17:24:00,384] Trial 43 finished with value: 0.7875 and parameters: {'k': 10}. Best is trial 38 with value: 0.8.\n",
      "[I 2025-02-05 17:24:00,449] Trial 44 finished with value: 0.5625 and parameters: {'k': 40}. Best is trial 38 with value: 0.8.\n",
      "[I 2025-02-05 17:24:00,483] Trial 45 finished with value: 0.6625 and parameters: {'k': 47}. Best is trial 38 with value: 0.8.\n",
      "[I 2025-02-05 17:24:00,511] Trial 46 finished with value: 0.7 and parameters: {'k': 4}. Best is trial 38 with value: 0.8.\n",
      "[I 2025-02-05 17:24:00,583] Trial 47 finished with value: 0.725 and parameters: {'k': 1}. Best is trial 38 with value: 0.8.\n",
      "[I 2025-02-05 17:24:00,653] Trial 48 finished with value: 0.6375 and parameters: {'k': 48}. Best is trial 38 with value: 0.8.\n",
      "[I 2025-02-05 17:24:00,673] Trial 49 finished with value: 0.6375 and parameters: {'k': 45}. Best is trial 38 with value: 0.8.\n",
      "[I 2025-02-05 17:24:00,692] A new study created in memory with name: no-name-99236a50-83a2-4fcd-9508-dc59dc8ea212\n",
      "[I 2025-02-05 17:24:00,735] Trial 0 finished with value: 0.4583333333333333 and parameters: {'k': 29}. Best is trial 0 with value: 0.4583333333333333.\n",
      "[I 2025-02-05 17:24:00,772] Trial 1 finished with value: 0.45833333333333337 and parameters: {'k': 12}. Best is trial 1 with value: 0.45833333333333337.\n",
      "[I 2025-02-05 17:24:00,811] Trial 2 finished with value: 0.20833333333333331 and parameters: {'k': 11}. Best is trial 1 with value: 0.45833333333333337.\n",
      "[I 2025-02-05 17:24:00,819] Trial 3 finished with value: 0.2916666666666667 and parameters: {'k': 42}. Best is trial 1 with value: 0.45833333333333337.\n",
      "[I 2025-02-05 17:24:00,828] Trial 4 finished with value: 0.45833333333333337 and parameters: {'k': 3}. Best is trial 1 with value: 0.45833333333333337.\n",
      "[I 2025-02-05 17:24:00,835] Trial 5 finished with value: 0.43750000000000006 and parameters: {'k': 28}. Best is trial 1 with value: 0.45833333333333337.\n",
      "[I 2025-02-05 17:24:00,842] Trial 6 finished with value: 0.3541666666666667 and parameters: {'k': 39}. Best is trial 1 with value: 0.45833333333333337.\n",
      "[I 2025-02-05 17:24:00,847] Trial 7 finished with value: 0.39583333333333337 and parameters: {'k': 32}. Best is trial 1 with value: 0.45833333333333337.\n",
      "[I 2025-02-05 17:24:00,853] Trial 8 finished with value: 0.25 and parameters: {'k': 23}. Best is trial 1 with value: 0.45833333333333337.\n",
      "[I 2025-02-05 17:24:00,858] Trial 9 finished with value: 0.41666666666666663 and parameters: {'k': 5}. Best is trial 1 with value: 0.45833333333333337.\n",
      "[I 2025-02-05 17:24:00,864] Trial 10 finished with value: 0.39583333333333337 and parameters: {'k': 34}. Best is trial 1 with value: 0.45833333333333337.\n",
      "[I 2025-02-05 17:24:00,871] Trial 11 finished with value: 0.4375 and parameters: {'k': 36}. Best is trial 1 with value: 0.45833333333333337.\n",
      "[I 2025-02-05 17:24:00,975] Trial 12 finished with value: 0.375 and parameters: {'k': 27}. Best is trial 1 with value: 0.45833333333333337.\n",
      "[I 2025-02-05 17:24:01,017] Trial 13 finished with value: 0.41666666666666663 and parameters: {'k': 35}. Best is trial 1 with value: 0.45833333333333337.\n",
      "[I 2025-02-05 17:24:01,073] Trial 14 finished with value: 0.4375 and parameters: {'k': 19}. Best is trial 1 with value: 0.45833333333333337.\n",
      "[I 2025-02-05 17:24:01,093] Trial 15 finished with value: 0.45833333333333337 and parameters: {'k': 8}. Best is trial 1 with value: 0.45833333333333337.\n",
      "[I 2025-02-05 17:24:01,128] Trial 16 finished with value: 0.5625 and parameters: {'k': 15}. Best is trial 16 with value: 0.5625.\n",
      "[I 2025-02-05 17:24:01,156] Trial 17 finished with value: 0.3333333333333333 and parameters: {'k': 46}. Best is trial 16 with value: 0.5625.\n",
      "[I 2025-02-05 17:24:01,168] Trial 18 finished with value: 0.4791666666666667 and parameters: {'k': 49}. Best is trial 16 with value: 0.5625.\n",
      "[I 2025-02-05 17:24:01,245] Trial 19 finished with value: 0.4583333333333333 and parameters: {'k': 30}. Best is trial 16 with value: 0.5625.\n",
      "[I 2025-02-05 17:24:01,277] Trial 20 finished with value: 0.5416666666666667 and parameters: {'k': 16}. Best is trial 16 with value: 0.5625.\n",
      "[I 2025-02-05 17:24:01,315] Trial 21 finished with value: 0.3541666666666667 and parameters: {'k': 31}. Best is trial 16 with value: 0.5625.\n",
      "[I 2025-02-05 17:24:01,341] Trial 22 finished with value: 0.375 and parameters: {'k': 33}. Best is trial 16 with value: 0.5625.\n",
      "[I 2025-02-05 17:24:01,357] Trial 23 finished with value: 0.5208333333333334 and parameters: {'k': 17}. Best is trial 16 with value: 0.5625.\n",
      "[I 2025-02-05 17:24:01,369] Trial 24 finished with value: 0.3333333333333333 and parameters: {'k': 43}. Best is trial 16 with value: 0.5625.\n",
      "[I 2025-02-05 17:24:01,379] Trial 25 finished with value: 0.27083333333333337 and parameters: {'k': 21}. Best is trial 16 with value: 0.5625.\n",
      "[I 2025-02-05 17:24:01,396] Trial 26 finished with value: 0.375 and parameters: {'k': 44}. Best is trial 16 with value: 0.5625.\n",
      "[I 2025-02-05 17:24:01,405] Trial 27 finished with value: 0.375 and parameters: {'k': 9}. Best is trial 16 with value: 0.5625.\n",
      "[I 2025-02-05 17:24:01,414] Trial 28 finished with value: 0.5833333333333334 and parameters: {'k': 14}. Best is trial 28 with value: 0.5833333333333334.\n",
      "[I 2025-02-05 17:24:01,423] Trial 29 finished with value: 0.35416666666666663 and parameters: {'k': 26}. Best is trial 28 with value: 0.5833333333333334.\n",
      "[I 2025-02-05 17:24:01,434] Trial 30 finished with value: 0.45833333333333337 and parameters: {'k': 6}. Best is trial 28 with value: 0.5833333333333334.\n",
      "[I 2025-02-05 17:24:01,444] Trial 31 finished with value: 0.4791666666666667 and parameters: {'k': 18}. Best is trial 28 with value: 0.5833333333333334.\n",
      "[I 2025-02-05 17:24:01,455] Trial 32 finished with value: 0.22916666666666666 and parameters: {'k': 41}. Best is trial 28 with value: 0.5833333333333334.\n",
      "[I 2025-02-05 17:24:01,466] Trial 33 finished with value: 0.5416666666666667 and parameters: {'k': 50}. Best is trial 28 with value: 0.5833333333333334.\n",
      "[I 2025-02-05 17:24:01,477] Trial 34 finished with value: 0.2916666666666667 and parameters: {'k': 2}. Best is trial 28 with value: 0.5833333333333334.\n",
      "[I 2025-02-05 17:24:01,488] Trial 35 finished with value: 0.5416666666666667 and parameters: {'k': 13}. Best is trial 28 with value: 0.5833333333333334.\n",
      "[I 2025-02-05 17:24:01,502] Trial 36 finished with value: 0.39583333333333337 and parameters: {'k': 38}. Best is trial 28 with value: 0.5833333333333334.\n",
      "[I 2025-02-05 17:24:01,516] Trial 37 finished with value: 0.3125 and parameters: {'k': 25}. Best is trial 28 with value: 0.5833333333333334.\n",
      "[I 2025-02-05 17:24:01,530] Trial 38 finished with value: 0.5 and parameters: {'k': 7}. Best is trial 28 with value: 0.5833333333333334.\n",
      "[I 2025-02-05 17:24:01,543] Trial 39 finished with value: 0.27083333333333337 and parameters: {'k': 24}. Best is trial 28 with value: 0.5833333333333334.\n",
      "[I 2025-02-05 17:24:01,570] Trial 40 finished with value: 0.39583333333333337 and parameters: {'k': 37}. Best is trial 28 with value: 0.5833333333333334.\n",
      "[I 2025-02-05 17:24:01,593] Trial 41 finished with value: 0.29166666666666663 and parameters: {'k': 22}. Best is trial 28 with value: 0.5833333333333334.\n",
      "[I 2025-02-05 17:24:01,623] Trial 42 finished with value: 0.375 and parameters: {'k': 20}. Best is trial 28 with value: 0.5833333333333334.\n",
      "[I 2025-02-05 17:24:01,641] Trial 43 finished with value: 0.2916666666666667 and parameters: {'k': 10}. Best is trial 28 with value: 0.5833333333333334.\n",
      "[I 2025-02-05 17:24:01,657] Trial 44 finished with value: 0.3333333333333333 and parameters: {'k': 40}. Best is trial 28 with value: 0.5833333333333334.\n",
      "[I 2025-02-05 17:24:01,672] Trial 45 finished with value: 0.41666666666666674 and parameters: {'k': 47}. Best is trial 28 with value: 0.5833333333333334.\n",
      "[I 2025-02-05 17:24:01,686] Trial 46 finished with value: 0.375 and parameters: {'k': 4}. Best is trial 28 with value: 0.5833333333333334.\n",
      "[I 2025-02-05 17:24:01,700] Trial 47 finished with value: 0.3333333333333333 and parameters: {'k': 1}. Best is trial 28 with value: 0.5833333333333334.\n",
      "[I 2025-02-05 17:24:01,714] Trial 48 finished with value: 0.41666666666666663 and parameters: {'k': 48}. Best is trial 28 with value: 0.5833333333333334.\n",
      "[I 2025-02-05 17:24:01,728] Trial 49 finished with value: 0.375 and parameters: {'k': 45}. Best is trial 28 with value: 0.5833333333333334.\n",
      "[I 2025-02-05 17:24:01,741] A new study created in memory with name: no-name-19bc9a74-f9c6-4a35-b38d-32eed31af10f\n",
      "[I 2025-02-05 17:24:01,746] Trial 0 finished with value: 0.6060606060606062 and parameters: {'k': 29}. Best is trial 0 with value: 0.6060606060606062.\n",
      "[I 2025-02-05 17:24:01,751] Trial 1 finished with value: 0.43939393939393945 and parameters: {'k': 12}. Best is trial 0 with value: 0.6060606060606062.\n",
      "[I 2025-02-05 17:24:01,759] Trial 2 finished with value: 0.4696969696969697 and parameters: {'k': 11}. Best is trial 0 with value: 0.6060606060606062.\n",
      "[I 2025-02-05 17:24:01,790] Trial 3 finished with value: 0.7424242424242424 and parameters: {'k': 42}. Best is trial 3 with value: 0.7424242424242424.\n",
      "[I 2025-02-05 17:24:01,796] Trial 4 finished with value: 0.6515151515151516 and parameters: {'k': 3}. Best is trial 3 with value: 0.7424242424242424.\n",
      "[I 2025-02-05 17:24:01,814] Trial 5 finished with value: 0.6060606060606061 and parameters: {'k': 28}. Best is trial 3 with value: 0.7424242424242424.\n",
      "[I 2025-02-05 17:24:01,837] Trial 6 finished with value: 0.6363636363636365 and parameters: {'k': 39}. Best is trial 3 with value: 0.7424242424242424.\n",
      "[I 2025-02-05 17:24:01,843] Trial 7 finished with value: 0.5757575757575758 and parameters: {'k': 32}. Best is trial 3 with value: 0.7424242424242424.\n",
      "[I 2025-02-05 17:24:01,852] Trial 8 finished with value: 0.4696969696969698 and parameters: {'k': 23}. Best is trial 3 with value: 0.7424242424242424.\n",
      "[I 2025-02-05 17:24:01,858] Trial 9 finished with value: 0.6212121212121212 and parameters: {'k': 5}. Best is trial 3 with value: 0.7424242424242424.\n",
      "[I 2025-02-05 17:24:01,864] Trial 10 finished with value: 0.5454545454545455 and parameters: {'k': 34}. Best is trial 3 with value: 0.7424242424242424.\n",
      "[I 2025-02-05 17:24:01,870] Trial 11 finished with value: 0.5151515151515152 and parameters: {'k': 36}. Best is trial 3 with value: 0.7424242424242424.\n",
      "[I 2025-02-05 17:24:01,878] Trial 12 finished with value: 0.5757575757575758 and parameters: {'k': 27}. Best is trial 3 with value: 0.7424242424242424.\n",
      "[I 2025-02-05 17:24:01,886] Trial 13 finished with value: 0.5757575757575758 and parameters: {'k': 35}. Best is trial 3 with value: 0.7424242424242424.\n",
      "[I 2025-02-05 17:24:01,895] Trial 14 finished with value: 0.5303030303030303 and parameters: {'k': 19}. Best is trial 3 with value: 0.7424242424242424.\n",
      "[I 2025-02-05 17:24:01,904] Trial 15 finished with value: 0.48484848484848486 and parameters: {'k': 8}. Best is trial 3 with value: 0.7424242424242424.\n",
      "[I 2025-02-05 17:24:01,918] Trial 16 finished with value: 0.5757575757575758 and parameters: {'k': 15}. Best is trial 3 with value: 0.7424242424242424.\n",
      "[I 2025-02-05 17:24:01,958] Trial 17 finished with value: 0.8333333333333334 and parameters: {'k': 46}. Best is trial 17 with value: 0.8333333333333334.\n",
      "[I 2025-02-05 17:24:01,978] Trial 18 finished with value: 0.7272727272727273 and parameters: {'k': 49}. Best is trial 17 with value: 0.8333333333333334.\n",
      "[I 2025-02-05 17:24:01,998] Trial 19 finished with value: 0.5757575757575758 and parameters: {'k': 30}. Best is trial 17 with value: 0.8333333333333334.\n",
      "[I 2025-02-05 17:24:02,007] Trial 20 finished with value: 0.5454545454545454 and parameters: {'k': 16}. Best is trial 17 with value: 0.8333333333333334.\n",
      "[I 2025-02-05 17:24:02,017] Trial 21 finished with value: 0.5757575757575758 and parameters: {'k': 31}. Best is trial 17 with value: 0.8333333333333334.\n",
      "[I 2025-02-05 17:24:02,038] Trial 22 finished with value: 0.5757575757575758 and parameters: {'k': 33}. Best is trial 17 with value: 0.8333333333333334.\n",
      "[I 2025-02-05 17:24:02,047] Trial 23 finished with value: 0.5606060606060607 and parameters: {'k': 17}. Best is trial 17 with value: 0.8333333333333334.\n",
      "[I 2025-02-05 17:24:02,057] Trial 24 finished with value: 0.7424242424242424 and parameters: {'k': 43}. Best is trial 17 with value: 0.8333333333333334.\n",
      "[I 2025-02-05 17:24:02,066] Trial 25 finished with value: 0.5757575757575758 and parameters: {'k': 21}. Best is trial 17 with value: 0.8333333333333334.\n",
      "[I 2025-02-05 17:24:02,076] Trial 26 finished with value: 0.7727272727272728 and parameters: {'k': 44}. Best is trial 17 with value: 0.8333333333333334.\n",
      "[I 2025-02-05 17:24:02,095] Trial 27 finished with value: 0.5151515151515151 and parameters: {'k': 9}. Best is trial 17 with value: 0.8333333333333334.\n",
      "[I 2025-02-05 17:24:02,124] Trial 28 finished with value: 0.5454545454545455 and parameters: {'k': 14}. Best is trial 17 with value: 0.8333333333333334.\n",
      "[I 2025-02-05 17:24:02,138] Trial 29 finished with value: 0.4545454545454546 and parameters: {'k': 26}. Best is trial 17 with value: 0.8333333333333334.\n",
      "[I 2025-02-05 17:24:02,148] Trial 30 finished with value: 0.5303030303030303 and parameters: {'k': 6}. Best is trial 17 with value: 0.8333333333333334.\n",
      "[I 2025-02-05 17:24:02,158] Trial 31 finished with value: 0.48484848484848486 and parameters: {'k': 18}. Best is trial 17 with value: 0.8333333333333334.\n",
      "[I 2025-02-05 17:24:02,168] Trial 32 finished with value: 0.7121212121212123 and parameters: {'k': 41}. Best is trial 17 with value: 0.8333333333333334.\n",
      "[I 2025-02-05 17:24:02,179] Trial 33 finished with value: 0.696969696969697 and parameters: {'k': 50}. Best is trial 17 with value: 0.8333333333333334.\n",
      "[I 2025-02-05 17:24:02,190] Trial 34 finished with value: 0.5606060606060607 and parameters: {'k': 2}. Best is trial 17 with value: 0.8333333333333334.\n",
      "[I 2025-02-05 17:24:02,201] Trial 35 finished with value: 0.5454545454545454 and parameters: {'k': 13}. Best is trial 17 with value: 0.8333333333333334.\n",
      "[I 2025-02-05 17:24:02,212] Trial 36 finished with value: 0.43939393939393945 and parameters: {'k': 38}. Best is trial 17 with value: 0.8333333333333334.\n",
      "[I 2025-02-05 17:24:02,223] Trial 37 finished with value: 0.43939393939393945 and parameters: {'k': 25}. Best is trial 17 with value: 0.8333333333333334.\n",
      "[I 2025-02-05 17:24:02,234] Trial 38 finished with value: 0.5454545454545454 and parameters: {'k': 7}. Best is trial 17 with value: 0.8333333333333334.\n",
      "[I 2025-02-05 17:24:02,274] Trial 39 finished with value: 0.48484848484848486 and parameters: {'k': 24}. Best is trial 17 with value: 0.8333333333333334.\n",
      "[I 2025-02-05 17:24:02,308] Trial 40 finished with value: 0.5000000000000001 and parameters: {'k': 37}. Best is trial 17 with value: 0.8333333333333334.\n",
      "[I 2025-02-05 17:24:02,340] Trial 41 finished with value: 0.5 and parameters: {'k': 22}. Best is trial 17 with value: 0.8333333333333334.\n",
      "[I 2025-02-05 17:24:02,373] Trial 42 finished with value: 0.5303030303030304 and parameters: {'k': 20}. Best is trial 17 with value: 0.8333333333333334.\n",
      "[I 2025-02-05 17:24:02,409] Trial 43 finished with value: 0.5000000000000001 and parameters: {'k': 10}. Best is trial 17 with value: 0.8333333333333334.\n",
      "[I 2025-02-05 17:24:02,422] Trial 44 finished with value: 0.6666666666666667 and parameters: {'k': 40}. Best is trial 17 with value: 0.8333333333333334.\n",
      "[I 2025-02-05 17:24:02,433] Trial 45 finished with value: 0.8181818181818182 and parameters: {'k': 47}. Best is trial 17 with value: 0.8333333333333334.\n",
      "[I 2025-02-05 17:24:02,444] Trial 46 finished with value: 0.6363636363636364 and parameters: {'k': 4}. Best is trial 17 with value: 0.8333333333333334.\n",
      "[I 2025-02-05 17:24:02,469] Trial 47 finished with value: 0.5303030303030303 and parameters: {'k': 1}. Best is trial 17 with value: 0.8333333333333334.\n",
      "[I 2025-02-05 17:24:02,500] Trial 48 finished with value: 0.7575757575757577 and parameters: {'k': 48}. Best is trial 17 with value: 0.8333333333333334.\n",
      "[I 2025-02-05 17:24:02,550] Trial 49 finished with value: 0.7424242424242424 and parameters: {'k': 45}. Best is trial 17 with value: 0.8333333333333334.\n",
      "[I 2025-02-05 17:24:02,596] A new study created in memory with name: no-name-a2c2fbaf-4403-4287-8471-1a7dcbe81dfc\n",
      "[I 2025-02-05 17:24:02,637] Trial 0 finished with value: 0.225 and parameters: {'k': 29}. Best is trial 0 with value: 0.225.\n",
      "[I 2025-02-05 17:24:02,679] Trial 1 finished with value: 0.575 and parameters: {'k': 12}. Best is trial 1 with value: 0.575.\n",
      "[I 2025-02-05 17:24:02,700] Trial 2 finished with value: 0.4625 and parameters: {'k': 11}. Best is trial 1 with value: 0.575.\n",
      "[I 2025-02-05 17:24:02,711] Trial 3 finished with value: 0.35000000000000003 and parameters: {'k': 42}. Best is trial 1 with value: 0.575.\n",
      "[I 2025-02-05 17:24:02,725] Trial 4 finished with value: 0.46249999999999997 and parameters: {'k': 3}. Best is trial 1 with value: 0.575.\n",
      "[I 2025-02-05 17:24:02,744] Trial 5 finished with value: 0.2 and parameters: {'k': 28}. Best is trial 1 with value: 0.575.\n",
      "[I 2025-02-05 17:24:02,751] Trial 6 finished with value: 0.275 and parameters: {'k': 39}. Best is trial 1 with value: 0.575.\n",
      "[I 2025-02-05 17:24:02,760] Trial 7 finished with value: 0.3375 and parameters: {'k': 32}. Best is trial 1 with value: 0.575.\n",
      "[I 2025-02-05 17:24:02,785] Trial 8 finished with value: 0.25 and parameters: {'k': 23}. Best is trial 1 with value: 0.575.\n",
      "[I 2025-02-05 17:24:02,798] Trial 9 finished with value: 0.475 and parameters: {'k': 5}. Best is trial 1 with value: 0.575.\n",
      "[I 2025-02-05 17:24:02,856] Trial 10 finished with value: 0.325 and parameters: {'k': 34}. Best is trial 1 with value: 0.575.\n",
      "[I 2025-02-05 17:24:02,865] Trial 11 finished with value: 0.325 and parameters: {'k': 36}. Best is trial 1 with value: 0.575.\n",
      "[I 2025-02-05 17:24:02,873] Trial 12 finished with value: 0.25 and parameters: {'k': 27}. Best is trial 1 with value: 0.575.\n",
      "[I 2025-02-05 17:24:02,896] Trial 13 finished with value: 0.28750000000000003 and parameters: {'k': 35}. Best is trial 1 with value: 0.575.\n",
      "[I 2025-02-05 17:24:02,919] Trial 14 finished with value: 0.5249999999999999 and parameters: {'k': 19}. Best is trial 1 with value: 0.575.\n",
      "[I 2025-02-05 17:24:02,953] Trial 15 finished with value: 0.55 and parameters: {'k': 8}. Best is trial 1 with value: 0.575.\n",
      "[I 2025-02-05 17:24:03,012] Trial 16 finished with value: 0.275 and parameters: {'k': 15}. Best is trial 1 with value: 0.575.\n",
      "[I 2025-02-05 17:24:03,036] Trial 17 finished with value: 0.3875 and parameters: {'k': 46}. Best is trial 1 with value: 0.575.\n",
      "[I 2025-02-05 17:24:03,059] Trial 18 finished with value: 0.55 and parameters: {'k': 49}. Best is trial 1 with value: 0.575.\n",
      "[I 2025-02-05 17:24:03,157] Trial 19 finished with value: 0.22500000000000003 and parameters: {'k': 30}. Best is trial 1 with value: 0.575.\n",
      "[I 2025-02-05 17:24:03,228] Trial 20 finished with value: 0.26249999999999996 and parameters: {'k': 16}. Best is trial 1 with value: 0.575.\n",
      "[I 2025-02-05 17:24:03,269] Trial 21 finished with value: 0.225 and parameters: {'k': 31}. Best is trial 1 with value: 0.575.\n",
      "[I 2025-02-05 17:24:03,289] Trial 22 finished with value: 0.32500000000000007 and parameters: {'k': 33}. Best is trial 1 with value: 0.575.\n",
      "[I 2025-02-05 17:24:03,354] Trial 23 finished with value: 0.32500000000000007 and parameters: {'k': 17}. Best is trial 1 with value: 0.575.\n",
      "[I 2025-02-05 17:24:03,364] Trial 24 finished with value: 0.3875 and parameters: {'k': 43}. Best is trial 1 with value: 0.575.\n",
      "[I 2025-02-05 17:24:03,379] Trial 25 finished with value: 0.3625 and parameters: {'k': 21}. Best is trial 1 with value: 0.575.\n",
      "[I 2025-02-05 17:24:03,409] Trial 26 finished with value: 0.38749999999999996 and parameters: {'k': 44}. Best is trial 1 with value: 0.575.\n",
      "[I 2025-02-05 17:24:03,464] Trial 27 finished with value: 0.5000000000000001 and parameters: {'k': 9}. Best is trial 1 with value: 0.575.\n",
      "[I 2025-02-05 17:24:03,474] Trial 28 finished with value: 0.35 and parameters: {'k': 14}. Best is trial 1 with value: 0.575.\n",
      "[I 2025-02-05 17:24:03,484] Trial 29 finished with value: 0.25 and parameters: {'k': 26}. Best is trial 1 with value: 0.575.\n",
      "[I 2025-02-05 17:24:03,506] Trial 30 finished with value: 0.4125 and parameters: {'k': 6}. Best is trial 1 with value: 0.575.\n",
      "[I 2025-02-05 17:24:03,548] Trial 31 finished with value: 0.38749999999999996 and parameters: {'k': 18}. Best is trial 1 with value: 0.575.\n",
      "[I 2025-02-05 17:24:03,594] Trial 32 finished with value: 0.44999999999999996 and parameters: {'k': 41}. Best is trial 1 with value: 0.575.\n",
      "[I 2025-02-05 17:24:03,628] Trial 33 finished with value: 0.48749999999999993 and parameters: {'k': 50}. Best is trial 1 with value: 0.575.\n",
      "[I 2025-02-05 17:24:03,657] Trial 34 finished with value: 0.5 and parameters: {'k': 2}. Best is trial 1 with value: 0.575.\n",
      "[I 2025-02-05 17:24:03,675] Trial 35 finished with value: 0.45 and parameters: {'k': 13}. Best is trial 1 with value: 0.575.\n",
      "[I 2025-02-05 17:24:03,688] Trial 36 finished with value: 0.2875 and parameters: {'k': 38}. Best is trial 1 with value: 0.575.\n",
      "[I 2025-02-05 17:24:03,700] Trial 37 finished with value: 0.24999999999999997 and parameters: {'k': 25}. Best is trial 1 with value: 0.575.\n",
      "[I 2025-02-05 17:24:03,718] Trial 38 finished with value: 0.44999999999999996 and parameters: {'k': 7}. Best is trial 1 with value: 0.575.\n",
      "[I 2025-02-05 17:24:03,736] Trial 39 finished with value: 0.2875 and parameters: {'k': 24}. Best is trial 1 with value: 0.575.\n",
      "[I 2025-02-05 17:24:03,751] Trial 40 finished with value: 0.275 and parameters: {'k': 37}. Best is trial 1 with value: 0.575.\n",
      "[I 2025-02-05 17:24:03,767] Trial 41 finished with value: 0.3375 and parameters: {'k': 22}. Best is trial 1 with value: 0.575.\n",
      "[I 2025-02-05 17:24:03,784] Trial 42 finished with value: 0.5249999999999999 and parameters: {'k': 20}. Best is trial 1 with value: 0.575.\n",
      "[I 2025-02-05 17:24:03,797] Trial 43 finished with value: 0.325 and parameters: {'k': 10}. Best is trial 1 with value: 0.575.\n",
      "[I 2025-02-05 17:24:03,810] Trial 44 finished with value: 0.39999999999999997 and parameters: {'k': 40}. Best is trial 1 with value: 0.575.\n",
      "[I 2025-02-05 17:24:03,824] Trial 45 finished with value: 0.5874999999999999 and parameters: {'k': 47}. Best is trial 45 with value: 0.5874999999999999.\n",
      "[I 2025-02-05 17:24:03,850] Trial 46 finished with value: 0.375 and parameters: {'k': 4}. Best is trial 45 with value: 0.5874999999999999.\n",
      "[I 2025-02-05 17:24:03,863] Trial 47 finished with value: 0.375 and parameters: {'k': 1}. Best is trial 45 with value: 0.5874999999999999.\n",
      "[I 2025-02-05 17:24:03,877] Trial 48 finished with value: 0.65 and parameters: {'k': 48}. Best is trial 48 with value: 0.65.\n",
      "[I 2025-02-05 17:24:03,892] Trial 49 finished with value: 0.575 and parameters: {'k': 45}. Best is trial 48 with value: 0.65.\n",
      "[I 2025-02-05 17:24:03,905] A new study created in memory with name: no-name-ca346b7e-5584-4194-91f1-e2046519b07c\n",
      "[I 2025-02-05 17:24:03,922] Trial 0 finished with value: 0.6444444444444444 and parameters: {'k': 29}. Best is trial 0 with value: 0.6444444444444444.\n",
      "[I 2025-02-05 17:24:03,928] Trial 1 finished with value: 0.5 and parameters: {'k': 12}. Best is trial 0 with value: 0.6444444444444444.\n",
      "[I 2025-02-05 17:24:03,936] Trial 2 finished with value: 0.5333333333333333 and parameters: {'k': 11}. Best is trial 0 with value: 0.6444444444444444.\n",
      "[I 2025-02-05 17:24:03,950] Trial 3 finished with value: 0.26666666666666666 and parameters: {'k': 42}. Best is trial 0 with value: 0.6444444444444444.\n",
      "[I 2025-02-05 17:24:03,956] Trial 4 finished with value: 0.4555555555555556 and parameters: {'k': 3}. Best is trial 0 with value: 0.6444444444444444.\n",
      "[I 2025-02-05 17:24:03,965] Trial 5 finished with value: 0.5777777777777777 and parameters: {'k': 28}. Best is trial 0 with value: 0.6444444444444444.\n",
      "[I 2025-02-05 17:24:03,971] Trial 6 finished with value: 0.33333333333333326 and parameters: {'k': 39}. Best is trial 0 with value: 0.6444444444444444.\n",
      "[I 2025-02-05 17:24:03,978] Trial 7 finished with value: 0.4888888888888889 and parameters: {'k': 32}. Best is trial 0 with value: 0.6444444444444444.\n",
      "[I 2025-02-05 17:24:04,003] Trial 8 finished with value: 0.43333333333333335 and parameters: {'k': 23}. Best is trial 0 with value: 0.6444444444444444.\n",
      "[I 2025-02-05 17:24:04,008] Trial 9 finished with value: 0.26666666666666666 and parameters: {'k': 5}. Best is trial 0 with value: 0.6444444444444444.\n",
      "[I 2025-02-05 17:24:04,015] Trial 10 finished with value: 0.3555555555555555 and parameters: {'k': 34}. Best is trial 0 with value: 0.6444444444444444.\n",
      "[I 2025-02-05 17:24:04,028] Trial 11 finished with value: 0.26666666666666666 and parameters: {'k': 36}. Best is trial 0 with value: 0.6444444444444444.\n",
      "[I 2025-02-05 17:24:04,035] Trial 12 finished with value: 0.5777777777777777 and parameters: {'k': 27}. Best is trial 0 with value: 0.6444444444444444.\n",
      "[I 2025-02-05 17:24:04,043] Trial 13 finished with value: 0.37777777777777777 and parameters: {'k': 35}. Best is trial 0 with value: 0.6444444444444444.\n",
      "[I 2025-02-05 17:24:04,052] Trial 14 finished with value: 0.45555555555555555 and parameters: {'k': 19}. Best is trial 0 with value: 0.6444444444444444.\n",
      "[I 2025-02-05 17:24:04,059] Trial 15 finished with value: 0.4444444444444445 and parameters: {'k': 8}. Best is trial 0 with value: 0.6444444444444444.\n",
      "[I 2025-02-05 17:24:04,067] Trial 16 finished with value: 0.5888888888888889 and parameters: {'k': 15}. Best is trial 0 with value: 0.6444444444444444.\n",
      "[I 2025-02-05 17:24:04,075] Trial 17 finished with value: 0.3333333333333333 and parameters: {'k': 46}. Best is trial 0 with value: 0.6444444444444444.\n",
      "[I 2025-02-05 17:24:04,092] Trial 18 finished with value: 0.34444444444444444 and parameters: {'k': 49}. Best is trial 0 with value: 0.6444444444444444.\n",
      "[I 2025-02-05 17:24:04,114] Trial 19 finished with value: 0.6 and parameters: {'k': 30}. Best is trial 0 with value: 0.6444444444444444.\n",
      "[I 2025-02-05 17:24:04,152] Trial 20 finished with value: 0.5222222222222221 and parameters: {'k': 16}. Best is trial 0 with value: 0.6444444444444444.\n",
      "[I 2025-02-05 17:24:04,162] Trial 21 finished with value: 0.6222222222222222 and parameters: {'k': 31}. Best is trial 0 with value: 0.6444444444444444.\n",
      "[I 2025-02-05 17:24:04,217] Trial 22 finished with value: 0.37777777777777777 and parameters: {'k': 33}. Best is trial 0 with value: 0.6444444444444444.\n",
      "[I 2025-02-05 17:24:04,233] Trial 23 finished with value: 0.4888888888888888 and parameters: {'k': 17}. Best is trial 0 with value: 0.6444444444444444.\n",
      "[I 2025-02-05 17:24:04,242] Trial 24 finished with value: 0.28888888888888886 and parameters: {'k': 43}. Best is trial 0 with value: 0.6444444444444444.\n",
      "[I 2025-02-05 17:24:04,256] Trial 25 finished with value: 0.36666666666666664 and parameters: {'k': 21}. Best is trial 0 with value: 0.6444444444444444.\n",
      "[I 2025-02-05 17:24:04,277] Trial 26 finished with value: 0.3333333333333333 and parameters: {'k': 44}. Best is trial 0 with value: 0.6444444444444444.\n",
      "[I 2025-02-05 17:24:04,292] Trial 27 finished with value: 0.5333333333333333 and parameters: {'k': 9}. Best is trial 0 with value: 0.6444444444444444.\n",
      "[I 2025-02-05 17:24:04,306] Trial 28 finished with value: 0.5888888888888889 and parameters: {'k': 14}. Best is trial 0 with value: 0.6444444444444444.\n",
      "[I 2025-02-05 17:24:04,345] Trial 29 finished with value: 0.5555555555555555 and parameters: {'k': 26}. Best is trial 0 with value: 0.6444444444444444.\n",
      "[I 2025-02-05 17:24:04,388] Trial 30 finished with value: 0.3333333333333333 and parameters: {'k': 6}. Best is trial 0 with value: 0.6444444444444444.\n",
      "[I 2025-02-05 17:24:04,405] Trial 31 finished with value: 0.5555555555555556 and parameters: {'k': 18}. Best is trial 0 with value: 0.6444444444444444.\n",
      "[I 2025-02-05 17:24:04,436] Trial 32 finished with value: 0.28888888888888886 and parameters: {'k': 41}. Best is trial 0 with value: 0.6444444444444444.\n",
      "[I 2025-02-05 17:24:04,449] Trial 33 finished with value: 0.3888888888888889 and parameters: {'k': 50}. Best is trial 0 with value: 0.6444444444444444.\n",
      "[I 2025-02-05 17:24:04,458] Trial 34 finished with value: 0.36666666666666664 and parameters: {'k': 2}. Best is trial 0 with value: 0.6444444444444444.\n",
      "[I 2025-02-05 17:24:04,497] Trial 35 finished with value: 0.5555555555555556 and parameters: {'k': 13}. Best is trial 0 with value: 0.6444444444444444.\n",
      "[I 2025-02-05 17:24:04,521] Trial 36 finished with value: 0.3111111111111111 and parameters: {'k': 38}. Best is trial 0 with value: 0.6444444444444444.\n",
      "[I 2025-02-05 17:24:04,545] Trial 37 finished with value: 0.5 and parameters: {'k': 25}. Best is trial 0 with value: 0.6444444444444444.\n",
      "[I 2025-02-05 17:24:04,580] Trial 38 finished with value: 0.3555555555555555 and parameters: {'k': 7}. Best is trial 0 with value: 0.6444444444444444.\n",
      "[I 2025-02-05 17:24:04,615] Trial 39 finished with value: 0.5111111111111111 and parameters: {'k': 24}. Best is trial 0 with value: 0.6444444444444444.\n",
      "[I 2025-02-05 17:24:04,637] Trial 40 finished with value: 0.3333333333333333 and parameters: {'k': 37}. Best is trial 0 with value: 0.6444444444444444.\n",
      "[I 2025-02-05 17:24:04,646] Trial 41 finished with value: 0.3888888888888889 and parameters: {'k': 22}. Best is trial 0 with value: 0.6444444444444444.\n",
      "[I 2025-02-05 17:24:04,665] Trial 42 finished with value: 0.4 and parameters: {'k': 20}. Best is trial 0 with value: 0.6444444444444444.\n",
      "[I 2025-02-05 17:24:04,700] Trial 43 finished with value: 0.5 and parameters: {'k': 10}. Best is trial 0 with value: 0.6444444444444444.\n",
      "[I 2025-02-05 17:24:04,787] Trial 44 finished with value: 0.37777777777777777 and parameters: {'k': 40}. Best is trial 0 with value: 0.6444444444444444.\n",
      "[I 2025-02-05 17:24:04,825] Trial 45 finished with value: 0.3222222222222222 and parameters: {'k': 47}. Best is trial 0 with value: 0.6444444444444444.\n",
      "[I 2025-02-05 17:24:04,865] Trial 46 finished with value: 0.36666666666666664 and parameters: {'k': 4}. Best is trial 0 with value: 0.6444444444444444.\n",
      "[I 2025-02-05 17:24:04,932] Trial 47 finished with value: 0.5333333333333333 and parameters: {'k': 1}. Best is trial 0 with value: 0.6444444444444444.\n",
      "[I 2025-02-05 17:24:04,960] Trial 48 finished with value: 0.34444444444444444 and parameters: {'k': 48}. Best is trial 0 with value: 0.6444444444444444.\n",
      "[I 2025-02-05 17:24:04,973] Trial 49 finished with value: 0.3333333333333333 and parameters: {'k': 45}. Best is trial 0 with value: 0.6444444444444444.\n",
      "[I 2025-02-05 17:24:04,981] A new study created in memory with name: no-name-73d49b96-0bf3-44a8-b381-934d7120078f\n",
      "[I 2025-02-05 17:24:04,988] Trial 0 finished with value: 0.6125 and parameters: {'k': 29}. Best is trial 0 with value: 0.6125.\n",
      "[I 2025-02-05 17:24:04,996] Trial 1 finished with value: 0.6375 and parameters: {'k': 12}. Best is trial 1 with value: 0.6375.\n",
      "[I 2025-02-05 17:24:05,004] Trial 2 finished with value: 0.625 and parameters: {'k': 11}. Best is trial 1 with value: 0.6375.\n",
      "[I 2025-02-05 17:24:05,013] Trial 3 finished with value: 0.7125 and parameters: {'k': 42}. Best is trial 3 with value: 0.7125.\n",
      "[I 2025-02-05 17:24:05,018] Trial 4 finished with value: 0.225 and parameters: {'k': 3}. Best is trial 3 with value: 0.7125.\n",
      "[I 2025-02-05 17:24:05,024] Trial 5 finished with value: 0.7 and parameters: {'k': 28}. Best is trial 3 with value: 0.7125.\n",
      "[I 2025-02-05 17:24:05,029] Trial 6 finished with value: 0.7250000000000001 and parameters: {'k': 39}. Best is trial 6 with value: 0.7250000000000001.\n",
      "[I 2025-02-05 17:24:05,035] Trial 7 finished with value: 0.725 and parameters: {'k': 32}. Best is trial 6 with value: 0.7250000000000001.\n",
      "[I 2025-02-05 17:24:05,041] Trial 8 finished with value: 0.5875 and parameters: {'k': 23}. Best is trial 6 with value: 0.7250000000000001.\n",
      "[I 2025-02-05 17:24:05,047] Trial 9 finished with value: 0.3 and parameters: {'k': 5}. Best is trial 6 with value: 0.7250000000000001.\n",
      "[I 2025-02-05 17:24:05,054] Trial 10 finished with value: 0.8 and parameters: {'k': 34}. Best is trial 10 with value: 0.8.\n",
      "[I 2025-02-05 17:24:05,060] Trial 11 finished with value: 0.775 and parameters: {'k': 36}. Best is trial 10 with value: 0.8.\n",
      "[I 2025-02-05 17:24:05,067] Trial 12 finished with value: 0.7250000000000001 and parameters: {'k': 27}. Best is trial 10 with value: 0.8.\n",
      "[I 2025-02-05 17:24:05,074] Trial 13 finished with value: 0.8 and parameters: {'k': 35}. Best is trial 10 with value: 0.8.\n",
      "[I 2025-02-05 17:24:05,081] Trial 14 finished with value: 0.675 and parameters: {'k': 19}. Best is trial 10 with value: 0.8.\n",
      "[I 2025-02-05 17:24:05,088] Trial 15 finished with value: 0.47500000000000003 and parameters: {'k': 8}. Best is trial 10 with value: 0.8.\n",
      "[I 2025-02-05 17:24:05,095] Trial 16 finished with value: 0.675 and parameters: {'k': 15}. Best is trial 10 with value: 0.8.\n",
      "[I 2025-02-05 17:24:05,103] Trial 17 finished with value: 0.75 and parameters: {'k': 46}. Best is trial 10 with value: 0.8.\n",
      "[I 2025-02-05 17:24:05,112] Trial 18 finished with value: 0.5874999999999999 and parameters: {'k': 49}. Best is trial 10 with value: 0.8.\n",
      "[I 2025-02-05 17:24:05,121] Trial 19 finished with value: 0.7 and parameters: {'k': 30}. Best is trial 10 with value: 0.8.\n",
      "[I 2025-02-05 17:24:05,130] Trial 20 finished with value: 0.7 and parameters: {'k': 16}. Best is trial 10 with value: 0.8.\n",
      "[I 2025-02-05 17:24:05,139] Trial 21 finished with value: 0.7625 and parameters: {'k': 31}. Best is trial 10 with value: 0.8.\n",
      "[I 2025-02-05 17:24:05,148] Trial 22 finished with value: 0.8 and parameters: {'k': 33}. Best is trial 10 with value: 0.8.\n",
      "[I 2025-02-05 17:24:05,156] Trial 23 finished with value: 0.7 and parameters: {'k': 17}. Best is trial 10 with value: 0.8.\n",
      "[I 2025-02-05 17:24:05,165] Trial 24 finished with value: 0.5249999999999999 and parameters: {'k': 43}. Best is trial 10 with value: 0.8.\n",
      "[I 2025-02-05 17:24:05,174] Trial 25 finished with value: 0.5 and parameters: {'k': 21}. Best is trial 10 with value: 0.8.\n",
      "[I 2025-02-05 17:24:05,184] Trial 26 finished with value: 0.6 and parameters: {'k': 44}. Best is trial 10 with value: 0.8.\n",
      "[I 2025-02-05 17:24:05,194] Trial 27 finished with value: 0.44999999999999996 and parameters: {'k': 9}. Best is trial 10 with value: 0.8.\n",
      "[I 2025-02-05 17:24:05,204] Trial 28 finished with value: 0.6125 and parameters: {'k': 14}. Best is trial 10 with value: 0.8.\n",
      "[I 2025-02-05 17:24:05,214] Trial 29 finished with value: 0.6625 and parameters: {'k': 26}. Best is trial 10 with value: 0.8.\n",
      "[I 2025-02-05 17:24:05,225] Trial 30 finished with value: 0.22499999999999998 and parameters: {'k': 6}. Best is trial 10 with value: 0.8.\n",
      "[I 2025-02-05 17:24:05,234] Trial 31 finished with value: 0.7625 and parameters: {'k': 18}. Best is trial 10 with value: 0.8.\n",
      "[I 2025-02-05 17:24:05,245] Trial 32 finished with value: 0.6625 and parameters: {'k': 41}. Best is trial 10 with value: 0.8.\n",
      "[I 2025-02-05 17:24:05,256] Trial 33 finished with value: 0.35 and parameters: {'k': 50}. Best is trial 10 with value: 0.8.\n",
      "[I 2025-02-05 17:24:05,267] Trial 34 finished with value: 0.325 and parameters: {'k': 2}. Best is trial 10 with value: 0.8.\n",
      "[I 2025-02-05 17:24:05,279] Trial 35 finished with value: 0.575 and parameters: {'k': 13}. Best is trial 10 with value: 0.8.\n",
      "[I 2025-02-05 17:24:05,290] Trial 36 finished with value: 0.85 and parameters: {'k': 38}. Best is trial 36 with value: 0.85.\n",
      "[I 2025-02-05 17:24:05,303] Trial 37 finished with value: 0.6499999999999999 and parameters: {'k': 25}. Best is trial 36 with value: 0.85.\n",
      "[I 2025-02-05 17:24:05,314] Trial 38 finished with value: 0.325 and parameters: {'k': 7}. Best is trial 36 with value: 0.85.\n",
      "[I 2025-02-05 17:24:05,326] Trial 39 finished with value: 0.7625 and parameters: {'k': 24}. Best is trial 36 with value: 0.85.\n",
      "[I 2025-02-05 17:24:05,339] Trial 40 finished with value: 0.8500000000000001 and parameters: {'k': 37}. Best is trial 40 with value: 0.8500000000000001.\n",
      "[I 2025-02-05 17:24:05,352] Trial 41 finished with value: 0.625 and parameters: {'k': 22}. Best is trial 40 with value: 0.8500000000000001.\n",
      "[I 2025-02-05 17:24:05,365] Trial 42 finished with value: 0.575 and parameters: {'k': 20}. Best is trial 40 with value: 0.8500000000000001.\n",
      "[I 2025-02-05 17:24:05,378] Trial 43 finished with value: 0.5 and parameters: {'k': 10}. Best is trial 40 with value: 0.8500000000000001.\n",
      "[I 2025-02-05 17:24:05,390] Trial 44 finished with value: 0.7374999999999999 and parameters: {'k': 40}. Best is trial 40 with value: 0.8500000000000001.\n",
      "[I 2025-02-05 17:24:05,404] Trial 45 finished with value: 0.6375000000000001 and parameters: {'k': 47}. Best is trial 40 with value: 0.8500000000000001.\n",
      "[I 2025-02-05 17:24:05,417] Trial 46 finished with value: 0.3 and parameters: {'k': 4}. Best is trial 40 with value: 0.8500000000000001.\n",
      "[I 2025-02-05 17:24:05,430] Trial 47 finished with value: 0.575 and parameters: {'k': 1}. Best is trial 40 with value: 0.8500000000000001.\n",
      "[I 2025-02-05 17:24:05,443] Trial 48 finished with value: 0.5125 and parameters: {'k': 48}. Best is trial 40 with value: 0.8500000000000001.\n",
      "[I 2025-02-05 17:24:05,457] Trial 49 finished with value: 0.6 and parameters: {'k': 45}. Best is trial 40 with value: 0.8500000000000001.\n",
      "[I 2025-02-05 17:24:05,464] A new study created in memory with name: no-name-dd2edcb6-61d5-47dd-a7df-d74d890625b3\n",
      "[I 2025-02-05 17:24:05,470] Trial 0 finished with value: 0.7291666666666667 and parameters: {'k': 29}. Best is trial 0 with value: 0.7291666666666667.\n",
      "[I 2025-02-05 17:24:05,475] Trial 1 finished with value: 0.8333333333333333 and parameters: {'k': 12}. Best is trial 1 with value: 0.8333333333333333.\n",
      "[I 2025-02-05 17:24:05,480] Trial 2 finished with value: 0.875 and parameters: {'k': 11}. Best is trial 2 with value: 0.875.\n",
      "[I 2025-02-05 17:24:05,485] Trial 3 finished with value: 0.4166666666666667 and parameters: {'k': 42}. Best is trial 2 with value: 0.875.\n",
      "[I 2025-02-05 17:24:05,490] Trial 4 finished with value: 0.75 and parameters: {'k': 3}. Best is trial 2 with value: 0.875.\n",
      "[I 2025-02-05 17:24:05,496] Trial 5 finished with value: 0.75 and parameters: {'k': 28}. Best is trial 2 with value: 0.875.\n",
      "[I 2025-02-05 17:24:05,502] Trial 6 finished with value: 0.47916666666666663 and parameters: {'k': 39}. Best is trial 2 with value: 0.875.\n",
      "[I 2025-02-05 17:24:05,507] Trial 7 finished with value: 0.6041666666666667 and parameters: {'k': 32}. Best is trial 2 with value: 0.875.\n",
      "[I 2025-02-05 17:24:05,513] Trial 8 finished with value: 0.8125 and parameters: {'k': 23}. Best is trial 2 with value: 0.875.\n",
      "[I 2025-02-05 17:24:05,519] Trial 9 finished with value: 0.6041666666666666 and parameters: {'k': 5}. Best is trial 2 with value: 0.875.\n",
      "[I 2025-02-05 17:24:05,526] Trial 10 finished with value: 0.5416666666666666 and parameters: {'k': 34}. Best is trial 2 with value: 0.875.\n",
      "[I 2025-02-05 17:24:05,532] Trial 11 finished with value: 0.43749999999999994 and parameters: {'k': 36}. Best is trial 2 with value: 0.875.\n",
      "[I 2025-02-05 17:24:05,539] Trial 12 finished with value: 0.75 and parameters: {'k': 27}. Best is trial 2 with value: 0.875.\n",
      "[I 2025-02-05 17:24:05,546] Trial 13 finished with value: 0.49999999999999994 and parameters: {'k': 35}. Best is trial 2 with value: 0.875.\n",
      "[I 2025-02-05 17:24:05,553] Trial 14 finished with value: 0.7916666666666666 and parameters: {'k': 19}. Best is trial 2 with value: 0.875.\n",
      "[I 2025-02-05 17:24:05,560] Trial 15 finished with value: 0.8125 and parameters: {'k': 8}. Best is trial 2 with value: 0.875.\n",
      "[I 2025-02-05 17:24:05,567] Trial 16 finished with value: 0.875 and parameters: {'k': 15}. Best is trial 2 with value: 0.875.\n",
      "[I 2025-02-05 17:24:05,575] Trial 17 finished with value: 0.375 and parameters: {'k': 46}. Best is trial 2 with value: 0.875.\n",
      "[I 2025-02-05 17:24:05,583] Trial 18 finished with value: 0.5416666666666667 and parameters: {'k': 49}. Best is trial 2 with value: 0.875.\n",
      "[I 2025-02-05 17:24:05,637] Trial 19 finished with value: 0.7708333333333333 and parameters: {'k': 30}. Best is trial 2 with value: 0.875.\n",
      "[I 2025-02-05 17:24:05,677] Trial 20 finished with value: 0.8333333333333333 and parameters: {'k': 16}. Best is trial 2 with value: 0.875.\n",
      "[I 2025-02-05 17:24:05,713] Trial 21 finished with value: 0.6875 and parameters: {'k': 31}. Best is trial 2 with value: 0.875.\n",
      "[I 2025-02-05 17:24:05,739] Trial 22 finished with value: 0.6041666666666667 and parameters: {'k': 33}. Best is trial 2 with value: 0.875.\n",
      "[I 2025-02-05 17:24:05,789] Trial 23 finished with value: 0.7916666666666667 and parameters: {'k': 17}. Best is trial 2 with value: 0.875.\n",
      "[I 2025-02-05 17:24:05,811] Trial 24 finished with value: 0.6458333333333334 and parameters: {'k': 43}. Best is trial 2 with value: 0.875.\n",
      "[I 2025-02-05 17:24:05,854] Trial 25 finished with value: 0.7708333333333333 and parameters: {'k': 21}. Best is trial 2 with value: 0.875.\n",
      "[I 2025-02-05 17:24:05,916] Trial 26 finished with value: 0.7083333333333333 and parameters: {'k': 44}. Best is trial 2 with value: 0.875.\n",
      "[I 2025-02-05 17:24:05,962] Trial 27 finished with value: 0.875 and parameters: {'k': 9}. Best is trial 2 with value: 0.875.\n",
      "[I 2025-02-05 17:24:05,986] Trial 28 finished with value: 0.8333333333333333 and parameters: {'k': 14}. Best is trial 2 with value: 0.875.\n",
      "[I 2025-02-05 17:24:05,998] Trial 29 finished with value: 0.75 and parameters: {'k': 26}. Best is trial 2 with value: 0.875.\n",
      "[I 2025-02-05 17:24:06,008] Trial 30 finished with value: 0.6875 and parameters: {'k': 6}. Best is trial 2 with value: 0.875.\n",
      "[I 2025-02-05 17:24:06,035] Trial 31 finished with value: 0.8125 and parameters: {'k': 18}. Best is trial 2 with value: 0.875.\n",
      "[I 2025-02-05 17:24:06,057] Trial 32 finished with value: 0.5833333333333333 and parameters: {'k': 41}. Best is trial 2 with value: 0.875.\n",
      "[I 2025-02-05 17:24:06,075] Trial 33 finished with value: 0.5208333333333333 and parameters: {'k': 50}. Best is trial 2 with value: 0.875.\n",
      "[I 2025-02-05 17:24:06,087] Trial 34 finished with value: 0.7083333333333333 and parameters: {'k': 2}. Best is trial 2 with value: 0.875.\n",
      "[I 2025-02-05 17:24:06,106] Trial 35 finished with value: 0.9166666666666667 and parameters: {'k': 13}. Best is trial 35 with value: 0.9166666666666667.\n",
      "[I 2025-02-05 17:24:06,133] Trial 36 finished with value: 0.45833333333333337 and parameters: {'k': 38}. Best is trial 35 with value: 0.9166666666666667.\n",
      "[I 2025-02-05 17:24:06,151] Trial 37 finished with value: 0.8125 and parameters: {'k': 25}. Best is trial 35 with value: 0.9166666666666667.\n",
      "[I 2025-02-05 17:24:06,168] Trial 38 finished with value: 0.7291666666666667 and parameters: {'k': 7}. Best is trial 35 with value: 0.9166666666666667.\n",
      "[I 2025-02-05 17:24:06,180] Trial 39 finished with value: 0.8541666666666667 and parameters: {'k': 24}. Best is trial 35 with value: 0.9166666666666667.\n",
      "[I 2025-02-05 17:24:06,191] Trial 40 finished with value: 0.43750000000000006 and parameters: {'k': 37}. Best is trial 35 with value: 0.9166666666666667.\n",
      "[I 2025-02-05 17:24:06,208] Trial 41 finished with value: 0.8125 and parameters: {'k': 22}. Best is trial 35 with value: 0.9166666666666667.\n",
      "[I 2025-02-05 17:24:06,221] Trial 42 finished with value: 0.75 and parameters: {'k': 20}. Best is trial 35 with value: 0.9166666666666667.\n",
      "[I 2025-02-05 17:24:06,236] Trial 43 finished with value: 0.875 and parameters: {'k': 10}. Best is trial 35 with value: 0.9166666666666667.\n",
      "[I 2025-02-05 17:24:06,251] Trial 44 finished with value: 0.4791666666666667 and parameters: {'k': 40}. Best is trial 35 with value: 0.9166666666666667.\n",
      "[I 2025-02-05 17:24:06,266] Trial 45 finished with value: 0.375 and parameters: {'k': 47}. Best is trial 35 with value: 0.9166666666666667.\n",
      "[I 2025-02-05 17:24:06,280] Trial 46 finished with value: 0.7916666666666666 and parameters: {'k': 4}. Best is trial 35 with value: 0.9166666666666667.\n",
      "[I 2025-02-05 17:24:06,295] Trial 47 finished with value: 0.75 and parameters: {'k': 1}. Best is trial 35 with value: 0.9166666666666667.\n",
      "[I 2025-02-05 17:24:06,312] Trial 48 finished with value: 0.4791666666666667 and parameters: {'k': 48}. Best is trial 35 with value: 0.9166666666666667.\n",
      "[I 2025-02-05 17:24:06,326] Trial 49 finished with value: 0.5416666666666667 and parameters: {'k': 45}. Best is trial 35 with value: 0.9166666666666667.\n",
      "[I 2025-02-05 17:24:06,337] A new study created in memory with name: no-name-1b217b34-57b3-407c-9114-f2c22fa783a2\n",
      "[I 2025-02-05 17:24:06,343] Trial 0 finished with value: 0.3484848484848485 and parameters: {'k': 29}. Best is trial 0 with value: 0.3484848484848485.\n",
      "[I 2025-02-05 17:24:06,349] Trial 1 finished with value: 0.43939393939393945 and parameters: {'k': 12}. Best is trial 1 with value: 0.43939393939393945.\n",
      "[I 2025-02-05 17:24:06,361] Trial 2 finished with value: 0.4090909090909091 and parameters: {'k': 11}. Best is trial 1 with value: 0.43939393939393945.\n",
      "[I 2025-02-05 17:24:06,374] Trial 3 finished with value: 0.43939393939393945 and parameters: {'k': 42}. Best is trial 1 with value: 0.43939393939393945.\n",
      "[I 2025-02-05 17:24:06,387] Trial 4 finished with value: 0.31818181818181823 and parameters: {'k': 3}. Best is trial 1 with value: 0.43939393939393945.\n",
      "[I 2025-02-05 17:24:06,395] Trial 5 finished with value: 0.2878787878787879 and parameters: {'k': 28}. Best is trial 1 with value: 0.43939393939393945.\n",
      "[I 2025-02-05 17:24:06,405] Trial 6 finished with value: 0.48484848484848486 and parameters: {'k': 39}. Best is trial 6 with value: 0.48484848484848486.\n",
      "[I 2025-02-05 17:24:06,415] Trial 7 finished with value: 0.36363636363636365 and parameters: {'k': 32}. Best is trial 6 with value: 0.48484848484848486.\n",
      "[I 2025-02-05 17:24:06,424] Trial 8 finished with value: 0.3484848484848485 and parameters: {'k': 23}. Best is trial 6 with value: 0.48484848484848486.\n",
      "[I 2025-02-05 17:24:06,436] Trial 9 finished with value: 0.3939393939393939 and parameters: {'k': 5}. Best is trial 6 with value: 0.48484848484848486.\n",
      "[I 2025-02-05 17:24:06,445] Trial 10 finished with value: 0.3787878787878788 and parameters: {'k': 34}. Best is trial 6 with value: 0.48484848484848486.\n",
      "[I 2025-02-05 17:24:06,455] Trial 11 finished with value: 0.48484848484848486 and parameters: {'k': 36}. Best is trial 6 with value: 0.48484848484848486.\n",
      "[I 2025-02-05 17:24:06,464] Trial 12 finished with value: 0.37878787878787884 and parameters: {'k': 27}. Best is trial 6 with value: 0.48484848484848486.\n",
      "[I 2025-02-05 17:24:06,472] Trial 13 finished with value: 0.48484848484848486 and parameters: {'k': 35}. Best is trial 6 with value: 0.48484848484848486.\n",
      "[I 2025-02-05 17:24:06,484] Trial 14 finished with value: 0.30303030303030304 and parameters: {'k': 19}. Best is trial 6 with value: 0.48484848484848486.\n",
      "[I 2025-02-05 17:24:06,492] Trial 15 finished with value: 0.4696969696969697 and parameters: {'k': 8}. Best is trial 6 with value: 0.48484848484848486.\n",
      "[I 2025-02-05 17:24:06,502] Trial 16 finished with value: 0.34848484848484845 and parameters: {'k': 15}. Best is trial 6 with value: 0.48484848484848486.\n",
      "[I 2025-02-05 17:24:06,511] Trial 17 finished with value: 0.4696969696969697 and parameters: {'k': 46}. Best is trial 6 with value: 0.48484848484848486.\n",
      "[I 2025-02-05 17:24:06,520] Trial 18 finished with value: 0.4090909090909091 and parameters: {'k': 49}. Best is trial 6 with value: 0.48484848484848486.\n",
      "[I 2025-02-05 17:24:06,529] Trial 19 finished with value: 0.3484848484848485 and parameters: {'k': 30}. Best is trial 6 with value: 0.48484848484848486.\n",
      "[I 2025-02-05 17:24:06,538] Trial 20 finished with value: 0.3787878787878788 and parameters: {'k': 16}. Best is trial 6 with value: 0.48484848484848486.\n",
      "[I 2025-02-05 17:24:06,548] Trial 21 finished with value: 0.36363636363636365 and parameters: {'k': 31}. Best is trial 6 with value: 0.48484848484848486.\n",
      "[I 2025-02-05 17:24:06,557] Trial 22 finished with value: 0.31818181818181823 and parameters: {'k': 33}. Best is trial 6 with value: 0.48484848484848486.\n",
      "[I 2025-02-05 17:24:06,567] Trial 23 finished with value: 0.33333333333333337 and parameters: {'k': 17}. Best is trial 6 with value: 0.48484848484848486.\n",
      "[I 2025-02-05 17:24:06,577] Trial 24 finished with value: 0.4545454545454546 and parameters: {'k': 43}. Best is trial 6 with value: 0.48484848484848486.\n",
      "[I 2025-02-05 17:24:06,587] Trial 25 finished with value: 0.3787878787878788 and parameters: {'k': 21}. Best is trial 6 with value: 0.48484848484848486.\n",
      "[I 2025-02-05 17:24:06,597] Trial 26 finished with value: 0.40909090909090917 and parameters: {'k': 44}. Best is trial 6 with value: 0.48484848484848486.\n",
      "[I 2025-02-05 17:24:06,607] Trial 27 finished with value: 0.393939393939394 and parameters: {'k': 9}. Best is trial 6 with value: 0.48484848484848486.\n",
      "[I 2025-02-05 17:24:06,617] Trial 28 finished with value: 0.31818181818181823 and parameters: {'k': 14}. Best is trial 6 with value: 0.48484848484848486.\n",
      "[I 2025-02-05 17:24:06,628] Trial 29 finished with value: 0.4696969696969697 and parameters: {'k': 26}. Best is trial 6 with value: 0.48484848484848486.\n",
      "[I 2025-02-05 17:24:06,638] Trial 30 finished with value: 0.4090909090909091 and parameters: {'k': 6}. Best is trial 6 with value: 0.48484848484848486.\n",
      "[I 2025-02-05 17:24:06,649] Trial 31 finished with value: 0.36363636363636365 and parameters: {'k': 18}. Best is trial 6 with value: 0.48484848484848486.\n",
      "[I 2025-02-05 17:24:06,661] Trial 32 finished with value: 0.4242424242424243 and parameters: {'k': 41}. Best is trial 6 with value: 0.48484848484848486.\n",
      "[I 2025-02-05 17:24:06,672] Trial 33 finished with value: 0.43939393939393945 and parameters: {'k': 50}. Best is trial 6 with value: 0.48484848484848486.\n",
      "[I 2025-02-05 17:24:06,690] Trial 34 finished with value: 0.3939393939393939 and parameters: {'k': 2}. Best is trial 6 with value: 0.48484848484848486.\n",
      "[I 2025-02-05 17:24:06,702] Trial 35 finished with value: 0.3484848484848485 and parameters: {'k': 13}. Best is trial 6 with value: 0.48484848484848486.\n",
      "[I 2025-02-05 17:24:06,714] Trial 36 finished with value: 0.36363636363636365 and parameters: {'k': 38}. Best is trial 6 with value: 0.48484848484848486.\n",
      "[I 2025-02-05 17:24:06,727] Trial 37 finished with value: 0.393939393939394 and parameters: {'k': 25}. Best is trial 6 with value: 0.48484848484848486.\n",
      "[I 2025-02-05 17:24:06,740] Trial 38 finished with value: 0.4545454545454546 and parameters: {'k': 7}. Best is trial 6 with value: 0.48484848484848486.\n",
      "[I 2025-02-05 17:24:06,753] Trial 39 finished with value: 0.36363636363636365 and parameters: {'k': 24}. Best is trial 6 with value: 0.48484848484848486.\n",
      "[I 2025-02-05 17:24:06,765] Trial 40 finished with value: 0.4545454545454546 and parameters: {'k': 37}. Best is trial 6 with value: 0.48484848484848486.\n",
      "[I 2025-02-05 17:24:06,778] Trial 41 finished with value: 0.393939393939394 and parameters: {'k': 22}. Best is trial 6 with value: 0.48484848484848486.\n",
      "[I 2025-02-05 17:24:06,791] Trial 42 finished with value: 0.31818181818181823 and parameters: {'k': 20}. Best is trial 6 with value: 0.48484848484848486.\n",
      "[I 2025-02-05 17:24:06,804] Trial 43 finished with value: 0.37878787878787884 and parameters: {'k': 10}. Best is trial 6 with value: 0.48484848484848486.\n",
      "[I 2025-02-05 17:24:06,817] Trial 44 finished with value: 0.43939393939393945 and parameters: {'k': 40}. Best is trial 6 with value: 0.48484848484848486.\n",
      "[I 2025-02-05 17:24:06,830] Trial 45 finished with value: 0.4545454545454546 and parameters: {'k': 47}. Best is trial 6 with value: 0.48484848484848486.\n",
      "[I 2025-02-05 17:24:06,844] Trial 46 finished with value: 0.31818181818181823 and parameters: {'k': 4}. Best is trial 6 with value: 0.48484848484848486.\n",
      "[I 2025-02-05 17:24:06,857] Trial 47 finished with value: 0.5303030303030303 and parameters: {'k': 1}. Best is trial 47 with value: 0.5303030303030303.\n",
      "[I 2025-02-05 17:24:06,872] Trial 48 finished with value: 0.37878787878787884 and parameters: {'k': 48}. Best is trial 47 with value: 0.5303030303030303.\n",
      "[I 2025-02-05 17:24:06,886] Trial 49 finished with value: 0.3787878787878788 and parameters: {'k': 45}. Best is trial 47 with value: 0.5303030303030303.\n",
      "[I 2025-02-05 17:24:06,894] A new study created in memory with name: no-name-b9001660-4d12-440f-89a4-6318f7fd36ed\n",
      "[I 2025-02-05 17:24:06,898] Trial 0 finished with value: 0.6749999999999999 and parameters: {'k': 29}. Best is trial 0 with value: 0.6749999999999999.\n",
      "[I 2025-02-05 17:24:06,902] Trial 1 finished with value: 0.8 and parameters: {'k': 12}. Best is trial 1 with value: 0.8.\n",
      "[I 2025-02-05 17:24:06,907] Trial 2 finished with value: 0.7875000000000001 and parameters: {'k': 11}. Best is trial 1 with value: 0.8.\n",
      "[I 2025-02-05 17:24:06,912] Trial 3 finished with value: 0.7 and parameters: {'k': 42}. Best is trial 1 with value: 0.8.\n",
      "[I 2025-02-05 17:24:06,916] Trial 4 finished with value: 0.8125 and parameters: {'k': 3}. Best is trial 4 with value: 0.8125.\n",
      "[I 2025-02-05 17:24:06,921] Trial 5 finished with value: 0.6625 and parameters: {'k': 28}. Best is trial 4 with value: 0.8125.\n",
      "[I 2025-02-05 17:24:06,926] Trial 6 finished with value: 0.7125000000000001 and parameters: {'k': 39}. Best is trial 4 with value: 0.8125.\n",
      "[I 2025-02-05 17:24:06,932] Trial 7 finished with value: 0.7 and parameters: {'k': 32}. Best is trial 4 with value: 0.8125.\n",
      "[I 2025-02-05 17:24:06,937] Trial 8 finished with value: 0.7625000000000001 and parameters: {'k': 23}. Best is trial 4 with value: 0.8125.\n",
      "[I 2025-02-05 17:24:06,943] Trial 9 finished with value: 0.8125 and parameters: {'k': 5}. Best is trial 4 with value: 0.8125.\n",
      "[I 2025-02-05 17:24:06,948] Trial 10 finished with value: 0.7375 and parameters: {'k': 34}. Best is trial 4 with value: 0.8125.\n",
      "[I 2025-02-05 17:24:06,954] Trial 11 finished with value: 0.725 and parameters: {'k': 36}. Best is trial 4 with value: 0.8125.\n",
      "[I 2025-02-05 17:24:06,961] Trial 12 finished with value: 0.625 and parameters: {'k': 27}. Best is trial 4 with value: 0.8125.\n",
      "[I 2025-02-05 17:24:06,967] Trial 13 finished with value: 0.7625 and parameters: {'k': 35}. Best is trial 4 with value: 0.8125.\n",
      "[I 2025-02-05 17:24:06,974] Trial 14 finished with value: 0.7124999999999999 and parameters: {'k': 19}. Best is trial 4 with value: 0.8125.\n",
      "[I 2025-02-05 17:24:06,981] Trial 15 finished with value: 0.4875 and parameters: {'k': 8}. Best is trial 4 with value: 0.8125.\n",
      "[I 2025-02-05 17:24:06,988] Trial 16 finished with value: 0.7124999999999999 and parameters: {'k': 15}. Best is trial 4 with value: 0.8125.\n",
      "[I 2025-02-05 17:24:06,995] Trial 17 finished with value: 0.575 and parameters: {'k': 46}. Best is trial 4 with value: 0.8125.\n",
      "[I 2025-02-05 17:24:07,003] Trial 18 finished with value: 0.6124999999999999 and parameters: {'k': 49}. Best is trial 4 with value: 0.8125.\n",
      "[I 2025-02-05 17:24:07,011] Trial 19 finished with value: 0.7 and parameters: {'k': 30}. Best is trial 4 with value: 0.8125.\n",
      "[I 2025-02-05 17:24:07,019] Trial 20 finished with value: 0.6749999999999999 and parameters: {'k': 16}. Best is trial 4 with value: 0.8125.\n",
      "[I 2025-02-05 17:24:07,028] Trial 21 finished with value: 0.75 and parameters: {'k': 31}. Best is trial 4 with value: 0.8125.\n",
      "[I 2025-02-05 17:24:07,036] Trial 22 finished with value: 0.7 and parameters: {'k': 33}. Best is trial 4 with value: 0.8125.\n",
      "[I 2025-02-05 17:24:07,044] Trial 23 finished with value: 0.725 and parameters: {'k': 17}. Best is trial 4 with value: 0.8125.\n",
      "[I 2025-02-05 17:24:07,053] Trial 24 finished with value: 0.65 and parameters: {'k': 43}. Best is trial 4 with value: 0.8125.\n",
      "[I 2025-02-05 17:24:07,061] Trial 25 finished with value: 0.7124999999999999 and parameters: {'k': 21}. Best is trial 4 with value: 0.8125.\n",
      "[I 2025-02-05 17:24:07,070] Trial 26 finished with value: 0.6 and parameters: {'k': 44}. Best is trial 4 with value: 0.8125.\n",
      "[I 2025-02-05 17:24:07,079] Trial 27 finished with value: 0.65 and parameters: {'k': 9}. Best is trial 4 with value: 0.8125.\n",
      "[I 2025-02-05 17:24:07,088] Trial 28 finished with value: 0.75 and parameters: {'k': 14}. Best is trial 4 with value: 0.8125.\n",
      "[I 2025-02-05 17:24:07,098] Trial 29 finished with value: 0.675 and parameters: {'k': 26}. Best is trial 4 with value: 0.8125.\n",
      "[I 2025-02-05 17:24:07,107] Trial 30 finished with value: 0.7250000000000001 and parameters: {'k': 6}. Best is trial 4 with value: 0.8125.\n",
      "[I 2025-02-05 17:24:07,117] Trial 31 finished with value: 0.7 and parameters: {'k': 18}. Best is trial 4 with value: 0.8125.\n",
      "[I 2025-02-05 17:24:07,127] Trial 32 finished with value: 0.725 and parameters: {'k': 41}. Best is trial 4 with value: 0.8125.\n",
      "[I 2025-02-05 17:24:07,137] Trial 33 finished with value: 0.6124999999999999 and parameters: {'k': 50}. Best is trial 4 with value: 0.8125.\n",
      "[I 2025-02-05 17:24:07,147] Trial 34 finished with value: 0.7250000000000001 and parameters: {'k': 2}. Best is trial 4 with value: 0.8125.\n",
      "[I 2025-02-05 17:24:07,158] Trial 35 finished with value: 0.7375 and parameters: {'k': 13}. Best is trial 4 with value: 0.8125.\n",
      "[I 2025-02-05 17:24:07,168] Trial 36 finished with value: 0.6125 and parameters: {'k': 38}. Best is trial 4 with value: 0.8125.\n",
      "[I 2025-02-05 17:24:07,179] Trial 37 finished with value: 0.7 and parameters: {'k': 25}. Best is trial 4 with value: 0.8125.\n",
      "[I 2025-02-05 17:24:07,190] Trial 38 finished with value: 0.55 and parameters: {'k': 7}. Best is trial 4 with value: 0.8125.\n",
      "[I 2025-02-05 17:24:07,201] Trial 39 finished with value: 0.7375 and parameters: {'k': 24}. Best is trial 4 with value: 0.8125.\n",
      "[I 2025-02-05 17:24:07,213] Trial 40 finished with value: 0.6875 and parameters: {'k': 37}. Best is trial 4 with value: 0.8125.\n",
      "[I 2025-02-05 17:24:07,224] Trial 41 finished with value: 0.7250000000000001 and parameters: {'k': 22}. Best is trial 4 with value: 0.8125.\n",
      "[I 2025-02-05 17:24:07,236] Trial 42 finished with value: 0.725 and parameters: {'k': 20}. Best is trial 4 with value: 0.8125.\n",
      "[I 2025-02-05 17:24:07,248] Trial 43 finished with value: 0.7 and parameters: {'k': 10}. Best is trial 4 with value: 0.8125.\n",
      "[I 2025-02-05 17:24:07,260] Trial 44 finished with value: 0.6875 and parameters: {'k': 40}. Best is trial 4 with value: 0.8125.\n",
      "[I 2025-02-05 17:24:07,270] Trial 45 finished with value: 0.5874999999999999 and parameters: {'k': 47}. Best is trial 4 with value: 0.8125.\n",
      "[I 2025-02-05 17:24:07,279] Trial 46 finished with value: 0.925 and parameters: {'k': 4}. Best is trial 46 with value: 0.925.\n",
      "[I 2025-02-05 17:24:07,289] Trial 47 finished with value: 0.7 and parameters: {'k': 1}. Best is trial 46 with value: 0.925.\n",
      "[I 2025-02-05 17:24:07,299] Trial 48 finished with value: 0.6124999999999999 and parameters: {'k': 48}. Best is trial 46 with value: 0.925.\n",
      "[I 2025-02-05 17:24:07,317] Trial 49 finished with value: 0.625 and parameters: {'k': 45}. Best is trial 46 with value: 0.925.\n",
      "[I 2025-02-05 17:24:07,322] A new study created in memory with name: no-name-a15e1272-c4e1-4ba6-a3cd-e32f9d439c8f\n",
      "[I 2025-02-05 17:24:07,326] Trial 0 finished with value: 0.7666666666666666 and parameters: {'k': 29}. Best is trial 0 with value: 0.7666666666666666.\n",
      "[I 2025-02-05 17:24:07,330] Trial 1 finished with value: 0.6 and parameters: {'k': 12}. Best is trial 0 with value: 0.7666666666666666.\n",
      "[I 2025-02-05 17:24:07,334] Trial 2 finished with value: 0.5666666666666667 and parameters: {'k': 11}. Best is trial 0 with value: 0.7666666666666666.\n",
      "[I 2025-02-05 17:24:07,339] Trial 3 finished with value: 0.4444444444444445 and parameters: {'k': 42}. Best is trial 0 with value: 0.7666666666666666.\n",
      "[I 2025-02-05 17:24:07,343] Trial 4 finished with value: 0.2777777777777778 and parameters: {'k': 3}. Best is trial 0 with value: 0.7666666666666666.\n",
      "[I 2025-02-05 17:24:07,348] Trial 5 finished with value: 0.7666666666666667 and parameters: {'k': 28}. Best is trial 5 with value: 0.7666666666666667.\n",
      "[I 2025-02-05 17:24:07,353] Trial 6 finished with value: 0.42222222222222217 and parameters: {'k': 39}. Best is trial 5 with value: 0.7666666666666667.\n",
      "[I 2025-02-05 17:24:07,359] Trial 7 finished with value: 0.6888888888888888 and parameters: {'k': 32}. Best is trial 5 with value: 0.7666666666666667.\n",
      "[I 2025-02-05 17:24:07,364] Trial 8 finished with value: 0.7888888888888889 and parameters: {'k': 23}. Best is trial 8 with value: 0.7888888888888889.\n",
      "[I 2025-02-05 17:24:07,370] Trial 9 finished with value: 0.34444444444444444 and parameters: {'k': 5}. Best is trial 8 with value: 0.7888888888888889.\n",
      "[I 2025-02-05 17:24:07,376] Trial 10 finished with value: 0.4555555555555555 and parameters: {'k': 34}. Best is trial 8 with value: 0.7888888888888889.\n",
      "[I 2025-02-05 17:24:07,382] Trial 11 finished with value: 0.42222222222222217 and parameters: {'k': 36}. Best is trial 8 with value: 0.7888888888888889.\n",
      "[I 2025-02-05 17:24:07,389] Trial 12 finished with value: 0.7444444444444445 and parameters: {'k': 27}. Best is trial 8 with value: 0.7888888888888889.\n",
      "[I 2025-02-05 17:24:07,395] Trial 13 finished with value: 0.42222222222222217 and parameters: {'k': 35}. Best is trial 8 with value: 0.7888888888888889.\n",
      "[I 2025-02-05 17:24:07,402] Trial 14 finished with value: 0.6777777777777778 and parameters: {'k': 19}. Best is trial 8 with value: 0.7888888888888889.\n",
      "[I 2025-02-05 17:24:07,409] Trial 15 finished with value: 0.4666666666666666 and parameters: {'k': 8}. Best is trial 8 with value: 0.7888888888888889.\n",
      "[I 2025-02-05 17:24:07,417] Trial 16 finished with value: 0.5666666666666667 and parameters: {'k': 15}. Best is trial 8 with value: 0.7888888888888889.\n",
      "[I 2025-02-05 17:24:07,425] Trial 17 finished with value: 0.5555555555555556 and parameters: {'k': 46}. Best is trial 8 with value: 0.7888888888888889.\n",
      "[I 2025-02-05 17:24:07,460] Trial 18 finished with value: 0.6444444444444444 and parameters: {'k': 49}. Best is trial 8 with value: 0.7888888888888889.\n",
      "[I 2025-02-05 17:24:07,510] Trial 19 finished with value: 0.8111111111111111 and parameters: {'k': 30}. Best is trial 19 with value: 0.8111111111111111.\n",
      "[I 2025-02-05 17:24:07,518] Trial 20 finished with value: 0.5666666666666667 and parameters: {'k': 16}. Best is trial 19 with value: 0.8111111111111111.\n",
      "[I 2025-02-05 17:24:07,532] Trial 21 finished with value: 0.7333333333333333 and parameters: {'k': 31}. Best is trial 19 with value: 0.8111111111111111.\n",
      "[I 2025-02-05 17:24:07,542] Trial 22 finished with value: 0.6333333333333333 and parameters: {'k': 33}. Best is trial 19 with value: 0.8111111111111111.\n",
      "[I 2025-02-05 17:24:07,551] Trial 23 finished with value: 0.6444444444444444 and parameters: {'k': 17}. Best is trial 19 with value: 0.8111111111111111.\n",
      "[I 2025-02-05 17:24:07,576] Trial 24 finished with value: 0.5 and parameters: {'k': 43}. Best is trial 19 with value: 0.8111111111111111.\n",
      "[I 2025-02-05 17:24:07,588] Trial 25 finished with value: 0.7555555555555555 and parameters: {'k': 21}. Best is trial 19 with value: 0.8111111111111111.\n",
      "[I 2025-02-05 17:24:07,601] Trial 26 finished with value: 0.611111111111111 and parameters: {'k': 44}. Best is trial 19 with value: 0.8111111111111111.\n",
      "[I 2025-02-05 17:24:07,611] Trial 27 finished with value: 0.4666666666666667 and parameters: {'k': 9}. Best is trial 19 with value: 0.8111111111111111.\n",
      "[I 2025-02-05 17:24:07,622] Trial 28 finished with value: 0.5777777777777777 and parameters: {'k': 14}. Best is trial 19 with value: 0.8111111111111111.\n",
      "[I 2025-02-05 17:24:07,633] Trial 29 finished with value: 0.7111111111111111 and parameters: {'k': 26}. Best is trial 19 with value: 0.8111111111111111.\n",
      "[I 2025-02-05 17:24:07,645] Trial 30 finished with value: 0.4777777777777778 and parameters: {'k': 6}. Best is trial 19 with value: 0.8111111111111111.\n",
      "[I 2025-02-05 17:24:07,656] Trial 31 finished with value: 0.5777777777777777 and parameters: {'k': 18}. Best is trial 19 with value: 0.8111111111111111.\n",
      "[I 2025-02-05 17:24:07,702] Trial 32 finished with value: 0.43333333333333335 and parameters: {'k': 41}. Best is trial 19 with value: 0.8111111111111111.\n",
      "[I 2025-02-05 17:24:07,750] Trial 33 finished with value: 0.7333333333333334 and parameters: {'k': 50}. Best is trial 19 with value: 0.8111111111111111.\n",
      "[I 2025-02-05 17:24:07,779] Trial 34 finished with value: 0.3888888888888889 and parameters: {'k': 2}. Best is trial 19 with value: 0.8111111111111111.\n",
      "[I 2025-02-05 17:24:07,796] Trial 35 finished with value: 0.5444444444444444 and parameters: {'k': 13}. Best is trial 19 with value: 0.8111111111111111.\n",
      "[I 2025-02-05 17:24:07,806] Trial 36 finished with value: 0.5777777777777777 and parameters: {'k': 38}. Best is trial 19 with value: 0.8111111111111111.\n",
      "[I 2025-02-05 17:24:07,825] Trial 37 finished with value: 0.7777777777777778 and parameters: {'k': 25}. Best is trial 19 with value: 0.8111111111111111.\n",
      "[I 2025-02-05 17:24:07,842] Trial 38 finished with value: 0.4222222222222222 and parameters: {'k': 7}. Best is trial 19 with value: 0.8111111111111111.\n",
      "[I 2025-02-05 17:24:07,856] Trial 39 finished with value: 0.7666666666666666 and parameters: {'k': 24}. Best is trial 19 with value: 0.8111111111111111.\n",
      "[I 2025-02-05 17:24:07,875] Trial 40 finished with value: 0.5 and parameters: {'k': 37}. Best is trial 19 with value: 0.8111111111111111.\n",
      "[I 2025-02-05 17:24:07,886] Trial 41 finished with value: 0.8333333333333334 and parameters: {'k': 22}. Best is trial 41 with value: 0.8333333333333334.\n",
      "[I 2025-02-05 17:24:07,897] Trial 42 finished with value: 0.7111111111111111 and parameters: {'k': 20}. Best is trial 41 with value: 0.8333333333333334.\n",
      "[I 2025-02-05 17:24:07,912] Trial 43 finished with value: 0.45555555555555555 and parameters: {'k': 10}. Best is trial 41 with value: 0.8333333333333334.\n",
      "[I 2025-02-05 17:24:07,924] Trial 44 finished with value: 0.4222222222222222 and parameters: {'k': 40}. Best is trial 41 with value: 0.8333333333333334.\n",
      "[I 2025-02-05 17:24:07,943] Trial 45 finished with value: 0.6333333333333333 and parameters: {'k': 47}. Best is trial 41 with value: 0.8333333333333334.\n",
      "[I 2025-02-05 17:24:07,956] Trial 46 finished with value: 0.35555555555555557 and parameters: {'k': 4}. Best is trial 41 with value: 0.8333333333333334.\n",
      "[I 2025-02-05 17:24:07,982] Trial 47 finished with value: 0.3888888888888889 and parameters: {'k': 1}. Best is trial 41 with value: 0.8333333333333334.\n",
      "[I 2025-02-05 17:24:08,006] Trial 48 finished with value: 0.6222222222222223 and parameters: {'k': 48}. Best is trial 41 with value: 0.8333333333333334.\n",
      "[I 2025-02-05 17:24:08,025] Trial 49 finished with value: 0.5999999999999999 and parameters: {'k': 45}. Best is trial 41 with value: 0.8333333333333334.\n",
      "[I 2025-02-05 17:24:08,032] A new study created in memory with name: no-name-753ebf33-1147-450f-84d1-ce79bbd1f0c3\n",
      "[I 2025-02-05 17:24:08,059] Trial 0 finished with value: 0.7 and parameters: {'k': 29}. Best is trial 0 with value: 0.7.\n",
      "[I 2025-02-05 17:24:08,068] Trial 1 finished with value: 0.5375000000000001 and parameters: {'k': 12}. Best is trial 0 with value: 0.7.\n",
      "[I 2025-02-05 17:24:08,072] Trial 2 finished with value: 0.625 and parameters: {'k': 11}. Best is trial 0 with value: 0.7.\n",
      "[I 2025-02-05 17:24:08,076] Trial 3 finished with value: 0.575 and parameters: {'k': 42}. Best is trial 0 with value: 0.7.\n",
      "[I 2025-02-05 17:24:08,088] Trial 4 finished with value: 0.4125 and parameters: {'k': 3}. Best is trial 0 with value: 0.7.\n",
      "[I 2025-02-05 17:24:08,093] Trial 5 finished with value: 0.575 and parameters: {'k': 28}. Best is trial 0 with value: 0.7.\n",
      "[I 2025-02-05 17:24:08,101] Trial 6 finished with value: 0.625 and parameters: {'k': 39}. Best is trial 0 with value: 0.7.\n",
      "[I 2025-02-05 17:24:08,136] Trial 7 finished with value: 0.6375000000000001 and parameters: {'k': 32}. Best is trial 0 with value: 0.7.\n",
      "[I 2025-02-05 17:24:08,147] Trial 8 finished with value: 0.7000000000000001 and parameters: {'k': 23}. Best is trial 8 with value: 0.7000000000000001.\n",
      "[I 2025-02-05 17:24:08,152] Trial 9 finished with value: 0.55 and parameters: {'k': 5}. Best is trial 8 with value: 0.7000000000000001.\n",
      "[I 2025-02-05 17:24:08,165] Trial 10 finished with value: 0.7000000000000001 and parameters: {'k': 34}. Best is trial 8 with value: 0.7000000000000001.\n",
      "[I 2025-02-05 17:24:08,171] Trial 11 finished with value: 0.6125 and parameters: {'k': 36}. Best is trial 8 with value: 0.7000000000000001.\n",
      "[I 2025-02-05 17:24:08,178] Trial 12 finished with value: 0.575 and parameters: {'k': 27}. Best is trial 8 with value: 0.7000000000000001.\n",
      "[I 2025-02-05 17:24:08,190] Trial 13 finished with value: 0.6 and parameters: {'k': 35}. Best is trial 8 with value: 0.7000000000000001.\n",
      "[I 2025-02-05 17:24:08,203] Trial 14 finished with value: 0.7 and parameters: {'k': 19}. Best is trial 8 with value: 0.7000000000000001.\n",
      "[I 2025-02-05 17:24:08,216] Trial 15 finished with value: 0.55 and parameters: {'k': 8}. Best is trial 8 with value: 0.7000000000000001.\n",
      "[I 2025-02-05 17:24:08,221] Trial 16 finished with value: 0.55 and parameters: {'k': 15}. Best is trial 8 with value: 0.7000000000000001.\n",
      "[I 2025-02-05 17:24:08,234] Trial 17 finished with value: 0.5375000000000001 and parameters: {'k': 46}. Best is trial 8 with value: 0.7000000000000001.\n",
      "[I 2025-02-05 17:24:08,247] Trial 18 finished with value: 0.37499999999999994 and parameters: {'k': 49}. Best is trial 8 with value: 0.7000000000000001.\n",
      "[I 2025-02-05 17:24:08,253] Trial 19 finished with value: 0.7125 and parameters: {'k': 30}. Best is trial 19 with value: 0.7125.\n",
      "[I 2025-02-05 17:24:08,260] Trial 20 finished with value: 0.6000000000000001 and parameters: {'k': 16}. Best is trial 19 with value: 0.7125.\n",
      "[I 2025-02-05 17:24:08,273] Trial 21 finished with value: 0.6625 and parameters: {'k': 31}. Best is trial 19 with value: 0.7125.\n",
      "[I 2025-02-05 17:24:08,287] Trial 22 finished with value: 0.6 and parameters: {'k': 33}. Best is trial 19 with value: 0.7125.\n",
      "[I 2025-02-05 17:24:08,315] Trial 23 finished with value: 0.6124999999999999 and parameters: {'k': 17}. Best is trial 19 with value: 0.7125.\n",
      "[I 2025-02-05 17:24:08,333] Trial 24 finished with value: 0.44999999999999996 and parameters: {'k': 43}. Best is trial 19 with value: 0.7125.\n",
      "[I 2025-02-05 17:24:08,360] Trial 25 finished with value: 0.7125 and parameters: {'k': 21}. Best is trial 19 with value: 0.7125.\n",
      "[I 2025-02-05 17:24:08,378] Trial 26 finished with value: 0.42500000000000004 and parameters: {'k': 44}. Best is trial 19 with value: 0.7125.\n",
      "[I 2025-02-05 17:24:08,426] Trial 27 finished with value: 0.4375 and parameters: {'k': 9}. Best is trial 19 with value: 0.7125.\n",
      "[I 2025-02-05 17:24:08,460] Trial 28 finished with value: 0.5625 and parameters: {'k': 14}. Best is trial 19 with value: 0.7125.\n",
      "[I 2025-02-05 17:24:08,475] Trial 29 finished with value: 0.6375 and parameters: {'k': 26}. Best is trial 19 with value: 0.7125.\n",
      "[I 2025-02-05 17:24:08,484] Trial 30 finished with value: 0.6000000000000001 and parameters: {'k': 6}. Best is trial 19 with value: 0.7125.\n",
      "[I 2025-02-05 17:24:08,492] Trial 31 finished with value: 0.575 and parameters: {'k': 18}. Best is trial 19 with value: 0.7125.\n",
      "[I 2025-02-05 17:24:08,508] Trial 32 finished with value: 0.6124999999999999 and parameters: {'k': 41}. Best is trial 19 with value: 0.7125.\n",
      "[I 2025-02-05 17:24:08,523] Trial 33 finished with value: 0.475 and parameters: {'k': 50}. Best is trial 19 with value: 0.7125.\n",
      "[I 2025-02-05 17:24:08,542] Trial 34 finished with value: 0.5999999999999999 and parameters: {'k': 2}. Best is trial 19 with value: 0.7125.\n",
      "[I 2025-02-05 17:24:08,572] Trial 35 finished with value: 0.5875 and parameters: {'k': 13}. Best is trial 19 with value: 0.7125.\n",
      "[I 2025-02-05 17:24:08,606] Trial 36 finished with value: 0.65 and parameters: {'k': 38}. Best is trial 19 with value: 0.7125.\n",
      "[I 2025-02-05 17:24:08,626] Trial 37 finished with value: 0.6375 and parameters: {'k': 25}. Best is trial 19 with value: 0.7125.\n",
      "[I 2025-02-05 17:24:08,644] Trial 38 finished with value: 0.44999999999999996 and parameters: {'k': 7}. Best is trial 19 with value: 0.7125.\n",
      "[I 2025-02-05 17:24:08,658] Trial 39 finished with value: 0.625 and parameters: {'k': 24}. Best is trial 19 with value: 0.7125.\n",
      "[I 2025-02-05 17:24:08,668] Trial 40 finished with value: 0.625 and parameters: {'k': 37}. Best is trial 19 with value: 0.7125.\n",
      "[I 2025-02-05 17:24:08,680] Trial 41 finished with value: 0.7625000000000001 and parameters: {'k': 22}. Best is trial 41 with value: 0.7625000000000001.\n",
      "[I 2025-02-05 17:24:08,703] Trial 42 finished with value: 0.75 and parameters: {'k': 20}. Best is trial 41 with value: 0.7625000000000001.\n",
      "[I 2025-02-05 17:24:08,721] Trial 43 finished with value: 0.5375 and parameters: {'k': 10}. Best is trial 41 with value: 0.7625000000000001.\n",
      "[I 2025-02-05 17:24:08,737] Trial 44 finished with value: 0.6749999999999999 and parameters: {'k': 40}. Best is trial 41 with value: 0.7625000000000001.\n",
      "[I 2025-02-05 17:24:08,759] Trial 45 finished with value: 0.4 and parameters: {'k': 47}. Best is trial 41 with value: 0.7625000000000001.\n",
      "[I 2025-02-05 17:24:08,777] Trial 46 finished with value: 0.4 and parameters: {'k': 4}. Best is trial 41 with value: 0.7625000000000001.\n",
      "[I 2025-02-05 17:24:08,796] Trial 47 finished with value: 0.65 and parameters: {'k': 1}. Best is trial 41 with value: 0.7625000000000001.\n",
      "[I 2025-02-05 17:24:08,815] Trial 48 finished with value: 0.39999999999999997 and parameters: {'k': 48}. Best is trial 41 with value: 0.7625000000000001.\n",
      "[I 2025-02-05 17:24:08,841] Trial 49 finished with value: 0.5125 and parameters: {'k': 45}. Best is trial 41 with value: 0.7625000000000001.\n",
      "[I 2025-02-05 17:24:08,864] A new study created in memory with name: no-name-45824aec-e0b8-4589-ae91-ed76744bde9a\n",
      "[I 2025-02-05 17:24:08,871] Trial 0 finished with value: 0.6041666666666667 and parameters: {'k': 29}. Best is trial 0 with value: 0.6041666666666667.\n",
      "[I 2025-02-05 17:24:08,896] Trial 1 finished with value: 0.3958333333333333 and parameters: {'k': 12}. Best is trial 0 with value: 0.6041666666666667.\n",
      "[I 2025-02-05 17:24:08,915] Trial 2 finished with value: 0.4375 and parameters: {'k': 11}. Best is trial 0 with value: 0.6041666666666667.\n",
      "[I 2025-02-05 17:24:08,933] Trial 3 finished with value: 0.7083333333333333 and parameters: {'k': 42}. Best is trial 3 with value: 0.7083333333333333.\n",
      "[I 2025-02-05 17:24:08,948] Trial 4 finished with value: 0.4583333333333333 and parameters: {'k': 3}. Best is trial 3 with value: 0.7083333333333333.\n",
      "[I 2025-02-05 17:24:08,959] Trial 5 finished with value: 0.7083333333333333 and parameters: {'k': 28}. Best is trial 3 with value: 0.7083333333333333.\n",
      "[I 2025-02-05 17:24:08,969] Trial 6 finished with value: 0.875 and parameters: {'k': 39}. Best is trial 6 with value: 0.875.\n",
      "[I 2025-02-05 17:24:08,973] Trial 7 finished with value: 0.8333333333333333 and parameters: {'k': 32}. Best is trial 6 with value: 0.875.\n",
      "[I 2025-02-05 17:24:08,984] Trial 8 finished with value: 0.7916666666666667 and parameters: {'k': 23}. Best is trial 6 with value: 0.875.\n",
      "[I 2025-02-05 17:24:08,990] Trial 9 finished with value: 0.5 and parameters: {'k': 5}. Best is trial 6 with value: 0.875.\n",
      "[I 2025-02-05 17:24:09,006] Trial 10 finished with value: 0.9166666666666666 and parameters: {'k': 34}. Best is trial 10 with value: 0.9166666666666666.\n",
      "[I 2025-02-05 17:24:09,016] Trial 11 finished with value: 0.8541666666666667 and parameters: {'k': 36}. Best is trial 10 with value: 0.9166666666666666.\n",
      "[I 2025-02-05 17:24:09,026] Trial 12 finished with value: 0.7083333333333334 and parameters: {'k': 27}. Best is trial 10 with value: 0.9166666666666666.\n",
      "[I 2025-02-05 17:24:09,033] Trial 13 finished with value: 0.9166666666666667 and parameters: {'k': 35}. Best is trial 13 with value: 0.9166666666666667.\n",
      "[I 2025-02-05 17:24:09,040] Trial 14 finished with value: 0.8333333333333333 and parameters: {'k': 19}. Best is trial 13 with value: 0.9166666666666667.\n",
      "[I 2025-02-05 17:24:09,064] Trial 15 finished with value: 0.5625 and parameters: {'k': 8}. Best is trial 13 with value: 0.9166666666666667.\n",
      "[I 2025-02-05 17:24:09,073] Trial 16 finished with value: 0.625 and parameters: {'k': 15}. Best is trial 13 with value: 0.9166666666666667.\n",
      "[I 2025-02-05 17:24:09,089] Trial 17 finished with value: 0.75 and parameters: {'k': 46}. Best is trial 13 with value: 0.9166666666666667.\n",
      "[I 2025-02-05 17:24:09,105] Trial 18 finished with value: 0.625 and parameters: {'k': 49}. Best is trial 13 with value: 0.9166666666666667.\n",
      "[I 2025-02-05 17:24:09,164] Trial 19 finished with value: 0.7291666666666667 and parameters: {'k': 30}. Best is trial 13 with value: 0.9166666666666667.\n",
      "[I 2025-02-05 17:24:09,185] Trial 20 finished with value: 0.7291666666666667 and parameters: {'k': 16}. Best is trial 13 with value: 0.9166666666666667.\n",
      "[I 2025-02-05 17:24:09,197] Trial 21 finished with value: 0.7916666666666667 and parameters: {'k': 31}. Best is trial 13 with value: 0.9166666666666667.\n",
      "[I 2025-02-05 17:24:09,214] Trial 22 finished with value: 0.7083333333333333 and parameters: {'k': 33}. Best is trial 13 with value: 0.9166666666666667.\n",
      "[I 2025-02-05 17:24:09,222] Trial 23 finished with value: 0.7291666666666666 and parameters: {'k': 17}. Best is trial 13 with value: 0.9166666666666667.\n",
      "[I 2025-02-05 17:24:09,261] Trial 24 finished with value: 0.75 and parameters: {'k': 43}. Best is trial 13 with value: 0.9166666666666667.\n",
      "[I 2025-02-05 17:24:09,278] Trial 25 finished with value: 0.8958333333333333 and parameters: {'k': 21}. Best is trial 13 with value: 0.9166666666666667.\n",
      "[I 2025-02-05 17:24:09,287] Trial 26 finished with value: 0.6458333333333334 and parameters: {'k': 44}. Best is trial 13 with value: 0.9166666666666667.\n",
      "[I 2025-02-05 17:24:09,307] Trial 27 finished with value: 0.6041666666666667 and parameters: {'k': 9}. Best is trial 13 with value: 0.9166666666666667.\n",
      "[I 2025-02-05 17:24:09,329] Trial 28 finished with value: 0.5625 and parameters: {'k': 14}. Best is trial 13 with value: 0.9166666666666667.\n",
      "[I 2025-02-05 17:24:09,344] Trial 29 finished with value: 0.7708333333333333 and parameters: {'k': 26}. Best is trial 13 with value: 0.9166666666666667.\n",
      "[I 2025-02-05 17:24:09,371] Trial 30 finished with value: 0.375 and parameters: {'k': 6}. Best is trial 13 with value: 0.9166666666666667.\n",
      "[I 2025-02-05 17:24:09,421] Trial 31 finished with value: 0.75 and parameters: {'k': 18}. Best is trial 13 with value: 0.9166666666666667.\n",
      "[I 2025-02-05 17:24:09,490] Trial 32 finished with value: 0.75 and parameters: {'k': 41}. Best is trial 13 with value: 0.9166666666666667.\n",
      "[I 2025-02-05 17:24:09,538] Trial 33 finished with value: 0.5625 and parameters: {'k': 50}. Best is trial 13 with value: 0.9166666666666667.\n",
      "[I 2025-02-05 17:24:09,580] Trial 34 finished with value: 0.20833333333333334 and parameters: {'k': 2}. Best is trial 13 with value: 0.9166666666666667.\n",
      "[I 2025-02-05 17:24:09,618] Trial 35 finished with value: 0.45833333333333337 and parameters: {'k': 13}. Best is trial 13 with value: 0.9166666666666667.\n",
      "[I 2025-02-05 17:24:09,641] Trial 36 finished with value: 0.9166666666666667 and parameters: {'k': 38}. Best is trial 13 with value: 0.9166666666666667.\n",
      "[I 2025-02-05 17:24:09,667] Trial 37 finished with value: 0.8333333333333334 and parameters: {'k': 25}. Best is trial 13 with value: 0.9166666666666667.\n",
      "[I 2025-02-05 17:24:09,689] Trial 38 finished with value: 0.4375 and parameters: {'k': 7}. Best is trial 13 with value: 0.9166666666666667.\n",
      "[I 2025-02-05 17:24:09,733] Trial 39 finished with value: 0.7708333333333333 and parameters: {'k': 24}. Best is trial 13 with value: 0.9166666666666667.\n",
      "[I 2025-02-05 17:24:09,805] Trial 40 finished with value: 0.9375 and parameters: {'k': 37}. Best is trial 40 with value: 0.9375.\n",
      "[I 2025-02-05 17:24:09,873] Trial 41 finished with value: 0.8958333333333333 and parameters: {'k': 22}. Best is trial 40 with value: 0.9375.\n",
      "[I 2025-02-05 17:24:09,920] Trial 42 finished with value: 0.9375 and parameters: {'k': 20}. Best is trial 40 with value: 0.9375.\n",
      "[I 2025-02-05 17:24:09,998] Trial 43 finished with value: 0.5416666666666666 and parameters: {'k': 10}. Best is trial 40 with value: 0.9375.\n",
      "[I 2025-02-05 17:24:10,033] Trial 44 finished with value: 0.8333333333333333 and parameters: {'k': 40}. Best is trial 40 with value: 0.9375.\n",
      "[I 2025-02-05 17:24:10,070] Trial 45 finished with value: 0.75 and parameters: {'k': 47}. Best is trial 40 with value: 0.9375.\n",
      "[I 2025-02-05 17:24:10,111] Trial 46 finished with value: 0.33333333333333337 and parameters: {'k': 4}. Best is trial 40 with value: 0.9375.\n",
      "[I 2025-02-05 17:24:10,162] Trial 47 finished with value: 0.3333333333333333 and parameters: {'k': 1}. Best is trial 40 with value: 0.9375.\n",
      "[I 2025-02-05 17:24:10,192] Trial 48 finished with value: 0.7291666666666666 and parameters: {'k': 48}. Best is trial 40 with value: 0.9375.\n",
      "[I 2025-02-05 17:24:10,220] Trial 49 finished with value: 0.6875 and parameters: {'k': 45}. Best is trial 40 with value: 0.9375.\n",
      "[I 2025-02-05 17:24:10,285] A new study created in memory with name: no-name-b61f494d-8374-4835-b70b-0cba0955d32e\n",
      "[I 2025-02-05 17:24:10,300] Trial 0 finished with value: 0.5151515151515151 and parameters: {'k': 29}. Best is trial 0 with value: 0.5151515151515151.\n",
      "[I 2025-02-05 17:24:10,306] Trial 1 finished with value: 0.4242424242424243 and parameters: {'k': 12}. Best is trial 0 with value: 0.5151515151515151.\n",
      "[I 2025-02-05 17:24:10,384] Trial 2 finished with value: 0.3939393939393939 and parameters: {'k': 11}. Best is trial 0 with value: 0.5151515151515151.\n",
      "[I 2025-02-05 17:24:10,412] Trial 3 finished with value: 0.4696969696969697 and parameters: {'k': 42}. Best is trial 0 with value: 0.5151515151515151.\n",
      "[I 2025-02-05 17:24:10,424] Trial 4 finished with value: 0.2727272727272727 and parameters: {'k': 3}. Best is trial 0 with value: 0.5151515151515151.\n",
      "[I 2025-02-05 17:24:10,437] Trial 5 finished with value: 0.48484848484848486 and parameters: {'k': 28}. Best is trial 0 with value: 0.5151515151515151.\n",
      "[I 2025-02-05 17:24:10,475] Trial 6 finished with value: 0.696969696969697 and parameters: {'k': 39}. Best is trial 6 with value: 0.696969696969697.\n",
      "[I 2025-02-05 17:24:10,506] Trial 7 finished with value: 0.5 and parameters: {'k': 32}. Best is trial 6 with value: 0.696969696969697.\n",
      "[I 2025-02-05 17:24:10,545] Trial 8 finished with value: 0.696969696969697 and parameters: {'k': 23}. Best is trial 6 with value: 0.696969696969697.\n",
      "[I 2025-02-05 17:24:10,551] Trial 9 finished with value: 0.5303030303030303 and parameters: {'k': 5}. Best is trial 6 with value: 0.696969696969697.\n",
      "[I 2025-02-05 17:24:10,557] Trial 10 finished with value: 0.5454545454545455 and parameters: {'k': 34}. Best is trial 6 with value: 0.696969696969697.\n",
      "[I 2025-02-05 17:24:10,597] Trial 11 finished with value: 0.5303030303030304 and parameters: {'k': 36}. Best is trial 6 with value: 0.696969696969697.\n",
      "[I 2025-02-05 17:24:10,645] Trial 12 finished with value: 0.6363636363636365 and parameters: {'k': 27}. Best is trial 6 with value: 0.696969696969697.\n",
      "[I 2025-02-05 17:24:10,662] Trial 13 finished with value: 0.5454545454545454 and parameters: {'k': 35}. Best is trial 6 with value: 0.696969696969697.\n",
      "[I 2025-02-05 17:24:10,679] Trial 14 finished with value: 0.6212121212121213 and parameters: {'k': 19}. Best is trial 6 with value: 0.696969696969697.\n",
      "[I 2025-02-05 17:24:10,694] Trial 15 finished with value: 0.4696969696969697 and parameters: {'k': 8}. Best is trial 6 with value: 0.696969696969697.\n",
      "[I 2025-02-05 17:24:10,706] Trial 16 finished with value: 0.6060606060606062 and parameters: {'k': 15}. Best is trial 6 with value: 0.696969696969697.\n",
      "[I 2025-02-05 17:24:10,758] Trial 17 finished with value: 0.5454545454545454 and parameters: {'k': 46}. Best is trial 6 with value: 0.696969696969697.\n",
      "[I 2025-02-05 17:24:10,810] Trial 18 finished with value: 0.36363636363636365 and parameters: {'k': 49}. Best is trial 6 with value: 0.696969696969697.\n",
      "[I 2025-02-05 17:24:10,831] Trial 19 finished with value: 0.5 and parameters: {'k': 30}. Best is trial 6 with value: 0.696969696969697.\n",
      "[I 2025-02-05 17:24:10,847] Trial 20 finished with value: 0.5151515151515151 and parameters: {'k': 16}. Best is trial 6 with value: 0.696969696969697.\n",
      "[I 2025-02-05 17:24:10,856] Trial 21 finished with value: 0.5 and parameters: {'k': 31}. Best is trial 6 with value: 0.696969696969697.\n",
      "[I 2025-02-05 17:24:10,870] Trial 22 finished with value: 0.4393939393939394 and parameters: {'k': 33}. Best is trial 6 with value: 0.696969696969697.\n",
      "[I 2025-02-05 17:24:10,897] Trial 23 finished with value: 0.5757575757575758 and parameters: {'k': 17}. Best is trial 6 with value: 0.696969696969697.\n",
      "[I 2025-02-05 17:24:10,948] Trial 24 finished with value: 0.4696969696969697 and parameters: {'k': 43}. Best is trial 6 with value: 0.696969696969697.\n",
      "[I 2025-02-05 17:24:10,972] Trial 25 finished with value: 0.6363636363636365 and parameters: {'k': 21}. Best is trial 6 with value: 0.696969696969697.\n",
      "[I 2025-02-05 17:24:11,013] Trial 26 finished with value: 0.4393939393939394 and parameters: {'k': 44}. Best is trial 6 with value: 0.696969696969697.\n",
      "[I 2025-02-05 17:24:11,108] Trial 27 finished with value: 0.3484848484848485 and parameters: {'k': 9}. Best is trial 6 with value: 0.696969696969697.\n",
      "[I 2025-02-05 17:24:11,124] Trial 28 finished with value: 0.6515151515151516 and parameters: {'k': 14}. Best is trial 6 with value: 0.696969696969697.\n",
      "[I 2025-02-05 17:24:11,155] Trial 29 finished with value: 0.6060606060606062 and parameters: {'k': 26}. Best is trial 6 with value: 0.696969696969697.\n",
      "[I 2025-02-05 17:24:11,165] Trial 30 finished with value: 0.43939393939393945 and parameters: {'k': 6}. Best is trial 6 with value: 0.696969696969697.\n",
      "[I 2025-02-05 17:24:11,178] Trial 31 finished with value: 0.6363636363636364 and parameters: {'k': 18}. Best is trial 6 with value: 0.696969696969697.\n",
      "[I 2025-02-05 17:24:11,205] Trial 32 finished with value: 0.5 and parameters: {'k': 41}. Best is trial 6 with value: 0.696969696969697.\n",
      "[I 2025-02-05 17:24:11,228] Trial 33 finished with value: 0.5454545454545455 and parameters: {'k': 50}. Best is trial 6 with value: 0.696969696969697.\n",
      "[I 2025-02-05 17:24:11,237] Trial 34 finished with value: 0.36363636363636365 and parameters: {'k': 2}. Best is trial 6 with value: 0.696969696969697.\n",
      "[I 2025-02-05 17:24:11,297] Trial 35 finished with value: 0.6060606060606061 and parameters: {'k': 13}. Best is trial 6 with value: 0.696969696969697.\n",
      "[I 2025-02-05 17:24:11,307] Trial 36 finished with value: 0.6060606060606062 and parameters: {'k': 38}. Best is trial 6 with value: 0.696969696969697.\n",
      "[I 2025-02-05 17:24:11,325] Trial 37 finished with value: 0.696969696969697 and parameters: {'k': 25}. Best is trial 6 with value: 0.696969696969697.\n",
      "[I 2025-02-05 17:24:11,341] Trial 38 finished with value: 0.43939393939393945 and parameters: {'k': 7}. Best is trial 6 with value: 0.696969696969697.\n",
      "[I 2025-02-05 17:24:11,357] Trial 39 finished with value: 0.7272727272727273 and parameters: {'k': 24}. Best is trial 39 with value: 0.7272727272727273.\n",
      "[I 2025-02-05 17:24:11,371] Trial 40 finished with value: 0.484848484848485 and parameters: {'k': 37}. Best is trial 39 with value: 0.7272727272727273.\n",
      "[I 2025-02-05 17:24:11,394] Trial 41 finished with value: 0.696969696969697 and parameters: {'k': 22}. Best is trial 39 with value: 0.7272727272727273.\n",
      "[I 2025-02-05 17:24:11,411] Trial 42 finished with value: 0.6363636363636365 and parameters: {'k': 20}. Best is trial 39 with value: 0.7272727272727273.\n",
      "[I 2025-02-05 17:24:11,429] Trial 43 finished with value: 0.42424242424242425 and parameters: {'k': 10}. Best is trial 39 with value: 0.7272727272727273.\n",
      "[I 2025-02-05 17:24:11,453] Trial 44 finished with value: 0.5454545454545454 and parameters: {'k': 40}. Best is trial 39 with value: 0.7272727272727273.\n",
      "[I 2025-02-05 17:24:11,470] Trial 45 finished with value: 0.6515151515151516 and parameters: {'k': 47}. Best is trial 39 with value: 0.7272727272727273.\n",
      "[I 2025-02-05 17:24:11,489] Trial 46 finished with value: 0.4545454545454546 and parameters: {'k': 4}. Best is trial 39 with value: 0.7272727272727273.\n",
      "[I 2025-02-05 17:24:11,528] Trial 47 finished with value: 0.5 and parameters: {'k': 1}. Best is trial 39 with value: 0.7272727272727273.\n",
      "[I 2025-02-05 17:24:11,561] Trial 48 finished with value: 0.5757575757575758 and parameters: {'k': 48}. Best is trial 39 with value: 0.7272727272727273.\n",
      "[I 2025-02-05 17:24:11,589] Trial 49 finished with value: 0.43939393939393945 and parameters: {'k': 45}. Best is trial 39 with value: 0.7272727272727273.\n",
      "[I 2025-02-05 17:24:11,653] A new study created in memory with name: no-name-c3c6407b-0d88-43de-a539-c90a127d3fa4\n",
      "[I 2025-02-05 17:24:11,680] Trial 0 finished with value: 0.875 and parameters: {'k': 29}. Best is trial 0 with value: 0.875.\n",
      "[I 2025-02-05 17:24:11,688] Trial 1 finished with value: 0.6875 and parameters: {'k': 12}. Best is trial 0 with value: 0.875.\n",
      "[I 2025-02-05 17:24:11,697] Trial 2 finished with value: 0.6 and parameters: {'k': 11}. Best is trial 0 with value: 0.875.\n",
      "[I 2025-02-05 17:24:11,703] Trial 3 finished with value: 0.38749999999999996 and parameters: {'k': 42}. Best is trial 0 with value: 0.875.\n",
      "[I 2025-02-05 17:24:11,708] Trial 4 finished with value: 0.6499999999999999 and parameters: {'k': 3}. Best is trial 0 with value: 0.875.\n",
      "[I 2025-02-05 17:24:11,741] Trial 5 finished with value: 0.8 and parameters: {'k': 28}. Best is trial 0 with value: 0.875.\n",
      "[I 2025-02-05 17:24:11,750] Trial 6 finished with value: 0.55 and parameters: {'k': 39}. Best is trial 0 with value: 0.875.\n",
      "[I 2025-02-05 17:24:11,755] Trial 7 finished with value: 0.925 and parameters: {'k': 32}. Best is trial 7 with value: 0.925.\n",
      "[I 2025-02-05 17:24:11,760] Trial 8 finished with value: 0.9625 and parameters: {'k': 23}. Best is trial 8 with value: 0.9625.\n",
      "[I 2025-02-05 17:24:11,769] Trial 9 finished with value: 0.65 and parameters: {'k': 5}. Best is trial 8 with value: 0.9625.\n",
      "[I 2025-02-05 17:24:11,775] Trial 10 finished with value: 0.8625 and parameters: {'k': 34}. Best is trial 8 with value: 0.9625.\n",
      "[I 2025-02-05 17:24:11,796] Trial 11 finished with value: 0.8125 and parameters: {'k': 36}. Best is trial 8 with value: 0.9625.\n",
      "[I 2025-02-05 17:24:11,811] Trial 12 finished with value: 0.8375 and parameters: {'k': 27}. Best is trial 8 with value: 0.9625.\n",
      "[I 2025-02-05 17:24:11,822] Trial 13 finished with value: 0.8375000000000001 and parameters: {'k': 35}. Best is trial 8 with value: 0.9625.\n",
      "[I 2025-02-05 17:24:11,834] Trial 14 finished with value: 0.925 and parameters: {'k': 19}. Best is trial 8 with value: 0.9625.\n",
      "[I 2025-02-05 17:24:11,841] Trial 15 finished with value: 0.5375000000000001 and parameters: {'k': 8}. Best is trial 8 with value: 0.9625.\n",
      "[I 2025-02-05 17:24:11,848] Trial 16 finished with value: 0.75 and parameters: {'k': 15}. Best is trial 8 with value: 0.9625.\n",
      "[I 2025-02-05 17:24:11,855] Trial 17 finished with value: 0.2875 and parameters: {'k': 46}. Best is trial 8 with value: 0.9625.\n",
      "[I 2025-02-05 17:24:11,877] Trial 18 finished with value: 0.325 and parameters: {'k': 49}. Best is trial 8 with value: 0.9625.\n",
      "[I 2025-02-05 17:24:11,884] Trial 19 finished with value: 0.95 and parameters: {'k': 30}. Best is trial 8 with value: 0.9625.\n",
      "[I 2025-02-05 17:24:11,905] Trial 20 finished with value: 0.8 and parameters: {'k': 16}. Best is trial 8 with value: 0.9625.\n",
      "[I 2025-02-05 17:24:11,936] Trial 21 finished with value: 0.95 and parameters: {'k': 31}. Best is trial 8 with value: 0.9625.\n",
      "[I 2025-02-05 17:24:11,976] Trial 22 finished with value: 0.8500000000000001 and parameters: {'k': 33}. Best is trial 8 with value: 0.9625.\n",
      "[I 2025-02-05 17:24:11,984] Trial 23 finished with value: 0.8375 and parameters: {'k': 17}. Best is trial 8 with value: 0.9625.\n",
      "[I 2025-02-05 17:24:12,037] Trial 24 finished with value: 0.35 and parameters: {'k': 43}. Best is trial 8 with value: 0.9625.\n",
      "[I 2025-02-05 17:24:12,046] Trial 25 finished with value: 0.925 and parameters: {'k': 21}. Best is trial 8 with value: 0.9625.\n",
      "[I 2025-02-05 17:24:12,060] Trial 26 finished with value: 0.36250000000000004 and parameters: {'k': 44}. Best is trial 8 with value: 0.9625.\n",
      "[I 2025-02-05 17:24:12,070] Trial 27 finished with value: 0.55 and parameters: {'k': 9}. Best is trial 8 with value: 0.9625.\n",
      "[I 2025-02-05 17:24:12,080] Trial 28 finished with value: 0.7375 and parameters: {'k': 14}. Best is trial 8 with value: 0.9625.\n",
      "[I 2025-02-05 17:24:12,103] Trial 29 finished with value: 0.8625 and parameters: {'k': 26}. Best is trial 8 with value: 0.9625.\n",
      "[I 2025-02-05 17:24:12,139] Trial 30 finished with value: 0.675 and parameters: {'k': 6}. Best is trial 8 with value: 0.9625.\n",
      "[I 2025-02-05 17:24:12,169] Trial 31 finished with value: 0.9375 and parameters: {'k': 18}. Best is trial 8 with value: 0.9625.\n",
      "[I 2025-02-05 17:24:12,233] Trial 32 finished with value: 0.45 and parameters: {'k': 41}. Best is trial 8 with value: 0.9625.\n",
      "[I 2025-02-05 17:24:12,304] Trial 33 finished with value: 0.25 and parameters: {'k': 50}. Best is trial 8 with value: 0.9625.\n",
      "[I 2025-02-05 17:24:12,321] Trial 34 finished with value: 0.65 and parameters: {'k': 2}. Best is trial 8 with value: 0.9625.\n",
      "[I 2025-02-05 17:24:12,358] Trial 35 finished with value: 0.6875 and parameters: {'k': 13}. Best is trial 8 with value: 0.9625.\n",
      "[I 2025-02-05 17:24:12,409] Trial 36 finished with value: 0.6499999999999999 and parameters: {'k': 38}. Best is trial 8 with value: 0.9625.\n",
      "[I 2025-02-05 17:24:12,459] Trial 37 finished with value: 0.9125 and parameters: {'k': 25}. Best is trial 8 with value: 0.9625.\n",
      "[I 2025-02-05 17:24:12,491] Trial 38 finished with value: 0.6125 and parameters: {'k': 7}. Best is trial 8 with value: 0.9625.\n",
      "[I 2025-02-05 17:24:12,524] Trial 39 finished with value: 0.925 and parameters: {'k': 24}. Best is trial 8 with value: 0.9625.\n",
      "[I 2025-02-05 17:24:12,584] Trial 40 finished with value: 0.7875000000000001 and parameters: {'k': 37}. Best is trial 8 with value: 0.9625.\n",
      "[I 2025-02-05 17:24:12,599] Trial 41 finished with value: 0.925 and parameters: {'k': 22}. Best is trial 8 with value: 0.9625.\n",
      "[I 2025-02-05 17:24:12,634] Trial 42 finished with value: 0.9125000000000001 and parameters: {'k': 20}. Best is trial 8 with value: 0.9625.\n",
      "[I 2025-02-05 17:24:12,690] Trial 43 finished with value: 0.6 and parameters: {'k': 10}. Best is trial 8 with value: 0.9625.\n",
      "[I 2025-02-05 17:24:12,728] Trial 44 finished with value: 0.55 and parameters: {'k': 40}. Best is trial 8 with value: 0.9625.\n",
      "[I 2025-02-05 17:24:12,761] Trial 45 finished with value: 0.31249999999999994 and parameters: {'k': 47}. Best is trial 8 with value: 0.9625.\n",
      "[I 2025-02-05 17:24:12,775] Trial 46 finished with value: 0.625 and parameters: {'k': 4}. Best is trial 8 with value: 0.9625.\n",
      "[I 2025-02-05 17:24:12,804] Trial 47 finished with value: 0.775 and parameters: {'k': 1}. Best is trial 8 with value: 0.9625.\n",
      "[I 2025-02-05 17:24:12,815] Trial 48 finished with value: 0.32499999999999996 and parameters: {'k': 48}. Best is trial 8 with value: 0.9625.\n",
      "[I 2025-02-05 17:24:12,860] Trial 49 finished with value: 0.375 and parameters: {'k': 45}. Best is trial 8 with value: 0.9625.\n",
      "[I 2025-02-05 17:24:12,882] A new study created in memory with name: no-name-45725a90-dbd7-4b51-baa3-4c4f8c341e26\n",
      "[I 2025-02-05 17:24:12,893] Trial 0 finished with value: 0.6333333333333333 and parameters: {'k': 29}. Best is trial 0 with value: 0.6333333333333333.\n",
      "[I 2025-02-05 17:24:12,924] Trial 1 finished with value: 0.5666666666666667 and parameters: {'k': 12}. Best is trial 0 with value: 0.6333333333333333.\n",
      "[I 2025-02-05 17:24:12,935] Trial 2 finished with value: 0.5555555555555556 and parameters: {'k': 11}. Best is trial 0 with value: 0.6333333333333333.\n",
      "[I 2025-02-05 17:24:12,960] Trial 3 finished with value: 0.2111111111111111 and parameters: {'k': 42}. Best is trial 0 with value: 0.6333333333333333.\n",
      "[I 2025-02-05 17:24:12,980] Trial 4 finished with value: 0.6111111111111112 and parameters: {'k': 3}. Best is trial 0 with value: 0.6333333333333333.\n",
      "[I 2025-02-05 17:24:13,023] Trial 5 finished with value: 0.6111111111111112 and parameters: {'k': 28}. Best is trial 0 with value: 0.6333333333333333.\n",
      "[I 2025-02-05 17:24:13,054] Trial 6 finished with value: 0.2777777777777778 and parameters: {'k': 39}. Best is trial 0 with value: 0.6333333333333333.\n",
      "[I 2025-02-05 17:24:13,102] Trial 7 finished with value: 0.4111111111111111 and parameters: {'k': 32}. Best is trial 0 with value: 0.6333333333333333.\n",
      "[I 2025-02-05 17:24:13,122] Trial 8 finished with value: 0.6444444444444445 and parameters: {'k': 23}. Best is trial 8 with value: 0.6444444444444445.\n",
      "[I 2025-02-05 17:24:13,139] Trial 9 finished with value: 0.6111111111111112 and parameters: {'k': 5}. Best is trial 8 with value: 0.6444444444444445.\n",
      "[I 2025-02-05 17:24:13,146] Trial 10 finished with value: 0.4 and parameters: {'k': 34}. Best is trial 8 with value: 0.6444444444444445.\n",
      "[I 2025-02-05 17:24:13,153] Trial 11 finished with value: 0.4444444444444444 and parameters: {'k': 36}. Best is trial 8 with value: 0.6444444444444445.\n",
      "[I 2025-02-05 17:24:13,178] Trial 12 finished with value: 0.6333333333333333 and parameters: {'k': 27}. Best is trial 8 with value: 0.6444444444444445.\n",
      "[I 2025-02-05 17:24:13,217] Trial 13 finished with value: 0.3666666666666667 and parameters: {'k': 35}. Best is trial 8 with value: 0.6444444444444445.\n",
      "[I 2025-02-05 17:24:13,290] Trial 14 finished with value: 0.7 and parameters: {'k': 19}. Best is trial 14 with value: 0.7.\n",
      "[I 2025-02-05 17:24:13,313] Trial 15 finished with value: 0.4888888888888888 and parameters: {'k': 8}. Best is trial 14 with value: 0.7.\n",
      "[I 2025-02-05 17:24:13,325] Trial 16 finished with value: 0.5888888888888889 and parameters: {'k': 15}. Best is trial 14 with value: 0.7.\n",
      "[I 2025-02-05 17:24:13,347] Trial 17 finished with value: 0.38888888888888884 and parameters: {'k': 46}. Best is trial 14 with value: 0.7.\n",
      "[I 2025-02-05 17:24:13,369] Trial 18 finished with value: 0.28888888888888886 and parameters: {'k': 49}. Best is trial 14 with value: 0.7.\n",
      "[I 2025-02-05 17:24:13,409] Trial 19 finished with value: 0.5555555555555555 and parameters: {'k': 30}. Best is trial 14 with value: 0.7.\n",
      "[I 2025-02-05 17:24:13,422] Trial 20 finished with value: 0.6111111111111112 and parameters: {'k': 16}. Best is trial 14 with value: 0.7.\n",
      "[I 2025-02-05 17:24:13,446] Trial 21 finished with value: 0.4111111111111111 and parameters: {'k': 31}. Best is trial 14 with value: 0.7.\n",
      "[I 2025-02-05 17:24:13,453] Trial 22 finished with value: 0.39999999999999997 and parameters: {'k': 33}. Best is trial 14 with value: 0.7.\n",
      "[I 2025-02-05 17:24:13,477] Trial 23 finished with value: 0.611111111111111 and parameters: {'k': 17}. Best is trial 14 with value: 0.7.\n",
      "[I 2025-02-05 17:24:13,548] Trial 24 finished with value: 0.2777777777777778 and parameters: {'k': 43}. Best is trial 14 with value: 0.7.\n",
      "[I 2025-02-05 17:24:13,582] Trial 25 finished with value: 0.6666666666666667 and parameters: {'k': 21}. Best is trial 14 with value: 0.7.\n",
      "[I 2025-02-05 17:24:13,627] Trial 26 finished with value: 0.2555555555555555 and parameters: {'k': 44}. Best is trial 14 with value: 0.7.\n",
      "[I 2025-02-05 17:24:13,644] Trial 27 finished with value: 0.4555555555555555 and parameters: {'k': 9}. Best is trial 14 with value: 0.7.\n",
      "[I 2025-02-05 17:24:13,668] Trial 28 finished with value: 0.5888888888888889 and parameters: {'k': 14}. Best is trial 14 with value: 0.7.\n",
      "[I 2025-02-05 17:24:13,678] Trial 29 finished with value: 0.6555555555555556 and parameters: {'k': 26}. Best is trial 14 with value: 0.7.\n",
      "[I 2025-02-05 17:24:13,693] Trial 30 finished with value: 0.611111111111111 and parameters: {'k': 6}. Best is trial 14 with value: 0.7.\n",
      "[I 2025-02-05 17:24:13,719] Trial 31 finished with value: 0.611111111111111 and parameters: {'k': 18}. Best is trial 14 with value: 0.7.\n",
      "[I 2025-02-05 17:24:13,767] Trial 32 finished with value: 0.23333333333333334 and parameters: {'k': 41}. Best is trial 14 with value: 0.7.\n",
      "[I 2025-02-05 17:24:13,782] Trial 33 finished with value: 0.3333333333333333 and parameters: {'k': 50}. Best is trial 14 with value: 0.7.\n",
      "[I 2025-02-05 17:24:13,807] Trial 34 finished with value: 0.6333333333333333 and parameters: {'k': 2}. Best is trial 14 with value: 0.7.\n",
      "[I 2025-02-05 17:24:13,822] Trial 35 finished with value: 0.5555555555555556 and parameters: {'k': 13}. Best is trial 14 with value: 0.7.\n",
      "[I 2025-02-05 17:24:13,869] Trial 36 finished with value: 0.25555555555555554 and parameters: {'k': 38}. Best is trial 14 with value: 0.7.\n",
      "[I 2025-02-05 17:24:13,881] Trial 37 finished with value: 0.6222222222222222 and parameters: {'k': 25}. Best is trial 14 with value: 0.7.\n",
      "[I 2025-02-05 17:24:13,918] Trial 38 finished with value: 0.6222222222222222 and parameters: {'k': 7}. Best is trial 14 with value: 0.7.\n",
      "[I 2025-02-05 17:24:13,939] Trial 39 finished with value: 0.611111111111111 and parameters: {'k': 24}. Best is trial 14 with value: 0.7.\n",
      "[I 2025-02-05 17:24:13,982] Trial 40 finished with value: 0.36666666666666664 and parameters: {'k': 37}. Best is trial 14 with value: 0.7.\n",
      "[I 2025-02-05 17:24:14,011] Trial 41 finished with value: 0.6888888888888889 and parameters: {'k': 22}. Best is trial 14 with value: 0.7.\n",
      "[I 2025-02-05 17:24:14,039] Trial 42 finished with value: 0.7222222222222222 and parameters: {'k': 20}. Best is trial 42 with value: 0.7222222222222222.\n",
      "[I 2025-02-05 17:24:14,056] Trial 43 finished with value: 0.5 and parameters: {'k': 10}. Best is trial 42 with value: 0.7222222222222222.\n",
      "[I 2025-02-05 17:24:14,089] Trial 44 finished with value: 0.25555555555555554 and parameters: {'k': 40}. Best is trial 42 with value: 0.7222222222222222.\n",
      "[I 2025-02-05 17:24:14,145] Trial 45 finished with value: 0.25555555555555554 and parameters: {'k': 47}. Best is trial 42 with value: 0.7222222222222222.\n",
      "[I 2025-02-05 17:24:14,207] Trial 46 finished with value: 0.6666666666666666 and parameters: {'k': 4}. Best is trial 42 with value: 0.7222222222222222.\n",
      "[I 2025-02-05 17:24:14,229] Trial 47 finished with value: 0.4888888888888888 and parameters: {'k': 1}. Best is trial 42 with value: 0.7222222222222222.\n",
      "[I 2025-02-05 17:24:14,243] Trial 48 finished with value: 0.25555555555555554 and parameters: {'k': 48}. Best is trial 42 with value: 0.7222222222222222.\n",
      "[I 2025-02-05 17:24:14,254] Trial 49 finished with value: 0.18888888888888888 and parameters: {'k': 45}. Best is trial 42 with value: 0.7222222222222222.\n",
      "[I 2025-02-05 17:24:14,313] A new study created in memory with name: no-name-5aab872c-c6f1-4ca6-bd12-7e1d574668e7\n",
      "[I 2025-02-05 17:24:14,336] Trial 0 finished with value: 0.4 and parameters: {'k': 29}. Best is trial 0 with value: 0.4.\n",
      "[I 2025-02-05 17:24:14,354] Trial 1 finished with value: 0.3125 and parameters: {'k': 12}. Best is trial 0 with value: 0.4.\n",
      "[I 2025-02-05 17:24:14,360] Trial 2 finished with value: 0.44999999999999996 and parameters: {'k': 11}. Best is trial 2 with value: 0.44999999999999996.\n",
      "[I 2025-02-05 17:24:14,372] Trial 3 finished with value: 0.42500000000000004 and parameters: {'k': 42}. Best is trial 2 with value: 0.44999999999999996.\n",
      "[I 2025-02-05 17:24:14,380] Trial 4 finished with value: 0.4 and parameters: {'k': 3}. Best is trial 2 with value: 0.44999999999999996.\n",
      "[I 2025-02-05 17:24:14,400] Trial 5 finished with value: 0.3375 and parameters: {'k': 28}. Best is trial 2 with value: 0.44999999999999996.\n",
      "[I 2025-02-05 17:24:14,468] Trial 6 finished with value: 0.3875 and parameters: {'k': 39}. Best is trial 2 with value: 0.44999999999999996.\n",
      "[I 2025-02-05 17:24:14,480] Trial 7 finished with value: 0.38750000000000007 and parameters: {'k': 32}. Best is trial 2 with value: 0.44999999999999996.\n",
      "[I 2025-02-05 17:24:14,491] Trial 8 finished with value: 0.325 and parameters: {'k': 23}. Best is trial 2 with value: 0.44999999999999996.\n",
      "[I 2025-02-05 17:24:14,557] Trial 9 finished with value: 0.375 and parameters: {'k': 5}. Best is trial 2 with value: 0.44999999999999996.\n",
      "[I 2025-02-05 17:24:14,623] Trial 10 finished with value: 0.44999999999999996 and parameters: {'k': 34}. Best is trial 2 with value: 0.44999999999999996.\n",
      "[I 2025-02-05 17:24:14,638] Trial 11 finished with value: 0.425 and parameters: {'k': 36}. Best is trial 2 with value: 0.44999999999999996.\n",
      "[I 2025-02-05 17:24:14,662] Trial 12 finished with value: 0.4 and parameters: {'k': 27}. Best is trial 2 with value: 0.44999999999999996.\n",
      "[I 2025-02-05 17:24:14,722] Trial 13 finished with value: 0.4375 and parameters: {'k': 35}. Best is trial 2 with value: 0.44999999999999996.\n",
      "[I 2025-02-05 17:24:14,728] Trial 14 finished with value: 0.35 and parameters: {'k': 19}. Best is trial 2 with value: 0.44999999999999996.\n",
      "[I 2025-02-05 17:24:14,736] Trial 15 finished with value: 0.5 and parameters: {'k': 8}. Best is trial 15 with value: 0.5.\n",
      "[I 2025-02-05 17:24:14,748] Trial 16 finished with value: 0.39999999999999997 and parameters: {'k': 15}. Best is trial 15 with value: 0.5.\n",
      "[I 2025-02-05 17:24:14,754] Trial 17 finished with value: 0.3875 and parameters: {'k': 46}. Best is trial 15 with value: 0.5.\n",
      "[I 2025-02-05 17:24:14,781] Trial 18 finished with value: 0.5249999999999999 and parameters: {'k': 49}. Best is trial 18 with value: 0.5249999999999999.\n",
      "[I 2025-02-05 17:24:14,828] Trial 19 finished with value: 0.425 and parameters: {'k': 30}. Best is trial 18 with value: 0.5249999999999999.\n",
      "[I 2025-02-05 17:24:14,859] Trial 20 finished with value: 0.38749999999999996 and parameters: {'k': 16}. Best is trial 18 with value: 0.5249999999999999.\n",
      "[I 2025-02-05 17:24:14,891] Trial 21 finished with value: 0.37500000000000006 and parameters: {'k': 31}. Best is trial 18 with value: 0.5249999999999999.\n",
      "[I 2025-02-05 17:24:14,903] Trial 22 finished with value: 0.375 and parameters: {'k': 33}. Best is trial 18 with value: 0.5249999999999999.\n",
      "[I 2025-02-05 17:24:14,910] Trial 23 finished with value: 0.275 and parameters: {'k': 17}. Best is trial 18 with value: 0.5249999999999999.\n",
      "[I 2025-02-05 17:24:14,917] Trial 24 finished with value: 0.4 and parameters: {'k': 43}. Best is trial 18 with value: 0.5249999999999999.\n",
      "[I 2025-02-05 17:24:14,934] Trial 25 finished with value: 0.4875 and parameters: {'k': 21}. Best is trial 18 with value: 0.5249999999999999.\n",
      "[I 2025-02-05 17:24:14,946] Trial 26 finished with value: 0.4375 and parameters: {'k': 44}. Best is trial 18 with value: 0.5249999999999999.\n",
      "[I 2025-02-05 17:24:14,957] Trial 27 finished with value: 0.6124999999999999 and parameters: {'k': 9}. Best is trial 27 with value: 0.6124999999999999.\n",
      "[I 2025-02-05 17:24:14,968] Trial 28 finished with value: 0.4 and parameters: {'k': 14}. Best is trial 27 with value: 0.6124999999999999.\n",
      "[I 2025-02-05 17:24:14,977] Trial 29 finished with value: 0.38750000000000007 and parameters: {'k': 26}. Best is trial 27 with value: 0.6124999999999999.\n",
      "[I 2025-02-05 17:24:14,991] Trial 30 finished with value: 0.3375 and parameters: {'k': 6}. Best is trial 27 with value: 0.6124999999999999.\n",
      "[I 2025-02-05 17:24:15,021] Trial 31 finished with value: 0.3375 and parameters: {'k': 18}. Best is trial 27 with value: 0.6124999999999999.\n",
      "[I 2025-02-05 17:24:15,049] Trial 32 finished with value: 0.39999999999999997 and parameters: {'k': 41}. Best is trial 27 with value: 0.6124999999999999.\n",
      "[I 2025-02-05 17:24:15,059] Trial 33 finished with value: 0.6125 and parameters: {'k': 50}. Best is trial 33 with value: 0.6125.\n",
      "[I 2025-02-05 17:24:15,068] Trial 34 finished with value: 0.55 and parameters: {'k': 2}. Best is trial 33 with value: 0.6125.\n",
      "[I 2025-02-05 17:24:15,083] Trial 35 finished with value: 0.42500000000000004 and parameters: {'k': 13}. Best is trial 33 with value: 0.6125.\n",
      "[I 2025-02-05 17:24:15,099] Trial 36 finished with value: 0.4375 and parameters: {'k': 38}. Best is trial 33 with value: 0.6125.\n",
      "[I 2025-02-05 17:24:15,114] Trial 37 finished with value: 0.4125000000000001 and parameters: {'k': 25}. Best is trial 33 with value: 0.6125.\n",
      "[I 2025-02-05 17:24:15,126] Trial 38 finished with value: 0.43750000000000006 and parameters: {'k': 7}. Best is trial 33 with value: 0.6125.\n",
      "[I 2025-02-05 17:24:15,151] Trial 39 finished with value: 0.3375 and parameters: {'k': 24}. Best is trial 33 with value: 0.6125.\n",
      "[I 2025-02-05 17:24:15,165] Trial 40 finished with value: 0.5125000000000001 and parameters: {'k': 37}. Best is trial 33 with value: 0.6125.\n",
      "[I 2025-02-05 17:24:15,182] Trial 41 finished with value: 0.4875 and parameters: {'k': 22}. Best is trial 33 with value: 0.6125.\n",
      "[I 2025-02-05 17:24:15,203] Trial 42 finished with value: 0.42500000000000004 and parameters: {'k': 20}. Best is trial 33 with value: 0.6125.\n",
      "[I 2025-02-05 17:24:15,217] Trial 43 finished with value: 0.4375 and parameters: {'k': 10}. Best is trial 33 with value: 0.6125.\n",
      "[I 2025-02-05 17:24:15,230] Trial 44 finished with value: 0.38750000000000007 and parameters: {'k': 40}. Best is trial 33 with value: 0.6125.\n",
      "[I 2025-02-05 17:24:15,242] Trial 45 finished with value: 0.49999999999999994 and parameters: {'k': 47}. Best is trial 33 with value: 0.6125.\n",
      "[I 2025-02-05 17:24:15,255] Trial 46 finished with value: 0.42499999999999993 and parameters: {'k': 4}. Best is trial 33 with value: 0.6125.\n",
      "[I 2025-02-05 17:24:15,272] Trial 47 finished with value: 0.6 and parameters: {'k': 1}. Best is trial 33 with value: 0.6125.\n",
      "[I 2025-02-05 17:24:15,288] Trial 48 finished with value: 0.475 and parameters: {'k': 48}. Best is trial 33 with value: 0.6125.\n",
      "[I 2025-02-05 17:24:15,300] Trial 49 finished with value: 0.4375 and parameters: {'k': 45}. Best is trial 33 with value: 0.6125.\n",
      "[I 2025-02-05 17:24:15,343] A new study created in memory with name: no-name-bb9e36fe-05df-4038-8bd4-a42b48d74d52\n",
      "[I 2025-02-05 17:24:15,368] Trial 0 finished with value: 0.39583333333333337 and parameters: {'k': 29}. Best is trial 0 with value: 0.39583333333333337.\n",
      "[I 2025-02-05 17:24:15,380] Trial 1 finished with value: 0.35416666666666663 and parameters: {'k': 12}. Best is trial 0 with value: 0.39583333333333337.\n",
      "[I 2025-02-05 17:24:15,393] Trial 2 finished with value: 0.3333333333333333 and parameters: {'k': 11}. Best is trial 0 with value: 0.39583333333333337.\n",
      "[I 2025-02-05 17:24:15,409] Trial 3 finished with value: 0.7291666666666667 and parameters: {'k': 42}. Best is trial 3 with value: 0.7291666666666667.\n",
      "[I 2025-02-05 17:24:15,421] Trial 4 finished with value: 0.4166666666666667 and parameters: {'k': 3}. Best is trial 3 with value: 0.7291666666666667.\n",
      "[I 2025-02-05 17:24:15,426] Trial 5 finished with value: 0.4583333333333333 and parameters: {'k': 28}. Best is trial 3 with value: 0.7291666666666667.\n",
      "[I 2025-02-05 17:24:15,435] Trial 6 finished with value: 0.6666666666666666 and parameters: {'k': 39}. Best is trial 3 with value: 0.7291666666666667.\n",
      "[I 2025-02-05 17:24:15,442] Trial 7 finished with value: 0.33333333333333337 and parameters: {'k': 32}. Best is trial 3 with value: 0.7291666666666667.\n",
      "[I 2025-02-05 17:24:15,447] Trial 8 finished with value: 0.4583333333333333 and parameters: {'k': 23}. Best is trial 3 with value: 0.7291666666666667.\n",
      "[I 2025-02-05 17:24:15,454] Trial 9 finished with value: 0.3333333333333333 and parameters: {'k': 5}. Best is trial 3 with value: 0.7291666666666667.\n",
      "[I 2025-02-05 17:24:15,460] Trial 10 finished with value: 0.4791666666666667 and parameters: {'k': 34}. Best is trial 3 with value: 0.7291666666666667.\n",
      "[I 2025-02-05 17:24:15,466] Trial 11 finished with value: 0.6041666666666666 and parameters: {'k': 36}. Best is trial 3 with value: 0.7291666666666667.\n",
      "[I 2025-02-05 17:24:15,473] Trial 12 finished with value: 0.43750000000000006 and parameters: {'k': 27}. Best is trial 3 with value: 0.7291666666666667.\n",
      "[I 2025-02-05 17:24:15,480] Trial 13 finished with value: 0.6041666666666666 and parameters: {'k': 35}. Best is trial 3 with value: 0.7291666666666667.\n",
      "[I 2025-02-05 17:24:15,487] Trial 14 finished with value: 0.5625 and parameters: {'k': 19}. Best is trial 3 with value: 0.7291666666666667.\n",
      "[I 2025-02-05 17:24:15,496] Trial 15 finished with value: 0.3125 and parameters: {'k': 8}. Best is trial 3 with value: 0.7291666666666667.\n",
      "[I 2025-02-05 17:24:15,503] Trial 16 finished with value: 0.375 and parameters: {'k': 15}. Best is trial 3 with value: 0.7291666666666667.\n",
      "[I 2025-02-05 17:24:15,513] Trial 17 finished with value: 0.5208333333333334 and parameters: {'k': 46}. Best is trial 3 with value: 0.7291666666666667.\n",
      "[I 2025-02-05 17:24:15,521] Trial 18 finished with value: 0.5208333333333333 and parameters: {'k': 49}. Best is trial 3 with value: 0.7291666666666667.\n",
      "[I 2025-02-05 17:24:15,529] Trial 19 finished with value: 0.3333333333333333 and parameters: {'k': 30}. Best is trial 3 with value: 0.7291666666666667.\n",
      "[I 2025-02-05 17:24:15,539] Trial 20 finished with value: 0.4791666666666667 and parameters: {'k': 16}. Best is trial 3 with value: 0.7291666666666667.\n",
      "[I 2025-02-05 17:24:15,548] Trial 21 finished with value: 0.375 and parameters: {'k': 31}. Best is trial 3 with value: 0.7291666666666667.\n",
      "[I 2025-02-05 17:24:15,556] Trial 22 finished with value: 0.375 and parameters: {'k': 33}. Best is trial 3 with value: 0.7291666666666667.\n",
      "[I 2025-02-05 17:24:15,584] Trial 23 finished with value: 0.5833333333333333 and parameters: {'k': 17}. Best is trial 3 with value: 0.7291666666666667.\n",
      "[I 2025-02-05 17:24:15,593] Trial 24 finished with value: 0.625 and parameters: {'k': 43}. Best is trial 3 with value: 0.7291666666666667.\n",
      "[I 2025-02-05 17:24:15,608] Trial 25 finished with value: 0.5 and parameters: {'k': 21}. Best is trial 3 with value: 0.7291666666666667.\n",
      "[I 2025-02-05 17:24:15,619] Trial 26 finished with value: 0.5833333333333334 and parameters: {'k': 44}. Best is trial 3 with value: 0.7291666666666667.\n",
      "[I 2025-02-05 17:24:15,628] Trial 27 finished with value: 0.3541666666666667 and parameters: {'k': 9}. Best is trial 3 with value: 0.7291666666666667.\n",
      "[I 2025-02-05 17:24:15,637] Trial 28 finished with value: 0.33333333333333337 and parameters: {'k': 14}. Best is trial 3 with value: 0.7291666666666667.\n",
      "[I 2025-02-05 17:24:15,650] Trial 29 finished with value: 0.47916666666666663 and parameters: {'k': 26}. Best is trial 3 with value: 0.7291666666666667.\n",
      "[I 2025-02-05 17:24:15,659] Trial 30 finished with value: 0.33333333333333337 and parameters: {'k': 6}. Best is trial 3 with value: 0.7291666666666667.\n",
      "[I 2025-02-05 17:24:15,671] Trial 31 finished with value: 0.625 and parameters: {'k': 18}. Best is trial 3 with value: 0.7291666666666667.\n",
      "[I 2025-02-05 17:24:15,696] Trial 32 finished with value: 0.625 and parameters: {'k': 41}. Best is trial 3 with value: 0.7291666666666667.\n",
      "[I 2025-02-05 17:24:15,725] Trial 33 finished with value: 0.5416666666666666 and parameters: {'k': 50}. Best is trial 3 with value: 0.7291666666666667.\n",
      "[I 2025-02-05 17:24:15,759] Trial 34 finished with value: 0.4166666666666667 and parameters: {'k': 2}. Best is trial 3 with value: 0.7291666666666667.\n",
      "[I 2025-02-05 17:24:15,815] Trial 35 finished with value: 0.3541666666666667 and parameters: {'k': 13}. Best is trial 3 with value: 0.7291666666666667.\n",
      "[I 2025-02-05 17:24:15,856] Trial 36 finished with value: 0.625 and parameters: {'k': 38}. Best is trial 3 with value: 0.7291666666666667.\n",
      "[I 2025-02-05 17:24:15,884] Trial 37 finished with value: 0.5208333333333333 and parameters: {'k': 25}. Best is trial 3 with value: 0.7291666666666667.\n",
      "[I 2025-02-05 17:24:15,927] Trial 38 finished with value: 0.3333333333333333 and parameters: {'k': 7}. Best is trial 3 with value: 0.7291666666666667.\n",
      "[I 2025-02-05 17:24:15,951] Trial 39 finished with value: 0.5208333333333333 and parameters: {'k': 24}. Best is trial 3 with value: 0.7291666666666667.\n",
      "[I 2025-02-05 17:24:15,962] Trial 40 finished with value: 0.6458333333333333 and parameters: {'k': 37}. Best is trial 3 with value: 0.7291666666666667.\n",
      "[I 2025-02-05 17:24:15,977] Trial 41 finished with value: 0.41666666666666663 and parameters: {'k': 22}. Best is trial 3 with value: 0.7291666666666667.\n",
      "[I 2025-02-05 17:24:15,993] Trial 42 finished with value: 0.5 and parameters: {'k': 20}. Best is trial 3 with value: 0.7291666666666667.\n",
      "[I 2025-02-05 17:24:16,016] Trial 43 finished with value: 0.37499999999999994 and parameters: {'k': 10}. Best is trial 3 with value: 0.7291666666666667.\n",
      "[I 2025-02-05 17:24:16,039] Trial 44 finished with value: 0.6041666666666666 and parameters: {'k': 40}. Best is trial 3 with value: 0.7291666666666667.\n",
      "[I 2025-02-05 17:24:16,057] Trial 45 finished with value: 0.5 and parameters: {'k': 47}. Best is trial 3 with value: 0.7291666666666667.\n",
      "[I 2025-02-05 17:24:16,075] Trial 46 finished with value: 0.2916666666666667 and parameters: {'k': 4}. Best is trial 3 with value: 0.7291666666666667.\n",
      "[I 2025-02-05 17:24:16,159] Trial 47 finished with value: 0.25 and parameters: {'k': 1}. Best is trial 3 with value: 0.7291666666666667.\n",
      "[I 2025-02-05 17:24:16,177] Trial 48 finished with value: 0.5 and parameters: {'k': 48}. Best is trial 3 with value: 0.7291666666666667.\n",
      "[I 2025-02-05 17:24:16,197] Trial 49 finished with value: 0.5625 and parameters: {'k': 45}. Best is trial 3 with value: 0.7291666666666667.\n",
      "[I 2025-02-05 17:24:16,227] A new study created in memory with name: no-name-72327f0d-6e9c-46c3-b544-fcd652416bbb\n",
      "[I 2025-02-05 17:24:16,264] Trial 0 finished with value: 0.21212121212121213 and parameters: {'k': 29}. Best is trial 0 with value: 0.21212121212121213.\n",
      "[I 2025-02-05 17:24:16,278] Trial 1 finished with value: 0.4393939393939394 and parameters: {'k': 12}. Best is trial 1 with value: 0.4393939393939394.\n",
      "[I 2025-02-05 17:24:16,296] Trial 2 finished with value: 0.5 and parameters: {'k': 11}. Best is trial 2 with value: 0.5.\n",
      "[I 2025-02-05 17:24:16,313] Trial 3 finished with value: 0.4696969696969697 and parameters: {'k': 42}. Best is trial 2 with value: 0.5.\n",
      "[I 2025-02-05 17:24:16,317] Trial 4 finished with value: 0.5909090909090909 and parameters: {'k': 3}. Best is trial 4 with value: 0.5909090909090909.\n",
      "[I 2025-02-05 17:24:16,337] Trial 5 finished with value: 0.196969696969697 and parameters: {'k': 28}. Best is trial 4 with value: 0.5909090909090909.\n",
      "[I 2025-02-05 17:24:16,358] Trial 6 finished with value: 0.27272727272727276 and parameters: {'k': 39}. Best is trial 4 with value: 0.5909090909090909.\n",
      "[I 2025-02-05 17:24:16,363] Trial 7 finished with value: 0.13636363636363635 and parameters: {'k': 32}. Best is trial 4 with value: 0.5909090909090909.\n",
      "[I 2025-02-05 17:24:16,376] Trial 8 finished with value: 0.2272727272727273 and parameters: {'k': 23}. Best is trial 4 with value: 0.5909090909090909.\n",
      "[I 2025-02-05 17:24:16,396] Trial 9 finished with value: 0.5757575757575757 and parameters: {'k': 5}. Best is trial 4 with value: 0.5909090909090909.\n",
      "[I 2025-02-05 17:24:16,415] Trial 10 finished with value: 0.13636363636363638 and parameters: {'k': 34}. Best is trial 4 with value: 0.5909090909090909.\n",
      "[I 2025-02-05 17:24:16,433] Trial 11 finished with value: 0.24242424242424243 and parameters: {'k': 36}. Best is trial 4 with value: 0.5909090909090909.\n",
      "[I 2025-02-05 17:24:16,467] Trial 12 finished with value: 0.18181818181818182 and parameters: {'k': 27}. Best is trial 4 with value: 0.5909090909090909.\n",
      "[I 2025-02-05 17:24:16,482] Trial 13 finished with value: 0.18181818181818182 and parameters: {'k': 35}. Best is trial 4 with value: 0.5909090909090909.\n",
      "[I 2025-02-05 17:24:16,499] Trial 14 finished with value: 0.31818181818181823 and parameters: {'k': 19}. Best is trial 4 with value: 0.5909090909090909.\n",
      "[I 2025-02-05 17:24:16,521] Trial 15 finished with value: 0.5757575757575758 and parameters: {'k': 8}. Best is trial 4 with value: 0.5909090909090909.\n",
      "[I 2025-02-05 17:24:16,534] Trial 16 finished with value: 0.393939393939394 and parameters: {'k': 15}. Best is trial 4 with value: 0.5909090909090909.\n",
      "[I 2025-02-05 17:24:16,558] Trial 17 finished with value: 0.6363636363636365 and parameters: {'k': 46}. Best is trial 17 with value: 0.6363636363636365.\n",
      "[I 2025-02-05 17:24:16,602] Trial 18 finished with value: 0.7424242424242424 and parameters: {'k': 49}. Best is trial 18 with value: 0.7424242424242424.\n",
      "[I 2025-02-05 17:24:16,628] Trial 19 finished with value: 0.196969696969697 and parameters: {'k': 30}. Best is trial 18 with value: 0.7424242424242424.\n",
      "[I 2025-02-05 17:24:16,654] Trial 20 finished with value: 0.36363636363636365 and parameters: {'k': 16}. Best is trial 18 with value: 0.7424242424242424.\n",
      "[I 2025-02-05 17:24:16,680] Trial 21 finished with value: 0.16666666666666669 and parameters: {'k': 31}. Best is trial 18 with value: 0.7424242424242424.\n",
      "[I 2025-02-05 17:24:16,693] Trial 22 finished with value: 0.21212121212121213 and parameters: {'k': 33}. Best is trial 18 with value: 0.7424242424242424.\n",
      "[I 2025-02-05 17:24:16,710] Trial 23 finished with value: 0.3030303030303031 and parameters: {'k': 17}. Best is trial 18 with value: 0.7424242424242424.\n",
      "[I 2025-02-05 17:24:16,731] Trial 24 finished with value: 0.43939393939393945 and parameters: {'k': 43}. Best is trial 18 with value: 0.7424242424242424.\n",
      "[I 2025-02-05 17:24:16,780] Trial 25 finished with value: 0.2878787878787879 and parameters: {'k': 21}. Best is trial 18 with value: 0.7424242424242424.\n",
      "[I 2025-02-05 17:24:16,796] Trial 26 finished with value: 0.5303030303030303 and parameters: {'k': 44}. Best is trial 18 with value: 0.7424242424242424.\n",
      "[I 2025-02-05 17:24:16,839] Trial 27 finished with value: 0.6212121212121213 and parameters: {'k': 9}. Best is trial 18 with value: 0.7424242424242424.\n",
      "[I 2025-02-05 17:24:16,860] Trial 28 finished with value: 0.3333333333333333 and parameters: {'k': 14}. Best is trial 18 with value: 0.7424242424242424.\n",
      "[I 2025-02-05 17:24:16,896] Trial 29 finished with value: 0.12121212121212123 and parameters: {'k': 26}. Best is trial 18 with value: 0.7424242424242424.\n",
      "[I 2025-02-05 17:24:16,914] Trial 30 finished with value: 0.6060606060606061 and parameters: {'k': 6}. Best is trial 18 with value: 0.7424242424242424.\n",
      "[I 2025-02-05 17:24:16,949] Trial 31 finished with value: 0.24242424242424243 and parameters: {'k': 18}. Best is trial 18 with value: 0.7424242424242424.\n",
      "[I 2025-02-05 17:24:16,968] Trial 32 finished with value: 0.3939393939393939 and parameters: {'k': 41}. Best is trial 18 with value: 0.7424242424242424.\n",
      "[I 2025-02-05 17:24:16,982] Trial 33 finished with value: 0.8181818181818181 and parameters: {'k': 50}. Best is trial 33 with value: 0.8181818181818181.\n",
      "[I 2025-02-05 17:24:16,993] Trial 34 finished with value: 0.33333333333333337 and parameters: {'k': 2}. Best is trial 33 with value: 0.8181818181818181.\n",
      "[I 2025-02-05 17:24:17,002] Trial 35 finished with value: 0.4242424242424243 and parameters: {'k': 13}. Best is trial 33 with value: 0.8181818181818181.\n",
      "[I 2025-02-05 17:24:17,012] Trial 36 finished with value: 0.2272727272727273 and parameters: {'k': 38}. Best is trial 33 with value: 0.8181818181818181.\n",
      "[I 2025-02-05 17:24:17,021] Trial 37 finished with value: 0.13636363636363638 and parameters: {'k': 25}. Best is trial 33 with value: 0.8181818181818181.\n",
      "[I 2025-02-05 17:24:17,034] Trial 38 finished with value: 0.5909090909090909 and parameters: {'k': 7}. Best is trial 33 with value: 0.8181818181818181.\n",
      "[I 2025-02-05 17:24:17,063] Trial 39 finished with value: 0.18181818181818182 and parameters: {'k': 24}. Best is trial 33 with value: 0.8181818181818181.\n",
      "[I 2025-02-05 17:24:17,084] Trial 40 finished with value: 0.13636363636363638 and parameters: {'k': 37}. Best is trial 33 with value: 0.8181818181818181.\n",
      "[I 2025-02-05 17:24:17,103] Trial 41 finished with value: 0.2272727272727273 and parameters: {'k': 22}. Best is trial 33 with value: 0.8181818181818181.\n",
      "[I 2025-02-05 17:24:17,112] Trial 42 finished with value: 0.2878787878787879 and parameters: {'k': 20}. Best is trial 33 with value: 0.8181818181818181.\n",
      "[I 2025-02-05 17:24:17,131] Trial 43 finished with value: 0.5303030303030303 and parameters: {'k': 10}. Best is trial 33 with value: 0.8181818181818181.\n",
      "[I 2025-02-05 17:24:17,164] Trial 44 finished with value: 0.33333333333333337 and parameters: {'k': 40}. Best is trial 33 with value: 0.8181818181818181.\n",
      "[I 2025-02-05 17:24:17,185] Trial 45 finished with value: 0.7121212121212122 and parameters: {'k': 47}. Best is trial 33 with value: 0.8181818181818181.\n",
      "[I 2025-02-05 17:24:17,214] Trial 46 finished with value: 0.5757575757575758 and parameters: {'k': 4}. Best is trial 33 with value: 0.8181818181818181.\n",
      "[I 2025-02-05 17:24:17,242] Trial 47 finished with value: 0.48484848484848486 and parameters: {'k': 1}. Best is trial 33 with value: 0.8181818181818181.\n",
      "[I 2025-02-05 17:24:17,278] Trial 48 finished with value: 0.6666666666666667 and parameters: {'k': 48}. Best is trial 33 with value: 0.8181818181818181.\n",
      "[I 2025-02-05 17:24:17,315] Trial 49 finished with value: 0.5757575757575759 and parameters: {'k': 45}. Best is trial 33 with value: 0.8181818181818181.\n",
      "[I 2025-02-05 17:24:17,329] A new study created in memory with name: no-name-f34a76d3-2432-4550-affa-2f7cbf54e2e8\n",
      "[I 2025-02-05 17:24:17,362] Trial 0 finished with value: 0.1875 and parameters: {'k': 29}. Best is trial 0 with value: 0.1875.\n",
      "[I 2025-02-05 17:24:17,380] Trial 1 finished with value: 0.44999999999999996 and parameters: {'k': 12}. Best is trial 1 with value: 0.44999999999999996.\n",
      "[I 2025-02-05 17:24:17,386] Trial 2 finished with value: 0.375 and parameters: {'k': 11}. Best is trial 1 with value: 0.44999999999999996.\n",
      "[I 2025-02-05 17:24:17,403] Trial 3 finished with value: 0.21250000000000002 and parameters: {'k': 42}. Best is trial 1 with value: 0.44999999999999996.\n",
      "[I 2025-02-05 17:24:17,425] Trial 4 finished with value: 0.45 and parameters: {'k': 3}. Best is trial 4 with value: 0.45.\n",
      "[I 2025-02-05 17:24:17,476] Trial 5 finished with value: 0.2 and parameters: {'k': 28}. Best is trial 4 with value: 0.45.\n",
      "[I 2025-02-05 17:24:17,493] Trial 6 finished with value: 0.225 and parameters: {'k': 39}. Best is trial 4 with value: 0.45.\n",
      "[I 2025-02-05 17:24:17,523] Trial 7 finished with value: 0.18750000000000003 and parameters: {'k': 32}. Best is trial 4 with value: 0.45.\n",
      "[I 2025-02-05 17:24:17,616] Trial 8 finished with value: 0.2125 and parameters: {'k': 23}. Best is trial 4 with value: 0.45.\n",
      "[I 2025-02-05 17:24:17,678] Trial 9 finished with value: 0.2625 and parameters: {'k': 5}. Best is trial 4 with value: 0.45.\n",
      "[I 2025-02-05 17:24:17,689] Trial 10 finished with value: 0.25 and parameters: {'k': 34}. Best is trial 4 with value: 0.45.\n",
      "[I 2025-02-05 17:24:17,696] Trial 11 finished with value: 0.1875 and parameters: {'k': 36}. Best is trial 4 with value: 0.45.\n",
      "[I 2025-02-05 17:24:17,716] Trial 12 finished with value: 0.25 and parameters: {'k': 27}. Best is trial 4 with value: 0.45.\n",
      "[I 2025-02-05 17:24:17,734] Trial 13 finished with value: 0.22500000000000003 and parameters: {'k': 35}. Best is trial 4 with value: 0.45.\n",
      "[I 2025-02-05 17:24:17,758] Trial 14 finished with value: 0.3375 and parameters: {'k': 19}. Best is trial 4 with value: 0.45.\n",
      "[I 2025-02-05 17:24:17,774] Trial 15 finished with value: 0.4625 and parameters: {'k': 8}. Best is trial 15 with value: 0.4625.\n",
      "[I 2025-02-05 17:24:17,791] Trial 16 finished with value: 0.4 and parameters: {'k': 15}. Best is trial 15 with value: 0.4625.\n",
      "[I 2025-02-05 17:24:17,807] Trial 17 finished with value: 0.2375 and parameters: {'k': 46}. Best is trial 15 with value: 0.4625.\n",
      "[I 2025-02-05 17:24:17,826] Trial 18 finished with value: 0.16250000000000003 and parameters: {'k': 49}. Best is trial 15 with value: 0.4625.\n",
      "[I 2025-02-05 17:24:17,865] Trial 19 finished with value: 0.175 and parameters: {'k': 30}. Best is trial 15 with value: 0.4625.\n",
      "[I 2025-02-05 17:24:17,881] Trial 20 finished with value: 0.41250000000000003 and parameters: {'k': 16}. Best is trial 15 with value: 0.4625.\n",
      "[I 2025-02-05 17:24:17,904] Trial 21 finished with value: 0.2 and parameters: {'k': 31}. Best is trial 15 with value: 0.4625.\n",
      "[I 2025-02-05 17:24:17,918] Trial 22 finished with value: 0.2 and parameters: {'k': 33}. Best is trial 15 with value: 0.4625.\n",
      "[I 2025-02-05 17:24:17,932] Trial 23 finished with value: 0.3625 and parameters: {'k': 17}. Best is trial 15 with value: 0.4625.\n",
      "[I 2025-02-05 17:24:17,948] Trial 24 finished with value: 0.2 and parameters: {'k': 43}. Best is trial 15 with value: 0.4625.\n",
      "[I 2025-02-05 17:24:17,972] Trial 25 finished with value: 0.25 and parameters: {'k': 21}. Best is trial 15 with value: 0.4625.\n",
      "[I 2025-02-05 17:24:17,987] Trial 26 finished with value: 0.225 and parameters: {'k': 44}. Best is trial 15 with value: 0.4625.\n",
      "[I 2025-02-05 17:24:18,002] Trial 27 finished with value: 0.5 and parameters: {'k': 9}. Best is trial 27 with value: 0.5.\n",
      "[I 2025-02-05 17:24:18,023] Trial 28 finished with value: 0.3625 and parameters: {'k': 14}. Best is trial 27 with value: 0.5.\n",
      "[I 2025-02-05 17:24:18,033] Trial 29 finished with value: 0.25 and parameters: {'k': 26}. Best is trial 27 with value: 0.5.\n",
      "[I 2025-02-05 17:24:18,054] Trial 30 finished with value: 0.4125 and parameters: {'k': 6}. Best is trial 27 with value: 0.5.\n",
      "[I 2025-02-05 17:24:18,069] Trial 31 finished with value: 0.39999999999999997 and parameters: {'k': 18}. Best is trial 27 with value: 0.5.\n",
      "[I 2025-02-05 17:24:18,090] Trial 32 finished with value: 0.2125 and parameters: {'k': 41}. Best is trial 27 with value: 0.5.\n",
      "[I 2025-02-05 17:24:18,100] Trial 33 finished with value: 0.1375 and parameters: {'k': 50}. Best is trial 27 with value: 0.5.\n",
      "[I 2025-02-05 17:24:18,110] Trial 34 finished with value: 0.525 and parameters: {'k': 2}. Best is trial 34 with value: 0.525.\n",
      "[I 2025-02-05 17:24:18,121] Trial 35 finished with value: 0.4 and parameters: {'k': 13}. Best is trial 34 with value: 0.525.\n",
      "[I 2025-02-05 17:24:18,132] Trial 36 finished with value: 0.15000000000000002 and parameters: {'k': 38}. Best is trial 34 with value: 0.525.\n",
      "[I 2025-02-05 17:24:18,143] Trial 37 finished with value: 0.22499999999999998 and parameters: {'k': 25}. Best is trial 34 with value: 0.525.\n",
      "[I 2025-02-05 17:24:18,164] Trial 38 finished with value: 0.5125 and parameters: {'k': 7}. Best is trial 34 with value: 0.525.\n",
      "[I 2025-02-05 17:24:18,223] Trial 39 finished with value: 0.21250000000000002 and parameters: {'k': 24}. Best is trial 34 with value: 0.525.\n",
      "[I 2025-02-05 17:24:18,237] Trial 40 finished with value: 0.125 and parameters: {'k': 37}. Best is trial 34 with value: 0.525.\n",
      "[I 2025-02-05 17:24:18,249] Trial 41 finished with value: 0.19999999999999998 and parameters: {'k': 22}. Best is trial 34 with value: 0.525.\n",
      "[I 2025-02-05 17:24:18,262] Trial 42 finished with value: 0.2875 and parameters: {'k': 20}. Best is trial 34 with value: 0.525.\n",
      "[I 2025-02-05 17:24:18,277] Trial 43 finished with value: 0.4625 and parameters: {'k': 10}. Best is trial 34 with value: 0.525.\n",
      "[I 2025-02-05 17:24:18,347] Trial 44 finished with value: 0.1875 and parameters: {'k': 40}. Best is trial 34 with value: 0.525.\n",
      "[I 2025-02-05 17:24:18,401] Trial 45 finished with value: 0.2 and parameters: {'k': 47}. Best is trial 34 with value: 0.525.\n",
      "[I 2025-02-05 17:24:18,467] Trial 46 finished with value: 0.29999999999999993 and parameters: {'k': 4}. Best is trial 34 with value: 0.525.\n",
      "[I 2025-02-05 17:24:18,508] Trial 47 finished with value: 0.5 and parameters: {'k': 1}. Best is trial 34 with value: 0.525.\n",
      "[I 2025-02-05 17:24:18,554] Trial 48 finished with value: 0.17500000000000002 and parameters: {'k': 48}. Best is trial 34 with value: 0.525.\n",
      "[I 2025-02-05 17:24:18,631] Trial 49 finished with value: 0.2125 and parameters: {'k': 45}. Best is trial 34 with value: 0.525.\n",
      "[I 2025-02-05 17:24:18,740] A new study created in memory with name: no-name-a87b04b9-e147-479f-8715-9774ff55b978\n",
      "[I 2025-02-05 17:24:18,764] Trial 0 finished with value: 0.6555555555555556 and parameters: {'k': 29}. Best is trial 0 with value: 0.6555555555555556.\n",
      "[I 2025-02-05 17:24:18,832] Trial 1 finished with value: 0.6444444444444444 and parameters: {'k': 12}. Best is trial 0 with value: 0.6555555555555556.\n",
      "[I 2025-02-05 17:24:18,850] Trial 2 finished with value: 0.611111111111111 and parameters: {'k': 11}. Best is trial 0 with value: 0.6555555555555556.\n",
      "[I 2025-02-05 17:24:18,859] Trial 3 finished with value: 0.4888888888888889 and parameters: {'k': 42}. Best is trial 0 with value: 0.6555555555555556.\n",
      "[I 2025-02-05 17:24:18,869] Trial 4 finished with value: 0.35555555555555557 and parameters: {'k': 3}. Best is trial 0 with value: 0.6555555555555556.\n",
      "[I 2025-02-05 17:24:18,877] Trial 5 finished with value: 0.6777777777777778 and parameters: {'k': 28}. Best is trial 5 with value: 0.6777777777777778.\n",
      "[I 2025-02-05 17:24:18,895] Trial 6 finished with value: 0.47777777777777775 and parameters: {'k': 39}. Best is trial 5 with value: 0.6777777777777778.\n",
      "[I 2025-02-05 17:24:18,905] Trial 7 finished with value: 0.6777777777777777 and parameters: {'k': 32}. Best is trial 5 with value: 0.6777777777777778.\n",
      "[I 2025-02-05 17:24:18,929] Trial 8 finished with value: 0.7 and parameters: {'k': 23}. Best is trial 8 with value: 0.7.\n",
      "[I 2025-02-05 17:24:18,944] Trial 9 finished with value: 0.4333333333333333 and parameters: {'k': 5}. Best is trial 8 with value: 0.7.\n",
      "[I 2025-02-05 17:24:18,956] Trial 10 finished with value: 0.6 and parameters: {'k': 34}. Best is trial 8 with value: 0.7.\n",
      "[I 2025-02-05 17:24:18,968] Trial 11 finished with value: 0.5666666666666667 and parameters: {'k': 36}. Best is trial 8 with value: 0.7.\n",
      "[I 2025-02-05 17:24:18,985] Trial 12 finished with value: 0.6666666666666666 and parameters: {'k': 27}. Best is trial 8 with value: 0.7.\n",
      "[I 2025-02-05 17:24:19,014] Trial 13 finished with value: 0.5777777777777777 and parameters: {'k': 35}. Best is trial 8 with value: 0.7.\n",
      "[I 2025-02-05 17:24:19,043] Trial 14 finished with value: 0.7333333333333334 and parameters: {'k': 19}. Best is trial 14 with value: 0.7333333333333334.\n",
      "[I 2025-02-05 17:24:19,088] Trial 15 finished with value: 0.5222222222222221 and parameters: {'k': 8}. Best is trial 14 with value: 0.7333333333333334.\n",
      "[I 2025-02-05 17:24:19,095] Trial 16 finished with value: 0.6555555555555556 and parameters: {'k': 15}. Best is trial 14 with value: 0.7333333333333334.\n",
      "[I 2025-02-05 17:24:19,129] Trial 17 finished with value: 0.5 and parameters: {'k': 46}. Best is trial 14 with value: 0.7333333333333334.\n",
      "[I 2025-02-05 17:24:19,137] Trial 18 finished with value: 0.4777777777777778 and parameters: {'k': 49}. Best is trial 14 with value: 0.7333333333333334.\n",
      "[I 2025-02-05 17:24:19,151] Trial 19 finished with value: 0.6333333333333333 and parameters: {'k': 30}. Best is trial 14 with value: 0.7333333333333334.\n",
      "[I 2025-02-05 17:24:19,193] Trial 20 finished with value: 0.6444444444444444 and parameters: {'k': 16}. Best is trial 14 with value: 0.7333333333333334.\n",
      "[I 2025-02-05 17:24:19,244] Trial 21 finished with value: 0.6333333333333333 and parameters: {'k': 31}. Best is trial 14 with value: 0.7333333333333334.\n",
      "[I 2025-02-05 17:24:19,277] Trial 22 finished with value: 0.6444444444444444 and parameters: {'k': 33}. Best is trial 14 with value: 0.7333333333333334.\n",
      "[I 2025-02-05 17:24:19,319] Trial 23 finished with value: 0.6111111111111112 and parameters: {'k': 17}. Best is trial 14 with value: 0.7333333333333334.\n",
      "[I 2025-02-05 17:24:19,343] Trial 24 finished with value: 0.4666666666666666 and parameters: {'k': 43}. Best is trial 14 with value: 0.7333333333333334.\n",
      "[I 2025-02-05 17:24:19,364] Trial 25 finished with value: 0.6888888888888889 and parameters: {'k': 21}. Best is trial 14 with value: 0.7333333333333334.\n",
      "[I 2025-02-05 17:24:19,392] Trial 26 finished with value: 0.5 and parameters: {'k': 44}. Best is trial 14 with value: 0.7333333333333334.\n",
      "[I 2025-02-05 17:24:19,425] Trial 27 finished with value: 0.5444444444444444 and parameters: {'k': 9}. Best is trial 14 with value: 0.7333333333333334.\n",
      "[I 2025-02-05 17:24:19,449] Trial 28 finished with value: 0.6 and parameters: {'k': 14}. Best is trial 14 with value: 0.7333333333333334.\n",
      "[I 2025-02-05 17:24:19,472] Trial 29 finished with value: 0.6888888888888889 and parameters: {'k': 26}. Best is trial 14 with value: 0.7333333333333334.\n",
      "[I 2025-02-05 17:24:19,533] Trial 30 finished with value: 0.5 and parameters: {'k': 6}. Best is trial 14 with value: 0.7333333333333334.\n",
      "[I 2025-02-05 17:24:19,559] Trial 31 finished with value: 0.6444444444444444 and parameters: {'k': 18}. Best is trial 14 with value: 0.7333333333333334.\n",
      "[I 2025-02-05 17:24:19,589] Trial 32 finished with value: 0.4444444444444444 and parameters: {'k': 41}. Best is trial 14 with value: 0.7333333333333334.\n",
      "[I 2025-02-05 17:24:19,624] Trial 33 finished with value: 0.43333333333333324 and parameters: {'k': 50}. Best is trial 14 with value: 0.7333333333333334.\n",
      "[I 2025-02-05 17:24:19,677] Trial 34 finished with value: 0.3 and parameters: {'k': 2}. Best is trial 14 with value: 0.7333333333333334.\n",
      "[I 2025-02-05 17:24:19,712] Trial 35 finished with value: 0.6111111111111112 and parameters: {'k': 13}. Best is trial 14 with value: 0.7333333333333334.\n",
      "[I 2025-02-05 17:24:19,758] Trial 36 finished with value: 0.4888888888888889 and parameters: {'k': 38}. Best is trial 14 with value: 0.7333333333333334.\n",
      "[I 2025-02-05 17:24:19,769] Trial 37 finished with value: 0.711111111111111 and parameters: {'k': 25}. Best is trial 14 with value: 0.7333333333333334.\n",
      "[I 2025-02-05 17:24:19,780] Trial 38 finished with value: 0.5 and parameters: {'k': 7}. Best is trial 14 with value: 0.7333333333333334.\n",
      "[I 2025-02-05 17:24:19,790] Trial 39 finished with value: 0.711111111111111 and parameters: {'k': 24}. Best is trial 14 with value: 0.7333333333333334.\n",
      "[I 2025-02-05 17:24:19,801] Trial 40 finished with value: 0.5666666666666667 and parameters: {'k': 37}. Best is trial 14 with value: 0.7333333333333334.\n",
      "[I 2025-02-05 17:24:19,813] Trial 41 finished with value: 0.7111111111111111 and parameters: {'k': 22}. Best is trial 14 with value: 0.7333333333333334.\n",
      "[I 2025-02-05 17:24:19,823] Trial 42 finished with value: 0.7444444444444445 and parameters: {'k': 20}. Best is trial 42 with value: 0.7444444444444445.\n",
      "[I 2025-02-05 17:24:19,834] Trial 43 finished with value: 0.6 and parameters: {'k': 10}. Best is trial 42 with value: 0.7444444444444445.\n",
      "[I 2025-02-05 17:24:19,857] Trial 44 finished with value: 0.47777777777777775 and parameters: {'k': 40}. Best is trial 42 with value: 0.7444444444444445.\n",
      "[I 2025-02-05 17:24:19,880] Trial 45 finished with value: 0.5666666666666667 and parameters: {'k': 47}. Best is trial 42 with value: 0.7444444444444445.\n",
      "[I 2025-02-05 17:24:19,937] Trial 46 finished with value: 0.39999999999999997 and parameters: {'k': 4}. Best is trial 42 with value: 0.7444444444444445.\n",
      "[I 2025-02-05 17:24:19,976] Trial 47 finished with value: 0.3333333333333333 and parameters: {'k': 1}. Best is trial 42 with value: 0.7444444444444445.\n",
      "[I 2025-02-05 17:24:19,989] Trial 48 finished with value: 0.4666666666666666 and parameters: {'k': 48}. Best is trial 42 with value: 0.7444444444444445.\n",
      "[I 2025-02-05 17:24:20,000] Trial 49 finished with value: 0.4555555555555555 and parameters: {'k': 45}. Best is trial 42 with value: 0.7444444444444445.\n",
      "[I 2025-02-05 17:24:20,025] A new study created in memory with name: no-name-fc6edfe6-56d4-43f6-a412-3d7e505559e1\n",
      "[I 2025-02-05 17:24:20,060] Trial 0 finished with value: 0.675 and parameters: {'k': 29}. Best is trial 0 with value: 0.675.\n",
      "[I 2025-02-05 17:24:20,071] Trial 1 finished with value: 0.7375 and parameters: {'k': 12}. Best is trial 1 with value: 0.7375.\n",
      "[I 2025-02-05 17:24:20,078] Trial 2 finished with value: 0.6625000000000001 and parameters: {'k': 11}. Best is trial 1 with value: 0.7375.\n",
      "[I 2025-02-05 17:24:20,161] Trial 3 finished with value: 0.625 and parameters: {'k': 42}. Best is trial 1 with value: 0.7375.\n",
      "[I 2025-02-05 17:24:20,186] Trial 4 finished with value: 0.44999999999999996 and parameters: {'k': 3}. Best is trial 1 with value: 0.7375.\n",
      "[I 2025-02-05 17:24:20,200] Trial 5 finished with value: 0.725 and parameters: {'k': 28}. Best is trial 1 with value: 0.7375.\n",
      "[I 2025-02-05 17:24:20,218] Trial 6 finished with value: 0.6875 and parameters: {'k': 39}. Best is trial 1 with value: 0.7375.\n",
      "[I 2025-02-05 17:24:20,234] Trial 7 finished with value: 0.6500000000000001 and parameters: {'k': 32}. Best is trial 1 with value: 0.7375.\n",
      "[I 2025-02-05 17:24:20,250] Trial 8 finished with value: 0.6875 and parameters: {'k': 23}. Best is trial 1 with value: 0.7375.\n",
      "[I 2025-02-05 17:24:20,258] Trial 9 finished with value: 0.42500000000000004 and parameters: {'k': 5}. Best is trial 1 with value: 0.7375.\n",
      "[I 2025-02-05 17:24:20,269] Trial 10 finished with value: 0.7000000000000001 and parameters: {'k': 34}. Best is trial 1 with value: 0.7375.\n",
      "[I 2025-02-05 17:24:20,277] Trial 11 finished with value: 0.7749999999999999 and parameters: {'k': 36}. Best is trial 11 with value: 0.7749999999999999.\n",
      "[I 2025-02-05 17:24:20,285] Trial 12 finished with value: 0.6875 and parameters: {'k': 27}. Best is trial 11 with value: 0.7749999999999999.\n",
      "[I 2025-02-05 17:24:20,299] Trial 13 finished with value: 0.7250000000000001 and parameters: {'k': 35}. Best is trial 11 with value: 0.7749999999999999.\n",
      "[I 2025-02-05 17:24:20,317] Trial 14 finished with value: 0.775 and parameters: {'k': 19}. Best is trial 14 with value: 0.775.\n",
      "[I 2025-02-05 17:24:20,351] Trial 15 finished with value: 0.5875 and parameters: {'k': 8}. Best is trial 14 with value: 0.775.\n",
      "[I 2025-02-05 17:24:20,378] Trial 16 finished with value: 0.8499999999999999 and parameters: {'k': 15}. Best is trial 16 with value: 0.8499999999999999.\n",
      "[I 2025-02-05 17:24:20,393] Trial 17 finished with value: 0.6125 and parameters: {'k': 46}. Best is trial 16 with value: 0.8499999999999999.\n",
      "[I 2025-02-05 17:24:20,406] Trial 18 finished with value: 0.6499999999999999 and parameters: {'k': 49}. Best is trial 16 with value: 0.8499999999999999.\n",
      "[I 2025-02-05 17:24:20,424] Trial 19 finished with value: 0.65 and parameters: {'k': 30}. Best is trial 16 with value: 0.8499999999999999.\n",
      "[I 2025-02-05 17:24:20,447] Trial 20 finished with value: 0.875 and parameters: {'k': 16}. Best is trial 20 with value: 0.875.\n",
      "[I 2025-02-05 17:24:20,473] Trial 21 finished with value: 0.625 and parameters: {'k': 31}. Best is trial 20 with value: 0.875.\n",
      "[I 2025-02-05 17:24:20,512] Trial 22 finished with value: 0.6375000000000001 and parameters: {'k': 33}. Best is trial 20 with value: 0.875.\n",
      "[I 2025-02-05 17:24:20,573] Trial 23 finished with value: 0.8250000000000001 and parameters: {'k': 17}. Best is trial 20 with value: 0.875.\n",
      "[I 2025-02-05 17:24:20,592] Trial 24 finished with value: 0.5750000000000001 and parameters: {'k': 43}. Best is trial 20 with value: 0.875.\n",
      "[I 2025-02-05 17:24:20,625] Trial 25 finished with value: 0.7125 and parameters: {'k': 21}. Best is trial 20 with value: 0.875.\n",
      "[I 2025-02-05 17:24:20,647] Trial 26 finished with value: 0.6125 and parameters: {'k': 44}. Best is trial 20 with value: 0.875.\n",
      "[I 2025-02-05 17:24:20,675] Trial 27 finished with value: 0.5750000000000001 and parameters: {'k': 9}. Best is trial 20 with value: 0.875.\n",
      "[I 2025-02-05 17:24:20,711] Trial 28 finished with value: 0.7749999999999999 and parameters: {'k': 14}. Best is trial 20 with value: 0.875.\n",
      "[I 2025-02-05 17:24:20,762] Trial 29 finished with value: 0.7 and parameters: {'k': 26}. Best is trial 20 with value: 0.875.\n",
      "[I 2025-02-05 17:24:20,804] Trial 30 finished with value: 0.5625 and parameters: {'k': 6}. Best is trial 20 with value: 0.875.\n",
      "[I 2025-02-05 17:24:20,832] Trial 31 finished with value: 0.8 and parameters: {'k': 18}. Best is trial 20 with value: 0.875.\n",
      "[I 2025-02-05 17:24:20,891] Trial 32 finished with value: 0.6124999999999999 and parameters: {'k': 41}. Best is trial 20 with value: 0.875.\n",
      "[I 2025-02-05 17:24:20,994] Trial 33 finished with value: 0.7124999999999999 and parameters: {'k': 50}. Best is trial 20 with value: 0.875.\n",
      "[I 2025-02-05 17:24:21,072] Trial 34 finished with value: 0.5750000000000001 and parameters: {'k': 2}. Best is trial 20 with value: 0.875.\n",
      "[I 2025-02-05 17:24:21,100] Trial 35 finished with value: 0.7875000000000001 and parameters: {'k': 13}. Best is trial 20 with value: 0.875.\n",
      "[I 2025-02-05 17:24:21,160] Trial 36 finished with value: 0.7125 and parameters: {'k': 38}. Best is trial 20 with value: 0.875.\n",
      "[I 2025-02-05 17:24:21,217] Trial 37 finished with value: 0.7375 and parameters: {'k': 25}. Best is trial 20 with value: 0.875.\n",
      "[I 2025-02-05 17:24:21,412] Trial 38 finished with value: 0.525 and parameters: {'k': 7}. Best is trial 20 with value: 0.875.\n",
      "[I 2025-02-05 17:24:21,424] Trial 39 finished with value: 0.7250000000000001 and parameters: {'k': 24}. Best is trial 20 with value: 0.875.\n",
      "[I 2025-02-05 17:24:21,447] Trial 40 finished with value: 0.7625 and parameters: {'k': 37}. Best is trial 20 with value: 0.875.\n",
      "[I 2025-02-05 17:24:21,503] Trial 41 finished with value: 0.7124999999999999 and parameters: {'k': 22}. Best is trial 20 with value: 0.875.\n",
      "[I 2025-02-05 17:24:21,581] Trial 42 finished with value: 0.7625000000000001 and parameters: {'k': 20}. Best is trial 20 with value: 0.875.\n",
      "[I 2025-02-05 17:24:21,645] Trial 43 finished with value: 0.65 and parameters: {'k': 10}. Best is trial 20 with value: 0.875.\n",
      "[I 2025-02-05 17:24:21,678] Trial 44 finished with value: 0.7 and parameters: {'k': 40}. Best is trial 20 with value: 0.875.\n",
      "[I 2025-02-05 17:24:21,708] Trial 45 finished with value: 0.6125 and parameters: {'k': 47}. Best is trial 20 with value: 0.875.\n",
      "[I 2025-02-05 17:24:21,739] Trial 46 finished with value: 0.4 and parameters: {'k': 4}. Best is trial 20 with value: 0.875.\n",
      "[I 2025-02-05 17:24:21,757] Trial 47 finished with value: 0.44999999999999996 and parameters: {'k': 1}. Best is trial 20 with value: 0.875.\n",
      "[I 2025-02-05 17:24:21,771] Trial 48 finished with value: 0.6499999999999999 and parameters: {'k': 48}. Best is trial 20 with value: 0.875.\n",
      "[I 2025-02-05 17:24:21,785] Trial 49 finished with value: 0.65 and parameters: {'k': 45}. Best is trial 20 with value: 0.875.\n",
      "[I 2025-02-05 17:24:21,792] A new study created in memory with name: no-name-79514f6e-f395-4214-8015-57540180aa51\n",
      "[I 2025-02-05 17:24:21,807] Trial 0 finished with value: 0.375 and parameters: {'k': 29}. Best is trial 0 with value: 0.375.\n",
      "[I 2025-02-05 17:24:21,817] Trial 1 finished with value: 0.6666666666666667 and parameters: {'k': 12}. Best is trial 1 with value: 0.6666666666666667.\n",
      "[I 2025-02-05 17:24:21,831] Trial 2 finished with value: 0.6458333333333334 and parameters: {'k': 11}. Best is trial 1 with value: 0.6666666666666667.\n",
      "[I 2025-02-05 17:24:21,841] Trial 3 finished with value: 0.47916666666666663 and parameters: {'k': 42}. Best is trial 1 with value: 0.6666666666666667.\n",
      "[I 2025-02-05 17:24:21,855] Trial 4 finished with value: 0.5 and parameters: {'k': 3}. Best is trial 1 with value: 0.6666666666666667.\n",
      "[I 2025-02-05 17:24:21,862] Trial 5 finished with value: 0.2708333333333333 and parameters: {'k': 28}. Best is trial 1 with value: 0.6666666666666667.\n",
      "[I 2025-02-05 17:24:21,872] Trial 6 finished with value: 0.3541666666666667 and parameters: {'k': 39}. Best is trial 1 with value: 0.6666666666666667.\n",
      "[I 2025-02-05 17:24:21,894] Trial 7 finished with value: 0.2916666666666667 and parameters: {'k': 32}. Best is trial 1 with value: 0.6666666666666667.\n",
      "[I 2025-02-05 17:24:21,917] Trial 8 finished with value: 0.45833333333333337 and parameters: {'k': 23}. Best is trial 1 with value: 0.6666666666666667.\n",
      "[I 2025-02-05 17:24:21,936] Trial 9 finished with value: 0.5625 and parameters: {'k': 5}. Best is trial 1 with value: 0.6666666666666667.\n",
      "[I 2025-02-05 17:24:21,964] Trial 10 finished with value: 0.3541666666666667 and parameters: {'k': 34}. Best is trial 1 with value: 0.6666666666666667.\n",
      "[I 2025-02-05 17:24:22,022] Trial 11 finished with value: 0.4166666666666667 and parameters: {'k': 36}. Best is trial 1 with value: 0.6666666666666667.\n",
      "[I 2025-02-05 17:24:22,065] Trial 12 finished with value: 0.16666666666666666 and parameters: {'k': 27}. Best is trial 1 with value: 0.6666666666666667.\n",
      "[I 2025-02-05 17:24:22,077] Trial 13 finished with value: 0.4583333333333333 and parameters: {'k': 35}. Best is trial 1 with value: 0.6666666666666667.\n",
      "[I 2025-02-05 17:24:22,085] Trial 14 finished with value: 0.8125 and parameters: {'k': 19}. Best is trial 14 with value: 0.8125.\n",
      "[I 2025-02-05 17:24:22,111] Trial 15 finished with value: 0.6666666666666666 and parameters: {'k': 8}. Best is trial 14 with value: 0.8125.\n",
      "[I 2025-02-05 17:24:22,154] Trial 16 finished with value: 0.7708333333333333 and parameters: {'k': 15}. Best is trial 14 with value: 0.8125.\n",
      "[I 2025-02-05 17:24:22,162] Trial 17 finished with value: 0.4583333333333333 and parameters: {'k': 46}. Best is trial 14 with value: 0.8125.\n",
      "[I 2025-02-05 17:24:22,176] Trial 18 finished with value: 0.3125 and parameters: {'k': 49}. Best is trial 14 with value: 0.8125.\n",
      "[I 2025-02-05 17:24:22,190] Trial 19 finished with value: 0.39583333333333337 and parameters: {'k': 30}. Best is trial 14 with value: 0.8125.\n",
      "[I 2025-02-05 17:24:22,206] Trial 20 finished with value: 0.7708333333333333 and parameters: {'k': 16}. Best is trial 14 with value: 0.8125.\n",
      "[I 2025-02-05 17:24:22,217] Trial 21 finished with value: 0.27083333333333337 and parameters: {'k': 31}. Best is trial 14 with value: 0.8125.\n",
      "[I 2025-02-05 17:24:22,237] Trial 22 finished with value: 0.25 and parameters: {'k': 33}. Best is trial 14 with value: 0.8125.\n",
      "[I 2025-02-05 17:24:22,258] Trial 23 finished with value: 0.75 and parameters: {'k': 17}. Best is trial 14 with value: 0.8125.\n",
      "[I 2025-02-05 17:24:22,272] Trial 24 finished with value: 0.5625 and parameters: {'k': 43}. Best is trial 14 with value: 0.8125.\n",
      "[I 2025-02-05 17:24:22,293] Trial 25 finished with value: 0.6041666666666667 and parameters: {'k': 21}. Best is trial 14 with value: 0.8125.\n",
      "[I 2025-02-05 17:24:22,345] Trial 26 finished with value: 0.4583333333333333 and parameters: {'k': 44}. Best is trial 14 with value: 0.8125.\n",
      "[I 2025-02-05 17:24:22,361] Trial 27 finished with value: 0.5416666666666666 and parameters: {'k': 9}. Best is trial 14 with value: 0.8125.\n",
      "[I 2025-02-05 17:24:22,379] Trial 28 finished with value: 0.6875 and parameters: {'k': 14}. Best is trial 14 with value: 0.8125.\n",
      "[I 2025-02-05 17:24:22,412] Trial 29 finished with value: 0.1875 and parameters: {'k': 26}. Best is trial 14 with value: 0.8125.\n",
      "[I 2025-02-05 17:24:22,433] Trial 30 finished with value: 0.6666666666666667 and parameters: {'k': 6}. Best is trial 14 with value: 0.8125.\n",
      "[I 2025-02-05 17:24:22,462] Trial 31 finished with value: 0.8541666666666666 and parameters: {'k': 18}. Best is trial 31 with value: 0.8541666666666666.\n",
      "[I 2025-02-05 17:24:22,502] Trial 32 finished with value: 0.41666666666666663 and parameters: {'k': 41}. Best is trial 31 with value: 0.8541666666666666.\n",
      "[I 2025-02-05 17:24:22,517] Trial 33 finished with value: 0.4375 and parameters: {'k': 50}. Best is trial 31 with value: 0.8541666666666666.\n",
      "[I 2025-02-05 17:24:22,537] Trial 34 finished with value: 0.35416666666666663 and parameters: {'k': 2}. Best is trial 31 with value: 0.8541666666666666.\n",
      "[I 2025-02-05 17:24:22,556] Trial 35 finished with value: 0.6041666666666666 and parameters: {'k': 13}. Best is trial 31 with value: 0.8541666666666666.\n",
      "[I 2025-02-05 17:24:22,575] Trial 36 finished with value: 0.37499999999999994 and parameters: {'k': 38}. Best is trial 31 with value: 0.8541666666666666.\n",
      "[I 2025-02-05 17:24:22,622] Trial 37 finished with value: 0.2708333333333333 and parameters: {'k': 25}. Best is trial 31 with value: 0.8541666666666666.\n",
      "[I 2025-02-05 17:24:22,640] Trial 38 finished with value: 0.625 and parameters: {'k': 7}. Best is trial 31 with value: 0.8541666666666666.\n",
      "[I 2025-02-05 17:24:22,655] Trial 39 finished with value: 0.3958333333333333 and parameters: {'k': 24}. Best is trial 31 with value: 0.8541666666666666.\n",
      "[I 2025-02-05 17:24:22,676] Trial 40 finished with value: 0.4583333333333333 and parameters: {'k': 37}. Best is trial 31 with value: 0.8541666666666666.\n",
      "[I 2025-02-05 17:24:22,702] Trial 41 finished with value: 0.5416666666666666 and parameters: {'k': 22}. Best is trial 31 with value: 0.8541666666666666.\n",
      "[I 2025-02-05 17:24:22,749] Trial 42 finished with value: 0.75 and parameters: {'k': 20}. Best is trial 31 with value: 0.8541666666666666.\n",
      "[I 2025-02-05 17:24:22,825] Trial 43 finished with value: 0.7083333333333333 and parameters: {'k': 10}. Best is trial 31 with value: 0.8541666666666666.\n",
      "[I 2025-02-05 17:24:22,879] Trial 44 finished with value: 0.3333333333333333 and parameters: {'k': 40}. Best is trial 31 with value: 0.8541666666666666.\n",
      "[I 2025-02-05 17:24:22,962] Trial 45 finished with value: 0.4166666666666667 and parameters: {'k': 47}. Best is trial 31 with value: 0.8541666666666666.\n",
      "[I 2025-02-05 17:24:23,035] Trial 46 finished with value: 0.5625 and parameters: {'k': 4}. Best is trial 31 with value: 0.8541666666666666.\n",
      "[I 2025-02-05 17:24:23,077] Trial 47 finished with value: 0.3333333333333333 and parameters: {'k': 1}. Best is trial 31 with value: 0.8541666666666666.\n",
      "[I 2025-02-05 17:24:23,105] Trial 48 finished with value: 0.39583333333333337 and parameters: {'k': 48}. Best is trial 31 with value: 0.8541666666666666.\n",
      "[I 2025-02-05 17:24:23,121] Trial 49 finished with value: 0.49999999999999994 and parameters: {'k': 45}. Best is trial 31 with value: 0.8541666666666666.\n",
      "[I 2025-02-05 17:24:23,138] A new study created in memory with name: no-name-2b133337-41da-4a6a-9279-1b9f6471a948\n",
      "[I 2025-02-05 17:24:23,150] Trial 0 finished with value: 0.6666666666666667 and parameters: {'k': 29}. Best is trial 0 with value: 0.6666666666666667.\n",
      "[I 2025-02-05 17:24:23,155] Trial 1 finished with value: 0.6363636363636364 and parameters: {'k': 12}. Best is trial 0 with value: 0.6666666666666667.\n",
      "[I 2025-02-05 17:24:23,168] Trial 2 finished with value: 0.6060606060606061 and parameters: {'k': 11}. Best is trial 0 with value: 0.6666666666666667.\n",
      "[I 2025-02-05 17:24:23,189] Trial 3 finished with value: 0.5151515151515151 and parameters: {'k': 42}. Best is trial 0 with value: 0.6666666666666667.\n",
      "[I 2025-02-05 17:24:23,214] Trial 4 finished with value: 0.4696969696969697 and parameters: {'k': 3}. Best is trial 0 with value: 0.6666666666666667.\n",
      "[I 2025-02-05 17:24:23,249] Trial 5 finished with value: 0.7121212121212122 and parameters: {'k': 28}. Best is trial 5 with value: 0.7121212121212122.\n",
      "[I 2025-02-05 17:24:23,268] Trial 6 finished with value: 0.5909090909090908 and parameters: {'k': 39}. Best is trial 5 with value: 0.7121212121212122.\n",
      "[I 2025-02-05 17:24:23,274] Trial 7 finished with value: 0.696969696969697 and parameters: {'k': 32}. Best is trial 5 with value: 0.7121212121212122.\n",
      "[I 2025-02-05 17:24:23,295] Trial 8 finished with value: 0.48484848484848486 and parameters: {'k': 23}. Best is trial 5 with value: 0.7121212121212122.\n",
      "[I 2025-02-05 17:24:23,301] Trial 9 finished with value: 0.40909090909090906 and parameters: {'k': 5}. Best is trial 5 with value: 0.7121212121212122.\n",
      "[I 2025-02-05 17:24:23,312] Trial 10 finished with value: 0.6060606060606062 and parameters: {'k': 34}. Best is trial 5 with value: 0.7121212121212122.\n",
      "[I 2025-02-05 17:24:23,318] Trial 11 finished with value: 0.5909090909090909 and parameters: {'k': 36}. Best is trial 5 with value: 0.7121212121212122.\n",
      "[I 2025-02-05 17:24:23,340] Trial 12 finished with value: 0.5606060606060607 and parameters: {'k': 27}. Best is trial 5 with value: 0.7121212121212122.\n",
      "[I 2025-02-05 17:24:23,355] Trial 13 finished with value: 0.6212121212121212 and parameters: {'k': 35}. Best is trial 5 with value: 0.7121212121212122.\n",
      "[I 2025-02-05 17:24:23,366] Trial 14 finished with value: 0.45454545454545453 and parameters: {'k': 19}. Best is trial 5 with value: 0.7121212121212122.\n",
      "[I 2025-02-05 17:24:23,386] Trial 15 finished with value: 0.4696969696969697 and parameters: {'k': 8}. Best is trial 5 with value: 0.7121212121212122.\n",
      "[I 2025-02-05 17:24:23,412] Trial 16 finished with value: 0.696969696969697 and parameters: {'k': 15}. Best is trial 5 with value: 0.7121212121212122.\n",
      "[I 2025-02-05 17:24:23,425] Trial 17 finished with value: 0.48484848484848486 and parameters: {'k': 46}. Best is trial 5 with value: 0.7121212121212122.\n",
      "[I 2025-02-05 17:24:23,441] Trial 18 finished with value: 0.42424242424242425 and parameters: {'k': 49}. Best is trial 5 with value: 0.7121212121212122.\n",
      "[I 2025-02-05 17:24:23,484] Trial 19 finished with value: 0.5909090909090909 and parameters: {'k': 30}. Best is trial 5 with value: 0.7121212121212122.\n",
      "[I 2025-02-05 17:24:23,517] Trial 20 finished with value: 0.6363636363636365 and parameters: {'k': 16}. Best is trial 5 with value: 0.7121212121212122.\n",
      "[I 2025-02-05 17:24:23,537] Trial 21 finished with value: 0.6363636363636364 and parameters: {'k': 31}. Best is trial 5 with value: 0.7121212121212122.\n",
      "[I 2025-02-05 17:24:23,579] Trial 22 finished with value: 0.6212121212121213 and parameters: {'k': 33}. Best is trial 5 with value: 0.7121212121212122.\n",
      "[I 2025-02-05 17:24:23,588] Trial 23 finished with value: 0.6060606060606062 and parameters: {'k': 17}. Best is trial 5 with value: 0.7121212121212122.\n",
      "[I 2025-02-05 17:24:23,598] Trial 24 finished with value: 0.45454545454545453 and parameters: {'k': 43}. Best is trial 5 with value: 0.7121212121212122.\n",
      "[I 2025-02-05 17:24:23,609] Trial 25 finished with value: 0.590909090909091 and parameters: {'k': 21}. Best is trial 5 with value: 0.7121212121212122.\n",
      "[I 2025-02-05 17:24:23,619] Trial 26 finished with value: 0.4545454545454546 and parameters: {'k': 44}. Best is trial 5 with value: 0.7121212121212122.\n",
      "[I 2025-02-05 17:24:23,630] Trial 27 finished with value: 0.5909090909090909 and parameters: {'k': 9}. Best is trial 5 with value: 0.7121212121212122.\n",
      "[I 2025-02-05 17:24:23,644] Trial 28 finished with value: 0.6363636363636365 and parameters: {'k': 14}. Best is trial 5 with value: 0.7121212121212122.\n",
      "[I 2025-02-05 17:24:23,653] Trial 29 finished with value: 0.6515151515151516 and parameters: {'k': 26}. Best is trial 5 with value: 0.7121212121212122.\n",
      "[I 2025-02-05 17:24:23,662] Trial 30 finished with value: 0.3787878787878788 and parameters: {'k': 6}. Best is trial 5 with value: 0.7121212121212122.\n",
      "[I 2025-02-05 17:24:23,677] Trial 31 finished with value: 0.6363636363636364 and parameters: {'k': 18}. Best is trial 5 with value: 0.7121212121212122.\n",
      "[I 2025-02-05 17:24:23,687] Trial 32 finished with value: 0.5303030303030303 and parameters: {'k': 41}. Best is trial 5 with value: 0.7121212121212122.\n",
      "[I 2025-02-05 17:24:23,697] Trial 33 finished with value: 0.393939393939394 and parameters: {'k': 50}. Best is trial 5 with value: 0.7121212121212122.\n",
      "[I 2025-02-05 17:24:23,707] Trial 34 finished with value: 0.6060606060606062 and parameters: {'k': 2}. Best is trial 5 with value: 0.7121212121212122.\n",
      "[I 2025-02-05 17:24:23,730] Trial 35 finished with value: 0.6212121212121213 and parameters: {'k': 13}. Best is trial 5 with value: 0.7121212121212122.\n",
      "[I 2025-02-05 17:24:23,742] Trial 36 finished with value: 0.5 and parameters: {'k': 38}. Best is trial 5 with value: 0.7121212121212122.\n",
      "[I 2025-02-05 17:24:23,754] Trial 37 finished with value: 0.5303030303030303 and parameters: {'k': 25}. Best is trial 5 with value: 0.7121212121212122.\n",
      "[I 2025-02-05 17:24:23,765] Trial 38 finished with value: 0.4696969696969697 and parameters: {'k': 7}. Best is trial 5 with value: 0.7121212121212122.\n",
      "[I 2025-02-05 17:24:23,778] Trial 39 finished with value: 0.4696969696969697 and parameters: {'k': 24}. Best is trial 5 with value: 0.7121212121212122.\n",
      "[I 2025-02-05 17:24:23,790] Trial 40 finished with value: 0.5 and parameters: {'k': 37}. Best is trial 5 with value: 0.7121212121212122.\n",
      "[I 2025-02-05 17:24:23,803] Trial 41 finished with value: 0.5909090909090909 and parameters: {'k': 22}. Best is trial 5 with value: 0.7121212121212122.\n",
      "[I 2025-02-05 17:24:23,816] Trial 42 finished with value: 0.5151515151515151 and parameters: {'k': 20}. Best is trial 5 with value: 0.7121212121212122.\n",
      "[I 2025-02-05 17:24:23,829] Trial 43 finished with value: 0.6818181818181819 and parameters: {'k': 10}. Best is trial 5 with value: 0.7121212121212122.\n",
      "[I 2025-02-05 17:24:23,851] Trial 44 finished with value: 0.5454545454545454 and parameters: {'k': 40}. Best is trial 5 with value: 0.7121212121212122.\n",
      "[I 2025-02-05 17:24:23,888] Trial 45 finished with value: 0.3787878787878788 and parameters: {'k': 47}. Best is trial 5 with value: 0.7121212121212122.\n",
      "[I 2025-02-05 17:24:23,905] Trial 46 finished with value: 0.3787878787878788 and parameters: {'k': 4}. Best is trial 5 with value: 0.7121212121212122.\n",
      "[I 2025-02-05 17:24:23,926] Trial 47 finished with value: 0.36363636363636365 and parameters: {'k': 1}. Best is trial 5 with value: 0.7121212121212122.\n",
      "[I 2025-02-05 17:24:23,954] Trial 48 finished with value: 0.4545454545454546 and parameters: {'k': 48}. Best is trial 5 with value: 0.7121212121212122.\n",
      "[I 2025-02-05 17:24:23,980] Trial 49 finished with value: 0.5 and parameters: {'k': 45}. Best is trial 5 with value: 0.7121212121212122.\n"
     ]
    }
   ],
   "source": [
    "# Store test accuracies for each model\n",
    "test_accuracies_dict = {} # Initialize an empty dictionary to store test accuracies\n",
    "\n",
    "# Iterate through each model's features\n",
    "for model_name, values in data.items():\n",
    "    # Skip MedImageInsightExtractor\n",
    "    if model_name == \"MedImageInsightExtractor\":\n",
    "        continue\n",
    "        \n",
    "    # Extract labels and features\n",
    "    train_labels = [v[\"row\"][\"survival\"] for v in values[\"train\"]]\n",
    "    val_labels = [v[\"row\"][\"survival\"] for v in values[\"val\"]] \n",
    "    test_labels = [v[\"row\"][\"survival\"] for v in values[\"test\"]]\n",
    "    \n",
    "    train_items = np.vstack([v[\"feature\"] for v in values[\"train\"]])\n",
    "    val_items = np.vstack([v[\"feature\"] for v in values[\"val\"]])\n",
    "    test_items = np.vstack([v[\"feature\"] for v in values[\"test\"]])\n",
    "\n",
    "    # Combine train and val items and labels\n",
    "    all_items = np.vstack([train_items, val_items, test_items])\n",
    "    all_labels = train_labels + val_labels + test_labels\n",
    "\n",
    "\n",
    "    # Average across multiple shuffle splits\n",
    "    n_splits = 5\n",
    "    split_scores = []\n",
    "    \n",
    "    for split in range(n_splits):\n",
    "        # Get stratified indices for new train/val split with different random seeds\n",
    "        train_items, train_labels, val_items, val_labels, test_items, test_labels = split_shuffle_data(\n",
    "            all_items, all_labels, train_ratio=0.5, val_ratio=0.1, random_seed=10+split\n",
    "        )\n",
    "\n",
    "        # Train model with hyperparameter optimization\n",
    "        best_model, study = train_knn_classifier(train_items, train_labels, val_items, val_labels)\n",
    "        \n",
    "        # Get score for this split\n",
    "        split_score = evaluate_model(best_model, test_items, test_labels)\n",
    "        split_scores.append(split_score)\n",
    "    \n",
    "    # Average the scores across splits\n",
    "    avg_score = np.mean(split_scores)\n",
    "    \n",
    "    # Evaluate on test set\n",
    "    test_accuracies_dict[model_name] = avg_score"
   ]
  },
  {
   "cell_type": "code",
   "execution_count": 9,
   "metadata": {},
   "outputs": [
    {
     "data": {
      "application/vnd.plotly.v1+json": {
       "config": {
        "plotlyServerURL": "https://plot.ly"
       },
       "data": [
        {
         "alignmentgroup": "True",
         "hovertemplate": "Model=%{x}<br>Accuracy=%{y}<extra></extra>",
         "legendgroup": "",
         "marker": {
          "color": "#ADD8E6",
          "opacity": 0.8,
          "pattern": {
           "shape": ""
          }
         },
         "name": "",
         "offsetgroup": "",
         "orientation": "v",
         "showlegend": false,
         "textposition": "auto",
         "texttemplate": "%{y:.2f}",
         "type": "bar",
         "x": [
          "FMCIBExtractor",
          "CTFMExtractor",
          "PyramidExtractorVar",
          "PyramidExtractorNoVar",
          "VISTA3DExtractor",
          "VocoExtractor",
          "SUPREMExtractor",
          "MerlinExtractor",
          "ModelsGenExtractor"
         ],
         "xaxis": "x",
         "y": [
          0.6514948473781678,
          0.6839005794762374,
          0.5380374638366124,
          0.615896167746013,
          0.6891911978299363,
          0.4736071329724581,
          0.5738303014744578,
          0.6058677397947909,
          0.6917822806029076
         ],
         "yaxis": "y"
        }
       ],
       "layout": {
        "barmode": "relative",
        "font": {
         "family": "Arial",
         "size": 12
        },
        "height": 400,
        "legend": {
         "tracegroupgap": 0
        },
        "margin": {
         "b": 20,
         "l": 20,
         "r": 20,
         "t": 40
        },
        "showlegend": false,
        "template": {
         "data": {
          "bar": [
           {
            "error_x": {
             "color": "rgb(36,36,36)"
            },
            "error_y": {
             "color": "rgb(36,36,36)"
            },
            "marker": {
             "line": {
              "color": "white",
              "width": 0.5
             },
             "pattern": {
              "fillmode": "overlay",
              "size": 10,
              "solidity": 0.2
             }
            },
            "type": "bar"
           }
          ],
          "barpolar": [
           {
            "marker": {
             "line": {
              "color": "white",
              "width": 0.5
             },
             "pattern": {
              "fillmode": "overlay",
              "size": 10,
              "solidity": 0.2
             }
            },
            "type": "barpolar"
           }
          ],
          "carpet": [
           {
            "aaxis": {
             "endlinecolor": "rgb(36,36,36)",
             "gridcolor": "white",
             "linecolor": "white",
             "minorgridcolor": "white",
             "startlinecolor": "rgb(36,36,36)"
            },
            "baxis": {
             "endlinecolor": "rgb(36,36,36)",
             "gridcolor": "white",
             "linecolor": "white",
             "minorgridcolor": "white",
             "startlinecolor": "rgb(36,36,36)"
            },
            "type": "carpet"
           }
          ],
          "choropleth": [
           {
            "colorbar": {
             "outlinewidth": 1,
             "tickcolor": "rgb(36,36,36)",
             "ticks": "outside"
            },
            "type": "choropleth"
           }
          ],
          "contour": [
           {
            "colorbar": {
             "outlinewidth": 1,
             "tickcolor": "rgb(36,36,36)",
             "ticks": "outside"
            },
            "colorscale": [
             [
              0,
              "#440154"
             ],
             [
              0.1111111111111111,
              "#482878"
             ],
             [
              0.2222222222222222,
              "#3e4989"
             ],
             [
              0.3333333333333333,
              "#31688e"
             ],
             [
              0.4444444444444444,
              "#26828e"
             ],
             [
              0.5555555555555556,
              "#1f9e89"
             ],
             [
              0.6666666666666666,
              "#35b779"
             ],
             [
              0.7777777777777778,
              "#6ece58"
             ],
             [
              0.8888888888888888,
              "#b5de2b"
             ],
             [
              1,
              "#fde725"
             ]
            ],
            "type": "contour"
           }
          ],
          "contourcarpet": [
           {
            "colorbar": {
             "outlinewidth": 1,
             "tickcolor": "rgb(36,36,36)",
             "ticks": "outside"
            },
            "type": "contourcarpet"
           }
          ],
          "heatmap": [
           {
            "colorbar": {
             "outlinewidth": 1,
             "tickcolor": "rgb(36,36,36)",
             "ticks": "outside"
            },
            "colorscale": [
             [
              0,
              "#440154"
             ],
             [
              0.1111111111111111,
              "#482878"
             ],
             [
              0.2222222222222222,
              "#3e4989"
             ],
             [
              0.3333333333333333,
              "#31688e"
             ],
             [
              0.4444444444444444,
              "#26828e"
             ],
             [
              0.5555555555555556,
              "#1f9e89"
             ],
             [
              0.6666666666666666,
              "#35b779"
             ],
             [
              0.7777777777777778,
              "#6ece58"
             ],
             [
              0.8888888888888888,
              "#b5de2b"
             ],
             [
              1,
              "#fde725"
             ]
            ],
            "type": "heatmap"
           }
          ],
          "heatmapgl": [
           {
            "colorbar": {
             "outlinewidth": 1,
             "tickcolor": "rgb(36,36,36)",
             "ticks": "outside"
            },
            "colorscale": [
             [
              0,
              "#440154"
             ],
             [
              0.1111111111111111,
              "#482878"
             ],
             [
              0.2222222222222222,
              "#3e4989"
             ],
             [
              0.3333333333333333,
              "#31688e"
             ],
             [
              0.4444444444444444,
              "#26828e"
             ],
             [
              0.5555555555555556,
              "#1f9e89"
             ],
             [
              0.6666666666666666,
              "#35b779"
             ],
             [
              0.7777777777777778,
              "#6ece58"
             ],
             [
              0.8888888888888888,
              "#b5de2b"
             ],
             [
              1,
              "#fde725"
             ]
            ],
            "type": "heatmapgl"
           }
          ],
          "histogram": [
           {
            "marker": {
             "line": {
              "color": "white",
              "width": 0.6
             }
            },
            "type": "histogram"
           }
          ],
          "histogram2d": [
           {
            "colorbar": {
             "outlinewidth": 1,
             "tickcolor": "rgb(36,36,36)",
             "ticks": "outside"
            },
            "colorscale": [
             [
              0,
              "#440154"
             ],
             [
              0.1111111111111111,
              "#482878"
             ],
             [
              0.2222222222222222,
              "#3e4989"
             ],
             [
              0.3333333333333333,
              "#31688e"
             ],
             [
              0.4444444444444444,
              "#26828e"
             ],
             [
              0.5555555555555556,
              "#1f9e89"
             ],
             [
              0.6666666666666666,
              "#35b779"
             ],
             [
              0.7777777777777778,
              "#6ece58"
             ],
             [
              0.8888888888888888,
              "#b5de2b"
             ],
             [
              1,
              "#fde725"
             ]
            ],
            "type": "histogram2d"
           }
          ],
          "histogram2dcontour": [
           {
            "colorbar": {
             "outlinewidth": 1,
             "tickcolor": "rgb(36,36,36)",
             "ticks": "outside"
            },
            "colorscale": [
             [
              0,
              "#440154"
             ],
             [
              0.1111111111111111,
              "#482878"
             ],
             [
              0.2222222222222222,
              "#3e4989"
             ],
             [
              0.3333333333333333,
              "#31688e"
             ],
             [
              0.4444444444444444,
              "#26828e"
             ],
             [
              0.5555555555555556,
              "#1f9e89"
             ],
             [
              0.6666666666666666,
              "#35b779"
             ],
             [
              0.7777777777777778,
              "#6ece58"
             ],
             [
              0.8888888888888888,
              "#b5de2b"
             ],
             [
              1,
              "#fde725"
             ]
            ],
            "type": "histogram2dcontour"
           }
          ],
          "mesh3d": [
           {
            "colorbar": {
             "outlinewidth": 1,
             "tickcolor": "rgb(36,36,36)",
             "ticks": "outside"
            },
            "type": "mesh3d"
           }
          ],
          "parcoords": [
           {
            "line": {
             "colorbar": {
              "outlinewidth": 1,
              "tickcolor": "rgb(36,36,36)",
              "ticks": "outside"
             }
            },
            "type": "parcoords"
           }
          ],
          "pie": [
           {
            "automargin": true,
            "type": "pie"
           }
          ],
          "scatter": [
           {
            "fillpattern": {
             "fillmode": "overlay",
             "size": 10,
             "solidity": 0.2
            },
            "type": "scatter"
           }
          ],
          "scatter3d": [
           {
            "line": {
             "colorbar": {
              "outlinewidth": 1,
              "tickcolor": "rgb(36,36,36)",
              "ticks": "outside"
             }
            },
            "marker": {
             "colorbar": {
              "outlinewidth": 1,
              "tickcolor": "rgb(36,36,36)",
              "ticks": "outside"
             }
            },
            "type": "scatter3d"
           }
          ],
          "scattercarpet": [
           {
            "marker": {
             "colorbar": {
              "outlinewidth": 1,
              "tickcolor": "rgb(36,36,36)",
              "ticks": "outside"
             }
            },
            "type": "scattercarpet"
           }
          ],
          "scattergeo": [
           {
            "marker": {
             "colorbar": {
              "outlinewidth": 1,
              "tickcolor": "rgb(36,36,36)",
              "ticks": "outside"
             }
            },
            "type": "scattergeo"
           }
          ],
          "scattergl": [
           {
            "marker": {
             "colorbar": {
              "outlinewidth": 1,
              "tickcolor": "rgb(36,36,36)",
              "ticks": "outside"
             }
            },
            "type": "scattergl"
           }
          ],
          "scattermapbox": [
           {
            "marker": {
             "colorbar": {
              "outlinewidth": 1,
              "tickcolor": "rgb(36,36,36)",
              "ticks": "outside"
             }
            },
            "type": "scattermapbox"
           }
          ],
          "scatterpolar": [
           {
            "marker": {
             "colorbar": {
              "outlinewidth": 1,
              "tickcolor": "rgb(36,36,36)",
              "ticks": "outside"
             }
            },
            "type": "scatterpolar"
           }
          ],
          "scatterpolargl": [
           {
            "marker": {
             "colorbar": {
              "outlinewidth": 1,
              "tickcolor": "rgb(36,36,36)",
              "ticks": "outside"
             }
            },
            "type": "scatterpolargl"
           }
          ],
          "scatterternary": [
           {
            "marker": {
             "colorbar": {
              "outlinewidth": 1,
              "tickcolor": "rgb(36,36,36)",
              "ticks": "outside"
             }
            },
            "type": "scatterternary"
           }
          ],
          "surface": [
           {
            "colorbar": {
             "outlinewidth": 1,
             "tickcolor": "rgb(36,36,36)",
             "ticks": "outside"
            },
            "colorscale": [
             [
              0,
              "#440154"
             ],
             [
              0.1111111111111111,
              "#482878"
             ],
             [
              0.2222222222222222,
              "#3e4989"
             ],
             [
              0.3333333333333333,
              "#31688e"
             ],
             [
              0.4444444444444444,
              "#26828e"
             ],
             [
              0.5555555555555556,
              "#1f9e89"
             ],
             [
              0.6666666666666666,
              "#35b779"
             ],
             [
              0.7777777777777778,
              "#6ece58"
             ],
             [
              0.8888888888888888,
              "#b5de2b"
             ],
             [
              1,
              "#fde725"
             ]
            ],
            "type": "surface"
           }
          ],
          "table": [
           {
            "cells": {
             "fill": {
              "color": "rgb(237,237,237)"
             },
             "line": {
              "color": "white"
             }
            },
            "header": {
             "fill": {
              "color": "rgb(217,217,217)"
             },
             "line": {
              "color": "white"
             }
            },
            "type": "table"
           }
          ]
         },
         "layout": {
          "annotationdefaults": {
           "arrowhead": 0,
           "arrowwidth": 1
          },
          "autotypenumbers": "strict",
          "coloraxis": {
           "colorbar": {
            "outlinewidth": 1,
            "tickcolor": "rgb(36,36,36)",
            "ticks": "outside"
           }
          },
          "colorscale": {
           "diverging": [
            [
             0,
             "rgb(103,0,31)"
            ],
            [
             0.1,
             "rgb(178,24,43)"
            ],
            [
             0.2,
             "rgb(214,96,77)"
            ],
            [
             0.3,
             "rgb(244,165,130)"
            ],
            [
             0.4,
             "rgb(253,219,199)"
            ],
            [
             0.5,
             "rgb(247,247,247)"
            ],
            [
             0.6,
             "rgb(209,229,240)"
            ],
            [
             0.7,
             "rgb(146,197,222)"
            ],
            [
             0.8,
             "rgb(67,147,195)"
            ],
            [
             0.9,
             "rgb(33,102,172)"
            ],
            [
             1,
             "rgb(5,48,97)"
            ]
           ],
           "sequential": [
            [
             0,
             "#440154"
            ],
            [
             0.1111111111111111,
             "#482878"
            ],
            [
             0.2222222222222222,
             "#3e4989"
            ],
            [
             0.3333333333333333,
             "#31688e"
            ],
            [
             0.4444444444444444,
             "#26828e"
            ],
            [
             0.5555555555555556,
             "#1f9e89"
            ],
            [
             0.6666666666666666,
             "#35b779"
            ],
            [
             0.7777777777777778,
             "#6ece58"
            ],
            [
             0.8888888888888888,
             "#b5de2b"
            ],
            [
             1,
             "#fde725"
            ]
           ],
           "sequentialminus": [
            [
             0,
             "#440154"
            ],
            [
             0.1111111111111111,
             "#482878"
            ],
            [
             0.2222222222222222,
             "#3e4989"
            ],
            [
             0.3333333333333333,
             "#31688e"
            ],
            [
             0.4444444444444444,
             "#26828e"
            ],
            [
             0.5555555555555556,
             "#1f9e89"
            ],
            [
             0.6666666666666666,
             "#35b779"
            ],
            [
             0.7777777777777778,
             "#6ece58"
            ],
            [
             0.8888888888888888,
             "#b5de2b"
            ],
            [
             1,
             "#fde725"
            ]
           ]
          },
          "colorway": [
           "#1F77B4",
           "#FF7F0E",
           "#2CA02C",
           "#D62728",
           "#9467BD",
           "#8C564B",
           "#E377C2",
           "#7F7F7F",
           "#BCBD22",
           "#17BECF"
          ],
          "font": {
           "color": "rgb(36,36,36)"
          },
          "geo": {
           "bgcolor": "white",
           "lakecolor": "white",
           "landcolor": "white",
           "showlakes": true,
           "showland": true,
           "subunitcolor": "white"
          },
          "hoverlabel": {
           "align": "left"
          },
          "hovermode": "closest",
          "mapbox": {
           "style": "light"
          },
          "paper_bgcolor": "white",
          "plot_bgcolor": "white",
          "polar": {
           "angularaxis": {
            "gridcolor": "rgb(232,232,232)",
            "linecolor": "rgb(36,36,36)",
            "showgrid": false,
            "showline": true,
            "ticks": "outside"
           },
           "bgcolor": "white",
           "radialaxis": {
            "gridcolor": "rgb(232,232,232)",
            "linecolor": "rgb(36,36,36)",
            "showgrid": false,
            "showline": true,
            "ticks": "outside"
           }
          },
          "scene": {
           "xaxis": {
            "backgroundcolor": "white",
            "gridcolor": "rgb(232,232,232)",
            "gridwidth": 2,
            "linecolor": "rgb(36,36,36)",
            "showbackground": true,
            "showgrid": false,
            "showline": true,
            "ticks": "outside",
            "zeroline": false,
            "zerolinecolor": "rgb(36,36,36)"
           },
           "yaxis": {
            "backgroundcolor": "white",
            "gridcolor": "rgb(232,232,232)",
            "gridwidth": 2,
            "linecolor": "rgb(36,36,36)",
            "showbackground": true,
            "showgrid": false,
            "showline": true,
            "ticks": "outside",
            "zeroline": false,
            "zerolinecolor": "rgb(36,36,36)"
           },
           "zaxis": {
            "backgroundcolor": "white",
            "gridcolor": "rgb(232,232,232)",
            "gridwidth": 2,
            "linecolor": "rgb(36,36,36)",
            "showbackground": true,
            "showgrid": false,
            "showline": true,
            "ticks": "outside",
            "zeroline": false,
            "zerolinecolor": "rgb(36,36,36)"
           }
          },
          "shapedefaults": {
           "fillcolor": "black",
           "line": {
            "width": 0
           },
           "opacity": 0.3
          },
          "ternary": {
           "aaxis": {
            "gridcolor": "rgb(232,232,232)",
            "linecolor": "rgb(36,36,36)",
            "showgrid": false,
            "showline": true,
            "ticks": "outside"
           },
           "baxis": {
            "gridcolor": "rgb(232,232,232)",
            "linecolor": "rgb(36,36,36)",
            "showgrid": false,
            "showline": true,
            "ticks": "outside"
           },
           "bgcolor": "white",
           "caxis": {
            "gridcolor": "rgb(232,232,232)",
            "linecolor": "rgb(36,36,36)",
            "showgrid": false,
            "showline": true,
            "ticks": "outside"
           }
          },
          "title": {
           "x": 0.05
          },
          "xaxis": {
           "automargin": true,
           "gridcolor": "rgb(232,232,232)",
           "linecolor": "rgb(36,36,36)",
           "showgrid": false,
           "showline": true,
           "ticks": "outside",
           "title": {
            "standoff": 15
           },
           "zeroline": false,
           "zerolinecolor": "rgb(36,36,36)"
          },
          "yaxis": {
           "automargin": true,
           "gridcolor": "rgb(232,232,232)",
           "linecolor": "rgb(36,36,36)",
           "showgrid": false,
           "showline": true,
           "ticks": "outside",
           "title": {
            "standoff": 15
           },
           "zeroline": false,
           "zerolinecolor": "rgb(36,36,36)"
          }
         }
        },
        "title": {
         "text": "Test AUC Comparison",
         "x": 0.5,
         "xanchor": "center"
        },
        "width": 500,
        "xaxis": {
         "anchor": "y",
         "domain": [
          0,
          1
         ],
         "showgrid": false,
         "showline": false,
         "tickfont": {
          "size": 12
         },
         "title": {
          "text": "Model"
         }
        },
        "yaxis": {
         "anchor": "x",
         "domain": [
          0,
          1
         ],
         "gridcolor": "lightgrey",
         "showgrid": true,
         "tickfont": {
          "size": 12
         },
         "title": {
          "text": "Accuracy"
         }
        }
       }
      },
      "text/html": [
       "<div>                            <div id=\"5405a8ad-77f7-43ad-8902-054a2c361515\" class=\"plotly-graph-div\" style=\"height:400px; width:500px;\"></div>            <script type=\"text/javascript\">                require([\"plotly\"], function(Plotly) {                    window.PLOTLYENV=window.PLOTLYENV || {};                                    if (document.getElementById(\"5405a8ad-77f7-43ad-8902-054a2c361515\")) {                    Plotly.newPlot(                        \"5405a8ad-77f7-43ad-8902-054a2c361515\",                        [{\"alignmentgroup\":\"True\",\"hovertemplate\":\"Model=%{x}\\u003cbr\\u003eAccuracy=%{y}\\u003cextra\\u003e\\u003c\\u002fextra\\u003e\",\"legendgroup\":\"\",\"marker\":{\"color\":\"#ADD8E6\",\"pattern\":{\"shape\":\"\"},\"opacity\":0.8},\"name\":\"\",\"offsetgroup\":\"\",\"orientation\":\"v\",\"showlegend\":false,\"textposition\":\"auto\",\"x\":[\"FMCIBExtractor\",\"CTFMExtractor\",\"PyramidExtractorVar\",\"PyramidExtractorNoVar\",\"VISTA3DExtractor\",\"VocoExtractor\",\"SUPREMExtractor\",\"MerlinExtractor\",\"ModelsGenExtractor\"],\"xaxis\":\"x\",\"y\":[0.6514948473781678,0.6839005794762374,0.5380374638366124,0.615896167746013,0.6891911978299363,0.4736071329724581,0.5738303014744578,0.6058677397947909,0.6917822806029076],\"yaxis\":\"y\",\"type\":\"bar\",\"texttemplate\":\"%{y:.2f}\"}],                        {\"template\":{\"data\":{\"barpolar\":[{\"marker\":{\"line\":{\"color\":\"white\",\"width\":0.5},\"pattern\":{\"fillmode\":\"overlay\",\"size\":10,\"solidity\":0.2}},\"type\":\"barpolar\"}],\"bar\":[{\"error_x\":{\"color\":\"rgb(36,36,36)\"},\"error_y\":{\"color\":\"rgb(36,36,36)\"},\"marker\":{\"line\":{\"color\":\"white\",\"width\":0.5},\"pattern\":{\"fillmode\":\"overlay\",\"size\":10,\"solidity\":0.2}},\"type\":\"bar\"}],\"carpet\":[{\"aaxis\":{\"endlinecolor\":\"rgb(36,36,36)\",\"gridcolor\":\"white\",\"linecolor\":\"white\",\"minorgridcolor\":\"white\",\"startlinecolor\":\"rgb(36,36,36)\"},\"baxis\":{\"endlinecolor\":\"rgb(36,36,36)\",\"gridcolor\":\"white\",\"linecolor\":\"white\",\"minorgridcolor\":\"white\",\"startlinecolor\":\"rgb(36,36,36)\"},\"type\":\"carpet\"}],\"choropleth\":[{\"colorbar\":{\"outlinewidth\":1,\"tickcolor\":\"rgb(36,36,36)\",\"ticks\":\"outside\"},\"type\":\"choropleth\"}],\"contourcarpet\":[{\"colorbar\":{\"outlinewidth\":1,\"tickcolor\":\"rgb(36,36,36)\",\"ticks\":\"outside\"},\"type\":\"contourcarpet\"}],\"contour\":[{\"colorbar\":{\"outlinewidth\":1,\"tickcolor\":\"rgb(36,36,36)\",\"ticks\":\"outside\"},\"colorscale\":[[0.0,\"#440154\"],[0.1111111111111111,\"#482878\"],[0.2222222222222222,\"#3e4989\"],[0.3333333333333333,\"#31688e\"],[0.4444444444444444,\"#26828e\"],[0.5555555555555556,\"#1f9e89\"],[0.6666666666666666,\"#35b779\"],[0.7777777777777778,\"#6ece58\"],[0.8888888888888888,\"#b5de2b\"],[1.0,\"#fde725\"]],\"type\":\"contour\"}],\"heatmapgl\":[{\"colorbar\":{\"outlinewidth\":1,\"tickcolor\":\"rgb(36,36,36)\",\"ticks\":\"outside\"},\"colorscale\":[[0.0,\"#440154\"],[0.1111111111111111,\"#482878\"],[0.2222222222222222,\"#3e4989\"],[0.3333333333333333,\"#31688e\"],[0.4444444444444444,\"#26828e\"],[0.5555555555555556,\"#1f9e89\"],[0.6666666666666666,\"#35b779\"],[0.7777777777777778,\"#6ece58\"],[0.8888888888888888,\"#b5de2b\"],[1.0,\"#fde725\"]],\"type\":\"heatmapgl\"}],\"heatmap\":[{\"colorbar\":{\"outlinewidth\":1,\"tickcolor\":\"rgb(36,36,36)\",\"ticks\":\"outside\"},\"colorscale\":[[0.0,\"#440154\"],[0.1111111111111111,\"#482878\"],[0.2222222222222222,\"#3e4989\"],[0.3333333333333333,\"#31688e\"],[0.4444444444444444,\"#26828e\"],[0.5555555555555556,\"#1f9e89\"],[0.6666666666666666,\"#35b779\"],[0.7777777777777778,\"#6ece58\"],[0.8888888888888888,\"#b5de2b\"],[1.0,\"#fde725\"]],\"type\":\"heatmap\"}],\"histogram2dcontour\":[{\"colorbar\":{\"outlinewidth\":1,\"tickcolor\":\"rgb(36,36,36)\",\"ticks\":\"outside\"},\"colorscale\":[[0.0,\"#440154\"],[0.1111111111111111,\"#482878\"],[0.2222222222222222,\"#3e4989\"],[0.3333333333333333,\"#31688e\"],[0.4444444444444444,\"#26828e\"],[0.5555555555555556,\"#1f9e89\"],[0.6666666666666666,\"#35b779\"],[0.7777777777777778,\"#6ece58\"],[0.8888888888888888,\"#b5de2b\"],[1.0,\"#fde725\"]],\"type\":\"histogram2dcontour\"}],\"histogram2d\":[{\"colorbar\":{\"outlinewidth\":1,\"tickcolor\":\"rgb(36,36,36)\",\"ticks\":\"outside\"},\"colorscale\":[[0.0,\"#440154\"],[0.1111111111111111,\"#482878\"],[0.2222222222222222,\"#3e4989\"],[0.3333333333333333,\"#31688e\"],[0.4444444444444444,\"#26828e\"],[0.5555555555555556,\"#1f9e89\"],[0.6666666666666666,\"#35b779\"],[0.7777777777777778,\"#6ece58\"],[0.8888888888888888,\"#b5de2b\"],[1.0,\"#fde725\"]],\"type\":\"histogram2d\"}],\"histogram\":[{\"marker\":{\"line\":{\"color\":\"white\",\"width\":0.6}},\"type\":\"histogram\"}],\"mesh3d\":[{\"colorbar\":{\"outlinewidth\":1,\"tickcolor\":\"rgb(36,36,36)\",\"ticks\":\"outside\"},\"type\":\"mesh3d\"}],\"parcoords\":[{\"line\":{\"colorbar\":{\"outlinewidth\":1,\"tickcolor\":\"rgb(36,36,36)\",\"ticks\":\"outside\"}},\"type\":\"parcoords\"}],\"pie\":[{\"automargin\":true,\"type\":\"pie\"}],\"scatter3d\":[{\"line\":{\"colorbar\":{\"outlinewidth\":1,\"tickcolor\":\"rgb(36,36,36)\",\"ticks\":\"outside\"}},\"marker\":{\"colorbar\":{\"outlinewidth\":1,\"tickcolor\":\"rgb(36,36,36)\",\"ticks\":\"outside\"}},\"type\":\"scatter3d\"}],\"scattercarpet\":[{\"marker\":{\"colorbar\":{\"outlinewidth\":1,\"tickcolor\":\"rgb(36,36,36)\",\"ticks\":\"outside\"}},\"type\":\"scattercarpet\"}],\"scattergeo\":[{\"marker\":{\"colorbar\":{\"outlinewidth\":1,\"tickcolor\":\"rgb(36,36,36)\",\"ticks\":\"outside\"}},\"type\":\"scattergeo\"}],\"scattergl\":[{\"marker\":{\"colorbar\":{\"outlinewidth\":1,\"tickcolor\":\"rgb(36,36,36)\",\"ticks\":\"outside\"}},\"type\":\"scattergl\"}],\"scattermapbox\":[{\"marker\":{\"colorbar\":{\"outlinewidth\":1,\"tickcolor\":\"rgb(36,36,36)\",\"ticks\":\"outside\"}},\"type\":\"scattermapbox\"}],\"scatterpolargl\":[{\"marker\":{\"colorbar\":{\"outlinewidth\":1,\"tickcolor\":\"rgb(36,36,36)\",\"ticks\":\"outside\"}},\"type\":\"scatterpolargl\"}],\"scatterpolar\":[{\"marker\":{\"colorbar\":{\"outlinewidth\":1,\"tickcolor\":\"rgb(36,36,36)\",\"ticks\":\"outside\"}},\"type\":\"scatterpolar\"}],\"scatter\":[{\"fillpattern\":{\"fillmode\":\"overlay\",\"size\":10,\"solidity\":0.2},\"type\":\"scatter\"}],\"scatterternary\":[{\"marker\":{\"colorbar\":{\"outlinewidth\":1,\"tickcolor\":\"rgb(36,36,36)\",\"ticks\":\"outside\"}},\"type\":\"scatterternary\"}],\"surface\":[{\"colorbar\":{\"outlinewidth\":1,\"tickcolor\":\"rgb(36,36,36)\",\"ticks\":\"outside\"},\"colorscale\":[[0.0,\"#440154\"],[0.1111111111111111,\"#482878\"],[0.2222222222222222,\"#3e4989\"],[0.3333333333333333,\"#31688e\"],[0.4444444444444444,\"#26828e\"],[0.5555555555555556,\"#1f9e89\"],[0.6666666666666666,\"#35b779\"],[0.7777777777777778,\"#6ece58\"],[0.8888888888888888,\"#b5de2b\"],[1.0,\"#fde725\"]],\"type\":\"surface\"}],\"table\":[{\"cells\":{\"fill\":{\"color\":\"rgb(237,237,237)\"},\"line\":{\"color\":\"white\"}},\"header\":{\"fill\":{\"color\":\"rgb(217,217,217)\"},\"line\":{\"color\":\"white\"}},\"type\":\"table\"}]},\"layout\":{\"annotationdefaults\":{\"arrowhead\":0,\"arrowwidth\":1},\"autotypenumbers\":\"strict\",\"coloraxis\":{\"colorbar\":{\"outlinewidth\":1,\"tickcolor\":\"rgb(36,36,36)\",\"ticks\":\"outside\"}},\"colorscale\":{\"diverging\":[[0.0,\"rgb(103,0,31)\"],[0.1,\"rgb(178,24,43)\"],[0.2,\"rgb(214,96,77)\"],[0.3,\"rgb(244,165,130)\"],[0.4,\"rgb(253,219,199)\"],[0.5,\"rgb(247,247,247)\"],[0.6,\"rgb(209,229,240)\"],[0.7,\"rgb(146,197,222)\"],[0.8,\"rgb(67,147,195)\"],[0.9,\"rgb(33,102,172)\"],[1.0,\"rgb(5,48,97)\"]],\"sequential\":[[0.0,\"#440154\"],[0.1111111111111111,\"#482878\"],[0.2222222222222222,\"#3e4989\"],[0.3333333333333333,\"#31688e\"],[0.4444444444444444,\"#26828e\"],[0.5555555555555556,\"#1f9e89\"],[0.6666666666666666,\"#35b779\"],[0.7777777777777778,\"#6ece58\"],[0.8888888888888888,\"#b5de2b\"],[1.0,\"#fde725\"]],\"sequentialminus\":[[0.0,\"#440154\"],[0.1111111111111111,\"#482878\"],[0.2222222222222222,\"#3e4989\"],[0.3333333333333333,\"#31688e\"],[0.4444444444444444,\"#26828e\"],[0.5555555555555556,\"#1f9e89\"],[0.6666666666666666,\"#35b779\"],[0.7777777777777778,\"#6ece58\"],[0.8888888888888888,\"#b5de2b\"],[1.0,\"#fde725\"]]},\"colorway\":[\"#1F77B4\",\"#FF7F0E\",\"#2CA02C\",\"#D62728\",\"#9467BD\",\"#8C564B\",\"#E377C2\",\"#7F7F7F\",\"#BCBD22\",\"#17BECF\"],\"font\":{\"color\":\"rgb(36,36,36)\"},\"geo\":{\"bgcolor\":\"white\",\"lakecolor\":\"white\",\"landcolor\":\"white\",\"showlakes\":true,\"showland\":true,\"subunitcolor\":\"white\"},\"hoverlabel\":{\"align\":\"left\"},\"hovermode\":\"closest\",\"mapbox\":{\"style\":\"light\"},\"paper_bgcolor\":\"white\",\"plot_bgcolor\":\"white\",\"polar\":{\"angularaxis\":{\"gridcolor\":\"rgb(232,232,232)\",\"linecolor\":\"rgb(36,36,36)\",\"showgrid\":false,\"showline\":true,\"ticks\":\"outside\"},\"bgcolor\":\"white\",\"radialaxis\":{\"gridcolor\":\"rgb(232,232,232)\",\"linecolor\":\"rgb(36,36,36)\",\"showgrid\":false,\"showline\":true,\"ticks\":\"outside\"}},\"scene\":{\"xaxis\":{\"backgroundcolor\":\"white\",\"gridcolor\":\"rgb(232,232,232)\",\"gridwidth\":2,\"linecolor\":\"rgb(36,36,36)\",\"showbackground\":true,\"showgrid\":false,\"showline\":true,\"ticks\":\"outside\",\"zeroline\":false,\"zerolinecolor\":\"rgb(36,36,36)\"},\"yaxis\":{\"backgroundcolor\":\"white\",\"gridcolor\":\"rgb(232,232,232)\",\"gridwidth\":2,\"linecolor\":\"rgb(36,36,36)\",\"showbackground\":true,\"showgrid\":false,\"showline\":true,\"ticks\":\"outside\",\"zeroline\":false,\"zerolinecolor\":\"rgb(36,36,36)\"},\"zaxis\":{\"backgroundcolor\":\"white\",\"gridcolor\":\"rgb(232,232,232)\",\"gridwidth\":2,\"linecolor\":\"rgb(36,36,36)\",\"showbackground\":true,\"showgrid\":false,\"showline\":true,\"ticks\":\"outside\",\"zeroline\":false,\"zerolinecolor\":\"rgb(36,36,36)\"}},\"shapedefaults\":{\"fillcolor\":\"black\",\"line\":{\"width\":0},\"opacity\":0.3},\"ternary\":{\"aaxis\":{\"gridcolor\":\"rgb(232,232,232)\",\"linecolor\":\"rgb(36,36,36)\",\"showgrid\":false,\"showline\":true,\"ticks\":\"outside\"},\"baxis\":{\"gridcolor\":\"rgb(232,232,232)\",\"linecolor\":\"rgb(36,36,36)\",\"showgrid\":false,\"showline\":true,\"ticks\":\"outside\"},\"bgcolor\":\"white\",\"caxis\":{\"gridcolor\":\"rgb(232,232,232)\",\"linecolor\":\"rgb(36,36,36)\",\"showgrid\":false,\"showline\":true,\"ticks\":\"outside\"}},\"title\":{\"x\":0.05},\"xaxis\":{\"automargin\":true,\"gridcolor\":\"rgb(232,232,232)\",\"linecolor\":\"rgb(36,36,36)\",\"showgrid\":false,\"showline\":true,\"ticks\":\"outside\",\"title\":{\"standoff\":15},\"zeroline\":false,\"zerolinecolor\":\"rgb(36,36,36)\"},\"yaxis\":{\"automargin\":true,\"gridcolor\":\"rgb(232,232,232)\",\"linecolor\":\"rgb(36,36,36)\",\"showgrid\":false,\"showline\":true,\"ticks\":\"outside\",\"title\":{\"standoff\":15},\"zeroline\":false,\"zerolinecolor\":\"rgb(36,36,36)\"}}},\"xaxis\":{\"anchor\":\"y\",\"domain\":[0.0,1.0],\"title\":{\"text\":\"Model\"},\"tickfont\":{\"size\":12},\"showline\":false,\"showgrid\":false},\"yaxis\":{\"anchor\":\"x\",\"domain\":[0.0,1.0],\"title\":{\"text\":\"Accuracy\"},\"tickfont\":{\"size\":12},\"showgrid\":true,\"gridcolor\":\"lightgrey\"},\"legend\":{\"tracegroupgap\":0},\"title\":{\"text\":\"Test AUC Comparison\",\"x\":0.5,\"xanchor\":\"center\"},\"barmode\":\"relative\",\"height\":400,\"width\":500,\"margin\":{\"l\":20,\"r\":20,\"t\":40,\"b\":20},\"font\":{\"size\":12,\"family\":\"Arial\"},\"showlegend\":false},                        {\"responsive\": true}                    ).then(function(){\n",
       "                            \n",
       "var gd = document.getElementById('5405a8ad-77f7-43ad-8902-054a2c361515');\n",
       "var x = new MutationObserver(function (mutations, observer) {{\n",
       "        var display = window.getComputedStyle(gd).display;\n",
       "        if (!display || display === 'none') {{\n",
       "            console.log([gd, 'removed!']);\n",
       "            Plotly.purge(gd);\n",
       "            observer.disconnect();\n",
       "        }}\n",
       "}});\n",
       "\n",
       "// Listen for the removal of the full notebook cells\n",
       "var notebookContainer = gd.closest('#notebook-container');\n",
       "if (notebookContainer) {{\n",
       "    x.observe(notebookContainer, {childList: true});\n",
       "}}\n",
       "\n",
       "// Listen for the clearing of the current output cell\n",
       "var outputEl = gd.closest('.output');\n",
       "if (outputEl) {{\n",
       "    x.observe(outputEl, {childList: true});\n",
       "}}\n",
       "\n",
       "                        })                };                });            </script>        </div>"
      ]
     },
     "metadata": {},
     "output_type": "display_data"
    }
   ],
   "source": [
    "# Plot test accuracies\n",
    "fig = plot_model_comparison(test_accuracies_dict)\n",
    "fig.show() # Show the plot"
   ]
  },
  {
   "cell_type": "code",
   "execution_count": 10,
   "metadata": {},
   "outputs": [
    {
     "data": {
      "application/vnd.plotly.v1+json": {
       "config": {
        "plotlyServerURL": "https://plot.ly"
       },
       "data": [
        {
         "coloraxis": "coloraxis",
         "hovertemplate": "Model: %{x}<br>Model: %{y}<br>Average Overlap: %{z}<extra></extra>",
         "name": "0",
         "type": "heatmap",
         "x": [
          "FMCIBExtractor",
          "CTFMExtractor",
          "PyramidExtractorVar",
          "PyramidExtractorNoVar",
          "VISTA3DExtractor",
          "VocoExtractor",
          "SUPREMExtractor",
          "MerlinExtractor",
          "ModelsGenExtractor"
         ],
         "xaxis": "x",
         "y": [
          "FMCIBExtractor",
          "CTFMExtractor",
          "PyramidExtractorVar",
          "PyramidExtractorNoVar",
          "VISTA3DExtractor",
          "VocoExtractor",
          "SUPREMExtractor",
          "MerlinExtractor",
          "ModelsGenExtractor"
         ],
         "yaxis": "y",
         "z": [
          [
           null,
           2.548611111111111,
           2.1805555555555554,
           1.625,
           3.423611111111111,
           1.0625,
           1.7916666666666667,
           1.8611111111111112,
           3.423611111111111
          ],
          [
           2.548611111111111,
           null,
           1.1319444444444444,
           1.0486111111111112,
           4.277777777777778,
           0.75,
           1.8888888888888888,
           1.4652777777777777,
           3.7847222222222223
          ],
          [
           2.1805555555555554,
           1.1319444444444444,
           null,
           1.3402777777777777,
           1.7847222222222223,
           0.6736111111111112,
           1.2291666666666667,
           1.3819444444444444,
           1.7777777777777777
          ],
          [
           1.625,
           1.0486111111111112,
           1.3402777777777777,
           null,
           1.4375,
           0.7569444444444444,
           0.9027777777777778,
           1.2222222222222223,
           1.3055555555555556
          ],
          [
           3.423611111111111,
           4.277777777777778,
           1.7847222222222223,
           1.4375,
           null,
           0.9513888888888888,
           2.4930555555555554,
           2.0069444444444446,
           4.520833333333333
          ],
          [
           1.0625,
           0.75,
           0.6736111111111112,
           0.7569444444444444,
           0.9513888888888888,
           null,
           0.8958333333333334,
           0.7569444444444444,
           0.9166666666666666
          ],
          [
           1.7916666666666667,
           1.8888888888888888,
           1.2291666666666667,
           0.9027777777777778,
           2.4930555555555554,
           0.8958333333333334,
           null,
           1.1527777777777777,
           2.2152777777777777
          ],
          [
           1.8611111111111112,
           1.4652777777777777,
           1.3819444444444444,
           1.2222222222222223,
           2.0069444444444446,
           0.7569444444444444,
           1.1527777777777777,
           null,
           1.9444444444444444
          ],
          [
           3.423611111111111,
           3.7847222222222223,
           1.7777777777777777,
           1.3055555555555556,
           4.520833333333333,
           0.9166666666666666,
           2.2152777777777777,
           1.9444444444444444,
           null
          ]
         ]
        }
       ],
       "layout": {
        "coloraxis": {
         "colorbar": {
          "title": {
           "text": "Average Overlap"
          }
         },
         "colorscale": [
          [
           0,
           "rgb(5,48,97)"
          ],
          [
           0.1,
           "rgb(33,102,172)"
          ],
          [
           0.2,
           "rgb(67,147,195)"
          ],
          [
           0.3,
           "rgb(146,197,222)"
          ],
          [
           0.4,
           "rgb(209,229,240)"
          ],
          [
           0.5,
           "rgb(247,247,247)"
          ],
          [
           0.6,
           "rgb(253,219,199)"
          ],
          [
           0.7,
           "rgb(244,165,130)"
          ],
          [
           0.8,
           "rgb(214,96,77)"
          ],
          [
           0.9,
           "rgb(178,24,43)"
          ],
          [
           1,
           "rgb(103,0,31)"
          ]
         ]
        },
        "margin": {
         "t": 60
        },
        "template": {
         "data": {
          "bar": [
           {
            "error_x": {
             "color": "rgb(36,36,36)"
            },
            "error_y": {
             "color": "rgb(36,36,36)"
            },
            "marker": {
             "line": {
              "color": "white",
              "width": 0.5
             },
             "pattern": {
              "fillmode": "overlay",
              "size": 10,
              "solidity": 0.2
             }
            },
            "type": "bar"
           }
          ],
          "barpolar": [
           {
            "marker": {
             "line": {
              "color": "white",
              "width": 0.5
             },
             "pattern": {
              "fillmode": "overlay",
              "size": 10,
              "solidity": 0.2
             }
            },
            "type": "barpolar"
           }
          ],
          "carpet": [
           {
            "aaxis": {
             "endlinecolor": "rgb(36,36,36)",
             "gridcolor": "white",
             "linecolor": "white",
             "minorgridcolor": "white",
             "startlinecolor": "rgb(36,36,36)"
            },
            "baxis": {
             "endlinecolor": "rgb(36,36,36)",
             "gridcolor": "white",
             "linecolor": "white",
             "minorgridcolor": "white",
             "startlinecolor": "rgb(36,36,36)"
            },
            "type": "carpet"
           }
          ],
          "choropleth": [
           {
            "colorbar": {
             "outlinewidth": 1,
             "tickcolor": "rgb(36,36,36)",
             "ticks": "outside"
            },
            "type": "choropleth"
           }
          ],
          "contour": [
           {
            "colorbar": {
             "outlinewidth": 1,
             "tickcolor": "rgb(36,36,36)",
             "ticks": "outside"
            },
            "colorscale": [
             [
              0,
              "#440154"
             ],
             [
              0.1111111111111111,
              "#482878"
             ],
             [
              0.2222222222222222,
              "#3e4989"
             ],
             [
              0.3333333333333333,
              "#31688e"
             ],
             [
              0.4444444444444444,
              "#26828e"
             ],
             [
              0.5555555555555556,
              "#1f9e89"
             ],
             [
              0.6666666666666666,
              "#35b779"
             ],
             [
              0.7777777777777778,
              "#6ece58"
             ],
             [
              0.8888888888888888,
              "#b5de2b"
             ],
             [
              1,
              "#fde725"
             ]
            ],
            "type": "contour"
           }
          ],
          "contourcarpet": [
           {
            "colorbar": {
             "outlinewidth": 1,
             "tickcolor": "rgb(36,36,36)",
             "ticks": "outside"
            },
            "type": "contourcarpet"
           }
          ],
          "heatmap": [
           {
            "colorbar": {
             "outlinewidth": 1,
             "tickcolor": "rgb(36,36,36)",
             "ticks": "outside"
            },
            "colorscale": [
             [
              0,
              "#440154"
             ],
             [
              0.1111111111111111,
              "#482878"
             ],
             [
              0.2222222222222222,
              "#3e4989"
             ],
             [
              0.3333333333333333,
              "#31688e"
             ],
             [
              0.4444444444444444,
              "#26828e"
             ],
             [
              0.5555555555555556,
              "#1f9e89"
             ],
             [
              0.6666666666666666,
              "#35b779"
             ],
             [
              0.7777777777777778,
              "#6ece58"
             ],
             [
              0.8888888888888888,
              "#b5de2b"
             ],
             [
              1,
              "#fde725"
             ]
            ],
            "type": "heatmap"
           }
          ],
          "heatmapgl": [
           {
            "colorbar": {
             "outlinewidth": 1,
             "tickcolor": "rgb(36,36,36)",
             "ticks": "outside"
            },
            "colorscale": [
             [
              0,
              "#440154"
             ],
             [
              0.1111111111111111,
              "#482878"
             ],
             [
              0.2222222222222222,
              "#3e4989"
             ],
             [
              0.3333333333333333,
              "#31688e"
             ],
             [
              0.4444444444444444,
              "#26828e"
             ],
             [
              0.5555555555555556,
              "#1f9e89"
             ],
             [
              0.6666666666666666,
              "#35b779"
             ],
             [
              0.7777777777777778,
              "#6ece58"
             ],
             [
              0.8888888888888888,
              "#b5de2b"
             ],
             [
              1,
              "#fde725"
             ]
            ],
            "type": "heatmapgl"
           }
          ],
          "histogram": [
           {
            "marker": {
             "line": {
              "color": "white",
              "width": 0.6
             }
            },
            "type": "histogram"
           }
          ],
          "histogram2d": [
           {
            "colorbar": {
             "outlinewidth": 1,
             "tickcolor": "rgb(36,36,36)",
             "ticks": "outside"
            },
            "colorscale": [
             [
              0,
              "#440154"
             ],
             [
              0.1111111111111111,
              "#482878"
             ],
             [
              0.2222222222222222,
              "#3e4989"
             ],
             [
              0.3333333333333333,
              "#31688e"
             ],
             [
              0.4444444444444444,
              "#26828e"
             ],
             [
              0.5555555555555556,
              "#1f9e89"
             ],
             [
              0.6666666666666666,
              "#35b779"
             ],
             [
              0.7777777777777778,
              "#6ece58"
             ],
             [
              0.8888888888888888,
              "#b5de2b"
             ],
             [
              1,
              "#fde725"
             ]
            ],
            "type": "histogram2d"
           }
          ],
          "histogram2dcontour": [
           {
            "colorbar": {
             "outlinewidth": 1,
             "tickcolor": "rgb(36,36,36)",
             "ticks": "outside"
            },
            "colorscale": [
             [
              0,
              "#440154"
             ],
             [
              0.1111111111111111,
              "#482878"
             ],
             [
              0.2222222222222222,
              "#3e4989"
             ],
             [
              0.3333333333333333,
              "#31688e"
             ],
             [
              0.4444444444444444,
              "#26828e"
             ],
             [
              0.5555555555555556,
              "#1f9e89"
             ],
             [
              0.6666666666666666,
              "#35b779"
             ],
             [
              0.7777777777777778,
              "#6ece58"
             ],
             [
              0.8888888888888888,
              "#b5de2b"
             ],
             [
              1,
              "#fde725"
             ]
            ],
            "type": "histogram2dcontour"
           }
          ],
          "mesh3d": [
           {
            "colorbar": {
             "outlinewidth": 1,
             "tickcolor": "rgb(36,36,36)",
             "ticks": "outside"
            },
            "type": "mesh3d"
           }
          ],
          "parcoords": [
           {
            "line": {
             "colorbar": {
              "outlinewidth": 1,
              "tickcolor": "rgb(36,36,36)",
              "ticks": "outside"
             }
            },
            "type": "parcoords"
           }
          ],
          "pie": [
           {
            "automargin": true,
            "type": "pie"
           }
          ],
          "scatter": [
           {
            "fillpattern": {
             "fillmode": "overlay",
             "size": 10,
             "solidity": 0.2
            },
            "type": "scatter"
           }
          ],
          "scatter3d": [
           {
            "line": {
             "colorbar": {
              "outlinewidth": 1,
              "tickcolor": "rgb(36,36,36)",
              "ticks": "outside"
             }
            },
            "marker": {
             "colorbar": {
              "outlinewidth": 1,
              "tickcolor": "rgb(36,36,36)",
              "ticks": "outside"
             }
            },
            "type": "scatter3d"
           }
          ],
          "scattercarpet": [
           {
            "marker": {
             "colorbar": {
              "outlinewidth": 1,
              "tickcolor": "rgb(36,36,36)",
              "ticks": "outside"
             }
            },
            "type": "scattercarpet"
           }
          ],
          "scattergeo": [
           {
            "marker": {
             "colorbar": {
              "outlinewidth": 1,
              "tickcolor": "rgb(36,36,36)",
              "ticks": "outside"
             }
            },
            "type": "scattergeo"
           }
          ],
          "scattergl": [
           {
            "marker": {
             "colorbar": {
              "outlinewidth": 1,
              "tickcolor": "rgb(36,36,36)",
              "ticks": "outside"
             }
            },
            "type": "scattergl"
           }
          ],
          "scattermapbox": [
           {
            "marker": {
             "colorbar": {
              "outlinewidth": 1,
              "tickcolor": "rgb(36,36,36)",
              "ticks": "outside"
             }
            },
            "type": "scattermapbox"
           }
          ],
          "scatterpolar": [
           {
            "marker": {
             "colorbar": {
              "outlinewidth": 1,
              "tickcolor": "rgb(36,36,36)",
              "ticks": "outside"
             }
            },
            "type": "scatterpolar"
           }
          ],
          "scatterpolargl": [
           {
            "marker": {
             "colorbar": {
              "outlinewidth": 1,
              "tickcolor": "rgb(36,36,36)",
              "ticks": "outside"
             }
            },
            "type": "scatterpolargl"
           }
          ],
          "scatterternary": [
           {
            "marker": {
             "colorbar": {
              "outlinewidth": 1,
              "tickcolor": "rgb(36,36,36)",
              "ticks": "outside"
             }
            },
            "type": "scatterternary"
           }
          ],
          "surface": [
           {
            "colorbar": {
             "outlinewidth": 1,
             "tickcolor": "rgb(36,36,36)",
             "ticks": "outside"
            },
            "colorscale": [
             [
              0,
              "#440154"
             ],
             [
              0.1111111111111111,
              "#482878"
             ],
             [
              0.2222222222222222,
              "#3e4989"
             ],
             [
              0.3333333333333333,
              "#31688e"
             ],
             [
              0.4444444444444444,
              "#26828e"
             ],
             [
              0.5555555555555556,
              "#1f9e89"
             ],
             [
              0.6666666666666666,
              "#35b779"
             ],
             [
              0.7777777777777778,
              "#6ece58"
             ],
             [
              0.8888888888888888,
              "#b5de2b"
             ],
             [
              1,
              "#fde725"
             ]
            ],
            "type": "surface"
           }
          ],
          "table": [
           {
            "cells": {
             "fill": {
              "color": "rgb(237,237,237)"
             },
             "line": {
              "color": "white"
             }
            },
            "header": {
             "fill": {
              "color": "rgb(217,217,217)"
             },
             "line": {
              "color": "white"
             }
            },
            "type": "table"
           }
          ]
         },
         "layout": {
          "annotationdefaults": {
           "arrowhead": 0,
           "arrowwidth": 1
          },
          "autotypenumbers": "strict",
          "coloraxis": {
           "colorbar": {
            "outlinewidth": 1,
            "tickcolor": "rgb(36,36,36)",
            "ticks": "outside"
           }
          },
          "colorscale": {
           "diverging": [
            [
             0,
             "rgb(103,0,31)"
            ],
            [
             0.1,
             "rgb(178,24,43)"
            ],
            [
             0.2,
             "rgb(214,96,77)"
            ],
            [
             0.3,
             "rgb(244,165,130)"
            ],
            [
             0.4,
             "rgb(253,219,199)"
            ],
            [
             0.5,
             "rgb(247,247,247)"
            ],
            [
             0.6,
             "rgb(209,229,240)"
            ],
            [
             0.7,
             "rgb(146,197,222)"
            ],
            [
             0.8,
             "rgb(67,147,195)"
            ],
            [
             0.9,
             "rgb(33,102,172)"
            ],
            [
             1,
             "rgb(5,48,97)"
            ]
           ],
           "sequential": [
            [
             0,
             "#440154"
            ],
            [
             0.1111111111111111,
             "#482878"
            ],
            [
             0.2222222222222222,
             "#3e4989"
            ],
            [
             0.3333333333333333,
             "#31688e"
            ],
            [
             0.4444444444444444,
             "#26828e"
            ],
            [
             0.5555555555555556,
             "#1f9e89"
            ],
            [
             0.6666666666666666,
             "#35b779"
            ],
            [
             0.7777777777777778,
             "#6ece58"
            ],
            [
             0.8888888888888888,
             "#b5de2b"
            ],
            [
             1,
             "#fde725"
            ]
           ],
           "sequentialminus": [
            [
             0,
             "#440154"
            ],
            [
             0.1111111111111111,
             "#482878"
            ],
            [
             0.2222222222222222,
             "#3e4989"
            ],
            [
             0.3333333333333333,
             "#31688e"
            ],
            [
             0.4444444444444444,
             "#26828e"
            ],
            [
             0.5555555555555556,
             "#1f9e89"
            ],
            [
             0.6666666666666666,
             "#35b779"
            ],
            [
             0.7777777777777778,
             "#6ece58"
            ],
            [
             0.8888888888888888,
             "#b5de2b"
            ],
            [
             1,
             "#fde725"
            ]
           ]
          },
          "colorway": [
           "#1F77B4",
           "#FF7F0E",
           "#2CA02C",
           "#D62728",
           "#9467BD",
           "#8C564B",
           "#E377C2",
           "#7F7F7F",
           "#BCBD22",
           "#17BECF"
          ],
          "font": {
           "color": "rgb(36,36,36)"
          },
          "geo": {
           "bgcolor": "white",
           "lakecolor": "white",
           "landcolor": "white",
           "showlakes": true,
           "showland": true,
           "subunitcolor": "white"
          },
          "hoverlabel": {
           "align": "left"
          },
          "hovermode": "closest",
          "mapbox": {
           "style": "light"
          },
          "paper_bgcolor": "white",
          "plot_bgcolor": "white",
          "polar": {
           "angularaxis": {
            "gridcolor": "rgb(232,232,232)",
            "linecolor": "rgb(36,36,36)",
            "showgrid": false,
            "showline": true,
            "ticks": "outside"
           },
           "bgcolor": "white",
           "radialaxis": {
            "gridcolor": "rgb(232,232,232)",
            "linecolor": "rgb(36,36,36)",
            "showgrid": false,
            "showline": true,
            "ticks": "outside"
           }
          },
          "scene": {
           "xaxis": {
            "backgroundcolor": "white",
            "gridcolor": "rgb(232,232,232)",
            "gridwidth": 2,
            "linecolor": "rgb(36,36,36)",
            "showbackground": true,
            "showgrid": false,
            "showline": true,
            "ticks": "outside",
            "zeroline": false,
            "zerolinecolor": "rgb(36,36,36)"
           },
           "yaxis": {
            "backgroundcolor": "white",
            "gridcolor": "rgb(232,232,232)",
            "gridwidth": 2,
            "linecolor": "rgb(36,36,36)",
            "showbackground": true,
            "showgrid": false,
            "showline": true,
            "ticks": "outside",
            "zeroline": false,
            "zerolinecolor": "rgb(36,36,36)"
           },
           "zaxis": {
            "backgroundcolor": "white",
            "gridcolor": "rgb(232,232,232)",
            "gridwidth": 2,
            "linecolor": "rgb(36,36,36)",
            "showbackground": true,
            "showgrid": false,
            "showline": true,
            "ticks": "outside",
            "zeroline": false,
            "zerolinecolor": "rgb(36,36,36)"
           }
          },
          "shapedefaults": {
           "fillcolor": "black",
           "line": {
            "width": 0
           },
           "opacity": 0.3
          },
          "ternary": {
           "aaxis": {
            "gridcolor": "rgb(232,232,232)",
            "linecolor": "rgb(36,36,36)",
            "showgrid": false,
            "showline": true,
            "ticks": "outside"
           },
           "baxis": {
            "gridcolor": "rgb(232,232,232)",
            "linecolor": "rgb(36,36,36)",
            "showgrid": false,
            "showline": true,
            "ticks": "outside"
           },
           "bgcolor": "white",
           "caxis": {
            "gridcolor": "rgb(232,232,232)",
            "linecolor": "rgb(36,36,36)",
            "showgrid": false,
            "showline": true,
            "ticks": "outside"
           }
          },
          "title": {
           "x": 0.05
          },
          "xaxis": {
           "automargin": true,
           "gridcolor": "rgb(232,232,232)",
           "linecolor": "rgb(36,36,36)",
           "showgrid": false,
           "showline": true,
           "ticks": "outside",
           "title": {
            "standoff": 15
           },
           "zeroline": false,
           "zerolinecolor": "rgb(36,36,36)"
          },
          "yaxis": {
           "automargin": true,
           "gridcolor": "rgb(232,232,232)",
           "linecolor": "rgb(36,36,36)",
           "showgrid": false,
           "showline": true,
           "ticks": "outside",
           "title": {
            "standoff": 15
           },
           "zeroline": false,
           "zerolinecolor": "rgb(36,36,36)"
          }
         }
        },
        "title": {
         "text": "Mutual k-Nearest Neighbors Overlap Scores"
        },
        "width": 600,
        "xaxis": {
         "anchor": "y",
         "constrain": "domain",
         "domain": [
          0,
          1
         ],
         "scaleanchor": "y",
         "tickangle": 45,
         "title": {
          "text": "Model"
         }
        },
        "yaxis": {
         "anchor": "x",
         "autorange": "reversed",
         "constrain": "domain",
         "domain": [
          0,
          1
         ],
         "title": {
          "text": "Model"
         }
        }
       }
      },
      "text/html": [
       "<div>                            <div id=\"ca3da8f0-e0e3-4245-9f4a-837f70664809\" class=\"plotly-graph-div\" style=\"height:525px; width:600px;\"></div>            <script type=\"text/javascript\">                require([\"plotly\"], function(Plotly) {                    window.PLOTLYENV=window.PLOTLYENV || {};                                    if (document.getElementById(\"ca3da8f0-e0e3-4245-9f4a-837f70664809\")) {                    Plotly.newPlot(                        \"ca3da8f0-e0e3-4245-9f4a-837f70664809\",                        [{\"coloraxis\":\"coloraxis\",\"name\":\"0\",\"x\":[\"FMCIBExtractor\",\"CTFMExtractor\",\"PyramidExtractorVar\",\"PyramidExtractorNoVar\",\"VISTA3DExtractor\",\"VocoExtractor\",\"SUPREMExtractor\",\"MerlinExtractor\",\"ModelsGenExtractor\"],\"y\":[\"FMCIBExtractor\",\"CTFMExtractor\",\"PyramidExtractorVar\",\"PyramidExtractorNoVar\",\"VISTA3DExtractor\",\"VocoExtractor\",\"SUPREMExtractor\",\"MerlinExtractor\",\"ModelsGenExtractor\"],\"z\":[[null,2.548611111111111,2.1805555555555554,1.625,3.423611111111111,1.0625,1.7916666666666667,1.8611111111111112,3.423611111111111],[2.548611111111111,null,1.1319444444444444,1.0486111111111112,4.277777777777778,0.75,1.8888888888888888,1.4652777777777777,3.7847222222222223],[2.1805555555555554,1.1319444444444444,null,1.3402777777777777,1.7847222222222223,0.6736111111111112,1.2291666666666667,1.3819444444444444,1.7777777777777777],[1.625,1.0486111111111112,1.3402777777777777,null,1.4375,0.7569444444444444,0.9027777777777778,1.2222222222222223,1.3055555555555556],[3.423611111111111,4.277777777777778,1.7847222222222223,1.4375,null,0.9513888888888888,2.4930555555555554,2.0069444444444446,4.520833333333333],[1.0625,0.75,0.6736111111111112,0.7569444444444444,0.9513888888888888,null,0.8958333333333334,0.7569444444444444,0.9166666666666666],[1.7916666666666667,1.8888888888888888,1.2291666666666667,0.9027777777777778,2.4930555555555554,0.8958333333333334,null,1.1527777777777777,2.2152777777777777],[1.8611111111111112,1.4652777777777777,1.3819444444444444,1.2222222222222223,2.0069444444444446,0.7569444444444444,1.1527777777777777,null,1.9444444444444444],[3.423611111111111,3.7847222222222223,1.7777777777777777,1.3055555555555556,4.520833333333333,0.9166666666666666,2.2152777777777777,1.9444444444444444,null]],\"type\":\"heatmap\",\"xaxis\":\"x\",\"yaxis\":\"y\",\"hovertemplate\":\"Model: %{x}\\u003cbr\\u003eModel: %{y}\\u003cbr\\u003eAverage Overlap: %{z}\\u003cextra\\u003e\\u003c\\u002fextra\\u003e\"}],                        {\"template\":{\"data\":{\"barpolar\":[{\"marker\":{\"line\":{\"color\":\"white\",\"width\":0.5},\"pattern\":{\"fillmode\":\"overlay\",\"size\":10,\"solidity\":0.2}},\"type\":\"barpolar\"}],\"bar\":[{\"error_x\":{\"color\":\"rgb(36,36,36)\"},\"error_y\":{\"color\":\"rgb(36,36,36)\"},\"marker\":{\"line\":{\"color\":\"white\",\"width\":0.5},\"pattern\":{\"fillmode\":\"overlay\",\"size\":10,\"solidity\":0.2}},\"type\":\"bar\"}],\"carpet\":[{\"aaxis\":{\"endlinecolor\":\"rgb(36,36,36)\",\"gridcolor\":\"white\",\"linecolor\":\"white\",\"minorgridcolor\":\"white\",\"startlinecolor\":\"rgb(36,36,36)\"},\"baxis\":{\"endlinecolor\":\"rgb(36,36,36)\",\"gridcolor\":\"white\",\"linecolor\":\"white\",\"minorgridcolor\":\"white\",\"startlinecolor\":\"rgb(36,36,36)\"},\"type\":\"carpet\"}],\"choropleth\":[{\"colorbar\":{\"outlinewidth\":1,\"tickcolor\":\"rgb(36,36,36)\",\"ticks\":\"outside\"},\"type\":\"choropleth\"}],\"contourcarpet\":[{\"colorbar\":{\"outlinewidth\":1,\"tickcolor\":\"rgb(36,36,36)\",\"ticks\":\"outside\"},\"type\":\"contourcarpet\"}],\"contour\":[{\"colorbar\":{\"outlinewidth\":1,\"tickcolor\":\"rgb(36,36,36)\",\"ticks\":\"outside\"},\"colorscale\":[[0.0,\"#440154\"],[0.1111111111111111,\"#482878\"],[0.2222222222222222,\"#3e4989\"],[0.3333333333333333,\"#31688e\"],[0.4444444444444444,\"#26828e\"],[0.5555555555555556,\"#1f9e89\"],[0.6666666666666666,\"#35b779\"],[0.7777777777777778,\"#6ece58\"],[0.8888888888888888,\"#b5de2b\"],[1.0,\"#fde725\"]],\"type\":\"contour\"}],\"heatmapgl\":[{\"colorbar\":{\"outlinewidth\":1,\"tickcolor\":\"rgb(36,36,36)\",\"ticks\":\"outside\"},\"colorscale\":[[0.0,\"#440154\"],[0.1111111111111111,\"#482878\"],[0.2222222222222222,\"#3e4989\"],[0.3333333333333333,\"#31688e\"],[0.4444444444444444,\"#26828e\"],[0.5555555555555556,\"#1f9e89\"],[0.6666666666666666,\"#35b779\"],[0.7777777777777778,\"#6ece58\"],[0.8888888888888888,\"#b5de2b\"],[1.0,\"#fde725\"]],\"type\":\"heatmapgl\"}],\"heatmap\":[{\"colorbar\":{\"outlinewidth\":1,\"tickcolor\":\"rgb(36,36,36)\",\"ticks\":\"outside\"},\"colorscale\":[[0.0,\"#440154\"],[0.1111111111111111,\"#482878\"],[0.2222222222222222,\"#3e4989\"],[0.3333333333333333,\"#31688e\"],[0.4444444444444444,\"#26828e\"],[0.5555555555555556,\"#1f9e89\"],[0.6666666666666666,\"#35b779\"],[0.7777777777777778,\"#6ece58\"],[0.8888888888888888,\"#b5de2b\"],[1.0,\"#fde725\"]],\"type\":\"heatmap\"}],\"histogram2dcontour\":[{\"colorbar\":{\"outlinewidth\":1,\"tickcolor\":\"rgb(36,36,36)\",\"ticks\":\"outside\"},\"colorscale\":[[0.0,\"#440154\"],[0.1111111111111111,\"#482878\"],[0.2222222222222222,\"#3e4989\"],[0.3333333333333333,\"#31688e\"],[0.4444444444444444,\"#26828e\"],[0.5555555555555556,\"#1f9e89\"],[0.6666666666666666,\"#35b779\"],[0.7777777777777778,\"#6ece58\"],[0.8888888888888888,\"#b5de2b\"],[1.0,\"#fde725\"]],\"type\":\"histogram2dcontour\"}],\"histogram2d\":[{\"colorbar\":{\"outlinewidth\":1,\"tickcolor\":\"rgb(36,36,36)\",\"ticks\":\"outside\"},\"colorscale\":[[0.0,\"#440154\"],[0.1111111111111111,\"#482878\"],[0.2222222222222222,\"#3e4989\"],[0.3333333333333333,\"#31688e\"],[0.4444444444444444,\"#26828e\"],[0.5555555555555556,\"#1f9e89\"],[0.6666666666666666,\"#35b779\"],[0.7777777777777778,\"#6ece58\"],[0.8888888888888888,\"#b5de2b\"],[1.0,\"#fde725\"]],\"type\":\"histogram2d\"}],\"histogram\":[{\"marker\":{\"line\":{\"color\":\"white\",\"width\":0.6}},\"type\":\"histogram\"}],\"mesh3d\":[{\"colorbar\":{\"outlinewidth\":1,\"tickcolor\":\"rgb(36,36,36)\",\"ticks\":\"outside\"},\"type\":\"mesh3d\"}],\"parcoords\":[{\"line\":{\"colorbar\":{\"outlinewidth\":1,\"tickcolor\":\"rgb(36,36,36)\",\"ticks\":\"outside\"}},\"type\":\"parcoords\"}],\"pie\":[{\"automargin\":true,\"type\":\"pie\"}],\"scatter3d\":[{\"line\":{\"colorbar\":{\"outlinewidth\":1,\"tickcolor\":\"rgb(36,36,36)\",\"ticks\":\"outside\"}},\"marker\":{\"colorbar\":{\"outlinewidth\":1,\"tickcolor\":\"rgb(36,36,36)\",\"ticks\":\"outside\"}},\"type\":\"scatter3d\"}],\"scattercarpet\":[{\"marker\":{\"colorbar\":{\"outlinewidth\":1,\"tickcolor\":\"rgb(36,36,36)\",\"ticks\":\"outside\"}},\"type\":\"scattercarpet\"}],\"scattergeo\":[{\"marker\":{\"colorbar\":{\"outlinewidth\":1,\"tickcolor\":\"rgb(36,36,36)\",\"ticks\":\"outside\"}},\"type\":\"scattergeo\"}],\"scattergl\":[{\"marker\":{\"colorbar\":{\"outlinewidth\":1,\"tickcolor\":\"rgb(36,36,36)\",\"ticks\":\"outside\"}},\"type\":\"scattergl\"}],\"scattermapbox\":[{\"marker\":{\"colorbar\":{\"outlinewidth\":1,\"tickcolor\":\"rgb(36,36,36)\",\"ticks\":\"outside\"}},\"type\":\"scattermapbox\"}],\"scatterpolargl\":[{\"marker\":{\"colorbar\":{\"outlinewidth\":1,\"tickcolor\":\"rgb(36,36,36)\",\"ticks\":\"outside\"}},\"type\":\"scatterpolargl\"}],\"scatterpolar\":[{\"marker\":{\"colorbar\":{\"outlinewidth\":1,\"tickcolor\":\"rgb(36,36,36)\",\"ticks\":\"outside\"}},\"type\":\"scatterpolar\"}],\"scatter\":[{\"fillpattern\":{\"fillmode\":\"overlay\",\"size\":10,\"solidity\":0.2},\"type\":\"scatter\"}],\"scatterternary\":[{\"marker\":{\"colorbar\":{\"outlinewidth\":1,\"tickcolor\":\"rgb(36,36,36)\",\"ticks\":\"outside\"}},\"type\":\"scatterternary\"}],\"surface\":[{\"colorbar\":{\"outlinewidth\":1,\"tickcolor\":\"rgb(36,36,36)\",\"ticks\":\"outside\"},\"colorscale\":[[0.0,\"#440154\"],[0.1111111111111111,\"#482878\"],[0.2222222222222222,\"#3e4989\"],[0.3333333333333333,\"#31688e\"],[0.4444444444444444,\"#26828e\"],[0.5555555555555556,\"#1f9e89\"],[0.6666666666666666,\"#35b779\"],[0.7777777777777778,\"#6ece58\"],[0.8888888888888888,\"#b5de2b\"],[1.0,\"#fde725\"]],\"type\":\"surface\"}],\"table\":[{\"cells\":{\"fill\":{\"color\":\"rgb(237,237,237)\"},\"line\":{\"color\":\"white\"}},\"header\":{\"fill\":{\"color\":\"rgb(217,217,217)\"},\"line\":{\"color\":\"white\"}},\"type\":\"table\"}]},\"layout\":{\"annotationdefaults\":{\"arrowhead\":0,\"arrowwidth\":1},\"autotypenumbers\":\"strict\",\"coloraxis\":{\"colorbar\":{\"outlinewidth\":1,\"tickcolor\":\"rgb(36,36,36)\",\"ticks\":\"outside\"}},\"colorscale\":{\"diverging\":[[0.0,\"rgb(103,0,31)\"],[0.1,\"rgb(178,24,43)\"],[0.2,\"rgb(214,96,77)\"],[0.3,\"rgb(244,165,130)\"],[0.4,\"rgb(253,219,199)\"],[0.5,\"rgb(247,247,247)\"],[0.6,\"rgb(209,229,240)\"],[0.7,\"rgb(146,197,222)\"],[0.8,\"rgb(67,147,195)\"],[0.9,\"rgb(33,102,172)\"],[1.0,\"rgb(5,48,97)\"]],\"sequential\":[[0.0,\"#440154\"],[0.1111111111111111,\"#482878\"],[0.2222222222222222,\"#3e4989\"],[0.3333333333333333,\"#31688e\"],[0.4444444444444444,\"#26828e\"],[0.5555555555555556,\"#1f9e89\"],[0.6666666666666666,\"#35b779\"],[0.7777777777777778,\"#6ece58\"],[0.8888888888888888,\"#b5de2b\"],[1.0,\"#fde725\"]],\"sequentialminus\":[[0.0,\"#440154\"],[0.1111111111111111,\"#482878\"],[0.2222222222222222,\"#3e4989\"],[0.3333333333333333,\"#31688e\"],[0.4444444444444444,\"#26828e\"],[0.5555555555555556,\"#1f9e89\"],[0.6666666666666666,\"#35b779\"],[0.7777777777777778,\"#6ece58\"],[0.8888888888888888,\"#b5de2b\"],[1.0,\"#fde725\"]]},\"colorway\":[\"#1F77B4\",\"#FF7F0E\",\"#2CA02C\",\"#D62728\",\"#9467BD\",\"#8C564B\",\"#E377C2\",\"#7F7F7F\",\"#BCBD22\",\"#17BECF\"],\"font\":{\"color\":\"rgb(36,36,36)\"},\"geo\":{\"bgcolor\":\"white\",\"lakecolor\":\"white\",\"landcolor\":\"white\",\"showlakes\":true,\"showland\":true,\"subunitcolor\":\"white\"},\"hoverlabel\":{\"align\":\"left\"},\"hovermode\":\"closest\",\"mapbox\":{\"style\":\"light\"},\"paper_bgcolor\":\"white\",\"plot_bgcolor\":\"white\",\"polar\":{\"angularaxis\":{\"gridcolor\":\"rgb(232,232,232)\",\"linecolor\":\"rgb(36,36,36)\",\"showgrid\":false,\"showline\":true,\"ticks\":\"outside\"},\"bgcolor\":\"white\",\"radialaxis\":{\"gridcolor\":\"rgb(232,232,232)\",\"linecolor\":\"rgb(36,36,36)\",\"showgrid\":false,\"showline\":true,\"ticks\":\"outside\"}},\"scene\":{\"xaxis\":{\"backgroundcolor\":\"white\",\"gridcolor\":\"rgb(232,232,232)\",\"gridwidth\":2,\"linecolor\":\"rgb(36,36,36)\",\"showbackground\":true,\"showgrid\":false,\"showline\":true,\"ticks\":\"outside\",\"zeroline\":false,\"zerolinecolor\":\"rgb(36,36,36)\"},\"yaxis\":{\"backgroundcolor\":\"white\",\"gridcolor\":\"rgb(232,232,232)\",\"gridwidth\":2,\"linecolor\":\"rgb(36,36,36)\",\"showbackground\":true,\"showgrid\":false,\"showline\":true,\"ticks\":\"outside\",\"zeroline\":false,\"zerolinecolor\":\"rgb(36,36,36)\"},\"zaxis\":{\"backgroundcolor\":\"white\",\"gridcolor\":\"rgb(232,232,232)\",\"gridwidth\":2,\"linecolor\":\"rgb(36,36,36)\",\"showbackground\":true,\"showgrid\":false,\"showline\":true,\"ticks\":\"outside\",\"zeroline\":false,\"zerolinecolor\":\"rgb(36,36,36)\"}},\"shapedefaults\":{\"fillcolor\":\"black\",\"line\":{\"width\":0},\"opacity\":0.3},\"ternary\":{\"aaxis\":{\"gridcolor\":\"rgb(232,232,232)\",\"linecolor\":\"rgb(36,36,36)\",\"showgrid\":false,\"showline\":true,\"ticks\":\"outside\"},\"baxis\":{\"gridcolor\":\"rgb(232,232,232)\",\"linecolor\":\"rgb(36,36,36)\",\"showgrid\":false,\"showline\":true,\"ticks\":\"outside\"},\"bgcolor\":\"white\",\"caxis\":{\"gridcolor\":\"rgb(232,232,232)\",\"linecolor\":\"rgb(36,36,36)\",\"showgrid\":false,\"showline\":true,\"ticks\":\"outside\"}},\"title\":{\"x\":0.05},\"xaxis\":{\"automargin\":true,\"gridcolor\":\"rgb(232,232,232)\",\"linecolor\":\"rgb(36,36,36)\",\"showgrid\":false,\"showline\":true,\"ticks\":\"outside\",\"title\":{\"standoff\":15},\"zeroline\":false,\"zerolinecolor\":\"rgb(36,36,36)\"},\"yaxis\":{\"automargin\":true,\"gridcolor\":\"rgb(232,232,232)\",\"linecolor\":\"rgb(36,36,36)\",\"showgrid\":false,\"showline\":true,\"ticks\":\"outside\",\"title\":{\"standoff\":15},\"zeroline\":false,\"zerolinecolor\":\"rgb(36,36,36)\"}}},\"xaxis\":{\"anchor\":\"y\",\"domain\":[0.0,1.0],\"scaleanchor\":\"y\",\"constrain\":\"domain\",\"title\":{\"text\":\"Model\"},\"tickangle\":45},\"yaxis\":{\"anchor\":\"x\",\"domain\":[0.0,1.0],\"autorange\":\"reversed\",\"constrain\":\"domain\",\"title\":{\"text\":\"Model\"}},\"coloraxis\":{\"colorbar\":{\"title\":{\"text\":\"Average Overlap\"}},\"colorscale\":[[0.0,\"rgb(5,48,97)\"],[0.1,\"rgb(33,102,172)\"],[0.2,\"rgb(67,147,195)\"],[0.3,\"rgb(146,197,222)\"],[0.4,\"rgb(209,229,240)\"],[0.5,\"rgb(247,247,247)\"],[0.6,\"rgb(253,219,199)\"],[0.7,\"rgb(244,165,130)\"],[0.8,\"rgb(214,96,77)\"],[0.9,\"rgb(178,24,43)\"],[1.0,\"rgb(103,0,31)\"]]},\"margin\":{\"t\":60},\"title\":{\"text\":\"Mutual k-Nearest Neighbors Overlap Scores\"},\"width\":600},                        {\"responsive\": true}                    ).then(function(){\n",
       "                            \n",
       "var gd = document.getElementById('ca3da8f0-e0e3-4245-9f4a-837f70664809');\n",
       "var x = new MutationObserver(function (mutations, observer) {{\n",
       "        var display = window.getComputedStyle(gd).display;\n",
       "        if (!display || display === 'none') {{\n",
       "            console.log([gd, 'removed!']);\n",
       "            Plotly.purge(gd);\n",
       "            observer.disconnect();\n",
       "        }}\n",
       "}});\n",
       "\n",
       "// Listen for the removal of the full notebook cells\n",
       "var notebookContainer = gd.closest('#notebook-container');\n",
       "if (notebookContainer) {{\n",
       "    x.observe(notebookContainer, {childList: true});\n",
       "}}\n",
       "\n",
       "// Listen for the clearing of the current output cell\n",
       "var outputEl = gd.closest('.output');\n",
       "if (outputEl) {{\n",
       "    x.observe(outputEl, {childList: true});\n",
       "}}\n",
       "\n",
       "                        })                };                });            </script>        </div>"
      ]
     },
     "metadata": {},
     "output_type": "display_data"
    }
   ],
   "source": [
    "model_features = extract_model_features(data)\n",
    "model_neighbors = compute_knn_indices(model_features, num_neighbors=10, metric=\"cosine\")\n",
    "overlap_matrix, model_list = compute_overlap_matrix(model_neighbors)\n",
    "fig = plot_overlap_matrix(overlap_matrix, model_list)\n",
    "fig.show()\n"
   ]
  },
  {
   "cell_type": "code",
   "execution_count": null,
   "metadata": {},
   "outputs": [],
   "source": []
  }
 ],
 "metadata": {
  "kernelspec": {
   "display_name": "lighter_dev",
   "language": "python",
   "name": "python3"
  },
  "language_info": {
   "codemirror_mode": {
    "name": "ipython",
    "version": 3
   },
   "file_extension": ".py",
   "mimetype": "text/x-python",
   "name": "python",
   "nbconvert_exporter": "python",
   "pygments_lexer": "ipython3",
   "version": "3.10.14"
  }
 },
 "nbformat": 4,
 "nbformat_minor": 4
}
