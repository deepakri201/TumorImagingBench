{
 "cells": [
  {
   "cell_type": "code",
   "execution_count": 17,
   "metadata": {},
   "outputs": [],
   "source": [
    "# Import necessary libraries\n",
    "\n",
    "import pandas as pd # For data manipulation and analysis\n",
    "import numpy as np # For numerical operations\n",
    "import pickle # For serializing and deserializing Python objects\n",
    "from modelling_utils import train_knn_classifier, evaluate_model, plot_model_comparison, split_shuffle_data"
   ]
  },
  {
   "cell_type": "code",
   "execution_count": 18,
   "metadata": {},
   "outputs": [],
   "source": [
    "# Load features from a pickle file\n",
    "feature_dict_path = \"/home/suraj/Repositories/FM-extractors-radiomics/evaluation/features/dlcs.pkl\" # Path to the pickle file containing features\n",
    "with open(feature_dict_path, 'rb') as file: # Open the file in read binary mode\n",
    "    data = pickle.load(file) # Load the data from the pickle file"
   ]
  },
  {
   "cell_type": "code",
   "execution_count": 19,
   "metadata": {},
   "outputs": [
    {
     "name": "stderr",
     "output_type": "stream",
     "text": [
      "[I 2025-01-22 16:27:52,366] A new study created in memory with name: no-name-ca864a21-ef41-4220-af68-82b44d266a48\n"
     ]
    },
    {
     "name": "stderr",
     "output_type": "stream",
     "text": [
      "[I 2025-01-22 16:27:52,444] Trial 0 finished with value: 0.5979670158697231 and parameters: {'k': 3}. Best is trial 0 with value: 0.5979670158697231.\n",
      "[I 2025-01-22 16:27:52,484] Trial 1 finished with value: 0.664765065864537 and parameters: {'k': 29}. Best is trial 1 with value: 0.664765065864537.\n",
      "[I 2025-01-22 16:27:52,531] Trial 2 finished with value: 0.6791826574006845 and parameters: {'k': 14}. Best is trial 2 with value: 0.6791826574006845.\n",
      "[I 2025-01-22 16:27:52,584] Trial 3 finished with value: 0.6869619334093974 and parameters: {'k': 11}. Best is trial 3 with value: 0.6869619334093974.\n",
      "[I 2025-01-22 16:27:52,635] Trial 4 finished with value: 0.6772637693185354 and parameters: {'k': 27}. Best is trial 3 with value: 0.6869619334093974.\n",
      "[I 2025-01-22 16:27:52,715] Trial 5 finished with value: 0.6971268540607821 and parameters: {'k': 25}. Best is trial 5 with value: 0.6971268540607821.\n",
      "[I 2025-01-22 16:27:52,821] Trial 6 finished with value: 0.6760709469971995 and parameters: {'k': 28}. Best is trial 5 with value: 0.6971268540607821.\n",
      "[I 2025-01-22 16:27:52,929] Trial 7 finished with value: 0.6908515714137538 and parameters: {'k': 12}. Best is trial 5 with value: 0.6971268540607821.\n",
      "[I 2025-01-22 16:27:52,979] Trial 8 finished with value: 0.7021055907063583 and parameters: {'k': 18}. Best is trial 8 with value: 0.7021055907063583.\n",
      "[I 2025-01-22 16:27:53,043] Trial 9 finished with value: 0.7151229125609377 and parameters: {'k': 23}. Best is trial 9 with value: 0.7151229125609377.\n",
      "[I 2025-01-22 16:27:53,099] Trial 10 finished with value: 0.652733118971061 and parameters: {'k': 6}. Best is trial 9 with value: 0.7151229125609377.\n",
      "[I 2025-01-22 16:27:53,219] Trial 11 finished with value: 0.7012239394253708 and parameters: {'k': 17}. Best is trial 9 with value: 0.7151229125609377.\n",
      "[I 2025-01-22 16:27:53,317] Trial 12 finished with value: 0.6418939943989213 and parameters: {'k': 9}. Best is trial 9 with value: 0.7151229125609377.\n",
      "[I 2025-01-22 16:27:53,361] Trial 13 finished with value: 0.6834871901255056 and parameters: {'k': 15}. Best is trial 9 with value: 0.7151229125609377.\n",
      "[I 2025-01-22 16:27:53,422] Trial 14 finished with value: 0.7066694326314698 and parameters: {'k': 24}. Best is trial 9 with value: 0.7151229125609377.\n",
      "[I 2025-01-22 16:27:53,467] Trial 15 finished with value: 0.6833316046053314 and parameters: {'k': 21}. Best is trial 9 with value: 0.7151229125609377.\n",
      "[I 2025-01-22 16:27:53,515] Trial 16 finished with value: 0.597863292189607 and parameters: {'k': 2}. Best is trial 9 with value: 0.7151229125609377.\n",
      "[I 2025-01-22 16:27:53,570] Trial 17 finished with value: 0.6698993880302873 and parameters: {'k': 30}. Best is trial 9 with value: 0.7151229125609377.\n",
      "[I 2025-01-22 16:27:53,694] Trial 18 finished with value: 0.6664765065864536 and parameters: {'k': 7}. Best is trial 9 with value: 0.7151229125609377.\n",
      "[I 2025-01-22 16:27:53,797] Trial 19 finished with value: 0.6520070532102478 and parameters: {'k': 5}. Best is trial 9 with value: 0.7151229125609377.\n",
      "[I 2025-01-22 16:27:53,961] Trial 20 finished with value: 0.6933409397365419 and parameters: {'k': 19}. Best is trial 9 with value: 0.7151229125609377.\n",
      "[I 2025-01-22 16:27:54,062] Trial 21 finished with value: 0.686132143968468 and parameters: {'k': 20}. Best is trial 9 with value: 0.7151229125609377.\n",
      "[I 2025-01-22 16:27:54,242] Trial 22 finished with value: 0.6628980396224458 and parameters: {'k': 10}. Best is trial 9 with value: 0.7151229125609377.\n",
      "[I 2025-01-22 16:27:54,385] Trial 23 finished with value: 0.6566746188154755 and parameters: {'k': 8}. Best is trial 9 with value: 0.7151229125609377.\n",
      "[I 2025-01-22 16:27:54,541] Trial 24 finished with value: 0.6817238875635308 and parameters: {'k': 26}. Best is trial 9 with value: 0.7151229125609377.\n",
      "[I 2025-01-22 16:27:54,713] Trial 25 finished with value: 0.6376931853542164 and parameters: {'k': 4}. Best is trial 9 with value: 0.7151229125609377.\n",
      "[I 2025-01-22 16:27:54,821] Trial 26 finished with value: 0.5421118141271652 and parameters: {'k': 1}. Best is trial 9 with value: 0.7151229125609377.\n",
      "[I 2025-01-22 16:27:54,900] Trial 27 finished with value: 0.7133077481589047 and parameters: {'k': 22}. Best is trial 9 with value: 0.7151229125609377.\n",
      "[I 2025-01-22 16:27:55,026] Trial 28 finished with value: 0.6927185976558448 and parameters: {'k': 16}. Best is trial 9 with value: 0.7151229125609377.\n",
      "[I 2025-01-22 16:27:55,214] Trial 29 finished with value: 0.6896587490924178 and parameters: {'k': 13}. Best is trial 9 with value: 0.7151229125609377.\n",
      "[I 2025-01-22 16:27:55,461] A new study created in memory with name: no-name-3cc148ef-c82d-4f8f-ae8e-bdc3203159aa\n",
      "[I 2025-01-22 16:27:55,538] Trial 0 finished with value: 0.522508038585209 and parameters: {'k': 3}. Best is trial 0 with value: 0.522508038585209.\n",
      "[I 2025-01-22 16:27:55,575] Trial 1 finished with value: 0.5414376102064101 and parameters: {'k': 29}. Best is trial 1 with value: 0.5414376102064101.\n",
      "[I 2025-01-22 16:27:55,610] Trial 2 finished with value: 0.5548698267814542 and parameters: {'k': 14}. Best is trial 2 with value: 0.5548698267814542.\n",
      "[I 2025-01-22 16:27:55,648] Trial 3 finished with value: 0.5388445182035059 and parameters: {'k': 11}. Best is trial 2 with value: 0.5548698267814542.\n",
      "[I 2025-01-22 16:27:55,690] Trial 4 finished with value: 0.5449123534903019 and parameters: {'k': 27}. Best is trial 2 with value: 0.5548698267814542.\n",
      "[I 2025-01-22 16:27:55,744] Trial 5 finished with value: 0.5406596826055389 and parameters: {'k': 25}. Best is trial 2 with value: 0.5548698267814542.\n",
      "[I 2025-01-22 16:27:55,784] Trial 6 finished with value: 0.5521730110984338 and parameters: {'k': 28}. Best is trial 2 with value: 0.5548698267814542.\n",
      "[I 2025-01-22 16:27:55,835] Trial 7 finished with value: 0.5532102478995955 and parameters: {'k': 12}. Best is trial 2 with value: 0.5548698267814542.\n",
      "[I 2025-01-22 16:27:55,888] Trial 8 finished with value: 0.5161290322580645 and parameters: {'k': 18}. Best is trial 2 with value: 0.5548698267814542.\n",
      "[I 2025-01-22 16:27:55,916] Trial 9 finished with value: 0.5425785706876879 and parameters: {'k': 23}. Best is trial 2 with value: 0.5548698267814542.\n",
      "[I 2025-01-22 16:27:55,960] Trial 10 finished with value: 0.5285240120319469 and parameters: {'k': 6}. Best is trial 2 with value: 0.5548698267814542.\n",
      "[I 2025-01-22 16:27:55,989] Trial 11 finished with value: 0.5153511046571932 and parameters: {'k': 17}. Best is trial 2 with value: 0.5548698267814542.\n",
      "[I 2025-01-22 16:27:56,059] Trial 12 finished with value: 0.5390519655637382 and parameters: {'k': 9}. Best is trial 2 with value: 0.5548698267814542.\n",
      "[I 2025-01-22 16:27:56,096] Trial 13 finished with value: 0.5408671299657712 and parameters: {'k': 15}. Best is trial 2 with value: 0.5548698267814542.\n",
      "[I 2025-01-22 16:27:56,129] Trial 14 finished with value: 0.5397780313245514 and parameters: {'k': 24}. Best is trial 2 with value: 0.5548698267814542.\n",
      "[I 2025-01-22 16:27:56,174] Trial 15 finished with value: 0.5576703661445909 and parameters: {'k': 21}. Best is trial 15 with value: 0.5576703661445909.\n",
      "[I 2025-01-22 16:27:56,211] Trial 16 finished with value: 0.5220931438647444 and parameters: {'k': 2}. Best is trial 15 with value: 0.5576703661445909.\n",
      "[I 2025-01-22 16:27:56,269] Trial 17 finished with value: 0.537133077481589 and parameters: {'k': 30}. Best is trial 15 with value: 0.5576703661445909.\n",
      "[I 2025-01-22 16:27:56,304] Trial 18 finished with value: 0.5611969712685406 and parameters: {'k': 7}. Best is trial 18 with value: 0.5611969712685406.\n",
      "[I 2025-01-22 16:27:56,380] Trial 19 finished with value: 0.530442900114096 and parameters: {'k': 5}. Best is trial 18 with value: 0.5611969712685406.\n",
      "[I 2025-01-22 16:27:56,408] Trial 20 finished with value: 0.5251529924281713 and parameters: {'k': 19}. Best is trial 18 with value: 0.5611969712685406.\n",
      "[I 2025-01-22 16:27:56,445] Trial 21 finished with value: 0.5414894720464681 and parameters: {'k': 20}. Best is trial 18 with value: 0.5611969712685406.\n",
      "[I 2025-01-22 16:27:56,477] Trial 22 finished with value: 0.5363032880406596 and parameters: {'k': 10}. Best is trial 18 with value: 0.5611969712685406.\n",
      "[I 2025-01-22 16:27:56,517] Trial 23 finished with value: 0.5451198008505342 and parameters: {'k': 8}. Best is trial 18 with value: 0.5611969712685406.\n",
      "[I 2025-01-22 16:27:56,570] Trial 24 finished with value: 0.5464163468519864 and parameters: {'k': 26}. Best is trial 18 with value: 0.5611969712685406.\n",
      "[I 2025-01-22 16:27:56,613] Trial 25 finished with value: 0.5075199668084224 and parameters: {'k': 4}. Best is trial 18 with value: 0.5611969712685406.\n",
      "[I 2025-01-22 16:27:56,642] Trial 26 finished with value: 0.5033710196037755 and parameters: {'k': 1}. Best is trial 18 with value: 0.5611969712685406.\n",
      "[I 2025-01-22 16:27:56,677] Trial 27 finished with value: 0.5570480240638938 and parameters: {'k': 22}. Best is trial 18 with value: 0.5611969712685406.\n",
      "[I 2025-01-22 16:27:56,711] Trial 28 finished with value: 0.5210040452235245 and parameters: {'k': 16}. Best is trial 18 with value: 0.5611969712685406.\n",
      "[I 2025-01-22 16:27:56,750] Trial 29 finished with value: 0.5481277875739032 and parameters: {'k': 13}. Best is trial 18 with value: 0.5611969712685406.\n",
      "[I 2025-01-22 16:27:56,831] A new study created in memory with name: no-name-8eea5ea6-4bbf-4a63-98bb-635e9e3012b0\n",
      "[I 2025-01-22 16:27:56,858] Trial 0 finished with value: 0.5007260657608132 and parameters: {'k': 3}. Best is trial 0 with value: 0.5007260657608132.\n",
      "[I 2025-01-22 16:27:56,903] Trial 1 finished with value: 0.5259827818691007 and parameters: {'k': 29}. Best is trial 1 with value: 0.5259827818691007.\n",
      "[I 2025-01-22 16:27:56,950] Trial 2 finished with value: 0.539518722124261 and parameters: {'k': 14}. Best is trial 2 with value: 0.539518722124261.\n",
      "[I 2025-01-22 16:27:56,990] Trial 3 finished with value: 0.5285240120319469 and parameters: {'k': 11}. Best is trial 2 with value: 0.539518722124261.\n",
      "[I 2025-01-22 16:27:57,032] Trial 4 finished with value: 0.5254641634685199 and parameters: {'k': 27}. Best is trial 2 with value: 0.539518722124261.\n",
      "[I 2025-01-22 16:27:57,069] Trial 5 finished with value: 0.49092417798983506 and parameters: {'k': 25}. Best is trial 2 with value: 0.539518722124261.\n",
      "[I 2025-01-22 16:27:57,086] Trial 6 finished with value: 0.5132766310548698 and parameters: {'k': 28}. Best is trial 2 with value: 0.539518722124261.\n",
      "[I 2025-01-22 16:27:57,123] Trial 7 finished with value: 0.5537288663001763 and parameters: {'k': 12}. Best is trial 7 with value: 0.5537288663001763.\n",
      "[I 2025-01-22 16:27:57,171] Trial 8 finished with value: 0.5051861840058085 and parameters: {'k': 18}. Best is trial 7 with value: 0.5537288663001763.\n",
      "[I 2025-01-22 16:27:57,211] Trial 9 finished with value: 0.5103723680116171 and parameters: {'k': 23}. Best is trial 7 with value: 0.5537288663001763.\n",
      "[I 2025-01-22 16:27:57,251] Trial 10 finished with value: 0.539570583964319 and parameters: {'k': 6}. Best is trial 7 with value: 0.5537288663001763.\n",
      "[I 2025-01-22 16:27:57,292] Trial 11 finished with value: 0.5156104138574836 and parameters: {'k': 17}. Best is trial 7 with value: 0.5537288663001763.\n",
      "[I 2025-01-22 16:27:57,330] Trial 12 finished with value: 0.5353697749196141 and parameters: {'k': 9}. Best is trial 7 with value: 0.5537288663001763.\n",
      "[I 2025-01-22 16:27:57,378] Trial 13 finished with value: 0.5263458147495074 and parameters: {'k': 15}. Best is trial 7 with value: 0.5537288663001763.\n",
      "[I 2025-01-22 16:27:57,416] Trial 14 finished with value: 0.4971994606368634 and parameters: {'k': 24}. Best is trial 7 with value: 0.5537288663001763.\n",
      "[I 2025-01-22 16:27:57,460] Trial 15 finished with value: 0.49434705943366875 and parameters: {'k': 21}. Best is trial 7 with value: 0.5537288663001763.\n",
      "[I 2025-01-22 16:27:57,502] Trial 16 finished with value: 0.4722539155689244 and parameters: {'k': 2}. Best is trial 7 with value: 0.5537288663001763.\n",
      "[I 2025-01-22 16:27:57,549] Trial 17 finished with value: 0.5293019396328181 and parameters: {'k': 30}. Best is trial 7 with value: 0.5537288663001763.\n",
      "[I 2025-01-22 16:27:57,588] Trial 18 finished with value: 0.5287833212322373 and parameters: {'k': 7}. Best is trial 7 with value: 0.5537288663001763.\n",
      "[I 2025-01-22 16:27:57,625] Trial 19 finished with value: 0.5573073332641841 and parameters: {'k': 5}. Best is trial 19 with value: 0.5573073332641841.\n",
      "[I 2025-01-22 16:27:57,674] Trial 20 finished with value: 0.5043563945648791 and parameters: {'k': 19}. Best is trial 19 with value: 0.5573073332641841.\n",
      "[I 2025-01-22 16:27:57,721] Trial 21 finished with value: 0.4936209936728556 and parameters: {'k': 20}. Best is trial 19 with value: 0.5573073332641841.\n",
      "[I 2025-01-22 16:27:57,773] Trial 22 finished with value: 0.5229229333056736 and parameters: {'k': 10}. Best is trial 19 with value: 0.5573073332641841.\n",
      "[I 2025-01-22 16:27:57,818] Trial 23 finished with value: 0.5167513743387615 and parameters: {'k': 8}. Best is trial 19 with value: 0.5573073332641841.\n",
      "[I 2025-01-22 16:27:57,868] Trial 24 finished with value: 0.5062234208069702 and parameters: {'k': 26}. Best is trial 19 with value: 0.5573073332641841.\n",
      "[I 2025-01-22 16:27:57,931] Trial 25 finished with value: 0.5092832693703974 and parameters: {'k': 4}. Best is trial 19 with value: 0.5573073332641841.\n",
      "[I 2025-01-22 16:27:57,971] Trial 26 finished with value: 0.5017633025619749 and parameters: {'k': 1}. Best is trial 19 with value: 0.5573073332641841.\n",
      "[I 2025-01-22 16:27:58,055] Trial 27 finished with value: 0.5004148947204647 and parameters: {'k': 22}. Best is trial 19 with value: 0.5573073332641841.\n",
      "[I 2025-01-22 16:27:58,092] Trial 28 finished with value: 0.5304947619541541 and parameters: {'k': 16}. Best is trial 19 with value: 0.5573073332641841.\n",
      "[I 2025-01-22 16:27:58,143] Trial 29 finished with value: 0.5514988071776786 and parameters: {'k': 13}. Best is trial 19 with value: 0.5573073332641841.\n",
      "[I 2025-01-22 16:27:58,227] A new study created in memory with name: no-name-b85fb7f1-e014-45a9-8442-b78d4ad3e887\n",
      "[I 2025-01-22 16:27:58,293] Trial 0 finished with value: 0.5354734985997303 and parameters: {'k': 3}. Best is trial 0 with value: 0.5354734985997303.\n",
      "[I 2025-01-22 16:27:58,359] Trial 1 finished with value: 0.5479722020537289 and parameters: {'k': 29}. Best is trial 1 with value: 0.5479722020537289.\n",
      "[I 2025-01-22 16:27:58,402] Trial 2 finished with value: 0.5543512083808733 and parameters: {'k': 14}. Best is trial 2 with value: 0.5543512083808733.\n",
      "[I 2025-01-22 16:27:58,438] Trial 3 finished with value: 0.5636344777512706 and parameters: {'k': 11}. Best is trial 3 with value: 0.5636344777512706.\n",
      "[I 2025-01-22 16:27:58,498] Trial 4 finished with value: 0.5430453272482108 and parameters: {'k': 27}. Best is trial 3 with value: 0.5636344777512706.\n",
      "[I 2025-01-22 16:27:58,567] Trial 5 finished with value: 0.531635722435432 and parameters: {'k': 25}. Best is trial 3 with value: 0.5636344777512706.\n",
      "[I 2025-01-22 16:27:58,619] Trial 6 finished with value: 0.5516543926978529 and parameters: {'k': 28}. Best is trial 3 with value: 0.5636344777512706.\n",
      "[I 2025-01-22 16:27:58,695] Trial 7 finished with value: 0.5695467275178923 and parameters: {'k': 12}. Best is trial 7 with value: 0.5695467275178923.\n",
      "[I 2025-01-22 16:27:58,759] Trial 8 finished with value: 0.5582408463852297 and parameters: {'k': 18}. Best is trial 7 with value: 0.5695467275178923.\n",
      "[I 2025-01-22 16:27:58,839] Trial 9 finished with value: 0.5418525049268748 and parameters: {'k': 23}. Best is trial 7 with value: 0.5695467275178923.\n",
      "[I 2025-01-22 16:27:58,908] Trial 10 finished with value: 0.5587076029457525 and parameters: {'k': 6}. Best is trial 7 with value: 0.5695467275178923.\n",
      "[I 2025-01-22 16:27:58,970] Trial 11 finished with value: 0.5418006430868167 and parameters: {'k': 17}. Best is trial 7 with value: 0.5695467275178923.\n",
      "[I 2025-01-22 16:27:59,028] Trial 12 finished with value: 0.560263458147495 and parameters: {'k': 9}. Best is trial 7 with value: 0.5695467275178923.\n",
      "[I 2025-01-22 16:27:59,092] Trial 13 finished with value: 0.5448604916502438 and parameters: {'k': 15}. Best is trial 7 with value: 0.5695467275178923.\n",
      "[I 2025-01-22 16:27:59,163] Trial 14 finished with value: 0.5372368011617052 and parameters: {'k': 24}. Best is trial 7 with value: 0.5695467275178923.\n",
      "[I 2025-01-22 16:27:59,229] Trial 15 finished with value: 0.5511357742972721 and parameters: {'k': 21}. Best is trial 7 with value: 0.5695467275178923.\n",
      "[I 2025-01-22 16:27:59,271] Trial 16 finished with value: 0.5309096566746188 and parameters: {'k': 2}. Best is trial 7 with value: 0.5695467275178923.\n",
      "[I 2025-01-22 16:27:59,333] Trial 17 finished with value: 0.5603153199875531 and parameters: {'k': 30}. Best is trial 7 with value: 0.5695467275178923.\n",
      "[I 2025-01-22 16:27:59,375] Trial 18 finished with value: 0.5942329633855408 and parameters: {'k': 7}. Best is trial 18 with value: 0.5942329633855408.\n",
      "[I 2025-01-22 16:27:59,428] Trial 19 finished with value: 0.5502022611762265 and parameters: {'k': 5}. Best is trial 18 with value: 0.5942329633855408.\n",
      "[I 2025-01-22 16:27:59,480] Trial 20 finished with value: 0.5654496421533036 and parameters: {'k': 19}. Best is trial 18 with value: 0.5942329633855408.\n",
      "[I 2025-01-22 16:27:59,540] Trial 21 finished with value: 0.5518618400580853 and parameters: {'k': 20}. Best is trial 18 with value: 0.5942329633855408.\n",
      "[I 2025-01-22 16:27:59,592] Trial 22 finished with value: 0.5700653459184732 and parameters: {'k': 10}. Best is trial 18 with value: 0.5942329633855408.\n",
      "[I 2025-01-22 16:27:59,642] Trial 23 finished with value: 0.5784669640078829 and parameters: {'k': 8}. Best is trial 18 with value: 0.5942329633855408.\n",
      "[I 2025-01-22 16:27:59,681] Trial 24 finished with value: 0.5530546623794211 and parameters: {'k': 26}. Best is trial 18 with value: 0.5942329633855408.\n",
      "[I 2025-01-22 16:27:59,737] Trial 25 finished with value: 0.5086609272897002 and parameters: {'k': 4}. Best is trial 18 with value: 0.5942329633855408.\n",
      "[I 2025-01-22 16:27:59,777] Trial 26 finished with value: 0.5162327559381806 and parameters: {'k': 1}. Best is trial 18 with value: 0.5942329633855408.\n",
      "[I 2025-01-22 16:27:59,817] Trial 27 finished with value: 0.5357328078000207 and parameters: {'k': 22}. Best is trial 18 with value: 0.5942329633855408.\n",
      "[I 2025-01-22 16:27:59,862] Trial 28 finished with value: 0.543200912768385 and parameters: {'k': 16}. Best is trial 18 with value: 0.5942329633855408.\n",
      "[I 2025-01-22 16:27:59,909] Trial 29 finished with value: 0.5616637278290634 and parameters: {'k': 13}. Best is trial 18 with value: 0.5942329633855408.\n",
      "[I 2025-01-22 16:28:00,042] A new study created in memory with name: no-name-213f414d-a995-49db-aa1c-1f2892039362\n",
      "[I 2025-01-22 16:28:00,089] Trial 0 finished with value: 0.5048750129654601 and parameters: {'k': 3}. Best is trial 0 with value: 0.5048750129654601.\n",
      "[I 2025-01-22 16:28:00,137] Trial 1 finished with value: 0.4787366455761851 and parameters: {'k': 29}. Best is trial 0 with value: 0.5048750129654601.\n",
      "[I 2025-01-22 16:28:00,243] Trial 2 finished with value: 0.4996888289596515 and parameters: {'k': 14}. Best is trial 0 with value: 0.5048750129654601.\n",
      "[I 2025-01-22 16:28:00,385] Trial 3 finished with value: 0.49896276319883826 and parameters: {'k': 11}. Best is trial 0 with value: 0.5048750129654601.\n",
      "[I 2025-01-22 16:28:00,496] Trial 4 finished with value: 0.5094388548905715 and parameters: {'k': 27}. Best is trial 4 with value: 0.5094388548905715.\n",
      "[I 2025-01-22 16:28:00,595] Trial 5 finished with value: 0.5062234208069701 and parameters: {'k': 25}. Best is trial 4 with value: 0.5094388548905715.\n",
      "[I 2025-01-22 16:28:00,695] Trial 6 finished with value: 0.49668084223628256 and parameters: {'k': 28}. Best is trial 4 with value: 0.5094388548905715.\n",
      "[I 2025-01-22 16:28:00,831] Trial 7 finished with value: 0.5011928223213359 and parameters: {'k': 12}. Best is trial 4 with value: 0.5094388548905715.\n",
      "[I 2025-01-22 16:28:00,917] Trial 8 finished with value: 0.47884036925630125 and parameters: {'k': 18}. Best is trial 4 with value: 0.5094388548905715.\n",
      "[I 2025-01-22 16:28:01,050] Trial 9 finished with value: 0.5171662690592262 and parameters: {'k': 23}. Best is trial 9 with value: 0.5171662690592262.\n",
      "[I 2025-01-22 16:28:01,167] Trial 10 finished with value: 0.4758323825329323 and parameters: {'k': 6}. Best is trial 9 with value: 0.5171662690592262.\n",
      "[I 2025-01-22 16:28:01,271] Trial 11 finished with value: 0.48190021781972825 and parameters: {'k': 17}. Best is trial 9 with value: 0.5171662690592262.\n",
      "[I 2025-01-22 16:28:01,446] Trial 12 finished with value: 0.4857898558240846 and parameters: {'k': 9}. Best is trial 9 with value: 0.5171662690592262.\n",
      "[I 2025-01-22 16:28:01,571] Trial 13 finished with value: 0.48112229021885694 and parameters: {'k': 15}. Best is trial 9 with value: 0.5171662690592262.\n",
      "[I 2025-01-22 16:28:01,683] Trial 14 finished with value: 0.512758012654289 and parameters: {'k': 24}. Best is trial 9 with value: 0.5171662690592262.\n",
      "[I 2025-01-22 16:28:01,814] Trial 15 finished with value: 0.5201742557825952 and parameters: {'k': 21}. Best is trial 15 with value: 0.5201742557825952.\n",
      "[I 2025-01-22 16:28:01,947] Trial 16 finished with value: 0.4868270926252463 and parameters: {'k': 2}. Best is trial 15 with value: 0.5201742557825952.\n",
      "[I 2025-01-22 16:28:02,045] Trial 17 finished with value: 0.46628980396224456 and parameters: {'k': 30}. Best is trial 15 with value: 0.5201742557825952.\n",
      "[I 2025-01-22 16:28:02,184] Trial 18 finished with value: 0.483611658541645 and parameters: {'k': 7}. Best is trial 15 with value: 0.5201742557825952.\n",
      "[I 2025-01-22 16:28:02,248] Trial 19 finished with value: 0.49642153303599224 and parameters: {'k': 5}. Best is trial 15 with value: 0.5201742557825952.\n",
      "[I 2025-01-22 16:28:02,389] Trial 20 finished with value: 0.49647339487605013 and parameters: {'k': 19}. Best is trial 15 with value: 0.5201742557825952.\n",
      "[I 2025-01-22 16:28:02,523] Trial 21 finished with value: 0.5104242298516752 and parameters: {'k': 20}. Best is trial 15 with value: 0.5201742557825952.\n",
      "[I 2025-01-22 16:28:02,668] Trial 22 finished with value: 0.4907167306296027 and parameters: {'k': 10}. Best is trial 15 with value: 0.5201742557825952.\n",
      "[I 2025-01-22 16:28:02,787] Trial 23 finished with value: 0.48719012550565294 and parameters: {'k': 8}. Best is trial 15 with value: 0.5201742557825952.\n",
      "[I 2025-01-22 16:28:02,880] Trial 24 finished with value: 0.5099574732911524 and parameters: {'k': 26}. Best is trial 15 with value: 0.5201742557825952.\n",
      "[I 2025-01-22 16:28:02,980] Trial 25 finished with value: 0.5050305984856343 and parameters: {'k': 4}. Best is trial 15 with value: 0.5201742557825952.\n",
      "[I 2025-01-22 16:28:03,099] Trial 26 finished with value: 0.49522871071465613 and parameters: {'k': 1}. Best is trial 15 with value: 0.5201742557825952.\n",
      "[I 2025-01-22 16:28:03,193] Trial 27 finished with value: 0.5138471112955089 and parameters: {'k': 22}. Best is trial 15 with value: 0.5201742557825952.\n",
      "[I 2025-01-22 16:28:03,338] Trial 28 finished with value: 0.4849082045430972 and parameters: {'k': 16}. Best is trial 15 with value: 0.5201742557825952.\n",
      "[I 2025-01-22 16:28:03,493] Trial 29 finished with value: 0.4948656778342495 and parameters: {'k': 13}. Best is trial 15 with value: 0.5201742557825952.\n",
      "[I 2025-01-22 16:28:03,695] A new study created in memory with name: no-name-a4e98ff0-90dc-4982-a32b-baa9cc2a2159\n",
      "[I 2025-01-22 16:28:03,730] Trial 0 finished with value: 0.44341873249662894 and parameters: {'k': 3}. Best is trial 0 with value: 0.44341873249662894.\n",
      "[I 2025-01-22 16:28:03,775] Trial 1 finished with value: 0.4588216989938803 and parameters: {'k': 29}. Best is trial 1 with value: 0.4588216989938803.\n",
      "[I 2025-01-22 16:28:03,828] Trial 2 finished with value: 0.4114199771807904 and parameters: {'k': 14}. Best is trial 1 with value: 0.4588216989938803.\n",
      "[I 2025-01-22 16:28:03,868] Trial 3 finished with value: 0.42101441759153607 and parameters: {'k': 11}. Best is trial 1 with value: 0.4588216989938803.\n",
      "[I 2025-01-22 16:28:03,920] Trial 4 finished with value: 0.432475884244373 and parameters: {'k': 27}. Best is trial 1 with value: 0.4588216989938803.\n",
      "[I 2025-01-22 16:28:03,975] Trial 5 finished with value: 0.4268229436780417 and parameters: {'k': 25}. Best is trial 1 with value: 0.4588216989938803.\n",
      "[I 2025-01-22 16:28:04,019] Trial 6 finished with value: 0.4486049165024375 and parameters: {'k': 28}. Best is trial 1 with value: 0.4588216989938803.\n",
      "[I 2025-01-22 16:28:04,060] Trial 7 finished with value: 0.3998547868478374 and parameters: {'k': 12}. Best is trial 1 with value: 0.4588216989938803.\n",
      "[I 2025-01-22 16:28:04,097] Trial 8 finished with value: 0.4088268851778861 and parameters: {'k': 18}. Best is trial 1 with value: 0.4588216989938803.\n",
      "[I 2025-01-22 16:28:04,129] Trial 9 finished with value: 0.41899180582927076 and parameters: {'k': 23}. Best is trial 1 with value: 0.4588216989938803.\n",
      "[I 2025-01-22 16:28:04,171] Trial 10 finished with value: 0.46286692251841094 and parameters: {'k': 6}. Best is trial 10 with value: 0.46286692251841094.\n",
      "[I 2025-01-22 16:28:04,217] Trial 11 finished with value: 0.41131625350067424 and parameters: {'k': 17}. Best is trial 10 with value: 0.46286692251841094.\n",
      "[I 2025-01-22 16:28:04,253] Trial 12 finished with value: 0.4304532724821077 and parameters: {'k': 9}. Best is trial 10 with value: 0.46286692251841094.\n",
      "[I 2025-01-22 16:28:04,307] Trial 13 finished with value: 0.3962763198838295 and parameters: {'k': 15}. Best is trial 10 with value: 0.46286692251841094.\n",
      "[I 2025-01-22 16:28:04,354] Trial 14 finished with value: 0.4226221346333368 and parameters: {'k': 24}. Best is trial 10 with value: 0.46286692251841094.\n",
      "[I 2025-01-22 16:28:04,398] Trial 15 finished with value: 0.38548905715174775 and parameters: {'k': 21}. Best is trial 10 with value: 0.46286692251841094.\n",
      "[I 2025-01-22 16:28:04,433] Trial 16 finished with value: 0.45016077170418006 and parameters: {'k': 2}. Best is trial 10 with value: 0.46286692251841094.\n",
      "[I 2025-01-22 16:28:04,481] Trial 17 finished with value: 0.46530442900114094 and parameters: {'k': 30}. Best is trial 17 with value: 0.46530442900114094.\n",
      "[I 2025-01-22 16:28:04,508] Trial 18 finished with value: 0.4532724821076652 and parameters: {'k': 7}. Best is trial 17 with value: 0.46530442900114094.\n",
      "[I 2025-01-22 16:28:04,547] Trial 19 finished with value: 0.4509905611451095 and parameters: {'k': 5}. Best is trial 17 with value: 0.46530442900114094.\n",
      "[I 2025-01-22 16:28:04,580] Trial 20 finished with value: 0.4060263458147495 and parameters: {'k': 19}. Best is trial 17 with value: 0.46530442900114094.\n",
      "[I 2025-01-22 16:28:04,632] Trial 21 finished with value: 0.40281091173114825 and parameters: {'k': 20}. Best is trial 17 with value: 0.46530442900114094.\n",
      "[I 2025-01-22 16:28:04,679] Trial 22 finished with value: 0.4237630951146147 and parameters: {'k': 10}. Best is trial 17 with value: 0.46530442900114094.\n",
      "[I 2025-01-22 16:28:04,708] Trial 23 finished with value: 0.44393735089720987 and parameters: {'k': 8}. Best is trial 17 with value: 0.46530442900114094.\n",
      "[I 2025-01-22 16:28:04,741] Trial 24 finished with value: 0.42381495695467275 and parameters: {'k': 26}. Best is trial 17 with value: 0.46530442900114094.\n",
      "[I 2025-01-22 16:28:04,784] Trial 25 finished with value: 0.45664350171144064 and parameters: {'k': 4}. Best is trial 17 with value: 0.46530442900114094.\n",
      "[I 2025-01-22 16:28:04,805] Trial 26 finished with value: 0.482366974380251 and parameters: {'k': 1}. Best is trial 26 with value: 0.482366974380251.\n",
      "[I 2025-01-22 16:28:04,840] Trial 27 finished with value: 0.4202364899906649 and parameters: {'k': 22}. Best is trial 26 with value: 0.482366974380251.\n",
      "[I 2025-01-22 16:28:04,891] Trial 28 finished with value: 0.42117000311171043 and parameters: {'k': 16}. Best is trial 26 with value: 0.482366974380251.\n",
      "[I 2025-01-22 16:28:04,944] Trial 29 finished with value: 0.4031739446115548 and parameters: {'k': 13}. Best is trial 26 with value: 0.482366974380251.\n",
      "[I 2025-01-22 16:28:05,056] A new study created in memory with name: no-name-b9baf287-5463-48bb-a711-b9bd72e27e47\n",
      "[I 2025-01-22 16:28:05,104] Trial 0 finished with value: 0.5677834249559175 and parameters: {'k': 3}. Best is trial 0 with value: 0.5677834249559175.\n",
      "[I 2025-01-22 16:28:05,150] Trial 1 finished with value: 0.619852712374235 and parameters: {'k': 29}. Best is trial 1 with value: 0.619852712374235.\n",
      "[I 2025-01-22 16:28:05,173] Trial 2 finished with value: 0.5831863914531688 and parameters: {'k': 14}. Best is trial 1 with value: 0.619852712374235.\n",
      "[I 2025-01-22 16:28:05,217] Trial 3 finished with value: 0.5732289181620164 and parameters: {'k': 11}. Best is trial 1 with value: 0.619852712374235.\n",
      "[I 2025-01-22 16:28:05,266] Trial 4 finished with value: 0.6354631262317186 and parameters: {'k': 27}. Best is trial 4 with value: 0.6354631262317186.\n",
      "[I 2025-01-22 16:28:05,314] Trial 5 finished with value: 0.6252982055803339 and parameters: {'k': 25}. Best is trial 4 with value: 0.6354631262317186.\n",
      "[I 2025-01-22 16:28:05,354] Trial 6 finished with value: 0.6261798568613214 and parameters: {'k': 28}. Best is trial 4 with value: 0.6354631262317186.\n",
      "[I 2025-01-22 16:28:05,393] Trial 7 finished with value: 0.5624935172699927 and parameters: {'k': 12}. Best is trial 4 with value: 0.6354631262317186.\n",
      "[I 2025-01-22 16:28:05,438] Trial 8 finished with value: 0.5792967534488124 and parameters: {'k': 18}. Best is trial 4 with value: 0.6354631262317186.\n",
      "[I 2025-01-22 16:28:05,474] Trial 9 finished with value: 0.6013380354734985 and parameters: {'k': 23}. Best is trial 4 with value: 0.6354631262317186.\n",
      "[I 2025-01-22 16:28:05,509] Trial 10 finished with value: 0.5538325899802925 and parameters: {'k': 6}. Best is trial 4 with value: 0.6354631262317186.\n",
      "[I 2025-01-22 16:28:05,546] Trial 11 finished with value: 0.5781557929675345 and parameters: {'k': 17}. Best is trial 4 with value: 0.6354631262317186.\n",
      "[I 2025-01-22 16:28:05,598] Trial 12 finished with value: 0.5569443003837776 and parameters: {'k': 9}. Best is trial 4 with value: 0.6354631262317186.\n",
      "[I 2025-01-22 16:28:05,634] Trial 13 finished with value: 0.5841717664142724 and parameters: {'k': 15}. Best is trial 4 with value: 0.6354631262317186.\n",
      "[I 2025-01-22 16:28:05,670] Trial 14 finished with value: 0.6154444559692978 and parameters: {'k': 24}. Best is trial 4 with value: 0.6354631262317186.\n",
      "[I 2025-01-22 16:28:05,719] Trial 15 finished with value: 0.585831345296131 and parameters: {'k': 21}. Best is trial 4 with value: 0.6354631262317186.\n",
      "[I 2025-01-22 16:28:05,760] Trial 16 finished with value: 0.5739549839228295 and parameters: {'k': 2}. Best is trial 4 with value: 0.6354631262317186.\n",
      "[I 2025-01-22 16:28:05,811] Trial 17 finished with value: 0.6090654496421533 and parameters: {'k': 30}. Best is trial 4 with value: 0.6354631262317186.\n",
      "[I 2025-01-22 16:28:05,866] Trial 18 finished with value: 0.5618711751892956 and parameters: {'k': 7}. Best is trial 4 with value: 0.6354631262317186.\n",
      "[I 2025-01-22 16:28:05,911] Trial 19 finished with value: 0.5600560107872627 and parameters: {'k': 5}. Best is trial 4 with value: 0.6354631262317186.\n",
      "[I 2025-01-22 16:28:05,971] Trial 20 finished with value: 0.568146457836324 and parameters: {'k': 19}. Best is trial 4 with value: 0.6354631262317186.\n",
      "[I 2025-01-22 16:28:06,020] Trial 21 finished with value: 0.5828752204128202 and parameters: {'k': 20}. Best is trial 4 with value: 0.6354631262317186.\n",
      "[I 2025-01-22 16:28:06,059] Trial 22 finished with value: 0.5433564982885593 and parameters: {'k': 10}. Best is trial 4 with value: 0.6354631262317186.\n",
      "[I 2025-01-22 16:28:06,126] Trial 23 finished with value: 0.5530028005393631 and parameters: {'k': 8}. Best is trial 4 with value: 0.6354631262317186.\n",
      "[I 2025-01-22 16:28:06,180] Trial 24 finished with value: 0.6292915672648066 and parameters: {'k': 26}. Best is trial 4 with value: 0.6354631262317186.\n",
      "[I 2025-01-22 16:28:06,223] Trial 25 finished with value: 0.5716730629602738 and parameters: {'k': 4}. Best is trial 4 with value: 0.6354631262317186.\n",
      "[I 2025-01-22 16:28:06,269] Trial 26 finished with value: 0.5372368011617052 and parameters: {'k': 1}. Best is trial 4 with value: 0.6354631262317186.\n",
      "[I 2025-01-22 16:28:06,312] Trial 27 finished with value: 0.5908100819417073 and parameters: {'k': 22}. Best is trial 4 with value: 0.6354631262317186.\n",
      "[I 2025-01-22 16:28:06,372] Trial 28 finished with value: 0.5785188258479411 and parameters: {'k': 16}. Best is trial 4 with value: 0.6354631262317186.\n",
      "[I 2025-01-22 16:28:06,436] Trial 29 finished with value: 0.5731770563219583 and parameters: {'k': 13}. Best is trial 4 with value: 0.6354631262317186.\n",
      "[I 2025-01-22 16:28:06,592] A new study created in memory with name: no-name-7edad1f5-9566-400b-9627-e2421d7d4aaf\n",
      "[I 2025-01-22 16:28:06,680] Trial 0 finished with value: 0.5555958925422674 and parameters: {'k': 3}. Best is trial 0 with value: 0.5555958925422674.\n",
      "[I 2025-01-22 16:28:06,779] Trial 1 finished with value: 0.5860387926563635 and parameters: {'k': 29}. Best is trial 1 with value: 0.5860387926563635.\n",
      "[I 2025-01-22 16:28:06,902] Trial 2 finished with value: 0.5458458666113473 and parameters: {'k': 14}. Best is trial 1 with value: 0.5860387926563635.\n",
      "[I 2025-01-22 16:28:06,993] Trial 3 finished with value: 0.5665387407945234 and parameters: {'k': 11}. Best is trial 1 with value: 0.5860387926563635.\n",
      "[I 2025-01-22 16:28:07,094] Trial 4 finished with value: 0.5868685820972929 and parameters: {'k': 27}. Best is trial 4 with value: 0.5868685820972929.\n",
      "[I 2025-01-22 16:28:07,165] Trial 5 finished with value: 0.5930920029042631 and parameters: {'k': 25}. Best is trial 5 with value: 0.5930920029042631.\n",
      "[I 2025-01-22 16:28:07,283] Trial 6 finished with value: 0.5769629706461985 and parameters: {'k': 28}. Best is trial 5 with value: 0.5930920029042631.\n",
      "[I 2025-01-22 16:28:07,403] Trial 7 finished with value: 0.5514988071776786 and parameters: {'k': 12}. Best is trial 5 with value: 0.5930920029042631.\n",
      "[I 2025-01-22 16:28:07,477] Trial 8 finished with value: 0.574836635203817 and parameters: {'k': 18}. Best is trial 5 with value: 0.5930920029042631.\n",
      "[I 2025-01-22 16:28:07,605] Trial 9 finished with value: 0.5879576807385126 and parameters: {'k': 23}. Best is trial 5 with value: 0.5930920029042631.\n",
      "[I 2025-01-22 16:28:07,715] Trial 10 finished with value: 0.6179856861321439 and parameters: {'k': 6}. Best is trial 10 with value: 0.6179856861321439.\n",
      "[I 2025-01-22 16:28:07,803] Trial 11 finished with value: 0.568716938076963 and parameters: {'k': 17}. Best is trial 10 with value: 0.6179856861321439.\n",
      "[I 2025-01-22 16:28:07,869] Trial 12 finished with value: 0.595529509386993 and parameters: {'k': 9}. Best is trial 10 with value: 0.6179856861321439.\n",
      "[I 2025-01-22 16:28:07,987] Trial 13 finished with value: 0.56690177367493 and parameters: {'k': 15}. Best is trial 10 with value: 0.6179856861321439.\n",
      "[I 2025-01-22 16:28:08,094] Trial 14 finished with value: 0.5950108909864122 and parameters: {'k': 24}. Best is trial 10 with value: 0.6179856861321439.\n",
      "[I 2025-01-22 16:28:08,232] Trial 15 finished with value: 0.5816305362514262 and parameters: {'k': 21}. Best is trial 10 with value: 0.6179856861321439.\n",
      "[I 2025-01-22 16:28:08,379] Trial 16 finished with value: 0.5183590913805622 and parameters: {'k': 2}. Best is trial 10 with value: 0.6179856861321439.\n",
      "[I 2025-01-22 16:28:08,527] Trial 17 finished with value: 0.5749922207239913 and parameters: {'k': 30}. Best is trial 10 with value: 0.6179856861321439.\n",
      "[I 2025-01-22 16:28:08,683] Trial 18 finished with value: 0.6109324758842443 and parameters: {'k': 7}. Best is trial 10 with value: 0.6179856861321439.\n",
      "[I 2025-01-22 16:28:08,817] Trial 19 finished with value: 0.6051239497977388 and parameters: {'k': 5}. Best is trial 10 with value: 0.6179856861321439.\n",
      "[I 2025-01-22 16:28:08,941] Trial 20 finished with value: 0.5718286484804481 and parameters: {'k': 19}. Best is trial 10 with value: 0.6179856861321439.\n",
      "[I 2025-01-22 16:28:09,097] Trial 21 finished with value: 0.588165128098745 and parameters: {'k': 20}. Best is trial 10 with value: 0.6179856861321439.\n",
      "[I 2025-01-22 16:28:09,264] Trial 22 finished with value: 0.5793486152888704 and parameters: {'k': 10}. Best is trial 10 with value: 0.6179856861321439.\n",
      "[I 2025-01-22 16:28:09,493] Trial 23 finished with value: 0.6053832589980293 and parameters: {'k': 8}. Best is trial 10 with value: 0.6179856861321439.\n",
      "[I 2025-01-22 16:28:09,659] Trial 24 finished with value: 0.5928845555440306 and parameters: {'k': 26}. Best is trial 10 with value: 0.6179856861321439.\n",
      "[I 2025-01-22 16:28:09,817] Trial 25 finished with value: 0.5794523389689866 and parameters: {'k': 4}. Best is trial 10 with value: 0.6179856861321439.\n",
      "[I 2025-01-22 16:28:09,982] Trial 26 finished with value: 0.5324136500363033 and parameters: {'k': 1}. Best is trial 10 with value: 0.6179856861321439.\n",
      "[I 2025-01-22 16:28:10,178] Trial 27 finished with value: 0.5873353386578156 and parameters: {'k': 22}. Best is trial 10 with value: 0.6179856861321439.\n",
      "[I 2025-01-22 16:28:10,297] Trial 28 finished with value: 0.5813712270511358 and parameters: {'k': 16}. Best is trial 10 with value: 0.6179856861321439.\n",
      "[I 2025-01-22 16:28:10,442] Trial 29 finished with value: 0.5503059848563426 and parameters: {'k': 13}. Best is trial 10 with value: 0.6179856861321439.\n"
     ]
    }
   ],
   "source": [
    "# Store test accuracies for each model\n",
    "test_accuracies_dict = {} # Initialize an empty dictionary to store test accuracies\n",
    "\n",
    "# Iterate through each model's features\n",
    "for model_name, values in data.items(): # Loop through each model and its corresponding features\n",
    "    # Skip MedImageInsightExtractor\n",
    "    if model_name == \"MedImageInsightExtractor\": # Skip the MedImageInsightExtractor model\n",
    "        continue\n",
    "\n",
    "    # Extract paths and labels for train, val, and test sets\n",
    "    train_labels = [v[\"row\"][\"Malignant_lbl\"] for v in values[\"train\"]] # Extract malignancy labels for the training set\n",
    "    val_labels = [v[\"row\"][\"Malignant_lbl\"] for v in values[\"val\"]] # Extract malignancy labels for the validation set\n",
    "    \n",
    "    # Stack features\n",
    "    train_items = np.vstack([v[\"feature\"] for v in values[\"train\"]]) # Stack features for the training set\n",
    "    val_items = np.vstack([v[\"feature\"] for v in values[\"val\"]]) # Stack features for the validation set\n",
    "    \n",
    "    # Concatenate train and val\n",
    "    all_items = np.vstack((train_items, val_items))\n",
    "    all_labels = train_labels + val_labels\n",
    "\n",
    "    # Split and shuffle data\n",
    "    train_items, train_labels, val_items, val_labels, test_items, test_labels = split_shuffle_data(\n",
    "        all_items, all_labels, train_ratio=0.5, val_ratio=0.2\n",
    "    )\n",
    "\n",
    "    # Train model with hyperparameter optimization\n",
    "    best_model, study = train_knn_classifier(train_items, train_labels, val_items, val_labels)\n",
    "    \n",
    "    # Evaluate on test set\n",
    "    test_accuracies_dict[model_name] = evaluate_model(best_model, test_items, test_labels)"
   ]
  },
  {
   "cell_type": "code",
   "execution_count": 20,
   "metadata": {},
   "outputs": [
    {
     "data": {
      "application/vnd.plotly.v1+json": {
       "config": {
        "plotlyServerURL": "https://plot.ly"
       },
       "data": [
        {
         "alignmentgroup": "True",
         "hovertemplate": "Model Name=%{x}<br>Test Accuracy=%{y}<br>text=%{text}<extra></extra>",
         "legendgroup": "",
         "marker": {
          "color": "#1f77b4",
          "pattern": {
           "shape": ""
          }
         },
         "name": "",
         "offsetgroup": "",
         "orientation": "v",
         "showlegend": false,
         "text": [
          "0.702",
          "0.677",
          "0.574",
          "0.640",
          "0.543",
          "0.533",
          "0.595",
          "0.654"
         ],
         "textposition": "outside",
         "type": "bar",
         "x": [
          "FMCIBExtractor",
          "CTFMExtractor",
          "PyramidExtractor",
          "VISTA3DExtractor",
          "VocoExtractor",
          "SUPREMExtractor",
          "MerlinExtractor",
          "ModelsGenExtractor"
         ],
         "xaxis": "x",
         "y": [
          0.7019333475753045,
          0.6769386883144627,
          0.5739336324147263,
          0.6399985758028911,
          0.54333119703767,
          0.5325072990101829,
          0.5954746136865342,
          0.6539379050060528
         ],
         "yaxis": "y"
        }
       ],
       "layout": {
        "barmode": "relative",
        "font": {
         "size": 10
        },
        "height": 500,
        "legend": {
         "tracegroupgap": 0
        },
        "plot_bgcolor": "rgba(0,0,0,0)",
        "showlegend": false,
        "template": {
         "data": {
          "bar": [
           {
            "error_x": {
             "color": "#2a3f5f"
            },
            "error_y": {
             "color": "#2a3f5f"
            },
            "marker": {
             "line": {
              "color": "white",
              "width": 0.5
             },
             "pattern": {
              "fillmode": "overlay",
              "size": 10,
              "solidity": 0.2
             }
            },
            "type": "bar"
           }
          ],
          "barpolar": [
           {
            "marker": {
             "line": {
              "color": "white",
              "width": 0.5
             },
             "pattern": {
              "fillmode": "overlay",
              "size": 10,
              "solidity": 0.2
             }
            },
            "type": "barpolar"
           }
          ],
          "carpet": [
           {
            "aaxis": {
             "endlinecolor": "#2a3f5f",
             "gridcolor": "#C8D4E3",
             "linecolor": "#C8D4E3",
             "minorgridcolor": "#C8D4E3",
             "startlinecolor": "#2a3f5f"
            },
            "baxis": {
             "endlinecolor": "#2a3f5f",
             "gridcolor": "#C8D4E3",
             "linecolor": "#C8D4E3",
             "minorgridcolor": "#C8D4E3",
             "startlinecolor": "#2a3f5f"
            },
            "type": "carpet"
           }
          ],
          "choropleth": [
           {
            "colorbar": {
             "outlinewidth": 0,
             "ticks": ""
            },
            "type": "choropleth"
           }
          ],
          "contour": [
           {
            "colorbar": {
             "outlinewidth": 0,
             "ticks": ""
            },
            "colorscale": [
             [
              0,
              "#0d0887"
             ],
             [
              0.1111111111111111,
              "#46039f"
             ],
             [
              0.2222222222222222,
              "#7201a8"
             ],
             [
              0.3333333333333333,
              "#9c179e"
             ],
             [
              0.4444444444444444,
              "#bd3786"
             ],
             [
              0.5555555555555556,
              "#d8576b"
             ],
             [
              0.6666666666666666,
              "#ed7953"
             ],
             [
              0.7777777777777778,
              "#fb9f3a"
             ],
             [
              0.8888888888888888,
              "#fdca26"
             ],
             [
              1,
              "#f0f921"
             ]
            ],
            "type": "contour"
           }
          ],
          "contourcarpet": [
           {
            "colorbar": {
             "outlinewidth": 0,
             "ticks": ""
            },
            "type": "contourcarpet"
           }
          ],
          "heatmap": [
           {
            "colorbar": {
             "outlinewidth": 0,
             "ticks": ""
            },
            "colorscale": [
             [
              0,
              "#0d0887"
             ],
             [
              0.1111111111111111,
              "#46039f"
             ],
             [
              0.2222222222222222,
              "#7201a8"
             ],
             [
              0.3333333333333333,
              "#9c179e"
             ],
             [
              0.4444444444444444,
              "#bd3786"
             ],
             [
              0.5555555555555556,
              "#d8576b"
             ],
             [
              0.6666666666666666,
              "#ed7953"
             ],
             [
              0.7777777777777778,
              "#fb9f3a"
             ],
             [
              0.8888888888888888,
              "#fdca26"
             ],
             [
              1,
              "#f0f921"
             ]
            ],
            "type": "heatmap"
           }
          ],
          "heatmapgl": [
           {
            "colorbar": {
             "outlinewidth": 0,
             "ticks": ""
            },
            "colorscale": [
             [
              0,
              "#0d0887"
             ],
             [
              0.1111111111111111,
              "#46039f"
             ],
             [
              0.2222222222222222,
              "#7201a8"
             ],
             [
              0.3333333333333333,
              "#9c179e"
             ],
             [
              0.4444444444444444,
              "#bd3786"
             ],
             [
              0.5555555555555556,
              "#d8576b"
             ],
             [
              0.6666666666666666,
              "#ed7953"
             ],
             [
              0.7777777777777778,
              "#fb9f3a"
             ],
             [
              0.8888888888888888,
              "#fdca26"
             ],
             [
              1,
              "#f0f921"
             ]
            ],
            "type": "heatmapgl"
           }
          ],
          "histogram": [
           {
            "marker": {
             "pattern": {
              "fillmode": "overlay",
              "size": 10,
              "solidity": 0.2
             }
            },
            "type": "histogram"
           }
          ],
          "histogram2d": [
           {
            "colorbar": {
             "outlinewidth": 0,
             "ticks": ""
            },
            "colorscale": [
             [
              0,
              "#0d0887"
             ],
             [
              0.1111111111111111,
              "#46039f"
             ],
             [
              0.2222222222222222,
              "#7201a8"
             ],
             [
              0.3333333333333333,
              "#9c179e"
             ],
             [
              0.4444444444444444,
              "#bd3786"
             ],
             [
              0.5555555555555556,
              "#d8576b"
             ],
             [
              0.6666666666666666,
              "#ed7953"
             ],
             [
              0.7777777777777778,
              "#fb9f3a"
             ],
             [
              0.8888888888888888,
              "#fdca26"
             ],
             [
              1,
              "#f0f921"
             ]
            ],
            "type": "histogram2d"
           }
          ],
          "histogram2dcontour": [
           {
            "colorbar": {
             "outlinewidth": 0,
             "ticks": ""
            },
            "colorscale": [
             [
              0,
              "#0d0887"
             ],
             [
              0.1111111111111111,
              "#46039f"
             ],
             [
              0.2222222222222222,
              "#7201a8"
             ],
             [
              0.3333333333333333,
              "#9c179e"
             ],
             [
              0.4444444444444444,
              "#bd3786"
             ],
             [
              0.5555555555555556,
              "#d8576b"
             ],
             [
              0.6666666666666666,
              "#ed7953"
             ],
             [
              0.7777777777777778,
              "#fb9f3a"
             ],
             [
              0.8888888888888888,
              "#fdca26"
             ],
             [
              1,
              "#f0f921"
             ]
            ],
            "type": "histogram2dcontour"
           }
          ],
          "mesh3d": [
           {
            "colorbar": {
             "outlinewidth": 0,
             "ticks": ""
            },
            "type": "mesh3d"
           }
          ],
          "parcoords": [
           {
            "line": {
             "colorbar": {
              "outlinewidth": 0,
              "ticks": ""
             }
            },
            "type": "parcoords"
           }
          ],
          "pie": [
           {
            "automargin": true,
            "type": "pie"
           }
          ],
          "scatter": [
           {
            "fillpattern": {
             "fillmode": "overlay",
             "size": 10,
             "solidity": 0.2
            },
            "type": "scatter"
           }
          ],
          "scatter3d": [
           {
            "line": {
             "colorbar": {
              "outlinewidth": 0,
              "ticks": ""
             }
            },
            "marker": {
             "colorbar": {
              "outlinewidth": 0,
              "ticks": ""
             }
            },
            "type": "scatter3d"
           }
          ],
          "scattercarpet": [
           {
            "marker": {
             "colorbar": {
              "outlinewidth": 0,
              "ticks": ""
             }
            },
            "type": "scattercarpet"
           }
          ],
          "scattergeo": [
           {
            "marker": {
             "colorbar": {
              "outlinewidth": 0,
              "ticks": ""
             }
            },
            "type": "scattergeo"
           }
          ],
          "scattergl": [
           {
            "marker": {
             "colorbar": {
              "outlinewidth": 0,
              "ticks": ""
             }
            },
            "type": "scattergl"
           }
          ],
          "scattermapbox": [
           {
            "marker": {
             "colorbar": {
              "outlinewidth": 0,
              "ticks": ""
             }
            },
            "type": "scattermapbox"
           }
          ],
          "scatterpolar": [
           {
            "marker": {
             "colorbar": {
              "outlinewidth": 0,
              "ticks": ""
             }
            },
            "type": "scatterpolar"
           }
          ],
          "scatterpolargl": [
           {
            "marker": {
             "colorbar": {
              "outlinewidth": 0,
              "ticks": ""
             }
            },
            "type": "scatterpolargl"
           }
          ],
          "scatterternary": [
           {
            "marker": {
             "colorbar": {
              "outlinewidth": 0,
              "ticks": ""
             }
            },
            "type": "scatterternary"
           }
          ],
          "surface": [
           {
            "colorbar": {
             "outlinewidth": 0,
             "ticks": ""
            },
            "colorscale": [
             [
              0,
              "#0d0887"
             ],
             [
              0.1111111111111111,
              "#46039f"
             ],
             [
              0.2222222222222222,
              "#7201a8"
             ],
             [
              0.3333333333333333,
              "#9c179e"
             ],
             [
              0.4444444444444444,
              "#bd3786"
             ],
             [
              0.5555555555555556,
              "#d8576b"
             ],
             [
              0.6666666666666666,
              "#ed7953"
             ],
             [
              0.7777777777777778,
              "#fb9f3a"
             ],
             [
              0.8888888888888888,
              "#fdca26"
             ],
             [
              1,
              "#f0f921"
             ]
            ],
            "type": "surface"
           }
          ],
          "table": [
           {
            "cells": {
             "fill": {
              "color": "#EBF0F8"
             },
             "line": {
              "color": "white"
             }
            },
            "header": {
             "fill": {
              "color": "#C8D4E3"
             },
             "line": {
              "color": "white"
             }
            },
            "type": "table"
           }
          ]
         },
         "layout": {
          "annotationdefaults": {
           "arrowcolor": "#2a3f5f",
           "arrowhead": 0,
           "arrowwidth": 1
          },
          "autotypenumbers": "strict",
          "coloraxis": {
           "colorbar": {
            "outlinewidth": 0,
            "ticks": ""
           }
          },
          "colorscale": {
           "diverging": [
            [
             0,
             "#8e0152"
            ],
            [
             0.1,
             "#c51b7d"
            ],
            [
             0.2,
             "#de77ae"
            ],
            [
             0.3,
             "#f1b6da"
            ],
            [
             0.4,
             "#fde0ef"
            ],
            [
             0.5,
             "#f7f7f7"
            ],
            [
             0.6,
             "#e6f5d0"
            ],
            [
             0.7,
             "#b8e186"
            ],
            [
             0.8,
             "#7fbc41"
            ],
            [
             0.9,
             "#4d9221"
            ],
            [
             1,
             "#276419"
            ]
           ],
           "sequential": [
            [
             0,
             "#0d0887"
            ],
            [
             0.1111111111111111,
             "#46039f"
            ],
            [
             0.2222222222222222,
             "#7201a8"
            ],
            [
             0.3333333333333333,
             "#9c179e"
            ],
            [
             0.4444444444444444,
             "#bd3786"
            ],
            [
             0.5555555555555556,
             "#d8576b"
            ],
            [
             0.6666666666666666,
             "#ed7953"
            ],
            [
             0.7777777777777778,
             "#fb9f3a"
            ],
            [
             0.8888888888888888,
             "#fdca26"
            ],
            [
             1,
             "#f0f921"
            ]
           ],
           "sequentialminus": [
            [
             0,
             "#0d0887"
            ],
            [
             0.1111111111111111,
             "#46039f"
            ],
            [
             0.2222222222222222,
             "#7201a8"
            ],
            [
             0.3333333333333333,
             "#9c179e"
            ],
            [
             0.4444444444444444,
             "#bd3786"
            ],
            [
             0.5555555555555556,
             "#d8576b"
            ],
            [
             0.6666666666666666,
             "#ed7953"
            ],
            [
             0.7777777777777778,
             "#fb9f3a"
            ],
            [
             0.8888888888888888,
             "#fdca26"
            ],
            [
             1,
             "#f0f921"
            ]
           ]
          },
          "colorway": [
           "#636efa",
           "#EF553B",
           "#00cc96",
           "#ab63fa",
           "#FFA15A",
           "#19d3f3",
           "#FF6692",
           "#B6E880",
           "#FF97FF",
           "#FECB52"
          ],
          "font": {
           "color": "#2a3f5f"
          },
          "geo": {
           "bgcolor": "white",
           "lakecolor": "white",
           "landcolor": "white",
           "showlakes": true,
           "showland": true,
           "subunitcolor": "#C8D4E3"
          },
          "hoverlabel": {
           "align": "left"
          },
          "hovermode": "closest",
          "mapbox": {
           "style": "light"
          },
          "paper_bgcolor": "white",
          "plot_bgcolor": "white",
          "polar": {
           "angularaxis": {
            "gridcolor": "#EBF0F8",
            "linecolor": "#EBF0F8",
            "ticks": ""
           },
           "bgcolor": "white",
           "radialaxis": {
            "gridcolor": "#EBF0F8",
            "linecolor": "#EBF0F8",
            "ticks": ""
           }
          },
          "scene": {
           "xaxis": {
            "backgroundcolor": "white",
            "gridcolor": "#DFE8F3",
            "gridwidth": 2,
            "linecolor": "#EBF0F8",
            "showbackground": true,
            "ticks": "",
            "zerolinecolor": "#EBF0F8"
           },
           "yaxis": {
            "backgroundcolor": "white",
            "gridcolor": "#DFE8F3",
            "gridwidth": 2,
            "linecolor": "#EBF0F8",
            "showbackground": true,
            "ticks": "",
            "zerolinecolor": "#EBF0F8"
           },
           "zaxis": {
            "backgroundcolor": "white",
            "gridcolor": "#DFE8F3",
            "gridwidth": 2,
            "linecolor": "#EBF0F8",
            "showbackground": true,
            "ticks": "",
            "zerolinecolor": "#EBF0F8"
           }
          },
          "shapedefaults": {
           "line": {
            "color": "#2a3f5f"
           }
          },
          "ternary": {
           "aaxis": {
            "gridcolor": "#DFE8F3",
            "linecolor": "#A2B1C6",
            "ticks": ""
           },
           "baxis": {
            "gridcolor": "#DFE8F3",
            "linecolor": "#A2B1C6",
            "ticks": ""
           },
           "bgcolor": "white",
           "caxis": {
            "gridcolor": "#DFE8F3",
            "linecolor": "#A2B1C6",
            "ticks": ""
           }
          },
          "title": {
           "x": 0.05
          },
          "xaxis": {
           "automargin": true,
           "gridcolor": "#EBF0F8",
           "linecolor": "#EBF0F8",
           "ticks": "",
           "title": {
            "standoff": 15
           },
           "zerolinecolor": "#EBF0F8",
           "zerolinewidth": 2
          },
          "yaxis": {
           "automargin": true,
           "gridcolor": "#EBF0F8",
           "linecolor": "#EBF0F8",
           "ticks": "",
           "title": {
            "standoff": 15
           },
           "zerolinecolor": "#EBF0F8",
           "zerolinewidth": 2
          }
         }
        },
        "title": {
         "text": "Test AUC Comparison Between Models",
         "x": 0.5
        },
        "width": 500,
        "xaxis": {
         "anchor": "y",
         "domain": [
          0,
          1
         ],
         "linecolor": "black",
         "ticks": "",
         "title": {
          "text": "Model Name"
         }
        },
        "yaxis": {
         "anchor": "x",
         "domain": [
          0,
          1
         ],
         "linecolor": "black",
         "range": [
          0,
          1
         ],
         "ticks": "",
         "title": {
          "text": "Test Accuracy"
         }
        }
       }
      },
      "text/html": [
       "<div>                            <div id=\"a8ae2c6f-c5dd-407a-954f-17ba801d09ea\" class=\"plotly-graph-div\" style=\"height:500px; width:500px;\"></div>            <script type=\"text/javascript\">                require([\"plotly\"], function(Plotly) {                    window.PLOTLYENV=window.PLOTLYENV || {};                                    if (document.getElementById(\"a8ae2c6f-c5dd-407a-954f-17ba801d09ea\")) {                    Plotly.newPlot(                        \"a8ae2c6f-c5dd-407a-954f-17ba801d09ea\",                        [{\"alignmentgroup\":\"True\",\"hovertemplate\":\"Model Name=%{x}\\u003cbr\\u003eTest Accuracy=%{y}\\u003cbr\\u003etext=%{text}\\u003cextra\\u003e\\u003c\\u002fextra\\u003e\",\"legendgroup\":\"\",\"marker\":{\"color\":\"#1f77b4\",\"pattern\":{\"shape\":\"\"}},\"name\":\"\",\"offsetgroup\":\"\",\"orientation\":\"v\",\"showlegend\":false,\"text\":[\"0.702\",\"0.677\",\"0.574\",\"0.640\",\"0.543\",\"0.533\",\"0.595\",\"0.654\"],\"textposition\":\"outside\",\"x\":[\"FMCIBExtractor\",\"CTFMExtractor\",\"PyramidExtractor\",\"VISTA3DExtractor\",\"VocoExtractor\",\"SUPREMExtractor\",\"MerlinExtractor\",\"ModelsGenExtractor\"],\"xaxis\":\"x\",\"y\":[0.7019333475753045,0.6769386883144627,0.5739336324147263,0.6399985758028911,0.54333119703767,0.5325072990101829,0.5954746136865342,0.6539379050060528],\"yaxis\":\"y\",\"type\":\"bar\"}],                        {\"template\":{\"data\":{\"barpolar\":[{\"marker\":{\"line\":{\"color\":\"white\",\"width\":0.5},\"pattern\":{\"fillmode\":\"overlay\",\"size\":10,\"solidity\":0.2}},\"type\":\"barpolar\"}],\"bar\":[{\"error_x\":{\"color\":\"#2a3f5f\"},\"error_y\":{\"color\":\"#2a3f5f\"},\"marker\":{\"line\":{\"color\":\"white\",\"width\":0.5},\"pattern\":{\"fillmode\":\"overlay\",\"size\":10,\"solidity\":0.2}},\"type\":\"bar\"}],\"carpet\":[{\"aaxis\":{\"endlinecolor\":\"#2a3f5f\",\"gridcolor\":\"#C8D4E3\",\"linecolor\":\"#C8D4E3\",\"minorgridcolor\":\"#C8D4E3\",\"startlinecolor\":\"#2a3f5f\"},\"baxis\":{\"endlinecolor\":\"#2a3f5f\",\"gridcolor\":\"#C8D4E3\",\"linecolor\":\"#C8D4E3\",\"minorgridcolor\":\"#C8D4E3\",\"startlinecolor\":\"#2a3f5f\"},\"type\":\"carpet\"}],\"choropleth\":[{\"colorbar\":{\"outlinewidth\":0,\"ticks\":\"\"},\"type\":\"choropleth\"}],\"contourcarpet\":[{\"colorbar\":{\"outlinewidth\":0,\"ticks\":\"\"},\"type\":\"contourcarpet\"}],\"contour\":[{\"colorbar\":{\"outlinewidth\":0,\"ticks\":\"\"},\"colorscale\":[[0.0,\"#0d0887\"],[0.1111111111111111,\"#46039f\"],[0.2222222222222222,\"#7201a8\"],[0.3333333333333333,\"#9c179e\"],[0.4444444444444444,\"#bd3786\"],[0.5555555555555556,\"#d8576b\"],[0.6666666666666666,\"#ed7953\"],[0.7777777777777778,\"#fb9f3a\"],[0.8888888888888888,\"#fdca26\"],[1.0,\"#f0f921\"]],\"type\":\"contour\"}],\"heatmapgl\":[{\"colorbar\":{\"outlinewidth\":0,\"ticks\":\"\"},\"colorscale\":[[0.0,\"#0d0887\"],[0.1111111111111111,\"#46039f\"],[0.2222222222222222,\"#7201a8\"],[0.3333333333333333,\"#9c179e\"],[0.4444444444444444,\"#bd3786\"],[0.5555555555555556,\"#d8576b\"],[0.6666666666666666,\"#ed7953\"],[0.7777777777777778,\"#fb9f3a\"],[0.8888888888888888,\"#fdca26\"],[1.0,\"#f0f921\"]],\"type\":\"heatmapgl\"}],\"heatmap\":[{\"colorbar\":{\"outlinewidth\":0,\"ticks\":\"\"},\"colorscale\":[[0.0,\"#0d0887\"],[0.1111111111111111,\"#46039f\"],[0.2222222222222222,\"#7201a8\"],[0.3333333333333333,\"#9c179e\"],[0.4444444444444444,\"#bd3786\"],[0.5555555555555556,\"#d8576b\"],[0.6666666666666666,\"#ed7953\"],[0.7777777777777778,\"#fb9f3a\"],[0.8888888888888888,\"#fdca26\"],[1.0,\"#f0f921\"]],\"type\":\"heatmap\"}],\"histogram2dcontour\":[{\"colorbar\":{\"outlinewidth\":0,\"ticks\":\"\"},\"colorscale\":[[0.0,\"#0d0887\"],[0.1111111111111111,\"#46039f\"],[0.2222222222222222,\"#7201a8\"],[0.3333333333333333,\"#9c179e\"],[0.4444444444444444,\"#bd3786\"],[0.5555555555555556,\"#d8576b\"],[0.6666666666666666,\"#ed7953\"],[0.7777777777777778,\"#fb9f3a\"],[0.8888888888888888,\"#fdca26\"],[1.0,\"#f0f921\"]],\"type\":\"histogram2dcontour\"}],\"histogram2d\":[{\"colorbar\":{\"outlinewidth\":0,\"ticks\":\"\"},\"colorscale\":[[0.0,\"#0d0887\"],[0.1111111111111111,\"#46039f\"],[0.2222222222222222,\"#7201a8\"],[0.3333333333333333,\"#9c179e\"],[0.4444444444444444,\"#bd3786\"],[0.5555555555555556,\"#d8576b\"],[0.6666666666666666,\"#ed7953\"],[0.7777777777777778,\"#fb9f3a\"],[0.8888888888888888,\"#fdca26\"],[1.0,\"#f0f921\"]],\"type\":\"histogram2d\"}],\"histogram\":[{\"marker\":{\"pattern\":{\"fillmode\":\"overlay\",\"size\":10,\"solidity\":0.2}},\"type\":\"histogram\"}],\"mesh3d\":[{\"colorbar\":{\"outlinewidth\":0,\"ticks\":\"\"},\"type\":\"mesh3d\"}],\"parcoords\":[{\"line\":{\"colorbar\":{\"outlinewidth\":0,\"ticks\":\"\"}},\"type\":\"parcoords\"}],\"pie\":[{\"automargin\":true,\"type\":\"pie\"}],\"scatter3d\":[{\"line\":{\"colorbar\":{\"outlinewidth\":0,\"ticks\":\"\"}},\"marker\":{\"colorbar\":{\"outlinewidth\":0,\"ticks\":\"\"}},\"type\":\"scatter3d\"}],\"scattercarpet\":[{\"marker\":{\"colorbar\":{\"outlinewidth\":0,\"ticks\":\"\"}},\"type\":\"scattercarpet\"}],\"scattergeo\":[{\"marker\":{\"colorbar\":{\"outlinewidth\":0,\"ticks\":\"\"}},\"type\":\"scattergeo\"}],\"scattergl\":[{\"marker\":{\"colorbar\":{\"outlinewidth\":0,\"ticks\":\"\"}},\"type\":\"scattergl\"}],\"scattermapbox\":[{\"marker\":{\"colorbar\":{\"outlinewidth\":0,\"ticks\":\"\"}},\"type\":\"scattermapbox\"}],\"scatterpolargl\":[{\"marker\":{\"colorbar\":{\"outlinewidth\":0,\"ticks\":\"\"}},\"type\":\"scatterpolargl\"}],\"scatterpolar\":[{\"marker\":{\"colorbar\":{\"outlinewidth\":0,\"ticks\":\"\"}},\"type\":\"scatterpolar\"}],\"scatter\":[{\"fillpattern\":{\"fillmode\":\"overlay\",\"size\":10,\"solidity\":0.2},\"type\":\"scatter\"}],\"scatterternary\":[{\"marker\":{\"colorbar\":{\"outlinewidth\":0,\"ticks\":\"\"}},\"type\":\"scatterternary\"}],\"surface\":[{\"colorbar\":{\"outlinewidth\":0,\"ticks\":\"\"},\"colorscale\":[[0.0,\"#0d0887\"],[0.1111111111111111,\"#46039f\"],[0.2222222222222222,\"#7201a8\"],[0.3333333333333333,\"#9c179e\"],[0.4444444444444444,\"#bd3786\"],[0.5555555555555556,\"#d8576b\"],[0.6666666666666666,\"#ed7953\"],[0.7777777777777778,\"#fb9f3a\"],[0.8888888888888888,\"#fdca26\"],[1.0,\"#f0f921\"]],\"type\":\"surface\"}],\"table\":[{\"cells\":{\"fill\":{\"color\":\"#EBF0F8\"},\"line\":{\"color\":\"white\"}},\"header\":{\"fill\":{\"color\":\"#C8D4E3\"},\"line\":{\"color\":\"white\"}},\"type\":\"table\"}]},\"layout\":{\"annotationdefaults\":{\"arrowcolor\":\"#2a3f5f\",\"arrowhead\":0,\"arrowwidth\":1},\"autotypenumbers\":\"strict\",\"coloraxis\":{\"colorbar\":{\"outlinewidth\":0,\"ticks\":\"\"}},\"colorscale\":{\"diverging\":[[0,\"#8e0152\"],[0.1,\"#c51b7d\"],[0.2,\"#de77ae\"],[0.3,\"#f1b6da\"],[0.4,\"#fde0ef\"],[0.5,\"#f7f7f7\"],[0.6,\"#e6f5d0\"],[0.7,\"#b8e186\"],[0.8,\"#7fbc41\"],[0.9,\"#4d9221\"],[1,\"#276419\"]],\"sequential\":[[0.0,\"#0d0887\"],[0.1111111111111111,\"#46039f\"],[0.2222222222222222,\"#7201a8\"],[0.3333333333333333,\"#9c179e\"],[0.4444444444444444,\"#bd3786\"],[0.5555555555555556,\"#d8576b\"],[0.6666666666666666,\"#ed7953\"],[0.7777777777777778,\"#fb9f3a\"],[0.8888888888888888,\"#fdca26\"],[1.0,\"#f0f921\"]],\"sequentialminus\":[[0.0,\"#0d0887\"],[0.1111111111111111,\"#46039f\"],[0.2222222222222222,\"#7201a8\"],[0.3333333333333333,\"#9c179e\"],[0.4444444444444444,\"#bd3786\"],[0.5555555555555556,\"#d8576b\"],[0.6666666666666666,\"#ed7953\"],[0.7777777777777778,\"#fb9f3a\"],[0.8888888888888888,\"#fdca26\"],[1.0,\"#f0f921\"]]},\"colorway\":[\"#636efa\",\"#EF553B\",\"#00cc96\",\"#ab63fa\",\"#FFA15A\",\"#19d3f3\",\"#FF6692\",\"#B6E880\",\"#FF97FF\",\"#FECB52\"],\"font\":{\"color\":\"#2a3f5f\"},\"geo\":{\"bgcolor\":\"white\",\"lakecolor\":\"white\",\"landcolor\":\"white\",\"showlakes\":true,\"showland\":true,\"subunitcolor\":\"#C8D4E3\"},\"hoverlabel\":{\"align\":\"left\"},\"hovermode\":\"closest\",\"mapbox\":{\"style\":\"light\"},\"paper_bgcolor\":\"white\",\"plot_bgcolor\":\"white\",\"polar\":{\"angularaxis\":{\"gridcolor\":\"#EBF0F8\",\"linecolor\":\"#EBF0F8\",\"ticks\":\"\"},\"bgcolor\":\"white\",\"radialaxis\":{\"gridcolor\":\"#EBF0F8\",\"linecolor\":\"#EBF0F8\",\"ticks\":\"\"}},\"scene\":{\"xaxis\":{\"backgroundcolor\":\"white\",\"gridcolor\":\"#DFE8F3\",\"gridwidth\":2,\"linecolor\":\"#EBF0F8\",\"showbackground\":true,\"ticks\":\"\",\"zerolinecolor\":\"#EBF0F8\"},\"yaxis\":{\"backgroundcolor\":\"white\",\"gridcolor\":\"#DFE8F3\",\"gridwidth\":2,\"linecolor\":\"#EBF0F8\",\"showbackground\":true,\"ticks\":\"\",\"zerolinecolor\":\"#EBF0F8\"},\"zaxis\":{\"backgroundcolor\":\"white\",\"gridcolor\":\"#DFE8F3\",\"gridwidth\":2,\"linecolor\":\"#EBF0F8\",\"showbackground\":true,\"ticks\":\"\",\"zerolinecolor\":\"#EBF0F8\"}},\"shapedefaults\":{\"line\":{\"color\":\"#2a3f5f\"}},\"ternary\":{\"aaxis\":{\"gridcolor\":\"#DFE8F3\",\"linecolor\":\"#A2B1C6\",\"ticks\":\"\"},\"baxis\":{\"gridcolor\":\"#DFE8F3\",\"linecolor\":\"#A2B1C6\",\"ticks\":\"\"},\"bgcolor\":\"white\",\"caxis\":{\"gridcolor\":\"#DFE8F3\",\"linecolor\":\"#A2B1C6\",\"ticks\":\"\"}},\"title\":{\"x\":0.05},\"xaxis\":{\"automargin\":true,\"gridcolor\":\"#EBF0F8\",\"linecolor\":\"#EBF0F8\",\"ticks\":\"\",\"title\":{\"standoff\":15},\"zerolinecolor\":\"#EBF0F8\",\"zerolinewidth\":2},\"yaxis\":{\"automargin\":true,\"gridcolor\":\"#EBF0F8\",\"linecolor\":\"#EBF0F8\",\"ticks\":\"\",\"title\":{\"standoff\":15},\"zerolinecolor\":\"#EBF0F8\",\"zerolinewidth\":2}}},\"xaxis\":{\"anchor\":\"y\",\"domain\":[0.0,1.0],\"title\":{\"text\":\"Model Name\"},\"linecolor\":\"black\",\"ticks\":\"\"},\"yaxis\":{\"anchor\":\"x\",\"domain\":[0.0,1.0],\"title\":{\"text\":\"Test Accuracy\"},\"range\":[0,1],\"linecolor\":\"black\",\"ticks\":\"\"},\"legend\":{\"tracegroupgap\":0},\"title\":{\"text\":\"Test AUC Comparison Between Models\",\"x\":0.5},\"barmode\":\"relative\",\"height\":500,\"width\":500,\"font\":{\"size\":10},\"showlegend\":false,\"plot_bgcolor\":\"rgba(0,0,0,0)\"},                        {\"responsive\": true}                    ).then(function(){\n",
       "                            \n",
       "var gd = document.getElementById('a8ae2c6f-c5dd-407a-954f-17ba801d09ea');\n",
       "var x = new MutationObserver(function (mutations, observer) {{\n",
       "        var display = window.getComputedStyle(gd).display;\n",
       "        if (!display || display === 'none') {{\n",
       "            console.log([gd, 'removed!']);\n",
       "            Plotly.purge(gd);\n",
       "            observer.disconnect();\n",
       "        }}\n",
       "}});\n",
       "\n",
       "// Listen for the removal of the full notebook cells\n",
       "var notebookContainer = gd.closest('#notebook-container');\n",
       "if (notebookContainer) {{\n",
       "    x.observe(notebookContainer, {childList: true});\n",
       "}}\n",
       "\n",
       "// Listen for the clearing of the current output cell\n",
       "var outputEl = gd.closest('.output');\n",
       "if (outputEl) {{\n",
       "    x.observe(outputEl, {childList: true});\n",
       "}}\n",
       "\n",
       "                        })                };                });            </script>        </div>"
      ]
     },
     "metadata": {},
     "output_type": "display_data"
    }
   ],
   "source": [
    "# Plot test accuracies\n",
    "fig = plot_model_comparison(test_accuracies_dict)\n",
    "fig.show() # Show the plot"
   ]
  }
 ],
 "metadata": {
  "kernelspec": {
   "display_name": "Python 3",
   "language": "python",
   "name": "python3"
  },
  "language_info": {
   "codemirror_mode": {
    "name": "ipython",
    "version": 3
   },
   "file_extension": ".py",
   "mimetype": "text/x-python",
   "name": "python",
   "nbconvert_exporter": "python",
   "pygments_lexer": "ipython3",
   "version": "3.8.0"
  }
 },
 "nbformat": 4,
 "nbformat_minor": 4
}
