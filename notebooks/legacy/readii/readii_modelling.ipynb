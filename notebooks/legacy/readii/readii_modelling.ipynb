{
 "cells": [
  {
   "cell_type": "code",
   "execution_count": 1,
   "metadata": {},
   "outputs": [],
   "source": [
    "# Import necessary libraries\n",
    "import pandas as pd # For data manipulation and analysis\n",
    "import numpy as np # For numerical operations\n",
    "import pickle # For serializing and deserializing Python objects\n",
    "from modelling_utils import train_knn_classifier, evaluate_model, plot_model_comparison, extract_model_features, compute_knn_indices, compute_overlap_matrix, plot_overlap_matrix, split_shuffle_data"
   ]
  },
  {
   "cell_type": "code",
   "execution_count": 2,
   "metadata": {},
   "outputs": [],
   "source": [
    "data = {\n",
    "    \"negative_control_randomized_sampled_non_roi\": pd.read_csv(\"../evaluation/readii_eval/negative_control_randomized_sampled_non_roi.csv\"),\n",
    "    \"negative_control_randomized_sampled_roi\": pd.read_csv(\"../evaluation/readii_eval/negative_control_randomized_sampled_roi.csv\"),\n",
    "    \"negative_control_shuffled_non_roi\": pd.read_csv(\"../evaluation/readii_eval/negative_control_shuffled_non_roi.csv\"),\n",
    "    \"negative_control_shuffled_roi\": pd.read_csv(\"../evaluation/readii_eval/negative_control_shuffled_roi.csv\"),\n",
    "    \"original\": pd.read_csv(\"/home/suraj/Repositories/FM-extractors-radiomics/evaluation/readii_eval/original.csv\")\n",
    "}"
   ]
  },
  {
   "cell_type": "code",
   "execution_count": null,
   "metadata": {},
   "outputs": [
    {
     "name": "stderr",
     "output_type": "stream",
     "text": [
      "[I 2025-02-24 12:51:22,121] A new study created in memory with name: no-name-664afc3b-7494-4c37-9878-d3bae07588fb\n",
      "[I 2025-02-24 12:51:22,133] Trial 0 finished with value: 0.5760840290869916 and parameters: {'k': 29}. Best is trial 0 with value: 0.5760840290869916.\n",
      "[I 2025-02-24 12:51:22,145] Trial 1 finished with value: 0.5569620253164557 and parameters: {'k': 12}. Best is trial 0 with value: 0.5760840290869916.\n"
     ]
    },
    {
     "name": "stderr",
     "output_type": "stream",
     "text": [
      "[I 2025-02-24 12:51:22,157] Trial 2 finished with value: 0.5340694855911662 and parameters: {'k': 11}. Best is trial 0 with value: 0.5760840290869916.\n",
      "[I 2025-02-24 12:51:22,170] Trial 3 finished with value: 0.5645030972259628 and parameters: {'k': 42}. Best is trial 0 with value: 0.5760840290869916.\n",
      "[I 2025-02-24 12:51:22,182] Trial 4 finished with value: 0.5378400215459197 and parameters: {'k': 3}. Best is trial 0 with value: 0.5760840290869916.\n",
      "[I 2025-02-24 12:51:22,195] Trial 5 finished with value: 0.570024239159709 and parameters: {'k': 28}. Best is trial 0 with value: 0.5760840290869916.\n",
      "[I 2025-02-24 12:51:22,208] Trial 6 finished with value: 0.5891462429302451 and parameters: {'k': 39}. Best is trial 6 with value: 0.5891462429302451.\n",
      "[I 2025-02-24 12:51:22,220] Trial 7 finished with value: 0.5830864530029626 and parameters: {'k': 32}. Best is trial 6 with value: 0.5891462429302451.\n",
      "[I 2025-02-24 12:51:22,234] Trial 8 finished with value: 0.5434958254780501 and parameters: {'k': 23}. Best is trial 6 with value: 0.5891462429302451.\n",
      "[I 2025-02-24 12:51:22,247] Trial 9 finished with value: 0.5175060597899274 and parameters: {'k': 5}. Best is trial 6 with value: 0.5891462429302451.\n",
      "[I 2025-02-24 12:51:22,260] Trial 10 finished with value: 0.5899542149205493 and parameters: {'k': 34}. Best is trial 10 with value: 0.5899542149205493.\n",
      "[I 2025-02-24 12:51:22,276] Trial 11 finished with value: 0.5871263129544843 and parameters: {'k': 36}. Best is trial 10 with value: 0.5899542149205493.\n",
      "[I 2025-02-24 12:51:22,288] Trial 12 finished with value: 0.5653110692162672 and parameters: {'k': 27}. Best is trial 10 with value: 0.5899542149205493.\n",
      "[I 2025-02-24 12:51:22,301] Trial 13 finished with value: 0.5845677349851872 and parameters: {'k': 35}. Best is trial 10 with value: 0.5899542149205493.\n",
      "[I 2025-02-24 12:51:22,312] Trial 14 finished with value: 0.5255857796929707 and parameters: {'k': 19}. Best is trial 10 with value: 0.5899542149205493.\n",
      "[I 2025-02-24 12:51:22,324] Trial 15 finished with value: 0.5798545650417453 and parameters: {'k': 8}. Best is trial 10 with value: 0.5899542149205493.\n",
      "[I 2025-02-24 12:51:22,337] Trial 16 finished with value: 0.5619445192566658 and parameters: {'k': 15}. Best is trial 10 with value: 0.5899542149205493.\n",
      "[I 2025-02-24 12:51:22,349] Trial 17 finished with value: 0.5632911392405064 and parameters: {'k': 46}. Best is trial 10 with value: 0.5899542149205493.\n",
      "[I 2025-02-24 12:51:22,362] Trial 18 finished with value: 0.5680043091839483 and parameters: {'k': 49}. Best is trial 10 with value: 0.5899542149205493.\n",
      "[I 2025-02-24 12:51:22,375] Trial 19 finished with value: 0.5904928629140856 and parameters: {'k': 30}. Best is trial 19 with value: 0.5904928629140856.\n",
      "[I 2025-02-24 12:51:22,388] Trial 20 finished with value: 0.5716401831403177 and parameters: {'k': 16}. Best is trial 19 with value: 0.5904928629140856.\n",
      "[I 2025-02-24 12:51:22,401] Trial 21 finished with value: 0.5847023969835712 and parameters: {'k': 31}. Best is trial 19 with value: 0.5904928629140856.\n",
      "[I 2025-02-24 12:51:22,414] Trial 22 finished with value: 0.59130083490439 and parameters: {'k': 33}. Best is trial 22 with value: 0.59130083490439.\n",
      "[I 2025-02-24 12:51:22,427] Trial 23 finished with value: 0.5449771074602747 and parameters: {'k': 17}. Best is trial 22 with value: 0.59130083490439.\n",
      "[I 2025-02-24 12:51:22,440] Trial 24 finished with value: 0.5611365472663614 and parameters: {'k': 43}. Best is trial 22 with value: 0.59130083490439.\n",
      "[I 2025-02-24 12:51:22,454] Trial 25 finished with value: 0.5658497172098034 and parameters: {'k': 21}. Best is trial 22 with value: 0.59130083490439.\n",
      "[I 2025-02-24 12:51:22,467] Trial 26 finished with value: 0.562483167250202 and parameters: {'k': 44}. Best is trial 22 with value: 0.59130083490439.\n",
      "[I 2025-02-24 12:51:22,481] Trial 27 finished with value: 0.5538647993536224 and parameters: {'k': 9}. Best is trial 22 with value: 0.59130083490439.\n",
      "[I 2025-02-24 12:51:22,495] Trial 28 finished with value: 0.56275249124697 and parameters: {'k': 14}. Best is trial 22 with value: 0.59130083490439.\n",
      "[I 2025-02-24 12:51:22,509] Trial 29 finished with value: 0.5593859412873688 and parameters: {'k': 26}. Best is trial 22 with value: 0.59130083490439.\n",
      "[I 2025-02-24 12:51:22,523] Trial 30 finished with value: 0.5319148936170213 and parameters: {'k': 6}. Best is trial 22 with value: 0.59130083490439.\n",
      "[I 2025-02-24 12:51:22,537] Trial 31 finished with value: 0.5354161055750067 and parameters: {'k': 18}. Best is trial 22 with value: 0.59130083490439.\n",
      "[I 2025-02-24 12:51:22,553] Trial 32 finished with value: 0.562617829248586 and parameters: {'k': 41}. Best is trial 22 with value: 0.59130083490439.\n",
      "[I 2025-02-24 12:51:22,569] Trial 33 finished with value: 0.5689469431726367 and parameters: {'k': 50}. Best is trial 22 with value: 0.59130083490439.\n",
      "[I 2025-02-24 12:51:22,584] Trial 34 finished with value: 0.5448424454618906 and parameters: {'k': 2}. Best is trial 22 with value: 0.59130083490439.\n",
      "[I 2025-02-24 12:51:22,599] Trial 35 finished with value: 0.5474010234311877 and parameters: {'k': 13}. Best is trial 22 with value: 0.59130083490439.\n",
      "[I 2025-02-24 12:51:22,614] Trial 36 finished with value: 0.5954753568542956 and parameters: {'k': 38}. Best is trial 36 with value: 0.5954753568542956.\n",
      "[I 2025-02-24 12:51:22,630] Trial 37 finished with value: 0.5436304874764342 and parameters: {'k': 25}. Best is trial 36 with value: 0.5954753568542956.\n",
      "[I 2025-02-24 12:51:22,645] Trial 38 finished with value: 0.5826824670078105 and parameters: {'k': 7}. Best is trial 36 with value: 0.5954753568542956.\n",
      "[I 2025-02-24 12:51:22,661] Trial 39 finished with value: 0.5463237274441153 and parameters: {'k': 24}. Best is trial 36 with value: 0.5954753568542956.\n",
      "[I 2025-02-24 12:51:22,677] Trial 40 finished with value: 0.5957446808510638 and parameters: {'k': 37}. Best is trial 40 with value: 0.5957446808510638.\n",
      "[I 2025-02-24 12:51:22,693] Trial 41 finished with value: 0.5623485052518178 and parameters: {'k': 22}. Best is trial 40 with value: 0.5957446808510638.\n",
      "[I 2025-02-24 12:51:22,709] Trial 42 finished with value: 0.5522488553730137 and parameters: {'k': 20}. Best is trial 40 with value: 0.5957446808510638.\n",
      "[I 2025-02-24 12:51:22,725] Trial 43 finished with value: 0.5321842176137894 and parameters: {'k': 10}. Best is trial 40 with value: 0.5957446808510638.\n",
      "[I 2025-02-24 12:51:22,741] Trial 44 finished with value: 0.5759493670886076 and parameters: {'k': 40}. Best is trial 40 with value: 0.5957446808510638.\n",
      "[I 2025-02-24 12:51:22,758] Trial 45 finished with value: 0.5689469431726366 and parameters: {'k': 47}. Best is trial 40 with value: 0.5957446808510638.\n",
      "[I 2025-02-24 12:51:22,774] Trial 46 finished with value: 0.5595206032857527 and parameters: {'k': 4}. Best is trial 40 with value: 0.5957446808510638.\n",
      "[I 2025-02-24 12:51:22,789] Trial 47 finished with value: 0.5525181793697818 and parameters: {'k': 1}. Best is trial 40 with value: 0.5957446808510638.\n",
      "[I 2025-02-24 12:51:22,806] Trial 48 finished with value: 0.5653110692162672 and parameters: {'k': 48}. Best is trial 40 with value: 0.5957446808510638.\n",
      "[I 2025-02-24 12:51:22,823] Trial 49 finished with value: 0.5686776191758685 and parameters: {'k': 45}. Best is trial 40 with value: 0.5957446808510638.\n",
      "[I 2025-02-24 12:51:22,842] A new study created in memory with name: no-name-1bcf4a6d-cc67-453a-8881-db3fb4067aec\n",
      "[I 2025-02-24 12:51:22,853] Trial 0 finished with value: 0.6208034433285509 and parameters: {'k': 29}. Best is trial 0 with value: 0.6208034433285509.\n",
      "[I 2025-02-24 12:51:22,863] Trial 1 finished with value: 0.6166427546628407 and parameters: {'k': 12}. Best is trial 0 with value: 0.6208034433285509.\n",
      "[I 2025-02-24 12:51:22,873] Trial 2 finished with value: 0.6407460545193687 and parameters: {'k': 11}. Best is trial 2 with value: 0.6407460545193687.\n",
      "[I 2025-02-24 12:51:22,884] Trial 3 finished with value: 0.6596843615494978 and parameters: {'k': 42}. Best is trial 3 with value: 0.6596843615494978.\n",
      "[I 2025-02-24 12:51:22,894] Trial 4 finished with value: 0.5294117647058824 and parameters: {'k': 3}. Best is trial 3 with value: 0.6596843615494978.\n",
      "[I 2025-02-24 12:51:22,905] Trial 5 finished with value: 0.606025824964132 and parameters: {'k': 28}. Best is trial 3 with value: 0.6596843615494978.\n",
      "[I 2025-02-24 12:51:22,916] Trial 6 finished with value: 0.6730272596843615 and parameters: {'k': 39}. Best is trial 6 with value: 0.6730272596843615.\n",
      "[I 2025-02-24 12:51:22,927] Trial 7 finished with value: 0.6327116212338594 and parameters: {'k': 32}. Best is trial 6 with value: 0.6730272596843615.\n",
      "[I 2025-02-24 12:51:22,938] Trial 8 finished with value: 0.5727403156384505 and parameters: {'k': 23}. Best is trial 6 with value: 0.6730272596843615.\n",
      "[I 2025-02-24 12:51:22,949] Trial 9 finished with value: 0.5248206599713057 and parameters: {'k': 5}. Best is trial 6 with value: 0.6730272596843615.\n",
      "[I 2025-02-24 12:51:22,960] Trial 10 finished with value: 0.6312769010043041 and parameters: {'k': 34}. Best is trial 6 with value: 0.6730272596843615.\n",
      "[I 2025-02-24 12:51:22,972] Trial 11 finished with value: 0.6469153515064563 and parameters: {'k': 36}. Best is trial 6 with value: 0.6730272596843615.\n",
      "[I 2025-02-24 12:51:22,983] Trial 12 finished with value: 0.5911047345767575 and parameters: {'k': 27}. Best is trial 6 with value: 0.6730272596843615.\n",
      "[I 2025-02-24 12:51:22,995] Trial 13 finished with value: 0.6395982783357246 and parameters: {'k': 35}. Best is trial 6 with value: 0.6730272596843615.\n",
      "[I 2025-02-24 12:51:23,007] Trial 14 finished with value: 0.5763271162123386 and parameters: {'k': 19}. Best is trial 6 with value: 0.6730272596843615.\n",
      "[I 2025-02-24 12:51:23,019] Trial 15 finished with value: 0.5895265423242468 and parameters: {'k': 8}. Best is trial 6 with value: 0.6730272596843615.\n",
      "[I 2025-02-24 12:51:23,031] Trial 16 finished with value: 0.6199426111908178 and parameters: {'k': 15}. Best is trial 6 with value: 0.6730272596843615.\n",
      "[I 2025-02-24 12:51:23,044] Trial 17 finished with value: 0.6426111908177905 and parameters: {'k': 46}. Best is trial 6 with value: 0.6730272596843615.\n",
      "[I 2025-02-24 12:51:23,056] Trial 18 finished with value: 0.6595408895265423 and parameters: {'k': 49}. Best is trial 6 with value: 0.6730272596843615.\n",
      "[I 2025-02-24 12:51:23,069] Trial 19 finished with value: 0.6195121951219512 and parameters: {'k': 30}. Best is trial 6 with value: 0.6730272596843615.\n",
      "[I 2025-02-24 12:51:23,081] Trial 20 finished with value: 0.6256814921090388 and parameters: {'k': 16}. Best is trial 6 with value: 0.6730272596843615.\n",
      "[I 2025-02-24 12:51:23,094] Trial 21 finished with value: 0.633715925394548 and parameters: {'k': 31}. Best is trial 6 with value: 0.6730272596843615.\n",
      "[I 2025-02-24 12:51:23,107] Trial 22 finished with value: 0.6304160688665711 and parameters: {'k': 33}. Best is trial 6 with value: 0.6730272596843615.\n",
      "[I 2025-02-24 12:51:23,121] Trial 23 finished with value: 0.5895265423242467 and parameters: {'k': 17}. Best is trial 6 with value: 0.6730272596843615.\n",
      "[I 2025-02-24 12:51:23,134] Trial 24 finished with value: 0.6569583931133429 and parameters: {'k': 43}. Best is trial 6 with value: 0.6730272596843615.\n",
      "[I 2025-02-24 12:51:23,148] Trial 25 finished with value: 0.5830703012912483 and parameters: {'k': 21}. Best is trial 6 with value: 0.6730272596843615.\n",
      "[I 2025-02-24 12:51:23,161] Trial 26 finished with value: 0.6536585365853659 and parameters: {'k': 44}. Best is trial 6 with value: 0.6730272596843615.\n",
      "[I 2025-02-24 12:51:23,175] Trial 27 finished with value: 0.630989956958393 and parameters: {'k': 9}. Best is trial 6 with value: 0.6730272596843615.\n",
      "[I 2025-02-24 12:51:23,189] Trial 28 finished with value: 0.6268292682926829 and parameters: {'k': 14}. Best is trial 6 with value: 0.6730272596843615.\n",
      "[I 2025-02-24 12:51:23,203] Trial 29 finished with value: 0.5791965566714491 and parameters: {'k': 26}. Best is trial 6 with value: 0.6730272596843615.\n",
      "[I 2025-02-24 12:51:23,217] Trial 30 finished with value: 0.5472022955523672 and parameters: {'k': 6}. Best is trial 6 with value: 0.6730272596843615.\n",
      "[I 2025-02-24 12:51:23,231] Trial 31 finished with value: 0.5810616929698709 and parameters: {'k': 18}. Best is trial 6 with value: 0.6730272596843615.\n",
      "[I 2025-02-24 12:51:23,245] Trial 32 finished with value: 0.6634146341463414 and parameters: {'k': 41}. Best is trial 6 with value: 0.6730272596843615.\n",
      "[I 2025-02-24 12:51:23,260] Trial 33 finished with value: 0.6469153515064563 and parameters: {'k': 50}. Best is trial 6 with value: 0.6730272596843615.\n",
      "[I 2025-02-24 12:51:23,274] Trial 34 finished with value: 0.5493543758967001 and parameters: {'k': 2}. Best is trial 6 with value: 0.6730272596843615.\n",
      "[I 2025-02-24 12:51:23,289] Trial 35 finished with value: 0.6242467718794835 and parameters: {'k': 13}. Best is trial 6 with value: 0.6730272596843615.\n",
      "[I 2025-02-24 12:51:23,305] Trial 36 finished with value: 0.6591104734576757 and parameters: {'k': 38}. Best is trial 6 with value: 0.6730272596843615.\n",
      "[I 2025-02-24 12:51:23,320] Trial 37 finished with value: 0.5779053084648492 and parameters: {'k': 25}. Best is trial 6 with value: 0.6730272596843615.\n",
      "[I 2025-02-24 12:51:23,335] Trial 38 finished with value: 0.5639885222381635 and parameters: {'k': 7}. Best is trial 6 with value: 0.6730272596843615.\n",
      "[I 2025-02-24 12:51:23,351] Trial 39 finished with value: 0.5741750358680057 and parameters: {'k': 24}. Best is trial 6 with value: 0.6730272596843615.\n",
      "[I 2025-02-24 12:51:23,366] Trial 40 finished with value: 0.6453371592539454 and parameters: {'k': 37}. Best is trial 6 with value: 0.6730272596843615.\n",
      "[I 2025-02-24 12:51:23,382] Trial 41 finished with value: 0.5701578192252511 and parameters: {'k': 22}. Best is trial 6 with value: 0.6730272596843615.\n",
      "[I 2025-02-24 12:51:23,398] Trial 42 finished with value: 0.5813486370157819 and parameters: {'k': 20}. Best is trial 6 with value: 0.6730272596843615.\n",
      "[I 2025-02-24 12:51:23,414] Trial 43 finished with value: 0.646054519368723 and parameters: {'k': 10}. Best is trial 6 with value: 0.6730272596843615.\n",
      "[I 2025-02-24 12:51:23,431] Trial 44 finished with value: 0.660832137733142 and parameters: {'k': 40}. Best is trial 6 with value: 0.6730272596843615.\n",
      "[I 2025-02-24 12:51:23,448] Trial 45 finished with value: 0.6522238163558106 and parameters: {'k': 47}. Best is trial 6 with value: 0.6730272596843615.\n",
      "[I 2025-02-24 12:51:23,464] Trial 46 finished with value: 0.5477761836441895 and parameters: {'k': 4}. Best is trial 6 with value: 0.6730272596843615.\n",
      "[I 2025-02-24 12:51:23,481] Trial 47 finished with value: 0.569583931133429 and parameters: {'k': 1}. Best is trial 6 with value: 0.6730272596843615.\n",
      "[I 2025-02-24 12:51:23,498] Trial 48 finished with value: 0.6492109038737446 and parameters: {'k': 48}. Best is trial 6 with value: 0.6730272596843615.\n",
      "[I 2025-02-24 12:51:23,515] Trial 49 finished with value: 0.6434720229555237 and parameters: {'k': 45}. Best is trial 6 with value: 0.6730272596843615.\n",
      "[I 2025-02-24 12:51:23,532] A new study created in memory with name: no-name-241573e0-fa7f-48d4-b9fa-6cd68c279d0d\n",
      "[I 2025-02-24 12:51:23,542] Trial 0 finished with value: 0.6469387755102042 and parameters: {'k': 29}. Best is trial 0 with value: 0.6469387755102042.\n",
      "[I 2025-02-24 12:51:23,553] Trial 1 finished with value: 0.5636479591836735 and parameters: {'k': 12}. Best is trial 0 with value: 0.6469387755102042.\n",
      "[I 2025-02-24 12:51:23,563] Trial 2 finished with value: 0.5468112244897959 and parameters: {'k': 11}. Best is trial 0 with value: 0.6469387755102042.\n",
      "[I 2025-02-24 12:51:23,574] Trial 3 finished with value: 0.5977040816326531 and parameters: {'k': 42}. Best is trial 0 with value: 0.6469387755102042.\n",
      "[I 2025-02-24 12:51:23,584] Trial 4 finished with value: 0.6031887755102041 and parameters: {'k': 3}. Best is trial 0 with value: 0.6469387755102042.\n",
      "[I 2025-02-24 12:51:23,595] Trial 5 finished with value: 0.6295918367346939 and parameters: {'k': 28}. Best is trial 0 with value: 0.6469387755102042.\n",
      "[I 2025-02-24 12:51:23,606] Trial 6 finished with value: 0.6112244897959184 and parameters: {'k': 39}. Best is trial 0 with value: 0.6469387755102042.\n",
      "[I 2025-02-24 12:51:23,617] Trial 7 finished with value: 0.6258928571428571 and parameters: {'k': 32}. Best is trial 0 with value: 0.6469387755102042.\n",
      "[I 2025-02-24 12:51:23,628] Trial 8 finished with value: 0.5974489795918367 and parameters: {'k': 23}. Best is trial 0 with value: 0.6469387755102042.\n",
      "[I 2025-02-24 12:51:23,640] Trial 9 finished with value: 0.5521683673469387 and parameters: {'k': 5}. Best is trial 0 with value: 0.6469387755102042.\n",
      "[I 2025-02-24 12:51:23,652] Trial 10 finished with value: 0.6345663265306122 and parameters: {'k': 34}. Best is trial 0 with value: 0.6469387755102042.\n",
      "[I 2025-02-24 12:51:23,664] Trial 11 finished with value: 0.6372448979591836 and parameters: {'k': 36}. Best is trial 0 with value: 0.6469387755102042.\n",
      "[I 2025-02-24 12:51:23,676] Trial 12 finished with value: 0.6196428571428572 and parameters: {'k': 27}. Best is trial 0 with value: 0.6469387755102042.\n",
      "[I 2025-02-24 12:51:23,688] Trial 13 finished with value: 0.628826530612245 and parameters: {'k': 35}. Best is trial 0 with value: 0.6469387755102042.\n",
      "[I 2025-02-24 12:51:23,700] Trial 14 finished with value: 0.6026785714285714 and parameters: {'k': 19}. Best is trial 0 with value: 0.6469387755102042.\n",
      "[I 2025-02-24 12:51:23,712] Trial 15 finished with value: 0.570280612244898 and parameters: {'k': 8}. Best is trial 0 with value: 0.6469387755102042.\n",
      "[I 2025-02-24 12:51:23,724] Trial 16 finished with value: 0.6089285714285715 and parameters: {'k': 15}. Best is trial 0 with value: 0.6469387755102042.\n",
      "[I 2025-02-24 12:51:23,737] Trial 17 finished with value: 0.5873724489795918 and parameters: {'k': 46}. Best is trial 0 with value: 0.6469387755102042.\n",
      "[I 2025-02-24 12:51:23,750] Trial 18 finished with value: 0.5952806122448979 and parameters: {'k': 49}. Best is trial 0 with value: 0.6469387755102042.\n",
      "[I 2025-02-24 12:51:23,763] Trial 19 finished with value: 0.6404336734693877 and parameters: {'k': 30}. Best is trial 0 with value: 0.6469387755102042.\n",
      "[I 2025-02-24 12:51:23,776] Trial 20 finished with value: 0.5988520408163265 and parameters: {'k': 16}. Best is trial 0 with value: 0.6469387755102042.\n",
      "[I 2025-02-24 12:51:23,789] Trial 21 finished with value: 0.6401785714285715 and parameters: {'k': 31}. Best is trial 0 with value: 0.6469387755102042.\n",
      "[I 2025-02-24 12:51:23,802] Trial 22 finished with value: 0.6280612244897958 and parameters: {'k': 33}. Best is trial 0 with value: 0.6469387755102042.\n",
      "[I 2025-02-24 12:51:23,815] Trial 23 finished with value: 0.5915816326530612 and parameters: {'k': 17}. Best is trial 0 with value: 0.6469387755102042.\n",
      "[I 2025-02-24 12:51:23,829] Trial 24 finished with value: 0.5817602040816326 and parameters: {'k': 43}. Best is trial 0 with value: 0.6469387755102042.\n",
      "[I 2025-02-24 12:51:23,842] Trial 25 finished with value: 0.5980867346938775 and parameters: {'k': 21}. Best is trial 0 with value: 0.6469387755102042.\n",
      "[I 2025-02-24 12:51:23,856] Trial 26 finished with value: 0.5792091836734694 and parameters: {'k': 44}. Best is trial 0 with value: 0.6469387755102042.\n",
      "[I 2025-02-24 12:51:23,870] Trial 27 finished with value: 0.5471938775510203 and parameters: {'k': 9}. Best is trial 0 with value: 0.6469387755102042.\n",
      "[I 2025-02-24 12:51:23,884] Trial 28 finished with value: 0.5978316326530612 and parameters: {'k': 14}. Best is trial 0 with value: 0.6469387755102042.\n",
      "[I 2025-02-24 12:51:23,898] Trial 29 finished with value: 0.6051020408163266 and parameters: {'k': 26}. Best is trial 0 with value: 0.6469387755102042.\n",
      "[I 2025-02-24 12:51:23,912] Trial 30 finished with value: 0.5711734693877552 and parameters: {'k': 6}. Best is trial 0 with value: 0.6469387755102042.\n",
      "[I 2025-02-24 12:51:23,926] Trial 31 finished with value: 0.5829081632653061 and parameters: {'k': 18}. Best is trial 0 with value: 0.6469387755102042.\n",
      "[I 2025-02-24 12:51:23,941] Trial 32 finished with value: 0.5943877551020408 and parameters: {'k': 41}. Best is trial 0 with value: 0.6469387755102042.\n",
      "[I 2025-02-24 12:51:23,956] Trial 33 finished with value: 0.5947704081632652 and parameters: {'k': 50}. Best is trial 0 with value: 0.6469387755102042.\n",
      "[I 2025-02-24 12:51:23,971] Trial 34 finished with value: 0.6519132653061224 and parameters: {'k': 2}. Best is trial 34 with value: 0.6519132653061224.\n",
      "[I 2025-02-24 12:51:23,986] Trial 35 finished with value: 0.5956632653061225 and parameters: {'k': 13}. Best is trial 34 with value: 0.6519132653061224.\n",
      "[I 2025-02-24 12:51:24,001] Trial 36 finished with value: 0.614030612244898 and parameters: {'k': 38}. Best is trial 34 with value: 0.6519132653061224.\n",
      "[I 2025-02-24 12:51:24,016] Trial 37 finished with value: 0.614030612244898 and parameters: {'k': 25}. Best is trial 34 with value: 0.6519132653061224.\n",
      "[I 2025-02-24 12:51:24,031] Trial 38 finished with value: 0.5801020408163264 and parameters: {'k': 7}. Best is trial 34 with value: 0.6519132653061224.\n",
      "[I 2025-02-24 12:51:24,047] Trial 39 finished with value: 0.6014030612244898 and parameters: {'k': 24}. Best is trial 34 with value: 0.6519132653061224.\n",
      "[I 2025-02-24 12:51:24,062] Trial 40 finished with value: 0.6275510204081632 and parameters: {'k': 37}. Best is trial 34 with value: 0.6519132653061224.\n",
      "[I 2025-02-24 12:51:24,078] Trial 41 finished with value: 0.596811224489796 and parameters: {'k': 22}. Best is trial 34 with value: 0.6519132653061224.\n",
      "[I 2025-02-24 12:51:24,093] Trial 42 finished with value: 0.589158163265306 and parameters: {'k': 20}. Best is trial 34 with value: 0.6519132653061224.\n",
      "[I 2025-02-24 12:51:24,110] Trial 43 finished with value: 0.5538265306122448 and parameters: {'k': 10}. Best is trial 34 with value: 0.6519132653061224.\n",
      "[I 2025-02-24 12:51:24,127] Trial 44 finished with value: 0.6071428571428572 and parameters: {'k': 40}. Best is trial 34 with value: 0.6519132653061224.\n",
      "[I 2025-02-24 12:51:24,148] Trial 45 finished with value: 0.5839285714285714 and parameters: {'k': 47}. Best is trial 34 with value: 0.6519132653061224.\n",
      "[I 2025-02-24 12:51:24,165] Trial 46 finished with value: 0.6176020408163265 and parameters: {'k': 4}. Best is trial 34 with value: 0.6519132653061224.\n",
      "[I 2025-02-24 12:51:24,181] Trial 47 finished with value: 0.6232142857142857 and parameters: {'k': 1}. Best is trial 34 with value: 0.6519132653061224.\n",
      "[I 2025-02-24 12:51:24,198] Trial 48 finished with value: 0.5961734693877552 and parameters: {'k': 48}. Best is trial 34 with value: 0.6519132653061224.\n",
      "[I 2025-02-24 12:51:24,217] Trial 49 finished with value: 0.5807397959183673 and parameters: {'k': 45}. Best is trial 34 with value: 0.6519132653061224.\n",
      "[I 2025-02-24 12:51:24,232] A new study created in memory with name: no-name-744cbfd9-5651-4dad-8d19-0937442d4c71\n",
      "[I 2025-02-24 12:51:24,243] Trial 0 finished with value: 0.6071052631578947 and parameters: {'k': 29}. Best is trial 0 with value: 0.6071052631578947.\n",
      "[I 2025-02-24 12:51:24,253] Trial 1 finished with value: 0.596842105263158 and parameters: {'k': 12}. Best is trial 0 with value: 0.6071052631578947.\n",
      "[I 2025-02-24 12:51:24,264] Trial 2 finished with value: 0.5946052631578947 and parameters: {'k': 11}. Best is trial 0 with value: 0.6071052631578947.\n",
      "[I 2025-02-24 12:51:24,274] Trial 3 finished with value: 0.6110526315789473 and parameters: {'k': 42}. Best is trial 3 with value: 0.6110526315789473.\n",
      "[I 2025-02-24 12:51:24,286] Trial 4 finished with value: 0.5596052631578947 and parameters: {'k': 3}. Best is trial 3 with value: 0.6110526315789473.\n",
      "[I 2025-02-24 12:51:24,297] Trial 5 finished with value: 0.6018421052631578 and parameters: {'k': 28}. Best is trial 3 with value: 0.6110526315789473.\n",
      "[I 2025-02-24 12:51:24,308] Trial 6 finished with value: 0.6142105263157895 and parameters: {'k': 39}. Best is trial 6 with value: 0.6142105263157895.\n",
      "[I 2025-02-24 12:51:24,320] Trial 7 finished with value: 0.6030263157894736 and parameters: {'k': 32}. Best is trial 6 with value: 0.6142105263157895.\n",
      "[I 2025-02-24 12:51:24,331] Trial 8 finished with value: 0.6230263157894737 and parameters: {'k': 23}. Best is trial 8 with value: 0.6230263157894737.\n",
      "[I 2025-02-24 12:51:24,343] Trial 9 finished with value: 0.6051315789473685 and parameters: {'k': 5}. Best is trial 8 with value: 0.6230263157894737.\n",
      "[I 2025-02-24 12:51:24,355] Trial 10 finished with value: 0.5973684210526315 and parameters: {'k': 34}. Best is trial 8 with value: 0.6230263157894737.\n",
      "[I 2025-02-24 12:51:24,367] Trial 11 finished with value: 0.6146052631578948 and parameters: {'k': 36}. Best is trial 8 with value: 0.6230263157894737.\n",
      "[I 2025-02-24 12:51:24,379] Trial 12 finished with value: 0.5872368421052632 and parameters: {'k': 27}. Best is trial 8 with value: 0.6230263157894737.\n",
      "[I 2025-02-24 12:51:24,391] Trial 13 finished with value: 0.6025 and parameters: {'k': 35}. Best is trial 8 with value: 0.6230263157894737.\n",
      "[I 2025-02-24 12:51:24,404] Trial 14 finished with value: 0.6 and parameters: {'k': 19}. Best is trial 8 with value: 0.6230263157894737.\n",
      "[I 2025-02-24 12:51:24,419] Trial 15 finished with value: 0.6010526315789474 and parameters: {'k': 8}. Best is trial 8 with value: 0.6230263157894737.\n",
      "[I 2025-02-24 12:51:24,434] Trial 16 finished with value: 0.5653947368421053 and parameters: {'k': 15}. Best is trial 8 with value: 0.6230263157894737.\n",
      "[I 2025-02-24 12:51:24,451] Trial 17 finished with value: 0.6267105263157895 and parameters: {'k': 46}. Best is trial 17 with value: 0.6267105263157895.\n",
      "[I 2025-02-24 12:51:24,468] Trial 18 finished with value: 0.6153947368421052 and parameters: {'k': 49}. Best is trial 17 with value: 0.6267105263157895.\n",
      "[I 2025-02-24 12:51:24,485] Trial 19 finished with value: 0.5963157894736841 and parameters: {'k': 30}. Best is trial 17 with value: 0.6267105263157895.\n",
      "[I 2025-02-24 12:51:24,501] Trial 20 finished with value: 0.5592105263157895 and parameters: {'k': 16}. Best is trial 17 with value: 0.6267105263157895.\n",
      "[I 2025-02-24 12:51:24,515] Trial 21 finished with value: 0.6055263157894738 and parameters: {'k': 31}. Best is trial 17 with value: 0.6267105263157895.\n",
      "[I 2025-02-24 12:51:24,530] Trial 22 finished with value: 0.5942105263157894 and parameters: {'k': 33}. Best is trial 17 with value: 0.6267105263157895.\n",
      "[I 2025-02-24 12:51:24,545] Trial 23 finished with value: 0.5823684210526315 and parameters: {'k': 17}. Best is trial 17 with value: 0.6267105263157895.\n",
      "[I 2025-02-24 12:51:24,559] Trial 24 finished with value: 0.6211842105263158 and parameters: {'k': 43}. Best is trial 17 with value: 0.6267105263157895.\n",
      "[I 2025-02-24 12:51:24,573] Trial 25 finished with value: 0.5867105263157895 and parameters: {'k': 21}. Best is trial 17 with value: 0.6267105263157895.\n",
      "[I 2025-02-24 12:51:24,587] Trial 26 finished with value: 0.6301315789473685 and parameters: {'k': 44}. Best is trial 26 with value: 0.6301315789473685.\n",
      "[I 2025-02-24 12:51:24,601] Trial 27 finished with value: 0.5952631578947368 and parameters: {'k': 9}. Best is trial 26 with value: 0.6301315789473685.\n",
      "[I 2025-02-24 12:51:24,615] Trial 28 finished with value: 0.5713157894736842 and parameters: {'k': 14}. Best is trial 26 with value: 0.6301315789473685.\n",
      "[I 2025-02-24 12:51:24,630] Trial 29 finished with value: 0.6047368421052632 and parameters: {'k': 26}. Best is trial 26 with value: 0.6301315789473685.\n",
      "[I 2025-02-24 12:51:24,644] Trial 30 finished with value: 0.593157894736842 and parameters: {'k': 6}. Best is trial 26 with value: 0.6301315789473685.\n",
      "[I 2025-02-24 12:51:24,661] Trial 31 finished with value: 0.5813157894736841 and parameters: {'k': 18}. Best is trial 26 with value: 0.6301315789473685.\n",
      "[I 2025-02-24 12:51:24,676] Trial 32 finished with value: 0.6157894736842104 and parameters: {'k': 41}. Best is trial 26 with value: 0.6301315789473685.\n",
      "[I 2025-02-24 12:51:24,691] Trial 33 finished with value: 0.6078947368421053 and parameters: {'k': 50}. Best is trial 26 with value: 0.6301315789473685.\n",
      "[I 2025-02-24 12:51:24,705] Trial 34 finished with value: 0.5507894736842106 and parameters: {'k': 2}. Best is trial 26 with value: 0.6301315789473685.\n",
      "[I 2025-02-24 12:51:24,720] Trial 35 finished with value: 0.5819736842105263 and parameters: {'k': 13}. Best is trial 26 with value: 0.6301315789473685.\n",
      "[I 2025-02-24 12:51:24,735] Trial 36 finished with value: 0.6210526315789473 and parameters: {'k': 38}. Best is trial 26 with value: 0.6301315789473685.\n",
      "[I 2025-02-24 12:51:24,750] Trial 37 finished with value: 0.6134210526315789 and parameters: {'k': 25}. Best is trial 26 with value: 0.6301315789473685.\n",
      "[I 2025-02-24 12:51:24,765] Trial 38 finished with value: 0.5953947368421053 and parameters: {'k': 7}. Best is trial 26 with value: 0.6301315789473685.\n",
      "[I 2025-02-24 12:51:24,781] Trial 39 finished with value: 0.6171052631578947 and parameters: {'k': 24}. Best is trial 26 with value: 0.6301315789473685.\n",
      "[I 2025-02-24 12:51:24,796] Trial 40 finished with value: 0.6160526315789474 and parameters: {'k': 37}. Best is trial 26 with value: 0.6301315789473685.\n",
      "[I 2025-02-24 12:51:24,812] Trial 41 finished with value: 0.6089473684210527 and parameters: {'k': 22}. Best is trial 26 with value: 0.6301315789473685.\n",
      "[I 2025-02-24 12:51:24,828] Trial 42 finished with value: 0.5917105263157895 and parameters: {'k': 20}. Best is trial 26 with value: 0.6301315789473685.\n",
      "[I 2025-02-24 12:51:24,844] Trial 43 finished with value: 0.6053947368421053 and parameters: {'k': 10}. Best is trial 26 with value: 0.6301315789473685.\n",
      "[I 2025-02-24 12:51:24,860] Trial 44 finished with value: 0.6121052631578947 and parameters: {'k': 40}. Best is trial 26 with value: 0.6301315789473685.\n",
      "[I 2025-02-24 12:51:24,876] Trial 45 finished with value: 0.6275 and parameters: {'k': 47}. Best is trial 26 with value: 0.6301315789473685.\n",
      "[I 2025-02-24 12:51:24,893] Trial 46 finished with value: 0.5709210526315789 and parameters: {'k': 4}. Best is trial 26 with value: 0.6301315789473685.\n",
      "[I 2025-02-24 12:51:24,909] Trial 47 finished with value: 0.5689473684210526 and parameters: {'k': 1}. Best is trial 26 with value: 0.6301315789473685.\n",
      "[I 2025-02-24 12:51:24,926] Trial 48 finished with value: 0.6230263157894738 and parameters: {'k': 48}. Best is trial 26 with value: 0.6301315789473685.\n",
      "[I 2025-02-24 12:51:24,943] Trial 49 finished with value: 0.6267105263157895 and parameters: {'k': 45}. Best is trial 26 with value: 0.6301315789473685.\n",
      "[I 2025-02-24 12:51:24,958] A new study created in memory with name: no-name-d9b4c8cc-cc2e-4d18-94e5-c58166a6bf80\n",
      "[I 2025-02-24 12:51:24,968] Trial 0 finished with value: 0.6015684290412345 and parameters: {'k': 29}. Best is trial 0 with value: 0.6015684290412345.\n",
      "[I 2025-02-24 12:51:24,979] Trial 1 finished with value: 0.46673412598026814 and parameters: {'k': 12}. Best is trial 0 with value: 0.6015684290412345.\n",
      "[I 2025-02-24 12:51:24,989] Trial 2 finished with value: 0.4629395395901847 and parameters: {'k': 11}. Best is trial 0 with value: 0.6015684290412345.\n",
      "[I 2025-02-24 12:51:25,000] Trial 3 finished with value: 0.638502403238047 and parameters: {'k': 42}. Best is trial 3 with value: 0.638502403238047.\n",
      "[I 2025-02-24 12:51:25,011] Trial 4 finished with value: 0.5970149253731343 and parameters: {'k': 3}. Best is trial 3 with value: 0.638502403238047.\n",
      "[I 2025-02-24 12:51:25,022] Trial 5 finished with value: 0.5997976220591955 and parameters: {'k': 28}. Best is trial 3 with value: 0.638502403238047.\n",
      "[I 2025-02-24 12:51:25,033] Trial 6 finished with value: 0.6044776119402985 and parameters: {'k': 39}. Best is trial 3 with value: 0.638502403238047.\n",
      "[I 2025-02-24 12:51:25,044] Trial 7 finished with value: 0.6113078674424487 and parameters: {'k': 32}. Best is trial 3 with value: 0.638502403238047.\n",
      "[I 2025-02-24 12:51:25,055] Trial 8 finished with value: 0.5384518087528458 and parameters: {'k': 23}. Best is trial 3 with value: 0.638502403238047.\n",
      "[I 2025-02-24 12:51:25,066] Trial 9 finished with value: 0.5445231469769796 and parameters: {'k': 5}. Best is trial 3 with value: 0.638502403238047.\n",
      "[I 2025-02-24 12:51:25,078] Trial 10 finished with value: 0.6177586643055907 and parameters: {'k': 34}. Best is trial 3 with value: 0.638502403238047.\n",
      "[I 2025-02-24 12:51:25,092] Trial 11 finished with value: 0.6453326587401973 and parameters: {'k': 36}. Best is trial 11 with value: 0.6453326587401973.\n",
      "[I 2025-02-24 12:51:25,103] Trial 12 finished with value: 0.5875284593979256 and parameters: {'k': 27}. Best is trial 11 with value: 0.6453326587401973.\n",
      "[I 2025-02-24 12:51:25,116] Trial 13 finished with value: 0.6425499620541361 and parameters: {'k': 35}. Best is trial 11 with value: 0.6453326587401973.\n",
      "[I 2025-02-24 12:51:25,128] Trial 14 finished with value: 0.4595244118391095 and parameters: {'k': 19}. Best is trial 11 with value: 0.6453326587401973.\n",
      "[I 2025-02-24 12:51:25,140] Trial 15 finished with value: 0.5350366810017708 and parameters: {'k': 8}. Best is trial 11 with value: 0.6453326587401973.\n",
      "[I 2025-02-24 12:51:25,154] Trial 16 finished with value: 0.45636225651404 and parameters: {'k': 15}. Best is trial 11 with value: 0.6453326587401973.\n",
      "[I 2025-02-24 12:51:25,167] Trial 17 finished with value: 0.6262332405767772 and parameters: {'k': 46}. Best is trial 11 with value: 0.6453326587401973.\n",
      "[I 2025-02-24 12:51:25,180] Trial 18 finished with value: 0.637996458386036 and parameters: {'k': 49}. Best is trial 11 with value: 0.6453326587401973.\n",
      "[I 2025-02-24 12:51:25,193] Trial 19 finished with value: 0.6091576018214014 and parameters: {'k': 30}. Best is trial 11 with value: 0.6453326587401973.\n",
      "[I 2025-02-24 12:51:25,206] Trial 20 finished with value: 0.4549709081710093 and parameters: {'k': 16}. Best is trial 11 with value: 0.6453326587401973.\n",
      "[I 2025-02-24 12:51:25,219] Trial 21 finished with value: 0.6164938021755629 and parameters: {'k': 31}. Best is trial 11 with value: 0.6453326587401973.\n",
      "[I 2025-02-24 12:51:25,233] Trial 22 finished with value: 0.6164938021755628 and parameters: {'k': 33}. Best is trial 11 with value: 0.6453326587401973.\n",
      "[I 2025-02-24 12:51:25,246] Trial 23 finished with value: 0.46306602580318745 and parameters: {'k': 17}. Best is trial 11 with value: 0.6453326587401973.\n",
      "[I 2025-02-24 12:51:25,259] Trial 24 finished with value: 0.6243359473817354 and parameters: {'k': 43}. Best is trial 11 with value: 0.6453326587401973.\n",
      "[I 2025-02-24 12:51:25,273] Trial 25 finished with value: 0.48254490260561594 and parameters: {'k': 21}. Best is trial 11 with value: 0.6453326587401973.\n",
      "[I 2025-02-24 12:51:25,287] Trial 26 finished with value: 0.6340753857829496 and parameters: {'k': 44}. Best is trial 11 with value: 0.6453326587401973.\n",
      "[I 2025-02-24 12:51:25,301] Trial 27 finished with value: 0.5056918795851252 and parameters: {'k': 9}. Best is trial 11 with value: 0.6453326587401973.\n",
      "[I 2025-02-24 12:51:25,314] Trial 28 finished with value: 0.45560333923602336 and parameters: {'k': 14}. Best is trial 11 with value: 0.6453326587401973.\n",
      "[I 2025-02-24 12:51:25,328] Trial 29 finished with value: 0.5836073867948394 and parameters: {'k': 26}. Best is trial 11 with value: 0.6453326587401973.\n",
      "[I 2025-02-24 12:51:25,343] Trial 30 finished with value: 0.5387047811788516 and parameters: {'k': 6}. Best is trial 11 with value: 0.6453326587401973.\n",
      "[I 2025-02-24 12:51:25,361] Trial 31 finished with value: 0.4600303566911207 and parameters: {'k': 18}. Best is trial 11 with value: 0.6453326587401973.\n",
      "[I 2025-02-24 12:51:25,376] Trial 32 finished with value: 0.6250948646597521 and parameters: {'k': 41}. Best is trial 11 with value: 0.6453326587401973.\n",
      "[I 2025-02-24 12:51:25,390] Trial 33 finished with value: 0.640273210220086 and parameters: {'k': 50}. Best is trial 11 with value: 0.6453326587401973.\n",
      "[I 2025-02-24 12:51:25,405] Trial 34 finished with value: 0.5777890209967114 and parameters: {'k': 2}. Best is trial 11 with value: 0.6453326587401973.\n",
      "[I 2025-02-24 12:51:25,420] Trial 35 finished with value: 0.45712117379205663 and parameters: {'k': 13}. Best is trial 11 with value: 0.6453326587401973.\n",
      "[I 2025-02-24 12:51:25,435] Trial 36 finished with value: 0.6224386541866936 and parameters: {'k': 38}. Best is trial 11 with value: 0.6453326587401973.\n",
      "[I 2025-02-24 12:51:25,451] Trial 37 finished with value: 0.5736149759676196 and parameters: {'k': 25}. Best is trial 11 with value: 0.6453326587401973.\n",
      "[I 2025-02-24 12:51:25,466] Trial 38 finished with value: 0.5380723501138376 and parameters: {'k': 7}. Best is trial 11 with value: 0.6453326587401973.\n",
      "[I 2025-02-24 12:51:25,482] Trial 39 finished with value: 0.5695674171515305 and parameters: {'k': 24}. Best is trial 11 with value: 0.6453326587401973.\n",
      "[I 2025-02-24 12:51:25,498] Trial 40 finished with value: 0.6353402479129775 and parameters: {'k': 37}. Best is trial 11 with value: 0.6453326587401973.\n",
      "[I 2025-02-24 12:51:25,514] Trial 41 finished with value: 0.5025297242600557 and parameters: {'k': 22}. Best is trial 11 with value: 0.6453326587401973.\n",
      "[I 2025-02-24 12:51:25,530] Trial 42 finished with value: 0.47116114343536547 and parameters: {'k': 20}. Best is trial 11 with value: 0.6453326587401973.\n",
      "[I 2025-02-24 12:51:25,546] Trial 43 finished with value: 0.4835567923096383 and parameters: {'k': 10}. Best is trial 11 with value: 0.6453326587401973.\n",
      "[I 2025-02-24 12:51:25,562] Trial 44 finished with value: 0.6186440677966102 and parameters: {'k': 40}. Best is trial 11 with value: 0.6453326587401973.\n",
      "[I 2025-02-24 12:51:25,578] Trial 45 finished with value: 0.629774854540855 and parameters: {'k': 47}. Best is trial 11 with value: 0.6453326587401973.\n",
      "[I 2025-02-24 12:51:25,594] Trial 46 finished with value: 0.5786744244877309 and parameters: {'k': 4}. Best is trial 11 with value: 0.6453326587401973.\n",
      "[I 2025-02-24 12:51:25,610] Trial 47 finished with value: 0.5551479888692132 and parameters: {'k': 1}. Best is trial 11 with value: 0.6453326587401973.\n",
      "[I 2025-02-24 12:51:25,627] Trial 48 finished with value: 0.6411586137111054 and parameters: {'k': 48}. Best is trial 11 with value: 0.6453326587401973.\n",
      "[I 2025-02-24 12:51:25,644] Trial 49 finished with value: 0.6293953959018468 and parameters: {'k': 45}. Best is trial 11 with value: 0.6453326587401973.\n",
      "[I 2025-02-24 12:51:25,667] A new study created in memory with name: no-name-89588d43-7a9d-4346-8651-2844bf407afc\n",
      "[I 2025-02-24 12:51:25,677] Trial 0 finished with value: 0.5837597629948829 and parameters: {'k': 29}. Best is trial 0 with value: 0.5837597629948829.\n",
      "[I 2025-02-24 12:51:25,687] Trial 1 finished with value: 0.5741987611096149 and parameters: {'k': 12}. Best is trial 0 with value: 0.5837597629948829.\n",
      "[I 2025-02-24 12:51:25,697] Trial 2 finished with value: 0.5659843792081874 and parameters: {'k': 11}. Best is trial 0 with value: 0.5837597629948829.\n",
      "[I 2025-02-24 12:51:25,707] Trial 3 finished with value: 0.598841906813897 and parameters: {'k': 42}. Best is trial 3 with value: 0.598841906813897.\n",
      "[I 2025-02-24 12:51:25,717] Trial 4 finished with value: 0.5389173175329922 and parameters: {'k': 3}. Best is trial 3 with value: 0.598841906813897.\n",
      "[I 2025-02-24 12:51:25,728] Trial 5 finished with value: 0.5825478050094264 and parameters: {'k': 28}. Best is trial 3 with value: 0.598841906813897.\n",
      "[I 2025-02-24 12:51:25,738] Trial 6 finished with value: 0.5968219768381363 and parameters: {'k': 39}. Best is trial 3 with value: 0.598841906813897.\n",
      "[I 2025-02-24 12:51:25,749] Trial 7 finished with value: 0.5974952868300566 and parameters: {'k': 32}. Best is trial 3 with value: 0.598841906813897.\n",
      "[I 2025-02-24 12:51:25,760] Trial 8 finished with value: 0.6106921626716941 and parameters: {'k': 23}. Best is trial 8 with value: 0.6106921626716941.\n",
      "[I 2025-02-24 12:51:25,771] Trial 9 finished with value: 0.5900888769189334 and parameters: {'k': 5}. Best is trial 8 with value: 0.6106921626716941.\n",
      "[I 2025-02-24 12:51:25,782] Trial 10 finished with value: 0.6031510907621869 and parameters: {'k': 34}. Best is trial 8 with value: 0.6106921626716941.\n",
      "[I 2025-02-24 12:51:25,793] Trial 11 finished with value: 0.6074602747104767 and parameters: {'k': 36}. Best is trial 8 with value: 0.6106921626716941.\n",
      "[I 2025-02-24 12:51:25,805] Trial 12 finished with value: 0.5945327228656072 and parameters: {'k': 27}. Best is trial 8 with value: 0.6106921626716941.\n",
      "[I 2025-02-24 12:51:25,816] Trial 13 finished with value: 0.6096148666846216 and parameters: {'k': 35}. Best is trial 8 with value: 0.6106921626716941.\n",
      "[I 2025-02-24 12:51:25,828] Trial 14 finished with value: 0.6003231887961217 and parameters: {'k': 19}. Best is trial 8 with value: 0.6106921626716941.\n",
      "[I 2025-02-24 12:51:25,840] Trial 15 finished with value: 0.5744680851063829 and parameters: {'k': 8}. Best is trial 8 with value: 0.6106921626716941.\n",
      "[I 2025-02-24 12:51:25,851] Trial 16 finished with value: 0.6000538647993536 and parameters: {'k': 15}. Best is trial 8 with value: 0.6106921626716941.\n",
      "[I 2025-02-24 12:51:25,864] Trial 17 finished with value: 0.5856450309722596 and parameters: {'k': 46}. Best is trial 8 with value: 0.6106921626716941.\n",
      "[I 2025-02-24 12:51:25,876] Trial 18 finished with value: 0.5755453810934553 and parameters: {'k': 49}. Best is trial 8 with value: 0.6106921626716941.\n",
      "[I 2025-02-24 12:51:25,889] Trial 19 finished with value: 0.5900888769189334 and parameters: {'k': 30}. Best is trial 8 with value: 0.6106921626716941.\n",
      "[I 2025-02-24 12:51:25,901] Trial 20 finished with value: 0.6026124427686507 and parameters: {'k': 16}. Best is trial 8 with value: 0.6106921626716941.\n",
      "[I 2025-02-24 12:51:25,914] Trial 21 finished with value: 0.5935900888769189 and parameters: {'k': 31}. Best is trial 8 with value: 0.6106921626716941.\n",
      "[I 2025-02-24 12:51:25,927] Trial 22 finished with value: 0.5977646108268246 and parameters: {'k': 33}. Best is trial 8 with value: 0.6106921626716941.\n",
      "[I 2025-02-24 12:51:25,940] Trial 23 finished with value: 0.5952060328575276 and parameters: {'k': 17}. Best is trial 8 with value: 0.6106921626716941.\n",
      "[I 2025-02-24 12:51:25,953] Trial 24 finished with value: 0.5914354969027741 and parameters: {'k': 43}. Best is trial 8 with value: 0.6106921626716941.\n",
      "[I 2025-02-24 12:51:25,966] Trial 25 finished with value: 0.6159439806086722 and parameters: {'k': 21}. Best is trial 25 with value: 0.6159439806086722.\n",
      "[I 2025-02-24 12:51:25,980] Trial 26 finished with value: 0.5861836789657958 and parameters: {'k': 44}. Best is trial 25 with value: 0.6159439806086722.\n",
      "[I 2025-02-24 12:51:25,993] Trial 27 finished with value: 0.5583086453002962 and parameters: {'k': 9}. Best is trial 25 with value: 0.6159439806086722.\n",
      "[I 2025-02-24 12:51:26,007] Trial 28 finished with value: 0.5917048208995421 and parameters: {'k': 14}. Best is trial 25 with value: 0.6159439806086722.\n",
      "[I 2025-02-24 12:51:26,021] Trial 29 finished with value: 0.6054403447347159 and parameters: {'k': 26}. Best is trial 25 with value: 0.6159439806086722.\n",
      "[I 2025-02-24 12:51:26,035] Trial 30 finished with value: 0.5776999730676005 and parameters: {'k': 6}. Best is trial 25 with value: 0.6159439806086722.\n",
      "[I 2025-02-24 12:51:26,049] Trial 31 finished with value: 0.607998922704013 and parameters: {'k': 18}. Best is trial 25 with value: 0.6159439806086722.\n",
      "[I 2025-02-24 12:51:26,063] Trial 32 finished with value: 0.5996498788042015 and parameters: {'k': 41}. Best is trial 25 with value: 0.6159439806086722.\n",
      "[I 2025-02-24 12:51:26,078] Trial 33 finished with value: 0.574468085106383 and parameters: {'k': 50}. Best is trial 25 with value: 0.6159439806086722.\n",
      "[I 2025-02-24 12:51:26,092] Trial 34 finished with value: 0.5593859412873687 and parameters: {'k': 2}. Best is trial 25 with value: 0.6159439806086722.\n",
      "[I 2025-02-24 12:51:26,106] Trial 35 finished with value: 0.5861836789657958 and parameters: {'k': 13}. Best is trial 25 with value: 0.6159439806086722.\n",
      "[I 2025-02-24 12:51:26,121] Trial 36 finished with value: 0.5949367088607596 and parameters: {'k': 38}. Best is trial 25 with value: 0.6159439806086722.\n",
      "[I 2025-02-24 12:51:26,136] Trial 37 finished with value: 0.6035550767573391 and parameters: {'k': 25}. Best is trial 25 with value: 0.6159439806086722.\n",
      "[I 2025-02-24 12:51:26,151] Trial 38 finished with value: 0.5809318610288177 and parameters: {'k': 7}. Best is trial 25 with value: 0.6159439806086722.\n",
      "[I 2025-02-24 12:51:26,166] Trial 39 finished with value: 0.6102881766765419 and parameters: {'k': 24}. Best is trial 25 with value: 0.6159439806086722.\n",
      "[I 2025-02-24 12:51:26,181] Trial 40 finished with value: 0.601131160786426 and parameters: {'k': 37}. Best is trial 25 with value: 0.6159439806086722.\n",
      "[I 2025-02-24 12:51:26,197] Trial 41 finished with value: 0.6238890385133316 and parameters: {'k': 22}. Best is trial 41 with value: 0.6238890385133316.\n",
      "[I 2025-02-24 12:51:26,212] Trial 42 finished with value: 0.6022084567734984 and parameters: {'k': 20}. Best is trial 41 with value: 0.6238890385133316.\n",
      "[I 2025-02-24 12:51:26,228] Trial 43 finished with value: 0.5447077834635066 and parameters: {'k': 10}. Best is trial 41 with value: 0.6238890385133316.\n",
      "[I 2025-02-24 12:51:26,244] Trial 44 finished with value: 0.6000538647993536 and parameters: {'k': 40}. Best is trial 41 with value: 0.6238890385133316.\n",
      "[I 2025-02-24 12:51:26,260] Trial 45 finished with value: 0.5817398330191219 and parameters: {'k': 47}. Best is trial 41 with value: 0.6238890385133316.\n",
      "[I 2025-02-24 12:51:26,276] Trial 46 finished with value: 0.5515755453810935 and parameters: {'k': 4}. Best is trial 41 with value: 0.6238890385133316.\n",
      "[I 2025-02-24 12:51:26,292] Trial 47 finished with value: 0.5867223269593321 and parameters: {'k': 1}. Best is trial 41 with value: 0.6238890385133316.\n",
      "[I 2025-02-24 12:51:26,308] Trial 48 finished with value: 0.5849717209803393 and parameters: {'k': 48}. Best is trial 41 with value: 0.6238890385133316.\n",
      "[I 2025-02-24 12:51:26,325] Trial 49 finished with value: 0.5864530029625639 and parameters: {'k': 45}. Best is trial 41 with value: 0.6238890385133316.\n",
      "[I 2025-02-24 12:51:26,341] A new study created in memory with name: no-name-47b3cebf-0076-4845-915a-7e4d0f8c8a34\n",
      "[I 2025-02-24 12:51:26,351] Trial 0 finished with value: 0.6774748923959828 and parameters: {'k': 29}. Best is trial 0 with value: 0.6774748923959828.\n",
      "[I 2025-02-24 12:51:26,361] Trial 1 finished with value: 0.6236728837876614 and parameters: {'k': 12}. Best is trial 0 with value: 0.6774748923959828.\n",
      "[I 2025-02-24 12:51:26,371] Trial 2 finished with value: 0.6154949784791965 and parameters: {'k': 11}. Best is trial 0 with value: 0.6774748923959828.\n",
      "[I 2025-02-24 12:51:26,382] Trial 3 finished with value: 0.6680057388809182 and parameters: {'k': 42}. Best is trial 0 with value: 0.6774748923959828.\n",
      "[I 2025-02-24 12:51:26,392] Trial 4 finished with value: 0.6625538020086084 and parameters: {'k': 3}. Best is trial 0 with value: 0.6774748923959828.\n",
      "[I 2025-02-24 12:51:26,403] Trial 5 finished with value: 0.6748923959827834 and parameters: {'k': 28}. Best is trial 0 with value: 0.6774748923959828.\n",
      "[I 2025-02-24 12:51:26,414] Trial 6 finished with value: 0.6680057388809182 and parameters: {'k': 39}. Best is trial 0 with value: 0.6774748923959828.\n",
      "[I 2025-02-24 12:51:26,427] Trial 7 finished with value: 0.6758967001434721 and parameters: {'k': 32}. Best is trial 0 with value: 0.6774748923959828.\n",
      "[I 2025-02-24 12:51:26,441] Trial 8 finished with value: 0.6285509325681493 and parameters: {'k': 23}. Best is trial 0 with value: 0.6774748923959828.\n",
      "[I 2025-02-24 12:51:26,454] Trial 9 finished with value: 0.6411764705882353 and parameters: {'k': 5}. Best is trial 0 with value: 0.6774748923959828.\n",
      "[I 2025-02-24 12:51:26,468] Trial 10 finished with value: 0.6674318507890962 and parameters: {'k': 34}. Best is trial 0 with value: 0.6774748923959828.\n",
      "[I 2025-02-24 12:51:26,483] Trial 11 finished with value: 0.6626972740315639 and parameters: {'k': 36}. Best is trial 0 with value: 0.6774748923959828.\n",
      "[I 2025-02-24 12:51:26,495] Trial 12 finished with value: 0.6634146341463415 and parameters: {'k': 27}. Best is trial 0 with value: 0.6774748923959828.\n",
      "[I 2025-02-24 12:51:26,507] Trial 13 finished with value: 0.6685796269727403 and parameters: {'k': 35}. Best is trial 0 with value: 0.6774748923959828.\n",
      "[I 2025-02-24 12:51:26,519] Trial 14 finished with value: 0.6223816355810616 and parameters: {'k': 19}. Best is trial 0 with value: 0.6774748923959828.\n",
      "[I 2025-02-24 12:51:26,531] Trial 15 finished with value: 0.6470588235294118 and parameters: {'k': 8}. Best is trial 0 with value: 0.6774748923959828.\n",
      "[I 2025-02-24 12:51:26,543] Trial 16 finished with value: 0.6163558106169297 and parameters: {'k': 15}. Best is trial 0 with value: 0.6774748923959828.\n",
      "[I 2025-02-24 12:51:26,555] Trial 17 finished with value: 0.6552367288378766 and parameters: {'k': 46}. Best is trial 0 with value: 0.6774748923959828.\n",
      "[I 2025-02-24 12:51:26,568] Trial 18 finished with value: 0.6659971305595409 and parameters: {'k': 49}. Best is trial 0 with value: 0.6774748923959828.\n",
      "[I 2025-02-24 12:51:26,580] Trial 19 finished with value: 0.6654232424677189 and parameters: {'k': 30}. Best is trial 0 with value: 0.6774748923959828.\n",
      "[I 2025-02-24 12:51:26,593] Trial 20 finished with value: 0.6176470588235293 and parameters: {'k': 16}. Best is trial 0 with value: 0.6774748923959828.\n",
      "[I 2025-02-24 12:51:26,606] Trial 21 finished with value: 0.6694404591104733 and parameters: {'k': 31}. Best is trial 0 with value: 0.6774748923959828.\n",
      "[I 2025-02-24 12:51:26,619] Trial 22 finished with value: 0.6773314203730273 and parameters: {'k': 33}. Best is trial 0 with value: 0.6774748923959828.\n",
      "[I 2025-02-24 12:51:26,632] Trial 23 finished with value: 0.6020086083213774 and parameters: {'k': 17}. Best is trial 0 with value: 0.6774748923959828.\n",
      "[I 2025-02-24 12:51:26,645] Trial 24 finished with value: 0.6675753228120517 and parameters: {'k': 43}. Best is trial 0 with value: 0.6774748923959828.\n",
      "[I 2025-02-24 12:51:26,658] Trial 25 finished with value: 0.6268292682926829 and parameters: {'k': 21}. Best is trial 0 with value: 0.6774748923959828.\n",
      "[I 2025-02-24 12:51:26,672] Trial 26 finished with value: 0.6791965566714491 and parameters: {'k': 44}. Best is trial 26 with value: 0.6791965566714491.\n",
      "[I 2025-02-24 12:51:26,685] Trial 27 finished with value: 0.6281205164992826 and parameters: {'k': 9}. Best is trial 26 with value: 0.6791965566714491.\n",
      "[I 2025-02-24 12:51:26,699] Trial 28 finished with value: 0.6077474892395983 and parameters: {'k': 14}. Best is trial 26 with value: 0.6791965566714491.\n",
      "[I 2025-02-24 12:51:26,713] Trial 29 finished with value: 0.6566714490674319 and parameters: {'k': 26}. Best is trial 26 with value: 0.6791965566714491.\n",
      "[I 2025-02-24 12:51:26,727] Trial 30 finished with value: 0.640028694404591 and parameters: {'k': 6}. Best is trial 26 with value: 0.6791965566714491.\n",
      "[I 2025-02-24 12:51:26,741] Trial 31 finished with value: 0.6220946915351506 and parameters: {'k': 18}. Best is trial 26 with value: 0.6791965566714491.\n",
      "[I 2025-02-24 12:51:26,755] Trial 32 finished with value: 0.6582496413199428 and parameters: {'k': 41}. Best is trial 26 with value: 0.6791965566714491.\n",
      "[I 2025-02-24 12:51:26,770] Trial 33 finished with value: 0.6687230989956958 and parameters: {'k': 50}. Best is trial 26 with value: 0.6791965566714491.\n",
      "[I 2025-02-24 12:51:26,784] Trial 34 finished with value: 0.6496413199426112 and parameters: {'k': 2}. Best is trial 26 with value: 0.6791965566714491.\n",
      "[I 2025-02-24 12:51:26,798] Trial 35 finished with value: 0.6034433285509325 and parameters: {'k': 13}. Best is trial 26 with value: 0.6791965566714491.\n",
      "[I 2025-02-24 12:51:26,813] Trial 36 finished with value: 0.667144906743185 and parameters: {'k': 38}. Best is trial 26 with value: 0.6791965566714491.\n",
      "[I 2025-02-24 12:51:26,828] Trial 37 finished with value: 0.6437589670014346 and parameters: {'k': 25}. Best is trial 26 with value: 0.6791965566714491.\n",
      "[I 2025-02-24 12:51:26,843] Trial 38 finished with value: 0.6605451936872309 and parameters: {'k': 7}. Best is trial 26 with value: 0.6791965566714491.\n",
      "[I 2025-02-24 12:51:26,858] Trial 39 finished with value: 0.6299856527977046 and parameters: {'k': 24}. Best is trial 26 with value: 0.6791965566714491.\n",
      "[I 2025-02-24 12:51:26,873] Trial 40 finished with value: 0.6459110473457675 and parameters: {'k': 37}. Best is trial 26 with value: 0.6791965566714491.\n",
      "[I 2025-02-24 12:51:26,889] Trial 41 finished with value: 0.6285509325681491 and parameters: {'k': 22}. Best is trial 26 with value: 0.6791965566714491.\n",
      "[I 2025-02-24 12:51:26,905] Trial 42 finished with value: 0.6298421807747488 and parameters: {'k': 20}. Best is trial 26 with value: 0.6791965566714491.\n",
      "[I 2025-02-24 12:51:26,920] Trial 43 finished with value: 0.621090387374462 and parameters: {'k': 10}. Best is trial 26 with value: 0.6791965566714491.\n",
      "[I 2025-02-24 12:51:26,939] Trial 44 finished with value: 0.6595408895265424 and parameters: {'k': 40}. Best is trial 26 with value: 0.6791965566714491.\n",
      "[I 2025-02-24 12:51:26,955] Trial 45 finished with value: 0.661119081779053 and parameters: {'k': 47}. Best is trial 26 with value: 0.6791965566714491.\n",
      "[I 2025-02-24 12:51:26,971] Trial 46 finished with value: 0.6736011477761836 and parameters: {'k': 4}. Best is trial 26 with value: 0.6791965566714491.\n",
      "[I 2025-02-24 12:51:26,987] Trial 47 finished with value: 0.649067431850789 and parameters: {'k': 1}. Best is trial 26 with value: 0.6791965566714491.\n",
      "[I 2025-02-24 12:51:27,003] Trial 48 finished with value: 0.6621233859397417 and parameters: {'k': 48}. Best is trial 26 with value: 0.6791965566714491.\n",
      "[I 2025-02-24 12:51:27,022] Trial 49 finished with value: 0.6621233859397417 and parameters: {'k': 45}. Best is trial 26 with value: 0.6791965566714491.\n",
      "[I 2025-02-24 12:51:27,040] A new study created in memory with name: no-name-790d6ffd-13af-4d46-94c4-521a6a321f13\n",
      "[I 2025-02-24 12:51:27,050] Trial 0 finished with value: 0.60625 and parameters: {'k': 29}. Best is trial 0 with value: 0.60625.\n",
      "[I 2025-02-24 12:51:27,060] Trial 1 finished with value: 0.550765306122449 and parameters: {'k': 12}. Best is trial 0 with value: 0.60625.\n",
      "[I 2025-02-24 12:51:27,070] Trial 2 finished with value: 0.5673469387755102 and parameters: {'k': 11}. Best is trial 0 with value: 0.60625.\n",
      "[I 2025-02-24 12:51:27,080] Trial 3 finished with value: 0.5653061224489796 and parameters: {'k': 42}. Best is trial 0 with value: 0.60625.\n",
      "[I 2025-02-24 12:51:27,091] Trial 4 finished with value: 0.5613520408163265 and parameters: {'k': 3}. Best is trial 0 with value: 0.60625.\n",
      "[I 2025-02-24 12:51:27,101] Trial 5 finished with value: 0.5989795918367347 and parameters: {'k': 28}. Best is trial 0 with value: 0.60625.\n",
      "[I 2025-02-24 12:51:27,112] Trial 6 finished with value: 0.5875 and parameters: {'k': 39}. Best is trial 0 with value: 0.60625.\n",
      "[I 2025-02-24 12:51:27,123] Trial 7 finished with value: 0.5984693877551021 and parameters: {'k': 32}. Best is trial 0 with value: 0.60625.\n",
      "[I 2025-02-24 12:51:27,134] Trial 8 finished with value: 0.5994897959183674 and parameters: {'k': 23}. Best is trial 0 with value: 0.60625.\n",
      "[I 2025-02-24 12:51:27,145] Trial 9 finished with value: 0.5533163265306122 and parameters: {'k': 5}. Best is trial 0 with value: 0.60625.\n",
      "[I 2025-02-24 12:51:27,156] Trial 10 finished with value: 0.5860969387755103 and parameters: {'k': 34}. Best is trial 0 with value: 0.60625.\n",
      "[I 2025-02-24 12:51:27,167] Trial 11 finished with value: 0.5780612244897959 and parameters: {'k': 36}. Best is trial 0 with value: 0.60625.\n",
      "[I 2025-02-24 12:51:27,179] Trial 12 finished with value: 0.6002551020408163 and parameters: {'k': 27}. Best is trial 0 with value: 0.60625.\n",
      "[I 2025-02-24 12:51:27,191] Trial 13 finished with value: 0.5869897959183673 and parameters: {'k': 35}. Best is trial 0 with value: 0.60625.\n",
      "[I 2025-02-24 12:51:27,203] Trial 14 finished with value: 0.5895408163265307 and parameters: {'k': 19}. Best is trial 0 with value: 0.60625.\n",
      "[I 2025-02-24 12:51:27,215] Trial 15 finished with value: 0.536734693877551 and parameters: {'k': 8}. Best is trial 0 with value: 0.60625.\n",
      "[I 2025-02-24 12:51:27,227] Trial 16 finished with value: 0.5663265306122449 and parameters: {'k': 15}. Best is trial 0 with value: 0.60625.\n",
      "[I 2025-02-24 12:51:27,239] Trial 17 finished with value: 0.5691326530612244 and parameters: {'k': 46}. Best is trial 0 with value: 0.60625.\n",
      "[I 2025-02-24 12:51:27,251] Trial 18 finished with value: 0.5807397959183674 and parameters: {'k': 49}. Best is trial 0 with value: 0.60625.\n",
      "[I 2025-02-24 12:51:27,264] Trial 19 finished with value: 0.6043367346938775 and parameters: {'k': 30}. Best is trial 0 with value: 0.60625.\n",
      "[I 2025-02-24 12:51:27,276] Trial 20 finished with value: 0.5567602040816326 and parameters: {'k': 16}. Best is trial 0 with value: 0.60625.\n",
      "[I 2025-02-24 12:51:27,289] Trial 21 finished with value: 0.5987244897959184 and parameters: {'k': 31}. Best is trial 0 with value: 0.60625.\n",
      "[I 2025-02-24 12:51:27,302] Trial 22 finished with value: 0.5918367346938775 and parameters: {'k': 33}. Best is trial 0 with value: 0.60625.\n",
      "[I 2025-02-24 12:51:27,315] Trial 23 finished with value: 0.5774234693877551 and parameters: {'k': 17}. Best is trial 0 with value: 0.60625.\n",
      "[I 2025-02-24 12:51:27,328] Trial 24 finished with value: 0.574234693877551 and parameters: {'k': 43}. Best is trial 0 with value: 0.60625.\n",
      "[I 2025-02-24 12:51:27,341] Trial 25 finished with value: 0.5991071428571428 and parameters: {'k': 21}. Best is trial 0 with value: 0.60625.\n",
      "[I 2025-02-24 12:51:27,355] Trial 26 finished with value: 0.5744897959183672 and parameters: {'k': 44}. Best is trial 0 with value: 0.60625.\n",
      "[I 2025-02-24 12:51:27,368] Trial 27 finished with value: 0.5524234693877551 and parameters: {'k': 9}. Best is trial 0 with value: 0.60625.\n",
      "[I 2025-02-24 12:51:27,381] Trial 28 finished with value: 0.5545918367346939 and parameters: {'k': 14}. Best is trial 0 with value: 0.60625.\n",
      "[I 2025-02-24 12:51:27,395] Trial 29 finished with value: 0.5942602040816326 and parameters: {'k': 26}. Best is trial 0 with value: 0.60625.\n",
      "[I 2025-02-24 12:51:27,409] Trial 30 finished with value: 0.5400510204081633 and parameters: {'k': 6}. Best is trial 0 with value: 0.60625.\n",
      "[I 2025-02-24 12:51:27,423] Trial 31 finished with value: 0.5835459183673469 and parameters: {'k': 18}. Best is trial 0 with value: 0.60625.\n",
      "[I 2025-02-24 12:51:27,438] Trial 32 finished with value: 0.5672193877551021 and parameters: {'k': 41}. Best is trial 0 with value: 0.60625.\n",
      "[I 2025-02-24 12:51:27,452] Trial 33 finished with value: 0.5794642857142857 and parameters: {'k': 50}. Best is trial 0 with value: 0.60625.\n",
      "[I 2025-02-24 12:51:27,467] Trial 34 finished with value: 0.5232142857142856 and parameters: {'k': 2}. Best is trial 0 with value: 0.60625.\n",
      "[I 2025-02-24 12:51:27,482] Trial 35 finished with value: 0.5543367346938777 and parameters: {'k': 13}. Best is trial 0 with value: 0.60625.\n",
      "[I 2025-02-24 12:51:27,496] Trial 36 finished with value: 0.5846938775510204 and parameters: {'k': 38}. Best is trial 0 with value: 0.60625.\n",
      "[I 2025-02-24 12:51:27,511] Trial 37 finished with value: 0.5892857142857143 and parameters: {'k': 25}. Best is trial 0 with value: 0.60625.\n",
      "[I 2025-02-24 12:51:27,526] Trial 38 finished with value: 0.5477040816326529 and parameters: {'k': 7}. Best is trial 0 with value: 0.60625.\n",
      "[I 2025-02-24 12:51:27,541] Trial 39 finished with value: 0.5860969387755102 and parameters: {'k': 24}. Best is trial 0 with value: 0.60625.\n",
      "[I 2025-02-24 12:51:27,556] Trial 40 finished with value: 0.5876275510204082 and parameters: {'k': 37}. Best is trial 0 with value: 0.60625.\n",
      "[I 2025-02-24 12:51:27,572] Trial 41 finished with value: 0.5980867346938775 and parameters: {'k': 22}. Best is trial 0 with value: 0.60625.\n",
      "[I 2025-02-24 12:51:27,588] Trial 42 finished with value: 0.5984693877551021 and parameters: {'k': 20}. Best is trial 0 with value: 0.60625.\n",
      "[I 2025-02-24 12:51:27,604] Trial 43 finished with value: 0.5534438775510203 and parameters: {'k': 10}. Best is trial 0 with value: 0.60625.\n",
      "[I 2025-02-24 12:51:27,620] Trial 44 finished with value: 0.5665816326530614 and parameters: {'k': 40}. Best is trial 0 with value: 0.60625.\n",
      "[I 2025-02-24 12:51:27,636] Trial 45 finished with value: 0.5737244897959184 and parameters: {'k': 47}. Best is trial 0 with value: 0.60625.\n",
      "[I 2025-02-24 12:51:27,651] Trial 46 finished with value: 0.5521683673469387 and parameters: {'k': 4}. Best is trial 0 with value: 0.60625.\n",
      "[I 2025-02-24 12:51:27,667] Trial 47 finished with value: 0.505357142857143 and parameters: {'k': 1}. Best is trial 0 with value: 0.60625.\n",
      "[I 2025-02-24 12:51:27,683] Trial 48 finished with value: 0.5711734693877552 and parameters: {'k': 48}. Best is trial 0 with value: 0.60625.\n",
      "[I 2025-02-24 12:51:27,700] Trial 49 finished with value: 0.5707908163265306 and parameters: {'k': 45}. Best is trial 0 with value: 0.60625.\n",
      "[I 2025-02-24 12:51:27,716] A new study created in memory with name: no-name-a01f6ba4-812f-42ca-816e-f9727d88e6d3\n",
      "[I 2025-02-24 12:51:27,726] Trial 0 finished with value: 0.6153947368421052 and parameters: {'k': 29}. Best is trial 0 with value: 0.6153947368421052.\n",
      "[I 2025-02-24 12:51:27,736] Trial 1 finished with value: 0.5746052631578946 and parameters: {'k': 12}. Best is trial 0 with value: 0.6153947368421052.\n",
      "[I 2025-02-24 12:51:27,747] Trial 2 finished with value: 0.5428947368421053 and parameters: {'k': 11}. Best is trial 0 with value: 0.6153947368421052.\n",
      "[I 2025-02-24 12:51:27,757] Trial 3 finished with value: 0.6203947368421053 and parameters: {'k': 42}. Best is trial 3 with value: 0.6203947368421053.\n",
      "[I 2025-02-24 12:51:27,767] Trial 4 finished with value: 0.4748684210526316 and parameters: {'k': 3}. Best is trial 3 with value: 0.6203947368421053.\n",
      "[I 2025-02-24 12:51:27,778] Trial 5 finished with value: 0.6075 and parameters: {'k': 28}. Best is trial 3 with value: 0.6203947368421053.\n",
      "[I 2025-02-24 12:51:27,789] Trial 6 finished with value: 0.6194736842105263 and parameters: {'k': 39}. Best is trial 3 with value: 0.6203947368421053.\n",
      "[I 2025-02-24 12:51:27,800] Trial 7 finished with value: 0.6276315789473684 and parameters: {'k': 32}. Best is trial 7 with value: 0.6276315789473684.\n",
      "[I 2025-02-24 12:51:27,811] Trial 8 finished with value: 0.5772368421052632 and parameters: {'k': 23}. Best is trial 7 with value: 0.6276315789473684.\n",
      "[I 2025-02-24 12:51:27,822] Trial 9 finished with value: 0.5139473684210526 and parameters: {'k': 5}. Best is trial 7 with value: 0.6276315789473684.\n",
      "[I 2025-02-24 12:51:27,833] Trial 10 finished with value: 0.631578947368421 and parameters: {'k': 34}. Best is trial 10 with value: 0.631578947368421.\n",
      "[I 2025-02-24 12:51:27,845] Trial 11 finished with value: 0.6247368421052631 and parameters: {'k': 36}. Best is trial 10 with value: 0.631578947368421.\n",
      "[I 2025-02-24 12:51:27,856] Trial 12 finished with value: 0.6002631578947368 and parameters: {'k': 27}. Best is trial 10 with value: 0.631578947368421.\n",
      "[I 2025-02-24 12:51:27,868] Trial 13 finished with value: 0.6232894736842106 and parameters: {'k': 35}. Best is trial 10 with value: 0.631578947368421.\n",
      "[I 2025-02-24 12:51:27,880] Trial 14 finished with value: 0.5675 and parameters: {'k': 19}. Best is trial 10 with value: 0.631578947368421.\n",
      "[I 2025-02-24 12:51:27,892] Trial 15 finished with value: 0.5290789473684211 and parameters: {'k': 8}. Best is trial 10 with value: 0.631578947368421.\n",
      "[I 2025-02-24 12:51:27,904] Trial 16 finished with value: 0.5584210526315789 and parameters: {'k': 15}. Best is trial 10 with value: 0.631578947368421.\n",
      "[I 2025-02-24 12:51:27,916] Trial 17 finished with value: 0.6126315789473684 and parameters: {'k': 46}. Best is trial 10 with value: 0.631578947368421.\n",
      "[I 2025-02-24 12:51:27,929] Trial 18 finished with value: 0.6063157894736843 and parameters: {'k': 49}. Best is trial 10 with value: 0.631578947368421.\n",
      "[I 2025-02-24 12:51:27,942] Trial 19 finished with value: 0.6159210526315789 and parameters: {'k': 30}. Best is trial 10 with value: 0.631578947368421.\n",
      "[I 2025-02-24 12:51:27,954] Trial 20 finished with value: 0.5626315789473685 and parameters: {'k': 16}. Best is trial 10 with value: 0.631578947368421.\n",
      "[I 2025-02-24 12:51:27,967] Trial 21 finished with value: 0.6173684210526316 and parameters: {'k': 31}. Best is trial 10 with value: 0.631578947368421.\n",
      "[I 2025-02-24 12:51:27,980] Trial 22 finished with value: 0.6153947368421052 and parameters: {'k': 33}. Best is trial 10 with value: 0.631578947368421.\n",
      "[I 2025-02-24 12:51:27,993] Trial 23 finished with value: 0.5589473684210526 and parameters: {'k': 17}. Best is trial 10 with value: 0.631578947368421.\n",
      "[I 2025-02-24 12:51:28,006] Trial 24 finished with value: 0.6188157894736842 and parameters: {'k': 43}. Best is trial 10 with value: 0.631578947368421.\n",
      "[I 2025-02-24 12:51:28,020] Trial 25 finished with value: 0.5685526315789474 and parameters: {'k': 21}. Best is trial 10 with value: 0.631578947368421.\n",
      "[I 2025-02-24 12:51:28,033] Trial 26 finished with value: 0.6188157894736842 and parameters: {'k': 44}. Best is trial 10 with value: 0.631578947368421.\n",
      "[I 2025-02-24 12:51:28,047] Trial 27 finished with value: 0.5322368421052632 and parameters: {'k': 9}. Best is trial 10 with value: 0.631578947368421.\n",
      "[I 2025-02-24 12:51:28,060] Trial 28 finished with value: 0.5684210526315789 and parameters: {'k': 14}. Best is trial 10 with value: 0.631578947368421.\n",
      "[I 2025-02-24 12:51:28,074] Trial 29 finished with value: 0.5936842105263158 and parameters: {'k': 26}. Best is trial 10 with value: 0.631578947368421.\n",
      "[I 2025-02-24 12:51:28,088] Trial 30 finished with value: 0.5332894736842104 and parameters: {'k': 6}. Best is trial 10 with value: 0.631578947368421.\n",
      "[I 2025-02-24 12:51:28,102] Trial 31 finished with value: 0.5680263157894736 and parameters: {'k': 18}. Best is trial 10 with value: 0.631578947368421.\n",
      "[I 2025-02-24 12:51:28,116] Trial 32 finished with value: 0.6210526315789474 and parameters: {'k': 41}. Best is trial 10 with value: 0.631578947368421.\n",
      "[I 2025-02-24 12:51:28,131] Trial 33 finished with value: 0.6119736842105263 and parameters: {'k': 50}. Best is trial 10 with value: 0.631578947368421.\n",
      "[I 2025-02-24 12:51:28,145] Trial 34 finished with value: 0.4473684210526315 and parameters: {'k': 2}. Best is trial 10 with value: 0.631578947368421.\n",
      "[I 2025-02-24 12:51:28,159] Trial 35 finished with value: 0.5793421052631579 and parameters: {'k': 13}. Best is trial 10 with value: 0.631578947368421.\n",
      "[I 2025-02-24 12:51:28,174] Trial 36 finished with value: 0.62 and parameters: {'k': 38}. Best is trial 10 with value: 0.631578947368421.\n",
      "[I 2025-02-24 12:51:28,189] Trial 37 finished with value: 0.5784210526315788 and parameters: {'k': 25}. Best is trial 10 with value: 0.631578947368421.\n",
      "[I 2025-02-24 12:51:28,204] Trial 38 finished with value: 0.5284210526315789 and parameters: {'k': 7}. Best is trial 10 with value: 0.631578947368421.\n",
      "[I 2025-02-24 12:51:28,220] Trial 39 finished with value: 0.5860526315789474 and parameters: {'k': 24}. Best is trial 10 with value: 0.631578947368421.\n",
      "[I 2025-02-24 12:51:28,236] Trial 40 finished with value: 0.6160526315789474 and parameters: {'k': 37}. Best is trial 10 with value: 0.631578947368421.\n",
      "[I 2025-02-24 12:51:28,251] Trial 41 finished with value: 0.5671052631578948 and parameters: {'k': 22}. Best is trial 10 with value: 0.631578947368421.\n",
      "[I 2025-02-24 12:51:28,267] Trial 42 finished with value: 0.5676315789473685 and parameters: {'k': 20}. Best is trial 10 with value: 0.631578947368421.\n",
      "[I 2025-02-24 12:51:28,282] Trial 43 finished with value: 0.545 and parameters: {'k': 10}. Best is trial 10 with value: 0.631578947368421.\n",
      "[I 2025-02-24 12:51:28,298] Trial 44 finished with value: 0.6196052631578948 and parameters: {'k': 40}. Best is trial 10 with value: 0.631578947368421.\n",
      "[I 2025-02-24 12:51:28,314] Trial 45 finished with value: 0.6123684210526316 and parameters: {'k': 47}. Best is trial 10 with value: 0.631578947368421.\n",
      "[I 2025-02-24 12:51:28,330] Trial 46 finished with value: 0.5056578947368421 and parameters: {'k': 4}. Best is trial 10 with value: 0.631578947368421.\n",
      "[I 2025-02-24 12:51:28,346] Trial 47 finished with value: 0.47578947368421054 and parameters: {'k': 1}. Best is trial 10 with value: 0.631578947368421.\n",
      "[I 2025-02-24 12:51:28,363] Trial 48 finished with value: 0.6081578947368421 and parameters: {'k': 48}. Best is trial 10 with value: 0.631578947368421.\n",
      "[I 2025-02-24 12:51:28,379] Trial 49 finished with value: 0.6127631578947369 and parameters: {'k': 45}. Best is trial 10 with value: 0.631578947368421.\n",
      "[I 2025-02-24 12:51:28,395] A new study created in memory with name: no-name-feef731e-251e-485a-9d92-15b08a089b1a\n",
      "[I 2025-02-24 12:51:28,405] Trial 0 finished with value: 0.6417910447761195 and parameters: {'k': 29}. Best is trial 0 with value: 0.6417910447761195.\n",
      "[I 2025-02-24 12:51:28,415] Trial 1 finished with value: 0.5848722489248672 and parameters: {'k': 12}. Best is trial 0 with value: 0.6417910447761195.\n",
      "[I 2025-02-24 12:51:28,426] Trial 2 finished with value: 0.5956235770301037 and parameters: {'k': 11}. Best is trial 0 with value: 0.6417910447761195.\n",
      "[I 2025-02-24 12:51:28,436] Trial 3 finished with value: 0.6503921072603086 and parameters: {'k': 42}. Best is trial 3 with value: 0.6503921072603086.\n",
      "[I 2025-02-24 12:51:28,447] Trial 4 finished with value: 0.5318745256767012 and parameters: {'k': 3}. Best is trial 3 with value: 0.6503921072603086.\n",
      "[I 2025-02-24 12:51:28,457] Trial 5 finished with value: 0.6428029344801417 and parameters: {'k': 28}. Best is trial 3 with value: 0.6503921072603086.\n",
      "[I 2025-02-24 12:51:28,469] Trial 6 finished with value: 0.6392613205160638 and parameters: {'k': 39}. Best is trial 3 with value: 0.6503921072603086.\n",
      "[I 2025-02-24 12:51:28,480] Trial 7 finished with value: 0.6613964077915507 and parameters: {'k': 32}. Best is trial 7 with value: 0.6613964077915507.\n",
      "[I 2025-02-24 12:51:28,491] Trial 8 finished with value: 0.6615228940045534 and parameters: {'k': 23}. Best is trial 8 with value: 0.6615228940045534.\n",
      "[I 2025-02-24 12:51:28,502] Trial 9 finished with value: 0.5595750063243107 and parameters: {'k': 5}. Best is trial 8 with value: 0.6615228940045534.\n",
      "[I 2025-02-24 12:51:28,513] Trial 10 finished with value: 0.6557045282064254 and parameters: {'k': 34}. Best is trial 8 with value: 0.6615228940045534.\n",
      "[I 2025-02-24 12:51:28,524] Trial 11 finished with value: 0.6544396660763977 and parameters: {'k': 36}. Best is trial 8 with value: 0.6615228940045534.\n",
      "[I 2025-02-24 12:51:28,535] Trial 12 finished with value: 0.6559575006324312 and parameters: {'k': 27}. Best is trial 8 with value: 0.6615228940045534.\n",
      "[I 2025-02-24 12:51:28,547] Trial 13 finished with value: 0.6677207184416899 and parameters: {'k': 35}. Best is trial 13 with value: 0.6677207184416899.\n",
      "[I 2025-02-24 12:51:28,559] Trial 14 finished with value: 0.6539337212243865 and parameters: {'k': 19}. Best is trial 13 with value: 0.6677207184416899.\n",
      "[I 2025-02-24 12:51:28,570] Trial 15 finished with value: 0.5806982038957754 and parameters: {'k': 8}. Best is trial 13 with value: 0.6677207184416899.\n",
      "[I 2025-02-24 12:51:28,582] Trial 16 finished with value: 0.6197824437136352 and parameters: {'k': 15}. Best is trial 13 with value: 0.6677207184416899.\n",
      "[I 2025-02-24 12:51:28,594] Trial 17 finished with value: 0.6782190741209209 and parameters: {'k': 46}. Best is trial 17 with value: 0.6782190741209209.\n",
      "[I 2025-02-24 12:51:28,606] Trial 18 finished with value: 0.6722742221097899 and parameters: {'k': 49}. Best is trial 17 with value: 0.6782190741209209.\n",
      "[I 2025-02-24 12:51:28,619] Trial 19 finished with value: 0.6541866936503921 and parameters: {'k': 30}. Best is trial 17 with value: 0.6782190741209209.\n",
      "[I 2025-02-24 12:51:28,631] Trial 20 finished with value: 0.6339488995699469 and parameters: {'k': 16}. Best is trial 17 with value: 0.6782190741209209.\n",
      "[I 2025-02-24 12:51:28,643] Trial 21 finished with value: 0.6568429041234507 and parameters: {'k': 31}. Best is trial 17 with value: 0.6782190741209209.\n",
      "[I 2025-02-24 12:51:28,656] Trial 22 finished with value: 0.647229951935239 and parameters: {'k': 33}. Best is trial 17 with value: 0.6782190741209209.\n",
      "[I 2025-02-24 12:51:28,669] Trial 23 finished with value: 0.6586137111054895 and parameters: {'k': 17}. Best is trial 17 with value: 0.6782190741209209.\n",
      "[I 2025-02-24 12:51:28,682] Trial 24 finished with value: 0.6605110043005312 and parameters: {'k': 43}. Best is trial 17 with value: 0.6782190741209209.\n",
      "[I 2025-02-24 12:51:28,696] Trial 25 finished with value: 0.6521629142423476 and parameters: {'k': 21}. Best is trial 17 with value: 0.6782190741209209.\n",
      "[I 2025-02-24 12:51:28,710] Trial 26 finished with value: 0.651909941816342 and parameters: {'k': 44}. Best is trial 17 with value: 0.6782190741209209.\n",
      "[I 2025-02-24 12:51:28,723] Trial 27 finished with value: 0.5894257525929673 and parameters: {'k': 9}. Best is trial 17 with value: 0.6782190741209209.\n",
      "[I 2025-02-24 12:51:28,737] Trial 28 finished with value: 0.5932203389830508 and parameters: {'k': 14}. Best is trial 17 with value: 0.6782190741209209.\n",
      "[I 2025-02-24 12:51:28,750] Trial 29 finished with value: 0.6656969390336454 and parameters: {'k': 26}. Best is trial 17 with value: 0.6782190741209209.\n",
      "[I 2025-02-24 12:51:28,764] Trial 30 finished with value: 0.5660258031874525 and parameters: {'k': 6}. Best is trial 17 with value: 0.6782190741209209.\n",
      "[I 2025-02-24 12:51:28,778] Trial 31 finished with value: 0.6656969390336452 and parameters: {'k': 18}. Best is trial 17 with value: 0.6782190741209209.\n",
      "[I 2025-02-24 12:51:28,792] Trial 32 finished with value: 0.6462180622312169 and parameters: {'k': 41}. Best is trial 17 with value: 0.6782190741209209.\n",
      "[I 2025-02-24 12:51:28,807] Trial 33 finished with value: 0.6721477358967872 and parameters: {'k': 50}. Best is trial 17 with value: 0.6782190741209209.\n",
      "[I 2025-02-24 12:51:28,821] Trial 34 finished with value: 0.5008854034910195 and parameters: {'k': 2}. Best is trial 17 with value: 0.6782190741209209.\n",
      "[I 2025-02-24 12:51:28,835] Trial 35 finished with value: 0.5924614217050341 and parameters: {'k': 13}. Best is trial 17 with value: 0.6782190741209209.\n",
      "[I 2025-02-24 12:51:28,850] Trial 36 finished with value: 0.6414115861371111 and parameters: {'k': 38}. Best is trial 17 with value: 0.6782190741209209.\n",
      "[I 2025-02-24 12:51:28,865] Trial 37 finished with value: 0.6668353149506704 and parameters: {'k': 25}. Best is trial 17 with value: 0.6782190741209209.\n",
      "[I 2025-02-24 12:51:28,880] Trial 38 finished with value: 0.5643814824184165 and parameters: {'k': 7}. Best is trial 17 with value: 0.6782190741209209.\n",
      "[I 2025-02-24 12:51:28,895] Trial 39 finished with value: 0.6703769289147483 and parameters: {'k': 24}. Best is trial 17 with value: 0.6782190741209209.\n",
      "[I 2025-02-24 12:51:28,910] Trial 40 finished with value: 0.6574753351884645 and parameters: {'k': 37}. Best is trial 17 with value: 0.6782190741209209.\n",
      "[I 2025-02-24 12:51:28,925] Trial 41 finished with value: 0.6574753351884645 and parameters: {'k': 22}. Best is trial 17 with value: 0.6782190741209209.\n",
      "[I 2025-02-24 12:51:28,940] Trial 42 finished with value: 0.6546926385024031 and parameters: {'k': 20}. Best is trial 17 with value: 0.6782190741209209.\n",
      "[I 2025-02-24 12:51:28,956] Trial 43 finished with value: 0.6035922084492791 and parameters: {'k': 10}. Best is trial 17 with value: 0.6782190741209209.\n",
      "[I 2025-02-24 12:51:28,972] Trial 44 finished with value: 0.6568429041234506 and parameters: {'k': 40}. Best is trial 17 with value: 0.6782190741209209.\n",
      "[I 2025-02-24 12:51:28,988] Trial 45 finished with value: 0.6707563875537567 and parameters: {'k': 47}. Best is trial 17 with value: 0.6782190741209209.\n",
      "[I 2025-02-24 12:51:29,004] Trial 46 finished with value: 0.5422463951429294 and parameters: {'k': 4}. Best is trial 17 with value: 0.6782190741209209.\n",
      "[I 2025-02-24 12:51:29,019] Trial 47 finished with value: 0.5283329117126234 and parameters: {'k': 1}. Best is trial 17 with value: 0.6782190741209209.\n",
      "[I 2025-02-24 12:51:29,036] Trial 48 finished with value: 0.6720212496837845 and parameters: {'k': 48}. Best is trial 17 with value: 0.6782190741209209.\n",
      "[I 2025-02-24 12:51:29,052] Trial 49 finished with value: 0.6555780419934226 and parameters: {'k': 45}. Best is trial 17 with value: 0.6782190741209209.\n",
      "[I 2025-02-24 12:51:29,073] A new study created in memory with name: no-name-1ab24b96-55c7-4acf-a640-985d6f1ce6e0\n",
      "[I 2025-02-24 12:51:29,083] Trial 0 finished with value: 0.5717748451387019 and parameters: {'k': 29}. Best is trial 0 with value: 0.5717748451387019.\n",
      "[I 2025-02-24 12:51:29,093] Trial 1 finished with value: 0.581874495017506 and parameters: {'k': 12}. Best is trial 1 with value: 0.581874495017506.\n",
      "[I 2025-02-24 12:51:29,103] Trial 2 finished with value: 0.6055750067330999 and parameters: {'k': 11}. Best is trial 2 with value: 0.6055750067330999.\n",
      "[I 2025-02-24 12:51:29,113] Trial 3 finished with value: 0.5688122811742526 and parameters: {'k': 42}. Best is trial 2 with value: 0.6055750067330999.\n",
      "[I 2025-02-24 12:51:29,124] Trial 4 finished with value: 0.5884729329383248 and parameters: {'k': 3}. Best is trial 2 with value: 0.6055750067330999.\n",
      "[I 2025-02-24 12:51:29,134] Trial 5 finished with value: 0.5579046593051441 and parameters: {'k': 28}. Best is trial 2 with value: 0.6055750067330999.\n",
      "[I 2025-02-24 12:51:29,145] Trial 6 finished with value: 0.5772959870724481 and parameters: {'k': 39}. Best is trial 2 with value: 0.6055750067330999.\n",
      "[I 2025-02-24 12:51:29,156] Trial 7 finished with value: 0.5685429571774845 and parameters: {'k': 32}. Best is trial 2 with value: 0.6055750067330999.\n",
      "[I 2025-02-24 12:51:29,167] Trial 8 finished with value: 0.5486129814166443 and parameters: {'k': 23}. Best is trial 2 with value: 0.6055750067330999.\n",
      "[I 2025-02-24 12:51:29,177] Trial 9 finished with value: 0.5653110692162672 and parameters: {'k': 5}. Best is trial 2 with value: 0.6055750067330999.\n",
      "[I 2025-02-24 12:51:29,189] Trial 10 finished with value: 0.5723134931322381 and parameters: {'k': 34}. Best is trial 2 with value: 0.6055750067330999.\n",
      "[I 2025-02-24 12:51:29,203] Trial 11 finished with value: 0.5790465930514409 and parameters: {'k': 36}. Best is trial 2 with value: 0.6055750067330999.\n",
      "[I 2025-02-24 12:51:29,217] Trial 12 finished with value: 0.5544034473471585 and parameters: {'k': 27}. Best is trial 2 with value: 0.6055750067330999.\n",
      "[I 2025-02-24 12:51:29,231] Trial 13 finished with value: 0.5754107190950714 and parameters: {'k': 35}. Best is trial 2 with value: 0.6055750067330999.\n",
      "[I 2025-02-24 12:51:29,245] Trial 14 finished with value: 0.5583086453002963 and parameters: {'k': 19}. Best is trial 2 with value: 0.6055750067330999.\n",
      "[I 2025-02-24 12:51:29,260] Trial 15 finished with value: 0.5957446808510638 and parameters: {'k': 8}. Best is trial 2 with value: 0.6055750067330999.\n",
      "[I 2025-02-24 12:51:29,273] Trial 16 finished with value: 0.555211419337463 and parameters: {'k': 15}. Best is trial 2 with value: 0.6055750067330999.\n",
      "[I 2025-02-24 12:51:29,285] Trial 17 finished with value: 0.5587126312954486 and parameters: {'k': 46}. Best is trial 2 with value: 0.6055750067330999.\n",
      "[I 2025-02-24 12:51:29,298] Trial 18 finished with value: 0.5593859412873688 and parameters: {'k': 49}. Best is trial 2 with value: 0.6055750067330999.\n",
      "[I 2025-02-24 12:51:29,310] Trial 19 finished with value: 0.574333423107999 and parameters: {'k': 30}. Best is trial 2 with value: 0.6055750067330999.\n",
      "[I 2025-02-24 12:51:29,323] Trial 20 finished with value: 0.5529221653649341 and parameters: {'k': 16}. Best is trial 2 with value: 0.6055750067330999.\n",
      "[I 2025-02-24 12:51:29,335] Trial 21 finished with value: 0.5670616751952599 and parameters: {'k': 31}. Best is trial 2 with value: 0.6055750067330999.\n",
      "[I 2025-02-24 12:51:29,348] Trial 22 finished with value: 0.5634258012388904 and parameters: {'k': 33}. Best is trial 2 with value: 0.6055750067330999.\n",
      "[I 2025-02-24 12:51:29,361] Trial 23 finished with value: 0.5603285752760571 and parameters: {'k': 17}. Best is trial 2 with value: 0.6055750067330999.\n",
      "[I 2025-02-24 12:51:29,374] Trial 24 finished with value: 0.5661190412065715 and parameters: {'k': 43}. Best is trial 2 with value: 0.6055750067330999.\n",
      "[I 2025-02-24 12:51:29,387] Trial 25 finished with value: 0.5663883652033397 and parameters: {'k': 21}. Best is trial 2 with value: 0.6055750067330999.\n",
      "[I 2025-02-24 12:51:29,401] Trial 26 finished with value: 0.562617829248586 and parameters: {'k': 44}. Best is trial 2 with value: 0.6055750067330999.\n",
      "[I 2025-02-24 12:51:29,414] Trial 27 finished with value: 0.5871263129544843 and parameters: {'k': 9}. Best is trial 2 with value: 0.6055750067330999.\n",
      "[I 2025-02-24 12:51:29,428] Trial 28 finished with value: 0.564772421222731 and parameters: {'k': 14}. Best is trial 2 with value: 0.6055750067330999.\n",
      "[I 2025-02-24 12:51:29,442] Trial 29 finished with value: 0.5605978992728252 and parameters: {'k': 26}. Best is trial 2 with value: 0.6055750067330999.\n",
      "[I 2025-02-24 12:51:29,456] Trial 30 finished with value: 0.5583086453002962 and parameters: {'k': 6}. Best is trial 2 with value: 0.6055750067330999.\n",
      "[I 2025-02-24 12:51:29,470] Trial 31 finished with value: 0.55776999730676 and parameters: {'k': 18}. Best is trial 2 with value: 0.6055750067330999.\n",
      "[I 2025-02-24 12:51:29,485] Trial 32 finished with value: 0.5636951252356586 and parameters: {'k': 41}. Best is trial 2 with value: 0.6055750067330999.\n",
      "[I 2025-02-24 12:51:29,499] Trial 33 finished with value: 0.5604632372744411 and parameters: {'k': 50}. Best is trial 2 with value: 0.6055750067330999.\n",
      "[I 2025-02-24 12:51:29,513] Trial 34 finished with value: 0.5829517910045785 and parameters: {'k': 2}. Best is trial 2 with value: 0.6055750067330999.\n",
      "[I 2025-02-24 12:51:29,528] Trial 35 finished with value: 0.5731214651225425 and parameters: {'k': 13}. Best is trial 2 with value: 0.6055750067330999.\n",
      "[I 2025-02-24 12:51:29,543] Trial 36 finished with value: 0.5783732830595206 and parameters: {'k': 38}. Best is trial 2 with value: 0.6055750067330999.\n",
      "[I 2025-02-24 12:51:29,558] Trial 37 finished with value: 0.5723134931322381 and parameters: {'k': 25}. Best is trial 2 with value: 0.6055750067330999.\n",
      "[I 2025-02-24 12:51:29,573] Trial 38 finished with value: 0.5949367088607596 and parameters: {'k': 7}. Best is trial 2 with value: 0.6055750067330999.\n",
      "[I 2025-02-24 12:51:29,588] Trial 39 finished with value: 0.5618098572582817 and parameters: {'k': 24}. Best is trial 2 with value: 0.6055750067330999.\n",
      "[I 2025-02-24 12:51:29,603] Trial 40 finished with value: 0.5801238890385133 and parameters: {'k': 37}. Best is trial 2 with value: 0.6055750067330999.\n",
      "[I 2025-02-24 12:51:29,618] Trial 41 finished with value: 0.5640991112308107 and parameters: {'k': 22}. Best is trial 2 with value: 0.6055750067330999.\n",
      "[I 2025-02-24 12:51:29,634] Trial 42 finished with value: 0.5514408833827095 and parameters: {'k': 20}. Best is trial 2 with value: 0.6055750067330999.\n",
      "[I 2025-02-24 12:51:29,649] Trial 43 finished with value: 0.5997845408025856 and parameters: {'k': 10}. Best is trial 2 with value: 0.6055750067330999.\n",
      "[I 2025-02-24 12:51:29,665] Trial 44 finished with value: 0.5805278750336654 and parameters: {'k': 40}. Best is trial 2 with value: 0.6055750067330999.\n",
      "[I 2025-02-24 12:51:29,681] Trial 45 finished with value: 0.5603285752760571 and parameters: {'k': 47}. Best is trial 2 with value: 0.6055750067330999.\n",
      "[I 2025-02-24 12:51:29,697] Trial 46 finished with value: 0.6117694586587665 and parameters: {'k': 4}. Best is trial 46 with value: 0.6117694586587665.\n",
      "[I 2025-02-24 12:51:29,713] Trial 47 finished with value: 0.5737947751144626 and parameters: {'k': 1}. Best is trial 46 with value: 0.6117694586587665.\n",
      "[I 2025-02-24 12:51:29,729] Trial 48 finished with value: 0.5651764072178831 and parameters: {'k': 48}. Best is trial 46 with value: 0.6117694586587665.\n",
      "[I 2025-02-24 12:51:29,746] Trial 49 finished with value: 0.567330999192028 and parameters: {'k': 45}. Best is trial 46 with value: 0.6117694586587665.\n",
      "[I 2025-02-24 12:51:29,761] A new study created in memory with name: no-name-399e8723-10d8-4370-86b9-f026059de7e6\n",
      "[I 2025-02-24 12:51:29,771] Trial 0 finished with value: 0.6162123385939743 and parameters: {'k': 29}. Best is trial 0 with value: 0.6162123385939743.\n",
      "[I 2025-02-24 12:51:29,781] Trial 1 finished with value: 0.5549497847919656 and parameters: {'k': 12}. Best is trial 0 with value: 0.6162123385939743.\n",
      "[I 2025-02-24 12:51:29,791] Trial 2 finished with value: 0.5440459110473458 and parameters: {'k': 11}. Best is trial 0 with value: 0.6162123385939743.\n",
      "[I 2025-02-24 12:51:29,802] Trial 3 finished with value: 0.6562410329985653 and parameters: {'k': 42}. Best is trial 3 with value: 0.6562410329985653.\n",
      "[I 2025-02-24 12:51:29,812] Trial 4 finished with value: 0.5637015781922525 and parameters: {'k': 3}. Best is trial 3 with value: 0.6562410329985653.\n",
      "[I 2025-02-24 12:51:29,822] Trial 5 finished with value: 0.6164992826398852 and parameters: {'k': 28}. Best is trial 3 with value: 0.6562410329985653.\n",
      "[I 2025-02-24 12:51:29,833] Trial 6 finished with value: 0.6506456241032998 and parameters: {'k': 39}. Best is trial 3 with value: 0.6562410329985653.\n",
      "[I 2025-02-24 12:51:29,844] Trial 7 finished with value: 0.6461979913916787 and parameters: {'k': 32}. Best is trial 3 with value: 0.6562410329985653.\n",
      "[I 2025-02-24 12:51:29,855] Trial 8 finished with value: 0.5898134863701578 and parameters: {'k': 23}. Best is trial 3 with value: 0.6562410329985653.\n",
      "[I 2025-02-24 12:51:29,866] Trial 9 finished with value: 0.599426111908178 and parameters: {'k': 5}. Best is trial 3 with value: 0.6562410329985653.\n",
      "[I 2025-02-24 12:51:29,877] Trial 10 finished with value: 0.6413199426111909 and parameters: {'k': 34}. Best is trial 3 with value: 0.6562410329985653.\n",
      "[I 2025-02-24 12:51:29,889] Trial 11 finished with value: 0.666857962697274 and parameters: {'k': 36}. Best is trial 11 with value: 0.666857962697274.\n",
      "[I 2025-02-24 12:51:29,901] Trial 12 finished with value: 0.621377331420373 and parameters: {'k': 27}. Best is trial 11 with value: 0.666857962697274.\n",
      "[I 2025-02-24 12:51:29,913] Trial 13 finished with value: 0.6559540889526543 and parameters: {'k': 35}. Best is trial 11 with value: 0.666857962697274.\n",
      "[I 2025-02-24 12:51:29,925] Trial 14 finished with value: 0.5777618364418938 and parameters: {'k': 19}. Best is trial 11 with value: 0.666857962697274.\n",
      "[I 2025-02-24 12:51:29,937] Trial 15 finished with value: 0.5859397417503587 and parameters: {'k': 8}. Best is trial 11 with value: 0.666857962697274.\n",
      "[I 2025-02-24 12:51:29,949] Trial 16 finished with value: 0.5609756097560976 and parameters: {'k': 15}. Best is trial 11 with value: 0.666857962697274.\n",
      "[I 2025-02-24 12:51:29,963] Trial 17 finished with value: 0.6601147776183643 and parameters: {'k': 46}. Best is trial 11 with value: 0.666857962697274.\n",
      "[I 2025-02-24 12:51:29,976] Trial 18 finished with value: 0.6543758967001435 and parameters: {'k': 49}. Best is trial 11 with value: 0.666857962697274.\n",
      "[I 2025-02-24 12:51:29,990] Trial 19 finished with value: 0.6301291248206601 and parameters: {'k': 30}. Best is trial 11 with value: 0.666857962697274.\n",
      "[I 2025-02-24 12:51:30,004] Trial 20 finished with value: 0.5637015781922524 and parameters: {'k': 16}. Best is trial 11 with value: 0.666857962697274.\n",
      "[I 2025-02-24 12:51:30,018] Trial 21 finished with value: 0.6436154949784791 and parameters: {'k': 31}. Best is trial 11 with value: 0.666857962697274.\n",
      "[I 2025-02-24 12:51:30,032] Trial 22 finished with value: 0.6461979913916787 and parameters: {'k': 33}. Best is trial 11 with value: 0.666857962697274.\n",
      "[I 2025-02-24 12:51:30,046] Trial 23 finished with value: 0.5760401721664274 and parameters: {'k': 17}. Best is trial 11 with value: 0.666857962697274.\n",
      "[I 2025-02-24 12:51:30,060] Trial 24 finished with value: 0.6502152080344332 and parameters: {'k': 43}. Best is trial 11 with value: 0.666857962697274.\n",
      "[I 2025-02-24 12:51:30,073] Trial 25 finished with value: 0.5817790530846485 and parameters: {'k': 21}. Best is trial 11 with value: 0.666857962697274.\n",
      "[I 2025-02-24 12:51:30,087] Trial 26 finished with value: 0.6436154949784791 and parameters: {'k': 44}. Best is trial 11 with value: 0.666857962697274.\n",
      "[I 2025-02-24 12:51:30,100] Trial 27 finished with value: 0.593113342898135 and parameters: {'k': 9}. Best is trial 11 with value: 0.666857962697274.\n",
      "[I 2025-02-24 12:51:30,117] Trial 28 finished with value: 0.5555236728837878 and parameters: {'k': 14}. Best is trial 11 with value: 0.666857962697274.\n",
      "[I 2025-02-24 12:51:30,133] Trial 29 finished with value: 0.603299856527977 and parameters: {'k': 26}. Best is trial 11 with value: 0.666857962697274.\n",
      "[I 2025-02-24 12:51:30,147] Trial 30 finished with value: 0.5642754662840745 and parameters: {'k': 6}. Best is trial 11 with value: 0.666857962697274.\n",
      "[I 2025-02-24 12:51:30,161] Trial 31 finished with value: 0.5819225251076041 and parameters: {'k': 18}. Best is trial 11 with value: 0.666857962697274.\n",
      "[I 2025-02-24 12:51:30,177] Trial 32 finished with value: 0.6520803443328551 and parameters: {'k': 41}. Best is trial 11 with value: 0.666857962697274.\n",
      "[I 2025-02-24 12:51:30,192] Trial 33 finished with value: 0.6612625538020086 and parameters: {'k': 50}. Best is trial 11 with value: 0.666857962697274.\n",
      "[I 2025-02-24 12:51:30,207] Trial 34 finished with value: 0.5167862266857962 and parameters: {'k': 2}. Best is trial 11 with value: 0.666857962697274.\n",
      "[I 2025-02-24 12:51:30,221] Trial 35 finished with value: 0.5639885222381635 and parameters: {'k': 13}. Best is trial 11 with value: 0.666857962697274.\n",
      "[I 2025-02-24 12:51:30,236] Trial 36 finished with value: 0.6503586800573888 and parameters: {'k': 38}. Best is trial 11 with value: 0.666857962697274.\n",
      "[I 2025-02-24 12:51:30,251] Trial 37 finished with value: 0.5902439024390245 and parameters: {'k': 25}. Best is trial 11 with value: 0.666857962697274.\n",
      "[I 2025-02-24 12:51:30,266] Trial 38 finished with value: 0.555093256814921 and parameters: {'k': 7}. Best is trial 11 with value: 0.666857962697274.\n",
      "[I 2025-02-24 12:51:30,280] Trial 39 finished with value: 0.5923959827833573 and parameters: {'k': 24}. Best is trial 11 with value: 0.666857962697274.\n",
      "[I 2025-02-24 12:51:30,295] Trial 40 finished with value: 0.6516499282639885 and parameters: {'k': 37}. Best is trial 11 with value: 0.666857962697274.\n",
      "[I 2025-02-24 12:51:30,311] Trial 41 finished with value: 0.5820659971305595 and parameters: {'k': 22}. Best is trial 11 with value: 0.666857962697274.\n",
      "[I 2025-02-24 12:51:30,326] Trial 42 finished with value: 0.5830703012912481 and parameters: {'k': 20}. Best is trial 11 with value: 0.666857962697274.\n",
      "[I 2025-02-24 12:51:30,341] Trial 43 finished with value: 0.59454806312769 and parameters: {'k': 10}. Best is trial 11 with value: 0.666857962697274.\n",
      "[I 2025-02-24 12:51:30,357] Trial 44 finished with value: 0.6509325681492109 and parameters: {'k': 40}. Best is trial 11 with value: 0.666857962697274.\n",
      "[I 2025-02-24 12:51:30,373] Trial 45 finished with value: 0.6598278335724534 and parameters: {'k': 47}. Best is trial 11 with value: 0.666857962697274.\n",
      "[I 2025-02-24 12:51:30,388] Trial 46 finished with value: 0.5784791965566715 and parameters: {'k': 4}. Best is trial 11 with value: 0.666857962697274.\n",
      "[I 2025-02-24 12:51:30,404] Trial 47 finished with value: 0.4892395982783357 and parameters: {'k': 1}. Best is trial 11 with value: 0.666857962697274.\n",
      "[I 2025-02-24 12:51:30,420] Trial 48 finished with value: 0.6529411764705882 and parameters: {'k': 48}. Best is trial 11 with value: 0.666857962697274.\n",
      "[I 2025-02-24 12:51:30,437] Trial 49 finished with value: 0.6472022955523673 and parameters: {'k': 45}. Best is trial 11 with value: 0.666857962697274.\n",
      "[I 2025-02-24 12:51:30,453] A new study created in memory with name: no-name-dfed7290-838c-40d6-b430-3a132bc829e1\n",
      "[I 2025-02-24 12:51:30,463] Trial 0 finished with value: 0.624107142857143 and parameters: {'k': 29}. Best is trial 0 with value: 0.624107142857143.\n",
      "[I 2025-02-24 12:51:30,473] Trial 1 finished with value: 0.5485969387755103 and parameters: {'k': 12}. Best is trial 0 with value: 0.624107142857143.\n",
      "[I 2025-02-24 12:51:30,483] Trial 2 finished with value: 0.5590561224489795 and parameters: {'k': 11}. Best is trial 0 with value: 0.624107142857143.\n",
      "[I 2025-02-24 12:51:30,493] Trial 3 finished with value: 0.6082908163265307 and parameters: {'k': 42}. Best is trial 0 with value: 0.624107142857143.\n",
      "[I 2025-02-24 12:51:30,503] Trial 4 finished with value: 0.6308673469387756 and parameters: {'k': 3}. Best is trial 4 with value: 0.6308673469387756.\n",
      "[I 2025-02-24 12:51:30,513] Trial 5 finished with value: 0.6218112244897959 and parameters: {'k': 28}. Best is trial 4 with value: 0.6308673469387756.\n",
      "[I 2025-02-24 12:51:30,524] Trial 6 finished with value: 0.6139030612244898 and parameters: {'k': 39}. Best is trial 4 with value: 0.6308673469387756.\n",
      "[I 2025-02-24 12:51:30,535] Trial 7 finished with value: 0.6357142857142858 and parameters: {'k': 32}. Best is trial 7 with value: 0.6357142857142858.\n",
      "[I 2025-02-24 12:51:30,549] Trial 8 finished with value: 0.6039540816326531 and parameters: {'k': 23}. Best is trial 7 with value: 0.6357142857142858.\n",
      "[I 2025-02-24 12:51:30,562] Trial 9 finished with value: 0.5915816326530612 and parameters: {'k': 5}. Best is trial 7 with value: 0.6357142857142858.\n",
      "[I 2025-02-24 12:51:30,573] Trial 10 finished with value: 0.6357142857142857 and parameters: {'k': 34}. Best is trial 7 with value: 0.6357142857142858.\n",
      "[I 2025-02-24 12:51:30,585] Trial 11 finished with value: 0.6252551020408164 and parameters: {'k': 36}. Best is trial 7 with value: 0.6357142857142858.\n",
      "[I 2025-02-24 12:51:30,596] Trial 12 finished with value: 0.6014030612244898 and parameters: {'k': 27}. Best is trial 7 with value: 0.6357142857142858.\n",
      "[I 2025-02-24 12:51:30,608] Trial 13 finished with value: 0.6290816326530613 and parameters: {'k': 35}. Best is trial 7 with value: 0.6357142857142858.\n",
      "[I 2025-02-24 12:51:30,619] Trial 14 finished with value: 0.5991071428571428 and parameters: {'k': 19}. Best is trial 7 with value: 0.6357142857142858.\n",
      "[I 2025-02-24 12:51:30,631] Trial 15 finished with value: 0.5380102040816327 and parameters: {'k': 8}. Best is trial 7 with value: 0.6357142857142858.\n",
      "[I 2025-02-24 12:51:30,643] Trial 16 finished with value: 0.5848214285714285 and parameters: {'k': 15}. Best is trial 7 with value: 0.6357142857142858.\n",
      "[I 2025-02-24 12:51:30,655] Trial 17 finished with value: 0.6031887755102041 and parameters: {'k': 46}. Best is trial 7 with value: 0.6357142857142858.\n",
      "[I 2025-02-24 12:51:30,668] Trial 18 finished with value: 0.5901785714285714 and parameters: {'k': 49}. Best is trial 7 with value: 0.6357142857142858.\n",
      "[I 2025-02-24 12:51:30,680] Trial 19 finished with value: 0.6321428571428572 and parameters: {'k': 30}. Best is trial 7 with value: 0.6357142857142858.\n",
      "[I 2025-02-24 12:51:30,692] Trial 20 finished with value: 0.5959183673469387 and parameters: {'k': 16}. Best is trial 7 with value: 0.6357142857142858.\n",
      "[I 2025-02-24 12:51:30,705] Trial 21 finished with value: 0.6395408163265306 and parameters: {'k': 31}. Best is trial 21 with value: 0.6395408163265306.\n",
      "[I 2025-02-24 12:51:30,717] Trial 22 finished with value: 0.6357142857142857 and parameters: {'k': 33}. Best is trial 21 with value: 0.6395408163265306.\n",
      "[I 2025-02-24 12:51:30,730] Trial 23 finished with value: 0.6118622448979592 and parameters: {'k': 17}. Best is trial 21 with value: 0.6395408163265306.\n",
      "[I 2025-02-24 12:51:30,744] Trial 24 finished with value: 0.6070153061224489 and parameters: {'k': 43}. Best is trial 21 with value: 0.6395408163265306.\n",
      "[I 2025-02-24 12:51:30,760] Trial 25 finished with value: 0.6169642857142856 and parameters: {'k': 21}. Best is trial 21 with value: 0.6395408163265306.\n",
      "[I 2025-02-24 12:51:30,776] Trial 26 finished with value: 0.6128826530612245 and parameters: {'k': 44}. Best is trial 21 with value: 0.6395408163265306.\n",
      "[I 2025-02-24 12:51:30,793] Trial 27 finished with value: 0.5292091836734694 and parameters: {'k': 9}. Best is trial 21 with value: 0.6395408163265306.\n",
      "[I 2025-02-24 12:51:30,809] Trial 28 finished with value: 0.5821428571428572 and parameters: {'k': 14}. Best is trial 21 with value: 0.6395408163265306.\n",
      "[I 2025-02-24 12:51:30,826] Trial 29 finished with value: 0.5997448979591837 and parameters: {'k': 26}. Best is trial 21 with value: 0.6395408163265306.\n",
      "[I 2025-02-24 12:51:30,840] Trial 30 finished with value: 0.5610969387755103 and parameters: {'k': 6}. Best is trial 21 with value: 0.6395408163265306.\n",
      "[I 2025-02-24 12:51:30,854] Trial 31 finished with value: 0.6053571428571429 and parameters: {'k': 18}. Best is trial 21 with value: 0.6395408163265306.\n",
      "[I 2025-02-24 12:51:30,868] Trial 32 finished with value: 0.6017857142857144 and parameters: {'k': 41}. Best is trial 21 with value: 0.6395408163265306.\n",
      "[I 2025-02-24 12:51:30,882] Trial 33 finished with value: 0.5885204081632653 and parameters: {'k': 50}. Best is trial 21 with value: 0.6395408163265306.\n",
      "[I 2025-02-24 12:51:30,897] Trial 34 finished with value: 0.6448979591836734 and parameters: {'k': 2}. Best is trial 34 with value: 0.6448979591836734.\n",
      "[I 2025-02-24 12:51:30,911] Trial 35 finished with value: 0.5683673469387756 and parameters: {'k': 13}. Best is trial 34 with value: 0.6448979591836734.\n",
      "[I 2025-02-24 12:51:30,926] Trial 36 finished with value: 0.6223214285714285 and parameters: {'k': 38}. Best is trial 34 with value: 0.6448979591836734.\n",
      "[I 2025-02-24 12:51:30,940] Trial 37 finished with value: 0.5881377551020409 and parameters: {'k': 25}. Best is trial 34 with value: 0.6448979591836734.\n",
      "[I 2025-02-24 12:51:30,955] Trial 38 finished with value: 0.5705357142857143 and parameters: {'k': 7}. Best is trial 34 with value: 0.6448979591836734.\n",
      "[I 2025-02-24 12:51:30,970] Trial 39 finished with value: 0.6089285714285714 and parameters: {'k': 24}. Best is trial 34 with value: 0.6448979591836734.\n",
      "[I 2025-02-24 12:51:30,985] Trial 40 finished with value: 0.620280612244898 and parameters: {'k': 37}. Best is trial 34 with value: 0.6448979591836734.\n",
      "[I 2025-02-24 12:51:31,001] Trial 41 finished with value: 0.6256377551020408 and parameters: {'k': 22}. Best is trial 34 with value: 0.6448979591836734.\n",
      "[I 2025-02-24 12:51:31,016] Trial 42 finished with value: 0.6114795918367347 and parameters: {'k': 20}. Best is trial 34 with value: 0.6448979591836734.\n",
      "[I 2025-02-24 12:51:31,031] Trial 43 finished with value: 0.5331632653061225 and parameters: {'k': 10}. Best is trial 34 with value: 0.6448979591836734.\n",
      "[I 2025-02-24 12:51:31,047] Trial 44 finished with value: 0.6017857142857144 and parameters: {'k': 40}. Best is trial 34 with value: 0.6448979591836734.\n",
      "[I 2025-02-24 12:51:31,063] Trial 45 finished with value: 0.6011479591836734 and parameters: {'k': 47}. Best is trial 34 with value: 0.6448979591836734.\n",
      "[I 2025-02-24 12:51:31,079] Trial 46 finished with value: 0.6109693877551021 and parameters: {'k': 4}. Best is trial 34 with value: 0.6448979591836734.\n",
      "[I 2025-02-24 12:51:31,095] Trial 47 finished with value: 0.6482142857142857 and parameters: {'k': 1}. Best is trial 47 with value: 0.6482142857142857.\n",
      "[I 2025-02-24 12:51:31,112] Trial 48 finished with value: 0.5987244897959184 and parameters: {'k': 48}. Best is trial 47 with value: 0.6482142857142857.\n",
      "[I 2025-02-24 12:51:31,128] Trial 49 finished with value: 0.6095663265306123 and parameters: {'k': 45}. Best is trial 47 with value: 0.6482142857142857.\n",
      "[I 2025-02-24 12:51:31,146] A new study created in memory with name: no-name-cca43a6c-0398-479a-bc40-746b7e2aeb33\n",
      "[I 2025-02-24 12:51:31,156] Trial 0 finished with value: 0.6165789473684211 and parameters: {'k': 29}. Best is trial 0 with value: 0.6165789473684211.\n",
      "[I 2025-02-24 12:51:31,166] Trial 1 finished with value: 0.6075000000000002 and parameters: {'k': 12}. Best is trial 0 with value: 0.6165789473684211.\n",
      "[I 2025-02-24 12:51:31,175] Trial 2 finished with value: 0.5988157894736842 and parameters: {'k': 11}. Best is trial 0 with value: 0.6165789473684211.\n",
      "[I 2025-02-24 12:51:31,186] Trial 3 finished with value: 0.6239473684210527 and parameters: {'k': 42}. Best is trial 3 with value: 0.6239473684210527.\n",
      "[I 2025-02-24 12:51:31,196] Trial 4 finished with value: 0.6026315789473684 and parameters: {'k': 3}. Best is trial 3 with value: 0.6239473684210527.\n",
      "[I 2025-02-24 12:51:31,206] Trial 5 finished with value: 0.6214473684210526 and parameters: {'k': 28}. Best is trial 3 with value: 0.6239473684210527.\n",
      "[I 2025-02-24 12:51:31,217] Trial 6 finished with value: 0.6192105263157895 and parameters: {'k': 39}. Best is trial 3 with value: 0.6239473684210527.\n",
      "[I 2025-02-24 12:51:31,227] Trial 7 finished with value: 0.6086842105263158 and parameters: {'k': 32}. Best is trial 3 with value: 0.6239473684210527.\n",
      "[I 2025-02-24 12:51:31,238] Trial 8 finished with value: 0.6335526315789474 and parameters: {'k': 23}. Best is trial 8 with value: 0.6335526315789474.\n",
      "[I 2025-02-24 12:51:31,249] Trial 9 finished with value: 0.6334210526315789 and parameters: {'k': 5}. Best is trial 8 with value: 0.6335526315789474.\n",
      "[I 2025-02-24 12:51:31,260] Trial 10 finished with value: 0.6302631578947369 and parameters: {'k': 34}. Best is trial 8 with value: 0.6335526315789474.\n",
      "[I 2025-02-24 12:51:31,271] Trial 11 finished with value: 0.6171052631578948 and parameters: {'k': 36}. Best is trial 8 with value: 0.6335526315789474.\n",
      "[I 2025-02-24 12:51:31,282] Trial 12 finished with value: 0.623157894736842 and parameters: {'k': 27}. Best is trial 8 with value: 0.6335526315789474.\n",
      "[I 2025-02-24 12:51:31,294] Trial 13 finished with value: 0.6251315789473685 and parameters: {'k': 35}. Best is trial 8 with value: 0.6335526315789474.\n",
      "[I 2025-02-24 12:51:31,306] Trial 14 finished with value: 0.6146052631578947 and parameters: {'k': 19}. Best is trial 8 with value: 0.6335526315789474.\n",
      "[I 2025-02-24 12:51:31,317] Trial 15 finished with value: 0.620263157894737 and parameters: {'k': 8}. Best is trial 8 with value: 0.6335526315789474.\n",
      "[I 2025-02-24 12:51:31,329] Trial 16 finished with value: 0.5967105263157895 and parameters: {'k': 15}. Best is trial 8 with value: 0.6335526315789474.\n",
      "[I 2025-02-24 12:51:31,341] Trial 17 finished with value: 0.623157894736842 and parameters: {'k': 46}. Best is trial 8 with value: 0.6335526315789474.\n",
      "[I 2025-02-24 12:51:31,353] Trial 18 finished with value: 0.6123684210526316 and parameters: {'k': 49}. Best is trial 8 with value: 0.6335526315789474.\n",
      "[I 2025-02-24 12:51:31,366] Trial 19 finished with value: 0.6111842105263158 and parameters: {'k': 30}. Best is trial 8 with value: 0.6335526315789474.\n",
      "[I 2025-02-24 12:51:31,378] Trial 20 finished with value: 0.5921052631578947 and parameters: {'k': 16}. Best is trial 8 with value: 0.6335526315789474.\n",
      "[I 2025-02-24 12:51:31,391] Trial 21 finished with value: 0.6110526315789474 and parameters: {'k': 31}. Best is trial 8 with value: 0.6335526315789474.\n",
      "[I 2025-02-24 12:51:31,403] Trial 22 finished with value: 0.6194736842105263 and parameters: {'k': 33}. Best is trial 8 with value: 0.6335526315789474.\n",
      "[I 2025-02-24 12:51:31,416] Trial 23 finished with value: 0.6018421052631581 and parameters: {'k': 17}. Best is trial 8 with value: 0.6335526315789474.\n",
      "[I 2025-02-24 12:51:31,429] Trial 24 finished with value: 0.6153947368421053 and parameters: {'k': 43}. Best is trial 8 with value: 0.6335526315789474.\n",
      "[I 2025-02-24 12:51:31,442] Trial 25 finished with value: 0.6168421052631579 and parameters: {'k': 21}. Best is trial 8 with value: 0.6335526315789474.\n",
      "[I 2025-02-24 12:51:31,456] Trial 26 finished with value: 0.6161842105263159 and parameters: {'k': 44}. Best is trial 8 with value: 0.6335526315789474.\n",
      "[I 2025-02-24 12:51:31,469] Trial 27 finished with value: 0.6186842105263157 and parameters: {'k': 9}. Best is trial 8 with value: 0.6335526315789474.\n",
      "[I 2025-02-24 12:51:31,482] Trial 28 finished with value: 0.5957894736842105 and parameters: {'k': 14}. Best is trial 8 with value: 0.6335526315789474.\n",
      "[I 2025-02-24 12:51:31,496] Trial 29 finished with value: 0.6248684210526315 and parameters: {'k': 26}. Best is trial 8 with value: 0.6335526315789474.\n",
      "[I 2025-02-24 12:51:31,509] Trial 30 finished with value: 0.6172368421052632 and parameters: {'k': 6}. Best is trial 8 with value: 0.6335526315789474.\n",
      "[I 2025-02-24 12:51:31,523] Trial 31 finished with value: 0.6043421052631579 and parameters: {'k': 18}. Best is trial 8 with value: 0.6335526315789474.\n",
      "[I 2025-02-24 12:51:31,537] Trial 32 finished with value: 0.6190789473684211 and parameters: {'k': 41}. Best is trial 8 with value: 0.6335526315789474.\n",
      "[I 2025-02-24 12:51:31,552] Trial 33 finished with value: 0.6117105263157895 and parameters: {'k': 50}. Best is trial 8 with value: 0.6335526315789474.\n",
      "[I 2025-02-24 12:51:31,566] Trial 34 finished with value: 0.6206578947368422 and parameters: {'k': 2}. Best is trial 8 with value: 0.6335526315789474.\n",
      "[I 2025-02-24 12:51:31,580] Trial 35 finished with value: 0.6119736842105263 and parameters: {'k': 13}. Best is trial 8 with value: 0.6335526315789474.\n",
      "[I 2025-02-24 12:51:31,596] Trial 36 finished with value: 0.6289473684210526 and parameters: {'k': 38}. Best is trial 8 with value: 0.6335526315789474.\n",
      "[I 2025-02-24 12:51:31,613] Trial 37 finished with value: 0.6261842105263158 and parameters: {'k': 25}. Best is trial 8 with value: 0.6335526315789474.\n",
      "[I 2025-02-24 12:51:31,628] Trial 38 finished with value: 0.6246052631578948 and parameters: {'k': 7}. Best is trial 8 with value: 0.6335526315789474.\n",
      "[I 2025-02-24 12:51:31,643] Trial 39 finished with value: 0.6253947368421053 and parameters: {'k': 24}. Best is trial 8 with value: 0.6335526315789474.\n",
      "[I 2025-02-24 12:51:31,658] Trial 40 finished with value: 0.6160526315789473 and parameters: {'k': 37}. Best is trial 8 with value: 0.6335526315789474.\n",
      "[I 2025-02-24 12:51:31,674] Trial 41 finished with value: 0.6185526315789474 and parameters: {'k': 22}. Best is trial 8 with value: 0.6335526315789474.\n",
      "[I 2025-02-24 12:51:31,689] Trial 42 finished with value: 0.6069736842105263 and parameters: {'k': 20}. Best is trial 8 with value: 0.6335526315789474.\n",
      "[I 2025-02-24 12:51:31,704] Trial 43 finished with value: 0.6039473684210527 and parameters: {'k': 10}. Best is trial 8 with value: 0.6335526315789474.\n",
      "[I 2025-02-24 12:51:31,720] Trial 44 finished with value: 0.6144736842105264 and parameters: {'k': 40}. Best is trial 8 with value: 0.6335526315789474.\n",
      "[I 2025-02-24 12:51:31,736] Trial 45 finished with value: 0.6225 and parameters: {'k': 47}. Best is trial 8 with value: 0.6335526315789474.\n",
      "[I 2025-02-24 12:51:31,752] Trial 46 finished with value: 0.5994736842105263 and parameters: {'k': 4}. Best is trial 8 with value: 0.6335526315789474.\n",
      "[I 2025-02-24 12:51:31,767] Trial 47 finished with value: 0.5921052631578948 and parameters: {'k': 1}. Best is trial 8 with value: 0.6335526315789474.\n",
      "[I 2025-02-24 12:51:31,784] Trial 48 finished with value: 0.6181578947368421 and parameters: {'k': 48}. Best is trial 8 with value: 0.6335526315789474.\n",
      "[I 2025-02-24 12:51:31,801] Trial 49 finished with value: 0.621578947368421 and parameters: {'k': 45}. Best is trial 8 with value: 0.6335526315789474.\n",
      "[I 2025-02-24 12:51:31,816] A new study created in memory with name: no-name-4bb4aef1-44cf-4853-a4eb-dd746929800c\n",
      "[I 2025-02-24 12:51:31,829] Trial 0 finished with value: 0.6283835061978245 and parameters: {'k': 29}. Best is trial 0 with value: 0.6283835061978245.\n",
      "[I 2025-02-24 12:51:31,839] Trial 1 finished with value: 0.5103718694662283 and parameters: {'k': 12}. Best is trial 0 with value: 0.6283835061978245.\n",
      "[I 2025-02-24 12:51:31,849] Trial 2 finished with value: 0.5177080698203896 and parameters: {'k': 11}. Best is trial 0 with value: 0.6283835061978245.\n",
      "[I 2025-02-24 12:51:31,860] Trial 3 finished with value: 0.6433088793321529 and parameters: {'k': 42}. Best is trial 3 with value: 0.6433088793321529.\n",
      "[I 2025-02-24 12:51:31,870] Trial 4 finished with value: 0.5661522894004554 and parameters: {'k': 3}. Best is trial 3 with value: 0.6433088793321529.\n",
      "[I 2025-02-24 12:51:31,881] Trial 5 finished with value: 0.6630407285605869 and parameters: {'k': 28}. Best is trial 5 with value: 0.6630407285605869.\n",
      "[I 2025-02-24 12:51:31,892] Trial 6 finished with value: 0.6263597267897799 and parameters: {'k': 39}. Best is trial 5 with value: 0.6630407285605869.\n",
      "[I 2025-02-24 12:51:31,903] Trial 7 finished with value: 0.6311662028838857 and parameters: {'k': 32}. Best is trial 5 with value: 0.6630407285605869.\n",
      "[I 2025-02-24 12:51:31,914] Trial 8 finished with value: 0.5438907159119656 and parameters: {'k': 23}. Best is trial 5 with value: 0.6630407285605869.\n",
      "[I 2025-02-24 12:51:31,924] Trial 9 finished with value: 0.5500885403491019 and parameters: {'k': 5}. Best is trial 5 with value: 0.6630407285605869.\n",
      "[I 2025-02-24 12:51:31,936] Trial 10 finished with value: 0.6199089299266379 and parameters: {'k': 34}. Best is trial 5 with value: 0.6630407285605869.\n",
      "[I 2025-02-24 12:51:31,947] Trial 11 finished with value: 0.6199089299266379 and parameters: {'k': 36}. Best is trial 5 with value: 0.6630407285605869.\n",
      "[I 2025-02-24 12:51:31,959] Trial 12 finished with value: 0.6526688590943587 and parameters: {'k': 27}. Best is trial 5 with value: 0.6630407285605869.\n",
      "[I 2025-02-24 12:51:31,971] Trial 13 finished with value: 0.6252213508727549 and parameters: {'k': 35}. Best is trial 5 with value: 0.6630407285605869.\n",
      "[I 2025-02-24 12:51:31,982] Trial 14 finished with value: 0.49924108272198325 and parameters: {'k': 19}. Best is trial 5 with value: 0.6630407285605869.\n",
      "[I 2025-02-24 12:51:31,994] Trial 15 finished with value: 0.5015178345560334 and parameters: {'k': 8}. Best is trial 5 with value: 0.6630407285605869.\n",
      "[I 2025-02-24 12:51:32,006] Trial 16 finished with value: 0.5295977738426512 and parameters: {'k': 15}. Best is trial 5 with value: 0.6630407285605869.\n",
      "[I 2025-02-24 12:51:32,019] Trial 17 finished with value: 0.6691120667847205 and parameters: {'k': 46}. Best is trial 17 with value: 0.6691120667847205.\n",
      "[I 2025-02-24 12:51:32,031] Trial 18 finished with value: 0.6821401467240071 and parameters: {'k': 49}. Best is trial 18 with value: 0.6821401467240071.\n",
      "[I 2025-02-24 12:51:32,044] Trial 19 finished with value: 0.6328105236529219 and parameters: {'k': 30}. Best is trial 18 with value: 0.6821401467240071.\n",
      "[I 2025-02-24 12:51:32,057] Trial 20 finished with value: 0.5322539843157096 and parameters: {'k': 16}. Best is trial 18 with value: 0.6821401467240071.\n",
      "[I 2025-02-24 12:51:32,069] Trial 21 finished with value: 0.6393878067290665 and parameters: {'k': 31}. Best is trial 18 with value: 0.6821401467240071.\n",
      "[I 2025-02-24 12:51:32,082] Trial 22 finished with value: 0.634454844421958 and parameters: {'k': 33}. Best is trial 18 with value: 0.6821401467240071.\n",
      "[I 2025-02-24 12:51:32,095] Trial 23 finished with value: 0.5228940045535038 and parameters: {'k': 17}. Best is trial 18 with value: 0.6821401467240071.\n",
      "[I 2025-02-24 12:51:32,109] Trial 24 finished with value: 0.6495067037692891 and parameters: {'k': 43}. Best is trial 18 with value: 0.6821401467240071.\n",
      "[I 2025-02-24 12:51:32,122] Trial 25 finished with value: 0.5070832279281557 and parameters: {'k': 21}. Best is trial 18 with value: 0.6821401467240071.\n",
      "[I 2025-02-24 12:51:32,136] Trial 26 finished with value: 0.6616493802175564 and parameters: {'k': 44}. Best is trial 18 with value: 0.6821401467240071.\n",
      "[I 2025-02-24 12:51:32,149] Trial 27 finished with value: 0.5478117885150519 and parameters: {'k': 9}. Best is trial 18 with value: 0.6821401467240071.\n",
      "[I 2025-02-24 12:51:32,163] Trial 28 finished with value: 0.5271945357955983 and parameters: {'k': 14}. Best is trial 18 with value: 0.6821401467240071.\n",
      "[I 2025-02-24 12:51:32,177] Trial 29 finished with value: 0.659499114596509 and parameters: {'k': 26}. Best is trial 18 with value: 0.6821401467240071.\n",
      "[I 2025-02-24 12:51:32,190] Trial 30 finished with value: 0.5247912977485454 and parameters: {'k': 6}. Best is trial 18 with value: 0.6821401467240071.\n",
      "[I 2025-02-24 12:51:32,204] Trial 31 finished with value: 0.5075891727801669 and parameters: {'k': 18}. Best is trial 18 with value: 0.6821401467240071.\n",
      "[I 2025-02-24 12:51:32,219] Trial 32 finished with value: 0.6302807993928662 and parameters: {'k': 41}. Best is trial 18 with value: 0.6821401467240071.\n",
      "[I 2025-02-24 12:51:32,233] Trial 33 finished with value: 0.6754363774348596 and parameters: {'k': 50}. Best is trial 18 with value: 0.6821401467240071.\n",
      "[I 2025-02-24 12:51:32,248] Trial 34 finished with value: 0.5853781937768783 and parameters: {'k': 2}. Best is trial 18 with value: 0.6821401467240071.\n",
      "[I 2025-02-24 12:51:32,262] Trial 35 finished with value: 0.5061978244371363 and parameters: {'k': 13}. Best is trial 18 with value: 0.6821401467240071.\n",
      "[I 2025-02-24 12:51:32,277] Trial 36 finished with value: 0.6252213508727549 and parameters: {'k': 38}. Best is trial 18 with value: 0.6821401467240071.\n",
      "[I 2025-02-24 12:51:32,292] Trial 37 finished with value: 0.6235770301037187 and parameters: {'k': 25}. Best is trial 18 with value: 0.6821401467240071.\n",
      "[I 2025-02-24 12:51:32,307] Trial 38 finished with value: 0.5135340247912977 and parameters: {'k': 7}. Best is trial 18 with value: 0.6821401467240071.\n",
      "[I 2025-02-24 12:51:32,322] Trial 39 finished with value: 0.594358714900076 and parameters: {'k': 24}. Best is trial 18 with value: 0.6821401467240071.\n",
      "[I 2025-02-24 12:51:32,337] Trial 40 finished with value: 0.620541360991652 and parameters: {'k': 37}. Best is trial 18 with value: 0.6821401467240071.\n",
      "[I 2025-02-24 12:51:32,353] Trial 41 finished with value: 0.5115102453832532 and parameters: {'k': 22}. Best is trial 18 with value: 0.6821401467240071.\n",
      "[I 2025-02-24 12:51:32,368] Trial 42 finished with value: 0.5049329623071085 and parameters: {'k': 20}. Best is trial 18 with value: 0.6821401467240071.\n",
      "[I 2025-02-24 12:51:32,384] Trial 43 finished with value: 0.5416139640779154 and parameters: {'k': 10}. Best is trial 18 with value: 0.6821401467240071.\n",
      "[I 2025-02-24 12:51:32,400] Trial 44 finished with value: 0.6168732608145713 and parameters: {'k': 40}. Best is trial 18 with value: 0.6821401467240071.\n",
      "[I 2025-02-24 12:51:32,416] Trial 45 finished with value: 0.6718947634707816 and parameters: {'k': 47}. Best is trial 18 with value: 0.6821401467240071.\n",
      "[I 2025-02-24 12:51:32,432] Trial 46 finished with value: 0.5627371616493803 and parameters: {'k': 4}. Best is trial 18 with value: 0.6821401467240071.\n",
      "[I 2025-02-24 12:51:32,448] Trial 47 finished with value: 0.5612193270933468 and parameters: {'k': 1}. Best is trial 18 with value: 0.6821401467240071.\n",
      "[I 2025-02-24 12:51:32,465] Trial 48 finished with value: 0.6893498608651657 and parameters: {'k': 48}. Best is trial 48 with value: 0.6893498608651657.\n",
      "[I 2025-02-24 12:51:32,482] Trial 49 finished with value: 0.6681001770806981 and parameters: {'k': 45}. Best is trial 48 with value: 0.6893498608651657.\n",
      "[I 2025-02-24 12:51:32,501] A new study created in memory with name: no-name-80e2e31a-0c28-46b6-a158-0ce546ee63b7\n",
      "[I 2025-02-24 12:51:32,511] Trial 0 finished with value: 0.5941287368704552 and parameters: {'k': 29}. Best is trial 0 with value: 0.5941287368704552.\n",
      "[I 2025-02-24 12:51:32,521] Trial 1 finished with value: 0.5746027471047671 and parameters: {'k': 12}. Best is trial 0 with value: 0.5941287368704552.\n",
      "[I 2025-02-24 12:51:32,531] Trial 2 finished with value: 0.5521141933746296 and parameters: {'k': 11}. Best is trial 0 with value: 0.5941287368704552.\n",
      "[I 2025-02-24 12:51:32,542] Trial 3 finished with value: 0.6061136547266361 and parameters: {'k': 42}. Best is trial 3 with value: 0.6061136547266361.\n",
      "[I 2025-02-24 12:51:32,552] Trial 4 finished with value: 0.5655803932130353 and parameters: {'k': 3}. Best is trial 3 with value: 0.6061136547266361.\n",
      "[I 2025-02-24 12:51:32,565] Trial 5 finished with value: 0.5987072448155131 and parameters: {'k': 28}. Best is trial 3 with value: 0.6061136547266361.\n",
      "[I 2025-02-24 12:51:32,576] Trial 6 finished with value: 0.593859412873687 and parameters: {'k': 39}. Best is trial 3 with value: 0.6061136547266361.\n",
      "[I 2025-02-24 12:51:32,587] Trial 7 finished with value: 0.5977646108268246 and parameters: {'k': 32}. Best is trial 3 with value: 0.6061136547266361.\n",
      "[I 2025-02-24 12:51:32,598] Trial 8 finished with value: 0.5798545650417452 and parameters: {'k': 23}. Best is trial 3 with value: 0.6061136547266361.\n",
      "[I 2025-02-24 12:51:32,609] Trial 9 finished with value: 0.5698895771613252 and parameters: {'k': 5}. Best is trial 3 with value: 0.6061136547266361.\n",
      "[I 2025-02-24 12:51:32,620] Trial 10 finished with value: 0.5934554268785348 and parameters: {'k': 34}. Best is trial 3 with value: 0.6061136547266361.\n",
      "[I 2025-02-24 12:51:32,632] Trial 11 finished with value: 0.5930514408833827 and parameters: {'k': 36}. Best is trial 3 with value: 0.6061136547266361.\n",
      "[I 2025-02-24 12:51:32,643] Trial 12 finished with value: 0.6005925127928898 and parameters: {'k': 27}. Best is trial 3 with value: 0.6061136547266361.\n",
      "[I 2025-02-24 12:51:32,655] Trial 13 finished with value: 0.5938594128736869 and parameters: {'k': 35}. Best is trial 3 with value: 0.6061136547266361.\n",
      "[I 2025-02-24 12:51:32,667] Trial 14 finished with value: 0.5701589011580932 and parameters: {'k': 19}. Best is trial 3 with value: 0.6061136547266361.\n",
      "[I 2025-02-24 12:51:32,679] Trial 15 finished with value: 0.5375706975491515 and parameters: {'k': 8}. Best is trial 3 with value: 0.6061136547266361.\n",
      "[I 2025-02-24 12:51:32,690] Trial 16 finished with value: 0.5876649609480205 and parameters: {'k': 15}. Best is trial 3 with value: 0.6061136547266361.\n",
      "[I 2025-02-24 12:51:32,703] Trial 17 finished with value: 0.5968219768381362 and parameters: {'k': 46}. Best is trial 3 with value: 0.6061136547266361.\n",
      "[I 2025-02-24 12:51:32,716] Trial 18 finished with value: 0.5848370589819553 and parameters: {'k': 49}. Best is trial 3 with value: 0.6061136547266361.\n",
      "[I 2025-02-24 12:51:32,728] Trial 19 finished with value: 0.5954753568542956 and parameters: {'k': 30}. Best is trial 3 with value: 0.6061136547266361.\n",
      "[I 2025-02-24 12:51:32,741] Trial 20 finished with value: 0.5886075949367088 and parameters: {'k': 16}. Best is trial 3 with value: 0.6061136547266361.\n",
      "[I 2025-02-24 12:51:32,754] Trial 21 finished with value: 0.5873956369512523 and parameters: {'k': 31}. Best is trial 3 with value: 0.6061136547266361.\n",
      "[I 2025-02-24 12:51:32,767] Trial 22 finished with value: 0.5972259628332884 and parameters: {'k': 33}. Best is trial 3 with value: 0.6061136547266361.\n",
      "[I 2025-02-24 12:51:32,780] Trial 23 finished with value: 0.5918394828979261 and parameters: {'k': 17}. Best is trial 3 with value: 0.6061136547266361.\n",
      "[I 2025-02-24 12:51:32,793] Trial 24 finished with value: 0.5956100188526797 and parameters: {'k': 43}. Best is trial 3 with value: 0.6061136547266361.\n",
      "[I 2025-02-24 12:51:32,806] Trial 25 finished with value: 0.5829517910045786 and parameters: {'k': 21}. Best is trial 3 with value: 0.6061136547266361.\n",
      "[I 2025-02-24 12:51:32,820] Trial 26 finished with value: 0.6028817667654188 and parameters: {'k': 44}. Best is trial 3 with value: 0.6061136547266361.\n",
      "[I 2025-02-24 12:51:32,833] Trial 27 finished with value: 0.5377053595475357 and parameters: {'k': 9}. Best is trial 3 with value: 0.6061136547266361.\n",
      "[I 2025-02-24 12:51:32,847] Trial 28 finished with value: 0.5787772690546727 and parameters: {'k': 14}. Best is trial 3 with value: 0.6061136547266361.\n",
      "[I 2025-02-24 12:51:32,861] Trial 29 finished with value: 0.6014004847831942 and parameters: {'k': 26}. Best is trial 3 with value: 0.6061136547266361.\n",
      "[I 2025-02-24 12:51:32,875] Trial 30 finished with value: 0.5498249394021008 and parameters: {'k': 6}. Best is trial 3 with value: 0.6061136547266361.\n",
      "[I 2025-02-24 12:51:32,889] Trial 31 finished with value: 0.5807971990304336 and parameters: {'k': 18}. Best is trial 3 with value: 0.6061136547266361.\n",
      "[I 2025-02-24 12:51:32,904] Trial 32 finished with value: 0.601131160786426 and parameters: {'k': 41}. Best is trial 3 with value: 0.6061136547266361.\n",
      "[I 2025-02-24 12:51:32,918] Trial 33 finished with value: 0.5904928629140856 and parameters: {'k': 50}. Best is trial 3 with value: 0.6061136547266361.\n",
      "[I 2025-02-24 12:51:32,932] Trial 34 finished with value: 0.5296256396444924 and parameters: {'k': 2}. Best is trial 3 with value: 0.6061136547266361.\n",
      "[I 2025-02-24 12:51:32,947] Trial 35 finished with value: 0.5849717209803393 and parameters: {'k': 13}. Best is trial 3 with value: 0.6061136547266361.\n",
      "[I 2025-02-24 12:51:32,962] Trial 36 finished with value: 0.6004578507945058 and parameters: {'k': 38}. Best is trial 3 with value: 0.6061136547266361.\n",
      "[I 2025-02-24 12:51:32,978] Trial 37 finished with value: 0.5988419068138972 and parameters: {'k': 25}. Best is trial 3 with value: 0.6061136547266361.\n",
      "[I 2025-02-24 12:51:32,992] Trial 38 finished with value: 0.5436304874764342 and parameters: {'k': 7}. Best is trial 3 with value: 0.6061136547266361.\n",
      "[I 2025-02-24 12:51:33,008] Trial 39 finished with value: 0.59130083490439 and parameters: {'k': 24}. Best is trial 3 with value: 0.6061136547266361.\n",
      "[I 2025-02-24 12:51:33,023] Trial 40 finished with value: 0.5988419068138972 and parameters: {'k': 37}. Best is trial 3 with value: 0.6061136547266361.\n",
      "[I 2025-02-24 12:51:33,039] Trial 41 finished with value: 0.5883382709399407 and parameters: {'k': 22}. Best is trial 3 with value: 0.6061136547266361.\n",
      "[I 2025-02-24 12:51:33,054] Trial 42 finished with value: 0.5631564772421224 and parameters: {'k': 20}. Best is trial 3 with value: 0.6061136547266361.\n",
      "[I 2025-02-24 12:51:33,070] Trial 43 finished with value: 0.5498249394021008 and parameters: {'k': 10}. Best is trial 3 with value: 0.6061136547266361.\n",
      "[I 2025-02-24 12:51:33,086] Trial 44 finished with value: 0.5974952868300566 and parameters: {'k': 40}. Best is trial 3 with value: 0.6061136547266361.\n",
      "[I 2025-02-24 12:51:33,102] Trial 45 finished with value: 0.603285752760571 and parameters: {'k': 47}. Best is trial 3 with value: 0.6061136547266361.\n",
      "[I 2025-02-24 12:51:33,118] Trial 46 finished with value: 0.5557500673309992 and parameters: {'k': 4}. Best is trial 3 with value: 0.6061136547266361.\n",
      "[I 2025-02-24 12:51:33,134] Trial 47 finished with value: 0.5251817936978185 and parameters: {'k': 1}. Best is trial 3 with value: 0.6061136547266361.\n",
      "[I 2025-02-24 12:51:33,151] Trial 48 finished with value: 0.5927821168866146 and parameters: {'k': 48}. Best is trial 3 with value: 0.6061136547266361.\n",
      "[I 2025-02-24 12:51:33,172] Trial 49 finished with value: 0.5973606248316725 and parameters: {'k': 45}. Best is trial 3 with value: 0.6061136547266361.\n",
      "[I 2025-02-24 12:51:33,194] A new study created in memory with name: no-name-84f9bf3c-d71c-4085-be8d-abce38a5204d\n",
      "[I 2025-02-24 12:51:33,207] Trial 0 finished with value: 0.6632711621233859 and parameters: {'k': 29}. Best is trial 0 with value: 0.6632711621233859.\n",
      "[I 2025-02-24 12:51:33,219] Trial 1 finished with value: 0.5896700143472023 and parameters: {'k': 12}. Best is trial 0 with value: 0.6632711621233859.\n",
      "[I 2025-02-24 12:51:33,231] Trial 2 finished with value: 0.6055954088952654 and parameters: {'k': 11}. Best is trial 0 with value: 0.6632711621233859.\n",
      "[I 2025-02-24 12:51:33,244] Trial 3 finished with value: 0.6625538020086084 and parameters: {'k': 42}. Best is trial 0 with value: 0.6632711621233859.\n",
      "[I 2025-02-24 12:51:33,255] Trial 4 finished with value: 0.6467718794835007 and parameters: {'k': 3}. Best is trial 0 with value: 0.6632711621233859.\n",
      "[I 2025-02-24 12:51:33,265] Trial 5 finished with value: 0.6520803443328551 and parameters: {'k': 28}. Best is trial 0 with value: 0.6632711621233859.\n",
      "[I 2025-02-24 12:51:33,276] Trial 6 finished with value: 0.6733142037302726 and parameters: {'k': 39}. Best is trial 6 with value: 0.6733142037302726.\n",
      "[I 2025-02-24 12:51:33,286] Trial 7 finished with value: 0.663558106169297 and parameters: {'k': 32}. Best is trial 6 with value: 0.6733142037302726.\n",
      "[I 2025-02-24 12:51:33,297] Trial 8 finished with value: 0.6319942611190817 and parameters: {'k': 23}. Best is trial 6 with value: 0.6733142037302726.\n",
      "[I 2025-02-24 12:51:33,308] Trial 9 finished with value: 0.6555236728837877 and parameters: {'k': 5}. Best is trial 6 with value: 0.6733142037302726.\n",
      "[I 2025-02-24 12:51:33,319] Trial 10 finished with value: 0.6571018651362983 and parameters: {'k': 34}. Best is trial 6 with value: 0.6733142037302726.\n",
      "[I 2025-02-24 12:51:33,330] Trial 11 finished with value: 0.6737446197991391 and parameters: {'k': 36}. Best is trial 11 with value: 0.6737446197991391.\n",
      "[I 2025-02-24 12:51:33,341] Trial 12 finished with value: 0.6543758967001434 and parameters: {'k': 27}. Best is trial 11 with value: 0.6737446197991391.\n",
      "[I 2025-02-24 12:51:33,353] Trial 13 finished with value: 0.6708751793400287 and parameters: {'k': 35}. Best is trial 11 with value: 0.6737446197991391.\n",
      "[I 2025-02-24 12:51:33,364] Trial 14 finished with value: 0.590961262553802 and parameters: {'k': 19}. Best is trial 11 with value: 0.6737446197991391.\n",
      "[I 2025-02-24 12:51:33,376] Trial 15 finished with value: 0.6309899569583932 and parameters: {'k': 8}. Best is trial 11 with value: 0.6737446197991391.\n",
      "[I 2025-02-24 12:51:33,388] Trial 16 finished with value: 0.5804878048780489 and parameters: {'k': 15}. Best is trial 11 with value: 0.6737446197991391.\n",
      "[I 2025-02-24 12:51:33,400] Trial 17 finished with value: 0.6687230989956958 and parameters: {'k': 46}. Best is trial 11 with value: 0.6737446197991391.\n",
      "[I 2025-02-24 12:51:33,412] Trial 18 finished with value: 0.6790530846484936 and parameters: {'k': 49}. Best is trial 18 with value: 0.6790530846484936.\n",
      "[I 2025-02-24 12:51:33,425] Trial 19 finished with value: 0.6553802008608322 and parameters: {'k': 30}. Best is trial 18 with value: 0.6790530846484936.\n",
      "[I 2025-02-24 12:51:33,437] Trial 20 finished with value: 0.5845050215208035 and parameters: {'k': 16}. Best is trial 18 with value: 0.6790530846484936.\n",
      "[I 2025-02-24 12:51:33,450] Trial 21 finished with value: 0.6532281205164994 and parameters: {'k': 31}. Best is trial 18 with value: 0.6790530846484936.\n",
      "[I 2025-02-24 12:51:33,463] Trial 22 finished with value: 0.666571018651363 and parameters: {'k': 33}. Best is trial 18 with value: 0.6790530846484936.\n",
      "[I 2025-02-24 12:51:33,478] Trial 23 finished with value: 0.5859397417503588 and parameters: {'k': 17}. Best is trial 18 with value: 0.6790530846484936.\n",
      "[I 2025-02-24 12:51:33,491] Trial 24 finished with value: 0.6565279770444763 and parameters: {'k': 43}. Best is trial 18 with value: 0.6790530846484936.\n",
      "[I 2025-02-24 12:51:33,505] Trial 25 finished with value: 0.6381635581061693 and parameters: {'k': 21}. Best is trial 18 with value: 0.6790530846484936.\n",
      "[I 2025-02-24 12:51:33,518] Trial 26 finished with value: 0.6543758967001435 and parameters: {'k': 44}. Best is trial 18 with value: 0.6790530846484936.\n",
      "[I 2025-02-24 12:51:33,531] Trial 27 finished with value: 0.6477761836441894 and parameters: {'k': 9}. Best is trial 18 with value: 0.6790530846484936.\n",
      "[I 2025-02-24 12:51:33,545] Trial 28 finished with value: 0.578048780487805 and parameters: {'k': 14}. Best is trial 18 with value: 0.6790530846484936.\n",
      "[I 2025-02-24 12:51:33,559] Trial 29 finished with value: 0.6368723098995694 and parameters: {'k': 26}. Best is trial 18 with value: 0.6790530846484936.\n",
      "[I 2025-02-24 12:51:33,572] Trial 30 finished with value: 0.6238163558106169 and parameters: {'k': 6}. Best is trial 18 with value: 0.6790530846484936.\n",
      "[I 2025-02-24 12:51:33,586] Trial 31 finished with value: 0.5870875179340029 and parameters: {'k': 18}. Best is trial 18 with value: 0.6790530846484936.\n",
      "[I 2025-02-24 12:51:33,603] Trial 32 finished with value: 0.6616929698708753 and parameters: {'k': 41}. Best is trial 18 with value: 0.6790530846484936.\n",
      "[I 2025-02-24 12:51:33,618] Trial 33 finished with value: 0.69038737446198 and parameters: {'k': 50}. Best is trial 33 with value: 0.69038737446198.\n",
      "[I 2025-02-24 12:51:33,632] Trial 34 finished with value: 0.6464849354375897 and parameters: {'k': 2}. Best is trial 33 with value: 0.69038737446198.\n",
      "[I 2025-02-24 12:51:33,647] Trial 35 finished with value: 0.5919655667144906 and parameters: {'k': 13}. Best is trial 33 with value: 0.69038737446198.\n",
      "[I 2025-02-24 12:51:33,662] Trial 36 finished with value: 0.6747489239598278 and parameters: {'k': 38}. Best is trial 33 with value: 0.69038737446198.\n",
      "[I 2025-02-24 12:51:33,676] Trial 37 finished with value: 0.6463414634146342 and parameters: {'k': 25}. Best is trial 33 with value: 0.69038737446198.\n",
      "[I 2025-02-24 12:51:33,691] Trial 38 finished with value: 0.6195121951219512 and parameters: {'k': 7}. Best is trial 33 with value: 0.69038737446198.\n",
      "[I 2025-02-24 12:51:33,706] Trial 39 finished with value: 0.6444763271162124 and parameters: {'k': 24}. Best is trial 33 with value: 0.69038737446198.\n",
      "[I 2025-02-24 12:51:33,722] Trial 40 finished with value: 0.6747489239598279 and parameters: {'k': 37}. Best is trial 33 with value: 0.69038737446198.\n",
      "[I 2025-02-24 12:51:33,737] Trial 41 finished with value: 0.6276901004304161 and parameters: {'k': 22}. Best is trial 33 with value: 0.69038737446198.\n",
      "[I 2025-02-24 12:51:33,752] Trial 42 finished with value: 0.62051649928264 and parameters: {'k': 20}. Best is trial 33 with value: 0.69038737446198.\n",
      "[I 2025-02-24 12:51:33,768] Trial 43 finished with value: 0.6329985652797704 and parameters: {'k': 10}. Best is trial 33 with value: 0.69038737446198.\n",
      "[I 2025-02-24 12:51:33,784] Trial 44 finished with value: 0.6717360114777617 and parameters: {'k': 40}. Best is trial 33 with value: 0.69038737446198.\n",
      "[I 2025-02-24 12:51:33,800] Trial 45 finished with value: 0.6649928263988522 and parameters: {'k': 47}. Best is trial 33 with value: 0.69038737446198.\n",
      "[I 2025-02-24 12:51:33,816] Trial 46 finished with value: 0.633428981348637 and parameters: {'k': 4}. Best is trial 33 with value: 0.69038737446198.\n",
      "[I 2025-02-24 12:51:33,832] Trial 47 finished with value: 0.594835007173601 and parameters: {'k': 1}. Best is trial 33 with value: 0.69038737446198.\n",
      "[I 2025-02-24 12:51:33,848] Trial 48 finished with value: 0.672309899569584 and parameters: {'k': 48}. Best is trial 33 with value: 0.69038737446198.\n",
      "[I 2025-02-24 12:51:33,865] Trial 49 finished with value: 0.6671449067431852 and parameters: {'k': 45}. Best is trial 33 with value: 0.69038737446198.\n",
      "[I 2025-02-24 12:51:33,879] A new study created in memory with name: no-name-7a640bc4-9a1f-403a-9704-94a0d2edf65b\n",
      "[I 2025-02-24 12:51:33,889] Trial 0 finished with value: 0.5778061224489797 and parameters: {'k': 29}. Best is trial 0 with value: 0.5778061224489797.\n",
      "[I 2025-02-24 12:51:33,899] Trial 1 finished with value: 0.5558673469387755 and parameters: {'k': 12}. Best is trial 0 with value: 0.5778061224489797.\n",
      "[I 2025-02-24 12:51:33,909] Trial 2 finished with value: 0.5602040816326531 and parameters: {'k': 11}. Best is trial 0 with value: 0.5778061224489797.\n",
      "[I 2025-02-24 12:51:33,919] Trial 3 finished with value: 0.5783163265306122 and parameters: {'k': 42}. Best is trial 3 with value: 0.5783163265306122.\n",
      "[I 2025-02-24 12:51:33,930] Trial 4 finished with value: 0.5278061224489795 and parameters: {'k': 3}. Best is trial 3 with value: 0.5783163265306122.\n",
      "[I 2025-02-24 12:51:33,940] Trial 5 finished with value: 0.5785714285714285 and parameters: {'k': 28}. Best is trial 5 with value: 0.5785714285714285.\n",
      "[I 2025-02-24 12:51:33,951] Trial 6 finished with value: 0.5841836734693877 and parameters: {'k': 39}. Best is trial 6 with value: 0.5841836734693877.\n",
      "[I 2025-02-24 12:51:33,961] Trial 7 finished with value: 0.5803571428571429 and parameters: {'k': 32}. Best is trial 6 with value: 0.5841836734693877.\n",
      "[I 2025-02-24 12:51:33,972] Trial 8 finished with value: 0.5786989795918367 and parameters: {'k': 23}. Best is trial 6 with value: 0.5841836734693877.\n",
      "[I 2025-02-24 12:51:33,983] Trial 9 finished with value: 0.5377551020408164 and parameters: {'k': 5}. Best is trial 6 with value: 0.5841836734693877.\n",
      "[I 2025-02-24 12:51:33,994] Trial 10 finished with value: 0.580484693877551 and parameters: {'k': 34}. Best is trial 6 with value: 0.5841836734693877.\n",
      "[I 2025-02-24 12:51:34,005] Trial 11 finished with value: 0.5720663265306123 and parameters: {'k': 36}. Best is trial 6 with value: 0.5841836734693877.\n",
      "[I 2025-02-24 12:51:34,017] Trial 12 finished with value: 0.5863520408163266 and parameters: {'k': 27}. Best is trial 12 with value: 0.5863520408163266.\n",
      "[I 2025-02-24 12:51:34,029] Trial 13 finished with value: 0.5713010204081633 and parameters: {'k': 35}. Best is trial 12 with value: 0.5863520408163266.\n",
      "[I 2025-02-24 12:51:34,041] Trial 14 finished with value: 0.5779336734693877 and parameters: {'k': 19}. Best is trial 12 with value: 0.5863520408163266.\n",
      "[I 2025-02-24 12:51:34,052] Trial 15 finished with value: 0.5429846938775511 and parameters: {'k': 8}. Best is trial 12 with value: 0.5863520408163266.\n",
      "[I 2025-02-24 12:51:34,064] Trial 16 finished with value: 0.5581632653061225 and parameters: {'k': 15}. Best is trial 12 with value: 0.5863520408163266.\n",
      "[I 2025-02-24 12:51:34,076] Trial 17 finished with value: 0.5822704081632654 and parameters: {'k': 46}. Best is trial 12 with value: 0.5863520408163266.\n",
      "[I 2025-02-24 12:51:34,089] Trial 18 finished with value: 0.5764030612244898 and parameters: {'k': 49}. Best is trial 12 with value: 0.5863520408163266.\n",
      "[I 2025-02-24 12:51:34,101] Trial 19 finished with value: 0.5723214285714285 and parameters: {'k': 30}. Best is trial 12 with value: 0.5863520408163266.\n",
      "[I 2025-02-24 12:51:34,114] Trial 20 finished with value: 0.5682397959183674 and parameters: {'k': 16}. Best is trial 12 with value: 0.5863520408163266.\n",
      "[I 2025-02-24 12:51:34,126] Trial 21 finished with value: 0.5783163265306123 and parameters: {'k': 31}. Best is trial 12 with value: 0.5863520408163266.\n",
      "[I 2025-02-24 12:51:34,139] Trial 22 finished with value: 0.5779336734693877 and parameters: {'k': 33}. Best is trial 12 with value: 0.5863520408163266.\n",
      "[I 2025-02-24 12:51:34,152] Trial 23 finished with value: 0.5691326530612244 and parameters: {'k': 17}. Best is trial 12 with value: 0.5863520408163266.\n",
      "[I 2025-02-24 12:51:34,165] Trial 24 finished with value: 0.5844387755102041 and parameters: {'k': 43}. Best is trial 12 with value: 0.5863520408163266.\n",
      "[I 2025-02-24 12:51:34,178] Trial 25 finished with value: 0.5848214285714285 and parameters: {'k': 21}. Best is trial 12 with value: 0.5863520408163266.\n",
      "[I 2025-02-24 12:51:34,192] Trial 26 finished with value: 0.5873724489795918 and parameters: {'k': 44}. Best is trial 26 with value: 0.5873724489795918.\n",
      "[I 2025-02-24 12:51:34,205] Trial 27 finished with value: 0.5369897959183673 and parameters: {'k': 9}. Best is trial 26 with value: 0.5873724489795918.\n",
      "[I 2025-02-24 12:51:34,219] Trial 28 finished with value: 0.5605867346938775 and parameters: {'k': 14}. Best is trial 26 with value: 0.5873724489795918.\n",
      "[I 2025-02-24 12:51:34,232] Trial 29 finished with value: 0.5762755102040816 and parameters: {'k': 26}. Best is trial 26 with value: 0.5873724489795918.\n",
      "[I 2025-02-24 12:51:34,246] Trial 30 finished with value: 0.5233418367346939 and parameters: {'k': 6}. Best is trial 26 with value: 0.5873724489795918.\n",
      "[I 2025-02-24 12:51:34,260] Trial 31 finished with value: 0.5794642857142857 and parameters: {'k': 18}. Best is trial 26 with value: 0.5873724489795918.\n",
      "[I 2025-02-24 12:51:34,274] Trial 32 finished with value: 0.5775510204081633 and parameters: {'k': 41}. Best is trial 26 with value: 0.5873724489795918.\n",
      "[I 2025-02-24 12:51:34,289] Trial 33 finished with value: 0.5795918367346939 and parameters: {'k': 50}. Best is trial 26 with value: 0.5873724489795918.\n",
      "[I 2025-02-24 12:51:34,303] Trial 34 finished with value: 0.5141581632653062 and parameters: {'k': 2}. Best is trial 26 with value: 0.5873724489795918.\n",
      "[I 2025-02-24 12:51:34,317] Trial 35 finished with value: 0.5521683673469387 and parameters: {'k': 13}. Best is trial 26 with value: 0.5873724489795918.\n",
      "[I 2025-02-24 12:51:34,332] Trial 36 finished with value: 0.5809948979591836 and parameters: {'k': 38}. Best is trial 26 with value: 0.5873724489795918.\n",
      "[I 2025-02-24 12:51:34,348] Trial 37 finished with value: 0.5869897959183673 and parameters: {'k': 25}. Best is trial 26 with value: 0.5873724489795918.\n",
      "[I 2025-02-24 12:51:34,362] Trial 38 finished with value: 0.5276785714285716 and parameters: {'k': 7}. Best is trial 26 with value: 0.5873724489795918.\n",
      "[I 2025-02-24 12:51:34,377] Trial 39 finished with value: 0.5795918367346938 and parameters: {'k': 24}. Best is trial 26 with value: 0.5873724489795918.\n",
      "[I 2025-02-24 12:51:34,393] Trial 40 finished with value: 0.573469387755102 and parameters: {'k': 37}. Best is trial 26 with value: 0.5873724489795918.\n",
      "[I 2025-02-24 12:51:34,408] Trial 41 finished with value: 0.5724489795918367 and parameters: {'k': 22}. Best is trial 26 with value: 0.5873724489795918.\n",
      "[I 2025-02-24 12:51:34,424] Trial 42 finished with value: 0.574234693877551 and parameters: {'k': 20}. Best is trial 26 with value: 0.5873724489795918.\n",
      "[I 2025-02-24 12:51:34,440] Trial 43 finished with value: 0.5432397959183674 and parameters: {'k': 10}. Best is trial 26 with value: 0.5873724489795918.\n",
      "[I 2025-02-24 12:51:34,456] Trial 44 finished with value: 0.5804846938775511 and parameters: {'k': 40}. Best is trial 26 with value: 0.5873724489795918.\n",
      "[I 2025-02-24 12:51:34,473] Trial 45 finished with value: 0.5822704081632653 and parameters: {'k': 47}. Best is trial 26 with value: 0.5873724489795918.\n",
      "[I 2025-02-24 12:51:34,489] Trial 46 finished with value: 0.5336734693877552 and parameters: {'k': 4}. Best is trial 26 with value: 0.5873724489795918.\n",
      "[I 2025-02-24 12:51:34,505] Trial 47 finished with value: 0.5446428571428571 and parameters: {'k': 1}. Best is trial 26 with value: 0.5873724489795918.\n",
      "[I 2025-02-24 12:51:34,522] Trial 48 finished with value: 0.5863520408163265 and parameters: {'k': 48}. Best is trial 26 with value: 0.5873724489795918.\n",
      "[I 2025-02-24 12:51:34,538] Trial 49 finished with value: 0.5801020408163265 and parameters: {'k': 45}. Best is trial 26 with value: 0.5873724489795918.\n",
      "[I 2025-02-24 12:51:34,553] A new study created in memory with name: no-name-6afd6966-0ca7-4c77-9d07-8eef93e126bf\n",
      "[I 2025-02-24 12:51:34,563] Trial 0 finished with value: 0.6105263157894737 and parameters: {'k': 29}. Best is trial 0 with value: 0.6105263157894737.\n",
      "[I 2025-02-24 12:51:34,574] Trial 1 finished with value: 0.5751315789473684 and parameters: {'k': 12}. Best is trial 0 with value: 0.6105263157894737.\n",
      "[I 2025-02-24 12:51:34,584] Trial 2 finished with value: 0.5705263157894738 and parameters: {'k': 11}. Best is trial 0 with value: 0.6105263157894737.\n",
      "[I 2025-02-24 12:51:34,595] Trial 3 finished with value: 0.6118421052631579 and parameters: {'k': 42}. Best is trial 3 with value: 0.6118421052631579.\n",
      "[I 2025-02-24 12:51:34,606] Trial 4 finished with value: 0.48736842105263156 and parameters: {'k': 3}. Best is trial 3 with value: 0.6118421052631579.\n",
      "[I 2025-02-24 12:51:34,616] Trial 5 finished with value: 0.6035526315789475 and parameters: {'k': 28}. Best is trial 3 with value: 0.6118421052631579.\n",
      "[I 2025-02-24 12:51:34,627] Trial 6 finished with value: 0.6248684210526315 and parameters: {'k': 39}. Best is trial 6 with value: 0.6248684210526315.\n",
      "[I 2025-02-24 12:51:34,638] Trial 7 finished with value: 0.6130263157894738 and parameters: {'k': 32}. Best is trial 6 with value: 0.6248684210526315.\n",
      "[I 2025-02-24 12:51:34,650] Trial 8 finished with value: 0.5838157894736842 and parameters: {'k': 23}. Best is trial 6 with value: 0.6248684210526315.\n",
      "[I 2025-02-24 12:51:34,661] Trial 9 finished with value: 0.5036842105263157 and parameters: {'k': 5}. Best is trial 6 with value: 0.6248684210526315.\n",
      "[I 2025-02-24 12:51:34,672] Trial 10 finished with value: 0.6235526315789474 and parameters: {'k': 34}. Best is trial 6 with value: 0.6248684210526315.\n",
      "[I 2025-02-24 12:51:34,684] Trial 11 finished with value: 0.6223684210526316 and parameters: {'k': 36}. Best is trial 6 with value: 0.6248684210526315.\n",
      "[I 2025-02-24 12:51:34,695] Trial 12 finished with value: 0.5982894736842105 and parameters: {'k': 27}. Best is trial 6 with value: 0.6248684210526315.\n",
      "[I 2025-02-24 12:51:34,707] Trial 13 finished with value: 0.620921052631579 and parameters: {'k': 35}. Best is trial 6 with value: 0.6248684210526315.\n",
      "[I 2025-02-24 12:51:34,719] Trial 14 finished with value: 0.5667105263157894 and parameters: {'k': 19}. Best is trial 6 with value: 0.6248684210526315.\n",
      "[I 2025-02-24 12:51:34,731] Trial 15 finished with value: 0.53 and parameters: {'k': 8}. Best is trial 6 with value: 0.6248684210526315.\n",
      "[I 2025-02-24 12:51:34,743] Trial 16 finished with value: 0.5711842105263157 and parameters: {'k': 15}. Best is trial 6 with value: 0.6248684210526315.\n",
      "[I 2025-02-24 12:51:34,755] Trial 17 finished with value: 0.6151315789473684 and parameters: {'k': 46}. Best is trial 6 with value: 0.6248684210526315.\n",
      "[I 2025-02-24 12:51:34,768] Trial 18 finished with value: 0.6203947368421052 and parameters: {'k': 49}. Best is trial 6 with value: 0.6248684210526315.\n",
      "[I 2025-02-24 12:51:34,781] Trial 19 finished with value: 0.6030263157894736 and parameters: {'k': 30}. Best is trial 6 with value: 0.6248684210526315.\n",
      "[I 2025-02-24 12:51:34,793] Trial 20 finished with value: 0.5711842105263158 and parameters: {'k': 16}. Best is trial 6 with value: 0.6248684210526315.\n",
      "[I 2025-02-24 12:51:34,806] Trial 21 finished with value: 0.6056578947368421 and parameters: {'k': 31}. Best is trial 6 with value: 0.6248684210526315.\n",
      "[I 2025-02-24 12:51:34,820] Trial 22 finished with value: 0.6160526315789474 and parameters: {'k': 33}. Best is trial 6 with value: 0.6248684210526315.\n",
      "[I 2025-02-24 12:51:34,833] Trial 23 finished with value: 0.5876315789473685 and parameters: {'k': 17}. Best is trial 6 with value: 0.6248684210526315.\n",
      "[I 2025-02-24 12:51:34,846] Trial 24 finished with value: 0.6167105263157895 and parameters: {'k': 43}. Best is trial 6 with value: 0.6248684210526315.\n",
      "[I 2025-02-24 12:51:34,860] Trial 25 finished with value: 0.5814473684210527 and parameters: {'k': 21}. Best is trial 6 with value: 0.6248684210526315.\n",
      "[I 2025-02-24 12:51:34,873] Trial 26 finished with value: 0.6223684210526316 and parameters: {'k': 44}. Best is trial 6 with value: 0.6248684210526315.\n",
      "[I 2025-02-24 12:51:34,887] Trial 27 finished with value: 0.5384210526315789 and parameters: {'k': 9}. Best is trial 6 with value: 0.6248684210526315.\n",
      "[I 2025-02-24 12:51:34,900] Trial 28 finished with value: 0.5876315789473684 and parameters: {'k': 14}. Best is trial 6 with value: 0.6248684210526315.\n",
      "[I 2025-02-24 12:51:34,914] Trial 29 finished with value: 0.6052631578947368 and parameters: {'k': 26}. Best is trial 6 with value: 0.6248684210526315.\n",
      "[I 2025-02-24 12:51:34,928] Trial 30 finished with value: 0.5146052631578948 and parameters: {'k': 6}. Best is trial 6 with value: 0.6248684210526315.\n",
      "[I 2025-02-24 12:51:34,942] Trial 31 finished with value: 0.5826315789473684 and parameters: {'k': 18}. Best is trial 6 with value: 0.6248684210526315.\n",
      "[I 2025-02-24 12:51:34,956] Trial 32 finished with value: 0.6171052631578947 and parameters: {'k': 41}. Best is trial 6 with value: 0.6248684210526315.\n",
      "[I 2025-02-24 12:51:34,971] Trial 33 finished with value: 0.6214473684210525 and parameters: {'k': 50}. Best is trial 6 with value: 0.6248684210526315.\n",
      "[I 2025-02-24 12:51:34,985] Trial 34 finished with value: 0.4915789473684211 and parameters: {'k': 2}. Best is trial 6 with value: 0.6248684210526315.\n",
      "[I 2025-02-24 12:51:35,000] Trial 35 finished with value: 0.5797368421052631 and parameters: {'k': 13}. Best is trial 6 with value: 0.6248684210526315.\n",
      "[I 2025-02-24 12:51:35,015] Trial 36 finished with value: 0.6214473684210526 and parameters: {'k': 38}. Best is trial 6 with value: 0.6248684210526315.\n",
      "[I 2025-02-24 12:51:35,031] Trial 37 finished with value: 0.6117105263157895 and parameters: {'k': 25}. Best is trial 6 with value: 0.6248684210526315.\n",
      "[I 2025-02-24 12:51:35,046] Trial 38 finished with value: 0.5121052631578947 and parameters: {'k': 7}. Best is trial 6 with value: 0.6248684210526315.\n",
      "[I 2025-02-24 12:51:35,063] Trial 39 finished with value: 0.5930263157894737 and parameters: {'k': 24}. Best is trial 6 with value: 0.6248684210526315.\n",
      "[I 2025-02-24 12:51:35,083] Trial 40 finished with value: 0.6289473684210525 and parameters: {'k': 37}. Best is trial 40 with value: 0.6289473684210525.\n",
      "[I 2025-02-24 12:51:35,103] Trial 41 finished with value: 0.5777631578947369 and parameters: {'k': 22}. Best is trial 40 with value: 0.6289473684210525.\n",
      "[I 2025-02-24 12:51:35,123] Trial 42 finished with value: 0.5736842105263158 and parameters: {'k': 20}. Best is trial 40 with value: 0.6289473684210525.\n",
      "[I 2025-02-24 12:51:35,145] Trial 43 finished with value: 0.5544736842105263 and parameters: {'k': 10}. Best is trial 40 with value: 0.6289473684210525.\n",
      "[I 2025-02-24 12:51:35,162] Trial 44 finished with value: 0.62 and parameters: {'k': 40}. Best is trial 40 with value: 0.6289473684210525.\n",
      "[I 2025-02-24 12:51:35,179] Trial 45 finished with value: 0.6225 and parameters: {'k': 47}. Best is trial 40 with value: 0.6289473684210525.\n",
      "[I 2025-02-24 12:51:35,195] Trial 46 finished with value: 0.4881578947368421 and parameters: {'k': 4}. Best is trial 40 with value: 0.6289473684210525.\n",
      "[I 2025-02-24 12:51:35,211] Trial 47 finished with value: 0.5389473684210526 and parameters: {'k': 1}. Best is trial 40 with value: 0.6289473684210525.\n",
      "[I 2025-02-24 12:51:35,228] Trial 48 finished with value: 0.6232894736842105 and parameters: {'k': 48}. Best is trial 40 with value: 0.6289473684210525.\n",
      "[I 2025-02-24 12:51:35,245] Trial 49 finished with value: 0.6180263157894736 and parameters: {'k': 45}. Best is trial 40 with value: 0.6289473684210525.\n",
      "[I 2025-02-24 12:51:35,260] A new study created in memory with name: no-name-fa614a6b-2179-498d-aa5c-801cf7884654\n",
      "[I 2025-02-24 12:51:35,270] Trial 0 finished with value: 0.6403996964330888 and parameters: {'k': 29}. Best is trial 0 with value: 0.6403996964330888.\n",
      "[I 2025-02-24 12:51:35,281] Trial 1 finished with value: 0.5943587149000757 and parameters: {'k': 12}. Best is trial 0 with value: 0.6403996964330888.\n",
      "[I 2025-02-24 12:51:35,291] Trial 2 finished with value: 0.5987857323551733 and parameters: {'k': 11}. Best is trial 0 with value: 0.6403996964330888.\n",
      "[I 2025-02-24 12:51:35,302] Trial 3 finished with value: 0.6562104730584367 and parameters: {'k': 42}. Best is trial 3 with value: 0.6562104730584367.\n",
      "[I 2025-02-24 12:51:35,312] Trial 4 finished with value: 0.539590184669871 and parameters: {'k': 3}. Best is trial 3 with value: 0.6562104730584367.\n",
      "[I 2025-02-24 12:51:35,323] Trial 5 finished with value: 0.6200354161396407 and parameters: {'k': 28}. Best is trial 3 with value: 0.6562104730584367.\n",
      "[I 2025-02-24 12:51:35,334] Trial 6 finished with value: 0.6560839868454339 and parameters: {'k': 39}. Best is trial 3 with value: 0.6562104730584367.\n",
      "[I 2025-02-24 12:51:35,346] Trial 7 finished with value: 0.6825196053630154 and parameters: {'k': 32}. Best is trial 7 with value: 0.6825196053630154.\n",
      "[I 2025-02-24 12:51:35,357] Trial 8 finished with value: 0.6312926890968884 and parameters: {'k': 23}. Best is trial 7 with value: 0.6825196053630154.\n",
      "[I 2025-02-24 12:51:35,368] Trial 9 finished with value: 0.5795598279787504 and parameters: {'k': 5}. Best is trial 7 with value: 0.6825196053630154.\n",
      "[I 2025-02-24 12:51:35,380] Trial 10 finished with value: 0.6694915254237288 and parameters: {'k': 34}. Best is trial 7 with value: 0.6825196053630154.\n",
      "[I 2025-02-24 12:51:35,393] Trial 11 finished with value: 0.656589931697445 and parameters: {'k': 36}. Best is trial 7 with value: 0.6825196053630154.\n",
      "[I 2025-02-24 12:51:35,405] Trial 12 finished with value: 0.6331899822919301 and parameters: {'k': 27}. Best is trial 7 with value: 0.6825196053630154.\n",
      "[I 2025-02-24 12:51:35,418] Trial 13 finished with value: 0.6667088287376676 and parameters: {'k': 35}. Best is trial 7 with value: 0.6825196053630154.\n",
      "[I 2025-02-24 12:51:35,430] Trial 14 finished with value: 0.5928408803440425 and parameters: {'k': 19}. Best is trial 7 with value: 0.6825196053630154.\n",
      "[I 2025-02-24 12:51:35,443] Trial 15 finished with value: 0.5602074373893245 and parameters: {'k': 8}. Best is trial 7 with value: 0.6825196053630154.\n",
      "[I 2025-02-24 12:51:35,456] Trial 16 finished with value: 0.6046040981533014 and parameters: {'k': 15}. Best is trial 7 with value: 0.6825196053630154.\n",
      "[I 2025-02-24 12:51:35,470] Trial 17 finished with value: 0.6583607386794841 and parameters: {'k': 46}. Best is trial 7 with value: 0.6825196053630154.\n",
      "[I 2025-02-24 12:51:35,483] Trial 18 finished with value: 0.6731596256008097 and parameters: {'k': 49}. Best is trial 7 with value: 0.6825196053630154.\n",
      "[I 2025-02-24 12:51:35,496] Trial 19 finished with value: 0.6526688590943587 and parameters: {'k': 30}. Best is trial 7 with value: 0.6825196053630154.\n",
      "[I 2025-02-24 12:51:35,509] Trial 20 finished with value: 0.6034657222362763 and parameters: {'k': 16}. Best is trial 7 with value: 0.6825196053630154.\n",
      "[I 2025-02-24 12:51:35,522] Trial 21 finished with value: 0.659499114596509 and parameters: {'k': 31}. Best is trial 7 with value: 0.6825196053630154.\n",
      "[I 2025-02-24 12:51:35,535] Trial 22 finished with value: 0.6869466228181128 and parameters: {'k': 33}. Best is trial 22 with value: 0.6869466228181128.\n",
      "[I 2025-02-24 12:51:35,549] Trial 23 finished with value: 0.5879079180369339 and parameters: {'k': 17}. Best is trial 22 with value: 0.6869466228181128.\n",
      "[I 2025-02-24 12:51:35,564] Trial 24 finished with value: 0.6597520870225145 and parameters: {'k': 43}. Best is trial 22 with value: 0.6869466228181128.\n",
      "[I 2025-02-24 12:51:35,578] Trial 25 finished with value: 0.5975208702251454 and parameters: {'k': 21}. Best is trial 22 with value: 0.6869466228181128.\n",
      "[I 2025-02-24 12:51:35,593] Trial 26 finished with value: 0.6538072350113836 and parameters: {'k': 44}. Best is trial 22 with value: 0.6869466228181128.\n",
      "[I 2025-02-24 12:51:35,608] Trial 27 finished with value: 0.5665317480394637 and parameters: {'k': 9}. Best is trial 22 with value: 0.6869466228181128.\n",
      "[I 2025-02-24 12:51:35,624] Trial 28 finished with value: 0.6145965089805212 and parameters: {'k': 14}. Best is trial 22 with value: 0.6869466228181128.\n",
      "[I 2025-02-24 12:51:35,640] Trial 29 finished with value: 0.6388818618770555 and parameters: {'k': 26}. Best is trial 22 with value: 0.6869466228181128.\n",
      "[I 2025-02-24 12:51:35,654] Trial 30 finished with value: 0.5695674171515305 and parameters: {'k': 6}. Best is trial 22 with value: 0.6869466228181128.\n",
      "[I 2025-02-24 12:51:35,669] Trial 31 finished with value: 0.6071338224133571 and parameters: {'k': 18}. Best is trial 22 with value: 0.6869466228181128.\n",
      "[I 2025-02-24 12:51:35,684] Trial 32 finished with value: 0.660131545661523 and parameters: {'k': 41}. Best is trial 22 with value: 0.6869466228181128.\n",
      "[I 2025-02-24 12:51:35,699] Trial 33 finished with value: 0.6672147735896786 and parameters: {'k': 50}. Best is trial 22 with value: 0.6869466228181128.\n",
      "[I 2025-02-24 12:51:35,713] Trial 34 finished with value: 0.4939286617758665 and parameters: {'k': 2}. Best is trial 22 with value: 0.6869466228181128.\n",
      "[I 2025-02-24 12:51:35,727] Trial 35 finished with value: 0.6094105742474071 and parameters: {'k': 13}. Best is trial 22 with value: 0.6869466228181128.\n",
      "[I 2025-02-24 12:51:35,743] Trial 36 finished with value: 0.6616493802175564 and parameters: {'k': 38}. Best is trial 22 with value: 0.6869466228181128.\n",
      "[I 2025-02-24 12:51:35,758] Trial 37 finished with value: 0.644953200101189 and parameters: {'k': 25}. Best is trial 22 with value: 0.6869466228181128.\n",
      "[I 2025-02-24 12:51:35,772] Trial 38 finished with value: 0.5598279787503162 and parameters: {'k': 7}. Best is trial 22 with value: 0.6869466228181128.\n",
      "[I 2025-02-24 12:51:35,787] Trial 39 finished with value: 0.6319251201619024 and parameters: {'k': 24}. Best is trial 22 with value: 0.6869466228181128.\n",
      "[I 2025-02-24 12:51:35,802] Trial 40 finished with value: 0.6526688590943587 and parameters: {'k': 37}. Best is trial 22 with value: 0.6869466228181128.\n",
      "[I 2025-02-24 12:51:35,818] Trial 41 finished with value: 0.6162408297495572 and parameters: {'k': 22}. Best is trial 22 with value: 0.6869466228181128.\n",
      "[I 2025-02-24 12:51:35,833] Trial 42 finished with value: 0.5817100935997975 and parameters: {'k': 20}. Best is trial 22 with value: 0.6869466228181128.\n",
      "[I 2025-02-24 12:51:35,848] Trial 43 finished with value: 0.5932203389830508 and parameters: {'k': 10}. Best is trial 22 with value: 0.6869466228181128.\n",
      "[I 2025-02-24 12:51:35,864] Trial 44 finished with value: 0.662408297495573 and parameters: {'k': 40}. Best is trial 22 with value: 0.6869466228181128.\n",
      "[I 2025-02-24 12:51:35,880] Trial 45 finished with value: 0.6725271945357956 and parameters: {'k': 47}. Best is trial 22 with value: 0.6869466228181128.\n",
      "[I 2025-02-24 12:51:35,896] Trial 46 finished with value: 0.564634454844422 and parameters: {'k': 4}. Best is trial 22 with value: 0.6869466228181128.\n",
      "[I 2025-02-24 12:51:35,911] Trial 47 finished with value: 0.5357955982797875 and parameters: {'k': 1}. Best is trial 22 with value: 0.6869466228181128.\n",
      "[I 2025-02-24 12:51:35,928] Trial 48 finished with value: 0.6818871742980016 and parameters: {'k': 48}. Best is trial 22 with value: 0.6869466228181128.\n",
      "[I 2025-02-24 12:51:35,944] Trial 49 finished with value: 0.653680748798381 and parameters: {'k': 45}. Best is trial 22 with value: 0.6869466228181128.\n",
      "[I 2025-02-24 12:51:35,963] A new study created in memory with name: no-name-5f283ee5-4c6d-4d01-9a18-ab49be700684\n",
      "[I 2025-02-24 12:51:35,973] Trial 0 finished with value: 0.608402908699165 and parameters: {'k': 29}. Best is trial 0 with value: 0.608402908699165.\n",
      "[I 2025-02-24 12:51:35,982] Trial 1 finished with value: 0.6042283867492593 and parameters: {'k': 12}. Best is trial 0 with value: 0.608402908699165.\n",
      "[I 2025-02-24 12:51:35,992] Trial 2 finished with value: 0.5899542149205494 and parameters: {'k': 11}. Best is trial 0 with value: 0.608402908699165.\n",
      "[I 2025-02-24 12:51:36,002] Trial 3 finished with value: 0.5976299488284407 and parameters: {'k': 42}. Best is trial 0 with value: 0.608402908699165.\n",
      "[I 2025-02-24 12:51:36,013] Trial 4 finished with value: 0.48586049016967414 and parameters: {'k': 3}. Best is trial 0 with value: 0.608402908699165.\n",
      "[I 2025-02-24 12:51:36,024] Trial 5 finished with value: 0.612981416644223 and parameters: {'k': 28}. Best is trial 5 with value: 0.612981416644223.\n",
      "[I 2025-02-24 12:51:36,034] Trial 6 finished with value: 0.5995152168058173 and parameters: {'k': 39}. Best is trial 5 with value: 0.612981416644223.\n",
      "[I 2025-02-24 12:51:36,045] Trial 7 finished with value: 0.6089415566927013 and parameters: {'k': 32}. Best is trial 5 with value: 0.612981416644223.\n",
      "[I 2025-02-24 12:51:36,056] Trial 8 finished with value: 0.6104228386749259 and parameters: {'k': 23}. Best is trial 5 with value: 0.612981416644223.\n",
      "[I 2025-02-24 12:51:36,066] Trial 9 finished with value: 0.5153514678157823 and parameters: {'k': 5}. Best is trial 5 with value: 0.612981416644223.\n",
      "[I 2025-02-24 12:51:36,078] Trial 10 finished with value: 0.6062483167250202 and parameters: {'k': 34}. Best is trial 5 with value: 0.612981416644223.\n",
      "[I 2025-02-24 12:51:36,089] Trial 11 finished with value: 0.5938594128736869 and parameters: {'k': 36}. Best is trial 5 with value: 0.612981416644223.\n",
      "[I 2025-02-24 12:51:36,101] Trial 12 finished with value: 0.610692162671694 and parameters: {'k': 27}. Best is trial 5 with value: 0.612981416644223.\n",
      "[I 2025-02-24 12:51:36,112] Trial 13 finished with value: 0.5960140048478318 and parameters: {'k': 35}. Best is trial 5 with value: 0.612981416644223.\n",
      "[I 2025-02-24 12:51:36,124] Trial 14 finished with value: 0.6119041206571505 and parameters: {'k': 19}. Best is trial 5 with value: 0.612981416644223.\n",
      "[I 2025-02-24 12:51:36,136] Trial 15 finished with value: 0.5269323996768113 and parameters: {'k': 8}. Best is trial 5 with value: 0.612981416644223.\n",
      "[I 2025-02-24 12:51:36,147] Trial 16 finished with value: 0.6154053326151361 and parameters: {'k': 15}. Best is trial 16 with value: 0.6154053326151361.\n",
      "[I 2025-02-24 12:51:36,160] Trial 17 finished with value: 0.5987072448155131 and parameters: {'k': 46}. Best is trial 16 with value: 0.6154053326151361.\n",
      "[I 2025-02-24 12:51:36,172] Trial 18 finished with value: 0.6018044707783463 and parameters: {'k': 49}. Best is trial 16 with value: 0.6154053326151361.\n",
      "[I 2025-02-24 12:51:36,185] Trial 19 finished with value: 0.6166172906005924 and parameters: {'k': 30}. Best is trial 19 with value: 0.6166172906005924.\n",
      "[I 2025-02-24 12:51:36,197] Trial 20 finished with value: 0.6030164287638029 and parameters: {'k': 16}. Best is trial 19 with value: 0.6166172906005924.\n",
      "[I 2025-02-24 12:51:36,210] Trial 21 finished with value: 0.6211957985456504 and parameters: {'k': 31}. Best is trial 21 with value: 0.6211957985456504.\n",
      "[I 2025-02-24 12:51:36,223] Trial 22 finished with value: 0.6148666846215998 and parameters: {'k': 33}. Best is trial 21 with value: 0.6211957985456504.\n",
      "[I 2025-02-24 12:51:36,235] Trial 23 finished with value: 0.6073256127120927 and parameters: {'k': 17}. Best is trial 21 with value: 0.6211957985456504.\n",
      "[I 2025-02-24 12:51:36,249] Trial 24 finished with value: 0.5965526528413683 and parameters: {'k': 43}. Best is trial 21 with value: 0.6211957985456504.\n",
      "[I 2025-02-24 12:51:36,262] Trial 25 finished with value: 0.6015351467815783 and parameters: {'k': 21}. Best is trial 21 with value: 0.6211957985456504.\n",
      "[I 2025-02-24 12:51:36,275] Trial 26 finished with value: 0.6016698087799622 and parameters: {'k': 44}. Best is trial 21 with value: 0.6211957985456504.\n",
      "[I 2025-02-24 12:51:36,289] Trial 27 finished with value: 0.5452464314570428 and parameters: {'k': 9}. Best is trial 21 with value: 0.6211957985456504.\n",
      "[I 2025-02-24 12:51:36,302] Trial 28 finished with value: 0.622273094532723 and parameters: {'k': 14}. Best is trial 28 with value: 0.622273094532723.\n",
      "[I 2025-02-24 12:51:36,316] Trial 29 finished with value: 0.6050363587395637 and parameters: {'k': 26}. Best is trial 28 with value: 0.622273094532723.\n",
      "[I 2025-02-24 12:51:36,330] Trial 30 finished with value: 0.5067330999192028 and parameters: {'k': 6}. Best is trial 28 with value: 0.622273094532723.\n",
      "[I 2025-02-24 12:51:36,343] Trial 31 finished with value: 0.6151360086183679 and parameters: {'k': 18}. Best is trial 28 with value: 0.622273094532723.\n",
      "[I 2025-02-24 12:51:36,358] Trial 32 finished with value: 0.6019391327767304 and parameters: {'k': 41}. Best is trial 28 with value: 0.622273094532723.\n",
      "[I 2025-02-24 12:51:36,372] Trial 33 finished with value: 0.6035550767573391 and parameters: {'k': 50}. Best is trial 28 with value: 0.622273094532723.\n",
      "[I 2025-02-24 12:51:36,386] Trial 34 finished with value: 0.490304336116348 and parameters: {'k': 2}. Best is trial 28 with value: 0.622273094532723.\n",
      "[I 2025-02-24 12:51:36,401] Trial 35 finished with value: 0.5925127928898466 and parameters: {'k': 13}. Best is trial 28 with value: 0.622273094532723.\n",
      "[I 2025-02-24 12:51:36,418] Trial 36 finished with value: 0.5995152168058174 and parameters: {'k': 38}. Best is trial 28 with value: 0.622273094532723.\n",
      "[I 2025-02-24 12:51:36,437] Trial 37 finished with value: 0.6163479666038245 and parameters: {'k': 25}. Best is trial 28 with value: 0.622273094532723.\n",
      "[I 2025-02-24 12:51:36,454] Trial 38 finished with value: 0.5013466199838406 and parameters: {'k': 7}. Best is trial 28 with value: 0.622273094532723.\n",
      "[I 2025-02-24 12:51:36,469] Trial 39 finished with value: 0.6210611365472664 and parameters: {'k': 24}. Best is trial 28 with value: 0.622273094532723.\n",
      "[I 2025-02-24 12:51:36,485] Trial 40 finished with value: 0.593859412873687 and parameters: {'k': 37}. Best is trial 28 with value: 0.622273094532723.\n",
      "[I 2025-02-24 12:51:36,500] Trial 41 finished with value: 0.6075949367088608 and parameters: {'k': 22}. Best is trial 28 with value: 0.622273094532723.\n",
      "[I 2025-02-24 12:51:36,515] Trial 42 finished with value: 0.6047670347427956 and parameters: {'k': 20}. Best is trial 28 with value: 0.622273094532723.\n",
      "[I 2025-02-24 12:51:36,530] Trial 43 finished with value: 0.5654457312146512 and parameters: {'k': 10}. Best is trial 28 with value: 0.622273094532723.\n",
      "[I 2025-02-24 12:51:36,546] Trial 44 finished with value: 0.5958793428494479 and parameters: {'k': 40}. Best is trial 28 with value: 0.622273094532723.\n",
      "[I 2025-02-24 12:51:36,562] Trial 45 finished with value: 0.6098841906813897 and parameters: {'k': 47}. Best is trial 28 with value: 0.622273094532723.\n",
      "[I 2025-02-24 12:51:36,578] Trial 46 finished with value: 0.4928629140856451 and parameters: {'k': 4}. Best is trial 28 with value: 0.622273094532723.\n",
      "[I 2025-02-24 12:51:36,594] Trial 47 finished with value: 0.5061944519256666 and parameters: {'k': 1}. Best is trial 28 with value: 0.622273094532723.\n",
      "[I 2025-02-24 12:51:36,610] Trial 48 finished with value: 0.6011311607864261 and parameters: {'k': 48}. Best is trial 28 with value: 0.622273094532723.\n",
      "[I 2025-02-24 12:51:36,627] Trial 49 finished with value: 0.600861836789658 and parameters: {'k': 45}. Best is trial 28 with value: 0.622273094532723.\n",
      "[I 2025-02-24 12:51:36,641] A new study created in memory with name: no-name-7485cf64-abef-48b3-acec-7519c3110027\n",
      "[I 2025-02-24 12:51:36,651] Trial 0 finished with value: 0.6315638450502152 and parameters: {'k': 29}. Best is trial 0 with value: 0.6315638450502152.\n",
      "[I 2025-02-24 12:51:36,661] Trial 1 finished with value: 0.5869440459110473 and parameters: {'k': 12}. Best is trial 0 with value: 0.6315638450502152.\n",
      "[I 2025-02-24 12:51:36,673] Trial 2 finished with value: 0.5794835007173602 and parameters: {'k': 11}. Best is trial 0 with value: 0.6315638450502152.\n",
      "[I 2025-02-24 12:51:36,686] Trial 3 finished with value: 0.6510760401721665 and parameters: {'k': 42}. Best is trial 3 with value: 0.6510760401721665.\n",
      "[I 2025-02-24 12:51:36,699] Trial 4 finished with value: 0.587948350071736 and parameters: {'k': 3}. Best is trial 3 with value: 0.6510760401721665.\n",
      "[I 2025-02-24 12:51:36,713] Trial 5 finished with value: 0.624964131994261 and parameters: {'k': 28}. Best is trial 3 with value: 0.6510760401721665.\n",
      "[I 2025-02-24 12:51:36,727] Trial 6 finished with value: 0.6284074605451937 and parameters: {'k': 39}. Best is trial 3 with value: 0.6510760401721665.\n",
      "[I 2025-02-24 12:51:36,740] Trial 7 finished with value: 0.6348637015781923 and parameters: {'k': 32}. Best is trial 3 with value: 0.6510760401721665.\n",
      "[I 2025-02-24 12:51:36,754] Trial 8 finished with value: 0.5787661406025825 and parameters: {'k': 23}. Best is trial 3 with value: 0.6510760401721665.\n",
      "[I 2025-02-24 12:51:36,764] Trial 9 finished with value: 0.5575322812051651 and parameters: {'k': 5}. Best is trial 3 with value: 0.6510760401721665.\n",
      "[I 2025-02-24 12:51:36,776] Trial 10 finished with value: 0.6272596843615496 and parameters: {'k': 34}. Best is trial 3 with value: 0.6510760401721665.\n",
      "[I 2025-02-24 12:51:36,787] Trial 11 finished with value: 0.6431850789096126 and parameters: {'k': 36}. Best is trial 3 with value: 0.6510760401721665.\n",
      "[I 2025-02-24 12:51:36,798] Trial 12 finished with value: 0.617790530846485 and parameters: {'k': 27}. Best is trial 3 with value: 0.6510760401721665.\n",
      "[I 2025-02-24 12:51:36,810] Trial 13 finished with value: 0.6329985652797705 and parameters: {'k': 35}. Best is trial 3 with value: 0.6510760401721665.\n",
      "[I 2025-02-24 12:51:36,821] Trial 14 finished with value: 0.5362984218077474 and parameters: {'k': 19}. Best is trial 3 with value: 0.6510760401721665.\n",
      "[I 2025-02-24 12:51:36,833] Trial 15 finished with value: 0.5658536585365854 and parameters: {'k': 8}. Best is trial 3 with value: 0.6510760401721665.\n",
      "[I 2025-02-24 12:51:36,844] Trial 16 finished with value: 0.5672883787661406 and parameters: {'k': 15}. Best is trial 3 with value: 0.6510760401721665.\n",
      "[I 2025-02-24 12:51:36,857] Trial 17 finished with value: 0.6595408895265422 and parameters: {'k': 46}. Best is trial 17 with value: 0.6595408895265422.\n",
      "[I 2025-02-24 12:51:36,869] Trial 18 finished with value: 0.6519368723098996 and parameters: {'k': 49}. Best is trial 17 with value: 0.6595408895265422.\n",
      "[I 2025-02-24 12:51:36,881] Trial 19 finished with value: 0.6393113342898135 and parameters: {'k': 30}. Best is trial 17 with value: 0.6595408895265422.\n",
      "[I 2025-02-24 12:51:36,893] Trial 20 finished with value: 0.5558106169296988 and parameters: {'k': 16}. Best is trial 17 with value: 0.6595408895265422.\n",
      "[I 2025-02-24 12:51:36,906] Trial 21 finished with value: 0.634002869440459 and parameters: {'k': 31}. Best is trial 17 with value: 0.6595408895265422.\n",
      "[I 2025-02-24 12:51:36,918] Trial 22 finished with value: 0.6337159253945481 and parameters: {'k': 33}. Best is trial 17 with value: 0.6595408895265422.\n",
      "[I 2025-02-24 12:51:36,931] Trial 23 finished with value: 0.5549497847919657 and parameters: {'k': 17}. Best is trial 17 with value: 0.6595408895265422.\n",
      "[I 2025-02-24 12:51:36,944] Trial 24 finished with value: 0.6517934002869441 and parameters: {'k': 43}. Best is trial 17 with value: 0.6595408895265422.\n",
      "[I 2025-02-24 12:51:36,957] Trial 25 finished with value: 0.5461979913916787 and parameters: {'k': 21}. Best is trial 17 with value: 0.6595408895265422.\n",
      "[I 2025-02-24 12:51:36,971] Trial 26 finished with value: 0.6589670014347202 and parameters: {'k': 44}. Best is trial 17 with value: 0.6595408895265422.\n",
      "[I 2025-02-24 12:51:36,984] Trial 27 finished with value: 0.5437589670014347 and parameters: {'k': 9}. Best is trial 17 with value: 0.6595408895265422.\n",
      "[I 2025-02-24 12:51:36,998] Trial 28 finished with value: 0.5691535150645625 and parameters: {'k': 14}. Best is trial 17 with value: 0.6595408895265422.\n",
      "[I 2025-02-24 12:51:37,012] Trial 29 finished with value: 0.594835007173601 and parameters: {'k': 26}. Best is trial 17 with value: 0.6595408895265422.\n",
      "[I 2025-02-24 12:51:37,025] Trial 30 finished with value: 0.5519368723098995 and parameters: {'k': 6}. Best is trial 17 with value: 0.6595408895265422.\n",
      "[I 2025-02-24 12:51:37,039] Trial 31 finished with value: 0.5546628407460545 and parameters: {'k': 18}. Best is trial 17 with value: 0.6595408895265422.\n",
      "[I 2025-02-24 12:51:37,054] Trial 32 finished with value: 0.6436154949784791 and parameters: {'k': 41}. Best is trial 17 with value: 0.6595408895265422.\n",
      "[I 2025-02-24 12:51:37,068] Trial 33 finished with value: 0.6516499282639885 and parameters: {'k': 50}. Best is trial 17 with value: 0.6595408895265422.\n",
      "[I 2025-02-24 12:51:37,082] Trial 34 finished with value: 0.6004304160688665 and parameters: {'k': 2}. Best is trial 17 with value: 0.6595408895265422.\n",
      "[I 2025-02-24 12:51:37,096] Trial 35 finished with value: 0.5730272596843616 and parameters: {'k': 13}. Best is trial 17 with value: 0.6595408895265422.\n",
      "[I 2025-02-24 12:51:37,111] Trial 36 finished with value: 0.636441893830703 and parameters: {'k': 38}. Best is trial 17 with value: 0.6595408895265422.\n",
      "[I 2025-02-24 12:51:37,126] Trial 37 finished with value: 0.5763271162123388 and parameters: {'k': 25}. Best is trial 17 with value: 0.6595408895265422.\n",
      "[I 2025-02-24 12:51:37,140] Trial 38 finished with value: 0.5741750358680058 and parameters: {'k': 7}. Best is trial 17 with value: 0.6595408895265422.\n",
      "[I 2025-02-24 12:51:37,155] Trial 39 finished with value: 0.5865136298421808 and parameters: {'k': 24}. Best is trial 17 with value: 0.6595408895265422.\n",
      "[I 2025-02-24 12:51:37,171] Trial 40 finished with value: 0.638880918220947 and parameters: {'k': 37}. Best is trial 17 with value: 0.6595408895265422.\n",
      "[I 2025-02-24 12:51:37,186] Trial 41 finished with value: 0.5641319942611192 and parameters: {'k': 22}. Best is trial 17 with value: 0.6595408895265422.\n",
      "[I 2025-02-24 12:51:37,201] Trial 42 finished with value: 0.5413199426111908 and parameters: {'k': 20}. Best is trial 17 with value: 0.6595408895265422.\n",
      "[I 2025-02-24 12:51:37,217] Trial 43 finished with value: 0.5667144906743186 and parameters: {'k': 10}. Best is trial 17 with value: 0.6595408895265422.\n",
      "[I 2025-02-24 12:51:37,233] Trial 44 finished with value: 0.638880918220947 and parameters: {'k': 40}. Best is trial 17 with value: 0.6595408895265422.\n",
      "[I 2025-02-24 12:51:37,249] Trial 45 finished with value: 0.6586800573888092 and parameters: {'k': 47}. Best is trial 17 with value: 0.6595408895265422.\n",
      "[I 2025-02-24 12:51:37,264] Trial 46 finished with value: 0.555093256814921 and parameters: {'k': 4}. Best is trial 17 with value: 0.6595408895265422.\n",
      "[I 2025-02-24 12:51:37,280] Trial 47 finished with value: 0.575896700143472 and parameters: {'k': 1}. Best is trial 17 with value: 0.6595408895265422.\n",
      "[I 2025-02-24 12:51:37,297] Trial 48 finished with value: 0.6540889526542324 and parameters: {'k': 48}. Best is trial 17 with value: 0.6595408895265422.\n",
      "[I 2025-02-24 12:51:37,314] Trial 49 finished with value: 0.6539454806312769 and parameters: {'k': 45}. Best is trial 17 with value: 0.6595408895265422.\n",
      "[I 2025-02-24 12:51:37,329] A new study created in memory with name: no-name-bae6dec2-5651-4ef7-8182-e358993d6076\n",
      "[I 2025-02-24 12:51:37,339] Trial 0 finished with value: 0.567091836734694 and parameters: {'k': 29}. Best is trial 0 with value: 0.567091836734694.\n",
      "[I 2025-02-24 12:51:37,349] Trial 1 finished with value: 0.5534438775510204 and parameters: {'k': 12}. Best is trial 0 with value: 0.567091836734694.\n",
      "[I 2025-02-24 12:51:37,358] Trial 2 finished with value: 0.557015306122449 and parameters: {'k': 11}. Best is trial 0 with value: 0.567091836734694.\n",
      "[I 2025-02-24 12:51:37,369] Trial 3 finished with value: 0.5863520408163265 and parameters: {'k': 42}. Best is trial 3 with value: 0.5863520408163265.\n",
      "[I 2025-02-24 12:51:37,379] Trial 4 finished with value: 0.5511479591836734 and parameters: {'k': 3}. Best is trial 3 with value: 0.5863520408163265.\n",
      "[I 2025-02-24 12:51:37,389] Trial 5 finished with value: 0.5707908163265305 and parameters: {'k': 28}. Best is trial 3 with value: 0.5863520408163265.\n",
      "[I 2025-02-24 12:51:37,400] Trial 6 finished with value: 0.5931122448979592 and parameters: {'k': 39}. Best is trial 6 with value: 0.5931122448979592.\n",
      "[I 2025-02-24 12:51:37,411] Trial 7 finished with value: 0.5829081632653061 and parameters: {'k': 32}. Best is trial 6 with value: 0.5931122448979592.\n",
      "[I 2025-02-24 12:51:37,422] Trial 8 finished with value: 0.5825255102040817 and parameters: {'k': 23}. Best is trial 6 with value: 0.5931122448979592.\n",
      "[I 2025-02-24 12:51:37,432] Trial 9 finished with value: 0.5506377551020408 and parameters: {'k': 5}. Best is trial 6 with value: 0.5931122448979592.\n",
      "[I 2025-02-24 12:51:37,444] Trial 10 finished with value: 0.5867346938775511 and parameters: {'k': 34}. Best is trial 6 with value: 0.5931122448979592.\n",
      "[I 2025-02-24 12:51:37,456] Trial 11 finished with value: 0.5989795918367347 and parameters: {'k': 36}. Best is trial 11 with value: 0.5989795918367347.\n",
      "[I 2025-02-24 12:51:37,467] Trial 12 finished with value: 0.5714285714285714 and parameters: {'k': 27}. Best is trial 11 with value: 0.5989795918367347.\n",
      "[I 2025-02-24 12:51:37,479] Trial 13 finished with value: 0.5971938775510204 and parameters: {'k': 35}. Best is trial 11 with value: 0.5989795918367347.\n",
      "[I 2025-02-24 12:51:37,491] Trial 14 finished with value: 0.5866071428571429 and parameters: {'k': 19}. Best is trial 11 with value: 0.5989795918367347.\n",
      "[I 2025-02-24 12:51:37,503] Trial 15 finished with value: 0.5880102040816326 and parameters: {'k': 8}. Best is trial 11 with value: 0.5989795918367347.\n",
      "[I 2025-02-24 12:51:37,514] Trial 16 finished with value: 0.574234693877551 and parameters: {'k': 15}. Best is trial 11 with value: 0.5989795918367347.\n",
      "[I 2025-02-24 12:51:37,526] Trial 17 finished with value: 0.5738520408163265 and parameters: {'k': 46}. Best is trial 11 with value: 0.5989795918367347.\n",
      "[I 2025-02-24 12:51:37,539] Trial 18 finished with value: 0.5577806122448979 and parameters: {'k': 49}. Best is trial 11 with value: 0.5989795918367347.\n",
      "[I 2025-02-24 12:51:37,551] Trial 19 finished with value: 0.5656887755102041 and parameters: {'k': 30}. Best is trial 11 with value: 0.5989795918367347.\n",
      "[I 2025-02-24 12:51:37,563] Trial 20 finished with value: 0.5747448979591837 and parameters: {'k': 16}. Best is trial 11 with value: 0.5989795918367347.\n",
      "[I 2025-02-24 12:51:37,576] Trial 21 finished with value: 0.5789540816326532 and parameters: {'k': 31}. Best is trial 11 with value: 0.5989795918367347.\n",
      "[I 2025-02-24 12:51:37,588] Trial 22 finished with value: 0.5778061224489796 and parameters: {'k': 33}. Best is trial 11 with value: 0.5989795918367347.\n",
      "[I 2025-02-24 12:51:37,601] Trial 23 finished with value: 0.5752551020408163 and parameters: {'k': 17}. Best is trial 11 with value: 0.5989795918367347.\n",
      "[I 2025-02-24 12:51:37,616] Trial 24 finished with value: 0.5806122448979592 and parameters: {'k': 43}. Best is trial 11 with value: 0.5989795918367347.\n",
      "[I 2025-02-24 12:51:37,629] Trial 25 finished with value: 0.5843112244897959 and parameters: {'k': 21}. Best is trial 11 with value: 0.5989795918367347.\n",
      "[I 2025-02-24 12:51:37,642] Trial 26 finished with value: 0.5716836734693878 and parameters: {'k': 44}. Best is trial 11 with value: 0.5989795918367347.\n",
      "[I 2025-02-24 12:51:37,655] Trial 27 finished with value: 0.5812499999999999 and parameters: {'k': 9}. Best is trial 11 with value: 0.5989795918367347.\n",
      "[I 2025-02-24 12:51:37,668] Trial 28 finished with value: 0.5693877551020408 and parameters: {'k': 14}. Best is trial 11 with value: 0.5989795918367347.\n",
      "[I 2025-02-24 12:51:37,682] Trial 29 finished with value: 0.5752551020408163 and parameters: {'k': 26}. Best is trial 11 with value: 0.5989795918367347.\n",
      "[I 2025-02-24 12:51:37,696] Trial 30 finished with value: 0.5775510204081633 and parameters: {'k': 6}. Best is trial 11 with value: 0.5989795918367347.\n",
      "[I 2025-02-24 12:51:37,710] Trial 31 finished with value: 0.5927295918367347 and parameters: {'k': 18}. Best is trial 11 with value: 0.5989795918367347.\n",
      "[I 2025-02-24 12:51:37,724] Trial 32 finished with value: 0.59375 and parameters: {'k': 41}. Best is trial 11 with value: 0.5989795918367347.\n",
      "[I 2025-02-24 12:51:37,738] Trial 33 finished with value: 0.5553571428571429 and parameters: {'k': 50}. Best is trial 11 with value: 0.5989795918367347.\n",
      "[I 2025-02-24 12:51:37,752] Trial 34 finished with value: 0.5418367346938775 and parameters: {'k': 2}. Best is trial 11 with value: 0.5989795918367347.\n",
      "[I 2025-02-24 12:51:37,767] Trial 35 finished with value: 0.5681122448979592 and parameters: {'k': 13}. Best is trial 11 with value: 0.5989795918367347.\n",
      "[I 2025-02-24 12:51:37,781] Trial 36 finished with value: 0.5968112244897958 and parameters: {'k': 38}. Best is trial 11 with value: 0.5989795918367347.\n",
      "[I 2025-02-24 12:51:37,796] Trial 37 finished with value: 0.5872448979591837 and parameters: {'k': 25}. Best is trial 11 with value: 0.5989795918367347.\n",
      "[I 2025-02-24 12:51:37,810] Trial 38 finished with value: 0.5909438775510204 and parameters: {'k': 7}. Best is trial 11 with value: 0.5989795918367347.\n",
      "[I 2025-02-24 12:51:37,825] Trial 39 finished with value: 0.5956632653061225 and parameters: {'k': 24}. Best is trial 11 with value: 0.5989795918367347.\n",
      "[I 2025-02-24 12:51:37,841] Trial 40 finished with value: 0.599234693877551 and parameters: {'k': 37}. Best is trial 40 with value: 0.599234693877551.\n",
      "[I 2025-02-24 12:51:37,856] Trial 41 finished with value: 0.5895408163265307 and parameters: {'k': 22}. Best is trial 40 with value: 0.599234693877551.\n",
      "[I 2025-02-24 12:51:37,871] Trial 42 finished with value: 0.5885204081632652 and parameters: {'k': 20}. Best is trial 40 with value: 0.599234693877551.\n",
      "[I 2025-02-24 12:51:37,886] Trial 43 finished with value: 0.5701530612244897 and parameters: {'k': 10}. Best is trial 40 with value: 0.599234693877551.\n",
      "[I 2025-02-24 12:51:37,902] Trial 44 finished with value: 0.5844387755102041 and parameters: {'k': 40}. Best is trial 40 with value: 0.599234693877551.\n",
      "[I 2025-02-24 12:51:37,918] Trial 45 finished with value: 0.5610969387755103 and parameters: {'k': 47}. Best is trial 40 with value: 0.599234693877551.\n",
      "[I 2025-02-24 12:51:37,934] Trial 46 finished with value: 0.5628826530612245 and parameters: {'k': 4}. Best is trial 40 with value: 0.599234693877551.\n",
      "[I 2025-02-24 12:51:37,949] Trial 47 finished with value: 0.5446428571428571 and parameters: {'k': 1}. Best is trial 40 with value: 0.599234693877551.\n",
      "[I 2025-02-24 12:51:37,966] Trial 48 finished with value: 0.5616071428571429 and parameters: {'k': 48}. Best is trial 40 with value: 0.599234693877551.\n",
      "[I 2025-02-24 12:51:37,982] Trial 49 finished with value: 0.5700255102040815 and parameters: {'k': 45}. Best is trial 40 with value: 0.599234693877551.\n",
      "[I 2025-02-24 12:51:37,997] A new study created in memory with name: no-name-07a1f8a7-38d7-4233-a9fc-34f9bd0fd9cf\n",
      "[I 2025-02-24 12:51:38,007] Trial 0 finished with value: 0.5344736842105263 and parameters: {'k': 29}. Best is trial 0 with value: 0.5344736842105263.\n",
      "[I 2025-02-24 12:51:38,017] Trial 1 finished with value: 0.550657894736842 and parameters: {'k': 12}. Best is trial 1 with value: 0.550657894736842.\n",
      "[I 2025-02-24 12:51:38,028] Trial 2 finished with value: 0.5507894736842105 and parameters: {'k': 11}. Best is trial 2 with value: 0.5507894736842105.\n",
      "[I 2025-02-24 12:51:38,038] Trial 3 finished with value: 0.5818421052631578 and parameters: {'k': 42}. Best is trial 3 with value: 0.5818421052631578.\n",
      "[I 2025-02-24 12:51:38,049] Trial 4 finished with value: 0.4747368421052632 and parameters: {'k': 3}. Best is trial 3 with value: 0.5818421052631578.\n",
      "[I 2025-02-24 12:51:38,059] Trial 5 finished with value: 0.5228947368421053 and parameters: {'k': 28}. Best is trial 3 with value: 0.5818421052631578.\n",
      "[I 2025-02-24 12:51:38,070] Trial 6 finished with value: 0.5527631578947368 and parameters: {'k': 39}. Best is trial 3 with value: 0.5818421052631578.\n",
      "[I 2025-02-24 12:51:38,080] Trial 7 finished with value: 0.5536842105263158 and parameters: {'k': 32}. Best is trial 3 with value: 0.5818421052631578.\n",
      "[I 2025-02-24 12:51:38,091] Trial 8 finished with value: 0.5302631578947368 and parameters: {'k': 23}. Best is trial 3 with value: 0.5818421052631578.\n",
      "[I 2025-02-24 12:51:38,102] Trial 9 finished with value: 0.5213157894736842 and parameters: {'k': 5}. Best is trial 3 with value: 0.5818421052631578.\n",
      "[I 2025-02-24 12:51:38,113] Trial 10 finished with value: 0.5594736842105263 and parameters: {'k': 34}. Best is trial 3 with value: 0.5818421052631578.\n",
      "[I 2025-02-24 12:51:38,124] Trial 11 finished with value: 0.5546052631578948 and parameters: {'k': 36}. Best is trial 3 with value: 0.5818421052631578.\n",
      "[I 2025-02-24 12:51:38,136] Trial 12 finished with value: 0.5151315789473684 and parameters: {'k': 27}. Best is trial 3 with value: 0.5818421052631578.\n",
      "[I 2025-02-24 12:51:38,147] Trial 13 finished with value: 0.5477631578947368 and parameters: {'k': 35}. Best is trial 3 with value: 0.5818421052631578.\n",
      "[I 2025-02-24 12:51:38,159] Trial 14 finished with value: 0.524078947368421 and parameters: {'k': 19}. Best is trial 3 with value: 0.5818421052631578.\n",
      "[I 2025-02-24 12:51:38,170] Trial 15 finished with value: 0.5151315789473685 and parameters: {'k': 8}. Best is trial 3 with value: 0.5818421052631578.\n",
      "[I 2025-02-24 12:51:38,182] Trial 16 finished with value: 0.5260526315789474 and parameters: {'k': 15}. Best is trial 3 with value: 0.5818421052631578.\n",
      "[I 2025-02-24 12:51:38,194] Trial 17 finished with value: 0.5963157894736841 and parameters: {'k': 46}. Best is trial 17 with value: 0.5963157894736841.\n",
      "[I 2025-02-24 12:51:38,207] Trial 18 finished with value: 0.6069736842105263 and parameters: {'k': 49}. Best is trial 18 with value: 0.6069736842105263.\n",
      "[I 2025-02-24 12:51:38,219] Trial 19 finished with value: 0.5426315789473685 and parameters: {'k': 30}. Best is trial 18 with value: 0.6069736842105263.\n",
      "[I 2025-02-24 12:51:38,237] Trial 20 finished with value: 0.5218421052631579 and parameters: {'k': 16}. Best is trial 18 with value: 0.6069736842105263.\n",
      "[I 2025-02-24 12:51:38,254] Trial 21 finished with value: 0.5426315789473685 and parameters: {'k': 31}. Best is trial 18 with value: 0.6069736842105263.\n",
      "[I 2025-02-24 12:51:38,271] Trial 22 finished with value: 0.5544736842105263 and parameters: {'k': 33}. Best is trial 18 with value: 0.6069736842105263.\n",
      "[I 2025-02-24 12:51:38,287] Trial 23 finished with value: 0.5238157894736842 and parameters: {'k': 17}. Best is trial 18 with value: 0.6069736842105263.\n",
      "[I 2025-02-24 12:51:38,304] Trial 24 finished with value: 0.5971052631578947 and parameters: {'k': 43}. Best is trial 18 with value: 0.6069736842105263.\n",
      "[I 2025-02-24 12:51:38,317] Trial 25 finished with value: 0.5307894736842105 and parameters: {'k': 21}. Best is trial 18 with value: 0.6069736842105263.\n",
      "[I 2025-02-24 12:51:38,331] Trial 26 finished with value: 0.5902631578947369 and parameters: {'k': 44}. Best is trial 18 with value: 0.6069736842105263.\n",
      "[I 2025-02-24 12:51:38,344] Trial 27 finished with value: 0.5381578947368422 and parameters: {'k': 9}. Best is trial 18 with value: 0.6069736842105263.\n",
      "[I 2025-02-24 12:51:38,358] Trial 28 finished with value: 0.5455263157894736 and parameters: {'k': 14}. Best is trial 18 with value: 0.6069736842105263.\n",
      "[I 2025-02-24 12:51:38,371] Trial 29 finished with value: 0.5264473684210527 and parameters: {'k': 26}. Best is trial 18 with value: 0.6069736842105263.\n",
      "[I 2025-02-24 12:51:38,385] Trial 30 finished with value: 0.5253947368421052 and parameters: {'k': 6}. Best is trial 18 with value: 0.6069736842105263.\n",
      "[I 2025-02-24 12:51:38,399] Trial 31 finished with value: 0.5311842105263157 and parameters: {'k': 18}. Best is trial 18 with value: 0.6069736842105263.\n",
      "[I 2025-02-24 12:51:38,414] Trial 32 finished with value: 0.5690789473684211 and parameters: {'k': 41}. Best is trial 18 with value: 0.6069736842105263.\n",
      "[I 2025-02-24 12:51:38,428] Trial 33 finished with value: 0.6047368421052631 and parameters: {'k': 50}. Best is trial 18 with value: 0.6069736842105263.\n",
      "[I 2025-02-24 12:51:38,443] Trial 34 finished with value: 0.4636842105263158 and parameters: {'k': 2}. Best is trial 18 with value: 0.6069736842105263.\n",
      "[I 2025-02-24 12:51:38,457] Trial 35 finished with value: 0.535921052631579 and parameters: {'k': 13}. Best is trial 18 with value: 0.6069736842105263.\n",
      "[I 2025-02-24 12:51:38,473] Trial 36 finished with value: 0.5580263157894737 and parameters: {'k': 38}. Best is trial 18 with value: 0.6069736842105263.\n",
      "[I 2025-02-24 12:51:38,488] Trial 37 finished with value: 0.5194736842105263 and parameters: {'k': 25}. Best is trial 18 with value: 0.6069736842105263.\n",
      "[I 2025-02-24 12:51:38,502] Trial 38 finished with value: 0.5127631578947368 and parameters: {'k': 7}. Best is trial 18 with value: 0.6069736842105263.\n",
      "[I 2025-02-24 12:51:38,517] Trial 39 finished with value: 0.5239473684210526 and parameters: {'k': 24}. Best is trial 18 with value: 0.6069736842105263.\n",
      "[I 2025-02-24 12:51:38,533] Trial 40 finished with value: 0.5628947368421052 and parameters: {'k': 37}. Best is trial 18 with value: 0.6069736842105263.\n",
      "[I 2025-02-24 12:51:38,548] Trial 41 finished with value: 0.5327631578947368 and parameters: {'k': 22}. Best is trial 18 with value: 0.6069736842105263.\n",
      "[I 2025-02-24 12:51:38,563] Trial 42 finished with value: 0.5339473684210527 and parameters: {'k': 20}. Best is trial 18 with value: 0.6069736842105263.\n",
      "[I 2025-02-24 12:51:38,579] Trial 43 finished with value: 0.5376315789473685 and parameters: {'k': 10}. Best is trial 18 with value: 0.6069736842105263.\n",
      "[I 2025-02-24 12:51:38,594] Trial 44 finished with value: 0.5559210526315789 and parameters: {'k': 40}. Best is trial 18 with value: 0.6069736842105263.\n",
      "[I 2025-02-24 12:51:38,610] Trial 45 finished with value: 0.5969736842105263 and parameters: {'k': 47}. Best is trial 18 with value: 0.6069736842105263.\n",
      "[I 2025-02-24 12:51:38,626] Trial 46 finished with value: 0.4839473684210526 and parameters: {'k': 4}. Best is trial 18 with value: 0.6069736842105263.\n",
      "[I 2025-02-24 12:51:38,641] Trial 47 finished with value: 0.46947368421052627 and parameters: {'k': 1}. Best is trial 18 with value: 0.6069736842105263.\n",
      "[I 2025-02-24 12:51:38,658] Trial 48 finished with value: 0.6032894736842106 and parameters: {'k': 48}. Best is trial 18 with value: 0.6069736842105263.\n",
      "[I 2025-02-24 12:51:38,675] Trial 49 finished with value: 0.5925 and parameters: {'k': 45}. Best is trial 18 with value: 0.6069736842105263.\n",
      "[I 2025-02-24 12:51:38,690] A new study created in memory with name: no-name-4a3eef43-10ff-4bb7-b49d-4f02d1e90e51\n",
      "[I 2025-02-24 12:51:38,700] Trial 0 finished with value: 0.6233240576777132 and parameters: {'k': 29}. Best is trial 0 with value: 0.6233240576777132.\n",
      "[I 2025-02-24 12:51:38,710] Trial 1 finished with value: 0.6110548950164433 and parameters: {'k': 12}. Best is trial 0 with value: 0.6233240576777132.\n",
      "[I 2025-02-24 12:51:38,720] Trial 2 finished with value: 0.5849987351378699 and parameters: {'k': 11}. Best is trial 0 with value: 0.6233240576777132.\n",
      "[I 2025-02-24 12:51:38,730] Trial 3 finished with value: 0.6650645079686315 and parameters: {'k': 42}. Best is trial 3 with value: 0.6650645079686315.\n",
      "[I 2025-02-24 12:51:38,740] Trial 4 finished with value: 0.5097394384012143 and parameters: {'k': 3}. Best is trial 3 with value: 0.6650645079686315.\n",
      "[I 2025-02-24 12:51:38,751] Trial 5 finished with value: 0.6449532001011891 and parameters: {'k': 28}. Best is trial 3 with value: 0.6650645079686315.\n",
      "[I 2025-02-24 12:51:38,761] Trial 6 finished with value: 0.6713888186187705 and parameters: {'k': 39}. Best is trial 6 with value: 0.6713888186187705.\n",
      "[I 2025-02-24 12:51:38,772] Trial 7 finished with value: 0.6369845686820136 and parameters: {'k': 32}. Best is trial 6 with value: 0.6713888186187705.\n",
      "[I 2025-02-24 12:51:38,783] Trial 8 finished with value: 0.6089046293953959 and parameters: {'k': 23}. Best is trial 6 with value: 0.6713888186187705.\n",
      "[I 2025-02-24 12:51:38,796] Trial 9 finished with value: 0.5699468757905388 and parameters: {'k': 5}. Best is trial 6 with value: 0.6713888186187705.\n",
      "[I 2025-02-24 12:51:38,810] Trial 10 finished with value: 0.6644320769036175 and parameters: {'k': 34}. Best is trial 6 with value: 0.6713888186187705.\n",
      "[I 2025-02-24 12:51:38,822] Trial 11 finished with value: 0.6626612699215786 and parameters: {'k': 36}. Best is trial 6 with value: 0.6713888186187705.\n",
      "[I 2025-02-24 12:51:38,837] Trial 12 finished with value: 0.6508980521123197 and parameters: {'k': 27}. Best is trial 6 with value: 0.6713888186187705.\n",
      "[I 2025-02-24 12:51:38,849] Trial 13 finished with value: 0.6675942322286872 and parameters: {'k': 35}. Best is trial 6 with value: 0.6713888186187705.\n",
      "[I 2025-02-24 12:51:38,860] Trial 14 finished with value: 0.6166202883885656 and parameters: {'k': 19}. Best is trial 6 with value: 0.6713888186187705.\n",
      "[I 2025-02-24 12:51:38,872] Trial 15 finished with value: 0.5643814824184163 and parameters: {'k': 8}. Best is trial 6 with value: 0.6713888186187705.\n",
      "[I 2025-02-24 12:51:38,884] Trial 16 finished with value: 0.6338224133569442 and parameters: {'k': 15}. Best is trial 6 with value: 0.6713888186187705.\n",
      "[I 2025-02-24 12:51:38,896] Trial 17 finished with value: 0.6761952947128762 and parameters: {'k': 46}. Best is trial 17 with value: 0.6761952947128762.\n",
      "[I 2025-02-24 12:51:38,908] Trial 18 finished with value: 0.6557045282064254 and parameters: {'k': 49}. Best is trial 17 with value: 0.6761952947128762.\n",
      "[I 2025-02-24 12:51:38,920] Trial 19 finished with value: 0.6215532506956741 and parameters: {'k': 30}. Best is trial 17 with value: 0.6761952947128762.\n",
      "[I 2025-02-24 12:51:38,933] Trial 20 finished with value: 0.6407791550720972 and parameters: {'k': 16}. Best is trial 17 with value: 0.6761952947128762.\n",
      "[I 2025-02-24 12:51:38,945] Trial 21 finished with value: 0.6220591955476852 and parameters: {'k': 31}. Best is trial 17 with value: 0.6761952947128762.\n",
      "[I 2025-02-24 12:51:38,958] Trial 22 finished with value: 0.6535542625853783 and parameters: {'k': 33}. Best is trial 17 with value: 0.6761952947128762.\n",
      "[I 2025-02-24 12:51:38,971] Trial 23 finished with value: 0.6398937515810778 and parameters: {'k': 17}. Best is trial 17 with value: 0.6761952947128762.\n",
      "[I 2025-02-24 12:51:38,984] Trial 24 finished with value: 0.6703769289147482 and parameters: {'k': 43}. Best is trial 17 with value: 0.6761952947128762.\n",
      "[I 2025-02-24 12:51:38,997] Trial 25 finished with value: 0.6108019225904378 and parameters: {'k': 21}. Best is trial 17 with value: 0.6761952947128762.\n",
      "[I 2025-02-24 12:51:39,011] Trial 26 finished with value: 0.6598785732355174 and parameters: {'k': 44}. Best is trial 17 with value: 0.6761952947128762.\n",
      "[I 2025-02-24 12:51:39,025] Trial 27 finished with value: 0.5550215026562104 and parameters: {'k': 9}. Best is trial 17 with value: 0.6761952947128762.\n",
      "[I 2025-02-24 12:51:39,039] Trial 28 finished with value: 0.6094105742474071 and parameters: {'k': 14}. Best is trial 17 with value: 0.6761952947128762.\n",
      "[I 2025-02-24 12:51:39,053] Trial 29 finished with value: 0.624588919807741 and parameters: {'k': 26}. Best is trial 17 with value: 0.6761952947128762.\n",
      "[I 2025-02-24 12:51:39,066] Trial 30 finished with value: 0.5861371110548951 and parameters: {'k': 6}. Best is trial 17 with value: 0.6761952947128762.\n",
      "[I 2025-02-24 12:51:39,080] Trial 31 finished with value: 0.6244624335947382 and parameters: {'k': 18}. Best is trial 17 with value: 0.6761952947128762.\n",
      "[I 2025-02-24 12:51:39,095] Trial 32 finished with value: 0.6820136605110043 and parameters: {'k': 41}. Best is trial 32 with value: 0.6820136605110043.\n",
      "[I 2025-02-24 12:51:39,109] Trial 33 finished with value: 0.6522894004553504 and parameters: {'k': 50}. Best is trial 32 with value: 0.6820136605110043.\n",
      "[I 2025-02-24 12:51:39,123] Trial 34 finished with value: 0.49304325828484696 and parameters: {'k': 2}. Best is trial 32 with value: 0.6820136605110043.\n",
      "[I 2025-02-24 12:51:39,138] Trial 35 finished with value: 0.604730584366304 and parameters: {'k': 13}. Best is trial 32 with value: 0.6820136605110043.\n",
      "[I 2025-02-24 12:51:39,153] Trial 36 finished with value: 0.6636731596256007 and parameters: {'k': 38}. Best is trial 32 with value: 0.6820136605110043.\n",
      "[I 2025-02-24 12:51:39,168] Trial 37 finished with value: 0.6259802681507716 and parameters: {'k': 25}. Best is trial 32 with value: 0.6820136605110043.\n",
      "[I 2025-02-24 12:51:39,182] Trial 38 finished with value: 0.587907918036934 and parameters: {'k': 7}. Best is trial 32 with value: 0.6820136605110043.\n",
      "[I 2025-02-24 12:51:39,197] Trial 39 finished with value: 0.616999747027574 and parameters: {'k': 24}. Best is trial 32 with value: 0.6820136605110043.\n",
      "[I 2025-02-24 12:51:39,213] Trial 40 finished with value: 0.6643055906906147 and parameters: {'k': 37}. Best is trial 32 with value: 0.6820136605110043.\n",
      "[I 2025-02-24 12:51:39,228] Trial 41 finished with value: 0.6056159878573235 and parameters: {'k': 22}. Best is trial 32 with value: 0.6820136605110043.\n",
      "[I 2025-02-24 12:51:39,244] Trial 42 finished with value: 0.6297748545408551 and parameters: {'k': 20}. Best is trial 32 with value: 0.6820136605110043.\n",
      "[I 2025-02-24 12:51:39,260] Trial 43 finished with value: 0.5647609410574247 and parameters: {'k': 10}. Best is trial 32 with value: 0.6820136605110043.\n",
      "[I 2025-02-24 12:51:39,276] Trial 44 finished with value: 0.6880849987351378 and parameters: {'k': 40}. Best is trial 44 with value: 0.6880849987351378.\n",
      "[I 2025-02-24 12:51:39,292] Trial 45 finished with value: 0.6855552744750822 and parameters: {'k': 47}. Best is trial 44 with value: 0.6880849987351378.\n",
      "[I 2025-02-24 12:51:39,307] Trial 46 finished with value: 0.5445231469769796 and parameters: {'k': 4}. Best is trial 44 with value: 0.6880849987351378.\n",
      "[I 2025-02-24 12:51:39,324] Trial 47 finished with value: 0.5123956488742728 and parameters: {'k': 1}. Best is trial 44 with value: 0.6880849987351378.\n",
      "[I 2025-02-24 12:51:39,340] Trial 48 finished with value: 0.6708828737667595 and parameters: {'k': 48}. Best is trial 44 with value: 0.6880849987351378.\n",
      "[I 2025-02-24 12:51:39,357] Trial 49 finished with value: 0.6804958259549709 and parameters: {'k': 45}. Best is trial 44 with value: 0.6880849987351378.\n"
     ]
    }
   ],
   "source": [
    "# Store test accuracies for each model\n",
    "test_accuracies_dict = {} # Initialize an empty dictionary to store test accuracies\n",
    "\n",
    "# Iterate through each model's features\n",
    "for model_name, df in data.items(): # Loop through each model and its corresponding features\n",
    "    # Skip MedImageInsightExtractor\n",
    "    if model_name == \"MedImageInsightExtractor\": # Skip the MedImageInsightExtractor model\n",
    "        continue\n",
    "\n",
    "    all_items = df.filter(like=\"pred\").values\n",
    "    all_labels = df[\"survival\" if \"survival\" in df else \"survival_x\"]\n",
    "\n",
    "    # Average across multiple shuffle splits\n",
    "    n_splits = 5\n",
    "    split_scores = []\n",
    "    \n",
    "    for split in range(n_splits):\n",
    "        # Get stratified indices for new train/val split with different random seeds\n",
    "        train_items, train_labels, val_items, val_labels, test_items, test_labels = split_shuffle_data(\n",
    "            all_items, all_labels, train_ratio=0.5, val_ratio=0.2, random_seed=10+split\n",
    "        )\n",
    "\n",
    "        # Train model with hyperparameter optimization\n",
    "        best_model, study = train_knn_classifier(train_items, train_labels, val_items, val_labels)\n",
    "        \n",
    "        # Get score for this split\n",
    "        split_score = evaluate_model(best_model, test_items, test_labels)\n",
    "        split_scores.append(split_score)\n",
    "    \n",
    "    # Average the scores across splits\n",
    "    avg_score = np.mean(split_scores)\n",
    "    \n",
    "    # Evaluate on test set\n",
    "    test_accuracies_dict[model_name] = avg_score"
   ]
  },
  {
   "cell_type": "code",
   "execution_count": 8,
   "metadata": {},
   "outputs": [
    {
     "data": {
      "application/vnd.plotly.v1+json": {
       "config": {
        "plotlyServerURL": "https://plot.ly"
       },
       "data": [
        {
         "alignmentgroup": "True",
         "hovertemplate": "Model=%{x}<br>Accuracy=%{y}<extra></extra>",
         "legendgroup": "",
         "marker": {
          "color": "#ADD8E6",
          "opacity": 0.8,
          "pattern": {
           "shape": ""
          }
         },
         "name": "",
         "offsetgroup": "",
         "orientation": "v",
         "showlegend": false,
         "textposition": "auto",
         "texttemplate": "%{y:.2f}",
         "type": "bar",
         "x": [
          "negative_control_randomized_sampled_non_roi",
          "negative_control_randomized_sampled_roi",
          "negative_control_shuffled_non_roi",
          "negative_control_shuffled_roi",
          "original"
         ],
         "xaxis": "x",
         "y": [
          0.6124593793221157,
          0.6353038684958596,
          0.5901157099893474,
          0.639247735579215,
          0.6007981778695906
         ],
         "yaxis": "y"
        }
       ],
       "layout": {
        "barmode": "relative",
        "font": {
         "family": "Arial",
         "size": 12
        },
        "height": 500,
        "legend": {
         "tracegroupgap": 0
        },
        "margin": {
         "b": 20,
         "l": 20,
         "r": 20,
         "t": 40
        },
        "showlegend": false,
        "template": {
         "data": {
          "bar": [
           {
            "error_x": {
             "color": "rgb(36,36,36)"
            },
            "error_y": {
             "color": "rgb(36,36,36)"
            },
            "marker": {
             "line": {
              "color": "white",
              "width": 0.5
             },
             "pattern": {
              "fillmode": "overlay",
              "size": 10,
              "solidity": 0.2
             }
            },
            "type": "bar"
           }
          ],
          "barpolar": [
           {
            "marker": {
             "line": {
              "color": "white",
              "width": 0.5
             },
             "pattern": {
              "fillmode": "overlay",
              "size": 10,
              "solidity": 0.2
             }
            },
            "type": "barpolar"
           }
          ],
          "carpet": [
           {
            "aaxis": {
             "endlinecolor": "rgb(36,36,36)",
             "gridcolor": "white",
             "linecolor": "white",
             "minorgridcolor": "white",
             "startlinecolor": "rgb(36,36,36)"
            },
            "baxis": {
             "endlinecolor": "rgb(36,36,36)",
             "gridcolor": "white",
             "linecolor": "white",
             "minorgridcolor": "white",
             "startlinecolor": "rgb(36,36,36)"
            },
            "type": "carpet"
           }
          ],
          "choropleth": [
           {
            "colorbar": {
             "outlinewidth": 1,
             "tickcolor": "rgb(36,36,36)",
             "ticks": "outside"
            },
            "type": "choropleth"
           }
          ],
          "contour": [
           {
            "colorbar": {
             "outlinewidth": 1,
             "tickcolor": "rgb(36,36,36)",
             "ticks": "outside"
            },
            "colorscale": [
             [
              0,
              "#440154"
             ],
             [
              0.1111111111111111,
              "#482878"
             ],
             [
              0.2222222222222222,
              "#3e4989"
             ],
             [
              0.3333333333333333,
              "#31688e"
             ],
             [
              0.4444444444444444,
              "#26828e"
             ],
             [
              0.5555555555555556,
              "#1f9e89"
             ],
             [
              0.6666666666666666,
              "#35b779"
             ],
             [
              0.7777777777777778,
              "#6ece58"
             ],
             [
              0.8888888888888888,
              "#b5de2b"
             ],
             [
              1,
              "#fde725"
             ]
            ],
            "type": "contour"
           }
          ],
          "contourcarpet": [
           {
            "colorbar": {
             "outlinewidth": 1,
             "tickcolor": "rgb(36,36,36)",
             "ticks": "outside"
            },
            "type": "contourcarpet"
           }
          ],
          "heatmap": [
           {
            "colorbar": {
             "outlinewidth": 1,
             "tickcolor": "rgb(36,36,36)",
             "ticks": "outside"
            },
            "colorscale": [
             [
              0,
              "#440154"
             ],
             [
              0.1111111111111111,
              "#482878"
             ],
             [
              0.2222222222222222,
              "#3e4989"
             ],
             [
              0.3333333333333333,
              "#31688e"
             ],
             [
              0.4444444444444444,
              "#26828e"
             ],
             [
              0.5555555555555556,
              "#1f9e89"
             ],
             [
              0.6666666666666666,
              "#35b779"
             ],
             [
              0.7777777777777778,
              "#6ece58"
             ],
             [
              0.8888888888888888,
              "#b5de2b"
             ],
             [
              1,
              "#fde725"
             ]
            ],
            "type": "heatmap"
           }
          ],
          "heatmapgl": [
           {
            "colorbar": {
             "outlinewidth": 1,
             "tickcolor": "rgb(36,36,36)",
             "ticks": "outside"
            },
            "colorscale": [
             [
              0,
              "#440154"
             ],
             [
              0.1111111111111111,
              "#482878"
             ],
             [
              0.2222222222222222,
              "#3e4989"
             ],
             [
              0.3333333333333333,
              "#31688e"
             ],
             [
              0.4444444444444444,
              "#26828e"
             ],
             [
              0.5555555555555556,
              "#1f9e89"
             ],
             [
              0.6666666666666666,
              "#35b779"
             ],
             [
              0.7777777777777778,
              "#6ece58"
             ],
             [
              0.8888888888888888,
              "#b5de2b"
             ],
             [
              1,
              "#fde725"
             ]
            ],
            "type": "heatmapgl"
           }
          ],
          "histogram": [
           {
            "marker": {
             "line": {
              "color": "white",
              "width": 0.6
             }
            },
            "type": "histogram"
           }
          ],
          "histogram2d": [
           {
            "colorbar": {
             "outlinewidth": 1,
             "tickcolor": "rgb(36,36,36)",
             "ticks": "outside"
            },
            "colorscale": [
             [
              0,
              "#440154"
             ],
             [
              0.1111111111111111,
              "#482878"
             ],
             [
              0.2222222222222222,
              "#3e4989"
             ],
             [
              0.3333333333333333,
              "#31688e"
             ],
             [
              0.4444444444444444,
              "#26828e"
             ],
             [
              0.5555555555555556,
              "#1f9e89"
             ],
             [
              0.6666666666666666,
              "#35b779"
             ],
             [
              0.7777777777777778,
              "#6ece58"
             ],
             [
              0.8888888888888888,
              "#b5de2b"
             ],
             [
              1,
              "#fde725"
             ]
            ],
            "type": "histogram2d"
           }
          ],
          "histogram2dcontour": [
           {
            "colorbar": {
             "outlinewidth": 1,
             "tickcolor": "rgb(36,36,36)",
             "ticks": "outside"
            },
            "colorscale": [
             [
              0,
              "#440154"
             ],
             [
              0.1111111111111111,
              "#482878"
             ],
             [
              0.2222222222222222,
              "#3e4989"
             ],
             [
              0.3333333333333333,
              "#31688e"
             ],
             [
              0.4444444444444444,
              "#26828e"
             ],
             [
              0.5555555555555556,
              "#1f9e89"
             ],
             [
              0.6666666666666666,
              "#35b779"
             ],
             [
              0.7777777777777778,
              "#6ece58"
             ],
             [
              0.8888888888888888,
              "#b5de2b"
             ],
             [
              1,
              "#fde725"
             ]
            ],
            "type": "histogram2dcontour"
           }
          ],
          "mesh3d": [
           {
            "colorbar": {
             "outlinewidth": 1,
             "tickcolor": "rgb(36,36,36)",
             "ticks": "outside"
            },
            "type": "mesh3d"
           }
          ],
          "parcoords": [
           {
            "line": {
             "colorbar": {
              "outlinewidth": 1,
              "tickcolor": "rgb(36,36,36)",
              "ticks": "outside"
             }
            },
            "type": "parcoords"
           }
          ],
          "pie": [
           {
            "automargin": true,
            "type": "pie"
           }
          ],
          "scatter": [
           {
            "fillpattern": {
             "fillmode": "overlay",
             "size": 10,
             "solidity": 0.2
            },
            "type": "scatter"
           }
          ],
          "scatter3d": [
           {
            "line": {
             "colorbar": {
              "outlinewidth": 1,
              "tickcolor": "rgb(36,36,36)",
              "ticks": "outside"
             }
            },
            "marker": {
             "colorbar": {
              "outlinewidth": 1,
              "tickcolor": "rgb(36,36,36)",
              "ticks": "outside"
             }
            },
            "type": "scatter3d"
           }
          ],
          "scattercarpet": [
           {
            "marker": {
             "colorbar": {
              "outlinewidth": 1,
              "tickcolor": "rgb(36,36,36)",
              "ticks": "outside"
             }
            },
            "type": "scattercarpet"
           }
          ],
          "scattergeo": [
           {
            "marker": {
             "colorbar": {
              "outlinewidth": 1,
              "tickcolor": "rgb(36,36,36)",
              "ticks": "outside"
             }
            },
            "type": "scattergeo"
           }
          ],
          "scattergl": [
           {
            "marker": {
             "colorbar": {
              "outlinewidth": 1,
              "tickcolor": "rgb(36,36,36)",
              "ticks": "outside"
             }
            },
            "type": "scattergl"
           }
          ],
          "scattermapbox": [
           {
            "marker": {
             "colorbar": {
              "outlinewidth": 1,
              "tickcolor": "rgb(36,36,36)",
              "ticks": "outside"
             }
            },
            "type": "scattermapbox"
           }
          ],
          "scatterpolar": [
           {
            "marker": {
             "colorbar": {
              "outlinewidth": 1,
              "tickcolor": "rgb(36,36,36)",
              "ticks": "outside"
             }
            },
            "type": "scatterpolar"
           }
          ],
          "scatterpolargl": [
           {
            "marker": {
             "colorbar": {
              "outlinewidth": 1,
              "tickcolor": "rgb(36,36,36)",
              "ticks": "outside"
             }
            },
            "type": "scatterpolargl"
           }
          ],
          "scatterternary": [
           {
            "marker": {
             "colorbar": {
              "outlinewidth": 1,
              "tickcolor": "rgb(36,36,36)",
              "ticks": "outside"
             }
            },
            "type": "scatterternary"
           }
          ],
          "surface": [
           {
            "colorbar": {
             "outlinewidth": 1,
             "tickcolor": "rgb(36,36,36)",
             "ticks": "outside"
            },
            "colorscale": [
             [
              0,
              "#440154"
             ],
             [
              0.1111111111111111,
              "#482878"
             ],
             [
              0.2222222222222222,
              "#3e4989"
             ],
             [
              0.3333333333333333,
              "#31688e"
             ],
             [
              0.4444444444444444,
              "#26828e"
             ],
             [
              0.5555555555555556,
              "#1f9e89"
             ],
             [
              0.6666666666666666,
              "#35b779"
             ],
             [
              0.7777777777777778,
              "#6ece58"
             ],
             [
              0.8888888888888888,
              "#b5de2b"
             ],
             [
              1,
              "#fde725"
             ]
            ],
            "type": "surface"
           }
          ],
          "table": [
           {
            "cells": {
             "fill": {
              "color": "rgb(237,237,237)"
             },
             "line": {
              "color": "white"
             }
            },
            "header": {
             "fill": {
              "color": "rgb(217,217,217)"
             },
             "line": {
              "color": "white"
             }
            },
            "type": "table"
           }
          ]
         },
         "layout": {
          "annotationdefaults": {
           "arrowhead": 0,
           "arrowwidth": 1
          },
          "autotypenumbers": "strict",
          "coloraxis": {
           "colorbar": {
            "outlinewidth": 1,
            "tickcolor": "rgb(36,36,36)",
            "ticks": "outside"
           }
          },
          "colorscale": {
           "diverging": [
            [
             0,
             "rgb(103,0,31)"
            ],
            [
             0.1,
             "rgb(178,24,43)"
            ],
            [
             0.2,
             "rgb(214,96,77)"
            ],
            [
             0.3,
             "rgb(244,165,130)"
            ],
            [
             0.4,
             "rgb(253,219,199)"
            ],
            [
             0.5,
             "rgb(247,247,247)"
            ],
            [
             0.6,
             "rgb(209,229,240)"
            ],
            [
             0.7,
             "rgb(146,197,222)"
            ],
            [
             0.8,
             "rgb(67,147,195)"
            ],
            [
             0.9,
             "rgb(33,102,172)"
            ],
            [
             1,
             "rgb(5,48,97)"
            ]
           ],
           "sequential": [
            [
             0,
             "#440154"
            ],
            [
             0.1111111111111111,
             "#482878"
            ],
            [
             0.2222222222222222,
             "#3e4989"
            ],
            [
             0.3333333333333333,
             "#31688e"
            ],
            [
             0.4444444444444444,
             "#26828e"
            ],
            [
             0.5555555555555556,
             "#1f9e89"
            ],
            [
             0.6666666666666666,
             "#35b779"
            ],
            [
             0.7777777777777778,
             "#6ece58"
            ],
            [
             0.8888888888888888,
             "#b5de2b"
            ],
            [
             1,
             "#fde725"
            ]
           ],
           "sequentialminus": [
            [
             0,
             "#440154"
            ],
            [
             0.1111111111111111,
             "#482878"
            ],
            [
             0.2222222222222222,
             "#3e4989"
            ],
            [
             0.3333333333333333,
             "#31688e"
            ],
            [
             0.4444444444444444,
             "#26828e"
            ],
            [
             0.5555555555555556,
             "#1f9e89"
            ],
            [
             0.6666666666666666,
             "#35b779"
            ],
            [
             0.7777777777777778,
             "#6ece58"
            ],
            [
             0.8888888888888888,
             "#b5de2b"
            ],
            [
             1,
             "#fde725"
            ]
           ]
          },
          "colorway": [
           "#1F77B4",
           "#FF7F0E",
           "#2CA02C",
           "#D62728",
           "#9467BD",
           "#8C564B",
           "#E377C2",
           "#7F7F7F",
           "#BCBD22",
           "#17BECF"
          ],
          "font": {
           "color": "rgb(36,36,36)"
          },
          "geo": {
           "bgcolor": "white",
           "lakecolor": "white",
           "landcolor": "white",
           "showlakes": true,
           "showland": true,
           "subunitcolor": "white"
          },
          "hoverlabel": {
           "align": "left"
          },
          "hovermode": "closest",
          "mapbox": {
           "style": "light"
          },
          "paper_bgcolor": "white",
          "plot_bgcolor": "white",
          "polar": {
           "angularaxis": {
            "gridcolor": "rgb(232,232,232)",
            "linecolor": "rgb(36,36,36)",
            "showgrid": false,
            "showline": true,
            "ticks": "outside"
           },
           "bgcolor": "white",
           "radialaxis": {
            "gridcolor": "rgb(232,232,232)",
            "linecolor": "rgb(36,36,36)",
            "showgrid": false,
            "showline": true,
            "ticks": "outside"
           }
          },
          "scene": {
           "xaxis": {
            "backgroundcolor": "white",
            "gridcolor": "rgb(232,232,232)",
            "gridwidth": 2,
            "linecolor": "rgb(36,36,36)",
            "showbackground": true,
            "showgrid": false,
            "showline": true,
            "ticks": "outside",
            "zeroline": false,
            "zerolinecolor": "rgb(36,36,36)"
           },
           "yaxis": {
            "backgroundcolor": "white",
            "gridcolor": "rgb(232,232,232)",
            "gridwidth": 2,
            "linecolor": "rgb(36,36,36)",
            "showbackground": true,
            "showgrid": false,
            "showline": true,
            "ticks": "outside",
            "zeroline": false,
            "zerolinecolor": "rgb(36,36,36)"
           },
           "zaxis": {
            "backgroundcolor": "white",
            "gridcolor": "rgb(232,232,232)",
            "gridwidth": 2,
            "linecolor": "rgb(36,36,36)",
            "showbackground": true,
            "showgrid": false,
            "showline": true,
            "ticks": "outside",
            "zeroline": false,
            "zerolinecolor": "rgb(36,36,36)"
           }
          },
          "shapedefaults": {
           "fillcolor": "black",
           "line": {
            "width": 0
           },
           "opacity": 0.3
          },
          "ternary": {
           "aaxis": {
            "gridcolor": "rgb(232,232,232)",
            "linecolor": "rgb(36,36,36)",
            "showgrid": false,
            "showline": true,
            "ticks": "outside"
           },
           "baxis": {
            "gridcolor": "rgb(232,232,232)",
            "linecolor": "rgb(36,36,36)",
            "showgrid": false,
            "showline": true,
            "ticks": "outside"
           },
           "bgcolor": "white",
           "caxis": {
            "gridcolor": "rgb(232,232,232)",
            "linecolor": "rgb(36,36,36)",
            "showgrid": false,
            "showline": true,
            "ticks": "outside"
           }
          },
          "title": {
           "x": 0.05
          },
          "xaxis": {
           "automargin": true,
           "gridcolor": "rgb(232,232,232)",
           "linecolor": "rgb(36,36,36)",
           "showgrid": false,
           "showline": true,
           "ticks": "outside",
           "title": {
            "standoff": 15
           },
           "zeroline": false,
           "zerolinecolor": "rgb(36,36,36)"
          },
          "yaxis": {
           "automargin": true,
           "gridcolor": "rgb(232,232,232)",
           "linecolor": "rgb(36,36,36)",
           "showgrid": false,
           "showline": true,
           "ticks": "outside",
           "title": {
            "standoff": 15
           },
           "zeroline": false,
           "zerolinecolor": "rgb(36,36,36)"
          }
         }
        },
        "title": {
         "text": "Test AUC Comparison",
         "x": 0.5,
         "xanchor": "center"
        },
        "width": 500,
        "xaxis": {
         "anchor": "y",
         "domain": [
          0,
          1
         ],
         "showgrid": false,
         "showline": false,
         "tickfont": {
          "size": 12
         },
         "title": {
          "text": "Model"
         }
        },
        "yaxis": {
         "anchor": "x",
         "domain": [
          0,
          1
         ],
         "gridcolor": "lightgrey",
         "showgrid": true,
         "tickfont": {
          "size": 12
         },
         "title": {
          "text": "Accuracy"
         }
        }
       }
      },
      "text/html": [
       "<div>                            <div id=\"a159bd1a-9360-42a8-9950-1882d5e597fe\" class=\"plotly-graph-div\" style=\"height:500px; width:500px;\"></div>            <script type=\"text/javascript\">                require([\"plotly\"], function(Plotly) {                    window.PLOTLYENV=window.PLOTLYENV || {};                                    if (document.getElementById(\"a159bd1a-9360-42a8-9950-1882d5e597fe\")) {                    Plotly.newPlot(                        \"a159bd1a-9360-42a8-9950-1882d5e597fe\",                        [{\"alignmentgroup\":\"True\",\"hovertemplate\":\"Model=%{x}\\u003cbr\\u003eAccuracy=%{y}\\u003cextra\\u003e\\u003c\\u002fextra\\u003e\",\"legendgroup\":\"\",\"marker\":{\"color\":\"#ADD8E6\",\"pattern\":{\"shape\":\"\"},\"opacity\":0.8},\"name\":\"\",\"offsetgroup\":\"\",\"orientation\":\"v\",\"showlegend\":false,\"textposition\":\"auto\",\"x\":[\"negative_control_randomized_sampled_non_roi\",\"negative_control_randomized_sampled_roi\",\"negative_control_shuffled_non_roi\",\"negative_control_shuffled_roi\",\"original\"],\"xaxis\":\"x\",\"y\":[0.6124593793221157,0.6353038684958596,0.5901157099893474,0.639247735579215,0.6007981778695906],\"yaxis\":\"y\",\"type\":\"bar\",\"texttemplate\":\"%{y:.2f}\"}],                        {\"template\":{\"data\":{\"barpolar\":[{\"marker\":{\"line\":{\"color\":\"white\",\"width\":0.5},\"pattern\":{\"fillmode\":\"overlay\",\"size\":10,\"solidity\":0.2}},\"type\":\"barpolar\"}],\"bar\":[{\"error_x\":{\"color\":\"rgb(36,36,36)\"},\"error_y\":{\"color\":\"rgb(36,36,36)\"},\"marker\":{\"line\":{\"color\":\"white\",\"width\":0.5},\"pattern\":{\"fillmode\":\"overlay\",\"size\":10,\"solidity\":0.2}},\"type\":\"bar\"}],\"carpet\":[{\"aaxis\":{\"endlinecolor\":\"rgb(36,36,36)\",\"gridcolor\":\"white\",\"linecolor\":\"white\",\"minorgridcolor\":\"white\",\"startlinecolor\":\"rgb(36,36,36)\"},\"baxis\":{\"endlinecolor\":\"rgb(36,36,36)\",\"gridcolor\":\"white\",\"linecolor\":\"white\",\"minorgridcolor\":\"white\",\"startlinecolor\":\"rgb(36,36,36)\"},\"type\":\"carpet\"}],\"choropleth\":[{\"colorbar\":{\"outlinewidth\":1,\"tickcolor\":\"rgb(36,36,36)\",\"ticks\":\"outside\"},\"type\":\"choropleth\"}],\"contourcarpet\":[{\"colorbar\":{\"outlinewidth\":1,\"tickcolor\":\"rgb(36,36,36)\",\"ticks\":\"outside\"},\"type\":\"contourcarpet\"}],\"contour\":[{\"colorbar\":{\"outlinewidth\":1,\"tickcolor\":\"rgb(36,36,36)\",\"ticks\":\"outside\"},\"colorscale\":[[0.0,\"#440154\"],[0.1111111111111111,\"#482878\"],[0.2222222222222222,\"#3e4989\"],[0.3333333333333333,\"#31688e\"],[0.4444444444444444,\"#26828e\"],[0.5555555555555556,\"#1f9e89\"],[0.6666666666666666,\"#35b779\"],[0.7777777777777778,\"#6ece58\"],[0.8888888888888888,\"#b5de2b\"],[1.0,\"#fde725\"]],\"type\":\"contour\"}],\"heatmapgl\":[{\"colorbar\":{\"outlinewidth\":1,\"tickcolor\":\"rgb(36,36,36)\",\"ticks\":\"outside\"},\"colorscale\":[[0.0,\"#440154\"],[0.1111111111111111,\"#482878\"],[0.2222222222222222,\"#3e4989\"],[0.3333333333333333,\"#31688e\"],[0.4444444444444444,\"#26828e\"],[0.5555555555555556,\"#1f9e89\"],[0.6666666666666666,\"#35b779\"],[0.7777777777777778,\"#6ece58\"],[0.8888888888888888,\"#b5de2b\"],[1.0,\"#fde725\"]],\"type\":\"heatmapgl\"}],\"heatmap\":[{\"colorbar\":{\"outlinewidth\":1,\"tickcolor\":\"rgb(36,36,36)\",\"ticks\":\"outside\"},\"colorscale\":[[0.0,\"#440154\"],[0.1111111111111111,\"#482878\"],[0.2222222222222222,\"#3e4989\"],[0.3333333333333333,\"#31688e\"],[0.4444444444444444,\"#26828e\"],[0.5555555555555556,\"#1f9e89\"],[0.6666666666666666,\"#35b779\"],[0.7777777777777778,\"#6ece58\"],[0.8888888888888888,\"#b5de2b\"],[1.0,\"#fde725\"]],\"type\":\"heatmap\"}],\"histogram2dcontour\":[{\"colorbar\":{\"outlinewidth\":1,\"tickcolor\":\"rgb(36,36,36)\",\"ticks\":\"outside\"},\"colorscale\":[[0.0,\"#440154\"],[0.1111111111111111,\"#482878\"],[0.2222222222222222,\"#3e4989\"],[0.3333333333333333,\"#31688e\"],[0.4444444444444444,\"#26828e\"],[0.5555555555555556,\"#1f9e89\"],[0.6666666666666666,\"#35b779\"],[0.7777777777777778,\"#6ece58\"],[0.8888888888888888,\"#b5de2b\"],[1.0,\"#fde725\"]],\"type\":\"histogram2dcontour\"}],\"histogram2d\":[{\"colorbar\":{\"outlinewidth\":1,\"tickcolor\":\"rgb(36,36,36)\",\"ticks\":\"outside\"},\"colorscale\":[[0.0,\"#440154\"],[0.1111111111111111,\"#482878\"],[0.2222222222222222,\"#3e4989\"],[0.3333333333333333,\"#31688e\"],[0.4444444444444444,\"#26828e\"],[0.5555555555555556,\"#1f9e89\"],[0.6666666666666666,\"#35b779\"],[0.7777777777777778,\"#6ece58\"],[0.8888888888888888,\"#b5de2b\"],[1.0,\"#fde725\"]],\"type\":\"histogram2d\"}],\"histogram\":[{\"marker\":{\"line\":{\"color\":\"white\",\"width\":0.6}},\"type\":\"histogram\"}],\"mesh3d\":[{\"colorbar\":{\"outlinewidth\":1,\"tickcolor\":\"rgb(36,36,36)\",\"ticks\":\"outside\"},\"type\":\"mesh3d\"}],\"parcoords\":[{\"line\":{\"colorbar\":{\"outlinewidth\":1,\"tickcolor\":\"rgb(36,36,36)\",\"ticks\":\"outside\"}},\"type\":\"parcoords\"}],\"pie\":[{\"automargin\":true,\"type\":\"pie\"}],\"scatter3d\":[{\"line\":{\"colorbar\":{\"outlinewidth\":1,\"tickcolor\":\"rgb(36,36,36)\",\"ticks\":\"outside\"}},\"marker\":{\"colorbar\":{\"outlinewidth\":1,\"tickcolor\":\"rgb(36,36,36)\",\"ticks\":\"outside\"}},\"type\":\"scatter3d\"}],\"scattercarpet\":[{\"marker\":{\"colorbar\":{\"outlinewidth\":1,\"tickcolor\":\"rgb(36,36,36)\",\"ticks\":\"outside\"}},\"type\":\"scattercarpet\"}],\"scattergeo\":[{\"marker\":{\"colorbar\":{\"outlinewidth\":1,\"tickcolor\":\"rgb(36,36,36)\",\"ticks\":\"outside\"}},\"type\":\"scattergeo\"}],\"scattergl\":[{\"marker\":{\"colorbar\":{\"outlinewidth\":1,\"tickcolor\":\"rgb(36,36,36)\",\"ticks\":\"outside\"}},\"type\":\"scattergl\"}],\"scattermapbox\":[{\"marker\":{\"colorbar\":{\"outlinewidth\":1,\"tickcolor\":\"rgb(36,36,36)\",\"ticks\":\"outside\"}},\"type\":\"scattermapbox\"}],\"scatterpolargl\":[{\"marker\":{\"colorbar\":{\"outlinewidth\":1,\"tickcolor\":\"rgb(36,36,36)\",\"ticks\":\"outside\"}},\"type\":\"scatterpolargl\"}],\"scatterpolar\":[{\"marker\":{\"colorbar\":{\"outlinewidth\":1,\"tickcolor\":\"rgb(36,36,36)\",\"ticks\":\"outside\"}},\"type\":\"scatterpolar\"}],\"scatter\":[{\"fillpattern\":{\"fillmode\":\"overlay\",\"size\":10,\"solidity\":0.2},\"type\":\"scatter\"}],\"scatterternary\":[{\"marker\":{\"colorbar\":{\"outlinewidth\":1,\"tickcolor\":\"rgb(36,36,36)\",\"ticks\":\"outside\"}},\"type\":\"scatterternary\"}],\"surface\":[{\"colorbar\":{\"outlinewidth\":1,\"tickcolor\":\"rgb(36,36,36)\",\"ticks\":\"outside\"},\"colorscale\":[[0.0,\"#440154\"],[0.1111111111111111,\"#482878\"],[0.2222222222222222,\"#3e4989\"],[0.3333333333333333,\"#31688e\"],[0.4444444444444444,\"#26828e\"],[0.5555555555555556,\"#1f9e89\"],[0.6666666666666666,\"#35b779\"],[0.7777777777777778,\"#6ece58\"],[0.8888888888888888,\"#b5de2b\"],[1.0,\"#fde725\"]],\"type\":\"surface\"}],\"table\":[{\"cells\":{\"fill\":{\"color\":\"rgb(237,237,237)\"},\"line\":{\"color\":\"white\"}},\"header\":{\"fill\":{\"color\":\"rgb(217,217,217)\"},\"line\":{\"color\":\"white\"}},\"type\":\"table\"}]},\"layout\":{\"annotationdefaults\":{\"arrowhead\":0,\"arrowwidth\":1},\"autotypenumbers\":\"strict\",\"coloraxis\":{\"colorbar\":{\"outlinewidth\":1,\"tickcolor\":\"rgb(36,36,36)\",\"ticks\":\"outside\"}},\"colorscale\":{\"diverging\":[[0.0,\"rgb(103,0,31)\"],[0.1,\"rgb(178,24,43)\"],[0.2,\"rgb(214,96,77)\"],[0.3,\"rgb(244,165,130)\"],[0.4,\"rgb(253,219,199)\"],[0.5,\"rgb(247,247,247)\"],[0.6,\"rgb(209,229,240)\"],[0.7,\"rgb(146,197,222)\"],[0.8,\"rgb(67,147,195)\"],[0.9,\"rgb(33,102,172)\"],[1.0,\"rgb(5,48,97)\"]],\"sequential\":[[0.0,\"#440154\"],[0.1111111111111111,\"#482878\"],[0.2222222222222222,\"#3e4989\"],[0.3333333333333333,\"#31688e\"],[0.4444444444444444,\"#26828e\"],[0.5555555555555556,\"#1f9e89\"],[0.6666666666666666,\"#35b779\"],[0.7777777777777778,\"#6ece58\"],[0.8888888888888888,\"#b5de2b\"],[1.0,\"#fde725\"]],\"sequentialminus\":[[0.0,\"#440154\"],[0.1111111111111111,\"#482878\"],[0.2222222222222222,\"#3e4989\"],[0.3333333333333333,\"#31688e\"],[0.4444444444444444,\"#26828e\"],[0.5555555555555556,\"#1f9e89\"],[0.6666666666666666,\"#35b779\"],[0.7777777777777778,\"#6ece58\"],[0.8888888888888888,\"#b5de2b\"],[1.0,\"#fde725\"]]},\"colorway\":[\"#1F77B4\",\"#FF7F0E\",\"#2CA02C\",\"#D62728\",\"#9467BD\",\"#8C564B\",\"#E377C2\",\"#7F7F7F\",\"#BCBD22\",\"#17BECF\"],\"font\":{\"color\":\"rgb(36,36,36)\"},\"geo\":{\"bgcolor\":\"white\",\"lakecolor\":\"white\",\"landcolor\":\"white\",\"showlakes\":true,\"showland\":true,\"subunitcolor\":\"white\"},\"hoverlabel\":{\"align\":\"left\"},\"hovermode\":\"closest\",\"mapbox\":{\"style\":\"light\"},\"paper_bgcolor\":\"white\",\"plot_bgcolor\":\"white\",\"polar\":{\"angularaxis\":{\"gridcolor\":\"rgb(232,232,232)\",\"linecolor\":\"rgb(36,36,36)\",\"showgrid\":false,\"showline\":true,\"ticks\":\"outside\"},\"bgcolor\":\"white\",\"radialaxis\":{\"gridcolor\":\"rgb(232,232,232)\",\"linecolor\":\"rgb(36,36,36)\",\"showgrid\":false,\"showline\":true,\"ticks\":\"outside\"}},\"scene\":{\"xaxis\":{\"backgroundcolor\":\"white\",\"gridcolor\":\"rgb(232,232,232)\",\"gridwidth\":2,\"linecolor\":\"rgb(36,36,36)\",\"showbackground\":true,\"showgrid\":false,\"showline\":true,\"ticks\":\"outside\",\"zeroline\":false,\"zerolinecolor\":\"rgb(36,36,36)\"},\"yaxis\":{\"backgroundcolor\":\"white\",\"gridcolor\":\"rgb(232,232,232)\",\"gridwidth\":2,\"linecolor\":\"rgb(36,36,36)\",\"showbackground\":true,\"showgrid\":false,\"showline\":true,\"ticks\":\"outside\",\"zeroline\":false,\"zerolinecolor\":\"rgb(36,36,36)\"},\"zaxis\":{\"backgroundcolor\":\"white\",\"gridcolor\":\"rgb(232,232,232)\",\"gridwidth\":2,\"linecolor\":\"rgb(36,36,36)\",\"showbackground\":true,\"showgrid\":false,\"showline\":true,\"ticks\":\"outside\",\"zeroline\":false,\"zerolinecolor\":\"rgb(36,36,36)\"}},\"shapedefaults\":{\"fillcolor\":\"black\",\"line\":{\"width\":0},\"opacity\":0.3},\"ternary\":{\"aaxis\":{\"gridcolor\":\"rgb(232,232,232)\",\"linecolor\":\"rgb(36,36,36)\",\"showgrid\":false,\"showline\":true,\"ticks\":\"outside\"},\"baxis\":{\"gridcolor\":\"rgb(232,232,232)\",\"linecolor\":\"rgb(36,36,36)\",\"showgrid\":false,\"showline\":true,\"ticks\":\"outside\"},\"bgcolor\":\"white\",\"caxis\":{\"gridcolor\":\"rgb(232,232,232)\",\"linecolor\":\"rgb(36,36,36)\",\"showgrid\":false,\"showline\":true,\"ticks\":\"outside\"}},\"title\":{\"x\":0.05},\"xaxis\":{\"automargin\":true,\"gridcolor\":\"rgb(232,232,232)\",\"linecolor\":\"rgb(36,36,36)\",\"showgrid\":false,\"showline\":true,\"ticks\":\"outside\",\"title\":{\"standoff\":15},\"zeroline\":false,\"zerolinecolor\":\"rgb(36,36,36)\"},\"yaxis\":{\"automargin\":true,\"gridcolor\":\"rgb(232,232,232)\",\"linecolor\":\"rgb(36,36,36)\",\"showgrid\":false,\"showline\":true,\"ticks\":\"outside\",\"title\":{\"standoff\":15},\"zeroline\":false,\"zerolinecolor\":\"rgb(36,36,36)\"}}},\"xaxis\":{\"anchor\":\"y\",\"domain\":[0.0,1.0],\"title\":{\"text\":\"Model\"},\"tickfont\":{\"size\":12},\"showline\":false,\"showgrid\":false},\"yaxis\":{\"anchor\":\"x\",\"domain\":[0.0,1.0],\"title\":{\"text\":\"Accuracy\"},\"tickfont\":{\"size\":12},\"showgrid\":true,\"gridcolor\":\"lightgrey\"},\"legend\":{\"tracegroupgap\":0},\"title\":{\"text\":\"Test AUC Comparison\",\"x\":0.5,\"xanchor\":\"center\"},\"barmode\":\"relative\",\"height\":500,\"width\":500,\"margin\":{\"l\":20,\"r\":20,\"t\":40,\"b\":20},\"font\":{\"size\":12,\"family\":\"Arial\"},\"showlegend\":false},                        {\"responsive\": true}                    ).then(function(){\n",
       "                            \n",
       "var gd = document.getElementById('a159bd1a-9360-42a8-9950-1882d5e597fe');\n",
       "var x = new MutationObserver(function (mutations, observer) {{\n",
       "        var display = window.getComputedStyle(gd).display;\n",
       "        if (!display || display === 'none') {{\n",
       "            console.log([gd, 'removed!']);\n",
       "            Plotly.purge(gd);\n",
       "            observer.disconnect();\n",
       "        }}\n",
       "}});\n",
       "\n",
       "// Listen for the removal of the full notebook cells\n",
       "var notebookContainer = gd.closest('#notebook-container');\n",
       "if (notebookContainer) {{\n",
       "    x.observe(notebookContainer, {childList: true});\n",
       "}}\n",
       "\n",
       "// Listen for the clearing of the current output cell\n",
       "var outputEl = gd.closest('.output');\n",
       "if (outputEl) {{\n",
       "    x.observe(outputEl, {childList: true});\n",
       "}}\n",
       "\n",
       "                        })                };                });            </script>        </div>"
      ]
     },
     "metadata": {},
     "output_type": "display_data"
    }
   ],
   "source": [
    "# Plot test accuracies\n",
    "fig = plot_model_comparison(test_accuracies_dict, height=500)\n",
    "fig.show() # Show the plot"
   ]
  },
  {
   "cell_type": "code",
   "execution_count": 9,
   "metadata": {},
   "outputs": [
    {
     "data": {
      "application/vnd.plotly.v1+json": {
       "config": {
        "plotlyServerURL": "https://plot.ly"
       },
       "data": [
        {
         "coloraxis": "coloraxis",
         "hovertemplate": "Model: %{x}<br>Model: %{y}<br>Average Overlap: %{z}<extra></extra>",
         "name": "0",
         "type": "heatmap",
         "x": [
          "randomized_sampled_non_roi",
          "randomized_sampled_roi",
          "shuffled_non_roi",
          "shuffled_roi",
          "original"
         ],
         "xaxis": "x",
         "y": [
          "randomized_sampled_non_roi",
          "randomized_sampled_roi",
          "shuffled_non_roi",
          "shuffled_roi",
          "original"
         ],
         "yaxis": "y",
         "z": [
          [
           null,
           1.6983372921615203,
           7.534441805225653,
           1.6247030878859858,
           1.7624703087885987
          ],
          [
           1.6983372921615203,
           null,
           1.6793349168646081,
           8.691211401425178,
           6.026128266033254
          ],
          [
           7.534441805225653,
           1.6793349168646081,
           null,
           1.6223277909738718,
           1.7719714964370545
          ],
          [
           1.6247030878859858,
           8.691211401425178,
           1.6223277909738718,
           null,
           5.945368171021378
          ],
          [
           1.7624703087885987,
           6.026128266033254,
           1.7719714964370545,
           5.945368171021378,
           null
          ]
         ]
        }
       ],
       "layout": {
        "coloraxis": {
         "colorbar": {
          "title": {
           "text": "Average Overlap"
          }
         },
         "colorscale": [
          [
           0,
           "rgb(247,251,255)"
          ],
          [
           0.125,
           "rgb(222,235,247)"
          ],
          [
           0.25,
           "rgb(198,219,239)"
          ],
          [
           0.375,
           "rgb(158,202,225)"
          ],
          [
           0.5,
           "rgb(107,174,214)"
          ],
          [
           0.625,
           "rgb(66,146,198)"
          ],
          [
           0.75,
           "rgb(33,113,181)"
          ],
          [
           0.875,
           "rgb(8,81,156)"
          ],
          [
           1,
           "rgb(8,48,107)"
          ]
         ]
        },
        "margin": {
         "t": 60
        },
        "template": {
         "data": {
          "bar": [
           {
            "error_x": {
             "color": "rgb(36,36,36)"
            },
            "error_y": {
             "color": "rgb(36,36,36)"
            },
            "marker": {
             "line": {
              "color": "white",
              "width": 0.5
             },
             "pattern": {
              "fillmode": "overlay",
              "size": 10,
              "solidity": 0.2
             }
            },
            "type": "bar"
           }
          ],
          "barpolar": [
           {
            "marker": {
             "line": {
              "color": "white",
              "width": 0.5
             },
             "pattern": {
              "fillmode": "overlay",
              "size": 10,
              "solidity": 0.2
             }
            },
            "type": "barpolar"
           }
          ],
          "carpet": [
           {
            "aaxis": {
             "endlinecolor": "rgb(36,36,36)",
             "gridcolor": "white",
             "linecolor": "white",
             "minorgridcolor": "white",
             "startlinecolor": "rgb(36,36,36)"
            },
            "baxis": {
             "endlinecolor": "rgb(36,36,36)",
             "gridcolor": "white",
             "linecolor": "white",
             "minorgridcolor": "white",
             "startlinecolor": "rgb(36,36,36)"
            },
            "type": "carpet"
           }
          ],
          "choropleth": [
           {
            "colorbar": {
             "outlinewidth": 1,
             "tickcolor": "rgb(36,36,36)",
             "ticks": "outside"
            },
            "type": "choropleth"
           }
          ],
          "contour": [
           {
            "colorbar": {
             "outlinewidth": 1,
             "tickcolor": "rgb(36,36,36)",
             "ticks": "outside"
            },
            "colorscale": [
             [
              0,
              "#440154"
             ],
             [
              0.1111111111111111,
              "#482878"
             ],
             [
              0.2222222222222222,
              "#3e4989"
             ],
             [
              0.3333333333333333,
              "#31688e"
             ],
             [
              0.4444444444444444,
              "#26828e"
             ],
             [
              0.5555555555555556,
              "#1f9e89"
             ],
             [
              0.6666666666666666,
              "#35b779"
             ],
             [
              0.7777777777777778,
              "#6ece58"
             ],
             [
              0.8888888888888888,
              "#b5de2b"
             ],
             [
              1,
              "#fde725"
             ]
            ],
            "type": "contour"
           }
          ],
          "contourcarpet": [
           {
            "colorbar": {
             "outlinewidth": 1,
             "tickcolor": "rgb(36,36,36)",
             "ticks": "outside"
            },
            "type": "contourcarpet"
           }
          ],
          "heatmap": [
           {
            "colorbar": {
             "outlinewidth": 1,
             "tickcolor": "rgb(36,36,36)",
             "ticks": "outside"
            },
            "colorscale": [
             [
              0,
              "#440154"
             ],
             [
              0.1111111111111111,
              "#482878"
             ],
             [
              0.2222222222222222,
              "#3e4989"
             ],
             [
              0.3333333333333333,
              "#31688e"
             ],
             [
              0.4444444444444444,
              "#26828e"
             ],
             [
              0.5555555555555556,
              "#1f9e89"
             ],
             [
              0.6666666666666666,
              "#35b779"
             ],
             [
              0.7777777777777778,
              "#6ece58"
             ],
             [
              0.8888888888888888,
              "#b5de2b"
             ],
             [
              1,
              "#fde725"
             ]
            ],
            "type": "heatmap"
           }
          ],
          "heatmapgl": [
           {
            "colorbar": {
             "outlinewidth": 1,
             "tickcolor": "rgb(36,36,36)",
             "ticks": "outside"
            },
            "colorscale": [
             [
              0,
              "#440154"
             ],
             [
              0.1111111111111111,
              "#482878"
             ],
             [
              0.2222222222222222,
              "#3e4989"
             ],
             [
              0.3333333333333333,
              "#31688e"
             ],
             [
              0.4444444444444444,
              "#26828e"
             ],
             [
              0.5555555555555556,
              "#1f9e89"
             ],
             [
              0.6666666666666666,
              "#35b779"
             ],
             [
              0.7777777777777778,
              "#6ece58"
             ],
             [
              0.8888888888888888,
              "#b5de2b"
             ],
             [
              1,
              "#fde725"
             ]
            ],
            "type": "heatmapgl"
           }
          ],
          "histogram": [
           {
            "marker": {
             "line": {
              "color": "white",
              "width": 0.6
             }
            },
            "type": "histogram"
           }
          ],
          "histogram2d": [
           {
            "colorbar": {
             "outlinewidth": 1,
             "tickcolor": "rgb(36,36,36)",
             "ticks": "outside"
            },
            "colorscale": [
             [
              0,
              "#440154"
             ],
             [
              0.1111111111111111,
              "#482878"
             ],
             [
              0.2222222222222222,
              "#3e4989"
             ],
             [
              0.3333333333333333,
              "#31688e"
             ],
             [
              0.4444444444444444,
              "#26828e"
             ],
             [
              0.5555555555555556,
              "#1f9e89"
             ],
             [
              0.6666666666666666,
              "#35b779"
             ],
             [
              0.7777777777777778,
              "#6ece58"
             ],
             [
              0.8888888888888888,
              "#b5de2b"
             ],
             [
              1,
              "#fde725"
             ]
            ],
            "type": "histogram2d"
           }
          ],
          "histogram2dcontour": [
           {
            "colorbar": {
             "outlinewidth": 1,
             "tickcolor": "rgb(36,36,36)",
             "ticks": "outside"
            },
            "colorscale": [
             [
              0,
              "#440154"
             ],
             [
              0.1111111111111111,
              "#482878"
             ],
             [
              0.2222222222222222,
              "#3e4989"
             ],
             [
              0.3333333333333333,
              "#31688e"
             ],
             [
              0.4444444444444444,
              "#26828e"
             ],
             [
              0.5555555555555556,
              "#1f9e89"
             ],
             [
              0.6666666666666666,
              "#35b779"
             ],
             [
              0.7777777777777778,
              "#6ece58"
             ],
             [
              0.8888888888888888,
              "#b5de2b"
             ],
             [
              1,
              "#fde725"
             ]
            ],
            "type": "histogram2dcontour"
           }
          ],
          "mesh3d": [
           {
            "colorbar": {
             "outlinewidth": 1,
             "tickcolor": "rgb(36,36,36)",
             "ticks": "outside"
            },
            "type": "mesh3d"
           }
          ],
          "parcoords": [
           {
            "line": {
             "colorbar": {
              "outlinewidth": 1,
              "tickcolor": "rgb(36,36,36)",
              "ticks": "outside"
             }
            },
            "type": "parcoords"
           }
          ],
          "pie": [
           {
            "automargin": true,
            "type": "pie"
           }
          ],
          "scatter": [
           {
            "fillpattern": {
             "fillmode": "overlay",
             "size": 10,
             "solidity": 0.2
            },
            "type": "scatter"
           }
          ],
          "scatter3d": [
           {
            "line": {
             "colorbar": {
              "outlinewidth": 1,
              "tickcolor": "rgb(36,36,36)",
              "ticks": "outside"
             }
            },
            "marker": {
             "colorbar": {
              "outlinewidth": 1,
              "tickcolor": "rgb(36,36,36)",
              "ticks": "outside"
             }
            },
            "type": "scatter3d"
           }
          ],
          "scattercarpet": [
           {
            "marker": {
             "colorbar": {
              "outlinewidth": 1,
              "tickcolor": "rgb(36,36,36)",
              "ticks": "outside"
             }
            },
            "type": "scattercarpet"
           }
          ],
          "scattergeo": [
           {
            "marker": {
             "colorbar": {
              "outlinewidth": 1,
              "tickcolor": "rgb(36,36,36)",
              "ticks": "outside"
             }
            },
            "type": "scattergeo"
           }
          ],
          "scattergl": [
           {
            "marker": {
             "colorbar": {
              "outlinewidth": 1,
              "tickcolor": "rgb(36,36,36)",
              "ticks": "outside"
             }
            },
            "type": "scattergl"
           }
          ],
          "scattermapbox": [
           {
            "marker": {
             "colorbar": {
              "outlinewidth": 1,
              "tickcolor": "rgb(36,36,36)",
              "ticks": "outside"
             }
            },
            "type": "scattermapbox"
           }
          ],
          "scatterpolar": [
           {
            "marker": {
             "colorbar": {
              "outlinewidth": 1,
              "tickcolor": "rgb(36,36,36)",
              "ticks": "outside"
             }
            },
            "type": "scatterpolar"
           }
          ],
          "scatterpolargl": [
           {
            "marker": {
             "colorbar": {
              "outlinewidth": 1,
              "tickcolor": "rgb(36,36,36)",
              "ticks": "outside"
             }
            },
            "type": "scatterpolargl"
           }
          ],
          "scatterternary": [
           {
            "marker": {
             "colorbar": {
              "outlinewidth": 1,
              "tickcolor": "rgb(36,36,36)",
              "ticks": "outside"
             }
            },
            "type": "scatterternary"
           }
          ],
          "surface": [
           {
            "colorbar": {
             "outlinewidth": 1,
             "tickcolor": "rgb(36,36,36)",
             "ticks": "outside"
            },
            "colorscale": [
             [
              0,
              "#440154"
             ],
             [
              0.1111111111111111,
              "#482878"
             ],
             [
              0.2222222222222222,
              "#3e4989"
             ],
             [
              0.3333333333333333,
              "#31688e"
             ],
             [
              0.4444444444444444,
              "#26828e"
             ],
             [
              0.5555555555555556,
              "#1f9e89"
             ],
             [
              0.6666666666666666,
              "#35b779"
             ],
             [
              0.7777777777777778,
              "#6ece58"
             ],
             [
              0.8888888888888888,
              "#b5de2b"
             ],
             [
              1,
              "#fde725"
             ]
            ],
            "type": "surface"
           }
          ],
          "table": [
           {
            "cells": {
             "fill": {
              "color": "rgb(237,237,237)"
             },
             "line": {
              "color": "white"
             }
            },
            "header": {
             "fill": {
              "color": "rgb(217,217,217)"
             },
             "line": {
              "color": "white"
             }
            },
            "type": "table"
           }
          ]
         },
         "layout": {
          "annotationdefaults": {
           "arrowhead": 0,
           "arrowwidth": 1
          },
          "autotypenumbers": "strict",
          "coloraxis": {
           "colorbar": {
            "outlinewidth": 1,
            "tickcolor": "rgb(36,36,36)",
            "ticks": "outside"
           }
          },
          "colorscale": {
           "diverging": [
            [
             0,
             "rgb(103,0,31)"
            ],
            [
             0.1,
             "rgb(178,24,43)"
            ],
            [
             0.2,
             "rgb(214,96,77)"
            ],
            [
             0.3,
             "rgb(244,165,130)"
            ],
            [
             0.4,
             "rgb(253,219,199)"
            ],
            [
             0.5,
             "rgb(247,247,247)"
            ],
            [
             0.6,
             "rgb(209,229,240)"
            ],
            [
             0.7,
             "rgb(146,197,222)"
            ],
            [
             0.8,
             "rgb(67,147,195)"
            ],
            [
             0.9,
             "rgb(33,102,172)"
            ],
            [
             1,
             "rgb(5,48,97)"
            ]
           ],
           "sequential": [
            [
             0,
             "#440154"
            ],
            [
             0.1111111111111111,
             "#482878"
            ],
            [
             0.2222222222222222,
             "#3e4989"
            ],
            [
             0.3333333333333333,
             "#31688e"
            ],
            [
             0.4444444444444444,
             "#26828e"
            ],
            [
             0.5555555555555556,
             "#1f9e89"
            ],
            [
             0.6666666666666666,
             "#35b779"
            ],
            [
             0.7777777777777778,
             "#6ece58"
            ],
            [
             0.8888888888888888,
             "#b5de2b"
            ],
            [
             1,
             "#fde725"
            ]
           ],
           "sequentialminus": [
            [
             0,
             "#440154"
            ],
            [
             0.1111111111111111,
             "#482878"
            ],
            [
             0.2222222222222222,
             "#3e4989"
            ],
            [
             0.3333333333333333,
             "#31688e"
            ],
            [
             0.4444444444444444,
             "#26828e"
            ],
            [
             0.5555555555555556,
             "#1f9e89"
            ],
            [
             0.6666666666666666,
             "#35b779"
            ],
            [
             0.7777777777777778,
             "#6ece58"
            ],
            [
             0.8888888888888888,
             "#b5de2b"
            ],
            [
             1,
             "#fde725"
            ]
           ]
          },
          "colorway": [
           "#1F77B4",
           "#FF7F0E",
           "#2CA02C",
           "#D62728",
           "#9467BD",
           "#8C564B",
           "#E377C2",
           "#7F7F7F",
           "#BCBD22",
           "#17BECF"
          ],
          "font": {
           "color": "rgb(36,36,36)"
          },
          "geo": {
           "bgcolor": "white",
           "lakecolor": "white",
           "landcolor": "white",
           "showlakes": true,
           "showland": true,
           "subunitcolor": "white"
          },
          "hoverlabel": {
           "align": "left"
          },
          "hovermode": "closest",
          "mapbox": {
           "style": "light"
          },
          "paper_bgcolor": "white",
          "plot_bgcolor": "white",
          "polar": {
           "angularaxis": {
            "gridcolor": "rgb(232,232,232)",
            "linecolor": "rgb(36,36,36)",
            "showgrid": false,
            "showline": true,
            "ticks": "outside"
           },
           "bgcolor": "white",
           "radialaxis": {
            "gridcolor": "rgb(232,232,232)",
            "linecolor": "rgb(36,36,36)",
            "showgrid": false,
            "showline": true,
            "ticks": "outside"
           }
          },
          "scene": {
           "xaxis": {
            "backgroundcolor": "white",
            "gridcolor": "rgb(232,232,232)",
            "gridwidth": 2,
            "linecolor": "rgb(36,36,36)",
            "showbackground": true,
            "showgrid": false,
            "showline": true,
            "ticks": "outside",
            "zeroline": false,
            "zerolinecolor": "rgb(36,36,36)"
           },
           "yaxis": {
            "backgroundcolor": "white",
            "gridcolor": "rgb(232,232,232)",
            "gridwidth": 2,
            "linecolor": "rgb(36,36,36)",
            "showbackground": true,
            "showgrid": false,
            "showline": true,
            "ticks": "outside",
            "zeroline": false,
            "zerolinecolor": "rgb(36,36,36)"
           },
           "zaxis": {
            "backgroundcolor": "white",
            "gridcolor": "rgb(232,232,232)",
            "gridwidth": 2,
            "linecolor": "rgb(36,36,36)",
            "showbackground": true,
            "showgrid": false,
            "showline": true,
            "ticks": "outside",
            "zeroline": false,
            "zerolinecolor": "rgb(36,36,36)"
           }
          },
          "shapedefaults": {
           "fillcolor": "black",
           "line": {
            "width": 0
           },
           "opacity": 0.3
          },
          "ternary": {
           "aaxis": {
            "gridcolor": "rgb(232,232,232)",
            "linecolor": "rgb(36,36,36)",
            "showgrid": false,
            "showline": true,
            "ticks": "outside"
           },
           "baxis": {
            "gridcolor": "rgb(232,232,232)",
            "linecolor": "rgb(36,36,36)",
            "showgrid": false,
            "showline": true,
            "ticks": "outside"
           },
           "bgcolor": "white",
           "caxis": {
            "gridcolor": "rgb(232,232,232)",
            "linecolor": "rgb(36,36,36)",
            "showgrid": false,
            "showline": true,
            "ticks": "outside"
           }
          },
          "title": {
           "x": 0.05
          },
          "xaxis": {
           "automargin": true,
           "gridcolor": "rgb(232,232,232)",
           "linecolor": "rgb(36,36,36)",
           "showgrid": false,
           "showline": true,
           "ticks": "outside",
           "title": {
            "standoff": 15
           },
           "zeroline": false,
           "zerolinecolor": "rgb(36,36,36)"
          },
          "yaxis": {
           "automargin": true,
           "gridcolor": "rgb(232,232,232)",
           "linecolor": "rgb(36,36,36)",
           "showgrid": false,
           "showline": true,
           "ticks": "outside",
           "title": {
            "standoff": 15
           },
           "zeroline": false,
           "zerolinecolor": "rgb(36,36,36)"
          }
         }
        },
        "title": {
         "text": "Mutual k-Nearest Neighbors Overlap Scores"
        },
        "width": 500,
        "xaxis": {
         "anchor": "y",
         "constrain": "domain",
         "domain": [
          0,
          1
         ],
         "scaleanchor": "y",
         "tickangle": 90,
         "title": {
          "text": "Model"
         }
        },
        "yaxis": {
         "anchor": "x",
         "autorange": "reversed",
         "constrain": "domain",
         "domain": [
          0,
          1
         ],
         "title": {
          "text": "Model"
         }
        }
       }
      },
      "text/html": [
       "<div>                            <div id=\"dcda1405-31eb-4e24-9cc7-2bdfc5e3060f\" class=\"plotly-graph-div\" style=\"height:525px; width:500px;\"></div>            <script type=\"text/javascript\">                require([\"plotly\"], function(Plotly) {                    window.PLOTLYENV=window.PLOTLYENV || {};                                    if (document.getElementById(\"dcda1405-31eb-4e24-9cc7-2bdfc5e3060f\")) {                    Plotly.newPlot(                        \"dcda1405-31eb-4e24-9cc7-2bdfc5e3060f\",                        [{\"coloraxis\":\"coloraxis\",\"name\":\"0\",\"x\":[\"randomized_sampled_non_roi\",\"randomized_sampled_roi\",\"shuffled_non_roi\",\"shuffled_roi\",\"original\"],\"y\":[\"randomized_sampled_non_roi\",\"randomized_sampled_roi\",\"shuffled_non_roi\",\"shuffled_roi\",\"original\"],\"z\":[[null,1.6983372921615203,7.534441805225653,1.6247030878859858,1.7624703087885987],[1.6983372921615203,null,1.6793349168646081,8.691211401425178,6.026128266033254],[7.534441805225653,1.6793349168646081,null,1.6223277909738718,1.7719714964370545],[1.6247030878859858,8.691211401425178,1.6223277909738718,null,5.945368171021378],[1.7624703087885987,6.026128266033254,1.7719714964370545,5.945368171021378,null]],\"type\":\"heatmap\",\"xaxis\":\"x\",\"yaxis\":\"y\",\"hovertemplate\":\"Model: %{x}\\u003cbr\\u003eModel: %{y}\\u003cbr\\u003eAverage Overlap: %{z}\\u003cextra\\u003e\\u003c\\u002fextra\\u003e\"}],                        {\"template\":{\"data\":{\"barpolar\":[{\"marker\":{\"line\":{\"color\":\"white\",\"width\":0.5},\"pattern\":{\"fillmode\":\"overlay\",\"size\":10,\"solidity\":0.2}},\"type\":\"barpolar\"}],\"bar\":[{\"error_x\":{\"color\":\"rgb(36,36,36)\"},\"error_y\":{\"color\":\"rgb(36,36,36)\"},\"marker\":{\"line\":{\"color\":\"white\",\"width\":0.5},\"pattern\":{\"fillmode\":\"overlay\",\"size\":10,\"solidity\":0.2}},\"type\":\"bar\"}],\"carpet\":[{\"aaxis\":{\"endlinecolor\":\"rgb(36,36,36)\",\"gridcolor\":\"white\",\"linecolor\":\"white\",\"minorgridcolor\":\"white\",\"startlinecolor\":\"rgb(36,36,36)\"},\"baxis\":{\"endlinecolor\":\"rgb(36,36,36)\",\"gridcolor\":\"white\",\"linecolor\":\"white\",\"minorgridcolor\":\"white\",\"startlinecolor\":\"rgb(36,36,36)\"},\"type\":\"carpet\"}],\"choropleth\":[{\"colorbar\":{\"outlinewidth\":1,\"tickcolor\":\"rgb(36,36,36)\",\"ticks\":\"outside\"},\"type\":\"choropleth\"}],\"contourcarpet\":[{\"colorbar\":{\"outlinewidth\":1,\"tickcolor\":\"rgb(36,36,36)\",\"ticks\":\"outside\"},\"type\":\"contourcarpet\"}],\"contour\":[{\"colorbar\":{\"outlinewidth\":1,\"tickcolor\":\"rgb(36,36,36)\",\"ticks\":\"outside\"},\"colorscale\":[[0.0,\"#440154\"],[0.1111111111111111,\"#482878\"],[0.2222222222222222,\"#3e4989\"],[0.3333333333333333,\"#31688e\"],[0.4444444444444444,\"#26828e\"],[0.5555555555555556,\"#1f9e89\"],[0.6666666666666666,\"#35b779\"],[0.7777777777777778,\"#6ece58\"],[0.8888888888888888,\"#b5de2b\"],[1.0,\"#fde725\"]],\"type\":\"contour\"}],\"heatmapgl\":[{\"colorbar\":{\"outlinewidth\":1,\"tickcolor\":\"rgb(36,36,36)\",\"ticks\":\"outside\"},\"colorscale\":[[0.0,\"#440154\"],[0.1111111111111111,\"#482878\"],[0.2222222222222222,\"#3e4989\"],[0.3333333333333333,\"#31688e\"],[0.4444444444444444,\"#26828e\"],[0.5555555555555556,\"#1f9e89\"],[0.6666666666666666,\"#35b779\"],[0.7777777777777778,\"#6ece58\"],[0.8888888888888888,\"#b5de2b\"],[1.0,\"#fde725\"]],\"type\":\"heatmapgl\"}],\"heatmap\":[{\"colorbar\":{\"outlinewidth\":1,\"tickcolor\":\"rgb(36,36,36)\",\"ticks\":\"outside\"},\"colorscale\":[[0.0,\"#440154\"],[0.1111111111111111,\"#482878\"],[0.2222222222222222,\"#3e4989\"],[0.3333333333333333,\"#31688e\"],[0.4444444444444444,\"#26828e\"],[0.5555555555555556,\"#1f9e89\"],[0.6666666666666666,\"#35b779\"],[0.7777777777777778,\"#6ece58\"],[0.8888888888888888,\"#b5de2b\"],[1.0,\"#fde725\"]],\"type\":\"heatmap\"}],\"histogram2dcontour\":[{\"colorbar\":{\"outlinewidth\":1,\"tickcolor\":\"rgb(36,36,36)\",\"ticks\":\"outside\"},\"colorscale\":[[0.0,\"#440154\"],[0.1111111111111111,\"#482878\"],[0.2222222222222222,\"#3e4989\"],[0.3333333333333333,\"#31688e\"],[0.4444444444444444,\"#26828e\"],[0.5555555555555556,\"#1f9e89\"],[0.6666666666666666,\"#35b779\"],[0.7777777777777778,\"#6ece58\"],[0.8888888888888888,\"#b5de2b\"],[1.0,\"#fde725\"]],\"type\":\"histogram2dcontour\"}],\"histogram2d\":[{\"colorbar\":{\"outlinewidth\":1,\"tickcolor\":\"rgb(36,36,36)\",\"ticks\":\"outside\"},\"colorscale\":[[0.0,\"#440154\"],[0.1111111111111111,\"#482878\"],[0.2222222222222222,\"#3e4989\"],[0.3333333333333333,\"#31688e\"],[0.4444444444444444,\"#26828e\"],[0.5555555555555556,\"#1f9e89\"],[0.6666666666666666,\"#35b779\"],[0.7777777777777778,\"#6ece58\"],[0.8888888888888888,\"#b5de2b\"],[1.0,\"#fde725\"]],\"type\":\"histogram2d\"}],\"histogram\":[{\"marker\":{\"line\":{\"color\":\"white\",\"width\":0.6}},\"type\":\"histogram\"}],\"mesh3d\":[{\"colorbar\":{\"outlinewidth\":1,\"tickcolor\":\"rgb(36,36,36)\",\"ticks\":\"outside\"},\"type\":\"mesh3d\"}],\"parcoords\":[{\"line\":{\"colorbar\":{\"outlinewidth\":1,\"tickcolor\":\"rgb(36,36,36)\",\"ticks\":\"outside\"}},\"type\":\"parcoords\"}],\"pie\":[{\"automargin\":true,\"type\":\"pie\"}],\"scatter3d\":[{\"line\":{\"colorbar\":{\"outlinewidth\":1,\"tickcolor\":\"rgb(36,36,36)\",\"ticks\":\"outside\"}},\"marker\":{\"colorbar\":{\"outlinewidth\":1,\"tickcolor\":\"rgb(36,36,36)\",\"ticks\":\"outside\"}},\"type\":\"scatter3d\"}],\"scattercarpet\":[{\"marker\":{\"colorbar\":{\"outlinewidth\":1,\"tickcolor\":\"rgb(36,36,36)\",\"ticks\":\"outside\"}},\"type\":\"scattercarpet\"}],\"scattergeo\":[{\"marker\":{\"colorbar\":{\"outlinewidth\":1,\"tickcolor\":\"rgb(36,36,36)\",\"ticks\":\"outside\"}},\"type\":\"scattergeo\"}],\"scattergl\":[{\"marker\":{\"colorbar\":{\"outlinewidth\":1,\"tickcolor\":\"rgb(36,36,36)\",\"ticks\":\"outside\"}},\"type\":\"scattergl\"}],\"scattermapbox\":[{\"marker\":{\"colorbar\":{\"outlinewidth\":1,\"tickcolor\":\"rgb(36,36,36)\",\"ticks\":\"outside\"}},\"type\":\"scattermapbox\"}],\"scatterpolargl\":[{\"marker\":{\"colorbar\":{\"outlinewidth\":1,\"tickcolor\":\"rgb(36,36,36)\",\"ticks\":\"outside\"}},\"type\":\"scatterpolargl\"}],\"scatterpolar\":[{\"marker\":{\"colorbar\":{\"outlinewidth\":1,\"tickcolor\":\"rgb(36,36,36)\",\"ticks\":\"outside\"}},\"type\":\"scatterpolar\"}],\"scatter\":[{\"fillpattern\":{\"fillmode\":\"overlay\",\"size\":10,\"solidity\":0.2},\"type\":\"scatter\"}],\"scatterternary\":[{\"marker\":{\"colorbar\":{\"outlinewidth\":1,\"tickcolor\":\"rgb(36,36,36)\",\"ticks\":\"outside\"}},\"type\":\"scatterternary\"}],\"surface\":[{\"colorbar\":{\"outlinewidth\":1,\"tickcolor\":\"rgb(36,36,36)\",\"ticks\":\"outside\"},\"colorscale\":[[0.0,\"#440154\"],[0.1111111111111111,\"#482878\"],[0.2222222222222222,\"#3e4989\"],[0.3333333333333333,\"#31688e\"],[0.4444444444444444,\"#26828e\"],[0.5555555555555556,\"#1f9e89\"],[0.6666666666666666,\"#35b779\"],[0.7777777777777778,\"#6ece58\"],[0.8888888888888888,\"#b5de2b\"],[1.0,\"#fde725\"]],\"type\":\"surface\"}],\"table\":[{\"cells\":{\"fill\":{\"color\":\"rgb(237,237,237)\"},\"line\":{\"color\":\"white\"}},\"header\":{\"fill\":{\"color\":\"rgb(217,217,217)\"},\"line\":{\"color\":\"white\"}},\"type\":\"table\"}]},\"layout\":{\"annotationdefaults\":{\"arrowhead\":0,\"arrowwidth\":1},\"autotypenumbers\":\"strict\",\"coloraxis\":{\"colorbar\":{\"outlinewidth\":1,\"tickcolor\":\"rgb(36,36,36)\",\"ticks\":\"outside\"}},\"colorscale\":{\"diverging\":[[0.0,\"rgb(103,0,31)\"],[0.1,\"rgb(178,24,43)\"],[0.2,\"rgb(214,96,77)\"],[0.3,\"rgb(244,165,130)\"],[0.4,\"rgb(253,219,199)\"],[0.5,\"rgb(247,247,247)\"],[0.6,\"rgb(209,229,240)\"],[0.7,\"rgb(146,197,222)\"],[0.8,\"rgb(67,147,195)\"],[0.9,\"rgb(33,102,172)\"],[1.0,\"rgb(5,48,97)\"]],\"sequential\":[[0.0,\"#440154\"],[0.1111111111111111,\"#482878\"],[0.2222222222222222,\"#3e4989\"],[0.3333333333333333,\"#31688e\"],[0.4444444444444444,\"#26828e\"],[0.5555555555555556,\"#1f9e89\"],[0.6666666666666666,\"#35b779\"],[0.7777777777777778,\"#6ece58\"],[0.8888888888888888,\"#b5de2b\"],[1.0,\"#fde725\"]],\"sequentialminus\":[[0.0,\"#440154\"],[0.1111111111111111,\"#482878\"],[0.2222222222222222,\"#3e4989\"],[0.3333333333333333,\"#31688e\"],[0.4444444444444444,\"#26828e\"],[0.5555555555555556,\"#1f9e89\"],[0.6666666666666666,\"#35b779\"],[0.7777777777777778,\"#6ece58\"],[0.8888888888888888,\"#b5de2b\"],[1.0,\"#fde725\"]]},\"colorway\":[\"#1F77B4\",\"#FF7F0E\",\"#2CA02C\",\"#D62728\",\"#9467BD\",\"#8C564B\",\"#E377C2\",\"#7F7F7F\",\"#BCBD22\",\"#17BECF\"],\"font\":{\"color\":\"rgb(36,36,36)\"},\"geo\":{\"bgcolor\":\"white\",\"lakecolor\":\"white\",\"landcolor\":\"white\",\"showlakes\":true,\"showland\":true,\"subunitcolor\":\"white\"},\"hoverlabel\":{\"align\":\"left\"},\"hovermode\":\"closest\",\"mapbox\":{\"style\":\"light\"},\"paper_bgcolor\":\"white\",\"plot_bgcolor\":\"white\",\"polar\":{\"angularaxis\":{\"gridcolor\":\"rgb(232,232,232)\",\"linecolor\":\"rgb(36,36,36)\",\"showgrid\":false,\"showline\":true,\"ticks\":\"outside\"},\"bgcolor\":\"white\",\"radialaxis\":{\"gridcolor\":\"rgb(232,232,232)\",\"linecolor\":\"rgb(36,36,36)\",\"showgrid\":false,\"showline\":true,\"ticks\":\"outside\"}},\"scene\":{\"xaxis\":{\"backgroundcolor\":\"white\",\"gridcolor\":\"rgb(232,232,232)\",\"gridwidth\":2,\"linecolor\":\"rgb(36,36,36)\",\"showbackground\":true,\"showgrid\":false,\"showline\":true,\"ticks\":\"outside\",\"zeroline\":false,\"zerolinecolor\":\"rgb(36,36,36)\"},\"yaxis\":{\"backgroundcolor\":\"white\",\"gridcolor\":\"rgb(232,232,232)\",\"gridwidth\":2,\"linecolor\":\"rgb(36,36,36)\",\"showbackground\":true,\"showgrid\":false,\"showline\":true,\"ticks\":\"outside\",\"zeroline\":false,\"zerolinecolor\":\"rgb(36,36,36)\"},\"zaxis\":{\"backgroundcolor\":\"white\",\"gridcolor\":\"rgb(232,232,232)\",\"gridwidth\":2,\"linecolor\":\"rgb(36,36,36)\",\"showbackground\":true,\"showgrid\":false,\"showline\":true,\"ticks\":\"outside\",\"zeroline\":false,\"zerolinecolor\":\"rgb(36,36,36)\"}},\"shapedefaults\":{\"fillcolor\":\"black\",\"line\":{\"width\":0},\"opacity\":0.3},\"ternary\":{\"aaxis\":{\"gridcolor\":\"rgb(232,232,232)\",\"linecolor\":\"rgb(36,36,36)\",\"showgrid\":false,\"showline\":true,\"ticks\":\"outside\"},\"baxis\":{\"gridcolor\":\"rgb(232,232,232)\",\"linecolor\":\"rgb(36,36,36)\",\"showgrid\":false,\"showline\":true,\"ticks\":\"outside\"},\"bgcolor\":\"white\",\"caxis\":{\"gridcolor\":\"rgb(232,232,232)\",\"linecolor\":\"rgb(36,36,36)\",\"showgrid\":false,\"showline\":true,\"ticks\":\"outside\"}},\"title\":{\"x\":0.05},\"xaxis\":{\"automargin\":true,\"gridcolor\":\"rgb(232,232,232)\",\"linecolor\":\"rgb(36,36,36)\",\"showgrid\":false,\"showline\":true,\"ticks\":\"outside\",\"title\":{\"standoff\":15},\"zeroline\":false,\"zerolinecolor\":\"rgb(36,36,36)\"},\"yaxis\":{\"automargin\":true,\"gridcolor\":\"rgb(232,232,232)\",\"linecolor\":\"rgb(36,36,36)\",\"showgrid\":false,\"showline\":true,\"ticks\":\"outside\",\"title\":{\"standoff\":15},\"zeroline\":false,\"zerolinecolor\":\"rgb(36,36,36)\"}}},\"xaxis\":{\"anchor\":\"y\",\"domain\":[0.0,1.0],\"scaleanchor\":\"y\",\"constrain\":\"domain\",\"title\":{\"text\":\"Model\"},\"tickangle\":90},\"yaxis\":{\"anchor\":\"x\",\"domain\":[0.0,1.0],\"autorange\":\"reversed\",\"constrain\":\"domain\",\"title\":{\"text\":\"Model\"}},\"coloraxis\":{\"colorbar\":{\"title\":{\"text\":\"Average Overlap\"}},\"colorscale\":[[0.0,\"rgb(247,251,255)\"],[0.125,\"rgb(222,235,247)\"],[0.25,\"rgb(198,219,239)\"],[0.375,\"rgb(158,202,225)\"],[0.5,\"rgb(107,174,214)\"],[0.625,\"rgb(66,146,198)\"],[0.75,\"rgb(33,113,181)\"],[0.875,\"rgb(8,81,156)\"],[1.0,\"rgb(8,48,107)\"]]},\"margin\":{\"t\":60},\"title\":{\"text\":\"Mutual k-Nearest Neighbors Overlap Scores\"},\"width\":500},                        {\"responsive\": true}                    ).then(function(){\n",
       "                            \n",
       "var gd = document.getElementById('dcda1405-31eb-4e24-9cc7-2bdfc5e3060f');\n",
       "var x = new MutationObserver(function (mutations, observer) {{\n",
       "        var display = window.getComputedStyle(gd).display;\n",
       "        if (!display || display === 'none') {{\n",
       "            console.log([gd, 'removed!']);\n",
       "            Plotly.purge(gd);\n",
       "            observer.disconnect();\n",
       "        }}\n",
       "}});\n",
       "\n",
       "// Listen for the removal of the full notebook cells\n",
       "var notebookContainer = gd.closest('#notebook-container');\n",
       "if (notebookContainer) {{\n",
       "    x.observe(notebookContainer, {childList: true});\n",
       "}}\n",
       "\n",
       "// Listen for the clearing of the current output cell\n",
       "var outputEl = gd.closest('.output');\n",
       "if (outputEl) {{\n",
       "    x.observe(outputEl, {childList: true});\n",
       "}}\n",
       "\n",
       "                        })                };                });            </script>        </div>"
      ]
     },
     "metadata": {},
     "output_type": "display_data"
    }
   ],
   "source": [
    "model_features = {k.replace(\"negative_control_\", \"\"): v.filter(like=\"pred\").values for k,v in data.items()}\n",
    "model_neighbors = compute_knn_indices(model_features, num_neighbors=10, metric=\"cosine\")\n",
    "overlap_matrix, model_list = compute_overlap_matrix(model_neighbors)\n",
    "fig = plot_overlap_matrix(overlap_matrix, model_list, width=500, tickangle=90)\n",
    "fig.show()\n"
   ]
  },
  {
   "cell_type": "code",
   "execution_count": null,
   "metadata": {},
   "outputs": [],
   "source": []
  }
 ],
 "metadata": {
  "kernelspec": {
   "display_name": "lighter_dev",
   "language": "python",
   "name": "python3"
  },
  "language_info": {
   "codemirror_mode": {
    "name": "ipython",
    "version": 3
   },
   "file_extension": ".py",
   "mimetype": "text/x-python",
   "name": "python",
   "nbconvert_exporter": "python",
   "pygments_lexer": "ipython3",
   "version": "3.10.14"
  }
 },
 "nbformat": 4,
 "nbformat_minor": 2
}
