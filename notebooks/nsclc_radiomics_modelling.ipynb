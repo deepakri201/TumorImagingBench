{
 "cells": [
  {
   "cell_type": "code",
   "execution_count": 1,
   "metadata": {},
   "outputs": [],
   "source": [
    "# Import necessary libraries\n",
    "import pandas as pd # For data manipulation and analysis\n",
    "import numpy as np # For numerical operations\n",
    "import pickle # For serializing and deserializing Python objects\n",
    "from modelling_utils import train_knn_classifier, evaluate_model, plot_model_comparison, extract_model_features, compute_knn_indices, compute_overlap_matrix, plot_overlap_matrix, split_shuffle_data"
   ]
  },
  {
   "cell_type": "code",
   "execution_count": 5,
   "metadata": {},
   "outputs": [],
   "source": [
    "# Load features from a pickle file\n",
    "feature_dict_path = \"/home/suraj/Repositories/FM-extractors-radiomics/evaluation/features/nsclc_radiomics.pkl\" # Path to the pickle file containing features\n",
    "with open(feature_dict_path, 'rb') as file: # Open the file in read binary mode\n",
    "    data = pickle.load(file) # Load the data from the pickle file"
   ]
  },
  {
   "cell_type": "code",
   "execution_count": 6,
   "metadata": {},
   "outputs": [
    {
     "name": "stderr",
     "output_type": "stream",
     "text": [
      "[I 2025-02-25 17:11:37,328] A new study created in memory with name: no-name-6cdc723d-7cd7-4d94-8794-24fe07ef55cb\n",
      "[I 2025-02-25 17:11:37,335] Trial 0 finished with value: 0.4399038461538462 and parameters: {'k': 29}. Best is trial 0 with value: 0.4399038461538462.\n",
      "[I 2025-02-25 17:11:37,343] Trial 1 finished with value: 0.5324519230769231 and parameters: {'k': 12}. Best is trial 1 with value: 0.5324519230769231.\n",
      "[I 2025-02-25 17:11:37,350] Trial 2 finished with value: 0.5096153846153846 and parameters: {'k': 11}. Best is trial 1 with value: 0.5324519230769231.\n",
      "[I 2025-02-25 17:11:37,358] Trial 3 finished with value: 0.39663461538461536 and parameters: {'k': 42}. Best is trial 1 with value: 0.5324519230769231.\n"
     ]
    },
    {
     "name": "stderr",
     "output_type": "stream",
     "text": [
      "[I 2025-02-25 17:11:37,363] Trial 4 finished with value: 0.5673076923076923 and parameters: {'k': 3}. Best is trial 4 with value: 0.5673076923076923.\n",
      "[I 2025-02-25 17:11:37,369] Trial 5 finished with value: 0.46033653846153844 and parameters: {'k': 28}. Best is trial 4 with value: 0.5673076923076923.\n",
      "[I 2025-02-25 17:11:37,376] Trial 6 finished with value: 0.3930288461538462 and parameters: {'k': 39}. Best is trial 4 with value: 0.5673076923076923.\n",
      "[I 2025-02-25 17:11:37,382] Trial 7 finished with value: 0.4411057692307693 and parameters: {'k': 32}. Best is trial 4 with value: 0.5673076923076923.\n",
      "[I 2025-02-25 17:11:37,389] Trial 8 finished with value: 0.44350961538461536 and parameters: {'k': 23}. Best is trial 4 with value: 0.5673076923076923.\n",
      "[I 2025-02-25 17:11:37,395] Trial 9 finished with value: 0.5793269230769231 and parameters: {'k': 5}. Best is trial 9 with value: 0.5793269230769231.\n",
      "[I 2025-02-25 17:11:37,402] Trial 10 finished with value: 0.4254807692307693 and parameters: {'k': 34}. Best is trial 9 with value: 0.5793269230769231.\n",
      "[I 2025-02-25 17:11:37,409] Trial 11 finished with value: 0.4122596153846154 and parameters: {'k': 36}. Best is trial 9 with value: 0.5793269230769231.\n",
      "[I 2025-02-25 17:11:37,416] Trial 12 finished with value: 0.4903846153846154 and parameters: {'k': 27}. Best is trial 9 with value: 0.5793269230769231.\n",
      "[I 2025-02-25 17:11:37,423] Trial 13 finished with value: 0.4242788461538462 and parameters: {'k': 35}. Best is trial 9 with value: 0.5793269230769231.\n",
      "[I 2025-02-25 17:11:37,430] Trial 14 finished with value: 0.4747596153846154 and parameters: {'k': 19}. Best is trial 9 with value: 0.5793269230769231.\n",
      "[I 2025-02-25 17:11:37,437] Trial 15 finished with value: 0.5492788461538461 and parameters: {'k': 8}. Best is trial 9 with value: 0.5793269230769231.\n",
      "[I 2025-02-25 17:11:37,445] Trial 16 finished with value: 0.4903846153846154 and parameters: {'k': 15}. Best is trial 9 with value: 0.5793269230769231.\n",
      "[I 2025-02-25 17:11:37,452] Trial 17 finished with value: 0.41466346153846156 and parameters: {'k': 46}. Best is trial 9 with value: 0.5793269230769231.\n",
      "[I 2025-02-25 17:11:37,460] Trial 18 finished with value: 0.4495192307692307 and parameters: {'k': 49}. Best is trial 9 with value: 0.5793269230769231.\n",
      "[I 2025-02-25 17:11:37,468] Trial 19 finished with value: 0.4278846153846155 and parameters: {'k': 30}. Best is trial 9 with value: 0.5793269230769231.\n",
      "[I 2025-02-25 17:11:37,476] Trial 20 finished with value: 0.47836538461538464 and parameters: {'k': 16}. Best is trial 9 with value: 0.5793269230769231.\n",
      "[I 2025-02-25 17:11:37,484] Trial 21 finished with value: 0.41947115384615385 and parameters: {'k': 31}. Best is trial 9 with value: 0.5793269230769231.\n",
      "[I 2025-02-25 17:11:37,492] Trial 22 finished with value: 0.42908653846153844 and parameters: {'k': 33}. Best is trial 9 with value: 0.5793269230769231.\n",
      "[I 2025-02-25 17:11:37,500] Trial 23 finished with value: 0.45552884615384615 and parameters: {'k': 17}. Best is trial 9 with value: 0.5793269230769231.\n",
      "[I 2025-02-25 17:11:37,509] Trial 24 finished with value: 0.4002403846153845 and parameters: {'k': 43}. Best is trial 9 with value: 0.5793269230769231.\n",
      "[I 2025-02-25 17:11:37,518] Trial 25 finished with value: 0.46394230769230765 and parameters: {'k': 21}. Best is trial 9 with value: 0.5793269230769231.\n",
      "[I 2025-02-25 17:11:37,527] Trial 26 finished with value: 0.41466346153846156 and parameters: {'k': 44}. Best is trial 9 with value: 0.5793269230769231.\n",
      "[I 2025-02-25 17:11:37,535] Trial 27 finished with value: 0.5552884615384616 and parameters: {'k': 9}. Best is trial 9 with value: 0.5793269230769231.\n",
      "[I 2025-02-25 17:11:37,544] Trial 28 finished with value: 0.48197115384615385 and parameters: {'k': 14}. Best is trial 9 with value: 0.5793269230769231.\n",
      "[I 2025-02-25 17:11:37,554] Trial 29 finished with value: 0.48317307692307687 and parameters: {'k': 26}. Best is trial 9 with value: 0.5793269230769231.\n",
      "[I 2025-02-25 17:11:37,563] Trial 30 finished with value: 0.6322115384615384 and parameters: {'k': 6}. Best is trial 30 with value: 0.6322115384615384.\n",
      "[I 2025-02-25 17:11:37,573] Trial 31 finished with value: 0.46875 and parameters: {'k': 18}. Best is trial 30 with value: 0.6322115384615384.\n",
      "[I 2025-02-25 17:11:37,582] Trial 32 finished with value: 0.391826923076923 and parameters: {'k': 41}. Best is trial 30 with value: 0.6322115384615384.\n",
      "[I 2025-02-25 17:11:37,592] Trial 33 finished with value: 0.4387019230769231 and parameters: {'k': 50}. Best is trial 30 with value: 0.6322115384615384.\n",
      "[I 2025-02-25 17:11:37,602] Trial 34 finished with value: 0.5793269230769231 and parameters: {'k': 2}. Best is trial 30 with value: 0.6322115384615384.\n",
      "[I 2025-02-25 17:11:37,621] Trial 35 finished with value: 0.5072115384615384 and parameters: {'k': 13}. Best is trial 30 with value: 0.6322115384615384.\n",
      "[I 2025-02-25 17:11:37,639] Trial 36 finished with value: 0.40264423076923084 and parameters: {'k': 38}. Best is trial 30 with value: 0.6322115384615384.\n",
      "[I 2025-02-25 17:11:37,650] Trial 37 finished with value: 0.4663461538461538 and parameters: {'k': 25}. Best is trial 30 with value: 0.6322115384615384.\n",
      "[I 2025-02-25 17:11:37,660] Trial 38 finished with value: 0.6033653846153846 and parameters: {'k': 7}. Best is trial 30 with value: 0.6322115384615384.\n",
      "[I 2025-02-25 17:11:37,670] Trial 39 finished with value: 0.4519230769230769 and parameters: {'k': 24}. Best is trial 30 with value: 0.6322115384615384.\n",
      "[I 2025-02-25 17:11:37,681] Trial 40 finished with value: 0.40384615384615385 and parameters: {'k': 37}. Best is trial 30 with value: 0.6322115384615384.\n",
      "[I 2025-02-25 17:11:37,692] Trial 41 finished with value: 0.4459134615384615 and parameters: {'k': 22}. Best is trial 30 with value: 0.6322115384615384.\n",
      "[I 2025-02-25 17:11:37,703] Trial 42 finished with value: 0.4831730769230769 and parameters: {'k': 20}. Best is trial 30 with value: 0.6322115384615384.\n",
      "[I 2025-02-25 17:11:37,714] Trial 43 finished with value: 0.5072115384615384 and parameters: {'k': 10}. Best is trial 30 with value: 0.6322115384615384.\n",
      "[I 2025-02-25 17:11:37,726] Trial 44 finished with value: 0.3774038461538462 and parameters: {'k': 40}. Best is trial 30 with value: 0.6322115384615384.\n",
      "[I 2025-02-25 17:11:37,737] Trial 45 finished with value: 0.42427884615384615 and parameters: {'k': 47}. Best is trial 30 with value: 0.6322115384615384.\n",
      "[I 2025-02-25 17:11:37,749] Trial 46 finished with value: 0.6129807692307693 and parameters: {'k': 4}. Best is trial 30 with value: 0.6322115384615384.\n",
      "[I 2025-02-25 17:11:37,760] Trial 47 finished with value: 0.5673076923076923 and parameters: {'k': 1}. Best is trial 30 with value: 0.6322115384615384.\n",
      "[I 2025-02-25 17:11:37,772] Trial 48 finished with value: 0.4314903846153846 and parameters: {'k': 48}. Best is trial 30 with value: 0.6322115384615384.\n",
      "[I 2025-02-25 17:11:37,784] Trial 49 finished with value: 0.41346153846153844 and parameters: {'k': 45}. Best is trial 30 with value: 0.6322115384615384.\n",
      "[I 2025-02-25 17:11:37,794] A new study created in memory with name: no-name-1026ffeb-e315-4412-81ed-e1c852f744f0\n",
      "[I 2025-02-25 17:11:37,800] Trial 0 finished with value: 0.5652777777777778 and parameters: {'k': 29}. Best is trial 0 with value: 0.5652777777777778.\n",
      "[I 2025-02-25 17:11:37,806] Trial 1 finished with value: 0.4902777777777777 and parameters: {'k': 12}. Best is trial 0 with value: 0.5652777777777778.\n",
      "[I 2025-02-25 17:11:37,811] Trial 2 finished with value: 0.5208333333333333 and parameters: {'k': 11}. Best is trial 0 with value: 0.5652777777777778.\n",
      "[I 2025-02-25 17:11:37,817] Trial 3 finished with value: 0.6208333333333335 and parameters: {'k': 42}. Best is trial 3 with value: 0.6208333333333335.\n",
      "[I 2025-02-25 17:11:37,823] Trial 4 finished with value: 0.5249999999999999 and parameters: {'k': 3}. Best is trial 3 with value: 0.6208333333333335.\n",
      "[I 2025-02-25 17:11:37,829] Trial 5 finished with value: 0.5666666666666668 and parameters: {'k': 28}. Best is trial 3 with value: 0.6208333333333335.\n",
      "[I 2025-02-25 17:11:37,835] Trial 6 finished with value: 0.5958333333333332 and parameters: {'k': 39}. Best is trial 3 with value: 0.6208333333333335.\n",
      "[I 2025-02-25 17:11:37,841] Trial 7 finished with value: 0.5597222222222223 and parameters: {'k': 32}. Best is trial 3 with value: 0.6208333333333335.\n",
      "[I 2025-02-25 17:11:37,848] Trial 8 finished with value: 0.5541666666666667 and parameters: {'k': 23}. Best is trial 3 with value: 0.6208333333333335.\n",
      "[I 2025-02-25 17:11:37,854] Trial 9 finished with value: 0.6486111111111111 and parameters: {'k': 5}. Best is trial 9 with value: 0.6486111111111111.\n",
      "[I 2025-02-25 17:11:37,861] Trial 10 finished with value: 0.5680555555555555 and parameters: {'k': 34}. Best is trial 9 with value: 0.6486111111111111.\n",
      "[I 2025-02-25 17:11:37,868] Trial 11 finished with value: 0.5916666666666667 and parameters: {'k': 36}. Best is trial 9 with value: 0.6486111111111111.\n",
      "[I 2025-02-25 17:11:37,875] Trial 12 finished with value: 0.5347222222222222 and parameters: {'k': 27}. Best is trial 9 with value: 0.6486111111111111.\n",
      "[I 2025-02-25 17:11:37,882] Trial 13 finished with value: 0.6027777777777779 and parameters: {'k': 35}. Best is trial 9 with value: 0.6486111111111111.\n",
      "[I 2025-02-25 17:11:37,889] Trial 14 finished with value: 0.5013888888888889 and parameters: {'k': 19}. Best is trial 9 with value: 0.6486111111111111.\n",
      "[I 2025-02-25 17:11:37,896] Trial 15 finished with value: 0.5513888888888889 and parameters: {'k': 8}. Best is trial 9 with value: 0.6486111111111111.\n",
      "[I 2025-02-25 17:11:37,903] Trial 16 finished with value: 0.4805555555555555 and parameters: {'k': 15}. Best is trial 9 with value: 0.6486111111111111.\n",
      "[I 2025-02-25 17:11:37,911] Trial 17 finished with value: 0.6236111111111112 and parameters: {'k': 46}. Best is trial 9 with value: 0.6486111111111111.\n",
      "[I 2025-02-25 17:11:37,919] Trial 18 finished with value: 0.6236111111111111 and parameters: {'k': 49}. Best is trial 9 with value: 0.6486111111111111.\n",
      "[I 2025-02-25 17:11:37,927] Trial 19 finished with value: 0.5555555555555555 and parameters: {'k': 30}. Best is trial 9 with value: 0.6486111111111111.\n",
      "[I 2025-02-25 17:11:37,935] Trial 20 finished with value: 0.4986111111111111 and parameters: {'k': 16}. Best is trial 9 with value: 0.6486111111111111.\n",
      "[I 2025-02-25 17:11:37,943] Trial 21 finished with value: 0.5750000000000001 and parameters: {'k': 31}. Best is trial 9 with value: 0.6486111111111111.\n",
      "[I 2025-02-25 17:11:37,952] Trial 22 finished with value: 0.5666666666666667 and parameters: {'k': 33}. Best is trial 9 with value: 0.6486111111111111.\n",
      "[I 2025-02-25 17:11:37,960] Trial 23 finished with value: 0.4875 and parameters: {'k': 17}. Best is trial 9 with value: 0.6486111111111111.\n",
      "[I 2025-02-25 17:11:37,969] Trial 24 finished with value: 0.6291666666666667 and parameters: {'k': 43}. Best is trial 9 with value: 0.6486111111111111.\n",
      "[I 2025-02-25 17:11:37,978] Trial 25 finished with value: 0.5319444444444446 and parameters: {'k': 21}. Best is trial 9 with value: 0.6486111111111111.\n",
      "[I 2025-02-25 17:11:37,987] Trial 26 finished with value: 0.6263888888888889 and parameters: {'k': 44}. Best is trial 9 with value: 0.6486111111111111.\n",
      "[I 2025-02-25 17:11:37,996] Trial 27 finished with value: 0.5444444444444444 and parameters: {'k': 9}. Best is trial 9 with value: 0.6486111111111111.\n",
      "[I 2025-02-25 17:11:38,005] Trial 28 finished with value: 0.5013888888888889 and parameters: {'k': 14}. Best is trial 9 with value: 0.6486111111111111.\n",
      "[I 2025-02-25 17:11:38,015] Trial 29 finished with value: 0.5125 and parameters: {'k': 26}. Best is trial 9 with value: 0.6486111111111111.\n",
      "[I 2025-02-25 17:11:38,025] Trial 30 finished with value: 0.6152777777777778 and parameters: {'k': 6}. Best is trial 9 with value: 0.6486111111111111.\n",
      "[I 2025-02-25 17:11:38,034] Trial 31 finished with value: 0.5 and parameters: {'k': 18}. Best is trial 9 with value: 0.6486111111111111.\n",
      "[I 2025-02-25 17:11:38,044] Trial 32 finished with value: 0.5986111111111111 and parameters: {'k': 41}. Best is trial 9 with value: 0.6486111111111111.\n",
      "[I 2025-02-25 17:11:38,054] Trial 33 finished with value: 0.6222222222222222 and parameters: {'k': 50}. Best is trial 9 with value: 0.6486111111111111.\n",
      "[I 2025-02-25 17:11:38,064] Trial 34 finished with value: 0.45 and parameters: {'k': 2}. Best is trial 9 with value: 0.6486111111111111.\n",
      "[I 2025-02-25 17:11:38,074] Trial 35 finished with value: 0.5083333333333333 and parameters: {'k': 13}. Best is trial 9 with value: 0.6486111111111111.\n",
      "[I 2025-02-25 17:11:38,084] Trial 36 finished with value: 0.5902777777777778 and parameters: {'k': 38}. Best is trial 9 with value: 0.6486111111111111.\n",
      "[I 2025-02-25 17:11:38,095] Trial 37 finished with value: 0.5319444444444444 and parameters: {'k': 25}. Best is trial 9 with value: 0.6486111111111111.\n",
      "[I 2025-02-25 17:11:38,105] Trial 38 finished with value: 0.5402777777777779 and parameters: {'k': 7}. Best is trial 9 with value: 0.6486111111111111.\n",
      "[I 2025-02-25 17:11:38,116] Trial 39 finished with value: 0.5555555555555556 and parameters: {'k': 24}. Best is trial 9 with value: 0.6486111111111111.\n",
      "[I 2025-02-25 17:11:38,127] Trial 40 finished with value: 0.5680555555555556 and parameters: {'k': 37}. Best is trial 9 with value: 0.6486111111111111.\n",
      "[I 2025-02-25 17:11:38,138] Trial 41 finished with value: 0.5444444444444444 and parameters: {'k': 22}. Best is trial 9 with value: 0.6486111111111111.\n",
      "[I 2025-02-25 17:11:38,149] Trial 42 finished with value: 0.525 and parameters: {'k': 20}. Best is trial 9 with value: 0.6486111111111111.\n",
      "[I 2025-02-25 17:11:38,160] Trial 43 finished with value: 0.5138888888888888 and parameters: {'k': 10}. Best is trial 9 with value: 0.6486111111111111.\n",
      "[I 2025-02-25 17:11:38,171] Trial 44 finished with value: 0.5972222222222222 and parameters: {'k': 40}. Best is trial 9 with value: 0.6486111111111111.\n",
      "[I 2025-02-25 17:11:38,183] Trial 45 finished with value: 0.6305555555555555 and parameters: {'k': 47}. Best is trial 9 with value: 0.6486111111111111.\n",
      "[I 2025-02-25 17:11:38,195] Trial 46 finished with value: 0.5722222222222222 and parameters: {'k': 4}. Best is trial 9 with value: 0.6486111111111111.\n",
      "[I 2025-02-25 17:11:38,207] Trial 47 finished with value: 0.4916666666666667 and parameters: {'k': 1}. Best is trial 9 with value: 0.6486111111111111.\n",
      "[I 2025-02-25 17:11:38,219] Trial 48 finished with value: 0.6291666666666668 and parameters: {'k': 48}. Best is trial 9 with value: 0.6486111111111111.\n",
      "[I 2025-02-25 17:11:38,231] Trial 49 finished with value: 0.6208333333333333 and parameters: {'k': 45}. Best is trial 9 with value: 0.6486111111111111.\n",
      "[I 2025-02-25 17:11:38,239] A new study created in memory with name: no-name-16122652-d205-4d60-b615-c6083b7fa908\n",
      "[I 2025-02-25 17:11:38,245] Trial 0 finished with value: 0.5617283950617284 and parameters: {'k': 29}. Best is trial 0 with value: 0.5617283950617284.\n",
      "[I 2025-02-25 17:11:38,251] Trial 1 finished with value: 0.6222222222222222 and parameters: {'k': 12}. Best is trial 1 with value: 0.6222222222222222.\n",
      "[I 2025-02-25 17:11:38,256] Trial 2 finished with value: 0.6086419753086421 and parameters: {'k': 11}. Best is trial 1 with value: 0.6222222222222222.\n",
      "[I 2025-02-25 17:11:38,262] Trial 3 finished with value: 0.5666666666666667 and parameters: {'k': 42}. Best is trial 1 with value: 0.6222222222222222.\n",
      "[I 2025-02-25 17:11:38,268] Trial 4 finished with value: 0.7098765432098765 and parameters: {'k': 3}. Best is trial 4 with value: 0.7098765432098765.\n",
      "[I 2025-02-25 17:11:38,274] Trial 5 finished with value: 0.5679012345679013 and parameters: {'k': 28}. Best is trial 4 with value: 0.7098765432098765.\n",
      "[I 2025-02-25 17:11:38,280] Trial 6 finished with value: 0.5444444444444445 and parameters: {'k': 39}. Best is trial 4 with value: 0.7098765432098765.\n",
      "[I 2025-02-25 17:11:38,286] Trial 7 finished with value: 0.5382716049382716 and parameters: {'k': 32}. Best is trial 4 with value: 0.7098765432098765.\n",
      "[I 2025-02-25 17:11:38,293] Trial 8 finished with value: 0.5654320987654321 and parameters: {'k': 23}. Best is trial 4 with value: 0.7098765432098765.\n",
      "[I 2025-02-25 17:11:38,300] Trial 9 finished with value: 0.637037037037037 and parameters: {'k': 5}. Best is trial 4 with value: 0.7098765432098765.\n",
      "[I 2025-02-25 17:11:38,306] Trial 10 finished with value: 0.5358024691358024 and parameters: {'k': 34}. Best is trial 4 with value: 0.7098765432098765.\n",
      "[I 2025-02-25 17:11:38,313] Trial 11 finished with value: 0.5481481481481482 and parameters: {'k': 36}. Best is trial 4 with value: 0.7098765432098765.\n",
      "[I 2025-02-25 17:11:38,320] Trial 12 finished with value: 0.5617283950617284 and parameters: {'k': 27}. Best is trial 4 with value: 0.7098765432098765.\n",
      "[I 2025-02-25 17:11:38,328] Trial 13 finished with value: 0.537037037037037 and parameters: {'k': 35}. Best is trial 4 with value: 0.7098765432098765.\n",
      "[I 2025-02-25 17:11:38,335] Trial 14 finished with value: 0.5703703703703704 and parameters: {'k': 19}. Best is trial 4 with value: 0.7098765432098765.\n",
      "[I 2025-02-25 17:11:38,342] Trial 15 finished with value: 0.671604938271605 and parameters: {'k': 8}. Best is trial 4 with value: 0.7098765432098765.\n",
      "[I 2025-02-25 17:11:38,350] Trial 16 finished with value: 0.5567901234567901 and parameters: {'k': 15}. Best is trial 4 with value: 0.7098765432098765.\n",
      "[I 2025-02-25 17:11:38,357] Trial 17 finished with value: 0.606172839506173 and parameters: {'k': 46}. Best is trial 4 with value: 0.7098765432098765.\n",
      "[I 2025-02-25 17:11:38,365] Trial 18 finished with value: 0.6037037037037037 and parameters: {'k': 49}. Best is trial 4 with value: 0.7098765432098765.\n",
      "[I 2025-02-25 17:11:38,373] Trial 19 finished with value: 0.5444444444444444 and parameters: {'k': 30}. Best is trial 4 with value: 0.7098765432098765.\n",
      "[I 2025-02-25 17:11:38,381] Trial 20 finished with value: 0.5567901234567901 and parameters: {'k': 16}. Best is trial 4 with value: 0.7098765432098765.\n",
      "[I 2025-02-25 17:11:38,390] Trial 21 finished with value: 0.5419753086419754 and parameters: {'k': 31}. Best is trial 4 with value: 0.7098765432098765.\n",
      "[I 2025-02-25 17:11:38,398] Trial 22 finished with value: 0.5407407407407406 and parameters: {'k': 33}. Best is trial 4 with value: 0.7098765432098765.\n",
      "[I 2025-02-25 17:11:38,406] Trial 23 finished with value: 0.562962962962963 and parameters: {'k': 17}. Best is trial 4 with value: 0.7098765432098765.\n",
      "[I 2025-02-25 17:11:38,415] Trial 24 finished with value: 0.5654320987654321 and parameters: {'k': 43}. Best is trial 4 with value: 0.7098765432098765.\n",
      "[I 2025-02-25 17:11:38,423] Trial 25 finished with value: 0.5765432098765433 and parameters: {'k': 21}. Best is trial 4 with value: 0.7098765432098765.\n",
      "[I 2025-02-25 17:11:38,432] Trial 26 finished with value: 0.5938271604938272 and parameters: {'k': 44}. Best is trial 4 with value: 0.7098765432098765.\n",
      "[I 2025-02-25 17:11:38,441] Trial 27 finished with value: 0.6296296296296297 and parameters: {'k': 9}. Best is trial 4 with value: 0.7098765432098765.\n",
      "[I 2025-02-25 17:11:38,450] Trial 28 finished with value: 0.5222222222222221 and parameters: {'k': 14}. Best is trial 4 with value: 0.7098765432098765.\n",
      "[I 2025-02-25 17:11:38,459] Trial 29 finished with value: 0.5419753086419753 and parameters: {'k': 26}. Best is trial 4 with value: 0.7098765432098765.\n",
      "[I 2025-02-25 17:11:38,469] Trial 30 finished with value: 0.6370370370370371 and parameters: {'k': 6}. Best is trial 4 with value: 0.7098765432098765.\n",
      "[I 2025-02-25 17:11:38,479] Trial 31 finished with value: 0.562962962962963 and parameters: {'k': 18}. Best is trial 4 with value: 0.7098765432098765.\n",
      "[I 2025-02-25 17:11:38,488] Trial 32 finished with value: 0.5555555555555556 and parameters: {'k': 41}. Best is trial 4 with value: 0.7098765432098765.\n",
      "[I 2025-02-25 17:11:38,498] Trial 33 finished with value: 0.6160493827160494 and parameters: {'k': 50}. Best is trial 4 with value: 0.7098765432098765.\n",
      "[I 2025-02-25 17:11:38,508] Trial 34 finished with value: 0.7666666666666668 and parameters: {'k': 2}. Best is trial 34 with value: 0.7666666666666668.\n",
      "[I 2025-02-25 17:11:38,518] Trial 35 finished with value: 0.5765432098765432 and parameters: {'k': 13}. Best is trial 34 with value: 0.7666666666666668.\n",
      "[I 2025-02-25 17:11:38,528] Trial 36 finished with value: 0.5308641975308642 and parameters: {'k': 38}. Best is trial 34 with value: 0.7666666666666668.\n",
      "[I 2025-02-25 17:11:38,539] Trial 37 finished with value: 0.5506172839506173 and parameters: {'k': 25}. Best is trial 34 with value: 0.7666666666666668.\n",
      "[I 2025-02-25 17:11:38,549] Trial 38 finished with value: 0.6567901234567902 and parameters: {'k': 7}. Best is trial 34 with value: 0.7666666666666668.\n",
      "[I 2025-02-25 17:11:38,560] Trial 39 finished with value: 0.5469135802469136 and parameters: {'k': 24}. Best is trial 34 with value: 0.7666666666666668.\n",
      "[I 2025-02-25 17:11:38,571] Trial 40 finished with value: 0.5518518518518519 and parameters: {'k': 37}. Best is trial 34 with value: 0.7666666666666668.\n",
      "[I 2025-02-25 17:11:38,582] Trial 41 finished with value: 0.5765432098765433 and parameters: {'k': 22}. Best is trial 34 with value: 0.7666666666666668.\n",
      "[I 2025-02-25 17:11:38,592] Trial 42 finished with value: 0.5962962962962963 and parameters: {'k': 20}. Best is trial 34 with value: 0.7666666666666668.\n",
      "[I 2025-02-25 17:11:38,604] Trial 43 finished with value: 0.6395061728395062 and parameters: {'k': 10}. Best is trial 34 with value: 0.7666666666666668.\n",
      "[I 2025-02-25 17:11:38,615] Trial 44 finished with value: 0.5555555555555556 and parameters: {'k': 40}. Best is trial 34 with value: 0.7666666666666668.\n",
      "[I 2025-02-25 17:11:38,626] Trial 45 finished with value: 0.6135802469135803 and parameters: {'k': 47}. Best is trial 34 with value: 0.7666666666666668.\n",
      "[I 2025-02-25 17:11:38,648] Trial 46 finished with value: 0.6395061728395062 and parameters: {'k': 4}. Best is trial 34 with value: 0.7666666666666668.\n",
      "[I 2025-02-25 17:11:38,663] Trial 47 finished with value: 0.7222222222222222 and parameters: {'k': 1}. Best is trial 34 with value: 0.7666666666666668.\n",
      "[I 2025-02-25 17:11:38,676] Trial 48 finished with value: 0.611111111111111 and parameters: {'k': 48}. Best is trial 34 with value: 0.7666666666666668.\n",
      "[I 2025-02-25 17:11:38,694] Trial 49 finished with value: 0.5987654320987654 and parameters: {'k': 45}. Best is trial 34 with value: 0.7666666666666668.\n",
      "[I 2025-02-25 17:11:38,717] A new study created in memory with name: no-name-27fae788-1c24-4998-9576-e05b97a3ec99\n",
      "[I 2025-02-25 17:11:38,723] Trial 0 finished with value: 0.5997596153846154 and parameters: {'k': 29}. Best is trial 0 with value: 0.5997596153846154.\n",
      "[I 2025-02-25 17:11:38,729] Trial 1 finished with value: 0.7019230769230769 and parameters: {'k': 12}. Best is trial 1 with value: 0.7019230769230769.\n",
      "[I 2025-02-25 17:11:38,734] Trial 2 finished with value: 0.6778846153846153 and parameters: {'k': 11}. Best is trial 1 with value: 0.7019230769230769.\n",
      "[I 2025-02-25 17:11:38,740] Trial 3 finished with value: 0.657451923076923 and parameters: {'k': 42}. Best is trial 1 with value: 0.7019230769230769.\n",
      "[I 2025-02-25 17:11:38,746] Trial 4 finished with value: 0.6971153846153846 and parameters: {'k': 3}. Best is trial 1 with value: 0.7019230769230769.\n",
      "[I 2025-02-25 17:11:38,753] Trial 5 finished with value: 0.5901442307692308 and parameters: {'k': 28}. Best is trial 1 with value: 0.7019230769230769.\n",
      "[I 2025-02-25 17:11:38,759] Trial 6 finished with value: 0.639423076923077 and parameters: {'k': 39}. Best is trial 1 with value: 0.7019230769230769.\n",
      "[I 2025-02-25 17:11:38,766] Trial 7 finished with value: 0.576923076923077 and parameters: {'k': 32}. Best is trial 1 with value: 0.7019230769230769.\n",
      "[I 2025-02-25 17:11:38,772] Trial 8 finished with value: 0.6346153846153846 and parameters: {'k': 23}. Best is trial 1 with value: 0.7019230769230769.\n",
      "[I 2025-02-25 17:11:38,779] Trial 9 finished with value: 0.6394230769230769 and parameters: {'k': 5}. Best is trial 1 with value: 0.7019230769230769.\n",
      "[I 2025-02-25 17:11:38,786] Trial 10 finished with value: 0.6502403846153846 and parameters: {'k': 34}. Best is trial 1 with value: 0.7019230769230769.\n",
      "[I 2025-02-25 17:11:38,793] Trial 11 finished with value: 0.6045673076923077 and parameters: {'k': 36}. Best is trial 1 with value: 0.7019230769230769.\n",
      "[I 2025-02-25 17:11:38,800] Trial 12 finished with value: 0.5673076923076923 and parameters: {'k': 27}. Best is trial 1 with value: 0.7019230769230769.\n",
      "[I 2025-02-25 17:11:38,808] Trial 13 finished with value: 0.6201923076923077 and parameters: {'k': 35}. Best is trial 1 with value: 0.7019230769230769.\n",
      "[I 2025-02-25 17:11:38,815] Trial 14 finished with value: 0.6274038461538461 and parameters: {'k': 19}. Best is trial 1 with value: 0.7019230769230769.\n",
      "[I 2025-02-25 17:11:38,822] Trial 15 finished with value: 0.6129807692307693 and parameters: {'k': 8}. Best is trial 1 with value: 0.7019230769230769.\n",
      "[I 2025-02-25 17:11:38,830] Trial 16 finished with value: 0.6466346153846154 and parameters: {'k': 15}. Best is trial 1 with value: 0.7019230769230769.\n",
      "[I 2025-02-25 17:11:38,838] Trial 17 finished with value: 0.670673076923077 and parameters: {'k': 46}. Best is trial 1 with value: 0.7019230769230769.\n",
      "[I 2025-02-25 17:11:38,846] Trial 18 finished with value: 0.6899038461538461 and parameters: {'k': 49}. Best is trial 1 with value: 0.7019230769230769.\n",
      "[I 2025-02-25 17:11:38,854] Trial 19 finished with value: 0.5829326923076923 and parameters: {'k': 30}. Best is trial 1 with value: 0.7019230769230769.\n",
      "[I 2025-02-25 17:11:38,862] Trial 20 finished with value: 0.641826923076923 and parameters: {'k': 16}. Best is trial 1 with value: 0.7019230769230769.\n",
      "[I 2025-02-25 17:11:38,871] Trial 21 finished with value: 0.5805288461538461 and parameters: {'k': 31}. Best is trial 1 with value: 0.7019230769230769.\n",
      "[I 2025-02-25 17:11:38,879] Trial 22 finished with value: 0.6189903846153845 and parameters: {'k': 33}. Best is trial 1 with value: 0.7019230769230769.\n",
      "[I 2025-02-25 17:11:38,887] Trial 23 finished with value: 0.6622596153846153 and parameters: {'k': 17}. Best is trial 1 with value: 0.7019230769230769.\n",
      "[I 2025-02-25 17:11:38,896] Trial 24 finished with value: 0.6394230769230769 and parameters: {'k': 43}. Best is trial 1 with value: 0.7019230769230769.\n",
      "[I 2025-02-25 17:11:38,905] Trial 25 finished with value: 0.6322115384615384 and parameters: {'k': 21}. Best is trial 1 with value: 0.7019230769230769.\n",
      "[I 2025-02-25 17:11:38,914] Trial 26 finished with value: 0.6310096153846154 and parameters: {'k': 44}. Best is trial 1 with value: 0.7019230769230769.\n",
      "[I 2025-02-25 17:11:38,923] Trial 27 finished with value: 0.6201923076923077 and parameters: {'k': 9}. Best is trial 1 with value: 0.7019230769230769.\n",
      "[I 2025-02-25 17:11:38,932] Trial 28 finished with value: 0.6706730769230769 and parameters: {'k': 14}. Best is trial 1 with value: 0.7019230769230769.\n",
      "[I 2025-02-25 17:11:38,942] Trial 29 finished with value: 0.5877403846153846 and parameters: {'k': 26}. Best is trial 1 with value: 0.7019230769230769.\n",
      "[I 2025-02-25 17:11:38,951] Trial 30 finished with value: 0.6213942307692308 and parameters: {'k': 6}. Best is trial 1 with value: 0.7019230769230769.\n",
      "[I 2025-02-25 17:11:38,961] Trial 31 finished with value: 0.6346153846153846 and parameters: {'k': 18}. Best is trial 1 with value: 0.7019230769230769.\n",
      "[I 2025-02-25 17:11:38,971] Trial 32 finished with value: 0.6538461538461539 and parameters: {'k': 41}. Best is trial 1 with value: 0.7019230769230769.\n",
      "[I 2025-02-25 17:11:38,981] Trial 33 finished with value: 0.6790865384615384 and parameters: {'k': 50}. Best is trial 1 with value: 0.7019230769230769.\n",
      "[I 2025-02-25 17:11:38,991] Trial 34 finished with value: 0.6875 and parameters: {'k': 2}. Best is trial 1 with value: 0.7019230769230769.\n",
      "[I 2025-02-25 17:11:39,002] Trial 35 finished with value: 0.6947115384615384 and parameters: {'k': 13}. Best is trial 1 with value: 0.7019230769230769.\n",
      "[I 2025-02-25 17:11:39,013] Trial 36 finished with value: 0.6334134615384616 and parameters: {'k': 38}. Best is trial 1 with value: 0.7019230769230769.\n",
      "[I 2025-02-25 17:11:39,024] Trial 37 finished with value: 0.5925480769230769 and parameters: {'k': 25}. Best is trial 1 with value: 0.7019230769230769.\n",
      "[I 2025-02-25 17:11:39,034] Trial 38 finished with value: 0.5516826923076923 and parameters: {'k': 7}. Best is trial 1 with value: 0.7019230769230769.\n",
      "[I 2025-02-25 17:11:39,045] Trial 39 finished with value: 0.6201923076923077 and parameters: {'k': 24}. Best is trial 1 with value: 0.7019230769230769.\n",
      "[I 2025-02-25 17:11:39,056] Trial 40 finished with value: 0.6237980769230769 and parameters: {'k': 37}. Best is trial 1 with value: 0.7019230769230769.\n",
      "[I 2025-02-25 17:11:39,067] Trial 41 finished with value: 0.625 and parameters: {'k': 22}. Best is trial 1 with value: 0.7019230769230769.\n",
      "[I 2025-02-25 17:11:39,078] Trial 42 finished with value: 0.6490384615384616 and parameters: {'k': 20}. Best is trial 1 with value: 0.7019230769230769.\n",
      "[I 2025-02-25 17:11:39,089] Trial 43 finished with value: 0.6562499999999999 and parameters: {'k': 10}. Best is trial 1 with value: 0.7019230769230769.\n",
      "[I 2025-02-25 17:11:39,100] Trial 44 finished with value: 0.6478365384615384 and parameters: {'k': 40}. Best is trial 1 with value: 0.7019230769230769.\n",
      "[I 2025-02-25 17:11:39,112] Trial 45 finished with value: 0.6802884615384616 and parameters: {'k': 47}. Best is trial 1 with value: 0.7019230769230769.\n",
      "[I 2025-02-25 17:11:39,123] Trial 46 finished with value: 0.6286057692307692 and parameters: {'k': 4}. Best is trial 1 with value: 0.7019230769230769.\n",
      "[I 2025-02-25 17:11:39,135] Trial 47 finished with value: 0.6466346153846154 and parameters: {'k': 1}. Best is trial 1 with value: 0.7019230769230769.\n",
      "[I 2025-02-25 17:11:39,154] Trial 48 finished with value: 0.671875 and parameters: {'k': 48}. Best is trial 1 with value: 0.7019230769230769.\n",
      "[I 2025-02-25 17:11:39,170] Trial 49 finished with value: 0.6490384615384615 and parameters: {'k': 45}. Best is trial 1 with value: 0.7019230769230769.\n",
      "[I 2025-02-25 17:11:39,179] A new study created in memory with name: no-name-d035c65a-f131-4aca-8df6-d97d9ed69c67\n",
      "[I 2025-02-25 17:11:39,185] Trial 0 finished with value: 0.6469135802469136 and parameters: {'k': 29}. Best is trial 0 with value: 0.6469135802469136.\n",
      "[I 2025-02-25 17:11:39,191] Trial 1 finished with value: 0.6765432098765433 and parameters: {'k': 12}. Best is trial 1 with value: 0.6765432098765433.\n",
      "[I 2025-02-25 17:11:39,196] Trial 2 finished with value: 0.6901234567901233 and parameters: {'k': 11}. Best is trial 2 with value: 0.6901234567901233.\n",
      "[I 2025-02-25 17:11:39,202] Trial 3 finished with value: 0.6950617283950618 and parameters: {'k': 42}. Best is trial 3 with value: 0.6950617283950618.\n",
      "[I 2025-02-25 17:11:39,208] Trial 4 finished with value: 0.6555555555555557 and parameters: {'k': 3}. Best is trial 3 with value: 0.6950617283950618.\n",
      "[I 2025-02-25 17:11:39,214] Trial 5 finished with value: 0.671604938271605 and parameters: {'k': 28}. Best is trial 3 with value: 0.6950617283950618.\n",
      "[I 2025-02-25 17:11:39,220] Trial 6 finished with value: 0.7098765432098766 and parameters: {'k': 39}. Best is trial 6 with value: 0.7098765432098766.\n",
      "[I 2025-02-25 17:11:39,227] Trial 7 finished with value: 0.6308641975308642 and parameters: {'k': 32}. Best is trial 6 with value: 0.7098765432098766.\n",
      "[I 2025-02-25 17:11:39,233] Trial 8 finished with value: 0.6432098765432099 and parameters: {'k': 23}. Best is trial 6 with value: 0.7098765432098766.\n",
      "[I 2025-02-25 17:11:39,239] Trial 9 finished with value: 0.6888888888888889 and parameters: {'k': 5}. Best is trial 6 with value: 0.7098765432098766.\n",
      "[I 2025-02-25 17:11:39,246] Trial 10 finished with value: 0.6790123456790123 and parameters: {'k': 34}. Best is trial 6 with value: 0.7098765432098766.\n",
      "[I 2025-02-25 17:11:39,253] Trial 11 finished with value: 0.6469135802469136 and parameters: {'k': 36}. Best is trial 6 with value: 0.7098765432098766.\n",
      "[I 2025-02-25 17:11:39,260] Trial 12 finished with value: 0.6654320987654322 and parameters: {'k': 27}. Best is trial 6 with value: 0.7098765432098766.\n",
      "[I 2025-02-25 17:11:39,267] Trial 13 finished with value: 0.6506172839506174 and parameters: {'k': 35}. Best is trial 6 with value: 0.7098765432098766.\n",
      "[I 2025-02-25 17:11:39,274] Trial 14 finished with value: 0.6172839506172839 and parameters: {'k': 19}. Best is trial 6 with value: 0.7098765432098766.\n",
      "[I 2025-02-25 17:11:39,282] Trial 15 finished with value: 0.7111111111111112 and parameters: {'k': 8}. Best is trial 15 with value: 0.7111111111111112.\n",
      "[I 2025-02-25 17:11:39,289] Trial 16 finished with value: 0.6308641975308642 and parameters: {'k': 15}. Best is trial 15 with value: 0.7111111111111112.\n",
      "[I 2025-02-25 17:11:39,297] Trial 17 finished with value: 0.7358024691358024 and parameters: {'k': 46}. Best is trial 17 with value: 0.7358024691358024.\n",
      "[I 2025-02-25 17:11:39,305] Trial 18 finished with value: 0.6925925925925926 and parameters: {'k': 49}. Best is trial 17 with value: 0.7358024691358024.\n",
      "[I 2025-02-25 17:11:39,318] Trial 19 finished with value: 0.6432098765432099 and parameters: {'k': 30}. Best is trial 17 with value: 0.7358024691358024.\n",
      "[I 2025-02-25 17:11:39,329] Trial 20 finished with value: 0.6049382716049384 and parameters: {'k': 16}. Best is trial 17 with value: 0.7358024691358024.\n",
      "[I 2025-02-25 17:11:39,340] Trial 21 finished with value: 0.6271604938271605 and parameters: {'k': 31}. Best is trial 17 with value: 0.7358024691358024.\n",
      "[I 2025-02-25 17:11:39,352] Trial 22 finished with value: 0.6160493827160495 and parameters: {'k': 33}. Best is trial 17 with value: 0.7358024691358024.\n",
      "[I 2025-02-25 17:11:39,361] Trial 23 finished with value: 0.6271604938271605 and parameters: {'k': 17}. Best is trial 17 with value: 0.7358024691358024.\n",
      "[I 2025-02-25 17:11:39,371] Trial 24 finished with value: 0.7135802469135802 and parameters: {'k': 43}. Best is trial 17 with value: 0.7358024691358024.\n",
      "[I 2025-02-25 17:11:39,380] Trial 25 finished with value: 0.6185185185185186 and parameters: {'k': 21}. Best is trial 17 with value: 0.7358024691358024.\n",
      "[I 2025-02-25 17:11:39,389] Trial 26 finished with value: 0.7185185185185186 and parameters: {'k': 44}. Best is trial 17 with value: 0.7358024691358024.\n",
      "[I 2025-02-25 17:11:39,399] Trial 27 finished with value: 0.7209876543209877 and parameters: {'k': 9}. Best is trial 17 with value: 0.7358024691358024.\n",
      "[I 2025-02-25 17:11:39,408] Trial 28 finished with value: 0.6580246913580247 and parameters: {'k': 14}. Best is trial 17 with value: 0.7358024691358024.\n",
      "[I 2025-02-25 17:11:39,418] Trial 29 finished with value: 0.6604938271604939 and parameters: {'k': 26}. Best is trial 17 with value: 0.7358024691358024.\n",
      "[I 2025-02-25 17:11:39,428] Trial 30 finished with value: 0.7604938271604939 and parameters: {'k': 6}. Best is trial 30 with value: 0.7604938271604939.\n",
      "[I 2025-02-25 17:11:39,439] Trial 31 finished with value: 0.6320987654320988 and parameters: {'k': 18}. Best is trial 30 with value: 0.7604938271604939.\n",
      "[I 2025-02-25 17:11:39,449] Trial 32 finished with value: 0.7123456790123457 and parameters: {'k': 41}. Best is trial 30 with value: 0.7604938271604939.\n",
      "[I 2025-02-25 17:11:39,460] Trial 33 finished with value: 0.6864197530864198 and parameters: {'k': 50}. Best is trial 30 with value: 0.7604938271604939.\n",
      "[I 2025-02-25 17:11:39,470] Trial 34 finished with value: 0.5888888888888889 and parameters: {'k': 2}. Best is trial 30 with value: 0.7604938271604939.\n",
      "[I 2025-02-25 17:11:39,480] Trial 35 finished with value: 0.6555555555555556 and parameters: {'k': 13}. Best is trial 30 with value: 0.7604938271604939.\n",
      "[I 2025-02-25 17:11:39,491] Trial 36 finished with value: 0.6518518518518519 and parameters: {'k': 38}. Best is trial 30 with value: 0.7604938271604939.\n",
      "[I 2025-02-25 17:11:39,502] Trial 37 finished with value: 0.6580246913580248 and parameters: {'k': 25}. Best is trial 30 with value: 0.7604938271604939.\n",
      "[I 2025-02-25 17:11:39,513] Trial 38 finished with value: 0.7333333333333334 and parameters: {'k': 7}. Best is trial 30 with value: 0.7604938271604939.\n",
      "[I 2025-02-25 17:11:39,525] Trial 39 finished with value: 0.6296296296296297 and parameters: {'k': 24}. Best is trial 30 with value: 0.7604938271604939.\n",
      "[I 2025-02-25 17:11:39,536] Trial 40 finished with value: 0.6345679012345679 and parameters: {'k': 37}. Best is trial 30 with value: 0.7604938271604939.\n",
      "[I 2025-02-25 17:11:39,548] Trial 41 finished with value: 0.6469135802469137 and parameters: {'k': 22}. Best is trial 30 with value: 0.7604938271604939.\n",
      "[I 2025-02-25 17:11:39,559] Trial 42 finished with value: 0.6481481481481481 and parameters: {'k': 20}. Best is trial 30 with value: 0.7604938271604939.\n",
      "[I 2025-02-25 17:11:39,570] Trial 43 finished with value: 0.7111111111111111 and parameters: {'k': 10}. Best is trial 30 with value: 0.7604938271604939.\n",
      "[I 2025-02-25 17:11:39,582] Trial 44 finished with value: 0.7123456790123457 and parameters: {'k': 40}. Best is trial 30 with value: 0.7604938271604939.\n",
      "[I 2025-02-25 17:11:39,594] Trial 45 finished with value: 0.7209876543209877 and parameters: {'k': 47}. Best is trial 30 with value: 0.7604938271604939.\n",
      "[I 2025-02-25 17:11:39,607] Trial 46 finished with value: 0.7086419753086419 and parameters: {'k': 4}. Best is trial 30 with value: 0.7604938271604939.\n",
      "[I 2025-02-25 17:11:39,619] Trial 47 finished with value: 0.5851851851851851 and parameters: {'k': 1}. Best is trial 30 with value: 0.7604938271604939.\n",
      "[I 2025-02-25 17:11:39,631] Trial 48 finished with value: 0.7148148148148148 and parameters: {'k': 48}. Best is trial 30 with value: 0.7604938271604939.\n",
      "[I 2025-02-25 17:11:39,643] Trial 49 finished with value: 0.7283950617283951 and parameters: {'k': 45}. Best is trial 30 with value: 0.7604938271604939.\n",
      "[I 2025-02-25 17:11:39,655] A new study created in memory with name: no-name-f07e7b8f-cbee-4281-9ad1-9cb592cdc5a2\n",
      "[I 2025-02-25 17:11:39,660] Trial 0 finished with value: 0.4771634615384615 and parameters: {'k': 29}. Best is trial 0 with value: 0.4771634615384615.\n",
      "[I 2025-02-25 17:11:39,664] Trial 1 finished with value: 0.39663461538461536 and parameters: {'k': 12}. Best is trial 0 with value: 0.4771634615384615.\n",
      "[I 2025-02-25 17:11:39,668] Trial 2 finished with value: 0.3762019230769231 and parameters: {'k': 11}. Best is trial 0 with value: 0.4771634615384615.\n",
      "[I 2025-02-25 17:11:39,672] Trial 3 finished with value: 0.5564903846153847 and parameters: {'k': 42}. Best is trial 3 with value: 0.5564903846153847.\n",
      "[I 2025-02-25 17:11:39,676] Trial 4 finished with value: 0.44471153846153844 and parameters: {'k': 3}. Best is trial 3 with value: 0.5564903846153847.\n",
      "[I 2025-02-25 17:11:39,681] Trial 5 finished with value: 0.4807692307692307 and parameters: {'k': 28}. Best is trial 3 with value: 0.5564903846153847.\n",
      "[I 2025-02-25 17:11:39,685] Trial 6 finished with value: 0.5096153846153846 and parameters: {'k': 39}. Best is trial 3 with value: 0.5564903846153847.\n",
      "[I 2025-02-25 17:11:39,690] Trial 7 finished with value: 0.5564903846153846 and parameters: {'k': 32}. Best is trial 3 with value: 0.5564903846153847.\n",
      "[I 2025-02-25 17:11:39,695] Trial 8 finished with value: 0.4254807692307692 and parameters: {'k': 23}. Best is trial 3 with value: 0.5564903846153847.\n",
      "[I 2025-02-25 17:11:39,700] Trial 9 finished with value: 0.40865384615384615 and parameters: {'k': 5}. Best is trial 3 with value: 0.5564903846153847.\n",
      "[I 2025-02-25 17:11:39,705] Trial 10 finished with value: 0.5540865384615384 and parameters: {'k': 34}. Best is trial 3 with value: 0.5564903846153847.\n",
      "[I 2025-02-25 17:11:39,710] Trial 11 finished with value: 0.5540865384615384 and parameters: {'k': 36}. Best is trial 3 with value: 0.5564903846153847.\n",
      "[I 2025-02-25 17:11:39,715] Trial 12 finished with value: 0.5432692307692307 and parameters: {'k': 27}. Best is trial 3 with value: 0.5564903846153847.\n",
      "[I 2025-02-25 17:11:39,721] Trial 13 finished with value: 0.561298076923077 and parameters: {'k': 35}. Best is trial 13 with value: 0.561298076923077.\n",
      "[I 2025-02-25 17:11:39,726] Trial 14 finished with value: 0.49639423076923084 and parameters: {'k': 19}. Best is trial 13 with value: 0.561298076923077.\n",
      "[I 2025-02-25 17:11:39,732] Trial 15 finished with value: 0.37259615384615385 and parameters: {'k': 8}. Best is trial 13 with value: 0.561298076923077.\n",
      "[I 2025-02-25 17:11:39,738] Trial 16 finished with value: 0.4735576923076923 and parameters: {'k': 15}. Best is trial 13 with value: 0.561298076923077.\n",
      "[I 2025-02-25 17:11:39,744] Trial 17 finished with value: 0.5204326923076923 and parameters: {'k': 46}. Best is trial 13 with value: 0.561298076923077.\n",
      "[I 2025-02-25 17:11:39,750] Trial 18 finished with value: 0.5204326923076924 and parameters: {'k': 49}. Best is trial 13 with value: 0.561298076923077.\n",
      "[I 2025-02-25 17:11:39,756] Trial 19 finished with value: 0.5084134615384616 and parameters: {'k': 30}. Best is trial 13 with value: 0.561298076923077.\n",
      "[I 2025-02-25 17:11:39,763] Trial 20 finished with value: 0.46274038461538464 and parameters: {'k': 16}. Best is trial 13 with value: 0.561298076923077.\n",
      "[I 2025-02-25 17:11:39,769] Trial 21 finished with value: 0.53125 and parameters: {'k': 31}. Best is trial 13 with value: 0.561298076923077.\n",
      "[I 2025-02-25 17:11:39,776] Trial 22 finished with value: 0.5492788461538461 and parameters: {'k': 33}. Best is trial 13 with value: 0.561298076923077.\n",
      "[I 2025-02-25 17:11:39,784] Trial 23 finished with value: 0.4807692307692307 and parameters: {'k': 17}. Best is trial 13 with value: 0.561298076923077.\n",
      "[I 2025-02-25 17:11:39,791] Trial 24 finished with value: 0.5396634615384616 and parameters: {'k': 43}. Best is trial 13 with value: 0.561298076923077.\n",
      "[I 2025-02-25 17:11:39,798] Trial 25 finished with value: 0.4387019230769231 and parameters: {'k': 21}. Best is trial 13 with value: 0.561298076923077.\n",
      "[I 2025-02-25 17:11:39,805] Trial 26 finished with value: 0.5432692307692307 and parameters: {'k': 44}. Best is trial 13 with value: 0.561298076923077.\n",
      "[I 2025-02-25 17:11:39,812] Trial 27 finished with value: 0.38341346153846156 and parameters: {'k': 9}. Best is trial 13 with value: 0.561298076923077.\n",
      "[I 2025-02-25 17:11:39,820] Trial 28 finished with value: 0.44230769230769235 and parameters: {'k': 14}. Best is trial 13 with value: 0.561298076923077.\n",
      "[I 2025-02-25 17:11:39,827] Trial 29 finished with value: 0.5336538461538461 and parameters: {'k': 26}. Best is trial 13 with value: 0.561298076923077.\n",
      "[I 2025-02-25 17:11:39,835] Trial 30 finished with value: 0.4098557692307693 and parameters: {'k': 6}. Best is trial 13 with value: 0.561298076923077.\n",
      "[I 2025-02-25 17:11:39,842] Trial 31 finished with value: 0.4963942307692308 and parameters: {'k': 18}. Best is trial 13 with value: 0.561298076923077.\n",
      "[I 2025-02-25 17:11:39,850] Trial 32 finished with value: 0.5084134615384616 and parameters: {'k': 41}. Best is trial 13 with value: 0.561298076923077.\n",
      "[I 2025-02-25 17:11:39,859] Trial 33 finished with value: 0.5336538461538461 and parameters: {'k': 50}. Best is trial 13 with value: 0.561298076923077.\n",
      "[I 2025-02-25 17:11:39,866] Trial 34 finished with value: 0.4639423076923077 and parameters: {'k': 2}. Best is trial 13 with value: 0.561298076923077.\n",
      "[I 2025-02-25 17:11:39,875] Trial 35 finished with value: 0.4278846153846153 and parameters: {'k': 13}. Best is trial 13 with value: 0.561298076923077.\n",
      "[I 2025-02-25 17:11:39,883] Trial 36 finished with value: 0.5216346153846153 and parameters: {'k': 38}. Best is trial 13 with value: 0.561298076923077.\n",
      "[I 2025-02-25 17:11:39,892] Trial 37 finished with value: 0.46754807692307687 and parameters: {'k': 25}. Best is trial 13 with value: 0.561298076923077.\n",
      "[I 2025-02-25 17:11:39,901] Trial 38 finished with value: 0.36177884615384615 and parameters: {'k': 7}. Best is trial 13 with value: 0.561298076923077.\n",
      "[I 2025-02-25 17:11:39,910] Trial 39 finished with value: 0.420673076923077 and parameters: {'k': 24}. Best is trial 13 with value: 0.561298076923077.\n",
      "[I 2025-02-25 17:11:39,919] Trial 40 finished with value: 0.5168269230769231 and parameters: {'k': 37}. Best is trial 13 with value: 0.561298076923077.\n",
      "[I 2025-02-25 17:11:39,928] Trial 41 finished with value: 0.4627403846153846 and parameters: {'k': 22}. Best is trial 13 with value: 0.561298076923077.\n",
      "[I 2025-02-25 17:11:39,938] Trial 42 finished with value: 0.4495192307692308 and parameters: {'k': 20}. Best is trial 13 with value: 0.561298076923077.\n",
      "[I 2025-02-25 17:11:39,947] Trial 43 finished with value: 0.3870192307692307 and parameters: {'k': 10}. Best is trial 13 with value: 0.561298076923077.\n",
      "[I 2025-02-25 17:11:39,957] Trial 44 finished with value: 0.5228365384615384 and parameters: {'k': 40}. Best is trial 13 with value: 0.561298076923077.\n",
      "[I 2025-02-25 17:11:39,967] Trial 45 finished with value: 0.5348557692307692 and parameters: {'k': 47}. Best is trial 13 with value: 0.561298076923077.\n",
      "[I 2025-02-25 17:11:39,976] Trial 46 finished with value: 0.44591346153846156 and parameters: {'k': 4}. Best is trial 13 with value: 0.561298076923077.\n",
      "[I 2025-02-25 17:11:39,986] Trial 47 finished with value: 0.5048076923076923 and parameters: {'k': 1}. Best is trial 13 with value: 0.561298076923077.\n",
      "[I 2025-02-25 17:11:39,996] Trial 48 finished with value: 0.5132211538461539 and parameters: {'k': 48}. Best is trial 13 with value: 0.561298076923077.\n",
      "[I 2025-02-25 17:11:40,006] Trial 49 finished with value: 0.5252403846153846 and parameters: {'k': 45}. Best is trial 13 with value: 0.561298076923077.\n",
      "[I 2025-02-25 17:11:40,013] A new study created in memory with name: no-name-467a03cd-2590-4131-b662-d780d5077367\n",
      "[I 2025-02-25 17:11:40,017] Trial 0 finished with value: 0.5527777777777777 and parameters: {'k': 29}. Best is trial 0 with value: 0.5527777777777777.\n",
      "[I 2025-02-25 17:11:40,021] Trial 1 finished with value: 0.5430555555555555 and parameters: {'k': 12}. Best is trial 0 with value: 0.5527777777777777.\n",
      "[I 2025-02-25 17:11:40,024] Trial 2 finished with value: 0.5305555555555556 and parameters: {'k': 11}. Best is trial 0 with value: 0.5527777777777777.\n",
      "[I 2025-02-25 17:11:40,029] Trial 3 finished with value: 0.6444444444444445 and parameters: {'k': 42}. Best is trial 3 with value: 0.6444444444444445.\n",
      "[I 2025-02-25 17:11:40,033] Trial 4 finished with value: 0.5152777777777777 and parameters: {'k': 3}. Best is trial 3 with value: 0.6444444444444445.\n",
      "[I 2025-02-25 17:11:40,037] Trial 5 finished with value: 0.5652777777777778 and parameters: {'k': 28}. Best is trial 3 with value: 0.6444444444444445.\n",
      "[I 2025-02-25 17:11:40,042] Trial 6 finished with value: 0.6097222222222223 and parameters: {'k': 39}. Best is trial 3 with value: 0.6444444444444445.\n",
      "[I 2025-02-25 17:11:40,047] Trial 7 finished with value: 0.5680555555555555 and parameters: {'k': 32}. Best is trial 3 with value: 0.6444444444444445.\n",
      "[I 2025-02-25 17:11:40,052] Trial 8 finished with value: 0.513888888888889 and parameters: {'k': 23}. Best is trial 3 with value: 0.6444444444444445.\n",
      "[I 2025-02-25 17:11:40,056] Trial 9 finished with value: 0.4902777777777778 and parameters: {'k': 5}. Best is trial 3 with value: 0.6444444444444445.\n",
      "[I 2025-02-25 17:11:40,061] Trial 10 finished with value: 0.5791666666666667 and parameters: {'k': 34}. Best is trial 3 with value: 0.6444444444444445.\n",
      "[I 2025-02-25 17:11:40,067] Trial 11 finished with value: 0.6 and parameters: {'k': 36}. Best is trial 3 with value: 0.6444444444444445.\n",
      "[I 2025-02-25 17:11:40,072] Trial 12 finished with value: 0.5166666666666667 and parameters: {'k': 27}. Best is trial 3 with value: 0.6444444444444445.\n",
      "[I 2025-02-25 17:11:40,080] Trial 13 finished with value: 0.5736111111111112 and parameters: {'k': 35}. Best is trial 3 with value: 0.6444444444444445.\n",
      "[I 2025-02-25 17:11:40,087] Trial 14 finished with value: 0.4986111111111111 and parameters: {'k': 19}. Best is trial 3 with value: 0.6444444444444445.\n",
      "[I 2025-02-25 17:11:40,092] Trial 15 finished with value: 0.5625 and parameters: {'k': 8}. Best is trial 3 with value: 0.6444444444444445.\n",
      "[I 2025-02-25 17:11:40,098] Trial 16 finished with value: 0.5513888888888889 and parameters: {'k': 15}. Best is trial 3 with value: 0.6444444444444445.\n",
      "[I 2025-02-25 17:11:40,104] Trial 17 finished with value: 0.6444444444444444 and parameters: {'k': 46}. Best is trial 3 with value: 0.6444444444444445.\n",
      "[I 2025-02-25 17:11:40,110] Trial 18 finished with value: 0.6069444444444445 and parameters: {'k': 49}. Best is trial 3 with value: 0.6444444444444445.\n",
      "[I 2025-02-25 17:11:40,117] Trial 19 finished with value: 0.5444444444444444 and parameters: {'k': 30}. Best is trial 3 with value: 0.6444444444444445.\n",
      "[I 2025-02-25 17:11:40,124] Trial 20 finished with value: 0.5319444444444446 and parameters: {'k': 16}. Best is trial 3 with value: 0.6444444444444445.\n",
      "[I 2025-02-25 17:11:40,132] Trial 21 finished with value: 0.5833333333333334 and parameters: {'k': 31}. Best is trial 3 with value: 0.6444444444444445.\n",
      "[I 2025-02-25 17:11:40,139] Trial 22 finished with value: 0.5750000000000001 and parameters: {'k': 33}. Best is trial 3 with value: 0.6444444444444445.\n",
      "[I 2025-02-25 17:11:40,146] Trial 23 finished with value: 0.4944444444444444 and parameters: {'k': 17}. Best is trial 3 with value: 0.6444444444444445.\n",
      "[I 2025-02-25 17:11:40,153] Trial 24 finished with value: 0.6513888888888889 and parameters: {'k': 43}. Best is trial 24 with value: 0.6513888888888889.\n",
      "[I 2025-02-25 17:11:40,160] Trial 25 finished with value: 0.5055555555555555 and parameters: {'k': 21}. Best is trial 24 with value: 0.6513888888888889.\n",
      "[I 2025-02-25 17:11:40,167] Trial 26 finished with value: 0.6569444444444444 and parameters: {'k': 44}. Best is trial 26 with value: 0.6569444444444444.\n",
      "[I 2025-02-25 17:11:40,174] Trial 27 finished with value: 0.5430555555555556 and parameters: {'k': 9}. Best is trial 26 with value: 0.6569444444444444.\n",
      "[I 2025-02-25 17:11:40,183] Trial 28 finished with value: 0.5458333333333334 and parameters: {'k': 14}. Best is trial 26 with value: 0.6569444444444444.\n",
      "[I 2025-02-25 17:11:40,191] Trial 29 finished with value: 0.5347222222222222 and parameters: {'k': 26}. Best is trial 26 with value: 0.6569444444444444.\n",
      "[I 2025-02-25 17:11:40,199] Trial 30 finished with value: 0.4722222222222222 and parameters: {'k': 6}. Best is trial 26 with value: 0.6569444444444444.\n",
      "[I 2025-02-25 17:11:40,211] Trial 31 finished with value: 0.5027777777777778 and parameters: {'k': 18}. Best is trial 26 with value: 0.6569444444444444.\n",
      "[I 2025-02-25 17:11:40,222] Trial 32 finished with value: 0.6375000000000001 and parameters: {'k': 41}. Best is trial 26 with value: 0.6569444444444444.\n",
      "[I 2025-02-25 17:11:40,233] Trial 33 finished with value: 0.5708333333333334 and parameters: {'k': 50}. Best is trial 26 with value: 0.6569444444444444.\n",
      "[I 2025-02-25 17:11:40,245] Trial 34 finished with value: 0.5194444444444444 and parameters: {'k': 2}. Best is trial 26 with value: 0.6569444444444444.\n",
      "[I 2025-02-25 17:11:40,257] Trial 35 finished with value: 0.5194444444444445 and parameters: {'k': 13}. Best is trial 26 with value: 0.6569444444444444.\n",
      "[I 2025-02-25 17:11:40,268] Trial 36 finished with value: 0.6041666666666666 and parameters: {'k': 38}. Best is trial 26 with value: 0.6569444444444444.\n",
      "[I 2025-02-25 17:11:40,279] Trial 37 finished with value: 0.5236111111111111 and parameters: {'k': 25}. Best is trial 26 with value: 0.6569444444444444.\n",
      "[I 2025-02-25 17:11:40,289] Trial 38 finished with value: 0.5277777777777778 and parameters: {'k': 7}. Best is trial 26 with value: 0.6569444444444444.\n",
      "[I 2025-02-25 17:11:40,302] Trial 39 finished with value: 0.5041666666666667 and parameters: {'k': 24}. Best is trial 26 with value: 0.6569444444444444.\n",
      "[I 2025-02-25 17:11:40,315] Trial 40 finished with value: 0.6083333333333334 and parameters: {'k': 37}. Best is trial 26 with value: 0.6569444444444444.\n",
      "[I 2025-02-25 17:11:40,325] Trial 41 finished with value: 0.475 and parameters: {'k': 22}. Best is trial 26 with value: 0.6569444444444444.\n",
      "[I 2025-02-25 17:11:40,335] Trial 42 finished with value: 0.5166666666666666 and parameters: {'k': 20}. Best is trial 26 with value: 0.6569444444444444.\n",
      "[I 2025-02-25 17:11:40,345] Trial 43 finished with value: 0.5319444444444444 and parameters: {'k': 10}. Best is trial 26 with value: 0.6569444444444444.\n",
      "[I 2025-02-25 17:11:40,355] Trial 44 finished with value: 0.6083333333333333 and parameters: {'k': 40}. Best is trial 26 with value: 0.6569444444444444.\n",
      "[I 2025-02-25 17:11:40,366] Trial 45 finished with value: 0.6319444444444445 and parameters: {'k': 47}. Best is trial 26 with value: 0.6569444444444444.\n",
      "[I 2025-02-25 17:11:40,376] Trial 46 finished with value: 0.4805555555555556 and parameters: {'k': 4}. Best is trial 26 with value: 0.6569444444444444.\n",
      "[I 2025-02-25 17:11:40,387] Trial 47 finished with value: 0.5833333333333334 and parameters: {'k': 1}. Best is trial 26 with value: 0.6569444444444444.\n",
      "[I 2025-02-25 17:11:40,398] Trial 48 finished with value: 0.6333333333333334 and parameters: {'k': 48}. Best is trial 26 with value: 0.6569444444444444.\n",
      "[I 2025-02-25 17:11:40,409] Trial 49 finished with value: 0.6555555555555556 and parameters: {'k': 45}. Best is trial 26 with value: 0.6569444444444444.\n",
      "[I 2025-02-25 17:11:40,414] A new study created in memory with name: no-name-93265cc5-448d-44db-989b-ea5d45256f60\n",
      "[I 2025-02-25 17:11:40,418] Trial 0 finished with value: 0.4160493827160494 and parameters: {'k': 29}. Best is trial 0 with value: 0.4160493827160494.\n",
      "[I 2025-02-25 17:11:40,422] Trial 1 finished with value: 0.43333333333333335 and parameters: {'k': 12}. Best is trial 1 with value: 0.43333333333333335.\n",
      "[I 2025-02-25 17:11:40,426] Trial 2 finished with value: 0.4530864197530864 and parameters: {'k': 11}. Best is trial 2 with value: 0.4530864197530864.\n",
      "[I 2025-02-25 17:11:40,430] Trial 3 finished with value: 0.44074074074074077 and parameters: {'k': 42}. Best is trial 2 with value: 0.4530864197530864.\n",
      "[I 2025-02-25 17:11:40,434] Trial 4 finished with value: 0.48024691358024696 and parameters: {'k': 3}. Best is trial 4 with value: 0.48024691358024696.\n",
      "[I 2025-02-25 17:11:40,439] Trial 5 finished with value: 0.41604938271604935 and parameters: {'k': 28}. Best is trial 4 with value: 0.48024691358024696.\n",
      "[I 2025-02-25 17:11:40,443] Trial 6 finished with value: 0.40370370370370373 and parameters: {'k': 39}. Best is trial 4 with value: 0.48024691358024696.\n",
      "[I 2025-02-25 17:11:40,448] Trial 7 finished with value: 0.41851851851851857 and parameters: {'k': 32}. Best is trial 4 with value: 0.48024691358024696.\n",
      "[I 2025-02-25 17:11:40,452] Trial 8 finished with value: 0.3864197530864198 and parameters: {'k': 23}. Best is trial 4 with value: 0.48024691358024696.\n",
      "[I 2025-02-25 17:11:40,457] Trial 9 finished with value: 0.4851851851851852 and parameters: {'k': 5}. Best is trial 9 with value: 0.4851851851851852.\n",
      "[I 2025-02-25 17:11:40,462] Trial 10 finished with value: 0.4222222222222222 and parameters: {'k': 34}. Best is trial 9 with value: 0.4851851851851852.\n",
      "[I 2025-02-25 17:11:40,467] Trial 11 finished with value: 0.4012345679012346 and parameters: {'k': 36}. Best is trial 9 with value: 0.4851851851851852.\n",
      "[I 2025-02-25 17:11:40,473] Trial 12 finished with value: 0.3962962962962963 and parameters: {'k': 27}. Best is trial 9 with value: 0.4851851851851852.\n",
      "[I 2025-02-25 17:11:40,478] Trial 13 finished with value: 0.4037037037037037 and parameters: {'k': 35}. Best is trial 9 with value: 0.4851851851851852.\n",
      "[I 2025-02-25 17:11:40,483] Trial 14 finished with value: 0.37777777777777777 and parameters: {'k': 19}. Best is trial 9 with value: 0.4851851851851852.\n",
      "[I 2025-02-25 17:11:40,489] Trial 15 finished with value: 0.4975308641975309 and parameters: {'k': 8}. Best is trial 15 with value: 0.4975308641975309.\n",
      "[I 2025-02-25 17:11:40,495] Trial 16 finished with value: 0.4061728395061729 and parameters: {'k': 15}. Best is trial 15 with value: 0.4975308641975309.\n",
      "[I 2025-02-25 17:11:40,501] Trial 17 finished with value: 0.4308641975308642 and parameters: {'k': 46}. Best is trial 15 with value: 0.4975308641975309.\n",
      "[I 2025-02-25 17:11:40,507] Trial 18 finished with value: 0.4395061728395062 and parameters: {'k': 49}. Best is trial 15 with value: 0.4975308641975309.\n",
      "[I 2025-02-25 17:11:40,513] Trial 19 finished with value: 0.4123456790123457 and parameters: {'k': 30}. Best is trial 15 with value: 0.4975308641975309.\n",
      "[I 2025-02-25 17:11:40,519] Trial 20 finished with value: 0.4012345679012346 and parameters: {'k': 16}. Best is trial 15 with value: 0.4975308641975309.\n",
      "[I 2025-02-25 17:11:40,526] Trial 21 finished with value: 0.43209876543209874 and parameters: {'k': 31}. Best is trial 15 with value: 0.4975308641975309.\n",
      "[I 2025-02-25 17:11:40,532] Trial 22 finished with value: 0.4246913580246914 and parameters: {'k': 33}. Best is trial 15 with value: 0.4975308641975309.\n",
      "[I 2025-02-25 17:11:40,539] Trial 23 finished with value: 0.4160493827160494 and parameters: {'k': 17}. Best is trial 15 with value: 0.4975308641975309.\n",
      "[I 2025-02-25 17:11:40,546] Trial 24 finished with value: 0.434567901234568 and parameters: {'k': 43}. Best is trial 15 with value: 0.4975308641975309.\n",
      "[I 2025-02-25 17:11:40,553] Trial 25 finished with value: 0.3691358024691359 and parameters: {'k': 21}. Best is trial 15 with value: 0.4975308641975309.\n",
      "[I 2025-02-25 17:11:40,560] Trial 26 finished with value: 0.44938271604938274 and parameters: {'k': 44}. Best is trial 15 with value: 0.4975308641975309.\n",
      "[I 2025-02-25 17:11:40,567] Trial 27 finished with value: 0.4864197530864197 and parameters: {'k': 9}. Best is trial 15 with value: 0.4975308641975309.\n",
      "[I 2025-02-25 17:11:40,576] Trial 28 finished with value: 0.4222222222222222 and parameters: {'k': 14}. Best is trial 15 with value: 0.4975308641975309.\n",
      "[I 2025-02-25 17:11:40,587] Trial 29 finished with value: 0.3925925925925926 and parameters: {'k': 26}. Best is trial 15 with value: 0.4975308641975309.\n",
      "[I 2025-02-25 17:11:40,594] Trial 30 finished with value: 0.4962962962962963 and parameters: {'k': 6}. Best is trial 15 with value: 0.4975308641975309.\n",
      "[I 2025-02-25 17:11:40,602] Trial 31 finished with value: 0.408641975308642 and parameters: {'k': 18}. Best is trial 15 with value: 0.4975308641975309.\n",
      "[I 2025-02-25 17:11:40,610] Trial 32 finished with value: 0.42839506172839514 and parameters: {'k': 41}. Best is trial 15 with value: 0.4975308641975309.\n",
      "[I 2025-02-25 17:11:40,618] Trial 33 finished with value: 0.42469135802469143 and parameters: {'k': 50}. Best is trial 15 with value: 0.4975308641975309.\n",
      "[I 2025-02-25 17:11:40,626] Trial 34 finished with value: 0.43086419753086425 and parameters: {'k': 2}. Best is trial 15 with value: 0.4975308641975309.\n",
      "[I 2025-02-25 17:11:40,634] Trial 35 finished with value: 0.4345679012345679 and parameters: {'k': 13}. Best is trial 15 with value: 0.4975308641975309.\n",
      "[I 2025-02-25 17:11:40,642] Trial 36 finished with value: 0.3864197530864198 and parameters: {'k': 38}. Best is trial 15 with value: 0.4975308641975309.\n",
      "[I 2025-02-25 17:11:40,651] Trial 37 finished with value: 0.3753086419753087 and parameters: {'k': 25}. Best is trial 15 with value: 0.4975308641975309.\n",
      "[I 2025-02-25 17:11:40,659] Trial 38 finished with value: 0.4950617283950618 and parameters: {'k': 7}. Best is trial 15 with value: 0.4975308641975309.\n",
      "[I 2025-02-25 17:11:40,668] Trial 39 finished with value: 0.3987654320987654 and parameters: {'k': 24}. Best is trial 15 with value: 0.4975308641975309.\n",
      "[I 2025-02-25 17:11:40,677] Trial 40 finished with value: 0.3938271604938272 and parameters: {'k': 37}. Best is trial 15 with value: 0.4975308641975309.\n",
      "[I 2025-02-25 17:11:40,686] Trial 41 finished with value: 0.3925925925925926 and parameters: {'k': 22}. Best is trial 15 with value: 0.4975308641975309.\n",
      "[I 2025-02-25 17:11:40,695] Trial 42 finished with value: 0.3641975308641977 and parameters: {'k': 20}. Best is trial 15 with value: 0.4975308641975309.\n",
      "[I 2025-02-25 17:11:40,704] Trial 43 finished with value: 0.48395061728395067 and parameters: {'k': 10}. Best is trial 15 with value: 0.4975308641975309.\n",
      "[I 2025-02-25 17:11:40,713] Trial 44 finished with value: 0.4098765432098766 and parameters: {'k': 40}. Best is trial 15 with value: 0.4975308641975309.\n",
      "[I 2025-02-25 17:11:40,723] Trial 45 finished with value: 0.4246913580246913 and parameters: {'k': 47}. Best is trial 15 with value: 0.4975308641975309.\n",
      "[I 2025-02-25 17:11:40,732] Trial 46 finished with value: 0.4790123456790124 and parameters: {'k': 4}. Best is trial 15 with value: 0.4975308641975309.\n",
      "[I 2025-02-25 17:11:40,742] Trial 47 finished with value: 0.48148148148148145 and parameters: {'k': 1}. Best is trial 15 with value: 0.4975308641975309.\n",
      "[I 2025-02-25 17:11:40,752] Trial 48 finished with value: 0.4209876543209877 and parameters: {'k': 48}. Best is trial 15 with value: 0.4975308641975309.\n",
      "[I 2025-02-25 17:11:40,762] Trial 49 finished with value: 0.44814814814814824 and parameters: {'k': 45}. Best is trial 15 with value: 0.4975308641975309.\n",
      "[I 2025-02-25 17:11:40,766] A new study created in memory with name: no-name-18a903c9-d461-4985-bb47-f86bbc2d0ade\n",
      "[I 2025-02-25 17:11:40,770] Trial 0 finished with value: 0.43990384615384615 and parameters: {'k': 29}. Best is trial 0 with value: 0.43990384615384615.\n",
      "[I 2025-02-25 17:11:40,773] Trial 1 finished with value: 0.41947115384615385 and parameters: {'k': 12}. Best is trial 0 with value: 0.43990384615384615.\n",
      "[I 2025-02-25 17:11:40,777] Trial 2 finished with value: 0.45072115384615385 and parameters: {'k': 11}. Best is trial 2 with value: 0.45072115384615385.\n",
      "[I 2025-02-25 17:11:40,781] Trial 3 finished with value: 0.46634615384615385 and parameters: {'k': 42}. Best is trial 3 with value: 0.46634615384615385.\n",
      "[I 2025-02-25 17:11:40,785] Trial 4 finished with value: 0.5096153846153846 and parameters: {'k': 3}. Best is trial 4 with value: 0.5096153846153846.\n",
      "[I 2025-02-25 17:11:40,789] Trial 5 finished with value: 0.44350961538461536 and parameters: {'k': 28}. Best is trial 4 with value: 0.5096153846153846.\n",
      "[I 2025-02-25 17:11:40,794] Trial 6 finished with value: 0.4603365384615385 and parameters: {'k': 39}. Best is trial 4 with value: 0.5096153846153846.\n",
      "[I 2025-02-25 17:11:40,798] Trial 7 finished with value: 0.41947115384615385 and parameters: {'k': 32}. Best is trial 4 with value: 0.5096153846153846.\n",
      "[I 2025-02-25 17:11:40,803] Trial 8 finished with value: 0.44591346153846156 and parameters: {'k': 23}. Best is trial 4 with value: 0.5096153846153846.\n",
      "[I 2025-02-25 17:11:40,807] Trial 9 finished with value: 0.5408653846153846 and parameters: {'k': 5}. Best is trial 9 with value: 0.5408653846153846.\n",
      "[I 2025-02-25 17:11:40,812] Trial 10 finished with value: 0.4158653846153846 and parameters: {'k': 34}. Best is trial 9 with value: 0.5408653846153846.\n",
      "[I 2025-02-25 17:11:40,817] Trial 11 finished with value: 0.4411057692307692 and parameters: {'k': 36}. Best is trial 9 with value: 0.5408653846153846.\n",
      "[I 2025-02-25 17:11:40,823] Trial 12 finished with value: 0.43509615384615385 and parameters: {'k': 27}. Best is trial 9 with value: 0.5408653846153846.\n",
      "[I 2025-02-25 17:11:40,828] Trial 13 finished with value: 0.42067307692307687 and parameters: {'k': 35}. Best is trial 9 with value: 0.5408653846153846.\n",
      "[I 2025-02-25 17:11:40,833] Trial 14 finished with value: 0.39182692307692313 and parameters: {'k': 19}. Best is trial 9 with value: 0.5408653846153846.\n",
      "[I 2025-02-25 17:11:40,839] Trial 15 finished with value: 0.47956730769230765 and parameters: {'k': 8}. Best is trial 9 with value: 0.5408653846153846.\n",
      "[I 2025-02-25 17:11:40,844] Trial 16 finished with value: 0.4050480769230769 and parameters: {'k': 15}. Best is trial 9 with value: 0.5408653846153846.\n",
      "[I 2025-02-25 17:11:40,850] Trial 17 finished with value: 0.4759615384615385 and parameters: {'k': 46}. Best is trial 9 with value: 0.5408653846153846.\n",
      "[I 2025-02-25 17:11:40,856] Trial 18 finished with value: 0.47836538461538464 and parameters: {'k': 49}. Best is trial 9 with value: 0.5408653846153846.\n",
      "[I 2025-02-25 17:11:40,862] Trial 19 finished with value: 0.45793269230769235 and parameters: {'k': 30}. Best is trial 9 with value: 0.5408653846153846.\n",
      "[I 2025-02-25 17:11:40,868] Trial 20 finished with value: 0.39663461538461536 and parameters: {'k': 16}. Best is trial 9 with value: 0.5408653846153846.\n",
      "[I 2025-02-25 17:11:40,875] Trial 21 finished with value: 0.4230769230769231 and parameters: {'k': 31}. Best is trial 9 with value: 0.5408653846153846.\n",
      "[I 2025-02-25 17:11:40,881] Trial 22 finished with value: 0.4158653846153846 and parameters: {'k': 33}. Best is trial 9 with value: 0.5408653846153846.\n",
      "[I 2025-02-25 17:11:40,887] Trial 23 finished with value: 0.3882211538461538 and parameters: {'k': 17}. Best is trial 9 with value: 0.5408653846153846.\n",
      "[I 2025-02-25 17:11:40,894] Trial 24 finished with value: 0.4459134615384615 and parameters: {'k': 43}. Best is trial 9 with value: 0.5408653846153846.\n",
      "[I 2025-02-25 17:11:40,901] Trial 25 finished with value: 0.43269230769230765 and parameters: {'k': 21}. Best is trial 9 with value: 0.5408653846153846.\n",
      "[I 2025-02-25 17:11:40,908] Trial 26 finished with value: 0.45072115384615385 and parameters: {'k': 44}. Best is trial 9 with value: 0.5408653846153846.\n",
      "[I 2025-02-25 17:11:40,915] Trial 27 finished with value: 0.45072115384615385 and parameters: {'k': 9}. Best is trial 9 with value: 0.5408653846153846.\n",
      "[I 2025-02-25 17:11:40,922] Trial 28 finished with value: 0.453125 and parameters: {'k': 14}. Best is trial 9 with value: 0.5408653846153846.\n",
      "[I 2025-02-25 17:11:40,929] Trial 29 finished with value: 0.43990384615384615 and parameters: {'k': 26}. Best is trial 9 with value: 0.5408653846153846.\n",
      "[I 2025-02-25 17:11:40,937] Trial 30 finished with value: 0.53125 and parameters: {'k': 6}. Best is trial 9 with value: 0.5408653846153846.\n",
      "[I 2025-02-25 17:11:40,944] Trial 31 finished with value: 0.37259615384615385 and parameters: {'k': 18}. Best is trial 9 with value: 0.5408653846153846.\n",
      "[I 2025-02-25 17:11:40,952] Trial 32 finished with value: 0.46634615384615385 and parameters: {'k': 41}. Best is trial 9 with value: 0.5408653846153846.\n",
      "[I 2025-02-25 17:11:40,960] Trial 33 finished with value: 0.4603365384615385 and parameters: {'k': 50}. Best is trial 9 with value: 0.5408653846153846.\n",
      "[I 2025-02-25 17:11:40,968] Trial 34 finished with value: 0.4302884615384615 and parameters: {'k': 2}. Best is trial 9 with value: 0.5408653846153846.\n",
      "[I 2025-02-25 17:11:40,976] Trial 35 finished with value: 0.4362980769230769 and parameters: {'k': 13}. Best is trial 9 with value: 0.5408653846153846.\n",
      "[I 2025-02-25 17:11:40,984] Trial 36 finished with value: 0.4567307692307692 and parameters: {'k': 38}. Best is trial 9 with value: 0.5408653846153846.\n",
      "[I 2025-02-25 17:11:40,992] Trial 37 finished with value: 0.47475961538461536 and parameters: {'k': 25}. Best is trial 9 with value: 0.5408653846153846.\n",
      "[I 2025-02-25 17:11:41,001] Trial 38 finished with value: 0.4807692307692307 and parameters: {'k': 7}. Best is trial 9 with value: 0.5408653846153846.\n",
      "[I 2025-02-25 17:11:41,009] Trial 39 finished with value: 0.46033653846153844 and parameters: {'k': 24}. Best is trial 9 with value: 0.5408653846153846.\n",
      "[I 2025-02-25 17:11:41,018] Trial 40 finished with value: 0.4459134615384615 and parameters: {'k': 37}. Best is trial 9 with value: 0.5408653846153846.\n",
      "[I 2025-02-25 17:11:41,027] Trial 41 finished with value: 0.4375 and parameters: {'k': 22}. Best is trial 9 with value: 0.5408653846153846.\n",
      "[I 2025-02-25 17:11:41,036] Trial 42 finished with value: 0.42307692307692313 and parameters: {'k': 20}. Best is trial 9 with value: 0.5408653846153846.\n",
      "[I 2025-02-25 17:11:41,045] Trial 43 finished with value: 0.47115384615384615 and parameters: {'k': 10}. Best is trial 9 with value: 0.5408653846153846.\n",
      "[I 2025-02-25 17:11:41,054] Trial 44 finished with value: 0.47596153846153844 and parameters: {'k': 40}. Best is trial 9 with value: 0.5408653846153846.\n",
      "[I 2025-02-25 17:11:41,064] Trial 45 finished with value: 0.48557692307692313 and parameters: {'k': 47}. Best is trial 9 with value: 0.5408653846153846.\n",
      "[I 2025-02-25 17:11:41,073] Trial 46 finished with value: 0.5384615384615384 and parameters: {'k': 4}. Best is trial 9 with value: 0.5408653846153846.\n",
      "[I 2025-02-25 17:11:41,083] Trial 47 finished with value: 0.49519230769230776 and parameters: {'k': 1}. Best is trial 9 with value: 0.5408653846153846.\n",
      "[I 2025-02-25 17:11:41,093] Trial 48 finished with value: 0.48197115384615385 and parameters: {'k': 48}. Best is trial 9 with value: 0.5408653846153846.\n",
      "[I 2025-02-25 17:11:41,103] Trial 49 finished with value: 0.4338942307692307 and parameters: {'k': 45}. Best is trial 9 with value: 0.5408653846153846.\n",
      "[I 2025-02-25 17:11:41,108] A new study created in memory with name: no-name-dcc00831-b6d6-47eb-ab57-c2965bf4da2d\n",
      "[I 2025-02-25 17:11:41,111] Trial 0 finished with value: 0.7061728395061729 and parameters: {'k': 29}. Best is trial 0 with value: 0.7061728395061729.\n",
      "[I 2025-02-25 17:11:41,115] Trial 1 finished with value: 0.545679012345679 and parameters: {'k': 12}. Best is trial 0 with value: 0.7061728395061729.\n",
      "[I 2025-02-25 17:11:41,119] Trial 2 finished with value: 0.5037037037037037 and parameters: {'k': 11}. Best is trial 0 with value: 0.7061728395061729.\n",
      "[I 2025-02-25 17:11:41,123] Trial 3 finished with value: 0.634567901234568 and parameters: {'k': 42}. Best is trial 0 with value: 0.7061728395061729.\n",
      "[I 2025-02-25 17:11:41,127] Trial 4 finished with value: 0.6740740740740742 and parameters: {'k': 3}. Best is trial 0 with value: 0.7061728395061729.\n",
      "[I 2025-02-25 17:11:41,132] Trial 5 finished with value: 0.6765432098765433 and parameters: {'k': 28}. Best is trial 0 with value: 0.7061728395061729.\n",
      "[I 2025-02-25 17:11:41,137] Trial 6 finished with value: 0.6827160493827161 and parameters: {'k': 39}. Best is trial 0 with value: 0.7061728395061729.\n",
      "[I 2025-02-25 17:11:41,142] Trial 7 finished with value: 0.6395061728395062 and parameters: {'k': 32}. Best is trial 0 with value: 0.7061728395061729.\n",
      "[I 2025-02-25 17:11:41,146] Trial 8 finished with value: 0.6135802469135803 and parameters: {'k': 23}. Best is trial 0 with value: 0.7061728395061729.\n",
      "[I 2025-02-25 17:11:41,151] Trial 9 finished with value: 0.5925925925925926 and parameters: {'k': 5}. Best is trial 0 with value: 0.7061728395061729.\n",
      "[I 2025-02-25 17:11:41,156] Trial 10 finished with value: 0.6506172839506174 and parameters: {'k': 34}. Best is trial 0 with value: 0.7061728395061729.\n",
      "[I 2025-02-25 17:11:41,161] Trial 11 finished with value: 0.6753086419753087 and parameters: {'k': 36}. Best is trial 0 with value: 0.7061728395061729.\n",
      "[I 2025-02-25 17:11:41,168] Trial 12 finished with value: 0.662962962962963 and parameters: {'k': 27}. Best is trial 0 with value: 0.7061728395061729.\n",
      "[I 2025-02-25 17:11:41,182] Trial 13 finished with value: 0.6703703703703704 and parameters: {'k': 35}. Best is trial 0 with value: 0.7061728395061729.\n",
      "[I 2025-02-25 17:11:41,188] Trial 14 finished with value: 0.5222222222222221 and parameters: {'k': 19}. Best is trial 0 with value: 0.7061728395061729.\n",
      "[I 2025-02-25 17:11:41,193] Trial 15 finished with value: 0.5888888888888888 and parameters: {'k': 8}. Best is trial 0 with value: 0.7061728395061729.\n",
      "[I 2025-02-25 17:11:41,199] Trial 16 finished with value: 0.4703703703703703 and parameters: {'k': 15}. Best is trial 0 with value: 0.7061728395061729.\n",
      "[I 2025-02-25 17:11:41,206] Trial 17 finished with value: 0.617283950617284 and parameters: {'k': 46}. Best is trial 0 with value: 0.7061728395061729.\n",
      "[I 2025-02-25 17:11:41,212] Trial 18 finished with value: 0.6345679012345679 and parameters: {'k': 49}. Best is trial 0 with value: 0.7061728395061729.\n",
      "[I 2025-02-25 17:11:41,219] Trial 19 finished with value: 0.6851851851851852 and parameters: {'k': 30}. Best is trial 0 with value: 0.7061728395061729.\n",
      "[I 2025-02-25 17:11:41,225] Trial 20 finished with value: 0.4790123456790124 and parameters: {'k': 16}. Best is trial 0 with value: 0.7061728395061729.\n",
      "[I 2025-02-25 17:11:41,231] Trial 21 finished with value: 0.6395061728395062 and parameters: {'k': 31}. Best is trial 0 with value: 0.7061728395061729.\n",
      "[I 2025-02-25 17:11:41,238] Trial 22 finished with value: 0.6370370370370371 and parameters: {'k': 33}. Best is trial 0 with value: 0.7061728395061729.\n",
      "[I 2025-02-25 17:11:41,245] Trial 23 finished with value: 0.525925925925926 and parameters: {'k': 17}. Best is trial 0 with value: 0.7061728395061729.\n",
      "[I 2025-02-25 17:11:41,251] Trial 24 finished with value: 0.617283950617284 and parameters: {'k': 43}. Best is trial 0 with value: 0.7061728395061729.\n",
      "[I 2025-02-25 17:11:41,259] Trial 25 finished with value: 0.5950617283950618 and parameters: {'k': 21}. Best is trial 0 with value: 0.7061728395061729.\n",
      "[I 2025-02-25 17:11:41,266] Trial 26 finished with value: 0.6209876543209877 and parameters: {'k': 44}. Best is trial 0 with value: 0.7061728395061729.\n",
      "[I 2025-02-25 17:11:41,273] Trial 27 finished with value: 0.5654320987654322 and parameters: {'k': 9}. Best is trial 0 with value: 0.7061728395061729.\n",
      "[I 2025-02-25 17:11:41,280] Trial 28 finished with value: 0.4802469135802469 and parameters: {'k': 14}. Best is trial 0 with value: 0.7061728395061729.\n",
      "[I 2025-02-25 17:11:41,287] Trial 29 finished with value: 0.6481481481481483 and parameters: {'k': 26}. Best is trial 0 with value: 0.7061728395061729.\n",
      "[I 2025-02-25 17:11:41,295] Trial 30 finished with value: 0.6432098765432098 and parameters: {'k': 6}. Best is trial 0 with value: 0.7061728395061729.\n",
      "[I 2025-02-25 17:11:41,303] Trial 31 finished with value: 0.5271604938271606 and parameters: {'k': 18}. Best is trial 0 with value: 0.7061728395061729.\n",
      "[I 2025-02-25 17:11:41,312] Trial 32 finished with value: 0.6271604938271605 and parameters: {'k': 41}. Best is trial 0 with value: 0.7061728395061729.\n",
      "[I 2025-02-25 17:11:41,320] Trial 33 finished with value: 0.6234567901234568 and parameters: {'k': 50}. Best is trial 0 with value: 0.7061728395061729.\n",
      "[I 2025-02-25 17:11:41,328] Trial 34 finished with value: 0.6876543209876543 and parameters: {'k': 2}. Best is trial 0 with value: 0.7061728395061729.\n",
      "[I 2025-02-25 17:11:41,336] Trial 35 finished with value: 0.4876543209876543 and parameters: {'k': 13}. Best is trial 0 with value: 0.7061728395061729.\n",
      "[I 2025-02-25 17:11:41,344] Trial 36 finished with value: 0.7012345679012346 and parameters: {'k': 38}. Best is trial 0 with value: 0.7061728395061729.\n",
      "[I 2025-02-25 17:11:41,353] Trial 37 finished with value: 0.5901234567901235 and parameters: {'k': 25}. Best is trial 0 with value: 0.7061728395061729.\n",
      "[I 2025-02-25 17:11:41,361] Trial 38 finished with value: 0.608641975308642 and parameters: {'k': 7}. Best is trial 0 with value: 0.7061728395061729.\n",
      "[I 2025-02-25 17:11:41,370] Trial 39 finished with value: 0.6160493827160494 and parameters: {'k': 24}. Best is trial 0 with value: 0.7061728395061729.\n",
      "[I 2025-02-25 17:11:41,379] Trial 40 finished with value: 0.671604938271605 and parameters: {'k': 37}. Best is trial 0 with value: 0.7061728395061729.\n",
      "[I 2025-02-25 17:11:41,388] Trial 41 finished with value: 0.5876543209876544 and parameters: {'k': 22}. Best is trial 0 with value: 0.7061728395061729.\n",
      "[I 2025-02-25 17:11:41,397] Trial 42 finished with value: 0.5617283950617284 and parameters: {'k': 20}. Best is trial 0 with value: 0.7061728395061729.\n",
      "[I 2025-02-25 17:11:41,406] Trial 43 finished with value: 0.5444444444444444 and parameters: {'k': 10}. Best is trial 0 with value: 0.7061728395061729.\n",
      "[I 2025-02-25 17:11:41,419] Trial 44 finished with value: 0.6555555555555556 and parameters: {'k': 40}. Best is trial 0 with value: 0.7061728395061729.\n",
      "[I 2025-02-25 17:11:41,429] Trial 45 finished with value: 0.6320987654320988 and parameters: {'k': 47}. Best is trial 0 with value: 0.7061728395061729.\n",
      "[I 2025-02-25 17:11:41,439] Trial 46 finished with value: 0.6185185185185186 and parameters: {'k': 4}. Best is trial 0 with value: 0.7061728395061729.\n",
      "[I 2025-02-25 17:11:41,449] Trial 47 finished with value: 0.7037037037037037 and parameters: {'k': 1}. Best is trial 0 with value: 0.7061728395061729.\n",
      "[I 2025-02-25 17:11:41,459] Trial 48 finished with value: 0.6123456790123457 and parameters: {'k': 48}. Best is trial 0 with value: 0.7061728395061729.\n",
      "[I 2025-02-25 17:11:41,469] Trial 49 finished with value: 0.634567901234568 and parameters: {'k': 45}. Best is trial 0 with value: 0.7061728395061729.\n",
      "[I 2025-02-25 17:11:41,478] A new study created in memory with name: no-name-f39da8a3-73aa-4d4e-88fa-5c806207b9f8\n",
      "[I 2025-02-25 17:11:41,482] Trial 0 finished with value: 0.48076923076923084 and parameters: {'k': 29}. Best is trial 0 with value: 0.48076923076923084.\n",
      "[I 2025-02-25 17:11:41,485] Trial 1 finished with value: 0.4795673076923077 and parameters: {'k': 12}. Best is trial 0 with value: 0.48076923076923084.\n",
      "[I 2025-02-25 17:11:41,489] Trial 2 finished with value: 0.49999999999999994 and parameters: {'k': 11}. Best is trial 2 with value: 0.49999999999999994.\n",
      "[I 2025-02-25 17:11:41,493] Trial 3 finished with value: 0.40384615384615385 and parameters: {'k': 42}. Best is trial 2 with value: 0.49999999999999994.\n",
      "[I 2025-02-25 17:11:41,497] Trial 4 finished with value: 0.5204326923076923 and parameters: {'k': 3}. Best is trial 4 with value: 0.5204326923076923.\n",
      "[I 2025-02-25 17:11:41,501] Trial 5 finished with value: 0.4735576923076923 and parameters: {'k': 28}. Best is trial 4 with value: 0.5204326923076923.\n",
      "[I 2025-02-25 17:11:41,506] Trial 6 finished with value: 0.44711538461538464 and parameters: {'k': 39}. Best is trial 4 with value: 0.5204326923076923.\n",
      "[I 2025-02-25 17:11:41,510] Trial 7 finished with value: 0.45793269230769235 and parameters: {'k': 32}. Best is trial 4 with value: 0.5204326923076923.\n",
      "[I 2025-02-25 17:11:41,515] Trial 8 finished with value: 0.49639423076923084 and parameters: {'k': 23}. Best is trial 4 with value: 0.5204326923076923.\n",
      "[I 2025-02-25 17:11:41,521] Trial 9 finished with value: 0.48677884615384615 and parameters: {'k': 5}. Best is trial 4 with value: 0.5204326923076923.\n",
      "[I 2025-02-25 17:11:41,526] Trial 10 finished with value: 0.42908653846153855 and parameters: {'k': 34}. Best is trial 4 with value: 0.5204326923076923.\n",
      "[I 2025-02-25 17:11:41,531] Trial 11 finished with value: 0.4483173076923077 and parameters: {'k': 36}. Best is trial 4 with value: 0.5204326923076923.\n",
      "[I 2025-02-25 17:11:41,537] Trial 12 finished with value: 0.48437499999999994 and parameters: {'k': 27}. Best is trial 4 with value: 0.5204326923076923.\n",
      "[I 2025-02-25 17:11:41,542] Trial 13 finished with value: 0.44711538461538464 and parameters: {'k': 35}. Best is trial 4 with value: 0.5204326923076923.\n",
      "[I 2025-02-25 17:11:41,548] Trial 14 finished with value: 0.5408653846153846 and parameters: {'k': 19}. Best is trial 14 with value: 0.5408653846153846.\n",
      "[I 2025-02-25 17:11:41,553] Trial 15 finished with value: 0.43509615384615385 and parameters: {'k': 8}. Best is trial 14 with value: 0.5408653846153846.\n",
      "[I 2025-02-25 17:11:41,559] Trial 16 finished with value: 0.485576923076923 and parameters: {'k': 15}. Best is trial 14 with value: 0.5408653846153846.\n",
      "[I 2025-02-25 17:11:41,565] Trial 17 finished with value: 0.41947115384615385 and parameters: {'k': 46}. Best is trial 14 with value: 0.5408653846153846.\n",
      "[I 2025-02-25 17:11:41,571] Trial 18 finished with value: 0.43028846153846156 and parameters: {'k': 49}. Best is trial 14 with value: 0.5408653846153846.\n",
      "[I 2025-02-25 17:11:41,577] Trial 19 finished with value: 0.484375 and parameters: {'k': 30}. Best is trial 14 with value: 0.5408653846153846.\n",
      "[I 2025-02-25 17:11:41,584] Trial 20 finished with value: 0.47716346153846156 and parameters: {'k': 16}. Best is trial 14 with value: 0.5408653846153846.\n",
      "[I 2025-02-25 17:11:41,590] Trial 21 finished with value: 0.46153846153846156 and parameters: {'k': 31}. Best is trial 14 with value: 0.5408653846153846.\n",
      "[I 2025-02-25 17:11:41,597] Trial 22 finished with value: 0.4326923076923077 and parameters: {'k': 33}. Best is trial 14 with value: 0.5408653846153846.\n",
      "[I 2025-02-25 17:11:41,603] Trial 23 finished with value: 0.5060096153846154 and parameters: {'k': 17}. Best is trial 14 with value: 0.5408653846153846.\n",
      "[I 2025-02-25 17:11:41,611] Trial 24 finished with value: 0.4182692307692307 and parameters: {'k': 43}. Best is trial 14 with value: 0.5408653846153846.\n",
      "[I 2025-02-25 17:11:41,618] Trial 25 finished with value: 0.5408653846153846 and parameters: {'k': 21}. Best is trial 14 with value: 0.5408653846153846.\n",
      "[I 2025-02-25 17:11:41,625] Trial 26 finished with value: 0.42908653846153844 and parameters: {'k': 44}. Best is trial 14 with value: 0.5408653846153846.\n",
      "[I 2025-02-25 17:11:41,632] Trial 27 finished with value: 0.4963942307692308 and parameters: {'k': 9}. Best is trial 14 with value: 0.5408653846153846.\n",
      "[I 2025-02-25 17:11:41,640] Trial 28 finished with value: 0.49879807692307687 and parameters: {'k': 14}. Best is trial 14 with value: 0.5408653846153846.\n",
      "[I 2025-02-25 17:11:41,647] Trial 29 finished with value: 0.498798076923077 and parameters: {'k': 26}. Best is trial 14 with value: 0.5408653846153846.\n",
      "[I 2025-02-25 17:11:41,655] Trial 30 finished with value: 0.4495192307692308 and parameters: {'k': 6}. Best is trial 14 with value: 0.5408653846153846.\n",
      "[I 2025-02-25 17:11:41,662] Trial 31 finished with value: 0.5036057692307692 and parameters: {'k': 18}. Best is trial 14 with value: 0.5408653846153846.\n",
      "[I 2025-02-25 17:11:41,670] Trial 32 finished with value: 0.41225961538461536 and parameters: {'k': 41}. Best is trial 14 with value: 0.5408653846153846.\n",
      "[I 2025-02-25 17:11:41,683] Trial 33 finished with value: 0.43149038461538464 and parameters: {'k': 50}. Best is trial 14 with value: 0.5408653846153846.\n",
      "[I 2025-02-25 17:11:41,692] Trial 34 finished with value: 0.5024038461538461 and parameters: {'k': 2}. Best is trial 14 with value: 0.5408653846153846.\n",
      "[I 2025-02-25 17:11:41,700] Trial 35 finished with value: 0.47475961538461536 and parameters: {'k': 13}. Best is trial 14 with value: 0.5408653846153846.\n",
      "[I 2025-02-25 17:11:41,709] Trial 36 finished with value: 0.4555288461538462 and parameters: {'k': 38}. Best is trial 14 with value: 0.5408653846153846.\n",
      "[I 2025-02-25 17:11:41,717] Trial 37 finished with value: 0.4975961538461538 and parameters: {'k': 25}. Best is trial 14 with value: 0.5408653846153846.\n",
      "[I 2025-02-25 17:11:41,725] Trial 38 finished with value: 0.454326923076923 and parameters: {'k': 7}. Best is trial 14 with value: 0.5408653846153846.\n",
      "[I 2025-02-25 17:11:41,734] Trial 39 finished with value: 0.5132211538461539 and parameters: {'k': 24}. Best is trial 14 with value: 0.5408653846153846.\n",
      "[I 2025-02-25 17:11:41,743] Trial 40 finished with value: 0.45552884615384615 and parameters: {'k': 37}. Best is trial 14 with value: 0.5408653846153846.\n",
      "[I 2025-02-25 17:11:41,752] Trial 41 finished with value: 0.5072115384615385 and parameters: {'k': 22}. Best is trial 14 with value: 0.5408653846153846.\n",
      "[I 2025-02-25 17:11:41,761] Trial 42 finished with value: 0.5216346153846154 and parameters: {'k': 20}. Best is trial 14 with value: 0.5408653846153846.\n",
      "[I 2025-02-25 17:11:41,771] Trial 43 finished with value: 0.5120192307692308 and parameters: {'k': 10}. Best is trial 14 with value: 0.5408653846153846.\n",
      "[I 2025-02-25 17:11:41,780] Trial 44 finished with value: 0.43028846153846156 and parameters: {'k': 40}. Best is trial 14 with value: 0.5408653846153846.\n",
      "[I 2025-02-25 17:11:41,790] Trial 45 finished with value: 0.4230769230769231 and parameters: {'k': 47}. Best is trial 14 with value: 0.5408653846153846.\n",
      "[I 2025-02-25 17:11:41,800] Trial 46 finished with value: 0.4963942307692307 and parameters: {'k': 4}. Best is trial 14 with value: 0.5408653846153846.\n",
      "[I 2025-02-25 17:11:41,809] Trial 47 finished with value: 0.49519230769230776 and parameters: {'k': 1}. Best is trial 14 with value: 0.5408653846153846.\n",
      "[I 2025-02-25 17:11:41,819] Trial 48 finished with value: 0.4134615384615385 and parameters: {'k': 48}. Best is trial 14 with value: 0.5408653846153846.\n",
      "[I 2025-02-25 17:11:41,829] Trial 49 finished with value: 0.4098557692307692 and parameters: {'k': 45}. Best is trial 14 with value: 0.5408653846153846.\n",
      "[I 2025-02-25 17:11:41,834] A new study created in memory with name: no-name-3a87e123-62ed-4b91-bb18-b6ffc90c2033\n",
      "[I 2025-02-25 17:11:41,837] Trial 0 finished with value: 0.65 and parameters: {'k': 29}. Best is trial 0 with value: 0.65.\n",
      "[I 2025-02-25 17:11:41,841] Trial 1 finished with value: 0.4597222222222222 and parameters: {'k': 12}. Best is trial 0 with value: 0.65.\n",
      "[I 2025-02-25 17:11:41,845] Trial 2 finished with value: 0.4527777777777777 and parameters: {'k': 11}. Best is trial 0 with value: 0.65.\n",
      "[I 2025-02-25 17:11:41,849] Trial 3 finished with value: 0.6138888888888888 and parameters: {'k': 42}. Best is trial 0 with value: 0.65.\n",
      "[I 2025-02-25 17:11:41,853] Trial 4 finished with value: 0.4125 and parameters: {'k': 3}. Best is trial 0 with value: 0.65.\n",
      "[I 2025-02-25 17:11:41,857] Trial 5 finished with value: 0.625 and parameters: {'k': 28}. Best is trial 0 with value: 0.65.\n",
      "[I 2025-02-25 17:11:41,862] Trial 6 finished with value: 0.6236111111111112 and parameters: {'k': 39}. Best is trial 0 with value: 0.65.\n",
      "[I 2025-02-25 17:11:41,866] Trial 7 finished with value: 0.6402777777777777 and parameters: {'k': 32}. Best is trial 0 with value: 0.65.\n",
      "[I 2025-02-25 17:11:41,871] Trial 8 finished with value: 0.5986111111111111 and parameters: {'k': 23}. Best is trial 0 with value: 0.65.\n",
      "[I 2025-02-25 17:11:41,875] Trial 9 finished with value: 0.5111111111111111 and parameters: {'k': 5}. Best is trial 0 with value: 0.65.\n",
      "[I 2025-02-25 17:11:41,880] Trial 10 finished with value: 0.6513888888888889 and parameters: {'k': 34}. Best is trial 10 with value: 0.6513888888888889.\n",
      "[I 2025-02-25 17:11:41,886] Trial 11 finished with value: 0.6430555555555556 and parameters: {'k': 36}. Best is trial 10 with value: 0.6513888888888889.\n",
      "[I 2025-02-25 17:11:41,891] Trial 12 finished with value: 0.6097222222222223 and parameters: {'k': 27}. Best is trial 10 with value: 0.6513888888888889.\n",
      "[I 2025-02-25 17:11:41,896] Trial 13 finished with value: 0.6624999999999999 and parameters: {'k': 35}. Best is trial 13 with value: 0.6624999999999999.\n",
      "[I 2025-02-25 17:11:41,901] Trial 14 finished with value: 0.5222222222222223 and parameters: {'k': 19}. Best is trial 13 with value: 0.6624999999999999.\n",
      "[I 2025-02-25 17:11:41,907] Trial 15 finished with value: 0.49583333333333335 and parameters: {'k': 8}. Best is trial 13 with value: 0.6624999999999999.\n",
      "[I 2025-02-25 17:11:41,913] Trial 16 finished with value: 0.5180555555555556 and parameters: {'k': 15}. Best is trial 13 with value: 0.6624999999999999.\n",
      "[I 2025-02-25 17:11:41,919] Trial 17 finished with value: 0.6402777777777778 and parameters: {'k': 46}. Best is trial 13 with value: 0.6624999999999999.\n",
      "[I 2025-02-25 17:11:41,927] Trial 18 finished with value: 0.6111111111111112 and parameters: {'k': 49}. Best is trial 13 with value: 0.6624999999999999.\n",
      "[I 2025-02-25 17:11:41,933] Trial 19 finished with value: 0.6444444444444445 and parameters: {'k': 30}. Best is trial 13 with value: 0.6624999999999999.\n",
      "[I 2025-02-25 17:11:41,940] Trial 20 finished with value: 0.5486111111111112 and parameters: {'k': 16}. Best is trial 13 with value: 0.6624999999999999.\n",
      "[I 2025-02-25 17:11:41,947] Trial 21 finished with value: 0.6430555555555556 and parameters: {'k': 31}. Best is trial 13 with value: 0.6624999999999999.\n",
      "[I 2025-02-25 17:11:41,953] Trial 22 finished with value: 0.6486111111111111 and parameters: {'k': 33}. Best is trial 13 with value: 0.6624999999999999.\n",
      "[I 2025-02-25 17:11:41,960] Trial 23 finished with value: 0.5444444444444445 and parameters: {'k': 17}. Best is trial 13 with value: 0.6624999999999999.\n",
      "[I 2025-02-25 17:11:41,968] Trial 24 finished with value: 0.6263888888888888 and parameters: {'k': 43}. Best is trial 13 with value: 0.6624999999999999.\n",
      "[I 2025-02-25 17:11:41,979] Trial 25 finished with value: 0.6097222222222223 and parameters: {'k': 21}. Best is trial 13 with value: 0.6624999999999999.\n",
      "[I 2025-02-25 17:11:41,990] Trial 26 finished with value: 0.6569444444444444 and parameters: {'k': 44}. Best is trial 13 with value: 0.6624999999999999.\n",
      "[I 2025-02-25 17:11:42,000] Trial 27 finished with value: 0.4930555555555556 and parameters: {'k': 9}. Best is trial 13 with value: 0.6624999999999999.\n",
      "[I 2025-02-25 17:11:42,010] Trial 28 finished with value: 0.47916666666666663 and parameters: {'k': 14}. Best is trial 13 with value: 0.6624999999999999.\n",
      "[I 2025-02-25 17:11:42,021] Trial 29 finished with value: 0.6 and parameters: {'k': 26}. Best is trial 13 with value: 0.6624999999999999.\n",
      "[I 2025-02-25 17:11:42,032] Trial 30 finished with value: 0.5375000000000001 and parameters: {'k': 6}. Best is trial 13 with value: 0.6624999999999999.\n",
      "[I 2025-02-25 17:11:42,044] Trial 31 finished with value: 0.5166666666666667 and parameters: {'k': 18}. Best is trial 13 with value: 0.6624999999999999.\n",
      "[I 2025-02-25 17:11:42,054] Trial 32 finished with value: 0.6097222222222222 and parameters: {'k': 41}. Best is trial 13 with value: 0.6624999999999999.\n",
      "[I 2025-02-25 17:11:42,063] Trial 33 finished with value: 0.6055555555555556 and parameters: {'k': 50}. Best is trial 13 with value: 0.6624999999999999.\n",
      "[I 2025-02-25 17:11:42,071] Trial 34 finished with value: 0.44305555555555554 and parameters: {'k': 2}. Best is trial 13 with value: 0.6624999999999999.\n",
      "[I 2025-02-25 17:11:42,079] Trial 35 finished with value: 0.48055555555555557 and parameters: {'k': 13}. Best is trial 13 with value: 0.6624999999999999.\n",
      "[I 2025-02-25 17:11:42,088] Trial 36 finished with value: 0.6222222222222222 and parameters: {'k': 38}. Best is trial 13 with value: 0.6624999999999999.\n",
      "[I 2025-02-25 17:11:42,097] Trial 37 finished with value: 0.5750000000000001 and parameters: {'k': 25}. Best is trial 13 with value: 0.6624999999999999.\n",
      "[I 2025-02-25 17:11:42,105] Trial 38 finished with value: 0.5208333333333334 and parameters: {'k': 7}. Best is trial 13 with value: 0.6624999999999999.\n",
      "[I 2025-02-25 17:11:42,114] Trial 39 finished with value: 0.5916666666666667 and parameters: {'k': 24}. Best is trial 13 with value: 0.6624999999999999.\n",
      "[I 2025-02-25 17:11:42,123] Trial 40 finished with value: 0.6347222222222222 and parameters: {'k': 37}. Best is trial 13 with value: 0.6624999999999999.\n",
      "[I 2025-02-25 17:11:42,132] Trial 41 finished with value: 0.6222222222222221 and parameters: {'k': 22}. Best is trial 13 with value: 0.6624999999999999.\n",
      "[I 2025-02-25 17:11:42,141] Trial 42 finished with value: 0.575 and parameters: {'k': 20}. Best is trial 13 with value: 0.6624999999999999.\n",
      "[I 2025-02-25 17:11:42,150] Trial 43 finished with value: 0.46805555555555556 and parameters: {'k': 10}. Best is trial 13 with value: 0.6624999999999999.\n",
      "[I 2025-02-25 17:11:42,161] Trial 44 finished with value: 0.6124999999999999 and parameters: {'k': 40}. Best is trial 13 with value: 0.6624999999999999.\n",
      "[I 2025-02-25 17:11:42,175] Trial 45 finished with value: 0.6416666666666666 and parameters: {'k': 47}. Best is trial 13 with value: 0.6624999999999999.\n",
      "[I 2025-02-25 17:11:42,185] Trial 46 finished with value: 0.4680555555555556 and parameters: {'k': 4}. Best is trial 13 with value: 0.6624999999999999.\n",
      "[I 2025-02-25 17:11:42,195] Trial 47 finished with value: 0.4583333333333334 and parameters: {'k': 1}. Best is trial 13 with value: 0.6624999999999999.\n",
      "[I 2025-02-25 17:11:42,205] Trial 48 finished with value: 0.6138888888888889 and parameters: {'k': 48}. Best is trial 13 with value: 0.6624999999999999.\n",
      "[I 2025-02-25 17:11:42,215] Trial 49 finished with value: 0.6458333333333333 and parameters: {'k': 45}. Best is trial 13 with value: 0.6624999999999999.\n",
      "[I 2025-02-25 17:11:42,221] A new study created in memory with name: no-name-2a7d1898-9252-468a-9961-28558f4f53ee\n",
      "[I 2025-02-25 17:11:42,224] Trial 0 finished with value: 0.6604938271604938 and parameters: {'k': 29}. Best is trial 0 with value: 0.6604938271604938.\n",
      "[I 2025-02-25 17:11:42,228] Trial 1 finished with value: 0.5654320987654321 and parameters: {'k': 12}. Best is trial 0 with value: 0.6604938271604938.\n",
      "[I 2025-02-25 17:11:42,232] Trial 2 finished with value: 0.5790123456790124 and parameters: {'k': 11}. Best is trial 0 with value: 0.6604938271604938.\n",
      "[I 2025-02-25 17:11:42,236] Trial 3 finished with value: 0.6074074074074074 and parameters: {'k': 42}. Best is trial 0 with value: 0.6604938271604938.\n",
      "[I 2025-02-25 17:11:42,240] Trial 4 finished with value: 0.5246913580246914 and parameters: {'k': 3}. Best is trial 0 with value: 0.6604938271604938.\n",
      "[I 2025-02-25 17:11:42,244] Trial 5 finished with value: 0.6802469135802469 and parameters: {'k': 28}. Best is trial 5 with value: 0.6802469135802469.\n",
      "[I 2025-02-25 17:11:42,249] Trial 6 finished with value: 0.6358024691358024 and parameters: {'k': 39}. Best is trial 5 with value: 0.6802469135802469.\n",
      "[I 2025-02-25 17:11:42,254] Trial 7 finished with value: 0.6481481481481483 and parameters: {'k': 32}. Best is trial 5 with value: 0.6802469135802469.\n",
      "[I 2025-02-25 17:11:42,258] Trial 8 finished with value: 0.645679012345679 and parameters: {'k': 23}. Best is trial 5 with value: 0.6802469135802469.\n",
      "[I 2025-02-25 17:11:42,263] Trial 9 finished with value: 0.5604938271604939 and parameters: {'k': 5}. Best is trial 5 with value: 0.6802469135802469.\n",
      "[I 2025-02-25 17:11:42,269] Trial 10 finished with value: 0.6283950617283951 and parameters: {'k': 34}. Best is trial 5 with value: 0.6802469135802469.\n",
      "[I 2025-02-25 17:11:42,274] Trial 11 finished with value: 0.6308641975308642 and parameters: {'k': 36}. Best is trial 5 with value: 0.6802469135802469.\n",
      "[I 2025-02-25 17:11:42,280] Trial 12 finished with value: 0.6876543209876543 and parameters: {'k': 27}. Best is trial 12 with value: 0.6876543209876543.\n",
      "[I 2025-02-25 17:11:42,285] Trial 13 finished with value: 0.6395061728395062 and parameters: {'k': 35}. Best is trial 12 with value: 0.6876543209876543.\n",
      "[I 2025-02-25 17:11:42,291] Trial 14 finished with value: 0.6876543209876543 and parameters: {'k': 19}. Best is trial 12 with value: 0.6876543209876543.\n",
      "[I 2025-02-25 17:11:42,296] Trial 15 finished with value: 0.5592592592592592 and parameters: {'k': 8}. Best is trial 12 with value: 0.6876543209876543.\n",
      "[I 2025-02-25 17:11:42,302] Trial 16 finished with value: 0.6049382716049383 and parameters: {'k': 15}. Best is trial 12 with value: 0.6876543209876543.\n",
      "[I 2025-02-25 17:11:42,308] Trial 17 finished with value: 0.617283950617284 and parameters: {'k': 46}. Best is trial 12 with value: 0.6876543209876543.\n",
      "[I 2025-02-25 17:11:42,314] Trial 18 finished with value: 0.6012345679012345 and parameters: {'k': 49}. Best is trial 12 with value: 0.6876543209876543.\n",
      "[I 2025-02-25 17:11:42,320] Trial 19 finished with value: 0.6580246913580247 and parameters: {'k': 30}. Best is trial 12 with value: 0.6876543209876543.\n",
      "[I 2025-02-25 17:11:42,326] Trial 20 finished with value: 0.608641975308642 and parameters: {'k': 16}. Best is trial 12 with value: 0.6876543209876543.\n",
      "[I 2025-02-25 17:11:42,333] Trial 21 finished with value: 0.6444444444444445 and parameters: {'k': 31}. Best is trial 12 with value: 0.6876543209876543.\n",
      "[I 2025-02-25 17:11:42,339] Trial 22 finished with value: 0.6407407407407407 and parameters: {'k': 33}. Best is trial 12 with value: 0.6876543209876543.\n",
      "[I 2025-02-25 17:11:42,346] Trial 23 finished with value: 0.6037037037037037 and parameters: {'k': 17}. Best is trial 12 with value: 0.6876543209876543.\n",
      "[I 2025-02-25 17:11:42,353] Trial 24 finished with value: 0.6283950617283952 and parameters: {'k': 43}. Best is trial 12 with value: 0.6876543209876543.\n",
      "[I 2025-02-25 17:11:42,360] Trial 25 finished with value: 0.6604938271604938 and parameters: {'k': 21}. Best is trial 12 with value: 0.6876543209876543.\n",
      "[I 2025-02-25 17:11:42,367] Trial 26 finished with value: 0.6222222222222222 and parameters: {'k': 44}. Best is trial 12 with value: 0.6876543209876543.\n",
      "[I 2025-02-25 17:11:42,374] Trial 27 finished with value: 0.5444444444444444 and parameters: {'k': 9}. Best is trial 12 with value: 0.6876543209876543.\n",
      "[I 2025-02-25 17:11:42,382] Trial 28 finished with value: 0.5925925925925926 and parameters: {'k': 14}. Best is trial 12 with value: 0.6876543209876543.\n",
      "[I 2025-02-25 17:11:42,389] Trial 29 finished with value: 0.6666666666666667 and parameters: {'k': 26}. Best is trial 12 with value: 0.6876543209876543.\n",
      "[I 2025-02-25 17:11:42,397] Trial 30 finished with value: 0.5851851851851853 and parameters: {'k': 6}. Best is trial 12 with value: 0.6876543209876543.\n",
      "[I 2025-02-25 17:11:42,404] Trial 31 finished with value: 0.6481481481481481 and parameters: {'k': 18}. Best is trial 12 with value: 0.6876543209876543.\n",
      "[I 2025-02-25 17:11:42,412] Trial 32 finished with value: 0.6123456790123456 and parameters: {'k': 41}. Best is trial 12 with value: 0.6876543209876543.\n",
      "[I 2025-02-25 17:11:42,420] Trial 33 finished with value: 0.6135802469135803 and parameters: {'k': 50}. Best is trial 12 with value: 0.6876543209876543.\n",
      "[I 2025-02-25 17:11:42,428] Trial 34 finished with value: 0.5123456790123457 and parameters: {'k': 2}. Best is trial 12 with value: 0.6876543209876543.\n",
      "[I 2025-02-25 17:11:42,437] Trial 35 finished with value: 0.5580246913580247 and parameters: {'k': 13}. Best is trial 12 with value: 0.6876543209876543.\n",
      "[I 2025-02-25 17:11:42,445] Trial 36 finished with value: 0.645679012345679 and parameters: {'k': 38}. Best is trial 12 with value: 0.6876543209876543.\n",
      "[I 2025-02-25 17:11:42,454] Trial 37 finished with value: 0.6666666666666667 and parameters: {'k': 25}. Best is trial 12 with value: 0.6876543209876543.\n",
      "[I 2025-02-25 17:11:42,463] Trial 38 finished with value: 0.5765432098765433 and parameters: {'k': 7}. Best is trial 12 with value: 0.6876543209876543.\n",
      "[I 2025-02-25 17:11:42,471] Trial 39 finished with value: 0.654320987654321 and parameters: {'k': 24}. Best is trial 12 with value: 0.6876543209876543.\n",
      "[I 2025-02-25 17:11:42,480] Trial 40 finished with value: 0.634567901234568 and parameters: {'k': 37}. Best is trial 12 with value: 0.6876543209876543.\n",
      "[I 2025-02-25 17:11:42,489] Trial 41 finished with value: 0.6802469135802469 and parameters: {'k': 22}. Best is trial 12 with value: 0.6876543209876543.\n",
      "[I 2025-02-25 17:11:42,498] Trial 42 finished with value: 0.6703703703703704 and parameters: {'k': 20}. Best is trial 12 with value: 0.6876543209876543.\n",
      "[I 2025-02-25 17:11:42,507] Trial 43 finished with value: 0.571604938271605 and parameters: {'k': 10}. Best is trial 12 with value: 0.6876543209876543.\n",
      "[I 2025-02-25 17:11:42,517] Trial 44 finished with value: 0.6370370370370371 and parameters: {'k': 40}. Best is trial 12 with value: 0.6876543209876543.\n",
      "[I 2025-02-25 17:11:42,526] Trial 45 finished with value: 0.6074074074074075 and parameters: {'k': 47}. Best is trial 12 with value: 0.6876543209876543.\n",
      "[I 2025-02-25 17:11:42,536] Trial 46 finished with value: 0.5530864197530865 and parameters: {'k': 4}. Best is trial 12 with value: 0.6876543209876543.\n",
      "[I 2025-02-25 17:11:42,545] Trial 47 finished with value: 0.5185185185185185 and parameters: {'k': 1}. Best is trial 12 with value: 0.6876543209876543.\n",
      "[I 2025-02-25 17:11:42,555] Trial 48 finished with value: 0.5925925925925926 and parameters: {'k': 48}. Best is trial 12 with value: 0.6876543209876543.\n",
      "[I 2025-02-25 17:11:42,566] Trial 49 finished with value: 0.617283950617284 and parameters: {'k': 45}. Best is trial 12 with value: 0.6876543209876543.\n",
      "[I 2025-02-25 17:11:42,571] A new study created in memory with name: no-name-91233a4e-39c8-4a4c-8d9e-86408b51cb7d\n",
      "[I 2025-02-25 17:11:42,574] Trial 0 finished with value: 0.5697115384615384 and parameters: {'k': 29}. Best is trial 0 with value: 0.5697115384615384.\n",
      "[I 2025-02-25 17:11:42,578] Trial 1 finished with value: 0.6298076923076923 and parameters: {'k': 12}. Best is trial 1 with value: 0.6298076923076923.\n",
      "[I 2025-02-25 17:11:42,582] Trial 2 finished with value: 0.6177884615384616 and parameters: {'k': 11}. Best is trial 1 with value: 0.6298076923076923.\n",
      "[I 2025-02-25 17:11:42,586] Trial 3 finished with value: 0.609375 and parameters: {'k': 42}. Best is trial 1 with value: 0.6298076923076923.\n",
      "[I 2025-02-25 17:11:42,590] Trial 4 finished with value: 0.5552884615384616 and parameters: {'k': 3}. Best is trial 1 with value: 0.6298076923076923.\n",
      "[I 2025-02-25 17:11:42,594] Trial 5 finished with value: 0.5420673076923077 and parameters: {'k': 28}. Best is trial 1 with value: 0.6298076923076923.\n",
      "[I 2025-02-25 17:11:42,599] Trial 6 finished with value: 0.6165865384615384 and parameters: {'k': 39}. Best is trial 1 with value: 0.6298076923076923.\n",
      "[I 2025-02-25 17:11:42,603] Trial 7 finished with value: 0.6009615384615384 and parameters: {'k': 32}. Best is trial 1 with value: 0.6298076923076923.\n",
      "[I 2025-02-25 17:11:42,608] Trial 8 finished with value: 0.5276442307692308 and parameters: {'k': 23}. Best is trial 1 with value: 0.6298076923076923.\n",
      "[I 2025-02-25 17:11:42,613] Trial 9 finished with value: 0.5901442307692307 and parameters: {'k': 5}. Best is trial 1 with value: 0.6298076923076923.\n",
      "[I 2025-02-25 17:11:42,618] Trial 10 finished with value: 0.5973557692307692 and parameters: {'k': 34}. Best is trial 1 with value: 0.6298076923076923.\n",
      "[I 2025-02-25 17:11:42,623] Trial 11 finished with value: 0.5841346153846154 and parameters: {'k': 36}. Best is trial 1 with value: 0.6298076923076923.\n",
      "[I 2025-02-25 17:11:42,628] Trial 12 finished with value: 0.5180288461538461 and parameters: {'k': 27}. Best is trial 1 with value: 0.6298076923076923.\n",
      "[I 2025-02-25 17:11:42,633] Trial 13 finished with value: 0.6009615384615385 and parameters: {'k': 35}. Best is trial 1 with value: 0.6298076923076923.\n",
      "[I 2025-02-25 17:11:42,639] Trial 14 finished with value: 0.6165865384615384 and parameters: {'k': 19}. Best is trial 1 with value: 0.6298076923076923.\n",
      "[I 2025-02-25 17:11:42,644] Trial 15 finished with value: 0.609375 and parameters: {'k': 8}. Best is trial 1 with value: 0.6298076923076923.\n",
      "[I 2025-02-25 17:11:42,650] Trial 16 finished with value: 0.6310096153846154 and parameters: {'k': 15}. Best is trial 16 with value: 0.6310096153846154.\n",
      "[I 2025-02-25 17:11:42,656] Trial 17 finished with value: 0.5949519230769231 and parameters: {'k': 46}. Best is trial 16 with value: 0.6310096153846154.\n",
      "[I 2025-02-25 17:11:42,662] Trial 18 finished with value: 0.5901442307692307 and parameters: {'k': 49}. Best is trial 16 with value: 0.6310096153846154.\n",
      "[I 2025-02-25 17:11:42,668] Trial 19 finished with value: 0.5901442307692307 and parameters: {'k': 30}. Best is trial 16 with value: 0.6310096153846154.\n",
      "[I 2025-02-25 17:11:42,674] Trial 20 finished with value: 0.6141826923076923 and parameters: {'k': 16}. Best is trial 16 with value: 0.6310096153846154.\n",
      "[I 2025-02-25 17:11:42,680] Trial 21 finished with value: 0.5961538461538461 and parameters: {'k': 31}. Best is trial 16 with value: 0.6310096153846154.\n",
      "[I 2025-02-25 17:11:42,687] Trial 22 finished with value: 0.6045673076923077 and parameters: {'k': 33}. Best is trial 16 with value: 0.6310096153846154.\n",
      "[I 2025-02-25 17:11:42,693] Trial 23 finished with value: 0.6213942307692307 and parameters: {'k': 17}. Best is trial 16 with value: 0.6310096153846154.\n",
      "[I 2025-02-25 17:11:42,700] Trial 24 finished with value: 0.6081730769230769 and parameters: {'k': 43}. Best is trial 16 with value: 0.6310096153846154.\n",
      "[I 2025-02-25 17:11:42,707] Trial 25 finished with value: 0.5793269230769231 and parameters: {'k': 21}. Best is trial 16 with value: 0.6310096153846154.\n",
      "[I 2025-02-25 17:11:42,714] Trial 26 finished with value: 0.6105769230769231 and parameters: {'k': 44}. Best is trial 16 with value: 0.6310096153846154.\n",
      "[I 2025-02-25 17:11:42,721] Trial 27 finished with value: 0.6201923076923077 and parameters: {'k': 9}. Best is trial 16 with value: 0.6310096153846154.\n",
      "[I 2025-02-25 17:11:42,728] Trial 28 finished with value: 0.6189903846153846 and parameters: {'k': 14}. Best is trial 16 with value: 0.6310096153846154.\n",
      "[I 2025-02-25 17:11:42,736] Trial 29 finished with value: 0.5564903846153846 and parameters: {'k': 26}. Best is trial 16 with value: 0.6310096153846154.\n",
      "[I 2025-02-25 17:11:42,743] Trial 30 finished with value: 0.6117788461538461 and parameters: {'k': 6}. Best is trial 16 with value: 0.6310096153846154.\n",
      "[I 2025-02-25 17:11:42,751] Trial 31 finished with value: 0.6189903846153846 and parameters: {'k': 18}. Best is trial 16 with value: 0.6310096153846154.\n",
      "[I 2025-02-25 17:11:42,758] Trial 32 finished with value: 0.6129807692307693 and parameters: {'k': 41}. Best is trial 16 with value: 0.6310096153846154.\n",
      "[I 2025-02-25 17:11:42,767] Trial 33 finished with value: 0.5997596153846154 and parameters: {'k': 50}. Best is trial 16 with value: 0.6310096153846154.\n",
      "[I 2025-02-25 17:11:42,774] Trial 34 finished with value: 0.5192307692307692 and parameters: {'k': 2}. Best is trial 16 with value: 0.6310096153846154.\n",
      "[I 2025-02-25 17:11:42,783] Trial 35 finished with value: 0.5829326923076923 and parameters: {'k': 13}. Best is trial 16 with value: 0.6310096153846154.\n",
      "[I 2025-02-25 17:11:42,791] Trial 36 finished with value: 0.6105769230769231 and parameters: {'k': 38}. Best is trial 16 with value: 0.6310096153846154.\n",
      "[I 2025-02-25 17:11:42,799] Trial 37 finished with value: 0.532451923076923 and parameters: {'k': 25}. Best is trial 16 with value: 0.6310096153846154.\n",
      "[I 2025-02-25 17:11:42,808] Trial 38 finished with value: 0.6298076923076924 and parameters: {'k': 7}. Best is trial 16 with value: 0.6310096153846154.\n",
      "[I 2025-02-25 17:11:42,816] Trial 39 finished with value: 0.5204326923076923 and parameters: {'k': 24}. Best is trial 16 with value: 0.6310096153846154.\n",
      "[I 2025-02-25 17:11:42,825] Trial 40 finished with value: 0.5973557692307692 and parameters: {'k': 37}. Best is trial 16 with value: 0.6310096153846154.\n",
      "[I 2025-02-25 17:11:42,834] Trial 41 finished with value: 0.561298076923077 and parameters: {'k': 22}. Best is trial 16 with value: 0.6310096153846154.\n",
      "[I 2025-02-25 17:11:42,843] Trial 42 finished with value: 0.6057692307692307 and parameters: {'k': 20}. Best is trial 16 with value: 0.6310096153846154.\n",
      "[I 2025-02-25 17:11:42,853] Trial 43 finished with value: 0.6201923076923077 and parameters: {'k': 10}. Best is trial 16 with value: 0.6310096153846154.\n",
      "[I 2025-02-25 17:11:42,862] Trial 44 finished with value: 0.6213942307692308 and parameters: {'k': 40}. Best is trial 16 with value: 0.6310096153846154.\n",
      "[I 2025-02-25 17:11:42,872] Trial 45 finished with value: 0.6057692307692307 and parameters: {'k': 47}. Best is trial 16 with value: 0.6310096153846154.\n",
      "[I 2025-02-25 17:11:42,881] Trial 46 finished with value: 0.5300480769230769 and parameters: {'k': 4}. Best is trial 16 with value: 0.6310096153846154.\n",
      "[I 2025-02-25 17:11:42,891] Trial 47 finished with value: 0.5144230769230769 and parameters: {'k': 1}. Best is trial 16 with value: 0.6310096153846154.\n",
      "[I 2025-02-25 17:11:42,901] Trial 48 finished with value: 0.6141826923076923 and parameters: {'k': 48}. Best is trial 16 with value: 0.6310096153846154.\n",
      "[I 2025-02-25 17:11:42,911] Trial 49 finished with value: 0.5745192307692307 and parameters: {'k': 45}. Best is trial 16 with value: 0.6310096153846154.\n",
      "[I 2025-02-25 17:11:42,915] A new study created in memory with name: no-name-8e026de9-343f-4278-a603-9d92eeffb65e\n",
      "[I 2025-02-25 17:11:42,919] Trial 0 finished with value: 0.7197530864197531 and parameters: {'k': 29}. Best is trial 0 with value: 0.7197530864197531.\n",
      "[I 2025-02-25 17:11:42,923] Trial 1 finished with value: 0.6061728395061728 and parameters: {'k': 12}. Best is trial 0 with value: 0.7197530864197531.\n",
      "[I 2025-02-25 17:11:42,926] Trial 2 finished with value: 0.5901234567901236 and parameters: {'k': 11}. Best is trial 0 with value: 0.7197530864197531.\n",
      "[I 2025-02-25 17:11:42,930] Trial 3 finished with value: 0.6283950617283951 and parameters: {'k': 42}. Best is trial 0 with value: 0.7197530864197531.\n",
      "[I 2025-02-25 17:11:42,934] Trial 4 finished with value: 0.3691358024691358 and parameters: {'k': 3}. Best is trial 0 with value: 0.7197530864197531.\n",
      "[I 2025-02-25 17:11:42,939] Trial 5 finished with value: 0.6617283950617284 and parameters: {'k': 28}. Best is trial 0 with value: 0.7197530864197531.\n",
      "[I 2025-02-25 17:11:42,943] Trial 6 finished with value: 0.6049382716049383 and parameters: {'k': 39}. Best is trial 0 with value: 0.7197530864197531.\n",
      "[I 2025-02-25 17:11:42,948] Trial 7 finished with value: 0.7000000000000001 and parameters: {'k': 32}. Best is trial 0 with value: 0.7197530864197531.\n",
      "[I 2025-02-25 17:11:42,952] Trial 8 finished with value: 0.6419753086419754 and parameters: {'k': 23}. Best is trial 0 with value: 0.7197530864197531.\n",
      "[I 2025-02-25 17:11:42,957] Trial 9 finished with value: 0.4246913580246914 and parameters: {'k': 5}. Best is trial 0 with value: 0.7197530864197531.\n",
      "[I 2025-02-25 17:11:42,962] Trial 10 finished with value: 0.682716049382716 and parameters: {'k': 34}. Best is trial 0 with value: 0.7197530864197531.\n",
      "[I 2025-02-25 17:11:42,967] Trial 11 finished with value: 0.648148148148148 and parameters: {'k': 36}. Best is trial 0 with value: 0.7197530864197531.\n",
      "[I 2025-02-25 17:11:42,972] Trial 12 finished with value: 0.6604938271604939 and parameters: {'k': 27}. Best is trial 0 with value: 0.7197530864197531.\n",
      "[I 2025-02-25 17:11:42,978] Trial 13 finished with value: 0.6493827160493828 and parameters: {'k': 35}. Best is trial 0 with value: 0.7197530864197531.\n",
      "[I 2025-02-25 17:11:42,983] Trial 14 finished with value: 0.6123456790123457 and parameters: {'k': 19}. Best is trial 0 with value: 0.7197530864197531.\n",
      "[I 2025-02-25 17:11:42,989] Trial 15 finished with value: 0.5654320987654321 and parameters: {'k': 8}. Best is trial 0 with value: 0.7197530864197531.\n",
      "[I 2025-02-25 17:11:42,994] Trial 16 finished with value: 0.5814814814814815 and parameters: {'k': 15}. Best is trial 0 with value: 0.7197530864197531.\n",
      "[I 2025-02-25 17:11:43,000] Trial 17 finished with value: 0.5691358024691358 and parameters: {'k': 46}. Best is trial 0 with value: 0.7197530864197531.\n",
      "[I 2025-02-25 17:11:43,007] Trial 18 finished with value: 0.6283950617283952 and parameters: {'k': 49}. Best is trial 0 with value: 0.7197530864197531.\n",
      "[I 2025-02-25 17:11:43,013] Trial 19 finished with value: 0.7222222222222222 and parameters: {'k': 30}. Best is trial 19 with value: 0.7222222222222222.\n",
      "[I 2025-02-25 17:11:43,020] Trial 20 finished with value: 0.5654320987654321 and parameters: {'k': 16}. Best is trial 19 with value: 0.7222222222222222.\n",
      "[I 2025-02-25 17:11:43,027] Trial 21 finished with value: 0.7271604938271604 and parameters: {'k': 31}. Best is trial 21 with value: 0.7271604938271604.\n",
      "[I 2025-02-25 17:11:43,034] Trial 22 finished with value: 0.6691358024691358 and parameters: {'k': 33}. Best is trial 21 with value: 0.7271604938271604.\n",
      "[I 2025-02-25 17:11:43,041] Trial 23 finished with value: 0.5876543209876544 and parameters: {'k': 17}. Best is trial 21 with value: 0.7271604938271604.\n",
      "[I 2025-02-25 17:11:43,048] Trial 24 finished with value: 0.6024691358024692 and parameters: {'k': 43}. Best is trial 21 with value: 0.7271604938271604.\n",
      "[I 2025-02-25 17:11:43,055] Trial 25 finished with value: 0.5814814814814815 and parameters: {'k': 21}. Best is trial 21 with value: 0.7271604938271604.\n",
      "[I 2025-02-25 17:11:43,062] Trial 26 finished with value: 0.5753086419753087 and parameters: {'k': 44}. Best is trial 21 with value: 0.7271604938271604.\n",
      "[I 2025-02-25 17:11:43,069] Trial 27 finished with value: 0.5666666666666667 and parameters: {'k': 9}. Best is trial 21 with value: 0.7271604938271604.\n",
      "[I 2025-02-25 17:11:43,076] Trial 28 finished with value: 0.5753086419753087 and parameters: {'k': 14}. Best is trial 21 with value: 0.7271604938271604.\n",
      "[I 2025-02-25 17:11:43,083] Trial 29 finished with value: 0.6728395061728395 and parameters: {'k': 26}. Best is trial 21 with value: 0.7271604938271604.\n",
      "[I 2025-02-25 17:11:43,091] Trial 30 finished with value: 0.4765432098765432 and parameters: {'k': 6}. Best is trial 21 with value: 0.7271604938271604.\n",
      "[I 2025-02-25 17:11:43,098] Trial 31 finished with value: 0.5950617283950618 and parameters: {'k': 18}. Best is trial 21 with value: 0.7271604938271604.\n",
      "[I 2025-02-25 17:11:43,106] Trial 32 finished with value: 0.6012345679012345 and parameters: {'k': 41}. Best is trial 21 with value: 0.7271604938271604.\n",
      "[I 2025-02-25 17:11:43,114] Trial 33 finished with value: 0.6197530864197531 and parameters: {'k': 50}. Best is trial 21 with value: 0.7271604938271604.\n",
      "[I 2025-02-25 17:11:43,122] Trial 34 finished with value: 0.4234567901234568 and parameters: {'k': 2}. Best is trial 21 with value: 0.7271604938271604.\n",
      "[I 2025-02-25 17:11:43,130] Trial 35 finished with value: 0.5691358024691359 and parameters: {'k': 13}. Best is trial 21 with value: 0.7271604938271604.\n",
      "[I 2025-02-25 17:11:43,139] Trial 36 finished with value: 0.6271604938271605 and parameters: {'k': 38}. Best is trial 21 with value: 0.7271604938271604.\n",
      "[I 2025-02-25 17:11:43,147] Trial 37 finished with value: 0.654320987654321 and parameters: {'k': 25}. Best is trial 21 with value: 0.7271604938271604.\n",
      "[I 2025-02-25 17:11:43,156] Trial 38 finished with value: 0.5592592592592593 and parameters: {'k': 7}. Best is trial 21 with value: 0.7271604938271604.\n",
      "[I 2025-02-25 17:11:43,164] Trial 39 finished with value: 0.6395061728395062 and parameters: {'k': 24}. Best is trial 21 with value: 0.7271604938271604.\n",
      "[I 2025-02-25 17:11:43,173] Trial 40 finished with value: 0.6395061728395062 and parameters: {'k': 37}. Best is trial 21 with value: 0.7271604938271604.\n",
      "[I 2025-02-25 17:11:43,182] Trial 41 finished with value: 0.6197530864197531 and parameters: {'k': 22}. Best is trial 21 with value: 0.7271604938271604.\n",
      "[I 2025-02-25 17:11:43,191] Trial 42 finished with value: 0.628395061728395 and parameters: {'k': 20}. Best is trial 21 with value: 0.7271604938271604.\n",
      "[I 2025-02-25 17:11:43,200] Trial 43 finished with value: 0.6197530864197532 and parameters: {'k': 10}. Best is trial 21 with value: 0.7271604938271604.\n",
      "[I 2025-02-25 17:11:43,210] Trial 44 finished with value: 0.5938271604938272 and parameters: {'k': 40}. Best is trial 21 with value: 0.7271604938271604.\n",
      "[I 2025-02-25 17:11:43,219] Trial 45 finished with value: 0.6037037037037037 and parameters: {'k': 47}. Best is trial 21 with value: 0.7271604938271604.\n",
      "[I 2025-02-25 17:11:43,229] Trial 46 finished with value: 0.38888888888888884 and parameters: {'k': 4}. Best is trial 21 with value: 0.7271604938271604.\n",
      "[I 2025-02-25 17:11:43,238] Trial 47 finished with value: 0.5481481481481483 and parameters: {'k': 1}. Best is trial 21 with value: 0.7271604938271604.\n",
      "[I 2025-02-25 17:11:43,249] Trial 48 finished with value: 0.6506172839506174 and parameters: {'k': 48}. Best is trial 21 with value: 0.7271604938271604.\n",
      "[I 2025-02-25 17:11:43,259] Trial 49 finished with value: 0.5469135802469137 and parameters: {'k': 45}. Best is trial 21 with value: 0.7271604938271604.\n",
      "[I 2025-02-25 17:11:43,266] A new study created in memory with name: no-name-37eb298f-56d2-4f36-901e-87bae381814f\n",
      "[I 2025-02-25 17:11:43,269] Trial 0 finished with value: 0.467548076923077 and parameters: {'k': 29}. Best is trial 0 with value: 0.467548076923077.\n",
      "[I 2025-02-25 17:11:43,273] Trial 1 finished with value: 0.5048076923076923 and parameters: {'k': 12}. Best is trial 1 with value: 0.5048076923076923.\n",
      "[I 2025-02-25 17:11:43,277] Trial 2 finished with value: 0.5384615384615384 and parameters: {'k': 11}. Best is trial 2 with value: 0.5384615384615384.\n",
      "[I 2025-02-25 17:11:43,281] Trial 3 finished with value: 0.375 and parameters: {'k': 42}. Best is trial 2 with value: 0.5384615384615384.\n",
      "[I 2025-02-25 17:11:43,285] Trial 4 finished with value: 0.5060096153846154 and parameters: {'k': 3}. Best is trial 2 with value: 0.5384615384615384.\n",
      "[I 2025-02-25 17:11:43,289] Trial 5 finished with value: 0.4807692307692307 and parameters: {'k': 28}. Best is trial 2 with value: 0.5384615384615384.\n",
      "[I 2025-02-25 17:11:43,293] Trial 6 finished with value: 0.3689903846153846 and parameters: {'k': 39}. Best is trial 2 with value: 0.5384615384615384.\n",
      "[I 2025-02-25 17:11:43,298] Trial 7 finished with value: 0.4483173076923077 and parameters: {'k': 32}. Best is trial 2 with value: 0.5384615384615384.\n",
      "[I 2025-02-25 17:11:43,302] Trial 8 finished with value: 0.43269230769230776 and parameters: {'k': 23}. Best is trial 2 with value: 0.5384615384615384.\n",
      "[I 2025-02-25 17:11:43,307] Trial 9 finished with value: 0.5324519230769231 and parameters: {'k': 5}. Best is trial 2 with value: 0.5384615384615384.\n",
      "[I 2025-02-25 17:11:43,312] Trial 10 finished with value: 0.42908653846153844 and parameters: {'k': 34}. Best is trial 2 with value: 0.5384615384615384.\n",
      "[I 2025-02-25 17:11:43,317] Trial 11 finished with value: 0.3990384615384616 and parameters: {'k': 36}. Best is trial 2 with value: 0.5384615384615384.\n",
      "[I 2025-02-25 17:11:43,322] Trial 12 finished with value: 0.47115384615384615 and parameters: {'k': 27}. Best is trial 2 with value: 0.5384615384615384.\n",
      "[I 2025-02-25 17:11:43,328] Trial 13 finished with value: 0.40144230769230765 and parameters: {'k': 35}. Best is trial 2 with value: 0.5384615384615384.\n",
      "[I 2025-02-25 17:11:43,335] Trial 14 finished with value: 0.4807692307692308 and parameters: {'k': 19}. Best is trial 2 with value: 0.5384615384615384.\n",
      "[I 2025-02-25 17:11:43,341] Trial 15 finished with value: 0.5 and parameters: {'k': 8}. Best is trial 2 with value: 0.5384615384615384.\n",
      "[I 2025-02-25 17:11:43,347] Trial 16 finished with value: 0.513221153846154 and parameters: {'k': 15}. Best is trial 2 with value: 0.5384615384615384.\n",
      "[I 2025-02-25 17:11:43,353] Trial 17 finished with value: 0.36658653846153844 and parameters: {'k': 46}. Best is trial 2 with value: 0.5384615384615384.\n",
      "[I 2025-02-25 17:11:43,360] Trial 18 finished with value: 0.36177884615384615 and parameters: {'k': 49}. Best is trial 2 with value: 0.5384615384615384.\n",
      "[I 2025-02-25 17:11:43,367] Trial 19 finished with value: 0.47235576923076916 and parameters: {'k': 30}. Best is trial 2 with value: 0.5384615384615384.\n",
      "[I 2025-02-25 17:11:43,373] Trial 20 finished with value: 0.5024038461538461 and parameters: {'k': 16}. Best is trial 2 with value: 0.5384615384615384.\n",
      "[I 2025-02-25 17:11:43,380] Trial 21 finished with value: 0.46754807692307687 and parameters: {'k': 31}. Best is trial 2 with value: 0.5384615384615384.\n",
      "[I 2025-02-25 17:11:43,387] Trial 22 finished with value: 0.43028846153846156 and parameters: {'k': 33}. Best is trial 2 with value: 0.5384615384615384.\n",
      "[I 2025-02-25 17:11:43,394] Trial 23 finished with value: 0.5120192307692307 and parameters: {'k': 17}. Best is trial 2 with value: 0.5384615384615384.\n",
      "[I 2025-02-25 17:11:43,401] Trial 24 finished with value: 0.3786057692307692 and parameters: {'k': 43}. Best is trial 2 with value: 0.5384615384615384.\n",
      "[I 2025-02-25 17:11:43,408] Trial 25 finished with value: 0.43750000000000006 and parameters: {'k': 21}. Best is trial 2 with value: 0.5384615384615384.\n",
      "[I 2025-02-25 17:11:43,415] Trial 26 finished with value: 0.37740384615384615 and parameters: {'k': 44}. Best is trial 2 with value: 0.5384615384615384.\n",
      "[I 2025-02-25 17:11:43,422] Trial 27 finished with value: 0.53125 and parameters: {'k': 9}. Best is trial 2 with value: 0.5384615384615384.\n",
      "[I 2025-02-25 17:11:43,430] Trial 28 finished with value: 0.5 and parameters: {'k': 14}. Best is trial 2 with value: 0.5384615384615384.\n",
      "[I 2025-02-25 17:11:43,437] Trial 29 finished with value: 0.44711538461538464 and parameters: {'k': 26}. Best is trial 2 with value: 0.5384615384615384.\n",
      "[I 2025-02-25 17:11:43,444] Trial 30 finished with value: 0.5072115384615384 and parameters: {'k': 6}. Best is trial 2 with value: 0.5384615384615384.\n",
      "[I 2025-02-25 17:11:43,452] Trial 31 finished with value: 0.5300480769230769 and parameters: {'k': 18}. Best is trial 2 with value: 0.5384615384615384.\n",
      "[I 2025-02-25 17:11:43,460] Trial 32 finished with value: 0.3786057692307693 and parameters: {'k': 41}. Best is trial 2 with value: 0.5384615384615384.\n",
      "[I 2025-02-25 17:11:43,468] Trial 33 finished with value: 0.375 and parameters: {'k': 50}. Best is trial 2 with value: 0.5384615384615384.\n",
      "[I 2025-02-25 17:11:43,476] Trial 34 finished with value: 0.46033653846153844 and parameters: {'k': 2}. Best is trial 2 with value: 0.5384615384615384.\n",
      "[I 2025-02-25 17:11:43,484] Trial 35 finished with value: 0.49158653846153844 and parameters: {'k': 13}. Best is trial 2 with value: 0.5384615384615384.\n",
      "[I 2025-02-25 17:11:43,492] Trial 36 finished with value: 0.36899038461538464 and parameters: {'k': 38}. Best is trial 2 with value: 0.5384615384615384.\n",
      "[I 2025-02-25 17:11:43,501] Trial 37 finished with value: 0.4435096153846154 and parameters: {'k': 25}. Best is trial 2 with value: 0.5384615384615384.\n",
      "[I 2025-02-25 17:11:43,509] Trial 38 finished with value: 0.47355769230769235 and parameters: {'k': 7}. Best is trial 2 with value: 0.5384615384615384.\n",
      "[I 2025-02-25 17:11:43,518] Trial 39 finished with value: 0.4483173076923077 and parameters: {'k': 24}. Best is trial 2 with value: 0.5384615384615384.\n",
      "[I 2025-02-25 17:11:43,526] Trial 40 finished with value: 0.375 and parameters: {'k': 37}. Best is trial 2 with value: 0.5384615384615384.\n",
      "[I 2025-02-25 17:11:43,535] Trial 41 finished with value: 0.421875 and parameters: {'k': 22}. Best is trial 2 with value: 0.5384615384615384.\n",
      "[I 2025-02-25 17:11:43,544] Trial 42 finished with value: 0.46153846153846156 and parameters: {'k': 20}. Best is trial 2 with value: 0.5384615384615384.\n",
      "[I 2025-02-25 17:11:43,554] Trial 43 finished with value: 0.5228365384615384 and parameters: {'k': 10}. Best is trial 2 with value: 0.5384615384615384.\n",
      "[I 2025-02-25 17:11:43,563] Trial 44 finished with value: 0.3762019230769231 and parameters: {'k': 40}. Best is trial 2 with value: 0.5384615384615384.\n",
      "[I 2025-02-25 17:11:43,573] Trial 45 finished with value: 0.3497596153846154 and parameters: {'k': 47}. Best is trial 2 with value: 0.5384615384615384.\n",
      "[I 2025-02-25 17:11:43,582] Trial 46 finished with value: 0.5060096153846154 and parameters: {'k': 4}. Best is trial 2 with value: 0.5384615384615384.\n",
      "[I 2025-02-25 17:11:43,592] Trial 47 finished with value: 0.5456730769230769 and parameters: {'k': 1}. Best is trial 47 with value: 0.5456730769230769.\n",
      "[I 2025-02-25 17:11:43,602] Trial 48 finished with value: 0.35216346153846156 and parameters: {'k': 48}. Best is trial 47 with value: 0.5456730769230769.\n",
      "[I 2025-02-25 17:11:43,612] Trial 49 finished with value: 0.39302884615384615 and parameters: {'k': 45}. Best is trial 47 with value: 0.5456730769230769.\n",
      "[I 2025-02-25 17:11:43,616] A new study created in memory with name: no-name-7cd8fc4b-a965-4782-9900-247371871316\n",
      "[I 2025-02-25 17:11:43,620] Trial 0 finished with value: 0.6263888888888889 and parameters: {'k': 29}. Best is trial 0 with value: 0.6263888888888889.\n",
      "[I 2025-02-25 17:11:43,623] Trial 1 finished with value: 0.7249999999999999 and parameters: {'k': 12}. Best is trial 1 with value: 0.7249999999999999.\n",
      "[I 2025-02-25 17:11:43,627] Trial 2 finished with value: 0.7208333333333334 and parameters: {'k': 11}. Best is trial 1 with value: 0.7249999999999999.\n",
      "[I 2025-02-25 17:11:43,631] Trial 3 finished with value: 0.6472222222222223 and parameters: {'k': 42}. Best is trial 1 with value: 0.7249999999999999.\n",
      "[I 2025-02-25 17:11:43,635] Trial 4 finished with value: 0.7166666666666668 and parameters: {'k': 3}. Best is trial 1 with value: 0.7249999999999999.\n",
      "[I 2025-02-25 17:11:43,639] Trial 5 finished with value: 0.6458333333333334 and parameters: {'k': 28}. Best is trial 1 with value: 0.7249999999999999.\n",
      "[I 2025-02-25 17:11:43,643] Trial 6 finished with value: 0.6555555555555556 and parameters: {'k': 39}. Best is trial 1 with value: 0.7249999999999999.\n",
      "[I 2025-02-25 17:11:43,648] Trial 7 finished with value: 0.6319444444444444 and parameters: {'k': 32}. Best is trial 1 with value: 0.7249999999999999.\n",
      "[I 2025-02-25 17:11:43,653] Trial 8 finished with value: 0.7069444444444445 and parameters: {'k': 23}. Best is trial 1 with value: 0.7249999999999999.\n",
      "[I 2025-02-25 17:11:43,657] Trial 9 finished with value: 0.6972222222222222 and parameters: {'k': 5}. Best is trial 1 with value: 0.7249999999999999.\n",
      "[I 2025-02-25 17:11:43,662] Trial 10 finished with value: 0.6402777777777778 and parameters: {'k': 34}. Best is trial 1 with value: 0.7249999999999999.\n",
      "[I 2025-02-25 17:11:43,667] Trial 11 finished with value: 0.6722222222222222 and parameters: {'k': 36}. Best is trial 1 with value: 0.7249999999999999.\n",
      "[I 2025-02-25 17:11:43,672] Trial 12 finished with value: 0.6625 and parameters: {'k': 27}. Best is trial 1 with value: 0.7249999999999999.\n",
      "[I 2025-02-25 17:11:43,678] Trial 13 finished with value: 0.6486111111111111 and parameters: {'k': 35}. Best is trial 1 with value: 0.7249999999999999.\n",
      "[I 2025-02-25 17:11:43,683] Trial 14 finished with value: 0.7236111111111111 and parameters: {'k': 19}. Best is trial 1 with value: 0.7249999999999999.\n",
      "[I 2025-02-25 17:11:43,688] Trial 15 finished with value: 0.7458333333333333 and parameters: {'k': 8}. Best is trial 15 with value: 0.7458333333333333.\n",
      "[I 2025-02-25 17:11:43,694] Trial 16 finished with value: 0.7333333333333334 and parameters: {'k': 15}. Best is trial 15 with value: 0.7458333333333333.\n",
      "[I 2025-02-25 17:11:43,700] Trial 17 finished with value: 0.6694444444444444 and parameters: {'k': 46}. Best is trial 15 with value: 0.7458333333333333.\n",
      "[I 2025-02-25 17:11:43,706] Trial 18 finished with value: 0.6708333333333333 and parameters: {'k': 49}. Best is trial 15 with value: 0.7458333333333333.\n",
      "[I 2025-02-25 17:11:43,712] Trial 19 finished with value: 0.6097222222222223 and parameters: {'k': 30}. Best is trial 15 with value: 0.7458333333333333.\n",
      "[I 2025-02-25 17:11:43,718] Trial 20 finished with value: 0.7305555555555555 and parameters: {'k': 16}. Best is trial 15 with value: 0.7458333333333333.\n",
      "[I 2025-02-25 17:11:43,725] Trial 21 finished with value: 0.6305555555555555 and parameters: {'k': 31}. Best is trial 15 with value: 0.7458333333333333.\n",
      "[I 2025-02-25 17:11:43,731] Trial 22 finished with value: 0.6277777777777778 and parameters: {'k': 33}. Best is trial 15 with value: 0.7458333333333333.\n",
      "[I 2025-02-25 17:11:43,738] Trial 23 finished with value: 0.7486111111111112 and parameters: {'k': 17}. Best is trial 23 with value: 0.7486111111111112.\n",
      "[I 2025-02-25 17:11:43,744] Trial 24 finished with value: 0.6486111111111111 and parameters: {'k': 43}. Best is trial 23 with value: 0.7486111111111112.\n",
      "[I 2025-02-25 17:11:43,751] Trial 25 finished with value: 0.7013888888888888 and parameters: {'k': 21}. Best is trial 23 with value: 0.7486111111111112.\n",
      "[I 2025-02-25 17:11:43,758] Trial 26 finished with value: 0.6583333333333333 and parameters: {'k': 44}. Best is trial 23 with value: 0.7486111111111112.\n",
      "[I 2025-02-25 17:11:43,765] Trial 27 finished with value: 0.7166666666666667 and parameters: {'k': 9}. Best is trial 23 with value: 0.7486111111111112.\n",
      "[I 2025-02-25 17:11:43,773] Trial 28 finished with value: 0.7361111111111112 and parameters: {'k': 14}. Best is trial 23 with value: 0.7486111111111112.\n",
      "[I 2025-02-25 17:11:43,780] Trial 29 finished with value: 0.6708333333333333 and parameters: {'k': 26}. Best is trial 23 with value: 0.7486111111111112.\n",
      "[I 2025-02-25 17:11:43,787] Trial 30 finished with value: 0.6791666666666667 and parameters: {'k': 6}. Best is trial 23 with value: 0.7486111111111112.\n",
      "[I 2025-02-25 17:11:43,795] Trial 31 finished with value: 0.7305555555555556 and parameters: {'k': 18}. Best is trial 23 with value: 0.7486111111111112.\n",
      "[I 2025-02-25 17:11:43,803] Trial 32 finished with value: 0.6416666666666666 and parameters: {'k': 41}. Best is trial 23 with value: 0.7486111111111112.\n",
      "[I 2025-02-25 17:11:43,811] Trial 33 finished with value: 0.6458333333333333 and parameters: {'k': 50}. Best is trial 23 with value: 0.7486111111111112.\n",
      "[I 2025-02-25 17:11:43,818] Trial 34 finished with value: 0.7291666666666667 and parameters: {'k': 2}. Best is trial 23 with value: 0.7486111111111112.\n",
      "[I 2025-02-25 17:11:43,826] Trial 35 finished with value: 0.7166666666666667 and parameters: {'k': 13}. Best is trial 23 with value: 0.7486111111111112.\n",
      "[I 2025-02-25 17:11:43,835] Trial 36 finished with value: 0.6541666666666667 and parameters: {'k': 38}. Best is trial 23 with value: 0.7486111111111112.\n",
      "[I 2025-02-25 17:11:43,843] Trial 37 finished with value: 0.6777777777777778 and parameters: {'k': 25}. Best is trial 23 with value: 0.7486111111111112.\n",
      "[I 2025-02-25 17:11:43,852] Trial 38 finished with value: 0.7097222222222223 and parameters: {'k': 7}. Best is trial 23 with value: 0.7486111111111112.\n",
      "[I 2025-02-25 17:11:43,861] Trial 39 finished with value: 0.7055555555555556 and parameters: {'k': 24}. Best is trial 23 with value: 0.7486111111111112.\n",
      "[I 2025-02-25 17:11:43,869] Trial 40 finished with value: 0.6736111111111112 and parameters: {'k': 37}. Best is trial 23 with value: 0.7486111111111112.\n",
      "[I 2025-02-25 17:11:43,878] Trial 41 finished with value: 0.7027777777777778 and parameters: {'k': 22}. Best is trial 23 with value: 0.7486111111111112.\n",
      "[I 2025-02-25 17:11:43,887] Trial 42 finished with value: 0.7361111111111112 and parameters: {'k': 20}. Best is trial 23 with value: 0.7486111111111112.\n",
      "[I 2025-02-25 17:11:43,896] Trial 43 finished with value: 0.7097222222222223 and parameters: {'k': 10}. Best is trial 23 with value: 0.7486111111111112.\n",
      "[I 2025-02-25 17:11:43,906] Trial 44 finished with value: 0.6361111111111111 and parameters: {'k': 40}. Best is trial 23 with value: 0.7486111111111112.\n",
      "[I 2025-02-25 17:11:43,915] Trial 45 finished with value: 0.6666666666666666 and parameters: {'k': 47}. Best is trial 23 with value: 0.7486111111111112.\n",
      "[I 2025-02-25 17:11:43,925] Trial 46 finished with value: 0.6777777777777778 and parameters: {'k': 4}. Best is trial 23 with value: 0.7486111111111112.\n",
      "[I 2025-02-25 17:11:43,934] Trial 47 finished with value: 0.5999999999999999 and parameters: {'k': 1}. Best is trial 23 with value: 0.7486111111111112.\n",
      "[I 2025-02-25 17:11:43,945] Trial 48 finished with value: 0.6652777777777777 and parameters: {'k': 48}. Best is trial 23 with value: 0.7486111111111112.\n",
      "[I 2025-02-25 17:11:43,955] Trial 49 finished with value: 0.6583333333333333 and parameters: {'k': 45}. Best is trial 23 with value: 0.7486111111111112.\n",
      "[I 2025-02-25 17:11:43,959] A new study created in memory with name: no-name-e5a37e92-4345-4347-b2c5-bef987355cf8\n",
      "[I 2025-02-25 17:11:43,963] Trial 0 finished with value: 0.682716049382716 and parameters: {'k': 29}. Best is trial 0 with value: 0.682716049382716.\n",
      "[I 2025-02-25 17:11:43,966] Trial 1 finished with value: 0.6913580246913581 and parameters: {'k': 12}. Best is trial 1 with value: 0.6913580246913581.\n",
      "[I 2025-02-25 17:11:43,970] Trial 2 finished with value: 0.6765432098765433 and parameters: {'k': 11}. Best is trial 1 with value: 0.6913580246913581.\n",
      "[I 2025-02-25 17:11:43,974] Trial 3 finished with value: 0.6160493827160494 and parameters: {'k': 42}. Best is trial 1 with value: 0.6913580246913581.\n",
      "[I 2025-02-25 17:11:43,978] Trial 4 finished with value: 0.5469135802469136 and parameters: {'k': 3}. Best is trial 1 with value: 0.6913580246913581.\n",
      "[I 2025-02-25 17:11:43,982] Trial 5 finished with value: 0.6666666666666667 and parameters: {'k': 28}. Best is trial 1 with value: 0.6913580246913581.\n",
      "[I 2025-02-25 17:11:43,987] Trial 6 finished with value: 0.6444444444444445 and parameters: {'k': 39}. Best is trial 1 with value: 0.6913580246913581.\n",
      "[I 2025-02-25 17:11:43,991] Trial 7 finished with value: 0.6691358024691358 and parameters: {'k': 32}. Best is trial 1 with value: 0.6913580246913581.\n",
      "[I 2025-02-25 17:11:43,996] Trial 8 finished with value: 0.6567901234567901 and parameters: {'k': 23}. Best is trial 1 with value: 0.6913580246913581.\n",
      "[I 2025-02-25 17:11:44,000] Trial 9 finished with value: 0.6061728395061728 and parameters: {'k': 5}. Best is trial 1 with value: 0.6913580246913581.\n",
      "[I 2025-02-25 17:11:44,006] Trial 10 finished with value: 0.6703703703703704 and parameters: {'k': 34}. Best is trial 1 with value: 0.6913580246913581.\n",
      "[I 2025-02-25 17:11:44,011] Trial 11 finished with value: 0.6172839506172839 and parameters: {'k': 36}. Best is trial 1 with value: 0.6913580246913581.\n",
      "[I 2025-02-25 17:11:44,017] Trial 12 finished with value: 0.6567901234567901 and parameters: {'k': 27}. Best is trial 1 with value: 0.6913580246913581.\n",
      "[I 2025-02-25 17:11:44,023] Trial 13 finished with value: 0.625925925925926 and parameters: {'k': 35}. Best is trial 1 with value: 0.6913580246913581.\n",
      "[I 2025-02-25 17:11:44,030] Trial 14 finished with value: 0.654320987654321 and parameters: {'k': 19}. Best is trial 1 with value: 0.6913580246913581.\n",
      "[I 2025-02-25 17:11:44,035] Trial 15 finished with value: 0.6592592592592593 and parameters: {'k': 8}. Best is trial 1 with value: 0.6913580246913581.\n",
      "[I 2025-02-25 17:11:44,041] Trial 16 finished with value: 0.7222222222222222 and parameters: {'k': 15}. Best is trial 16 with value: 0.7222222222222222.\n",
      "[I 2025-02-25 17:11:44,047] Trial 17 finished with value: 0.6666666666666667 and parameters: {'k': 46}. Best is trial 16 with value: 0.7222222222222222.\n",
      "[I 2025-02-25 17:11:44,053] Trial 18 finished with value: 0.6617283950617284 and parameters: {'k': 49}. Best is trial 16 with value: 0.7222222222222222.\n",
      "[I 2025-02-25 17:11:44,059] Trial 19 finished with value: 0.6851851851851852 and parameters: {'k': 30}. Best is trial 16 with value: 0.7222222222222222.\n",
      "[I 2025-02-25 17:11:44,065] Trial 20 finished with value: 0.7098765432098765 and parameters: {'k': 16}. Best is trial 16 with value: 0.7222222222222222.\n",
      "[I 2025-02-25 17:11:44,072] Trial 21 finished with value: 0.6765432098765433 and parameters: {'k': 31}. Best is trial 16 with value: 0.7222222222222222.\n",
      "[I 2025-02-25 17:11:44,078] Trial 22 finished with value: 0.6641975308641975 and parameters: {'k': 33}. Best is trial 16 with value: 0.7222222222222222.\n",
      "[I 2025-02-25 17:11:44,085] Trial 23 finished with value: 0.6506172839506174 and parameters: {'k': 17}. Best is trial 16 with value: 0.7222222222222222.\n",
      "[I 2025-02-25 17:11:44,092] Trial 24 finished with value: 0.634567901234568 and parameters: {'k': 43}. Best is trial 16 with value: 0.7222222222222222.\n",
      "[I 2025-02-25 17:11:44,099] Trial 25 finished with value: 0.6506172839506174 and parameters: {'k': 21}. Best is trial 16 with value: 0.7222222222222222.\n",
      "[I 2025-02-25 17:11:44,106] Trial 26 finished with value: 0.6530864197530863 and parameters: {'k': 44}. Best is trial 16 with value: 0.7222222222222222.\n",
      "[I 2025-02-25 17:11:44,113] Trial 27 finished with value: 0.6938271604938272 and parameters: {'k': 9}. Best is trial 16 with value: 0.7222222222222222.\n",
      "[I 2025-02-25 17:11:44,120] Trial 28 finished with value: 0.6753086419753086 and parameters: {'k': 14}. Best is trial 16 with value: 0.7222222222222222.\n",
      "[I 2025-02-25 17:11:44,128] Trial 29 finished with value: 0.6296296296296297 and parameters: {'k': 26}. Best is trial 16 with value: 0.7222222222222222.\n",
      "[I 2025-02-25 17:11:44,135] Trial 30 finished with value: 0.6382716049382716 and parameters: {'k': 6}. Best is trial 16 with value: 0.7222222222222222.\n",
      "[I 2025-02-25 17:11:44,143] Trial 31 finished with value: 0.6580246913580248 and parameters: {'k': 18}. Best is trial 16 with value: 0.7222222222222222.\n",
      "[I 2025-02-25 17:11:44,150] Trial 32 finished with value: 0.6222222222222222 and parameters: {'k': 41}. Best is trial 16 with value: 0.7222222222222222.\n",
      "[I 2025-02-25 17:11:44,158] Trial 33 finished with value: 0.6654320987654322 and parameters: {'k': 50}. Best is trial 16 with value: 0.7222222222222222.\n",
      "[I 2025-02-25 17:11:44,166] Trial 34 finished with value: 0.5407407407407407 and parameters: {'k': 2}. Best is trial 16 with value: 0.7222222222222222.\n",
      "[I 2025-02-25 17:11:44,174] Trial 35 finished with value: 0.7012345679012345 and parameters: {'k': 13}. Best is trial 16 with value: 0.7222222222222222.\n",
      "[I 2025-02-25 17:11:44,183] Trial 36 finished with value: 0.6493827160493827 and parameters: {'k': 38}. Best is trial 16 with value: 0.7222222222222222.\n",
      "[I 2025-02-25 17:11:44,191] Trial 37 finished with value: 0.6283950617283951 and parameters: {'k': 25}. Best is trial 16 with value: 0.7222222222222222.\n",
      "[I 2025-02-25 17:11:44,200] Trial 38 finished with value: 0.645679012345679 and parameters: {'k': 7}. Best is trial 16 with value: 0.7222222222222222.\n",
      "[I 2025-02-25 17:11:44,209] Trial 39 finished with value: 0.6308641975308643 and parameters: {'k': 24}. Best is trial 16 with value: 0.7222222222222222.\n",
      "[I 2025-02-25 17:11:44,218] Trial 40 finished with value: 0.6123456790123457 and parameters: {'k': 37}. Best is trial 16 with value: 0.7222222222222222.\n",
      "[I 2025-02-25 17:11:44,227] Trial 41 finished with value: 0.6148148148148148 and parameters: {'k': 22}. Best is trial 16 with value: 0.7222222222222222.\n",
      "[I 2025-02-25 17:11:44,236] Trial 42 finished with value: 0.662962962962963 and parameters: {'k': 20}. Best is trial 16 with value: 0.7222222222222222.\n",
      "[I 2025-02-25 17:11:44,245] Trial 43 finished with value: 0.6827160493827161 and parameters: {'k': 10}. Best is trial 16 with value: 0.7222222222222222.\n",
      "[I 2025-02-25 17:11:44,255] Trial 44 finished with value: 0.6407407407407407 and parameters: {'k': 40}. Best is trial 16 with value: 0.7222222222222222.\n",
      "[I 2025-02-25 17:11:44,265] Trial 45 finished with value: 0.6518518518518519 and parameters: {'k': 47}. Best is trial 16 with value: 0.7222222222222222.\n",
      "[I 2025-02-25 17:11:44,274] Trial 46 finished with value: 0.6074074074074074 and parameters: {'k': 4}. Best is trial 16 with value: 0.7222222222222222.\n",
      "[I 2025-02-25 17:11:44,284] Trial 47 finished with value: 0.5481481481481483 and parameters: {'k': 1}. Best is trial 16 with value: 0.7222222222222222.\n",
      "[I 2025-02-25 17:11:44,295] Trial 48 finished with value: 0.6604938271604939 and parameters: {'k': 48}. Best is trial 16 with value: 0.7222222222222222.\n",
      "[I 2025-02-25 17:11:44,305] Trial 49 finished with value: 0.654320987654321 and parameters: {'k': 45}. Best is trial 16 with value: 0.7222222222222222.\n",
      "[I 2025-02-25 17:11:44,309] A new study created in memory with name: no-name-d4df83c7-2690-4b60-aab9-72d3c4808a39\n",
      "[I 2025-02-25 17:11:44,313] Trial 0 finished with value: 0.7247596153846154 and parameters: {'k': 29}. Best is trial 0 with value: 0.7247596153846154.\n",
      "[I 2025-02-25 17:11:44,317] Trial 1 finished with value: 0.6838942307692307 and parameters: {'k': 12}. Best is trial 0 with value: 0.7247596153846154.\n",
      "[I 2025-02-25 17:11:44,320] Trial 2 finished with value: 0.6201923076923077 and parameters: {'k': 11}. Best is trial 0 with value: 0.7247596153846154.\n",
      "[I 2025-02-25 17:11:44,325] Trial 3 finished with value: 0.7247596153846154 and parameters: {'k': 42}. Best is trial 0 with value: 0.7247596153846154.\n",
      "[I 2025-02-25 17:11:44,328] Trial 4 finished with value: 0.59375 and parameters: {'k': 3}. Best is trial 0 with value: 0.7247596153846154.\n",
      "[I 2025-02-25 17:11:44,333] Trial 5 finished with value: 0.7235576923076923 and parameters: {'k': 28}. Best is trial 0 with value: 0.7247596153846154.\n",
      "[I 2025-02-25 17:11:44,337] Trial 6 finished with value: 0.7175480769230769 and parameters: {'k': 39}. Best is trial 0 with value: 0.7247596153846154.\n",
      "[I 2025-02-25 17:11:44,342] Trial 7 finished with value: 0.7211538461538461 and parameters: {'k': 32}. Best is trial 0 with value: 0.7247596153846154.\n",
      "[I 2025-02-25 17:11:44,346] Trial 8 finished with value: 0.7067307692307693 and parameters: {'k': 23}. Best is trial 0 with value: 0.7247596153846154.\n",
      "[I 2025-02-25 17:11:44,351] Trial 9 finished with value: 0.5673076923076923 and parameters: {'k': 5}. Best is trial 0 with value: 0.7247596153846154.\n",
      "[I 2025-02-25 17:11:44,356] Trial 10 finished with value: 0.7199519230769231 and parameters: {'k': 34}. Best is trial 0 with value: 0.7247596153846154.\n",
      "[I 2025-02-25 17:11:44,361] Trial 11 finished with value: 0.7259615384615384 and parameters: {'k': 36}. Best is trial 11 with value: 0.7259615384615384.\n",
      "[I 2025-02-25 17:11:44,366] Trial 12 finished with value: 0.7295673076923077 and parameters: {'k': 27}. Best is trial 12 with value: 0.7295673076923077.\n",
      "[I 2025-02-25 17:11:44,372] Trial 13 finished with value: 0.7379807692307693 and parameters: {'k': 35}. Best is trial 13 with value: 0.7379807692307693.\n",
      "[I 2025-02-25 17:11:44,377] Trial 14 finished with value: 0.6911057692307693 and parameters: {'k': 19}. Best is trial 13 with value: 0.7379807692307693.\n",
      "[I 2025-02-25 17:11:44,383] Trial 15 finished with value: 0.5817307692307692 and parameters: {'k': 8}. Best is trial 13 with value: 0.7379807692307693.\n",
      "[I 2025-02-25 17:11:44,388] Trial 16 finished with value: 0.6658653846153846 and parameters: {'k': 15}. Best is trial 13 with value: 0.7379807692307693.\n",
      "[I 2025-02-25 17:11:44,394] Trial 17 finished with value: 0.6935096153846154 and parameters: {'k': 46}. Best is trial 13 with value: 0.7379807692307693.\n",
      "[I 2025-02-25 17:11:44,400] Trial 18 finished with value: 0.6790865384615384 and parameters: {'k': 49}. Best is trial 13 with value: 0.7379807692307693.\n",
      "[I 2025-02-25 17:11:44,406] Trial 19 finished with value: 0.7139423076923077 and parameters: {'k': 30}. Best is trial 13 with value: 0.7379807692307693.\n",
      "[I 2025-02-25 17:11:44,413] Trial 20 finished with value: 0.6887019230769231 and parameters: {'k': 16}. Best is trial 13 with value: 0.7379807692307693.\n",
      "[I 2025-02-25 17:11:44,419] Trial 21 finished with value: 0.7151442307692308 and parameters: {'k': 31}. Best is trial 13 with value: 0.7379807692307693.\n",
      "[I 2025-02-25 17:11:44,425] Trial 22 finished with value: 0.7223557692307692 and parameters: {'k': 33}. Best is trial 13 with value: 0.7379807692307693.\n",
      "[I 2025-02-25 17:11:44,432] Trial 23 finished with value: 0.6838942307692307 and parameters: {'k': 17}. Best is trial 13 with value: 0.7379807692307693.\n",
      "[I 2025-02-25 17:11:44,439] Trial 24 finished with value: 0.7103365384615384 and parameters: {'k': 43}. Best is trial 13 with value: 0.7379807692307693.\n",
      "[I 2025-02-25 17:11:44,446] Trial 25 finished with value: 0.7211538461538461 and parameters: {'k': 21}. Best is trial 13 with value: 0.7379807692307693.\n",
      "[I 2025-02-25 17:11:44,453] Trial 26 finished with value: 0.6971153846153845 and parameters: {'k': 44}. Best is trial 13 with value: 0.7379807692307693.\n",
      "[I 2025-02-25 17:11:44,460] Trial 27 finished with value: 0.592548076923077 and parameters: {'k': 9}. Best is trial 13 with value: 0.7379807692307693.\n",
      "[I 2025-02-25 17:11:44,468] Trial 28 finished with value: 0.6634615384615384 and parameters: {'k': 14}. Best is trial 13 with value: 0.7379807692307693.\n",
      "[I 2025-02-25 17:11:44,476] Trial 29 finished with value: 0.7091346153846153 and parameters: {'k': 26}. Best is trial 13 with value: 0.7379807692307693.\n",
      "[I 2025-02-25 17:11:44,484] Trial 30 finished with value: 0.5721153846153846 and parameters: {'k': 6}. Best is trial 13 with value: 0.7379807692307693.\n",
      "[I 2025-02-25 17:11:44,495] Trial 31 finished with value: 0.6706730769230769 and parameters: {'k': 18}. Best is trial 13 with value: 0.7379807692307693.\n",
      "[I 2025-02-25 17:11:44,506] Trial 32 finished with value: 0.7283653846153846 and parameters: {'k': 41}. Best is trial 13 with value: 0.7379807692307693.\n",
      "[I 2025-02-25 17:11:44,518] Trial 33 finished with value: 0.689903846153846 and parameters: {'k': 50}. Best is trial 13 with value: 0.7379807692307693.\n",
      "[I 2025-02-25 17:11:44,530] Trial 34 finished with value: 0.6358173076923077 and parameters: {'k': 2}. Best is trial 13 with value: 0.7379807692307693.\n",
      "[I 2025-02-25 17:11:44,541] Trial 35 finished with value: 0.7139423076923077 and parameters: {'k': 13}. Best is trial 13 with value: 0.7379807692307693.\n",
      "[I 2025-02-25 17:11:44,553] Trial 36 finished with value: 0.703125 and parameters: {'k': 38}. Best is trial 13 with value: 0.7379807692307693.\n",
      "[I 2025-02-25 17:11:44,564] Trial 37 finished with value: 0.703125 and parameters: {'k': 25}. Best is trial 13 with value: 0.7379807692307693.\n",
      "[I 2025-02-25 17:11:44,575] Trial 38 finished with value: 0.5889423076923077 and parameters: {'k': 7}. Best is trial 13 with value: 0.7379807692307693.\n",
      "[I 2025-02-25 17:11:44,586] Trial 39 finished with value: 0.703125 and parameters: {'k': 24}. Best is trial 13 with value: 0.7379807692307693.\n",
      "[I 2025-02-25 17:11:44,598] Trial 40 finished with value: 0.71875 and parameters: {'k': 37}. Best is trial 13 with value: 0.7379807692307693.\n",
      "[I 2025-02-25 17:11:44,607] Trial 41 finished with value: 0.7223557692307692 and parameters: {'k': 22}. Best is trial 13 with value: 0.7379807692307693.\n",
      "[I 2025-02-25 17:11:44,616] Trial 42 finished with value: 0.6911057692307692 and parameters: {'k': 20}. Best is trial 13 with value: 0.7379807692307693.\n",
      "[I 2025-02-25 17:11:44,625] Trial 43 finished with value: 0.6298076923076923 and parameters: {'k': 10}. Best is trial 13 with value: 0.7379807692307693.\n",
      "[I 2025-02-25 17:11:44,634] Trial 44 finished with value: 0.7175480769230769 and parameters: {'k': 40}. Best is trial 13 with value: 0.7379807692307693.\n",
      "[I 2025-02-25 17:11:44,644] Trial 45 finished with value: 0.6706730769230769 and parameters: {'k': 47}. Best is trial 13 with value: 0.7379807692307693.\n",
      "[I 2025-02-25 17:11:44,653] Trial 46 finished with value: 0.5408653846153846 and parameters: {'k': 4}. Best is trial 13 with value: 0.7379807692307693.\n",
      "[I 2025-02-25 17:11:44,663] Trial 47 finished with value: 0.5216346153846154 and parameters: {'k': 1}. Best is trial 13 with value: 0.7379807692307693.\n",
      "[I 2025-02-25 17:11:44,673] Trial 48 finished with value: 0.6790865384615384 and parameters: {'k': 48}. Best is trial 13 with value: 0.7379807692307693.\n",
      "[I 2025-02-25 17:11:44,683] Trial 49 finished with value: 0.6935096153846154 and parameters: {'k': 45}. Best is trial 13 with value: 0.7379807692307693.\n",
      "[I 2025-02-25 17:11:44,688] A new study created in memory with name: no-name-05567f38-dfd9-4600-a26d-6e6cf14228cb\n",
      "[I 2025-02-25 17:11:44,692] Trial 0 finished with value: 0.6135802469135803 and parameters: {'k': 29}. Best is trial 0 with value: 0.6135802469135803.\n",
      "[I 2025-02-25 17:11:44,695] Trial 1 finished with value: 0.5962962962962963 and parameters: {'k': 12}. Best is trial 0 with value: 0.6135802469135803.\n",
      "[I 2025-02-25 17:11:44,699] Trial 2 finished with value: 0.606172839506173 and parameters: {'k': 11}. Best is trial 0 with value: 0.6135802469135803.\n",
      "[I 2025-02-25 17:11:44,703] Trial 3 finished with value: 0.6469135802469136 and parameters: {'k': 42}. Best is trial 3 with value: 0.6469135802469136.\n",
      "[I 2025-02-25 17:11:44,707] Trial 4 finished with value: 0.4444444444444444 and parameters: {'k': 3}. Best is trial 3 with value: 0.6469135802469136.\n",
      "[I 2025-02-25 17:11:44,711] Trial 5 finished with value: 0.6296296296296297 and parameters: {'k': 28}. Best is trial 3 with value: 0.6469135802469136.\n",
      "[I 2025-02-25 17:11:44,715] Trial 6 finished with value: 0.654320987654321 and parameters: {'k': 39}. Best is trial 6 with value: 0.654320987654321.\n",
      "[I 2025-02-25 17:11:44,719] Trial 7 finished with value: 0.6358024691358025 and parameters: {'k': 32}. Best is trial 6 with value: 0.654320987654321.\n",
      "[I 2025-02-25 17:11:44,724] Trial 8 finished with value: 0.5888888888888889 and parameters: {'k': 23}. Best is trial 6 with value: 0.654320987654321.\n",
      "[I 2025-02-25 17:11:44,728] Trial 9 finished with value: 0.5814814814814815 and parameters: {'k': 5}. Best is trial 6 with value: 0.654320987654321.\n",
      "[I 2025-02-25 17:11:44,733] Trial 10 finished with value: 0.6456790123456791 and parameters: {'k': 34}. Best is trial 6 with value: 0.654320987654321.\n",
      "[I 2025-02-25 17:11:44,738] Trial 11 finished with value: 0.6444444444444445 and parameters: {'k': 36}. Best is trial 6 with value: 0.654320987654321.\n",
      "[I 2025-02-25 17:11:44,743] Trial 12 finished with value: 0.6246913580246913 and parameters: {'k': 27}. Best is trial 6 with value: 0.654320987654321.\n",
      "[I 2025-02-25 17:11:44,749] Trial 13 finished with value: 0.645679012345679 and parameters: {'k': 35}. Best is trial 6 with value: 0.654320987654321.\n",
      "[I 2025-02-25 17:11:44,754] Trial 14 finished with value: 0.6098765432098766 and parameters: {'k': 19}. Best is trial 6 with value: 0.654320987654321.\n",
      "[I 2025-02-25 17:11:44,760] Trial 15 finished with value: 0.5950617283950617 and parameters: {'k': 8}. Best is trial 6 with value: 0.654320987654321.\n",
      "[I 2025-02-25 17:11:44,765] Trial 16 finished with value: 0.5864197530864198 and parameters: {'k': 15}. Best is trial 6 with value: 0.654320987654321.\n",
      "[I 2025-02-25 17:11:44,771] Trial 17 finished with value: 0.6641975308641975 and parameters: {'k': 46}. Best is trial 17 with value: 0.6641975308641975.\n",
      "[I 2025-02-25 17:11:44,777] Trial 18 finished with value: 0.6567901234567901 and parameters: {'k': 49}. Best is trial 17 with value: 0.6641975308641975.\n",
      "[I 2025-02-25 17:11:44,783] Trial 19 finished with value: 0.6283950617283951 and parameters: {'k': 30}. Best is trial 17 with value: 0.6641975308641975.\n",
      "[I 2025-02-25 17:11:44,790] Trial 20 finished with value: 0.5320987654320988 and parameters: {'k': 16}. Best is trial 17 with value: 0.6641975308641975.\n",
      "[I 2025-02-25 17:11:44,796] Trial 21 finished with value: 0.6481481481481483 and parameters: {'k': 31}. Best is trial 17 with value: 0.6641975308641975.\n",
      "[I 2025-02-25 17:11:44,803] Trial 22 finished with value: 0.6358024691358025 and parameters: {'k': 33}. Best is trial 17 with value: 0.6641975308641975.\n",
      "[I 2025-02-25 17:11:44,809] Trial 23 finished with value: 0.5567901234567902 and parameters: {'k': 17}. Best is trial 17 with value: 0.6641975308641975.\n",
      "[I 2025-02-25 17:11:44,816] Trial 24 finished with value: 0.6567901234567901 and parameters: {'k': 43}. Best is trial 17 with value: 0.6641975308641975.\n",
      "[I 2025-02-25 17:11:44,823] Trial 25 finished with value: 0.6123456790123457 and parameters: {'k': 21}. Best is trial 17 with value: 0.6641975308641975.\n",
      "[I 2025-02-25 17:11:44,830] Trial 26 finished with value: 0.6481481481481481 and parameters: {'k': 44}. Best is trial 17 with value: 0.6641975308641975.\n",
      "[I 2025-02-25 17:11:44,837] Trial 27 finished with value: 0.6074074074074074 and parameters: {'k': 9}. Best is trial 17 with value: 0.6641975308641975.\n",
      "[I 2025-02-25 17:11:44,844] Trial 28 finished with value: 0.6518518518518519 and parameters: {'k': 14}. Best is trial 17 with value: 0.6641975308641975.\n",
      "[I 2025-02-25 17:11:44,852] Trial 29 finished with value: 0.6234567901234568 and parameters: {'k': 26}. Best is trial 17 with value: 0.6641975308641975.\n",
      "[I 2025-02-25 17:11:44,859] Trial 30 finished with value: 0.5555555555555556 and parameters: {'k': 6}. Best is trial 17 with value: 0.6641975308641975.\n",
      "[I 2025-02-25 17:11:44,867] Trial 31 finished with value: 0.5518518518518519 and parameters: {'k': 18}. Best is trial 17 with value: 0.6641975308641975.\n",
      "[I 2025-02-25 17:11:44,875] Trial 32 finished with value: 0.6407407407407407 and parameters: {'k': 41}. Best is trial 17 with value: 0.6641975308641975.\n",
      "[I 2025-02-25 17:11:44,883] Trial 33 finished with value: 0.6716049382716051 and parameters: {'k': 50}. Best is trial 33 with value: 0.6716049382716051.\n",
      "[I 2025-02-25 17:11:44,891] Trial 34 finished with value: 0.5493827160493827 and parameters: {'k': 2}. Best is trial 33 with value: 0.6716049382716051.\n",
      "[I 2025-02-25 17:11:44,899] Trial 35 finished with value: 0.645679012345679 and parameters: {'k': 13}. Best is trial 33 with value: 0.6716049382716051.\n",
      "[I 2025-02-25 17:11:44,907] Trial 36 finished with value: 0.6518518518518518 and parameters: {'k': 38}. Best is trial 33 with value: 0.6716049382716051.\n",
      "[I 2025-02-25 17:11:44,916] Trial 37 finished with value: 0.6123456790123457 and parameters: {'k': 25}. Best is trial 33 with value: 0.6716049382716051.\n",
      "[I 2025-02-25 17:11:44,924] Trial 38 finished with value: 0.571604938271605 and parameters: {'k': 7}. Best is trial 33 with value: 0.6716049382716051.\n",
      "[I 2025-02-25 17:11:44,933] Trial 39 finished with value: 0.5962962962962962 and parameters: {'k': 24}. Best is trial 33 with value: 0.6716049382716051.\n",
      "[I 2025-02-25 17:11:44,942] Trial 40 finished with value: 0.654320987654321 and parameters: {'k': 37}. Best is trial 33 with value: 0.6716049382716051.\n",
      "[I 2025-02-25 17:11:44,951] Trial 41 finished with value: 0.6049382716049383 and parameters: {'k': 22}. Best is trial 33 with value: 0.6716049382716051.\n",
      "[I 2025-02-25 17:11:44,960] Trial 42 finished with value: 0.6160493827160494 and parameters: {'k': 20}. Best is trial 33 with value: 0.6716049382716051.\n",
      "[I 2025-02-25 17:11:44,969] Trial 43 finished with value: 0.5925925925925926 and parameters: {'k': 10}. Best is trial 33 with value: 0.6716049382716051.\n",
      "[I 2025-02-25 17:11:44,979] Trial 44 finished with value: 0.6555555555555556 and parameters: {'k': 40}. Best is trial 33 with value: 0.6716049382716051.\n",
      "[I 2025-02-25 17:11:44,988] Trial 45 finished with value: 0.6617283950617284 and parameters: {'k': 47}. Best is trial 33 with value: 0.6716049382716051.\n",
      "[I 2025-02-25 17:11:44,998] Trial 46 finished with value: 0.4814814814814815 and parameters: {'k': 4}. Best is trial 33 with value: 0.6716049382716051.\n",
      "[I 2025-02-25 17:11:45,008] Trial 47 finished with value: 0.4740740740740741 and parameters: {'k': 1}. Best is trial 33 with value: 0.6716049382716051.\n",
      "[I 2025-02-25 17:11:45,018] Trial 48 finished with value: 0.6592592592592593 and parameters: {'k': 48}. Best is trial 33 with value: 0.6716049382716051.\n",
      "[I 2025-02-25 17:11:45,028] Trial 49 finished with value: 0.6370370370370371 and parameters: {'k': 45}. Best is trial 33 with value: 0.6716049382716051.\n",
      "[I 2025-02-25 17:11:45,036] A new study created in memory with name: no-name-fcc4e2a4-f820-423d-9047-e0ced306823f\n",
      "[I 2025-02-25 17:11:45,040] Trial 0 finished with value: 0.4266826923076923 and parameters: {'k': 29}. Best is trial 0 with value: 0.4266826923076923.\n",
      "[I 2025-02-25 17:11:45,044] Trial 1 finished with value: 0.5240384615384615 and parameters: {'k': 12}. Best is trial 1 with value: 0.5240384615384615.\n",
      "[I 2025-02-25 17:11:45,047] Trial 2 finished with value: 0.5745192307692308 and parameters: {'k': 11}. Best is trial 2 with value: 0.5745192307692308.\n",
      "[I 2025-02-25 17:11:45,052] Trial 3 finished with value: 0.41947115384615385 and parameters: {'k': 42}. Best is trial 2 with value: 0.5745192307692308.\n",
      "[I 2025-02-25 17:11:45,056] Trial 4 finished with value: 0.5192307692307692 and parameters: {'k': 3}. Best is trial 2 with value: 0.5745192307692308.\n",
      "[I 2025-02-25 17:11:45,061] Trial 5 finished with value: 0.4435096153846153 and parameters: {'k': 28}. Best is trial 2 with value: 0.5745192307692308.\n",
      "[I 2025-02-25 17:11:45,065] Trial 6 finished with value: 0.41586538461538464 and parameters: {'k': 39}. Best is trial 2 with value: 0.5745192307692308.\n",
      "[I 2025-02-25 17:11:45,070] Trial 7 finished with value: 0.38341346153846156 and parameters: {'k': 32}. Best is trial 2 with value: 0.5745192307692308.\n",
      "[I 2025-02-25 17:11:45,075] Trial 8 finished with value: 0.4855769230769231 and parameters: {'k': 23}. Best is trial 2 with value: 0.5745192307692308.\n",
      "[I 2025-02-25 17:11:45,080] Trial 9 finished with value: 0.53125 and parameters: {'k': 5}. Best is trial 2 with value: 0.5745192307692308.\n",
      "[I 2025-02-25 17:11:45,085] Trial 10 finished with value: 0.4194711538461539 and parameters: {'k': 34}. Best is trial 2 with value: 0.5745192307692308.\n",
      "[I 2025-02-25 17:11:45,091] Trial 11 finished with value: 0.3737980769230769 and parameters: {'k': 36}. Best is trial 2 with value: 0.5745192307692308.\n",
      "[I 2025-02-25 17:11:45,096] Trial 12 finished with value: 0.44711538461538464 and parameters: {'k': 27}. Best is trial 2 with value: 0.5745192307692308.\n",
      "[I 2025-02-25 17:11:45,102] Trial 13 finished with value: 0.3846153846153846 and parameters: {'k': 35}. Best is trial 2 with value: 0.5745192307692308.\n",
      "[I 2025-02-25 17:11:45,108] Trial 14 finished with value: 0.501201923076923 and parameters: {'k': 19}. Best is trial 2 with value: 0.5745192307692308.\n",
      "[I 2025-02-25 17:11:45,114] Trial 15 finished with value: 0.5336538461538461 and parameters: {'k': 8}. Best is trial 2 with value: 0.5745192307692308.\n",
      "[I 2025-02-25 17:11:45,120] Trial 16 finished with value: 0.48197115384615385 and parameters: {'k': 15}. Best is trial 2 with value: 0.5745192307692308.\n",
      "[I 2025-02-25 17:11:45,126] Trial 17 finished with value: 0.421875 and parameters: {'k': 46}. Best is trial 2 with value: 0.5745192307692308.\n",
      "[I 2025-02-25 17:11:45,132] Trial 18 finished with value: 0.42187500000000006 and parameters: {'k': 49}. Best is trial 2 with value: 0.5745192307692308.\n",
      "[I 2025-02-25 17:11:45,138] Trial 19 finished with value: 0.4074519230769231 and parameters: {'k': 30}. Best is trial 2 with value: 0.5745192307692308.\n",
      "[I 2025-02-25 17:11:45,144] Trial 20 finished with value: 0.5276442307692308 and parameters: {'k': 16}. Best is trial 2 with value: 0.5745192307692308.\n",
      "[I 2025-02-25 17:11:45,151] Trial 21 finished with value: 0.3822115384615385 and parameters: {'k': 31}. Best is trial 2 with value: 0.5745192307692308.\n",
      "[I 2025-02-25 17:11:45,158] Trial 22 finished with value: 0.40745192307692313 and parameters: {'k': 33}. Best is trial 2 with value: 0.5745192307692308.\n",
      "[I 2025-02-25 17:11:45,164] Trial 23 finished with value: 0.5685096153846153 and parameters: {'k': 17}. Best is trial 2 with value: 0.5745192307692308.\n",
      "[I 2025-02-25 17:11:45,171] Trial 24 finished with value: 0.40865384615384615 and parameters: {'k': 43}. Best is trial 2 with value: 0.5745192307692308.\n",
      "[I 2025-02-25 17:11:45,178] Trial 25 finished with value: 0.4723557692307692 and parameters: {'k': 21}. Best is trial 2 with value: 0.5745192307692308.\n",
      "[I 2025-02-25 17:11:45,186] Trial 26 finished with value: 0.40865384615384615 and parameters: {'k': 44}. Best is trial 2 with value: 0.5745192307692308.\n",
      "[I 2025-02-25 17:11:45,193] Trial 27 finished with value: 0.5444711538461539 and parameters: {'k': 9}. Best is trial 2 with value: 0.5745192307692308.\n",
      "[I 2025-02-25 17:11:45,201] Trial 28 finished with value: 0.5060096153846154 and parameters: {'k': 14}. Best is trial 2 with value: 0.5745192307692308.\n",
      "[I 2025-02-25 17:11:45,208] Trial 29 finished with value: 0.4375 and parameters: {'k': 26}. Best is trial 2 with value: 0.5745192307692308.\n",
      "[I 2025-02-25 17:11:45,216] Trial 30 finished with value: 0.5444711538461539 and parameters: {'k': 6}. Best is trial 2 with value: 0.5745192307692308.\n",
      "[I 2025-02-25 17:11:45,224] Trial 31 finished with value: 0.5192307692307692 and parameters: {'k': 18}. Best is trial 2 with value: 0.5745192307692308.\n",
      "[I 2025-02-25 17:11:45,232] Trial 32 finished with value: 0.40745192307692313 and parameters: {'k': 41}. Best is trial 2 with value: 0.5745192307692308.\n",
      "[I 2025-02-25 17:11:45,240] Trial 33 finished with value: 0.44711538461538464 and parameters: {'k': 50}. Best is trial 2 with value: 0.5745192307692308.\n",
      "[I 2025-02-25 17:11:45,248] Trial 34 finished with value: 0.5516826923076923 and parameters: {'k': 2}. Best is trial 2 with value: 0.5745192307692308.\n",
      "[I 2025-02-25 17:11:45,256] Trial 35 finished with value: 0.4831730769230769 and parameters: {'k': 13}. Best is trial 2 with value: 0.5745192307692308.\n",
      "[I 2025-02-25 17:11:45,265] Trial 36 finished with value: 0.40865384615384615 and parameters: {'k': 38}. Best is trial 2 with value: 0.5745192307692308.\n",
      "[I 2025-02-25 17:11:45,273] Trial 37 finished with value: 0.46033653846153844 and parameters: {'k': 25}. Best is trial 2 with value: 0.5745192307692308.\n",
      "[I 2025-02-25 17:11:45,282] Trial 38 finished with value: 0.5120192307692307 and parameters: {'k': 7}. Best is trial 2 with value: 0.5745192307692308.\n",
      "[I 2025-02-25 17:11:45,291] Trial 39 finished with value: 0.46634615384615385 and parameters: {'k': 24}. Best is trial 2 with value: 0.5745192307692308.\n",
      "[I 2025-02-25 17:11:45,300] Trial 40 finished with value: 0.38221153846153844 and parameters: {'k': 37}. Best is trial 2 with value: 0.5745192307692308.\n",
      "[I 2025-02-25 17:11:45,309] Trial 41 finished with value: 0.47716346153846145 and parameters: {'k': 22}. Best is trial 2 with value: 0.5745192307692308.\n",
      "[I 2025-02-25 17:11:45,319] Trial 42 finished with value: 0.501201923076923 and parameters: {'k': 20}. Best is trial 2 with value: 0.5745192307692308.\n",
      "[I 2025-02-25 17:11:45,328] Trial 43 finished with value: 0.5288461538461537 and parameters: {'k': 10}. Best is trial 2 with value: 0.5745192307692308.\n",
      "[I 2025-02-25 17:11:45,338] Trial 44 finished with value: 0.4122596153846154 and parameters: {'k': 40}. Best is trial 2 with value: 0.5745192307692308.\n",
      "[I 2025-02-25 17:11:45,347] Trial 45 finished with value: 0.41947115384615385 and parameters: {'k': 47}. Best is trial 2 with value: 0.5745192307692308.\n",
      "[I 2025-02-25 17:11:45,357] Trial 46 finished with value: 0.5649038461538461 and parameters: {'k': 4}. Best is trial 2 with value: 0.5745192307692308.\n",
      "[I 2025-02-25 17:11:45,367] Trial 47 finished with value: 0.49519230769230776 and parameters: {'k': 1}. Best is trial 2 with value: 0.5745192307692308.\n",
      "[I 2025-02-25 17:11:45,377] Trial 48 finished with value: 0.4375 and parameters: {'k': 48}. Best is trial 2 with value: 0.5745192307692308.\n",
      "[I 2025-02-25 17:11:45,387] Trial 49 finished with value: 0.40865384615384615 and parameters: {'k': 45}. Best is trial 2 with value: 0.5745192307692308.\n",
      "[I 2025-02-25 17:11:45,392] A new study created in memory with name: no-name-22f3a268-fb82-4608-b0dc-9375c4f74a6c\n",
      "[I 2025-02-25 17:11:45,396] Trial 0 finished with value: 0.6805555555555556 and parameters: {'k': 29}. Best is trial 0 with value: 0.6805555555555556.\n",
      "[I 2025-02-25 17:11:45,400] Trial 1 finished with value: 0.6194444444444445 and parameters: {'k': 12}. Best is trial 0 with value: 0.6805555555555556.\n",
      "[I 2025-02-25 17:11:45,403] Trial 2 finished with value: 0.6486111111111111 and parameters: {'k': 11}. Best is trial 0 with value: 0.6805555555555556.\n",
      "[I 2025-02-25 17:11:45,408] Trial 3 finished with value: 0.6388888888888888 and parameters: {'k': 42}. Best is trial 0 with value: 0.6805555555555556.\n",
      "[I 2025-02-25 17:11:45,412] Trial 4 finished with value: 0.5833333333333334 and parameters: {'k': 3}. Best is trial 0 with value: 0.6805555555555556.\n",
      "[I 2025-02-25 17:11:45,416] Trial 5 finished with value: 0.6555555555555557 and parameters: {'k': 28}. Best is trial 0 with value: 0.6805555555555556.\n",
      "[I 2025-02-25 17:11:45,421] Trial 6 finished with value: 0.6333333333333333 and parameters: {'k': 39}. Best is trial 0 with value: 0.6805555555555556.\n",
      "[I 2025-02-25 17:11:45,425] Trial 7 finished with value: 0.6472222222222221 and parameters: {'k': 32}. Best is trial 0 with value: 0.6805555555555556.\n",
      "[I 2025-02-25 17:11:45,430] Trial 8 finished with value: 0.5791666666666667 and parameters: {'k': 23}. Best is trial 0 with value: 0.6805555555555556.\n",
      "[I 2025-02-25 17:11:45,435] Trial 9 finished with value: 0.5791666666666666 and parameters: {'k': 5}. Best is trial 0 with value: 0.6805555555555556.\n",
      "[I 2025-02-25 17:11:45,440] Trial 10 finished with value: 0.6194444444444445 and parameters: {'k': 34}. Best is trial 0 with value: 0.6805555555555556.\n",
      "[I 2025-02-25 17:11:45,445] Trial 11 finished with value: 0.6444444444444445 and parameters: {'k': 36}. Best is trial 0 with value: 0.6805555555555556.\n",
      "[I 2025-02-25 17:11:45,451] Trial 12 finished with value: 0.6541666666666667 and parameters: {'k': 27}. Best is trial 0 with value: 0.6805555555555556.\n",
      "[I 2025-02-25 17:11:45,456] Trial 13 finished with value: 0.6291666666666665 and parameters: {'k': 35}. Best is trial 0 with value: 0.6805555555555556.\n",
      "[I 2025-02-25 17:11:45,462] Trial 14 finished with value: 0.5833333333333334 and parameters: {'k': 19}. Best is trial 0 with value: 0.6805555555555556.\n",
      "[I 2025-02-25 17:11:45,467] Trial 15 finished with value: 0.6333333333333334 and parameters: {'k': 8}. Best is trial 0 with value: 0.6805555555555556.\n",
      "[I 2025-02-25 17:11:45,473] Trial 16 finished with value: 0.6583333333333334 and parameters: {'k': 15}. Best is trial 0 with value: 0.6805555555555556.\n",
      "[I 2025-02-25 17:11:45,479] Trial 17 finished with value: 0.6527777777777778 and parameters: {'k': 46}. Best is trial 0 with value: 0.6805555555555556.\n",
      "[I 2025-02-25 17:11:45,485] Trial 18 finished with value: 0.6666666666666666 and parameters: {'k': 49}. Best is trial 0 with value: 0.6805555555555556.\n",
      "[I 2025-02-25 17:11:45,491] Trial 19 finished with value: 0.6666666666666667 and parameters: {'k': 30}. Best is trial 0 with value: 0.6805555555555556.\n",
      "[I 2025-02-25 17:11:45,498] Trial 20 finished with value: 0.6458333333333334 and parameters: {'k': 16}. Best is trial 0 with value: 0.6805555555555556.\n",
      "[I 2025-02-25 17:11:45,504] Trial 21 finished with value: 0.6263888888888888 and parameters: {'k': 31}. Best is trial 0 with value: 0.6805555555555556.\n",
      "[I 2025-02-25 17:11:45,511] Trial 22 finished with value: 0.6472222222222223 and parameters: {'k': 33}. Best is trial 0 with value: 0.6805555555555556.\n",
      "[I 2025-02-25 17:11:45,518] Trial 23 finished with value: 0.6416666666666667 and parameters: {'k': 17}. Best is trial 0 with value: 0.6805555555555556.\n",
      "[I 2025-02-25 17:11:45,526] Trial 24 finished with value: 0.6555555555555556 and parameters: {'k': 43}. Best is trial 0 with value: 0.6805555555555556.\n",
      "[I 2025-02-25 17:11:45,533] Trial 25 finished with value: 0.575 and parameters: {'k': 21}. Best is trial 0 with value: 0.6805555555555556.\n",
      "[I 2025-02-25 17:11:45,541] Trial 26 finished with value: 0.6680555555555555 and parameters: {'k': 44}. Best is trial 0 with value: 0.6805555555555556.\n",
      "[I 2025-02-25 17:11:45,549] Trial 27 finished with value: 0.6402777777777778 and parameters: {'k': 9}. Best is trial 0 with value: 0.6805555555555556.\n",
      "[I 2025-02-25 17:11:45,557] Trial 28 finished with value: 0.6388888888888888 and parameters: {'k': 14}. Best is trial 0 with value: 0.6805555555555556.\n",
      "[I 2025-02-25 17:11:45,565] Trial 29 finished with value: 0.6333333333333334 and parameters: {'k': 26}. Best is trial 0 with value: 0.6805555555555556.\n",
      "[I 2025-02-25 17:11:45,573] Trial 30 finished with value: 0.5680555555555555 and parameters: {'k': 6}. Best is trial 0 with value: 0.6805555555555556.\n",
      "[I 2025-02-25 17:11:45,582] Trial 31 finished with value: 0.6138888888888889 and parameters: {'k': 18}. Best is trial 0 with value: 0.6805555555555556.\n",
      "[I 2025-02-25 17:11:45,591] Trial 32 finished with value: 0.65 and parameters: {'k': 41}. Best is trial 0 with value: 0.6805555555555556.\n",
      "[I 2025-02-25 17:11:45,600] Trial 33 finished with value: 0.6625000000000001 and parameters: {'k': 50}. Best is trial 0 with value: 0.6805555555555556.\n",
      "[I 2025-02-25 17:11:45,608] Trial 34 finished with value: 0.4750000000000001 and parameters: {'k': 2}. Best is trial 0 with value: 0.6805555555555556.\n",
      "[I 2025-02-25 17:11:45,616] Trial 35 finished with value: 0.6291666666666667 and parameters: {'k': 13}. Best is trial 0 with value: 0.6805555555555556.\n",
      "[I 2025-02-25 17:11:45,624] Trial 36 finished with value: 0.6625 and parameters: {'k': 38}. Best is trial 0 with value: 0.6805555555555556.\n",
      "[I 2025-02-25 17:11:45,633] Trial 37 finished with value: 0.6194444444444445 and parameters: {'k': 25}. Best is trial 0 with value: 0.6805555555555556.\n",
      "[I 2025-02-25 17:11:45,642] Trial 38 finished with value: 0.6347222222222222 and parameters: {'k': 7}. Best is trial 0 with value: 0.6805555555555556.\n",
      "[I 2025-02-25 17:11:45,650] Trial 39 finished with value: 0.5791666666666667 and parameters: {'k': 24}. Best is trial 0 with value: 0.6805555555555556.\n",
      "[I 2025-02-25 17:11:45,660] Trial 40 finished with value: 0.6694444444444444 and parameters: {'k': 37}. Best is trial 0 with value: 0.6805555555555556.\n",
      "[I 2025-02-25 17:11:45,669] Trial 41 finished with value: 0.5722222222222222 and parameters: {'k': 22}. Best is trial 0 with value: 0.6805555555555556.\n",
      "[I 2025-02-25 17:11:45,678] Trial 42 finished with value: 0.6000000000000001 and parameters: {'k': 20}. Best is trial 0 with value: 0.6805555555555556.\n",
      "[I 2025-02-25 17:11:45,687] Trial 43 finished with value: 0.6541666666666667 and parameters: {'k': 10}. Best is trial 0 with value: 0.6805555555555556.\n",
      "[I 2025-02-25 17:11:45,697] Trial 44 finished with value: 0.6458333333333333 and parameters: {'k': 40}. Best is trial 0 with value: 0.6805555555555556.\n",
      "[I 2025-02-25 17:11:45,707] Trial 45 finished with value: 0.6847222222222223 and parameters: {'k': 47}. Best is trial 45 with value: 0.6847222222222223.\n",
      "[I 2025-02-25 17:11:45,716] Trial 46 finished with value: 0.6152777777777777 and parameters: {'k': 4}. Best is trial 45 with value: 0.6847222222222223.\n",
      "[I 2025-02-25 17:11:45,726] Trial 47 finished with value: 0.475 and parameters: {'k': 1}. Best is trial 45 with value: 0.6847222222222223.\n",
      "[I 2025-02-25 17:11:45,736] Trial 48 finished with value: 0.6819444444444445 and parameters: {'k': 48}. Best is trial 45 with value: 0.6847222222222223.\n",
      "[I 2025-02-25 17:11:45,746] Trial 49 finished with value: 0.6791666666666666 and parameters: {'k': 45}. Best is trial 45 with value: 0.6847222222222223.\n",
      "[I 2025-02-25 17:11:45,752] A new study created in memory with name: no-name-32f67240-0c71-4712-97ce-3c70d3b79729\n",
      "[I 2025-02-25 17:11:45,756] Trial 0 finished with value: 0.47160493827160493 and parameters: {'k': 29}. Best is trial 0 with value: 0.47160493827160493.\n",
      "[I 2025-02-25 17:11:45,759] Trial 1 finished with value: 0.4123456790123457 and parameters: {'k': 12}. Best is trial 0 with value: 0.47160493827160493.\n",
      "[I 2025-02-25 17:11:45,763] Trial 2 finished with value: 0.42839506172839514 and parameters: {'k': 11}. Best is trial 0 with value: 0.47160493827160493.\n",
      "[I 2025-02-25 17:11:45,767] Trial 3 finished with value: 0.508641975308642 and parameters: {'k': 42}. Best is trial 3 with value: 0.508641975308642.\n",
      "[I 2025-02-25 17:11:45,771] Trial 4 finished with value: 0.5123456790123457 and parameters: {'k': 3}. Best is trial 4 with value: 0.5123456790123457.\n",
      "[I 2025-02-25 17:11:45,776] Trial 5 finished with value: 0.471604938271605 and parameters: {'k': 28}. Best is trial 4 with value: 0.5123456790123457.\n",
      "[I 2025-02-25 17:11:45,780] Trial 6 finished with value: 0.5123456790123457 and parameters: {'k': 39}. Best is trial 4 with value: 0.5123456790123457.\n",
      "[I 2025-02-25 17:11:45,785] Trial 7 finished with value: 0.47777777777777775 and parameters: {'k': 32}. Best is trial 4 with value: 0.5123456790123457.\n",
      "[I 2025-02-25 17:11:45,790] Trial 8 finished with value: 0.4740740740740741 and parameters: {'k': 23}. Best is trial 4 with value: 0.5123456790123457.\n",
      "[I 2025-02-25 17:11:45,794] Trial 9 finished with value: 0.43333333333333335 and parameters: {'k': 5}. Best is trial 4 with value: 0.5123456790123457.\n",
      "[I 2025-02-25 17:11:45,799] Trial 10 finished with value: 0.48888888888888893 and parameters: {'k': 34}. Best is trial 4 with value: 0.5123456790123457.\n",
      "[I 2025-02-25 17:11:45,805] Trial 11 finished with value: 0.5024691358024691 and parameters: {'k': 36}. Best is trial 4 with value: 0.5123456790123457.\n",
      "[I 2025-02-25 17:11:45,810] Trial 12 finished with value: 0.4703703703703704 and parameters: {'k': 27}. Best is trial 4 with value: 0.5123456790123457.\n",
      "[I 2025-02-25 17:11:45,815] Trial 13 finished with value: 0.49506172839506174 and parameters: {'k': 35}. Best is trial 4 with value: 0.5123456790123457.\n",
      "[I 2025-02-25 17:11:45,821] Trial 14 finished with value: 0.4271604938271605 and parameters: {'k': 19}. Best is trial 4 with value: 0.5123456790123457.\n",
      "[I 2025-02-25 17:11:45,826] Trial 15 finished with value: 0.4876543209876544 and parameters: {'k': 8}. Best is trial 4 with value: 0.5123456790123457.\n",
      "[I 2025-02-25 17:11:45,832] Trial 16 finished with value: 0.4506172839506173 and parameters: {'k': 15}. Best is trial 4 with value: 0.5123456790123457.\n",
      "[I 2025-02-25 17:11:45,838] Trial 17 finished with value: 0.49629629629629635 and parameters: {'k': 46}. Best is trial 4 with value: 0.5123456790123457.\n",
      "[I 2025-02-25 17:11:45,844] Trial 18 finished with value: 0.5123456790123457 and parameters: {'k': 49}. Best is trial 4 with value: 0.5123456790123457.\n",
      "[I 2025-02-25 17:11:45,851] Trial 19 finished with value: 0.4555555555555556 and parameters: {'k': 30}. Best is trial 4 with value: 0.5123456790123457.\n",
      "[I 2025-02-25 17:11:45,857] Trial 20 finished with value: 0.43580246913580245 and parameters: {'k': 16}. Best is trial 4 with value: 0.5123456790123457.\n",
      "[I 2025-02-25 17:11:45,864] Trial 21 finished with value: 0.4481481481481482 and parameters: {'k': 31}. Best is trial 4 with value: 0.5123456790123457.\n",
      "[I 2025-02-25 17:11:45,871] Trial 22 finished with value: 0.4839506172839506 and parameters: {'k': 33}. Best is trial 4 with value: 0.5123456790123457.\n",
      "[I 2025-02-25 17:11:45,878] Trial 23 finished with value: 0.4395061728395061 and parameters: {'k': 17}. Best is trial 4 with value: 0.5123456790123457.\n",
      "[I 2025-02-25 17:11:45,885] Trial 24 finished with value: 0.5222222222222223 and parameters: {'k': 43}. Best is trial 24 with value: 0.5222222222222223.\n",
      "[I 2025-02-25 17:11:45,892] Trial 25 finished with value: 0.43580246913580256 and parameters: {'k': 21}. Best is trial 24 with value: 0.5222222222222223.\n",
      "[I 2025-02-25 17:11:45,899] Trial 26 finished with value: 0.525925925925926 and parameters: {'k': 44}. Best is trial 26 with value: 0.525925925925926.\n",
      "[I 2025-02-25 17:11:45,907] Trial 27 finished with value: 0.4975308641975309 and parameters: {'k': 9}. Best is trial 26 with value: 0.525925925925926.\n",
      "[I 2025-02-25 17:11:45,914] Trial 28 finished with value: 0.4506172839506173 and parameters: {'k': 14}. Best is trial 26 with value: 0.525925925925926.\n",
      "[I 2025-02-25 17:11:45,922] Trial 29 finished with value: 0.47037037037037044 and parameters: {'k': 26}. Best is trial 26 with value: 0.525925925925926.\n",
      "[I 2025-02-25 17:11:45,930] Trial 30 finished with value: 0.4555555555555556 and parameters: {'k': 6}. Best is trial 26 with value: 0.525925925925926.\n",
      "[I 2025-02-25 17:11:45,938] Trial 31 finished with value: 0.4567901234567902 and parameters: {'k': 18}. Best is trial 26 with value: 0.525925925925926.\n",
      "[I 2025-02-25 17:11:45,946] Trial 32 finished with value: 0.5135802469135803 and parameters: {'k': 41}. Best is trial 26 with value: 0.525925925925926.\n",
      "[I 2025-02-25 17:11:45,956] Trial 33 finished with value: 0.5111111111111112 and parameters: {'k': 50}. Best is trial 26 with value: 0.525925925925926.\n",
      "[I 2025-02-25 17:11:45,964] Trial 34 finished with value: 0.5654320987654322 and parameters: {'k': 2}. Best is trial 34 with value: 0.5654320987654322.\n",
      "[I 2025-02-25 17:11:45,973] Trial 35 finished with value: 0.445679012345679 and parameters: {'k': 13}. Best is trial 34 with value: 0.5654320987654322.\n",
      "[I 2025-02-25 17:11:45,982] Trial 36 finished with value: 0.5074074074074075 and parameters: {'k': 38}. Best is trial 34 with value: 0.5654320987654322.\n",
      "[I 2025-02-25 17:11:45,990] Trial 37 finished with value: 0.47654320987654325 and parameters: {'k': 25}. Best is trial 34 with value: 0.5654320987654322.\n",
      "[I 2025-02-25 17:11:45,999] Trial 38 finished with value: 0.4839506172839506 and parameters: {'k': 7}. Best is trial 34 with value: 0.5654320987654322.\n",
      "[I 2025-02-25 17:11:46,009] Trial 39 finished with value: 0.4802469135802469 and parameters: {'k': 24}. Best is trial 34 with value: 0.5654320987654322.\n",
      "[I 2025-02-25 17:11:46,018] Trial 40 finished with value: 0.5111111111111112 and parameters: {'k': 37}. Best is trial 34 with value: 0.5654320987654322.\n",
      "[I 2025-02-25 17:11:46,028] Trial 41 finished with value: 0.46296296296296297 and parameters: {'k': 22}. Best is trial 34 with value: 0.5654320987654322.\n",
      "[I 2025-02-25 17:11:46,038] Trial 42 finished with value: 0.4530864197530865 and parameters: {'k': 20}. Best is trial 34 with value: 0.5654320987654322.\n",
      "[I 2025-02-25 17:11:46,047] Trial 43 finished with value: 0.46172839506172847 and parameters: {'k': 10}. Best is trial 34 with value: 0.5654320987654322.\n",
      "[I 2025-02-25 17:11:46,057] Trial 44 finished with value: 0.5296296296296297 and parameters: {'k': 40}. Best is trial 34 with value: 0.5654320987654322.\n",
      "[I 2025-02-25 17:11:46,067] Trial 45 finished with value: 0.5074074074074074 and parameters: {'k': 47}. Best is trial 34 with value: 0.5654320987654322.\n",
      "[I 2025-02-25 17:11:46,077] Trial 46 finished with value: 0.45432098765432094 and parameters: {'k': 4}. Best is trial 34 with value: 0.5654320987654322.\n",
      "[I 2025-02-25 17:11:46,087] Trial 47 finished with value: 0.5148148148148148 and parameters: {'k': 1}. Best is trial 34 with value: 0.5654320987654322.\n",
      "[I 2025-02-25 17:11:46,097] Trial 48 finished with value: 0.4938271604938272 and parameters: {'k': 48}. Best is trial 34 with value: 0.5654320987654322.\n",
      "[I 2025-02-25 17:11:46,108] Trial 49 finished with value: 0.5098765432098766 and parameters: {'k': 45}. Best is trial 34 with value: 0.5654320987654322.\n",
      "[I 2025-02-25 17:11:46,113] A new study created in memory with name: no-name-f5508a1d-2603-4b3e-b0c7-4a1bf59efcb5\n",
      "[I 2025-02-25 17:11:46,117] Trial 0 finished with value: 0.5649038461538461 and parameters: {'k': 29}. Best is trial 0 with value: 0.5649038461538461.\n",
      "[I 2025-02-25 17:11:46,121] Trial 1 finished with value: 0.42788461538461536 and parameters: {'k': 12}. Best is trial 0 with value: 0.5649038461538461.\n",
      "[I 2025-02-25 17:11:46,125] Trial 2 finished with value: 0.4206730769230769 and parameters: {'k': 11}. Best is trial 0 with value: 0.5649038461538461.\n",
      "[I 2025-02-25 17:11:46,129] Trial 3 finished with value: 0.5228365384615385 and parameters: {'k': 42}. Best is trial 0 with value: 0.5649038461538461.\n",
      "[I 2025-02-25 17:11:46,133] Trial 4 finished with value: 0.5685096153846154 and parameters: {'k': 3}. Best is trial 4 with value: 0.5685096153846154.\n",
      "[I 2025-02-25 17:11:46,138] Trial 5 finished with value: 0.5072115384615385 and parameters: {'k': 28}. Best is trial 4 with value: 0.5685096153846154.\n",
      "[I 2025-02-25 17:11:46,142] Trial 6 finished with value: 0.5156250000000001 and parameters: {'k': 39}. Best is trial 4 with value: 0.5685096153846154.\n",
      "[I 2025-02-25 17:11:46,147] Trial 7 finished with value: 0.5420673076923077 and parameters: {'k': 32}. Best is trial 4 with value: 0.5685096153846154.\n",
      "[I 2025-02-25 17:11:46,152] Trial 8 finished with value: 0.4867788461538462 and parameters: {'k': 23}. Best is trial 4 with value: 0.5685096153846154.\n",
      "[I 2025-02-25 17:11:46,156] Trial 9 finished with value: 0.53125 and parameters: {'k': 5}. Best is trial 4 with value: 0.5685096153846154.\n",
      "[I 2025-02-25 17:11:46,161] Trial 10 finished with value: 0.53125 and parameters: {'k': 34}. Best is trial 4 with value: 0.5685096153846154.\n",
      "[I 2025-02-25 17:11:46,167] Trial 11 finished with value: 0.5264423076923077 and parameters: {'k': 36}. Best is trial 4 with value: 0.5685096153846154.\n",
      "[I 2025-02-25 17:11:46,172] Trial 12 finished with value: 0.4915865384615385 and parameters: {'k': 27}. Best is trial 4 with value: 0.5685096153846154.\n",
      "[I 2025-02-25 17:11:46,178] Trial 13 finished with value: 0.5432692307692308 and parameters: {'k': 35}. Best is trial 4 with value: 0.5685096153846154.\n",
      "[I 2025-02-25 17:11:46,183] Trial 14 finished with value: 0.49158653846153844 and parameters: {'k': 19}. Best is trial 4 with value: 0.5685096153846154.\n",
      "[I 2025-02-25 17:11:46,189] Trial 15 finished with value: 0.4423076923076923 and parameters: {'k': 8}. Best is trial 4 with value: 0.5685096153846154.\n",
      "[I 2025-02-25 17:11:46,194] Trial 16 finished with value: 0.4002403846153847 and parameters: {'k': 15}. Best is trial 4 with value: 0.5685096153846154.\n",
      "[I 2025-02-25 17:11:46,200] Trial 17 finished with value: 0.578125 and parameters: {'k': 46}. Best is trial 17 with value: 0.578125.\n",
      "[I 2025-02-25 17:11:46,207] Trial 18 finished with value: 0.5697115384615385 and parameters: {'k': 49}. Best is trial 17 with value: 0.578125.\n",
      "[I 2025-02-25 17:11:46,213] Trial 19 finished with value: 0.5360576923076923 and parameters: {'k': 30}. Best is trial 17 with value: 0.578125.\n",
      "[I 2025-02-25 17:11:46,219] Trial 20 finished with value: 0.40865384615384615 and parameters: {'k': 16}. Best is trial 17 with value: 0.578125.\n",
      "[I 2025-02-25 17:11:46,226] Trial 21 finished with value: 0.5612980769230769 and parameters: {'k': 31}. Best is trial 17 with value: 0.578125.\n",
      "[I 2025-02-25 17:11:46,233] Trial 22 finished with value: 0.5516826923076923 and parameters: {'k': 33}. Best is trial 17 with value: 0.578125.\n",
      "[I 2025-02-25 17:11:46,239] Trial 23 finished with value: 0.42187500000000006 and parameters: {'k': 17}. Best is trial 17 with value: 0.578125.\n",
      "[I 2025-02-25 17:11:46,246] Trial 24 finished with value: 0.5348557692307692 and parameters: {'k': 43}. Best is trial 17 with value: 0.578125.\n",
      "[I 2025-02-25 17:11:46,253] Trial 25 finished with value: 0.46153846153846156 and parameters: {'k': 21}. Best is trial 17 with value: 0.578125.\n",
      "[I 2025-02-25 17:11:46,261] Trial 26 finished with value: 0.5360576923076923 and parameters: {'k': 44}. Best is trial 17 with value: 0.578125.\n",
      "[I 2025-02-25 17:11:46,268] Trial 27 finished with value: 0.40865384615384615 and parameters: {'k': 9}. Best is trial 17 with value: 0.578125.\n",
      "[I 2025-02-25 17:11:46,275] Trial 28 finished with value: 0.3846153846153847 and parameters: {'k': 14}. Best is trial 17 with value: 0.578125.\n",
      "[I 2025-02-25 17:11:46,283] Trial 29 finished with value: 0.48798076923076916 and parameters: {'k': 26}. Best is trial 17 with value: 0.578125.\n",
      "[I 2025-02-25 17:11:46,290] Trial 30 finished with value: 0.5060096153846154 and parameters: {'k': 6}. Best is trial 17 with value: 0.578125.\n",
      "[I 2025-02-25 17:11:46,298] Trial 31 finished with value: 0.47716346153846156 and parameters: {'k': 18}. Best is trial 17 with value: 0.578125.\n",
      "[I 2025-02-25 17:11:46,306] Trial 32 finished with value: 0.5288461538461539 and parameters: {'k': 41}. Best is trial 17 with value: 0.578125.\n",
      "[I 2025-02-25 17:11:46,314] Trial 33 finished with value: 0.5697115384615384 and parameters: {'k': 50}. Best is trial 17 with value: 0.578125.\n",
      "[I 2025-02-25 17:11:46,323] Trial 34 finished with value: 0.6117788461538461 and parameters: {'k': 2}. Best is trial 34 with value: 0.6117788461538461.\n",
      "[I 2025-02-25 17:11:46,332] Trial 35 finished with value: 0.3629807692307693 and parameters: {'k': 13}. Best is trial 34 with value: 0.6117788461538461.\n",
      "[I 2025-02-25 17:11:46,341] Trial 36 finished with value: 0.5408653846153846 and parameters: {'k': 38}. Best is trial 34 with value: 0.6117788461538461.\n",
      "[I 2025-02-25 17:11:46,353] Trial 37 finished with value: 0.48076923076923084 and parameters: {'k': 25}. Best is trial 34 with value: 0.6117788461538461.\n",
      "[I 2025-02-25 17:11:46,365] Trial 38 finished with value: 0.4615384615384615 and parameters: {'k': 7}. Best is trial 34 with value: 0.6117788461538461.\n",
      "[I 2025-02-25 17:11:46,377] Trial 39 finished with value: 0.4759615384615385 and parameters: {'k': 24}. Best is trial 34 with value: 0.6117788461538461.\n",
      "[I 2025-02-25 17:11:46,390] Trial 40 finished with value: 0.5276442307692308 and parameters: {'k': 37}. Best is trial 34 with value: 0.6117788461538461.\n",
      "[I 2025-02-25 17:11:46,400] Trial 41 finished with value: 0.4771634615384615 and parameters: {'k': 22}. Best is trial 34 with value: 0.6117788461538461.\n",
      "[I 2025-02-25 17:11:46,410] Trial 42 finished with value: 0.46033653846153844 and parameters: {'k': 20}. Best is trial 34 with value: 0.6117788461538461.\n",
      "[I 2025-02-25 17:11:46,419] Trial 43 finished with value: 0.4026442307692308 and parameters: {'k': 10}. Best is trial 34 with value: 0.6117788461538461.\n",
      "[I 2025-02-25 17:11:46,429] Trial 44 finished with value: 0.5276442307692307 and parameters: {'k': 40}. Best is trial 34 with value: 0.6117788461538461.\n",
      "[I 2025-02-25 17:11:46,439] Trial 45 finished with value: 0.5721153846153846 and parameters: {'k': 47}. Best is trial 34 with value: 0.6117788461538461.\n",
      "[I 2025-02-25 17:11:46,448] Trial 46 finished with value: 0.515625 and parameters: {'k': 4}. Best is trial 34 with value: 0.6117788461538461.\n",
      "[I 2025-02-25 17:11:46,458] Trial 47 finished with value: 0.6658653846153846 and parameters: {'k': 1}. Best is trial 47 with value: 0.6658653846153846.\n",
      "[I 2025-02-25 17:11:46,468] Trial 48 finished with value: 0.5685096153846154 and parameters: {'k': 48}. Best is trial 47 with value: 0.6658653846153846.\n",
      "[I 2025-02-25 17:11:46,479] Trial 49 finished with value: 0.5564903846153847 and parameters: {'k': 45}. Best is trial 47 with value: 0.6658653846153846.\n",
      "[I 2025-02-25 17:11:46,483] A new study created in memory with name: no-name-dad56852-4f45-42ba-add6-edbcd4c4a947\n",
      "[I 2025-02-25 17:11:46,487] Trial 0 finished with value: 0.6209876543209877 and parameters: {'k': 29}. Best is trial 0 with value: 0.6209876543209877.\n",
      "[I 2025-02-25 17:11:46,491] Trial 1 finished with value: 0.5851851851851853 and parameters: {'k': 12}. Best is trial 0 with value: 0.6209876543209877.\n",
      "[I 2025-02-25 17:11:46,494] Trial 2 finished with value: 0.554320987654321 and parameters: {'k': 11}. Best is trial 0 with value: 0.6209876543209877.\n",
      "[I 2025-02-25 17:11:46,499] Trial 3 finished with value: 0.5950617283950618 and parameters: {'k': 42}. Best is trial 0 with value: 0.6209876543209877.\n",
      "[I 2025-02-25 17:11:46,503] Trial 4 finished with value: 0.5518518518518518 and parameters: {'k': 3}. Best is trial 0 with value: 0.6209876543209877.\n",
      "[I 2025-02-25 17:11:46,507] Trial 5 finished with value: 0.6000000000000001 and parameters: {'k': 28}. Best is trial 0 with value: 0.6209876543209877.\n",
      "[I 2025-02-25 17:11:46,512] Trial 6 finished with value: 0.619753086419753 and parameters: {'k': 39}. Best is trial 0 with value: 0.6209876543209877.\n",
      "[I 2025-02-25 17:11:46,516] Trial 7 finished with value: 0.6333333333333333 and parameters: {'k': 32}. Best is trial 7 with value: 0.6333333333333333.\n",
      "[I 2025-02-25 17:11:46,521] Trial 8 finished with value: 0.6283950617283951 and parameters: {'k': 23}. Best is trial 7 with value: 0.6333333333333333.\n",
      "[I 2025-02-25 17:11:46,526] Trial 9 finished with value: 0.49382716049382713 and parameters: {'k': 5}. Best is trial 7 with value: 0.6333333333333333.\n",
      "[I 2025-02-25 17:11:46,531] Trial 10 finished with value: 0.6222222222222222 and parameters: {'k': 34}. Best is trial 7 with value: 0.6333333333333333.\n",
      "[I 2025-02-25 17:11:46,536] Trial 11 finished with value: 0.6296296296296297 and parameters: {'k': 36}. Best is trial 7 with value: 0.6333333333333333.\n",
      "[I 2025-02-25 17:11:46,541] Trial 12 finished with value: 0.6382716049382716 and parameters: {'k': 27}. Best is trial 12 with value: 0.6382716049382716.\n",
      "[I 2025-02-25 17:11:46,547] Trial 13 finished with value: 0.6419753086419753 and parameters: {'k': 35}. Best is trial 13 with value: 0.6419753086419753.\n",
      "[I 2025-02-25 17:11:46,552] Trial 14 finished with value: 0.6320987654320988 and parameters: {'k': 19}. Best is trial 13 with value: 0.6419753086419753.\n",
      "[I 2025-02-25 17:11:46,558] Trial 15 finished with value: 0.5456790123456791 and parameters: {'k': 8}. Best is trial 13 with value: 0.6419753086419753.\n",
      "[I 2025-02-25 17:11:46,564] Trial 16 finished with value: 0.6296296296296297 and parameters: {'k': 15}. Best is trial 13 with value: 0.6419753086419753.\n",
      "[I 2025-02-25 17:11:46,570] Trial 17 finished with value: 0.6061728395061728 and parameters: {'k': 46}. Best is trial 13 with value: 0.6419753086419753.\n",
      "[I 2025-02-25 17:11:46,576] Trial 18 finished with value: 0.6185185185185185 and parameters: {'k': 49}. Best is trial 13 with value: 0.6419753086419753.\n",
      "[I 2025-02-25 17:11:46,583] Trial 19 finished with value: 0.6382716049382716 and parameters: {'k': 30}. Best is trial 13 with value: 0.6419753086419753.\n",
      "[I 2025-02-25 17:11:46,589] Trial 20 finished with value: 0.562962962962963 and parameters: {'k': 16}. Best is trial 13 with value: 0.6419753086419753.\n",
      "[I 2025-02-25 17:11:46,596] Trial 21 finished with value: 0.6246913580246913 and parameters: {'k': 31}. Best is trial 13 with value: 0.6419753086419753.\n",
      "[I 2025-02-25 17:11:46,602] Trial 22 finished with value: 0.6444444444444445 and parameters: {'k': 33}. Best is trial 22 with value: 0.6444444444444445.\n",
      "[I 2025-02-25 17:11:46,609] Trial 23 finished with value: 0.5876543209876544 and parameters: {'k': 17}. Best is trial 22 with value: 0.6444444444444445.\n",
      "[I 2025-02-25 17:11:46,616] Trial 24 finished with value: 0.6012345679012345 and parameters: {'k': 43}. Best is trial 22 with value: 0.6444444444444445.\n",
      "[I 2025-02-25 17:11:46,623] Trial 25 finished with value: 0.6222222222222222 and parameters: {'k': 21}. Best is trial 22 with value: 0.6444444444444445.\n",
      "[I 2025-02-25 17:11:46,630] Trial 26 finished with value: 0.6061728395061728 and parameters: {'k': 44}. Best is trial 22 with value: 0.6444444444444445.\n",
      "[I 2025-02-25 17:11:46,637] Trial 27 finished with value: 0.5481481481481482 and parameters: {'k': 9}. Best is trial 22 with value: 0.6444444444444445.\n",
      "[I 2025-02-25 17:11:46,645] Trial 28 finished with value: 0.6135802469135803 and parameters: {'k': 14}. Best is trial 22 with value: 0.6444444444444445.\n",
      "[I 2025-02-25 17:11:46,652] Trial 29 finished with value: 0.6098765432098766 and parameters: {'k': 26}. Best is trial 22 with value: 0.6444444444444445.\n",
      "[I 2025-02-25 17:11:46,660] Trial 30 finished with value: 0.49876543209876545 and parameters: {'k': 6}. Best is trial 22 with value: 0.6444444444444445.\n",
      "[I 2025-02-25 17:11:46,667] Trial 31 finished with value: 0.637037037037037 and parameters: {'k': 18}. Best is trial 22 with value: 0.6444444444444445.\n",
      "[I 2025-02-25 17:11:46,676] Trial 32 finished with value: 0.5938271604938272 and parameters: {'k': 41}. Best is trial 22 with value: 0.6444444444444445.\n",
      "[I 2025-02-25 17:11:46,684] Trial 33 finished with value: 0.6395061728395062 and parameters: {'k': 50}. Best is trial 22 with value: 0.6444444444444445.\n",
      "[I 2025-02-25 17:11:46,692] Trial 34 finished with value: 0.48271604938271606 and parameters: {'k': 2}. Best is trial 22 with value: 0.6444444444444445.\n",
      "[I 2025-02-25 17:11:46,700] Trial 35 finished with value: 0.608641975308642 and parameters: {'k': 13}. Best is trial 22 with value: 0.6444444444444445.\n",
      "[I 2025-02-25 17:11:46,708] Trial 36 finished with value: 0.6061728395061728 and parameters: {'k': 38}. Best is trial 22 with value: 0.6444444444444445.\n",
      "[I 2025-02-25 17:11:46,717] Trial 37 finished with value: 0.6160493827160494 and parameters: {'k': 25}. Best is trial 22 with value: 0.6444444444444445.\n",
      "[I 2025-02-25 17:11:46,725] Trial 38 finished with value: 0.49629629629629635 and parameters: {'k': 7}. Best is trial 22 with value: 0.6444444444444445.\n",
      "[I 2025-02-25 17:11:46,734] Trial 39 finished with value: 0.6358024691358025 and parameters: {'k': 24}. Best is trial 22 with value: 0.6444444444444445.\n",
      "[I 2025-02-25 17:11:46,743] Trial 40 finished with value: 0.6086419753086421 and parameters: {'k': 37}. Best is trial 22 with value: 0.6444444444444445.\n",
      "[I 2025-02-25 17:11:46,753] Trial 41 finished with value: 0.6728395061728396 and parameters: {'k': 22}. Best is trial 41 with value: 0.6728395061728396.\n",
      "[I 2025-02-25 17:11:46,762] Trial 42 finished with value: 0.634567901234568 and parameters: {'k': 20}. Best is trial 41 with value: 0.6728395061728396.\n",
      "[I 2025-02-25 17:11:46,771] Trial 43 finished with value: 0.5666666666666668 and parameters: {'k': 10}. Best is trial 41 with value: 0.6728395061728396.\n",
      "[I 2025-02-25 17:11:46,781] Trial 44 finished with value: 0.5987654320987654 and parameters: {'k': 40}. Best is trial 41 with value: 0.6728395061728396.\n",
      "[I 2025-02-25 17:11:46,791] Trial 45 finished with value: 0.591358024691358 and parameters: {'k': 47}. Best is trial 41 with value: 0.6728395061728396.\n",
      "[I 2025-02-25 17:11:46,800] Trial 46 finished with value: 0.4814814814814814 and parameters: {'k': 4}. Best is trial 41 with value: 0.6728395061728396.\n",
      "[I 2025-02-25 17:11:46,810] Trial 47 finished with value: 0.5703703703703703 and parameters: {'k': 1}. Best is trial 41 with value: 0.6728395061728396.\n",
      "[I 2025-02-25 17:11:46,821] Trial 48 finished with value: 0.6123456790123457 and parameters: {'k': 48}. Best is trial 41 with value: 0.6728395061728396.\n",
      "[I 2025-02-25 17:11:46,831] Trial 49 finished with value: 0.5962962962962963 and parameters: {'k': 45}. Best is trial 41 with value: 0.6728395061728396.\n",
      "[I 2025-02-25 17:11:46,842] A new study created in memory with name: no-name-8e15e44a-98c2-46aa-b4b7-d1d5220045fb\n",
      "[I 2025-02-25 17:11:46,847] Trial 0 finished with value: 0.4447115384615385 and parameters: {'k': 29}. Best is trial 0 with value: 0.4447115384615385.\n",
      "[I 2025-02-25 17:11:46,852] Trial 1 finished with value: 0.483173076923077 and parameters: {'k': 12}. Best is trial 1 with value: 0.483173076923077.\n",
      "[I 2025-02-25 17:11:46,857] Trial 2 finished with value: 0.515625 and parameters: {'k': 11}. Best is trial 2 with value: 0.515625.\n",
      "[I 2025-02-25 17:11:46,863] Trial 3 finished with value: 0.4831730769230769 and parameters: {'k': 42}. Best is trial 2 with value: 0.515625.\n",
      "[I 2025-02-25 17:11:46,868] Trial 4 finished with value: 0.5625 and parameters: {'k': 3}. Best is trial 4 with value: 0.5625.\n",
      "[I 2025-02-25 17:11:46,873] Trial 5 finished with value: 0.41947115384615385 and parameters: {'k': 28}. Best is trial 4 with value: 0.5625.\n",
      "[I 2025-02-25 17:11:46,879] Trial 6 finished with value: 0.43990384615384615 and parameters: {'k': 39}. Best is trial 4 with value: 0.5625.\n",
      "[I 2025-02-25 17:11:46,885] Trial 7 finished with value: 0.44471153846153844 and parameters: {'k': 32}. Best is trial 4 with value: 0.5625.\n",
      "[I 2025-02-25 17:11:46,891] Trial 8 finished with value: 0.44831730769230765 and parameters: {'k': 23}. Best is trial 4 with value: 0.5625.\n",
      "[I 2025-02-25 17:11:46,898] Trial 9 finished with value: 0.515625 and parameters: {'k': 5}. Best is trial 4 with value: 0.5625.\n",
      "[I 2025-02-25 17:11:46,904] Trial 10 finished with value: 0.4266826923076923 and parameters: {'k': 34}. Best is trial 4 with value: 0.5625.\n",
      "[I 2025-02-25 17:11:46,911] Trial 11 finished with value: 0.40144230769230765 and parameters: {'k': 36}. Best is trial 4 with value: 0.5625.\n",
      "[I 2025-02-25 17:11:46,917] Trial 12 finished with value: 0.4326923076923077 and parameters: {'k': 27}. Best is trial 4 with value: 0.5625.\n",
      "[I 2025-02-25 17:11:46,924] Trial 13 finished with value: 0.4338942307692307 and parameters: {'k': 35}. Best is trial 4 with value: 0.5625.\n",
      "[I 2025-02-25 17:11:46,930] Trial 14 finished with value: 0.4483173076923077 and parameters: {'k': 19}. Best is trial 4 with value: 0.5625.\n",
      "[I 2025-02-25 17:11:46,937] Trial 15 finished with value: 0.5348557692307693 and parameters: {'k': 8}. Best is trial 4 with value: 0.5625.\n",
      "[I 2025-02-25 17:11:46,944] Trial 16 finished with value: 0.453125 and parameters: {'k': 15}. Best is trial 4 with value: 0.5625.\n",
      "[I 2025-02-25 17:11:46,951] Trial 17 finished with value: 0.46153846153846156 and parameters: {'k': 46}. Best is trial 4 with value: 0.5625.\n",
      "[I 2025-02-25 17:11:46,960] Trial 18 finished with value: 0.4483173076923076 and parameters: {'k': 49}. Best is trial 4 with value: 0.5625.\n",
      "[I 2025-02-25 17:11:46,968] Trial 19 finished with value: 0.4435096153846154 and parameters: {'k': 30}. Best is trial 4 with value: 0.5625.\n",
      "[I 2025-02-25 17:11:46,975] Trial 20 finished with value: 0.407451923076923 and parameters: {'k': 16}. Best is trial 4 with value: 0.5625.\n",
      "[I 2025-02-25 17:11:46,983] Trial 21 finished with value: 0.4519230769230769 and parameters: {'k': 31}. Best is trial 4 with value: 0.5625.\n",
      "[I 2025-02-25 17:11:46,990] Trial 22 finished with value: 0.43028846153846156 and parameters: {'k': 33}. Best is trial 4 with value: 0.5625.\n",
      "[I 2025-02-25 17:11:46,998] Trial 23 finished with value: 0.43509615384615385 and parameters: {'k': 17}. Best is trial 4 with value: 0.5625.\n",
      "[I 2025-02-25 17:11:47,006] Trial 24 finished with value: 0.4663461538461538 and parameters: {'k': 43}. Best is trial 4 with value: 0.5625.\n",
      "[I 2025-02-25 17:11:47,015] Trial 25 finished with value: 0.47115384615384615 and parameters: {'k': 21}. Best is trial 4 with value: 0.5625.\n",
      "[I 2025-02-25 17:11:47,025] Trial 26 finished with value: 0.4555288461538462 and parameters: {'k': 44}. Best is trial 4 with value: 0.5625.\n",
      "[I 2025-02-25 17:11:47,034] Trial 27 finished with value: 0.5192307692307692 and parameters: {'k': 9}. Best is trial 4 with value: 0.5625.\n",
      "[I 2025-02-25 17:11:47,043] Trial 28 finished with value: 0.4831730769230769 and parameters: {'k': 14}. Best is trial 4 with value: 0.5625.\n",
      "[I 2025-02-25 17:11:47,052] Trial 29 finished with value: 0.4543269230769231 and parameters: {'k': 26}. Best is trial 4 with value: 0.5625.\n",
      "[I 2025-02-25 17:11:47,061] Trial 30 finished with value: 0.5372596153846154 and parameters: {'k': 6}. Best is trial 4 with value: 0.5625.\n",
      "[I 2025-02-25 17:11:47,074] Trial 31 finished with value: 0.42427884615384615 and parameters: {'k': 18}. Best is trial 4 with value: 0.5625.\n",
      "[I 2025-02-25 17:11:47,084] Trial 32 finished with value: 0.46033653846153844 and parameters: {'k': 41}. Best is trial 4 with value: 0.5625.\n",
      "[I 2025-02-25 17:11:47,094] Trial 33 finished with value: 0.44471153846153844 and parameters: {'k': 50}. Best is trial 4 with value: 0.5625.\n",
      "[I 2025-02-25 17:11:47,105] Trial 34 finished with value: 0.5853365384615384 and parameters: {'k': 2}. Best is trial 34 with value: 0.5853365384615384.\n",
      "[I 2025-02-25 17:11:47,118] Trial 35 finished with value: 0.4855769230769231 and parameters: {'k': 13}. Best is trial 34 with value: 0.5853365384615384.\n",
      "[I 2025-02-25 17:11:47,132] Trial 36 finished with value: 0.44350961538461536 and parameters: {'k': 38}. Best is trial 34 with value: 0.5853365384615384.\n",
      "[I 2025-02-25 17:11:47,146] Trial 37 finished with value: 0.44471153846153844 and parameters: {'k': 25}. Best is trial 34 with value: 0.5853365384615384.\n",
      "[I 2025-02-25 17:11:47,160] Trial 38 finished with value: 0.5204326923076923 and parameters: {'k': 7}. Best is trial 34 with value: 0.5853365384615384.\n",
      "[I 2025-02-25 17:11:47,172] Trial 39 finished with value: 0.44711538461538464 and parameters: {'k': 24}. Best is trial 34 with value: 0.5853365384615384.\n",
      "[I 2025-02-25 17:11:47,185] Trial 40 finished with value: 0.4290865384615385 and parameters: {'k': 37}. Best is trial 34 with value: 0.5853365384615384.\n",
      "[I 2025-02-25 17:11:47,197] Trial 41 finished with value: 0.46394230769230765 and parameters: {'k': 22}. Best is trial 34 with value: 0.5853365384615384.\n",
      "[I 2025-02-25 17:11:47,208] Trial 42 finished with value: 0.4290865384615385 and parameters: {'k': 20}. Best is trial 34 with value: 0.5853365384615384.\n",
      "[I 2025-02-25 17:11:47,219] Trial 43 finished with value: 0.5264423076923077 and parameters: {'k': 10}. Best is trial 34 with value: 0.5853365384615384.\n",
      "[I 2025-02-25 17:11:47,231] Trial 44 finished with value: 0.4603365384615385 and parameters: {'k': 40}. Best is trial 34 with value: 0.5853365384615384.\n",
      "[I 2025-02-25 17:11:47,242] Trial 45 finished with value: 0.4495192307692308 and parameters: {'k': 47}. Best is trial 34 with value: 0.5853365384615384.\n",
      "[I 2025-02-25 17:11:47,254] Trial 46 finished with value: 0.5336538461538461 and parameters: {'k': 4}. Best is trial 34 with value: 0.5853365384615384.\n",
      "[I 2025-02-25 17:11:47,265] Trial 47 finished with value: 0.5745192307692307 and parameters: {'k': 1}. Best is trial 34 with value: 0.5853365384615384.\n",
      "[I 2025-02-25 17:11:47,277] Trial 48 finished with value: 0.46033653846153844 and parameters: {'k': 48}. Best is trial 34 with value: 0.5853365384615384.\n",
      "[I 2025-02-25 17:11:47,290] Trial 49 finished with value: 0.46634615384615385 and parameters: {'k': 45}. Best is trial 34 with value: 0.5853365384615384.\n",
      "[I 2025-02-25 17:11:47,299] A new study created in memory with name: no-name-6aed40d5-fe26-41bb-9133-2f10fd9e6e4a\n",
      "[I 2025-02-25 17:11:47,306] Trial 0 finished with value: 0.6097222222222223 and parameters: {'k': 29}. Best is trial 0 with value: 0.6097222222222223.\n",
      "[I 2025-02-25 17:11:47,312] Trial 1 finished with value: 0.6597222222222222 and parameters: {'k': 12}. Best is trial 1 with value: 0.6597222222222222.\n",
      "[I 2025-02-25 17:11:47,318] Trial 2 finished with value: 0.6513888888888889 and parameters: {'k': 11}. Best is trial 1 with value: 0.6597222222222222.\n",
      "[I 2025-02-25 17:11:47,324] Trial 3 finished with value: 0.6097222222222222 and parameters: {'k': 42}. Best is trial 1 with value: 0.6597222222222222.\n",
      "[I 2025-02-25 17:11:47,330] Trial 4 finished with value: 0.6083333333333334 and parameters: {'k': 3}. Best is trial 1 with value: 0.6597222222222222.\n",
      "[I 2025-02-25 17:11:47,337] Trial 5 finished with value: 0.6375000000000001 and parameters: {'k': 28}. Best is trial 1 with value: 0.6597222222222222.\n",
      "[I 2025-02-25 17:11:47,343] Trial 6 finished with value: 0.6180555555555555 and parameters: {'k': 39}. Best is trial 1 with value: 0.6597222222222222.\n",
      "[I 2025-02-25 17:11:47,350] Trial 7 finished with value: 0.6013888888888889 and parameters: {'k': 32}. Best is trial 1 with value: 0.6597222222222222.\n",
      "[I 2025-02-25 17:11:47,357] Trial 8 finished with value: 0.6847222222222222 and parameters: {'k': 23}. Best is trial 8 with value: 0.6847222222222222.\n",
      "[I 2025-02-25 17:11:47,364] Trial 9 finished with value: 0.6027777777777777 and parameters: {'k': 5}. Best is trial 8 with value: 0.6847222222222222.\n",
      "[I 2025-02-25 17:11:47,370] Trial 10 finished with value: 0.601388888888889 and parameters: {'k': 34}. Best is trial 8 with value: 0.6847222222222222.\n",
      "[I 2025-02-25 17:11:47,377] Trial 11 finished with value: 0.6166666666666667 and parameters: {'k': 36}. Best is trial 8 with value: 0.6847222222222222.\n",
      "[I 2025-02-25 17:11:47,383] Trial 12 finished with value: 0.6458333333333335 and parameters: {'k': 27}. Best is trial 8 with value: 0.6847222222222222.\n",
      "[I 2025-02-25 17:11:47,390] Trial 13 finished with value: 0.6111111111111112 and parameters: {'k': 35}. Best is trial 8 with value: 0.6847222222222222.\n",
      "[I 2025-02-25 17:11:47,397] Trial 14 finished with value: 0.698611111111111 and parameters: {'k': 19}. Best is trial 14 with value: 0.698611111111111.\n",
      "[I 2025-02-25 17:11:47,404] Trial 15 finished with value: 0.6027777777777777 and parameters: {'k': 8}. Best is trial 14 with value: 0.698611111111111.\n",
      "[I 2025-02-25 17:11:47,411] Trial 16 finished with value: 0.6638888888888889 and parameters: {'k': 15}. Best is trial 14 with value: 0.698611111111111.\n",
      "[I 2025-02-25 17:11:47,418] Trial 17 finished with value: 0.6263888888888889 and parameters: {'k': 46}. Best is trial 14 with value: 0.698611111111111.\n",
      "[I 2025-02-25 17:11:47,426] Trial 18 finished with value: 0.6319444444444445 and parameters: {'k': 49}. Best is trial 14 with value: 0.698611111111111.\n",
      "[I 2025-02-25 17:11:47,433] Trial 19 finished with value: 0.5888888888888889 and parameters: {'k': 30}. Best is trial 14 with value: 0.698611111111111.\n",
      "[I 2025-02-25 17:11:47,441] Trial 20 finished with value: 0.6277777777777778 and parameters: {'k': 16}. Best is trial 14 with value: 0.698611111111111.\n",
      "[I 2025-02-25 17:11:47,449] Trial 21 finished with value: 0.5861111111111111 and parameters: {'k': 31}. Best is trial 14 with value: 0.698611111111111.\n",
      "[I 2025-02-25 17:11:47,457] Trial 22 finished with value: 0.5930555555555554 and parameters: {'k': 33}. Best is trial 14 with value: 0.698611111111111.\n",
      "[I 2025-02-25 17:11:47,465] Trial 23 finished with value: 0.6375000000000001 and parameters: {'k': 17}. Best is trial 14 with value: 0.698611111111111.\n",
      "[I 2025-02-25 17:11:47,473] Trial 24 finished with value: 0.5972222222222222 and parameters: {'k': 43}. Best is trial 14 with value: 0.698611111111111.\n",
      "[I 2025-02-25 17:11:47,481] Trial 25 finished with value: 0.6749999999999999 and parameters: {'k': 21}. Best is trial 14 with value: 0.698611111111111.\n",
      "[I 2025-02-25 17:11:47,489] Trial 26 finished with value: 0.5930555555555556 and parameters: {'k': 44}. Best is trial 14 with value: 0.698611111111111.\n",
      "[I 2025-02-25 17:11:47,498] Trial 27 finished with value: 0.5777777777777778 and parameters: {'k': 9}. Best is trial 14 with value: 0.698611111111111.\n",
      "[I 2025-02-25 17:11:47,506] Trial 28 finished with value: 0.6791666666666667 and parameters: {'k': 14}. Best is trial 14 with value: 0.698611111111111.\n",
      "[I 2025-02-25 17:11:47,515] Trial 29 finished with value: 0.6597222222222222 and parameters: {'k': 26}. Best is trial 14 with value: 0.698611111111111.\n",
      "[I 2025-02-25 17:11:47,523] Trial 30 finished with value: 0.5972222222222223 and parameters: {'k': 6}. Best is trial 14 with value: 0.698611111111111.\n",
      "[I 2025-02-25 17:11:47,532] Trial 31 finished with value: 0.6847222222222222 and parameters: {'k': 18}. Best is trial 14 with value: 0.698611111111111.\n",
      "[I 2025-02-25 17:11:47,541] Trial 32 finished with value: 0.6124999999999999 and parameters: {'k': 41}. Best is trial 14 with value: 0.698611111111111.\n",
      "[I 2025-02-25 17:11:47,551] Trial 33 finished with value: 0.6263888888888889 and parameters: {'k': 50}. Best is trial 14 with value: 0.698611111111111.\n",
      "[I 2025-02-25 17:11:47,560] Trial 34 finished with value: 0.5166666666666666 and parameters: {'k': 2}. Best is trial 14 with value: 0.698611111111111.\n",
      "[I 2025-02-25 17:11:47,569] Trial 35 finished with value: 0.7166666666666668 and parameters: {'k': 13}. Best is trial 35 with value: 0.7166666666666668.\n",
      "[I 2025-02-25 17:11:47,579] Trial 36 finished with value: 0.6152777777777777 and parameters: {'k': 38}. Best is trial 35 with value: 0.7166666666666668.\n",
      "[I 2025-02-25 17:11:47,589] Trial 37 finished with value: 0.6583333333333332 and parameters: {'k': 25}. Best is trial 35 with value: 0.7166666666666668.\n",
      "[I 2025-02-25 17:11:47,598] Trial 38 finished with value: 0.6166666666666667 and parameters: {'k': 7}. Best is trial 35 with value: 0.7166666666666668.\n",
      "[I 2025-02-25 17:11:47,608] Trial 39 finished with value: 0.6777777777777778 and parameters: {'k': 24}. Best is trial 35 with value: 0.7166666666666668.\n",
      "[I 2025-02-25 17:11:47,619] Trial 40 finished with value: 0.6236111111111111 and parameters: {'k': 37}. Best is trial 35 with value: 0.7166666666666668.\n",
      "[I 2025-02-25 17:11:47,629] Trial 41 finished with value: 0.6666666666666667 and parameters: {'k': 22}. Best is trial 35 with value: 0.7166666666666668.\n",
      "[I 2025-02-25 17:11:47,639] Trial 42 finished with value: 0.6861111111111111 and parameters: {'k': 20}. Best is trial 35 with value: 0.7166666666666668.\n",
      "[I 2025-02-25 17:11:47,649] Trial 43 finished with value: 0.6375000000000001 and parameters: {'k': 10}. Best is trial 35 with value: 0.7166666666666668.\n",
      "[I 2025-02-25 17:11:47,660] Trial 44 finished with value: 0.6083333333333334 and parameters: {'k': 40}. Best is trial 35 with value: 0.7166666666666668.\n",
      "[I 2025-02-25 17:11:47,671] Trial 45 finished with value: 0.6416666666666667 and parameters: {'k': 47}. Best is trial 35 with value: 0.7166666666666668.\n",
      "[I 2025-02-25 17:11:47,682] Trial 46 finished with value: 0.5861111111111111 and parameters: {'k': 4}. Best is trial 35 with value: 0.7166666666666668.\n",
      "[I 2025-02-25 17:11:47,693] Trial 47 finished with value: 0.5499999999999999 and parameters: {'k': 1}. Best is trial 35 with value: 0.7166666666666668.\n",
      "[I 2025-02-25 17:11:47,705] Trial 48 finished with value: 0.6444444444444445 and parameters: {'k': 48}. Best is trial 35 with value: 0.7166666666666668.\n",
      "[I 2025-02-25 17:11:47,716] Trial 49 finished with value: 0.6263888888888889 and parameters: {'k': 45}. Best is trial 35 with value: 0.7166666666666668.\n",
      "[I 2025-02-25 17:11:47,723] A new study created in memory with name: no-name-cdb21993-63d1-4d6f-adc5-93f290967a0e\n",
      "[I 2025-02-25 17:11:47,728] Trial 0 finished with value: 0.4753086419753087 and parameters: {'k': 29}. Best is trial 0 with value: 0.4753086419753087.\n",
      "[I 2025-02-25 17:11:47,733] Trial 1 finished with value: 0.5901234567901235 and parameters: {'k': 12}. Best is trial 1 with value: 0.5901234567901235.\n",
      "[I 2025-02-25 17:11:47,738] Trial 2 finished with value: 0.5864197530864197 and parameters: {'k': 11}. Best is trial 1 with value: 0.5901234567901235.\n",
      "[I 2025-02-25 17:11:47,744] Trial 3 finished with value: 0.4740740740740741 and parameters: {'k': 42}. Best is trial 1 with value: 0.5901234567901235.\n",
      "[I 2025-02-25 17:11:47,749] Trial 4 finished with value: 0.7111111111111111 and parameters: {'k': 3}. Best is trial 4 with value: 0.7111111111111111.\n",
      "[I 2025-02-25 17:11:47,754] Trial 5 finished with value: 0.4654320987654321 and parameters: {'k': 28}. Best is trial 4 with value: 0.7111111111111111.\n",
      "[I 2025-02-25 17:11:47,760] Trial 6 finished with value: 0.4827160493827161 and parameters: {'k': 39}. Best is trial 4 with value: 0.7111111111111111.\n",
      "[I 2025-02-25 17:11:47,766] Trial 7 finished with value: 0.46296296296296297 and parameters: {'k': 32}. Best is trial 4 with value: 0.7111111111111111.\n",
      "[I 2025-02-25 17:11:47,772] Trial 8 finished with value: 0.5259259259259259 and parameters: {'k': 23}. Best is trial 4 with value: 0.7111111111111111.\n",
      "[I 2025-02-25 17:11:47,778] Trial 9 finished with value: 0.6530864197530863 and parameters: {'k': 5}. Best is trial 4 with value: 0.7111111111111111.\n",
      "[I 2025-02-25 17:11:47,784] Trial 10 finished with value: 0.47283950617283954 and parameters: {'k': 34}. Best is trial 4 with value: 0.7111111111111111.\n",
      "[I 2025-02-25 17:11:47,790] Trial 11 finished with value: 0.48024691358024696 and parameters: {'k': 36}. Best is trial 4 with value: 0.7111111111111111.\n",
      "[I 2025-02-25 17:11:47,796] Trial 12 finished with value: 0.4901234567901234 and parameters: {'k': 27}. Best is trial 4 with value: 0.7111111111111111.\n",
      "[I 2025-02-25 17:11:47,803] Trial 13 finished with value: 0.49876543209876545 and parameters: {'k': 35}. Best is trial 4 with value: 0.7111111111111111.\n",
      "[I 2025-02-25 17:11:47,810] Trial 14 finished with value: 0.548148148148148 and parameters: {'k': 19}. Best is trial 4 with value: 0.7111111111111111.\n",
      "[I 2025-02-25 17:11:47,819] Trial 15 finished with value: 0.7469135802469137 and parameters: {'k': 8}. Best is trial 15 with value: 0.7469135802469137.\n",
      "[I 2025-02-25 17:11:47,829] Trial 16 finished with value: 0.5530864197530864 and parameters: {'k': 15}. Best is trial 15 with value: 0.7469135802469137.\n",
      "[I 2025-02-25 17:11:47,840] Trial 17 finished with value: 0.4987654320987655 and parameters: {'k': 46}. Best is trial 15 with value: 0.7469135802469137.\n",
      "[I 2025-02-25 17:11:47,850] Trial 18 finished with value: 0.508641975308642 and parameters: {'k': 49}. Best is trial 15 with value: 0.7469135802469137.\n",
      "[I 2025-02-25 17:11:47,861] Trial 19 finished with value: 0.47777777777777775 and parameters: {'k': 30}. Best is trial 15 with value: 0.7469135802469137.\n",
      "[I 2025-02-25 17:11:47,872] Trial 20 finished with value: 0.5444444444444444 and parameters: {'k': 16}. Best is trial 15 with value: 0.7469135802469137.\n",
      "[I 2025-02-25 17:11:47,883] Trial 21 finished with value: 0.46543209876543207 and parameters: {'k': 31}. Best is trial 15 with value: 0.7469135802469137.\n",
      "[I 2025-02-25 17:11:47,894] Trial 22 finished with value: 0.4629629629629629 and parameters: {'k': 33}. Best is trial 15 with value: 0.7469135802469137.\n",
      "[I 2025-02-25 17:11:47,904] Trial 23 finished with value: 0.5407407407407407 and parameters: {'k': 17}. Best is trial 15 with value: 0.7469135802469137.\n",
      "[I 2025-02-25 17:11:47,914] Trial 24 finished with value: 0.4765432098765432 and parameters: {'k': 43}. Best is trial 15 with value: 0.7469135802469137.\n",
      "[I 2025-02-25 17:11:47,923] Trial 25 finished with value: 0.5246913580246914 and parameters: {'k': 21}. Best is trial 15 with value: 0.7469135802469137.\n",
      "[I 2025-02-25 17:11:47,931] Trial 26 finished with value: 0.49382716049382713 and parameters: {'k': 44}. Best is trial 15 with value: 0.7469135802469137.\n",
      "[I 2025-02-25 17:11:47,939] Trial 27 finished with value: 0.6901234567901233 and parameters: {'k': 9}. Best is trial 15 with value: 0.7469135802469137.\n",
      "[I 2025-02-25 17:11:47,948] Trial 28 finished with value: 0.6197530864197531 and parameters: {'k': 14}. Best is trial 15 with value: 0.7469135802469137.\n",
      "[I 2025-02-25 17:11:47,957] Trial 29 finished with value: 0.4962962962962963 and parameters: {'k': 26}. Best is trial 15 with value: 0.7469135802469137.\n",
      "[I 2025-02-25 17:11:47,965] Trial 30 finished with value: 0.754320987654321 and parameters: {'k': 6}. Best is trial 30 with value: 0.754320987654321.\n",
      "[I 2025-02-25 17:11:47,975] Trial 31 finished with value: 0.5641975308641975 and parameters: {'k': 18}. Best is trial 30 with value: 0.754320987654321.\n",
      "[I 2025-02-25 17:11:47,984] Trial 32 finished with value: 0.4740740740740741 and parameters: {'k': 41}. Best is trial 30 with value: 0.754320987654321.\n",
      "[I 2025-02-25 17:11:47,993] Trial 33 finished with value: 0.5098765432098765 and parameters: {'k': 50}. Best is trial 30 with value: 0.754320987654321.\n",
      "[I 2025-02-25 17:11:48,003] Trial 34 finished with value: 0.6728395061728395 and parameters: {'k': 2}. Best is trial 30 with value: 0.754320987654321.\n",
      "[I 2025-02-25 17:11:48,013] Trial 35 finished with value: 0.6061728395061727 and parameters: {'k': 13}. Best is trial 30 with value: 0.754320987654321.\n",
      "[I 2025-02-25 17:11:48,024] Trial 36 finished with value: 0.4814814814814815 and parameters: {'k': 38}. Best is trial 30 with value: 0.754320987654321.\n",
      "[I 2025-02-25 17:11:48,034] Trial 37 finished with value: 0.5148148148148148 and parameters: {'k': 25}. Best is trial 30 with value: 0.754320987654321.\n",
      "[I 2025-02-25 17:11:48,045] Trial 38 finished with value: 0.7716049382716049 and parameters: {'k': 7}. Best is trial 38 with value: 0.7716049382716049.\n",
      "[I 2025-02-25 17:11:48,055] Trial 39 finished with value: 0.519753086419753 and parameters: {'k': 24}. Best is trial 38 with value: 0.7716049382716049.\n",
      "[I 2025-02-25 17:11:48,065] Trial 40 finished with value: 0.5012345679012347 and parameters: {'k': 37}. Best is trial 38 with value: 0.7716049382716049.\n",
      "[I 2025-02-25 17:11:48,076] Trial 41 finished with value: 0.48271604938271606 and parameters: {'k': 22}. Best is trial 38 with value: 0.7716049382716049.\n",
      "[I 2025-02-25 17:11:48,086] Trial 42 finished with value: 0.5308641975308642 and parameters: {'k': 20}. Best is trial 38 with value: 0.7716049382716049.\n",
      "[I 2025-02-25 17:11:48,102] Trial 43 finished with value: 0.6271604938271604 and parameters: {'k': 10}. Best is trial 38 with value: 0.7716049382716049.\n",
      "[I 2025-02-25 17:11:48,113] Trial 44 finished with value: 0.4777777777777778 and parameters: {'k': 40}. Best is trial 38 with value: 0.7716049382716049.\n",
      "[I 2025-02-25 17:11:48,124] Trial 45 finished with value: 0.5148148148148148 and parameters: {'k': 47}. Best is trial 38 with value: 0.7716049382716049.\n",
      "[I 2025-02-25 17:11:48,135] Trial 46 finished with value: 0.6135802469135803 and parameters: {'k': 4}. Best is trial 38 with value: 0.7716049382716049.\n",
      "[I 2025-02-25 17:11:48,146] Trial 47 finished with value: 0.637037037037037 and parameters: {'k': 1}. Best is trial 38 with value: 0.7716049382716049.\n",
      "[I 2025-02-25 17:11:48,157] Trial 48 finished with value: 0.5098765432098766 and parameters: {'k': 48}. Best is trial 38 with value: 0.7716049382716049.\n",
      "[I 2025-02-25 17:11:48,169] Trial 49 finished with value: 0.49753086419753084 and parameters: {'k': 45}. Best is trial 38 with value: 0.7716049382716049.\n",
      "[I 2025-02-25 17:11:48,178] A new study created in memory with name: no-name-03a8e173-d4ae-4f39-a3f9-fdf47533dafd\n",
      "[I 2025-02-25 17:11:48,183] Trial 0 finished with value: 0.5540865384615385 and parameters: {'k': 29}. Best is trial 0 with value: 0.5540865384615385.\n",
      "[I 2025-02-25 17:11:48,188] Trial 1 finished with value: 0.49158653846153844 and parameters: {'k': 12}. Best is trial 0 with value: 0.5540865384615385.\n",
      "[I 2025-02-25 17:11:48,193] Trial 2 finished with value: 0.5348557692307693 and parameters: {'k': 11}. Best is trial 0 with value: 0.5540865384615385.\n",
      "[I 2025-02-25 17:11:48,198] Trial 3 finished with value: 0.5901442307692307 and parameters: {'k': 42}. Best is trial 3 with value: 0.5901442307692307.\n",
      "[I 2025-02-25 17:11:48,203] Trial 4 finished with value: 0.5216346153846154 and parameters: {'k': 3}. Best is trial 3 with value: 0.5901442307692307.\n",
      "[I 2025-02-25 17:11:48,209] Trial 5 finished with value: 0.5300480769230769 and parameters: {'k': 28}. Best is trial 3 with value: 0.5901442307692307.\n",
      "[I 2025-02-25 17:11:48,215] Trial 6 finished with value: 0.6454326923076922 and parameters: {'k': 39}. Best is trial 6 with value: 0.6454326923076922.\n",
      "[I 2025-02-25 17:11:48,221] Trial 7 finished with value: 0.6213942307692307 and parameters: {'k': 32}. Best is trial 6 with value: 0.6454326923076922.\n",
      "[I 2025-02-25 17:11:48,226] Trial 8 finished with value: 0.546875 and parameters: {'k': 23}. Best is trial 6 with value: 0.6454326923076922.\n",
      "[I 2025-02-25 17:11:48,232] Trial 9 finished with value: 0.5384615384615384 and parameters: {'k': 5}. Best is trial 6 with value: 0.6454326923076922.\n",
      "[I 2025-02-25 17:11:48,239] Trial 10 finished with value: 0.6141826923076922 and parameters: {'k': 34}. Best is trial 6 with value: 0.6454326923076922.\n",
      "[I 2025-02-25 17:11:48,245] Trial 11 finished with value: 0.5745192307692307 and parameters: {'k': 36}. Best is trial 6 with value: 0.6454326923076922.\n",
      "[I 2025-02-25 17:11:48,251] Trial 12 finished with value: 0.4891826923076923 and parameters: {'k': 27}. Best is trial 6 with value: 0.6454326923076922.\n",
      "[I 2025-02-25 17:11:48,258] Trial 13 finished with value: 0.594951923076923 and parameters: {'k': 35}. Best is trial 6 with value: 0.6454326923076922.\n",
      "[I 2025-02-25 17:11:48,264] Trial 14 finished with value: 0.5060096153846154 and parameters: {'k': 19}. Best is trial 6 with value: 0.6454326923076922.\n",
      "[I 2025-02-25 17:11:48,271] Trial 15 finished with value: 0.5360576923076923 and parameters: {'k': 8}. Best is trial 6 with value: 0.6454326923076922.\n",
      "[I 2025-02-25 17:11:48,278] Trial 16 finished with value: 0.47836538461538464 and parameters: {'k': 15}. Best is trial 6 with value: 0.6454326923076922.\n",
      "[I 2025-02-25 17:11:48,285] Trial 17 finished with value: 0.6382211538461539 and parameters: {'k': 46}. Best is trial 6 with value: 0.6454326923076922.\n",
      "[I 2025-02-25 17:11:48,293] Trial 18 finished with value: 0.5853365384615384 and parameters: {'k': 49}. Best is trial 6 with value: 0.6454326923076922.\n",
      "[I 2025-02-25 17:11:48,300] Trial 19 finished with value: 0.5805288461538461 and parameters: {'k': 30}. Best is trial 6 with value: 0.6454326923076922.\n",
      "[I 2025-02-25 17:11:48,307] Trial 20 finished with value: 0.4963942307692307 and parameters: {'k': 16}. Best is trial 6 with value: 0.6454326923076922.\n",
      "[I 2025-02-25 17:11:48,315] Trial 21 finished with value: 0.6117788461538461 and parameters: {'k': 31}. Best is trial 6 with value: 0.6454326923076922.\n",
      "[I 2025-02-25 17:11:48,323] Trial 22 finished with value: 0.6105769230769231 and parameters: {'k': 33}. Best is trial 6 with value: 0.6454326923076922.\n",
      "[I 2025-02-25 17:11:48,331] Trial 23 finished with value: 0.5012019230769231 and parameters: {'k': 17}. Best is trial 6 with value: 0.6454326923076922.\n",
      "[I 2025-02-25 17:11:48,339] Trial 24 finished with value: 0.5889423076923077 and parameters: {'k': 43}. Best is trial 6 with value: 0.6454326923076922.\n",
      "[I 2025-02-25 17:11:48,347] Trial 25 finished with value: 0.484375 and parameters: {'k': 21}. Best is trial 6 with value: 0.6454326923076922.\n",
      "[I 2025-02-25 17:11:48,356] Trial 26 finished with value: 0.5420673076923077 and parameters: {'k': 44}. Best is trial 6 with value: 0.6454326923076922.\n",
      "[I 2025-02-25 17:11:48,364] Trial 27 finished with value: 0.483173076923077 and parameters: {'k': 9}. Best is trial 6 with value: 0.6454326923076922.\n",
      "[I 2025-02-25 17:11:48,373] Trial 28 finished with value: 0.46634615384615385 and parameters: {'k': 14}. Best is trial 6 with value: 0.6454326923076922.\n",
      "[I 2025-02-25 17:11:48,382] Trial 29 finished with value: 0.5036057692307692 and parameters: {'k': 26}. Best is trial 6 with value: 0.6454326923076922.\n",
      "[I 2025-02-25 17:11:48,391] Trial 30 finished with value: 0.5492788461538461 and parameters: {'k': 6}. Best is trial 6 with value: 0.6454326923076922.\n",
      "[I 2025-02-25 17:11:48,400] Trial 31 finished with value: 0.5216346153846154 and parameters: {'k': 18}. Best is trial 6 with value: 0.6454326923076922.\n",
      "[I 2025-02-25 17:11:48,409] Trial 32 finished with value: 0.673076923076923 and parameters: {'k': 41}. Best is trial 32 with value: 0.673076923076923.\n",
      "[I 2025-02-25 17:11:48,418] Trial 33 finished with value: 0.5637019230769231 and parameters: {'k': 50}. Best is trial 32 with value: 0.673076923076923.\n",
      "[I 2025-02-25 17:11:48,427] Trial 34 finished with value: 0.5048076923076923 and parameters: {'k': 2}. Best is trial 32 with value: 0.673076923076923.\n",
      "[I 2025-02-25 17:11:48,437] Trial 35 finished with value: 0.46634615384615385 and parameters: {'k': 13}. Best is trial 32 with value: 0.673076923076923.\n",
      "[I 2025-02-25 17:11:48,447] Trial 36 finished with value: 0.6129807692307693 and parameters: {'k': 38}. Best is trial 32 with value: 0.673076923076923.\n",
      "[I 2025-02-25 17:11:48,457] Trial 37 finished with value: 0.5120192307692307 and parameters: {'k': 25}. Best is trial 32 with value: 0.673076923076923.\n",
      "[I 2025-02-25 17:11:48,466] Trial 38 finished with value: 0.4879807692307693 and parameters: {'k': 7}. Best is trial 32 with value: 0.673076923076923.\n",
      "[I 2025-02-25 17:11:48,476] Trial 39 finished with value: 0.5360576923076923 and parameters: {'k': 24}. Best is trial 32 with value: 0.673076923076923.\n",
      "[I 2025-02-25 17:11:48,486] Trial 40 finished with value: 0.5793269230769231 and parameters: {'k': 37}. Best is trial 32 with value: 0.673076923076923.\n",
      "[I 2025-02-25 17:11:48,497] Trial 41 finished with value: 0.5252403846153846 and parameters: {'k': 22}. Best is trial 32 with value: 0.673076923076923.\n",
      "[I 2025-02-25 17:11:48,507] Trial 42 finished with value: 0.4855769230769231 and parameters: {'k': 20}. Best is trial 32 with value: 0.673076923076923.\n",
      "[I 2025-02-25 17:11:48,517] Trial 43 finished with value: 0.4735576923076923 and parameters: {'k': 10}. Best is trial 32 with value: 0.673076923076923.\n",
      "[I 2025-02-25 17:11:48,528] Trial 44 finished with value: 0.6634615384615384 and parameters: {'k': 40}. Best is trial 32 with value: 0.673076923076923.\n",
      "[I 2025-02-25 17:11:48,539] Trial 45 finished with value: 0.6286057692307693 and parameters: {'k': 47}. Best is trial 32 with value: 0.673076923076923.\n",
      "[I 2025-02-25 17:11:48,550] Trial 46 finished with value: 0.4783653846153846 and parameters: {'k': 4}. Best is trial 32 with value: 0.673076923076923.\n",
      "[I 2025-02-25 17:11:48,561] Trial 47 finished with value: 0.47596153846153844 and parameters: {'k': 1}. Best is trial 32 with value: 0.673076923076923.\n",
      "[I 2025-02-25 17:11:48,573] Trial 48 finished with value: 0.6201923076923077 and parameters: {'k': 48}. Best is trial 32 with value: 0.673076923076923.\n",
      "[I 2025-02-25 17:11:48,584] Trial 49 finished with value: 0.6310096153846154 and parameters: {'k': 45}. Best is trial 32 with value: 0.673076923076923.\n",
      "[I 2025-02-25 17:11:48,592] A new study created in memory with name: no-name-e604f8c8-9ee6-4233-9056-0a003edb3f7d\n",
      "[I 2025-02-25 17:11:48,598] Trial 0 finished with value: 0.5135802469135803 and parameters: {'k': 29}. Best is trial 0 with value: 0.5135802469135803.\n",
      "[I 2025-02-25 17:11:48,603] Trial 1 finished with value: 0.5074074074074074 and parameters: {'k': 12}. Best is trial 0 with value: 0.5135802469135803.\n",
      "[I 2025-02-25 17:11:48,608] Trial 2 finished with value: 0.5160493827160494 and parameters: {'k': 11}. Best is trial 2 with value: 0.5160493827160494.\n",
      "[I 2025-02-25 17:11:48,613] Trial 3 finished with value: 0.5580246913580247 and parameters: {'k': 42}. Best is trial 3 with value: 0.5580246913580247.\n",
      "[I 2025-02-25 17:11:48,618] Trial 4 finished with value: 0.4765432098765432 and parameters: {'k': 3}. Best is trial 3 with value: 0.5580246913580247.\n",
      "[I 2025-02-25 17:11:48,624] Trial 5 finished with value: 0.48271604938271606 and parameters: {'k': 28}. Best is trial 3 with value: 0.5580246913580247.\n",
      "[I 2025-02-25 17:11:48,629] Trial 6 finished with value: 0.6000000000000001 and parameters: {'k': 39}. Best is trial 6 with value: 0.6000000000000001.\n",
      "[I 2025-02-25 17:11:48,635] Trial 7 finished with value: 0.5691358024691359 and parameters: {'k': 32}. Best is trial 6 with value: 0.6000000000000001.\n",
      "[I 2025-02-25 17:11:48,641] Trial 8 finished with value: 0.5370370370370371 and parameters: {'k': 23}. Best is trial 6 with value: 0.6000000000000001.\n",
      "[I 2025-02-25 17:11:48,647] Trial 9 finished with value: 0.554320987654321 and parameters: {'k': 5}. Best is trial 6 with value: 0.6000000000000001.\n",
      "[I 2025-02-25 17:11:48,654] Trial 10 finished with value: 0.5135802469135802 and parameters: {'k': 34}. Best is trial 6 with value: 0.6000000000000001.\n",
      "[I 2025-02-25 17:11:48,660] Trial 11 finished with value: 0.5172839506172839 and parameters: {'k': 36}. Best is trial 6 with value: 0.6000000000000001.\n",
      "[I 2025-02-25 17:11:48,667] Trial 12 finished with value: 0.49382716049382713 and parameters: {'k': 27}. Best is trial 6 with value: 0.6000000000000001.\n",
      "[I 2025-02-25 17:11:48,673] Trial 13 finished with value: 0.5345679012345679 and parameters: {'k': 35}. Best is trial 6 with value: 0.6000000000000001.\n",
      "[I 2025-02-25 17:11:48,680] Trial 14 finished with value: 0.5172839506172839 and parameters: {'k': 19}. Best is trial 6 with value: 0.6000000000000001.\n",
      "[I 2025-02-25 17:11:48,687] Trial 15 finished with value: 0.5518518518518518 and parameters: {'k': 8}. Best is trial 6 with value: 0.6000000000000001.\n",
      "[I 2025-02-25 17:11:48,694] Trial 16 finished with value: 0.4814814814814815 and parameters: {'k': 15}. Best is trial 6 with value: 0.6000000000000001.\n",
      "[I 2025-02-25 17:11:48,701] Trial 17 finished with value: 0.4666666666666667 and parameters: {'k': 46}. Best is trial 6 with value: 0.6000000000000001.\n",
      "[I 2025-02-25 17:11:48,708] Trial 18 finished with value: 0.48641975308641977 and parameters: {'k': 49}. Best is trial 6 with value: 0.6000000000000001.\n",
      "[I 2025-02-25 17:11:48,718] Trial 19 finished with value: 0.5246913580246914 and parameters: {'k': 30}. Best is trial 6 with value: 0.6000000000000001.\n",
      "[I 2025-02-25 17:11:48,728] Trial 20 finished with value: 0.5333333333333334 and parameters: {'k': 16}. Best is trial 6 with value: 0.6000000000000001.\n",
      "[I 2025-02-25 17:11:48,739] Trial 21 finished with value: 0.5246913580246915 and parameters: {'k': 31}. Best is trial 6 with value: 0.6000000000000001.\n",
      "[I 2025-02-25 17:11:48,749] Trial 22 finished with value: 0.5382716049382716 and parameters: {'k': 33}. Best is trial 6 with value: 0.6000000000000001.\n",
      "[I 2025-02-25 17:11:48,760] Trial 23 finished with value: 0.4629629629629629 and parameters: {'k': 17}. Best is trial 6 with value: 0.6000000000000001.\n",
      "[I 2025-02-25 17:11:48,770] Trial 24 finished with value: 0.554320987654321 and parameters: {'k': 43}. Best is trial 6 with value: 0.6000000000000001.\n",
      "[I 2025-02-25 17:11:48,781] Trial 25 finished with value: 0.5456790123456791 and parameters: {'k': 21}. Best is trial 6 with value: 0.6000000000000001.\n",
      "[I 2025-02-25 17:11:48,791] Trial 26 finished with value: 0.5135802469135803 and parameters: {'k': 44}. Best is trial 6 with value: 0.6000000000000001.\n",
      "[I 2025-02-25 17:11:48,799] Trial 27 finished with value: 0.5703703703703704 and parameters: {'k': 9}. Best is trial 6 with value: 0.6000000000000001.\n",
      "[I 2025-02-25 17:11:48,807] Trial 28 finished with value: 0.47530864197530864 and parameters: {'k': 14}. Best is trial 6 with value: 0.6000000000000001.\n",
      "[I 2025-02-25 17:11:48,816] Trial 29 finished with value: 0.5222222222222223 and parameters: {'k': 26}. Best is trial 6 with value: 0.6000000000000001.\n",
      "[I 2025-02-25 17:11:48,825] Trial 30 finished with value: 0.5765432098765433 and parameters: {'k': 6}. Best is trial 6 with value: 0.6000000000000001.\n",
      "[I 2025-02-25 17:11:48,834] Trial 31 finished with value: 0.5148148148148148 and parameters: {'k': 18}. Best is trial 6 with value: 0.6000000000000001.\n",
      "[I 2025-02-25 17:11:48,843] Trial 32 finished with value: 0.5530864197530865 and parameters: {'k': 41}. Best is trial 6 with value: 0.6000000000000001.\n",
      "[I 2025-02-25 17:11:48,852] Trial 33 finished with value: 0.5370370370370371 and parameters: {'k': 50}. Best is trial 6 with value: 0.6000000000000001.\n",
      "[I 2025-02-25 17:11:48,861] Trial 34 finished with value: 0.5074074074074074 and parameters: {'k': 2}. Best is trial 6 with value: 0.6000000000000001.\n",
      "[I 2025-02-25 17:11:48,871] Trial 35 finished with value: 0.537037037037037 and parameters: {'k': 13}. Best is trial 6 with value: 0.6000000000000001.\n",
      "[I 2025-02-25 17:11:48,880] Trial 36 finished with value: 0.54320987654321 and parameters: {'k': 38}. Best is trial 6 with value: 0.6000000000000001.\n",
      "[I 2025-02-25 17:11:48,890] Trial 37 finished with value: 0.5197530864197532 and parameters: {'k': 25}. Best is trial 6 with value: 0.6000000000000001.\n",
      "[I 2025-02-25 17:11:48,899] Trial 38 finished with value: 0.5555555555555556 and parameters: {'k': 7}. Best is trial 6 with value: 0.6000000000000001.\n",
      "[I 2025-02-25 17:11:48,909] Trial 39 finished with value: 0.54320987654321 and parameters: {'k': 24}. Best is trial 6 with value: 0.6000000000000001.\n",
      "[I 2025-02-25 17:11:48,920] Trial 40 finished with value: 0.49506172839506174 and parameters: {'k': 37}. Best is trial 6 with value: 0.6000000000000001.\n",
      "[I 2025-02-25 17:11:48,930] Trial 41 finished with value: 0.5839506172839506 and parameters: {'k': 22}. Best is trial 6 with value: 0.6000000000000001.\n",
      "[I 2025-02-25 17:11:48,940] Trial 42 finished with value: 0.5407407407407407 and parameters: {'k': 20}. Best is trial 6 with value: 0.6000000000000001.\n",
      "[I 2025-02-25 17:11:48,951] Trial 43 finished with value: 0.5691358024691358 and parameters: {'k': 10}. Best is trial 6 with value: 0.6000000000000001.\n",
      "[I 2025-02-25 17:11:48,961] Trial 44 finished with value: 0.5876543209876544 and parameters: {'k': 40}. Best is trial 6 with value: 0.6000000000000001.\n",
      "[I 2025-02-25 17:11:48,972] Trial 45 finished with value: 0.4469135802469136 and parameters: {'k': 47}. Best is trial 6 with value: 0.6000000000000001.\n",
      "[I 2025-02-25 17:11:48,983] Trial 46 finished with value: 0.5407407407407407 and parameters: {'k': 4}. Best is trial 6 with value: 0.6000000000000001.\n",
      "[I 2025-02-25 17:11:48,994] Trial 47 finished with value: 0.48148148148148145 and parameters: {'k': 1}. Best is trial 6 with value: 0.6000000000000001.\n",
      "[I 2025-02-25 17:11:49,006] Trial 48 finished with value: 0.48518518518518516 and parameters: {'k': 48}. Best is trial 6 with value: 0.6000000000000001.\n",
      "[I 2025-02-25 17:11:49,020] Trial 49 finished with value: 0.5098765432098766 and parameters: {'k': 45}. Best is trial 6 with value: 0.6000000000000001.\n",
      "[I 2025-02-25 17:11:49,032] A new study created in memory with name: no-name-8d18aa47-2e03-4b2f-a4bd-8ff17f177ecc\n",
      "[I 2025-02-25 17:11:49,037] Trial 0 finished with value: 0.5697115384615384 and parameters: {'k': 29}. Best is trial 0 with value: 0.5697115384615384.\n",
      "[I 2025-02-25 17:11:49,042] Trial 1 finished with value: 0.6586538461538461 and parameters: {'k': 12}. Best is trial 1 with value: 0.6586538461538461.\n",
      "[I 2025-02-25 17:11:49,047] Trial 2 finished with value: 0.640625 and parameters: {'k': 11}. Best is trial 1 with value: 0.6586538461538461.\n",
      "[I 2025-02-25 17:11:49,052] Trial 3 finished with value: 0.49519230769230765 and parameters: {'k': 42}. Best is trial 1 with value: 0.6586538461538461.\n",
      "[I 2025-02-25 17:11:49,056] Trial 4 finished with value: 0.6298076923076923 and parameters: {'k': 3}. Best is trial 1 with value: 0.6586538461538461.\n",
      "[I 2025-02-25 17:11:49,060] Trial 5 finished with value: 0.5492788461538461 and parameters: {'k': 28}. Best is trial 1 with value: 0.6586538461538461.\n",
      "[I 2025-02-25 17:11:49,064] Trial 6 finished with value: 0.5156249999999999 and parameters: {'k': 39}. Best is trial 1 with value: 0.6586538461538461.\n",
      "[I 2025-02-25 17:11:49,069] Trial 7 finished with value: 0.5168269230769231 and parameters: {'k': 32}. Best is trial 1 with value: 0.6586538461538461.\n",
      "[I 2025-02-25 17:11:49,074] Trial 8 finished with value: 0.5408653846153846 and parameters: {'k': 23}. Best is trial 1 with value: 0.6586538461538461.\n",
      "[I 2025-02-25 17:11:49,078] Trial 9 finished with value: 0.5793269230769231 and parameters: {'k': 5}. Best is trial 1 with value: 0.6586538461538461.\n",
      "[I 2025-02-25 17:11:49,083] Trial 10 finished with value: 0.5432692307692308 and parameters: {'k': 34}. Best is trial 1 with value: 0.6586538461538461.\n",
      "[I 2025-02-25 17:11:49,088] Trial 11 finished with value: 0.546875 and parameters: {'k': 36}. Best is trial 1 with value: 0.6586538461538461.\n",
      "[I 2025-02-25 17:11:49,093] Trial 12 finished with value: 0.5288461538461539 and parameters: {'k': 27}. Best is trial 1 with value: 0.6586538461538461.\n",
      "[I 2025-02-25 17:11:49,098] Trial 13 finished with value: 0.5552884615384616 and parameters: {'k': 35}. Best is trial 1 with value: 0.6586538461538461.\n",
      "[I 2025-02-25 17:11:49,103] Trial 14 finished with value: 0.4855769230769231 and parameters: {'k': 19}. Best is trial 1 with value: 0.6586538461538461.\n",
      "[I 2025-02-25 17:11:49,108] Trial 15 finished with value: 0.6634615384615384 and parameters: {'k': 8}. Best is trial 15 with value: 0.6634615384615384.\n",
      "[I 2025-02-25 17:11:49,113] Trial 16 finished with value: 0.6117788461538461 and parameters: {'k': 15}. Best is trial 15 with value: 0.6634615384615384.\n",
      "[I 2025-02-25 17:11:49,119] Trial 17 finished with value: 0.48677884615384615 and parameters: {'k': 46}. Best is trial 15 with value: 0.6634615384615384.\n",
      "[I 2025-02-25 17:11:49,125] Trial 18 finished with value: 0.5276442307692307 and parameters: {'k': 49}. Best is trial 15 with value: 0.6634615384615384.\n",
      "[I 2025-02-25 17:11:49,131] Trial 19 finished with value: 0.5552884615384616 and parameters: {'k': 30}. Best is trial 15 with value: 0.6634615384615384.\n",
      "[I 2025-02-25 17:11:49,137] Trial 20 finished with value: 0.5649038461538461 and parameters: {'k': 16}. Best is trial 15 with value: 0.6634615384615384.\n",
      "[I 2025-02-25 17:11:49,143] Trial 21 finished with value: 0.5564903846153846 and parameters: {'k': 31}. Best is trial 15 with value: 0.6634615384615384.\n",
      "[I 2025-02-25 17:11:49,150] Trial 22 finished with value: 0.5420673076923077 and parameters: {'k': 33}. Best is trial 15 with value: 0.6634615384615384.\n",
      "[I 2025-02-25 17:11:49,156] Trial 23 finished with value: 0.5492788461538461 and parameters: {'k': 17}. Best is trial 15 with value: 0.6634615384615384.\n",
      "[I 2025-02-25 17:11:49,163] Trial 24 finished with value: 0.4963942307692308 and parameters: {'k': 43}. Best is trial 15 with value: 0.6634615384615384.\n",
      "[I 2025-02-25 17:11:49,170] Trial 25 finished with value: 0.5396634615384615 and parameters: {'k': 21}. Best is trial 15 with value: 0.6634615384615384.\n",
      "[I 2025-02-25 17:11:49,177] Trial 26 finished with value: 0.47115384615384615 and parameters: {'k': 44}. Best is trial 15 with value: 0.6634615384615384.\n",
      "[I 2025-02-25 17:11:49,184] Trial 27 finished with value: 0.6454326923076923 and parameters: {'k': 9}. Best is trial 15 with value: 0.6634615384615384.\n",
      "[I 2025-02-25 17:11:49,191] Trial 28 finished with value: 0.6538461538461539 and parameters: {'k': 14}. Best is trial 15 with value: 0.6634615384615384.\n",
      "[I 2025-02-25 17:11:49,199] Trial 29 finished with value: 0.5060096153846154 and parameters: {'k': 26}. Best is trial 15 with value: 0.6634615384615384.\n",
      "[I 2025-02-25 17:11:49,206] Trial 30 finished with value: 0.6105769230769231 and parameters: {'k': 6}. Best is trial 15 with value: 0.6634615384615384.\n",
      "[I 2025-02-25 17:11:49,213] Trial 31 finished with value: 0.5300480769230769 and parameters: {'k': 18}. Best is trial 15 with value: 0.6634615384615384.\n",
      "[I 2025-02-25 17:11:49,221] Trial 32 finished with value: 0.4927884615384615 and parameters: {'k': 41}. Best is trial 15 with value: 0.6634615384615384.\n",
      "[I 2025-02-25 17:11:49,229] Trial 33 finished with value: 0.5276442307692307 and parameters: {'k': 50}. Best is trial 15 with value: 0.6634615384615384.\n",
      "[I 2025-02-25 17:11:49,237] Trial 34 finished with value: 0.578125 and parameters: {'k': 2}. Best is trial 15 with value: 0.6634615384615384.\n",
      "[I 2025-02-25 17:11:49,245] Trial 35 finished with value: 0.6766826923076923 and parameters: {'k': 13}. Best is trial 35 with value: 0.6766826923076923.\n",
      "[I 2025-02-25 17:11:49,253] Trial 36 finished with value: 0.5204326923076923 and parameters: {'k': 38}. Best is trial 35 with value: 0.6766826923076923.\n",
      "[I 2025-02-25 17:11:49,261] Trial 37 finished with value: 0.5276442307692308 and parameters: {'k': 25}. Best is trial 35 with value: 0.6766826923076923.\n",
      "[I 2025-02-25 17:11:49,270] Trial 38 finished with value: 0.6237980769230769 and parameters: {'k': 7}. Best is trial 35 with value: 0.6766826923076923.\n",
      "[I 2025-02-25 17:11:49,278] Trial 39 finished with value: 0.5252403846153846 and parameters: {'k': 24}. Best is trial 35 with value: 0.6766826923076923.\n",
      "[I 2025-02-25 17:11:49,287] Trial 40 finished with value: 0.5120192307692308 and parameters: {'k': 37}. Best is trial 35 with value: 0.6766826923076923.\n",
      "[I 2025-02-25 17:11:49,296] Trial 41 finished with value: 0.5504807692307693 and parameters: {'k': 22}. Best is trial 35 with value: 0.6766826923076923.\n",
      "[I 2025-02-25 17:11:49,305] Trial 42 finished with value: 0.5012019230769231 and parameters: {'k': 20}. Best is trial 35 with value: 0.6766826923076923.\n",
      "[I 2025-02-25 17:11:49,314] Trial 43 finished with value: 0.6610576923076923 and parameters: {'k': 10}. Best is trial 35 with value: 0.6766826923076923.\n",
      "[I 2025-02-25 17:11:49,323] Trial 44 finished with value: 0.5012019230769231 and parameters: {'k': 40}. Best is trial 35 with value: 0.6766826923076923.\n",
      "[I 2025-02-25 17:11:49,332] Trial 45 finished with value: 0.48557692307692313 and parameters: {'k': 47}. Best is trial 35 with value: 0.6766826923076923.\n",
      "[I 2025-02-25 17:11:49,342] Trial 46 finished with value: 0.5649038461538461 and parameters: {'k': 4}. Best is trial 35 with value: 0.6766826923076923.\n",
      "[I 2025-02-25 17:11:49,351] Trial 47 finished with value: 0.6225961538461539 and parameters: {'k': 1}. Best is trial 35 with value: 0.6766826923076923.\n",
      "[I 2025-02-25 17:11:49,361] Trial 48 finished with value: 0.5144230769230769 and parameters: {'k': 48}. Best is trial 35 with value: 0.6766826923076923.\n",
      "[I 2025-02-25 17:11:49,371] Trial 49 finished with value: 0.4963942307692308 and parameters: {'k': 45}. Best is trial 35 with value: 0.6766826923076923.\n",
      "[I 2025-02-25 17:11:49,376] A new study created in memory with name: no-name-9c16275e-a411-48fa-a31d-1c33c720ff85\n",
      "[I 2025-02-25 17:11:49,379] Trial 0 finished with value: 0.5694444444444445 and parameters: {'k': 29}. Best is trial 0 with value: 0.5694444444444445.\n",
      "[I 2025-02-25 17:11:49,383] Trial 1 finished with value: 0.5625 and parameters: {'k': 12}. Best is trial 0 with value: 0.5694444444444445.\n",
      "[I 2025-02-25 17:11:49,387] Trial 2 finished with value: 0.4916666666666667 and parameters: {'k': 11}. Best is trial 0 with value: 0.5694444444444445.\n",
      "[I 2025-02-25 17:11:49,391] Trial 3 finished with value: 0.6944444444444444 and parameters: {'k': 42}. Best is trial 3 with value: 0.6944444444444444.\n",
      "[I 2025-02-25 17:11:49,394] Trial 4 finished with value: 0.5791666666666667 and parameters: {'k': 3}. Best is trial 3 with value: 0.6944444444444444.\n",
      "[I 2025-02-25 17:11:49,399] Trial 5 finished with value: 0.5777777777777778 and parameters: {'k': 28}. Best is trial 3 with value: 0.6944444444444444.\n",
      "[I 2025-02-25 17:11:49,403] Trial 6 finished with value: 0.6777777777777778 and parameters: {'k': 39}. Best is trial 3 with value: 0.6944444444444444.\n",
      "[I 2025-02-25 17:11:49,409] Trial 7 finished with value: 0.5652777777777778 and parameters: {'k': 32}. Best is trial 3 with value: 0.6944444444444444.\n",
      "[I 2025-02-25 17:11:49,414] Trial 8 finished with value: 0.5805555555555556 and parameters: {'k': 23}. Best is trial 3 with value: 0.6944444444444444.\n",
      "[I 2025-02-25 17:11:49,419] Trial 9 finished with value: 0.5916666666666667 and parameters: {'k': 5}. Best is trial 3 with value: 0.6944444444444444.\n",
      "[I 2025-02-25 17:11:49,424] Trial 10 finished with value: 0.5847222222222221 and parameters: {'k': 34}. Best is trial 3 with value: 0.6944444444444444.\n",
      "[I 2025-02-25 17:11:49,429] Trial 11 finished with value: 0.6430555555555556 and parameters: {'k': 36}. Best is trial 3 with value: 0.6944444444444444.\n",
      "[I 2025-02-25 17:11:49,435] Trial 12 finished with value: 0.5597222222222222 and parameters: {'k': 27}. Best is trial 3 with value: 0.6944444444444444.\n",
      "[I 2025-02-25 17:11:49,441] Trial 13 finished with value: 0.6055555555555556 and parameters: {'k': 35}. Best is trial 3 with value: 0.6944444444444444.\n",
      "[I 2025-02-25 17:11:49,447] Trial 14 finished with value: 0.5722222222222222 and parameters: {'k': 19}. Best is trial 3 with value: 0.6944444444444444.\n",
      "[I 2025-02-25 17:11:49,453] Trial 15 finished with value: 0.6083333333333333 and parameters: {'k': 8}. Best is trial 3 with value: 0.6944444444444444.\n",
      "[I 2025-02-25 17:11:49,459] Trial 16 finished with value: 0.5222222222222221 and parameters: {'k': 15}. Best is trial 3 with value: 0.6944444444444444.\n",
      "[I 2025-02-25 17:11:49,465] Trial 17 finished with value: 0.7138888888888889 and parameters: {'k': 46}. Best is trial 17 with value: 0.7138888888888889.\n",
      "[I 2025-02-25 17:11:49,472] Trial 18 finished with value: 0.7041666666666666 and parameters: {'k': 49}. Best is trial 17 with value: 0.7138888888888889.\n",
      "[I 2025-02-25 17:11:49,479] Trial 19 finished with value: 0.5916666666666667 and parameters: {'k': 30}. Best is trial 17 with value: 0.7138888888888889.\n",
      "[I 2025-02-25 17:11:49,485] Trial 20 finished with value: 0.5055555555555555 and parameters: {'k': 16}. Best is trial 17 with value: 0.7138888888888889.\n",
      "[I 2025-02-25 17:11:49,492] Trial 21 finished with value: 0.5472222222222223 and parameters: {'k': 31}. Best is trial 17 with value: 0.7138888888888889.\n",
      "[I 2025-02-25 17:11:49,500] Trial 22 finished with value: 0.5750000000000001 and parameters: {'k': 33}. Best is trial 17 with value: 0.7138888888888889.\n",
      "[I 2025-02-25 17:11:49,507] Trial 23 finished with value: 0.5319444444444443 and parameters: {'k': 17}. Best is trial 17 with value: 0.7138888888888889.\n",
      "[I 2025-02-25 17:11:49,513] Trial 24 finished with value: 0.7055555555555556 and parameters: {'k': 43}. Best is trial 17 with value: 0.7138888888888889.\n",
      "[I 2025-02-25 17:11:49,520] Trial 25 finished with value: 0.6138888888888889 and parameters: {'k': 21}. Best is trial 17 with value: 0.7138888888888889.\n",
      "[I 2025-02-25 17:11:49,527] Trial 26 finished with value: 0.7041666666666667 and parameters: {'k': 44}. Best is trial 17 with value: 0.7138888888888889.\n",
      "[I 2025-02-25 17:11:49,535] Trial 27 finished with value: 0.5861111111111111 and parameters: {'k': 9}. Best is trial 17 with value: 0.7138888888888889.\n",
      "[I 2025-02-25 17:11:49,542] Trial 28 finished with value: 0.5249999999999999 and parameters: {'k': 14}. Best is trial 17 with value: 0.7138888888888889.\n",
      "[I 2025-02-25 17:11:49,549] Trial 29 finished with value: 0.5583333333333333 and parameters: {'k': 26}. Best is trial 17 with value: 0.7138888888888889.\n",
      "[I 2025-02-25 17:11:49,557] Trial 30 finished with value: 0.5638888888888889 and parameters: {'k': 6}. Best is trial 17 with value: 0.7138888888888889.\n",
      "[I 2025-02-25 17:11:49,564] Trial 31 finished with value: 0.5624999999999999 and parameters: {'k': 18}. Best is trial 17 with value: 0.7138888888888889.\n",
      "[I 2025-02-25 17:11:49,572] Trial 32 finished with value: 0.6930555555555555 and parameters: {'k': 41}. Best is trial 17 with value: 0.7138888888888889.\n",
      "[I 2025-02-25 17:11:49,580] Trial 33 finished with value: 0.6902777777777778 and parameters: {'k': 50}. Best is trial 17 with value: 0.7138888888888889.\n",
      "[I 2025-02-25 17:11:49,588] Trial 34 finished with value: 0.45000000000000007 and parameters: {'k': 2}. Best is trial 17 with value: 0.7138888888888889.\n",
      "[I 2025-02-25 17:11:49,596] Trial 35 finished with value: 0.5263888888888889 and parameters: {'k': 13}. Best is trial 17 with value: 0.7138888888888889.\n",
      "[I 2025-02-25 17:11:49,604] Trial 36 finished with value: 0.6819444444444445 and parameters: {'k': 38}. Best is trial 17 with value: 0.7138888888888889.\n",
      "[I 2025-02-25 17:11:49,613] Trial 37 finished with value: 0.55 and parameters: {'k': 25}. Best is trial 17 with value: 0.7138888888888889.\n",
      "[I 2025-02-25 17:11:49,621] Trial 38 finished with value: 0.5902777777777778 and parameters: {'k': 7}. Best is trial 17 with value: 0.7138888888888889.\n",
      "[I 2025-02-25 17:11:49,630] Trial 39 finished with value: 0.5638888888888889 and parameters: {'k': 24}. Best is trial 17 with value: 0.7138888888888889.\n",
      "[I 2025-02-25 17:11:49,639] Trial 40 finished with value: 0.6708333333333334 and parameters: {'k': 37}. Best is trial 17 with value: 0.7138888888888889.\n",
      "[I 2025-02-25 17:11:49,648] Trial 41 finished with value: 0.6013888888888889 and parameters: {'k': 22}. Best is trial 17 with value: 0.7138888888888889.\n",
      "[I 2025-02-25 17:11:49,657] Trial 42 finished with value: 0.5930555555555556 and parameters: {'k': 20}. Best is trial 17 with value: 0.7138888888888889.\n",
      "[I 2025-02-25 17:11:49,666] Trial 43 finished with value: 0.5083333333333333 and parameters: {'k': 10}. Best is trial 17 with value: 0.7138888888888889.\n",
      "[I 2025-02-25 17:11:49,676] Trial 44 finished with value: 0.6875000000000001 and parameters: {'k': 40}. Best is trial 17 with value: 0.7138888888888889.\n",
      "[I 2025-02-25 17:11:49,685] Trial 45 finished with value: 0.7319444444444445 and parameters: {'k': 47}. Best is trial 45 with value: 0.7319444444444445.\n",
      "[I 2025-02-25 17:11:49,695] Trial 46 finished with value: 0.601388888888889 and parameters: {'k': 4}. Best is trial 45 with value: 0.7319444444444445.\n",
      "[I 2025-02-25 17:11:49,704] Trial 47 finished with value: 0.5333333333333333 and parameters: {'k': 1}. Best is trial 45 with value: 0.7319444444444445.\n",
      "[I 2025-02-25 17:11:49,714] Trial 48 finished with value: 0.7083333333333334 and parameters: {'k': 48}. Best is trial 45 with value: 0.7319444444444445.\n",
      "[I 2025-02-25 17:11:49,724] Trial 49 finished with value: 0.7069444444444445 and parameters: {'k': 45}. Best is trial 45 with value: 0.7319444444444445.\n",
      "[I 2025-02-25 17:11:49,730] A new study created in memory with name: no-name-52e0054d-227f-41e6-b11a-fb8614a0c9cf\n",
      "[I 2025-02-25 17:11:49,733] Trial 0 finished with value: 0.5802469135802469 and parameters: {'k': 29}. Best is trial 0 with value: 0.5802469135802469.\n",
      "[I 2025-02-25 17:11:49,737] Trial 1 finished with value: 0.6123456790123457 and parameters: {'k': 12}. Best is trial 1 with value: 0.6123456790123457.\n",
      "[I 2025-02-25 17:11:49,741] Trial 2 finished with value: 0.6185185185185186 and parameters: {'k': 11}. Best is trial 2 with value: 0.6185185185185186.\n",
      "[I 2025-02-25 17:11:49,745] Trial 3 finished with value: 0.5333333333333334 and parameters: {'k': 42}. Best is trial 2 with value: 0.6185185185185186.\n",
      "[I 2025-02-25 17:11:49,749] Trial 4 finished with value: 0.597530864197531 and parameters: {'k': 3}. Best is trial 2 with value: 0.6185185185185186.\n",
      "[I 2025-02-25 17:11:49,753] Trial 5 finished with value: 0.5851851851851851 and parameters: {'k': 28}. Best is trial 2 with value: 0.6185185185185186.\n",
      "[I 2025-02-25 17:11:49,757] Trial 6 finished with value: 0.5222222222222221 and parameters: {'k': 39}. Best is trial 2 with value: 0.6185185185185186.\n",
      "[I 2025-02-25 17:11:49,762] Trial 7 finished with value: 0.5469135802469136 and parameters: {'k': 32}. Best is trial 2 with value: 0.6185185185185186.\n",
      "[I 2025-02-25 17:11:49,767] Trial 8 finished with value: 0.591358024691358 and parameters: {'k': 23}. Best is trial 2 with value: 0.6185185185185186.\n",
      "[I 2025-02-25 17:11:49,771] Trial 9 finished with value: 0.5246913580246914 and parameters: {'k': 5}. Best is trial 2 with value: 0.6185185185185186.\n",
      "[I 2025-02-25 17:11:49,776] Trial 10 finished with value: 0.5333333333333332 and parameters: {'k': 34}. Best is trial 2 with value: 0.6185185185185186.\n",
      "[I 2025-02-25 17:11:49,782] Trial 11 finished with value: 0.534567901234568 and parameters: {'k': 36}. Best is trial 2 with value: 0.6185185185185186.\n",
      "[I 2025-02-25 17:11:49,787] Trial 12 finished with value: 0.5950617283950617 and parameters: {'k': 27}. Best is trial 2 with value: 0.6185185185185186.\n",
      "[I 2025-02-25 17:11:49,792] Trial 13 finished with value: 0.5111111111111111 and parameters: {'k': 35}. Best is trial 2 with value: 0.6185185185185186.\n",
      "[I 2025-02-25 17:11:49,798] Trial 14 finished with value: 0.6 and parameters: {'k': 19}. Best is trial 2 with value: 0.6185185185185186.\n",
      "[I 2025-02-25 17:11:49,803] Trial 15 finished with value: 0.6135802469135803 and parameters: {'k': 8}. Best is trial 2 with value: 0.6185185185185186.\n",
      "[I 2025-02-25 17:11:49,809] Trial 16 finished with value: 0.508641975308642 and parameters: {'k': 15}. Best is trial 2 with value: 0.6185185185185186.\n",
      "[I 2025-02-25 17:11:49,815] Trial 17 finished with value: 0.5283950617283951 and parameters: {'k': 46}. Best is trial 2 with value: 0.6185185185185186.\n",
      "[I 2025-02-25 17:11:49,821] Trial 18 finished with value: 0.5617283950617284 and parameters: {'k': 49}. Best is trial 2 with value: 0.6185185185185186.\n",
      "[I 2025-02-25 17:11:49,827] Trial 19 finished with value: 0.5691358024691358 and parameters: {'k': 30}. Best is trial 2 with value: 0.6185185185185186.\n",
      "[I 2025-02-25 17:11:49,833] Trial 20 finished with value: 0.5222222222222221 and parameters: {'k': 16}. Best is trial 2 with value: 0.6185185185185186.\n",
      "[I 2025-02-25 17:11:49,839] Trial 21 finished with value: 0.562962962962963 and parameters: {'k': 31}. Best is trial 2 with value: 0.6185185185185186.\n",
      "[I 2025-02-25 17:11:49,846] Trial 22 finished with value: 0.5370370370370371 and parameters: {'k': 33}. Best is trial 2 with value: 0.6185185185185186.\n",
      "[I 2025-02-25 17:11:49,852] Trial 23 finished with value: 0.5061728395061729 and parameters: {'k': 17}. Best is trial 2 with value: 0.6185185185185186.\n",
      "[I 2025-02-25 17:11:49,859] Trial 24 finished with value: 0.5283950617283951 and parameters: {'k': 43}. Best is trial 2 with value: 0.6185185185185186.\n",
      "[I 2025-02-25 17:11:49,865] Trial 25 finished with value: 0.5679012345679012 and parameters: {'k': 21}. Best is trial 2 with value: 0.6185185185185186.\n",
      "[I 2025-02-25 17:11:49,872] Trial 26 finished with value: 0.5555555555555556 and parameters: {'k': 44}. Best is trial 2 with value: 0.6185185185185186.\n",
      "[I 2025-02-25 17:11:49,879] Trial 27 finished with value: 0.6308641975308642 and parameters: {'k': 9}. Best is trial 27 with value: 0.6308641975308642.\n",
      "[I 2025-02-25 17:11:49,886] Trial 28 finished with value: 0.5345679012345679 and parameters: {'k': 14}. Best is trial 27 with value: 0.6308641975308642.\n",
      "[I 2025-02-25 17:11:49,894] Trial 29 finished with value: 0.5802469135802468 and parameters: {'k': 26}. Best is trial 27 with value: 0.6308641975308642.\n",
      "[I 2025-02-25 17:11:49,901] Trial 30 finished with value: 0.545679012345679 and parameters: {'k': 6}. Best is trial 27 with value: 0.6308641975308642.\n",
      "[I 2025-02-25 17:11:49,909] Trial 31 finished with value: 0.5518518518518518 and parameters: {'k': 18}. Best is trial 27 with value: 0.6308641975308642.\n",
      "[I 2025-02-25 17:11:49,916] Trial 32 finished with value: 0.5135802469135803 and parameters: {'k': 41}. Best is trial 27 with value: 0.6308641975308642.\n",
      "[I 2025-02-25 17:11:49,924] Trial 33 finished with value: 0.562962962962963 and parameters: {'k': 50}. Best is trial 27 with value: 0.6308641975308642.\n",
      "[I 2025-02-25 17:11:49,932] Trial 34 finished with value: 0.6666666666666667 and parameters: {'k': 2}. Best is trial 34 with value: 0.6666666666666667.\n",
      "[I 2025-02-25 17:11:49,940] Trial 35 finished with value: 0.5913580246913581 and parameters: {'k': 13}. Best is trial 34 with value: 0.6666666666666667.\n",
      "[I 2025-02-25 17:11:49,948] Trial 36 finished with value: 0.5345679012345679 and parameters: {'k': 38}. Best is trial 34 with value: 0.6666666666666667.\n",
      "[I 2025-02-25 17:11:49,957] Trial 37 finished with value: 0.5567901234567901 and parameters: {'k': 25}. Best is trial 34 with value: 0.6666666666666667.\n",
      "[I 2025-02-25 17:11:49,965] Trial 38 finished with value: 0.5308641975308642 and parameters: {'k': 7}. Best is trial 34 with value: 0.6666666666666667.\n",
      "[I 2025-02-25 17:11:49,974] Trial 39 finished with value: 0.5728395061728394 and parameters: {'k': 24}. Best is trial 34 with value: 0.6666666666666667.\n",
      "[I 2025-02-25 17:11:49,982] Trial 40 finished with value: 0.5506172839506173 and parameters: {'k': 37}. Best is trial 34 with value: 0.6666666666666667.\n",
      "[I 2025-02-25 17:11:49,991] Trial 41 finished with value: 0.5975308641975309 and parameters: {'k': 22}. Best is trial 34 with value: 0.6666666666666667.\n",
      "[I 2025-02-25 17:11:50,000] Trial 42 finished with value: 0.591358024691358 and parameters: {'k': 20}. Best is trial 34 with value: 0.6666666666666667.\n",
      "[I 2025-02-25 17:11:50,010] Trial 43 finished with value: 0.6271604938271605 and parameters: {'k': 10}. Best is trial 34 with value: 0.6666666666666667.\n",
      "[I 2025-02-25 17:11:50,021] Trial 44 finished with value: 0.5098765432098765 and parameters: {'k': 40}. Best is trial 34 with value: 0.6666666666666667.\n",
      "[I 2025-02-25 17:11:50,032] Trial 45 finished with value: 0.5493827160493827 and parameters: {'k': 47}. Best is trial 34 with value: 0.6666666666666667.\n",
      "[I 2025-02-25 17:11:50,043] Trial 46 finished with value: 0.5358024691358025 and parameters: {'k': 4}. Best is trial 34 with value: 0.6666666666666667.\n",
      "[I 2025-02-25 17:11:50,053] Trial 47 finished with value: 0.6407407407407408 and parameters: {'k': 1}. Best is trial 34 with value: 0.6666666666666667.\n",
      "[I 2025-02-25 17:11:50,064] Trial 48 finished with value: 0.554320987654321 and parameters: {'k': 48}. Best is trial 34 with value: 0.6666666666666667.\n",
      "[I 2025-02-25 17:11:50,075] Trial 49 finished with value: 0.5308641975308642 and parameters: {'k': 45}. Best is trial 34 with value: 0.6666666666666667.\n",
      "[I 2025-02-25 17:11:50,080] A new study created in memory with name: no-name-757bd561-5e37-4c81-95df-007b38bc5590\n",
      "[I 2025-02-25 17:11:50,084] Trial 0 finished with value: 0.6466346153846154 and parameters: {'k': 29}. Best is trial 0 with value: 0.6466346153846154.\n",
      "[I 2025-02-25 17:11:50,088] Trial 1 finished with value: 0.6526442307692307 and parameters: {'k': 12}. Best is trial 1 with value: 0.6526442307692307.\n",
      "[I 2025-02-25 17:11:50,092] Trial 2 finished with value: 0.6310096153846154 and parameters: {'k': 11}. Best is trial 1 with value: 0.6526442307692307.\n",
      "[I 2025-02-25 17:11:50,096] Trial 3 finished with value: 0.532451923076923 and parameters: {'k': 42}. Best is trial 1 with value: 0.6526442307692307.\n",
      "[I 2025-02-25 17:11:50,100] Trial 4 finished with value: 0.5372596153846154 and parameters: {'k': 3}. Best is trial 1 with value: 0.6526442307692307.\n",
      "[I 2025-02-25 17:11:50,105] Trial 5 finished with value: 0.6682692307692308 and parameters: {'k': 28}. Best is trial 5 with value: 0.6682692307692308.\n",
      "[I 2025-02-25 17:11:50,110] Trial 6 finished with value: 0.5240384615384616 and parameters: {'k': 39}. Best is trial 5 with value: 0.6682692307692308.\n",
      "[I 2025-02-25 17:11:50,115] Trial 7 finished with value: 0.5997596153846153 and parameters: {'k': 32}. Best is trial 5 with value: 0.6682692307692308.\n",
      "[I 2025-02-25 17:11:50,119] Trial 8 finished with value: 0.7019230769230769 and parameters: {'k': 23}. Best is trial 8 with value: 0.7019230769230769.\n",
      "[I 2025-02-25 17:11:50,124] Trial 9 finished with value: 0.5240384615384616 and parameters: {'k': 5}. Best is trial 8 with value: 0.7019230769230769.\n",
      "[I 2025-02-25 17:11:50,129] Trial 10 finished with value: 0.6093749999999999 and parameters: {'k': 34}. Best is trial 8 with value: 0.7019230769230769.\n",
      "[I 2025-02-25 17:11:50,134] Trial 11 finished with value: 0.5745192307692307 and parameters: {'k': 36}. Best is trial 8 with value: 0.7019230769230769.\n",
      "[I 2025-02-25 17:11:50,139] Trial 12 finished with value: 0.6322115384615385 and parameters: {'k': 27}. Best is trial 8 with value: 0.7019230769230769.\n",
      "[I 2025-02-25 17:11:50,144] Trial 13 finished with value: 0.5721153846153847 and parameters: {'k': 35}. Best is trial 8 with value: 0.7019230769230769.\n",
      "[I 2025-02-25 17:11:50,150] Trial 14 finished with value: 0.6658653846153846 and parameters: {'k': 19}. Best is trial 8 with value: 0.7019230769230769.\n",
      "[I 2025-02-25 17:11:50,155] Trial 15 finished with value: 0.6682692307692307 and parameters: {'k': 8}. Best is trial 8 with value: 0.7019230769230769.\n",
      "[I 2025-02-25 17:11:50,161] Trial 16 finished with value: 0.655048076923077 and parameters: {'k': 15}. Best is trial 8 with value: 0.7019230769230769.\n",
      "[I 2025-02-25 17:11:50,167] Trial 17 finished with value: 0.47475961538461536 and parameters: {'k': 46}. Best is trial 8 with value: 0.7019230769230769.\n",
      "[I 2025-02-25 17:11:50,173] Trial 18 finished with value: 0.4711538461538462 and parameters: {'k': 49}. Best is trial 8 with value: 0.7019230769230769.\n",
      "[I 2025-02-25 17:11:50,179] Trial 19 finished with value: 0.625 and parameters: {'k': 30}. Best is trial 8 with value: 0.7019230769230769.\n",
      "[I 2025-02-25 17:11:50,185] Trial 20 finished with value: 0.6598557692307694 and parameters: {'k': 16}. Best is trial 8 with value: 0.7019230769230769.\n",
      "[I 2025-02-25 17:11:50,192] Trial 21 finished with value: 0.6334134615384617 and parameters: {'k': 31}. Best is trial 8 with value: 0.7019230769230769.\n",
      "[I 2025-02-25 17:11:50,198] Trial 22 finished with value: 0.6009615384615384 and parameters: {'k': 33}. Best is trial 8 with value: 0.7019230769230769.\n",
      "[I 2025-02-25 17:11:50,205] Trial 23 finished with value: 0.6754807692307692 and parameters: {'k': 17}. Best is trial 8 with value: 0.7019230769230769.\n",
      "[I 2025-02-25 17:11:50,212] Trial 24 finished with value: 0.5096153846153846 and parameters: {'k': 43}. Best is trial 8 with value: 0.7019230769230769.\n",
      "[I 2025-02-25 17:11:50,218] Trial 25 finished with value: 0.671875 and parameters: {'k': 21}. Best is trial 8 with value: 0.7019230769230769.\n",
      "[I 2025-02-25 17:11:50,226] Trial 26 finished with value: 0.48197115384615385 and parameters: {'k': 44}. Best is trial 8 with value: 0.7019230769230769.\n",
      "[I 2025-02-25 17:11:50,233] Trial 27 finished with value: 0.6562500000000001 and parameters: {'k': 9}. Best is trial 8 with value: 0.7019230769230769.\n",
      "[I 2025-02-25 17:11:50,240] Trial 28 finished with value: 0.6478365384615385 and parameters: {'k': 14}. Best is trial 8 with value: 0.7019230769230769.\n",
      "[I 2025-02-25 17:11:50,247] Trial 29 finished with value: 0.6538461538461539 and parameters: {'k': 26}. Best is trial 8 with value: 0.7019230769230769.\n",
      "[I 2025-02-25 17:11:50,255] Trial 30 finished with value: 0.5901442307692307 and parameters: {'k': 6}. Best is trial 8 with value: 0.7019230769230769.\n",
      "[I 2025-02-25 17:11:50,262] Trial 31 finished with value: 0.6694711538461537 and parameters: {'k': 18}. Best is trial 8 with value: 0.7019230769230769.\n",
      "[I 2025-02-25 17:11:50,270] Trial 32 finished with value: 0.5492788461538463 and parameters: {'k': 41}. Best is trial 8 with value: 0.7019230769230769.\n",
      "[I 2025-02-25 17:11:50,278] Trial 33 finished with value: 0.4831730769230769 and parameters: {'k': 50}. Best is trial 8 with value: 0.7019230769230769.\n",
      "[I 2025-02-25 17:11:50,286] Trial 34 finished with value: 0.5733173076923077 and parameters: {'k': 2}. Best is trial 8 with value: 0.7019230769230769.\n",
      "[I 2025-02-25 17:11:50,294] Trial 35 finished with value: 0.6634615384615385 and parameters: {'k': 13}. Best is trial 8 with value: 0.7019230769230769.\n",
      "[I 2025-02-25 17:11:50,303] Trial 36 finished with value: 0.5372596153846153 and parameters: {'k': 38}. Best is trial 8 with value: 0.7019230769230769.\n",
      "[I 2025-02-25 17:11:50,311] Trial 37 finished with value: 0.685096153846154 and parameters: {'k': 25}. Best is trial 8 with value: 0.7019230769230769.\n",
      "[I 2025-02-25 17:11:50,320] Trial 38 finished with value: 0.6069711538461539 and parameters: {'k': 7}. Best is trial 8 with value: 0.7019230769230769.\n",
      "[I 2025-02-25 17:11:50,328] Trial 39 finished with value: 0.6983173076923076 and parameters: {'k': 24}. Best is trial 8 with value: 0.7019230769230769.\n",
      "[I 2025-02-25 17:11:50,337] Trial 40 finished with value: 0.5456730769230769 and parameters: {'k': 37}. Best is trial 8 with value: 0.7019230769230769.\n",
      "[I 2025-02-25 17:11:50,346] Trial 41 finished with value: 0.6862980769230769 and parameters: {'k': 22}. Best is trial 8 with value: 0.7019230769230769.\n",
      "[I 2025-02-25 17:11:50,355] Trial 42 finished with value: 0.6237980769230769 and parameters: {'k': 20}. Best is trial 8 with value: 0.7019230769230769.\n",
      "[I 2025-02-25 17:11:50,364] Trial 43 finished with value: 0.6237980769230769 and parameters: {'k': 10}. Best is trial 8 with value: 0.7019230769230769.\n",
      "[I 2025-02-25 17:11:50,374] Trial 44 finished with value: 0.5276442307692307 and parameters: {'k': 40}. Best is trial 8 with value: 0.7019230769230769.\n",
      "[I 2025-02-25 17:11:50,383] Trial 45 finished with value: 0.4867788461538462 and parameters: {'k': 47}. Best is trial 8 with value: 0.7019230769230769.\n",
      "[I 2025-02-25 17:11:50,393] Trial 46 finished with value: 0.5180288461538463 and parameters: {'k': 4}. Best is trial 8 with value: 0.7019230769230769.\n",
      "[I 2025-02-25 17:11:50,402] Trial 47 finished with value: 0.37740384615384615 and parameters: {'k': 1}. Best is trial 8 with value: 0.7019230769230769.\n",
      "[I 2025-02-25 17:11:50,412] Trial 48 finished with value: 0.48197115384615385 and parameters: {'k': 48}. Best is trial 8 with value: 0.7019230769230769.\n",
      "[I 2025-02-25 17:11:50,423] Trial 49 finished with value: 0.46514423076923084 and parameters: {'k': 45}. Best is trial 8 with value: 0.7019230769230769.\n",
      "[I 2025-02-25 17:11:50,427] A new study created in memory with name: no-name-e61bedf0-4150-4c3f-b3bf-d88dee3c316a\n",
      "[I 2025-02-25 17:11:50,431] Trial 0 finished with value: 0.6246913580246913 and parameters: {'k': 29}. Best is trial 0 with value: 0.6246913580246913.\n",
      "[I 2025-02-25 17:11:50,435] Trial 1 finished with value: 0.6271604938271604 and parameters: {'k': 12}. Best is trial 1 with value: 0.6271604938271604.\n",
      "[I 2025-02-25 17:11:50,438] Trial 2 finished with value: 0.6234567901234568 and parameters: {'k': 11}. Best is trial 1 with value: 0.6271604938271604.\n",
      "[I 2025-02-25 17:11:50,442] Trial 3 finished with value: 0.5777777777777777 and parameters: {'k': 42}. Best is trial 1 with value: 0.6271604938271604.\n",
      "[I 2025-02-25 17:11:50,446] Trial 4 finished with value: 0.5987654320987654 and parameters: {'k': 3}. Best is trial 1 with value: 0.6271604938271604.\n",
      "[I 2025-02-25 17:11:50,450] Trial 5 finished with value: 0.5975308641975308 and parameters: {'k': 28}. Best is trial 1 with value: 0.6271604938271604.\n",
      "[I 2025-02-25 17:11:50,455] Trial 6 finished with value: 0.5506172839506174 and parameters: {'k': 39}. Best is trial 1 with value: 0.6271604938271604.\n",
      "[I 2025-02-25 17:11:50,459] Trial 7 finished with value: 0.5864197530864198 and parameters: {'k': 32}. Best is trial 1 with value: 0.6271604938271604.\n",
      "[I 2025-02-25 17:11:50,464] Trial 8 finished with value: 0.6802469135802469 and parameters: {'k': 23}. Best is trial 8 with value: 0.6802469135802469.\n",
      "[I 2025-02-25 17:11:50,469] Trial 9 finished with value: 0.6308641975308642 and parameters: {'k': 5}. Best is trial 8 with value: 0.6802469135802469.\n",
      "[I 2025-02-25 17:11:50,474] Trial 10 finished with value: 0.5382716049382718 and parameters: {'k': 34}. Best is trial 8 with value: 0.6802469135802469.\n",
      "[I 2025-02-25 17:11:50,479] Trial 11 finished with value: 0.5123456790123457 and parameters: {'k': 36}. Best is trial 8 with value: 0.6802469135802469.\n",
      "[I 2025-02-25 17:11:50,484] Trial 12 finished with value: 0.6407407407407407 and parameters: {'k': 27}. Best is trial 8 with value: 0.6802469135802469.\n",
      "[I 2025-02-25 17:11:50,489] Trial 13 finished with value: 0.5074074074074074 and parameters: {'k': 35}. Best is trial 8 with value: 0.6802469135802469.\n",
      "[I 2025-02-25 17:11:50,495] Trial 14 finished with value: 0.619753086419753 and parameters: {'k': 19}. Best is trial 8 with value: 0.6802469135802469.\n",
      "[I 2025-02-25 17:11:50,500] Trial 15 finished with value: 0.6123456790123457 and parameters: {'k': 8}. Best is trial 8 with value: 0.6802469135802469.\n",
      "[I 2025-02-25 17:11:50,506] Trial 16 finished with value: 0.6790123456790124 and parameters: {'k': 15}. Best is trial 8 with value: 0.6802469135802469.\n",
      "[I 2025-02-25 17:11:50,512] Trial 17 finished with value: 0.5345679012345679 and parameters: {'k': 46}. Best is trial 8 with value: 0.6802469135802469.\n",
      "[I 2025-02-25 17:11:50,518] Trial 18 finished with value: 0.5111111111111112 and parameters: {'k': 49}. Best is trial 8 with value: 0.6802469135802469.\n",
      "[I 2025-02-25 17:11:50,524] Trial 19 finished with value: 0.6246913580246913 and parameters: {'k': 30}. Best is trial 8 with value: 0.6802469135802469.\n",
      "[I 2025-02-25 17:11:50,530] Trial 20 finished with value: 0.6518518518518519 and parameters: {'k': 16}. Best is trial 8 with value: 0.6802469135802469.\n",
      "[I 2025-02-25 17:11:50,536] Trial 21 finished with value: 0.5753086419753086 and parameters: {'k': 31}. Best is trial 8 with value: 0.6802469135802469.\n",
      "[I 2025-02-25 17:11:50,543] Trial 22 finished with value: 0.5691358024691359 and parameters: {'k': 33}. Best is trial 8 with value: 0.6802469135802469.\n",
      "[I 2025-02-25 17:11:50,550] Trial 23 finished with value: 0.6518518518518519 and parameters: {'k': 17}. Best is trial 8 with value: 0.6802469135802469.\n",
      "[I 2025-02-25 17:11:50,557] Trial 24 finished with value: 0.5666666666666667 and parameters: {'k': 43}. Best is trial 8 with value: 0.6802469135802469.\n",
      "[I 2025-02-25 17:11:50,567] Trial 25 finished with value: 0.6493827160493827 and parameters: {'k': 21}. Best is trial 8 with value: 0.6802469135802469.\n",
      "[I 2025-02-25 17:11:50,577] Trial 26 finished with value: 0.5802469135802469 and parameters: {'k': 44}. Best is trial 8 with value: 0.6802469135802469.\n",
      "[I 2025-02-25 17:11:50,586] Trial 27 finished with value: 0.6395061728395062 and parameters: {'k': 9}. Best is trial 8 with value: 0.6802469135802469.\n",
      "[I 2025-02-25 17:11:50,597] Trial 28 finished with value: 0.6691358024691357 and parameters: {'k': 14}. Best is trial 8 with value: 0.6802469135802469.\n",
      "[I 2025-02-25 17:11:50,607] Trial 29 finished with value: 0.6506172839506172 and parameters: {'k': 26}. Best is trial 8 with value: 0.6802469135802469.\n",
      "[I 2025-02-25 17:11:50,617] Trial 30 finished with value: 0.6 and parameters: {'k': 6}. Best is trial 8 with value: 0.6802469135802469.\n",
      "[I 2025-02-25 17:11:50,627] Trial 31 finished with value: 0.6432098765432099 and parameters: {'k': 18}. Best is trial 8 with value: 0.6802469135802469.\n",
      "[I 2025-02-25 17:11:50,638] Trial 32 finished with value: 0.5469135802469136 and parameters: {'k': 41}. Best is trial 8 with value: 0.6802469135802469.\n",
      "[I 2025-02-25 17:11:50,646] Trial 33 finished with value: 0.4876543209876544 and parameters: {'k': 50}. Best is trial 8 with value: 0.6802469135802469.\n",
      "[I 2025-02-25 17:11:50,654] Trial 34 finished with value: 0.7 and parameters: {'k': 2}. Best is trial 34 with value: 0.7.\n",
      "[I 2025-02-25 17:11:50,662] Trial 35 finished with value: 0.6382716049382715 and parameters: {'k': 13}. Best is trial 34 with value: 0.7.\n",
      "[I 2025-02-25 17:11:50,671] Trial 36 finished with value: 0.5580246913580248 and parameters: {'k': 38}. Best is trial 34 with value: 0.7.\n",
      "[I 2025-02-25 17:11:50,679] Trial 37 finished with value: 0.6259259259259259 and parameters: {'k': 25}. Best is trial 34 with value: 0.7.\n",
      "[I 2025-02-25 17:11:50,688] Trial 38 finished with value: 0.6444444444444445 and parameters: {'k': 7}. Best is trial 34 with value: 0.7.\n",
      "[I 2025-02-25 17:11:50,697] Trial 39 finished with value: 0.6851851851851852 and parameters: {'k': 24}. Best is trial 34 with value: 0.7.\n",
      "[I 2025-02-25 17:11:50,705] Trial 40 finished with value: 0.5432098765432098 and parameters: {'k': 37}. Best is trial 34 with value: 0.7.\n",
      "[I 2025-02-25 17:11:50,714] Trial 41 finished with value: 0.6864197530864198 and parameters: {'k': 22}. Best is trial 34 with value: 0.7.\n",
      "[I 2025-02-25 17:11:50,724] Trial 42 finished with value: 0.6234567901234569 and parameters: {'k': 20}. Best is trial 34 with value: 0.7.\n",
      "[I 2025-02-25 17:11:50,733] Trial 43 finished with value: 0.608641975308642 and parameters: {'k': 10}. Best is trial 34 with value: 0.7.\n",
      "[I 2025-02-25 17:11:50,742] Trial 44 finished with value: 0.554320987654321 and parameters: {'k': 40}. Best is trial 34 with value: 0.7.\n",
      "[I 2025-02-25 17:11:50,752] Trial 45 finished with value: 0.5296296296296297 and parameters: {'k': 47}. Best is trial 34 with value: 0.7.\n",
      "[I 2025-02-25 17:11:50,761] Trial 46 finished with value: 0.6481481481481483 and parameters: {'k': 4}. Best is trial 34 with value: 0.7.\n",
      "[I 2025-02-25 17:11:50,771] Trial 47 finished with value: 0.6074074074074074 and parameters: {'k': 1}. Best is trial 34 with value: 0.7.\n",
      "[I 2025-02-25 17:11:50,781] Trial 48 finished with value: 0.5506172839506173 and parameters: {'k': 48}. Best is trial 34 with value: 0.7.\n",
      "[I 2025-02-25 17:11:50,791] Trial 49 finished with value: 0.5641975308641975 and parameters: {'k': 45}. Best is trial 34 with value: 0.7.\n",
      "[I 2025-02-25 17:11:50,797] A new study created in memory with name: no-name-23593d8a-2e32-4f54-be25-c3473e3e91b2\n",
      "[I 2025-02-25 17:11:50,801] Trial 0 finished with value: 0.6442307692307692 and parameters: {'k': 29}. Best is trial 0 with value: 0.6442307692307692.\n",
      "[I 2025-02-25 17:11:50,804] Trial 1 finished with value: 0.5757211538461539 and parameters: {'k': 12}. Best is trial 0 with value: 0.6442307692307692.\n",
      "[I 2025-02-25 17:11:50,808] Trial 2 finished with value: 0.5492788461538461 and parameters: {'k': 11}. Best is trial 0 with value: 0.6442307692307692.\n",
      "[I 2025-02-25 17:11:50,812] Trial 3 finished with value: 0.5204326923076923 and parameters: {'k': 42}. Best is trial 0 with value: 0.6442307692307692.\n",
      "[I 2025-02-25 17:11:50,815] Trial 4 finished with value: 0.5072115384615384 and parameters: {'k': 3}. Best is trial 0 with value: 0.6442307692307692.\n",
      "[I 2025-02-25 17:11:50,820] Trial 5 finished with value: 0.6430288461538461 and parameters: {'k': 28}. Best is trial 0 with value: 0.6442307692307692.\n",
      "[I 2025-02-25 17:11:50,824] Trial 6 finished with value: 0.5661057692307693 and parameters: {'k': 39}. Best is trial 0 with value: 0.6442307692307692.\n",
      "[I 2025-02-25 17:11:50,829] Trial 7 finished with value: 0.6189903846153847 and parameters: {'k': 32}. Best is trial 0 with value: 0.6442307692307692.\n",
      "[I 2025-02-25 17:11:50,833] Trial 8 finished with value: 0.5600961538461539 and parameters: {'k': 23}. Best is trial 0 with value: 0.6442307692307692.\n",
      "[I 2025-02-25 17:11:50,838] Trial 9 finished with value: 0.5697115384615384 and parameters: {'k': 5}. Best is trial 0 with value: 0.6442307692307692.\n",
      "[I 2025-02-25 17:11:50,842] Trial 10 finished with value: 0.5913461538461539 and parameters: {'k': 34}. Best is trial 0 with value: 0.6442307692307692.\n",
      "[I 2025-02-25 17:11:50,847] Trial 11 finished with value: 0.5853365384615384 and parameters: {'k': 36}. Best is trial 0 with value: 0.6442307692307692.\n",
      "[I 2025-02-25 17:11:50,852] Trial 12 finished with value: 0.5961538461538461 and parameters: {'k': 27}. Best is trial 0 with value: 0.6442307692307692.\n",
      "[I 2025-02-25 17:11:50,858] Trial 13 finished with value: 0.6045673076923077 and parameters: {'k': 35}. Best is trial 0 with value: 0.6442307692307692.\n",
      "[I 2025-02-25 17:11:50,863] Trial 14 finished with value: 0.5745192307692307 and parameters: {'k': 19}. Best is trial 0 with value: 0.6442307692307692.\n",
      "[I 2025-02-25 17:11:50,868] Trial 15 finished with value: 0.6262019230769231 and parameters: {'k': 8}. Best is trial 0 with value: 0.6442307692307692.\n",
      "[I 2025-02-25 17:11:50,874] Trial 16 finished with value: 0.53125 and parameters: {'k': 15}. Best is trial 0 with value: 0.6442307692307692.\n",
      "[I 2025-02-25 17:11:50,880] Trial 17 finished with value: 0.5324519230769231 and parameters: {'k': 46}. Best is trial 0 with value: 0.6442307692307692.\n",
      "[I 2025-02-25 17:11:50,886] Trial 18 finished with value: 0.4771634615384616 and parameters: {'k': 49}. Best is trial 0 with value: 0.6442307692307692.\n",
      "[I 2025-02-25 17:11:50,892] Trial 19 finished with value: 0.6442307692307693 and parameters: {'k': 30}. Best is trial 19 with value: 0.6442307692307693.\n",
      "[I 2025-02-25 17:11:50,898] Trial 20 finished with value: 0.5300480769230769 and parameters: {'k': 16}. Best is trial 19 with value: 0.6442307692307693.\n",
      "[I 2025-02-25 17:11:50,904] Trial 21 finished with value: 0.6177884615384616 and parameters: {'k': 31}. Best is trial 19 with value: 0.6442307692307693.\n",
      "[I 2025-02-25 17:11:50,910] Trial 22 finished with value: 0.59375 and parameters: {'k': 33}. Best is trial 19 with value: 0.6442307692307693.\n",
      "[I 2025-02-25 17:11:50,917] Trial 23 finished with value: 0.5528846153846154 and parameters: {'k': 17}. Best is trial 19 with value: 0.6442307692307693.\n",
      "[I 2025-02-25 17:11:50,924] Trial 24 finished with value: 0.5240384615384615 and parameters: {'k': 43}. Best is trial 19 with value: 0.6442307692307693.\n",
      "[I 2025-02-25 17:11:50,930] Trial 25 finished with value: 0.591346153846154 and parameters: {'k': 21}. Best is trial 19 with value: 0.6442307692307693.\n",
      "[I 2025-02-25 17:11:50,937] Trial 26 finished with value: 0.5276442307692307 and parameters: {'k': 44}. Best is trial 19 with value: 0.6442307692307693.\n",
      "[I 2025-02-25 17:11:50,944] Trial 27 finished with value: 0.5336538461538461 and parameters: {'k': 9}. Best is trial 19 with value: 0.6442307692307693.\n",
      "[I 2025-02-25 17:11:50,952] Trial 28 finished with value: 0.5288461538461539 and parameters: {'k': 14}. Best is trial 19 with value: 0.6442307692307693.\n",
      "[I 2025-02-25 17:11:50,959] Trial 29 finished with value: 0.5492788461538461 and parameters: {'k': 26}. Best is trial 19 with value: 0.6442307692307693.\n",
      "[I 2025-02-25 17:11:50,966] Trial 30 finished with value: 0.5600961538461537 and parameters: {'k': 6}. Best is trial 19 with value: 0.6442307692307693.\n",
      "[I 2025-02-25 17:11:50,974] Trial 31 finished with value: 0.5576923076923077 and parameters: {'k': 18}. Best is trial 19 with value: 0.6442307692307693.\n",
      "[I 2025-02-25 17:11:50,981] Trial 32 finished with value: 0.5384615384615384 and parameters: {'k': 41}. Best is trial 19 with value: 0.6442307692307693.\n",
      "[I 2025-02-25 17:11:50,989] Trial 33 finished with value: 0.4723557692307692 and parameters: {'k': 50}. Best is trial 19 with value: 0.6442307692307693.\n",
      "[I 2025-02-25 17:11:50,997] Trial 34 finished with value: 0.5024038461538461 and parameters: {'k': 2}. Best is trial 19 with value: 0.6442307692307693.\n",
      "[I 2025-02-25 17:11:51,006] Trial 35 finished with value: 0.5504807692307693 and parameters: {'k': 13}. Best is trial 19 with value: 0.6442307692307693.\n",
      "[I 2025-02-25 17:11:51,015] Trial 36 finished with value: 0.5685096153846154 and parameters: {'k': 38}. Best is trial 19 with value: 0.6442307692307693.\n",
      "[I 2025-02-25 17:11:51,024] Trial 37 finished with value: 0.5673076923076923 and parameters: {'k': 25}. Best is trial 19 with value: 0.6442307692307693.\n",
      "[I 2025-02-25 17:11:51,032] Trial 38 finished with value: 0.5600961538461539 and parameters: {'k': 7}. Best is trial 19 with value: 0.6442307692307693.\n",
      "[I 2025-02-25 17:11:51,041] Trial 39 finished with value: 0.546875 and parameters: {'k': 24}. Best is trial 19 with value: 0.6442307692307693.\n",
      "[I 2025-02-25 17:11:51,050] Trial 40 finished with value: 0.5841346153846154 and parameters: {'k': 37}. Best is trial 19 with value: 0.6442307692307693.\n",
      "[I 2025-02-25 17:11:51,059] Trial 41 finished with value: 0.5853365384615384 and parameters: {'k': 22}. Best is trial 19 with value: 0.6442307692307693.\n",
      "[I 2025-02-25 17:11:51,068] Trial 42 finished with value: 0.5480769230769231 and parameters: {'k': 20}. Best is trial 19 with value: 0.6442307692307693.\n",
      "[I 2025-02-25 17:11:51,077] Trial 43 finished with value: 0.5841346153846154 and parameters: {'k': 10}. Best is trial 19 with value: 0.6442307692307693.\n",
      "[I 2025-02-25 17:11:51,087] Trial 44 finished with value: 0.5504807692307692 and parameters: {'k': 40}. Best is trial 19 with value: 0.6442307692307693.\n",
      "[I 2025-02-25 17:11:51,096] Trial 45 finished with value: 0.5276442307692308 and parameters: {'k': 47}. Best is trial 19 with value: 0.6442307692307693.\n",
      "[I 2025-02-25 17:11:51,106] Trial 46 finished with value: 0.5192307692307692 and parameters: {'k': 4}. Best is trial 19 with value: 0.6442307692307693.\n",
      "[I 2025-02-25 17:11:51,116] Trial 47 finished with value: 0.5144230769230769 and parameters: {'k': 1}. Best is trial 19 with value: 0.6442307692307693.\n",
      "[I 2025-02-25 17:11:51,125] Trial 48 finished with value: 0.5048076923076923 and parameters: {'k': 48}. Best is trial 19 with value: 0.6442307692307693.\n",
      "[I 2025-02-25 17:11:51,136] Trial 49 finished with value: 0.5252403846153846 and parameters: {'k': 45}. Best is trial 19 with value: 0.6442307692307693.\n",
      "[I 2025-02-25 17:11:51,140] A new study created in memory with name: no-name-3a1e9cfb-3a30-40e9-a9ef-235aa4ccf38f\n",
      "[I 2025-02-25 17:11:51,144] Trial 0 finished with value: 0.6347222222222223 and parameters: {'k': 29}. Best is trial 0 with value: 0.6347222222222223.\n",
      "[I 2025-02-25 17:11:51,148] Trial 1 finished with value: 0.5097222222222222 and parameters: {'k': 12}. Best is trial 0 with value: 0.6347222222222223.\n",
      "[I 2025-02-25 17:11:51,151] Trial 2 finished with value: 0.5416666666666667 and parameters: {'k': 11}. Best is trial 0 with value: 0.6347222222222223.\n",
      "[I 2025-02-25 17:11:51,155] Trial 3 finished with value: 0.6027777777777777 and parameters: {'k': 42}. Best is trial 0 with value: 0.6347222222222223.\n",
      "[I 2025-02-25 17:11:51,159] Trial 4 finished with value: 0.5902777777777778 and parameters: {'k': 3}. Best is trial 0 with value: 0.6347222222222223.\n",
      "[I 2025-02-25 17:11:51,164] Trial 5 finished with value: 0.625 and parameters: {'k': 28}. Best is trial 0 with value: 0.6347222222222223.\n",
      "[I 2025-02-25 17:11:51,168] Trial 6 finished with value: 0.6597222222222222 and parameters: {'k': 39}. Best is trial 6 with value: 0.6597222222222222.\n",
      "[I 2025-02-25 17:11:51,173] Trial 7 finished with value: 0.6458333333333334 and parameters: {'k': 32}. Best is trial 6 with value: 0.6597222222222222.\n",
      "[I 2025-02-25 17:11:51,177] Trial 8 finished with value: 0.586111111111111 and parameters: {'k': 23}. Best is trial 6 with value: 0.6597222222222222.\n",
      "[I 2025-02-25 17:11:51,182] Trial 9 finished with value: 0.5972222222222222 and parameters: {'k': 5}. Best is trial 6 with value: 0.6597222222222222.\n",
      "[I 2025-02-25 17:11:51,187] Trial 10 finished with value: 0.6875 and parameters: {'k': 34}. Best is trial 10 with value: 0.6875.\n",
      "[I 2025-02-25 17:11:51,192] Trial 11 finished with value: 0.6888888888888889 and parameters: {'k': 36}. Best is trial 11 with value: 0.6888888888888889.\n",
      "[I 2025-02-25 17:11:51,197] Trial 12 finished with value: 0.6166666666666667 and parameters: {'k': 27}. Best is trial 11 with value: 0.6888888888888889.\n",
      "[I 2025-02-25 17:11:51,204] Trial 13 finished with value: 0.6736111111111112 and parameters: {'k': 35}. Best is trial 11 with value: 0.6888888888888889.\n",
      "[I 2025-02-25 17:11:51,209] Trial 14 finished with value: 0.5708333333333334 and parameters: {'k': 19}. Best is trial 11 with value: 0.6888888888888889.\n",
      "[I 2025-02-25 17:11:51,215] Trial 15 finished with value: 0.6055555555555556 and parameters: {'k': 8}. Best is trial 11 with value: 0.6888888888888889.\n",
      "[I 2025-02-25 17:11:51,220] Trial 16 finished with value: 0.5708333333333333 and parameters: {'k': 15}. Best is trial 11 with value: 0.6888888888888889.\n",
      "[I 2025-02-25 17:11:51,226] Trial 17 finished with value: 0.5930555555555556 and parameters: {'k': 46}. Best is trial 11 with value: 0.6888888888888889.\n",
      "[I 2025-02-25 17:11:51,232] Trial 18 finished with value: 0.6055555555555556 and parameters: {'k': 49}. Best is trial 11 with value: 0.6888888888888889.\n",
      "[I 2025-02-25 17:11:51,238] Trial 19 finished with value: 0.6208333333333333 and parameters: {'k': 30}. Best is trial 11 with value: 0.6888888888888889.\n",
      "[I 2025-02-25 17:11:51,244] Trial 20 finished with value: 0.5652777777777778 and parameters: {'k': 16}. Best is trial 11 with value: 0.6888888888888889.\n",
      "[I 2025-02-25 17:11:51,251] Trial 21 finished with value: 0.6472222222222223 and parameters: {'k': 31}. Best is trial 11 with value: 0.6888888888888889.\n",
      "[I 2025-02-25 17:11:51,258] Trial 22 finished with value: 0.6652777777777777 and parameters: {'k': 33}. Best is trial 11 with value: 0.6888888888888889.\n",
      "[I 2025-02-25 17:11:51,264] Trial 23 finished with value: 0.5555555555555556 and parameters: {'k': 17}. Best is trial 11 with value: 0.6888888888888889.\n",
      "[I 2025-02-25 17:11:51,271] Trial 24 finished with value: 0.6055555555555556 and parameters: {'k': 43}. Best is trial 11 with value: 0.6888888888888889.\n",
      "[I 2025-02-25 17:11:51,281] Trial 25 finished with value: 0.6166666666666667 and parameters: {'k': 21}. Best is trial 11 with value: 0.6888888888888889.\n",
      "[I 2025-02-25 17:11:51,291] Trial 26 finished with value: 0.5583333333333333 and parameters: {'k': 44}. Best is trial 11 with value: 0.6888888888888889.\n",
      "[I 2025-02-25 17:11:51,301] Trial 27 finished with value: 0.5638888888888889 and parameters: {'k': 9}. Best is trial 11 with value: 0.6888888888888889.\n",
      "[I 2025-02-25 17:11:51,312] Trial 28 finished with value: 0.5541666666666666 and parameters: {'k': 14}. Best is trial 11 with value: 0.6888888888888889.\n",
      "[I 2025-02-25 17:11:51,320] Trial 29 finished with value: 0.6194444444444445 and parameters: {'k': 26}. Best is trial 11 with value: 0.6888888888888889.\n",
      "[I 2025-02-25 17:11:51,328] Trial 30 finished with value: 0.5916666666666667 and parameters: {'k': 6}. Best is trial 11 with value: 0.6888888888888889.\n",
      "[I 2025-02-25 17:11:51,336] Trial 31 finished with value: 0.5944444444444444 and parameters: {'k': 18}. Best is trial 11 with value: 0.6888888888888889.\n",
      "[I 2025-02-25 17:11:51,344] Trial 32 finished with value: 0.6319444444444444 and parameters: {'k': 41}. Best is trial 11 with value: 0.6888888888888889.\n",
      "[I 2025-02-25 17:11:51,353] Trial 33 finished with value: 0.6416666666666666 and parameters: {'k': 50}. Best is trial 11 with value: 0.6888888888888889.\n",
      "[I 2025-02-25 17:11:51,361] Trial 34 finished with value: 0.6 and parameters: {'k': 2}. Best is trial 11 with value: 0.6888888888888889.\n",
      "[I 2025-02-25 17:11:51,369] Trial 35 finished with value: 0.5680555555555554 and parameters: {'k': 13}. Best is trial 11 with value: 0.6888888888888889.\n",
      "[I 2025-02-25 17:11:51,378] Trial 36 finished with value: 0.6777777777777779 and parameters: {'k': 38}. Best is trial 11 with value: 0.6888888888888889.\n",
      "[I 2025-02-25 17:11:51,386] Trial 37 finished with value: 0.6375000000000001 and parameters: {'k': 25}. Best is trial 11 with value: 0.6888888888888889.\n",
      "[I 2025-02-25 17:11:51,395] Trial 38 finished with value: 0.5486111111111112 and parameters: {'k': 7}. Best is trial 11 with value: 0.6888888888888889.\n",
      "[I 2025-02-25 17:11:51,403] Trial 39 finished with value: 0.6236111111111111 and parameters: {'k': 24}. Best is trial 11 with value: 0.6888888888888889.\n",
      "[I 2025-02-25 17:11:51,412] Trial 40 finished with value: 0.6847222222222222 and parameters: {'k': 37}. Best is trial 11 with value: 0.6888888888888889.\n",
      "[I 2025-02-25 17:11:51,421] Trial 41 finished with value: 0.575 and parameters: {'k': 22}. Best is trial 11 with value: 0.6888888888888889.\n",
      "[I 2025-02-25 17:11:51,430] Trial 42 finished with value: 0.6305555555555555 and parameters: {'k': 20}. Best is trial 11 with value: 0.6888888888888889.\n",
      "[I 2025-02-25 17:11:51,440] Trial 43 finished with value: 0.5402777777777777 and parameters: {'k': 10}. Best is trial 11 with value: 0.6888888888888889.\n",
      "[I 2025-02-25 17:11:51,449] Trial 44 finished with value: 0.6319444444444445 and parameters: {'k': 40}. Best is trial 11 with value: 0.6888888888888889.\n",
      "[I 2025-02-25 17:11:51,459] Trial 45 finished with value: 0.5833333333333334 and parameters: {'k': 47}. Best is trial 11 with value: 0.6888888888888889.\n",
      "[I 2025-02-25 17:11:51,475] Trial 46 finished with value: 0.5902777777777779 and parameters: {'k': 4}. Best is trial 11 with value: 0.6888888888888889.\n",
      "[I 2025-02-25 17:11:51,489] Trial 47 finished with value: 0.5583333333333333 and parameters: {'k': 1}. Best is trial 11 with value: 0.6888888888888889.\n",
      "[I 2025-02-25 17:11:51,502] Trial 48 finished with value: 0.6263888888888889 and parameters: {'k': 48}. Best is trial 11 with value: 0.6888888888888889.\n",
      "[I 2025-02-25 17:11:51,515] Trial 49 finished with value: 0.5805555555555556 and parameters: {'k': 45}. Best is trial 11 with value: 0.6888888888888889.\n",
      "[I 2025-02-25 17:11:51,522] A new study created in memory with name: no-name-a4aa0fac-f022-4f65-9c12-069ef42f4dae\n",
      "[I 2025-02-25 17:11:51,527] Trial 0 finished with value: 0.5987654320987655 and parameters: {'k': 29}. Best is trial 0 with value: 0.5987654320987655.\n",
      "[I 2025-02-25 17:11:51,532] Trial 1 finished with value: 0.5604938271604938 and parameters: {'k': 12}. Best is trial 0 with value: 0.5987654320987655.\n",
      "[I 2025-02-25 17:11:51,537] Trial 2 finished with value: 0.6 and parameters: {'k': 11}. Best is trial 2 with value: 0.6.\n",
      "[I 2025-02-25 17:11:51,542] Trial 3 finished with value: 0.5839506172839507 and parameters: {'k': 42}. Best is trial 2 with value: 0.6.\n",
      "[I 2025-02-25 17:11:51,547] Trial 4 finished with value: 0.5481481481481482 and parameters: {'k': 3}. Best is trial 2 with value: 0.6.\n",
      "[I 2025-02-25 17:11:51,552] Trial 5 finished with value: 0.6197530864197532 and parameters: {'k': 28}. Best is trial 5 with value: 0.6197530864197532.\n",
      "[I 2025-02-25 17:11:51,558] Trial 6 finished with value: 0.5753086419753086 and parameters: {'k': 39}. Best is trial 5 with value: 0.6197530864197532.\n",
      "[I 2025-02-25 17:11:51,564] Trial 7 finished with value: 0.5864197530864198 and parameters: {'k': 32}. Best is trial 5 with value: 0.6197530864197532.\n",
      "[I 2025-02-25 17:11:51,570] Trial 8 finished with value: 0.5703703703703704 and parameters: {'k': 23}. Best is trial 5 with value: 0.6197530864197532.\n",
      "[I 2025-02-25 17:11:51,576] Trial 9 finished with value: 0.6370370370370371 and parameters: {'k': 5}. Best is trial 9 with value: 0.6370370370370371.\n",
      "[I 2025-02-25 17:11:51,582] Trial 10 finished with value: 0.6148148148148149 and parameters: {'k': 34}. Best is trial 9 with value: 0.6370370370370371.\n",
      "[I 2025-02-25 17:11:51,589] Trial 11 finished with value: 0.591358024691358 and parameters: {'k': 36}. Best is trial 9 with value: 0.6370370370370371.\n",
      "[I 2025-02-25 17:11:51,596] Trial 12 finished with value: 0.6185185185185186 and parameters: {'k': 27}. Best is trial 9 with value: 0.6370370370370371.\n",
      "[I 2025-02-25 17:11:51,602] Trial 13 finished with value: 0.6037037037037039 and parameters: {'k': 35}. Best is trial 9 with value: 0.6370370370370371.\n",
      "[I 2025-02-25 17:11:51,609] Trial 14 finished with value: 0.5604938271604938 and parameters: {'k': 19}. Best is trial 9 with value: 0.6370370370370371.\n",
      "[I 2025-02-25 17:11:51,617] Trial 15 finished with value: 0.6246913580246914 and parameters: {'k': 8}. Best is trial 9 with value: 0.6370370370370371.\n",
      "[I 2025-02-25 17:11:51,624] Trial 16 finished with value: 0.5555555555555556 and parameters: {'k': 15}. Best is trial 9 with value: 0.6370370370370371.\n",
      "[I 2025-02-25 17:11:51,632] Trial 17 finished with value: 0.6049382716049384 and parameters: {'k': 46}. Best is trial 9 with value: 0.6370370370370371.\n",
      "[I 2025-02-25 17:11:51,640] Trial 18 finished with value: 0.6209876543209877 and parameters: {'k': 49}. Best is trial 9 with value: 0.6370370370370371.\n",
      "[I 2025-02-25 17:11:51,647] Trial 19 finished with value: 0.6012345679012346 and parameters: {'k': 30}. Best is trial 9 with value: 0.6370370370370371.\n",
      "[I 2025-02-25 17:11:51,656] Trial 20 finished with value: 0.5370370370370371 and parameters: {'k': 16}. Best is trial 9 with value: 0.6370370370370371.\n",
      "[I 2025-02-25 17:11:51,664] Trial 21 finished with value: 0.6012345679012346 and parameters: {'k': 31}. Best is trial 9 with value: 0.6370370370370371.\n",
      "[I 2025-02-25 17:11:51,672] Trial 22 finished with value: 0.611111111111111 and parameters: {'k': 33}. Best is trial 9 with value: 0.6370370370370371.\n",
      "[I 2025-02-25 17:11:51,681] Trial 23 finished with value: 0.5802469135802469 and parameters: {'k': 17}. Best is trial 9 with value: 0.6370370370370371.\n",
      "[I 2025-02-25 17:11:51,690] Trial 24 finished with value: 0.5901234567901236 and parameters: {'k': 43}. Best is trial 9 with value: 0.6370370370370371.\n",
      "[I 2025-02-25 17:11:51,701] Trial 25 finished with value: 0.5555555555555556 and parameters: {'k': 21}. Best is trial 9 with value: 0.6370370370370371.\n",
      "[I 2025-02-25 17:11:51,708] Trial 26 finished with value: 0.5851851851851851 and parameters: {'k': 44}. Best is trial 9 with value: 0.6370370370370371.\n",
      "[I 2025-02-25 17:11:51,715] Trial 27 finished with value: 0.6000000000000001 and parameters: {'k': 9}. Best is trial 9 with value: 0.6370370370370371.\n",
      "[I 2025-02-25 17:11:51,722] Trial 28 finished with value: 0.5802469135802469 and parameters: {'k': 14}. Best is trial 9 with value: 0.6370370370370371.\n",
      "[I 2025-02-25 17:11:51,730] Trial 29 finished with value: 0.625925925925926 and parameters: {'k': 26}. Best is trial 9 with value: 0.6370370370370371.\n",
      "[I 2025-02-25 17:11:51,737] Trial 30 finished with value: 0.6506172839506172 and parameters: {'k': 6}. Best is trial 30 with value: 0.6506172839506172.\n",
      "[I 2025-02-25 17:11:51,745] Trial 31 finished with value: 0.5765432098765432 and parameters: {'k': 18}. Best is trial 30 with value: 0.6506172839506172.\n",
      "[I 2025-02-25 17:11:51,753] Trial 32 finished with value: 0.5777777777777778 and parameters: {'k': 41}. Best is trial 30 with value: 0.6506172839506172.\n",
      "[I 2025-02-25 17:11:51,761] Trial 33 finished with value: 0.6148148148148148 and parameters: {'k': 50}. Best is trial 30 with value: 0.6506172839506172.\n",
      "[I 2025-02-25 17:11:51,769] Trial 34 finished with value: 0.619753086419753 and parameters: {'k': 2}. Best is trial 30 with value: 0.6506172839506172.\n",
      "[I 2025-02-25 17:11:51,778] Trial 35 finished with value: 0.54320987654321 and parameters: {'k': 13}. Best is trial 30 with value: 0.6506172839506172.\n",
      "[I 2025-02-25 17:11:51,786] Trial 36 finished with value: 0.5790123456790124 and parameters: {'k': 38}. Best is trial 30 with value: 0.6506172839506172.\n",
      "[I 2025-02-25 17:11:51,795] Trial 37 finished with value: 0.6135802469135804 and parameters: {'k': 25}. Best is trial 30 with value: 0.6506172839506172.\n",
      "[I 2025-02-25 17:11:51,803] Trial 38 finished with value: 0.6098765432098766 and parameters: {'k': 7}. Best is trial 30 with value: 0.6506172839506172.\n",
      "[I 2025-02-25 17:11:51,812] Trial 39 finished with value: 0.5925925925925927 and parameters: {'k': 24}. Best is trial 30 with value: 0.6506172839506172.\n",
      "[I 2025-02-25 17:11:51,821] Trial 40 finished with value: 0.5765432098765432 and parameters: {'k': 37}. Best is trial 30 with value: 0.6506172839506172.\n",
      "[I 2025-02-25 17:11:51,830] Trial 41 finished with value: 0.5654320987654321 and parameters: {'k': 22}. Best is trial 30 with value: 0.6506172839506172.\n",
      "[I 2025-02-25 17:11:51,839] Trial 42 finished with value: 0.5530864197530864 and parameters: {'k': 20}. Best is trial 30 with value: 0.6506172839506172.\n",
      "[I 2025-02-25 17:11:51,848] Trial 43 finished with value: 0.6160493827160494 and parameters: {'k': 10}. Best is trial 30 with value: 0.6506172839506172.\n",
      "[I 2025-02-25 17:11:51,858] Trial 44 finished with value: 0.5765432098765432 and parameters: {'k': 40}. Best is trial 30 with value: 0.6506172839506172.\n",
      "[I 2025-02-25 17:11:51,868] Trial 45 finished with value: 0.6061728395061728 and parameters: {'k': 47}. Best is trial 30 with value: 0.6506172839506172.\n",
      "[I 2025-02-25 17:11:51,877] Trial 46 finished with value: 0.608641975308642 and parameters: {'k': 4}. Best is trial 30 with value: 0.6506172839506172.\n",
      "[I 2025-02-25 17:11:51,887] Trial 47 finished with value: 0.5888888888888888 and parameters: {'k': 1}. Best is trial 30 with value: 0.6506172839506172.\n",
      "[I 2025-02-25 17:11:51,897] Trial 48 finished with value: 0.6123456790123457 and parameters: {'k': 48}. Best is trial 30 with value: 0.6506172839506172.\n",
      "[I 2025-02-25 17:11:51,908] Trial 49 finished with value: 0.5888888888888889 and parameters: {'k': 45}. Best is trial 30 with value: 0.6506172839506172.\n",
      "[I 2025-02-25 17:11:51,913] A new study created in memory with name: no-name-70c4f7f3-e99f-476b-ba4e-30ea6b27adfe\n",
      "[I 2025-02-25 17:11:51,917] Trial 0 finished with value: 0.4651442307692308 and parameters: {'k': 29}. Best is trial 0 with value: 0.4651442307692308.\n",
      "[I 2025-02-25 17:11:51,921] Trial 1 finished with value: 0.4254807692307692 and parameters: {'k': 12}. Best is trial 0 with value: 0.4651442307692308.\n",
      "[I 2025-02-25 17:11:51,925] Trial 2 finished with value: 0.4591346153846154 and parameters: {'k': 11}. Best is trial 0 with value: 0.4651442307692308.\n",
      "[I 2025-02-25 17:11:51,929] Trial 3 finished with value: 0.453125 and parameters: {'k': 42}. Best is trial 0 with value: 0.4651442307692308.\n",
      "[I 2025-02-25 17:11:51,933] Trial 4 finished with value: 0.5072115384615384 and parameters: {'k': 3}. Best is trial 4 with value: 0.5072115384615384.\n",
      "[I 2025-02-25 17:11:51,937] Trial 5 finished with value: 0.4807692307692307 and parameters: {'k': 28}. Best is trial 4 with value: 0.5072115384615384.\n",
      "[I 2025-02-25 17:11:51,943] Trial 6 finished with value: 0.46153846153846156 and parameters: {'k': 39}. Best is trial 4 with value: 0.5072115384615384.\n",
      "[I 2025-02-25 17:11:51,949] Trial 7 finished with value: 0.47596153846153844 and parameters: {'k': 32}. Best is trial 4 with value: 0.5072115384615384.\n",
      "[I 2025-02-25 17:11:51,956] Trial 8 finished with value: 0.44831730769230776 and parameters: {'k': 23}. Best is trial 4 with value: 0.5072115384615384.\n",
      "[I 2025-02-25 17:11:51,962] Trial 9 finished with value: 0.5408653846153846 and parameters: {'k': 5}. Best is trial 9 with value: 0.5408653846153846.\n",
      "[I 2025-02-25 17:11:51,969] Trial 10 finished with value: 0.4651442307692308 and parameters: {'k': 34}. Best is trial 9 with value: 0.5408653846153846.\n",
      "[I 2025-02-25 17:11:51,977] Trial 11 finished with value: 0.4399038461538462 and parameters: {'k': 36}. Best is trial 9 with value: 0.5408653846153846.\n",
      "[I 2025-02-25 17:11:51,984] Trial 12 finished with value: 0.4963942307692308 and parameters: {'k': 27}. Best is trial 9 with value: 0.5408653846153846.\n",
      "[I 2025-02-25 17:11:51,991] Trial 13 finished with value: 0.44591346153846156 and parameters: {'k': 35}. Best is trial 9 with value: 0.5408653846153846.\n",
      "[I 2025-02-25 17:11:51,999] Trial 14 finished with value: 0.3942307692307693 and parameters: {'k': 19}. Best is trial 9 with value: 0.5408653846153846.\n",
      "[I 2025-02-25 17:11:52,006] Trial 15 finished with value: 0.47115384615384615 and parameters: {'k': 8}. Best is trial 9 with value: 0.5408653846153846.\n",
      "[I 2025-02-25 17:11:52,013] Trial 16 finished with value: 0.44711538461538464 and parameters: {'k': 15}. Best is trial 9 with value: 0.5408653846153846.\n",
      "[I 2025-02-25 17:11:52,022] Trial 17 finished with value: 0.4230769230769231 and parameters: {'k': 46}. Best is trial 9 with value: 0.5408653846153846.\n",
      "[I 2025-02-25 17:11:52,028] Trial 18 finished with value: 0.4254807692307692 and parameters: {'k': 49}. Best is trial 9 with value: 0.5408653846153846.\n",
      "[I 2025-02-25 17:11:52,035] Trial 19 finished with value: 0.48798076923076916 and parameters: {'k': 30}. Best is trial 9 with value: 0.5408653846153846.\n",
      "[I 2025-02-25 17:11:52,042] Trial 20 finished with value: 0.42788461538461536 and parameters: {'k': 16}. Best is trial 9 with value: 0.5408653846153846.\n",
      "[I 2025-02-25 17:11:52,049] Trial 21 finished with value: 0.4735576923076923 and parameters: {'k': 31}. Best is trial 9 with value: 0.5408653846153846.\n",
      "[I 2025-02-25 17:11:52,055] Trial 22 finished with value: 0.46754807692307687 and parameters: {'k': 33}. Best is trial 9 with value: 0.5408653846153846.\n",
      "[I 2025-02-25 17:11:52,062] Trial 23 finished with value: 0.4242788461538462 and parameters: {'k': 17}. Best is trial 9 with value: 0.5408653846153846.\n",
      "[I 2025-02-25 17:11:52,069] Trial 24 finished with value: 0.453125 and parameters: {'k': 43}. Best is trial 9 with value: 0.5408653846153846.\n",
      "[I 2025-02-25 17:11:52,075] Trial 25 finished with value: 0.4170673076923077 and parameters: {'k': 21}. Best is trial 9 with value: 0.5408653846153846.\n",
      "[I 2025-02-25 17:11:52,083] Trial 26 finished with value: 0.4182692307692308 and parameters: {'k': 44}. Best is trial 9 with value: 0.5408653846153846.\n",
      "[I 2025-02-25 17:11:52,090] Trial 27 finished with value: 0.5 and parameters: {'k': 9}. Best is trial 9 with value: 0.5408653846153846.\n",
      "[I 2025-02-25 17:11:52,097] Trial 28 finished with value: 0.43990384615384615 and parameters: {'k': 14}. Best is trial 9 with value: 0.5408653846153846.\n",
      "[I 2025-02-25 17:11:52,105] Trial 29 finished with value: 0.49038461538461536 and parameters: {'k': 26}. Best is trial 9 with value: 0.5408653846153846.\n",
      "[I 2025-02-25 17:11:52,112] Trial 30 finished with value: 0.5024038461538461 and parameters: {'k': 6}. Best is trial 9 with value: 0.5408653846153846.\n",
      "[I 2025-02-25 17:11:52,120] Trial 31 finished with value: 0.4002403846153846 and parameters: {'k': 18}. Best is trial 9 with value: 0.5408653846153846.\n",
      "[I 2025-02-25 17:11:52,128] Trial 32 finished with value: 0.4627403846153847 and parameters: {'k': 41}. Best is trial 9 with value: 0.5408653846153846.\n",
      "[I 2025-02-25 17:11:52,136] Trial 33 finished with value: 0.4326923076923077 and parameters: {'k': 50}. Best is trial 9 with value: 0.5408653846153846.\n",
      "[I 2025-02-25 17:11:52,144] Trial 34 finished with value: 0.44711538461538464 and parameters: {'k': 2}. Best is trial 9 with value: 0.5408653846153846.\n",
      "[I 2025-02-25 17:11:52,152] Trial 35 finished with value: 0.4807692307692308 and parameters: {'k': 13}. Best is trial 9 with value: 0.5408653846153846.\n",
      "[I 2025-02-25 17:11:52,160] Trial 36 finished with value: 0.43870192307692313 and parameters: {'k': 38}. Best is trial 9 with value: 0.5408653846153846.\n",
      "[I 2025-02-25 17:11:52,169] Trial 37 finished with value: 0.4639423076923077 and parameters: {'k': 25}. Best is trial 9 with value: 0.5408653846153846.\n",
      "[I 2025-02-25 17:11:52,177] Trial 38 finished with value: 0.4867788461538462 and parameters: {'k': 7}. Best is trial 9 with value: 0.5408653846153846.\n",
      "[I 2025-02-25 17:11:52,186] Trial 39 finished with value: 0.46033653846153844 and parameters: {'k': 24}. Best is trial 9 with value: 0.5408653846153846.\n",
      "[I 2025-02-25 17:11:52,195] Trial 40 finished with value: 0.43028846153846156 and parameters: {'k': 37}. Best is trial 9 with value: 0.5408653846153846.\n",
      "[I 2025-02-25 17:11:52,204] Trial 41 finished with value: 0.421875 and parameters: {'k': 22}. Best is trial 9 with value: 0.5408653846153846.\n",
      "[I 2025-02-25 17:11:52,213] Trial 42 finished with value: 0.42668269230769235 and parameters: {'k': 20}. Best is trial 9 with value: 0.5408653846153846.\n",
      "[I 2025-02-25 17:11:52,223] Trial 43 finished with value: 0.43509615384615385 and parameters: {'k': 10}. Best is trial 9 with value: 0.5408653846153846.\n",
      "[I 2025-02-25 17:11:52,232] Trial 44 finished with value: 0.45072115384615385 and parameters: {'k': 40}. Best is trial 9 with value: 0.5408653846153846.\n",
      "[I 2025-02-25 17:11:52,242] Trial 45 finished with value: 0.438701923076923 and parameters: {'k': 47}. Best is trial 9 with value: 0.5408653846153846.\n",
      "[I 2025-02-25 17:11:52,251] Trial 46 finished with value: 0.516826923076923 and parameters: {'k': 4}. Best is trial 9 with value: 0.5408653846153846.\n",
      "[I 2025-02-25 17:11:52,261] Trial 47 finished with value: 0.4326923076923077 and parameters: {'k': 1}. Best is trial 9 with value: 0.5408653846153846.\n",
      "[I 2025-02-25 17:11:52,271] Trial 48 finished with value: 0.44471153846153844 and parameters: {'k': 48}. Best is trial 9 with value: 0.5408653846153846.\n",
      "[I 2025-02-25 17:11:52,281] Trial 49 finished with value: 0.41346153846153844 and parameters: {'k': 45}. Best is trial 9 with value: 0.5408653846153846.\n",
      "[I 2025-02-25 17:11:52,286] A new study created in memory with name: no-name-200ef3b8-dec6-4715-84d9-3298b32b16cd\n",
      "[I 2025-02-25 17:11:52,290] Trial 0 finished with value: 0.6679012345679012 and parameters: {'k': 29}. Best is trial 0 with value: 0.6679012345679012.\n",
      "[I 2025-02-25 17:11:52,293] Trial 1 finished with value: 0.6938271604938272 and parameters: {'k': 12}. Best is trial 1 with value: 0.6938271604938272.\n",
      "[I 2025-02-25 17:11:52,297] Trial 2 finished with value: 0.7185185185185186 and parameters: {'k': 11}. Best is trial 2 with value: 0.7185185185185186.\n",
      "[I 2025-02-25 17:11:52,301] Trial 3 finished with value: 0.6728395061728395 and parameters: {'k': 42}. Best is trial 2 with value: 0.7185185185185186.\n",
      "[I 2025-02-25 17:11:52,305] Trial 4 finished with value: 0.6703703703703704 and parameters: {'k': 3}. Best is trial 2 with value: 0.7185185185185186.\n",
      "[I 2025-02-25 17:11:52,310] Trial 5 finished with value: 0.6790123456790124 and parameters: {'k': 28}. Best is trial 2 with value: 0.7185185185185186.\n",
      "[I 2025-02-25 17:11:52,314] Trial 6 finished with value: 0.6567901234567901 and parameters: {'k': 39}. Best is trial 2 with value: 0.7185185185185186.\n",
      "[I 2025-02-25 17:11:52,319] Trial 7 finished with value: 0.6814814814814815 and parameters: {'k': 32}. Best is trial 2 with value: 0.7185185185185186.\n",
      "[I 2025-02-25 17:11:52,323] Trial 8 finished with value: 0.6876543209876543 and parameters: {'k': 23}. Best is trial 2 with value: 0.7185185185185186.\n",
      "[I 2025-02-25 17:11:52,328] Trial 9 finished with value: 0.6765432098765432 and parameters: {'k': 5}. Best is trial 2 with value: 0.7185185185185186.\n",
      "[I 2025-02-25 17:11:52,333] Trial 10 finished with value: 0.6777777777777778 and parameters: {'k': 34}. Best is trial 2 with value: 0.7185185185185186.\n",
      "[I 2025-02-25 17:11:52,338] Trial 11 finished with value: 0.6691358024691358 and parameters: {'k': 36}. Best is trial 2 with value: 0.7185185185185186.\n",
      "[I 2025-02-25 17:11:52,343] Trial 12 finished with value: 0.6888888888888889 and parameters: {'k': 27}. Best is trial 2 with value: 0.7185185185185186.\n",
      "[I 2025-02-25 17:11:52,349] Trial 13 finished with value: 0.6938271604938272 and parameters: {'k': 35}. Best is trial 2 with value: 0.7185185185185186.\n",
      "[I 2025-02-25 17:11:52,354] Trial 14 finished with value: 0.7024691358024692 and parameters: {'k': 19}. Best is trial 2 with value: 0.7185185185185186.\n",
      "[I 2025-02-25 17:11:52,360] Trial 15 finished with value: 0.674074074074074 and parameters: {'k': 8}. Best is trial 2 with value: 0.7185185185185186.\n",
      "[I 2025-02-25 17:11:52,365] Trial 16 finished with value: 0.6777777777777778 and parameters: {'k': 15}. Best is trial 2 with value: 0.7185185185185186.\n",
      "[I 2025-02-25 17:11:52,371] Trial 17 finished with value: 0.7185185185185187 and parameters: {'k': 46}. Best is trial 17 with value: 0.7185185185185187.\n",
      "[I 2025-02-25 17:11:52,378] Trial 18 finished with value: 0.7111111111111112 and parameters: {'k': 49}. Best is trial 17 with value: 0.7185185185185187.\n",
      "[I 2025-02-25 17:11:52,384] Trial 19 finished with value: 0.6469135802469136 and parameters: {'k': 30}. Best is trial 17 with value: 0.7185185185185187.\n",
      "[I 2025-02-25 17:11:52,390] Trial 20 finished with value: 0.6802469135802469 and parameters: {'k': 16}. Best is trial 17 with value: 0.7185185185185187.\n",
      "[I 2025-02-25 17:11:52,397] Trial 21 finished with value: 0.645679012345679 and parameters: {'k': 31}. Best is trial 17 with value: 0.7185185185185187.\n",
      "[I 2025-02-25 17:11:52,403] Trial 22 finished with value: 0.6753086419753086 and parameters: {'k': 33}. Best is trial 17 with value: 0.7185185185185187.\n",
      "[I 2025-02-25 17:11:52,410] Trial 23 finished with value: 0.697530864197531 and parameters: {'k': 17}. Best is trial 17 with value: 0.7185185185185187.\n",
      "[I 2025-02-25 17:11:52,417] Trial 24 finished with value: 0.6962962962962963 and parameters: {'k': 43}. Best is trial 17 with value: 0.7185185185185187.\n",
      "[I 2025-02-25 17:11:52,427] Trial 25 finished with value: 0.6925925925925926 and parameters: {'k': 21}. Best is trial 17 with value: 0.7185185185185187.\n",
      "[I 2025-02-25 17:11:52,435] Trial 26 finished with value: 0.717283950617284 and parameters: {'k': 44}. Best is trial 17 with value: 0.7185185185185187.\n",
      "[I 2025-02-25 17:11:52,442] Trial 27 finished with value: 0.7111111111111111 and parameters: {'k': 9}. Best is trial 17 with value: 0.7185185185185187.\n",
      "[I 2025-02-25 17:11:52,450] Trial 28 finished with value: 0.6518518518518518 and parameters: {'k': 14}. Best is trial 17 with value: 0.7185185185185187.\n",
      "[I 2025-02-25 17:11:52,457] Trial 29 finished with value: 0.6691358024691357 and parameters: {'k': 26}. Best is trial 17 with value: 0.7185185185185187.\n",
      "[I 2025-02-25 17:11:52,467] Trial 30 finished with value: 0.7320987654320987 and parameters: {'k': 6}. Best is trial 30 with value: 0.7320987654320987.\n",
      "[I 2025-02-25 17:11:52,478] Trial 31 finished with value: 0.7135802469135802 and parameters: {'k': 18}. Best is trial 30 with value: 0.7320987654320987.\n",
      "[I 2025-02-25 17:11:52,489] Trial 32 finished with value: 0.6395061728395063 and parameters: {'k': 41}. Best is trial 30 with value: 0.7320987654320987.\n",
      "[I 2025-02-25 17:11:52,501] Trial 33 finished with value: 0.708641975308642 and parameters: {'k': 50}. Best is trial 30 with value: 0.7320987654320987.\n",
      "[I 2025-02-25 17:11:52,512] Trial 34 finished with value: 0.6086419753086421 and parameters: {'k': 2}. Best is trial 30 with value: 0.7320987654320987.\n",
      "[I 2025-02-25 17:11:52,522] Trial 35 finished with value: 0.6839506172839507 and parameters: {'k': 13}. Best is trial 30 with value: 0.7320987654320987.\n",
      "[I 2025-02-25 17:11:52,534] Trial 36 finished with value: 0.6481481481481481 and parameters: {'k': 38}. Best is trial 30 with value: 0.7320987654320987.\n",
      "[I 2025-02-25 17:11:52,543] Trial 37 finished with value: 0.682716049382716 and parameters: {'k': 25}. Best is trial 30 with value: 0.7320987654320987.\n",
      "[I 2025-02-25 17:11:52,551] Trial 38 finished with value: 0.6901234567901235 and parameters: {'k': 7}. Best is trial 30 with value: 0.7320987654320987.\n",
      "[I 2025-02-25 17:11:52,560] Trial 39 finished with value: 0.6864197530864198 and parameters: {'k': 24}. Best is trial 30 with value: 0.7320987654320987.\n",
      "[I 2025-02-25 17:11:52,569] Trial 40 finished with value: 0.6333333333333334 and parameters: {'k': 37}. Best is trial 30 with value: 0.7320987654320987.\n",
      "[I 2025-02-25 17:11:52,578] Trial 41 finished with value: 0.7160493827160495 and parameters: {'k': 22}. Best is trial 30 with value: 0.7320987654320987.\n",
      "[I 2025-02-25 17:11:52,588] Trial 42 finished with value: 0.6987654320987654 and parameters: {'k': 20}. Best is trial 30 with value: 0.7320987654320987.\n",
      "[I 2025-02-25 17:11:52,597] Trial 43 finished with value: 0.7259259259259259 and parameters: {'k': 10}. Best is trial 30 with value: 0.7320987654320987.\n",
      "[I 2025-02-25 17:11:52,607] Trial 44 finished with value: 0.662962962962963 and parameters: {'k': 40}. Best is trial 30 with value: 0.7320987654320987.\n",
      "[I 2025-02-25 17:11:52,616] Trial 45 finished with value: 0.7160493827160495 and parameters: {'k': 47}. Best is trial 30 with value: 0.7320987654320987.\n",
      "[I 2025-02-25 17:11:52,626] Trial 46 finished with value: 0.6469135802469136 and parameters: {'k': 4}. Best is trial 30 with value: 0.7320987654320987.\n",
      "[I 2025-02-25 17:11:52,635] Trial 47 finished with value: 0.5444444444444444 and parameters: {'k': 1}. Best is trial 30 with value: 0.7320987654320987.\n",
      "[I 2025-02-25 17:11:52,646] Trial 48 finished with value: 0.7296296296296297 and parameters: {'k': 48}. Best is trial 30 with value: 0.7320987654320987.\n",
      "[I 2025-02-25 17:11:52,662] Trial 49 finished with value: 0.7308641975308642 and parameters: {'k': 45}. Best is trial 30 with value: 0.7320987654320987.\n",
      "[I 2025-02-25 17:11:52,676] A new study created in memory with name: no-name-bf1e81ac-1c85-4725-8359-7b8486d8104e\n",
      "[I 2025-02-25 17:11:52,682] Trial 0 finished with value: 0.5420673076923077 and parameters: {'k': 29}. Best is trial 0 with value: 0.5420673076923077.\n",
      "[I 2025-02-25 17:11:52,688] Trial 1 finished with value: 0.5012019230769231 and parameters: {'k': 12}. Best is trial 0 with value: 0.5420673076923077.\n",
      "[I 2025-02-25 17:11:52,694] Trial 2 finished with value: 0.5204326923076923 and parameters: {'k': 11}. Best is trial 0 with value: 0.5420673076923077.\n",
      "[I 2025-02-25 17:11:52,700] Trial 3 finished with value: 0.4855769230769231 and parameters: {'k': 42}. Best is trial 0 with value: 0.5420673076923077.\n",
      "[I 2025-02-25 17:11:52,706] Trial 4 finished with value: 0.6057692307692307 and parameters: {'k': 3}. Best is trial 4 with value: 0.6057692307692307.\n",
      "[I 2025-02-25 17:11:52,713] Trial 5 finished with value: 0.53125 and parameters: {'k': 28}. Best is trial 4 with value: 0.6057692307692307.\n",
      "[I 2025-02-25 17:11:52,719] Trial 6 finished with value: 0.47836538461538464 and parameters: {'k': 39}. Best is trial 4 with value: 0.6057692307692307.\n",
      "[I 2025-02-25 17:11:52,726] Trial 7 finished with value: 0.5384615384615384 and parameters: {'k': 32}. Best is trial 4 with value: 0.6057692307692307.\n",
      "[I 2025-02-25 17:11:52,736] Trial 8 finished with value: 0.5540865384615384 and parameters: {'k': 23}. Best is trial 4 with value: 0.6057692307692307.\n",
      "[I 2025-02-25 17:11:52,744] Trial 9 finished with value: 0.5240384615384616 and parameters: {'k': 5}. Best is trial 4 with value: 0.6057692307692307.\n",
      "[I 2025-02-25 17:11:52,752] Trial 10 finished with value: 0.546875 and parameters: {'k': 34}. Best is trial 4 with value: 0.6057692307692307.\n",
      "[I 2025-02-25 17:11:52,759] Trial 11 finished with value: 0.5252403846153846 and parameters: {'k': 36}. Best is trial 4 with value: 0.6057692307692307.\n",
      "[I 2025-02-25 17:11:52,766] Trial 12 finished with value: 0.5300480769230769 and parameters: {'k': 27}. Best is trial 4 with value: 0.6057692307692307.\n",
      "[I 2025-02-25 17:11:52,774] Trial 13 finished with value: 0.5408653846153846 and parameters: {'k': 35}. Best is trial 4 with value: 0.6057692307692307.\n",
      "[I 2025-02-25 17:11:52,781] Trial 14 finished with value: 0.515625 and parameters: {'k': 19}. Best is trial 4 with value: 0.6057692307692307.\n",
      "[I 2025-02-25 17:11:52,789] Trial 15 finished with value: 0.5276442307692308 and parameters: {'k': 8}. Best is trial 4 with value: 0.6057692307692307.\n",
      "[I 2025-02-25 17:11:52,796] Trial 16 finished with value: 0.528846153846154 and parameters: {'k': 15}. Best is trial 4 with value: 0.6057692307692307.\n",
      "[I 2025-02-25 17:11:52,804] Trial 17 finished with value: 0.4387019230769231 and parameters: {'k': 46}. Best is trial 4 with value: 0.6057692307692307.\n",
      "[I 2025-02-25 17:11:52,812] Trial 18 finished with value: 0.4254807692307693 and parameters: {'k': 49}. Best is trial 4 with value: 0.6057692307692307.\n",
      "[I 2025-02-25 17:11:52,820] Trial 19 finished with value: 0.5637019230769231 and parameters: {'k': 30}. Best is trial 4 with value: 0.6057692307692307.\n",
      "[I 2025-02-25 17:11:52,829] Trial 20 finished with value: 0.5408653846153846 and parameters: {'k': 16}. Best is trial 4 with value: 0.6057692307692307.\n",
      "[I 2025-02-25 17:11:52,837] Trial 21 finished with value: 0.5649038461538461 and parameters: {'k': 31}. Best is trial 4 with value: 0.6057692307692307.\n",
      "[I 2025-02-25 17:11:52,846] Trial 22 finished with value: 0.5528846153846154 and parameters: {'k': 33}. Best is trial 4 with value: 0.6057692307692307.\n",
      "[I 2025-02-25 17:11:52,856] Trial 23 finished with value: 0.5516826923076923 and parameters: {'k': 17}. Best is trial 4 with value: 0.6057692307692307.\n",
      "[I 2025-02-25 17:11:52,865] Trial 24 finished with value: 0.46634615384615385 and parameters: {'k': 43}. Best is trial 4 with value: 0.6057692307692307.\n",
      "[I 2025-02-25 17:11:52,874] Trial 25 finished with value: 0.5324519230769231 and parameters: {'k': 21}. Best is trial 4 with value: 0.6057692307692307.\n",
      "[I 2025-02-25 17:11:52,884] Trial 26 finished with value: 0.46153846153846156 and parameters: {'k': 44}. Best is trial 4 with value: 0.6057692307692307.\n",
      "[I 2025-02-25 17:11:52,893] Trial 27 finished with value: 0.5588942307692308 and parameters: {'k': 9}. Best is trial 4 with value: 0.6057692307692307.\n",
      "[I 2025-02-25 17:11:52,903] Trial 28 finished with value: 0.5276442307692308 and parameters: {'k': 14}. Best is trial 4 with value: 0.6057692307692307.\n",
      "[I 2025-02-25 17:11:52,912] Trial 29 finished with value: 0.5721153846153846 and parameters: {'k': 26}. Best is trial 4 with value: 0.6057692307692307.\n",
      "[I 2025-02-25 17:11:52,922] Trial 30 finished with value: 0.5300480769230769 and parameters: {'k': 6}. Best is trial 4 with value: 0.6057692307692307.\n",
      "[I 2025-02-25 17:11:52,932] Trial 31 finished with value: 0.5120192307692307 and parameters: {'k': 18}. Best is trial 4 with value: 0.6057692307692307.\n",
      "[I 2025-02-25 17:11:52,942] Trial 32 finished with value: 0.46875000000000006 and parameters: {'k': 41}. Best is trial 4 with value: 0.6057692307692307.\n",
      "[I 2025-02-25 17:11:52,952] Trial 33 finished with value: 0.4182692307692308 and parameters: {'k': 50}. Best is trial 4 with value: 0.6057692307692307.\n",
      "[I 2025-02-25 17:11:52,962] Trial 34 finished with value: 0.6225961538461539 and parameters: {'k': 2}. Best is trial 34 with value: 0.6225961538461539.\n",
      "[I 2025-02-25 17:11:52,972] Trial 35 finished with value: 0.515625 and parameters: {'k': 13}. Best is trial 34 with value: 0.6225961538461539.\n",
      "[I 2025-02-25 17:11:52,983] Trial 36 finished with value: 0.5036057692307692 and parameters: {'k': 38}. Best is trial 34 with value: 0.6225961538461539.\n",
      "[I 2025-02-25 17:11:52,993] Trial 37 finished with value: 0.5528846153846153 and parameters: {'k': 25}. Best is trial 34 with value: 0.6225961538461539.\n",
      "[I 2025-02-25 17:11:53,004] Trial 38 finished with value: 0.5108173076923077 and parameters: {'k': 7}. Best is trial 34 with value: 0.6225961538461539.\n",
      "[I 2025-02-25 17:11:53,014] Trial 39 finished with value: 0.548076923076923 and parameters: {'k': 24}. Best is trial 34 with value: 0.6225961538461539.\n",
      "[I 2025-02-25 17:11:53,026] Trial 40 finished with value: 0.5048076923076923 and parameters: {'k': 37}. Best is trial 34 with value: 0.6225961538461539.\n",
      "[I 2025-02-25 17:11:53,037] Trial 41 finished with value: 0.530048076923077 and parameters: {'k': 22}. Best is trial 34 with value: 0.6225961538461539.\n",
      "[I 2025-02-25 17:11:53,051] Trial 42 finished with value: 0.5168269230769231 and parameters: {'k': 20}. Best is trial 34 with value: 0.6225961538461539.\n",
      "[I 2025-02-25 17:11:53,067] Trial 43 finished with value: 0.5600961538461539 and parameters: {'k': 10}. Best is trial 34 with value: 0.6225961538461539.\n",
      "[I 2025-02-25 17:11:53,083] Trial 44 finished with value: 0.4903846153846154 and parameters: {'k': 40}. Best is trial 34 with value: 0.6225961538461539.\n",
      "[I 2025-02-25 17:11:53,098] Trial 45 finished with value: 0.43269230769230765 and parameters: {'k': 47}. Best is trial 34 with value: 0.6225961538461539.\n",
      "[I 2025-02-25 17:11:53,111] Trial 46 finished with value: 0.5588942307692308 and parameters: {'k': 4}. Best is trial 34 with value: 0.6225961538461539.\n",
      "[I 2025-02-25 17:11:53,123] Trial 47 finished with value: 0.5 and parameters: {'k': 1}. Best is trial 34 with value: 0.6225961538461539.\n",
      "[I 2025-02-25 17:11:53,136] Trial 48 finished with value: 0.4314903846153846 and parameters: {'k': 48}. Best is trial 34 with value: 0.6225961538461539.\n",
      "[I 2025-02-25 17:11:53,148] Trial 49 finished with value: 0.45552884615384615 and parameters: {'k': 45}. Best is trial 34 with value: 0.6225961538461539.\n",
      "[I 2025-02-25 17:11:53,157] A new study created in memory with name: no-name-20eee7fe-24cd-4c8e-b3ad-68bffad43a5c\n",
      "[I 2025-02-25 17:11:53,163] Trial 0 finished with value: 0.6138888888888889 and parameters: {'k': 29}. Best is trial 0 with value: 0.6138888888888889.\n",
      "[I 2025-02-25 17:11:53,169] Trial 1 finished with value: 0.5569444444444445 and parameters: {'k': 12}. Best is trial 0 with value: 0.6138888888888889.\n",
      "[I 2025-02-25 17:11:53,174] Trial 2 finished with value: 0.5652777777777778 and parameters: {'k': 11}. Best is trial 0 with value: 0.6138888888888889.\n",
      "[I 2025-02-25 17:11:53,180] Trial 3 finished with value: 0.6833333333333333 and parameters: {'k': 42}. Best is trial 3 with value: 0.6833333333333333.\n",
      "[I 2025-02-25 17:11:53,186] Trial 4 finished with value: 0.43055555555555547 and parameters: {'k': 3}. Best is trial 3 with value: 0.6833333333333333.\n",
      "[I 2025-02-25 17:11:53,193] Trial 5 finished with value: 0.5861111111111112 and parameters: {'k': 28}. Best is trial 3 with value: 0.6833333333333333.\n",
      "[I 2025-02-25 17:11:53,199] Trial 6 finished with value: 0.7027777777777778 and parameters: {'k': 39}. Best is trial 6 with value: 0.7027777777777778.\n",
      "[I 2025-02-25 17:11:53,206] Trial 7 finished with value: 0.6777777777777778 and parameters: {'k': 32}. Best is trial 6 with value: 0.7027777777777778.\n",
      "[I 2025-02-25 17:11:53,213] Trial 8 finished with value: 0.5902777777777778 and parameters: {'k': 23}. Best is trial 6 with value: 0.7027777777777778.\n",
      "[I 2025-02-25 17:11:53,219] Trial 9 finished with value: 0.4694444444444445 and parameters: {'k': 5}. Best is trial 6 with value: 0.7027777777777778.\n",
      "[I 2025-02-25 17:11:53,226] Trial 10 finished with value: 0.6819444444444445 and parameters: {'k': 34}. Best is trial 6 with value: 0.7027777777777778.\n",
      "[I 2025-02-25 17:11:53,233] Trial 11 finished with value: 0.7027777777777778 and parameters: {'k': 36}. Best is trial 6 with value: 0.7027777777777778.\n",
      "[I 2025-02-25 17:11:53,240] Trial 12 finished with value: 0.563888888888889 and parameters: {'k': 27}. Best is trial 6 with value: 0.7027777777777778.\n",
      "[I 2025-02-25 17:11:53,248] Trial 13 finished with value: 0.6902777777777778 and parameters: {'k': 35}. Best is trial 6 with value: 0.7027777777777778.\n",
      "[I 2025-02-25 17:11:53,255] Trial 14 finished with value: 0.5541666666666667 and parameters: {'k': 19}. Best is trial 6 with value: 0.7027777777777778.\n",
      "[I 2025-02-25 17:11:53,263] Trial 15 finished with value: 0.576388888888889 and parameters: {'k': 8}. Best is trial 6 with value: 0.7027777777777778.\n",
      "[I 2025-02-25 17:11:53,271] Trial 16 finished with value: 0.5652777777777778 and parameters: {'k': 15}. Best is trial 6 with value: 0.7027777777777778.\n",
      "[I 2025-02-25 17:11:53,279] Trial 17 finished with value: 0.673611111111111 and parameters: {'k': 46}. Best is trial 6 with value: 0.7027777777777778.\n",
      "[I 2025-02-25 17:11:53,287] Trial 18 finished with value: 0.6597222222222222 and parameters: {'k': 49}. Best is trial 6 with value: 0.7027777777777778.\n",
      "[I 2025-02-25 17:11:53,295] Trial 19 finished with value: 0.6638888888888889 and parameters: {'k': 30}. Best is trial 6 with value: 0.7027777777777778.\n",
      "[I 2025-02-25 17:11:53,303] Trial 20 finished with value: 0.5958333333333333 and parameters: {'k': 16}. Best is trial 6 with value: 0.7027777777777778.\n",
      "[I 2025-02-25 17:11:53,312] Trial 21 finished with value: 0.663888888888889 and parameters: {'k': 31}. Best is trial 6 with value: 0.7027777777777778.\n",
      "[I 2025-02-25 17:11:53,320] Trial 22 finished with value: 0.6791666666666668 and parameters: {'k': 33}. Best is trial 6 with value: 0.7027777777777778.\n",
      "[I 2025-02-25 17:11:53,329] Trial 23 finished with value: 0.6 and parameters: {'k': 17}. Best is trial 6 with value: 0.7027777777777778.\n",
      "[I 2025-02-25 17:11:53,338] Trial 24 finished with value: 0.6888888888888889 and parameters: {'k': 43}. Best is trial 6 with value: 0.7027777777777778.\n",
      "[I 2025-02-25 17:11:53,347] Trial 25 finished with value: 0.5569444444444445 and parameters: {'k': 21}. Best is trial 6 with value: 0.7027777777777778.\n",
      "[I 2025-02-25 17:11:53,356] Trial 26 finished with value: 0.6861111111111111 and parameters: {'k': 44}. Best is trial 6 with value: 0.7027777777777778.\n",
      "[I 2025-02-25 17:11:53,365] Trial 27 finished with value: 0.5791666666666666 and parameters: {'k': 9}. Best is trial 6 with value: 0.7027777777777778.\n",
      "[I 2025-02-25 17:11:53,374] Trial 28 finished with value: 0.5694444444444445 and parameters: {'k': 14}. Best is trial 6 with value: 0.7027777777777778.\n",
      "[I 2025-02-25 17:11:53,383] Trial 29 finished with value: 0.5847222222222221 and parameters: {'k': 26}. Best is trial 6 with value: 0.7027777777777778.\n",
      "[I 2025-02-25 17:11:53,393] Trial 30 finished with value: 0.5125000000000001 and parameters: {'k': 6}. Best is trial 6 with value: 0.7027777777777778.\n",
      "[I 2025-02-25 17:11:53,403] Trial 31 finished with value: 0.5319444444444446 and parameters: {'k': 18}. Best is trial 6 with value: 0.7027777777777778.\n",
      "[I 2025-02-25 17:11:53,413] Trial 32 finished with value: 0.7041666666666666 and parameters: {'k': 41}. Best is trial 32 with value: 0.7041666666666666.\n",
      "[I 2025-02-25 17:11:53,423] Trial 33 finished with value: 0.6305555555555555 and parameters: {'k': 50}. Best is trial 32 with value: 0.7041666666666666.\n",
      "[I 2025-02-25 17:11:53,433] Trial 34 finished with value: 0.4833333333333333 and parameters: {'k': 2}. Best is trial 32 with value: 0.7041666666666666.\n",
      "[I 2025-02-25 17:11:53,443] Trial 35 finished with value: 0.5611111111111111 and parameters: {'k': 13}. Best is trial 32 with value: 0.7041666666666666.\n",
      "[I 2025-02-25 17:11:53,453] Trial 36 finished with value: 0.7250000000000001 and parameters: {'k': 38}. Best is trial 36 with value: 0.7250000000000001.\n",
      "[I 2025-02-25 17:11:53,464] Trial 37 finished with value: 0.5861111111111111 and parameters: {'k': 25}. Best is trial 36 with value: 0.7250000000000001.\n",
      "[I 2025-02-25 17:11:53,474] Trial 38 finished with value: 0.5916666666666667 and parameters: {'k': 7}. Best is trial 36 with value: 0.7250000000000001.\n",
      "[I 2025-02-25 17:11:53,486] Trial 39 finished with value: 0.5888888888888889 and parameters: {'k': 24}. Best is trial 36 with value: 0.7250000000000001.\n",
      "[I 2025-02-25 17:11:53,497] Trial 40 finished with value: 0.7166666666666667 and parameters: {'k': 37}. Best is trial 36 with value: 0.7250000000000001.\n",
      "[I 2025-02-25 17:11:53,508] Trial 41 finished with value: 0.5902777777777778 and parameters: {'k': 22}. Best is trial 36 with value: 0.7250000000000001.\n",
      "[I 2025-02-25 17:11:53,520] Trial 42 finished with value: 0.5555555555555556 and parameters: {'k': 20}. Best is trial 36 with value: 0.7250000000000001.\n",
      "[I 2025-02-25 17:11:53,532] Trial 43 finished with value: 0.5819444444444444 and parameters: {'k': 10}. Best is trial 36 with value: 0.7250000000000001.\n",
      "[I 2025-02-25 17:11:53,544] Trial 44 finished with value: 0.6847222222222222 and parameters: {'k': 40}. Best is trial 36 with value: 0.7250000000000001.\n",
      "[I 2025-02-25 17:11:53,557] Trial 45 finished with value: 0.6694444444444444 and parameters: {'k': 47}. Best is trial 36 with value: 0.7250000000000001.\n",
      "[I 2025-02-25 17:11:53,569] Trial 46 finished with value: 0.43333333333333335 and parameters: {'k': 4}. Best is trial 36 with value: 0.7250000000000001.\n",
      "[I 2025-02-25 17:11:53,580] Trial 47 finished with value: 0.375 and parameters: {'k': 1}. Best is trial 36 with value: 0.7250000000000001.\n",
      "[I 2025-02-25 17:11:53,593] Trial 48 finished with value: 0.6611111111111111 and parameters: {'k': 48}. Best is trial 36 with value: 0.7250000000000001.\n",
      "[I 2025-02-25 17:11:53,605] Trial 49 finished with value: 0.6916666666666667 and parameters: {'k': 45}. Best is trial 36 with value: 0.7250000000000001.\n",
      "[I 2025-02-25 17:11:53,614] A new study created in memory with name: no-name-0493c40e-0a72-48b8-937a-9dfbf88e01c5\n",
      "[I 2025-02-25 17:11:53,620] Trial 0 finished with value: 0.6530864197530865 and parameters: {'k': 29}. Best is trial 0 with value: 0.6530864197530865.\n",
      "[I 2025-02-25 17:11:53,628] Trial 1 finished with value: 0.6419753086419753 and parameters: {'k': 12}. Best is trial 0 with value: 0.6530864197530865.\n",
      "[I 2025-02-25 17:11:53,635] Trial 2 finished with value: 0.6271604938271604 and parameters: {'k': 11}. Best is trial 0 with value: 0.6530864197530865.\n",
      "[I 2025-02-25 17:11:53,643] Trial 3 finished with value: 0.6679012345679013 and parameters: {'k': 42}. Best is trial 3 with value: 0.6679012345679013.\n",
      "[I 2025-02-25 17:11:53,650] Trial 4 finished with value: 0.4197530864197531 and parameters: {'k': 3}. Best is trial 3 with value: 0.6679012345679013.\n",
      "[I 2025-02-25 17:11:53,659] Trial 5 finished with value: 0.6370370370370371 and parameters: {'k': 28}. Best is trial 3 with value: 0.6679012345679013.\n",
      "[I 2025-02-25 17:11:53,667] Trial 6 finished with value: 0.6320987654320988 and parameters: {'k': 39}. Best is trial 3 with value: 0.6679012345679013.\n",
      "[I 2025-02-25 17:11:53,675] Trial 7 finished with value: 0.6271604938271605 and parameters: {'k': 32}. Best is trial 3 with value: 0.6679012345679013.\n",
      "[I 2025-02-25 17:11:53,684] Trial 8 finished with value: 0.6172839506172839 and parameters: {'k': 23}. Best is trial 3 with value: 0.6679012345679013.\n",
      "[I 2025-02-25 17:11:53,693] Trial 9 finished with value: 0.471604938271605 and parameters: {'k': 5}. Best is trial 3 with value: 0.6679012345679013.\n",
      "[I 2025-02-25 17:11:53,702] Trial 10 finished with value: 0.6283950617283951 and parameters: {'k': 34}. Best is trial 3 with value: 0.6679012345679013.\n",
      "[I 2025-02-25 17:11:53,712] Trial 11 finished with value: 0.6209876543209878 and parameters: {'k': 36}. Best is trial 3 with value: 0.6679012345679013.\n",
      "[I 2025-02-25 17:11:53,723] Trial 12 finished with value: 0.6481481481481483 and parameters: {'k': 27}. Best is trial 3 with value: 0.6679012345679013.\n",
      "[I 2025-02-25 17:11:53,734] Trial 13 finished with value: 0.6333333333333333 and parameters: {'k': 35}. Best is trial 3 with value: 0.6679012345679013.\n",
      "[I 2025-02-25 17:11:53,745] Trial 14 finished with value: 0.6209876543209878 and parameters: {'k': 19}. Best is trial 3 with value: 0.6679012345679013.\n",
      "[I 2025-02-25 17:11:53,755] Trial 15 finished with value: 0.5407407407407409 and parameters: {'k': 8}. Best is trial 3 with value: 0.6679012345679013.\n",
      "[I 2025-02-25 17:11:53,766] Trial 16 finished with value: 0.6296296296296297 and parameters: {'k': 15}. Best is trial 3 with value: 0.6679012345679013.\n",
      "[I 2025-02-25 17:11:53,778] Trial 17 finished with value: 0.6493827160493828 and parameters: {'k': 46}. Best is trial 3 with value: 0.6679012345679013.\n",
      "[I 2025-02-25 17:11:53,790] Trial 18 finished with value: 0.6246913580246914 and parameters: {'k': 49}. Best is trial 3 with value: 0.6679012345679013.\n",
      "[I 2025-02-25 17:11:53,801] Trial 19 finished with value: 0.6432098765432099 and parameters: {'k': 30}. Best is trial 3 with value: 0.6679012345679013.\n",
      "[I 2025-02-25 17:11:53,813] Trial 20 finished with value: 0.6037037037037037 and parameters: {'k': 16}. Best is trial 3 with value: 0.6679012345679013.\n",
      "[I 2025-02-25 17:11:53,824] Trial 21 finished with value: 0.6320987654320989 and parameters: {'k': 31}. Best is trial 3 with value: 0.6679012345679013.\n",
      "[I 2025-02-25 17:11:53,837] Trial 22 finished with value: 0.6259259259259259 and parameters: {'k': 33}. Best is trial 3 with value: 0.6679012345679013.\n",
      "[I 2025-02-25 17:11:53,849] Trial 23 finished with value: 0.6358024691358024 and parameters: {'k': 17}. Best is trial 3 with value: 0.6679012345679013.\n",
      "[I 2025-02-25 17:11:53,861] Trial 24 finished with value: 0.6641975308641976 and parameters: {'k': 43}. Best is trial 3 with value: 0.6679012345679013.\n",
      "[I 2025-02-25 17:11:53,873] Trial 25 finished with value: 0.5987654320987654 and parameters: {'k': 21}. Best is trial 3 with value: 0.6679012345679013.\n",
      "[I 2025-02-25 17:11:53,886] Trial 26 finished with value: 0.645679012345679 and parameters: {'k': 44}. Best is trial 3 with value: 0.6679012345679013.\n",
      "[I 2025-02-25 17:11:53,899] Trial 27 finished with value: 0.571604938271605 and parameters: {'k': 9}. Best is trial 3 with value: 0.6679012345679013.\n",
      "[I 2025-02-25 17:11:53,912] Trial 28 finished with value: 0.6296296296296295 and parameters: {'k': 14}. Best is trial 3 with value: 0.6679012345679013.\n",
      "[I 2025-02-25 17:11:53,925] Trial 29 finished with value: 0.6358024691358025 and parameters: {'k': 26}. Best is trial 3 with value: 0.6679012345679013.\n",
      "[I 2025-02-25 17:11:53,939] Trial 30 finished with value: 0.47530864197530864 and parameters: {'k': 6}. Best is trial 3 with value: 0.6679012345679013.\n",
      "[I 2025-02-25 17:11:53,953] Trial 31 finished with value: 0.6012345679012345 and parameters: {'k': 18}. Best is trial 3 with value: 0.6679012345679013.\n",
      "[I 2025-02-25 17:11:53,967] Trial 32 finished with value: 0.645679012345679 and parameters: {'k': 41}. Best is trial 3 with value: 0.6679012345679013.\n",
      "[I 2025-02-25 17:11:53,981] Trial 33 finished with value: 0.6111111111111112 and parameters: {'k': 50}. Best is trial 3 with value: 0.6679012345679013.\n",
      "[I 2025-02-25 17:11:53,996] Trial 34 finished with value: 0.36049382716049383 and parameters: {'k': 2}. Best is trial 3 with value: 0.6679012345679013.\n",
      "[I 2025-02-25 17:11:54,010] Trial 35 finished with value: 0.6024691358024692 and parameters: {'k': 13}. Best is trial 3 with value: 0.6679012345679013.\n",
      "[I 2025-02-25 17:11:54,025] Trial 36 finished with value: 0.6074074074074074 and parameters: {'k': 38}. Best is trial 3 with value: 0.6679012345679013.\n",
      "[I 2025-02-25 17:11:54,040] Trial 37 finished with value: 0.6419753086419754 and parameters: {'k': 25}. Best is trial 3 with value: 0.6679012345679013.\n",
      "[I 2025-02-25 17:11:54,054] Trial 38 finished with value: 0.45679012345679015 and parameters: {'k': 7}. Best is trial 3 with value: 0.6679012345679013.\n",
      "[I 2025-02-25 17:11:54,069] Trial 39 finished with value: 0.6197530864197532 and parameters: {'k': 24}. Best is trial 3 with value: 0.6679012345679013.\n",
      "[I 2025-02-25 17:11:54,084] Trial 40 finished with value: 0.6185185185185186 and parameters: {'k': 37}. Best is trial 3 with value: 0.6679012345679013.\n",
      "[I 2025-02-25 17:11:54,100] Trial 41 finished with value: 0.6246913580246913 and parameters: {'k': 22}. Best is trial 3 with value: 0.6679012345679013.\n",
      "[I 2025-02-25 17:11:54,116] Trial 42 finished with value: 0.6012345679012345 and parameters: {'k': 20}. Best is trial 3 with value: 0.6679012345679013.\n",
      "[I 2025-02-25 17:11:54,132] Trial 43 finished with value: 0.6 and parameters: {'k': 10}. Best is trial 3 with value: 0.6679012345679013.\n",
      "[I 2025-02-25 17:11:54,147] Trial 44 finished with value: 0.6370370370370371 and parameters: {'k': 40}. Best is trial 3 with value: 0.6679012345679013.\n",
      "[I 2025-02-25 17:11:54,164] Trial 45 finished with value: 0.6469135802469137 and parameters: {'k': 47}. Best is trial 3 with value: 0.6679012345679013.\n",
      "[I 2025-02-25 17:11:54,177] Trial 46 finished with value: 0.4345679012345679 and parameters: {'k': 4}. Best is trial 3 with value: 0.6679012345679013.\n",
      "[I 2025-02-25 17:11:54,190] Trial 47 finished with value: 0.4444444444444444 and parameters: {'k': 1}. Best is trial 3 with value: 0.6679012345679013.\n",
      "[I 2025-02-25 17:11:54,204] Trial 48 finished with value: 0.6456790123456789 and parameters: {'k': 48}. Best is trial 3 with value: 0.6679012345679013.\n",
      "[I 2025-02-25 17:11:54,224] Trial 49 finished with value: 0.6530864197530865 and parameters: {'k': 45}. Best is trial 3 with value: 0.6679012345679013.\n",
      "[I 2025-02-25 17:11:54,239] A new study created in memory with name: no-name-0956bfa0-57a1-48a9-b85b-1e6b3ee32a26\n",
      "[I 2025-02-25 17:11:54,254] Trial 0 finished with value: 0.5396634615384615 and parameters: {'k': 29}. Best is trial 0 with value: 0.5396634615384615.\n",
      "[I 2025-02-25 17:11:54,263] Trial 1 finished with value: 0.5072115384615384 and parameters: {'k': 12}. Best is trial 0 with value: 0.5396634615384615.\n",
      "[I 2025-02-25 17:11:54,272] Trial 2 finished with value: 0.5396634615384616 and parameters: {'k': 11}. Best is trial 2 with value: 0.5396634615384616.\n",
      "[I 2025-02-25 17:11:54,282] Trial 3 finished with value: 0.5228365384615384 and parameters: {'k': 42}. Best is trial 2 with value: 0.5396634615384616.\n",
      "[I 2025-02-25 17:11:54,291] Trial 4 finished with value: 0.47115384615384615 and parameters: {'k': 3}. Best is trial 2 with value: 0.5396634615384616.\n",
      "[I 2025-02-25 17:11:54,301] Trial 5 finished with value: 0.5204326923076923 and parameters: {'k': 28}. Best is trial 2 with value: 0.5396634615384616.\n",
      "[I 2025-02-25 17:11:54,311] Trial 6 finished with value: 0.5180288461538461 and parameters: {'k': 39}. Best is trial 2 with value: 0.5396634615384616.\n",
      "[I 2025-02-25 17:11:54,320] Trial 7 finished with value: 0.5468749999999999 and parameters: {'k': 32}. Best is trial 7 with value: 0.5468749999999999.\n",
      "[I 2025-02-25 17:11:54,329] Trial 8 finished with value: 0.6045673076923077 and parameters: {'k': 23}. Best is trial 8 with value: 0.6045673076923077.\n",
      "[I 2025-02-25 17:11:54,338] Trial 9 finished with value: 0.5480769230769231 and parameters: {'k': 5}. Best is trial 8 with value: 0.6045673076923077.\n",
      "[I 2025-02-25 17:11:54,347] Trial 10 finished with value: 0.5709134615384615 and parameters: {'k': 34}. Best is trial 8 with value: 0.6045673076923077.\n",
      "[I 2025-02-25 17:11:54,356] Trial 11 finished with value: 0.5420673076923077 and parameters: {'k': 36}. Best is trial 8 with value: 0.6045673076923077.\n",
      "[I 2025-02-25 17:11:54,366] Trial 12 finished with value: 0.5576923076923077 and parameters: {'k': 27}. Best is trial 8 with value: 0.6045673076923077.\n",
      "[I 2025-02-25 17:11:54,374] Trial 13 finished with value: 0.5552884615384615 and parameters: {'k': 35}. Best is trial 8 with value: 0.6045673076923077.\n",
      "[I 2025-02-25 17:11:54,383] Trial 14 finished with value: 0.5817307692307693 and parameters: {'k': 19}. Best is trial 8 with value: 0.6045673076923077.\n",
      "[I 2025-02-25 17:11:54,391] Trial 15 finished with value: 0.5661057692307693 and parameters: {'k': 8}. Best is trial 8 with value: 0.6045673076923077.\n",
      "[I 2025-02-25 17:11:54,402] Trial 16 finished with value: 0.5084134615384615 and parameters: {'k': 15}. Best is trial 8 with value: 0.6045673076923077.\n",
      "[I 2025-02-25 17:11:54,411] Trial 17 finished with value: 0.5336538461538461 and parameters: {'k': 46}. Best is trial 8 with value: 0.6045673076923077.\n",
      "[I 2025-02-25 17:11:54,421] Trial 18 finished with value: 0.5372596153846154 and parameters: {'k': 49}. Best is trial 8 with value: 0.6045673076923077.\n",
      "[I 2025-02-25 17:11:54,430] Trial 19 finished with value: 0.5649038461538461 and parameters: {'k': 30}. Best is trial 8 with value: 0.6045673076923077.\n",
      "[I 2025-02-25 17:11:54,439] Trial 20 finished with value: 0.5396634615384616 and parameters: {'k': 16}. Best is trial 8 with value: 0.6045673076923077.\n",
      "[I 2025-02-25 17:11:54,449] Trial 21 finished with value: 0.5516826923076923 and parameters: {'k': 31}. Best is trial 8 with value: 0.6045673076923077.\n",
      "[I 2025-02-25 17:11:54,459] Trial 22 finished with value: 0.5685096153846154 and parameters: {'k': 33}. Best is trial 8 with value: 0.6045673076923077.\n",
      "[I 2025-02-25 17:11:54,469] Trial 23 finished with value: 0.5709134615384616 and parameters: {'k': 17}. Best is trial 8 with value: 0.6045673076923077.\n",
      "[I 2025-02-25 17:11:54,479] Trial 24 finished with value: 0.5180288461538461 and parameters: {'k': 43}. Best is trial 8 with value: 0.6045673076923077.\n",
      "[I 2025-02-25 17:11:54,491] Trial 25 finished with value: 0.6057692307692308 and parameters: {'k': 21}. Best is trial 25 with value: 0.6057692307692308.\n",
      "[I 2025-02-25 17:11:54,501] Trial 26 finished with value: 0.514423076923077 and parameters: {'k': 44}. Best is trial 25 with value: 0.6057692307692308.\n",
      "[I 2025-02-25 17:11:54,512] Trial 27 finished with value: 0.5540865384615384 and parameters: {'k': 9}. Best is trial 25 with value: 0.6057692307692308.\n",
      "[I 2025-02-25 17:11:54,523] Trial 28 finished with value: 0.5180288461538461 and parameters: {'k': 14}. Best is trial 25 with value: 0.6057692307692308.\n",
      "[I 2025-02-25 17:11:54,533] Trial 29 finished with value: 0.5480769230769231 and parameters: {'k': 26}. Best is trial 25 with value: 0.6057692307692308.\n",
      "[I 2025-02-25 17:11:54,543] Trial 30 finished with value: 0.5252403846153846 and parameters: {'k': 6}. Best is trial 25 with value: 0.6057692307692308.\n",
      "[I 2025-02-25 17:11:54,554] Trial 31 finished with value: 0.5853365384615384 and parameters: {'k': 18}. Best is trial 25 with value: 0.6057692307692308.\n",
      "[I 2025-02-25 17:11:54,564] Trial 32 finished with value: 0.5336538461538463 and parameters: {'k': 41}. Best is trial 25 with value: 0.6057692307692308.\n",
      "[I 2025-02-25 17:11:54,575] Trial 33 finished with value: 0.5504807692307693 and parameters: {'k': 50}. Best is trial 25 with value: 0.6057692307692308.\n",
      "[I 2025-02-25 17:11:54,585] Trial 34 finished with value: 0.4879807692307692 and parameters: {'k': 2}. Best is trial 25 with value: 0.6057692307692308.\n",
      "[I 2025-02-25 17:11:54,596] Trial 35 finished with value: 0.5216346153846154 and parameters: {'k': 13}. Best is trial 25 with value: 0.6057692307692308.\n",
      "[I 2025-02-25 17:11:54,612] Trial 36 finished with value: 0.5192307692307693 and parameters: {'k': 38}. Best is trial 25 with value: 0.6057692307692308.\n",
      "[I 2025-02-25 17:11:54,628] Trial 37 finished with value: 0.5829326923076923 and parameters: {'k': 25}. Best is trial 25 with value: 0.6057692307692308.\n",
      "[I 2025-02-25 17:11:54,644] Trial 38 finished with value: 0.5240384615384615 and parameters: {'k': 7}. Best is trial 25 with value: 0.6057692307692308.\n",
      "[I 2025-02-25 17:11:54,661] Trial 39 finished with value: 0.5841346153846154 and parameters: {'k': 24}. Best is trial 25 with value: 0.6057692307692308.\n",
      "[I 2025-02-25 17:11:54,672] Trial 40 finished with value: 0.5228365384615385 and parameters: {'k': 37}. Best is trial 25 with value: 0.6057692307692308.\n",
      "[I 2025-02-25 17:11:54,689] Trial 41 finished with value: 0.6069711538461539 and parameters: {'k': 22}. Best is trial 41 with value: 0.6069711538461539.\n",
      "[I 2025-02-25 17:11:54,705] Trial 42 finished with value: 0.59375 and parameters: {'k': 20}. Best is trial 41 with value: 0.6069711538461539.\n",
      "[I 2025-02-25 17:11:54,721] Trial 43 finished with value: 0.5516826923076923 and parameters: {'k': 10}. Best is trial 41 with value: 0.6069711538461539.\n",
      "[I 2025-02-25 17:11:54,738] Trial 44 finished with value: 0.5336538461538463 and parameters: {'k': 40}. Best is trial 41 with value: 0.6069711538461539.\n",
      "[I 2025-02-25 17:11:54,756] Trial 45 finished with value: 0.5528846153846154 and parameters: {'k': 47}. Best is trial 41 with value: 0.6069711538461539.\n",
      "[I 2025-02-25 17:11:54,773] Trial 46 finished with value: 0.49759615384615385 and parameters: {'k': 4}. Best is trial 41 with value: 0.6069711538461539.\n",
      "[I 2025-02-25 17:11:54,791] Trial 47 finished with value: 0.5528846153846155 and parameters: {'k': 1}. Best is trial 41 with value: 0.6069711538461539.\n",
      "[I 2025-02-25 17:11:54,809] Trial 48 finished with value: 0.5276442307692307 and parameters: {'k': 48}. Best is trial 41 with value: 0.6069711538461539.\n",
      "[I 2025-02-25 17:11:54,828] Trial 49 finished with value: 0.5204326923076923 and parameters: {'k': 45}. Best is trial 41 with value: 0.6069711538461539.\n",
      "[I 2025-02-25 17:11:54,840] A new study created in memory with name: no-name-5973f784-c433-44fe-a16e-c2acb9da67bb\n",
      "[I 2025-02-25 17:11:54,848] Trial 0 finished with value: 0.6160493827160494 and parameters: {'k': 29}. Best is trial 0 with value: 0.6160493827160494.\n",
      "[I 2025-02-25 17:11:54,855] Trial 1 finished with value: 0.5814814814814815 and parameters: {'k': 12}. Best is trial 0 with value: 0.6160493827160494.\n",
      "[I 2025-02-25 17:11:54,863] Trial 2 finished with value: 0.5925925925925927 and parameters: {'k': 11}. Best is trial 0 with value: 0.6160493827160494.\n",
      "[I 2025-02-25 17:11:54,871] Trial 3 finished with value: 0.6654320987654321 and parameters: {'k': 42}. Best is trial 3 with value: 0.6654320987654321.\n",
      "[I 2025-02-25 17:11:54,877] Trial 4 finished with value: 0.5790123456790124 and parameters: {'k': 3}. Best is trial 3 with value: 0.6654320987654321.\n",
      "[I 2025-02-25 17:11:54,884] Trial 5 finished with value: 0.6012345679012345 and parameters: {'k': 28}. Best is trial 3 with value: 0.6654320987654321.\n",
      "[I 2025-02-25 17:11:54,891] Trial 6 finished with value: 0.6209876543209877 and parameters: {'k': 39}. Best is trial 3 with value: 0.6654320987654321.\n",
      "[I 2025-02-25 17:11:54,898] Trial 7 finished with value: 0.6296296296296295 and parameters: {'k': 32}. Best is trial 3 with value: 0.6654320987654321.\n",
      "[I 2025-02-25 17:11:54,905] Trial 8 finished with value: 0.5271604938271606 and parameters: {'k': 23}. Best is trial 3 with value: 0.6654320987654321.\n",
      "[I 2025-02-25 17:11:54,912] Trial 9 finished with value: 0.4962962962962963 and parameters: {'k': 5}. Best is trial 3 with value: 0.6654320987654321.\n",
      "[I 2025-02-25 17:11:54,919] Trial 10 finished with value: 0.6432098765432099 and parameters: {'k': 34}. Best is trial 3 with value: 0.6654320987654321.\n",
      "[I 2025-02-25 17:11:54,927] Trial 11 finished with value: 0.619753086419753 and parameters: {'k': 36}. Best is trial 3 with value: 0.6654320987654321.\n",
      "[I 2025-02-25 17:11:54,934] Trial 12 finished with value: 0.5851851851851853 and parameters: {'k': 27}. Best is trial 3 with value: 0.6654320987654321.\n",
      "[I 2025-02-25 17:11:54,942] Trial 13 finished with value: 0.6111111111111112 and parameters: {'k': 35}. Best is trial 3 with value: 0.6654320987654321.\n",
      "[I 2025-02-25 17:11:54,950] Trial 14 finished with value: 0.5481481481481483 and parameters: {'k': 19}. Best is trial 3 with value: 0.6654320987654321.\n",
      "[I 2025-02-25 17:11:54,957] Trial 15 finished with value: 0.54320987654321 and parameters: {'k': 8}. Best is trial 3 with value: 0.6654320987654321.\n",
      "[I 2025-02-25 17:11:54,966] Trial 16 finished with value: 0.5456790123456792 and parameters: {'k': 15}. Best is trial 3 with value: 0.6654320987654321.\n",
      "[I 2025-02-25 17:11:54,974] Trial 17 finished with value: 0.674074074074074 and parameters: {'k': 46}. Best is trial 17 with value: 0.674074074074074.\n",
      "[I 2025-02-25 17:11:54,983] Trial 18 finished with value: 0.7308641975308642 and parameters: {'k': 49}. Best is trial 18 with value: 0.7308641975308642.\n",
      "[I 2025-02-25 17:11:54,991] Trial 19 finished with value: 0.6271604938271605 and parameters: {'k': 30}. Best is trial 18 with value: 0.7308641975308642.\n",
      "[I 2025-02-25 17:11:55,000] Trial 20 finished with value: 0.5481481481481483 and parameters: {'k': 16}. Best is trial 18 with value: 0.7308641975308642.\n",
      "[I 2025-02-25 17:11:55,009] Trial 21 finished with value: 0.6111111111111112 and parameters: {'k': 31}. Best is trial 18 with value: 0.7308641975308642.\n",
      "[I 2025-02-25 17:11:55,017] Trial 22 finished with value: 0.6407407407407407 and parameters: {'k': 33}. Best is trial 18 with value: 0.7308641975308642.\n",
      "[I 2025-02-25 17:11:55,026] Trial 23 finished with value: 0.5654320987654321 and parameters: {'k': 17}. Best is trial 18 with value: 0.7308641975308642.\n",
      "[I 2025-02-25 17:11:55,037] Trial 24 finished with value: 0.6432098765432099 and parameters: {'k': 43}. Best is trial 18 with value: 0.7308641975308642.\n",
      "[I 2025-02-25 17:11:55,050] Trial 25 finished with value: 0.5222222222222224 and parameters: {'k': 21}. Best is trial 18 with value: 0.7308641975308642.\n",
      "[I 2025-02-25 17:11:55,063] Trial 26 finished with value: 0.6580246913580248 and parameters: {'k': 44}. Best is trial 18 with value: 0.7308641975308642.\n",
      "[I 2025-02-25 17:11:55,080] Trial 27 finished with value: 0.5641975308641975 and parameters: {'k': 9}. Best is trial 18 with value: 0.7308641975308642.\n",
      "[I 2025-02-25 17:11:55,092] Trial 28 finished with value: 0.5222222222222223 and parameters: {'k': 14}. Best is trial 18 with value: 0.7308641975308642.\n",
      "[I 2025-02-25 17:11:55,106] Trial 29 finished with value: 0.5604938271604938 and parameters: {'k': 26}. Best is trial 18 with value: 0.7308641975308642.\n",
      "[I 2025-02-25 17:11:55,118] Trial 30 finished with value: 0.5111111111111112 and parameters: {'k': 6}. Best is trial 18 with value: 0.7308641975308642.\n",
      "[I 2025-02-25 17:11:55,131] Trial 31 finished with value: 0.5987654320987655 and parameters: {'k': 18}. Best is trial 18 with value: 0.7308641975308642.\n",
      "[I 2025-02-25 17:11:55,146] Trial 32 finished with value: 0.6296296296296297 and parameters: {'k': 41}. Best is trial 18 with value: 0.7308641975308642.\n",
      "[I 2025-02-25 17:11:55,157] Trial 33 finished with value: 0.7320987654320988 and parameters: {'k': 50}. Best is trial 33 with value: 0.7320987654320988.\n",
      "[I 2025-02-25 17:11:55,168] Trial 34 finished with value: 0.4839506172839506 and parameters: {'k': 2}. Best is trial 33 with value: 0.7320987654320988.\n",
      "[I 2025-02-25 17:11:55,179] Trial 35 finished with value: 0.5604938271604939 and parameters: {'k': 13}. Best is trial 33 with value: 0.7320987654320988.\n",
      "[I 2025-02-25 17:11:55,190] Trial 36 finished with value: 0.6320987654320988 and parameters: {'k': 38}. Best is trial 33 with value: 0.7320987654320988.\n",
      "[I 2025-02-25 17:11:55,201] Trial 37 finished with value: 0.5493827160493827 and parameters: {'k': 25}. Best is trial 33 with value: 0.7320987654320988.\n",
      "[I 2025-02-25 17:11:55,212] Trial 38 finished with value: 0.5283950617283951 and parameters: {'k': 7}. Best is trial 33 with value: 0.7320987654320988.\n",
      "[I 2025-02-25 17:11:55,223] Trial 39 finished with value: 0.5407407407407407 and parameters: {'k': 24}. Best is trial 33 with value: 0.7320987654320988.\n",
      "[I 2025-02-25 17:11:55,235] Trial 40 finished with value: 0.6419753086419753 and parameters: {'k': 37}. Best is trial 33 with value: 0.7320987654320988.\n",
      "[I 2025-02-25 17:11:55,247] Trial 41 finished with value: 0.5209876543209877 and parameters: {'k': 22}. Best is trial 33 with value: 0.7320987654320988.\n",
      "[I 2025-02-25 17:11:55,260] Trial 42 finished with value: 0.5209876543209877 and parameters: {'k': 20}. Best is trial 33 with value: 0.7320987654320988.\n",
      "[I 2025-02-25 17:11:55,276] Trial 43 finished with value: 0.6135802469135803 and parameters: {'k': 10}. Best is trial 33 with value: 0.7320987654320988.\n",
      "[I 2025-02-25 17:11:55,292] Trial 44 finished with value: 0.6580246913580248 and parameters: {'k': 40}. Best is trial 33 with value: 0.7320987654320988.\n",
      "[I 2025-02-25 17:11:55,305] Trial 45 finished with value: 0.7037037037037038 and parameters: {'k': 47}. Best is trial 33 with value: 0.7320987654320988.\n",
      "[I 2025-02-25 17:11:55,318] Trial 46 finished with value: 0.5160493827160494 and parameters: {'k': 4}. Best is trial 33 with value: 0.7320987654320988.\n",
      "[I 2025-02-25 17:11:55,335] Trial 47 finished with value: 0.4629629629629629 and parameters: {'k': 1}. Best is trial 33 with value: 0.7320987654320988.\n",
      "[I 2025-02-25 17:11:55,352] Trial 48 finished with value: 0.7135802469135802 and parameters: {'k': 48}. Best is trial 33 with value: 0.7320987654320988.\n",
      "[I 2025-02-25 17:11:55,365] Trial 49 finished with value: 0.6679012345679012 and parameters: {'k': 45}. Best is trial 33 with value: 0.7320987654320988.\n"
     ]
    }
   ],
   "source": [
    "# Store test accuracies for each model\n",
    "test_accuracies_dict = {} # Initialize an empty dictionary to store test accuracies\n",
    "\n",
    "# Iterate through each model's features\n",
    "for model_name, values in data.items(): # Loop through each model and its corresponding features\n",
    "    # Skip MedImageInsightExtractor\n",
    "    if model_name == \"MedImageInsightExtractor\": # Skip the MedImageInsightExtractor model\n",
    "        continue\n",
    "\n",
    "    # Extract paths and labels for train, val, and test sets\n",
    "    train_labels = [v[\"row\"][\"survival\"] for v in values[\"train\"]] # Extract survival labels for the training set\n",
    "    val_labels = [v[\"row\"][\"survival\"] for v in values[\"val\"]] # Extract survival labels for the validation set\n",
    "    test_labels = [v[\"row\"][\"survival\"] for v in values[\"test\"]] # Extract survival labels for the test set\n",
    "    \n",
    "    # Stack features\n",
    "    train_items = np.vstack([v[\"feature\"] for v in values[\"train\"]]) # Stack features for the training set\n",
    "    val_items = np.vstack([v[\"feature\"] for v in values[\"val\"]]) # Stack features for the validation set\n",
    "    test_items = np.vstack([v[\"feature\"] for v in values[\"test\"]]) # Stack features for the test set\n",
    "\n",
    "\n",
    "    all_items = np.vstack([train_items, val_items, test_items]) # Stack features for all sets\n",
    "    all_labels = train_labels + val_labels + test_labels # Combine labels for all sets\n",
    "\n",
    "    # Average across multiple shuffle splits\n",
    "    n_splits = 5\n",
    "    split_scores = []\n",
    "    \n",
    "    for split in range(n_splits):\n",
    "        # Get stratified indices for new train/val split with different random seeds\n",
    "        train_items, train_labels, val_items, val_labels, test_items, test_labels = split_shuffle_data(\n",
    "            all_items, all_labels, train_ratio=0.5, val_ratio=0.1, random_seed=10+split\n",
    "        )\n",
    "\n",
    "        # Train model with hyperparameter optimization\n",
    "        best_model, study = train_knn_classifier(train_items, train_labels, val_items, val_labels)\n",
    "        \n",
    "        # Get score for this split\n",
    "        split_score = evaluate_model(best_model, test_items, test_labels)\n",
    "        split_scores.append(split_score)\n",
    "    \n",
    "    # Average the scores across splits\n",
    "    avg_score = np.mean(split_scores)\n",
    "    \n",
    "    # Evaluate on test set\n",
    "    test_accuracies_dict[model_name] = avg_score"
   ]
  },
  {
   "cell_type": "code",
   "execution_count": 7,
   "metadata": {},
   "outputs": [
    {
     "data": {
      "application/vnd.plotly.v1+json": {
       "config": {
        "plotlyServerURL": "https://plot.ly"
       },
       "data": [
        {
         "alignmentgroup": "True",
         "hovertemplate": "Model=%{x}<br>Accuracy=%{y}<extra></extra>",
         "legendgroup": "",
         "marker": {
          "color": "#ADD8E6",
          "opacity": 0.8,
          "pattern": {
           "shape": ""
          }
         },
         "name": "",
         "offsetgroup": "",
         "orientation": "v",
         "showlegend": false,
         "textposition": "auto",
         "texttemplate": "%{y:.2f}",
         "type": "bar",
         "x": [
          "FMCIBExtractor",
          "CTFMExtractor",
          "PyramidExtractorVar",
          "PyramidExtractorNoVar",
          "VISTA3DExtractor",
          "VocoExtractor",
          "SUPREMExtractor",
          "MerlinExtractor",
          "ModelsGenExtractor"
         ],
         "xaxis": "x",
         "y": [
          0.6045509128257256,
          0.5528357306837732,
          0.5883985522775946,
          0.5746825891053587,
          0.6027427887191796,
          0.5211765047270397,
          0.5388631123318157,
          0.6010506161704348,
          0.5741318101993722
         ],
         "yaxis": "y"
        }
       ],
       "layout": {
        "barmode": "relative",
        "font": {
         "family": "Arial",
         "size": 12
        },
        "height": 400,
        "legend": {
         "tracegroupgap": 0
        },
        "margin": {
         "b": 20,
         "l": 20,
         "r": 20,
         "t": 40
        },
        "showlegend": false,
        "template": {
         "data": {
          "bar": [
           {
            "error_x": {
             "color": "rgb(36,36,36)"
            },
            "error_y": {
             "color": "rgb(36,36,36)"
            },
            "marker": {
             "line": {
              "color": "white",
              "width": 0.5
             },
             "pattern": {
              "fillmode": "overlay",
              "size": 10,
              "solidity": 0.2
             }
            },
            "type": "bar"
           }
          ],
          "barpolar": [
           {
            "marker": {
             "line": {
              "color": "white",
              "width": 0.5
             },
             "pattern": {
              "fillmode": "overlay",
              "size": 10,
              "solidity": 0.2
             }
            },
            "type": "barpolar"
           }
          ],
          "carpet": [
           {
            "aaxis": {
             "endlinecolor": "rgb(36,36,36)",
             "gridcolor": "white",
             "linecolor": "white",
             "minorgridcolor": "white",
             "startlinecolor": "rgb(36,36,36)"
            },
            "baxis": {
             "endlinecolor": "rgb(36,36,36)",
             "gridcolor": "white",
             "linecolor": "white",
             "minorgridcolor": "white",
             "startlinecolor": "rgb(36,36,36)"
            },
            "type": "carpet"
           }
          ],
          "choropleth": [
           {
            "colorbar": {
             "outlinewidth": 1,
             "tickcolor": "rgb(36,36,36)",
             "ticks": "outside"
            },
            "type": "choropleth"
           }
          ],
          "contour": [
           {
            "colorbar": {
             "outlinewidth": 1,
             "tickcolor": "rgb(36,36,36)",
             "ticks": "outside"
            },
            "colorscale": [
             [
              0,
              "#440154"
             ],
             [
              0.1111111111111111,
              "#482878"
             ],
             [
              0.2222222222222222,
              "#3e4989"
             ],
             [
              0.3333333333333333,
              "#31688e"
             ],
             [
              0.4444444444444444,
              "#26828e"
             ],
             [
              0.5555555555555556,
              "#1f9e89"
             ],
             [
              0.6666666666666666,
              "#35b779"
             ],
             [
              0.7777777777777778,
              "#6ece58"
             ],
             [
              0.8888888888888888,
              "#b5de2b"
             ],
             [
              1,
              "#fde725"
             ]
            ],
            "type": "contour"
           }
          ],
          "contourcarpet": [
           {
            "colorbar": {
             "outlinewidth": 1,
             "tickcolor": "rgb(36,36,36)",
             "ticks": "outside"
            },
            "type": "contourcarpet"
           }
          ],
          "heatmap": [
           {
            "colorbar": {
             "outlinewidth": 1,
             "tickcolor": "rgb(36,36,36)",
             "ticks": "outside"
            },
            "colorscale": [
             [
              0,
              "#440154"
             ],
             [
              0.1111111111111111,
              "#482878"
             ],
             [
              0.2222222222222222,
              "#3e4989"
             ],
             [
              0.3333333333333333,
              "#31688e"
             ],
             [
              0.4444444444444444,
              "#26828e"
             ],
             [
              0.5555555555555556,
              "#1f9e89"
             ],
             [
              0.6666666666666666,
              "#35b779"
             ],
             [
              0.7777777777777778,
              "#6ece58"
             ],
             [
              0.8888888888888888,
              "#b5de2b"
             ],
             [
              1,
              "#fde725"
             ]
            ],
            "type": "heatmap"
           }
          ],
          "heatmapgl": [
           {
            "colorbar": {
             "outlinewidth": 1,
             "tickcolor": "rgb(36,36,36)",
             "ticks": "outside"
            },
            "colorscale": [
             [
              0,
              "#440154"
             ],
             [
              0.1111111111111111,
              "#482878"
             ],
             [
              0.2222222222222222,
              "#3e4989"
             ],
             [
              0.3333333333333333,
              "#31688e"
             ],
             [
              0.4444444444444444,
              "#26828e"
             ],
             [
              0.5555555555555556,
              "#1f9e89"
             ],
             [
              0.6666666666666666,
              "#35b779"
             ],
             [
              0.7777777777777778,
              "#6ece58"
             ],
             [
              0.8888888888888888,
              "#b5de2b"
             ],
             [
              1,
              "#fde725"
             ]
            ],
            "type": "heatmapgl"
           }
          ],
          "histogram": [
           {
            "marker": {
             "line": {
              "color": "white",
              "width": 0.6
             }
            },
            "type": "histogram"
           }
          ],
          "histogram2d": [
           {
            "colorbar": {
             "outlinewidth": 1,
             "tickcolor": "rgb(36,36,36)",
             "ticks": "outside"
            },
            "colorscale": [
             [
              0,
              "#440154"
             ],
             [
              0.1111111111111111,
              "#482878"
             ],
             [
              0.2222222222222222,
              "#3e4989"
             ],
             [
              0.3333333333333333,
              "#31688e"
             ],
             [
              0.4444444444444444,
              "#26828e"
             ],
             [
              0.5555555555555556,
              "#1f9e89"
             ],
             [
              0.6666666666666666,
              "#35b779"
             ],
             [
              0.7777777777777778,
              "#6ece58"
             ],
             [
              0.8888888888888888,
              "#b5de2b"
             ],
             [
              1,
              "#fde725"
             ]
            ],
            "type": "histogram2d"
           }
          ],
          "histogram2dcontour": [
           {
            "colorbar": {
             "outlinewidth": 1,
             "tickcolor": "rgb(36,36,36)",
             "ticks": "outside"
            },
            "colorscale": [
             [
              0,
              "#440154"
             ],
             [
              0.1111111111111111,
              "#482878"
             ],
             [
              0.2222222222222222,
              "#3e4989"
             ],
             [
              0.3333333333333333,
              "#31688e"
             ],
             [
              0.4444444444444444,
              "#26828e"
             ],
             [
              0.5555555555555556,
              "#1f9e89"
             ],
             [
              0.6666666666666666,
              "#35b779"
             ],
             [
              0.7777777777777778,
              "#6ece58"
             ],
             [
              0.8888888888888888,
              "#b5de2b"
             ],
             [
              1,
              "#fde725"
             ]
            ],
            "type": "histogram2dcontour"
           }
          ],
          "mesh3d": [
           {
            "colorbar": {
             "outlinewidth": 1,
             "tickcolor": "rgb(36,36,36)",
             "ticks": "outside"
            },
            "type": "mesh3d"
           }
          ],
          "parcoords": [
           {
            "line": {
             "colorbar": {
              "outlinewidth": 1,
              "tickcolor": "rgb(36,36,36)",
              "ticks": "outside"
             }
            },
            "type": "parcoords"
           }
          ],
          "pie": [
           {
            "automargin": true,
            "type": "pie"
           }
          ],
          "scatter": [
           {
            "fillpattern": {
             "fillmode": "overlay",
             "size": 10,
             "solidity": 0.2
            },
            "type": "scatter"
           }
          ],
          "scatter3d": [
           {
            "line": {
             "colorbar": {
              "outlinewidth": 1,
              "tickcolor": "rgb(36,36,36)",
              "ticks": "outside"
             }
            },
            "marker": {
             "colorbar": {
              "outlinewidth": 1,
              "tickcolor": "rgb(36,36,36)",
              "ticks": "outside"
             }
            },
            "type": "scatter3d"
           }
          ],
          "scattercarpet": [
           {
            "marker": {
             "colorbar": {
              "outlinewidth": 1,
              "tickcolor": "rgb(36,36,36)",
              "ticks": "outside"
             }
            },
            "type": "scattercarpet"
           }
          ],
          "scattergeo": [
           {
            "marker": {
             "colorbar": {
              "outlinewidth": 1,
              "tickcolor": "rgb(36,36,36)",
              "ticks": "outside"
             }
            },
            "type": "scattergeo"
           }
          ],
          "scattergl": [
           {
            "marker": {
             "colorbar": {
              "outlinewidth": 1,
              "tickcolor": "rgb(36,36,36)",
              "ticks": "outside"
             }
            },
            "type": "scattergl"
           }
          ],
          "scattermapbox": [
           {
            "marker": {
             "colorbar": {
              "outlinewidth": 1,
              "tickcolor": "rgb(36,36,36)",
              "ticks": "outside"
             }
            },
            "type": "scattermapbox"
           }
          ],
          "scatterpolar": [
           {
            "marker": {
             "colorbar": {
              "outlinewidth": 1,
              "tickcolor": "rgb(36,36,36)",
              "ticks": "outside"
             }
            },
            "type": "scatterpolar"
           }
          ],
          "scatterpolargl": [
           {
            "marker": {
             "colorbar": {
              "outlinewidth": 1,
              "tickcolor": "rgb(36,36,36)",
              "ticks": "outside"
             }
            },
            "type": "scatterpolargl"
           }
          ],
          "scatterternary": [
           {
            "marker": {
             "colorbar": {
              "outlinewidth": 1,
              "tickcolor": "rgb(36,36,36)",
              "ticks": "outside"
             }
            },
            "type": "scatterternary"
           }
          ],
          "surface": [
           {
            "colorbar": {
             "outlinewidth": 1,
             "tickcolor": "rgb(36,36,36)",
             "ticks": "outside"
            },
            "colorscale": [
             [
              0,
              "#440154"
             ],
             [
              0.1111111111111111,
              "#482878"
             ],
             [
              0.2222222222222222,
              "#3e4989"
             ],
             [
              0.3333333333333333,
              "#31688e"
             ],
             [
              0.4444444444444444,
              "#26828e"
             ],
             [
              0.5555555555555556,
              "#1f9e89"
             ],
             [
              0.6666666666666666,
              "#35b779"
             ],
             [
              0.7777777777777778,
              "#6ece58"
             ],
             [
              0.8888888888888888,
              "#b5de2b"
             ],
             [
              1,
              "#fde725"
             ]
            ],
            "type": "surface"
           }
          ],
          "table": [
           {
            "cells": {
             "fill": {
              "color": "rgb(237,237,237)"
             },
             "line": {
              "color": "white"
             }
            },
            "header": {
             "fill": {
              "color": "rgb(217,217,217)"
             },
             "line": {
              "color": "white"
             }
            },
            "type": "table"
           }
          ]
         },
         "layout": {
          "annotationdefaults": {
           "arrowhead": 0,
           "arrowwidth": 1
          },
          "autotypenumbers": "strict",
          "coloraxis": {
           "colorbar": {
            "outlinewidth": 1,
            "tickcolor": "rgb(36,36,36)",
            "ticks": "outside"
           }
          },
          "colorscale": {
           "diverging": [
            [
             0,
             "rgb(103,0,31)"
            ],
            [
             0.1,
             "rgb(178,24,43)"
            ],
            [
             0.2,
             "rgb(214,96,77)"
            ],
            [
             0.3,
             "rgb(244,165,130)"
            ],
            [
             0.4,
             "rgb(253,219,199)"
            ],
            [
             0.5,
             "rgb(247,247,247)"
            ],
            [
             0.6,
             "rgb(209,229,240)"
            ],
            [
             0.7,
             "rgb(146,197,222)"
            ],
            [
             0.8,
             "rgb(67,147,195)"
            ],
            [
             0.9,
             "rgb(33,102,172)"
            ],
            [
             1,
             "rgb(5,48,97)"
            ]
           ],
           "sequential": [
            [
             0,
             "#440154"
            ],
            [
             0.1111111111111111,
             "#482878"
            ],
            [
             0.2222222222222222,
             "#3e4989"
            ],
            [
             0.3333333333333333,
             "#31688e"
            ],
            [
             0.4444444444444444,
             "#26828e"
            ],
            [
             0.5555555555555556,
             "#1f9e89"
            ],
            [
             0.6666666666666666,
             "#35b779"
            ],
            [
             0.7777777777777778,
             "#6ece58"
            ],
            [
             0.8888888888888888,
             "#b5de2b"
            ],
            [
             1,
             "#fde725"
            ]
           ],
           "sequentialminus": [
            [
             0,
             "#440154"
            ],
            [
             0.1111111111111111,
             "#482878"
            ],
            [
             0.2222222222222222,
             "#3e4989"
            ],
            [
             0.3333333333333333,
             "#31688e"
            ],
            [
             0.4444444444444444,
             "#26828e"
            ],
            [
             0.5555555555555556,
             "#1f9e89"
            ],
            [
             0.6666666666666666,
             "#35b779"
            ],
            [
             0.7777777777777778,
             "#6ece58"
            ],
            [
             0.8888888888888888,
             "#b5de2b"
            ],
            [
             1,
             "#fde725"
            ]
           ]
          },
          "colorway": [
           "#1F77B4",
           "#FF7F0E",
           "#2CA02C",
           "#D62728",
           "#9467BD",
           "#8C564B",
           "#E377C2",
           "#7F7F7F",
           "#BCBD22",
           "#17BECF"
          ],
          "font": {
           "color": "rgb(36,36,36)"
          },
          "geo": {
           "bgcolor": "white",
           "lakecolor": "white",
           "landcolor": "white",
           "showlakes": true,
           "showland": true,
           "subunitcolor": "white"
          },
          "hoverlabel": {
           "align": "left"
          },
          "hovermode": "closest",
          "mapbox": {
           "style": "light"
          },
          "paper_bgcolor": "white",
          "plot_bgcolor": "white",
          "polar": {
           "angularaxis": {
            "gridcolor": "rgb(232,232,232)",
            "linecolor": "rgb(36,36,36)",
            "showgrid": false,
            "showline": true,
            "ticks": "outside"
           },
           "bgcolor": "white",
           "radialaxis": {
            "gridcolor": "rgb(232,232,232)",
            "linecolor": "rgb(36,36,36)",
            "showgrid": false,
            "showline": true,
            "ticks": "outside"
           }
          },
          "scene": {
           "xaxis": {
            "backgroundcolor": "white",
            "gridcolor": "rgb(232,232,232)",
            "gridwidth": 2,
            "linecolor": "rgb(36,36,36)",
            "showbackground": true,
            "showgrid": false,
            "showline": true,
            "ticks": "outside",
            "zeroline": false,
            "zerolinecolor": "rgb(36,36,36)"
           },
           "yaxis": {
            "backgroundcolor": "white",
            "gridcolor": "rgb(232,232,232)",
            "gridwidth": 2,
            "linecolor": "rgb(36,36,36)",
            "showbackground": true,
            "showgrid": false,
            "showline": true,
            "ticks": "outside",
            "zeroline": false,
            "zerolinecolor": "rgb(36,36,36)"
           },
           "zaxis": {
            "backgroundcolor": "white",
            "gridcolor": "rgb(232,232,232)",
            "gridwidth": 2,
            "linecolor": "rgb(36,36,36)",
            "showbackground": true,
            "showgrid": false,
            "showline": true,
            "ticks": "outside",
            "zeroline": false,
            "zerolinecolor": "rgb(36,36,36)"
           }
          },
          "shapedefaults": {
           "fillcolor": "black",
           "line": {
            "width": 0
           },
           "opacity": 0.3
          },
          "ternary": {
           "aaxis": {
            "gridcolor": "rgb(232,232,232)",
            "linecolor": "rgb(36,36,36)",
            "showgrid": false,
            "showline": true,
            "ticks": "outside"
           },
           "baxis": {
            "gridcolor": "rgb(232,232,232)",
            "linecolor": "rgb(36,36,36)",
            "showgrid": false,
            "showline": true,
            "ticks": "outside"
           },
           "bgcolor": "white",
           "caxis": {
            "gridcolor": "rgb(232,232,232)",
            "linecolor": "rgb(36,36,36)",
            "showgrid": false,
            "showline": true,
            "ticks": "outside"
           }
          },
          "title": {
           "x": 0.05
          },
          "xaxis": {
           "automargin": true,
           "gridcolor": "rgb(232,232,232)",
           "linecolor": "rgb(36,36,36)",
           "showgrid": false,
           "showline": true,
           "ticks": "outside",
           "title": {
            "standoff": 15
           },
           "zeroline": false,
           "zerolinecolor": "rgb(36,36,36)"
          },
          "yaxis": {
           "automargin": true,
           "gridcolor": "rgb(232,232,232)",
           "linecolor": "rgb(36,36,36)",
           "showgrid": false,
           "showline": true,
           "ticks": "outside",
           "title": {
            "standoff": 15
           },
           "zeroline": false,
           "zerolinecolor": "rgb(36,36,36)"
          }
         }
        },
        "title": {
         "text": "Test AUC Comparison",
         "x": 0.5,
         "xanchor": "center"
        },
        "width": 500,
        "xaxis": {
         "anchor": "y",
         "domain": [
          0,
          1
         ],
         "showgrid": false,
         "showline": false,
         "tickfont": {
          "size": 12
         },
         "title": {
          "text": "Model"
         }
        },
        "yaxis": {
         "anchor": "x",
         "domain": [
          0,
          1
         ],
         "gridcolor": "lightgrey",
         "showgrid": true,
         "tickfont": {
          "size": 12
         },
         "title": {
          "text": "Accuracy"
         }
        }
       }
      },
      "text/html": [
       "<div>                            <div id=\"e2e4db67-c098-43af-b34f-f14c4871a2e4\" class=\"plotly-graph-div\" style=\"height:400px; width:500px;\"></div>            <script type=\"text/javascript\">                require([\"plotly\"], function(Plotly) {                    window.PLOTLYENV=window.PLOTLYENV || {};                                    if (document.getElementById(\"e2e4db67-c098-43af-b34f-f14c4871a2e4\")) {                    Plotly.newPlot(                        \"e2e4db67-c098-43af-b34f-f14c4871a2e4\",                        [{\"alignmentgroup\":\"True\",\"hovertemplate\":\"Model=%{x}\\u003cbr\\u003eAccuracy=%{y}\\u003cextra\\u003e\\u003c\\u002fextra\\u003e\",\"legendgroup\":\"\",\"marker\":{\"color\":\"#ADD8E6\",\"pattern\":{\"shape\":\"\"},\"opacity\":0.8},\"name\":\"\",\"offsetgroup\":\"\",\"orientation\":\"v\",\"showlegend\":false,\"textposition\":\"auto\",\"x\":[\"FMCIBExtractor\",\"CTFMExtractor\",\"PyramidExtractorVar\",\"PyramidExtractorNoVar\",\"VISTA3DExtractor\",\"VocoExtractor\",\"SUPREMExtractor\",\"MerlinExtractor\",\"ModelsGenExtractor\"],\"xaxis\":\"x\",\"y\":[0.6045509128257256,0.5528357306837732,0.5883985522775946,0.5746825891053587,0.6027427887191796,0.5211765047270397,0.5388631123318157,0.6010506161704348,0.5741318101993722],\"yaxis\":\"y\",\"type\":\"bar\",\"texttemplate\":\"%{y:.2f}\"}],                        {\"template\":{\"data\":{\"barpolar\":[{\"marker\":{\"line\":{\"color\":\"white\",\"width\":0.5},\"pattern\":{\"fillmode\":\"overlay\",\"size\":10,\"solidity\":0.2}},\"type\":\"barpolar\"}],\"bar\":[{\"error_x\":{\"color\":\"rgb(36,36,36)\"},\"error_y\":{\"color\":\"rgb(36,36,36)\"},\"marker\":{\"line\":{\"color\":\"white\",\"width\":0.5},\"pattern\":{\"fillmode\":\"overlay\",\"size\":10,\"solidity\":0.2}},\"type\":\"bar\"}],\"carpet\":[{\"aaxis\":{\"endlinecolor\":\"rgb(36,36,36)\",\"gridcolor\":\"white\",\"linecolor\":\"white\",\"minorgridcolor\":\"white\",\"startlinecolor\":\"rgb(36,36,36)\"},\"baxis\":{\"endlinecolor\":\"rgb(36,36,36)\",\"gridcolor\":\"white\",\"linecolor\":\"white\",\"minorgridcolor\":\"white\",\"startlinecolor\":\"rgb(36,36,36)\"},\"type\":\"carpet\"}],\"choropleth\":[{\"colorbar\":{\"outlinewidth\":1,\"tickcolor\":\"rgb(36,36,36)\",\"ticks\":\"outside\"},\"type\":\"choropleth\"}],\"contourcarpet\":[{\"colorbar\":{\"outlinewidth\":1,\"tickcolor\":\"rgb(36,36,36)\",\"ticks\":\"outside\"},\"type\":\"contourcarpet\"}],\"contour\":[{\"colorbar\":{\"outlinewidth\":1,\"tickcolor\":\"rgb(36,36,36)\",\"ticks\":\"outside\"},\"colorscale\":[[0.0,\"#440154\"],[0.1111111111111111,\"#482878\"],[0.2222222222222222,\"#3e4989\"],[0.3333333333333333,\"#31688e\"],[0.4444444444444444,\"#26828e\"],[0.5555555555555556,\"#1f9e89\"],[0.6666666666666666,\"#35b779\"],[0.7777777777777778,\"#6ece58\"],[0.8888888888888888,\"#b5de2b\"],[1.0,\"#fde725\"]],\"type\":\"contour\"}],\"heatmapgl\":[{\"colorbar\":{\"outlinewidth\":1,\"tickcolor\":\"rgb(36,36,36)\",\"ticks\":\"outside\"},\"colorscale\":[[0.0,\"#440154\"],[0.1111111111111111,\"#482878\"],[0.2222222222222222,\"#3e4989\"],[0.3333333333333333,\"#31688e\"],[0.4444444444444444,\"#26828e\"],[0.5555555555555556,\"#1f9e89\"],[0.6666666666666666,\"#35b779\"],[0.7777777777777778,\"#6ece58\"],[0.8888888888888888,\"#b5de2b\"],[1.0,\"#fde725\"]],\"type\":\"heatmapgl\"}],\"heatmap\":[{\"colorbar\":{\"outlinewidth\":1,\"tickcolor\":\"rgb(36,36,36)\",\"ticks\":\"outside\"},\"colorscale\":[[0.0,\"#440154\"],[0.1111111111111111,\"#482878\"],[0.2222222222222222,\"#3e4989\"],[0.3333333333333333,\"#31688e\"],[0.4444444444444444,\"#26828e\"],[0.5555555555555556,\"#1f9e89\"],[0.6666666666666666,\"#35b779\"],[0.7777777777777778,\"#6ece58\"],[0.8888888888888888,\"#b5de2b\"],[1.0,\"#fde725\"]],\"type\":\"heatmap\"}],\"histogram2dcontour\":[{\"colorbar\":{\"outlinewidth\":1,\"tickcolor\":\"rgb(36,36,36)\",\"ticks\":\"outside\"},\"colorscale\":[[0.0,\"#440154\"],[0.1111111111111111,\"#482878\"],[0.2222222222222222,\"#3e4989\"],[0.3333333333333333,\"#31688e\"],[0.4444444444444444,\"#26828e\"],[0.5555555555555556,\"#1f9e89\"],[0.6666666666666666,\"#35b779\"],[0.7777777777777778,\"#6ece58\"],[0.8888888888888888,\"#b5de2b\"],[1.0,\"#fde725\"]],\"type\":\"histogram2dcontour\"}],\"histogram2d\":[{\"colorbar\":{\"outlinewidth\":1,\"tickcolor\":\"rgb(36,36,36)\",\"ticks\":\"outside\"},\"colorscale\":[[0.0,\"#440154\"],[0.1111111111111111,\"#482878\"],[0.2222222222222222,\"#3e4989\"],[0.3333333333333333,\"#31688e\"],[0.4444444444444444,\"#26828e\"],[0.5555555555555556,\"#1f9e89\"],[0.6666666666666666,\"#35b779\"],[0.7777777777777778,\"#6ece58\"],[0.8888888888888888,\"#b5de2b\"],[1.0,\"#fde725\"]],\"type\":\"histogram2d\"}],\"histogram\":[{\"marker\":{\"line\":{\"color\":\"white\",\"width\":0.6}},\"type\":\"histogram\"}],\"mesh3d\":[{\"colorbar\":{\"outlinewidth\":1,\"tickcolor\":\"rgb(36,36,36)\",\"ticks\":\"outside\"},\"type\":\"mesh3d\"}],\"parcoords\":[{\"line\":{\"colorbar\":{\"outlinewidth\":1,\"tickcolor\":\"rgb(36,36,36)\",\"ticks\":\"outside\"}},\"type\":\"parcoords\"}],\"pie\":[{\"automargin\":true,\"type\":\"pie\"}],\"scatter3d\":[{\"line\":{\"colorbar\":{\"outlinewidth\":1,\"tickcolor\":\"rgb(36,36,36)\",\"ticks\":\"outside\"}},\"marker\":{\"colorbar\":{\"outlinewidth\":1,\"tickcolor\":\"rgb(36,36,36)\",\"ticks\":\"outside\"}},\"type\":\"scatter3d\"}],\"scattercarpet\":[{\"marker\":{\"colorbar\":{\"outlinewidth\":1,\"tickcolor\":\"rgb(36,36,36)\",\"ticks\":\"outside\"}},\"type\":\"scattercarpet\"}],\"scattergeo\":[{\"marker\":{\"colorbar\":{\"outlinewidth\":1,\"tickcolor\":\"rgb(36,36,36)\",\"ticks\":\"outside\"}},\"type\":\"scattergeo\"}],\"scattergl\":[{\"marker\":{\"colorbar\":{\"outlinewidth\":1,\"tickcolor\":\"rgb(36,36,36)\",\"ticks\":\"outside\"}},\"type\":\"scattergl\"}],\"scattermapbox\":[{\"marker\":{\"colorbar\":{\"outlinewidth\":1,\"tickcolor\":\"rgb(36,36,36)\",\"ticks\":\"outside\"}},\"type\":\"scattermapbox\"}],\"scatterpolargl\":[{\"marker\":{\"colorbar\":{\"outlinewidth\":1,\"tickcolor\":\"rgb(36,36,36)\",\"ticks\":\"outside\"}},\"type\":\"scatterpolargl\"}],\"scatterpolar\":[{\"marker\":{\"colorbar\":{\"outlinewidth\":1,\"tickcolor\":\"rgb(36,36,36)\",\"ticks\":\"outside\"}},\"type\":\"scatterpolar\"}],\"scatter\":[{\"fillpattern\":{\"fillmode\":\"overlay\",\"size\":10,\"solidity\":0.2},\"type\":\"scatter\"}],\"scatterternary\":[{\"marker\":{\"colorbar\":{\"outlinewidth\":1,\"tickcolor\":\"rgb(36,36,36)\",\"ticks\":\"outside\"}},\"type\":\"scatterternary\"}],\"surface\":[{\"colorbar\":{\"outlinewidth\":1,\"tickcolor\":\"rgb(36,36,36)\",\"ticks\":\"outside\"},\"colorscale\":[[0.0,\"#440154\"],[0.1111111111111111,\"#482878\"],[0.2222222222222222,\"#3e4989\"],[0.3333333333333333,\"#31688e\"],[0.4444444444444444,\"#26828e\"],[0.5555555555555556,\"#1f9e89\"],[0.6666666666666666,\"#35b779\"],[0.7777777777777778,\"#6ece58\"],[0.8888888888888888,\"#b5de2b\"],[1.0,\"#fde725\"]],\"type\":\"surface\"}],\"table\":[{\"cells\":{\"fill\":{\"color\":\"rgb(237,237,237)\"},\"line\":{\"color\":\"white\"}},\"header\":{\"fill\":{\"color\":\"rgb(217,217,217)\"},\"line\":{\"color\":\"white\"}},\"type\":\"table\"}]},\"layout\":{\"annotationdefaults\":{\"arrowhead\":0,\"arrowwidth\":1},\"autotypenumbers\":\"strict\",\"coloraxis\":{\"colorbar\":{\"outlinewidth\":1,\"tickcolor\":\"rgb(36,36,36)\",\"ticks\":\"outside\"}},\"colorscale\":{\"diverging\":[[0.0,\"rgb(103,0,31)\"],[0.1,\"rgb(178,24,43)\"],[0.2,\"rgb(214,96,77)\"],[0.3,\"rgb(244,165,130)\"],[0.4,\"rgb(253,219,199)\"],[0.5,\"rgb(247,247,247)\"],[0.6,\"rgb(209,229,240)\"],[0.7,\"rgb(146,197,222)\"],[0.8,\"rgb(67,147,195)\"],[0.9,\"rgb(33,102,172)\"],[1.0,\"rgb(5,48,97)\"]],\"sequential\":[[0.0,\"#440154\"],[0.1111111111111111,\"#482878\"],[0.2222222222222222,\"#3e4989\"],[0.3333333333333333,\"#31688e\"],[0.4444444444444444,\"#26828e\"],[0.5555555555555556,\"#1f9e89\"],[0.6666666666666666,\"#35b779\"],[0.7777777777777778,\"#6ece58\"],[0.8888888888888888,\"#b5de2b\"],[1.0,\"#fde725\"]],\"sequentialminus\":[[0.0,\"#440154\"],[0.1111111111111111,\"#482878\"],[0.2222222222222222,\"#3e4989\"],[0.3333333333333333,\"#31688e\"],[0.4444444444444444,\"#26828e\"],[0.5555555555555556,\"#1f9e89\"],[0.6666666666666666,\"#35b779\"],[0.7777777777777778,\"#6ece58\"],[0.8888888888888888,\"#b5de2b\"],[1.0,\"#fde725\"]]},\"colorway\":[\"#1F77B4\",\"#FF7F0E\",\"#2CA02C\",\"#D62728\",\"#9467BD\",\"#8C564B\",\"#E377C2\",\"#7F7F7F\",\"#BCBD22\",\"#17BECF\"],\"font\":{\"color\":\"rgb(36,36,36)\"},\"geo\":{\"bgcolor\":\"white\",\"lakecolor\":\"white\",\"landcolor\":\"white\",\"showlakes\":true,\"showland\":true,\"subunitcolor\":\"white\"},\"hoverlabel\":{\"align\":\"left\"},\"hovermode\":\"closest\",\"mapbox\":{\"style\":\"light\"},\"paper_bgcolor\":\"white\",\"plot_bgcolor\":\"white\",\"polar\":{\"angularaxis\":{\"gridcolor\":\"rgb(232,232,232)\",\"linecolor\":\"rgb(36,36,36)\",\"showgrid\":false,\"showline\":true,\"ticks\":\"outside\"},\"bgcolor\":\"white\",\"radialaxis\":{\"gridcolor\":\"rgb(232,232,232)\",\"linecolor\":\"rgb(36,36,36)\",\"showgrid\":false,\"showline\":true,\"ticks\":\"outside\"}},\"scene\":{\"xaxis\":{\"backgroundcolor\":\"white\",\"gridcolor\":\"rgb(232,232,232)\",\"gridwidth\":2,\"linecolor\":\"rgb(36,36,36)\",\"showbackground\":true,\"showgrid\":false,\"showline\":true,\"ticks\":\"outside\",\"zeroline\":false,\"zerolinecolor\":\"rgb(36,36,36)\"},\"yaxis\":{\"backgroundcolor\":\"white\",\"gridcolor\":\"rgb(232,232,232)\",\"gridwidth\":2,\"linecolor\":\"rgb(36,36,36)\",\"showbackground\":true,\"showgrid\":false,\"showline\":true,\"ticks\":\"outside\",\"zeroline\":false,\"zerolinecolor\":\"rgb(36,36,36)\"},\"zaxis\":{\"backgroundcolor\":\"white\",\"gridcolor\":\"rgb(232,232,232)\",\"gridwidth\":2,\"linecolor\":\"rgb(36,36,36)\",\"showbackground\":true,\"showgrid\":false,\"showline\":true,\"ticks\":\"outside\",\"zeroline\":false,\"zerolinecolor\":\"rgb(36,36,36)\"}},\"shapedefaults\":{\"fillcolor\":\"black\",\"line\":{\"width\":0},\"opacity\":0.3},\"ternary\":{\"aaxis\":{\"gridcolor\":\"rgb(232,232,232)\",\"linecolor\":\"rgb(36,36,36)\",\"showgrid\":false,\"showline\":true,\"ticks\":\"outside\"},\"baxis\":{\"gridcolor\":\"rgb(232,232,232)\",\"linecolor\":\"rgb(36,36,36)\",\"showgrid\":false,\"showline\":true,\"ticks\":\"outside\"},\"bgcolor\":\"white\",\"caxis\":{\"gridcolor\":\"rgb(232,232,232)\",\"linecolor\":\"rgb(36,36,36)\",\"showgrid\":false,\"showline\":true,\"ticks\":\"outside\"}},\"title\":{\"x\":0.05},\"xaxis\":{\"automargin\":true,\"gridcolor\":\"rgb(232,232,232)\",\"linecolor\":\"rgb(36,36,36)\",\"showgrid\":false,\"showline\":true,\"ticks\":\"outside\",\"title\":{\"standoff\":15},\"zeroline\":false,\"zerolinecolor\":\"rgb(36,36,36)\"},\"yaxis\":{\"automargin\":true,\"gridcolor\":\"rgb(232,232,232)\",\"linecolor\":\"rgb(36,36,36)\",\"showgrid\":false,\"showline\":true,\"ticks\":\"outside\",\"title\":{\"standoff\":15},\"zeroline\":false,\"zerolinecolor\":\"rgb(36,36,36)\"}}},\"xaxis\":{\"anchor\":\"y\",\"domain\":[0.0,1.0],\"title\":{\"text\":\"Model\"},\"tickfont\":{\"size\":12},\"showline\":false,\"showgrid\":false},\"yaxis\":{\"anchor\":\"x\",\"domain\":[0.0,1.0],\"title\":{\"text\":\"Accuracy\"},\"tickfont\":{\"size\":12},\"showgrid\":true,\"gridcolor\":\"lightgrey\"},\"legend\":{\"tracegroupgap\":0},\"title\":{\"text\":\"Test AUC Comparison\",\"x\":0.5,\"xanchor\":\"center\"},\"barmode\":\"relative\",\"height\":400,\"width\":500,\"margin\":{\"l\":20,\"r\":20,\"t\":40,\"b\":20},\"font\":{\"size\":12,\"family\":\"Arial\"},\"showlegend\":false},                        {\"responsive\": true}                    ).then(function(){\n",
       "                            \n",
       "var gd = document.getElementById('e2e4db67-c098-43af-b34f-f14c4871a2e4');\n",
       "var x = new MutationObserver(function (mutations, observer) {{\n",
       "        var display = window.getComputedStyle(gd).display;\n",
       "        if (!display || display === 'none') {{\n",
       "            console.log([gd, 'removed!']);\n",
       "            Plotly.purge(gd);\n",
       "            observer.disconnect();\n",
       "        }}\n",
       "}});\n",
       "\n",
       "// Listen for the removal of the full notebook cells\n",
       "var notebookContainer = gd.closest('#notebook-container');\n",
       "if (notebookContainer) {{\n",
       "    x.observe(notebookContainer, {childList: true});\n",
       "}}\n",
       "\n",
       "// Listen for the clearing of the current output cell\n",
       "var outputEl = gd.closest('.output');\n",
       "if (outputEl) {{\n",
       "    x.observe(outputEl, {childList: true});\n",
       "}}\n",
       "\n",
       "                        })                };                });            </script>        </div>"
      ]
     },
     "metadata": {},
     "output_type": "display_data"
    }
   ],
   "source": [
    "# Plot test accuracies\n",
    "fig = plot_model_comparison(test_accuracies_dict)\n",
    "fig.show() # Show the plot"
   ]
  },
  {
   "cell_type": "code",
   "execution_count": 8,
   "metadata": {},
   "outputs": [
    {
     "data": {
      "application/vnd.plotly.v1+json": {
       "config": {
        "plotlyServerURL": "https://plot.ly"
       },
       "data": [
        {
         "coloraxis": "coloraxis",
         "hovertemplate": "Model: %{x}<br>Model: %{y}<br>Average Overlap: %{z}<extra></extra>",
         "name": "0",
         "type": "heatmap",
         "x": [
          "FMCIBExtractor",
          "CTFMExtractor",
          "PyramidExtractorVar",
          "PyramidExtractorNoVar",
          "VISTA3DExtractor",
          "VocoExtractor",
          "SUPREMExtractor",
          "MerlinExtractor",
          "ModelsGenExtractor"
         ],
         "xaxis": "x",
         "y": [
          "FMCIBExtractor",
          "CTFMExtractor",
          "PyramidExtractorVar",
          "PyramidExtractorNoVar",
          "VISTA3DExtractor",
          "VocoExtractor",
          "SUPREMExtractor",
          "MerlinExtractor",
          "ModelsGenExtractor"
         ],
         "yaxis": "y",
         "z": [
          [
           null,
           1.9144893111638954,
           1.171021377672209,
           1.2826603325415677,
           2.646080760095012,
           0.3159144893111639,
           1.171021377672209,
           1.1425178147268409,
           2.2850356294536818
          ],
          [
           1.9144893111638954,
           null,
           0.5510688836104513,
           0.7102137767220903,
           2.5961995249406176,
           0.3254156769596199,
           1.1258907363420427,
           1.0617577197149644,
           1.9667458432304037
          ],
          [
           1.171021377672209,
           0.5510688836104513,
           null,
           1.3705463182897861,
           0.8717339667458432,
           0.2684085510688836,
           0.5890736342042755,
           0.6318289786223278,
           0.9192399049881235
          ],
          [
           1.2826603325415677,
           0.7102137767220903,
           1.3705463182897861,
           null,
           0.8954869358669834,
           0.27315914489311166,
           0.5083135391923991,
           0.6080760095011877,
           0.9026128266033254
          ],
          [
           2.646080760095012,
           2.5961995249406176,
           0.8717339667458432,
           0.8954869358669834,
           null,
           0.36104513064133015,
           1.510688836104513,
           1.2802850356294537,
           2.705463182897862
          ],
          [
           0.3159144893111639,
           0.3254156769596199,
           0.2684085510688836,
           0.27315914489311166,
           0.36104513064133015,
           null,
           0.24703087885985747,
           0.26365795724465557,
           0.342042755344418
          ],
          [
           1.171021377672209,
           1.1258907363420427,
           0.5890736342042755,
           0.5083135391923991,
           1.510688836104513,
           0.24703087885985747,
           null,
           0.7220902612826603,
           1.3634204275534443
          ],
          [
           1.1425178147268409,
           1.0617577197149644,
           0.6318289786223278,
           0.6080760095011877,
           1.2802850356294537,
           0.26365795724465557,
           0.7220902612826603,
           null,
           1.0308788598574823
          ],
          [
           2.2850356294536818,
           1.9667458432304037,
           0.9192399049881235,
           0.9026128266033254,
           2.705463182897862,
           0.342042755344418,
           1.3634204275534443,
           1.0308788598574823,
           null
          ]
         ]
        }
       ],
       "layout": {
        "coloraxis": {
         "colorbar": {
          "title": {
           "text": "Average Overlap"
          }
         },
         "colorscale": [
          [
           0,
           "rgb(247,251,255)"
          ],
          [
           0.125,
           "rgb(222,235,247)"
          ],
          [
           0.25,
           "rgb(198,219,239)"
          ],
          [
           0.375,
           "rgb(158,202,225)"
          ],
          [
           0.5,
           "rgb(107,174,214)"
          ],
          [
           0.625,
           "rgb(66,146,198)"
          ],
          [
           0.75,
           "rgb(33,113,181)"
          ],
          [
           0.875,
           "rgb(8,81,156)"
          ],
          [
           1,
           "rgb(8,48,107)"
          ]
         ]
        },
        "margin": {
         "t": 60
        },
        "template": {
         "data": {
          "bar": [
           {
            "error_x": {
             "color": "rgb(36,36,36)"
            },
            "error_y": {
             "color": "rgb(36,36,36)"
            },
            "marker": {
             "line": {
              "color": "white",
              "width": 0.5
             },
             "pattern": {
              "fillmode": "overlay",
              "size": 10,
              "solidity": 0.2
             }
            },
            "type": "bar"
           }
          ],
          "barpolar": [
           {
            "marker": {
             "line": {
              "color": "white",
              "width": 0.5
             },
             "pattern": {
              "fillmode": "overlay",
              "size": 10,
              "solidity": 0.2
             }
            },
            "type": "barpolar"
           }
          ],
          "carpet": [
           {
            "aaxis": {
             "endlinecolor": "rgb(36,36,36)",
             "gridcolor": "white",
             "linecolor": "white",
             "minorgridcolor": "white",
             "startlinecolor": "rgb(36,36,36)"
            },
            "baxis": {
             "endlinecolor": "rgb(36,36,36)",
             "gridcolor": "white",
             "linecolor": "white",
             "minorgridcolor": "white",
             "startlinecolor": "rgb(36,36,36)"
            },
            "type": "carpet"
           }
          ],
          "choropleth": [
           {
            "colorbar": {
             "outlinewidth": 1,
             "tickcolor": "rgb(36,36,36)",
             "ticks": "outside"
            },
            "type": "choropleth"
           }
          ],
          "contour": [
           {
            "colorbar": {
             "outlinewidth": 1,
             "tickcolor": "rgb(36,36,36)",
             "ticks": "outside"
            },
            "colorscale": [
             [
              0,
              "#440154"
             ],
             [
              0.1111111111111111,
              "#482878"
             ],
             [
              0.2222222222222222,
              "#3e4989"
             ],
             [
              0.3333333333333333,
              "#31688e"
             ],
             [
              0.4444444444444444,
              "#26828e"
             ],
             [
              0.5555555555555556,
              "#1f9e89"
             ],
             [
              0.6666666666666666,
              "#35b779"
             ],
             [
              0.7777777777777778,
              "#6ece58"
             ],
             [
              0.8888888888888888,
              "#b5de2b"
             ],
             [
              1,
              "#fde725"
             ]
            ],
            "type": "contour"
           }
          ],
          "contourcarpet": [
           {
            "colorbar": {
             "outlinewidth": 1,
             "tickcolor": "rgb(36,36,36)",
             "ticks": "outside"
            },
            "type": "contourcarpet"
           }
          ],
          "heatmap": [
           {
            "colorbar": {
             "outlinewidth": 1,
             "tickcolor": "rgb(36,36,36)",
             "ticks": "outside"
            },
            "colorscale": [
             [
              0,
              "#440154"
             ],
             [
              0.1111111111111111,
              "#482878"
             ],
             [
              0.2222222222222222,
              "#3e4989"
             ],
             [
              0.3333333333333333,
              "#31688e"
             ],
             [
              0.4444444444444444,
              "#26828e"
             ],
             [
              0.5555555555555556,
              "#1f9e89"
             ],
             [
              0.6666666666666666,
              "#35b779"
             ],
             [
              0.7777777777777778,
              "#6ece58"
             ],
             [
              0.8888888888888888,
              "#b5de2b"
             ],
             [
              1,
              "#fde725"
             ]
            ],
            "type": "heatmap"
           }
          ],
          "heatmapgl": [
           {
            "colorbar": {
             "outlinewidth": 1,
             "tickcolor": "rgb(36,36,36)",
             "ticks": "outside"
            },
            "colorscale": [
             [
              0,
              "#440154"
             ],
             [
              0.1111111111111111,
              "#482878"
             ],
             [
              0.2222222222222222,
              "#3e4989"
             ],
             [
              0.3333333333333333,
              "#31688e"
             ],
             [
              0.4444444444444444,
              "#26828e"
             ],
             [
              0.5555555555555556,
              "#1f9e89"
             ],
             [
              0.6666666666666666,
              "#35b779"
             ],
             [
              0.7777777777777778,
              "#6ece58"
             ],
             [
              0.8888888888888888,
              "#b5de2b"
             ],
             [
              1,
              "#fde725"
             ]
            ],
            "type": "heatmapgl"
           }
          ],
          "histogram": [
           {
            "marker": {
             "line": {
              "color": "white",
              "width": 0.6
             }
            },
            "type": "histogram"
           }
          ],
          "histogram2d": [
           {
            "colorbar": {
             "outlinewidth": 1,
             "tickcolor": "rgb(36,36,36)",
             "ticks": "outside"
            },
            "colorscale": [
             [
              0,
              "#440154"
             ],
             [
              0.1111111111111111,
              "#482878"
             ],
             [
              0.2222222222222222,
              "#3e4989"
             ],
             [
              0.3333333333333333,
              "#31688e"
             ],
             [
              0.4444444444444444,
              "#26828e"
             ],
             [
              0.5555555555555556,
              "#1f9e89"
             ],
             [
              0.6666666666666666,
              "#35b779"
             ],
             [
              0.7777777777777778,
              "#6ece58"
             ],
             [
              0.8888888888888888,
              "#b5de2b"
             ],
             [
              1,
              "#fde725"
             ]
            ],
            "type": "histogram2d"
           }
          ],
          "histogram2dcontour": [
           {
            "colorbar": {
             "outlinewidth": 1,
             "tickcolor": "rgb(36,36,36)",
             "ticks": "outside"
            },
            "colorscale": [
             [
              0,
              "#440154"
             ],
             [
              0.1111111111111111,
              "#482878"
             ],
             [
              0.2222222222222222,
              "#3e4989"
             ],
             [
              0.3333333333333333,
              "#31688e"
             ],
             [
              0.4444444444444444,
              "#26828e"
             ],
             [
              0.5555555555555556,
              "#1f9e89"
             ],
             [
              0.6666666666666666,
              "#35b779"
             ],
             [
              0.7777777777777778,
              "#6ece58"
             ],
             [
              0.8888888888888888,
              "#b5de2b"
             ],
             [
              1,
              "#fde725"
             ]
            ],
            "type": "histogram2dcontour"
           }
          ],
          "mesh3d": [
           {
            "colorbar": {
             "outlinewidth": 1,
             "tickcolor": "rgb(36,36,36)",
             "ticks": "outside"
            },
            "type": "mesh3d"
           }
          ],
          "parcoords": [
           {
            "line": {
             "colorbar": {
              "outlinewidth": 1,
              "tickcolor": "rgb(36,36,36)",
              "ticks": "outside"
             }
            },
            "type": "parcoords"
           }
          ],
          "pie": [
           {
            "automargin": true,
            "type": "pie"
           }
          ],
          "scatter": [
           {
            "fillpattern": {
             "fillmode": "overlay",
             "size": 10,
             "solidity": 0.2
            },
            "type": "scatter"
           }
          ],
          "scatter3d": [
           {
            "line": {
             "colorbar": {
              "outlinewidth": 1,
              "tickcolor": "rgb(36,36,36)",
              "ticks": "outside"
             }
            },
            "marker": {
             "colorbar": {
              "outlinewidth": 1,
              "tickcolor": "rgb(36,36,36)",
              "ticks": "outside"
             }
            },
            "type": "scatter3d"
           }
          ],
          "scattercarpet": [
           {
            "marker": {
             "colorbar": {
              "outlinewidth": 1,
              "tickcolor": "rgb(36,36,36)",
              "ticks": "outside"
             }
            },
            "type": "scattercarpet"
           }
          ],
          "scattergeo": [
           {
            "marker": {
             "colorbar": {
              "outlinewidth": 1,
              "tickcolor": "rgb(36,36,36)",
              "ticks": "outside"
             }
            },
            "type": "scattergeo"
           }
          ],
          "scattergl": [
           {
            "marker": {
             "colorbar": {
              "outlinewidth": 1,
              "tickcolor": "rgb(36,36,36)",
              "ticks": "outside"
             }
            },
            "type": "scattergl"
           }
          ],
          "scattermapbox": [
           {
            "marker": {
             "colorbar": {
              "outlinewidth": 1,
              "tickcolor": "rgb(36,36,36)",
              "ticks": "outside"
             }
            },
            "type": "scattermapbox"
           }
          ],
          "scatterpolar": [
           {
            "marker": {
             "colorbar": {
              "outlinewidth": 1,
              "tickcolor": "rgb(36,36,36)",
              "ticks": "outside"
             }
            },
            "type": "scatterpolar"
           }
          ],
          "scatterpolargl": [
           {
            "marker": {
             "colorbar": {
              "outlinewidth": 1,
              "tickcolor": "rgb(36,36,36)",
              "ticks": "outside"
             }
            },
            "type": "scatterpolargl"
           }
          ],
          "scatterternary": [
           {
            "marker": {
             "colorbar": {
              "outlinewidth": 1,
              "tickcolor": "rgb(36,36,36)",
              "ticks": "outside"
             }
            },
            "type": "scatterternary"
           }
          ],
          "surface": [
           {
            "colorbar": {
             "outlinewidth": 1,
             "tickcolor": "rgb(36,36,36)",
             "ticks": "outside"
            },
            "colorscale": [
             [
              0,
              "#440154"
             ],
             [
              0.1111111111111111,
              "#482878"
             ],
             [
              0.2222222222222222,
              "#3e4989"
             ],
             [
              0.3333333333333333,
              "#31688e"
             ],
             [
              0.4444444444444444,
              "#26828e"
             ],
             [
              0.5555555555555556,
              "#1f9e89"
             ],
             [
              0.6666666666666666,
              "#35b779"
             ],
             [
              0.7777777777777778,
              "#6ece58"
             ],
             [
              0.8888888888888888,
              "#b5de2b"
             ],
             [
              1,
              "#fde725"
             ]
            ],
            "type": "surface"
           }
          ],
          "table": [
           {
            "cells": {
             "fill": {
              "color": "rgb(237,237,237)"
             },
             "line": {
              "color": "white"
             }
            },
            "header": {
             "fill": {
              "color": "rgb(217,217,217)"
             },
             "line": {
              "color": "white"
             }
            },
            "type": "table"
           }
          ]
         },
         "layout": {
          "annotationdefaults": {
           "arrowhead": 0,
           "arrowwidth": 1
          },
          "autotypenumbers": "strict",
          "coloraxis": {
           "colorbar": {
            "outlinewidth": 1,
            "tickcolor": "rgb(36,36,36)",
            "ticks": "outside"
           }
          },
          "colorscale": {
           "diverging": [
            [
             0,
             "rgb(103,0,31)"
            ],
            [
             0.1,
             "rgb(178,24,43)"
            ],
            [
             0.2,
             "rgb(214,96,77)"
            ],
            [
             0.3,
             "rgb(244,165,130)"
            ],
            [
             0.4,
             "rgb(253,219,199)"
            ],
            [
             0.5,
             "rgb(247,247,247)"
            ],
            [
             0.6,
             "rgb(209,229,240)"
            ],
            [
             0.7,
             "rgb(146,197,222)"
            ],
            [
             0.8,
             "rgb(67,147,195)"
            ],
            [
             0.9,
             "rgb(33,102,172)"
            ],
            [
             1,
             "rgb(5,48,97)"
            ]
           ],
           "sequential": [
            [
             0,
             "#440154"
            ],
            [
             0.1111111111111111,
             "#482878"
            ],
            [
             0.2222222222222222,
             "#3e4989"
            ],
            [
             0.3333333333333333,
             "#31688e"
            ],
            [
             0.4444444444444444,
             "#26828e"
            ],
            [
             0.5555555555555556,
             "#1f9e89"
            ],
            [
             0.6666666666666666,
             "#35b779"
            ],
            [
             0.7777777777777778,
             "#6ece58"
            ],
            [
             0.8888888888888888,
             "#b5de2b"
            ],
            [
             1,
             "#fde725"
            ]
           ],
           "sequentialminus": [
            [
             0,
             "#440154"
            ],
            [
             0.1111111111111111,
             "#482878"
            ],
            [
             0.2222222222222222,
             "#3e4989"
            ],
            [
             0.3333333333333333,
             "#31688e"
            ],
            [
             0.4444444444444444,
             "#26828e"
            ],
            [
             0.5555555555555556,
             "#1f9e89"
            ],
            [
             0.6666666666666666,
             "#35b779"
            ],
            [
             0.7777777777777778,
             "#6ece58"
            ],
            [
             0.8888888888888888,
             "#b5de2b"
            ],
            [
             1,
             "#fde725"
            ]
           ]
          },
          "colorway": [
           "#1F77B4",
           "#FF7F0E",
           "#2CA02C",
           "#D62728",
           "#9467BD",
           "#8C564B",
           "#E377C2",
           "#7F7F7F",
           "#BCBD22",
           "#17BECF"
          ],
          "font": {
           "color": "rgb(36,36,36)"
          },
          "geo": {
           "bgcolor": "white",
           "lakecolor": "white",
           "landcolor": "white",
           "showlakes": true,
           "showland": true,
           "subunitcolor": "white"
          },
          "hoverlabel": {
           "align": "left"
          },
          "hovermode": "closest",
          "mapbox": {
           "style": "light"
          },
          "paper_bgcolor": "white",
          "plot_bgcolor": "white",
          "polar": {
           "angularaxis": {
            "gridcolor": "rgb(232,232,232)",
            "linecolor": "rgb(36,36,36)",
            "showgrid": false,
            "showline": true,
            "ticks": "outside"
           },
           "bgcolor": "white",
           "radialaxis": {
            "gridcolor": "rgb(232,232,232)",
            "linecolor": "rgb(36,36,36)",
            "showgrid": false,
            "showline": true,
            "ticks": "outside"
           }
          },
          "scene": {
           "xaxis": {
            "backgroundcolor": "white",
            "gridcolor": "rgb(232,232,232)",
            "gridwidth": 2,
            "linecolor": "rgb(36,36,36)",
            "showbackground": true,
            "showgrid": false,
            "showline": true,
            "ticks": "outside",
            "zeroline": false,
            "zerolinecolor": "rgb(36,36,36)"
           },
           "yaxis": {
            "backgroundcolor": "white",
            "gridcolor": "rgb(232,232,232)",
            "gridwidth": 2,
            "linecolor": "rgb(36,36,36)",
            "showbackground": true,
            "showgrid": false,
            "showline": true,
            "ticks": "outside",
            "zeroline": false,
            "zerolinecolor": "rgb(36,36,36)"
           },
           "zaxis": {
            "backgroundcolor": "white",
            "gridcolor": "rgb(232,232,232)",
            "gridwidth": 2,
            "linecolor": "rgb(36,36,36)",
            "showbackground": true,
            "showgrid": false,
            "showline": true,
            "ticks": "outside",
            "zeroline": false,
            "zerolinecolor": "rgb(36,36,36)"
           }
          },
          "shapedefaults": {
           "fillcolor": "black",
           "line": {
            "width": 0
           },
           "opacity": 0.3
          },
          "ternary": {
           "aaxis": {
            "gridcolor": "rgb(232,232,232)",
            "linecolor": "rgb(36,36,36)",
            "showgrid": false,
            "showline": true,
            "ticks": "outside"
           },
           "baxis": {
            "gridcolor": "rgb(232,232,232)",
            "linecolor": "rgb(36,36,36)",
            "showgrid": false,
            "showline": true,
            "ticks": "outside"
           },
           "bgcolor": "white",
           "caxis": {
            "gridcolor": "rgb(232,232,232)",
            "linecolor": "rgb(36,36,36)",
            "showgrid": false,
            "showline": true,
            "ticks": "outside"
           }
          },
          "title": {
           "x": 0.05
          },
          "xaxis": {
           "automargin": true,
           "gridcolor": "rgb(232,232,232)",
           "linecolor": "rgb(36,36,36)",
           "showgrid": false,
           "showline": true,
           "ticks": "outside",
           "title": {
            "standoff": 15
           },
           "zeroline": false,
           "zerolinecolor": "rgb(36,36,36)"
          },
          "yaxis": {
           "automargin": true,
           "gridcolor": "rgb(232,232,232)",
           "linecolor": "rgb(36,36,36)",
           "showgrid": false,
           "showline": true,
           "ticks": "outside",
           "title": {
            "standoff": 15
           },
           "zeroline": false,
           "zerolinecolor": "rgb(36,36,36)"
          }
         }
        },
        "title": {
         "text": "Mutual k-Nearest Neighbors Overlap Scores"
        },
        "width": 600,
        "xaxis": {
         "anchor": "y",
         "constrain": "domain",
         "domain": [
          0,
          1
         ],
         "scaleanchor": "y",
         "tickangle": 45,
         "title": {
          "text": "Model"
         }
        },
        "yaxis": {
         "anchor": "x",
         "autorange": "reversed",
         "constrain": "domain",
         "domain": [
          0,
          1
         ],
         "title": {
          "text": "Model"
         }
        }
       }
      },
      "text/html": [
       "<div>                            <div id=\"b8e6a2e3-ac02-4661-9013-21d73a2108df\" class=\"plotly-graph-div\" style=\"height:525px; width:600px;\"></div>            <script type=\"text/javascript\">                require([\"plotly\"], function(Plotly) {                    window.PLOTLYENV=window.PLOTLYENV || {};                                    if (document.getElementById(\"b8e6a2e3-ac02-4661-9013-21d73a2108df\")) {                    Plotly.newPlot(                        \"b8e6a2e3-ac02-4661-9013-21d73a2108df\",                        [{\"coloraxis\":\"coloraxis\",\"name\":\"0\",\"x\":[\"FMCIBExtractor\",\"CTFMExtractor\",\"PyramidExtractorVar\",\"PyramidExtractorNoVar\",\"VISTA3DExtractor\",\"VocoExtractor\",\"SUPREMExtractor\",\"MerlinExtractor\",\"ModelsGenExtractor\"],\"y\":[\"FMCIBExtractor\",\"CTFMExtractor\",\"PyramidExtractorVar\",\"PyramidExtractorNoVar\",\"VISTA3DExtractor\",\"VocoExtractor\",\"SUPREMExtractor\",\"MerlinExtractor\",\"ModelsGenExtractor\"],\"z\":[[null,1.9144893111638954,1.171021377672209,1.2826603325415677,2.646080760095012,0.3159144893111639,1.171021377672209,1.1425178147268409,2.2850356294536818],[1.9144893111638954,null,0.5510688836104513,0.7102137767220903,2.5961995249406176,0.3254156769596199,1.1258907363420427,1.0617577197149644,1.9667458432304037],[1.171021377672209,0.5510688836104513,null,1.3705463182897861,0.8717339667458432,0.2684085510688836,0.5890736342042755,0.6318289786223278,0.9192399049881235],[1.2826603325415677,0.7102137767220903,1.3705463182897861,null,0.8954869358669834,0.27315914489311166,0.5083135391923991,0.6080760095011877,0.9026128266033254],[2.646080760095012,2.5961995249406176,0.8717339667458432,0.8954869358669834,null,0.36104513064133015,1.510688836104513,1.2802850356294537,2.705463182897862],[0.3159144893111639,0.3254156769596199,0.2684085510688836,0.27315914489311166,0.36104513064133015,null,0.24703087885985747,0.26365795724465557,0.342042755344418],[1.171021377672209,1.1258907363420427,0.5890736342042755,0.5083135391923991,1.510688836104513,0.24703087885985747,null,0.7220902612826603,1.3634204275534443],[1.1425178147268409,1.0617577197149644,0.6318289786223278,0.6080760095011877,1.2802850356294537,0.26365795724465557,0.7220902612826603,null,1.0308788598574823],[2.2850356294536818,1.9667458432304037,0.9192399049881235,0.9026128266033254,2.705463182897862,0.342042755344418,1.3634204275534443,1.0308788598574823,null]],\"type\":\"heatmap\",\"xaxis\":\"x\",\"yaxis\":\"y\",\"hovertemplate\":\"Model: %{x}\\u003cbr\\u003eModel: %{y}\\u003cbr\\u003eAverage Overlap: %{z}\\u003cextra\\u003e\\u003c\\u002fextra\\u003e\"}],                        {\"template\":{\"data\":{\"barpolar\":[{\"marker\":{\"line\":{\"color\":\"white\",\"width\":0.5},\"pattern\":{\"fillmode\":\"overlay\",\"size\":10,\"solidity\":0.2}},\"type\":\"barpolar\"}],\"bar\":[{\"error_x\":{\"color\":\"rgb(36,36,36)\"},\"error_y\":{\"color\":\"rgb(36,36,36)\"},\"marker\":{\"line\":{\"color\":\"white\",\"width\":0.5},\"pattern\":{\"fillmode\":\"overlay\",\"size\":10,\"solidity\":0.2}},\"type\":\"bar\"}],\"carpet\":[{\"aaxis\":{\"endlinecolor\":\"rgb(36,36,36)\",\"gridcolor\":\"white\",\"linecolor\":\"white\",\"minorgridcolor\":\"white\",\"startlinecolor\":\"rgb(36,36,36)\"},\"baxis\":{\"endlinecolor\":\"rgb(36,36,36)\",\"gridcolor\":\"white\",\"linecolor\":\"white\",\"minorgridcolor\":\"white\",\"startlinecolor\":\"rgb(36,36,36)\"},\"type\":\"carpet\"}],\"choropleth\":[{\"colorbar\":{\"outlinewidth\":1,\"tickcolor\":\"rgb(36,36,36)\",\"ticks\":\"outside\"},\"type\":\"choropleth\"}],\"contourcarpet\":[{\"colorbar\":{\"outlinewidth\":1,\"tickcolor\":\"rgb(36,36,36)\",\"ticks\":\"outside\"},\"type\":\"contourcarpet\"}],\"contour\":[{\"colorbar\":{\"outlinewidth\":1,\"tickcolor\":\"rgb(36,36,36)\",\"ticks\":\"outside\"},\"colorscale\":[[0.0,\"#440154\"],[0.1111111111111111,\"#482878\"],[0.2222222222222222,\"#3e4989\"],[0.3333333333333333,\"#31688e\"],[0.4444444444444444,\"#26828e\"],[0.5555555555555556,\"#1f9e89\"],[0.6666666666666666,\"#35b779\"],[0.7777777777777778,\"#6ece58\"],[0.8888888888888888,\"#b5de2b\"],[1.0,\"#fde725\"]],\"type\":\"contour\"}],\"heatmapgl\":[{\"colorbar\":{\"outlinewidth\":1,\"tickcolor\":\"rgb(36,36,36)\",\"ticks\":\"outside\"},\"colorscale\":[[0.0,\"#440154\"],[0.1111111111111111,\"#482878\"],[0.2222222222222222,\"#3e4989\"],[0.3333333333333333,\"#31688e\"],[0.4444444444444444,\"#26828e\"],[0.5555555555555556,\"#1f9e89\"],[0.6666666666666666,\"#35b779\"],[0.7777777777777778,\"#6ece58\"],[0.8888888888888888,\"#b5de2b\"],[1.0,\"#fde725\"]],\"type\":\"heatmapgl\"}],\"heatmap\":[{\"colorbar\":{\"outlinewidth\":1,\"tickcolor\":\"rgb(36,36,36)\",\"ticks\":\"outside\"},\"colorscale\":[[0.0,\"#440154\"],[0.1111111111111111,\"#482878\"],[0.2222222222222222,\"#3e4989\"],[0.3333333333333333,\"#31688e\"],[0.4444444444444444,\"#26828e\"],[0.5555555555555556,\"#1f9e89\"],[0.6666666666666666,\"#35b779\"],[0.7777777777777778,\"#6ece58\"],[0.8888888888888888,\"#b5de2b\"],[1.0,\"#fde725\"]],\"type\":\"heatmap\"}],\"histogram2dcontour\":[{\"colorbar\":{\"outlinewidth\":1,\"tickcolor\":\"rgb(36,36,36)\",\"ticks\":\"outside\"},\"colorscale\":[[0.0,\"#440154\"],[0.1111111111111111,\"#482878\"],[0.2222222222222222,\"#3e4989\"],[0.3333333333333333,\"#31688e\"],[0.4444444444444444,\"#26828e\"],[0.5555555555555556,\"#1f9e89\"],[0.6666666666666666,\"#35b779\"],[0.7777777777777778,\"#6ece58\"],[0.8888888888888888,\"#b5de2b\"],[1.0,\"#fde725\"]],\"type\":\"histogram2dcontour\"}],\"histogram2d\":[{\"colorbar\":{\"outlinewidth\":1,\"tickcolor\":\"rgb(36,36,36)\",\"ticks\":\"outside\"},\"colorscale\":[[0.0,\"#440154\"],[0.1111111111111111,\"#482878\"],[0.2222222222222222,\"#3e4989\"],[0.3333333333333333,\"#31688e\"],[0.4444444444444444,\"#26828e\"],[0.5555555555555556,\"#1f9e89\"],[0.6666666666666666,\"#35b779\"],[0.7777777777777778,\"#6ece58\"],[0.8888888888888888,\"#b5de2b\"],[1.0,\"#fde725\"]],\"type\":\"histogram2d\"}],\"histogram\":[{\"marker\":{\"line\":{\"color\":\"white\",\"width\":0.6}},\"type\":\"histogram\"}],\"mesh3d\":[{\"colorbar\":{\"outlinewidth\":1,\"tickcolor\":\"rgb(36,36,36)\",\"ticks\":\"outside\"},\"type\":\"mesh3d\"}],\"parcoords\":[{\"line\":{\"colorbar\":{\"outlinewidth\":1,\"tickcolor\":\"rgb(36,36,36)\",\"ticks\":\"outside\"}},\"type\":\"parcoords\"}],\"pie\":[{\"automargin\":true,\"type\":\"pie\"}],\"scatter3d\":[{\"line\":{\"colorbar\":{\"outlinewidth\":1,\"tickcolor\":\"rgb(36,36,36)\",\"ticks\":\"outside\"}},\"marker\":{\"colorbar\":{\"outlinewidth\":1,\"tickcolor\":\"rgb(36,36,36)\",\"ticks\":\"outside\"}},\"type\":\"scatter3d\"}],\"scattercarpet\":[{\"marker\":{\"colorbar\":{\"outlinewidth\":1,\"tickcolor\":\"rgb(36,36,36)\",\"ticks\":\"outside\"}},\"type\":\"scattercarpet\"}],\"scattergeo\":[{\"marker\":{\"colorbar\":{\"outlinewidth\":1,\"tickcolor\":\"rgb(36,36,36)\",\"ticks\":\"outside\"}},\"type\":\"scattergeo\"}],\"scattergl\":[{\"marker\":{\"colorbar\":{\"outlinewidth\":1,\"tickcolor\":\"rgb(36,36,36)\",\"ticks\":\"outside\"}},\"type\":\"scattergl\"}],\"scattermapbox\":[{\"marker\":{\"colorbar\":{\"outlinewidth\":1,\"tickcolor\":\"rgb(36,36,36)\",\"ticks\":\"outside\"}},\"type\":\"scattermapbox\"}],\"scatterpolargl\":[{\"marker\":{\"colorbar\":{\"outlinewidth\":1,\"tickcolor\":\"rgb(36,36,36)\",\"ticks\":\"outside\"}},\"type\":\"scatterpolargl\"}],\"scatterpolar\":[{\"marker\":{\"colorbar\":{\"outlinewidth\":1,\"tickcolor\":\"rgb(36,36,36)\",\"ticks\":\"outside\"}},\"type\":\"scatterpolar\"}],\"scatter\":[{\"fillpattern\":{\"fillmode\":\"overlay\",\"size\":10,\"solidity\":0.2},\"type\":\"scatter\"}],\"scatterternary\":[{\"marker\":{\"colorbar\":{\"outlinewidth\":1,\"tickcolor\":\"rgb(36,36,36)\",\"ticks\":\"outside\"}},\"type\":\"scatterternary\"}],\"surface\":[{\"colorbar\":{\"outlinewidth\":1,\"tickcolor\":\"rgb(36,36,36)\",\"ticks\":\"outside\"},\"colorscale\":[[0.0,\"#440154\"],[0.1111111111111111,\"#482878\"],[0.2222222222222222,\"#3e4989\"],[0.3333333333333333,\"#31688e\"],[0.4444444444444444,\"#26828e\"],[0.5555555555555556,\"#1f9e89\"],[0.6666666666666666,\"#35b779\"],[0.7777777777777778,\"#6ece58\"],[0.8888888888888888,\"#b5de2b\"],[1.0,\"#fde725\"]],\"type\":\"surface\"}],\"table\":[{\"cells\":{\"fill\":{\"color\":\"rgb(237,237,237)\"},\"line\":{\"color\":\"white\"}},\"header\":{\"fill\":{\"color\":\"rgb(217,217,217)\"},\"line\":{\"color\":\"white\"}},\"type\":\"table\"}]},\"layout\":{\"annotationdefaults\":{\"arrowhead\":0,\"arrowwidth\":1},\"autotypenumbers\":\"strict\",\"coloraxis\":{\"colorbar\":{\"outlinewidth\":1,\"tickcolor\":\"rgb(36,36,36)\",\"ticks\":\"outside\"}},\"colorscale\":{\"diverging\":[[0.0,\"rgb(103,0,31)\"],[0.1,\"rgb(178,24,43)\"],[0.2,\"rgb(214,96,77)\"],[0.3,\"rgb(244,165,130)\"],[0.4,\"rgb(253,219,199)\"],[0.5,\"rgb(247,247,247)\"],[0.6,\"rgb(209,229,240)\"],[0.7,\"rgb(146,197,222)\"],[0.8,\"rgb(67,147,195)\"],[0.9,\"rgb(33,102,172)\"],[1.0,\"rgb(5,48,97)\"]],\"sequential\":[[0.0,\"#440154\"],[0.1111111111111111,\"#482878\"],[0.2222222222222222,\"#3e4989\"],[0.3333333333333333,\"#31688e\"],[0.4444444444444444,\"#26828e\"],[0.5555555555555556,\"#1f9e89\"],[0.6666666666666666,\"#35b779\"],[0.7777777777777778,\"#6ece58\"],[0.8888888888888888,\"#b5de2b\"],[1.0,\"#fde725\"]],\"sequentialminus\":[[0.0,\"#440154\"],[0.1111111111111111,\"#482878\"],[0.2222222222222222,\"#3e4989\"],[0.3333333333333333,\"#31688e\"],[0.4444444444444444,\"#26828e\"],[0.5555555555555556,\"#1f9e89\"],[0.6666666666666666,\"#35b779\"],[0.7777777777777778,\"#6ece58\"],[0.8888888888888888,\"#b5de2b\"],[1.0,\"#fde725\"]]},\"colorway\":[\"#1F77B4\",\"#FF7F0E\",\"#2CA02C\",\"#D62728\",\"#9467BD\",\"#8C564B\",\"#E377C2\",\"#7F7F7F\",\"#BCBD22\",\"#17BECF\"],\"font\":{\"color\":\"rgb(36,36,36)\"},\"geo\":{\"bgcolor\":\"white\",\"lakecolor\":\"white\",\"landcolor\":\"white\",\"showlakes\":true,\"showland\":true,\"subunitcolor\":\"white\"},\"hoverlabel\":{\"align\":\"left\"},\"hovermode\":\"closest\",\"mapbox\":{\"style\":\"light\"},\"paper_bgcolor\":\"white\",\"plot_bgcolor\":\"white\",\"polar\":{\"angularaxis\":{\"gridcolor\":\"rgb(232,232,232)\",\"linecolor\":\"rgb(36,36,36)\",\"showgrid\":false,\"showline\":true,\"ticks\":\"outside\"},\"bgcolor\":\"white\",\"radialaxis\":{\"gridcolor\":\"rgb(232,232,232)\",\"linecolor\":\"rgb(36,36,36)\",\"showgrid\":false,\"showline\":true,\"ticks\":\"outside\"}},\"scene\":{\"xaxis\":{\"backgroundcolor\":\"white\",\"gridcolor\":\"rgb(232,232,232)\",\"gridwidth\":2,\"linecolor\":\"rgb(36,36,36)\",\"showbackground\":true,\"showgrid\":false,\"showline\":true,\"ticks\":\"outside\",\"zeroline\":false,\"zerolinecolor\":\"rgb(36,36,36)\"},\"yaxis\":{\"backgroundcolor\":\"white\",\"gridcolor\":\"rgb(232,232,232)\",\"gridwidth\":2,\"linecolor\":\"rgb(36,36,36)\",\"showbackground\":true,\"showgrid\":false,\"showline\":true,\"ticks\":\"outside\",\"zeroline\":false,\"zerolinecolor\":\"rgb(36,36,36)\"},\"zaxis\":{\"backgroundcolor\":\"white\",\"gridcolor\":\"rgb(232,232,232)\",\"gridwidth\":2,\"linecolor\":\"rgb(36,36,36)\",\"showbackground\":true,\"showgrid\":false,\"showline\":true,\"ticks\":\"outside\",\"zeroline\":false,\"zerolinecolor\":\"rgb(36,36,36)\"}},\"shapedefaults\":{\"fillcolor\":\"black\",\"line\":{\"width\":0},\"opacity\":0.3},\"ternary\":{\"aaxis\":{\"gridcolor\":\"rgb(232,232,232)\",\"linecolor\":\"rgb(36,36,36)\",\"showgrid\":false,\"showline\":true,\"ticks\":\"outside\"},\"baxis\":{\"gridcolor\":\"rgb(232,232,232)\",\"linecolor\":\"rgb(36,36,36)\",\"showgrid\":false,\"showline\":true,\"ticks\":\"outside\"},\"bgcolor\":\"white\",\"caxis\":{\"gridcolor\":\"rgb(232,232,232)\",\"linecolor\":\"rgb(36,36,36)\",\"showgrid\":false,\"showline\":true,\"ticks\":\"outside\"}},\"title\":{\"x\":0.05},\"xaxis\":{\"automargin\":true,\"gridcolor\":\"rgb(232,232,232)\",\"linecolor\":\"rgb(36,36,36)\",\"showgrid\":false,\"showline\":true,\"ticks\":\"outside\",\"title\":{\"standoff\":15},\"zeroline\":false,\"zerolinecolor\":\"rgb(36,36,36)\"},\"yaxis\":{\"automargin\":true,\"gridcolor\":\"rgb(232,232,232)\",\"linecolor\":\"rgb(36,36,36)\",\"showgrid\":false,\"showline\":true,\"ticks\":\"outside\",\"title\":{\"standoff\":15},\"zeroline\":false,\"zerolinecolor\":\"rgb(36,36,36)\"}}},\"xaxis\":{\"anchor\":\"y\",\"domain\":[0.0,1.0],\"scaleanchor\":\"y\",\"constrain\":\"domain\",\"title\":{\"text\":\"Model\"},\"tickangle\":45},\"yaxis\":{\"anchor\":\"x\",\"domain\":[0.0,1.0],\"autorange\":\"reversed\",\"constrain\":\"domain\",\"title\":{\"text\":\"Model\"}},\"coloraxis\":{\"colorbar\":{\"title\":{\"text\":\"Average Overlap\"}},\"colorscale\":[[0.0,\"rgb(247,251,255)\"],[0.125,\"rgb(222,235,247)\"],[0.25,\"rgb(198,219,239)\"],[0.375,\"rgb(158,202,225)\"],[0.5,\"rgb(107,174,214)\"],[0.625,\"rgb(66,146,198)\"],[0.75,\"rgb(33,113,181)\"],[0.875,\"rgb(8,81,156)\"],[1.0,\"rgb(8,48,107)\"]]},\"margin\":{\"t\":60},\"title\":{\"text\":\"Mutual k-Nearest Neighbors Overlap Scores\"},\"width\":600},                        {\"responsive\": true}                    ).then(function(){\n",
       "                            \n",
       "var gd = document.getElementById('b8e6a2e3-ac02-4661-9013-21d73a2108df');\n",
       "var x = new MutationObserver(function (mutations, observer) {{\n",
       "        var display = window.getComputedStyle(gd).display;\n",
       "        if (!display || display === 'none') {{\n",
       "            console.log([gd, 'removed!']);\n",
       "            Plotly.purge(gd);\n",
       "            observer.disconnect();\n",
       "        }}\n",
       "}});\n",
       "\n",
       "// Listen for the removal of the full notebook cells\n",
       "var notebookContainer = gd.closest('#notebook-container');\n",
       "if (notebookContainer) {{\n",
       "    x.observe(notebookContainer, {childList: true});\n",
       "}}\n",
       "\n",
       "// Listen for the clearing of the current output cell\n",
       "var outputEl = gd.closest('.output');\n",
       "if (outputEl) {{\n",
       "    x.observe(outputEl, {childList: true});\n",
       "}}\n",
       "\n",
       "                        })                };                });            </script>        </div>"
      ]
     },
     "metadata": {},
     "output_type": "display_data"
    }
   ],
   "source": [
    "model_features = extract_model_features(data)\n",
    "model_neighbors = compute_knn_indices(model_features, num_neighbors=10, metric=\"cosine\")\n",
    "overlap_matrix, model_list = compute_overlap_matrix(model_neighbors)\n",
    "fig = plot_overlap_matrix(overlap_matrix, model_list)\n",
    "fig.show()\n"
   ]
  },
  {
   "cell_type": "code",
   "execution_count": null,
   "metadata": {},
   "outputs": [],
   "source": []
  },
  {
   "cell_type": "code",
   "execution_count": null,
   "metadata": {},
   "outputs": [],
   "source": []
  }
 ],
 "metadata": {
  "kernelspec": {
   "display_name": "lighter_dev",
   "language": "python",
   "name": "python3"
  },
  "language_info": {
   "codemirror_mode": {
    "name": "ipython",
    "version": 3
   },
   "file_extension": ".py",
   "mimetype": "text/x-python",
   "name": "python",
   "nbconvert_exporter": "python",
   "pygments_lexer": "ipython3",
   "version": "3.10.14"
  }
 },
 "nbformat": 4,
 "nbformat_minor": 4
}
