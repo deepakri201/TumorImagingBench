{
 "cells": [
  {
   "cell_type": "code",
   "execution_count": 1,
   "metadata": {},
   "outputs": [],
   "source": [
    "import pandas as pd\n",
    "import pandas as pd\n",
    "import numpy as np\n",
    "import plotly.express as px\n",
    "import plotly.graph_objects as go\n",
    "from plotly.subplots import make_subplots"
   ]
  },
  {
   "cell_type": "code",
   "execution_count": 2,
   "metadata": {},
   "outputs": [],
   "source": [
    "df = pd.read_csv(\"overall_results.csv\")"
   ]
  },
  {
   "cell_type": "code",
   "execution_count": 10,
   "metadata": {},
   "outputs": [
    {
     "data": {
      "text/plain": [
       "0              FMCIBExtractor\n",
       "1               CTFMExtractor\n",
       "2          CTClipVitExtractor\n",
       "3              PASTAExtractor\n",
       "4            VISTA3DExtractor\n",
       "5               VocoExtractor\n",
       "6             SUPREMExtractor\n",
       "7             MerlinExtractor\n",
       "8    MedImageInsightExtractor\n",
       "9          ModelsGenExtractor\n",
       "Name: Models, dtype: object"
      ]
     },
     "execution_count": 10,
     "metadata": {},
     "output_type": "execute_result"
    }
   ],
   "source": [
    "df[\"Models\"]"
   ]
  },
  {
   "cell_type": "code",
   "execution_count": 3,
   "metadata": {},
   "outputs": [],
   "source": [
    "\n",
    "df[\"params\"] = [184.48, 77.76, 25.89, 127.11, 174.95, 294.86, 19.07, 270.94, 616.00, 0]"
   ]
  },
  {
   "cell_type": "code",
   "execution_count": 101,
   "metadata": {},
   "outputs": [],
   "source": [
    "import pandas as pd\n",
    "import numpy as np\n",
    "import plotly.express as px\n",
    "import plotly.graph_objects as go\n",
    "from plotly.subplots import make_subplots\n",
    "\n",
    "font_size = 22\n",
    "def prepare_data(df):\n",
    "    # Rename the 'Models' column if needed\n",
    "    if 'Models' in df.columns:\n",
    "        df = df.rename(columns={'Models': 'Model'})\n",
    "    \n",
    "    # Extract only the model name and dataset columns\n",
    "    dataset_cols = ['LUNA', 'DLCS', 'NSCLC_Radiomics', 'NSCLC_Radiogenomics', 'C4KC-KiTs', 'ColRecMet']\n",
    "    necessary_cols = ['Model'] + dataset_cols\n",
    "    \n",
    "    # Keep only necessary columns (filter out unnamed columns)\n",
    "    df = df[necessary_cols]\n",
    "    \n",
    "    # Calculate average score and standard deviation for each model\n",
    "    df['Average Score'] = df[dataset_cols].mean(axis=1)\n",
    "    df['Std Dev'] = df[dataset_cols].std(axis=1)\n",
    "    \n",
    "    # Sort by average score (descending)\n",
    "    df = df.sort_values('Average Score', ascending=False)\n",
    "    \n",
    "    # Reset index for clean numbering\n",
    "    df = df.reset_index(drop=True)\n",
    "    \n",
    "    # Add rank and tier information\n",
    "    df['Rank'] = range(1, len(df) + 1)\n",
    "    df['Tier'] = pd.cut(\n",
    "        df['Average Score'], \n",
    "        bins=[0, 0.53, 0.63, 1], \n",
    "        labels=['Lower Tier', 'Middle Tier', 'Top Tier'],\n",
    "        right=False\n",
    "    )\n",
    "    \n",
    "    # Create dataset-specific rank columns\n",
    "    for col in dataset_cols:\n",
    "        # Create a new column with the dataset's rank (1 = best)\n",
    "        df[f\"{col}_Rank\"] = df[col].rank(ascending=False).astype(int)\n",
    "    \n",
    "    return df\n",
    "\n",
    "def create_rank_heatmap(df):\n",
    "    # Get dataset columns\n",
    "    dataset_cols = ['LUNA', 'DLCS', 'NSCLC_Radiomics', 'NSCLC_Radiogenomics', 'C4KC-KiTs', 'ColRecMet']\n",
    "    rank_cols = [f\"{col}_Rank\" for col in dataset_cols]\n",
    "    \n",
    "    # Create a heatmap using Plotly Express for ranks\n",
    "    fig = px.imshow(\n",
    "        df[rank_cols].values,\n",
    "        labels=dict(x=\"Dataset\", y=\"Model\", color=\"Rank (1=best)\"),\n",
    "        x=[col.replace('_Rank', '') for col in rank_cols],\n",
    "        y=df['Model'],\n",
    "        zmin=1,\n",
    "        zmax=10,\n",
    "        color_continuous_scale='Greens_r',  # Reversed scale so darker = better\n",
    "        aspect=\"auto\",\n",
    "        title=''\n",
    "    )\n",
    "    \n",
    "\n",
    "    \n",
    "    # Add text annotations with the ranks\n",
    "    for i in range(len(df)):\n",
    "        for j, col in enumerate(rank_cols):\n",
    "            rank_value = df[col].iloc[i]\n",
    "            fig.add_annotation(\n",
    "                x=j,\n",
    "                y=i,\n",
    "                text=f\"#{rank_value}\",\n",
    "                showarrow=False,\n",
    "                font=dict(\n",
    "                    color='white',\n",
    "                    size=font_size,\n",
    "                    weight='normal'\n",
    "                )\n",
    "            )\n",
    "    \n",
    "    # Update layout with consistent font size\n",
    "    fig.update_layout(\n",
    "        height=1000,\n",
    "        width=1200,\n",
    "        template='plotly_white',\n",
    "        font=dict(size=font_size)  # Global font size setting for all text elements\n",
    "    )\n",
    "        # Hide the colorscale\n",
    "    fig.update_coloraxes(showscale=False)\n",
    "    return fig\n",
    "\n",
    "\n",
    "def create_model_comparison(df):\n",
    "    \"\"\"\n",
    "    Create a model-focused comparison chart where each line represents a model\n",
    "    \"\"\"\n",
    "    # Get dataset columns\n",
    "    dataset_cols = ['LUNA', 'DLCS', 'NSCLC_Radiomics', 'NSCLC_Radiogenomics', 'C4KC-KiTs', 'ColRecMet']\n",
    "    \n",
    "    # Create a figure\n",
    "    fig = go.Figure()\n",
    "    font_size = 25\n",
    "    \n",
    "    # Define a minimalist color palette based on average score:\n",
    "    # Use varying opacity on a black base to create subtle distinctions\n",
    "    norm = (df['Average Score'] - df['Average Score'].min()) / (df['Average Score'].max() - df['Average Score'].min())\n",
    "    import plotly.express as px\n",
    "    greens_palette = px.colors.sequential.Blues\n",
    "    colors = [greens_palette[int(n * (len(greens_palette) - 1))] for n in norm]\n",
    "    \n",
    "    # Add a trace for each model\n",
    "    for i, row in df.iterrows():\n",
    "        model_name = row['Model']\n",
    "        model_data = row[dataset_cols].values\n",
    "        \n",
    "        line_style = 'solid'\n",
    "        width = 2\n",
    "        \n",
    "        # Highlight top 3 models with thicker lines\n",
    "        if row['Rank'] <= 3:\n",
    "            width = 4\n",
    "            \n",
    "        # Add different line styles based on tier\n",
    "        if row['Tier'] == 'Lower Tier':\n",
    "            line_style = 'dot'\n",
    "        elif row['Tier'] == 'Middle Tier':\n",
    "            line_style = 'dash'\n",
    "        \n",
    "        # Add trace for this model\n",
    "        fig.add_trace(go.Scatter(\n",
    "            x=dataset_cols,\n",
    "            y=model_data,\n",
    "            mode='lines+markers',\n",
    "            name=f\"#{row['Rank']} {model_name}\",\n",
    "            line=dict(\n",
    "                width=width, \n",
    "                dash=line_style,\n",
    "                color=colors[i]\n",
    "            ),\n",
    "            marker=dict(size=8),\n",
    "            hovertemplate=\"<b>%{fullData.name}</b><br>Dataset: %{x}<br>Score: %{y:.4f}<extra></extra>\"\n",
    "        ))\n",
    "    \n",
    "    # Add a line for the average performance across models for each dataset\n",
    "    dataset_avgs = df[dataset_cols].mean()\n",
    "    fig.add_trace(go.Scatter(\n",
    "        x=dataset_cols,\n",
    "        y=dataset_avgs,\n",
    "        mode='lines+markers',\n",
    "        name='Average Performance',\n",
    "        line=dict(width=4, color='black', dash='dot'),\n",
    "        marker=dict(size=10, color='black', symbol='diamond'),\n",
    "        hovertemplate=\"<b>Average Performance</b><br>Dataset: %{x}<br>Score: %{y:.4f}<extra></extra>\"\n",
    "    ))\n",
    "    \n",
    "    # Update layout\n",
    "    fig.update_layout(\n",
    "        title='',\n",
    "        xaxis_title='Datasets',\n",
    "        yaxis_title='Performance Score',\n",
    "        yaxis=dict(range=[0.4, 0.9]),\n",
    "        legend=dict(\n",
    "            title='Models (Ranked)',\n",
    "            orientation='h',\n",
    "            yanchor='bottom',\n",
    "            y=1.02,\n",
    "            xanchor='right',\n",
    "            x=1\n",
    "        ),\n",
    "        height=1200,\n",
    "        width=1200,\n",
    "        template='plotly_white',\n",
    "        margin=dict(r=200),  # Extra margin for the legend\n",
    "        font=dict(size=font_size)\n",
    "    )\n",
    "    # Add grid lines for better readability\n",
    "    fig.update_xaxes(showgrid=True, gridwidth=1, gridcolor='rgba(0,0,0,0.1)')\n",
    "    fig.update_yaxes(showgrid=True, gridwidth=1, gridcolor='rgba(0,0,0,0.1)')\n",
    "    \n",
    "    return fig\n",
    "\n",
    "def main(your_dataframe):\n",
    "    # Prepare the data\n",
    "    clean_df = prepare_data(your_dataframe)\n",
    "    \n",
    "    # Create the plots\n",
    "    rank_heatmap = create_rank_heatmap(clean_df)\n",
    "    model_comparison = create_model_comparison(clean_df)\n",
    "    \n",
    "    # Show the plots\n",
    "    rank_heatmap.show()\n",
    "    model_comparison.show()  # This now shows the model-focused comparison\n",
    "    \n",
    "    # Save the plots\n",
    "    rank_heatmap.write_html(\"model_performance_rank_heatmap.html\")\n",
    "    model_comparison.write_html(\"model_performance_by_model.html\")\n",
    "    \n",
    "    return clean_df  # Return the processed dataframe for further use if needed\n"
   ]
  },
  {
   "cell_type": "code",
   "execution_count": 102,
   "metadata": {},
   "outputs": [
    {
     "data": {
      "application/vnd.plotly.v1+json": {
       "config": {
        "plotlyServerURL": "https://plot.ly"
       },
       "data": [
        {
         "coloraxis": "coloraxis",
         "hovertemplate": "Dataset: %{x}<br>Model: %{y}<br>Rank (1=best): %{z}<extra></extra>",
         "name": "0",
         "type": "heatmap",
         "x": [
          "LUNA",
          "DLCS",
          "NSCLC_Radiomics",
          "NSCLC_Radiogenomics",
          "C4KC-KiTs",
          "ColRecMet"
         ],
         "xaxis": "x",
         "y": [
          "FMCIBExtractor",
          "ModelsGenExtractor",
          "VISTA3DExtractor",
          "SUPREMExtractor",
          "MerlinExtractor",
          "MedImageInsightExtractor",
          "PASTAExtractor",
          "CTFMExtractor",
          "CTClipVitExtractor",
          "VocoExtractor"
         ],
         "yaxis": "y",
         "z": [
          [
           1,
           1,
           3,
           5,
           3,
           1
          ],
          [
           2,
           2,
           2,
           4,
           1,
           2
          ],
          [
           3,
           3,
           1,
           1,
           4,
           5
          ],
          [
           7,
           8,
           6,
           8,
           2,
           6
          ],
          [
           8,
           6,
           4,
           3,
           5,
           9
          ],
          [
           4,
           5,
           5,
           7,
           8,
           4
          ],
          [
           5,
           7,
           7,
           6,
           6,
           7
          ],
          [
           6,
           4,
           8,
           2,
           10,
           8
          ],
          [
           9,
           10,
           10,
           9,
           9,
           3
          ],
          [
           10,
           9,
           9,
           10,
           7,
           10
          ]
         ]
        }
       ],
       "layout": {
        "annotations": [
         {
          "font": {
           "color": "white",
           "size": 22,
           "weight": "normal"
          },
          "showarrow": false,
          "text": "#1",
          "x": 0,
          "y": 0
         },
         {
          "font": {
           "color": "white",
           "size": 22,
           "weight": "normal"
          },
          "showarrow": false,
          "text": "#1",
          "x": 1,
          "y": 0
         },
         {
          "font": {
           "color": "white",
           "size": 22,
           "weight": "normal"
          },
          "showarrow": false,
          "text": "#3",
          "x": 2,
          "y": 0
         },
         {
          "font": {
           "color": "white",
           "size": 22,
           "weight": "normal"
          },
          "showarrow": false,
          "text": "#5",
          "x": 3,
          "y": 0
         },
         {
          "font": {
           "color": "white",
           "size": 22,
           "weight": "normal"
          },
          "showarrow": false,
          "text": "#3",
          "x": 4,
          "y": 0
         },
         {
          "font": {
           "color": "white",
           "size": 22,
           "weight": "normal"
          },
          "showarrow": false,
          "text": "#1",
          "x": 5,
          "y": 0
         },
         {
          "font": {
           "color": "white",
           "size": 22,
           "weight": "normal"
          },
          "showarrow": false,
          "text": "#2",
          "x": 0,
          "y": 1
         },
         {
          "font": {
           "color": "white",
           "size": 22,
           "weight": "normal"
          },
          "showarrow": false,
          "text": "#2",
          "x": 1,
          "y": 1
         },
         {
          "font": {
           "color": "white",
           "size": 22,
           "weight": "normal"
          },
          "showarrow": false,
          "text": "#2",
          "x": 2,
          "y": 1
         },
         {
          "font": {
           "color": "white",
           "size": 22,
           "weight": "normal"
          },
          "showarrow": false,
          "text": "#4",
          "x": 3,
          "y": 1
         },
         {
          "font": {
           "color": "white",
           "size": 22,
           "weight": "normal"
          },
          "showarrow": false,
          "text": "#1",
          "x": 4,
          "y": 1
         },
         {
          "font": {
           "color": "white",
           "size": 22,
           "weight": "normal"
          },
          "showarrow": false,
          "text": "#2",
          "x": 5,
          "y": 1
         },
         {
          "font": {
           "color": "white",
           "size": 22,
           "weight": "normal"
          },
          "showarrow": false,
          "text": "#3",
          "x": 0,
          "y": 2
         },
         {
          "font": {
           "color": "white",
           "size": 22,
           "weight": "normal"
          },
          "showarrow": false,
          "text": "#3",
          "x": 1,
          "y": 2
         },
         {
          "font": {
           "color": "white",
           "size": 22,
           "weight": "normal"
          },
          "showarrow": false,
          "text": "#1",
          "x": 2,
          "y": 2
         },
         {
          "font": {
           "color": "white",
           "size": 22,
           "weight": "normal"
          },
          "showarrow": false,
          "text": "#1",
          "x": 3,
          "y": 2
         },
         {
          "font": {
           "color": "white",
           "size": 22,
           "weight": "normal"
          },
          "showarrow": false,
          "text": "#4",
          "x": 4,
          "y": 2
         },
         {
          "font": {
           "color": "white",
           "size": 22,
           "weight": "normal"
          },
          "showarrow": false,
          "text": "#5",
          "x": 5,
          "y": 2
         },
         {
          "font": {
           "color": "white",
           "size": 22,
           "weight": "normal"
          },
          "showarrow": false,
          "text": "#7",
          "x": 0,
          "y": 3
         },
         {
          "font": {
           "color": "white",
           "size": 22,
           "weight": "normal"
          },
          "showarrow": false,
          "text": "#8",
          "x": 1,
          "y": 3
         },
         {
          "font": {
           "color": "white",
           "size": 22,
           "weight": "normal"
          },
          "showarrow": false,
          "text": "#6",
          "x": 2,
          "y": 3
         },
         {
          "font": {
           "color": "white",
           "size": 22,
           "weight": "normal"
          },
          "showarrow": false,
          "text": "#8",
          "x": 3,
          "y": 3
         },
         {
          "font": {
           "color": "white",
           "size": 22,
           "weight": "normal"
          },
          "showarrow": false,
          "text": "#2",
          "x": 4,
          "y": 3
         },
         {
          "font": {
           "color": "white",
           "size": 22,
           "weight": "normal"
          },
          "showarrow": false,
          "text": "#6",
          "x": 5,
          "y": 3
         },
         {
          "font": {
           "color": "white",
           "size": 22,
           "weight": "normal"
          },
          "showarrow": false,
          "text": "#8",
          "x": 0,
          "y": 4
         },
         {
          "font": {
           "color": "white",
           "size": 22,
           "weight": "normal"
          },
          "showarrow": false,
          "text": "#6",
          "x": 1,
          "y": 4
         },
         {
          "font": {
           "color": "white",
           "size": 22,
           "weight": "normal"
          },
          "showarrow": false,
          "text": "#4",
          "x": 2,
          "y": 4
         },
         {
          "font": {
           "color": "white",
           "size": 22,
           "weight": "normal"
          },
          "showarrow": false,
          "text": "#3",
          "x": 3,
          "y": 4
         },
         {
          "font": {
           "color": "white",
           "size": 22,
           "weight": "normal"
          },
          "showarrow": false,
          "text": "#5",
          "x": 4,
          "y": 4
         },
         {
          "font": {
           "color": "white",
           "size": 22,
           "weight": "normal"
          },
          "showarrow": false,
          "text": "#9",
          "x": 5,
          "y": 4
         },
         {
          "font": {
           "color": "white",
           "size": 22,
           "weight": "normal"
          },
          "showarrow": false,
          "text": "#4",
          "x": 0,
          "y": 5
         },
         {
          "font": {
           "color": "white",
           "size": 22,
           "weight": "normal"
          },
          "showarrow": false,
          "text": "#5",
          "x": 1,
          "y": 5
         },
         {
          "font": {
           "color": "white",
           "size": 22,
           "weight": "normal"
          },
          "showarrow": false,
          "text": "#5",
          "x": 2,
          "y": 5
         },
         {
          "font": {
           "color": "white",
           "size": 22,
           "weight": "normal"
          },
          "showarrow": false,
          "text": "#7",
          "x": 3,
          "y": 5
         },
         {
          "font": {
           "color": "white",
           "size": 22,
           "weight": "normal"
          },
          "showarrow": false,
          "text": "#8",
          "x": 4,
          "y": 5
         },
         {
          "font": {
           "color": "white",
           "size": 22,
           "weight": "normal"
          },
          "showarrow": false,
          "text": "#4",
          "x": 5,
          "y": 5
         },
         {
          "font": {
           "color": "white",
           "size": 22,
           "weight": "normal"
          },
          "showarrow": false,
          "text": "#5",
          "x": 0,
          "y": 6
         },
         {
          "font": {
           "color": "white",
           "size": 22,
           "weight": "normal"
          },
          "showarrow": false,
          "text": "#7",
          "x": 1,
          "y": 6
         },
         {
          "font": {
           "color": "white",
           "size": 22,
           "weight": "normal"
          },
          "showarrow": false,
          "text": "#7",
          "x": 2,
          "y": 6
         },
         {
          "font": {
           "color": "white",
           "size": 22,
           "weight": "normal"
          },
          "showarrow": false,
          "text": "#6",
          "x": 3,
          "y": 6
         },
         {
          "font": {
           "color": "white",
           "size": 22,
           "weight": "normal"
          },
          "showarrow": false,
          "text": "#6",
          "x": 4,
          "y": 6
         },
         {
          "font": {
           "color": "white",
           "size": 22,
           "weight": "normal"
          },
          "showarrow": false,
          "text": "#7",
          "x": 5,
          "y": 6
         },
         {
          "font": {
           "color": "white",
           "size": 22,
           "weight": "normal"
          },
          "showarrow": false,
          "text": "#6",
          "x": 0,
          "y": 7
         },
         {
          "font": {
           "color": "white",
           "size": 22,
           "weight": "normal"
          },
          "showarrow": false,
          "text": "#4",
          "x": 1,
          "y": 7
         },
         {
          "font": {
           "color": "white",
           "size": 22,
           "weight": "normal"
          },
          "showarrow": false,
          "text": "#8",
          "x": 2,
          "y": 7
         },
         {
          "font": {
           "color": "white",
           "size": 22,
           "weight": "normal"
          },
          "showarrow": false,
          "text": "#2",
          "x": 3,
          "y": 7
         },
         {
          "font": {
           "color": "white",
           "size": 22,
           "weight": "normal"
          },
          "showarrow": false,
          "text": "#10",
          "x": 4,
          "y": 7
         },
         {
          "font": {
           "color": "white",
           "size": 22,
           "weight": "normal"
          },
          "showarrow": false,
          "text": "#8",
          "x": 5,
          "y": 7
         },
         {
          "font": {
           "color": "white",
           "size": 22,
           "weight": "normal"
          },
          "showarrow": false,
          "text": "#9",
          "x": 0,
          "y": 8
         },
         {
          "font": {
           "color": "white",
           "size": 22,
           "weight": "normal"
          },
          "showarrow": false,
          "text": "#10",
          "x": 1,
          "y": 8
         },
         {
          "font": {
           "color": "white",
           "size": 22,
           "weight": "normal"
          },
          "showarrow": false,
          "text": "#10",
          "x": 2,
          "y": 8
         },
         {
          "font": {
           "color": "white",
           "size": 22,
           "weight": "normal"
          },
          "showarrow": false,
          "text": "#9",
          "x": 3,
          "y": 8
         },
         {
          "font": {
           "color": "white",
           "size": 22,
           "weight": "normal"
          },
          "showarrow": false,
          "text": "#9",
          "x": 4,
          "y": 8
         },
         {
          "font": {
           "color": "white",
           "size": 22,
           "weight": "normal"
          },
          "showarrow": false,
          "text": "#3",
          "x": 5,
          "y": 8
         },
         {
          "font": {
           "color": "white",
           "size": 22,
           "weight": "normal"
          },
          "showarrow": false,
          "text": "#10",
          "x": 0,
          "y": 9
         },
         {
          "font": {
           "color": "white",
           "size": 22,
           "weight": "normal"
          },
          "showarrow": false,
          "text": "#9",
          "x": 1,
          "y": 9
         },
         {
          "font": {
           "color": "white",
           "size": 22,
           "weight": "normal"
          },
          "showarrow": false,
          "text": "#9",
          "x": 2,
          "y": 9
         },
         {
          "font": {
           "color": "white",
           "size": 22,
           "weight": "normal"
          },
          "showarrow": false,
          "text": "#10",
          "x": 3,
          "y": 9
         },
         {
          "font": {
           "color": "white",
           "size": 22,
           "weight": "normal"
          },
          "showarrow": false,
          "text": "#7",
          "x": 4,
          "y": 9
         },
         {
          "font": {
           "color": "white",
           "size": 22,
           "weight": "normal"
          },
          "showarrow": false,
          "text": "#10",
          "x": 5,
          "y": 9
         }
        ],
        "coloraxis": {
         "cmax": 10,
         "cmin": 1,
         "colorbar": {
          "title": {
           "text": "Rank (1=best)"
          }
         },
         "colorscale": [
          [
           0,
           "rgb(0,68,27)"
          ],
          [
           0.125,
           "rgb(0,109,44)"
          ],
          [
           0.25,
           "rgb(35,139,69)"
          ],
          [
           0.375,
           "rgb(65,171,93)"
          ],
          [
           0.5,
           "rgb(116,196,118)"
          ],
          [
           0.625,
           "rgb(161,217,155)"
          ],
          [
           0.75,
           "rgb(199,233,192)"
          ],
          [
           0.875,
           "rgb(229,245,224)"
          ],
          [
           1,
           "rgb(247,252,245)"
          ]
         ],
         "showscale": false
        },
        "font": {
         "size": 22
        },
        "height": 1000,
        "margin": {
         "t": 60
        },
        "template": {
         "data": {
          "bar": [
           {
            "error_x": {
             "color": "#2a3f5f"
            },
            "error_y": {
             "color": "#2a3f5f"
            },
            "marker": {
             "line": {
              "color": "white",
              "width": 0.5
             },
             "pattern": {
              "fillmode": "overlay",
              "size": 10,
              "solidity": 0.2
             }
            },
            "type": "bar"
           }
          ],
          "barpolar": [
           {
            "marker": {
             "line": {
              "color": "white",
              "width": 0.5
             },
             "pattern": {
              "fillmode": "overlay",
              "size": 10,
              "solidity": 0.2
             }
            },
            "type": "barpolar"
           }
          ],
          "carpet": [
           {
            "aaxis": {
             "endlinecolor": "#2a3f5f",
             "gridcolor": "#C8D4E3",
             "linecolor": "#C8D4E3",
             "minorgridcolor": "#C8D4E3",
             "startlinecolor": "#2a3f5f"
            },
            "baxis": {
             "endlinecolor": "#2a3f5f",
             "gridcolor": "#C8D4E3",
             "linecolor": "#C8D4E3",
             "minorgridcolor": "#C8D4E3",
             "startlinecolor": "#2a3f5f"
            },
            "type": "carpet"
           }
          ],
          "choropleth": [
           {
            "colorbar": {
             "outlinewidth": 0,
             "ticks": ""
            },
            "type": "choropleth"
           }
          ],
          "contour": [
           {
            "colorbar": {
             "outlinewidth": 0,
             "ticks": ""
            },
            "colorscale": [
             [
              0,
              "#0d0887"
             ],
             [
              0.1111111111111111,
              "#46039f"
             ],
             [
              0.2222222222222222,
              "#7201a8"
             ],
             [
              0.3333333333333333,
              "#9c179e"
             ],
             [
              0.4444444444444444,
              "#bd3786"
             ],
             [
              0.5555555555555556,
              "#d8576b"
             ],
             [
              0.6666666666666666,
              "#ed7953"
             ],
             [
              0.7777777777777778,
              "#fb9f3a"
             ],
             [
              0.8888888888888888,
              "#fdca26"
             ],
             [
              1,
              "#f0f921"
             ]
            ],
            "type": "contour"
           }
          ],
          "contourcarpet": [
           {
            "colorbar": {
             "outlinewidth": 0,
             "ticks": ""
            },
            "type": "contourcarpet"
           }
          ],
          "heatmap": [
           {
            "colorbar": {
             "outlinewidth": 0,
             "ticks": ""
            },
            "colorscale": [
             [
              0,
              "#0d0887"
             ],
             [
              0.1111111111111111,
              "#46039f"
             ],
             [
              0.2222222222222222,
              "#7201a8"
             ],
             [
              0.3333333333333333,
              "#9c179e"
             ],
             [
              0.4444444444444444,
              "#bd3786"
             ],
             [
              0.5555555555555556,
              "#d8576b"
             ],
             [
              0.6666666666666666,
              "#ed7953"
             ],
             [
              0.7777777777777778,
              "#fb9f3a"
             ],
             [
              0.8888888888888888,
              "#fdca26"
             ],
             [
              1,
              "#f0f921"
             ]
            ],
            "type": "heatmap"
           }
          ],
          "heatmapgl": [
           {
            "colorbar": {
             "outlinewidth": 0,
             "ticks": ""
            },
            "colorscale": [
             [
              0,
              "#0d0887"
             ],
             [
              0.1111111111111111,
              "#46039f"
             ],
             [
              0.2222222222222222,
              "#7201a8"
             ],
             [
              0.3333333333333333,
              "#9c179e"
             ],
             [
              0.4444444444444444,
              "#bd3786"
             ],
             [
              0.5555555555555556,
              "#d8576b"
             ],
             [
              0.6666666666666666,
              "#ed7953"
             ],
             [
              0.7777777777777778,
              "#fb9f3a"
             ],
             [
              0.8888888888888888,
              "#fdca26"
             ],
             [
              1,
              "#f0f921"
             ]
            ],
            "type": "heatmapgl"
           }
          ],
          "histogram": [
           {
            "marker": {
             "pattern": {
              "fillmode": "overlay",
              "size": 10,
              "solidity": 0.2
             }
            },
            "type": "histogram"
           }
          ],
          "histogram2d": [
           {
            "colorbar": {
             "outlinewidth": 0,
             "ticks": ""
            },
            "colorscale": [
             [
              0,
              "#0d0887"
             ],
             [
              0.1111111111111111,
              "#46039f"
             ],
             [
              0.2222222222222222,
              "#7201a8"
             ],
             [
              0.3333333333333333,
              "#9c179e"
             ],
             [
              0.4444444444444444,
              "#bd3786"
             ],
             [
              0.5555555555555556,
              "#d8576b"
             ],
             [
              0.6666666666666666,
              "#ed7953"
             ],
             [
              0.7777777777777778,
              "#fb9f3a"
             ],
             [
              0.8888888888888888,
              "#fdca26"
             ],
             [
              1,
              "#f0f921"
             ]
            ],
            "type": "histogram2d"
           }
          ],
          "histogram2dcontour": [
           {
            "colorbar": {
             "outlinewidth": 0,
             "ticks": ""
            },
            "colorscale": [
             [
              0,
              "#0d0887"
             ],
             [
              0.1111111111111111,
              "#46039f"
             ],
             [
              0.2222222222222222,
              "#7201a8"
             ],
             [
              0.3333333333333333,
              "#9c179e"
             ],
             [
              0.4444444444444444,
              "#bd3786"
             ],
             [
              0.5555555555555556,
              "#d8576b"
             ],
             [
              0.6666666666666666,
              "#ed7953"
             ],
             [
              0.7777777777777778,
              "#fb9f3a"
             ],
             [
              0.8888888888888888,
              "#fdca26"
             ],
             [
              1,
              "#f0f921"
             ]
            ],
            "type": "histogram2dcontour"
           }
          ],
          "mesh3d": [
           {
            "colorbar": {
             "outlinewidth": 0,
             "ticks": ""
            },
            "type": "mesh3d"
           }
          ],
          "parcoords": [
           {
            "line": {
             "colorbar": {
              "outlinewidth": 0,
              "ticks": ""
             }
            },
            "type": "parcoords"
           }
          ],
          "pie": [
           {
            "automargin": true,
            "type": "pie"
           }
          ],
          "scatter": [
           {
            "fillpattern": {
             "fillmode": "overlay",
             "size": 10,
             "solidity": 0.2
            },
            "type": "scatter"
           }
          ],
          "scatter3d": [
           {
            "line": {
             "colorbar": {
              "outlinewidth": 0,
              "ticks": ""
             }
            },
            "marker": {
             "colorbar": {
              "outlinewidth": 0,
              "ticks": ""
             }
            },
            "type": "scatter3d"
           }
          ],
          "scattercarpet": [
           {
            "marker": {
             "colorbar": {
              "outlinewidth": 0,
              "ticks": ""
             }
            },
            "type": "scattercarpet"
           }
          ],
          "scattergeo": [
           {
            "marker": {
             "colorbar": {
              "outlinewidth": 0,
              "ticks": ""
             }
            },
            "type": "scattergeo"
           }
          ],
          "scattergl": [
           {
            "marker": {
             "colorbar": {
              "outlinewidth": 0,
              "ticks": ""
             }
            },
            "type": "scattergl"
           }
          ],
          "scattermapbox": [
           {
            "marker": {
             "colorbar": {
              "outlinewidth": 0,
              "ticks": ""
             }
            },
            "type": "scattermapbox"
           }
          ],
          "scatterpolar": [
           {
            "marker": {
             "colorbar": {
              "outlinewidth": 0,
              "ticks": ""
             }
            },
            "type": "scatterpolar"
           }
          ],
          "scatterpolargl": [
           {
            "marker": {
             "colorbar": {
              "outlinewidth": 0,
              "ticks": ""
             }
            },
            "type": "scatterpolargl"
           }
          ],
          "scatterternary": [
           {
            "marker": {
             "colorbar": {
              "outlinewidth": 0,
              "ticks": ""
             }
            },
            "type": "scatterternary"
           }
          ],
          "surface": [
           {
            "colorbar": {
             "outlinewidth": 0,
             "ticks": ""
            },
            "colorscale": [
             [
              0,
              "#0d0887"
             ],
             [
              0.1111111111111111,
              "#46039f"
             ],
             [
              0.2222222222222222,
              "#7201a8"
             ],
             [
              0.3333333333333333,
              "#9c179e"
             ],
             [
              0.4444444444444444,
              "#bd3786"
             ],
             [
              0.5555555555555556,
              "#d8576b"
             ],
             [
              0.6666666666666666,
              "#ed7953"
             ],
             [
              0.7777777777777778,
              "#fb9f3a"
             ],
             [
              0.8888888888888888,
              "#fdca26"
             ],
             [
              1,
              "#f0f921"
             ]
            ],
            "type": "surface"
           }
          ],
          "table": [
           {
            "cells": {
             "fill": {
              "color": "#EBF0F8"
             },
             "line": {
              "color": "white"
             }
            },
            "header": {
             "fill": {
              "color": "#C8D4E3"
             },
             "line": {
              "color": "white"
             }
            },
            "type": "table"
           }
          ]
         },
         "layout": {
          "annotationdefaults": {
           "arrowcolor": "#2a3f5f",
           "arrowhead": 0,
           "arrowwidth": 1
          },
          "autotypenumbers": "strict",
          "coloraxis": {
           "colorbar": {
            "outlinewidth": 0,
            "ticks": ""
           }
          },
          "colorscale": {
           "diverging": [
            [
             0,
             "#8e0152"
            ],
            [
             0.1,
             "#c51b7d"
            ],
            [
             0.2,
             "#de77ae"
            ],
            [
             0.3,
             "#f1b6da"
            ],
            [
             0.4,
             "#fde0ef"
            ],
            [
             0.5,
             "#f7f7f7"
            ],
            [
             0.6,
             "#e6f5d0"
            ],
            [
             0.7,
             "#b8e186"
            ],
            [
             0.8,
             "#7fbc41"
            ],
            [
             0.9,
             "#4d9221"
            ],
            [
             1,
             "#276419"
            ]
           ],
           "sequential": [
            [
             0,
             "#0d0887"
            ],
            [
             0.1111111111111111,
             "#46039f"
            ],
            [
             0.2222222222222222,
             "#7201a8"
            ],
            [
             0.3333333333333333,
             "#9c179e"
            ],
            [
             0.4444444444444444,
             "#bd3786"
            ],
            [
             0.5555555555555556,
             "#d8576b"
            ],
            [
             0.6666666666666666,
             "#ed7953"
            ],
            [
             0.7777777777777778,
             "#fb9f3a"
            ],
            [
             0.8888888888888888,
             "#fdca26"
            ],
            [
             1,
             "#f0f921"
            ]
           ],
           "sequentialminus": [
            [
             0,
             "#0d0887"
            ],
            [
             0.1111111111111111,
             "#46039f"
            ],
            [
             0.2222222222222222,
             "#7201a8"
            ],
            [
             0.3333333333333333,
             "#9c179e"
            ],
            [
             0.4444444444444444,
             "#bd3786"
            ],
            [
             0.5555555555555556,
             "#d8576b"
            ],
            [
             0.6666666666666666,
             "#ed7953"
            ],
            [
             0.7777777777777778,
             "#fb9f3a"
            ],
            [
             0.8888888888888888,
             "#fdca26"
            ],
            [
             1,
             "#f0f921"
            ]
           ]
          },
          "colorway": [
           "#636efa",
           "#EF553B",
           "#00cc96",
           "#ab63fa",
           "#FFA15A",
           "#19d3f3",
           "#FF6692",
           "#B6E880",
           "#FF97FF",
           "#FECB52"
          ],
          "font": {
           "color": "#2a3f5f"
          },
          "geo": {
           "bgcolor": "white",
           "lakecolor": "white",
           "landcolor": "white",
           "showlakes": true,
           "showland": true,
           "subunitcolor": "#C8D4E3"
          },
          "hoverlabel": {
           "align": "left"
          },
          "hovermode": "closest",
          "mapbox": {
           "style": "light"
          },
          "paper_bgcolor": "white",
          "plot_bgcolor": "white",
          "polar": {
           "angularaxis": {
            "gridcolor": "#EBF0F8",
            "linecolor": "#EBF0F8",
            "ticks": ""
           },
           "bgcolor": "white",
           "radialaxis": {
            "gridcolor": "#EBF0F8",
            "linecolor": "#EBF0F8",
            "ticks": ""
           }
          },
          "scene": {
           "xaxis": {
            "backgroundcolor": "white",
            "gridcolor": "#DFE8F3",
            "gridwidth": 2,
            "linecolor": "#EBF0F8",
            "showbackground": true,
            "ticks": "",
            "zerolinecolor": "#EBF0F8"
           },
           "yaxis": {
            "backgroundcolor": "white",
            "gridcolor": "#DFE8F3",
            "gridwidth": 2,
            "linecolor": "#EBF0F8",
            "showbackground": true,
            "ticks": "",
            "zerolinecolor": "#EBF0F8"
           },
           "zaxis": {
            "backgroundcolor": "white",
            "gridcolor": "#DFE8F3",
            "gridwidth": 2,
            "linecolor": "#EBF0F8",
            "showbackground": true,
            "ticks": "",
            "zerolinecolor": "#EBF0F8"
           }
          },
          "shapedefaults": {
           "line": {
            "color": "#2a3f5f"
           }
          },
          "ternary": {
           "aaxis": {
            "gridcolor": "#DFE8F3",
            "linecolor": "#A2B1C6",
            "ticks": ""
           },
           "baxis": {
            "gridcolor": "#DFE8F3",
            "linecolor": "#A2B1C6",
            "ticks": ""
           },
           "bgcolor": "white",
           "caxis": {
            "gridcolor": "#DFE8F3",
            "linecolor": "#A2B1C6",
            "ticks": ""
           }
          },
          "title": {
           "x": 0.05
          },
          "xaxis": {
           "automargin": true,
           "gridcolor": "#EBF0F8",
           "linecolor": "#EBF0F8",
           "ticks": "",
           "title": {
            "standoff": 15
           },
           "zerolinecolor": "#EBF0F8",
           "zerolinewidth": 2
          },
          "yaxis": {
           "automargin": true,
           "gridcolor": "#EBF0F8",
           "linecolor": "#EBF0F8",
           "ticks": "",
           "title": {
            "standoff": 15
           },
           "zerolinecolor": "#EBF0F8",
           "zerolinewidth": 2
          }
         }
        },
        "width": 1200,
        "xaxis": {
         "anchor": "y",
         "domain": [
          0,
          1
         ],
         "title": {
          "text": "Dataset"
         }
        },
        "yaxis": {
         "anchor": "x",
         "autorange": "reversed",
         "domain": [
          0,
          1
         ],
         "title": {
          "text": "Model"
         }
        }
       }
      },
      "text/html": [
       "<div>                            <div id=\"53910163-bfb1-481b-aa7b-42886352ea23\" class=\"plotly-graph-div\" style=\"height:1000px; width:1200px;\"></div>            <script type=\"text/javascript\">                require([\"plotly\"], function(Plotly) {                    window.PLOTLYENV=window.PLOTLYENV || {};                                    if (document.getElementById(\"53910163-bfb1-481b-aa7b-42886352ea23\")) {                    Plotly.newPlot(                        \"53910163-bfb1-481b-aa7b-42886352ea23\",                        [{\"coloraxis\":\"coloraxis\",\"name\":\"0\",\"x\":[\"LUNA\",\"DLCS\",\"NSCLC_Radiomics\",\"NSCLC_Radiogenomics\",\"C4KC-KiTs\",\"ColRecMet\"],\"y\":[\"FMCIBExtractor\",\"ModelsGenExtractor\",\"VISTA3DExtractor\",\"SUPREMExtractor\",\"MerlinExtractor\",\"MedImageInsightExtractor\",\"PASTAExtractor\",\"CTFMExtractor\",\"CTClipVitExtractor\",\"VocoExtractor\"],\"z\":[[1,1,3,5,3,1],[2,2,2,4,1,2],[3,3,1,1,4,5],[7,8,6,8,2,6],[8,6,4,3,5,9],[4,5,5,7,8,4],[5,7,7,6,6,7],[6,4,8,2,10,8],[9,10,10,9,9,3],[10,9,9,10,7,10]],\"type\":\"heatmap\",\"xaxis\":\"x\",\"yaxis\":\"y\",\"hovertemplate\":\"Dataset: %{x}\\u003cbr\\u003eModel: %{y}\\u003cbr\\u003eRank (1=best): %{z}\\u003cextra\\u003e\\u003c\\u002fextra\\u003e\"}],                        {\"template\":{\"data\":{\"barpolar\":[{\"marker\":{\"line\":{\"color\":\"white\",\"width\":0.5},\"pattern\":{\"fillmode\":\"overlay\",\"size\":10,\"solidity\":0.2}},\"type\":\"barpolar\"}],\"bar\":[{\"error_x\":{\"color\":\"#2a3f5f\"},\"error_y\":{\"color\":\"#2a3f5f\"},\"marker\":{\"line\":{\"color\":\"white\",\"width\":0.5},\"pattern\":{\"fillmode\":\"overlay\",\"size\":10,\"solidity\":0.2}},\"type\":\"bar\"}],\"carpet\":[{\"aaxis\":{\"endlinecolor\":\"#2a3f5f\",\"gridcolor\":\"#C8D4E3\",\"linecolor\":\"#C8D4E3\",\"minorgridcolor\":\"#C8D4E3\",\"startlinecolor\":\"#2a3f5f\"},\"baxis\":{\"endlinecolor\":\"#2a3f5f\",\"gridcolor\":\"#C8D4E3\",\"linecolor\":\"#C8D4E3\",\"minorgridcolor\":\"#C8D4E3\",\"startlinecolor\":\"#2a3f5f\"},\"type\":\"carpet\"}],\"choropleth\":[{\"colorbar\":{\"outlinewidth\":0,\"ticks\":\"\"},\"type\":\"choropleth\"}],\"contourcarpet\":[{\"colorbar\":{\"outlinewidth\":0,\"ticks\":\"\"},\"type\":\"contourcarpet\"}],\"contour\":[{\"colorbar\":{\"outlinewidth\":0,\"ticks\":\"\"},\"colorscale\":[[0.0,\"#0d0887\"],[0.1111111111111111,\"#46039f\"],[0.2222222222222222,\"#7201a8\"],[0.3333333333333333,\"#9c179e\"],[0.4444444444444444,\"#bd3786\"],[0.5555555555555556,\"#d8576b\"],[0.6666666666666666,\"#ed7953\"],[0.7777777777777778,\"#fb9f3a\"],[0.8888888888888888,\"#fdca26\"],[1.0,\"#f0f921\"]],\"type\":\"contour\"}],\"heatmapgl\":[{\"colorbar\":{\"outlinewidth\":0,\"ticks\":\"\"},\"colorscale\":[[0.0,\"#0d0887\"],[0.1111111111111111,\"#46039f\"],[0.2222222222222222,\"#7201a8\"],[0.3333333333333333,\"#9c179e\"],[0.4444444444444444,\"#bd3786\"],[0.5555555555555556,\"#d8576b\"],[0.6666666666666666,\"#ed7953\"],[0.7777777777777778,\"#fb9f3a\"],[0.8888888888888888,\"#fdca26\"],[1.0,\"#f0f921\"]],\"type\":\"heatmapgl\"}],\"heatmap\":[{\"colorbar\":{\"outlinewidth\":0,\"ticks\":\"\"},\"colorscale\":[[0.0,\"#0d0887\"],[0.1111111111111111,\"#46039f\"],[0.2222222222222222,\"#7201a8\"],[0.3333333333333333,\"#9c179e\"],[0.4444444444444444,\"#bd3786\"],[0.5555555555555556,\"#d8576b\"],[0.6666666666666666,\"#ed7953\"],[0.7777777777777778,\"#fb9f3a\"],[0.8888888888888888,\"#fdca26\"],[1.0,\"#f0f921\"]],\"type\":\"heatmap\"}],\"histogram2dcontour\":[{\"colorbar\":{\"outlinewidth\":0,\"ticks\":\"\"},\"colorscale\":[[0.0,\"#0d0887\"],[0.1111111111111111,\"#46039f\"],[0.2222222222222222,\"#7201a8\"],[0.3333333333333333,\"#9c179e\"],[0.4444444444444444,\"#bd3786\"],[0.5555555555555556,\"#d8576b\"],[0.6666666666666666,\"#ed7953\"],[0.7777777777777778,\"#fb9f3a\"],[0.8888888888888888,\"#fdca26\"],[1.0,\"#f0f921\"]],\"type\":\"histogram2dcontour\"}],\"histogram2d\":[{\"colorbar\":{\"outlinewidth\":0,\"ticks\":\"\"},\"colorscale\":[[0.0,\"#0d0887\"],[0.1111111111111111,\"#46039f\"],[0.2222222222222222,\"#7201a8\"],[0.3333333333333333,\"#9c179e\"],[0.4444444444444444,\"#bd3786\"],[0.5555555555555556,\"#d8576b\"],[0.6666666666666666,\"#ed7953\"],[0.7777777777777778,\"#fb9f3a\"],[0.8888888888888888,\"#fdca26\"],[1.0,\"#f0f921\"]],\"type\":\"histogram2d\"}],\"histogram\":[{\"marker\":{\"pattern\":{\"fillmode\":\"overlay\",\"size\":10,\"solidity\":0.2}},\"type\":\"histogram\"}],\"mesh3d\":[{\"colorbar\":{\"outlinewidth\":0,\"ticks\":\"\"},\"type\":\"mesh3d\"}],\"parcoords\":[{\"line\":{\"colorbar\":{\"outlinewidth\":0,\"ticks\":\"\"}},\"type\":\"parcoords\"}],\"pie\":[{\"automargin\":true,\"type\":\"pie\"}],\"scatter3d\":[{\"line\":{\"colorbar\":{\"outlinewidth\":0,\"ticks\":\"\"}},\"marker\":{\"colorbar\":{\"outlinewidth\":0,\"ticks\":\"\"}},\"type\":\"scatter3d\"}],\"scattercarpet\":[{\"marker\":{\"colorbar\":{\"outlinewidth\":0,\"ticks\":\"\"}},\"type\":\"scattercarpet\"}],\"scattergeo\":[{\"marker\":{\"colorbar\":{\"outlinewidth\":0,\"ticks\":\"\"}},\"type\":\"scattergeo\"}],\"scattergl\":[{\"marker\":{\"colorbar\":{\"outlinewidth\":0,\"ticks\":\"\"}},\"type\":\"scattergl\"}],\"scattermapbox\":[{\"marker\":{\"colorbar\":{\"outlinewidth\":0,\"ticks\":\"\"}},\"type\":\"scattermapbox\"}],\"scatterpolargl\":[{\"marker\":{\"colorbar\":{\"outlinewidth\":0,\"ticks\":\"\"}},\"type\":\"scatterpolargl\"}],\"scatterpolar\":[{\"marker\":{\"colorbar\":{\"outlinewidth\":0,\"ticks\":\"\"}},\"type\":\"scatterpolar\"}],\"scatter\":[{\"fillpattern\":{\"fillmode\":\"overlay\",\"size\":10,\"solidity\":0.2},\"type\":\"scatter\"}],\"scatterternary\":[{\"marker\":{\"colorbar\":{\"outlinewidth\":0,\"ticks\":\"\"}},\"type\":\"scatterternary\"}],\"surface\":[{\"colorbar\":{\"outlinewidth\":0,\"ticks\":\"\"},\"colorscale\":[[0.0,\"#0d0887\"],[0.1111111111111111,\"#46039f\"],[0.2222222222222222,\"#7201a8\"],[0.3333333333333333,\"#9c179e\"],[0.4444444444444444,\"#bd3786\"],[0.5555555555555556,\"#d8576b\"],[0.6666666666666666,\"#ed7953\"],[0.7777777777777778,\"#fb9f3a\"],[0.8888888888888888,\"#fdca26\"],[1.0,\"#f0f921\"]],\"type\":\"surface\"}],\"table\":[{\"cells\":{\"fill\":{\"color\":\"#EBF0F8\"},\"line\":{\"color\":\"white\"}},\"header\":{\"fill\":{\"color\":\"#C8D4E3\"},\"line\":{\"color\":\"white\"}},\"type\":\"table\"}]},\"layout\":{\"annotationdefaults\":{\"arrowcolor\":\"#2a3f5f\",\"arrowhead\":0,\"arrowwidth\":1},\"autotypenumbers\":\"strict\",\"coloraxis\":{\"colorbar\":{\"outlinewidth\":0,\"ticks\":\"\"}},\"colorscale\":{\"diverging\":[[0,\"#8e0152\"],[0.1,\"#c51b7d\"],[0.2,\"#de77ae\"],[0.3,\"#f1b6da\"],[0.4,\"#fde0ef\"],[0.5,\"#f7f7f7\"],[0.6,\"#e6f5d0\"],[0.7,\"#b8e186\"],[0.8,\"#7fbc41\"],[0.9,\"#4d9221\"],[1,\"#276419\"]],\"sequential\":[[0.0,\"#0d0887\"],[0.1111111111111111,\"#46039f\"],[0.2222222222222222,\"#7201a8\"],[0.3333333333333333,\"#9c179e\"],[0.4444444444444444,\"#bd3786\"],[0.5555555555555556,\"#d8576b\"],[0.6666666666666666,\"#ed7953\"],[0.7777777777777778,\"#fb9f3a\"],[0.8888888888888888,\"#fdca26\"],[1.0,\"#f0f921\"]],\"sequentialminus\":[[0.0,\"#0d0887\"],[0.1111111111111111,\"#46039f\"],[0.2222222222222222,\"#7201a8\"],[0.3333333333333333,\"#9c179e\"],[0.4444444444444444,\"#bd3786\"],[0.5555555555555556,\"#d8576b\"],[0.6666666666666666,\"#ed7953\"],[0.7777777777777778,\"#fb9f3a\"],[0.8888888888888888,\"#fdca26\"],[1.0,\"#f0f921\"]]},\"colorway\":[\"#636efa\",\"#EF553B\",\"#00cc96\",\"#ab63fa\",\"#FFA15A\",\"#19d3f3\",\"#FF6692\",\"#B6E880\",\"#FF97FF\",\"#FECB52\"],\"font\":{\"color\":\"#2a3f5f\"},\"geo\":{\"bgcolor\":\"white\",\"lakecolor\":\"white\",\"landcolor\":\"white\",\"showlakes\":true,\"showland\":true,\"subunitcolor\":\"#C8D4E3\"},\"hoverlabel\":{\"align\":\"left\"},\"hovermode\":\"closest\",\"mapbox\":{\"style\":\"light\"},\"paper_bgcolor\":\"white\",\"plot_bgcolor\":\"white\",\"polar\":{\"angularaxis\":{\"gridcolor\":\"#EBF0F8\",\"linecolor\":\"#EBF0F8\",\"ticks\":\"\"},\"bgcolor\":\"white\",\"radialaxis\":{\"gridcolor\":\"#EBF0F8\",\"linecolor\":\"#EBF0F8\",\"ticks\":\"\"}},\"scene\":{\"xaxis\":{\"backgroundcolor\":\"white\",\"gridcolor\":\"#DFE8F3\",\"gridwidth\":2,\"linecolor\":\"#EBF0F8\",\"showbackground\":true,\"ticks\":\"\",\"zerolinecolor\":\"#EBF0F8\"},\"yaxis\":{\"backgroundcolor\":\"white\",\"gridcolor\":\"#DFE8F3\",\"gridwidth\":2,\"linecolor\":\"#EBF0F8\",\"showbackground\":true,\"ticks\":\"\",\"zerolinecolor\":\"#EBF0F8\"},\"zaxis\":{\"backgroundcolor\":\"white\",\"gridcolor\":\"#DFE8F3\",\"gridwidth\":2,\"linecolor\":\"#EBF0F8\",\"showbackground\":true,\"ticks\":\"\",\"zerolinecolor\":\"#EBF0F8\"}},\"shapedefaults\":{\"line\":{\"color\":\"#2a3f5f\"}},\"ternary\":{\"aaxis\":{\"gridcolor\":\"#DFE8F3\",\"linecolor\":\"#A2B1C6\",\"ticks\":\"\"},\"baxis\":{\"gridcolor\":\"#DFE8F3\",\"linecolor\":\"#A2B1C6\",\"ticks\":\"\"},\"bgcolor\":\"white\",\"caxis\":{\"gridcolor\":\"#DFE8F3\",\"linecolor\":\"#A2B1C6\",\"ticks\":\"\"}},\"title\":{\"x\":0.05},\"xaxis\":{\"automargin\":true,\"gridcolor\":\"#EBF0F8\",\"linecolor\":\"#EBF0F8\",\"ticks\":\"\",\"title\":{\"standoff\":15},\"zerolinecolor\":\"#EBF0F8\",\"zerolinewidth\":2},\"yaxis\":{\"automargin\":true,\"gridcolor\":\"#EBF0F8\",\"linecolor\":\"#EBF0F8\",\"ticks\":\"\",\"title\":{\"standoff\":15},\"zerolinecolor\":\"#EBF0F8\",\"zerolinewidth\":2}}},\"xaxis\":{\"anchor\":\"y\",\"domain\":[0.0,1.0],\"title\":{\"text\":\"Dataset\"}},\"yaxis\":{\"anchor\":\"x\",\"domain\":[0.0,1.0],\"autorange\":\"reversed\",\"title\":{\"text\":\"Model\"}},\"coloraxis\":{\"colorbar\":{\"title\":{\"text\":\"Rank (1=best)\"}},\"colorscale\":[[0.0,\"rgb(0,68,27)\"],[0.125,\"rgb(0,109,44)\"],[0.25,\"rgb(35,139,69)\"],[0.375,\"rgb(65,171,93)\"],[0.5,\"rgb(116,196,118)\"],[0.625,\"rgb(161,217,155)\"],[0.75,\"rgb(199,233,192)\"],[0.875,\"rgb(229,245,224)\"],[1.0,\"rgb(247,252,245)\"]],\"cmin\":1,\"cmax\":10,\"showscale\":false},\"margin\":{\"t\":60},\"annotations\":[{\"font\":{\"color\":\"white\",\"size\":22,\"weight\":\"normal\"},\"showarrow\":false,\"text\":\"#1\",\"x\":0,\"y\":0},{\"font\":{\"color\":\"white\",\"size\":22,\"weight\":\"normal\"},\"showarrow\":false,\"text\":\"#1\",\"x\":1,\"y\":0},{\"font\":{\"color\":\"white\",\"size\":22,\"weight\":\"normal\"},\"showarrow\":false,\"text\":\"#3\",\"x\":2,\"y\":0},{\"font\":{\"color\":\"white\",\"size\":22,\"weight\":\"normal\"},\"showarrow\":false,\"text\":\"#5\",\"x\":3,\"y\":0},{\"font\":{\"color\":\"white\",\"size\":22,\"weight\":\"normal\"},\"showarrow\":false,\"text\":\"#3\",\"x\":4,\"y\":0},{\"font\":{\"color\":\"white\",\"size\":22,\"weight\":\"normal\"},\"showarrow\":false,\"text\":\"#1\",\"x\":5,\"y\":0},{\"font\":{\"color\":\"white\",\"size\":22,\"weight\":\"normal\"},\"showarrow\":false,\"text\":\"#2\",\"x\":0,\"y\":1},{\"font\":{\"color\":\"white\",\"size\":22,\"weight\":\"normal\"},\"showarrow\":false,\"text\":\"#2\",\"x\":1,\"y\":1},{\"font\":{\"color\":\"white\",\"size\":22,\"weight\":\"normal\"},\"showarrow\":false,\"text\":\"#2\",\"x\":2,\"y\":1},{\"font\":{\"color\":\"white\",\"size\":22,\"weight\":\"normal\"},\"showarrow\":false,\"text\":\"#4\",\"x\":3,\"y\":1},{\"font\":{\"color\":\"white\",\"size\":22,\"weight\":\"normal\"},\"showarrow\":false,\"text\":\"#1\",\"x\":4,\"y\":1},{\"font\":{\"color\":\"white\",\"size\":22,\"weight\":\"normal\"},\"showarrow\":false,\"text\":\"#2\",\"x\":5,\"y\":1},{\"font\":{\"color\":\"white\",\"size\":22,\"weight\":\"normal\"},\"showarrow\":false,\"text\":\"#3\",\"x\":0,\"y\":2},{\"font\":{\"color\":\"white\",\"size\":22,\"weight\":\"normal\"},\"showarrow\":false,\"text\":\"#3\",\"x\":1,\"y\":2},{\"font\":{\"color\":\"white\",\"size\":22,\"weight\":\"normal\"},\"showarrow\":false,\"text\":\"#1\",\"x\":2,\"y\":2},{\"font\":{\"color\":\"white\",\"size\":22,\"weight\":\"normal\"},\"showarrow\":false,\"text\":\"#1\",\"x\":3,\"y\":2},{\"font\":{\"color\":\"white\",\"size\":22,\"weight\":\"normal\"},\"showarrow\":false,\"text\":\"#4\",\"x\":4,\"y\":2},{\"font\":{\"color\":\"white\",\"size\":22,\"weight\":\"normal\"},\"showarrow\":false,\"text\":\"#5\",\"x\":5,\"y\":2},{\"font\":{\"color\":\"white\",\"size\":22,\"weight\":\"normal\"},\"showarrow\":false,\"text\":\"#7\",\"x\":0,\"y\":3},{\"font\":{\"color\":\"white\",\"size\":22,\"weight\":\"normal\"},\"showarrow\":false,\"text\":\"#8\",\"x\":1,\"y\":3},{\"font\":{\"color\":\"white\",\"size\":22,\"weight\":\"normal\"},\"showarrow\":false,\"text\":\"#6\",\"x\":2,\"y\":3},{\"font\":{\"color\":\"white\",\"size\":22,\"weight\":\"normal\"},\"showarrow\":false,\"text\":\"#8\",\"x\":3,\"y\":3},{\"font\":{\"color\":\"white\",\"size\":22,\"weight\":\"normal\"},\"showarrow\":false,\"text\":\"#2\",\"x\":4,\"y\":3},{\"font\":{\"color\":\"white\",\"size\":22,\"weight\":\"normal\"},\"showarrow\":false,\"text\":\"#6\",\"x\":5,\"y\":3},{\"font\":{\"color\":\"white\",\"size\":22,\"weight\":\"normal\"},\"showarrow\":false,\"text\":\"#8\",\"x\":0,\"y\":4},{\"font\":{\"color\":\"white\",\"size\":22,\"weight\":\"normal\"},\"showarrow\":false,\"text\":\"#6\",\"x\":1,\"y\":4},{\"font\":{\"color\":\"white\",\"size\":22,\"weight\":\"normal\"},\"showarrow\":false,\"text\":\"#4\",\"x\":2,\"y\":4},{\"font\":{\"color\":\"white\",\"size\":22,\"weight\":\"normal\"},\"showarrow\":false,\"text\":\"#3\",\"x\":3,\"y\":4},{\"font\":{\"color\":\"white\",\"size\":22,\"weight\":\"normal\"},\"showarrow\":false,\"text\":\"#5\",\"x\":4,\"y\":4},{\"font\":{\"color\":\"white\",\"size\":22,\"weight\":\"normal\"},\"showarrow\":false,\"text\":\"#9\",\"x\":5,\"y\":4},{\"font\":{\"color\":\"white\",\"size\":22,\"weight\":\"normal\"},\"showarrow\":false,\"text\":\"#4\",\"x\":0,\"y\":5},{\"font\":{\"color\":\"white\",\"size\":22,\"weight\":\"normal\"},\"showarrow\":false,\"text\":\"#5\",\"x\":1,\"y\":5},{\"font\":{\"color\":\"white\",\"size\":22,\"weight\":\"normal\"},\"showarrow\":false,\"text\":\"#5\",\"x\":2,\"y\":5},{\"font\":{\"color\":\"white\",\"size\":22,\"weight\":\"normal\"},\"showarrow\":false,\"text\":\"#7\",\"x\":3,\"y\":5},{\"font\":{\"color\":\"white\",\"size\":22,\"weight\":\"normal\"},\"showarrow\":false,\"text\":\"#8\",\"x\":4,\"y\":5},{\"font\":{\"color\":\"white\",\"size\":22,\"weight\":\"normal\"},\"showarrow\":false,\"text\":\"#4\",\"x\":5,\"y\":5},{\"font\":{\"color\":\"white\",\"size\":22,\"weight\":\"normal\"},\"showarrow\":false,\"text\":\"#5\",\"x\":0,\"y\":6},{\"font\":{\"color\":\"white\",\"size\":22,\"weight\":\"normal\"},\"showarrow\":false,\"text\":\"#7\",\"x\":1,\"y\":6},{\"font\":{\"color\":\"white\",\"size\":22,\"weight\":\"normal\"},\"showarrow\":false,\"text\":\"#7\",\"x\":2,\"y\":6},{\"font\":{\"color\":\"white\",\"size\":22,\"weight\":\"normal\"},\"showarrow\":false,\"text\":\"#6\",\"x\":3,\"y\":6},{\"font\":{\"color\":\"white\",\"size\":22,\"weight\":\"normal\"},\"showarrow\":false,\"text\":\"#6\",\"x\":4,\"y\":6},{\"font\":{\"color\":\"white\",\"size\":22,\"weight\":\"normal\"},\"showarrow\":false,\"text\":\"#7\",\"x\":5,\"y\":6},{\"font\":{\"color\":\"white\",\"size\":22,\"weight\":\"normal\"},\"showarrow\":false,\"text\":\"#6\",\"x\":0,\"y\":7},{\"font\":{\"color\":\"white\",\"size\":22,\"weight\":\"normal\"},\"showarrow\":false,\"text\":\"#4\",\"x\":1,\"y\":7},{\"font\":{\"color\":\"white\",\"size\":22,\"weight\":\"normal\"},\"showarrow\":false,\"text\":\"#8\",\"x\":2,\"y\":7},{\"font\":{\"color\":\"white\",\"size\":22,\"weight\":\"normal\"},\"showarrow\":false,\"text\":\"#2\",\"x\":3,\"y\":7},{\"font\":{\"color\":\"white\",\"size\":22,\"weight\":\"normal\"},\"showarrow\":false,\"text\":\"#10\",\"x\":4,\"y\":7},{\"font\":{\"color\":\"white\",\"size\":22,\"weight\":\"normal\"},\"showarrow\":false,\"text\":\"#8\",\"x\":5,\"y\":7},{\"font\":{\"color\":\"white\",\"size\":22,\"weight\":\"normal\"},\"showarrow\":false,\"text\":\"#9\",\"x\":0,\"y\":8},{\"font\":{\"color\":\"white\",\"size\":22,\"weight\":\"normal\"},\"showarrow\":false,\"text\":\"#10\",\"x\":1,\"y\":8},{\"font\":{\"color\":\"white\",\"size\":22,\"weight\":\"normal\"},\"showarrow\":false,\"text\":\"#10\",\"x\":2,\"y\":8},{\"font\":{\"color\":\"white\",\"size\":22,\"weight\":\"normal\"},\"showarrow\":false,\"text\":\"#9\",\"x\":3,\"y\":8},{\"font\":{\"color\":\"white\",\"size\":22,\"weight\":\"normal\"},\"showarrow\":false,\"text\":\"#9\",\"x\":4,\"y\":8},{\"font\":{\"color\":\"white\",\"size\":22,\"weight\":\"normal\"},\"showarrow\":false,\"text\":\"#3\",\"x\":5,\"y\":8},{\"font\":{\"color\":\"white\",\"size\":22,\"weight\":\"normal\"},\"showarrow\":false,\"text\":\"#10\",\"x\":0,\"y\":9},{\"font\":{\"color\":\"white\",\"size\":22,\"weight\":\"normal\"},\"showarrow\":false,\"text\":\"#9\",\"x\":1,\"y\":9},{\"font\":{\"color\":\"white\",\"size\":22,\"weight\":\"normal\"},\"showarrow\":false,\"text\":\"#9\",\"x\":2,\"y\":9},{\"font\":{\"color\":\"white\",\"size\":22,\"weight\":\"normal\"},\"showarrow\":false,\"text\":\"#10\",\"x\":3,\"y\":9},{\"font\":{\"color\":\"white\",\"size\":22,\"weight\":\"normal\"},\"showarrow\":false,\"text\":\"#7\",\"x\":4,\"y\":9},{\"font\":{\"color\":\"white\",\"size\":22,\"weight\":\"normal\"},\"showarrow\":false,\"text\":\"#10\",\"x\":5,\"y\":9}],\"font\":{\"size\":22},\"height\":1000,\"width\":1200},                        {\"responsive\": true}                    ).then(function(){\n",
       "                            \n",
       "var gd = document.getElementById('53910163-bfb1-481b-aa7b-42886352ea23');\n",
       "var x = new MutationObserver(function (mutations, observer) {{\n",
       "        var display = window.getComputedStyle(gd).display;\n",
       "        if (!display || display === 'none') {{\n",
       "            console.log([gd, 'removed!']);\n",
       "            Plotly.purge(gd);\n",
       "            observer.disconnect();\n",
       "        }}\n",
       "}});\n",
       "\n",
       "// Listen for the removal of the full notebook cells\n",
       "var notebookContainer = gd.closest('#notebook-container');\n",
       "if (notebookContainer) {{\n",
       "    x.observe(notebookContainer, {childList: true});\n",
       "}}\n",
       "\n",
       "// Listen for the clearing of the current output cell\n",
       "var outputEl = gd.closest('.output');\n",
       "if (outputEl) {{\n",
       "    x.observe(outputEl, {childList: true});\n",
       "}}\n",
       "\n",
       "                        })                };                });            </script>        </div>"
      ]
     },
     "metadata": {},
     "output_type": "display_data"
    },
    {
     "data": {
      "application/vnd.plotly.v1+json": {
       "config": {
        "plotlyServerURL": "https://plot.ly"
       },
       "data": [
        {
         "hovertemplate": "<b>%{fullData.name}</b><br>Dataset: %{x}<br>Score: %{y:.4f}<extra></extra>",
         "line": {
          "color": "rgb(8,48,107)",
          "dash": "solid",
          "width": 4
         },
         "marker": {
          "size": 8
         },
         "mode": "lines+markers",
         "name": "#1 FMCIBExtractor",
         "type": "scatter",
         "x": [
          "LUNA",
          "DLCS",
          "NSCLC_Radiomics",
          "NSCLC_Radiogenomics",
          "C4KC-KiTs",
          "ColRecMet"
         ],
         "y": [
          0.8860076960076959,
          0.6757963734378828,
          0.5770381836945304,
          0.5879464285714285,
          0.6869444444444444,
          0.5772222222222222
         ]
        },
        {
         "hovertemplate": "<b>%{fullData.name}</b><br>Dataset: %{x}<br>Score: %{y:.4f}<extra></extra>",
         "line": {
          "color": "rgb(8,81,156)",
          "dash": "solid",
          "width": 4
         },
         "marker": {
          "size": 8
         },
         "mode": "lines+markers",
         "name": "#2 ModelsGenExtractor",
         "type": "scatter",
         "x": [
          "LUNA",
          "DLCS",
          "NSCLC_Radiomics",
          "NSCLC_Radiogenomics",
          "C4KC-KiTs",
          "ColRecMet"
         ],
         "y": [
          0.806060606060606,
          0.6453197745650576,
          0.5773606811145511,
          0.6095982142857143,
          0.733611111111111,
          0.5301851851851851
         ]
        },
        {
         "hovertemplate": "<b>%{fullData.name}</b><br>Dataset: %{x}<br>Score: %{y:.4f}<extra></extra>",
         "line": {
          "color": "rgb(66,146,198)",
          "dash": "dash",
          "width": 4
         },
         "marker": {
          "size": 8
         },
         "mode": "lines+markers",
         "name": "#3 VISTA3DExtractor",
         "type": "scatter",
         "x": [
          "LUNA",
          "DLCS",
          "NSCLC_Radiomics",
          "NSCLC_Radiogenomics",
          "C4KC-KiTs",
          "ColRecMet"
         ],
         "y": [
          0.711120731120731,
          0.607937188597566,
          0.5826367389060888,
          0.6220982142857141,
          0.6816666666666666,
          0.4877777777777778
         ]
        },
        {
         "hovertemplate": "<b>%{fullData.name}</b><br>Dataset: %{x}<br>Score: %{y:.4f}<extra></extra>",
         "line": {
          "color": "rgb(107,174,214)",
          "dash": "dash",
          "width": 2
         },
         "marker": {
          "size": 8
         },
         "mode": "lines+markers",
         "name": "#4 SUPREMExtractor",
         "type": "scatter",
         "x": [
          "LUNA",
          "DLCS",
          "NSCLC_Radiomics",
          "NSCLC_Radiogenomics",
          "C4KC-KiTs",
          "ColRecMet"
         ],
         "y": [
          0.645021645021645,
          0.54421914563424,
          0.5606166150670795,
          0.5560267857142858,
          0.7186111111111111,
          0.4820370370370371
         ]
        },
        {
         "hovertemplate": "<b>%{fullData.name}</b><br>Dataset: %{x}<br>Score: %{y:.4f}<extra></extra>",
         "line": {
          "color": "rgb(158,202,225)",
          "dash": "dash",
          "width": 2
         },
         "marker": {
          "size": 8
         },
         "mode": "lines+markers",
         "name": "#5 MerlinExtractor",
         "type": "scatter",
         "x": [
          "LUNA",
          "DLCS",
          "NSCLC_Radiomics",
          "NSCLC_Radiogenomics",
          "C4KC-KiTs",
          "ColRecMet"
         ],
         "y": [
          0.6376430976430976,
          0.561696479621008,
          0.5698787409700723,
          0.6129464285714284,
          0.6425,
          0.4312962962962963
         ]
        },
        {
         "hovertemplate": "<b>%{fullData.name}</b><br>Dataset: %{x}<br>Score: %{y:.4f}<extra></extra>",
         "line": {
          "color": "rgb(158,202,225)",
          "dash": "dash",
          "width": 2
         },
         "marker": {
          "size": 8
         },
         "mode": "lines+markers",
         "name": "#6 MedImageInsightExtractor",
         "type": "scatter",
         "x": [
          "LUNA",
          "DLCS",
          "NSCLC_Radiomics",
          "NSCLC_Radiogenomics",
          "C4KC-KiTs",
          "ColRecMet"
         ],
         "y": [
          0.6757190957190957,
          0.5848280650167442,
          0.5647961816305469,
          0.5606026785714285,
          0.5619444444444445,
          0.4953703703703704
         ]
        },
        {
         "hovertemplate": "<b>%{fullData.name}</b><br>Dataset: %{x}<br>Score: %{y:.4f}<extra></extra>",
         "line": {
          "color": "rgb(158,202,225)",
          "dash": "dash",
          "width": 2
         },
         "marker": {
          "size": 8
         },
         "mode": "lines+markers",
         "name": "#7 PASTAExtractor",
         "type": "scatter",
         "x": [
          "LUNA",
          "DLCS",
          "NSCLC_Radiomics",
          "NSCLC_Radiogenomics",
          "C4KC-KiTs",
          "ColRecMet"
         ],
         "y": [
          0.6648388648388648,
          0.5563015600751451,
          0.5571078431372548,
          0.5698660714285715,
          0.6041666666666666,
          0.4648148148148148
         ]
        },
        {
         "hovertemplate": "<b>%{fullData.name}</b><br>Dataset: %{x}<br>Score: %{y:.4f}<extra></extra>",
         "line": {
          "color": "rgb(198,219,239)",
          "dash": "dash",
          "width": 2
         },
         "marker": {
          "size": 8
         },
         "mode": "lines+markers",
         "name": "#8 CTFMExtractor",
         "type": "scatter",
         "x": [
          "LUNA",
          "DLCS",
          "NSCLC_Radiomics",
          "NSCLC_Radiogenomics",
          "C4KC-KiTs",
          "ColRecMet"
         ],
         "y": [
          0.6543097643097643,
          0.5920342236379972,
          0.5442079463364292,
          0.6204241071428572,
          0.4633333333333334,
          0.4527777777777778
         ]
        },
        {
         "hovertemplate": "<b>%{fullData.name}</b><br>Dataset: %{x}<br>Score: %{y:.4f}<extra></extra>",
         "line": {
          "color": "rgb(247,251,255)",
          "dash": "dot",
          "width": 2
         },
         "marker": {
          "size": 8
         },
         "mode": "lines+markers",
         "name": "#9 CTClipVitExtractor",
         "type": "scatter",
         "x": [
          "LUNA",
          "DLCS",
          "NSCLC_Radiomics",
          "NSCLC_Radiogenomics",
          "C4KC-KiTs",
          "ColRecMet"
         ],
         "y": [
          0.5725637325637326,
          0.4944233439516458,
          0.4497033023735809,
          0.5103794642857142,
          0.4925,
          0.4957407407407408
         ]
        },
        {
         "hovertemplate": "<b>%{fullData.name}</b><br>Dataset: %{x}<br>Score: %{y:.4f}<extra></extra>",
         "line": {
          "color": "rgb(247,251,255)",
          "dash": "dot",
          "width": 2
         },
         "marker": {
          "size": 8
         },
         "mode": "lines+markers",
         "name": "#10 VocoExtractor",
         "type": "scatter",
         "x": [
          "LUNA",
          "DLCS",
          "NSCLC_Radiomics",
          "NSCLC_Radiogenomics",
          "C4KC-KiTs",
          "ColRecMet"
         ],
         "y": [
          0.4937614237614238,
          0.507138773176509,
          0.5261609907120743,
          0.4613839285714286,
          0.5633333333333332,
          0.4207407407407407
         ]
        },
        {
         "hovertemplate": "<b>Average Performance</b><br>Dataset: %{x}<br>Score: %{y:.4f}<extra></extra>",
         "line": {
          "color": "black",
          "dash": "dot",
          "width": 4
         },
         "marker": {
          "color": "black",
          "size": 10,
          "symbol": "diamond"
         },
         "mode": "lines+markers",
         "name": "Average Performance",
         "type": "scatter",
         "x": [
          "LUNA",
          "DLCS",
          "NSCLC_Radiomics",
          "NSCLC_Radiogenomics",
          "C4KC-KiTs",
          "ColRecMet"
         ],
         "y": [
          0.6747046657046656,
          0.5769694927713795,
          0.5509507223942208,
          0.5711272321428571,
          0.6148611111111111,
          0.4837962962962963
         ]
        }
       ],
       "layout": {
        "font": {
         "size": 25
        },
        "height": 1200,
        "legend": {
         "orientation": "h",
         "title": {
          "text": "Models (Ranked)"
         },
         "x": 1,
         "xanchor": "right",
         "y": 1.02,
         "yanchor": "bottom"
        },
        "margin": {
         "r": 200
        },
        "template": {
         "data": {
          "bar": [
           {
            "error_x": {
             "color": "#2a3f5f"
            },
            "error_y": {
             "color": "#2a3f5f"
            },
            "marker": {
             "line": {
              "color": "white",
              "width": 0.5
             },
             "pattern": {
              "fillmode": "overlay",
              "size": 10,
              "solidity": 0.2
             }
            },
            "type": "bar"
           }
          ],
          "barpolar": [
           {
            "marker": {
             "line": {
              "color": "white",
              "width": 0.5
             },
             "pattern": {
              "fillmode": "overlay",
              "size": 10,
              "solidity": 0.2
             }
            },
            "type": "barpolar"
           }
          ],
          "carpet": [
           {
            "aaxis": {
             "endlinecolor": "#2a3f5f",
             "gridcolor": "#C8D4E3",
             "linecolor": "#C8D4E3",
             "minorgridcolor": "#C8D4E3",
             "startlinecolor": "#2a3f5f"
            },
            "baxis": {
             "endlinecolor": "#2a3f5f",
             "gridcolor": "#C8D4E3",
             "linecolor": "#C8D4E3",
             "minorgridcolor": "#C8D4E3",
             "startlinecolor": "#2a3f5f"
            },
            "type": "carpet"
           }
          ],
          "choropleth": [
           {
            "colorbar": {
             "outlinewidth": 0,
             "ticks": ""
            },
            "type": "choropleth"
           }
          ],
          "contour": [
           {
            "colorbar": {
             "outlinewidth": 0,
             "ticks": ""
            },
            "colorscale": [
             [
              0,
              "#0d0887"
             ],
             [
              0.1111111111111111,
              "#46039f"
             ],
             [
              0.2222222222222222,
              "#7201a8"
             ],
             [
              0.3333333333333333,
              "#9c179e"
             ],
             [
              0.4444444444444444,
              "#bd3786"
             ],
             [
              0.5555555555555556,
              "#d8576b"
             ],
             [
              0.6666666666666666,
              "#ed7953"
             ],
             [
              0.7777777777777778,
              "#fb9f3a"
             ],
             [
              0.8888888888888888,
              "#fdca26"
             ],
             [
              1,
              "#f0f921"
             ]
            ],
            "type": "contour"
           }
          ],
          "contourcarpet": [
           {
            "colorbar": {
             "outlinewidth": 0,
             "ticks": ""
            },
            "type": "contourcarpet"
           }
          ],
          "heatmap": [
           {
            "colorbar": {
             "outlinewidth": 0,
             "ticks": ""
            },
            "colorscale": [
             [
              0,
              "#0d0887"
             ],
             [
              0.1111111111111111,
              "#46039f"
             ],
             [
              0.2222222222222222,
              "#7201a8"
             ],
             [
              0.3333333333333333,
              "#9c179e"
             ],
             [
              0.4444444444444444,
              "#bd3786"
             ],
             [
              0.5555555555555556,
              "#d8576b"
             ],
             [
              0.6666666666666666,
              "#ed7953"
             ],
             [
              0.7777777777777778,
              "#fb9f3a"
             ],
             [
              0.8888888888888888,
              "#fdca26"
             ],
             [
              1,
              "#f0f921"
             ]
            ],
            "type": "heatmap"
           }
          ],
          "heatmapgl": [
           {
            "colorbar": {
             "outlinewidth": 0,
             "ticks": ""
            },
            "colorscale": [
             [
              0,
              "#0d0887"
             ],
             [
              0.1111111111111111,
              "#46039f"
             ],
             [
              0.2222222222222222,
              "#7201a8"
             ],
             [
              0.3333333333333333,
              "#9c179e"
             ],
             [
              0.4444444444444444,
              "#bd3786"
             ],
             [
              0.5555555555555556,
              "#d8576b"
             ],
             [
              0.6666666666666666,
              "#ed7953"
             ],
             [
              0.7777777777777778,
              "#fb9f3a"
             ],
             [
              0.8888888888888888,
              "#fdca26"
             ],
             [
              1,
              "#f0f921"
             ]
            ],
            "type": "heatmapgl"
           }
          ],
          "histogram": [
           {
            "marker": {
             "pattern": {
              "fillmode": "overlay",
              "size": 10,
              "solidity": 0.2
             }
            },
            "type": "histogram"
           }
          ],
          "histogram2d": [
           {
            "colorbar": {
             "outlinewidth": 0,
             "ticks": ""
            },
            "colorscale": [
             [
              0,
              "#0d0887"
             ],
             [
              0.1111111111111111,
              "#46039f"
             ],
             [
              0.2222222222222222,
              "#7201a8"
             ],
             [
              0.3333333333333333,
              "#9c179e"
             ],
             [
              0.4444444444444444,
              "#bd3786"
             ],
             [
              0.5555555555555556,
              "#d8576b"
             ],
             [
              0.6666666666666666,
              "#ed7953"
             ],
             [
              0.7777777777777778,
              "#fb9f3a"
             ],
             [
              0.8888888888888888,
              "#fdca26"
             ],
             [
              1,
              "#f0f921"
             ]
            ],
            "type": "histogram2d"
           }
          ],
          "histogram2dcontour": [
           {
            "colorbar": {
             "outlinewidth": 0,
             "ticks": ""
            },
            "colorscale": [
             [
              0,
              "#0d0887"
             ],
             [
              0.1111111111111111,
              "#46039f"
             ],
             [
              0.2222222222222222,
              "#7201a8"
             ],
             [
              0.3333333333333333,
              "#9c179e"
             ],
             [
              0.4444444444444444,
              "#bd3786"
             ],
             [
              0.5555555555555556,
              "#d8576b"
             ],
             [
              0.6666666666666666,
              "#ed7953"
             ],
             [
              0.7777777777777778,
              "#fb9f3a"
             ],
             [
              0.8888888888888888,
              "#fdca26"
             ],
             [
              1,
              "#f0f921"
             ]
            ],
            "type": "histogram2dcontour"
           }
          ],
          "mesh3d": [
           {
            "colorbar": {
             "outlinewidth": 0,
             "ticks": ""
            },
            "type": "mesh3d"
           }
          ],
          "parcoords": [
           {
            "line": {
             "colorbar": {
              "outlinewidth": 0,
              "ticks": ""
             }
            },
            "type": "parcoords"
           }
          ],
          "pie": [
           {
            "automargin": true,
            "type": "pie"
           }
          ],
          "scatter": [
           {
            "fillpattern": {
             "fillmode": "overlay",
             "size": 10,
             "solidity": 0.2
            },
            "type": "scatter"
           }
          ],
          "scatter3d": [
           {
            "line": {
             "colorbar": {
              "outlinewidth": 0,
              "ticks": ""
             }
            },
            "marker": {
             "colorbar": {
              "outlinewidth": 0,
              "ticks": ""
             }
            },
            "type": "scatter3d"
           }
          ],
          "scattercarpet": [
           {
            "marker": {
             "colorbar": {
              "outlinewidth": 0,
              "ticks": ""
             }
            },
            "type": "scattercarpet"
           }
          ],
          "scattergeo": [
           {
            "marker": {
             "colorbar": {
              "outlinewidth": 0,
              "ticks": ""
             }
            },
            "type": "scattergeo"
           }
          ],
          "scattergl": [
           {
            "marker": {
             "colorbar": {
              "outlinewidth": 0,
              "ticks": ""
             }
            },
            "type": "scattergl"
           }
          ],
          "scattermapbox": [
           {
            "marker": {
             "colorbar": {
              "outlinewidth": 0,
              "ticks": ""
             }
            },
            "type": "scattermapbox"
           }
          ],
          "scatterpolar": [
           {
            "marker": {
             "colorbar": {
              "outlinewidth": 0,
              "ticks": ""
             }
            },
            "type": "scatterpolar"
           }
          ],
          "scatterpolargl": [
           {
            "marker": {
             "colorbar": {
              "outlinewidth": 0,
              "ticks": ""
             }
            },
            "type": "scatterpolargl"
           }
          ],
          "scatterternary": [
           {
            "marker": {
             "colorbar": {
              "outlinewidth": 0,
              "ticks": ""
             }
            },
            "type": "scatterternary"
           }
          ],
          "surface": [
           {
            "colorbar": {
             "outlinewidth": 0,
             "ticks": ""
            },
            "colorscale": [
             [
              0,
              "#0d0887"
             ],
             [
              0.1111111111111111,
              "#46039f"
             ],
             [
              0.2222222222222222,
              "#7201a8"
             ],
             [
              0.3333333333333333,
              "#9c179e"
             ],
             [
              0.4444444444444444,
              "#bd3786"
             ],
             [
              0.5555555555555556,
              "#d8576b"
             ],
             [
              0.6666666666666666,
              "#ed7953"
             ],
             [
              0.7777777777777778,
              "#fb9f3a"
             ],
             [
              0.8888888888888888,
              "#fdca26"
             ],
             [
              1,
              "#f0f921"
             ]
            ],
            "type": "surface"
           }
          ],
          "table": [
           {
            "cells": {
             "fill": {
              "color": "#EBF0F8"
             },
             "line": {
              "color": "white"
             }
            },
            "header": {
             "fill": {
              "color": "#C8D4E3"
             },
             "line": {
              "color": "white"
             }
            },
            "type": "table"
           }
          ]
         },
         "layout": {
          "annotationdefaults": {
           "arrowcolor": "#2a3f5f",
           "arrowhead": 0,
           "arrowwidth": 1
          },
          "autotypenumbers": "strict",
          "coloraxis": {
           "colorbar": {
            "outlinewidth": 0,
            "ticks": ""
           }
          },
          "colorscale": {
           "diverging": [
            [
             0,
             "#8e0152"
            ],
            [
             0.1,
             "#c51b7d"
            ],
            [
             0.2,
             "#de77ae"
            ],
            [
             0.3,
             "#f1b6da"
            ],
            [
             0.4,
             "#fde0ef"
            ],
            [
             0.5,
             "#f7f7f7"
            ],
            [
             0.6,
             "#e6f5d0"
            ],
            [
             0.7,
             "#b8e186"
            ],
            [
             0.8,
             "#7fbc41"
            ],
            [
             0.9,
             "#4d9221"
            ],
            [
             1,
             "#276419"
            ]
           ],
           "sequential": [
            [
             0,
             "#0d0887"
            ],
            [
             0.1111111111111111,
             "#46039f"
            ],
            [
             0.2222222222222222,
             "#7201a8"
            ],
            [
             0.3333333333333333,
             "#9c179e"
            ],
            [
             0.4444444444444444,
             "#bd3786"
            ],
            [
             0.5555555555555556,
             "#d8576b"
            ],
            [
             0.6666666666666666,
             "#ed7953"
            ],
            [
             0.7777777777777778,
             "#fb9f3a"
            ],
            [
             0.8888888888888888,
             "#fdca26"
            ],
            [
             1,
             "#f0f921"
            ]
           ],
           "sequentialminus": [
            [
             0,
             "#0d0887"
            ],
            [
             0.1111111111111111,
             "#46039f"
            ],
            [
             0.2222222222222222,
             "#7201a8"
            ],
            [
             0.3333333333333333,
             "#9c179e"
            ],
            [
             0.4444444444444444,
             "#bd3786"
            ],
            [
             0.5555555555555556,
             "#d8576b"
            ],
            [
             0.6666666666666666,
             "#ed7953"
            ],
            [
             0.7777777777777778,
             "#fb9f3a"
            ],
            [
             0.8888888888888888,
             "#fdca26"
            ],
            [
             1,
             "#f0f921"
            ]
           ]
          },
          "colorway": [
           "#636efa",
           "#EF553B",
           "#00cc96",
           "#ab63fa",
           "#FFA15A",
           "#19d3f3",
           "#FF6692",
           "#B6E880",
           "#FF97FF",
           "#FECB52"
          ],
          "font": {
           "color": "#2a3f5f"
          },
          "geo": {
           "bgcolor": "white",
           "lakecolor": "white",
           "landcolor": "white",
           "showlakes": true,
           "showland": true,
           "subunitcolor": "#C8D4E3"
          },
          "hoverlabel": {
           "align": "left"
          },
          "hovermode": "closest",
          "mapbox": {
           "style": "light"
          },
          "paper_bgcolor": "white",
          "plot_bgcolor": "white",
          "polar": {
           "angularaxis": {
            "gridcolor": "#EBF0F8",
            "linecolor": "#EBF0F8",
            "ticks": ""
           },
           "bgcolor": "white",
           "radialaxis": {
            "gridcolor": "#EBF0F8",
            "linecolor": "#EBF0F8",
            "ticks": ""
           }
          },
          "scene": {
           "xaxis": {
            "backgroundcolor": "white",
            "gridcolor": "#DFE8F3",
            "gridwidth": 2,
            "linecolor": "#EBF0F8",
            "showbackground": true,
            "ticks": "",
            "zerolinecolor": "#EBF0F8"
           },
           "yaxis": {
            "backgroundcolor": "white",
            "gridcolor": "#DFE8F3",
            "gridwidth": 2,
            "linecolor": "#EBF0F8",
            "showbackground": true,
            "ticks": "",
            "zerolinecolor": "#EBF0F8"
           },
           "zaxis": {
            "backgroundcolor": "white",
            "gridcolor": "#DFE8F3",
            "gridwidth": 2,
            "linecolor": "#EBF0F8",
            "showbackground": true,
            "ticks": "",
            "zerolinecolor": "#EBF0F8"
           }
          },
          "shapedefaults": {
           "line": {
            "color": "#2a3f5f"
           }
          },
          "ternary": {
           "aaxis": {
            "gridcolor": "#DFE8F3",
            "linecolor": "#A2B1C6",
            "ticks": ""
           },
           "baxis": {
            "gridcolor": "#DFE8F3",
            "linecolor": "#A2B1C6",
            "ticks": ""
           },
           "bgcolor": "white",
           "caxis": {
            "gridcolor": "#DFE8F3",
            "linecolor": "#A2B1C6",
            "ticks": ""
           }
          },
          "title": {
           "x": 0.05
          },
          "xaxis": {
           "automargin": true,
           "gridcolor": "#EBF0F8",
           "linecolor": "#EBF0F8",
           "ticks": "",
           "title": {
            "standoff": 15
           },
           "zerolinecolor": "#EBF0F8",
           "zerolinewidth": 2
          },
          "yaxis": {
           "automargin": true,
           "gridcolor": "#EBF0F8",
           "linecolor": "#EBF0F8",
           "ticks": "",
           "title": {
            "standoff": 15
           },
           "zerolinecolor": "#EBF0F8",
           "zerolinewidth": 2
          }
         }
        },
        "title": {
         "text": ""
        },
        "width": 1200,
        "xaxis": {
         "gridcolor": "rgba(0,0,0,0.1)",
         "gridwidth": 1,
         "showgrid": true,
         "title": {
          "text": "Datasets"
         }
        },
        "yaxis": {
         "gridcolor": "rgba(0,0,0,0.1)",
         "gridwidth": 1,
         "range": [
          0.4,
          0.9
         ],
         "showgrid": true,
         "title": {
          "text": "Performance Score"
         }
        }
       }
      },
      "text/html": [
       "<div>                            <div id=\"b8d4eb51-30a5-4cf3-ad70-763d9337c023\" class=\"plotly-graph-div\" style=\"height:1200px; width:1200px;\"></div>            <script type=\"text/javascript\">                require([\"plotly\"], function(Plotly) {                    window.PLOTLYENV=window.PLOTLYENV || {};                                    if (document.getElementById(\"b8d4eb51-30a5-4cf3-ad70-763d9337c023\")) {                    Plotly.newPlot(                        \"b8d4eb51-30a5-4cf3-ad70-763d9337c023\",                        [{\"hovertemplate\":\"\\u003cb\\u003e%{fullData.name}\\u003c\\u002fb\\u003e\\u003cbr\\u003eDataset: %{x}\\u003cbr\\u003eScore: %{y:.4f}\\u003cextra\\u003e\\u003c\\u002fextra\\u003e\",\"line\":{\"color\":\"rgb(8,48,107)\",\"dash\":\"solid\",\"width\":4},\"marker\":{\"size\":8},\"mode\":\"lines+markers\",\"name\":\"#1 FMCIBExtractor\",\"x\":[\"LUNA\",\"DLCS\",\"NSCLC_Radiomics\",\"NSCLC_Radiogenomics\",\"C4KC-KiTs\",\"ColRecMet\"],\"y\":[0.8860076960076959,0.6757963734378828,0.5770381836945304,0.5879464285714285,0.6869444444444444,0.5772222222222222],\"type\":\"scatter\"},{\"hovertemplate\":\"\\u003cb\\u003e%{fullData.name}\\u003c\\u002fb\\u003e\\u003cbr\\u003eDataset: %{x}\\u003cbr\\u003eScore: %{y:.4f}\\u003cextra\\u003e\\u003c\\u002fextra\\u003e\",\"line\":{\"color\":\"rgb(8,81,156)\",\"dash\":\"solid\",\"width\":4},\"marker\":{\"size\":8},\"mode\":\"lines+markers\",\"name\":\"#2 ModelsGenExtractor\",\"x\":[\"LUNA\",\"DLCS\",\"NSCLC_Radiomics\",\"NSCLC_Radiogenomics\",\"C4KC-KiTs\",\"ColRecMet\"],\"y\":[0.806060606060606,0.6453197745650576,0.5773606811145511,0.6095982142857143,0.733611111111111,0.5301851851851851],\"type\":\"scatter\"},{\"hovertemplate\":\"\\u003cb\\u003e%{fullData.name}\\u003c\\u002fb\\u003e\\u003cbr\\u003eDataset: %{x}\\u003cbr\\u003eScore: %{y:.4f}\\u003cextra\\u003e\\u003c\\u002fextra\\u003e\",\"line\":{\"color\":\"rgb(66,146,198)\",\"dash\":\"dash\",\"width\":4},\"marker\":{\"size\":8},\"mode\":\"lines+markers\",\"name\":\"#3 VISTA3DExtractor\",\"x\":[\"LUNA\",\"DLCS\",\"NSCLC_Radiomics\",\"NSCLC_Radiogenomics\",\"C4KC-KiTs\",\"ColRecMet\"],\"y\":[0.711120731120731,0.607937188597566,0.5826367389060888,0.6220982142857141,0.6816666666666666,0.4877777777777778],\"type\":\"scatter\"},{\"hovertemplate\":\"\\u003cb\\u003e%{fullData.name}\\u003c\\u002fb\\u003e\\u003cbr\\u003eDataset: %{x}\\u003cbr\\u003eScore: %{y:.4f}\\u003cextra\\u003e\\u003c\\u002fextra\\u003e\",\"line\":{\"color\":\"rgb(107,174,214)\",\"dash\":\"dash\",\"width\":2},\"marker\":{\"size\":8},\"mode\":\"lines+markers\",\"name\":\"#4 SUPREMExtractor\",\"x\":[\"LUNA\",\"DLCS\",\"NSCLC_Radiomics\",\"NSCLC_Radiogenomics\",\"C4KC-KiTs\",\"ColRecMet\"],\"y\":[0.645021645021645,0.54421914563424,0.5606166150670795,0.5560267857142858,0.7186111111111111,0.4820370370370371],\"type\":\"scatter\"},{\"hovertemplate\":\"\\u003cb\\u003e%{fullData.name}\\u003c\\u002fb\\u003e\\u003cbr\\u003eDataset: %{x}\\u003cbr\\u003eScore: %{y:.4f}\\u003cextra\\u003e\\u003c\\u002fextra\\u003e\",\"line\":{\"color\":\"rgb(158,202,225)\",\"dash\":\"dash\",\"width\":2},\"marker\":{\"size\":8},\"mode\":\"lines+markers\",\"name\":\"#5 MerlinExtractor\",\"x\":[\"LUNA\",\"DLCS\",\"NSCLC_Radiomics\",\"NSCLC_Radiogenomics\",\"C4KC-KiTs\",\"ColRecMet\"],\"y\":[0.6376430976430976,0.561696479621008,0.5698787409700723,0.6129464285714284,0.6425,0.4312962962962963],\"type\":\"scatter\"},{\"hovertemplate\":\"\\u003cb\\u003e%{fullData.name}\\u003c\\u002fb\\u003e\\u003cbr\\u003eDataset: %{x}\\u003cbr\\u003eScore: %{y:.4f}\\u003cextra\\u003e\\u003c\\u002fextra\\u003e\",\"line\":{\"color\":\"rgb(158,202,225)\",\"dash\":\"dash\",\"width\":2},\"marker\":{\"size\":8},\"mode\":\"lines+markers\",\"name\":\"#6 MedImageInsightExtractor\",\"x\":[\"LUNA\",\"DLCS\",\"NSCLC_Radiomics\",\"NSCLC_Radiogenomics\",\"C4KC-KiTs\",\"ColRecMet\"],\"y\":[0.6757190957190957,0.5848280650167442,0.5647961816305469,0.5606026785714285,0.5619444444444445,0.4953703703703704],\"type\":\"scatter\"},{\"hovertemplate\":\"\\u003cb\\u003e%{fullData.name}\\u003c\\u002fb\\u003e\\u003cbr\\u003eDataset: %{x}\\u003cbr\\u003eScore: %{y:.4f}\\u003cextra\\u003e\\u003c\\u002fextra\\u003e\",\"line\":{\"color\":\"rgb(158,202,225)\",\"dash\":\"dash\",\"width\":2},\"marker\":{\"size\":8},\"mode\":\"lines+markers\",\"name\":\"#7 PASTAExtractor\",\"x\":[\"LUNA\",\"DLCS\",\"NSCLC_Radiomics\",\"NSCLC_Radiogenomics\",\"C4KC-KiTs\",\"ColRecMet\"],\"y\":[0.6648388648388648,0.5563015600751451,0.5571078431372548,0.5698660714285715,0.6041666666666666,0.4648148148148148],\"type\":\"scatter\"},{\"hovertemplate\":\"\\u003cb\\u003e%{fullData.name}\\u003c\\u002fb\\u003e\\u003cbr\\u003eDataset: %{x}\\u003cbr\\u003eScore: %{y:.4f}\\u003cextra\\u003e\\u003c\\u002fextra\\u003e\",\"line\":{\"color\":\"rgb(198,219,239)\",\"dash\":\"dash\",\"width\":2},\"marker\":{\"size\":8},\"mode\":\"lines+markers\",\"name\":\"#8 CTFMExtractor\",\"x\":[\"LUNA\",\"DLCS\",\"NSCLC_Radiomics\",\"NSCLC_Radiogenomics\",\"C4KC-KiTs\",\"ColRecMet\"],\"y\":[0.6543097643097643,0.5920342236379972,0.5442079463364292,0.6204241071428572,0.4633333333333334,0.4527777777777778],\"type\":\"scatter\"},{\"hovertemplate\":\"\\u003cb\\u003e%{fullData.name}\\u003c\\u002fb\\u003e\\u003cbr\\u003eDataset: %{x}\\u003cbr\\u003eScore: %{y:.4f}\\u003cextra\\u003e\\u003c\\u002fextra\\u003e\",\"line\":{\"color\":\"rgb(247,251,255)\",\"dash\":\"dot\",\"width\":2},\"marker\":{\"size\":8},\"mode\":\"lines+markers\",\"name\":\"#9 CTClipVitExtractor\",\"x\":[\"LUNA\",\"DLCS\",\"NSCLC_Radiomics\",\"NSCLC_Radiogenomics\",\"C4KC-KiTs\",\"ColRecMet\"],\"y\":[0.5725637325637326,0.4944233439516458,0.4497033023735809,0.5103794642857142,0.4925,0.4957407407407408],\"type\":\"scatter\"},{\"hovertemplate\":\"\\u003cb\\u003e%{fullData.name}\\u003c\\u002fb\\u003e\\u003cbr\\u003eDataset: %{x}\\u003cbr\\u003eScore: %{y:.4f}\\u003cextra\\u003e\\u003c\\u002fextra\\u003e\",\"line\":{\"color\":\"rgb(247,251,255)\",\"dash\":\"dot\",\"width\":2},\"marker\":{\"size\":8},\"mode\":\"lines+markers\",\"name\":\"#10 VocoExtractor\",\"x\":[\"LUNA\",\"DLCS\",\"NSCLC_Radiomics\",\"NSCLC_Radiogenomics\",\"C4KC-KiTs\",\"ColRecMet\"],\"y\":[0.4937614237614238,0.507138773176509,0.5261609907120743,0.4613839285714286,0.5633333333333332,0.4207407407407407],\"type\":\"scatter\"},{\"hovertemplate\":\"\\u003cb\\u003eAverage Performance\\u003c\\u002fb\\u003e\\u003cbr\\u003eDataset: %{x}\\u003cbr\\u003eScore: %{y:.4f}\\u003cextra\\u003e\\u003c\\u002fextra\\u003e\",\"line\":{\"color\":\"black\",\"dash\":\"dot\",\"width\":4},\"marker\":{\"color\":\"black\",\"size\":10,\"symbol\":\"diamond\"},\"mode\":\"lines+markers\",\"name\":\"Average Performance\",\"x\":[\"LUNA\",\"DLCS\",\"NSCLC_Radiomics\",\"NSCLC_Radiogenomics\",\"C4KC-KiTs\",\"ColRecMet\"],\"y\":[0.6747046657046656,0.5769694927713795,0.5509507223942208,0.5711272321428571,0.6148611111111111,0.4837962962962963],\"type\":\"scatter\"}],                        {\"template\":{\"data\":{\"barpolar\":[{\"marker\":{\"line\":{\"color\":\"white\",\"width\":0.5},\"pattern\":{\"fillmode\":\"overlay\",\"size\":10,\"solidity\":0.2}},\"type\":\"barpolar\"}],\"bar\":[{\"error_x\":{\"color\":\"#2a3f5f\"},\"error_y\":{\"color\":\"#2a3f5f\"},\"marker\":{\"line\":{\"color\":\"white\",\"width\":0.5},\"pattern\":{\"fillmode\":\"overlay\",\"size\":10,\"solidity\":0.2}},\"type\":\"bar\"}],\"carpet\":[{\"aaxis\":{\"endlinecolor\":\"#2a3f5f\",\"gridcolor\":\"#C8D4E3\",\"linecolor\":\"#C8D4E3\",\"minorgridcolor\":\"#C8D4E3\",\"startlinecolor\":\"#2a3f5f\"},\"baxis\":{\"endlinecolor\":\"#2a3f5f\",\"gridcolor\":\"#C8D4E3\",\"linecolor\":\"#C8D4E3\",\"minorgridcolor\":\"#C8D4E3\",\"startlinecolor\":\"#2a3f5f\"},\"type\":\"carpet\"}],\"choropleth\":[{\"colorbar\":{\"outlinewidth\":0,\"ticks\":\"\"},\"type\":\"choropleth\"}],\"contourcarpet\":[{\"colorbar\":{\"outlinewidth\":0,\"ticks\":\"\"},\"type\":\"contourcarpet\"}],\"contour\":[{\"colorbar\":{\"outlinewidth\":0,\"ticks\":\"\"},\"colorscale\":[[0.0,\"#0d0887\"],[0.1111111111111111,\"#46039f\"],[0.2222222222222222,\"#7201a8\"],[0.3333333333333333,\"#9c179e\"],[0.4444444444444444,\"#bd3786\"],[0.5555555555555556,\"#d8576b\"],[0.6666666666666666,\"#ed7953\"],[0.7777777777777778,\"#fb9f3a\"],[0.8888888888888888,\"#fdca26\"],[1.0,\"#f0f921\"]],\"type\":\"contour\"}],\"heatmapgl\":[{\"colorbar\":{\"outlinewidth\":0,\"ticks\":\"\"},\"colorscale\":[[0.0,\"#0d0887\"],[0.1111111111111111,\"#46039f\"],[0.2222222222222222,\"#7201a8\"],[0.3333333333333333,\"#9c179e\"],[0.4444444444444444,\"#bd3786\"],[0.5555555555555556,\"#d8576b\"],[0.6666666666666666,\"#ed7953\"],[0.7777777777777778,\"#fb9f3a\"],[0.8888888888888888,\"#fdca26\"],[1.0,\"#f0f921\"]],\"type\":\"heatmapgl\"}],\"heatmap\":[{\"colorbar\":{\"outlinewidth\":0,\"ticks\":\"\"},\"colorscale\":[[0.0,\"#0d0887\"],[0.1111111111111111,\"#46039f\"],[0.2222222222222222,\"#7201a8\"],[0.3333333333333333,\"#9c179e\"],[0.4444444444444444,\"#bd3786\"],[0.5555555555555556,\"#d8576b\"],[0.6666666666666666,\"#ed7953\"],[0.7777777777777778,\"#fb9f3a\"],[0.8888888888888888,\"#fdca26\"],[1.0,\"#f0f921\"]],\"type\":\"heatmap\"}],\"histogram2dcontour\":[{\"colorbar\":{\"outlinewidth\":0,\"ticks\":\"\"},\"colorscale\":[[0.0,\"#0d0887\"],[0.1111111111111111,\"#46039f\"],[0.2222222222222222,\"#7201a8\"],[0.3333333333333333,\"#9c179e\"],[0.4444444444444444,\"#bd3786\"],[0.5555555555555556,\"#d8576b\"],[0.6666666666666666,\"#ed7953\"],[0.7777777777777778,\"#fb9f3a\"],[0.8888888888888888,\"#fdca26\"],[1.0,\"#f0f921\"]],\"type\":\"histogram2dcontour\"}],\"histogram2d\":[{\"colorbar\":{\"outlinewidth\":0,\"ticks\":\"\"},\"colorscale\":[[0.0,\"#0d0887\"],[0.1111111111111111,\"#46039f\"],[0.2222222222222222,\"#7201a8\"],[0.3333333333333333,\"#9c179e\"],[0.4444444444444444,\"#bd3786\"],[0.5555555555555556,\"#d8576b\"],[0.6666666666666666,\"#ed7953\"],[0.7777777777777778,\"#fb9f3a\"],[0.8888888888888888,\"#fdca26\"],[1.0,\"#f0f921\"]],\"type\":\"histogram2d\"}],\"histogram\":[{\"marker\":{\"pattern\":{\"fillmode\":\"overlay\",\"size\":10,\"solidity\":0.2}},\"type\":\"histogram\"}],\"mesh3d\":[{\"colorbar\":{\"outlinewidth\":0,\"ticks\":\"\"},\"type\":\"mesh3d\"}],\"parcoords\":[{\"line\":{\"colorbar\":{\"outlinewidth\":0,\"ticks\":\"\"}},\"type\":\"parcoords\"}],\"pie\":[{\"automargin\":true,\"type\":\"pie\"}],\"scatter3d\":[{\"line\":{\"colorbar\":{\"outlinewidth\":0,\"ticks\":\"\"}},\"marker\":{\"colorbar\":{\"outlinewidth\":0,\"ticks\":\"\"}},\"type\":\"scatter3d\"}],\"scattercarpet\":[{\"marker\":{\"colorbar\":{\"outlinewidth\":0,\"ticks\":\"\"}},\"type\":\"scattercarpet\"}],\"scattergeo\":[{\"marker\":{\"colorbar\":{\"outlinewidth\":0,\"ticks\":\"\"}},\"type\":\"scattergeo\"}],\"scattergl\":[{\"marker\":{\"colorbar\":{\"outlinewidth\":0,\"ticks\":\"\"}},\"type\":\"scattergl\"}],\"scattermapbox\":[{\"marker\":{\"colorbar\":{\"outlinewidth\":0,\"ticks\":\"\"}},\"type\":\"scattermapbox\"}],\"scatterpolargl\":[{\"marker\":{\"colorbar\":{\"outlinewidth\":0,\"ticks\":\"\"}},\"type\":\"scatterpolargl\"}],\"scatterpolar\":[{\"marker\":{\"colorbar\":{\"outlinewidth\":0,\"ticks\":\"\"}},\"type\":\"scatterpolar\"}],\"scatter\":[{\"fillpattern\":{\"fillmode\":\"overlay\",\"size\":10,\"solidity\":0.2},\"type\":\"scatter\"}],\"scatterternary\":[{\"marker\":{\"colorbar\":{\"outlinewidth\":0,\"ticks\":\"\"}},\"type\":\"scatterternary\"}],\"surface\":[{\"colorbar\":{\"outlinewidth\":0,\"ticks\":\"\"},\"colorscale\":[[0.0,\"#0d0887\"],[0.1111111111111111,\"#46039f\"],[0.2222222222222222,\"#7201a8\"],[0.3333333333333333,\"#9c179e\"],[0.4444444444444444,\"#bd3786\"],[0.5555555555555556,\"#d8576b\"],[0.6666666666666666,\"#ed7953\"],[0.7777777777777778,\"#fb9f3a\"],[0.8888888888888888,\"#fdca26\"],[1.0,\"#f0f921\"]],\"type\":\"surface\"}],\"table\":[{\"cells\":{\"fill\":{\"color\":\"#EBF0F8\"},\"line\":{\"color\":\"white\"}},\"header\":{\"fill\":{\"color\":\"#C8D4E3\"},\"line\":{\"color\":\"white\"}},\"type\":\"table\"}]},\"layout\":{\"annotationdefaults\":{\"arrowcolor\":\"#2a3f5f\",\"arrowhead\":0,\"arrowwidth\":1},\"autotypenumbers\":\"strict\",\"coloraxis\":{\"colorbar\":{\"outlinewidth\":0,\"ticks\":\"\"}},\"colorscale\":{\"diverging\":[[0,\"#8e0152\"],[0.1,\"#c51b7d\"],[0.2,\"#de77ae\"],[0.3,\"#f1b6da\"],[0.4,\"#fde0ef\"],[0.5,\"#f7f7f7\"],[0.6,\"#e6f5d0\"],[0.7,\"#b8e186\"],[0.8,\"#7fbc41\"],[0.9,\"#4d9221\"],[1,\"#276419\"]],\"sequential\":[[0.0,\"#0d0887\"],[0.1111111111111111,\"#46039f\"],[0.2222222222222222,\"#7201a8\"],[0.3333333333333333,\"#9c179e\"],[0.4444444444444444,\"#bd3786\"],[0.5555555555555556,\"#d8576b\"],[0.6666666666666666,\"#ed7953\"],[0.7777777777777778,\"#fb9f3a\"],[0.8888888888888888,\"#fdca26\"],[1.0,\"#f0f921\"]],\"sequentialminus\":[[0.0,\"#0d0887\"],[0.1111111111111111,\"#46039f\"],[0.2222222222222222,\"#7201a8\"],[0.3333333333333333,\"#9c179e\"],[0.4444444444444444,\"#bd3786\"],[0.5555555555555556,\"#d8576b\"],[0.6666666666666666,\"#ed7953\"],[0.7777777777777778,\"#fb9f3a\"],[0.8888888888888888,\"#fdca26\"],[1.0,\"#f0f921\"]]},\"colorway\":[\"#636efa\",\"#EF553B\",\"#00cc96\",\"#ab63fa\",\"#FFA15A\",\"#19d3f3\",\"#FF6692\",\"#B6E880\",\"#FF97FF\",\"#FECB52\"],\"font\":{\"color\":\"#2a3f5f\"},\"geo\":{\"bgcolor\":\"white\",\"lakecolor\":\"white\",\"landcolor\":\"white\",\"showlakes\":true,\"showland\":true,\"subunitcolor\":\"#C8D4E3\"},\"hoverlabel\":{\"align\":\"left\"},\"hovermode\":\"closest\",\"mapbox\":{\"style\":\"light\"},\"paper_bgcolor\":\"white\",\"plot_bgcolor\":\"white\",\"polar\":{\"angularaxis\":{\"gridcolor\":\"#EBF0F8\",\"linecolor\":\"#EBF0F8\",\"ticks\":\"\"},\"bgcolor\":\"white\",\"radialaxis\":{\"gridcolor\":\"#EBF0F8\",\"linecolor\":\"#EBF0F8\",\"ticks\":\"\"}},\"scene\":{\"xaxis\":{\"backgroundcolor\":\"white\",\"gridcolor\":\"#DFE8F3\",\"gridwidth\":2,\"linecolor\":\"#EBF0F8\",\"showbackground\":true,\"ticks\":\"\",\"zerolinecolor\":\"#EBF0F8\"},\"yaxis\":{\"backgroundcolor\":\"white\",\"gridcolor\":\"#DFE8F3\",\"gridwidth\":2,\"linecolor\":\"#EBF0F8\",\"showbackground\":true,\"ticks\":\"\",\"zerolinecolor\":\"#EBF0F8\"},\"zaxis\":{\"backgroundcolor\":\"white\",\"gridcolor\":\"#DFE8F3\",\"gridwidth\":2,\"linecolor\":\"#EBF0F8\",\"showbackground\":true,\"ticks\":\"\",\"zerolinecolor\":\"#EBF0F8\"}},\"shapedefaults\":{\"line\":{\"color\":\"#2a3f5f\"}},\"ternary\":{\"aaxis\":{\"gridcolor\":\"#DFE8F3\",\"linecolor\":\"#A2B1C6\",\"ticks\":\"\"},\"baxis\":{\"gridcolor\":\"#DFE8F3\",\"linecolor\":\"#A2B1C6\",\"ticks\":\"\"},\"bgcolor\":\"white\",\"caxis\":{\"gridcolor\":\"#DFE8F3\",\"linecolor\":\"#A2B1C6\",\"ticks\":\"\"}},\"title\":{\"x\":0.05},\"xaxis\":{\"automargin\":true,\"gridcolor\":\"#EBF0F8\",\"linecolor\":\"#EBF0F8\",\"ticks\":\"\",\"title\":{\"standoff\":15},\"zerolinecolor\":\"#EBF0F8\",\"zerolinewidth\":2},\"yaxis\":{\"automargin\":true,\"gridcolor\":\"#EBF0F8\",\"linecolor\":\"#EBF0F8\",\"ticks\":\"\",\"title\":{\"standoff\":15},\"zerolinecolor\":\"#EBF0F8\",\"zerolinewidth\":2}}},\"yaxis\":{\"title\":{\"text\":\"Performance Score\"},\"range\":[0.4,0.9],\"showgrid\":true,\"gridwidth\":1,\"gridcolor\":\"rgba(0,0,0,0.1)\"},\"legend\":{\"title\":{\"text\":\"Models (Ranked)\"},\"orientation\":\"h\",\"yanchor\":\"bottom\",\"y\":1.02,\"xanchor\":\"right\",\"x\":1},\"margin\":{\"r\":200},\"font\":{\"size\":25},\"title\":{\"text\":\"\"},\"xaxis\":{\"title\":{\"text\":\"Datasets\"},\"showgrid\":true,\"gridwidth\":1,\"gridcolor\":\"rgba(0,0,0,0.1)\"},\"height\":1200,\"width\":1200},                        {\"responsive\": true}                    ).then(function(){\n",
       "                            \n",
       "var gd = document.getElementById('b8d4eb51-30a5-4cf3-ad70-763d9337c023');\n",
       "var x = new MutationObserver(function (mutations, observer) {{\n",
       "        var display = window.getComputedStyle(gd).display;\n",
       "        if (!display || display === 'none') {{\n",
       "            console.log([gd, 'removed!']);\n",
       "            Plotly.purge(gd);\n",
       "            observer.disconnect();\n",
       "        }}\n",
       "}});\n",
       "\n",
       "// Listen for the removal of the full notebook cells\n",
       "var notebookContainer = gd.closest('#notebook-container');\n",
       "if (notebookContainer) {{\n",
       "    x.observe(notebookContainer, {childList: true});\n",
       "}}\n",
       "\n",
       "// Listen for the clearing of the current output cell\n",
       "var outputEl = gd.closest('.output');\n",
       "if (outputEl) {{\n",
       "    x.observe(outputEl, {childList: true});\n",
       "}}\n",
       "\n",
       "                        })                };                });            </script>        </div>"
      ]
     },
     "metadata": {},
     "output_type": "display_data"
    },
    {
     "data": {
      "text/html": [
       "<div>\n",
       "<style scoped>\n",
       "    .dataframe tbody tr th:only-of-type {\n",
       "        vertical-align: middle;\n",
       "    }\n",
       "\n",
       "    .dataframe tbody tr th {\n",
       "        vertical-align: top;\n",
       "    }\n",
       "\n",
       "    .dataframe thead th {\n",
       "        text-align: right;\n",
       "    }\n",
       "</style>\n",
       "<table border=\"1\" class=\"dataframe\">\n",
       "  <thead>\n",
       "    <tr style=\"text-align: right;\">\n",
       "      <th></th>\n",
       "      <th>Model</th>\n",
       "      <th>LUNA</th>\n",
       "      <th>DLCS</th>\n",
       "      <th>NSCLC_Radiomics</th>\n",
       "      <th>NSCLC_Radiogenomics</th>\n",
       "      <th>C4KC-KiTs</th>\n",
       "      <th>ColRecMet</th>\n",
       "      <th>Average Score</th>\n",
       "      <th>Std Dev</th>\n",
       "      <th>Rank</th>\n",
       "      <th>Tier</th>\n",
       "      <th>LUNA_Rank</th>\n",
       "      <th>DLCS_Rank</th>\n",
       "      <th>NSCLC_Radiomics_Rank</th>\n",
       "      <th>NSCLC_Radiogenomics_Rank</th>\n",
       "      <th>C4KC-KiTs_Rank</th>\n",
       "      <th>ColRecMet_Rank</th>\n",
       "    </tr>\n",
       "  </thead>\n",
       "  <tbody>\n",
       "    <tr>\n",
       "      <th>0</th>\n",
       "      <td>FMCIBExtractor</td>\n",
       "      <td>0.886008</td>\n",
       "      <td>0.675796</td>\n",
       "      <td>0.577038</td>\n",
       "      <td>0.587946</td>\n",
       "      <td>0.686944</td>\n",
       "      <td>0.577222</td>\n",
       "      <td>0.665159</td>\n",
       "      <td>0.119014</td>\n",
       "      <td>1</td>\n",
       "      <td>Top Tier</td>\n",
       "      <td>1</td>\n",
       "      <td>1</td>\n",
       "      <td>3</td>\n",
       "      <td>5</td>\n",
       "      <td>3</td>\n",
       "      <td>1</td>\n",
       "    </tr>\n",
       "    <tr>\n",
       "      <th>1</th>\n",
       "      <td>ModelsGenExtractor</td>\n",
       "      <td>0.806061</td>\n",
       "      <td>0.645320</td>\n",
       "      <td>0.577361</td>\n",
       "      <td>0.609598</td>\n",
       "      <td>0.733611</td>\n",
       "      <td>0.530185</td>\n",
       "      <td>0.650356</td>\n",
       "      <td>0.102598</td>\n",
       "      <td>2</td>\n",
       "      <td>Top Tier</td>\n",
       "      <td>2</td>\n",
       "      <td>2</td>\n",
       "      <td>2</td>\n",
       "      <td>4</td>\n",
       "      <td>1</td>\n",
       "      <td>2</td>\n",
       "    </tr>\n",
       "    <tr>\n",
       "      <th>2</th>\n",
       "      <td>VISTA3DExtractor</td>\n",
       "      <td>0.711121</td>\n",
       "      <td>0.607937</td>\n",
       "      <td>0.582637</td>\n",
       "      <td>0.622098</td>\n",
       "      <td>0.681667</td>\n",
       "      <td>0.487778</td>\n",
       "      <td>0.615540</td>\n",
       "      <td>0.078759</td>\n",
       "      <td>3</td>\n",
       "      <td>Middle Tier</td>\n",
       "      <td>3</td>\n",
       "      <td>3</td>\n",
       "      <td>1</td>\n",
       "      <td>1</td>\n",
       "      <td>4</td>\n",
       "      <td>5</td>\n",
       "    </tr>\n",
       "    <tr>\n",
       "      <th>3</th>\n",
       "      <td>SUPREMExtractor</td>\n",
       "      <td>0.645022</td>\n",
       "      <td>0.544219</td>\n",
       "      <td>0.560617</td>\n",
       "      <td>0.556027</td>\n",
       "      <td>0.718611</td>\n",
       "      <td>0.482037</td>\n",
       "      <td>0.584422</td>\n",
       "      <td>0.083846</td>\n",
       "      <td>4</td>\n",
       "      <td>Middle Tier</td>\n",
       "      <td>7</td>\n",
       "      <td>8</td>\n",
       "      <td>6</td>\n",
       "      <td>8</td>\n",
       "      <td>2</td>\n",
       "      <td>6</td>\n",
       "    </tr>\n",
       "    <tr>\n",
       "      <th>4</th>\n",
       "      <td>MerlinExtractor</td>\n",
       "      <td>0.637643</td>\n",
       "      <td>0.561696</td>\n",
       "      <td>0.569879</td>\n",
       "      <td>0.612946</td>\n",
       "      <td>0.642500</td>\n",
       "      <td>0.431296</td>\n",
       "      <td>0.575994</td>\n",
       "      <td>0.078445</td>\n",
       "      <td>5</td>\n",
       "      <td>Middle Tier</td>\n",
       "      <td>8</td>\n",
       "      <td>6</td>\n",
       "      <td>4</td>\n",
       "      <td>3</td>\n",
       "      <td>5</td>\n",
       "      <td>9</td>\n",
       "    </tr>\n",
       "    <tr>\n",
       "      <th>5</th>\n",
       "      <td>MedImageInsightExtractor</td>\n",
       "      <td>0.675719</td>\n",
       "      <td>0.584828</td>\n",
       "      <td>0.564796</td>\n",
       "      <td>0.560603</td>\n",
       "      <td>0.561944</td>\n",
       "      <td>0.495370</td>\n",
       "      <td>0.573877</td>\n",
       "      <td>0.058406</td>\n",
       "      <td>6</td>\n",
       "      <td>Middle Tier</td>\n",
       "      <td>4</td>\n",
       "      <td>5</td>\n",
       "      <td>5</td>\n",
       "      <td>7</td>\n",
       "      <td>8</td>\n",
       "      <td>4</td>\n",
       "    </tr>\n",
       "    <tr>\n",
       "      <th>6</th>\n",
       "      <td>PASTAExtractor</td>\n",
       "      <td>0.664839</td>\n",
       "      <td>0.556302</td>\n",
       "      <td>0.557108</td>\n",
       "      <td>0.569866</td>\n",
       "      <td>0.604167</td>\n",
       "      <td>0.464815</td>\n",
       "      <td>0.569516</td>\n",
       "      <td>0.065693</td>\n",
       "      <td>7</td>\n",
       "      <td>Middle Tier</td>\n",
       "      <td>5</td>\n",
       "      <td>7</td>\n",
       "      <td>7</td>\n",
       "      <td>6</td>\n",
       "      <td>6</td>\n",
       "      <td>7</td>\n",
       "    </tr>\n",
       "    <tr>\n",
       "      <th>7</th>\n",
       "      <td>CTFMExtractor</td>\n",
       "      <td>0.654310</td>\n",
       "      <td>0.592034</td>\n",
       "      <td>0.544208</td>\n",
       "      <td>0.620424</td>\n",
       "      <td>0.463333</td>\n",
       "      <td>0.452778</td>\n",
       "      <td>0.554515</td>\n",
       "      <td>0.083044</td>\n",
       "      <td>8</td>\n",
       "      <td>Middle Tier</td>\n",
       "      <td>6</td>\n",
       "      <td>4</td>\n",
       "      <td>8</td>\n",
       "      <td>2</td>\n",
       "      <td>10</td>\n",
       "      <td>8</td>\n",
       "    </tr>\n",
       "    <tr>\n",
       "      <th>8</th>\n",
       "      <td>CTClipVitExtractor</td>\n",
       "      <td>0.572564</td>\n",
       "      <td>0.494423</td>\n",
       "      <td>0.449703</td>\n",
       "      <td>0.510379</td>\n",
       "      <td>0.492500</td>\n",
       "      <td>0.495741</td>\n",
       "      <td>0.502552</td>\n",
       "      <td>0.039923</td>\n",
       "      <td>9</td>\n",
       "      <td>Lower Tier</td>\n",
       "      <td>9</td>\n",
       "      <td>10</td>\n",
       "      <td>10</td>\n",
       "      <td>9</td>\n",
       "      <td>9</td>\n",
       "      <td>3</td>\n",
       "    </tr>\n",
       "    <tr>\n",
       "      <th>9</th>\n",
       "      <td>VocoExtractor</td>\n",
       "      <td>0.493761</td>\n",
       "      <td>0.507139</td>\n",
       "      <td>0.526161</td>\n",
       "      <td>0.461384</td>\n",
       "      <td>0.563333</td>\n",
       "      <td>0.420741</td>\n",
       "      <td>0.495420</td>\n",
       "      <td>0.049865</td>\n",
       "      <td>10</td>\n",
       "      <td>Lower Tier</td>\n",
       "      <td>10</td>\n",
       "      <td>9</td>\n",
       "      <td>9</td>\n",
       "      <td>10</td>\n",
       "      <td>7</td>\n",
       "      <td>10</td>\n",
       "    </tr>\n",
       "  </tbody>\n",
       "</table>\n",
       "</div>"
      ],
      "text/plain": [
       "                      Model      LUNA      DLCS  NSCLC_Radiomics  \\\n",
       "0            FMCIBExtractor  0.886008  0.675796         0.577038   \n",
       "1        ModelsGenExtractor  0.806061  0.645320         0.577361   \n",
       "2          VISTA3DExtractor  0.711121  0.607937         0.582637   \n",
       "3           SUPREMExtractor  0.645022  0.544219         0.560617   \n",
       "4           MerlinExtractor  0.637643  0.561696         0.569879   \n",
       "5  MedImageInsightExtractor  0.675719  0.584828         0.564796   \n",
       "6            PASTAExtractor  0.664839  0.556302         0.557108   \n",
       "7             CTFMExtractor  0.654310  0.592034         0.544208   \n",
       "8        CTClipVitExtractor  0.572564  0.494423         0.449703   \n",
       "9             VocoExtractor  0.493761  0.507139         0.526161   \n",
       "\n",
       "   NSCLC_Radiogenomics  C4KC-KiTs  ColRecMet  Average Score   Std Dev  Rank  \\\n",
       "0             0.587946   0.686944   0.577222       0.665159  0.119014     1   \n",
       "1             0.609598   0.733611   0.530185       0.650356  0.102598     2   \n",
       "2             0.622098   0.681667   0.487778       0.615540  0.078759     3   \n",
       "3             0.556027   0.718611   0.482037       0.584422  0.083846     4   \n",
       "4             0.612946   0.642500   0.431296       0.575994  0.078445     5   \n",
       "5             0.560603   0.561944   0.495370       0.573877  0.058406     6   \n",
       "6             0.569866   0.604167   0.464815       0.569516  0.065693     7   \n",
       "7             0.620424   0.463333   0.452778       0.554515  0.083044     8   \n",
       "8             0.510379   0.492500   0.495741       0.502552  0.039923     9   \n",
       "9             0.461384   0.563333   0.420741       0.495420  0.049865    10   \n",
       "\n",
       "          Tier  LUNA_Rank  DLCS_Rank  NSCLC_Radiomics_Rank  \\\n",
       "0     Top Tier          1          1                     3   \n",
       "1     Top Tier          2          2                     2   \n",
       "2  Middle Tier          3          3                     1   \n",
       "3  Middle Tier          7          8                     6   \n",
       "4  Middle Tier          8          6                     4   \n",
       "5  Middle Tier          4          5                     5   \n",
       "6  Middle Tier          5          7                     7   \n",
       "7  Middle Tier          6          4                     8   \n",
       "8   Lower Tier          9         10                    10   \n",
       "9   Lower Tier         10          9                     9   \n",
       "\n",
       "   NSCLC_Radiogenomics_Rank  C4KC-KiTs_Rank  ColRecMet_Rank  \n",
       "0                         5               3               1  \n",
       "1                         4               1               2  \n",
       "2                         1               4               5  \n",
       "3                         8               2               6  \n",
       "4                         3               5               9  \n",
       "5                         7               8               4  \n",
       "6                         6               6               7  \n",
       "7                         2              10               8  \n",
       "8                         9               9               3  \n",
       "9                        10               7              10  "
      ]
     },
     "execution_count": 102,
     "metadata": {},
     "output_type": "execute_result"
    }
   ],
   "source": [
    "main(df)"
   ]
  },
  {
   "cell_type": "code",
   "execution_count": null,
   "metadata": {},
   "outputs": [],
   "source": []
  },
  {
   "cell_type": "code",
   "execution_count": null,
   "metadata": {},
   "outputs": [],
   "source": []
  }
 ],
 "metadata": {
  "kernelspec": {
   "display_name": "lighter_dev",
   "language": "python",
   "name": "python3"
  },
  "language_info": {
   "codemirror_mode": {
    "name": "ipython",
    "version": 3
   },
   "file_extension": ".py",
   "mimetype": "text/x-python",
   "name": "python",
   "nbconvert_exporter": "python",
   "pygments_lexer": "ipython3",
   "version": "3.10.14"
  }
 },
 "nbformat": 4,
 "nbformat_minor": 2
}
