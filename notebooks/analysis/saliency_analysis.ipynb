{
 "cells": [
  {
   "cell_type": "code",
   "execution_count": 24,
   "metadata": {},
   "outputs": [],
   "source": [
    "import sys\n",
    "sys.path.append('../..')\n",
    "from monai.visualize import OcclusionSensitivity\n",
    "from torch.nn.functional import cosine_similarity\n",
    "import torch\n",
    "import pandas as pd\n",
    "import gc\n",
    "from models import CTClipVitExtractor, CTFMExtractor, FMCIBExtractor, MedImageInsightExtractor, MerlinExtractor, ModelsGenExtractor, PASTAExtractor, SUPREMExtractor, VISTA3DExtractor, VocoExtractor"
   ]
  },
  {
   "cell_type": "code",
   "execution_count": 25,
   "metadata": {},
   "outputs": [],
   "source": [
    "def get_model_dict():\n",
    "    \"\"\"Return dictionary mapping model names to model classes for feature extraction.\"\"\"\n",
    "    models = [\n",
    "        FMCIBExtractor,\n",
    "        CTFMExtractor,\n",
    "        CTClipVitExtractor,\n",
    "        PASTAExtractor,\n",
    "        VISTA3DExtractor,\n",
    "        VocoExtractor,\n",
    "        SUPREMExtractor,\n",
    "        MerlinExtractor,\n",
    "        MedImageInsightExtractor,\n",
    "        ModelsGenExtractor,\n",
    "    ]\n",
    "    return {model.__name__: model for model in models}"
   ]
  },
  {
   "cell_type": "code",
   "execution_count": 21,
   "metadata": {},
   "outputs": [],
   "source": [
    "models = get_model_dict()"
   ]
  },
  {
   "cell_type": "code",
   "execution_count": 22,
   "metadata": {},
   "outputs": [],
   "source": [
    "dataset_dfs = {\n",
    "    \"LUNA\": \"/home/suraj/Repositories/FM-extractors-radiomics/data/eval/luna16/luna16/train.csv\",\n",
    "    \"DLCS\": \"/mnt/data1/datasets/DukeLungNoduleDataset/DLCSD24_Annotations.csv\",\n",
    "    \"NSCLC_Radiomics\": \"/home/suraj/Repositories/FM-extractors-radiomics/data/eval/nsclc_radiomics/train_annotations.csv\",\n",
    "    \"NSCLC_Radiogenomics\": \"/home/suraj/Repositories/FM-extractors-radiomics/data/eval/nsclc_radiogenomics/train_annotations.csv\",\n",
    "    \"C4KC-KiTs\": \"/home/suraj/Repositories/FM-extractors-radiomics/data/eval/c4c-kits/data.csv\",\n",
    "    \"ColRecMet\": \"/home/suraj/Repositories/FM-extractors-radiomics/data/eval/colorectal_liver_metastases/data.csv\",\n",
    "}"
   ]
  },
  {
   "cell_type": "code",
   "execution_count": null,
   "metadata": {},
   "outputs": [
    {
     "name": "stdout",
     "output_type": "stream",
     "text": [
      "Downloading: 1% [11976704 / 738451713] bytes"
     ]
    }
   ],
   "source": [
    "for encoder_name, encoder_module in models.items():\n",
    "    encoder = encoder_module()\n",
    "    occ_sens = OcclusionSensitivity(nn_module=encoder, n_batch=12, activate=False, mask_size=10, overlap=0.25)\n",
    "    for dataset_name, dataset_path in dataset_dfs.items():\n",
    "        sample = pd.read_csv(dataset_path).iloc[0].to_dict()\n",
    "        \n",
    "        x = encoder.preprocess(sample)\n",
    "        x = x[0].unsqueeze(0).to(\"cuda:0\")\n",
    "        print(x.shape)\n",
    "        occ_map, _ = occ_sens(x)\n",
    "\n",
    "        encoder.eval()\n",
    "        distance_maps = []\n",
    "        with torch.no_grad():\n",
    "            base_embedding = encoder(x)\n",
    "            distances = 1 - cosine_similarity(base_embedding.flatten().unsqueeze(0), occ_map.view(512, -1).t(), dim=1).squeeze()\n",
    "\n",
    "            distances = distances.view(*occ_map.shape[2:])\n",
    "            distance_maps.append(distances.cpu())\n",
    "\n",
    "            torch.cuda.empty_cache()\n",
    "            gc.collect()\n"
   ]
  }
 ],
 "metadata": {
  "kernelspec": {
   "display_name": "lighter_dev",
   "language": "python",
   "name": "python3"
  },
  "language_info": {
   "codemirror_mode": {
    "name": "ipython",
    "version": 3
   },
   "file_extension": ".py",
   "mimetype": "text/x-python",
   "name": "python",
   "nbconvert_exporter": "python",
   "pygments_lexer": "ipython3",
   "version": "3.10.14"
  }
 },
 "nbformat": 4,
 "nbformat_minor": 2
}
