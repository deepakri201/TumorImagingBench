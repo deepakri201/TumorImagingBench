{
 "cells": [
  {
   "cell_type": "code",
   "execution_count": 15,
   "id": "16418035",
   "metadata": {},
   "outputs": [],
   "source": [
    "# Import necessary libraries\n",
    "import pandas as pd # For data manipulation and analysis\n",
    "import numpy as np # For numerical operations\n",
    "import pickle # For serializing and deserializing Python objects\n",
    "from modelling_utils import train_knn_classifier, evaluate_model, plot_model_comparison"
   ]
  },
  {
   "cell_type": "code",
   "execution_count": 16,
   "id": "b355f85f",
   "metadata": {},
   "outputs": [],
   "source": [
    "# Load features from a pickle file\n",
    "feature_dict_path = \"/home/suraj/Repositories/FM-extractors-radiomics/evaluation/features/luna.pkl\" # Path to the pickle file containing features\n",
    "with open(feature_dict_path, 'rb') as file: # Open the file in read binary mode\n",
    "    data = pickle.load(file) # Load the data from the pickle file"
   ]
  },
  {
   "cell_type": "code",
   "execution_count": 17,
   "id": "c48a0aeb",
   "metadata": {},
   "outputs": [],
   "source": [
    "# Store test accuracies for each model\n",
    "test_accuracies_dict = {} # Initialize an empty dictionary to store test accuracies"
   ]
  },
  {
   "cell_type": "code",
   "execution_count": 18,
   "id": "a2d6ca32",
   "metadata": {},
   "outputs": [
    {
     "name": "stderr",
     "output_type": "stream",
     "text": [
      "[I 2025-01-22 16:22:02,093] A new study created in memory with name: no-name-e0ecfa42-ff39-4600-b6d0-e440afeec09d\n",
      "[I 2025-01-22 16:22:02,122] Trial 0 finished with value: 0.8395710681244744 and parameters: {'k': 3}. Best is trial 0 with value: 0.8395710681244744.\n",
      "[I 2025-01-22 16:22:02,145] Trial 1 finished with value: 0.8810625175217268 and parameters: {'k': 29}. Best is trial 1 with value: 0.8810625175217268.\n",
      "[I 2025-01-22 16:22:02,162] Trial 2 finished with value: 0.8882814690215867 and parameters: {'k': 14}. Best is trial 2 with value: 0.8882814690215867.\n",
      "[I 2025-01-22 16:22:02,179] Trial 3 finished with value: 0.8832352116624614 and parameters: {'k': 11}. Best is trial 2 with value: 0.8882814690215867.\n",
      "[I 2025-01-22 16:22:02,197] Trial 4 finished with value: 0.8782590412111017 and parameters: {'k': 27}. Best is trial 2 with value: 0.8882814690215867.\n",
      "[I 2025-01-22 16:22:02,214] Trial 5 finished with value: 0.883515559293524 and parameters: {'k': 25}. Best is trial 2 with value: 0.8882814690215867.\n",
      "[I 2025-01-22 16:22:02,231] Trial 6 finished with value: 0.88085225679843 and parameters: {'k': 28}. Best is trial 2 with value: 0.8882814690215867.\n",
      "[I 2025-01-22 16:22:02,247] Trial 7 finished with value: 0.8814830389683207 and parameters: {'k': 12}. Best is trial 2 with value: 0.8882814690215867.\n",
      "[I 2025-01-22 16:22:02,267] Trial 8 finished with value: 0.8849873843566022 and parameters: {'k': 18}. Best is trial 2 with value: 0.8882814690215867.\n",
      "[I 2025-01-22 16:22:02,285] Trial 9 finished with value: 0.8845668629100084 and parameters: {'k': 23}. Best is trial 2 with value: 0.8882814690215867.\n",
      "[I 2025-01-22 16:22:02,302] Trial 10 finished with value: 0.8720213064199607 and parameters: {'k': 6}. Best is trial 2 with value: 0.8882814690215867.\n",
      "[I 2025-01-22 16:22:02,318] Trial 11 finished with value: 0.8875105130361648 and parameters: {'k': 17}. Best is trial 2 with value: 0.8882814690215867.\n",
      "[I 2025-01-22 16:22:02,335] Trial 12 finished with value: 0.879170171012055 and parameters: {'k': 9}. Best is trial 2 with value: 0.8882814690215867.\n",
      "[I 2025-01-22 16:22:02,353] Trial 13 finished with value: 0.8895430333613681 and parameters: {'k': 15}. Best is trial 13 with value: 0.8895430333613681.\n",
      "[I 2025-01-22 16:22:02,371] Trial 14 finished with value: 0.8836557331090552 and parameters: {'k': 24}. Best is trial 13 with value: 0.8895430333613681.\n",
      "[I 2025-01-22 16:22:02,388] Trial 15 finished with value: 0.8862489486963835 and parameters: {'k': 21}. Best is trial 13 with value: 0.8895430333613681.\n",
      "[I 2025-01-22 16:22:02,406] Trial 16 finished with value: 0.8401317633865993 and parameters: {'k': 2}. Best is trial 13 with value: 0.8895430333613681.\n",
      "[I 2025-01-22 16:22:02,424] Trial 17 finished with value: 0.8798009531819457 and parameters: {'k': 30}. Best is trial 13 with value: 0.8895430333613681.\n",
      "[I 2025-01-22 16:22:02,443] Trial 18 finished with value: 0.8670451359686011 and parameters: {'k': 7}. Best is trial 13 with value: 0.8895430333613681.\n",
      "[I 2025-01-22 16:22:02,463] Trial 19 finished with value: 0.880641996075133 and parameters: {'k': 5}. Best is trial 13 with value: 0.8895430333613681.\n",
      "[I 2025-01-22 16:22:02,482] Trial 20 finished with value: 0.8840061676478833 and parameters: {'k': 19}. Best is trial 13 with value: 0.8895430333613681.\n",
      "[I 2025-01-22 16:22:02,501] Trial 21 finished with value: 0.8816932996916176 and parameters: {'k': 20}. Best is trial 13 with value: 0.8895430333613681.\n",
      "[I 2025-01-22 16:22:02,520] Trial 22 finished with value: 0.8828146902158677 and parameters: {'k': 10}. Best is trial 13 with value: 0.8895430333613681.\n",
      "[I 2025-01-22 16:22:02,538] Trial 23 finished with value: 0.8736333052985703 and parameters: {'k': 8}. Best is trial 13 with value: 0.8895430333613681.\n",
      "[I 2025-01-22 16:22:02,557] Trial 24 finished with value: 0.8813428651527895 and parameters: {'k': 26}. Best is trial 13 with value: 0.8895430333613681.\n",
      "[I 2025-01-22 16:22:02,577] Trial 25 finished with value: 0.8537286234931315 and parameters: {'k': 4}. Best is trial 13 with value: 0.8895430333613681.\n",
      "[I 2025-01-22 16:22:02,597] Trial 26 finished with value: 0.7688533781889543 and parameters: {'k': 1}. Best is trial 13 with value: 0.8895430333613681.\n",
      "[I 2025-01-22 16:22:02,616] Trial 27 finished with value: 0.8876506868516961 and parameters: {'k': 22}. Best is trial 13 with value: 0.8895430333613681.\n",
      "[I 2025-01-22 16:22:02,637] Trial 28 finished with value: 0.8875805999439303 and parameters: {'k': 16}. Best is trial 13 with value: 0.8895430333613681.\n",
      "[I 2025-01-22 16:22:02,658] Trial 29 finished with value: 0.8862489486963835 and parameters: {'k': 13}. Best is trial 13 with value: 0.8895430333613681.\n",
      "[I 2025-01-22 16:22:02,687] A new study created in memory with name: no-name-9a5475b1-c661-4208-a87a-865827e6a023\n",
      "[I 2025-01-22 16:22:02,695] Trial 0 finished with value: 0.6959629941126997 and parameters: {'k': 3}. Best is trial 0 with value: 0.6959629941126997.\n",
      "[I 2025-01-22 16:22:02,705] Trial 1 finished with value: 0.7108214185590132 and parameters: {'k': 29}. Best is trial 1 with value: 0.7108214185590132.\n",
      "[I 2025-01-22 16:22:02,715] Trial 2 finished with value: 0.7436220913933278 and parameters: {'k': 14}. Best is trial 2 with value: 0.7436220913933278.\n",
      "[I 2025-01-22 16:22:02,726] Trial 3 finished with value: 0.721054107092795 and parameters: {'k': 11}. Best is trial 2 with value: 0.7436220913933278.\n",
      "[I 2025-01-22 16:22:02,736] Trial 4 finished with value: 0.7106111578357164 and parameters: {'k': 27}. Best is trial 2 with value: 0.7436220913933278.\n",
      "[I 2025-01-22 16:22:02,745] Trial 5 finished with value: 0.7120829828987946 and parameters: {'k': 25}. Best is trial 2 with value: 0.7436220913933278.\n",
      "[I 2025-01-22 16:22:02,755] Trial 6 finished with value: 0.7090692458648725 and parameters: {'k': 28}. Best is trial 2 with value: 0.7436220913933278.\n",
      "[I 2025-01-22 16:22:02,765] Trial 7 finished with value: 0.7288337538547799 and parameters: {'k': 12}. Best is trial 2 with value: 0.7436220913933278.\n",
      "[I 2025-01-22 16:22:02,775] Trial 8 finished with value: 0.7234370619568266 and parameters: {'k': 18}. Best is trial 2 with value: 0.7436220913933278.\n",
      "[I 2025-01-22 16:22:02,786] Trial 9 finished with value: 0.7261003644519204 and parameters: {'k': 23}. Best is trial 2 with value: 0.7436220913933278.\n",
      "[I 2025-01-22 16:22:02,796] Trial 10 finished with value: 0.7497897392767031 and parameters: {'k': 6}. Best is trial 10 with value: 0.7497897392767031.\n",
      "[I 2025-01-22 16:22:02,807] Trial 11 finished with value: 0.7241379310344827 and parameters: {'k': 17}. Best is trial 10 with value: 0.7497897392767031.\n",
      "[I 2025-01-22 16:22:02,818] Trial 12 finished with value: 0.757569386038688 and parameters: {'k': 9}. Best is trial 12 with value: 0.757569386038688.\n",
      "[I 2025-01-22 16:22:02,829] Trial 13 finished with value: 0.7295346229324362 and parameters: {'k': 15}. Best is trial 12 with value: 0.757569386038688.\n",
      "[I 2025-01-22 16:22:02,848] Trial 14 finished with value: 0.7228062797869358 and parameters: {'k': 24}. Best is trial 12 with value: 0.757569386038688.\n",
      "[I 2025-01-22 16:22:02,860] Trial 15 finished with value: 0.7211942809083263 and parameters: {'k': 21}. Best is trial 12 with value: 0.757569386038688.\n",
      "[I 2025-01-22 16:22:02,871] Trial 16 finished with value: 0.7119428090832631 and parameters: {'k': 2}. Best is trial 12 with value: 0.757569386038688.\n",
      "[I 2025-01-22 16:22:02,882] Trial 17 finished with value: 0.7083683767872161 and parameters: {'k': 30}. Best is trial 12 with value: 0.757569386038688.\n",
      "[I 2025-01-22 16:22:02,893] Trial 18 finished with value: 0.7564479955144378 and parameters: {'k': 7}. Best is trial 12 with value: 0.757569386038688.\n",
      "[I 2025-01-22 16:22:02,905] Trial 19 finished with value: 0.7356321839080461 and parameters: {'k': 5}. Best is trial 12 with value: 0.757569386038688.\n",
      "[I 2025-01-22 16:22:02,917] Trial 20 finished with value: 0.7282029716848892 and parameters: {'k': 19}. Best is trial 12 with value: 0.757569386038688.\n",
      "[I 2025-01-22 16:22:02,931] Trial 21 finished with value: 0.7277123633305298 and parameters: {'k': 20}. Best is trial 12 with value: 0.757569386038688.\n",
      "[I 2025-01-22 16:22:02,941] Trial 22 finished with value: 0.7357022708158116 and parameters: {'k': 10}. Best is trial 12 with value: 0.757569386038688.\n",
      "[I 2025-01-22 16:22:02,951] Trial 23 finished with value: 0.7527333894028596 and parameters: {'k': 8}. Best is trial 12 with value: 0.757569386038688.\n",
      "[I 2025-01-22 16:22:02,962] Trial 24 finished with value: 0.7119428090832631 and parameters: {'k': 26}. Best is trial 12 with value: 0.757569386038688.\n",
      "[I 2025-01-22 16:22:02,973] Trial 25 finished with value: 0.6982758620689655 and parameters: {'k': 4}. Best is trial 12 with value: 0.757569386038688.\n",
      "[I 2025-01-22 16:22:02,982] Trial 26 finished with value: 0.6044294925707878 and parameters: {'k': 1}. Best is trial 12 with value: 0.757569386038688.\n",
      "[I 2025-01-22 16:22:02,993] Trial 27 finished with value: 0.7282029716848892 and parameters: {'k': 22}. Best is trial 12 with value: 0.757569386038688.\n",
      "[I 2025-01-22 16:22:03,003] Trial 28 finished with value: 0.7261704513596859 and parameters: {'k': 16}. Best is trial 12 with value: 0.757569386038688.\n",
      "[I 2025-01-22 16:22:03,014] Trial 29 finished with value: 0.7387860947574993 and parameters: {'k': 13}. Best is trial 12 with value: 0.757569386038688.\n",
      "[I 2025-01-22 16:22:03,040] A new study created in memory with name: no-name-5a2e82a3-e94e-49b1-8af4-25c9da98002f\n",
      "[I 2025-01-22 16:22:03,048] Trial 0 finished with value: 0.6517381553125876 and parameters: {'k': 3}. Best is trial 0 with value: 0.6517381553125876.\n",
      "[I 2025-01-22 16:22:03,056] Trial 1 finished with value: 0.703111858704794 and parameters: {'k': 29}. Best is trial 1 with value: 0.703111858704794.\n",
      "[I 2025-01-22 16:22:03,064] Trial 2 finished with value: 0.6970142977291842 and parameters: {'k': 14}. Best is trial 1 with value: 0.703111858704794.\n",
      "[I 2025-01-22 16:22:03,072] Trial 3 finished with value: 0.7046537706756377 and parameters: {'k': 11}. Best is trial 3 with value: 0.7046537706756377.\n",
      "[I 2025-01-22 16:22:03,082] Trial 4 finished with value: 0.7015699467339501 and parameters: {'k': 27}. Best is trial 3 with value: 0.7046537706756377.\n",
      "[I 2025-01-22 16:22:03,095] Trial 5 finished with value: 0.7071068124474349 and parameters: {'k': 25}. Best is trial 5 with value: 0.7071068124474349.\n",
      "[I 2025-01-22 16:22:03,104] Trial 6 finished with value: 0.7009391645640594 and parameters: {'k': 28}. Best is trial 5 with value: 0.7071068124474349.\n",
      "[I 2025-01-22 16:22:03,112] Trial 7 finished with value: 0.700658816932997 and parameters: {'k': 12}. Best is trial 5 with value: 0.7071068124474349.\n",
      "[I 2025-01-22 16:22:03,120] Trial 8 finished with value: 0.7129941126997477 and parameters: {'k': 18}. Best is trial 8 with value: 0.7129941126997477.\n",
      "[I 2025-01-22 16:22:03,131] Trial 9 finished with value: 0.7081581160639193 and parameters: {'k': 23}. Best is trial 8 with value: 0.7129941126997477.\n",
      "[I 2025-01-22 16:22:03,141] Trial 10 finished with value: 0.6908466498458088 and parameters: {'k': 6}. Best is trial 8 with value: 0.7129941126997477.\n",
      "[I 2025-01-22 16:22:03,153] Trial 11 finished with value: 0.7087188113260444 and parameters: {'k': 17}. Best is trial 8 with value: 0.7129941126997477.\n",
      "[I 2025-01-22 16:22:03,164] Trial 12 finished with value: 0.7224558452481076 and parameters: {'k': 9}. Best is trial 12 with value: 0.7224558452481076.\n",
      "[I 2025-01-22 16:22:03,178] Trial 13 finished with value: 0.6954723857583404 and parameters: {'k': 15}. Best is trial 12 with value: 0.7224558452481076.\n",
      "[I 2025-01-22 16:22:03,189] Trial 14 finished with value: 0.7115222876366695 and parameters: {'k': 24}. Best is trial 12 with value: 0.7224558452481076.\n",
      "[I 2025-01-22 16:22:03,200] Trial 15 finished with value: 0.7134847210541071 and parameters: {'k': 21}. Best is trial 12 with value: 0.7224558452481076.\n",
      "[I 2025-01-22 16:22:03,213] Trial 16 finished with value: 0.6275581721334454 and parameters: {'k': 2}. Best is trial 12 with value: 0.7224558452481076.\n",
      "[I 2025-01-22 16:22:03,237] Trial 17 finished with value: 0.6972946453602468 and parameters: {'k': 30}. Best is trial 12 with value: 0.7224558452481076.\n",
      "[I 2025-01-22 16:22:03,249] Trial 18 finished with value: 0.6967339500981218 and parameters: {'k': 7}. Best is trial 12 with value: 0.7224558452481076.\n",
      "[I 2025-01-22 16:22:03,258] Trial 19 finished with value: 0.6672273619287916 and parameters: {'k': 5}. Best is trial 12 with value: 0.7224558452481076.\n",
      "[I 2025-01-22 16:22:03,267] Trial 20 finished with value: 0.7168488926268572 and parameters: {'k': 19}. Best is trial 12 with value: 0.7224558452481076.\n",
      "[I 2025-01-22 16:22:03,277] Trial 21 finished with value: 0.7196523689374825 and parameters: {'k': 20}. Best is trial 12 with value: 0.7224558452481076.\n",
      "[I 2025-01-22 16:22:03,289] Trial 22 finished with value: 0.7200028034763107 and parameters: {'k': 10}. Best is trial 12 with value: 0.7224558452481076.\n",
      "[I 2025-01-22 16:22:03,303] Trial 23 finished with value: 0.7035323801513876 and parameters: {'k': 8}. Best is trial 12 with value: 0.7224558452481076.\n",
      "[I 2025-01-22 16:22:03,327] Trial 24 finished with value: 0.697434819175778 and parameters: {'k': 26}. Best is trial 12 with value: 0.7224558452481076.\n",
      "[I 2025-01-22 16:22:03,357] Trial 25 finished with value: 0.6686291000841043 and parameters: {'k': 4}. Best is trial 12 with value: 0.7224558452481076.\n",
      "[I 2025-01-22 16:22:03,371] Trial 26 finished with value: 0.6331651247546959 and parameters: {'k': 1}. Best is trial 12 with value: 0.7224558452481076.\n",
      "[I 2025-01-22 16:22:03,386] Trial 27 finished with value: 0.7056349873843566 and parameters: {'k': 22}. Best is trial 12 with value: 0.7224558452481076.\n",
      "[I 2025-01-22 16:22:03,402] Trial 28 finished with value: 0.6942809083263246 and parameters: {'k': 16}. Best is trial 12 with value: 0.7224558452481076.\n",
      "[I 2025-01-22 16:22:03,418] Trial 29 finished with value: 0.6989066442388563 and parameters: {'k': 13}. Best is trial 12 with value: 0.7224558452481076.\n",
      "[I 2025-01-22 16:22:03,445] A new study created in memory with name: no-name-5cf526c4-0c33-45b4-8c02-1bfa3e71a70c\n",
      "[I 2025-01-22 16:22:03,472] Trial 0 finished with value: 0.7759321558732829 and parameters: {'k': 3}. Best is trial 0 with value: 0.7759321558732829.\n",
      "[I 2025-01-22 16:22:03,482] Trial 1 finished with value: 0.7799271096159238 and parameters: {'k': 29}. Best is trial 1 with value: 0.7799271096159238.\n",
      "[I 2025-01-22 16:22:03,491] Trial 2 finished with value: 0.7839220633585645 and parameters: {'k': 14}. Best is trial 2 with value: 0.7839220633585645.\n",
      "[I 2025-01-22 16:22:03,500] Trial 3 finished with value: 0.7977291841883936 and parameters: {'k': 11}. Best is trial 3 with value: 0.7977291841883936.\n",
      "[I 2025-01-22 16:22:03,509] Trial 4 finished with value: 0.7891084945332212 and parameters: {'k': 27}. Best is trial 3 with value: 0.7977291841883936.\n",
      "[I 2025-01-22 16:22:03,517] Trial 5 finished with value: 0.7921222315671432 and parameters: {'k': 25}. Best is trial 3 with value: 0.7977291841883936.\n",
      "[I 2025-01-22 16:22:03,525] Trial 6 finished with value: 0.7848331931595178 and parameters: {'k': 28}. Best is trial 3 with value: 0.7977291841883936.\n",
      "[I 2025-01-22 16:22:03,534] Trial 7 finished with value: 0.7971684889262686 and parameters: {'k': 12}. Best is trial 3 with value: 0.7977291841883936.\n",
      "[I 2025-01-22 16:22:03,542] Trial 8 finished with value: 0.7849032800672835 and parameters: {'k': 18}. Best is trial 3 with value: 0.7977291841883936.\n",
      "[I 2025-01-22 16:22:03,551] Trial 9 finished with value: 0.7940145780768152 and parameters: {'k': 23}. Best is trial 3 with value: 0.7977291841883936.\n",
      "[I 2025-01-22 16:22:03,561] Trial 10 finished with value: 0.805578917858144 and parameters: {'k': 6}. Best is trial 10 with value: 0.805578917858144.\n",
      "[I 2025-01-22 16:22:03,571] Trial 11 finished with value: 0.7886178861788617 and parameters: {'k': 17}. Best is trial 10 with value: 0.805578917858144.\n",
      "[I 2025-01-22 16:22:03,580] Trial 12 finished with value: 0.8209980375665825 and parameters: {'k': 9}. Best is trial 12 with value: 0.8209980375665825.\n",
      "[I 2025-01-22 16:22:03,591] Trial 13 finished with value: 0.79121110176619 and parameters: {'k': 15}. Best is trial 12 with value: 0.8209980375665825.\n",
      "[I 2025-01-22 16:22:03,601] Trial 14 finished with value: 0.7905803195962996 and parameters: {'k': 24}. Best is trial 12 with value: 0.8209980375665825.\n",
      "[I 2025-01-22 16:22:03,611] Trial 15 finished with value: 0.78896832071769 and parameters: {'k': 21}. Best is trial 12 with value: 0.8209980375665825.\n",
      "[I 2025-01-22 16:22:03,621] Trial 16 finished with value: 0.7416596579758901 and parameters: {'k': 2}. Best is trial 12 with value: 0.8209980375665825.\n",
      "[I 2025-01-22 16:22:03,632] Trial 17 finished with value: 0.7824502382954864 and parameters: {'k': 30}. Best is trial 12 with value: 0.8209980375665825.\n",
      "[I 2025-01-22 16:22:03,642] Trial 18 finished with value: 0.80901317633866 and parameters: {'k': 7}. Best is trial 12 with value: 0.8209980375665825.\n",
      "[I 2025-01-22 16:22:03,653] Trial 19 finished with value: 0.8003223997757218 and parameters: {'k': 5}. Best is trial 12 with value: 0.8209980375665825.\n",
      "[I 2025-01-22 16:22:03,663] Trial 20 finished with value: 0.7901597981497056 and parameters: {'k': 19}. Best is trial 12 with value: 0.8209980375665825.\n",
      "[I 2025-01-22 16:22:03,674] Trial 21 finished with value: 0.7926128399215027 and parameters: {'k': 20}. Best is trial 12 with value: 0.8209980375665825.\n",
      "[I 2025-01-22 16:22:03,685] Trial 22 finished with value: 0.8031258760863471 and parameters: {'k': 10}. Best is trial 12 with value: 0.8209980375665825.\n",
      "[I 2025-01-22 16:22:03,696] Trial 23 finished with value: 0.8235211662461452 and parameters: {'k': 8}. Best is trial 23 with value: 0.8235211662461452.\n",
      "[I 2025-01-22 16:22:03,707] Trial 24 finished with value: 0.7931735351836278 and parameters: {'k': 26}. Best is trial 23 with value: 0.8235211662461452.\n",
      "[I 2025-01-22 16:22:03,718] Trial 25 finished with value: 0.7874964956546117 and parameters: {'k': 4}. Best is trial 23 with value: 0.8235211662461452.\n",
      "[I 2025-01-22 16:22:03,729] Trial 26 finished with value: 0.7038828146902159 and parameters: {'k': 1}. Best is trial 23 with value: 0.8235211662461452.\n",
      "[I 2025-01-22 16:22:03,741] Trial 27 finished with value: 0.7875665825623773 and parameters: {'k': 22}. Best is trial 23 with value: 0.8235211662461452.\n",
      "[I 2025-01-22 16:22:03,752] Trial 28 finished with value: 0.7921222315671432 and parameters: {'k': 16}. Best is trial 23 with value: 0.8235211662461452.\n",
      "[I 2025-01-22 16:22:03,764] Trial 29 finished with value: 0.7894589290720494 and parameters: {'k': 13}. Best is trial 23 with value: 0.8235211662461452.\n",
      "[I 2025-01-22 16:22:03,830] A new study created in memory with name: no-name-b760ed3d-26e7-4490-93de-ee5c79213eed\n",
      "[I 2025-01-22 16:22:03,867] Trial 0 finished with value: 0.5442949257078777 and parameters: {'k': 3}. Best is trial 0 with value: 0.5442949257078777.\n",
      "[I 2025-01-22 16:22:03,900] Trial 1 finished with value: 0.5416316232127838 and parameters: {'k': 29}. Best is trial 0 with value: 0.5442949257078777.\n",
      "[I 2025-01-22 16:22:03,915] Trial 2 finished with value: 0.5366554527614242 and parameters: {'k': 14}. Best is trial 0 with value: 0.5442949257078777.\n",
      "[I 2025-01-22 16:22:03,928] Trial 3 finished with value: 0.5019624334174376 and parameters: {'k': 11}. Best is trial 0 with value: 0.5442949257078777.\n",
      "[I 2025-01-22 16:22:03,940] Trial 4 finished with value: 0.5611157835716287 and parameters: {'k': 27}. Best is trial 4 with value: 0.5611157835716287.\n",
      "[I 2025-01-22 16:22:03,956] Trial 5 finished with value: 0.5696663863190357 and parameters: {'k': 25}. Best is trial 5 with value: 0.5696663863190357.\n",
      "[I 2025-01-22 16:22:03,972] Trial 6 finished with value: 0.5546677880571909 and parameters: {'k': 28}. Best is trial 5 with value: 0.5696663863190357.\n",
      "[I 2025-01-22 16:22:03,988] Trial 7 finished with value: 0.5294365012615644 and parameters: {'k': 12}. Best is trial 5 with value: 0.5696663863190357.\n",
      "[I 2025-01-22 16:22:04,004] Trial 8 finished with value: 0.5335015419119709 and parameters: {'k': 18}. Best is trial 5 with value: 0.5696663863190357.\n",
      "[I 2025-01-22 16:22:04,019] Trial 9 finished with value: 0.5704373423044575 and parameters: {'k': 23}. Best is trial 9 with value: 0.5704373423044575.\n",
      "[I 2025-01-22 16:22:04,034] Trial 10 finished with value: 0.49698626296607795 and parameters: {'k': 6}. Best is trial 9 with value: 0.5704373423044575.\n",
      "[I 2025-01-22 16:22:04,048] Trial 11 finished with value: 0.5252312867956266 and parameters: {'k': 17}. Best is trial 9 with value: 0.5704373423044575.\n",
      "[I 2025-01-22 16:22:04,063] Trial 12 finished with value: 0.49039809363610876 and parameters: {'k': 9}. Best is trial 9 with value: 0.5704373423044575.\n",
      "[I 2025-01-22 16:22:04,081] Trial 13 finished with value: 0.5280347631062517 and parameters: {'k': 15}. Best is trial 9 with value: 0.5704373423044575.\n",
      "[I 2025-01-22 16:22:04,099] Trial 14 finished with value: 0.5733109055228482 and parameters: {'k': 24}. Best is trial 14 with value: 0.5733109055228482.\n",
      "[I 2025-01-22 16:22:04,115] Trial 15 finished with value: 0.560905522848332 and parameters: {'k': 21}. Best is trial 14 with value: 0.5733109055228482.\n",
      "[I 2025-01-22 16:22:04,130] Trial 16 finished with value: 0.5123352957667507 and parameters: {'k': 2}. Best is trial 14 with value: 0.5733109055228482.\n",
      "[I 2025-01-22 16:22:04,145] Trial 17 finished with value: 0.54008971124194 and parameters: {'k': 30}. Best is trial 14 with value: 0.5733109055228482.\n",
      "[I 2025-01-22 16:22:04,162] Trial 18 finished with value: 0.5054667788057191 and parameters: {'k': 7}. Best is trial 14 with value: 0.5733109055228482.\n",
      "[I 2025-01-22 16:22:04,177] Trial 19 finished with value: 0.5018222596019064 and parameters: {'k': 5}. Best is trial 14 with value: 0.5733109055228482.\n",
      "[I 2025-01-22 16:22:04,195] Trial 20 finished with value: 0.5426829268292683 and parameters: {'k': 19}. Best is trial 14 with value: 0.5733109055228482.\n",
      "[I 2025-01-22 16:22:04,211] Trial 21 finished with value: 0.5440846649845809 and parameters: {'k': 20}. Best is trial 14 with value: 0.5733109055228482.\n",
      "[I 2025-01-22 16:22:04,226] Trial 22 finished with value: 0.5014718250630782 and parameters: {'k': 10}. Best is trial 14 with value: 0.5733109055228482.\n",
      "[I 2025-01-22 16:22:04,242] Trial 23 finished with value: 0.49747687132043733 and parameters: {'k': 8}. Best is trial 14 with value: 0.5733109055228482.\n",
      "[I 2025-01-22 16:22:04,259] Trial 24 finished with value: 0.556910569105691 and parameters: {'k': 26}. Best is trial 14 with value: 0.5733109055228482.\n",
      "[I 2025-01-22 16:22:04,276] Trial 25 finished with value: 0.48458088029156154 and parameters: {'k': 4}. Best is trial 14 with value: 0.5733109055228482.\n",
      "[I 2025-01-22 16:22:04,292] Trial 26 finished with value: 0.4903280067283431 and parameters: {'k': 1}. Best is trial 14 with value: 0.5733109055228482.\n",
      "[I 2025-01-22 16:22:04,310] Trial 27 finished with value: 0.57183908045977 and parameters: {'k': 22}. Best is trial 14 with value: 0.5733109055228482.\n",
      "[I 2025-01-22 16:22:04,326] Trial 28 finished with value: 0.5128259041211101 and parameters: {'k': 16}. Best is trial 14 with value: 0.5733109055228482.\n",
      "[I 2025-01-22 16:22:04,345] Trial 29 finished with value: 0.5489206616204093 and parameters: {'k': 13}. Best is trial 14 with value: 0.5733109055228482.\n",
      "[I 2025-01-22 16:22:04,375] A new study created in memory with name: no-name-475844eb-ea29-4b3c-a0a0-e191d94702a0\n",
      "[I 2025-01-22 16:22:04,383] Trial 0 finished with value: 0.6445192038127279 and parameters: {'k': 3}. Best is trial 0 with value: 0.6445192038127279.\n",
      "[I 2025-01-22 16:22:04,393] Trial 1 finished with value: 0.6206896551724138 and parameters: {'k': 29}. Best is trial 0 with value: 0.6445192038127279.\n",
      "[I 2025-01-22 16:22:04,402] Trial 2 finished with value: 0.6008550602747407 and parameters: {'k': 14}. Best is trial 0 with value: 0.6445192038127279.\n",
      "[I 2025-01-22 16:22:04,411] Trial 3 finished with value: 0.5983319315951781 and parameters: {'k': 11}. Best is trial 0 with value: 0.6445192038127279.\n",
      "[I 2025-01-22 16:22:04,420] Trial 4 finished with value: 0.5995234090271937 and parameters: {'k': 27}. Best is trial 0 with value: 0.6445192038127279.\n",
      "[I 2025-01-22 16:22:04,430] Trial 5 finished with value: 0.605550883095038 and parameters: {'k': 25}. Best is trial 0 with value: 0.6445192038127279.\n",
      "[I 2025-01-22 16:22:04,447] Trial 6 finished with value: 0.6118587047939444 and parameters: {'k': 28}. Best is trial 0 with value: 0.6445192038127279.\n",
      "[I 2025-01-22 16:22:04,463] Trial 7 finished with value: 0.5787075974208017 and parameters: {'k': 12}. Best is trial 0 with value: 0.6445192038127279.\n",
      "[I 2025-01-22 16:22:04,471] Trial 8 finished with value: 0.5818615082702551 and parameters: {'k': 18}. Best is trial 0 with value: 0.6445192038127279.\n",
      "[I 2025-01-22 16:22:04,480] Trial 9 finished with value: 0.6110877488085226 and parameters: {'k': 23}. Best is trial 0 with value: 0.6445192038127279.\n",
      "[I 2025-01-22 16:22:04,489] Trial 10 finished with value: 0.6223016540510232 and parameters: {'k': 6}. Best is trial 0 with value: 0.6445192038127279.\n",
      "[I 2025-01-22 16:22:04,498] Trial 11 finished with value: 0.6073731426969442 and parameters: {'k': 17}. Best is trial 0 with value: 0.6445192038127279.\n",
      "[I 2025-01-22 16:22:04,509] Trial 12 finished with value: 0.5960891505466779 and parameters: {'k': 9}. Best is trial 0 with value: 0.6445192038127279.\n",
      "[I 2025-01-22 16:22:04,520] Trial 13 finished with value: 0.5999439304737875 and parameters: {'k': 15}. Best is trial 0 with value: 0.6445192038127279.\n",
      "[I 2025-01-22 16:22:04,531] Trial 14 finished with value: 0.6057611438183347 and parameters: {'k': 24}. Best is trial 0 with value: 0.6445192038127279.\n",
      "[I 2025-01-22 16:22:04,542] Trial 15 finished with value: 0.6056209700028035 and parameters: {'k': 21}. Best is trial 0 with value: 0.6445192038127279.\n",
      "[I 2025-01-22 16:22:04,552] Trial 16 finished with value: 0.6353378188954304 and parameters: {'k': 2}. Best is trial 0 with value: 0.6445192038127279.\n",
      "[I 2025-01-22 16:22:04,563] Trial 17 finished with value: 0.613680964395851 and parameters: {'k': 30}. Best is trial 0 with value: 0.6445192038127279.\n",
      "[I 2025-01-22 16:22:04,575] Trial 18 finished with value: 0.6047098402018503 and parameters: {'k': 7}. Best is trial 0 with value: 0.6445192038127279.\n",
      "[I 2025-01-22 16:22:04,590] Trial 19 finished with value: 0.6215306980656014 and parameters: {'k': 5}. Best is trial 0 with value: 0.6445192038127279.\n",
      "[I 2025-01-22 16:22:04,601] Trial 20 finished with value: 0.6021166246145221 and parameters: {'k': 19}. Best is trial 0 with value: 0.6445192038127279.\n",
      "[I 2025-01-22 16:22:04,612] Trial 21 finished with value: 0.6176759181384917 and parameters: {'k': 20}. Best is trial 0 with value: 0.6445192038127279.\n",
      "[I 2025-01-22 16:22:04,623] Trial 22 finished with value: 0.5995934959349593 and parameters: {'k': 10}. Best is trial 0 with value: 0.6445192038127279.\n",
      "[I 2025-01-22 16:22:04,634] Trial 23 finished with value: 0.6204093075413513 and parameters: {'k': 8}. Best is trial 0 with value: 0.6445192038127279.\n",
      "[I 2025-01-22 16:22:04,645] Trial 24 finished with value: 0.604008971124194 and parameters: {'k': 26}. Best is trial 0 with value: 0.6445192038127279.\n",
      "[I 2025-01-22 16:22:04,656] Trial 25 finished with value: 0.644869638351556 and parameters: {'k': 4}. Best is trial 25 with value: 0.644869638351556.\n",
      "[I 2025-01-22 16:22:04,667] Trial 26 finished with value: 0.604569666386319 and parameters: {'k': 1}. Best is trial 25 with value: 0.644869638351556.\n",
      "[I 2025-01-22 16:22:04,679] Trial 27 finished with value: 0.6062517521726941 and parameters: {'k': 22}. Best is trial 25 with value: 0.644869638351556.\n",
      "[I 2025-01-22 16:22:04,691] Trial 28 finished with value: 0.5916736753574432 and parameters: {'k': 16}. Best is trial 25 with value: 0.644869638351556.\n",
      "[I 2025-01-22 16:22:04,703] Trial 29 finished with value: 0.5955985421923186 and parameters: {'k': 13}. Best is trial 25 with value: 0.644869638351556.\n",
      "[I 2025-01-22 16:22:04,735] A new study created in memory with name: no-name-d7d3e91b-7c26-4ffd-9c15-a0b045f875a8\n",
      "[I 2025-01-22 16:22:04,743] Trial 0 finished with value: 0.6147322680123353 and parameters: {'k': 3}. Best is trial 0 with value: 0.6147322680123353.\n",
      "[I 2025-01-22 16:22:04,751] Trial 1 finished with value: 0.7268012335295767 and parameters: {'k': 29}. Best is trial 1 with value: 0.7268012335295767.\n",
      "[I 2025-01-22 16:22:04,760] Trial 2 finished with value: 0.6596579758901037 and parameters: {'k': 14}. Best is trial 1 with value: 0.7268012335295767.\n",
      "[I 2025-01-22 16:22:04,768] Trial 3 finished with value: 0.6604990187832912 and parameters: {'k': 11}. Best is trial 1 with value: 0.7268012335295767.\n",
      "[I 2025-01-22 16:22:04,777] Trial 4 finished with value: 0.718601065320998 and parameters: {'k': 27}. Best is trial 1 with value: 0.7268012335295767.\n",
      "[I 2025-01-22 16:22:04,786] Trial 5 finished with value: 0.7051443790299972 and parameters: {'k': 25}. Best is trial 1 with value: 0.7268012335295767.\n",
      "[I 2025-01-22 16:22:04,798] Trial 6 finished with value: 0.7164283711802636 and parameters: {'k': 28}. Best is trial 1 with value: 0.7268012335295767.\n",
      "[I 2025-01-22 16:22:04,810] Trial 7 finished with value: 0.6671572750210261 and parameters: {'k': 12}. Best is trial 1 with value: 0.7268012335295767.\n",
      "[I 2025-01-22 16:22:04,821] Trial 8 finished with value: 0.6888141295206056 and parameters: {'k': 18}. Best is trial 1 with value: 0.7268012335295767.\n",
      "[I 2025-01-22 16:22:04,832] Trial 9 finished with value: 0.7008690776562938 and parameters: {'k': 23}. Best is trial 1 with value: 0.7268012335295767.\n",
      "[I 2025-01-22 16:22:04,842] Trial 10 finished with value: 0.6258059994393048 and parameters: {'k': 6}. Best is trial 1 with value: 0.7268012335295767.\n",
      "[I 2025-01-22 16:22:04,852] Trial 11 finished with value: 0.6770395290159799 and parameters: {'k': 17}. Best is trial 1 with value: 0.7268012335295767.\n",
      "[I 2025-01-22 16:22:04,862] Trial 12 finished with value: 0.6445892907204934 and parameters: {'k': 9}. Best is trial 1 with value: 0.7268012335295767.\n",
      "[I 2025-01-22 16:22:04,872] Trial 13 finished with value: 0.6568544995794785 and parameters: {'k': 15}. Best is trial 1 with value: 0.7268012335295767.\n",
      "[I 2025-01-22 16:22:04,882] Trial 14 finished with value: 0.7059854219231847 and parameters: {'k': 24}. Best is trial 1 with value: 0.7268012335295767.\n",
      "[I 2025-01-22 16:22:04,892] Trial 15 finished with value: 0.7078076815250911 and parameters: {'k': 21}. Best is trial 1 with value: 0.7268012335295767.\n",
      "[I 2025-01-22 16:22:04,902] Trial 16 finished with value: 0.5731707317073171 and parameters: {'k': 2}. Best is trial 1 with value: 0.7268012335295767.\n",
      "[I 2025-01-22 16:22:04,913] Trial 17 finished with value: 0.7239276703111859 and parameters: {'k': 30}. Best is trial 1 with value: 0.7268012335295767.\n",
      "[I 2025-01-22 16:22:04,929] Trial 18 finished with value: 0.6372301654051025 and parameters: {'k': 7}. Best is trial 1 with value: 0.7268012335295767.\n",
      "[I 2025-01-22 16:22:04,945] Trial 19 finished with value: 0.6287496495654612 and parameters: {'k': 5}. Best is trial 1 with value: 0.7268012335295767.\n",
      "[I 2025-01-22 16:22:04,957] Trial 20 finished with value: 0.6961732548359967 and parameters: {'k': 19}. Best is trial 1 with value: 0.7268012335295767.\n",
      "[I 2025-01-22 16:22:04,968] Trial 21 finished with value: 0.7011494252873564 and parameters: {'k': 20}. Best is trial 1 with value: 0.7268012335295767.\n",
      "[I 2025-01-22 16:22:04,980] Trial 22 finished with value: 0.6605691056910569 and parameters: {'k': 10}. Best is trial 1 with value: 0.7268012335295767.\n",
      "[I 2025-01-22 16:22:04,992] Trial 23 finished with value: 0.6376506868516961 and parameters: {'k': 8}. Best is trial 1 with value: 0.7268012335295767.\n",
      "[I 2025-01-22 16:22:05,004] Trial 24 finished with value: 0.7147462853938884 and parameters: {'k': 26}. Best is trial 1 with value: 0.7268012335295767.\n",
      "[I 2025-01-22 16:22:05,016] Trial 25 finished with value: 0.6370199046818055 and parameters: {'k': 4}. Best is trial 1 with value: 0.7268012335295767.\n",
      "[I 2025-01-22 16:22:05,029] Trial 26 finished with value: 0.511914774320157 and parameters: {'k': 1}. Best is trial 1 with value: 0.7268012335295767.\n",
      "[I 2025-01-22 16:22:05,044] Trial 27 finished with value: 0.7073170731707318 and parameters: {'k': 22}. Best is trial 1 with value: 0.7268012335295767.\n",
      "[I 2025-01-22 16:22:05,059] Trial 28 finished with value: 0.668138491729745 and parameters: {'k': 16}. Best is trial 1 with value: 0.7268012335295767.\n",
      "[I 2025-01-22 16:22:05,071] Trial 29 finished with value: 0.6705214465937763 and parameters: {'k': 13}. Best is trial 1 with value: 0.7268012335295767.\n",
      "[I 2025-01-22 16:22:05,095] A new study created in memory with name: no-name-9ceefcda-7e08-421c-b8b3-104f9d1db2c9\n",
      "[I 2025-01-22 16:22:05,116] Trial 0 finished with value: 0.8390804597701149 and parameters: {'k': 3}. Best is trial 0 with value: 0.8390804597701149.\n",
      "[I 2025-01-22 16:22:05,134] Trial 1 finished with value: 0.8479114101485842 and parameters: {'k': 29}. Best is trial 1 with value: 0.8479114101485842.\n",
      "[I 2025-01-22 16:22:05,153] Trial 2 finished with value: 0.8678160919540231 and parameters: {'k': 14}. Best is trial 2 with value: 0.8678160919540231.\n",
      "[I 2025-01-22 16:22:05,170] Trial 3 finished with value: 0.8745444350995233 and parameters: {'k': 11}. Best is trial 3 with value: 0.8745444350995233.\n",
      "[I 2025-01-22 16:22:05,186] Trial 4 finished with value: 0.8451780207457247 and parameters: {'k': 27}. Best is trial 3 with value: 0.8745444350995233.\n",
      "[I 2025-01-22 16:22:05,202] Trial 5 finished with value: 0.8434959349593497 and parameters: {'k': 25}. Best is trial 3 with value: 0.8745444350995233.\n",
      "[I 2025-01-22 16:22:05,217] Trial 6 finished with value: 0.8472806279786936 and parameters: {'k': 28}. Best is trial 3 with value: 0.8745444350995233.\n",
      "[I 2025-01-22 16:22:05,237] Trial 7 finished with value: 0.8726520885898514 and parameters: {'k': 12}. Best is trial 3 with value: 0.8745444350995233.\n",
      "[I 2025-01-22 16:22:05,252] Trial 8 finished with value: 0.8591253153910848 and parameters: {'k': 18}. Best is trial 3 with value: 0.8745444350995233.\n",
      "[I 2025-01-22 16:22:05,267] Trial 9 finished with value: 0.8514157555368657 and parameters: {'k': 23}. Best is trial 3 with value: 0.8745444350995233.\n",
      "[I 2025-01-22 16:22:05,283] Trial 10 finished with value: 0.8577235772357723 and parameters: {'k': 6}. Best is trial 3 with value: 0.8745444350995233.\n",
      "[I 2025-01-22 16:22:05,299] Trial 11 finished with value: 0.85856462012896 and parameters: {'k': 17}. Best is trial 3 with value: 0.8745444350995233.\n",
      "[I 2025-01-22 16:22:05,317] Trial 12 finished with value: 0.8635407905803197 and parameters: {'k': 9}. Best is trial 3 with value: 0.8745444350995233.\n",
      "[I 2025-01-22 16:22:05,338] Trial 13 finished with value: 0.8699887860947575 and parameters: {'k': 15}. Best is trial 3 with value: 0.8745444350995233.\n",
      "[I 2025-01-22 16:22:05,356] Trial 14 finished with value: 0.8433557611438184 and parameters: {'k': 24}. Best is trial 3 with value: 0.8745444350995233.\n",
      "[I 2025-01-22 16:22:05,375] Trial 15 finished with value: 0.8475609756097561 and parameters: {'k': 21}. Best is trial 3 with value: 0.8745444350995233.\n",
      "[I 2025-01-22 16:22:05,393] Trial 16 finished with value: 0.8140594336977852 and parameters: {'k': 2}. Best is trial 3 with value: 0.8745444350995233.\n",
      "[I 2025-01-22 16:22:05,411] Trial 17 finished with value: 0.8499439304737876 and parameters: {'k': 30}. Best is trial 3 with value: 0.8745444350995233.\n",
      "[I 2025-01-22 16:22:05,429] Trial 18 finished with value: 0.8703392206335857 and parameters: {'k': 7}. Best is trial 3 with value: 0.8745444350995233.\n",
      "[I 2025-01-22 16:22:05,447] Trial 19 finished with value: 0.87026913372582 and parameters: {'k': 5}. Best is trial 3 with value: 0.8745444350995233.\n",
      "[I 2025-01-22 16:22:05,467] Trial 20 finished with value: 0.8563919259882254 and parameters: {'k': 19}. Best is trial 3 with value: 0.8745444350995233.\n",
      "[I 2025-01-22 16:22:05,486] Trial 21 finished with value: 0.8500140173815531 and parameters: {'k': 20}. Best is trial 3 with value: 0.8745444350995233.\n",
      "[I 2025-01-22 16:22:05,505] Trial 22 finished with value: 0.8830950378469301 and parameters: {'k': 10}. Best is trial 22 with value: 0.8830950378469301.\n",
      "[I 2025-01-22 16:22:05,523] Trial 23 finished with value: 0.8634006167647883 and parameters: {'k': 8}. Best is trial 22 with value: 0.8830950378469301.\n",
      "[I 2025-01-22 16:22:05,544] Trial 24 finished with value: 0.8420941968040372 and parameters: {'k': 26}. Best is trial 22 with value: 0.8830950378469301.\n",
      "[I 2025-01-22 16:22:05,563] Trial 25 finished with value: 0.8602467059153349 and parameters: {'k': 4}. Best is trial 22 with value: 0.8830950378469301.\n",
      "[I 2025-01-22 16:22:05,582] Trial 26 finished with value: 0.7685029436501262 and parameters: {'k': 1}. Best is trial 22 with value: 0.8830950378469301.\n",
      "[I 2025-01-22 16:22:05,602] Trial 27 finished with value: 0.8540790580319597 and parameters: {'k': 22}. Best is trial 22 with value: 0.8830950378469301.\n",
      "[I 2025-01-22 16:22:05,623] Trial 28 finished with value: 0.8643117465657415 and parameters: {'k': 16}. Best is trial 22 with value: 0.8830950378469301.\n",
      "[I 2025-01-22 16:22:05,643] Trial 29 finished with value: 0.865363050182226 and parameters: {'k': 13}. Best is trial 22 with value: 0.8830950378469301.\n"
     ]
    }
   ],
   "source": [
    "# Iterate through each model's features\n",
    "for model_name, values in data.items(): # Loop through each model and its corresponding features\n",
    "\n",
    "    # Skip MedImageInsightExtractor\n",
    "    if model_name == \"MedImageInsightExtractor\": # Skip the MedImageInsightExtractor model\n",
    "        continue\n",
    "\n",
    "    # Extract paths and labels for train, val, and test sets\n",
    "    train_labels = [v[\"row\"][\"malignancy\"] for v in values[\"train\"]] # Extract malignancy labels for the training set\n",
    "    val_labels = [v[\"row\"][\"malignancy\"] for v in values[\"val\"]] # Extract malignancy labels for the validation set\n",
    "    test_labels = [v[\"row\"][\"malignancy\"] for v in values[\"test\"]] # Extract malignancy labels for the test set\n",
    "    \n",
    "    # Stack features\n",
    "    train_items = np.vstack([v[\"feature\"] for v in values[\"train\"]]) # Stack features for the training set\n",
    "    val_items = np.vstack([v[\"feature\"] for v in values[\"val\"]]) # Stack features for the validation set\n",
    "    test_items = np.vstack([v[\"feature\"] for v in values[\"test\"]]) # Stack features for the test set\n",
    "\n",
    "\n",
    "\n",
    "    # Train model with hyperparameter optimization\n",
    "    best_model, study = train_knn_classifier(train_items, train_labels, val_items, val_labels)\n",
    "    \n",
    "    # Evaluate on test set\n",
    "    test_accuracies_dict[model_name] = evaluate_model(best_model, test_items, test_labels)"
   ]
  },
  {
   "cell_type": "code",
   "execution_count": 20,
   "id": "347efbdb",
   "metadata": {},
   "outputs": [
    {
     "data": {
      "application/vnd.plotly.v1+json": {
       "config": {
        "plotlyServerURL": "https://plot.ly"
       },
       "data": [
        {
         "alignmentgroup": "True",
         "hovertemplate": "Model Name=%{x}<br>Test Accuracy=%{y}<br>text=%{text}<extra></extra>",
         "legendgroup": "",
         "marker": {
          "color": "#1f77b4",
          "pattern": {
           "shape": ""
          }
         },
         "name": "",
         "offsetgroup": "",
         "orientation": "v",
         "showlegend": false,
         "text": [
          "0.873",
          "0.581",
          "0.632",
          "0.635",
          "0.397",
          "0.563",
          "0.571",
          "0.754"
         ],
         "textposition": "outside",
         "type": "bar",
         "x": [
          "FMCIBExtractor",
          "CTFMExtractor",
          "PyramidExtractor",
          "VISTA3DExtractor",
          "VocoExtractor",
          "SUPREMExtractor",
          "MerlinExtractor",
          "ModelsGenExtractor"
         ],
         "xaxis": "x",
         "y": [
          0.8734756097560975,
          0.5807926829268293,
          0.6315133037694013,
          0.6350471175166298,
          0.39689578713968954,
          0.5633314855875831,
          0.5708841463414634,
          0.753880266075388
         ],
         "yaxis": "y"
        }
       ],
       "layout": {
        "barmode": "relative",
        "font": {
         "size": 10
        },
        "height": 500,
        "legend": {
         "tracegroupgap": 0
        },
        "plot_bgcolor": "rgba(0,0,0,0)",
        "showlegend": false,
        "template": {
         "data": {
          "bar": [
           {
            "error_x": {
             "color": "#2a3f5f"
            },
            "error_y": {
             "color": "#2a3f5f"
            },
            "marker": {
             "line": {
              "color": "white",
              "width": 0.5
             },
             "pattern": {
              "fillmode": "overlay",
              "size": 10,
              "solidity": 0.2
             }
            },
            "type": "bar"
           }
          ],
          "barpolar": [
           {
            "marker": {
             "line": {
              "color": "white",
              "width": 0.5
             },
             "pattern": {
              "fillmode": "overlay",
              "size": 10,
              "solidity": 0.2
             }
            },
            "type": "barpolar"
           }
          ],
          "carpet": [
           {
            "aaxis": {
             "endlinecolor": "#2a3f5f",
             "gridcolor": "#C8D4E3",
             "linecolor": "#C8D4E3",
             "minorgridcolor": "#C8D4E3",
             "startlinecolor": "#2a3f5f"
            },
            "baxis": {
             "endlinecolor": "#2a3f5f",
             "gridcolor": "#C8D4E3",
             "linecolor": "#C8D4E3",
             "minorgridcolor": "#C8D4E3",
             "startlinecolor": "#2a3f5f"
            },
            "type": "carpet"
           }
          ],
          "choropleth": [
           {
            "colorbar": {
             "outlinewidth": 0,
             "ticks": ""
            },
            "type": "choropleth"
           }
          ],
          "contour": [
           {
            "colorbar": {
             "outlinewidth": 0,
             "ticks": ""
            },
            "colorscale": [
             [
              0,
              "#0d0887"
             ],
             [
              0.1111111111111111,
              "#46039f"
             ],
             [
              0.2222222222222222,
              "#7201a8"
             ],
             [
              0.3333333333333333,
              "#9c179e"
             ],
             [
              0.4444444444444444,
              "#bd3786"
             ],
             [
              0.5555555555555556,
              "#d8576b"
             ],
             [
              0.6666666666666666,
              "#ed7953"
             ],
             [
              0.7777777777777778,
              "#fb9f3a"
             ],
             [
              0.8888888888888888,
              "#fdca26"
             ],
             [
              1,
              "#f0f921"
             ]
            ],
            "type": "contour"
           }
          ],
          "contourcarpet": [
           {
            "colorbar": {
             "outlinewidth": 0,
             "ticks": ""
            },
            "type": "contourcarpet"
           }
          ],
          "heatmap": [
           {
            "colorbar": {
             "outlinewidth": 0,
             "ticks": ""
            },
            "colorscale": [
             [
              0,
              "#0d0887"
             ],
             [
              0.1111111111111111,
              "#46039f"
             ],
             [
              0.2222222222222222,
              "#7201a8"
             ],
             [
              0.3333333333333333,
              "#9c179e"
             ],
             [
              0.4444444444444444,
              "#bd3786"
             ],
             [
              0.5555555555555556,
              "#d8576b"
             ],
             [
              0.6666666666666666,
              "#ed7953"
             ],
             [
              0.7777777777777778,
              "#fb9f3a"
             ],
             [
              0.8888888888888888,
              "#fdca26"
             ],
             [
              1,
              "#f0f921"
             ]
            ],
            "type": "heatmap"
           }
          ],
          "heatmapgl": [
           {
            "colorbar": {
             "outlinewidth": 0,
             "ticks": ""
            },
            "colorscale": [
             [
              0,
              "#0d0887"
             ],
             [
              0.1111111111111111,
              "#46039f"
             ],
             [
              0.2222222222222222,
              "#7201a8"
             ],
             [
              0.3333333333333333,
              "#9c179e"
             ],
             [
              0.4444444444444444,
              "#bd3786"
             ],
             [
              0.5555555555555556,
              "#d8576b"
             ],
             [
              0.6666666666666666,
              "#ed7953"
             ],
             [
              0.7777777777777778,
              "#fb9f3a"
             ],
             [
              0.8888888888888888,
              "#fdca26"
             ],
             [
              1,
              "#f0f921"
             ]
            ],
            "type": "heatmapgl"
           }
          ],
          "histogram": [
           {
            "marker": {
             "pattern": {
              "fillmode": "overlay",
              "size": 10,
              "solidity": 0.2
             }
            },
            "type": "histogram"
           }
          ],
          "histogram2d": [
           {
            "colorbar": {
             "outlinewidth": 0,
             "ticks": ""
            },
            "colorscale": [
             [
              0,
              "#0d0887"
             ],
             [
              0.1111111111111111,
              "#46039f"
             ],
             [
              0.2222222222222222,
              "#7201a8"
             ],
             [
              0.3333333333333333,
              "#9c179e"
             ],
             [
              0.4444444444444444,
              "#bd3786"
             ],
             [
              0.5555555555555556,
              "#d8576b"
             ],
             [
              0.6666666666666666,
              "#ed7953"
             ],
             [
              0.7777777777777778,
              "#fb9f3a"
             ],
             [
              0.8888888888888888,
              "#fdca26"
             ],
             [
              1,
              "#f0f921"
             ]
            ],
            "type": "histogram2d"
           }
          ],
          "histogram2dcontour": [
           {
            "colorbar": {
             "outlinewidth": 0,
             "ticks": ""
            },
            "colorscale": [
             [
              0,
              "#0d0887"
             ],
             [
              0.1111111111111111,
              "#46039f"
             ],
             [
              0.2222222222222222,
              "#7201a8"
             ],
             [
              0.3333333333333333,
              "#9c179e"
             ],
             [
              0.4444444444444444,
              "#bd3786"
             ],
             [
              0.5555555555555556,
              "#d8576b"
             ],
             [
              0.6666666666666666,
              "#ed7953"
             ],
             [
              0.7777777777777778,
              "#fb9f3a"
             ],
             [
              0.8888888888888888,
              "#fdca26"
             ],
             [
              1,
              "#f0f921"
             ]
            ],
            "type": "histogram2dcontour"
           }
          ],
          "mesh3d": [
           {
            "colorbar": {
             "outlinewidth": 0,
             "ticks": ""
            },
            "type": "mesh3d"
           }
          ],
          "parcoords": [
           {
            "line": {
             "colorbar": {
              "outlinewidth": 0,
              "ticks": ""
             }
            },
            "type": "parcoords"
           }
          ],
          "pie": [
           {
            "automargin": true,
            "type": "pie"
           }
          ],
          "scatter": [
           {
            "fillpattern": {
             "fillmode": "overlay",
             "size": 10,
             "solidity": 0.2
            },
            "type": "scatter"
           }
          ],
          "scatter3d": [
           {
            "line": {
             "colorbar": {
              "outlinewidth": 0,
              "ticks": ""
             }
            },
            "marker": {
             "colorbar": {
              "outlinewidth": 0,
              "ticks": ""
             }
            },
            "type": "scatter3d"
           }
          ],
          "scattercarpet": [
           {
            "marker": {
             "colorbar": {
              "outlinewidth": 0,
              "ticks": ""
             }
            },
            "type": "scattercarpet"
           }
          ],
          "scattergeo": [
           {
            "marker": {
             "colorbar": {
              "outlinewidth": 0,
              "ticks": ""
             }
            },
            "type": "scattergeo"
           }
          ],
          "scattergl": [
           {
            "marker": {
             "colorbar": {
              "outlinewidth": 0,
              "ticks": ""
             }
            },
            "type": "scattergl"
           }
          ],
          "scattermapbox": [
           {
            "marker": {
             "colorbar": {
              "outlinewidth": 0,
              "ticks": ""
             }
            },
            "type": "scattermapbox"
           }
          ],
          "scatterpolar": [
           {
            "marker": {
             "colorbar": {
              "outlinewidth": 0,
              "ticks": ""
             }
            },
            "type": "scatterpolar"
           }
          ],
          "scatterpolargl": [
           {
            "marker": {
             "colorbar": {
              "outlinewidth": 0,
              "ticks": ""
             }
            },
            "type": "scatterpolargl"
           }
          ],
          "scatterternary": [
           {
            "marker": {
             "colorbar": {
              "outlinewidth": 0,
              "ticks": ""
             }
            },
            "type": "scatterternary"
           }
          ],
          "surface": [
           {
            "colorbar": {
             "outlinewidth": 0,
             "ticks": ""
            },
            "colorscale": [
             [
              0,
              "#0d0887"
             ],
             [
              0.1111111111111111,
              "#46039f"
             ],
             [
              0.2222222222222222,
              "#7201a8"
             ],
             [
              0.3333333333333333,
              "#9c179e"
             ],
             [
              0.4444444444444444,
              "#bd3786"
             ],
             [
              0.5555555555555556,
              "#d8576b"
             ],
             [
              0.6666666666666666,
              "#ed7953"
             ],
             [
              0.7777777777777778,
              "#fb9f3a"
             ],
             [
              0.8888888888888888,
              "#fdca26"
             ],
             [
              1,
              "#f0f921"
             ]
            ],
            "type": "surface"
           }
          ],
          "table": [
           {
            "cells": {
             "fill": {
              "color": "#EBF0F8"
             },
             "line": {
              "color": "white"
             }
            },
            "header": {
             "fill": {
              "color": "#C8D4E3"
             },
             "line": {
              "color": "white"
             }
            },
            "type": "table"
           }
          ]
         },
         "layout": {
          "annotationdefaults": {
           "arrowcolor": "#2a3f5f",
           "arrowhead": 0,
           "arrowwidth": 1
          },
          "autotypenumbers": "strict",
          "coloraxis": {
           "colorbar": {
            "outlinewidth": 0,
            "ticks": ""
           }
          },
          "colorscale": {
           "diverging": [
            [
             0,
             "#8e0152"
            ],
            [
             0.1,
             "#c51b7d"
            ],
            [
             0.2,
             "#de77ae"
            ],
            [
             0.3,
             "#f1b6da"
            ],
            [
             0.4,
             "#fde0ef"
            ],
            [
             0.5,
             "#f7f7f7"
            ],
            [
             0.6,
             "#e6f5d0"
            ],
            [
             0.7,
             "#b8e186"
            ],
            [
             0.8,
             "#7fbc41"
            ],
            [
             0.9,
             "#4d9221"
            ],
            [
             1,
             "#276419"
            ]
           ],
           "sequential": [
            [
             0,
             "#0d0887"
            ],
            [
             0.1111111111111111,
             "#46039f"
            ],
            [
             0.2222222222222222,
             "#7201a8"
            ],
            [
             0.3333333333333333,
             "#9c179e"
            ],
            [
             0.4444444444444444,
             "#bd3786"
            ],
            [
             0.5555555555555556,
             "#d8576b"
            ],
            [
             0.6666666666666666,
             "#ed7953"
            ],
            [
             0.7777777777777778,
             "#fb9f3a"
            ],
            [
             0.8888888888888888,
             "#fdca26"
            ],
            [
             1,
             "#f0f921"
            ]
           ],
           "sequentialminus": [
            [
             0,
             "#0d0887"
            ],
            [
             0.1111111111111111,
             "#46039f"
            ],
            [
             0.2222222222222222,
             "#7201a8"
            ],
            [
             0.3333333333333333,
             "#9c179e"
            ],
            [
             0.4444444444444444,
             "#bd3786"
            ],
            [
             0.5555555555555556,
             "#d8576b"
            ],
            [
             0.6666666666666666,
             "#ed7953"
            ],
            [
             0.7777777777777778,
             "#fb9f3a"
            ],
            [
             0.8888888888888888,
             "#fdca26"
            ],
            [
             1,
             "#f0f921"
            ]
           ]
          },
          "colorway": [
           "#636efa",
           "#EF553B",
           "#00cc96",
           "#ab63fa",
           "#FFA15A",
           "#19d3f3",
           "#FF6692",
           "#B6E880",
           "#FF97FF",
           "#FECB52"
          ],
          "font": {
           "color": "#2a3f5f"
          },
          "geo": {
           "bgcolor": "white",
           "lakecolor": "white",
           "landcolor": "white",
           "showlakes": true,
           "showland": true,
           "subunitcolor": "#C8D4E3"
          },
          "hoverlabel": {
           "align": "left"
          },
          "hovermode": "closest",
          "mapbox": {
           "style": "light"
          },
          "paper_bgcolor": "white",
          "plot_bgcolor": "white",
          "polar": {
           "angularaxis": {
            "gridcolor": "#EBF0F8",
            "linecolor": "#EBF0F8",
            "ticks": ""
           },
           "bgcolor": "white",
           "radialaxis": {
            "gridcolor": "#EBF0F8",
            "linecolor": "#EBF0F8",
            "ticks": ""
           }
          },
          "scene": {
           "xaxis": {
            "backgroundcolor": "white",
            "gridcolor": "#DFE8F3",
            "gridwidth": 2,
            "linecolor": "#EBF0F8",
            "showbackground": true,
            "ticks": "",
            "zerolinecolor": "#EBF0F8"
           },
           "yaxis": {
            "backgroundcolor": "white",
            "gridcolor": "#DFE8F3",
            "gridwidth": 2,
            "linecolor": "#EBF0F8",
            "showbackground": true,
            "ticks": "",
            "zerolinecolor": "#EBF0F8"
           },
           "zaxis": {
            "backgroundcolor": "white",
            "gridcolor": "#DFE8F3",
            "gridwidth": 2,
            "linecolor": "#EBF0F8",
            "showbackground": true,
            "ticks": "",
            "zerolinecolor": "#EBF0F8"
           }
          },
          "shapedefaults": {
           "line": {
            "color": "#2a3f5f"
           }
          },
          "ternary": {
           "aaxis": {
            "gridcolor": "#DFE8F3",
            "linecolor": "#A2B1C6",
            "ticks": ""
           },
           "baxis": {
            "gridcolor": "#DFE8F3",
            "linecolor": "#A2B1C6",
            "ticks": ""
           },
           "bgcolor": "white",
           "caxis": {
            "gridcolor": "#DFE8F3",
            "linecolor": "#A2B1C6",
            "ticks": ""
           }
          },
          "title": {
           "x": 0.05
          },
          "xaxis": {
           "automargin": true,
           "gridcolor": "#EBF0F8",
           "linecolor": "#EBF0F8",
           "ticks": "",
           "title": {
            "standoff": 15
           },
           "zerolinecolor": "#EBF0F8",
           "zerolinewidth": 2
          },
          "yaxis": {
           "automargin": true,
           "gridcolor": "#EBF0F8",
           "linecolor": "#EBF0F8",
           "ticks": "",
           "title": {
            "standoff": 15
           },
           "zerolinecolor": "#EBF0F8",
           "zerolinewidth": 2
          }
         }
        },
        "title": {
         "text": "Test AUC Comparison Between Models",
         "x": 0.5
        },
        "width": 500,
        "xaxis": {
         "anchor": "y",
         "domain": [
          0,
          1
         ],
         "linecolor": "black",
         "ticks": "",
         "title": {
          "text": "Model Name"
         }
        },
        "yaxis": {
         "anchor": "x",
         "domain": [
          0,
          1
         ],
         "linecolor": "black",
         "range": [
          0,
          1
         ],
         "ticks": "",
         "title": {
          "text": "Test Accuracy"
         }
        }
       }
      },
      "text/html": [
       "<div>                            <div id=\"4e1c6cc0-c6de-4160-9208-c6350bc471f9\" class=\"plotly-graph-div\" style=\"height:500px; width:500px;\"></div>            <script type=\"text/javascript\">                require([\"plotly\"], function(Plotly) {                    window.PLOTLYENV=window.PLOTLYENV || {};                                    if (document.getElementById(\"4e1c6cc0-c6de-4160-9208-c6350bc471f9\")) {                    Plotly.newPlot(                        \"4e1c6cc0-c6de-4160-9208-c6350bc471f9\",                        [{\"alignmentgroup\":\"True\",\"hovertemplate\":\"Model Name=%{x}\\u003cbr\\u003eTest Accuracy=%{y}\\u003cbr\\u003etext=%{text}\\u003cextra\\u003e\\u003c\\u002fextra\\u003e\",\"legendgroup\":\"\",\"marker\":{\"color\":\"#1f77b4\",\"pattern\":{\"shape\":\"\"}},\"name\":\"\",\"offsetgroup\":\"\",\"orientation\":\"v\",\"showlegend\":false,\"text\":[\"0.873\",\"0.581\",\"0.632\",\"0.635\",\"0.397\",\"0.563\",\"0.571\",\"0.754\"],\"textposition\":\"outside\",\"x\":[\"FMCIBExtractor\",\"CTFMExtractor\",\"PyramidExtractor\",\"VISTA3DExtractor\",\"VocoExtractor\",\"SUPREMExtractor\",\"MerlinExtractor\",\"ModelsGenExtractor\"],\"xaxis\":\"x\",\"y\":[0.8734756097560975,0.5807926829268293,0.6315133037694013,0.6350471175166298,0.39689578713968954,0.5633314855875831,0.5708841463414634,0.753880266075388],\"yaxis\":\"y\",\"type\":\"bar\"}],                        {\"template\":{\"data\":{\"barpolar\":[{\"marker\":{\"line\":{\"color\":\"white\",\"width\":0.5},\"pattern\":{\"fillmode\":\"overlay\",\"size\":10,\"solidity\":0.2}},\"type\":\"barpolar\"}],\"bar\":[{\"error_x\":{\"color\":\"#2a3f5f\"},\"error_y\":{\"color\":\"#2a3f5f\"},\"marker\":{\"line\":{\"color\":\"white\",\"width\":0.5},\"pattern\":{\"fillmode\":\"overlay\",\"size\":10,\"solidity\":0.2}},\"type\":\"bar\"}],\"carpet\":[{\"aaxis\":{\"endlinecolor\":\"#2a3f5f\",\"gridcolor\":\"#C8D4E3\",\"linecolor\":\"#C8D4E3\",\"minorgridcolor\":\"#C8D4E3\",\"startlinecolor\":\"#2a3f5f\"},\"baxis\":{\"endlinecolor\":\"#2a3f5f\",\"gridcolor\":\"#C8D4E3\",\"linecolor\":\"#C8D4E3\",\"minorgridcolor\":\"#C8D4E3\",\"startlinecolor\":\"#2a3f5f\"},\"type\":\"carpet\"}],\"choropleth\":[{\"colorbar\":{\"outlinewidth\":0,\"ticks\":\"\"},\"type\":\"choropleth\"}],\"contourcarpet\":[{\"colorbar\":{\"outlinewidth\":0,\"ticks\":\"\"},\"type\":\"contourcarpet\"}],\"contour\":[{\"colorbar\":{\"outlinewidth\":0,\"ticks\":\"\"},\"colorscale\":[[0.0,\"#0d0887\"],[0.1111111111111111,\"#46039f\"],[0.2222222222222222,\"#7201a8\"],[0.3333333333333333,\"#9c179e\"],[0.4444444444444444,\"#bd3786\"],[0.5555555555555556,\"#d8576b\"],[0.6666666666666666,\"#ed7953\"],[0.7777777777777778,\"#fb9f3a\"],[0.8888888888888888,\"#fdca26\"],[1.0,\"#f0f921\"]],\"type\":\"contour\"}],\"heatmapgl\":[{\"colorbar\":{\"outlinewidth\":0,\"ticks\":\"\"},\"colorscale\":[[0.0,\"#0d0887\"],[0.1111111111111111,\"#46039f\"],[0.2222222222222222,\"#7201a8\"],[0.3333333333333333,\"#9c179e\"],[0.4444444444444444,\"#bd3786\"],[0.5555555555555556,\"#d8576b\"],[0.6666666666666666,\"#ed7953\"],[0.7777777777777778,\"#fb9f3a\"],[0.8888888888888888,\"#fdca26\"],[1.0,\"#f0f921\"]],\"type\":\"heatmapgl\"}],\"heatmap\":[{\"colorbar\":{\"outlinewidth\":0,\"ticks\":\"\"},\"colorscale\":[[0.0,\"#0d0887\"],[0.1111111111111111,\"#46039f\"],[0.2222222222222222,\"#7201a8\"],[0.3333333333333333,\"#9c179e\"],[0.4444444444444444,\"#bd3786\"],[0.5555555555555556,\"#d8576b\"],[0.6666666666666666,\"#ed7953\"],[0.7777777777777778,\"#fb9f3a\"],[0.8888888888888888,\"#fdca26\"],[1.0,\"#f0f921\"]],\"type\":\"heatmap\"}],\"histogram2dcontour\":[{\"colorbar\":{\"outlinewidth\":0,\"ticks\":\"\"},\"colorscale\":[[0.0,\"#0d0887\"],[0.1111111111111111,\"#46039f\"],[0.2222222222222222,\"#7201a8\"],[0.3333333333333333,\"#9c179e\"],[0.4444444444444444,\"#bd3786\"],[0.5555555555555556,\"#d8576b\"],[0.6666666666666666,\"#ed7953\"],[0.7777777777777778,\"#fb9f3a\"],[0.8888888888888888,\"#fdca26\"],[1.0,\"#f0f921\"]],\"type\":\"histogram2dcontour\"}],\"histogram2d\":[{\"colorbar\":{\"outlinewidth\":0,\"ticks\":\"\"},\"colorscale\":[[0.0,\"#0d0887\"],[0.1111111111111111,\"#46039f\"],[0.2222222222222222,\"#7201a8\"],[0.3333333333333333,\"#9c179e\"],[0.4444444444444444,\"#bd3786\"],[0.5555555555555556,\"#d8576b\"],[0.6666666666666666,\"#ed7953\"],[0.7777777777777778,\"#fb9f3a\"],[0.8888888888888888,\"#fdca26\"],[1.0,\"#f0f921\"]],\"type\":\"histogram2d\"}],\"histogram\":[{\"marker\":{\"pattern\":{\"fillmode\":\"overlay\",\"size\":10,\"solidity\":0.2}},\"type\":\"histogram\"}],\"mesh3d\":[{\"colorbar\":{\"outlinewidth\":0,\"ticks\":\"\"},\"type\":\"mesh3d\"}],\"parcoords\":[{\"line\":{\"colorbar\":{\"outlinewidth\":0,\"ticks\":\"\"}},\"type\":\"parcoords\"}],\"pie\":[{\"automargin\":true,\"type\":\"pie\"}],\"scatter3d\":[{\"line\":{\"colorbar\":{\"outlinewidth\":0,\"ticks\":\"\"}},\"marker\":{\"colorbar\":{\"outlinewidth\":0,\"ticks\":\"\"}},\"type\":\"scatter3d\"}],\"scattercarpet\":[{\"marker\":{\"colorbar\":{\"outlinewidth\":0,\"ticks\":\"\"}},\"type\":\"scattercarpet\"}],\"scattergeo\":[{\"marker\":{\"colorbar\":{\"outlinewidth\":0,\"ticks\":\"\"}},\"type\":\"scattergeo\"}],\"scattergl\":[{\"marker\":{\"colorbar\":{\"outlinewidth\":0,\"ticks\":\"\"}},\"type\":\"scattergl\"}],\"scattermapbox\":[{\"marker\":{\"colorbar\":{\"outlinewidth\":0,\"ticks\":\"\"}},\"type\":\"scattermapbox\"}],\"scatterpolargl\":[{\"marker\":{\"colorbar\":{\"outlinewidth\":0,\"ticks\":\"\"}},\"type\":\"scatterpolargl\"}],\"scatterpolar\":[{\"marker\":{\"colorbar\":{\"outlinewidth\":0,\"ticks\":\"\"}},\"type\":\"scatterpolar\"}],\"scatter\":[{\"fillpattern\":{\"fillmode\":\"overlay\",\"size\":10,\"solidity\":0.2},\"type\":\"scatter\"}],\"scatterternary\":[{\"marker\":{\"colorbar\":{\"outlinewidth\":0,\"ticks\":\"\"}},\"type\":\"scatterternary\"}],\"surface\":[{\"colorbar\":{\"outlinewidth\":0,\"ticks\":\"\"},\"colorscale\":[[0.0,\"#0d0887\"],[0.1111111111111111,\"#46039f\"],[0.2222222222222222,\"#7201a8\"],[0.3333333333333333,\"#9c179e\"],[0.4444444444444444,\"#bd3786\"],[0.5555555555555556,\"#d8576b\"],[0.6666666666666666,\"#ed7953\"],[0.7777777777777778,\"#fb9f3a\"],[0.8888888888888888,\"#fdca26\"],[1.0,\"#f0f921\"]],\"type\":\"surface\"}],\"table\":[{\"cells\":{\"fill\":{\"color\":\"#EBF0F8\"},\"line\":{\"color\":\"white\"}},\"header\":{\"fill\":{\"color\":\"#C8D4E3\"},\"line\":{\"color\":\"white\"}},\"type\":\"table\"}]},\"layout\":{\"annotationdefaults\":{\"arrowcolor\":\"#2a3f5f\",\"arrowhead\":0,\"arrowwidth\":1},\"autotypenumbers\":\"strict\",\"coloraxis\":{\"colorbar\":{\"outlinewidth\":0,\"ticks\":\"\"}},\"colorscale\":{\"diverging\":[[0,\"#8e0152\"],[0.1,\"#c51b7d\"],[0.2,\"#de77ae\"],[0.3,\"#f1b6da\"],[0.4,\"#fde0ef\"],[0.5,\"#f7f7f7\"],[0.6,\"#e6f5d0\"],[0.7,\"#b8e186\"],[0.8,\"#7fbc41\"],[0.9,\"#4d9221\"],[1,\"#276419\"]],\"sequential\":[[0.0,\"#0d0887\"],[0.1111111111111111,\"#46039f\"],[0.2222222222222222,\"#7201a8\"],[0.3333333333333333,\"#9c179e\"],[0.4444444444444444,\"#bd3786\"],[0.5555555555555556,\"#d8576b\"],[0.6666666666666666,\"#ed7953\"],[0.7777777777777778,\"#fb9f3a\"],[0.8888888888888888,\"#fdca26\"],[1.0,\"#f0f921\"]],\"sequentialminus\":[[0.0,\"#0d0887\"],[0.1111111111111111,\"#46039f\"],[0.2222222222222222,\"#7201a8\"],[0.3333333333333333,\"#9c179e\"],[0.4444444444444444,\"#bd3786\"],[0.5555555555555556,\"#d8576b\"],[0.6666666666666666,\"#ed7953\"],[0.7777777777777778,\"#fb9f3a\"],[0.8888888888888888,\"#fdca26\"],[1.0,\"#f0f921\"]]},\"colorway\":[\"#636efa\",\"#EF553B\",\"#00cc96\",\"#ab63fa\",\"#FFA15A\",\"#19d3f3\",\"#FF6692\",\"#B6E880\",\"#FF97FF\",\"#FECB52\"],\"font\":{\"color\":\"#2a3f5f\"},\"geo\":{\"bgcolor\":\"white\",\"lakecolor\":\"white\",\"landcolor\":\"white\",\"showlakes\":true,\"showland\":true,\"subunitcolor\":\"#C8D4E3\"},\"hoverlabel\":{\"align\":\"left\"},\"hovermode\":\"closest\",\"mapbox\":{\"style\":\"light\"},\"paper_bgcolor\":\"white\",\"plot_bgcolor\":\"white\",\"polar\":{\"angularaxis\":{\"gridcolor\":\"#EBF0F8\",\"linecolor\":\"#EBF0F8\",\"ticks\":\"\"},\"bgcolor\":\"white\",\"radialaxis\":{\"gridcolor\":\"#EBF0F8\",\"linecolor\":\"#EBF0F8\",\"ticks\":\"\"}},\"scene\":{\"xaxis\":{\"backgroundcolor\":\"white\",\"gridcolor\":\"#DFE8F3\",\"gridwidth\":2,\"linecolor\":\"#EBF0F8\",\"showbackground\":true,\"ticks\":\"\",\"zerolinecolor\":\"#EBF0F8\"},\"yaxis\":{\"backgroundcolor\":\"white\",\"gridcolor\":\"#DFE8F3\",\"gridwidth\":2,\"linecolor\":\"#EBF0F8\",\"showbackground\":true,\"ticks\":\"\",\"zerolinecolor\":\"#EBF0F8\"},\"zaxis\":{\"backgroundcolor\":\"white\",\"gridcolor\":\"#DFE8F3\",\"gridwidth\":2,\"linecolor\":\"#EBF0F8\",\"showbackground\":true,\"ticks\":\"\",\"zerolinecolor\":\"#EBF0F8\"}},\"shapedefaults\":{\"line\":{\"color\":\"#2a3f5f\"}},\"ternary\":{\"aaxis\":{\"gridcolor\":\"#DFE8F3\",\"linecolor\":\"#A2B1C6\",\"ticks\":\"\"},\"baxis\":{\"gridcolor\":\"#DFE8F3\",\"linecolor\":\"#A2B1C6\",\"ticks\":\"\"},\"bgcolor\":\"white\",\"caxis\":{\"gridcolor\":\"#DFE8F3\",\"linecolor\":\"#A2B1C6\",\"ticks\":\"\"}},\"title\":{\"x\":0.05},\"xaxis\":{\"automargin\":true,\"gridcolor\":\"#EBF0F8\",\"linecolor\":\"#EBF0F8\",\"ticks\":\"\",\"title\":{\"standoff\":15},\"zerolinecolor\":\"#EBF0F8\",\"zerolinewidth\":2},\"yaxis\":{\"automargin\":true,\"gridcolor\":\"#EBF0F8\",\"linecolor\":\"#EBF0F8\",\"ticks\":\"\",\"title\":{\"standoff\":15},\"zerolinecolor\":\"#EBF0F8\",\"zerolinewidth\":2}}},\"xaxis\":{\"anchor\":\"y\",\"domain\":[0.0,1.0],\"title\":{\"text\":\"Model Name\"},\"linecolor\":\"black\",\"ticks\":\"\"},\"yaxis\":{\"anchor\":\"x\",\"domain\":[0.0,1.0],\"title\":{\"text\":\"Test Accuracy\"},\"range\":[0,1],\"linecolor\":\"black\",\"ticks\":\"\"},\"legend\":{\"tracegroupgap\":0},\"title\":{\"text\":\"Test AUC Comparison Between Models\",\"x\":0.5},\"barmode\":\"relative\",\"height\":500,\"width\":500,\"font\":{\"size\":10},\"showlegend\":false,\"plot_bgcolor\":\"rgba(0,0,0,0)\"},                        {\"responsive\": true}                    ).then(function(){\n",
       "                            \n",
       "var gd = document.getElementById('4e1c6cc0-c6de-4160-9208-c6350bc471f9');\n",
       "var x = new MutationObserver(function (mutations, observer) {{\n",
       "        var display = window.getComputedStyle(gd).display;\n",
       "        if (!display || display === 'none') {{\n",
       "            console.log([gd, 'removed!']);\n",
       "            Plotly.purge(gd);\n",
       "            observer.disconnect();\n",
       "        }}\n",
       "}});\n",
       "\n",
       "// Listen for the removal of the full notebook cells\n",
       "var notebookContainer = gd.closest('#notebook-container');\n",
       "if (notebookContainer) {{\n",
       "    x.observe(notebookContainer, {childList: true});\n",
       "}}\n",
       "\n",
       "// Listen for the clearing of the current output cell\n",
       "var outputEl = gd.closest('.output');\n",
       "if (outputEl) {{\n",
       "    x.observe(outputEl, {childList: true});\n",
       "}}\n",
       "\n",
       "                        })                };                });            </script>        </div>"
      ]
     },
     "metadata": {},
     "output_type": "display_data"
    }
   ],
   "source": [
    "# Plot test accuracies\n",
    "fig = plot_model_comparison(test_accuracies_dict)\n",
    "fig.show() # Show the plot"
   ]
  }
 ],
 "metadata": {
  "kernelspec": {
   "display_name": "Python 3",
   "language": "python",
   "name": "python3"
  },
  "language_info": {
   "codemirror_mode": {
    "name": "ipython",
    "version": 3
   },
   "file_extension": ".py",
   "mimetype": "text/x-python",
   "name": "python",
   "nbconvert_exporter": "python",
   "pygments_lexer": "ipython3",
   "version": "3.10.14"
  }
 },
 "nbformat": 4,
 "nbformat_minor": 5
}
