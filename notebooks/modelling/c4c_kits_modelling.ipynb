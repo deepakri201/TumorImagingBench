{
 "cells": [
  {
   "cell_type": "code",
   "execution_count": 1,
   "metadata": {},
   "outputs": [],
   "source": [
    "# Import necessary libraries\n",
    "\n",
    "import pandas as pd # For data manipulation and analysis\n",
    "import numpy as np # For numerical operations\n",
    "import pickle # For serializing and deserializing Python objects\n",
    "from modelling_utils import train_knn_classifier, evaluate_model, plot_model_comparison, extract_model_features, compute_knn_indices, compute_overlap_matrix, plot_overlap_matrix, split_shuffle_data"
   ]
  },
  {
   "cell_type": "code",
   "execution_count": 8,
   "metadata": {},
   "outputs": [],
   "source": [
    "# Load features from a pickle file\n",
    "feature_dict_path = \"/home/suraj/Repositories/FM-extractors-radiomics/evaluation/features/c4c_kits.pkl\" # Path to the pickle file containing features\n",
    "with open(feature_dict_path, 'rb') as file: # Open the file in read binary mode\n",
    "    data = pickle.load(file) # Load the data from the pickle file"
   ]
  },
  {
   "cell_type": "code",
   "execution_count": 9,
   "metadata": {},
   "outputs": [],
   "source": [
    "# Store test accuracies for each model\n",
    "test_accuracies_dict = {} # Initialize an empty dictionary to store test accuracies\n",
    "\n",
    "# Process survival data\n",
    "for model_name, values in data.items():  # Iterate through each model\n",
    "    for dataset in [\"train\"]:  # Apply to train, val, and test data\n",
    "        vital_days = [v[\"row\"][\"vital_days_after_surgery\"] for v in values[dataset]]  # Extract vital days\n",
    "        vital_status = [v[\"row\"][\"vital_status\"] for v in values[dataset]]  # Extract vital status\n",
    "        survival = []\n",
    "        \n",
    "        for days, censor in zip(vital_days, vital_status):\n",
    "            if days >= 730:\n",
    "                survival.append(1)\n",
    "            elif censor != 'censored' and days < 730:\n",
    "                survival.append(0)\n",
    "            else:\n",
    "                survival.append(np.nan)\n",
    "\n",
    "        items = data[model_name][dataset]\n",
    "        for idx in range(len(items)):\n",
    "            items[idx][\"row\"][\"survival\"] = survival[idx]  # Store survival status"
   ]
  },
  {
   "cell_type": "code",
   "execution_count": 10,
   "metadata": {},
   "outputs": [
    {
     "name": "stderr",
     "output_type": "stream",
     "text": [
      "[I 2025-02-25 17:07:08,644] A new study created in memory with name: no-name-66422fe1-0c9a-4a3f-86e5-ffb40fae9a92\n",
      "[I 2025-02-25 17:07:08,649] Trial 0 finished with value: 0.875 and parameters: {'k': 29}. Best is trial 0 with value: 0.875.\n",
      "[I 2025-02-25 17:07:08,653] Trial 1 finished with value: 0.9583333333333333 and parameters: {'k': 12}. Best is trial 1 with value: 0.9583333333333333.\n",
      "[I 2025-02-25 17:07:08,658] Trial 2 finished with value: 0.9583333333333333 and parameters: {'k': 11}. Best is trial 1 with value: 0.9583333333333333.\n",
      "[I 2025-02-25 17:07:08,663] Trial 3 finished with value: 0.875 and parameters: {'k': 42}. Best is trial 1 with value: 0.9583333333333333.\n",
      "[I 2025-02-25 17:07:08,667] Trial 4 finished with value: 0.8333333333333333 and parameters: {'k': 3}. Best is trial 1 with value: 0.9583333333333333.\n",
      "[I 2025-02-25 17:07:08,672] Trial 5 finished with value: 0.8958333333333333 and parameters: {'k': 28}. Best is trial 1 with value: 0.9583333333333333.\n",
      "[I 2025-02-25 17:07:08,677] Trial 6 finished with value: 0.875 and parameters: {'k': 39}. Best is trial 1 with value: 0.9583333333333333.\n",
      "[I 2025-02-25 17:07:08,682] Trial 7 finished with value: 0.875 and parameters: {'k': 32}. Best is trial 1 with value: 0.9583333333333333.\n",
      "[I 2025-02-25 17:07:08,687] Trial 8 finished with value: 0.9166666666666667 and parameters: {'k': 23}. Best is trial 1 with value: 0.9583333333333333.\n",
      "[I 2025-02-25 17:07:08,692] Trial 9 finished with value: 0.8541666666666666 and parameters: {'k': 5}. Best is trial 1 with value: 0.9583333333333333.\n",
      "[I 2025-02-25 17:07:08,698] Trial 10 finished with value: 0.9375 and parameters: {'k': 34}. Best is trial 1 with value: 0.9583333333333333.\n",
      "[I 2025-02-25 17:07:08,703] Trial 11 finished with value: 0.9375 and parameters: {'k': 36}. Best is trial 1 with value: 0.9583333333333333.\n",
      "[I 2025-02-25 17:07:08,709] Trial 12 finished with value: 0.9166666666666667 and parameters: {'k': 27}. Best is trial 1 with value: 0.9583333333333333.\n",
      "[I 2025-02-25 17:07:08,714] Trial 13 finished with value: 0.9375 and parameters: {'k': 35}. Best is trial 1 with value: 0.9583333333333333.\n",
      "[I 2025-02-25 17:07:08,720] Trial 14 finished with value: 0.9583333333333333 and parameters: {'k': 19}. Best is trial 1 with value: 0.9583333333333333.\n",
      "[I 2025-02-25 17:07:08,726] Trial 15 finished with value: 0.875 and parameters: {'k': 8}. Best is trial 1 with value: 0.9583333333333333.\n",
      "[I 2025-02-25 17:07:08,732] Trial 16 finished with value: 0.9375 and parameters: {'k': 15}. Best is trial 1 with value: 0.9583333333333333.\n",
      "[I 2025-02-25 17:07:08,738] Trial 17 finished with value: 0.9375 and parameters: {'k': 46}. Best is trial 1 with value: 0.9583333333333333.\n",
      "[I 2025-02-25 17:07:08,744] Trial 18 finished with value: 0.9375 and parameters: {'k': 49}. Best is trial 1 with value: 0.9583333333333333.\n",
      "[I 2025-02-25 17:07:08,750] Trial 19 finished with value: 0.875 and parameters: {'k': 30}. Best is trial 1 with value: 0.9583333333333333.\n",
      "[I 2025-02-25 17:07:08,757] Trial 20 finished with value: 0.9375 and parameters: {'k': 16}. Best is trial 1 with value: 0.9583333333333333.\n",
      "[I 2025-02-25 17:07:08,764] Trial 21 finished with value: 0.9166666666666667 and parameters: {'k': 31}. Best is trial 1 with value: 0.9583333333333333.\n",
      "[I 2025-02-25 17:07:08,770] Trial 22 finished with value: 0.9375 and parameters: {'k': 33}. Best is trial 1 with value: 0.9583333333333333.\n",
      "[I 2025-02-25 17:07:08,777] Trial 23 finished with value: 0.9583333333333334 and parameters: {'k': 17}. Best is trial 23 with value: 0.9583333333333334.\n",
      "[I 2025-02-25 17:07:08,784] Trial 24 finished with value: 0.875 and parameters: {'k': 43}. Best is trial 23 with value: 0.9583333333333334.\n",
      "[I 2025-02-25 17:07:08,792] Trial 25 finished with value: 0.9583333333333333 and parameters: {'k': 21}. Best is trial 23 with value: 0.9583333333333334.\n",
      "[I 2025-02-25 17:07:08,799] Trial 26 finished with value: 0.875 and parameters: {'k': 44}. Best is trial 23 with value: 0.9583333333333334.\n",
      "[I 2025-02-25 17:07:08,806] Trial 27 finished with value: 0.8333333333333333 and parameters: {'k': 9}. Best is trial 23 with value: 0.9583333333333334.\n",
      "[I 2025-02-25 17:07:08,814] Trial 28 finished with value: 0.9375 and parameters: {'k': 14}. Best is trial 23 with value: 0.9583333333333334.\n",
      "[I 2025-02-25 17:07:08,822] Trial 29 finished with value: 0.9166666666666667 and parameters: {'k': 26}. Best is trial 23 with value: 0.9583333333333334.\n",
      "[I 2025-02-25 17:07:08,830] Trial 30 finished with value: 0.7916666666666667 and parameters: {'k': 6}. Best is trial 23 with value: 0.9583333333333334.\n",
      "[I 2025-02-25 17:07:08,839] Trial 31 finished with value: 0.9583333333333334 and parameters: {'k': 18}. Best is trial 23 with value: 0.9583333333333334.\n"
     ]
    },
    {
     "name": "stdout",
     "output_type": "stream",
     "text": [
      "Model: FMCIBExtractor\n",
      "134\n"
     ]
    },
    {
     "name": "stderr",
     "output_type": "stream",
     "text": [
      "[I 2025-02-25 17:07:08,848] Trial 32 finished with value: 0.875 and parameters: {'k': 41}. Best is trial 23 with value: 0.9583333333333334.\n",
      "[I 2025-02-25 17:07:08,858] Trial 33 finished with value: 0.9166666666666666 and parameters: {'k': 50}. Best is trial 23 with value: 0.9583333333333334.\n",
      "[I 2025-02-25 17:07:08,868] Trial 34 finished with value: 0.6666666666666667 and parameters: {'k': 2}. Best is trial 23 with value: 0.9583333333333334.\n",
      "[I 2025-02-25 17:07:08,878] Trial 35 finished with value: 0.9166666666666667 and parameters: {'k': 13}. Best is trial 23 with value: 0.9583333333333334.\n",
      "[I 2025-02-25 17:07:08,889] Trial 36 finished with value: 0.875 and parameters: {'k': 38}. Best is trial 23 with value: 0.9583333333333334.\n",
      "[I 2025-02-25 17:07:08,898] Trial 37 finished with value: 0.9166666666666667 and parameters: {'k': 25}. Best is trial 23 with value: 0.9583333333333334.\n",
      "[I 2025-02-25 17:07:08,907] Trial 38 finished with value: 0.875 and parameters: {'k': 7}. Best is trial 23 with value: 0.9583333333333334.\n",
      "[I 2025-02-25 17:07:08,916] Trial 39 finished with value: 0.9166666666666667 and parameters: {'k': 24}. Best is trial 23 with value: 0.9583333333333334.\n",
      "[I 2025-02-25 17:07:08,925] Trial 40 finished with value: 0.875 and parameters: {'k': 37}. Best is trial 23 with value: 0.9583333333333334.\n",
      "[I 2025-02-25 17:07:08,934] Trial 41 finished with value: 0.875 and parameters: {'k': 22}. Best is trial 23 with value: 0.9583333333333334.\n",
      "[I 2025-02-25 17:07:08,944] Trial 42 finished with value: 0.9583333333333333 and parameters: {'k': 20}. Best is trial 23 with value: 0.9583333333333334.\n",
      "[I 2025-02-25 17:07:08,953] Trial 43 finished with value: 0.8958333333333333 and parameters: {'k': 10}. Best is trial 23 with value: 0.9583333333333334.\n",
      "[I 2025-02-25 17:07:08,963] Trial 44 finished with value: 0.875 and parameters: {'k': 40}. Best is trial 23 with value: 0.9583333333333334.\n",
      "[I 2025-02-25 17:07:08,973] Trial 45 finished with value: 0.9375 and parameters: {'k': 47}. Best is trial 23 with value: 0.9583333333333334.\n",
      "[I 2025-02-25 17:07:08,983] Trial 46 finished with value: 0.8958333333333333 and parameters: {'k': 4}. Best is trial 23 with value: 0.9583333333333334.\n",
      "[I 2025-02-25 17:07:08,993] Trial 47 finished with value: 0.4583333333333333 and parameters: {'k': 1}. Best is trial 23 with value: 0.9583333333333334.\n",
      "[I 2025-02-25 17:07:09,003] Trial 48 finished with value: 0.9375 and parameters: {'k': 48}. Best is trial 23 with value: 0.9583333333333334.\n",
      "[I 2025-02-25 17:07:09,014] Trial 49 finished with value: 0.8541666666666666 and parameters: {'k': 45}. Best is trial 23 with value: 0.9583333333333334.\n",
      "[I 2025-02-25 17:07:09,021] A new study created in memory with name: no-name-479dd346-9d84-4a59-b818-037042873929\n",
      "[I 2025-02-25 17:07:09,025] Trial 0 finished with value: 0.9791666666666666 and parameters: {'k': 29}. Best is trial 0 with value: 0.9791666666666666.\n",
      "[I 2025-02-25 17:07:09,028] Trial 1 finished with value: 0.8125 and parameters: {'k': 12}. Best is trial 0 with value: 0.9791666666666666.\n",
      "[I 2025-02-25 17:07:09,032] Trial 2 finished with value: 0.8333333333333334 and parameters: {'k': 11}. Best is trial 0 with value: 0.9791666666666666.\n",
      "[I 2025-02-25 17:07:09,037] Trial 3 finished with value: 0.9583333333333334 and parameters: {'k': 42}. Best is trial 0 with value: 0.9791666666666666.\n",
      "[I 2025-02-25 17:07:09,041] Trial 4 finished with value: 0.6666666666666667 and parameters: {'k': 3}. Best is trial 0 with value: 0.9791666666666666.\n",
      "[I 2025-02-25 17:07:09,045] Trial 5 finished with value: 0.9791666666666666 and parameters: {'k': 28}. Best is trial 0 with value: 0.9791666666666666.\n",
      "[I 2025-02-25 17:07:09,050] Trial 6 finished with value: 1.0 and parameters: {'k': 39}. Best is trial 6 with value: 1.0.\n",
      "[I 2025-02-25 17:07:09,055] Trial 7 finished with value: 0.9791666666666666 and parameters: {'k': 32}. Best is trial 6 with value: 1.0.\n",
      "[I 2025-02-25 17:07:09,060] Trial 8 finished with value: 0.7083333333333333 and parameters: {'k': 23}. Best is trial 6 with value: 1.0.\n",
      "[I 2025-02-25 17:07:09,065] Trial 9 finished with value: 0.6666666666666666 and parameters: {'k': 5}. Best is trial 6 with value: 1.0.\n",
      "[I 2025-02-25 17:07:09,070] Trial 10 finished with value: 0.9375 and parameters: {'k': 34}. Best is trial 6 with value: 1.0.\n",
      "[I 2025-02-25 17:07:09,075] Trial 11 finished with value: 0.9791666666666666 and parameters: {'k': 36}. Best is trial 6 with value: 1.0.\n",
      "[I 2025-02-25 17:07:09,081] Trial 12 finished with value: 0.9583333333333333 and parameters: {'k': 27}. Best is trial 6 with value: 1.0.\n",
      "[I 2025-02-25 17:07:09,086] Trial 13 finished with value: 0.9375 and parameters: {'k': 35}. Best is trial 6 with value: 1.0.\n",
      "[I 2025-02-25 17:07:09,092] Trial 14 finished with value: 0.7083333333333333 and parameters: {'k': 19}. Best is trial 6 with value: 1.0.\n",
      "[I 2025-02-25 17:07:09,098] Trial 15 finished with value: 0.6666666666666666 and parameters: {'k': 8}. Best is trial 6 with value: 1.0.\n",
      "[I 2025-02-25 17:07:09,104] Trial 16 finished with value: 0.7708333333333333 and parameters: {'k': 15}. Best is trial 6 with value: 1.0.\n",
      "[I 2025-02-25 17:07:09,110] Trial 17 finished with value: 0.9166666666666667 and parameters: {'k': 46}. Best is trial 6 with value: 1.0.\n",
      "[I 2025-02-25 17:07:09,116] Trial 18 finished with value: 0.8333333333333333 and parameters: {'k': 49}. Best is trial 6 with value: 1.0.\n",
      "[I 2025-02-25 17:07:09,123] Trial 19 finished with value: 0.9791666666666666 and parameters: {'k': 30}. Best is trial 6 with value: 1.0.\n",
      "[I 2025-02-25 17:07:09,129] Trial 20 finished with value: 0.75 and parameters: {'k': 16}. Best is trial 6 with value: 1.0.\n",
      "[I 2025-02-25 17:07:09,136] Trial 21 finished with value: 0.9791666666666666 and parameters: {'k': 31}. Best is trial 6 with value: 1.0.\n",
      "[I 2025-02-25 17:07:09,143] Trial 22 finished with value: 0.9583333333333333 and parameters: {'k': 33}. Best is trial 6 with value: 1.0.\n",
      "[I 2025-02-25 17:07:09,149] Trial 23 finished with value: 0.75 and parameters: {'k': 17}. Best is trial 6 with value: 1.0.\n",
      "[I 2025-02-25 17:07:09,157] Trial 24 finished with value: 0.9583333333333334 and parameters: {'k': 43}. Best is trial 6 with value: 1.0.\n",
      "[I 2025-02-25 17:07:09,165] Trial 25 finished with value: 0.7083333333333333 and parameters: {'k': 21}. Best is trial 6 with value: 1.0.\n",
      "[I 2025-02-25 17:07:09,173] Trial 26 finished with value: 0.9166666666666667 and parameters: {'k': 44}. Best is trial 6 with value: 1.0.\n",
      "[I 2025-02-25 17:07:09,180] Trial 27 finished with value: 0.6666666666666666 and parameters: {'k': 9}. Best is trial 6 with value: 1.0.\n",
      "[I 2025-02-25 17:07:09,188] Trial 28 finished with value: 0.7708333333333333 and parameters: {'k': 14}. Best is trial 6 with value: 1.0.\n",
      "[I 2025-02-25 17:07:09,196] Trial 29 finished with value: 0.9166666666666667 and parameters: {'k': 26}. Best is trial 6 with value: 1.0.\n",
      "[I 2025-02-25 17:07:09,203] Trial 30 finished with value: 0.6875 and parameters: {'k': 6}. Best is trial 6 with value: 1.0.\n",
      "[I 2025-02-25 17:07:09,211] Trial 31 finished with value: 0.75 and parameters: {'k': 18}. Best is trial 6 with value: 1.0.\n",
      "[I 2025-02-25 17:07:09,219] Trial 32 finished with value: 0.9791666666666666 and parameters: {'k': 41}. Best is trial 6 with value: 1.0.\n",
      "[I 2025-02-25 17:07:09,228] Trial 33 finished with value: 0.875 and parameters: {'k': 50}. Best is trial 6 with value: 1.0.\n",
      "[I 2025-02-25 17:07:09,236] Trial 34 finished with value: 0.4166666666666667 and parameters: {'k': 2}. Best is trial 6 with value: 1.0.\n",
      "[I 2025-02-25 17:07:09,245] Trial 35 finished with value: 0.7708333333333333 and parameters: {'k': 13}. Best is trial 6 with value: 1.0.\n",
      "[I 2025-02-25 17:07:09,259] Trial 36 finished with value: 1.0 and parameters: {'k': 38}. Best is trial 6 with value: 1.0.\n",
      "[I 2025-02-25 17:07:09,275] Trial 37 finished with value: 0.8541666666666666 and parameters: {'k': 25}. Best is trial 6 with value: 1.0.\n",
      "[I 2025-02-25 17:07:09,284] Trial 38 finished with value: 0.6666666666666666 and parameters: {'k': 7}. Best is trial 6 with value: 1.0.\n",
      "[I 2025-02-25 17:07:09,293] Trial 39 finished with value: 0.7083333333333333 and parameters: {'k': 24}. Best is trial 6 with value: 1.0.\n",
      "[I 2025-02-25 17:07:09,303] Trial 40 finished with value: 1.0 and parameters: {'k': 37}. Best is trial 6 with value: 1.0.\n",
      "[I 2025-02-25 17:07:09,313] Trial 41 finished with value: 0.7083333333333333 and parameters: {'k': 22}. Best is trial 6 with value: 1.0.\n",
      "[I 2025-02-25 17:07:09,322] Trial 42 finished with value: 0.7083333333333333 and parameters: {'k': 20}. Best is trial 6 with value: 1.0.\n",
      "[I 2025-02-25 17:07:09,332] Trial 43 finished with value: 0.875 and parameters: {'k': 10}. Best is trial 6 with value: 1.0.\n",
      "[I 2025-02-25 17:07:09,342] Trial 44 finished with value: 1.0 and parameters: {'k': 40}. Best is trial 6 with value: 1.0.\n",
      "[I 2025-02-25 17:07:09,352] Trial 45 finished with value: 0.9166666666666667 and parameters: {'k': 47}. Best is trial 6 with value: 1.0.\n",
      "[I 2025-02-25 17:07:09,362] Trial 46 finished with value: 0.6041666666666666 and parameters: {'k': 4}. Best is trial 6 with value: 1.0.\n",
      "[I 2025-02-25 17:07:09,372] Trial 47 finished with value: 0.4583333333333333 and parameters: {'k': 1}. Best is trial 6 with value: 1.0.\n",
      "[I 2025-02-25 17:07:09,383] Trial 48 finished with value: 0.8333333333333333 and parameters: {'k': 48}. Best is trial 6 with value: 1.0.\n",
      "[I 2025-02-25 17:07:09,394] Trial 49 finished with value: 0.9166666666666667 and parameters: {'k': 45}. Best is trial 6 with value: 1.0.\n",
      "[I 2025-02-25 17:07:09,402] A new study created in memory with name: no-name-54870e84-a6ee-40e7-9457-285ba827ad95\n",
      "[I 2025-02-25 17:07:09,406] Trial 0 finished with value: 0.7916666666666666 and parameters: {'k': 29}. Best is trial 0 with value: 0.7916666666666666.\n",
      "[I 2025-02-25 17:07:09,410] Trial 1 finished with value: 0.7083333333333333 and parameters: {'k': 12}. Best is trial 0 with value: 0.7916666666666666.\n",
      "[I 2025-02-25 17:07:09,414] Trial 2 finished with value: 0.7083333333333333 and parameters: {'k': 11}. Best is trial 0 with value: 0.7916666666666666.\n",
      "[I 2025-02-25 17:07:09,419] Trial 3 finished with value: 0.9583333333333333 and parameters: {'k': 42}. Best is trial 3 with value: 0.9583333333333333.\n",
      "[I 2025-02-25 17:07:09,423] Trial 4 finished with value: 0.5416666666666667 and parameters: {'k': 3}. Best is trial 3 with value: 0.9583333333333333.\n",
      "[I 2025-02-25 17:07:09,428] Trial 5 finished with value: 0.7916666666666666 and parameters: {'k': 28}. Best is trial 3 with value: 0.9583333333333333.\n",
      "[I 2025-02-25 17:07:09,433] Trial 6 finished with value: 0.8333333333333333 and parameters: {'k': 39}. Best is trial 3 with value: 0.9583333333333333.\n",
      "[I 2025-02-25 17:07:09,438] Trial 7 finished with value: 0.75 and parameters: {'k': 32}. Best is trial 3 with value: 0.9583333333333333.\n",
      "[I 2025-02-25 17:07:09,443] Trial 8 finished with value: 0.8333333333333333 and parameters: {'k': 23}. Best is trial 3 with value: 0.9583333333333333.\n",
      "[I 2025-02-25 17:07:09,448] Trial 9 finished with value: 0.8125 and parameters: {'k': 5}. Best is trial 3 with value: 0.9583333333333333.\n",
      "[I 2025-02-25 17:07:09,453] Trial 10 finished with value: 0.75 and parameters: {'k': 34}. Best is trial 3 with value: 0.9583333333333333.\n",
      "[I 2025-02-25 17:07:09,459] Trial 11 finished with value: 0.8125 and parameters: {'k': 36}. Best is trial 3 with value: 0.9583333333333333.\n",
      "[I 2025-02-25 17:07:09,465] Trial 12 finished with value: 0.7916666666666666 and parameters: {'k': 27}. Best is trial 3 with value: 0.9583333333333333.\n",
      "[I 2025-02-25 17:07:09,471] Trial 13 finished with value: 0.8125 and parameters: {'k': 35}. Best is trial 3 with value: 0.9583333333333333.\n",
      "[I 2025-02-25 17:07:09,477] Trial 14 finished with value: 0.9166666666666666 and parameters: {'k': 19}. Best is trial 3 with value: 0.9583333333333333.\n",
      "[I 2025-02-25 17:07:09,483] Trial 15 finished with value: 0.6875 and parameters: {'k': 8}. Best is trial 3 with value: 0.9583333333333333.\n",
      "[I 2025-02-25 17:07:09,489] Trial 16 finished with value: 0.875 and parameters: {'k': 15}. Best is trial 3 with value: 0.9583333333333333.\n",
      "[I 2025-02-25 17:07:09,495] Trial 17 finished with value: 0.8958333333333333 and parameters: {'k': 46}. Best is trial 3 with value: 0.9583333333333333.\n",
      "[I 2025-02-25 17:07:09,502] Trial 18 finished with value: 0.9583333333333333 and parameters: {'k': 49}. Best is trial 3 with value: 0.9583333333333333.\n",
      "[I 2025-02-25 17:07:09,509] Trial 19 finished with value: 0.7916666666666667 and parameters: {'k': 30}. Best is trial 3 with value: 0.9583333333333333.\n",
      "[I 2025-02-25 17:07:09,516] Trial 20 finished with value: 0.8958333333333333 and parameters: {'k': 16}. Best is trial 3 with value: 0.9583333333333333.\n",
      "[I 2025-02-25 17:07:09,523] Trial 21 finished with value: 0.7916666666666667 and parameters: {'k': 31}. Best is trial 3 with value: 0.9583333333333333.\n",
      "[I 2025-02-25 17:07:09,530] Trial 22 finished with value: 0.75 and parameters: {'k': 33}. Best is trial 3 with value: 0.9583333333333333.\n",
      "[I 2025-02-25 17:07:09,537] Trial 23 finished with value: 0.8958333333333333 and parameters: {'k': 17}. Best is trial 3 with value: 0.9583333333333333.\n",
      "[I 2025-02-25 17:07:09,545] Trial 24 finished with value: 0.875 and parameters: {'k': 43}. Best is trial 3 with value: 0.9583333333333333.\n",
      "[I 2025-02-25 17:07:09,552] Trial 25 finished with value: 0.7916666666666667 and parameters: {'k': 21}. Best is trial 3 with value: 0.9583333333333333.\n",
      "[I 2025-02-25 17:07:09,560] Trial 26 finished with value: 0.9166666666666667 and parameters: {'k': 44}. Best is trial 3 with value: 0.9583333333333333.\n",
      "[I 2025-02-25 17:07:09,568] Trial 27 finished with value: 0.6875 and parameters: {'k': 9}. Best is trial 3 with value: 0.9583333333333333.\n",
      "[I 2025-02-25 17:07:09,575] Trial 28 finished with value: 0.8125 and parameters: {'k': 14}. Best is trial 3 with value: 0.9583333333333333.\n",
      "[I 2025-02-25 17:07:09,583] Trial 29 finished with value: 0.7916666666666666 and parameters: {'k': 26}. Best is trial 3 with value: 0.9583333333333333.\n",
      "[I 2025-02-25 17:07:09,591] Trial 30 finished with value: 0.8125 and parameters: {'k': 6}. Best is trial 3 with value: 0.9583333333333333.\n",
      "[I 2025-02-25 17:07:09,600] Trial 31 finished with value: 0.8958333333333333 and parameters: {'k': 18}. Best is trial 3 with value: 0.9583333333333333.\n",
      "[I 2025-02-25 17:07:09,608] Trial 32 finished with value: 0.8333333333333333 and parameters: {'k': 41}. Best is trial 3 with value: 0.9583333333333333.\n",
      "[I 2025-02-25 17:07:09,617] Trial 33 finished with value: 0.9583333333333333 and parameters: {'k': 50}. Best is trial 3 with value: 0.9583333333333333.\n",
      "[I 2025-02-25 17:07:09,625] Trial 34 finished with value: 0.375 and parameters: {'k': 2}. Best is trial 3 with value: 0.9583333333333333.\n",
      "[I 2025-02-25 17:07:09,634] Trial 35 finished with value: 0.6666666666666666 and parameters: {'k': 13}. Best is trial 3 with value: 0.9583333333333333.\n",
      "[I 2025-02-25 17:07:09,643] Trial 36 finished with value: 0.8125 and parameters: {'k': 38}. Best is trial 3 with value: 0.9583333333333333.\n",
      "[I 2025-02-25 17:07:09,652] Trial 37 finished with value: 0.8333333333333333 and parameters: {'k': 25}. Best is trial 3 with value: 0.9583333333333333.\n",
      "[I 2025-02-25 17:07:09,662] Trial 38 finished with value: 0.7291666666666666 and parameters: {'k': 7}. Best is trial 3 with value: 0.9583333333333333.\n",
      "[I 2025-02-25 17:07:09,671] Trial 39 finished with value: 0.8333333333333333 and parameters: {'k': 24}. Best is trial 3 with value: 0.9583333333333333.\n",
      "[I 2025-02-25 17:07:09,680] Trial 40 finished with value: 0.8125 and parameters: {'k': 37}. Best is trial 3 with value: 0.9583333333333333.\n",
      "[I 2025-02-25 17:07:09,690] Trial 41 finished with value: 0.8333333333333333 and parameters: {'k': 22}. Best is trial 3 with value: 0.9583333333333333.\n",
      "[I 2025-02-25 17:07:09,700] Trial 42 finished with value: 0.875 and parameters: {'k': 20}. Best is trial 3 with value: 0.9583333333333333.\n",
      "[I 2025-02-25 17:07:09,710] Trial 43 finished with value: 0.7083333333333333 and parameters: {'k': 10}. Best is trial 3 with value: 0.9583333333333333.\n",
      "[I 2025-02-25 17:07:09,720] Trial 44 finished with value: 0.8333333333333333 and parameters: {'k': 40}. Best is trial 3 with value: 0.9583333333333333.\n",
      "[I 2025-02-25 17:07:09,730] Trial 45 finished with value: 0.8958333333333333 and parameters: {'k': 47}. Best is trial 3 with value: 0.9583333333333333.\n",
      "[I 2025-02-25 17:07:09,740] Trial 46 finished with value: 0.7083333333333333 and parameters: {'k': 4}. Best is trial 3 with value: 0.9583333333333333.\n",
      "[I 2025-02-25 17:07:09,751] Trial 47 finished with value: 0.375 and parameters: {'k': 1}. Best is trial 3 with value: 0.9583333333333333.\n",
      "[I 2025-02-25 17:07:09,762] Trial 48 finished with value: 0.9583333333333333 and parameters: {'k': 48}. Best is trial 3 with value: 0.9583333333333333.\n",
      "[I 2025-02-25 17:07:09,772] Trial 49 finished with value: 0.9166666666666667 and parameters: {'k': 45}. Best is trial 3 with value: 0.9583333333333333.\n",
      "[I 2025-02-25 17:07:09,779] A new study created in memory with name: no-name-8edf4582-9358-4b24-8423-203b7ae27b28\n",
      "[I 2025-02-25 17:07:09,784] Trial 0 finished with value: 0.9375 and parameters: {'k': 29}. Best is trial 0 with value: 0.9375.\n",
      "[I 2025-02-25 17:07:09,788] Trial 1 finished with value: 0.875 and parameters: {'k': 12}. Best is trial 0 with value: 0.9375.\n",
      "[I 2025-02-25 17:07:09,792] Trial 2 finished with value: 0.8958333333333333 and parameters: {'k': 11}. Best is trial 0 with value: 0.9375.\n",
      "[I 2025-02-25 17:07:09,797] Trial 3 finished with value: 0.9791666666666666 and parameters: {'k': 42}. Best is trial 3 with value: 0.9791666666666666.\n",
      "[I 2025-02-25 17:07:09,801] Trial 4 finished with value: 0.9166666666666667 and parameters: {'k': 3}. Best is trial 3 with value: 0.9791666666666666.\n",
      "[I 2025-02-25 17:07:09,806] Trial 5 finished with value: 0.9375 and parameters: {'k': 28}. Best is trial 3 with value: 0.9791666666666666.\n",
      "[I 2025-02-25 17:07:09,811] Trial 6 finished with value: 0.9375 and parameters: {'k': 39}. Best is trial 3 with value: 0.9791666666666666.\n",
      "[I 2025-02-25 17:07:09,816] Trial 7 finished with value: 0.9375 and parameters: {'k': 32}. Best is trial 3 with value: 0.9791666666666666.\n",
      "[I 2025-02-25 17:07:09,821] Trial 8 finished with value: 0.9166666666666666 and parameters: {'k': 23}. Best is trial 3 with value: 0.9791666666666666.\n",
      "[I 2025-02-25 17:07:09,827] Trial 9 finished with value: 0.9166666666666667 and parameters: {'k': 5}. Best is trial 3 with value: 0.9791666666666666.\n",
      "[I 2025-02-25 17:07:09,832] Trial 10 finished with value: 0.9375 and parameters: {'k': 34}. Best is trial 3 with value: 0.9791666666666666.\n",
      "[I 2025-02-25 17:07:09,838] Trial 11 finished with value: 0.9375 and parameters: {'k': 36}. Best is trial 3 with value: 0.9791666666666666.\n",
      "[I 2025-02-25 17:07:09,844] Trial 12 finished with value: 0.9375 and parameters: {'k': 27}. Best is trial 3 with value: 0.9791666666666666.\n",
      "[I 2025-02-25 17:07:09,850] Trial 13 finished with value: 0.9375 and parameters: {'k': 35}. Best is trial 3 with value: 0.9791666666666666.\n",
      "[I 2025-02-25 17:07:09,856] Trial 14 finished with value: 0.9791666666666666 and parameters: {'k': 19}. Best is trial 3 with value: 0.9791666666666666.\n",
      "[I 2025-02-25 17:07:09,862] Trial 15 finished with value: 0.875 and parameters: {'k': 8}. Best is trial 3 with value: 0.9791666666666666.\n",
      "[I 2025-02-25 17:07:09,868] Trial 16 finished with value: 1.0 and parameters: {'k': 15}. Best is trial 16 with value: 1.0.\n",
      "[I 2025-02-25 17:07:09,875] Trial 17 finished with value: 0.9791666666666666 and parameters: {'k': 46}. Best is trial 16 with value: 1.0.\n",
      "[I 2025-02-25 17:07:09,882] Trial 18 finished with value: 1.0 and parameters: {'k': 49}. Best is trial 16 with value: 1.0.\n",
      "[I 2025-02-25 17:07:09,888] Trial 19 finished with value: 0.9375 and parameters: {'k': 30}. Best is trial 16 with value: 1.0.\n",
      "[I 2025-02-25 17:07:09,895] Trial 20 finished with value: 1.0 and parameters: {'k': 16}. Best is trial 16 with value: 1.0.\n",
      "[I 2025-02-25 17:07:09,902] Trial 21 finished with value: 0.9375 and parameters: {'k': 31}. Best is trial 16 with value: 1.0.\n",
      "[I 2025-02-25 17:07:09,909] Trial 22 finished with value: 0.9375 and parameters: {'k': 33}. Best is trial 16 with value: 1.0.\n",
      "[I 2025-02-25 17:07:09,916] Trial 23 finished with value: 1.0 and parameters: {'k': 17}. Best is trial 16 with value: 1.0.\n",
      "[I 2025-02-25 17:07:09,924] Trial 24 finished with value: 0.9791666666666666 and parameters: {'k': 43}. Best is trial 16 with value: 1.0.\n",
      "[I 2025-02-25 17:07:09,931] Trial 25 finished with value: 0.9583333333333333 and parameters: {'k': 21}. Best is trial 16 with value: 1.0.\n",
      "[I 2025-02-25 17:07:09,939] Trial 26 finished with value: 0.9791666666666666 and parameters: {'k': 44}. Best is trial 16 with value: 1.0.\n",
      "[I 2025-02-25 17:07:09,947] Trial 27 finished with value: 0.875 and parameters: {'k': 9}. Best is trial 16 with value: 1.0.\n",
      "[I 2025-02-25 17:07:09,954] Trial 28 finished with value: 1.0 and parameters: {'k': 14}. Best is trial 16 with value: 1.0.\n",
      "[I 2025-02-25 17:07:09,962] Trial 29 finished with value: 0.9166666666666666 and parameters: {'k': 26}. Best is trial 16 with value: 1.0.\n",
      "[I 2025-02-25 17:07:09,970] Trial 30 finished with value: 0.9166666666666666 and parameters: {'k': 6}. Best is trial 16 with value: 1.0.\n",
      "[I 2025-02-25 17:07:09,979] Trial 31 finished with value: 0.9583333333333333 and parameters: {'k': 18}. Best is trial 16 with value: 1.0.\n",
      "[I 2025-02-25 17:07:09,987] Trial 32 finished with value: 0.9791666666666666 and parameters: {'k': 41}. Best is trial 16 with value: 1.0.\n",
      "[I 2025-02-25 17:07:09,996] Trial 33 finished with value: 1.0 and parameters: {'k': 50}. Best is trial 16 with value: 1.0.\n",
      "[I 2025-02-25 17:07:10,004] Trial 34 finished with value: 0.4166666666666667 and parameters: {'k': 2}. Best is trial 16 with value: 1.0.\n",
      "[I 2025-02-25 17:07:10,013] Trial 35 finished with value: 0.9791666666666666 and parameters: {'k': 13}. Best is trial 16 with value: 1.0.\n",
      "[I 2025-02-25 17:07:10,022] Trial 36 finished with value: 0.9375 and parameters: {'k': 38}. Best is trial 16 with value: 1.0.\n",
      "[I 2025-02-25 17:07:10,031] Trial 37 finished with value: 0.9375 and parameters: {'k': 25}. Best is trial 16 with value: 1.0.\n",
      "[I 2025-02-25 17:07:10,040] Trial 38 finished with value: 0.875 and parameters: {'k': 7}. Best is trial 16 with value: 1.0.\n",
      "[I 2025-02-25 17:07:10,050] Trial 39 finished with value: 0.9166666666666666 and parameters: {'k': 24}. Best is trial 16 with value: 1.0.\n",
      "[I 2025-02-25 17:07:10,059] Trial 40 finished with value: 0.9375 and parameters: {'k': 37}. Best is trial 16 with value: 1.0.\n",
      "[I 2025-02-25 17:07:10,069] Trial 41 finished with value: 0.9583333333333333 and parameters: {'k': 22}. Best is trial 16 with value: 1.0.\n",
      "[I 2025-02-25 17:07:10,079] Trial 42 finished with value: 0.9375 and parameters: {'k': 20}. Best is trial 16 with value: 1.0.\n",
      "[I 2025-02-25 17:07:10,089] Trial 43 finished with value: 0.8958333333333333 and parameters: {'k': 10}. Best is trial 16 with value: 1.0.\n",
      "[I 2025-02-25 17:07:10,099] Trial 44 finished with value: 0.9583333333333333 and parameters: {'k': 40}. Best is trial 16 with value: 1.0.\n",
      "[I 2025-02-25 17:07:10,109] Trial 45 finished with value: 0.9791666666666666 and parameters: {'k': 47}. Best is trial 16 with value: 1.0.\n",
      "[I 2025-02-25 17:07:10,119] Trial 46 finished with value: 0.9166666666666667 and parameters: {'k': 4}. Best is trial 16 with value: 1.0.\n",
      "[I 2025-02-25 17:07:10,129] Trial 47 finished with value: 0.4583333333333333 and parameters: {'k': 1}. Best is trial 16 with value: 1.0.\n",
      "[I 2025-02-25 17:07:10,140] Trial 48 finished with value: 0.9791666666666666 and parameters: {'k': 48}. Best is trial 16 with value: 1.0.\n",
      "[I 2025-02-25 17:07:10,151] Trial 49 finished with value: 0.9791666666666666 and parameters: {'k': 45}. Best is trial 16 with value: 1.0.\n",
      "[I 2025-02-25 17:07:10,157] A new study created in memory with name: no-name-467f56d5-db9e-44fc-8a79-ce141f68e491\n",
      "[I 2025-02-25 17:07:10,162] Trial 0 finished with value: 0.75 and parameters: {'k': 29}. Best is trial 0 with value: 0.75.\n",
      "[I 2025-02-25 17:07:10,166] Trial 1 finished with value: 0.8333333333333333 and parameters: {'k': 12}. Best is trial 1 with value: 0.8333333333333333.\n",
      "[I 2025-02-25 17:07:10,170] Trial 2 finished with value: 0.8333333333333333 and parameters: {'k': 11}. Best is trial 1 with value: 0.8333333333333333.\n",
      "[I 2025-02-25 17:07:10,175] Trial 3 finished with value: 0.5625 and parameters: {'k': 42}. Best is trial 1 with value: 0.8333333333333333.\n",
      "[I 2025-02-25 17:07:10,179] Trial 4 finished with value: 0.5833333333333333 and parameters: {'k': 3}. Best is trial 1 with value: 0.8333333333333333.\n",
      "[I 2025-02-25 17:07:10,184] Trial 5 finished with value: 0.75 and parameters: {'k': 28}. Best is trial 1 with value: 0.8333333333333333.\n",
      "[I 2025-02-25 17:07:10,189] Trial 6 finished with value: 0.6875 and parameters: {'k': 39}. Best is trial 1 with value: 0.8333333333333333.\n",
      "[I 2025-02-25 17:07:10,194] Trial 7 finished with value: 0.7083333333333333 and parameters: {'k': 32}. Best is trial 1 with value: 0.8333333333333333.\n",
      "[I 2025-02-25 17:07:10,199] Trial 8 finished with value: 0.7083333333333334 and parameters: {'k': 23}. Best is trial 1 with value: 0.8333333333333333.\n",
      "[I 2025-02-25 17:07:10,205] Trial 9 finished with value: 0.6666666666666666 and parameters: {'k': 5}. Best is trial 1 with value: 0.8333333333333333.\n",
      "[I 2025-02-25 17:07:10,210] Trial 10 finished with value: 0.5416666666666667 and parameters: {'k': 34}. Best is trial 1 with value: 0.8333333333333333.\n",
      "[I 2025-02-25 17:07:10,216] Trial 11 finished with value: 0.625 and parameters: {'k': 36}. Best is trial 1 with value: 0.8333333333333333.\n",
      "[I 2025-02-25 17:07:10,221] Trial 12 finished with value: 0.7708333333333334 and parameters: {'k': 27}. Best is trial 1 with value: 0.8333333333333333.\n",
      "[I 2025-02-25 17:07:10,227] Trial 13 finished with value: 0.625 and parameters: {'k': 35}. Best is trial 1 with value: 0.8333333333333333.\n",
      "[I 2025-02-25 17:07:10,233] Trial 14 finished with value: 0.625 and parameters: {'k': 19}. Best is trial 1 with value: 0.8333333333333333.\n",
      "[I 2025-02-25 17:07:10,239] Trial 15 finished with value: 0.6875 and parameters: {'k': 8}. Best is trial 1 with value: 0.8333333333333333.\n",
      "[I 2025-02-25 17:07:10,246] Trial 16 finished with value: 0.7083333333333333 and parameters: {'k': 15}. Best is trial 1 with value: 0.8333333333333333.\n",
      "[I 2025-02-25 17:07:10,252] Trial 17 finished with value: 0.5833333333333334 and parameters: {'k': 46}. Best is trial 1 with value: 0.8333333333333333.\n",
      "[I 2025-02-25 17:07:10,259] Trial 18 finished with value: 0.8333333333333333 and parameters: {'k': 49}. Best is trial 1 with value: 0.8333333333333333.\n",
      "[I 2025-02-25 17:07:10,265] Trial 19 finished with value: 0.7291666666666666 and parameters: {'k': 30}. Best is trial 1 with value: 0.8333333333333333.\n",
      "[I 2025-02-25 17:07:10,272] Trial 20 finished with value: 0.6666666666666666 and parameters: {'k': 16}. Best is trial 1 with value: 0.8333333333333333.\n",
      "[I 2025-02-25 17:07:10,279] Trial 21 finished with value: 0.7291666666666666 and parameters: {'k': 31}. Best is trial 1 with value: 0.8333333333333333.\n",
      "[I 2025-02-25 17:07:10,286] Trial 22 finished with value: 0.6041666666666667 and parameters: {'k': 33}. Best is trial 1 with value: 0.8333333333333333.\n",
      "[I 2025-02-25 17:07:10,293] Trial 23 finished with value: 0.625 and parameters: {'k': 17}. Best is trial 1 with value: 0.8333333333333333.\n",
      "[I 2025-02-25 17:07:10,301] Trial 24 finished with value: 0.5625 and parameters: {'k': 43}. Best is trial 1 with value: 0.8333333333333333.\n",
      "[I 2025-02-25 17:07:10,308] Trial 25 finished with value: 0.6875 and parameters: {'k': 21}. Best is trial 1 with value: 0.8333333333333333.\n",
      "[I 2025-02-25 17:07:10,316] Trial 26 finished with value: 0.5208333333333333 and parameters: {'k': 44}. Best is trial 1 with value: 0.8333333333333333.\n",
      "[I 2025-02-25 17:07:10,323] Trial 27 finished with value: 0.6666666666666666 and parameters: {'k': 9}. Best is trial 1 with value: 0.8333333333333333.\n",
      "[I 2025-02-25 17:07:10,331] Trial 28 finished with value: 0.7916666666666666 and parameters: {'k': 14}. Best is trial 1 with value: 0.8333333333333333.\n",
      "[I 2025-02-25 17:07:10,339] Trial 29 finished with value: 0.7708333333333334 and parameters: {'k': 26}. Best is trial 1 with value: 0.8333333333333333.\n",
      "[I 2025-02-25 17:07:10,347] Trial 30 finished with value: 0.5416666666666666 and parameters: {'k': 6}. Best is trial 1 with value: 0.8333333333333333.\n",
      "[I 2025-02-25 17:07:10,355] Trial 31 finished with value: 0.625 and parameters: {'k': 18}. Best is trial 1 with value: 0.8333333333333333.\n",
      "[I 2025-02-25 17:07:10,364] Trial 32 finished with value: 0.5833333333333333 and parameters: {'k': 41}. Best is trial 1 with value: 0.8333333333333333.\n",
      "[I 2025-02-25 17:07:10,373] Trial 33 finished with value: 0.875 and parameters: {'k': 50}. Best is trial 33 with value: 0.875.\n",
      "[I 2025-02-25 17:07:10,381] Trial 34 finished with value: 0.3333333333333333 and parameters: {'k': 2}. Best is trial 33 with value: 0.875.\n",
      "[I 2025-02-25 17:07:10,390] Trial 35 finished with value: 0.7916666666666666 and parameters: {'k': 13}. Best is trial 33 with value: 0.875.\n",
      "[I 2025-02-25 17:07:10,399] Trial 36 finished with value: 0.6875 and parameters: {'k': 38}. Best is trial 33 with value: 0.875.\n",
      "[I 2025-02-25 17:07:10,408] Trial 37 finished with value: 0.8125 and parameters: {'k': 25}. Best is trial 33 with value: 0.875.\n",
      "[I 2025-02-25 17:07:10,417] Trial 38 finished with value: 0.7083333333333333 and parameters: {'k': 7}. Best is trial 33 with value: 0.875.\n",
      "[I 2025-02-25 17:07:10,426] Trial 39 finished with value: 0.8333333333333333 and parameters: {'k': 24}. Best is trial 33 with value: 0.875.\n",
      "[I 2025-02-25 17:07:10,436] Trial 40 finished with value: 0.75 and parameters: {'k': 37}. Best is trial 33 with value: 0.875.\n",
      "[I 2025-02-25 17:07:10,446] Trial 41 finished with value: 0.6875 and parameters: {'k': 22}. Best is trial 33 with value: 0.875.\n",
      "[I 2025-02-25 17:07:10,455] Trial 42 finished with value: 0.75 and parameters: {'k': 20}. Best is trial 33 with value: 0.875.\n",
      "[I 2025-02-25 17:07:10,465] Trial 43 finished with value: 0.8333333333333333 and parameters: {'k': 10}. Best is trial 33 with value: 0.875.\n",
      "[I 2025-02-25 17:07:10,476] Trial 44 finished with value: 0.625 and parameters: {'k': 40}. Best is trial 33 with value: 0.875.\n",
      "[I 2025-02-25 17:07:10,486] Trial 45 finished with value: 0.5833333333333334 and parameters: {'k': 47}. Best is trial 33 with value: 0.875.\n",
      "[I 2025-02-25 17:07:10,497] Trial 46 finished with value: 0.47916666666666663 and parameters: {'k': 4}. Best is trial 33 with value: 0.875.\n",
      "[I 2025-02-25 17:07:10,507] Trial 47 finished with value: 0.375 and parameters: {'k': 1}. Best is trial 33 with value: 0.875.\n",
      "[I 2025-02-25 17:07:10,518] Trial 48 finished with value: 0.6458333333333333 and parameters: {'k': 48}. Best is trial 33 with value: 0.875.\n",
      "[I 2025-02-25 17:07:10,529] Trial 49 finished with value: 0.625 and parameters: {'k': 45}. Best is trial 33 with value: 0.875.\n",
      "[I 2025-02-25 17:07:10,541] A new study created in memory with name: no-name-5d4ea28a-defa-40aa-b466-7252c991e01a\n",
      "[I 2025-02-25 17:07:10,544] Trial 0 finished with value: 0.41666666666666663 and parameters: {'k': 29}. Best is trial 0 with value: 0.41666666666666663.\n",
      "[I 2025-02-25 17:07:10,548] Trial 1 finished with value: 0.7708333333333334 and parameters: {'k': 12}. Best is trial 1 with value: 0.7708333333333334.\n",
      "[I 2025-02-25 17:07:10,551] Trial 2 finished with value: 0.7916666666666667 and parameters: {'k': 11}. Best is trial 2 with value: 0.7916666666666667.\n",
      "[I 2025-02-25 17:07:10,555] Trial 3 finished with value: 0.5625 and parameters: {'k': 42}. Best is trial 2 with value: 0.7916666666666667.\n",
      "[I 2025-02-25 17:07:10,559] Trial 4 finished with value: 0.7083333333333334 and parameters: {'k': 3}. Best is trial 2 with value: 0.7916666666666667.\n",
      "[I 2025-02-25 17:07:10,563] Trial 5 finished with value: 0.41666666666666663 and parameters: {'k': 28}. Best is trial 2 with value: 0.7916666666666667.\n",
      "[I 2025-02-25 17:07:10,567] Trial 6 finished with value: 0.4166666666666667 and parameters: {'k': 39}. Best is trial 2 with value: 0.7916666666666667.\n",
      "[I 2025-02-25 17:07:10,571] Trial 7 finished with value: 0.5 and parameters: {'k': 32}. Best is trial 2 with value: 0.7916666666666667.\n",
      "[I 2025-02-25 17:07:10,576] Trial 8 finished with value: 0.41666666666666663 and parameters: {'k': 23}. Best is trial 2 with value: 0.7916666666666667.\n",
      "[I 2025-02-25 17:07:10,580] Trial 9 finished with value: 0.6875 and parameters: {'k': 5}. Best is trial 2 with value: 0.7916666666666667.\n",
      "[I 2025-02-25 17:07:10,585] Trial 10 finished with value: 0.4166666666666667 and parameters: {'k': 34}. Best is trial 2 with value: 0.7916666666666667.\n",
      "[I 2025-02-25 17:07:10,590] Trial 11 finished with value: 0.2916666666666667 and parameters: {'k': 36}. Best is trial 2 with value: 0.7916666666666667.\n",
      "[I 2025-02-25 17:07:10,595] Trial 12 finished with value: 0.41666666666666663 and parameters: {'k': 27}. Best is trial 2 with value: 0.7916666666666667.\n",
      "[I 2025-02-25 17:07:10,600] Trial 13 finished with value: 0.3333333333333333 and parameters: {'k': 35}. Best is trial 2 with value: 0.7916666666666667.\n",
      "[I 2025-02-25 17:07:10,605] Trial 14 finished with value: 0.4375 and parameters: {'k': 19}. Best is trial 2 with value: 0.7916666666666667.\n",
      "[I 2025-02-25 17:07:10,610] Trial 15 finished with value: 0.875 and parameters: {'k': 8}. Best is trial 15 with value: 0.875.\n",
      "[I 2025-02-25 17:07:10,616] Trial 16 finished with value: 0.6666666666666667 and parameters: {'k': 15}. Best is trial 15 with value: 0.875.\n",
      "[I 2025-02-25 17:07:10,621] Trial 17 finished with value: 0.39583333333333326 and parameters: {'k': 46}. Best is trial 15 with value: 0.875.\n",
      "[I 2025-02-25 17:07:10,627] Trial 18 finished with value: 0.5 and parameters: {'k': 49}. Best is trial 15 with value: 0.875.\n",
      "[I 2025-02-25 17:07:10,633] Trial 19 finished with value: 0.3333333333333333 and parameters: {'k': 30}. Best is trial 15 with value: 0.875.\n",
      "[I 2025-02-25 17:07:10,639] Trial 20 finished with value: 0.6666666666666667 and parameters: {'k': 16}. Best is trial 15 with value: 0.875.\n",
      "[I 2025-02-25 17:07:10,645] Trial 21 finished with value: 0.5 and parameters: {'k': 31}. Best is trial 15 with value: 0.875.\n",
      "[I 2025-02-25 17:07:10,652] Trial 22 finished with value: 0.4166666666666667 and parameters: {'k': 33}. Best is trial 15 with value: 0.875.\n",
      "[I 2025-02-25 17:07:10,658] Trial 23 finished with value: 0.5416666666666667 and parameters: {'k': 17}. Best is trial 15 with value: 0.875.\n",
      "[I 2025-02-25 17:07:10,664] Trial 24 finished with value: 0.5 and parameters: {'k': 43}. Best is trial 15 with value: 0.875.\n",
      "[I 2025-02-25 17:07:10,671] Trial 25 finished with value: 0.49999999999999994 and parameters: {'k': 21}. Best is trial 15 with value: 0.875.\n",
      "[I 2025-02-25 17:07:10,678] Trial 26 finished with value: 0.4583333333333333 and parameters: {'k': 44}. Best is trial 15 with value: 0.875.\n",
      "[I 2025-02-25 17:07:10,685] Trial 27 finished with value: 0.7916666666666667 and parameters: {'k': 9}. Best is trial 15 with value: 0.875.\n",
      "[I 2025-02-25 17:07:10,692] Trial 28 finished with value: 0.7291666666666667 and parameters: {'k': 14}. Best is trial 15 with value: 0.875.\n",
      "[I 2025-02-25 17:07:10,699] Trial 29 finished with value: 0.4375 and parameters: {'k': 26}. Best is trial 15 with value: 0.875.\n",
      "[I 2025-02-25 17:07:10,706] Trial 30 finished with value: 0.8958333333333333 and parameters: {'k': 6}. Best is trial 30 with value: 0.8958333333333333.\n",
      "[I 2025-02-25 17:07:10,714] Trial 31 finished with value: 0.47916666666666663 and parameters: {'k': 18}. Best is trial 30 with value: 0.8958333333333333.\n",
      "[I 2025-02-25 17:07:10,721] Trial 32 finished with value: 0.41666666666666663 and parameters: {'k': 41}. Best is trial 30 with value: 0.8958333333333333.\n",
      "[I 2025-02-25 17:07:10,729] Trial 33 finished with value: 0.4791666666666667 and parameters: {'k': 50}. Best is trial 30 with value: 0.8958333333333333.\n",
      "[I 2025-02-25 17:07:10,737] Trial 34 finished with value: 0.6666666666666667 and parameters: {'k': 2}. Best is trial 30 with value: 0.8958333333333333.\n"
     ]
    },
    {
     "name": "stdout",
     "output_type": "stream",
     "text": [
      "Model: CTFMExtractor\n",
      "134\n"
     ]
    },
    {
     "name": "stderr",
     "output_type": "stream",
     "text": [
      "[I 2025-02-25 17:07:10,745] Trial 35 finished with value: 0.7291666666666667 and parameters: {'k': 13}. Best is trial 30 with value: 0.8958333333333333.\n",
      "[I 2025-02-25 17:07:10,753] Trial 36 finished with value: 0.4375 and parameters: {'k': 38}. Best is trial 30 with value: 0.8958333333333333.\n",
      "[I 2025-02-25 17:07:10,761] Trial 37 finished with value: 0.5833333333333333 and parameters: {'k': 25}. Best is trial 30 with value: 0.8958333333333333.\n",
      "[I 2025-02-25 17:07:10,770] Trial 38 finished with value: 0.8958333333333333 and parameters: {'k': 7}. Best is trial 30 with value: 0.8958333333333333.\n",
      "[I 2025-02-25 17:07:10,778] Trial 39 finished with value: 0.5833333333333333 and parameters: {'k': 24}. Best is trial 30 with value: 0.8958333333333333.\n",
      "[I 2025-02-25 17:07:10,787] Trial 40 finished with value: 0.47916666666666674 and parameters: {'k': 37}. Best is trial 30 with value: 0.8958333333333333.\n",
      "[I 2025-02-25 17:07:10,796] Trial 41 finished with value: 0.4583333333333333 and parameters: {'k': 22}. Best is trial 30 with value: 0.8958333333333333.\n",
      "[I 2025-02-25 17:07:10,804] Trial 42 finished with value: 0.39583333333333337 and parameters: {'k': 20}. Best is trial 30 with value: 0.8958333333333333.\n",
      "[I 2025-02-25 17:07:10,813] Trial 43 finished with value: 0.7916666666666667 and parameters: {'k': 10}. Best is trial 30 with value: 0.8958333333333333.\n",
      "[I 2025-02-25 17:07:10,823] Trial 44 finished with value: 0.3958333333333333 and parameters: {'k': 40}. Best is trial 30 with value: 0.8958333333333333.\n",
      "[I 2025-02-25 17:07:10,832] Trial 45 finished with value: 0.5625 and parameters: {'k': 47}. Best is trial 30 with value: 0.8958333333333333.\n",
      "[I 2025-02-25 17:07:10,842] Trial 46 finished with value: 0.6875 and parameters: {'k': 4}. Best is trial 30 with value: 0.8958333333333333.\n",
      "[I 2025-02-25 17:07:10,851] Trial 47 finished with value: 0.4166666666666667 and parameters: {'k': 1}. Best is trial 30 with value: 0.8958333333333333.\n",
      "[I 2025-02-25 17:07:10,862] Trial 48 finished with value: 0.5416666666666667 and parameters: {'k': 48}. Best is trial 30 with value: 0.8958333333333333.\n",
      "[I 2025-02-25 17:07:10,872] Trial 49 finished with value: 0.41666666666666663 and parameters: {'k': 45}. Best is trial 30 with value: 0.8958333333333333.\n",
      "[I 2025-02-25 17:07:10,877] A new study created in memory with name: no-name-2f3b8992-f03a-4099-babc-86cb2394d8ca\n",
      "[I 2025-02-25 17:07:10,880] Trial 0 finished with value: 0.5208333333333333 and parameters: {'k': 29}. Best is trial 0 with value: 0.5208333333333333.\n",
      "[I 2025-02-25 17:07:10,884] Trial 1 finished with value: 0.6666666666666667 and parameters: {'k': 12}. Best is trial 1 with value: 0.6666666666666667.\n",
      "[I 2025-02-25 17:07:10,887] Trial 2 finished with value: 0.75 and parameters: {'k': 11}. Best is trial 2 with value: 0.75.\n",
      "[I 2025-02-25 17:07:10,891] Trial 3 finished with value: 0.45833333333333337 and parameters: {'k': 42}. Best is trial 2 with value: 0.75.\n",
      "[I 2025-02-25 17:07:10,895] Trial 4 finished with value: 0.6666666666666667 and parameters: {'k': 3}. Best is trial 2 with value: 0.75.\n",
      "[I 2025-02-25 17:07:10,899] Trial 5 finished with value: 0.5208333333333333 and parameters: {'k': 28}. Best is trial 2 with value: 0.75.\n",
      "[I 2025-02-25 17:07:10,903] Trial 6 finished with value: 0.375 and parameters: {'k': 39}. Best is trial 2 with value: 0.75.\n",
      "[I 2025-02-25 17:07:10,907] Trial 7 finished with value: 0.6041666666666667 and parameters: {'k': 32}. Best is trial 2 with value: 0.75.\n",
      "[I 2025-02-25 17:07:10,912] Trial 8 finished with value: 0.625 and parameters: {'k': 23}. Best is trial 2 with value: 0.75.\n",
      "[I 2025-02-25 17:07:10,916] Trial 9 finished with value: 0.625 and parameters: {'k': 5}. Best is trial 2 with value: 0.75.\n",
      "[I 2025-02-25 17:07:10,921] Trial 10 finished with value: 0.5 and parameters: {'k': 34}. Best is trial 2 with value: 0.75.\n",
      "[I 2025-02-25 17:07:10,926] Trial 11 finished with value: 0.45833333333333337 and parameters: {'k': 36}. Best is trial 2 with value: 0.75.\n",
      "[I 2025-02-25 17:07:10,931] Trial 12 finished with value: 0.5416666666666666 and parameters: {'k': 27}. Best is trial 2 with value: 0.75.\n",
      "[I 2025-02-25 17:07:10,936] Trial 13 finished with value: 0.45833333333333337 and parameters: {'k': 35}. Best is trial 2 with value: 0.75.\n",
      "[I 2025-02-25 17:07:10,941] Trial 14 finished with value: 0.5208333333333334 and parameters: {'k': 19}. Best is trial 2 with value: 0.75.\n",
      "[I 2025-02-25 17:07:10,946] Trial 15 finished with value: 0.7083333333333334 and parameters: {'k': 8}. Best is trial 2 with value: 0.75.\n",
      "[I 2025-02-25 17:07:10,952] Trial 16 finished with value: 0.8125 and parameters: {'k': 15}. Best is trial 16 with value: 0.8125.\n",
      "[I 2025-02-25 17:07:10,957] Trial 17 finished with value: 0.39583333333333326 and parameters: {'k': 46}. Best is trial 16 with value: 0.8125.\n",
      "[I 2025-02-25 17:07:10,963] Trial 18 finished with value: 0.4583333333333333 and parameters: {'k': 49}. Best is trial 16 with value: 0.8125.\n",
      "[I 2025-02-25 17:07:10,969] Trial 19 finished with value: 0.6458333333333333 and parameters: {'k': 30}. Best is trial 16 with value: 0.8125.\n",
      "[I 2025-02-25 17:07:10,975] Trial 20 finished with value: 0.6666666666666666 and parameters: {'k': 16}. Best is trial 16 with value: 0.8125.\n",
      "[I 2025-02-25 17:07:10,981] Trial 21 finished with value: 0.6041666666666667 and parameters: {'k': 31}. Best is trial 16 with value: 0.8125.\n",
      "[I 2025-02-25 17:07:10,987] Trial 22 finished with value: 0.5625 and parameters: {'k': 33}. Best is trial 16 with value: 0.8125.\n",
      "[I 2025-02-25 17:07:10,994] Trial 23 finished with value: 0.6458333333333333 and parameters: {'k': 17}. Best is trial 16 with value: 0.8125.\n",
      "[I 2025-02-25 17:07:11,000] Trial 24 finished with value: 0.4166666666666667 and parameters: {'k': 43}. Best is trial 16 with value: 0.8125.\n",
      "[I 2025-02-25 17:07:11,007] Trial 25 finished with value: 0.7083333333333333 and parameters: {'k': 21}. Best is trial 16 with value: 0.8125.\n",
      "[I 2025-02-25 17:07:11,014] Trial 26 finished with value: 0.5208333333333333 and parameters: {'k': 44}. Best is trial 16 with value: 0.8125.\n",
      "[I 2025-02-25 17:07:11,020] Trial 27 finished with value: 0.7083333333333334 and parameters: {'k': 9}. Best is trial 16 with value: 0.8125.\n",
      "[I 2025-02-25 17:07:11,027] Trial 28 finished with value: 0.5625 and parameters: {'k': 14}. Best is trial 16 with value: 0.8125.\n",
      "[I 2025-02-25 17:07:11,034] Trial 29 finished with value: 0.5625 and parameters: {'k': 26}. Best is trial 16 with value: 0.8125.\n",
      "[I 2025-02-25 17:07:11,042] Trial 30 finished with value: 0.625 and parameters: {'k': 6}. Best is trial 16 with value: 0.8125.\n",
      "[I 2025-02-25 17:07:11,049] Trial 31 finished with value: 0.6041666666666667 and parameters: {'k': 18}. Best is trial 16 with value: 0.8125.\n",
      "[I 2025-02-25 17:07:11,056] Trial 32 finished with value: 0.45833333333333337 and parameters: {'k': 41}. Best is trial 16 with value: 0.8125.\n",
      "[I 2025-02-25 17:07:11,064] Trial 33 finished with value: 0.4583333333333333 and parameters: {'k': 50}. Best is trial 16 with value: 0.8125.\n",
      "[I 2025-02-25 17:07:11,072] Trial 34 finished with value: 0.6666666666666667 and parameters: {'k': 2}. Best is trial 16 with value: 0.8125.\n",
      "[I 2025-02-25 17:07:11,079] Trial 35 finished with value: 0.625 and parameters: {'k': 13}. Best is trial 16 with value: 0.8125.\n",
      "[I 2025-02-25 17:07:11,088] Trial 36 finished with value: 0.39583333333333337 and parameters: {'k': 38}. Best is trial 16 with value: 0.8125.\n",
      "[I 2025-02-25 17:07:11,096] Trial 37 finished with value: 0.5416666666666667 and parameters: {'k': 25}. Best is trial 16 with value: 0.8125.\n",
      "[I 2025-02-25 17:07:11,104] Trial 38 finished with value: 0.5416666666666666 and parameters: {'k': 7}. Best is trial 16 with value: 0.8125.\n",
      "[I 2025-02-25 17:07:11,113] Trial 39 finished with value: 0.5833333333333333 and parameters: {'k': 24}. Best is trial 16 with value: 0.8125.\n",
      "[I 2025-02-25 17:07:11,121] Trial 40 finished with value: 0.4166666666666667 and parameters: {'k': 37}. Best is trial 16 with value: 0.8125.\n",
      "[I 2025-02-25 17:07:11,130] Trial 41 finished with value: 0.6875 and parameters: {'k': 22}. Best is trial 16 with value: 0.8125.\n",
      "[I 2025-02-25 17:07:11,139] Trial 42 finished with value: 0.5833333333333334 and parameters: {'k': 20}. Best is trial 16 with value: 0.8125.\n",
      "[I 2025-02-25 17:07:11,148] Trial 43 finished with value: 0.6666666666666667 and parameters: {'k': 10}. Best is trial 16 with value: 0.8125.\n",
      "[I 2025-02-25 17:07:11,157] Trial 44 finished with value: 0.35416666666666663 and parameters: {'k': 40}. Best is trial 16 with value: 0.8125.\n",
      "[I 2025-02-25 17:07:11,167] Trial 45 finished with value: 0.5416666666666667 and parameters: {'k': 47}. Best is trial 16 with value: 0.8125.\n",
      "[I 2025-02-25 17:07:11,176] Trial 46 finished with value: 0.625 and parameters: {'k': 4}. Best is trial 16 with value: 0.8125.\n",
      "[I 2025-02-25 17:07:11,186] Trial 47 finished with value: 0.75 and parameters: {'k': 1}. Best is trial 16 with value: 0.8125.\n",
      "[I 2025-02-25 17:07:11,196] Trial 48 finished with value: 0.5 and parameters: {'k': 48}. Best is trial 16 with value: 0.8125.\n",
      "[I 2025-02-25 17:07:11,206] Trial 49 finished with value: 0.5208333333333333 and parameters: {'k': 45}. Best is trial 16 with value: 0.8125.\n",
      "[I 2025-02-25 17:07:11,212] A new study created in memory with name: no-name-4b49acd4-734a-473d-bf29-c9b41cf5b2cc\n",
      "[I 2025-02-25 17:07:11,215] Trial 0 finished with value: 0.4166666666666667 and parameters: {'k': 29}. Best is trial 0 with value: 0.4166666666666667.\n",
      "[I 2025-02-25 17:07:11,218] Trial 1 finished with value: 0.625 and parameters: {'k': 12}. Best is trial 1 with value: 0.625.\n",
      "[I 2025-02-25 17:07:11,222] Trial 2 finished with value: 0.625 and parameters: {'k': 11}. Best is trial 1 with value: 0.625.\n",
      "[I 2025-02-25 17:07:11,226] Trial 3 finished with value: 0.3125 and parameters: {'k': 42}. Best is trial 1 with value: 0.625.\n",
      "[I 2025-02-25 17:07:11,230] Trial 4 finished with value: 0.4166666666666667 and parameters: {'k': 3}. Best is trial 1 with value: 0.625.\n",
      "[I 2025-02-25 17:07:11,234] Trial 5 finished with value: 0.33333333333333337 and parameters: {'k': 28}. Best is trial 1 with value: 0.625.\n",
      "[I 2025-02-25 17:07:11,238] Trial 6 finished with value: 0.3333333333333333 and parameters: {'k': 39}. Best is trial 1 with value: 0.625.\n",
      "[I 2025-02-25 17:07:11,242] Trial 7 finished with value: 0.41666666666666663 and parameters: {'k': 32}. Best is trial 1 with value: 0.625.\n",
      "[I 2025-02-25 17:07:11,247] Trial 8 finished with value: 0.3125 and parameters: {'k': 23}. Best is trial 1 with value: 0.625.\n",
      "[I 2025-02-25 17:07:11,251] Trial 9 finished with value: 0.375 and parameters: {'k': 5}. Best is trial 1 with value: 0.625.\n",
      "[I 2025-02-25 17:07:11,256] Trial 10 finished with value: 0.3333333333333333 and parameters: {'k': 34}. Best is trial 1 with value: 0.625.\n",
      "[I 2025-02-25 17:07:11,261] Trial 11 finished with value: 0.4375 and parameters: {'k': 36}. Best is trial 1 with value: 0.625.\n",
      "[I 2025-02-25 17:07:11,266] Trial 12 finished with value: 0.33333333333333337 and parameters: {'k': 27}. Best is trial 1 with value: 0.625.\n",
      "[I 2025-02-25 17:07:11,271] Trial 13 finished with value: 0.3333333333333333 and parameters: {'k': 35}. Best is trial 1 with value: 0.625.\n",
      "[I 2025-02-25 17:07:11,276] Trial 14 finished with value: 0.2916666666666667 and parameters: {'k': 19}. Best is trial 1 with value: 0.625.\n",
      "[I 2025-02-25 17:07:11,281] Trial 15 finished with value: 0.75 and parameters: {'k': 8}. Best is trial 15 with value: 0.75.\n",
      "[I 2025-02-25 17:07:11,286] Trial 16 finished with value: 0.375 and parameters: {'k': 15}. Best is trial 15 with value: 0.75.\n",
      "[I 2025-02-25 17:07:11,292] Trial 17 finished with value: 0.375 and parameters: {'k': 46}. Best is trial 15 with value: 0.75.\n",
      "[I 2025-02-25 17:07:11,298] Trial 18 finished with value: 0.33333333333333337 and parameters: {'k': 49}. Best is trial 15 with value: 0.75.\n",
      "[I 2025-02-25 17:07:11,304] Trial 19 finished with value: 0.39583333333333337 and parameters: {'k': 30}. Best is trial 15 with value: 0.75.\n",
      "[I 2025-02-25 17:07:11,310] Trial 20 finished with value: 0.375 and parameters: {'k': 16}. Best is trial 15 with value: 0.75.\n",
      "[I 2025-02-25 17:07:11,316] Trial 21 finished with value: 0.45833333333333337 and parameters: {'k': 31}. Best is trial 15 with value: 0.75.\n",
      "[I 2025-02-25 17:07:11,323] Trial 22 finished with value: 0.3333333333333333 and parameters: {'k': 33}. Best is trial 15 with value: 0.75.\n",
      "[I 2025-02-25 17:07:11,329] Trial 23 finished with value: 0.375 and parameters: {'k': 17}. Best is trial 15 with value: 0.75.\n",
      "[I 2025-02-25 17:07:11,336] Trial 24 finished with value: 0.4583333333333333 and parameters: {'k': 43}. Best is trial 15 with value: 0.75.\n",
      "[I 2025-02-25 17:07:11,343] Trial 25 finished with value: 0.20833333333333331 and parameters: {'k': 21}. Best is trial 15 with value: 0.75.\n",
      "[I 2025-02-25 17:07:11,349] Trial 26 finished with value: 0.41666666666666663 and parameters: {'k': 44}. Best is trial 15 with value: 0.75.\n",
      "[I 2025-02-25 17:07:11,356] Trial 27 finished with value: 0.7083333333333334 and parameters: {'k': 9}. Best is trial 15 with value: 0.75.\n",
      "[I 2025-02-25 17:07:11,363] Trial 28 finished with value: 0.4583333333333333 and parameters: {'k': 14}. Best is trial 15 with value: 0.75.\n",
      "[I 2025-02-25 17:07:11,371] Trial 29 finished with value: 0.33333333333333337 and parameters: {'k': 26}. Best is trial 15 with value: 0.75.\n",
      "[I 2025-02-25 17:07:11,378] Trial 30 finished with value: 0.6041666666666666 and parameters: {'k': 6}. Best is trial 15 with value: 0.75.\n",
      "[I 2025-02-25 17:07:11,385] Trial 31 finished with value: 0.33333333333333337 and parameters: {'k': 18}. Best is trial 15 with value: 0.75.\n",
      "[I 2025-02-25 17:07:11,393] Trial 32 finished with value: 0.3125 and parameters: {'k': 41}. Best is trial 15 with value: 0.75.\n",
      "[I 2025-02-25 17:07:11,401] Trial 33 finished with value: 0.45833333333333337 and parameters: {'k': 50}. Best is trial 15 with value: 0.75.\n",
      "[I 2025-02-25 17:07:11,408] Trial 34 finished with value: 0.5 and parameters: {'k': 2}. Best is trial 15 with value: 0.75.\n",
      "[I 2025-02-25 17:07:11,416] Trial 35 finished with value: 0.5416666666666666 and parameters: {'k': 13}. Best is trial 15 with value: 0.75.\n",
      "[I 2025-02-25 17:07:11,424] Trial 36 finished with value: 0.375 and parameters: {'k': 38}. Best is trial 15 with value: 0.75.\n",
      "[I 2025-02-25 17:07:11,432] Trial 37 finished with value: 0.33333333333333337 and parameters: {'k': 25}. Best is trial 15 with value: 0.75.\n",
      "[I 2025-02-25 17:07:11,441] Trial 38 finished with value: 0.75 and parameters: {'k': 7}. Best is trial 15 with value: 0.75.\n",
      "[I 2025-02-25 17:07:11,449] Trial 39 finished with value: 0.3125 and parameters: {'k': 24}. Best is trial 15 with value: 0.75.\n",
      "[I 2025-02-25 17:07:11,458] Trial 40 finished with value: 0.4166666666666667 and parameters: {'k': 37}. Best is trial 15 with value: 0.75.\n",
      "[I 2025-02-25 17:07:11,466] Trial 41 finished with value: 0.33333333333333337 and parameters: {'k': 22}. Best is trial 15 with value: 0.75.\n",
      "[I 2025-02-25 17:07:11,475] Trial 42 finished with value: 0.2916666666666667 and parameters: {'k': 20}. Best is trial 15 with value: 0.75.\n",
      "[I 2025-02-25 17:07:11,484] Trial 43 finished with value: 0.6666666666666667 and parameters: {'k': 10}. Best is trial 15 with value: 0.75.\n",
      "[I 2025-02-25 17:07:11,493] Trial 44 finished with value: 0.3333333333333333 and parameters: {'k': 40}. Best is trial 15 with value: 0.75.\n",
      "[I 2025-02-25 17:07:11,503] Trial 45 finished with value: 0.375 and parameters: {'k': 47}. Best is trial 15 with value: 0.75.\n",
      "[I 2025-02-25 17:07:11,512] Trial 46 finished with value: 0.4166666666666667 and parameters: {'k': 4}. Best is trial 15 with value: 0.75.\n",
      "[I 2025-02-25 17:07:11,522] Trial 47 finished with value: 0.5 and parameters: {'k': 1}. Best is trial 15 with value: 0.75.\n",
      "[I 2025-02-25 17:07:11,531] Trial 48 finished with value: 0.33333333333333337 and parameters: {'k': 48}. Best is trial 15 with value: 0.75.\n",
      "[I 2025-02-25 17:07:11,541] Trial 49 finished with value: 0.375 and parameters: {'k': 45}. Best is trial 15 with value: 0.75.\n",
      "[I 2025-02-25 17:07:11,546] A new study created in memory with name: no-name-0ca3a59b-8534-4c1e-9abe-450682024ed1\n",
      "[I 2025-02-25 17:07:11,549] Trial 0 finished with value: 0.8958333333333333 and parameters: {'k': 29}. Best is trial 0 with value: 0.8958333333333333.\n",
      "[I 2025-02-25 17:07:11,553] Trial 1 finished with value: 0.8333333333333333 and parameters: {'k': 12}. Best is trial 0 with value: 0.8958333333333333.\n",
      "[I 2025-02-25 17:07:11,556] Trial 2 finished with value: 0.8333333333333333 and parameters: {'k': 11}. Best is trial 0 with value: 0.8958333333333333.\n",
      "[I 2025-02-25 17:07:11,560] Trial 3 finished with value: 0.6666666666666666 and parameters: {'k': 42}. Best is trial 0 with value: 0.8958333333333333.\n",
      "[I 2025-02-25 17:07:11,563] Trial 4 finished with value: 0.5833333333333333 and parameters: {'k': 3}. Best is trial 0 with value: 0.8958333333333333.\n",
      "[I 2025-02-25 17:07:11,567] Trial 5 finished with value: 0.8958333333333333 and parameters: {'k': 28}. Best is trial 0 with value: 0.8958333333333333.\n",
      "[I 2025-02-25 17:07:11,571] Trial 6 finished with value: 0.6458333333333333 and parameters: {'k': 39}. Best is trial 0 with value: 0.8958333333333333.\n",
      "[I 2025-02-25 17:07:11,575] Trial 7 finished with value: 0.8541666666666666 and parameters: {'k': 32}. Best is trial 0 with value: 0.8958333333333333.\n",
      "[I 2025-02-25 17:07:11,580] Trial 8 finished with value: 0.8333333333333333 and parameters: {'k': 23}. Best is trial 0 with value: 0.8958333333333333.\n",
      "[I 2025-02-25 17:07:11,584] Trial 9 finished with value: 0.9166666666666666 and parameters: {'k': 5}. Best is trial 9 with value: 0.9166666666666666.\n",
      "[I 2025-02-25 17:07:11,589] Trial 10 finished with value: 0.8541666666666666 and parameters: {'k': 34}. Best is trial 9 with value: 0.9166666666666666.\n",
      "[I 2025-02-25 17:07:11,593] Trial 11 finished with value: 0.7916666666666667 and parameters: {'k': 36}. Best is trial 9 with value: 0.9166666666666666.\n",
      "[I 2025-02-25 17:07:11,598] Trial 12 finished with value: 0.7708333333333334 and parameters: {'k': 27}. Best is trial 9 with value: 0.9166666666666666.\n",
      "[I 2025-02-25 17:07:11,603] Trial 13 finished with value: 0.8333333333333333 and parameters: {'k': 35}. Best is trial 9 with value: 0.9166666666666666.\n",
      "[I 2025-02-25 17:07:11,608] Trial 14 finished with value: 0.75 and parameters: {'k': 19}. Best is trial 9 with value: 0.9166666666666666.\n",
      "[I 2025-02-25 17:07:11,613] Trial 15 finished with value: 0.875 and parameters: {'k': 8}. Best is trial 9 with value: 0.9166666666666666.\n",
      "[I 2025-02-25 17:07:11,619] Trial 16 finished with value: 0.7916666666666667 and parameters: {'k': 15}. Best is trial 9 with value: 0.9166666666666666.\n",
      "[I 2025-02-25 17:07:11,624] Trial 17 finished with value: 0.625 and parameters: {'k': 46}. Best is trial 9 with value: 0.9166666666666666.\n",
      "[I 2025-02-25 17:07:11,630] Trial 18 finished with value: 0.35416666666666663 and parameters: {'k': 49}. Best is trial 9 with value: 0.9166666666666666.\n",
      "[I 2025-02-25 17:07:11,636] Trial 19 finished with value: 0.8958333333333333 and parameters: {'k': 30}. Best is trial 9 with value: 0.9166666666666666.\n",
      "[I 2025-02-25 17:07:11,642] Trial 20 finished with value: 0.7916666666666667 and parameters: {'k': 16}. Best is trial 9 with value: 0.9166666666666666.\n",
      "[I 2025-02-25 17:07:11,648] Trial 21 finished with value: 0.875 and parameters: {'k': 31}. Best is trial 9 with value: 0.9166666666666666.\n",
      "[I 2025-02-25 17:07:11,654] Trial 22 finished with value: 0.8541666666666666 and parameters: {'k': 33}. Best is trial 9 with value: 0.9166666666666666.\n",
      "[I 2025-02-25 17:07:11,660] Trial 23 finished with value: 0.7916666666666667 and parameters: {'k': 17}. Best is trial 9 with value: 0.9166666666666666.\n",
      "[I 2025-02-25 17:07:11,667] Trial 24 finished with value: 0.7916666666666666 and parameters: {'k': 43}. Best is trial 9 with value: 0.9166666666666666.\n",
      "[I 2025-02-25 17:07:11,673] Trial 25 finished with value: 0.8958333333333334 and parameters: {'k': 21}. Best is trial 9 with value: 0.9166666666666666.\n",
      "[I 2025-02-25 17:07:11,680] Trial 26 finished with value: 0.7708333333333333 and parameters: {'k': 44}. Best is trial 9 with value: 0.9166666666666666.\n",
      "[I 2025-02-25 17:07:11,687] Trial 27 finished with value: 0.8541666666666667 and parameters: {'k': 9}. Best is trial 9 with value: 0.9166666666666666.\n",
      "[I 2025-02-25 17:07:11,694] Trial 28 finished with value: 0.7916666666666667 and parameters: {'k': 14}. Best is trial 9 with value: 0.9166666666666666.\n",
      "[I 2025-02-25 17:07:11,701] Trial 29 finished with value: 0.7916666666666667 and parameters: {'k': 26}. Best is trial 9 with value: 0.9166666666666666.\n",
      "[I 2025-02-25 17:07:11,708] Trial 30 finished with value: 0.9166666666666666 and parameters: {'k': 6}. Best is trial 9 with value: 0.9166666666666666.\n",
      "[I 2025-02-25 17:07:11,715] Trial 31 finished with value: 0.7708333333333333 and parameters: {'k': 18}. Best is trial 9 with value: 0.9166666666666666.\n",
      "[I 2025-02-25 17:07:11,723] Trial 32 finished with value: 0.75 and parameters: {'k': 41}. Best is trial 9 with value: 0.9166666666666666.\n",
      "[I 2025-02-25 17:07:11,731] Trial 33 finished with value: 0.49999999999999994 and parameters: {'k': 50}. Best is trial 9 with value: 0.9166666666666666.\n",
      "[I 2025-02-25 17:07:11,738] Trial 34 finished with value: 0.375 and parameters: {'k': 2}. Best is trial 9 with value: 0.9166666666666666.\n",
      "[I 2025-02-25 17:07:11,746] Trial 35 finished with value: 0.8333333333333333 and parameters: {'k': 13}. Best is trial 9 with value: 0.9166666666666666.\n",
      "[I 2025-02-25 17:07:11,754] Trial 36 finished with value: 0.6666666666666666 and parameters: {'k': 38}. Best is trial 9 with value: 0.9166666666666666.\n",
      "[I 2025-02-25 17:07:11,763] Trial 37 finished with value: 0.8333333333333333 and parameters: {'k': 25}. Best is trial 9 with value: 0.9166666666666666.\n",
      "[I 2025-02-25 17:07:11,771] Trial 38 finished with value: 0.9166666666666666 and parameters: {'k': 7}. Best is trial 9 with value: 0.9166666666666666.\n",
      "[I 2025-02-25 17:07:11,779] Trial 39 finished with value: 0.8333333333333333 and parameters: {'k': 24}. Best is trial 9 with value: 0.9166666666666666.\n",
      "[I 2025-02-25 17:07:11,788] Trial 40 finished with value: 0.6875 and parameters: {'k': 37}. Best is trial 9 with value: 0.9166666666666666.\n",
      "[I 2025-02-25 17:07:11,797] Trial 41 finished with value: 0.875 and parameters: {'k': 22}. Best is trial 9 with value: 0.9166666666666666.\n",
      "[I 2025-02-25 17:07:11,806] Trial 42 finished with value: 0.7291666666666666 and parameters: {'k': 20}. Best is trial 9 with value: 0.9166666666666666.\n",
      "[I 2025-02-25 17:07:11,815] Trial 43 finished with value: 0.8333333333333333 and parameters: {'k': 10}. Best is trial 9 with value: 0.9166666666666666.\n",
      "[I 2025-02-25 17:07:11,824] Trial 44 finished with value: 0.75 and parameters: {'k': 40}. Best is trial 9 with value: 0.9166666666666666.\n",
      "[I 2025-02-25 17:07:11,833] Trial 45 finished with value: 0.5416666666666666 and parameters: {'k': 47}. Best is trial 9 with value: 0.9166666666666666.\n",
      "[I 2025-02-25 17:07:11,843] Trial 46 finished with value: 0.6666666666666666 and parameters: {'k': 4}. Best is trial 9 with value: 0.9166666666666666.\n",
      "[I 2025-02-25 17:07:11,853] Trial 47 finished with value: 0.4166666666666667 and parameters: {'k': 1}. Best is trial 9 with value: 0.9166666666666666.\n",
      "[I 2025-02-25 17:07:11,864] Trial 48 finished with value: 0.5 and parameters: {'k': 48}. Best is trial 9 with value: 0.9166666666666666.\n",
      "[I 2025-02-25 17:07:11,873] Trial 49 finished with value: 0.7291666666666667 and parameters: {'k': 45}. Best is trial 9 with value: 0.9166666666666666.\n",
      "[I 2025-02-25 17:07:11,878] A new study created in memory with name: no-name-d20522b5-6519-4205-903d-1585f11e59e4\n",
      "[I 2025-02-25 17:07:11,881] Trial 0 finished with value: 0.6458333333333334 and parameters: {'k': 29}. Best is trial 0 with value: 0.6458333333333334.\n",
      "[I 2025-02-25 17:07:11,885] Trial 1 finished with value: 0.16666666666666666 and parameters: {'k': 12}. Best is trial 0 with value: 0.6458333333333334.\n",
      "[I 2025-02-25 17:07:11,888] Trial 2 finished with value: 0.20833333333333334 and parameters: {'k': 11}. Best is trial 0 with value: 0.6458333333333334.\n",
      "[I 2025-02-25 17:07:11,892] Trial 3 finished with value: 0.5416666666666667 and parameters: {'k': 42}. Best is trial 0 with value: 0.6458333333333334.\n",
      "[I 2025-02-25 17:07:11,895] Trial 4 finished with value: 0.3333333333333333 and parameters: {'k': 3}. Best is trial 0 with value: 0.6458333333333334.\n",
      "[I 2025-02-25 17:07:11,899] Trial 5 finished with value: 0.6875 and parameters: {'k': 28}. Best is trial 5 with value: 0.6875.\n",
      "[I 2025-02-25 17:07:11,903] Trial 6 finished with value: 0.5208333333333333 and parameters: {'k': 39}. Best is trial 5 with value: 0.6875.\n",
      "[I 2025-02-25 17:07:11,908] Trial 7 finished with value: 0.5625 and parameters: {'k': 32}. Best is trial 5 with value: 0.6875.\n",
      "[I 2025-02-25 17:07:11,912] Trial 8 finished with value: 0.4791666666666667 and parameters: {'k': 23}. Best is trial 5 with value: 0.6875.\n",
      "[I 2025-02-25 17:07:11,916] Trial 9 finished with value: 0.2916666666666667 and parameters: {'k': 5}. Best is trial 5 with value: 0.6875.\n",
      "[I 2025-02-25 17:07:11,921] Trial 10 finished with value: 0.5416666666666666 and parameters: {'k': 34}. Best is trial 5 with value: 0.6875.\n",
      "[I 2025-02-25 17:07:11,926] Trial 11 finished with value: 0.5625 and parameters: {'k': 36}. Best is trial 5 with value: 0.6875.\n",
      "[I 2025-02-25 17:07:11,931] Trial 12 finished with value: 0.7083333333333333 and parameters: {'k': 27}. Best is trial 12 with value: 0.7083333333333333.\n",
      "[I 2025-02-25 17:07:11,936] Trial 13 finished with value: 0.6041666666666666 and parameters: {'k': 35}. Best is trial 12 with value: 0.7083333333333333.\n",
      "[I 2025-02-25 17:07:11,941] Trial 14 finished with value: 0.5416666666666666 and parameters: {'k': 19}. Best is trial 12 with value: 0.7083333333333333.\n",
      "[I 2025-02-25 17:07:11,946] Trial 15 finished with value: 0.20833333333333334 and parameters: {'k': 8}. Best is trial 12 with value: 0.7083333333333333.\n",
      "[I 2025-02-25 17:07:11,951] Trial 16 finished with value: 0.125 and parameters: {'k': 15}. Best is trial 12 with value: 0.7083333333333333.\n",
      "[I 2025-02-25 17:07:11,957] Trial 17 finished with value: 0.6041666666666666 and parameters: {'k': 46}. Best is trial 12 with value: 0.7083333333333333.\n",
      "[I 2025-02-25 17:07:11,962] Trial 18 finished with value: 0.7083333333333333 and parameters: {'k': 49}. Best is trial 12 with value: 0.7083333333333333.\n",
      "[I 2025-02-25 17:07:11,968] Trial 19 finished with value: 0.6041666666666667 and parameters: {'k': 30}. Best is trial 12 with value: 0.7083333333333333.\n",
      "[I 2025-02-25 17:07:11,974] Trial 20 finished with value: 0.25 and parameters: {'k': 16}. Best is trial 12 with value: 0.7083333333333333.\n",
      "[I 2025-02-25 17:07:11,980] Trial 21 finished with value: 0.5625 and parameters: {'k': 31}. Best is trial 12 with value: 0.7083333333333333.\n",
      "[I 2025-02-25 17:07:11,986] Trial 22 finished with value: 0.5416666666666666 and parameters: {'k': 33}. Best is trial 12 with value: 0.7083333333333333.\n",
      "[I 2025-02-25 17:07:11,992] Trial 23 finished with value: 0.4166666666666667 and parameters: {'k': 17}. Best is trial 12 with value: 0.7083333333333333.\n",
      "[I 2025-02-25 17:07:11,999] Trial 24 finished with value: 0.5 and parameters: {'k': 43}. Best is trial 12 with value: 0.7083333333333333.\n",
      "[I 2025-02-25 17:07:12,006] Trial 25 finished with value: 0.5416666666666666 and parameters: {'k': 21}. Best is trial 12 with value: 0.7083333333333333.\n",
      "[I 2025-02-25 17:07:12,013] Trial 26 finished with value: 0.5 and parameters: {'k': 44}. Best is trial 12 with value: 0.7083333333333333.\n",
      "[I 2025-02-25 17:07:12,020] Trial 27 finished with value: 0.20833333333333334 and parameters: {'k': 9}. Best is trial 12 with value: 0.7083333333333333.\n",
      "[I 2025-02-25 17:07:12,027] Trial 28 finished with value: 0.125 and parameters: {'k': 14}. Best is trial 12 with value: 0.7083333333333333.\n",
      "[I 2025-02-25 17:07:12,034] Trial 29 finished with value: 0.5 and parameters: {'k': 26}. Best is trial 12 with value: 0.7083333333333333.\n",
      "[I 2025-02-25 17:07:12,041] Trial 30 finished with value: 0.25 and parameters: {'k': 6}. Best is trial 12 with value: 0.7083333333333333.\n",
      "[I 2025-02-25 17:07:12,049] Trial 31 finished with value: 0.5416666666666666 and parameters: {'k': 18}. Best is trial 12 with value: 0.7083333333333333.\n",
      "[I 2025-02-25 17:07:12,056] Trial 32 finished with value: 0.5625 and parameters: {'k': 41}. Best is trial 12 with value: 0.7083333333333333.\n",
      "[I 2025-02-25 17:07:12,064] Trial 33 finished with value: 0.6666666666666667 and parameters: {'k': 50}. Best is trial 12 with value: 0.7083333333333333.\n",
      "[I 2025-02-25 17:07:12,072] Trial 34 finished with value: 0.3333333333333333 and parameters: {'k': 2}. Best is trial 12 with value: 0.7083333333333333.\n",
      "[I 2025-02-25 17:07:12,079] Trial 35 finished with value: 0.125 and parameters: {'k': 13}. Best is trial 12 with value: 0.7083333333333333.\n",
      "[I 2025-02-25 17:07:12,088] Trial 36 finished with value: 0.5208333333333333 and parameters: {'k': 38}. Best is trial 12 with value: 0.7083333333333333.\n",
      "[I 2025-02-25 17:07:12,096] Trial 37 finished with value: 0.41666666666666663 and parameters: {'k': 25}. Best is trial 12 with value: 0.7083333333333333.\n",
      "[I 2025-02-25 17:07:12,104] Trial 38 finished with value: 0.20833333333333334 and parameters: {'k': 7}. Best is trial 12 with value: 0.7083333333333333.\n",
      "[I 2025-02-25 17:07:12,113] Trial 39 finished with value: 0.4583333333333333 and parameters: {'k': 24}. Best is trial 12 with value: 0.7083333333333333.\n",
      "[I 2025-02-25 17:07:12,121] Trial 40 finished with value: 0.5208333333333333 and parameters: {'k': 37}. Best is trial 12 with value: 0.7083333333333333.\n",
      "[I 2025-02-25 17:07:12,130] Trial 41 finished with value: 0.5208333333333333 and parameters: {'k': 22}. Best is trial 12 with value: 0.7083333333333333.\n",
      "[I 2025-02-25 17:07:12,139] Trial 42 finished with value: 0.5416666666666666 and parameters: {'k': 20}. Best is trial 12 with value: 0.7083333333333333.\n",
      "[I 2025-02-25 17:07:12,148] Trial 43 finished with value: 0.20833333333333334 and parameters: {'k': 10}. Best is trial 12 with value: 0.7083333333333333.\n",
      "[I 2025-02-25 17:07:12,157] Trial 44 finished with value: 0.6041666666666667 and parameters: {'k': 40}. Best is trial 12 with value: 0.7083333333333333.\n",
      "[I 2025-02-25 17:07:12,166] Trial 45 finished with value: 0.5 and parameters: {'k': 47}. Best is trial 12 with value: 0.7083333333333333.\n",
      "[I 2025-02-25 17:07:12,176] Trial 46 finished with value: 0.2916666666666667 and parameters: {'k': 4}. Best is trial 12 with value: 0.7083333333333333.\n",
      "[I 2025-02-25 17:07:12,185] Trial 47 finished with value: 0.375 and parameters: {'k': 1}. Best is trial 12 with value: 0.7083333333333333.\n",
      "[I 2025-02-25 17:07:12,195] Trial 48 finished with value: 0.5 and parameters: {'k': 48}. Best is trial 12 with value: 0.7083333333333333.\n",
      "[I 2025-02-25 17:07:12,205] Trial 49 finished with value: 0.6041666666666666 and parameters: {'k': 45}. Best is trial 12 with value: 0.7083333333333333.\n",
      "[I 2025-02-25 17:07:12,214] A new study created in memory with name: no-name-d0501aa3-b659-4916-82fb-2345215e7924\n",
      "[I 2025-02-25 17:07:12,217] Trial 0 finished with value: 0.9583333333333333 and parameters: {'k': 29}. Best is trial 0 with value: 0.9583333333333333.\n",
      "[I 2025-02-25 17:07:12,220] Trial 1 finished with value: 0.8958333333333333 and parameters: {'k': 12}. Best is trial 0 with value: 0.9583333333333333.\n",
      "[I 2025-02-25 17:07:12,224] Trial 2 finished with value: 0.9375 and parameters: {'k': 11}. Best is trial 0 with value: 0.9583333333333333.\n",
      "[I 2025-02-25 17:07:12,227] Trial 3 finished with value: 0.7916666666666667 and parameters: {'k': 42}. Best is trial 0 with value: 0.9583333333333333.\n",
      "[I 2025-02-25 17:07:12,231] Trial 4 finished with value: 0.875 and parameters: {'k': 3}. Best is trial 0 with value: 0.9583333333333333.\n",
      "[I 2025-02-25 17:07:12,235] Trial 5 finished with value: 0.9583333333333333 and parameters: {'k': 28}. Best is trial 0 with value: 0.9583333333333333.\n",
      "[I 2025-02-25 17:07:12,239] Trial 6 finished with value: 0.8333333333333333 and parameters: {'k': 39}. Best is trial 0 with value: 0.9583333333333333.\n",
      "[I 2025-02-25 17:07:12,243] Trial 7 finished with value: 0.875 and parameters: {'k': 32}. Best is trial 0 with value: 0.9583333333333333.\n",
      "[I 2025-02-25 17:07:12,247] Trial 8 finished with value: 0.9166666666666666 and parameters: {'k': 23}. Best is trial 0 with value: 0.9583333333333333.\n",
      "[I 2025-02-25 17:07:12,252] Trial 9 finished with value: 0.75 and parameters: {'k': 5}. Best is trial 0 with value: 0.9583333333333333.\n",
      "[I 2025-02-25 17:07:12,256] Trial 10 finished with value: 0.7916666666666667 and parameters: {'k': 34}. Best is trial 0 with value: 0.9583333333333333.\n",
      "[I 2025-02-25 17:07:12,261] Trial 11 finished with value: 0.7083333333333334 and parameters: {'k': 36}. Best is trial 0 with value: 0.9583333333333333.\n",
      "[I 2025-02-25 17:07:12,266] Trial 12 finished with value: 0.9583333333333333 and parameters: {'k': 27}. Best is trial 0 with value: 0.9583333333333333.\n",
      "[I 2025-02-25 17:07:12,271] Trial 13 finished with value: 0.75 and parameters: {'k': 35}. Best is trial 0 with value: 0.9583333333333333.\n",
      "[I 2025-02-25 17:07:12,276] Trial 14 finished with value: 0.9791666666666666 and parameters: {'k': 19}. Best is trial 14 with value: 0.9791666666666666.\n",
      "[I 2025-02-25 17:07:12,281] Trial 15 finished with value: 0.8333333333333333 and parameters: {'k': 8}. Best is trial 14 with value: 0.9791666666666666.\n",
      "[I 2025-02-25 17:07:12,286] Trial 16 finished with value: 0.9583333333333334 and parameters: {'k': 15}. Best is trial 14 with value: 0.9791666666666666.\n",
      "[I 2025-02-25 17:07:12,292] Trial 17 finished with value: 0.6666666666666666 and parameters: {'k': 46}. Best is trial 14 with value: 0.9791666666666666.\n",
      "[I 2025-02-25 17:07:12,298] Trial 18 finished with value: 0.6666666666666666 and parameters: {'k': 49}. Best is trial 14 with value: 0.9791666666666666.\n",
      "[I 2025-02-25 17:07:12,304] Trial 19 finished with value: 0.9166666666666667 and parameters: {'k': 30}. Best is trial 14 with value: 0.9791666666666666.\n",
      "[I 2025-02-25 17:07:12,309] Trial 20 finished with value: 0.9375 and parameters: {'k': 16}. Best is trial 14 with value: 0.9791666666666666.\n",
      "[I 2025-02-25 17:07:12,316] Trial 21 finished with value: 0.9166666666666667 and parameters: {'k': 31}. Best is trial 14 with value: 0.9791666666666666.\n",
      "[I 2025-02-25 17:07:12,322] Trial 22 finished with value: 0.7916666666666667 and parameters: {'k': 33}. Best is trial 14 with value: 0.9791666666666666.\n",
      "[I 2025-02-25 17:07:12,328] Trial 23 finished with value: 0.9583333333333333 and parameters: {'k': 17}. Best is trial 14 with value: 0.9791666666666666.\n",
      "[I 2025-02-25 17:07:12,334] Trial 24 finished with value: 0.75 and parameters: {'k': 43}. Best is trial 14 with value: 0.9791666666666666.\n",
      "[I 2025-02-25 17:07:12,341] Trial 25 finished with value: 0.9583333333333334 and parameters: {'k': 21}. Best is trial 14 with value: 0.9791666666666666.\n",
      "[I 2025-02-25 17:07:12,348] Trial 26 finished with value: 0.7083333333333334 and parameters: {'k': 44}. Best is trial 14 with value: 0.9791666666666666.\n",
      "[I 2025-02-25 17:07:12,355] Trial 27 finished with value: 1.0 and parameters: {'k': 9}. Best is trial 27 with value: 1.0.\n",
      "[I 2025-02-25 17:07:12,362] Trial 28 finished with value: 0.875 and parameters: {'k': 14}. Best is trial 27 with value: 1.0.\n",
      "[I 2025-02-25 17:07:12,369] Trial 29 finished with value: 0.9375 and parameters: {'k': 26}. Best is trial 27 with value: 1.0.\n",
      "[I 2025-02-25 17:07:12,376] Trial 30 finished with value: 0.875 and parameters: {'k': 6}. Best is trial 27 with value: 1.0.\n",
      "[I 2025-02-25 17:07:12,383] Trial 31 finished with value: 0.9791666666666666 and parameters: {'k': 18}. Best is trial 27 with value: 1.0.\n",
      "[I 2025-02-25 17:07:12,391] Trial 32 finished with value: 0.8333333333333333 and parameters: {'k': 41}. Best is trial 27 with value: 1.0.\n",
      "[I 2025-02-25 17:07:12,399] Trial 33 finished with value: 0.625 and parameters: {'k': 50}. Best is trial 27 with value: 1.0.\n",
      "[I 2025-02-25 17:07:12,406] Trial 34 finished with value: 0.75 and parameters: {'k': 2}. Best is trial 27 with value: 1.0.\n"
     ]
    },
    {
     "name": "stdout",
     "output_type": "stream",
     "text": [
      "Model: PyramidExtractorVar\n",
      "134\n"
     ]
    },
    {
     "name": "stderr",
     "output_type": "stream",
     "text": [
      "[I 2025-02-25 17:07:12,414] Trial 35 finished with value: 0.8958333333333333 and parameters: {'k': 13}. Best is trial 27 with value: 1.0.\n",
      "[I 2025-02-25 17:07:12,422] Trial 36 finished with value: 0.6666666666666666 and parameters: {'k': 38}. Best is trial 27 with value: 1.0.\n",
      "[I 2025-02-25 17:07:12,431] Trial 37 finished with value: 0.9166666666666666 and parameters: {'k': 25}. Best is trial 27 with value: 1.0.\n",
      "[I 2025-02-25 17:07:12,439] Trial 38 finished with value: 0.875 and parameters: {'k': 7}. Best is trial 27 with value: 1.0.\n",
      "[I 2025-02-25 17:07:12,447] Trial 39 finished with value: 0.9583333333333333 and parameters: {'k': 24}. Best is trial 27 with value: 1.0.\n",
      "[I 2025-02-25 17:07:12,456] Trial 40 finished with value: 0.7083333333333334 and parameters: {'k': 37}. Best is trial 27 with value: 1.0.\n",
      "[I 2025-02-25 17:07:12,465] Trial 41 finished with value: 0.9583333333333334 and parameters: {'k': 22}. Best is trial 27 with value: 1.0.\n",
      "[I 2025-02-25 17:07:12,474] Trial 42 finished with value: 0.9583333333333334 and parameters: {'k': 20}. Best is trial 27 with value: 1.0.\n",
      "[I 2025-02-25 17:07:12,483] Trial 43 finished with value: 0.9583333333333334 and parameters: {'k': 10}. Best is trial 27 with value: 1.0.\n",
      "[I 2025-02-25 17:07:12,492] Trial 44 finished with value: 0.8333333333333333 and parameters: {'k': 40}. Best is trial 27 with value: 1.0.\n",
      "[I 2025-02-25 17:07:12,502] Trial 45 finished with value: 0.6666666666666666 and parameters: {'k': 47}. Best is trial 27 with value: 1.0.\n",
      "[I 2025-02-25 17:07:12,511] Trial 46 finished with value: 0.75 and parameters: {'k': 4}. Best is trial 27 with value: 1.0.\n",
      "[I 2025-02-25 17:07:12,521] Trial 47 finished with value: 0.5 and parameters: {'k': 1}. Best is trial 27 with value: 1.0.\n",
      "[I 2025-02-25 17:07:12,531] Trial 48 finished with value: 0.6666666666666666 and parameters: {'k': 48}. Best is trial 27 with value: 1.0.\n",
      "[I 2025-02-25 17:07:12,541] Trial 49 finished with value: 0.6666666666666666 and parameters: {'k': 45}. Best is trial 27 with value: 1.0.\n",
      "[I 2025-02-25 17:07:12,546] A new study created in memory with name: no-name-4c3d0a66-affd-4ff3-8e5a-50a2a9c13fed\n",
      "[I 2025-02-25 17:07:12,549] Trial 0 finished with value: 0.3333333333333333 and parameters: {'k': 29}. Best is trial 0 with value: 0.3333333333333333.\n",
      "[I 2025-02-25 17:07:12,552] Trial 1 finished with value: 0.45833333333333337 and parameters: {'k': 12}. Best is trial 1 with value: 0.45833333333333337.\n",
      "[I 2025-02-25 17:07:12,556] Trial 2 finished with value: 0.4375 and parameters: {'k': 11}. Best is trial 1 with value: 0.45833333333333337.\n",
      "[I 2025-02-25 17:07:12,560] Trial 3 finished with value: 0.5416666666666666 and parameters: {'k': 42}. Best is trial 3 with value: 0.5416666666666666.\n",
      "[I 2025-02-25 17:07:12,563] Trial 4 finished with value: 0.6666666666666667 and parameters: {'k': 3}. Best is trial 4 with value: 0.6666666666666667.\n",
      "[I 2025-02-25 17:07:12,567] Trial 5 finished with value: 0.3958333333333333 and parameters: {'k': 28}. Best is trial 4 with value: 0.6666666666666667.\n",
      "[I 2025-02-25 17:07:12,571] Trial 6 finished with value: 0.5208333333333334 and parameters: {'k': 39}. Best is trial 4 with value: 0.6666666666666667.\n",
      "[I 2025-02-25 17:07:12,575] Trial 7 finished with value: 0.3333333333333333 and parameters: {'k': 32}. Best is trial 4 with value: 0.6666666666666667.\n",
      "[I 2025-02-25 17:07:12,580] Trial 8 finished with value: 0.4791666666666667 and parameters: {'k': 23}. Best is trial 4 with value: 0.6666666666666667.\n",
      "[I 2025-02-25 17:07:12,584] Trial 9 finished with value: 0.5 and parameters: {'k': 5}. Best is trial 4 with value: 0.6666666666666667.\n",
      "[I 2025-02-25 17:07:12,589] Trial 10 finished with value: 0.5416666666666666 and parameters: {'k': 34}. Best is trial 4 with value: 0.6666666666666667.\n",
      "[I 2025-02-25 17:07:12,593] Trial 11 finished with value: 0.5208333333333334 and parameters: {'k': 36}. Best is trial 4 with value: 0.6666666666666667.\n",
      "[I 2025-02-25 17:07:12,598] Trial 12 finished with value: 0.4166666666666667 and parameters: {'k': 27}. Best is trial 4 with value: 0.6666666666666667.\n",
      "[I 2025-02-25 17:07:12,603] Trial 13 finished with value: 0.5208333333333334 and parameters: {'k': 35}. Best is trial 4 with value: 0.6666666666666667.\n",
      "[I 2025-02-25 17:07:12,608] Trial 14 finished with value: 0.5833333333333334 and parameters: {'k': 19}. Best is trial 4 with value: 0.6666666666666667.\n",
      "[I 2025-02-25 17:07:12,613] Trial 15 finished with value: 0.5416666666666666 and parameters: {'k': 8}. Best is trial 4 with value: 0.6666666666666667.\n",
      "[I 2025-02-25 17:07:12,619] Trial 16 finished with value: 0.4375 and parameters: {'k': 15}. Best is trial 4 with value: 0.6666666666666667.\n",
      "[I 2025-02-25 17:07:12,624] Trial 17 finished with value: 0.6666666666666666 and parameters: {'k': 46}. Best is trial 4 with value: 0.6666666666666667.\n",
      "[I 2025-02-25 17:07:12,630] Trial 18 finished with value: 0.5416666666666666 and parameters: {'k': 49}. Best is trial 4 with value: 0.6666666666666667.\n",
      "[I 2025-02-25 17:07:12,636] Trial 19 finished with value: 0.29166666666666663 and parameters: {'k': 30}. Best is trial 4 with value: 0.6666666666666667.\n",
      "[I 2025-02-25 17:07:12,642] Trial 20 finished with value: 0.625 and parameters: {'k': 16}. Best is trial 4 with value: 0.6666666666666667.\n",
      "[I 2025-02-25 17:07:12,648] Trial 21 finished with value: 0.2708333333333333 and parameters: {'k': 31}. Best is trial 4 with value: 0.6666666666666667.\n",
      "[I 2025-02-25 17:07:12,654] Trial 22 finished with value: 0.4583333333333333 and parameters: {'k': 33}. Best is trial 4 with value: 0.6666666666666667.\n",
      "[I 2025-02-25 17:07:12,660] Trial 23 finished with value: 0.6041666666666666 and parameters: {'k': 17}. Best is trial 4 with value: 0.6666666666666667.\n",
      "[I 2025-02-25 17:07:12,667] Trial 24 finished with value: 0.6041666666666666 and parameters: {'k': 43}. Best is trial 4 with value: 0.6666666666666667.\n",
      "[I 2025-02-25 17:07:12,673] Trial 25 finished with value: 0.5208333333333334 and parameters: {'k': 21}. Best is trial 4 with value: 0.6666666666666667.\n",
      "[I 2025-02-25 17:07:12,680] Trial 26 finished with value: 0.6041666666666666 and parameters: {'k': 44}. Best is trial 4 with value: 0.6666666666666667.\n",
      "[I 2025-02-25 17:07:12,687] Trial 27 finished with value: 0.5416666666666666 and parameters: {'k': 9}. Best is trial 4 with value: 0.6666666666666667.\n",
      "[I 2025-02-25 17:07:12,694] Trial 28 finished with value: 0.45833333333333337 and parameters: {'k': 14}. Best is trial 4 with value: 0.6666666666666667.\n",
      "[I 2025-02-25 17:07:12,701] Trial 29 finished with value: 0.4375 and parameters: {'k': 26}. Best is trial 4 with value: 0.6666666666666667.\n",
      "[I 2025-02-25 17:07:12,709] Trial 30 finished with value: 0.5 and parameters: {'k': 6}. Best is trial 4 with value: 0.6666666666666667.\n",
      "[I 2025-02-25 17:07:12,716] Trial 31 finished with value: 0.6041666666666666 and parameters: {'k': 18}. Best is trial 4 with value: 0.6666666666666667.\n",
      "[I 2025-02-25 17:07:12,724] Trial 32 finished with value: 0.5833333333333334 and parameters: {'k': 41}. Best is trial 4 with value: 0.6666666666666667.\n",
      "[I 2025-02-25 17:07:12,732] Trial 33 finished with value: 0.5 and parameters: {'k': 50}. Best is trial 4 with value: 0.6666666666666667.\n",
      "[I 2025-02-25 17:07:12,739] Trial 34 finished with value: 0.6666666666666667 and parameters: {'k': 2}. Best is trial 4 with value: 0.6666666666666667.\n",
      "[I 2025-02-25 17:07:12,747] Trial 35 finished with value: 0.4166666666666667 and parameters: {'k': 13}. Best is trial 4 with value: 0.6666666666666667.\n",
      "[I 2025-02-25 17:07:12,755] Trial 36 finished with value: 0.5208333333333334 and parameters: {'k': 38}. Best is trial 4 with value: 0.6666666666666667.\n",
      "[I 2025-02-25 17:07:12,763] Trial 37 finished with value: 0.4375 and parameters: {'k': 25}. Best is trial 4 with value: 0.6666666666666667.\n",
      "[I 2025-02-25 17:07:12,771] Trial 38 finished with value: 0.5833333333333334 and parameters: {'k': 7}. Best is trial 4 with value: 0.6666666666666667.\n",
      "[I 2025-02-25 17:07:12,780] Trial 39 finished with value: 0.4375 and parameters: {'k': 24}. Best is trial 4 with value: 0.6666666666666667.\n",
      "[I 2025-02-25 17:07:12,788] Trial 40 finished with value: 0.5208333333333334 and parameters: {'k': 37}. Best is trial 4 with value: 0.6666666666666667.\n",
      "[I 2025-02-25 17:07:12,797] Trial 41 finished with value: 0.4791666666666667 and parameters: {'k': 22}. Best is trial 4 with value: 0.6666666666666667.\n",
      "[I 2025-02-25 17:07:12,806] Trial 42 finished with value: 0.5833333333333334 and parameters: {'k': 20}. Best is trial 4 with value: 0.6666666666666667.\n",
      "[I 2025-02-25 17:07:12,815] Trial 43 finished with value: 0.4791666666666667 and parameters: {'k': 10}. Best is trial 4 with value: 0.6666666666666667.\n",
      "[I 2025-02-25 17:07:12,824] Trial 44 finished with value: 0.5416666666666666 and parameters: {'k': 40}. Best is trial 4 with value: 0.6666666666666667.\n",
      "[I 2025-02-25 17:07:12,833] Trial 45 finished with value: 0.6666666666666666 and parameters: {'k': 47}. Best is trial 4 with value: 0.6666666666666667.\n",
      "[I 2025-02-25 17:07:12,842] Trial 46 finished with value: 0.5833333333333333 and parameters: {'k': 4}. Best is trial 4 with value: 0.6666666666666667.\n",
      "[I 2025-02-25 17:07:12,852] Trial 47 finished with value: 0.5 and parameters: {'k': 1}. Best is trial 4 with value: 0.6666666666666667.\n",
      "[I 2025-02-25 17:07:12,862] Trial 48 finished with value: 0.6666666666666666 and parameters: {'k': 48}. Best is trial 4 with value: 0.6666666666666667.\n",
      "[I 2025-02-25 17:07:12,871] Trial 49 finished with value: 0.4791666666666667 and parameters: {'k': 45}. Best is trial 4 with value: 0.6666666666666667.\n",
      "[I 2025-02-25 17:07:12,877] A new study created in memory with name: no-name-b1a9a2bf-27e5-465e-8a79-448542efc12c\n",
      "[I 2025-02-25 17:07:12,880] Trial 0 finished with value: 0.7083333333333333 and parameters: {'k': 29}. Best is trial 0 with value: 0.7083333333333333.\n",
      "[I 2025-02-25 17:07:12,883] Trial 1 finished with value: 0.8541666666666666 and parameters: {'k': 12}. Best is trial 1 with value: 0.8541666666666666.\n",
      "[I 2025-02-25 17:07:12,887] Trial 2 finished with value: 0.8958333333333333 and parameters: {'k': 11}. Best is trial 2 with value: 0.8958333333333333.\n",
      "[I 2025-02-25 17:07:12,890] Trial 3 finished with value: 0.4166666666666667 and parameters: {'k': 42}. Best is trial 2 with value: 0.8958333333333333.\n",
      "[I 2025-02-25 17:07:12,894] Trial 4 finished with value: 0.375 and parameters: {'k': 3}. Best is trial 2 with value: 0.8958333333333333.\n",
      "[I 2025-02-25 17:07:12,898] Trial 5 finished with value: 0.7291666666666667 and parameters: {'k': 28}. Best is trial 2 with value: 0.8958333333333333.\n",
      "[I 2025-02-25 17:07:12,902] Trial 6 finished with value: 0.6666666666666666 and parameters: {'k': 39}. Best is trial 2 with value: 0.8958333333333333.\n",
      "[I 2025-02-25 17:07:12,906] Trial 7 finished with value: 0.75 and parameters: {'k': 32}. Best is trial 2 with value: 0.8958333333333333.\n",
      "[I 2025-02-25 17:07:12,911] Trial 8 finished with value: 0.7708333333333334 and parameters: {'k': 23}. Best is trial 2 with value: 0.8958333333333333.\n",
      "[I 2025-02-25 17:07:12,915] Trial 9 finished with value: 0.5833333333333333 and parameters: {'k': 5}. Best is trial 2 with value: 0.8958333333333333.\n",
      "[I 2025-02-25 17:07:12,920] Trial 10 finished with value: 0.75 and parameters: {'k': 34}. Best is trial 2 with value: 0.8958333333333333.\n",
      "[I 2025-02-25 17:07:12,924] Trial 11 finished with value: 0.7083333333333334 and parameters: {'k': 36}. Best is trial 2 with value: 0.8958333333333333.\n",
      "[I 2025-02-25 17:07:12,929] Trial 12 finished with value: 0.7916666666666667 and parameters: {'k': 27}. Best is trial 2 with value: 0.8958333333333333.\n",
      "[I 2025-02-25 17:07:12,934] Trial 13 finished with value: 0.75 and parameters: {'k': 35}. Best is trial 2 with value: 0.8958333333333333.\n",
      "[I 2025-02-25 17:07:12,939] Trial 14 finished with value: 0.8541666666666666 and parameters: {'k': 19}. Best is trial 2 with value: 0.8958333333333333.\n",
      "[I 2025-02-25 17:07:12,944] Trial 15 finished with value: 0.9166666666666667 and parameters: {'k': 8}. Best is trial 15 with value: 0.9166666666666667.\n",
      "[I 2025-02-25 17:07:12,950] Trial 16 finished with value: 0.8125 and parameters: {'k': 15}. Best is trial 15 with value: 0.9166666666666667.\n",
      "[I 2025-02-25 17:07:12,955] Trial 17 finished with value: 0.3333333333333333 and parameters: {'k': 46}. Best is trial 15 with value: 0.9166666666666667.\n",
      "[I 2025-02-25 17:07:12,961] Trial 18 finished with value: 0.20833333333333334 and parameters: {'k': 49}. Best is trial 15 with value: 0.9166666666666667.\n",
      "[I 2025-02-25 17:07:12,967] Trial 19 finished with value: 0.75 and parameters: {'k': 30}. Best is trial 15 with value: 0.9166666666666667.\n",
      "[I 2025-02-25 17:07:12,972] Trial 20 finished with value: 0.8125 and parameters: {'k': 16}. Best is trial 15 with value: 0.9166666666666667.\n",
      "[I 2025-02-25 17:07:12,978] Trial 21 finished with value: 0.7916666666666667 and parameters: {'k': 31}. Best is trial 15 with value: 0.9166666666666667.\n",
      "[I 2025-02-25 17:07:12,985] Trial 22 finished with value: 0.75 and parameters: {'k': 33}. Best is trial 15 with value: 0.9166666666666667.\n",
      "[I 2025-02-25 17:07:12,991] Trial 23 finished with value: 0.8541666666666666 and parameters: {'k': 17}. Best is trial 15 with value: 0.9166666666666667.\n",
      "[I 2025-02-25 17:07:12,997] Trial 24 finished with value: 0.4166666666666667 and parameters: {'k': 43}. Best is trial 15 with value: 0.9166666666666667.\n",
      "[I 2025-02-25 17:07:13,004] Trial 25 finished with value: 0.8125 and parameters: {'k': 21}. Best is trial 15 with value: 0.9166666666666667.\n",
      "[I 2025-02-25 17:07:13,011] Trial 26 finished with value: 0.375 and parameters: {'k': 44}. Best is trial 15 with value: 0.9166666666666667.\n",
      "[I 2025-02-25 17:07:13,017] Trial 27 finished with value: 0.9166666666666666 and parameters: {'k': 9}. Best is trial 15 with value: 0.9166666666666667.\n",
      "[I 2025-02-25 17:07:13,024] Trial 28 finished with value: 0.8541666666666666 and parameters: {'k': 14}. Best is trial 15 with value: 0.9166666666666667.\n",
      "[I 2025-02-25 17:07:13,031] Trial 29 finished with value: 0.8125 and parameters: {'k': 26}. Best is trial 15 with value: 0.9166666666666667.\n",
      "[I 2025-02-25 17:07:13,038] Trial 30 finished with value: 0.7708333333333333 and parameters: {'k': 6}. Best is trial 15 with value: 0.9166666666666667.\n",
      "[I 2025-02-25 17:07:13,046] Trial 31 finished with value: 0.8541666666666666 and parameters: {'k': 18}. Best is trial 15 with value: 0.9166666666666667.\n",
      "[I 2025-02-25 17:07:13,053] Trial 32 finished with value: 0.5 and parameters: {'k': 41}. Best is trial 15 with value: 0.9166666666666667.\n",
      "[I 2025-02-25 17:07:13,061] Trial 33 finished with value: 0.4166666666666667 and parameters: {'k': 50}. Best is trial 15 with value: 0.9166666666666667.\n",
      "[I 2025-02-25 17:07:13,068] Trial 34 finished with value: 0.5416666666666667 and parameters: {'k': 2}. Best is trial 15 with value: 0.9166666666666667.\n",
      "[I 2025-02-25 17:07:13,076] Trial 35 finished with value: 0.8541666666666666 and parameters: {'k': 13}. Best is trial 15 with value: 0.9166666666666667.\n",
      "[I 2025-02-25 17:07:13,084] Trial 36 finished with value: 0.7083333333333334 and parameters: {'k': 38}. Best is trial 15 with value: 0.9166666666666667.\n",
      "[I 2025-02-25 17:07:13,093] Trial 37 finished with value: 0.8541666666666667 and parameters: {'k': 25}. Best is trial 15 with value: 0.9166666666666667.\n",
      "[I 2025-02-25 17:07:13,101] Trial 38 finished with value: 0.75 and parameters: {'k': 7}. Best is trial 15 with value: 0.9166666666666667.\n",
      "[I 2025-02-25 17:07:13,109] Trial 39 finished with value: 0.8541666666666667 and parameters: {'k': 24}. Best is trial 15 with value: 0.9166666666666667.\n",
      "[I 2025-02-25 17:07:13,118] Trial 40 finished with value: 0.7083333333333334 and parameters: {'k': 37}. Best is trial 15 with value: 0.9166666666666667.\n",
      "[I 2025-02-25 17:07:13,126] Trial 41 finished with value: 0.7916666666666667 and parameters: {'k': 22}. Best is trial 15 with value: 0.9166666666666667.\n",
      "[I 2025-02-25 17:07:13,135] Trial 42 finished with value: 0.8333333333333334 and parameters: {'k': 20}. Best is trial 15 with value: 0.9166666666666667.\n",
      "[I 2025-02-25 17:07:13,144] Trial 43 finished with value: 0.9166666666666666 and parameters: {'k': 10}. Best is trial 15 with value: 0.9166666666666667.\n",
      "[I 2025-02-25 17:07:13,153] Trial 44 finished with value: 0.6666666666666666 and parameters: {'k': 40}. Best is trial 15 with value: 0.9166666666666667.\n",
      "[I 2025-02-25 17:07:13,162] Trial 45 finished with value: 0.3333333333333333 and parameters: {'k': 47}. Best is trial 15 with value: 0.9166666666666667.\n",
      "[I 2025-02-25 17:07:13,172] Trial 46 finished with value: 0.5833333333333333 and parameters: {'k': 4}. Best is trial 15 with value: 0.9166666666666667.\n",
      "[I 2025-02-25 17:07:13,181] Trial 47 finished with value: 0.375 and parameters: {'k': 1}. Best is trial 15 with value: 0.9166666666666667.\n",
      "[I 2025-02-25 17:07:13,191] Trial 48 finished with value: 0.25 and parameters: {'k': 48}. Best is trial 15 with value: 0.9166666666666667.\n",
      "[I 2025-02-25 17:07:13,201] Trial 49 finished with value: 0.3333333333333333 and parameters: {'k': 45}. Best is trial 15 with value: 0.9166666666666667.\n",
      "[I 2025-02-25 17:07:13,206] A new study created in memory with name: no-name-dbd67863-02cd-43d8-a34f-c8d891d3a8b4\n",
      "[I 2025-02-25 17:07:13,209] Trial 0 finished with value: 0.7708333333333334 and parameters: {'k': 29}. Best is trial 0 with value: 0.7708333333333334.\n",
      "[I 2025-02-25 17:07:13,212] Trial 1 finished with value: 0.7083333333333334 and parameters: {'k': 12}. Best is trial 0 with value: 0.7708333333333334.\n",
      "[I 2025-02-25 17:07:13,216] Trial 2 finished with value: 0.7083333333333334 and parameters: {'k': 11}. Best is trial 0 with value: 0.7708333333333334.\n",
      "[I 2025-02-25 17:07:13,219] Trial 3 finished with value: 0.5416666666666667 and parameters: {'k': 42}. Best is trial 0 with value: 0.7708333333333334.\n",
      "[I 2025-02-25 17:07:13,223] Trial 4 finished with value: 0.3333333333333333 and parameters: {'k': 3}. Best is trial 0 with value: 0.7708333333333334.\n",
      "[I 2025-02-25 17:07:13,227] Trial 5 finished with value: 0.8333333333333334 and parameters: {'k': 28}. Best is trial 5 with value: 0.8333333333333334.\n",
      "[I 2025-02-25 17:07:13,231] Trial 6 finished with value: 0.8125 and parameters: {'k': 39}. Best is trial 5 with value: 0.8333333333333334.\n",
      "[I 2025-02-25 17:07:13,235] Trial 7 finished with value: 0.6041666666666667 and parameters: {'k': 32}. Best is trial 5 with value: 0.8333333333333334.\n",
      "[I 2025-02-25 17:07:13,239] Trial 8 finished with value: 0.7916666666666666 and parameters: {'k': 23}. Best is trial 5 with value: 0.8333333333333334.\n",
      "[I 2025-02-25 17:07:13,244] Trial 9 finished with value: 0.5 and parameters: {'k': 5}. Best is trial 5 with value: 0.8333333333333334.\n",
      "[I 2025-02-25 17:07:13,248] Trial 10 finished with value: 0.6666666666666667 and parameters: {'k': 34}. Best is trial 5 with value: 0.8333333333333334.\n",
      "[I 2025-02-25 17:07:13,253] Trial 11 finished with value: 0.75 and parameters: {'k': 36}. Best is trial 5 with value: 0.8333333333333334.\n",
      "[I 2025-02-25 17:07:13,258] Trial 12 finished with value: 0.8333333333333334 and parameters: {'k': 27}. Best is trial 5 with value: 0.8333333333333334.\n",
      "[I 2025-02-25 17:07:13,263] Trial 13 finished with value: 0.75 and parameters: {'k': 35}. Best is trial 5 with value: 0.8333333333333334.\n",
      "[I 2025-02-25 17:07:13,268] Trial 14 finished with value: 0.7916666666666667 and parameters: {'k': 19}. Best is trial 5 with value: 0.8333333333333334.\n",
      "[I 2025-02-25 17:07:13,273] Trial 15 finished with value: 0.75 and parameters: {'k': 8}. Best is trial 5 with value: 0.8333333333333334.\n",
      "[I 2025-02-25 17:07:13,279] Trial 16 finished with value: 0.7916666666666667 and parameters: {'k': 15}. Best is trial 5 with value: 0.8333333333333334.\n",
      "[I 2025-02-25 17:07:13,284] Trial 17 finished with value: 0.5 and parameters: {'k': 46}. Best is trial 5 with value: 0.8333333333333334.\n",
      "[I 2025-02-25 17:07:13,290] Trial 18 finished with value: 0.5 and parameters: {'k': 49}. Best is trial 5 with value: 0.8333333333333334.\n",
      "[I 2025-02-25 17:07:13,296] Trial 19 finished with value: 0.7083333333333334 and parameters: {'k': 30}. Best is trial 5 with value: 0.8333333333333334.\n",
      "[I 2025-02-25 17:07:13,302] Trial 20 finished with value: 0.7916666666666667 and parameters: {'k': 16}. Best is trial 5 with value: 0.8333333333333334.\n",
      "[I 2025-02-25 17:07:13,308] Trial 21 finished with value: 0.625 and parameters: {'k': 31}. Best is trial 5 with value: 0.8333333333333334.\n",
      "[I 2025-02-25 17:07:13,314] Trial 22 finished with value: 0.6666666666666667 and parameters: {'k': 33}. Best is trial 5 with value: 0.8333333333333334.\n",
      "[I 2025-02-25 17:07:13,320] Trial 23 finished with value: 0.75 and parameters: {'k': 17}. Best is trial 5 with value: 0.8333333333333334.\n",
      "[I 2025-02-25 17:07:13,327] Trial 24 finished with value: 0.41666666666666663 and parameters: {'k': 43}. Best is trial 5 with value: 0.8333333333333334.\n",
      "[I 2025-02-25 17:07:13,333] Trial 25 finished with value: 0.7916666666666667 and parameters: {'k': 21}. Best is trial 5 with value: 0.8333333333333334.\n",
      "[I 2025-02-25 17:07:13,340] Trial 26 finished with value: 0.375 and parameters: {'k': 44}. Best is trial 5 with value: 0.8333333333333334.\n",
      "[I 2025-02-25 17:07:13,347] Trial 27 finished with value: 0.7291666666666667 and parameters: {'k': 9}. Best is trial 5 with value: 0.8333333333333334.\n",
      "[I 2025-02-25 17:07:13,354] Trial 28 finished with value: 0.6875 and parameters: {'k': 14}. Best is trial 5 with value: 0.8333333333333334.\n",
      "[I 2025-02-25 17:07:13,361] Trial 29 finished with value: 0.7708333333333334 and parameters: {'k': 26}. Best is trial 5 with value: 0.8333333333333334.\n",
      "[I 2025-02-25 17:07:13,368] Trial 30 finished with value: 0.7083333333333334 and parameters: {'k': 6}. Best is trial 5 with value: 0.8333333333333334.\n",
      "[I 2025-02-25 17:07:13,375] Trial 31 finished with value: 0.6666666666666667 and parameters: {'k': 18}. Best is trial 5 with value: 0.8333333333333334.\n",
      "[I 2025-02-25 17:07:13,383] Trial 32 finished with value: 0.6666666666666666 and parameters: {'k': 41}. Best is trial 5 with value: 0.8333333333333334.\n",
      "[I 2025-02-25 17:07:13,391] Trial 33 finished with value: 0.5 and parameters: {'k': 50}. Best is trial 5 with value: 0.8333333333333334.\n",
      "[I 2025-02-25 17:07:13,398] Trial 34 finished with value: 0.375 and parameters: {'k': 2}. Best is trial 5 with value: 0.8333333333333334.\n",
      "[I 2025-02-25 17:07:13,406] Trial 35 finished with value: 0.7083333333333334 and parameters: {'k': 13}. Best is trial 5 with value: 0.8333333333333334.\n",
      "[I 2025-02-25 17:07:13,414] Trial 36 finished with value: 0.875 and parameters: {'k': 38}. Best is trial 36 with value: 0.875.\n",
      "[I 2025-02-25 17:07:13,422] Trial 37 finished with value: 0.8125 and parameters: {'k': 25}. Best is trial 36 with value: 0.875.\n",
      "[I 2025-02-25 17:07:13,431] Trial 38 finished with value: 0.8333333333333333 and parameters: {'k': 7}. Best is trial 36 with value: 0.875.\n",
      "[I 2025-02-25 17:07:13,439] Trial 39 finished with value: 0.7708333333333334 and parameters: {'k': 24}. Best is trial 36 with value: 0.875.\n",
      "[I 2025-02-25 17:07:13,448] Trial 40 finished with value: 0.75 and parameters: {'k': 37}. Best is trial 36 with value: 0.875.\n",
      "[I 2025-02-25 17:07:13,456] Trial 41 finished with value: 0.75 and parameters: {'k': 22}. Best is trial 36 with value: 0.875.\n",
      "[I 2025-02-25 17:07:13,465] Trial 42 finished with value: 0.8333333333333333 and parameters: {'k': 20}. Best is trial 36 with value: 0.875.\n",
      "[I 2025-02-25 17:07:13,474] Trial 43 finished with value: 0.7083333333333334 and parameters: {'k': 10}. Best is trial 36 with value: 0.875.\n",
      "[I 2025-02-25 17:07:13,483] Trial 44 finished with value: 0.7083333333333334 and parameters: {'k': 40}. Best is trial 36 with value: 0.875.\n",
      "[I 2025-02-25 17:07:13,492] Trial 45 finished with value: 0.5 and parameters: {'k': 47}. Best is trial 36 with value: 0.875.\n",
      "[I 2025-02-25 17:07:13,505] Trial 46 finished with value: 0.2916666666666667 and parameters: {'k': 4}. Best is trial 36 with value: 0.875.\n",
      "[I 2025-02-25 17:07:13,514] Trial 47 finished with value: 0.4583333333333333 and parameters: {'k': 1}. Best is trial 36 with value: 0.875.\n",
      "[I 2025-02-25 17:07:13,524] Trial 48 finished with value: 0.5 and parameters: {'k': 48}. Best is trial 36 with value: 0.875.\n",
      "[I 2025-02-25 17:07:13,534] Trial 49 finished with value: 0.29166666666666663 and parameters: {'k': 45}. Best is trial 36 with value: 0.875.\n",
      "[I 2025-02-25 17:07:13,539] A new study created in memory with name: no-name-fda18956-6276-459d-99d0-8389ac8acdde\n",
      "[I 2025-02-25 17:07:13,542] Trial 0 finished with value: 0.625 and parameters: {'k': 29}. Best is trial 0 with value: 0.625.\n",
      "[I 2025-02-25 17:07:13,545] Trial 1 finished with value: 0.7083333333333334 and parameters: {'k': 12}. Best is trial 1 with value: 0.7083333333333334.\n",
      "[I 2025-02-25 17:07:13,549] Trial 2 finished with value: 0.5625 and parameters: {'k': 11}. Best is trial 1 with value: 0.7083333333333334.\n",
      "[I 2025-02-25 17:07:13,553] Trial 3 finished with value: 0.5 and parameters: {'k': 42}. Best is trial 1 with value: 0.7083333333333334.\n",
      "[I 2025-02-25 17:07:13,556] Trial 4 finished with value: 0.25 and parameters: {'k': 3}. Best is trial 1 with value: 0.7083333333333334.\n",
      "[I 2025-02-25 17:07:13,560] Trial 5 finished with value: 0.625 and parameters: {'k': 28}. Best is trial 1 with value: 0.7083333333333334.\n",
      "[I 2025-02-25 17:07:13,574] Trial 6 finished with value: 0.39583333333333337 and parameters: {'k': 39}. Best is trial 1 with value: 0.7083333333333334.\n",
      "[I 2025-02-25 17:07:13,580] Trial 7 finished with value: 0.3333333333333333 and parameters: {'k': 32}. Best is trial 1 with value: 0.7083333333333334.\n",
      "[I 2025-02-25 17:07:13,584] Trial 8 finished with value: 0.9583333333333333 and parameters: {'k': 23}. Best is trial 8 with value: 0.9583333333333333.\n",
      "[I 2025-02-25 17:07:13,589] Trial 9 finished with value: 0.45833333333333337 and parameters: {'k': 5}. Best is trial 8 with value: 0.9583333333333333.\n",
      "[I 2025-02-25 17:07:13,593] Trial 10 finished with value: 0.2916666666666667 and parameters: {'k': 34}. Best is trial 8 with value: 0.9583333333333333.\n",
      "[I 2025-02-25 17:07:13,598] Trial 11 finished with value: 0.20833333333333334 and parameters: {'k': 36}. Best is trial 8 with value: 0.9583333333333333.\n",
      "[I 2025-02-25 17:07:13,603] Trial 12 finished with value: 0.7083333333333333 and parameters: {'k': 27}. Best is trial 8 with value: 0.9583333333333333.\n",
      "[I 2025-02-25 17:07:13,608] Trial 13 finished with value: 0.20833333333333334 and parameters: {'k': 35}. Best is trial 8 with value: 0.9583333333333333.\n",
      "[I 2025-02-25 17:07:13,613] Trial 14 finished with value: 0.9375 and parameters: {'k': 19}. Best is trial 8 with value: 0.9583333333333333.\n",
      "[I 2025-02-25 17:07:13,619] Trial 15 finished with value: 0.5 and parameters: {'k': 8}. Best is trial 8 with value: 0.9583333333333333.\n",
      "[I 2025-02-25 17:07:13,624] Trial 16 finished with value: 0.8125 and parameters: {'k': 15}. Best is trial 8 with value: 0.9583333333333333.\n",
      "[I 2025-02-25 17:07:13,630] Trial 17 finished with value: 0.25 and parameters: {'k': 46}. Best is trial 8 with value: 0.9583333333333333.\n",
      "[I 2025-02-25 17:07:13,636] Trial 18 finished with value: 0.25 and parameters: {'k': 49}. Best is trial 8 with value: 0.9583333333333333.\n",
      "[I 2025-02-25 17:07:13,642] Trial 19 finished with value: 0.5833333333333334 and parameters: {'k': 30}. Best is trial 8 with value: 0.9583333333333333.\n",
      "[I 2025-02-25 17:07:13,647] Trial 20 finished with value: 0.9166666666666667 and parameters: {'k': 16}. Best is trial 8 with value: 0.9583333333333333.\n",
      "[I 2025-02-25 17:07:13,654] Trial 21 finished with value: 0.5 and parameters: {'k': 31}. Best is trial 8 with value: 0.9583333333333333.\n",
      "[I 2025-02-25 17:07:13,660] Trial 22 finished with value: 0.3333333333333333 and parameters: {'k': 33}. Best is trial 8 with value: 0.9583333333333333.\n",
      "[I 2025-02-25 17:07:13,666] Trial 23 finished with value: 0.9166666666666667 and parameters: {'k': 17}. Best is trial 8 with value: 0.9583333333333333.\n",
      "[I 2025-02-25 17:07:13,673] Trial 24 finished with value: 0.2916666666666667 and parameters: {'k': 43}. Best is trial 8 with value: 0.9583333333333333.\n",
      "[I 2025-02-25 17:07:13,679] Trial 25 finished with value: 1.0 and parameters: {'k': 21}. Best is trial 25 with value: 1.0.\n",
      "[I 2025-02-25 17:07:13,686] Trial 26 finished with value: 0.2916666666666667 and parameters: {'k': 44}. Best is trial 25 with value: 1.0.\n",
      "[I 2025-02-25 17:07:13,693] Trial 27 finished with value: 0.4166666666666667 and parameters: {'k': 9}. Best is trial 25 with value: 1.0.\n",
      "[I 2025-02-25 17:07:13,700] Trial 28 finished with value: 0.8125 and parameters: {'k': 14}. Best is trial 25 with value: 1.0.\n",
      "[I 2025-02-25 17:07:13,707] Trial 29 finished with value: 0.75 and parameters: {'k': 26}. Best is trial 25 with value: 1.0.\n",
      "[I 2025-02-25 17:07:13,714] Trial 30 finished with value: 0.4166666666666667 and parameters: {'k': 6}. Best is trial 25 with value: 1.0.\n",
      "[I 2025-02-25 17:07:13,722] Trial 31 finished with value: 0.9583333333333334 and parameters: {'k': 18}. Best is trial 25 with value: 1.0.\n",
      "[I 2025-02-25 17:07:13,729] Trial 32 finished with value: 0.5833333333333334 and parameters: {'k': 41}. Best is trial 25 with value: 1.0.\n",
      "[I 2025-02-25 17:07:13,737] Trial 33 finished with value: 0.25 and parameters: {'k': 50}. Best is trial 25 with value: 1.0.\n",
      "[I 2025-02-25 17:07:13,745] Trial 34 finished with value: 0.375 and parameters: {'k': 2}. Best is trial 25 with value: 1.0.\n",
      "[I 2025-02-25 17:07:13,753] Trial 35 finished with value: 0.8333333333333333 and parameters: {'k': 13}. Best is trial 25 with value: 1.0.\n",
      "[I 2025-02-25 17:07:13,761] Trial 36 finished with value: 0.39583333333333337 and parameters: {'k': 38}. Best is trial 25 with value: 1.0.\n",
      "[I 2025-02-25 17:07:13,769] Trial 37 finished with value: 0.7916666666666667 and parameters: {'k': 25}. Best is trial 25 with value: 1.0.\n",
      "[I 2025-02-25 17:07:13,778] Trial 38 finished with value: 0.33333333333333337 and parameters: {'k': 7}. Best is trial 25 with value: 1.0.\n",
      "[I 2025-02-25 17:07:13,786] Trial 39 finished with value: 0.9166666666666667 and parameters: {'k': 24}. Best is trial 25 with value: 1.0.\n",
      "[I 2025-02-25 17:07:13,795] Trial 40 finished with value: 0.39583333333333337 and parameters: {'k': 37}. Best is trial 25 with value: 1.0.\n",
      "[I 2025-02-25 17:07:13,804] Trial 41 finished with value: 1.0 and parameters: {'k': 22}. Best is trial 25 with value: 1.0.\n",
      "[I 2025-02-25 17:07:13,813] Trial 42 finished with value: 0.9375 and parameters: {'k': 20}. Best is trial 25 with value: 1.0.\n",
      "[I 2025-02-25 17:07:13,822] Trial 43 finished with value: 0.6458333333333334 and parameters: {'k': 10}. Best is trial 25 with value: 1.0.\n",
      "[I 2025-02-25 17:07:13,831] Trial 44 finished with value: 0.39583333333333337 and parameters: {'k': 40}. Best is trial 25 with value: 1.0.\n",
      "[I 2025-02-25 17:07:13,840] Trial 45 finished with value: 0.25 and parameters: {'k': 47}. Best is trial 25 with value: 1.0.\n",
      "[I 2025-02-25 17:07:13,850] Trial 46 finished with value: 0.25 and parameters: {'k': 4}. Best is trial 25 with value: 1.0.\n",
      "[I 2025-02-25 17:07:13,860] Trial 47 finished with value: 0.4583333333333333 and parameters: {'k': 1}. Best is trial 25 with value: 1.0.\n",
      "[I 2025-02-25 17:07:13,870] Trial 48 finished with value: 0.25 and parameters: {'k': 48}. Best is trial 25 with value: 1.0.\n",
      "[I 2025-02-25 17:07:13,880] Trial 49 finished with value: 0.25 and parameters: {'k': 45}. Best is trial 25 with value: 1.0.\n",
      "[I 2025-02-25 17:07:13,899] A new study created in memory with name: no-name-882d24db-f8fb-4362-847e-b1df8a0c6552\n",
      "[I 2025-02-25 17:07:13,903] Trial 0 finished with value: 0.6666666666666667 and parameters: {'k': 29}. Best is trial 0 with value: 0.6666666666666667.\n",
      "[I 2025-02-25 17:07:13,906] Trial 1 finished with value: 0.8333333333333334 and parameters: {'k': 12}. Best is trial 1 with value: 0.8333333333333334.\n",
      "[I 2025-02-25 17:07:13,910] Trial 2 finished with value: 0.8333333333333334 and parameters: {'k': 11}. Best is trial 1 with value: 0.8333333333333334.\n",
      "[I 2025-02-25 17:07:13,913] Trial 3 finished with value: 0.6875 and parameters: {'k': 42}. Best is trial 1 with value: 0.8333333333333334.\n",
      "[I 2025-02-25 17:07:13,917] Trial 4 finished with value: 0.4166666666666667 and parameters: {'k': 3}. Best is trial 1 with value: 0.8333333333333334.\n",
      "[I 2025-02-25 17:07:13,921] Trial 5 finished with value: 0.6666666666666667 and parameters: {'k': 28}. Best is trial 1 with value: 0.8333333333333334.\n",
      "[I 2025-02-25 17:07:13,925] Trial 6 finished with value: 0.7291666666666667 and parameters: {'k': 39}. Best is trial 1 with value: 0.8333333333333334.\n",
      "[I 2025-02-25 17:07:13,929] Trial 7 finished with value: 0.6666666666666667 and parameters: {'k': 32}. Best is trial 1 with value: 0.8333333333333334.\n",
      "[I 2025-02-25 17:07:13,934] Trial 8 finished with value: 0.75 and parameters: {'k': 23}. Best is trial 1 with value: 0.8333333333333334.\n",
      "[I 2025-02-25 17:07:13,938] Trial 9 finished with value: 0.6041666666666666 and parameters: {'k': 5}. Best is trial 1 with value: 0.8333333333333334.\n",
      "[I 2025-02-25 17:07:13,943] Trial 10 finished with value: 0.6875 and parameters: {'k': 34}. Best is trial 1 with value: 0.8333333333333334.\n",
      "[I 2025-02-25 17:07:13,948] Trial 11 finished with value: 0.6666666666666667 and parameters: {'k': 36}. Best is trial 1 with value: 0.8333333333333334.\n",
      "[I 2025-02-25 17:07:13,952] Trial 12 finished with value: 0.7083333333333333 and parameters: {'k': 27}. Best is trial 1 with value: 0.8333333333333334.\n",
      "[I 2025-02-25 17:07:13,958] Trial 13 finished with value: 0.6666666666666667 and parameters: {'k': 35}. Best is trial 1 with value: 0.8333333333333334.\n",
      "[I 2025-02-25 17:07:13,963] Trial 14 finished with value: 0.7083333333333333 and parameters: {'k': 19}. Best is trial 1 with value: 0.8333333333333334.\n",
      "[I 2025-02-25 17:07:13,968] Trial 15 finished with value: 0.8958333333333333 and parameters: {'k': 8}. Best is trial 15 with value: 0.8958333333333333.\n",
      "[I 2025-02-25 17:07:13,973] Trial 16 finished with value: 0.8125 and parameters: {'k': 15}. Best is trial 15 with value: 0.8958333333333333.\n",
      "[I 2025-02-25 17:07:13,979] Trial 17 finished with value: 0.6875 and parameters: {'k': 46}. Best is trial 15 with value: 0.8958333333333333.\n",
      "[I 2025-02-25 17:07:13,984] Trial 18 finished with value: 0.7916666666666667 and parameters: {'k': 49}. Best is trial 15 with value: 0.8958333333333333.\n",
      "[I 2025-02-25 17:07:13,990] Trial 19 finished with value: 0.6666666666666667 and parameters: {'k': 30}. Best is trial 15 with value: 0.8958333333333333.\n",
      "[I 2025-02-25 17:07:13,996] Trial 20 finished with value: 0.7708333333333333 and parameters: {'k': 16}. Best is trial 15 with value: 0.8958333333333333.\n",
      "[I 2025-02-25 17:07:14,002] Trial 21 finished with value: 0.6666666666666667 and parameters: {'k': 31}. Best is trial 15 with value: 0.8958333333333333.\n",
      "[I 2025-02-25 17:07:14,009] Trial 22 finished with value: 0.6875 and parameters: {'k': 33}. Best is trial 15 with value: 0.8958333333333333.\n",
      "[I 2025-02-25 17:07:14,015] Trial 23 finished with value: 0.7708333333333333 and parameters: {'k': 17}. Best is trial 15 with value: 0.8958333333333333.\n",
      "[I 2025-02-25 17:07:14,022] Trial 24 finished with value: 0.6875 and parameters: {'k': 43}. Best is trial 15 with value: 0.8958333333333333.\n",
      "[I 2025-02-25 17:07:14,028] Trial 25 finished with value: 0.6666666666666667 and parameters: {'k': 21}. Best is trial 15 with value: 0.8958333333333333.\n",
      "[I 2025-02-25 17:07:14,035] Trial 26 finished with value: 0.6875 and parameters: {'k': 44}. Best is trial 15 with value: 0.8958333333333333.\n",
      "[I 2025-02-25 17:07:14,042] Trial 27 finished with value: 0.875 and parameters: {'k': 9}. Best is trial 15 with value: 0.8958333333333333.\n",
      "[I 2025-02-25 17:07:14,049] Trial 28 finished with value: 0.8541666666666667 and parameters: {'k': 14}. Best is trial 15 with value: 0.8958333333333333.\n",
      "[I 2025-02-25 17:07:14,056] Trial 29 finished with value: 0.7291666666666667 and parameters: {'k': 26}. Best is trial 15 with value: 0.8958333333333333.\n",
      "[I 2025-02-25 17:07:14,063] Trial 30 finished with value: 0.7916666666666666 and parameters: {'k': 6}. Best is trial 15 with value: 0.8958333333333333.\n",
      "[I 2025-02-25 17:07:14,071] Trial 31 finished with value: 0.7291666666666667 and parameters: {'k': 18}. Best is trial 15 with value: 0.8958333333333333.\n",
      "[I 2025-02-25 17:07:14,078] Trial 32 finished with value: 0.6875 and parameters: {'k': 41}. Best is trial 15 with value: 0.8958333333333333.\n",
      "[I 2025-02-25 17:07:14,088] Trial 33 finished with value: 0.75 and parameters: {'k': 50}. Best is trial 15 with value: 0.8958333333333333.\n"
     ]
    },
    {
     "name": "stdout",
     "output_type": "stream",
     "text": [
      "Model: PyramidExtractorNoVar\n",
      "134\n"
     ]
    },
    {
     "name": "stderr",
     "output_type": "stream",
     "text": [
      "[I 2025-02-25 17:07:14,096] Trial 34 finished with value: 0.4166666666666667 and parameters: {'k': 2}. Best is trial 15 with value: 0.8958333333333333.\n",
      "[I 2025-02-25 17:07:14,104] Trial 35 finished with value: 0.7916666666666666 and parameters: {'k': 13}. Best is trial 15 with value: 0.8958333333333333.\n",
      "[I 2025-02-25 17:07:14,112] Trial 36 finished with value: 0.7291666666666667 and parameters: {'k': 38}. Best is trial 15 with value: 0.8958333333333333.\n",
      "[I 2025-02-25 17:07:14,120] Trial 37 finished with value: 0.7291666666666667 and parameters: {'k': 25}. Best is trial 15 with value: 0.8958333333333333.\n",
      "[I 2025-02-25 17:07:14,129] Trial 38 finished with value: 0.8958333333333333 and parameters: {'k': 7}. Best is trial 15 with value: 0.8958333333333333.\n",
      "[I 2025-02-25 17:07:14,137] Trial 39 finished with value: 0.7291666666666667 and parameters: {'k': 24}. Best is trial 15 with value: 0.8958333333333333.\n",
      "[I 2025-02-25 17:07:14,146] Trial 40 finished with value: 0.625 and parameters: {'k': 37}. Best is trial 15 with value: 0.8958333333333333.\n",
      "[I 2025-02-25 17:07:14,155] Trial 41 finished with value: 0.7291666666666667 and parameters: {'k': 22}. Best is trial 15 with value: 0.8958333333333333.\n",
      "[I 2025-02-25 17:07:14,164] Trial 42 finished with value: 0.7083333333333333 and parameters: {'k': 20}. Best is trial 15 with value: 0.8958333333333333.\n",
      "[I 2025-02-25 17:07:14,173] Trial 43 finished with value: 0.8125 and parameters: {'k': 10}. Best is trial 15 with value: 0.8958333333333333.\n",
      "[I 2025-02-25 17:07:14,182] Trial 44 finished with value: 0.7083333333333333 and parameters: {'k': 40}. Best is trial 15 with value: 0.8958333333333333.\n",
      "[I 2025-02-25 17:07:14,192] Trial 45 finished with value: 0.7916666666666667 and parameters: {'k': 47}. Best is trial 15 with value: 0.8958333333333333.\n",
      "[I 2025-02-25 17:07:14,202] Trial 46 finished with value: 0.5416666666666666 and parameters: {'k': 4}. Best is trial 15 with value: 0.8958333333333333.\n",
      "[I 2025-02-25 17:07:14,211] Trial 47 finished with value: 0.5 and parameters: {'k': 1}. Best is trial 15 with value: 0.8958333333333333.\n",
      "[I 2025-02-25 17:07:14,221] Trial 48 finished with value: 0.7916666666666667 and parameters: {'k': 48}. Best is trial 15 with value: 0.8958333333333333.\n",
      "[I 2025-02-25 17:07:14,231] Trial 49 finished with value: 0.6875 and parameters: {'k': 45}. Best is trial 15 with value: 0.8958333333333333.\n",
      "[I 2025-02-25 17:07:14,237] A new study created in memory with name: no-name-8202618f-a176-4ba9-9e5f-9e24ee38ff5f\n",
      "[I 2025-02-25 17:07:14,240] Trial 0 finished with value: 0.5 and parameters: {'k': 29}. Best is trial 0 with value: 0.5.\n",
      "[I 2025-02-25 17:07:14,244] Trial 1 finished with value: 0.625 and parameters: {'k': 12}. Best is trial 1 with value: 0.625.\n",
      "[I 2025-02-25 17:07:14,247] Trial 2 finished with value: 0.625 and parameters: {'k': 11}. Best is trial 1 with value: 0.625.\n",
      "[I 2025-02-25 17:07:14,251] Trial 3 finished with value: 0.6666666666666667 and parameters: {'k': 42}. Best is trial 3 with value: 0.6666666666666667.\n",
      "[I 2025-02-25 17:07:14,255] Trial 4 finished with value: 0.7083333333333333 and parameters: {'k': 3}. Best is trial 4 with value: 0.7083333333333333.\n",
      "[I 2025-02-25 17:07:14,259] Trial 5 finished with value: 0.5208333333333334 and parameters: {'k': 28}. Best is trial 4 with value: 0.7083333333333333.\n",
      "[I 2025-02-25 17:07:14,263] Trial 6 finished with value: 0.5833333333333333 and parameters: {'k': 39}. Best is trial 4 with value: 0.7083333333333333.\n",
      "[I 2025-02-25 17:07:14,267] Trial 7 finished with value: 0.5208333333333334 and parameters: {'k': 32}. Best is trial 4 with value: 0.7083333333333333.\n",
      "[I 2025-02-25 17:07:14,271] Trial 8 finished with value: 0.6041666666666666 and parameters: {'k': 23}. Best is trial 4 with value: 0.7083333333333333.\n",
      "[I 2025-02-25 17:07:14,276] Trial 9 finished with value: 0.6875 and parameters: {'k': 5}. Best is trial 4 with value: 0.7083333333333333.\n",
      "[I 2025-02-25 17:07:14,281] Trial 10 finished with value: 0.5625 and parameters: {'k': 34}. Best is trial 4 with value: 0.7083333333333333.\n",
      "[I 2025-02-25 17:07:14,286] Trial 11 finished with value: 0.7083333333333333 and parameters: {'k': 36}. Best is trial 4 with value: 0.7083333333333333.\n",
      "[I 2025-02-25 17:07:14,290] Trial 12 finished with value: 0.5208333333333334 and parameters: {'k': 27}. Best is trial 4 with value: 0.7083333333333333.\n",
      "[I 2025-02-25 17:07:14,296] Trial 13 finished with value: 0.7083333333333333 and parameters: {'k': 35}. Best is trial 4 with value: 0.7083333333333333.\n",
      "[I 2025-02-25 17:07:14,301] Trial 14 finished with value: 0.625 and parameters: {'k': 19}. Best is trial 4 with value: 0.7083333333333333.\n",
      "[I 2025-02-25 17:07:14,306] Trial 15 finished with value: 0.625 and parameters: {'k': 8}. Best is trial 4 with value: 0.7083333333333333.\n",
      "[I 2025-02-25 17:07:14,312] Trial 16 finished with value: 0.6041666666666666 and parameters: {'k': 15}. Best is trial 4 with value: 0.7083333333333333.\n",
      "[I 2025-02-25 17:07:14,317] Trial 17 finished with value: 0.7083333333333333 and parameters: {'k': 46}. Best is trial 4 with value: 0.7083333333333333.\n",
      "[I 2025-02-25 17:07:14,323] Trial 18 finished with value: 0.7916666666666667 and parameters: {'k': 49}. Best is trial 18 with value: 0.7916666666666667.\n",
      "[I 2025-02-25 17:07:14,329] Trial 19 finished with value: 0.4583333333333333 and parameters: {'k': 30}. Best is trial 18 with value: 0.7916666666666667.\n",
      "[I 2025-02-25 17:07:14,335] Trial 20 finished with value: 0.6041666666666666 and parameters: {'k': 16}. Best is trial 18 with value: 0.7916666666666667.\n",
      "[I 2025-02-25 17:07:14,341] Trial 21 finished with value: 0.5208333333333334 and parameters: {'k': 31}. Best is trial 18 with value: 0.7916666666666667.\n",
      "[I 2025-02-25 17:07:14,347] Trial 22 finished with value: 0.49999999999999994 and parameters: {'k': 33}. Best is trial 18 with value: 0.7916666666666667.\n",
      "[I 2025-02-25 17:07:14,354] Trial 23 finished with value: 0.5833333333333334 and parameters: {'k': 17}. Best is trial 18 with value: 0.7916666666666667.\n",
      "[I 2025-02-25 17:07:14,360] Trial 24 finished with value: 0.7916666666666667 and parameters: {'k': 43}. Best is trial 18 with value: 0.7916666666666667.\n",
      "[I 2025-02-25 17:07:14,367] Trial 25 finished with value: 0.625 and parameters: {'k': 21}. Best is trial 18 with value: 0.7916666666666667.\n",
      "[I 2025-02-25 17:07:14,374] Trial 26 finished with value: 0.7916666666666667 and parameters: {'k': 44}. Best is trial 18 with value: 0.7916666666666667.\n",
      "[I 2025-02-25 17:07:14,381] Trial 27 finished with value: 0.625 and parameters: {'k': 9}. Best is trial 18 with value: 0.7916666666666667.\n",
      "[I 2025-02-25 17:07:14,391] Trial 28 finished with value: 0.625 and parameters: {'k': 14}. Best is trial 18 with value: 0.7916666666666667.\n",
      "[I 2025-02-25 17:07:14,398] Trial 29 finished with value: 0.5208333333333334 and parameters: {'k': 26}. Best is trial 18 with value: 0.7916666666666667.\n",
      "[I 2025-02-25 17:07:14,405] Trial 30 finished with value: 0.6666666666666666 and parameters: {'k': 6}. Best is trial 18 with value: 0.7916666666666667.\n",
      "[I 2025-02-25 17:07:14,413] Trial 31 finished with value: 0.625 and parameters: {'k': 18}. Best is trial 18 with value: 0.7916666666666667.\n",
      "[I 2025-02-25 17:07:14,420] Trial 32 finished with value: 0.6875 and parameters: {'k': 41}. Best is trial 18 with value: 0.7916666666666667.\n",
      "[I 2025-02-25 17:07:14,428] Trial 33 finished with value: 0.7083333333333334 and parameters: {'k': 50}. Best is trial 18 with value: 0.7916666666666667.\n",
      "[I 2025-02-25 17:07:14,436] Trial 34 finished with value: 0.7083333333333333 and parameters: {'k': 2}. Best is trial 18 with value: 0.7916666666666667.\n",
      "[I 2025-02-25 17:07:14,444] Trial 35 finished with value: 0.625 and parameters: {'k': 13}. Best is trial 18 with value: 0.7916666666666667.\n",
      "[I 2025-02-25 17:07:14,452] Trial 36 finished with value: 0.6458333333333333 and parameters: {'k': 38}. Best is trial 18 with value: 0.7916666666666667.\n",
      "[I 2025-02-25 17:07:14,460] Trial 37 finished with value: 0.5833333333333333 and parameters: {'k': 25}. Best is trial 18 with value: 0.7916666666666667.\n",
      "[I 2025-02-25 17:07:14,468] Trial 38 finished with value: 0.6458333333333334 and parameters: {'k': 7}. Best is trial 18 with value: 0.7916666666666667.\n",
      "[I 2025-02-25 17:07:14,476] Trial 39 finished with value: 0.6041666666666666 and parameters: {'k': 24}. Best is trial 18 with value: 0.7916666666666667.\n",
      "[I 2025-02-25 17:07:14,485] Trial 40 finished with value: 0.6458333333333333 and parameters: {'k': 37}. Best is trial 18 with value: 0.7916666666666667.\n",
      "[I 2025-02-25 17:07:14,494] Trial 41 finished with value: 0.625 and parameters: {'k': 22}. Best is trial 18 with value: 0.7916666666666667.\n",
      "[I 2025-02-25 17:07:14,503] Trial 42 finished with value: 0.6041666666666666 and parameters: {'k': 20}. Best is trial 18 with value: 0.7916666666666667.\n",
      "[I 2025-02-25 17:07:14,511] Trial 43 finished with value: 0.625 and parameters: {'k': 10}. Best is trial 18 with value: 0.7916666666666667.\n",
      "[I 2025-02-25 17:07:14,521] Trial 44 finished with value: 0.6875 and parameters: {'k': 40}. Best is trial 18 with value: 0.7916666666666667.\n",
      "[I 2025-02-25 17:07:14,530] Trial 45 finished with value: 0.8125 and parameters: {'k': 47}. Best is trial 45 with value: 0.8125.\n",
      "[I 2025-02-25 17:07:14,540] Trial 46 finished with value: 0.6875 and parameters: {'k': 4}. Best is trial 45 with value: 0.8125.\n",
      "[I 2025-02-25 17:07:14,549] Trial 47 finished with value: 0.4583333333333333 and parameters: {'k': 1}. Best is trial 45 with value: 0.8125.\n",
      "[I 2025-02-25 17:07:14,559] Trial 48 finished with value: 0.8125 and parameters: {'k': 48}. Best is trial 45 with value: 0.8125.\n",
      "[I 2025-02-25 17:07:14,569] Trial 49 finished with value: 0.7708333333333334 and parameters: {'k': 45}. Best is trial 45 with value: 0.8125.\n",
      "[I 2025-02-25 17:07:14,574] A new study created in memory with name: no-name-578d0fe6-816b-468a-a7d9-6f20e28bbf6d\n",
      "[I 2025-02-25 17:07:14,578] Trial 0 finished with value: 0.75 and parameters: {'k': 29}. Best is trial 0 with value: 0.75.\n",
      "[I 2025-02-25 17:07:14,581] Trial 1 finished with value: 0.6875 and parameters: {'k': 12}. Best is trial 0 with value: 0.75.\n",
      "[I 2025-02-25 17:07:14,584] Trial 2 finished with value: 0.7083333333333333 and parameters: {'k': 11}. Best is trial 0 with value: 0.75.\n",
      "[I 2025-02-25 17:07:14,588] Trial 3 finished with value: 0.6666666666666667 and parameters: {'k': 42}. Best is trial 0 with value: 0.75.\n",
      "[I 2025-02-25 17:07:14,592] Trial 4 finished with value: 0.5416666666666667 and parameters: {'k': 3}. Best is trial 0 with value: 0.75.\n",
      "[I 2025-02-25 17:07:14,596] Trial 5 finished with value: 0.8125 and parameters: {'k': 28}. Best is trial 5 with value: 0.8125.\n",
      "[I 2025-02-25 17:07:14,600] Trial 6 finished with value: 0.7708333333333334 and parameters: {'k': 39}. Best is trial 5 with value: 0.8125.\n",
      "[I 2025-02-25 17:07:14,604] Trial 7 finished with value: 0.6875 and parameters: {'k': 32}. Best is trial 5 with value: 0.8125.\n",
      "[I 2025-02-25 17:07:14,608] Trial 8 finished with value: 0.75 and parameters: {'k': 23}. Best is trial 5 with value: 0.8125.\n",
      "[I 2025-02-25 17:07:14,613] Trial 9 finished with value: 0.8333333333333333 and parameters: {'k': 5}. Best is trial 9 with value: 0.8333333333333333.\n",
      "[I 2025-02-25 17:07:14,617] Trial 10 finished with value: 0.75 and parameters: {'k': 34}. Best is trial 9 with value: 0.8333333333333333.\n",
      "[I 2025-02-25 17:07:14,622] Trial 11 finished with value: 0.75 and parameters: {'k': 36}. Best is trial 9 with value: 0.8333333333333333.\n",
      "[I 2025-02-25 17:07:14,627] Trial 12 finished with value: 0.7083333333333334 and parameters: {'k': 27}. Best is trial 9 with value: 0.8333333333333333.\n",
      "[I 2025-02-25 17:07:14,632] Trial 13 finished with value: 0.75 and parameters: {'k': 35}. Best is trial 9 with value: 0.8333333333333333.\n",
      "[I 2025-02-25 17:07:14,637] Trial 14 finished with value: 0.7083333333333333 and parameters: {'k': 19}. Best is trial 9 with value: 0.8333333333333333.\n",
      "[I 2025-02-25 17:07:14,642] Trial 15 finished with value: 0.7708333333333334 and parameters: {'k': 8}. Best is trial 9 with value: 0.8333333333333333.\n",
      "[I 2025-02-25 17:07:14,647] Trial 16 finished with value: 0.7916666666666667 and parameters: {'k': 15}. Best is trial 9 with value: 0.8333333333333333.\n",
      "[I 2025-02-25 17:07:14,653] Trial 17 finished with value: 0.7916666666666667 and parameters: {'k': 46}. Best is trial 9 with value: 0.8333333333333333.\n",
      "[I 2025-02-25 17:07:14,659] Trial 18 finished with value: 0.7291666666666667 and parameters: {'k': 49}. Best is trial 9 with value: 0.8333333333333333.\n",
      "[I 2025-02-25 17:07:14,664] Trial 19 finished with value: 0.75 and parameters: {'k': 30}. Best is trial 9 with value: 0.8333333333333333.\n",
      "[I 2025-02-25 17:07:14,670] Trial 20 finished with value: 0.7916666666666667 and parameters: {'k': 16}. Best is trial 9 with value: 0.8333333333333333.\n",
      "[I 2025-02-25 17:07:14,676] Trial 21 finished with value: 0.6875 and parameters: {'k': 31}. Best is trial 9 with value: 0.8333333333333333.\n",
      "[I 2025-02-25 17:07:14,683] Trial 22 finished with value: 0.6666666666666667 and parameters: {'k': 33}. Best is trial 9 with value: 0.8333333333333333.\n",
      "[I 2025-02-25 17:07:14,689] Trial 23 finished with value: 0.7916666666666667 and parameters: {'k': 17}. Best is trial 9 with value: 0.8333333333333333.\n",
      "[I 2025-02-25 17:07:14,695] Trial 24 finished with value: 0.625 and parameters: {'k': 43}. Best is trial 9 with value: 0.8333333333333333.\n",
      "[I 2025-02-25 17:07:14,702] Trial 25 finished with value: 0.7916666666666666 and parameters: {'k': 21}. Best is trial 9 with value: 0.8333333333333333.\n",
      "[I 2025-02-25 17:07:14,709] Trial 26 finished with value: 0.625 and parameters: {'k': 44}. Best is trial 9 with value: 0.8333333333333333.\n",
      "[I 2025-02-25 17:07:14,715] Trial 27 finished with value: 0.75 and parameters: {'k': 9}. Best is trial 9 with value: 0.8333333333333333.\n",
      "[I 2025-02-25 17:07:14,722] Trial 28 finished with value: 0.8125 and parameters: {'k': 14}. Best is trial 9 with value: 0.8333333333333333.\n",
      "[I 2025-02-25 17:07:14,729] Trial 29 finished with value: 0.8333333333333333 and parameters: {'k': 26}. Best is trial 9 with value: 0.8333333333333333.\n",
      "[I 2025-02-25 17:07:14,737] Trial 30 finished with value: 0.8333333333333333 and parameters: {'k': 6}. Best is trial 9 with value: 0.8333333333333333.\n",
      "[I 2025-02-25 17:07:14,744] Trial 31 finished with value: 0.75 and parameters: {'k': 18}. Best is trial 9 with value: 0.8333333333333333.\n",
      "[I 2025-02-25 17:07:14,752] Trial 32 finished with value: 0.7083333333333334 and parameters: {'k': 41}. Best is trial 9 with value: 0.8333333333333333.\n",
      "[I 2025-02-25 17:07:14,759] Trial 33 finished with value: 0.7291666666666667 and parameters: {'k': 50}. Best is trial 9 with value: 0.8333333333333333.\n",
      "[I 2025-02-25 17:07:14,767] Trial 34 finished with value: 0.5416666666666667 and parameters: {'k': 2}. Best is trial 9 with value: 0.8333333333333333.\n",
      "[I 2025-02-25 17:07:14,775] Trial 35 finished with value: 0.6458333333333334 and parameters: {'k': 13}. Best is trial 9 with value: 0.8333333333333333.\n",
      "[I 2025-02-25 17:07:14,783] Trial 36 finished with value: 0.7083333333333334 and parameters: {'k': 38}. Best is trial 9 with value: 0.8333333333333333.\n",
      "[I 2025-02-25 17:07:14,791] Trial 37 finished with value: 0.7083333333333333 and parameters: {'k': 25}. Best is trial 9 with value: 0.8333333333333333.\n",
      "[I 2025-02-25 17:07:14,799] Trial 38 finished with value: 0.7708333333333334 and parameters: {'k': 7}. Best is trial 9 with value: 0.8333333333333333.\n",
      "[I 2025-02-25 17:07:14,808] Trial 39 finished with value: 0.6666666666666667 and parameters: {'k': 24}. Best is trial 9 with value: 0.8333333333333333.\n",
      "[I 2025-02-25 17:07:14,816] Trial 40 finished with value: 0.7708333333333334 and parameters: {'k': 37}. Best is trial 9 with value: 0.8333333333333333.\n",
      "[I 2025-02-25 17:07:14,825] Trial 41 finished with value: 0.7916666666666666 and parameters: {'k': 22}. Best is trial 9 with value: 0.8333333333333333.\n",
      "[I 2025-02-25 17:07:14,834] Trial 42 finished with value: 0.6666666666666666 and parameters: {'k': 20}. Best is trial 9 with value: 0.8333333333333333.\n",
      "[I 2025-02-25 17:07:14,843] Trial 43 finished with value: 0.7291666666666666 and parameters: {'k': 10}. Best is trial 9 with value: 0.8333333333333333.\n",
      "[I 2025-02-25 17:07:14,852] Trial 44 finished with value: 0.7291666666666667 and parameters: {'k': 40}. Best is trial 9 with value: 0.8333333333333333.\n",
      "[I 2025-02-25 17:07:14,862] Trial 45 finished with value: 0.7708333333333334 and parameters: {'k': 47}. Best is trial 9 with value: 0.8333333333333333.\n",
      "[I 2025-02-25 17:07:14,871] Trial 46 finished with value: 0.8541666666666667 and parameters: {'k': 4}. Best is trial 46 with value: 0.8541666666666667.\n",
      "[I 2025-02-25 17:07:14,881] Trial 47 finished with value: 0.625 and parameters: {'k': 1}. Best is trial 46 with value: 0.8541666666666667.\n",
      "[I 2025-02-25 17:07:14,891] Trial 48 finished with value: 0.7708333333333334 and parameters: {'k': 48}. Best is trial 46 with value: 0.8541666666666667.\n",
      "[I 2025-02-25 17:07:14,900] Trial 49 finished with value: 0.7916666666666667 and parameters: {'k': 45}. Best is trial 46 with value: 0.8541666666666667.\n",
      "[I 2025-02-25 17:07:14,905] A new study created in memory with name: no-name-2925cd43-ddd5-44ff-bb5c-28819e61ca05\n",
      "[I 2025-02-25 17:07:14,908] Trial 0 finished with value: 0.7708333333333334 and parameters: {'k': 29}. Best is trial 0 with value: 0.7708333333333334.\n",
      "[I 2025-02-25 17:07:14,912] Trial 1 finished with value: 0.375 and parameters: {'k': 12}. Best is trial 0 with value: 0.7708333333333334.\n",
      "[I 2025-02-25 17:07:14,915] Trial 2 finished with value: 0.375 and parameters: {'k': 11}. Best is trial 0 with value: 0.7708333333333334.\n",
      "[I 2025-02-25 17:07:14,919] Trial 3 finished with value: 0.75 and parameters: {'k': 42}. Best is trial 0 with value: 0.7708333333333334.\n",
      "[I 2025-02-25 17:07:14,923] Trial 4 finished with value: 0.4166666666666667 and parameters: {'k': 3}. Best is trial 0 with value: 0.7708333333333334.\n",
      "[I 2025-02-25 17:07:14,927] Trial 5 finished with value: 0.75 and parameters: {'k': 28}. Best is trial 0 with value: 0.7708333333333334.\n",
      "[I 2025-02-25 17:07:14,931] Trial 6 finished with value: 0.7916666666666667 and parameters: {'k': 39}. Best is trial 6 with value: 0.7916666666666667.\n",
      "[I 2025-02-25 17:07:14,935] Trial 7 finished with value: 0.7916666666666667 and parameters: {'k': 32}. Best is trial 6 with value: 0.7916666666666667.\n",
      "[I 2025-02-25 17:07:14,939] Trial 8 finished with value: 0.6458333333333333 and parameters: {'k': 23}. Best is trial 6 with value: 0.7916666666666667.\n",
      "[I 2025-02-25 17:07:14,943] Trial 9 finished with value: 0.2916666666666667 and parameters: {'k': 5}. Best is trial 6 with value: 0.7916666666666667.\n",
      "[I 2025-02-25 17:07:14,948] Trial 10 finished with value: 0.75 and parameters: {'k': 34}. Best is trial 6 with value: 0.7916666666666667.\n",
      "[I 2025-02-25 17:07:14,953] Trial 11 finished with value: 0.6666666666666667 and parameters: {'k': 36}. Best is trial 6 with value: 0.7916666666666667.\n",
      "[I 2025-02-25 17:07:14,958] Trial 12 finished with value: 0.75 and parameters: {'k': 27}. Best is trial 6 with value: 0.7916666666666667.\n",
      "[I 2025-02-25 17:07:14,963] Trial 13 finished with value: 0.6666666666666667 and parameters: {'k': 35}. Best is trial 6 with value: 0.7916666666666667.\n",
      "[I 2025-02-25 17:07:14,968] Trial 14 finished with value: 0.5625 and parameters: {'k': 19}. Best is trial 6 with value: 0.7916666666666667.\n",
      "[I 2025-02-25 17:07:14,973] Trial 15 finished with value: 0.25 and parameters: {'k': 8}. Best is trial 6 with value: 0.7916666666666667.\n",
      "[I 2025-02-25 17:07:14,978] Trial 16 finished with value: 0.5 and parameters: {'k': 15}. Best is trial 6 with value: 0.7916666666666667.\n",
      "[I 2025-02-25 17:07:14,984] Trial 17 finished with value: 0.6666666666666666 and parameters: {'k': 46}. Best is trial 6 with value: 0.7916666666666667.\n",
      "[I 2025-02-25 17:07:14,989] Trial 18 finished with value: 0.8333333333333333 and parameters: {'k': 49}. Best is trial 18 with value: 0.8333333333333333.\n",
      "[I 2025-02-25 17:07:14,995] Trial 19 finished with value: 0.7083333333333333 and parameters: {'k': 30}. Best is trial 18 with value: 0.8333333333333333.\n",
      "[I 2025-02-25 17:07:15,001] Trial 20 finished with value: 0.5 and parameters: {'k': 16}. Best is trial 18 with value: 0.8333333333333333.\n",
      "[I 2025-02-25 17:07:15,007] Trial 21 finished with value: 0.7916666666666667 and parameters: {'k': 31}. Best is trial 18 with value: 0.8333333333333333.\n",
      "[I 2025-02-25 17:07:15,014] Trial 22 finished with value: 0.7916666666666667 and parameters: {'k': 33}. Best is trial 18 with value: 0.8333333333333333.\n",
      "[I 2025-02-25 17:07:15,020] Trial 23 finished with value: 0.5416666666666666 and parameters: {'k': 17}. Best is trial 18 with value: 0.8333333333333333.\n",
      "[I 2025-02-25 17:07:15,026] Trial 24 finished with value: 0.7291666666666666 and parameters: {'k': 43}. Best is trial 18 with value: 0.8333333333333333.\n",
      "[I 2025-02-25 17:07:15,033] Trial 25 finished with value: 0.5416666666666667 and parameters: {'k': 21}. Best is trial 18 with value: 0.8333333333333333.\n",
      "[I 2025-02-25 17:07:15,043] Trial 26 finished with value: 0.7083333333333334 and parameters: {'k': 44}. Best is trial 18 with value: 0.8333333333333333.\n",
      "[I 2025-02-25 17:07:15,050] Trial 27 finished with value: 0.25 and parameters: {'k': 9}. Best is trial 18 with value: 0.8333333333333333.\n",
      "[I 2025-02-25 17:07:15,057] Trial 28 finished with value: 0.39583333333333337 and parameters: {'k': 14}. Best is trial 18 with value: 0.8333333333333333.\n",
      "[I 2025-02-25 17:07:15,064] Trial 29 finished with value: 0.7083333333333333 and parameters: {'k': 26}. Best is trial 18 with value: 0.8333333333333333.\n",
      "[I 2025-02-25 17:07:15,071] Trial 30 finished with value: 0.25 and parameters: {'k': 6}. Best is trial 18 with value: 0.8333333333333333.\n",
      "[I 2025-02-25 17:07:15,079] Trial 31 finished with value: 0.5833333333333333 and parameters: {'k': 18}. Best is trial 18 with value: 0.8333333333333333.\n",
      "[I 2025-02-25 17:07:15,086] Trial 32 finished with value: 0.7708333333333333 and parameters: {'k': 41}. Best is trial 18 with value: 0.8333333333333333.\n",
      "[I 2025-02-25 17:07:15,094] Trial 33 finished with value: 0.8125 and parameters: {'k': 50}. Best is trial 18 with value: 0.8333333333333333.\n",
      "[I 2025-02-25 17:07:15,102] Trial 34 finished with value: 0.4166666666666667 and parameters: {'k': 2}. Best is trial 18 with value: 0.8333333333333333.\n",
      "[I 2025-02-25 17:07:15,109] Trial 35 finished with value: 0.39583333333333337 and parameters: {'k': 13}. Best is trial 18 with value: 0.8333333333333333.\n",
      "[I 2025-02-25 17:07:15,117] Trial 36 finished with value: 0.7916666666666667 and parameters: {'k': 38}. Best is trial 18 with value: 0.8333333333333333.\n",
      "[I 2025-02-25 17:07:15,126] Trial 37 finished with value: 0.7083333333333333 and parameters: {'k': 25}. Best is trial 18 with value: 0.8333333333333333.\n",
      "[I 2025-02-25 17:07:15,134] Trial 38 finished with value: 0.25 and parameters: {'k': 7}. Best is trial 18 with value: 0.8333333333333333.\n",
      "[I 2025-02-25 17:07:15,142] Trial 39 finished with value: 0.6458333333333333 and parameters: {'k': 24}. Best is trial 18 with value: 0.8333333333333333.\n",
      "[I 2025-02-25 17:07:15,151] Trial 40 finished with value: 0.6666666666666667 and parameters: {'k': 37}. Best is trial 18 with value: 0.8333333333333333.\n",
      "[I 2025-02-25 17:07:15,160] Trial 41 finished with value: 0.5208333333333333 and parameters: {'k': 22}. Best is trial 18 with value: 0.8333333333333333.\n",
      "[I 2025-02-25 17:07:15,168] Trial 42 finished with value: 0.5625 and parameters: {'k': 20}. Best is trial 18 with value: 0.8333333333333333.\n",
      "[I 2025-02-25 17:07:15,177] Trial 43 finished with value: 0.25 and parameters: {'k': 10}. Best is trial 18 with value: 0.8333333333333333.\n",
      "[I 2025-02-25 17:07:15,187] Trial 44 finished with value: 0.7916666666666667 and parameters: {'k': 40}. Best is trial 18 with value: 0.8333333333333333.\n",
      "[I 2025-02-25 17:07:15,196] Trial 45 finished with value: 0.6458333333333333 and parameters: {'k': 47}. Best is trial 18 with value: 0.8333333333333333.\n",
      "[I 2025-02-25 17:07:15,205] Trial 46 finished with value: 0.375 and parameters: {'k': 4}. Best is trial 18 with value: 0.8333333333333333.\n",
      "[I 2025-02-25 17:07:15,215] Trial 47 finished with value: 0.4166666666666667 and parameters: {'k': 1}. Best is trial 18 with value: 0.8333333333333333.\n",
      "[I 2025-02-25 17:07:15,225] Trial 48 finished with value: 0.625 and parameters: {'k': 48}. Best is trial 18 with value: 0.8333333333333333.\n",
      "[I 2025-02-25 17:07:15,235] Trial 49 finished with value: 0.6875 and parameters: {'k': 45}. Best is trial 18 with value: 0.8333333333333333.\n",
      "[I 2025-02-25 17:07:15,240] A new study created in memory with name: no-name-07d91bf3-dc7c-40f1-835e-b9744f13f429\n",
      "[I 2025-02-25 17:07:15,243] Trial 0 finished with value: 0.20833333333333331 and parameters: {'k': 29}. Best is trial 0 with value: 0.20833333333333331.\n",
      "[I 2025-02-25 17:07:15,246] Trial 1 finished with value: 0.25 and parameters: {'k': 12}. Best is trial 1 with value: 0.25.\n",
      "[I 2025-02-25 17:07:15,250] Trial 2 finished with value: 0.33333333333333337 and parameters: {'k': 11}. Best is trial 2 with value: 0.33333333333333337.\n",
      "[I 2025-02-25 17:07:15,254] Trial 3 finished with value: 0.7916666666666667 and parameters: {'k': 42}. Best is trial 3 with value: 0.7916666666666667.\n",
      "[I 2025-02-25 17:07:15,257] Trial 4 finished with value: 0.625 and parameters: {'k': 3}. Best is trial 3 with value: 0.7916666666666667.\n",
      "[I 2025-02-25 17:07:15,261] Trial 5 finished with value: 0.20833333333333331 and parameters: {'k': 28}. Best is trial 3 with value: 0.7916666666666667.\n",
      "[I 2025-02-25 17:07:15,265] Trial 6 finished with value: 0.5 and parameters: {'k': 39}. Best is trial 3 with value: 0.7916666666666667.\n",
      "[I 2025-02-25 17:07:15,269] Trial 7 finished with value: 0.37499999999999994 and parameters: {'k': 32}. Best is trial 3 with value: 0.7916666666666667.\n",
      "[I 2025-02-25 17:07:15,273] Trial 8 finished with value: 0.20833333333333331 and parameters: {'k': 23}. Best is trial 3 with value: 0.7916666666666667.\n",
      "[I 2025-02-25 17:07:15,278] Trial 9 finished with value: 0.6666666666666666 and parameters: {'k': 5}. Best is trial 3 with value: 0.7916666666666667.\n",
      "[I 2025-02-25 17:07:15,282] Trial 10 finished with value: 0.20833333333333331 and parameters: {'k': 34}. Best is trial 3 with value: 0.7916666666666667.\n",
      "[I 2025-02-25 17:07:15,287] Trial 11 finished with value: 0.4583333333333333 and parameters: {'k': 36}. Best is trial 3 with value: 0.7916666666666667.\n",
      "[I 2025-02-25 17:07:15,292] Trial 12 finished with value: 0.20833333333333331 and parameters: {'k': 27}. Best is trial 3 with value: 0.7916666666666667.\n",
      "[I 2025-02-25 17:07:15,297] Trial 13 finished with value: 0.4166666666666667 and parameters: {'k': 35}. Best is trial 3 with value: 0.7916666666666667.\n",
      "[I 2025-02-25 17:07:15,302] Trial 14 finished with value: 0.1875 and parameters: {'k': 19}. Best is trial 3 with value: 0.7916666666666667.\n",
      "[I 2025-02-25 17:07:15,307] Trial 15 finished with value: 0.4583333333333333 and parameters: {'k': 8}. Best is trial 3 with value: 0.7916666666666667.\n",
      "[I 2025-02-25 17:07:15,312] Trial 16 finished with value: 0.08333333333333333 and parameters: {'k': 15}. Best is trial 3 with value: 0.7916666666666667.\n",
      "[I 2025-02-25 17:07:15,318] Trial 17 finished with value: 0.5833333333333334 and parameters: {'k': 46}. Best is trial 3 with value: 0.7916666666666667.\n",
      "[I 2025-02-25 17:07:15,324] Trial 18 finished with value: 0.4166666666666667 and parameters: {'k': 49}. Best is trial 3 with value: 0.7916666666666667.\n",
      "[I 2025-02-25 17:07:15,330] Trial 19 finished with value: 0.375 and parameters: {'k': 30}. Best is trial 3 with value: 0.7916666666666667.\n",
      "[I 2025-02-25 17:07:15,335] Trial 20 finished with value: 0.08333333333333333 and parameters: {'k': 16}. Best is trial 3 with value: 0.7916666666666667.\n",
      "[I 2025-02-25 17:07:15,341] Trial 21 finished with value: 0.375 and parameters: {'k': 31}. Best is trial 3 with value: 0.7916666666666667.\n",
      "[I 2025-02-25 17:07:15,348] Trial 22 finished with value: 0.24999999999999997 and parameters: {'k': 33}. Best is trial 3 with value: 0.7916666666666667.\n",
      "[I 2025-02-25 17:07:15,354] Trial 23 finished with value: 0.20833333333333331 and parameters: {'k': 17}. Best is trial 3 with value: 0.7916666666666667.\n",
      "[I 2025-02-25 17:07:15,361] Trial 24 finished with value: 0.7916666666666667 and parameters: {'k': 43}. Best is trial 3 with value: 0.7916666666666667.\n",
      "[I 2025-02-25 17:07:15,367] Trial 25 finished with value: 0.12499999999999999 and parameters: {'k': 21}. Best is trial 3 with value: 0.7916666666666667.\n",
      "[I 2025-02-25 17:07:15,374] Trial 26 finished with value: 0.75 and parameters: {'k': 44}. Best is trial 3 with value: 0.7916666666666667.\n",
      "[I 2025-02-25 17:07:15,381] Trial 27 finished with value: 0.375 and parameters: {'k': 9}. Best is trial 3 with value: 0.7916666666666667.\n",
      "[I 2025-02-25 17:07:15,387] Trial 28 finished with value: 0.16666666666666666 and parameters: {'k': 14}. Best is trial 3 with value: 0.7916666666666667.\n",
      "[I 2025-02-25 17:07:15,395] Trial 29 finished with value: 0.08333333333333333 and parameters: {'k': 26}. Best is trial 3 with value: 0.7916666666666667.\n",
      "[I 2025-02-25 17:07:15,402] Trial 30 finished with value: 0.625 and parameters: {'k': 6}. Best is trial 3 with value: 0.7916666666666667.\n",
      "[I 2025-02-25 17:07:15,409] Trial 31 finished with value: 0.20833333333333331 and parameters: {'k': 18}. Best is trial 3 with value: 0.7916666666666667.\n",
      "[I 2025-02-25 17:07:15,417] Trial 32 finished with value: 0.6041666666666666 and parameters: {'k': 41}. Best is trial 3 with value: 0.7916666666666667.\n",
      "[I 2025-02-25 17:07:15,424] Trial 33 finished with value: 0.375 and parameters: {'k': 50}. Best is trial 3 with value: 0.7916666666666667.\n",
      "[I 2025-02-25 17:07:15,432] Trial 34 finished with value: 0.6666666666666667 and parameters: {'k': 2}. Best is trial 3 with value: 0.7916666666666667.\n",
      "[I 2025-02-25 17:07:15,440] Trial 35 finished with value: 0.20833333333333331 and parameters: {'k': 13}. Best is trial 3 with value: 0.7916666666666667.\n",
      "[I 2025-02-25 17:07:15,448] Trial 36 finished with value: 0.5416666666666667 and parameters: {'k': 38}. Best is trial 3 with value: 0.7916666666666667.\n",
      "[I 2025-02-25 17:07:15,456] Trial 37 finished with value: 0.125 and parameters: {'k': 25}. Best is trial 3 with value: 0.7916666666666667.\n",
      "[I 2025-02-25 17:07:15,465] Trial 38 finished with value: 0.5416666666666667 and parameters: {'k': 7}. Best is trial 3 with value: 0.7916666666666667.\n",
      "[I 2025-02-25 17:07:15,473] Trial 39 finished with value: 0.16666666666666666 and parameters: {'k': 24}. Best is trial 3 with value: 0.7916666666666667.\n",
      "[I 2025-02-25 17:07:15,482] Trial 40 finished with value: 0.4166666666666667 and parameters: {'k': 37}. Best is trial 3 with value: 0.7916666666666667.\n",
      "[I 2025-02-25 17:07:15,491] Trial 41 finished with value: 0.20833333333333331 and parameters: {'k': 22}. Best is trial 3 with value: 0.7916666666666667.\n",
      "[I 2025-02-25 17:07:15,500] Trial 42 finished with value: 0.12499999999999999 and parameters: {'k': 20}. Best is trial 3 with value: 0.7916666666666667.\n",
      "[I 2025-02-25 17:07:15,509] Trial 43 finished with value: 0.33333333333333337 and parameters: {'k': 10}. Best is trial 3 with value: 0.7916666666666667.\n",
      "[I 2025-02-25 17:07:15,519] Trial 44 finished with value: 0.4583333333333333 and parameters: {'k': 40}. Best is trial 3 with value: 0.7916666666666667.\n",
      "[I 2025-02-25 17:07:15,528] Trial 45 finished with value: 0.5 and parameters: {'k': 47}. Best is trial 3 with value: 0.7916666666666667.\n",
      "[I 2025-02-25 17:07:15,538] Trial 46 finished with value: 0.5 and parameters: {'k': 4}. Best is trial 3 with value: 0.7916666666666667.\n",
      "[I 2025-02-25 17:07:15,547] Trial 47 finished with value: 0.5 and parameters: {'k': 1}. Best is trial 3 with value: 0.7916666666666667.\n",
      "[I 2025-02-25 17:07:15,557] Trial 48 finished with value: 0.45833333333333337 and parameters: {'k': 48}. Best is trial 3 with value: 0.7916666666666667.\n",
      "[I 2025-02-25 17:07:15,567] Trial 49 finished with value: 0.5833333333333334 and parameters: {'k': 45}. Best is trial 3 with value: 0.7916666666666667.\n",
      "[I 2025-02-25 17:07:15,583] A new study created in memory with name: no-name-9c3303fb-8685-4847-b2d1-816835637d0f\n",
      "[I 2025-02-25 17:07:15,587] Trial 0 finished with value: 1.0 and parameters: {'k': 29}. Best is trial 0 with value: 1.0.\n",
      "[I 2025-02-25 17:07:15,590] Trial 1 finished with value: 0.8125 and parameters: {'k': 12}. Best is trial 0 with value: 1.0.\n",
      "[I 2025-02-25 17:07:15,594] Trial 2 finished with value: 0.8125 and parameters: {'k': 11}. Best is trial 0 with value: 1.0.\n",
      "[I 2025-02-25 17:07:15,597] Trial 3 finished with value: 0.9583333333333334 and parameters: {'k': 42}. Best is trial 0 with value: 1.0.\n",
      "[I 2025-02-25 17:07:15,601] Trial 4 finished with value: 0.875 and parameters: {'k': 3}. Best is trial 0 with value: 1.0.\n",
      "[I 2025-02-25 17:07:15,605] Trial 5 finished with value: 1.0 and parameters: {'k': 28}. Best is trial 0 with value: 1.0.\n",
      "[I 2025-02-25 17:07:15,609] Trial 6 finished with value: 0.9791666666666666 and parameters: {'k': 39}. Best is trial 0 with value: 1.0.\n",
      "[I 2025-02-25 17:07:15,613] Trial 7 finished with value: 1.0 and parameters: {'k': 32}. Best is trial 0 with value: 1.0.\n",
      "[I 2025-02-25 17:07:15,619] Trial 8 finished with value: 0.9166666666666667 and parameters: {'k': 23}. Best is trial 0 with value: 1.0.\n",
      "[I 2025-02-25 17:07:15,623] Trial 9 finished with value: 0.8541666666666666 and parameters: {'k': 5}. Best is trial 0 with value: 1.0.\n",
      "[I 2025-02-25 17:07:15,628] Trial 10 finished with value: 1.0 and parameters: {'k': 34}. Best is trial 0 with value: 1.0.\n",
      "[I 2025-02-25 17:07:15,632] Trial 11 finished with value: 1.0 and parameters: {'k': 36}. Best is trial 0 with value: 1.0.\n",
      "[I 2025-02-25 17:07:15,637] Trial 12 finished with value: 1.0 and parameters: {'k': 27}. Best is trial 0 with value: 1.0.\n",
      "[I 2025-02-25 17:07:15,642] Trial 13 finished with value: 1.0 and parameters: {'k': 35}. Best is trial 0 with value: 1.0.\n",
      "[I 2025-02-25 17:07:15,647] Trial 14 finished with value: 0.9375 and parameters: {'k': 19}. Best is trial 0 with value: 1.0.\n",
      "[I 2025-02-25 17:07:15,653] Trial 15 finished with value: 0.8125 and parameters: {'k': 8}. Best is trial 0 with value: 1.0.\n",
      "[I 2025-02-25 17:07:15,658] Trial 16 finished with value: 0.875 and parameters: {'k': 15}. Best is trial 0 with value: 1.0.\n",
      "[I 2025-02-25 17:07:15,664] Trial 17 finished with value: 1.0 and parameters: {'k': 46}. Best is trial 0 with value: 1.0.\n",
      "[I 2025-02-25 17:07:15,669] Trial 18 finished with value: 1.0 and parameters: {'k': 49}. Best is trial 0 with value: 1.0.\n",
      "[I 2025-02-25 17:07:15,675] Trial 19 finished with value: 1.0 and parameters: {'k': 30}. Best is trial 0 with value: 1.0.\n",
      "[I 2025-02-25 17:07:15,681] Trial 20 finished with value: 0.875 and parameters: {'k': 16}. Best is trial 0 with value: 1.0.\n",
      "[I 2025-02-25 17:07:15,687] Trial 21 finished with value: 1.0 and parameters: {'k': 31}. Best is trial 0 with value: 1.0.\n",
      "[I 2025-02-25 17:07:15,694] Trial 22 finished with value: 1.0 and parameters: {'k': 33}. Best is trial 0 with value: 1.0.\n",
      "[I 2025-02-25 17:07:15,700] Trial 23 finished with value: 0.8541666666666666 and parameters: {'k': 17}. Best is trial 0 with value: 1.0.\n",
      "[I 2025-02-25 17:07:15,706] Trial 24 finished with value: 0.9583333333333334 and parameters: {'k': 43}. Best is trial 0 with value: 1.0.\n",
      "[I 2025-02-25 17:07:15,713] Trial 25 finished with value: 0.9375 and parameters: {'k': 21}. Best is trial 0 with value: 1.0.\n",
      "[I 2025-02-25 17:07:15,720] Trial 26 finished with value: 0.9375 and parameters: {'k': 44}. Best is trial 0 with value: 1.0.\n",
      "[I 2025-02-25 17:07:15,727] Trial 27 finished with value: 0.7916666666666667 and parameters: {'k': 9}. Best is trial 0 with value: 1.0.\n",
      "[I 2025-02-25 17:07:15,734] Trial 28 finished with value: 0.8958333333333333 and parameters: {'k': 14}. Best is trial 0 with value: 1.0.\n",
      "[I 2025-02-25 17:07:15,741] Trial 29 finished with value: 0.9791666666666666 and parameters: {'k': 26}. Best is trial 0 with value: 1.0.\n",
      "[I 2025-02-25 17:07:15,748] Trial 30 finished with value: 0.8333333333333333 and parameters: {'k': 6}. Best is trial 0 with value: 1.0.\n",
      "[I 2025-02-25 17:07:15,756] Trial 31 finished with value: 0.9166666666666666 and parameters: {'k': 18}. Best is trial 0 with value: 1.0.\n",
      "[I 2025-02-25 17:07:15,764] Trial 32 finished with value: 0.9583333333333334 and parameters: {'k': 41}. Best is trial 0 with value: 1.0.\n",
      "[I 2025-02-25 17:07:15,771] Trial 33 finished with value: 1.0 and parameters: {'k': 50}. Best is trial 0 with value: 1.0.\n"
     ]
    },
    {
     "name": "stdout",
     "output_type": "stream",
     "text": [
      "Model: VISTA3DExtractor\n",
      "134\n"
     ]
    },
    {
     "name": "stderr",
     "output_type": "stream",
     "text": [
      "[I 2025-02-25 17:07:15,779] Trial 34 finished with value: 0.7083333333333333 and parameters: {'k': 2}. Best is trial 0 with value: 1.0.\n",
      "[I 2025-02-25 17:07:15,787] Trial 35 finished with value: 0.9166666666666667 and parameters: {'k': 13}. Best is trial 0 with value: 1.0.\n",
      "[I 2025-02-25 17:07:15,795] Trial 36 finished with value: 1.0 and parameters: {'k': 38}. Best is trial 0 with value: 1.0.\n",
      "[I 2025-02-25 17:07:15,804] Trial 37 finished with value: 0.9583333333333333 and parameters: {'k': 25}. Best is trial 0 with value: 1.0.\n",
      "[I 2025-02-25 17:07:15,812] Trial 38 finished with value: 0.8333333333333333 and parameters: {'k': 7}. Best is trial 0 with value: 1.0.\n",
      "[I 2025-02-25 17:07:15,821] Trial 39 finished with value: 0.9166666666666667 and parameters: {'k': 24}. Best is trial 0 with value: 1.0.\n",
      "[I 2025-02-25 17:07:15,829] Trial 40 finished with value: 1.0 and parameters: {'k': 37}. Best is trial 0 with value: 1.0.\n",
      "[I 2025-02-25 17:07:15,838] Trial 41 finished with value: 0.9375 and parameters: {'k': 22}. Best is trial 0 with value: 1.0.\n",
      "[I 2025-02-25 17:07:15,847] Trial 42 finished with value: 0.9375 and parameters: {'k': 20}. Best is trial 0 with value: 1.0.\n",
      "[I 2025-02-25 17:07:15,856] Trial 43 finished with value: 0.8541666666666667 and parameters: {'k': 10}. Best is trial 0 with value: 1.0.\n",
      "[I 2025-02-25 17:07:15,865] Trial 44 finished with value: 0.9791666666666666 and parameters: {'k': 40}. Best is trial 0 with value: 1.0.\n",
      "[I 2025-02-25 17:07:15,875] Trial 45 finished with value: 1.0 and parameters: {'k': 47}. Best is trial 0 with value: 1.0.\n",
      "[I 2025-02-25 17:07:15,885] Trial 46 finished with value: 0.75 and parameters: {'k': 4}. Best is trial 0 with value: 1.0.\n",
      "[I 2025-02-25 17:07:15,894] Trial 47 finished with value: 0.7083333333333333 and parameters: {'k': 1}. Best is trial 0 with value: 1.0.\n",
      "[I 2025-02-25 17:07:15,904] Trial 48 finished with value: 1.0 and parameters: {'k': 48}. Best is trial 0 with value: 1.0.\n",
      "[I 2025-02-25 17:07:15,914] Trial 49 finished with value: 1.0 and parameters: {'k': 45}. Best is trial 0 with value: 1.0.\n",
      "[I 2025-02-25 17:07:15,919] A new study created in memory with name: no-name-343f860c-0990-44ed-87b8-ac576636aefe\n",
      "[I 2025-02-25 17:07:15,923] Trial 0 finished with value: 0.5625 and parameters: {'k': 29}. Best is trial 0 with value: 0.5625.\n",
      "[I 2025-02-25 17:07:15,926] Trial 1 finished with value: 0.7916666666666666 and parameters: {'k': 12}. Best is trial 1 with value: 0.7916666666666666.\n",
      "[I 2025-02-25 17:07:15,930] Trial 2 finished with value: 0.8125 and parameters: {'k': 11}. Best is trial 2 with value: 0.8125.\n",
      "[I 2025-02-25 17:07:15,933] Trial 3 finished with value: 0.6041666666666667 and parameters: {'k': 42}. Best is trial 2 with value: 0.8125.\n",
      "[I 2025-02-25 17:07:15,937] Trial 4 finished with value: 0.4166666666666667 and parameters: {'k': 3}. Best is trial 2 with value: 0.8125.\n",
      "[I 2025-02-25 17:07:15,941] Trial 5 finished with value: 0.6041666666666667 and parameters: {'k': 28}. Best is trial 2 with value: 0.8125.\n",
      "[I 2025-02-25 17:07:15,945] Trial 6 finished with value: 0.5208333333333333 and parameters: {'k': 39}. Best is trial 2 with value: 0.8125.\n",
      "[I 2025-02-25 17:07:15,949] Trial 7 finished with value: 0.5625 and parameters: {'k': 32}. Best is trial 2 with value: 0.8125.\n",
      "[I 2025-02-25 17:07:15,954] Trial 8 finished with value: 0.5416666666666666 and parameters: {'k': 23}. Best is trial 2 with value: 0.8125.\n",
      "[I 2025-02-25 17:07:15,958] Trial 9 finished with value: 0.8333333333333333 and parameters: {'k': 5}. Best is trial 9 with value: 0.8333333333333333.\n",
      "[I 2025-02-25 17:07:15,963] Trial 10 finished with value: 0.5416666666666667 and parameters: {'k': 34}. Best is trial 9 with value: 0.8333333333333333.\n",
      "[I 2025-02-25 17:07:15,967] Trial 11 finished with value: 0.5416666666666667 and parameters: {'k': 36}. Best is trial 9 with value: 0.8333333333333333.\n",
      "[I 2025-02-25 17:07:15,972] Trial 12 finished with value: 0.6041666666666667 and parameters: {'k': 27}. Best is trial 9 with value: 0.8333333333333333.\n",
      "[I 2025-02-25 17:07:15,977] Trial 13 finished with value: 0.5416666666666667 and parameters: {'k': 35}. Best is trial 9 with value: 0.8333333333333333.\n",
      "[I 2025-02-25 17:07:15,983] Trial 14 finished with value: 0.625 and parameters: {'k': 19}. Best is trial 9 with value: 0.8333333333333333.\n",
      "[I 2025-02-25 17:07:15,988] Trial 15 finished with value: 0.7916666666666666 and parameters: {'k': 8}. Best is trial 9 with value: 0.8333333333333333.\n",
      "[I 2025-02-25 17:07:15,993] Trial 16 finished with value: 0.7083333333333333 and parameters: {'k': 15}. Best is trial 9 with value: 0.8333333333333333.\n",
      "[I 2025-02-25 17:07:15,999] Trial 17 finished with value: 0.5833333333333334 and parameters: {'k': 46}. Best is trial 9 with value: 0.8333333333333333.\n",
      "[I 2025-02-25 17:07:16,005] Trial 18 finished with value: 0.6458333333333334 and parameters: {'k': 49}. Best is trial 9 with value: 0.8333333333333333.\n",
      "[I 2025-02-25 17:07:16,010] Trial 19 finished with value: 0.6041666666666667 and parameters: {'k': 30}. Best is trial 9 with value: 0.8333333333333333.\n",
      "[I 2025-02-25 17:07:16,016] Trial 20 finished with value: 0.6666666666666666 and parameters: {'k': 16}. Best is trial 9 with value: 0.8333333333333333.\n",
      "[I 2025-02-25 17:07:16,023] Trial 21 finished with value: 0.5625 and parameters: {'k': 31}. Best is trial 9 with value: 0.8333333333333333.\n",
      "[I 2025-02-25 17:07:16,029] Trial 22 finished with value: 0.5416666666666667 and parameters: {'k': 33}. Best is trial 9 with value: 0.8333333333333333.\n",
      "[I 2025-02-25 17:07:16,035] Trial 23 finished with value: 0.6458333333333333 and parameters: {'k': 17}. Best is trial 9 with value: 0.8333333333333333.\n",
      "[I 2025-02-25 17:07:16,042] Trial 24 finished with value: 0.5625 and parameters: {'k': 43}. Best is trial 9 with value: 0.8333333333333333.\n",
      "[I 2025-02-25 17:07:16,048] Trial 25 finished with value: 0.6041666666666666 and parameters: {'k': 21}. Best is trial 9 with value: 0.8333333333333333.\n",
      "[I 2025-02-25 17:07:16,055] Trial 26 finished with value: 0.6041666666666666 and parameters: {'k': 44}. Best is trial 9 with value: 0.8333333333333333.\n",
      "[I 2025-02-25 17:07:16,062] Trial 27 finished with value: 0.75 and parameters: {'k': 9}. Best is trial 9 with value: 0.8333333333333333.\n",
      "[I 2025-02-25 17:07:16,069] Trial 28 finished with value: 0.7291666666666666 and parameters: {'k': 14}. Best is trial 9 with value: 0.8333333333333333.\n",
      "[I 2025-02-25 17:07:16,076] Trial 29 finished with value: 0.6041666666666667 and parameters: {'k': 26}. Best is trial 9 with value: 0.8333333333333333.\n",
      "[I 2025-02-25 17:07:16,084] Trial 30 finished with value: 0.7083333333333333 and parameters: {'k': 6}. Best is trial 9 with value: 0.8333333333333333.\n",
      "[I 2025-02-25 17:07:16,091] Trial 31 finished with value: 0.625 and parameters: {'k': 18}. Best is trial 9 with value: 0.8333333333333333.\n",
      "[I 2025-02-25 17:07:16,099] Trial 32 finished with value: 0.625 and parameters: {'k': 41}. Best is trial 9 with value: 0.8333333333333333.\n",
      "[I 2025-02-25 17:07:16,107] Trial 33 finished with value: 0.6041666666666667 and parameters: {'k': 50}. Best is trial 9 with value: 0.8333333333333333.\n",
      "[I 2025-02-25 17:07:16,114] Trial 34 finished with value: 0.4583333333333333 and parameters: {'k': 2}. Best is trial 9 with value: 0.8333333333333333.\n",
      "[I 2025-02-25 17:07:16,122] Trial 35 finished with value: 0.75 and parameters: {'k': 13}. Best is trial 9 with value: 0.8333333333333333.\n",
      "[I 2025-02-25 17:07:16,131] Trial 36 finished with value: 0.5208333333333334 and parameters: {'k': 38}. Best is trial 9 with value: 0.8333333333333333.\n",
      "[I 2025-02-25 17:07:16,139] Trial 37 finished with value: 0.625 and parameters: {'k': 25}. Best is trial 9 with value: 0.8333333333333333.\n",
      "[I 2025-02-25 17:07:16,147] Trial 38 finished with value: 0.7083333333333333 and parameters: {'k': 7}. Best is trial 9 with value: 0.8333333333333333.\n",
      "[I 2025-02-25 17:07:16,156] Trial 39 finished with value: 0.5 and parameters: {'k': 24}. Best is trial 9 with value: 0.8333333333333333.\n",
      "[I 2025-02-25 17:07:16,164] Trial 40 finished with value: 0.5208333333333334 and parameters: {'k': 37}. Best is trial 9 with value: 0.8333333333333333.\n",
      "[I 2025-02-25 17:07:16,173] Trial 41 finished with value: 0.5416666666666666 and parameters: {'k': 22}. Best is trial 9 with value: 0.8333333333333333.\n",
      "[I 2025-02-25 17:07:16,182] Trial 42 finished with value: 0.6041666666666666 and parameters: {'k': 20}. Best is trial 9 with value: 0.8333333333333333.\n",
      "[I 2025-02-25 17:07:16,192] Trial 43 finished with value: 0.75 and parameters: {'k': 10}. Best is trial 9 with value: 0.8333333333333333.\n",
      "[I 2025-02-25 17:07:16,201] Trial 44 finished with value: 0.625 and parameters: {'k': 40}. Best is trial 9 with value: 0.8333333333333333.\n",
      "[I 2025-02-25 17:07:16,210] Trial 45 finished with value: 0.6875 and parameters: {'k': 47}. Best is trial 9 with value: 0.8333333333333333.\n",
      "[I 2025-02-25 17:07:16,220] Trial 46 finished with value: 0.6041666666666666 and parameters: {'k': 4}. Best is trial 9 with value: 0.8333333333333333.\n",
      "[I 2025-02-25 17:07:16,230] Trial 47 finished with value: 0.4583333333333333 and parameters: {'k': 1}. Best is trial 9 with value: 0.8333333333333333.\n",
      "[I 2025-02-25 17:07:16,243] Trial 48 finished with value: 0.6875 and parameters: {'k': 48}. Best is trial 9 with value: 0.8333333333333333.\n",
      "[I 2025-02-25 17:07:16,254] Trial 49 finished with value: 0.5833333333333334 and parameters: {'k': 45}. Best is trial 9 with value: 0.8333333333333333.\n",
      "[I 2025-02-25 17:07:16,260] A new study created in memory with name: no-name-ef2a4054-7a24-4f0a-9969-0c6e0baa5a4a\n",
      "[I 2025-02-25 17:07:16,263] Trial 0 finished with value: 0.6666666666666666 and parameters: {'k': 29}. Best is trial 0 with value: 0.6666666666666666.\n",
      "[I 2025-02-25 17:07:16,267] Trial 1 finished with value: 0.5833333333333334 and parameters: {'k': 12}. Best is trial 0 with value: 0.6666666666666666.\n",
      "[I 2025-02-25 17:07:16,270] Trial 2 finished with value: 0.5833333333333334 and parameters: {'k': 11}. Best is trial 0 with value: 0.6666666666666666.\n",
      "[I 2025-02-25 17:07:16,274] Trial 3 finished with value: 0.7291666666666666 and parameters: {'k': 42}. Best is trial 3 with value: 0.7291666666666666.\n",
      "[I 2025-02-25 17:07:16,278] Trial 4 finished with value: 0.5833333333333333 and parameters: {'k': 3}. Best is trial 3 with value: 0.7291666666666666.\n",
      "[I 2025-02-25 17:07:16,282] Trial 5 finished with value: 0.6875 and parameters: {'k': 28}. Best is trial 3 with value: 0.7291666666666666.\n",
      "[I 2025-02-25 17:07:16,286] Trial 6 finished with value: 0.8333333333333334 and parameters: {'k': 39}. Best is trial 6 with value: 0.8333333333333334.\n",
      "[I 2025-02-25 17:07:16,290] Trial 7 finished with value: 0.6458333333333333 and parameters: {'k': 32}. Best is trial 6 with value: 0.8333333333333334.\n",
      "[I 2025-02-25 17:07:16,295] Trial 8 finished with value: 0.8541666666666666 and parameters: {'k': 23}. Best is trial 8 with value: 0.8541666666666666.\n",
      "[I 2025-02-25 17:07:16,299] Trial 9 finished with value: 0.8333333333333333 and parameters: {'k': 5}. Best is trial 8 with value: 0.8541666666666666.\n",
      "[I 2025-02-25 17:07:16,304] Trial 10 finished with value: 0.7708333333333333 and parameters: {'k': 34}. Best is trial 8 with value: 0.8541666666666666.\n",
      "[I 2025-02-25 17:07:16,309] Trial 11 finished with value: 0.7083333333333333 and parameters: {'k': 36}. Best is trial 8 with value: 0.8541666666666666.\n",
      "[I 2025-02-25 17:07:16,313] Trial 12 finished with value: 0.6875 and parameters: {'k': 27}. Best is trial 8 with value: 0.8541666666666666.\n",
      "[I 2025-02-25 17:07:16,319] Trial 13 finished with value: 0.7708333333333333 and parameters: {'k': 35}. Best is trial 8 with value: 0.8541666666666666.\n",
      "[I 2025-02-25 17:07:16,324] Trial 14 finished with value: 0.8333333333333333 and parameters: {'k': 19}. Best is trial 8 with value: 0.8541666666666666.\n",
      "[I 2025-02-25 17:07:16,329] Trial 15 finished with value: 0.7083333333333334 and parameters: {'k': 8}. Best is trial 8 with value: 0.8541666666666666.\n",
      "[I 2025-02-25 17:07:16,334] Trial 16 finished with value: 0.7291666666666667 and parameters: {'k': 15}. Best is trial 8 with value: 0.8541666666666666.\n",
      "[I 2025-02-25 17:07:16,340] Trial 17 finished with value: 0.7083333333333334 and parameters: {'k': 46}. Best is trial 8 with value: 0.8541666666666666.\n",
      "[I 2025-02-25 17:07:16,346] Trial 18 finished with value: 0.6458333333333333 and parameters: {'k': 49}. Best is trial 8 with value: 0.8541666666666666.\n",
      "[I 2025-02-25 17:07:16,352] Trial 19 finished with value: 0.6458333333333333 and parameters: {'k': 30}. Best is trial 8 with value: 0.8541666666666666.\n",
      "[I 2025-02-25 17:07:16,357] Trial 20 finished with value: 0.875 and parameters: {'k': 16}. Best is trial 20 with value: 0.875.\n",
      "[I 2025-02-25 17:07:16,364] Trial 21 finished with value: 0.625 and parameters: {'k': 31}. Best is trial 20 with value: 0.875.\n",
      "[I 2025-02-25 17:07:16,370] Trial 22 finished with value: 0.625 and parameters: {'k': 33}. Best is trial 20 with value: 0.875.\n",
      "[I 2025-02-25 17:07:16,376] Trial 23 finished with value: 0.875 and parameters: {'k': 17}. Best is trial 20 with value: 0.875.\n",
      "[I 2025-02-25 17:07:16,383] Trial 24 finished with value: 0.7083333333333334 and parameters: {'k': 43}. Best is trial 20 with value: 0.875.\n",
      "[I 2025-02-25 17:07:16,389] Trial 25 finished with value: 0.8333333333333333 and parameters: {'k': 21}. Best is trial 20 with value: 0.875.\n",
      "[I 2025-02-25 17:07:16,396] Trial 26 finished with value: 0.7083333333333334 and parameters: {'k': 44}. Best is trial 20 with value: 0.875.\n",
      "[I 2025-02-25 17:07:16,403] Trial 27 finished with value: 0.6666666666666667 and parameters: {'k': 9}. Best is trial 20 with value: 0.875.\n",
      "[I 2025-02-25 17:07:16,410] Trial 28 finished with value: 0.7291666666666667 and parameters: {'k': 14}. Best is trial 20 with value: 0.875.\n",
      "[I 2025-02-25 17:07:16,417] Trial 29 finished with value: 0.7291666666666667 and parameters: {'k': 26}. Best is trial 20 with value: 0.875.\n",
      "[I 2025-02-25 17:07:16,424] Trial 30 finished with value: 0.7916666666666667 and parameters: {'k': 6}. Best is trial 20 with value: 0.875.\n",
      "[I 2025-02-25 17:07:16,432] Trial 31 finished with value: 0.875 and parameters: {'k': 18}. Best is trial 20 with value: 0.875.\n",
      "[I 2025-02-25 17:07:16,439] Trial 32 finished with value: 0.7291666666666666 and parameters: {'k': 41}. Best is trial 20 with value: 0.875.\n",
      "[I 2025-02-25 17:07:16,447] Trial 33 finished with value: 0.625 and parameters: {'k': 50}. Best is trial 20 with value: 0.875.\n",
      "[I 2025-02-25 17:07:16,455] Trial 34 finished with value: 0.625 and parameters: {'k': 2}. Best is trial 20 with value: 0.875.\n",
      "[I 2025-02-25 17:07:16,463] Trial 35 finished with value: 0.75 and parameters: {'k': 13}. Best is trial 20 with value: 0.875.\n",
      "[I 2025-02-25 17:07:16,471] Trial 36 finished with value: 0.8541666666666666 and parameters: {'k': 38}. Best is trial 20 with value: 0.875.\n",
      "[I 2025-02-25 17:07:16,479] Trial 37 finished with value: 0.7708333333333334 and parameters: {'k': 25}. Best is trial 20 with value: 0.875.\n",
      "[I 2025-02-25 17:07:16,487] Trial 38 finished with value: 0.75 and parameters: {'k': 7}. Best is trial 20 with value: 0.875.\n",
      "[I 2025-02-25 17:07:16,496] Trial 39 finished with value: 0.8541666666666666 and parameters: {'k': 24}. Best is trial 20 with value: 0.875.\n",
      "[I 2025-02-25 17:07:16,505] Trial 40 finished with value: 0.6875 and parameters: {'k': 37}. Best is trial 20 with value: 0.875.\n",
      "[I 2025-02-25 17:07:16,514] Trial 41 finished with value: 0.7916666666666666 and parameters: {'k': 22}. Best is trial 20 with value: 0.875.\n",
      "[I 2025-02-25 17:07:16,523] Trial 42 finished with value: 0.8333333333333333 and parameters: {'k': 20}. Best is trial 20 with value: 0.875.\n",
      "[I 2025-02-25 17:07:16,532] Trial 43 finished with value: 0.625 and parameters: {'k': 10}. Best is trial 20 with value: 0.875.\n",
      "[I 2025-02-25 17:07:16,541] Trial 44 finished with value: 0.7708333333333333 and parameters: {'k': 40}. Best is trial 20 with value: 0.875.\n",
      "[I 2025-02-25 17:07:16,551] Trial 45 finished with value: 0.6875 and parameters: {'k': 47}. Best is trial 20 with value: 0.875.\n",
      "[I 2025-02-25 17:07:16,560] Trial 46 finished with value: 0.8333333333333333 and parameters: {'k': 4}. Best is trial 20 with value: 0.875.\n",
      "[I 2025-02-25 17:07:16,570] Trial 47 finished with value: 0.625 and parameters: {'k': 1}. Best is trial 20 with value: 0.875.\n",
      "[I 2025-02-25 17:07:16,580] Trial 48 finished with value: 0.6458333333333333 and parameters: {'k': 48}. Best is trial 20 with value: 0.875.\n",
      "[I 2025-02-25 17:07:16,590] Trial 49 finished with value: 0.7083333333333334 and parameters: {'k': 45}. Best is trial 20 with value: 0.875.\n",
      "[I 2025-02-25 17:07:16,595] A new study created in memory with name: no-name-d1303196-c882-4b20-ace8-5b4d92c03d76\n",
      "[I 2025-02-25 17:07:16,598] Trial 0 finished with value: 0.8333333333333333 and parameters: {'k': 29}. Best is trial 0 with value: 0.8333333333333333.\n",
      "[I 2025-02-25 17:07:16,602] Trial 1 finished with value: 1.0 and parameters: {'k': 12}. Best is trial 1 with value: 1.0.\n",
      "[I 2025-02-25 17:07:16,605] Trial 2 finished with value: 1.0 and parameters: {'k': 11}. Best is trial 1 with value: 1.0.\n",
      "[I 2025-02-25 17:07:16,609] Trial 3 finished with value: 0.7291666666666666 and parameters: {'k': 42}. Best is trial 1 with value: 1.0.\n",
      "[I 2025-02-25 17:07:16,613] Trial 4 finished with value: 0.7083333333333333 and parameters: {'k': 3}. Best is trial 1 with value: 1.0.\n",
      "[I 2025-02-25 17:07:16,617] Trial 5 finished with value: 0.8541666666666666 and parameters: {'k': 28}. Best is trial 1 with value: 1.0.\n",
      "[I 2025-02-25 17:07:16,621] Trial 6 finished with value: 0.8333333333333333 and parameters: {'k': 39}. Best is trial 1 with value: 1.0.\n",
      "[I 2025-02-25 17:07:16,625] Trial 7 finished with value: 0.9375 and parameters: {'k': 32}. Best is trial 1 with value: 1.0.\n",
      "[I 2025-02-25 17:07:16,629] Trial 8 finished with value: 0.9375 and parameters: {'k': 23}. Best is trial 1 with value: 1.0.\n",
      "[I 2025-02-25 17:07:16,634] Trial 9 finished with value: 0.9166666666666667 and parameters: {'k': 5}. Best is trial 1 with value: 1.0.\n",
      "[I 2025-02-25 17:07:16,638] Trial 10 finished with value: 0.8958333333333334 and parameters: {'k': 34}. Best is trial 1 with value: 1.0.\n",
      "[I 2025-02-25 17:07:16,643] Trial 11 finished with value: 0.875 and parameters: {'k': 36}. Best is trial 1 with value: 1.0.\n",
      "[I 2025-02-25 17:07:16,648] Trial 12 finished with value: 0.8541666666666666 and parameters: {'k': 27}. Best is trial 1 with value: 1.0.\n",
      "[I 2025-02-25 17:07:16,653] Trial 13 finished with value: 0.8958333333333334 and parameters: {'k': 35}. Best is trial 1 with value: 1.0.\n",
      "[I 2025-02-25 17:07:16,658] Trial 14 finished with value: 0.9791666666666666 and parameters: {'k': 19}. Best is trial 1 with value: 1.0.\n",
      "[I 2025-02-25 17:07:16,663] Trial 15 finished with value: 0.9583333333333334 and parameters: {'k': 8}. Best is trial 1 with value: 1.0.\n",
      "[I 2025-02-25 17:07:16,669] Trial 16 finished with value: 0.9791666666666666 and parameters: {'k': 15}. Best is trial 1 with value: 1.0.\n",
      "[I 2025-02-25 17:07:16,674] Trial 17 finished with value: 0.625 and parameters: {'k': 46}. Best is trial 1 with value: 1.0.\n",
      "[I 2025-02-25 17:07:16,680] Trial 18 finished with value: 0.5 and parameters: {'k': 49}. Best is trial 1 with value: 1.0.\n",
      "[I 2025-02-25 17:07:16,686] Trial 19 finished with value: 0.9583333333333334 and parameters: {'k': 30}. Best is trial 1 with value: 1.0.\n",
      "[I 2025-02-25 17:07:16,692] Trial 20 finished with value: 0.9791666666666666 and parameters: {'k': 16}. Best is trial 1 with value: 1.0.\n",
      "[I 2025-02-25 17:07:16,698] Trial 21 finished with value: 0.9583333333333334 and parameters: {'k': 31}. Best is trial 1 with value: 1.0.\n",
      "[I 2025-02-25 17:07:16,704] Trial 22 finished with value: 0.9375 and parameters: {'k': 33}. Best is trial 1 with value: 1.0.\n",
      "[I 2025-02-25 17:07:16,710] Trial 23 finished with value: 0.9791666666666666 and parameters: {'k': 17}. Best is trial 1 with value: 1.0.\n",
      "[I 2025-02-25 17:07:16,717] Trial 24 finished with value: 0.7291666666666666 and parameters: {'k': 43}. Best is trial 1 with value: 1.0.\n",
      "[I 2025-02-25 17:07:16,724] Trial 25 finished with value: 0.9583333333333334 and parameters: {'k': 21}. Best is trial 1 with value: 1.0.\n",
      "[I 2025-02-25 17:07:16,731] Trial 26 finished with value: 0.7291666666666666 and parameters: {'k': 44}. Best is trial 1 with value: 1.0.\n",
      "[I 2025-02-25 17:07:16,737] Trial 27 finished with value: 0.9583333333333334 and parameters: {'k': 9}. Best is trial 1 with value: 1.0.\n",
      "[I 2025-02-25 17:07:16,744] Trial 28 finished with value: 0.9791666666666666 and parameters: {'k': 14}. Best is trial 1 with value: 1.0.\n",
      "[I 2025-02-25 17:07:16,751] Trial 29 finished with value: 0.8541666666666666 and parameters: {'k': 26}. Best is trial 1 with value: 1.0.\n",
      "[I 2025-02-25 17:07:16,759] Trial 30 finished with value: 0.9166666666666667 and parameters: {'k': 6}. Best is trial 1 with value: 1.0.\n",
      "[I 2025-02-25 17:07:16,766] Trial 31 finished with value: 0.9791666666666666 and parameters: {'k': 18}. Best is trial 1 with value: 1.0.\n",
      "[I 2025-02-25 17:07:16,773] Trial 32 finished with value: 0.75 and parameters: {'k': 41}. Best is trial 1 with value: 1.0.\n",
      "[I 2025-02-25 17:07:16,781] Trial 33 finished with value: 0.4166666666666667 and parameters: {'k': 50}. Best is trial 1 with value: 1.0.\n",
      "[I 2025-02-25 17:07:16,789] Trial 34 finished with value: 0.75 and parameters: {'k': 2}. Best is trial 1 with value: 1.0.\n",
      "[I 2025-02-25 17:07:16,797] Trial 35 finished with value: 1.0 and parameters: {'k': 13}. Best is trial 1 with value: 1.0.\n",
      "[I 2025-02-25 17:07:16,805] Trial 36 finished with value: 0.8333333333333333 and parameters: {'k': 38}. Best is trial 1 with value: 1.0.\n",
      "[I 2025-02-25 17:07:16,814] Trial 37 finished with value: 0.8541666666666666 and parameters: {'k': 25}. Best is trial 1 with value: 1.0.\n",
      "[I 2025-02-25 17:07:16,822] Trial 38 finished with value: 0.9583333333333334 and parameters: {'k': 7}. Best is trial 1 with value: 1.0.\n",
      "[I 2025-02-25 17:07:16,830] Trial 39 finished with value: 0.875 and parameters: {'k': 24}. Best is trial 1 with value: 1.0.\n",
      "[I 2025-02-25 17:07:16,839] Trial 40 finished with value: 0.8333333333333333 and parameters: {'k': 37}. Best is trial 1 with value: 1.0.\n",
      "[I 2025-02-25 17:07:16,848] Trial 41 finished with value: 0.9583333333333334 and parameters: {'k': 22}. Best is trial 1 with value: 1.0.\n",
      "[I 2025-02-25 17:07:16,857] Trial 42 finished with value: 0.9583333333333334 and parameters: {'k': 20}. Best is trial 1 with value: 1.0.\n",
      "[I 2025-02-25 17:07:16,866] Trial 43 finished with value: 0.9583333333333334 and parameters: {'k': 10}. Best is trial 1 with value: 1.0.\n",
      "[I 2025-02-25 17:07:16,876] Trial 44 finished with value: 0.8333333333333333 and parameters: {'k': 40}. Best is trial 1 with value: 1.0.\n",
      "[I 2025-02-25 17:07:16,886] Trial 45 finished with value: 0.6041666666666666 and parameters: {'k': 47}. Best is trial 1 with value: 1.0.\n",
      "[I 2025-02-25 17:07:16,895] Trial 46 finished with value: 0.9166666666666667 and parameters: {'k': 4}. Best is trial 1 with value: 1.0.\n",
      "[I 2025-02-25 17:07:16,905] Trial 47 finished with value: 0.75 and parameters: {'k': 1}. Best is trial 1 with value: 1.0.\n",
      "[I 2025-02-25 17:07:16,915] Trial 48 finished with value: 0.5625 and parameters: {'k': 48}. Best is trial 1 with value: 1.0.\n",
      "[I 2025-02-25 17:07:16,925] Trial 49 finished with value: 0.7083333333333333 and parameters: {'k': 45}. Best is trial 1 with value: 1.0.\n",
      "[I 2025-02-25 17:07:16,930] A new study created in memory with name: no-name-a440a547-9ccf-4d39-b861-8d1e581a48db\n",
      "[I 2025-02-25 17:07:16,934] Trial 0 finished with value: 0.5625 and parameters: {'k': 29}. Best is trial 0 with value: 0.5625.\n",
      "[I 2025-02-25 17:07:16,937] Trial 1 finished with value: 0.45833333333333337 and parameters: {'k': 12}. Best is trial 0 with value: 0.5625.\n",
      "[I 2025-02-25 17:07:16,941] Trial 2 finished with value: 0.45833333333333337 and parameters: {'k': 11}. Best is trial 0 with value: 0.5625.\n",
      "[I 2025-02-25 17:07:16,945] Trial 3 finished with value: 0.6041666666666666 and parameters: {'k': 42}. Best is trial 3 with value: 0.6041666666666666.\n",
      "[I 2025-02-25 17:07:16,948] Trial 4 finished with value: 0.375 and parameters: {'k': 3}. Best is trial 3 with value: 0.6041666666666666.\n",
      "[I 2025-02-25 17:07:16,952] Trial 5 finished with value: 0.6041666666666666 and parameters: {'k': 28}. Best is trial 3 with value: 0.6041666666666666.\n",
      "[I 2025-02-25 17:07:16,957] Trial 6 finished with value: 0.6875 and parameters: {'k': 39}. Best is trial 6 with value: 0.6875.\n",
      "[I 2025-02-25 17:07:16,961] Trial 7 finished with value: 0.7083333333333334 and parameters: {'k': 32}. Best is trial 7 with value: 0.7083333333333334.\n",
      "[I 2025-02-25 17:07:16,965] Trial 8 finished with value: 0.6458333333333334 and parameters: {'k': 23}. Best is trial 7 with value: 0.7083333333333334.\n",
      "[I 2025-02-25 17:07:16,970] Trial 9 finished with value: 0.5 and parameters: {'k': 5}. Best is trial 7 with value: 0.7083333333333334.\n",
      "[I 2025-02-25 17:07:16,974] Trial 10 finished with value: 0.7708333333333334 and parameters: {'k': 34}. Best is trial 10 with value: 0.7708333333333334.\n",
      "[I 2025-02-25 17:07:16,979] Trial 11 finished with value: 0.7291666666666666 and parameters: {'k': 36}. Best is trial 10 with value: 0.7708333333333334.\n",
      "[I 2025-02-25 17:07:16,984] Trial 12 finished with value: 0.625 and parameters: {'k': 27}. Best is trial 10 with value: 0.7708333333333334.\n",
      "[I 2025-02-25 17:07:16,989] Trial 13 finished with value: 0.7708333333333334 and parameters: {'k': 35}. Best is trial 10 with value: 0.7708333333333334.\n",
      "[I 2025-02-25 17:07:16,994] Trial 14 finished with value: 0.5416666666666666 and parameters: {'k': 19}. Best is trial 10 with value: 0.7708333333333334.\n",
      "[I 2025-02-25 17:07:16,999] Trial 15 finished with value: 0.5208333333333334 and parameters: {'k': 8}. Best is trial 10 with value: 0.7708333333333334.\n",
      "[I 2025-02-25 17:07:17,005] Trial 16 finished with value: 0.4791666666666667 and parameters: {'k': 15}. Best is trial 10 with value: 0.7708333333333334.\n",
      "[I 2025-02-25 17:07:17,010] Trial 17 finished with value: 0.45833333333333337 and parameters: {'k': 46}. Best is trial 10 with value: 0.7708333333333334.\n",
      "[I 2025-02-25 17:07:17,016] Trial 18 finished with value: 0.7916666666666666 and parameters: {'k': 49}. Best is trial 18 with value: 0.7916666666666666.\n",
      "[I 2025-02-25 17:07:17,022] Trial 19 finished with value: 0.6666666666666667 and parameters: {'k': 30}. Best is trial 18 with value: 0.7916666666666666.\n",
      "[I 2025-02-25 17:07:17,028] Trial 20 finished with value: 0.4583333333333333 and parameters: {'k': 16}. Best is trial 18 with value: 0.7916666666666666.\n",
      "[I 2025-02-25 17:07:17,034] Trial 21 finished with value: 0.7291666666666666 and parameters: {'k': 31}. Best is trial 18 with value: 0.7916666666666666.\n",
      "[I 2025-02-25 17:07:17,040] Trial 22 finished with value: 0.7916666666666667 and parameters: {'k': 33}. Best is trial 22 with value: 0.7916666666666667.\n",
      "[I 2025-02-25 17:07:17,046] Trial 23 finished with value: 0.4583333333333333 and parameters: {'k': 17}. Best is trial 22 with value: 0.7916666666666667.\n",
      "[I 2025-02-25 17:07:17,053] Trial 24 finished with value: 0.5625 and parameters: {'k': 43}. Best is trial 22 with value: 0.7916666666666667.\n",
      "[I 2025-02-25 17:07:17,059] Trial 25 finished with value: 0.4375 and parameters: {'k': 21}. Best is trial 22 with value: 0.7916666666666667.\n",
      "[I 2025-02-25 17:07:17,066] Trial 26 finished with value: 0.625 and parameters: {'k': 44}. Best is trial 22 with value: 0.7916666666666667.\n",
      "[I 2025-02-25 17:07:17,073] Trial 27 finished with value: 0.49999999999999994 and parameters: {'k': 9}. Best is trial 22 with value: 0.7916666666666667.\n",
      "[I 2025-02-25 17:07:17,080] Trial 28 finished with value: 0.375 and parameters: {'k': 14}. Best is trial 22 with value: 0.7916666666666667.\n",
      "[I 2025-02-25 17:07:17,087] Trial 29 finished with value: 0.625 and parameters: {'k': 26}. Best is trial 22 with value: 0.7916666666666667.\n",
      "[I 2025-02-25 17:07:17,094] Trial 30 finished with value: 0.4166666666666667 and parameters: {'k': 6}. Best is trial 22 with value: 0.7916666666666667.\n",
      "[I 2025-02-25 17:07:17,101] Trial 31 finished with value: 0.5625 and parameters: {'k': 18}. Best is trial 22 with value: 0.7916666666666667.\n",
      "[I 2025-02-25 17:07:17,109] Trial 32 finished with value: 0.6458333333333333 and parameters: {'k': 41}. Best is trial 22 with value: 0.7916666666666667.\n",
      "[I 2025-02-25 17:07:17,117] Trial 33 finished with value: 0.75 and parameters: {'k': 50}. Best is trial 22 with value: 0.7916666666666667.\n",
      "[I 2025-02-25 17:07:17,125] Trial 34 finished with value: 0.4166666666666667 and parameters: {'k': 2}. Best is trial 22 with value: 0.7916666666666667.\n",
      "[I 2025-02-25 17:07:17,133] Trial 35 finished with value: 0.3958333333333333 and parameters: {'k': 13}. Best is trial 22 with value: 0.7916666666666667.\n",
      "[I 2025-02-25 17:07:17,141] Trial 36 finished with value: 0.7291666666666666 and parameters: {'k': 38}. Best is trial 22 with value: 0.7916666666666667.\n",
      "[I 2025-02-25 17:07:17,149] Trial 37 finished with value: 0.625 and parameters: {'k': 25}. Best is trial 22 with value: 0.7916666666666667.\n",
      "[I 2025-02-25 17:07:17,158] Trial 38 finished with value: 0.5208333333333334 and parameters: {'k': 7}. Best is trial 22 with value: 0.7916666666666667.\n",
      "[I 2025-02-25 17:07:17,166] Trial 39 finished with value: 0.625 and parameters: {'k': 24}. Best is trial 22 with value: 0.7916666666666667.\n",
      "[I 2025-02-25 17:07:17,175] Trial 40 finished with value: 0.7291666666666666 and parameters: {'k': 37}. Best is trial 22 with value: 0.7916666666666667.\n",
      "[I 2025-02-25 17:07:17,184] Trial 41 finished with value: 0.39583333333333337 and parameters: {'k': 22}. Best is trial 22 with value: 0.7916666666666667.\n",
      "[I 2025-02-25 17:07:17,193] Trial 42 finished with value: 0.47916666666666663 and parameters: {'k': 20}. Best is trial 22 with value: 0.7916666666666667.\n",
      "[I 2025-02-25 17:07:17,202] Trial 43 finished with value: 0.47916666666666663 and parameters: {'k': 10}. Best is trial 22 with value: 0.7916666666666667.\n",
      "[I 2025-02-25 17:07:17,211] Trial 44 finished with value: 0.6875 and parameters: {'k': 40}. Best is trial 22 with value: 0.7916666666666667.\n",
      "[I 2025-02-25 17:07:17,220] Trial 45 finished with value: 0.6041666666666667 and parameters: {'k': 47}. Best is trial 22 with value: 0.7916666666666667.\n",
      "[I 2025-02-25 17:07:17,230] Trial 46 finished with value: 0.5625 and parameters: {'k': 4}. Best is trial 22 with value: 0.7916666666666667.\n",
      "[I 2025-02-25 17:07:17,239] Trial 47 finished with value: 0.4583333333333333 and parameters: {'k': 1}. Best is trial 22 with value: 0.7916666666666667.\n",
      "[I 2025-02-25 17:07:17,249] Trial 48 finished with value: 0.7083333333333333 and parameters: {'k': 48}. Best is trial 22 with value: 0.7916666666666667.\n",
      "[I 2025-02-25 17:07:17,259] Trial 49 finished with value: 0.5 and parameters: {'k': 45}. Best is trial 22 with value: 0.7916666666666667.\n",
      "[I 2025-02-25 17:07:17,281] A new study created in memory with name: no-name-61659c60-3c8e-4db4-96b8-33fe31553416\n",
      "[I 2025-02-25 17:07:17,285] Trial 0 finished with value: 0.7291666666666667 and parameters: {'k': 29}. Best is trial 0 with value: 0.7291666666666667.\n",
      "[I 2025-02-25 17:07:17,289] Trial 1 finished with value: 0.5625 and parameters: {'k': 12}. Best is trial 0 with value: 0.7291666666666667.\n",
      "[I 2025-02-25 17:07:17,293] Trial 2 finished with value: 0.45833333333333337 and parameters: {'k': 11}. Best is trial 0 with value: 0.7291666666666667.\n",
      "[I 2025-02-25 17:07:17,297] Trial 3 finished with value: 0.47916666666666674 and parameters: {'k': 42}. Best is trial 0 with value: 0.7291666666666667.\n",
      "[I 2025-02-25 17:07:17,301] Trial 4 finished with value: 0.25 and parameters: {'k': 3}. Best is trial 0 with value: 0.7291666666666667.\n",
      "[I 2025-02-25 17:07:17,306] Trial 5 finished with value: 0.7291666666666667 and parameters: {'k': 28}. Best is trial 0 with value: 0.7291666666666667.\n",
      "[I 2025-02-25 17:07:17,310] Trial 6 finished with value: 0.5833333333333333 and parameters: {'k': 39}. Best is trial 0 with value: 0.7291666666666667.\n",
      "[I 2025-02-25 17:07:17,315] Trial 7 finished with value: 0.6875 and parameters: {'k': 32}. Best is trial 0 with value: 0.7291666666666667.\n",
      "[I 2025-02-25 17:07:17,321] Trial 8 finished with value: 0.7916666666666667 and parameters: {'k': 23}. Best is trial 8 with value: 0.7916666666666667.\n",
      "[I 2025-02-25 17:07:17,328] Trial 9 finished with value: 0.20833333333333334 and parameters: {'k': 5}. Best is trial 8 with value: 0.7916666666666667.\n",
      "[I 2025-02-25 17:07:17,333] Trial 10 finished with value: 0.6458333333333333 and parameters: {'k': 34}. Best is trial 8 with value: 0.7916666666666667.\n",
      "[I 2025-02-25 17:07:17,339] Trial 11 finished with value: 0.625 and parameters: {'k': 36}. Best is trial 8 with value: 0.7916666666666667.\n",
      "[I 2025-02-25 17:07:17,344] Trial 12 finished with value: 0.7291666666666667 and parameters: {'k': 27}. Best is trial 8 with value: 0.7916666666666667.\n",
      "[I 2025-02-25 17:07:17,350] Trial 13 finished with value: 0.625 and parameters: {'k': 35}. Best is trial 8 with value: 0.7916666666666667.\n",
      "[I 2025-02-25 17:07:17,355] Trial 14 finished with value: 0.75 and parameters: {'k': 19}. Best is trial 8 with value: 0.7916666666666667.\n",
      "[I 2025-02-25 17:07:17,361] Trial 15 finished with value: 0.5 and parameters: {'k': 8}. Best is trial 8 with value: 0.7916666666666667.\n",
      "[I 2025-02-25 17:07:17,367] Trial 16 finished with value: 0.625 and parameters: {'k': 15}. Best is trial 8 with value: 0.7916666666666667.\n",
      "[I 2025-02-25 17:07:17,373] Trial 17 finished with value: 0.7916666666666667 and parameters: {'k': 46}. Best is trial 8 with value: 0.7916666666666667.\n",
      "[I 2025-02-25 17:07:17,379] Trial 18 finished with value: 0.7708333333333334 and parameters: {'k': 49}. Best is trial 8 with value: 0.7916666666666667.\n",
      "[I 2025-02-25 17:07:17,385] Trial 19 finished with value: 0.7083333333333333 and parameters: {'k': 30}. Best is trial 8 with value: 0.7916666666666667.\n",
      "[I 2025-02-25 17:07:17,391] Trial 20 finished with value: 0.8125 and parameters: {'k': 16}. Best is trial 20 with value: 0.8125.\n",
      "[I 2025-02-25 17:07:17,398] Trial 21 finished with value: 0.6875 and parameters: {'k': 31}. Best is trial 20 with value: 0.8125.\n",
      "[I 2025-02-25 17:07:17,405] Trial 22 finished with value: 0.6875 and parameters: {'k': 33}. Best is trial 20 with value: 0.8125.\n",
      "[I 2025-02-25 17:07:17,411] Trial 23 finished with value: 0.7708333333333334 and parameters: {'k': 17}. Best is trial 20 with value: 0.8125.\n",
      "[I 2025-02-25 17:07:17,418] Trial 24 finished with value: 0.45833333333333337 and parameters: {'k': 43}. Best is trial 20 with value: 0.8125.\n",
      "[I 2025-02-25 17:07:17,425] Trial 25 finished with value: 0.8333333333333333 and parameters: {'k': 21}. Best is trial 25 with value: 0.8333333333333333.\n",
      "[I 2025-02-25 17:07:17,433] Trial 26 finished with value: 0.375 and parameters: {'k': 44}. Best is trial 25 with value: 0.8333333333333333.\n",
      "[I 2025-02-25 17:07:17,440] Trial 27 finished with value: 0.5 and parameters: {'k': 9}. Best is trial 25 with value: 0.8333333333333333.\n",
      "[I 2025-02-25 17:07:17,447] Trial 28 finished with value: 0.6458333333333334 and parameters: {'k': 14}. Best is trial 25 with value: 0.8333333333333333.\n",
      "[I 2025-02-25 17:07:17,455] Trial 29 finished with value: 0.7291666666666667 and parameters: {'k': 26}. Best is trial 25 with value: 0.8333333333333333.\n",
      "[I 2025-02-25 17:07:17,463] Trial 30 finished with value: 0.3125 and parameters: {'k': 6}. Best is trial 25 with value: 0.8333333333333333.\n"
     ]
    },
    {
     "name": "stdout",
     "output_type": "stream",
     "text": [
      "Model: VocoExtractor\n",
      "134\n"
     ]
    },
    {
     "name": "stderr",
     "output_type": "stream",
     "text": [
      "[I 2025-02-25 17:07:17,471] Trial 31 finished with value: 0.75 and parameters: {'k': 18}. Best is trial 25 with value: 0.8333333333333333.\n",
      "[I 2025-02-25 17:07:17,479] Trial 32 finished with value: 0.5625 and parameters: {'k': 41}. Best is trial 25 with value: 0.8333333333333333.\n",
      "[I 2025-02-25 17:07:17,487] Trial 33 finished with value: 0.7291666666666667 and parameters: {'k': 50}. Best is trial 25 with value: 0.8333333333333333.\n",
      "[I 2025-02-25 17:07:17,499] Trial 34 finished with value: 0.375 and parameters: {'k': 2}. Best is trial 25 with value: 0.8333333333333333.\n",
      "[I 2025-02-25 17:07:17,508] Trial 35 finished with value: 0.5833333333333334 and parameters: {'k': 13}. Best is trial 25 with value: 0.8333333333333333.\n",
      "[I 2025-02-25 17:07:17,517] Trial 36 finished with value: 0.5833333333333333 and parameters: {'k': 38}. Best is trial 25 with value: 0.8333333333333333.\n",
      "[I 2025-02-25 17:07:17,525] Trial 37 finished with value: 0.75 and parameters: {'k': 25}. Best is trial 25 with value: 0.8333333333333333.\n",
      "[I 2025-02-25 17:07:17,534] Trial 38 finished with value: 0.33333333333333337 and parameters: {'k': 7}. Best is trial 25 with value: 0.8333333333333333.\n",
      "[I 2025-02-25 17:07:17,545] Trial 39 finished with value: 0.75 and parameters: {'k': 24}. Best is trial 25 with value: 0.8333333333333333.\n",
      "[I 2025-02-25 17:07:17,554] Trial 40 finished with value: 0.5833333333333333 and parameters: {'k': 37}. Best is trial 25 with value: 0.8333333333333333.\n",
      "[I 2025-02-25 17:07:17,563] Trial 41 finished with value: 0.8125 and parameters: {'k': 22}. Best is trial 25 with value: 0.8333333333333333.\n",
      "[I 2025-02-25 17:07:17,572] Trial 42 finished with value: 0.875 and parameters: {'k': 20}. Best is trial 42 with value: 0.875.\n",
      "[I 2025-02-25 17:07:17,582] Trial 43 finished with value: 0.4791666666666667 and parameters: {'k': 10}. Best is trial 42 with value: 0.875.\n",
      "[I 2025-02-25 17:07:17,591] Trial 44 finished with value: 0.5833333333333333 and parameters: {'k': 40}. Best is trial 42 with value: 0.875.\n",
      "[I 2025-02-25 17:07:17,601] Trial 45 finished with value: 0.75 and parameters: {'k': 47}. Best is trial 42 with value: 0.875.\n",
      "[I 2025-02-25 17:07:17,611] Trial 46 finished with value: 0.25 and parameters: {'k': 4}. Best is trial 42 with value: 0.875.\n",
      "[I 2025-02-25 17:07:17,621] Trial 47 finished with value: 0.375 and parameters: {'k': 1}. Best is trial 42 with value: 0.875.\n",
      "[I 2025-02-25 17:07:17,631] Trial 48 finished with value: 0.6666666666666666 and parameters: {'k': 48}. Best is trial 42 with value: 0.875.\n",
      "[I 2025-02-25 17:07:17,642] Trial 49 finished with value: 0.5 and parameters: {'k': 45}. Best is trial 42 with value: 0.875.\n",
      "[I 2025-02-25 17:07:17,650] A new study created in memory with name: no-name-424e860b-c2b8-422b-abec-39606f508a2e\n",
      "[I 2025-02-25 17:07:17,654] Trial 0 finished with value: 0.6875 and parameters: {'k': 29}. Best is trial 0 with value: 0.6875.\n",
      "[I 2025-02-25 17:07:17,658] Trial 1 finished with value: 0.7291666666666667 and parameters: {'k': 12}. Best is trial 1 with value: 0.7291666666666667.\n",
      "[I 2025-02-25 17:07:17,662] Trial 2 finished with value: 0.75 and parameters: {'k': 11}. Best is trial 2 with value: 0.75.\n",
      "[I 2025-02-25 17:07:17,666] Trial 3 finished with value: 0.6666666666666666 and parameters: {'k': 42}. Best is trial 2 with value: 0.75.\n",
      "[I 2025-02-25 17:07:17,670] Trial 4 finished with value: 0.7916666666666667 and parameters: {'k': 3}. Best is trial 4 with value: 0.7916666666666667.\n",
      "[I 2025-02-25 17:07:17,674] Trial 5 finished with value: 0.6666666666666666 and parameters: {'k': 28}. Best is trial 4 with value: 0.7916666666666667.\n",
      "[I 2025-02-25 17:07:17,679] Trial 6 finished with value: 0.7083333333333333 and parameters: {'k': 39}. Best is trial 4 with value: 0.7916666666666667.\n",
      "[I 2025-02-25 17:07:17,684] Trial 7 finished with value: 0.625 and parameters: {'k': 32}. Best is trial 4 with value: 0.7916666666666667.\n",
      "[I 2025-02-25 17:07:17,689] Trial 8 finished with value: 0.7708333333333334 and parameters: {'k': 23}. Best is trial 4 with value: 0.7916666666666667.\n",
      "[I 2025-02-25 17:07:17,693] Trial 9 finished with value: 0.7916666666666667 and parameters: {'k': 5}. Best is trial 4 with value: 0.7916666666666667.\n",
      "[I 2025-02-25 17:07:17,699] Trial 10 finished with value: 0.6041666666666667 and parameters: {'k': 34}. Best is trial 4 with value: 0.7916666666666667.\n",
      "[I 2025-02-25 17:07:17,704] Trial 11 finished with value: 0.6041666666666667 and parameters: {'k': 36}. Best is trial 4 with value: 0.7916666666666667.\n",
      "[I 2025-02-25 17:07:17,709] Trial 12 finished with value: 0.7291666666666666 and parameters: {'k': 27}. Best is trial 4 with value: 0.7916666666666667.\n",
      "[I 2025-02-25 17:07:17,715] Trial 13 finished with value: 0.6041666666666667 and parameters: {'k': 35}. Best is trial 4 with value: 0.7916666666666667.\n",
      "[I 2025-02-25 17:07:17,720] Trial 14 finished with value: 0.6666666666666666 and parameters: {'k': 19}. Best is trial 4 with value: 0.7916666666666667.\n",
      "[I 2025-02-25 17:07:17,726] Trial 15 finished with value: 0.7708333333333334 and parameters: {'k': 8}. Best is trial 4 with value: 0.7916666666666667.\n",
      "[I 2025-02-25 17:07:17,732] Trial 16 finished with value: 0.6875 and parameters: {'k': 15}. Best is trial 4 with value: 0.7916666666666667.\n",
      "[I 2025-02-25 17:07:17,738] Trial 17 finished with value: 0.5416666666666666 and parameters: {'k': 46}. Best is trial 4 with value: 0.7916666666666667.\n",
      "[I 2025-02-25 17:07:17,744] Trial 18 finished with value: 0.4583333333333333 and parameters: {'k': 49}. Best is trial 4 with value: 0.7916666666666667.\n",
      "[I 2025-02-25 17:07:17,751] Trial 19 finished with value: 0.6666666666666666 and parameters: {'k': 30}. Best is trial 4 with value: 0.7916666666666667.\n",
      "[I 2025-02-25 17:07:17,757] Trial 20 finished with value: 0.6666666666666666 and parameters: {'k': 16}. Best is trial 4 with value: 0.7916666666666667.\n",
      "[I 2025-02-25 17:07:17,763] Trial 21 finished with value: 0.6458333333333333 and parameters: {'k': 31}. Best is trial 4 with value: 0.7916666666666667.\n",
      "[I 2025-02-25 17:07:17,770] Trial 22 finished with value: 0.625 and parameters: {'k': 33}. Best is trial 4 with value: 0.7916666666666667.\n",
      "[I 2025-02-25 17:07:17,777] Trial 23 finished with value: 0.6458333333333334 and parameters: {'k': 17}. Best is trial 4 with value: 0.7916666666666667.\n",
      "[I 2025-02-25 17:07:17,784] Trial 24 finished with value: 0.6458333333333333 and parameters: {'k': 43}. Best is trial 4 with value: 0.7916666666666667.\n",
      "[I 2025-02-25 17:07:17,791] Trial 25 finished with value: 0.7916666666666666 and parameters: {'k': 21}. Best is trial 4 with value: 0.7916666666666667.\n",
      "[I 2025-02-25 17:07:17,798] Trial 26 finished with value: 0.6041666666666666 and parameters: {'k': 44}. Best is trial 4 with value: 0.7916666666666667.\n",
      "[I 2025-02-25 17:07:17,805] Trial 27 finished with value: 0.7708333333333334 and parameters: {'k': 9}. Best is trial 4 with value: 0.7916666666666667.\n",
      "[I 2025-02-25 17:07:17,812] Trial 28 finished with value: 0.7291666666666667 and parameters: {'k': 14}. Best is trial 4 with value: 0.7916666666666667.\n",
      "[I 2025-02-25 17:07:17,820] Trial 29 finished with value: 0.7291666666666666 and parameters: {'k': 26}. Best is trial 4 with value: 0.7916666666666667.\n",
      "[I 2025-02-25 17:07:17,828] Trial 30 finished with value: 0.7083333333333334 and parameters: {'k': 6}. Best is trial 4 with value: 0.7916666666666667.\n",
      "[I 2025-02-25 17:07:17,836] Trial 31 finished with value: 0.6875 and parameters: {'k': 18}. Best is trial 4 with value: 0.7916666666666667.\n",
      "[I 2025-02-25 17:07:17,844] Trial 32 finished with value: 0.7083333333333333 and parameters: {'k': 41}. Best is trial 4 with value: 0.7916666666666667.\n",
      "[I 2025-02-25 17:07:17,852] Trial 33 finished with value: 0.4583333333333333 and parameters: {'k': 50}. Best is trial 4 with value: 0.7916666666666667.\n",
      "[I 2025-02-25 17:07:17,860] Trial 34 finished with value: 0.5833333333333333 and parameters: {'k': 2}. Best is trial 4 with value: 0.7916666666666667.\n",
      "[I 2025-02-25 17:07:17,869] Trial 35 finished with value: 0.7291666666666667 and parameters: {'k': 13}. Best is trial 4 with value: 0.7916666666666667.\n",
      "[I 2025-02-25 17:07:17,877] Trial 36 finished with value: 0.7291666666666666 and parameters: {'k': 38}. Best is trial 4 with value: 0.7916666666666667.\n",
      "[I 2025-02-25 17:07:17,886] Trial 37 finished with value: 0.7291666666666666 and parameters: {'k': 25}. Best is trial 4 with value: 0.7916666666666667.\n",
      "[I 2025-02-25 17:07:17,895] Trial 38 finished with value: 0.6666666666666666 and parameters: {'k': 7}. Best is trial 4 with value: 0.7916666666666667.\n",
      "[I 2025-02-25 17:07:17,904] Trial 39 finished with value: 0.75 and parameters: {'k': 24}. Best is trial 4 with value: 0.7916666666666667.\n",
      "[I 2025-02-25 17:07:17,913] Trial 40 finished with value: 0.5833333333333334 and parameters: {'k': 37}. Best is trial 4 with value: 0.7916666666666667.\n",
      "[I 2025-02-25 17:07:17,922] Trial 41 finished with value: 0.7708333333333334 and parameters: {'k': 22}. Best is trial 4 with value: 0.7916666666666667.\n",
      "[I 2025-02-25 17:07:17,931] Trial 42 finished with value: 0.6666666666666666 and parameters: {'k': 20}. Best is trial 4 with value: 0.7916666666666667.\n",
      "[I 2025-02-25 17:07:17,941] Trial 43 finished with value: 0.7916666666666667 and parameters: {'k': 10}. Best is trial 4 with value: 0.7916666666666667.\n",
      "[I 2025-02-25 17:07:17,951] Trial 44 finished with value: 0.6875 and parameters: {'k': 40}. Best is trial 4 with value: 0.7916666666666667.\n",
      "[I 2025-02-25 17:07:17,961] Trial 45 finished with value: 0.5208333333333334 and parameters: {'k': 47}. Best is trial 4 with value: 0.7916666666666667.\n",
      "[I 2025-02-25 17:07:17,970] Trial 46 finished with value: 0.7916666666666667 and parameters: {'k': 4}. Best is trial 4 with value: 0.7916666666666667.\n",
      "[I 2025-02-25 17:07:17,980] Trial 47 finished with value: 0.4583333333333333 and parameters: {'k': 1}. Best is trial 4 with value: 0.7916666666666667.\n",
      "[I 2025-02-25 17:07:17,991] Trial 48 finished with value: 0.5208333333333334 and parameters: {'k': 48}. Best is trial 4 with value: 0.7916666666666667.\n",
      "[I 2025-02-25 17:07:18,001] Trial 49 finished with value: 0.5625 and parameters: {'k': 45}. Best is trial 4 with value: 0.7916666666666667.\n",
      "[I 2025-02-25 17:07:18,007] A new study created in memory with name: no-name-80472025-87d9-43be-a15d-748172cc605c\n",
      "[I 2025-02-25 17:07:18,011] Trial 0 finished with value: 0.3333333333333333 and parameters: {'k': 29}. Best is trial 0 with value: 0.3333333333333333.\n",
      "[I 2025-02-25 17:07:18,015] Trial 1 finished with value: 0.5 and parameters: {'k': 12}. Best is trial 1 with value: 0.5.\n",
      "[I 2025-02-25 17:07:18,019] Trial 2 finished with value: 0.5 and parameters: {'k': 11}. Best is trial 1 with value: 0.5.\n",
      "[I 2025-02-25 17:07:18,023] Trial 3 finished with value: 0.22916666666666666 and parameters: {'k': 42}. Best is trial 1 with value: 0.5.\n",
      "[I 2025-02-25 17:07:18,027] Trial 4 finished with value: 0.5 and parameters: {'k': 3}. Best is trial 1 with value: 0.5.\n",
      "[I 2025-02-25 17:07:18,032] Trial 5 finished with value: 0.375 and parameters: {'k': 28}. Best is trial 1 with value: 0.5.\n",
      "[I 2025-02-25 17:07:18,036] Trial 6 finished with value: 0.14583333333333331 and parameters: {'k': 39}. Best is trial 1 with value: 0.5.\n",
      "[I 2025-02-25 17:07:18,041] Trial 7 finished with value: 0.33333333333333337 and parameters: {'k': 32}. Best is trial 1 with value: 0.5.\n",
      "[I 2025-02-25 17:07:18,046] Trial 8 finished with value: 0.5416666666666666 and parameters: {'k': 23}. Best is trial 8 with value: 0.5416666666666666.\n",
      "[I 2025-02-25 17:07:18,051] Trial 9 finished with value: 0.625 and parameters: {'k': 5}. Best is trial 9 with value: 0.625.\n",
      "[I 2025-02-25 17:07:18,056] Trial 10 finished with value: 0.25 and parameters: {'k': 34}. Best is trial 9 with value: 0.625.\n",
      "[I 2025-02-25 17:07:18,061] Trial 11 finished with value: 0.16666666666666666 and parameters: {'k': 36}. Best is trial 9 with value: 0.625.\n",
      "[I 2025-02-25 17:07:18,067] Trial 12 finished with value: 0.375 and parameters: {'k': 27}. Best is trial 9 with value: 0.625.\n",
      "[I 2025-02-25 17:07:18,072] Trial 13 finished with value: 0.20833333333333331 and parameters: {'k': 35}. Best is trial 9 with value: 0.625.\n",
      "[I 2025-02-25 17:07:18,078] Trial 14 finished with value: 0.6458333333333334 and parameters: {'k': 19}. Best is trial 14 with value: 0.6458333333333334.\n",
      "[I 2025-02-25 17:07:18,083] Trial 15 finished with value: 0.5416666666666666 and parameters: {'k': 8}. Best is trial 14 with value: 0.6458333333333334.\n",
      "[I 2025-02-25 17:07:18,089] Trial 16 finished with value: 0.4166666666666667 and parameters: {'k': 15}. Best is trial 14 with value: 0.6458333333333334.\n",
      "[I 2025-02-25 17:07:18,095] Trial 17 finished with value: 0.20833333333333334 and parameters: {'k': 46}. Best is trial 14 with value: 0.6458333333333334.\n",
      "[I 2025-02-25 17:07:18,102] Trial 18 finished with value: 0.08333333333333333 and parameters: {'k': 49}. Best is trial 14 with value: 0.6458333333333334.\n",
      "[I 2025-02-25 17:07:18,108] Trial 19 finished with value: 0.2916666666666667 and parameters: {'k': 30}. Best is trial 14 with value: 0.6458333333333334.\n",
      "[I 2025-02-25 17:07:18,114] Trial 20 finished with value: 0.4166666666666667 and parameters: {'k': 16}. Best is trial 14 with value: 0.6458333333333334.\n",
      "[I 2025-02-25 17:07:18,121] Trial 21 finished with value: 0.3541666666666667 and parameters: {'k': 31}. Best is trial 14 with value: 0.6458333333333334.\n",
      "[I 2025-02-25 17:07:18,128] Trial 22 finished with value: 0.27083333333333337 and parameters: {'k': 33}. Best is trial 14 with value: 0.6458333333333334.\n",
      "[I 2025-02-25 17:07:18,134] Trial 23 finished with value: 0.5 and parameters: {'k': 17}. Best is trial 14 with value: 0.6458333333333334.\n",
      "[I 2025-02-25 17:07:18,141] Trial 24 finished with value: 0.25 and parameters: {'k': 43}. Best is trial 14 with value: 0.6458333333333334.\n",
      "[I 2025-02-25 17:07:18,149] Trial 25 finished with value: 0.7083333333333334 and parameters: {'k': 21}. Best is trial 25 with value: 0.7083333333333334.\n",
      "[I 2025-02-25 17:07:18,156] Trial 26 finished with value: 0.20833333333333334 and parameters: {'k': 44}. Best is trial 25 with value: 0.7083333333333334.\n",
      "[I 2025-02-25 17:07:18,163] Trial 27 finished with value: 0.5416666666666666 and parameters: {'k': 9}. Best is trial 25 with value: 0.7083333333333334.\n",
      "[I 2025-02-25 17:07:18,171] Trial 28 finished with value: 0.4166666666666667 and parameters: {'k': 14}. Best is trial 25 with value: 0.7083333333333334.\n",
      "[I 2025-02-25 17:07:18,178] Trial 29 finished with value: 0.375 and parameters: {'k': 26}. Best is trial 25 with value: 0.7083333333333334.\n",
      "[I 2025-02-25 17:07:18,186] Trial 30 finished with value: 0.625 and parameters: {'k': 6}. Best is trial 25 with value: 0.7083333333333334.\n",
      "[I 2025-02-25 17:07:18,194] Trial 31 finished with value: 0.5 and parameters: {'k': 18}. Best is trial 25 with value: 0.7083333333333334.\n",
      "[I 2025-02-25 17:07:18,202] Trial 32 finished with value: 0.25 and parameters: {'k': 41}. Best is trial 25 with value: 0.7083333333333334.\n",
      "[I 2025-02-25 17:07:18,210] Trial 33 finished with value: 0.08333333333333333 and parameters: {'k': 50}. Best is trial 25 with value: 0.7083333333333334.\n",
      "[I 2025-02-25 17:07:18,219] Trial 34 finished with value: 0.2916666666666667 and parameters: {'k': 2}. Best is trial 25 with value: 0.7083333333333334.\n",
      "[I 2025-02-25 17:07:18,227] Trial 35 finished with value: 0.4166666666666667 and parameters: {'k': 13}. Best is trial 25 with value: 0.7083333333333334.\n",
      "[I 2025-02-25 17:07:18,236] Trial 36 finished with value: 0.14583333333333331 and parameters: {'k': 38}. Best is trial 25 with value: 0.7083333333333334.\n",
      "[I 2025-02-25 17:07:18,244] Trial 37 finished with value: 0.4583333333333333 and parameters: {'k': 25}. Best is trial 25 with value: 0.7083333333333334.\n",
      "[I 2025-02-25 17:07:18,253] Trial 38 finished with value: 0.5833333333333334 and parameters: {'k': 7}. Best is trial 25 with value: 0.7083333333333334.\n",
      "[I 2025-02-25 17:07:18,262] Trial 39 finished with value: 0.5416666666666666 and parameters: {'k': 24}. Best is trial 25 with value: 0.7083333333333334.\n",
      "[I 2025-02-25 17:07:18,271] Trial 40 finished with value: 0.16666666666666666 and parameters: {'k': 37}. Best is trial 25 with value: 0.7083333333333334.\n",
      "[I 2025-02-25 17:07:18,280] Trial 41 finished with value: 0.6666666666666666 and parameters: {'k': 22}. Best is trial 25 with value: 0.7083333333333334.\n",
      "[I 2025-02-25 17:07:18,290] Trial 42 finished with value: 0.5625 and parameters: {'k': 20}. Best is trial 25 with value: 0.7083333333333334.\n",
      "[I 2025-02-25 17:07:18,299] Trial 43 finished with value: 0.5416666666666666 and parameters: {'k': 10}. Best is trial 25 with value: 0.7083333333333334.\n",
      "[I 2025-02-25 17:07:18,309] Trial 44 finished with value: 0.3541666666666667 and parameters: {'k': 40}. Best is trial 25 with value: 0.7083333333333334.\n",
      "[I 2025-02-25 17:07:18,319] Trial 45 finished with value: 0.20833333333333334 and parameters: {'k': 47}. Best is trial 25 with value: 0.7083333333333334.\n",
      "[I 2025-02-25 17:07:18,329] Trial 46 finished with value: 0.47916666666666663 and parameters: {'k': 4}. Best is trial 25 with value: 0.7083333333333334.\n",
      "[I 2025-02-25 17:07:18,339] Trial 47 finished with value: 0.4583333333333333 and parameters: {'k': 1}. Best is trial 25 with value: 0.7083333333333334.\n",
      "[I 2025-02-25 17:07:18,349] Trial 48 finished with value: 0.08333333333333333 and parameters: {'k': 48}. Best is trial 25 with value: 0.7083333333333334.\n",
      "[I 2025-02-25 17:07:18,359] Trial 49 finished with value: 0.20833333333333334 and parameters: {'k': 45}. Best is trial 25 with value: 0.7083333333333334.\n",
      "[I 2025-02-25 17:07:18,365] A new study created in memory with name: no-name-52801adc-e4f8-4fb2-aeb7-7268deee2ea7\n",
      "[I 2025-02-25 17:07:18,369] Trial 0 finished with value: 0.20833333333333331 and parameters: {'k': 29}. Best is trial 0 with value: 0.20833333333333331.\n",
      "[I 2025-02-25 17:07:18,373] Trial 1 finished with value: 0.7916666666666667 and parameters: {'k': 12}. Best is trial 1 with value: 0.7916666666666667.\n",
      "[I 2025-02-25 17:07:18,378] Trial 2 finished with value: 0.8333333333333333 and parameters: {'k': 11}. Best is trial 2 with value: 0.8333333333333333.\n",
      "[I 2025-02-25 17:07:18,383] Trial 3 finished with value: 0.375 and parameters: {'k': 42}. Best is trial 2 with value: 0.8333333333333333.\n",
      "[I 2025-02-25 17:07:18,387] Trial 4 finished with value: 0.625 and parameters: {'k': 3}. Best is trial 2 with value: 0.8333333333333333.\n",
      "[I 2025-02-25 17:07:18,391] Trial 5 finished with value: 0.33333333333333337 and parameters: {'k': 28}. Best is trial 2 with value: 0.8333333333333333.\n",
      "[I 2025-02-25 17:07:18,396] Trial 6 finished with value: 0.47916666666666663 and parameters: {'k': 39}. Best is trial 2 with value: 0.8333333333333333.\n",
      "[I 2025-02-25 17:07:18,401] Trial 7 finished with value: 0.375 and parameters: {'k': 32}. Best is trial 2 with value: 0.8333333333333333.\n",
      "[I 2025-02-25 17:07:18,406] Trial 8 finished with value: 0.5833333333333334 and parameters: {'k': 23}. Best is trial 2 with value: 0.8333333333333333.\n",
      "[I 2025-02-25 17:07:18,410] Trial 9 finished with value: 0.6666666666666666 and parameters: {'k': 5}. Best is trial 2 with value: 0.8333333333333333.\n",
      "[I 2025-02-25 17:07:18,415] Trial 10 finished with value: 0.33333333333333337 and parameters: {'k': 34}. Best is trial 2 with value: 0.8333333333333333.\n",
      "[I 2025-02-25 17:07:18,421] Trial 11 finished with value: 0.4166666666666667 and parameters: {'k': 36}. Best is trial 2 with value: 0.8333333333333333.\n",
      "[I 2025-02-25 17:07:18,426] Trial 12 finished with value: 0.375 and parameters: {'k': 27}. Best is trial 2 with value: 0.8333333333333333.\n",
      "[I 2025-02-25 17:07:18,432] Trial 13 finished with value: 0.25 and parameters: {'k': 35}. Best is trial 2 with value: 0.8333333333333333.\n",
      "[I 2025-02-25 17:07:18,437] Trial 14 finished with value: 0.6666666666666666 and parameters: {'k': 19}. Best is trial 2 with value: 0.8333333333333333.\n",
      "[I 2025-02-25 17:07:18,443] Trial 15 finished with value: 0.6458333333333333 and parameters: {'k': 8}. Best is trial 2 with value: 0.8333333333333333.\n",
      "[I 2025-02-25 17:07:18,449] Trial 16 finished with value: 0.6458333333333334 and parameters: {'k': 15}. Best is trial 2 with value: 0.8333333333333333.\n",
      "[I 2025-02-25 17:07:18,455] Trial 17 finished with value: 0.45833333333333337 and parameters: {'k': 46}. Best is trial 2 with value: 0.8333333333333333.\n",
      "[I 2025-02-25 17:07:18,461] Trial 18 finished with value: 0.5 and parameters: {'k': 49}. Best is trial 2 with value: 0.8333333333333333.\n",
      "[I 2025-02-25 17:07:18,468] Trial 19 finished with value: 0.20833333333333331 and parameters: {'k': 30}. Best is trial 2 with value: 0.8333333333333333.\n",
      "[I 2025-02-25 17:07:18,474] Trial 20 finished with value: 0.625 and parameters: {'k': 16}. Best is trial 2 with value: 0.8333333333333333.\n",
      "[I 2025-02-25 17:07:18,480] Trial 21 finished with value: 0.125 and parameters: {'k': 31}. Best is trial 2 with value: 0.8333333333333333.\n",
      "[I 2025-02-25 17:07:18,487] Trial 22 finished with value: 0.33333333333333337 and parameters: {'k': 33}. Best is trial 2 with value: 0.8333333333333333.\n",
      "[I 2025-02-25 17:07:18,494] Trial 23 finished with value: 0.75 and parameters: {'k': 17}. Best is trial 2 with value: 0.8333333333333333.\n",
      "[I 2025-02-25 17:07:18,501] Trial 24 finished with value: 0.375 and parameters: {'k': 43}. Best is trial 2 with value: 0.8333333333333333.\n",
      "[I 2025-02-25 17:07:18,508] Trial 25 finished with value: 0.625 and parameters: {'k': 21}. Best is trial 2 with value: 0.8333333333333333.\n",
      "[I 2025-02-25 17:07:18,515] Trial 26 finished with value: 0.3333333333333333 and parameters: {'k': 44}. Best is trial 2 with value: 0.8333333333333333.\n",
      "[I 2025-02-25 17:07:18,522] Trial 27 finished with value: 0.8333333333333333 and parameters: {'k': 9}. Best is trial 2 with value: 0.8333333333333333.\n",
      "[I 2025-02-25 17:07:18,530] Trial 28 finished with value: 0.7291666666666667 and parameters: {'k': 14}. Best is trial 2 with value: 0.8333333333333333.\n",
      "[I 2025-02-25 17:07:18,537] Trial 29 finished with value: 0.41666666666666663 and parameters: {'k': 26}. Best is trial 2 with value: 0.8333333333333333.\n",
      "[I 2025-02-25 17:07:18,545] Trial 30 finished with value: 0.5416666666666667 and parameters: {'k': 6}. Best is trial 2 with value: 0.8333333333333333.\n",
      "[I 2025-02-25 17:07:18,553] Trial 31 finished with value: 0.75 and parameters: {'k': 18}. Best is trial 2 with value: 0.8333333333333333.\n",
      "[I 2025-02-25 17:07:18,561] Trial 32 finished with value: 0.5 and parameters: {'k': 41}. Best is trial 2 with value: 0.8333333333333333.\n",
      "[I 2025-02-25 17:07:18,569] Trial 33 finished with value: 0.6041666666666666 and parameters: {'k': 50}. Best is trial 2 with value: 0.8333333333333333.\n",
      "[I 2025-02-25 17:07:18,577] Trial 34 finished with value: 0.6666666666666667 and parameters: {'k': 2}. Best is trial 2 with value: 0.8333333333333333.\n",
      "[I 2025-02-25 17:07:18,585] Trial 35 finished with value: 0.7708333333333334 and parameters: {'k': 13}. Best is trial 2 with value: 0.8333333333333333.\n",
      "[I 2025-02-25 17:07:18,594] Trial 36 finished with value: 0.5208333333333334 and parameters: {'k': 38}. Best is trial 2 with value: 0.8333333333333333.\n",
      "[I 2025-02-25 17:07:18,603] Trial 37 finished with value: 0.5 and parameters: {'k': 25}. Best is trial 2 with value: 0.8333333333333333.\n",
      "[I 2025-02-25 17:07:18,611] Trial 38 finished with value: 0.6875 and parameters: {'k': 7}. Best is trial 2 with value: 0.8333333333333333.\n",
      "[I 2025-02-25 17:07:18,620] Trial 39 finished with value: 0.5416666666666666 and parameters: {'k': 24}. Best is trial 2 with value: 0.8333333333333333.\n",
      "[I 2025-02-25 17:07:18,629] Trial 40 finished with value: 0.375 and parameters: {'k': 37}. Best is trial 2 with value: 0.8333333333333333.\n",
      "[I 2025-02-25 17:07:18,638] Trial 41 finished with value: 0.625 and parameters: {'k': 22}. Best is trial 2 with value: 0.8333333333333333.\n",
      "[I 2025-02-25 17:07:18,648] Trial 42 finished with value: 0.625 and parameters: {'k': 20}. Best is trial 2 with value: 0.8333333333333333.\n",
      "[I 2025-02-25 17:07:18,657] Trial 43 finished with value: 0.8333333333333333 and parameters: {'k': 10}. Best is trial 2 with value: 0.8333333333333333.\n",
      "[I 2025-02-25 17:07:18,667] Trial 44 finished with value: 0.5833333333333334 and parameters: {'k': 40}. Best is trial 2 with value: 0.8333333333333333.\n",
      "[I 2025-02-25 17:07:18,677] Trial 45 finished with value: 0.45833333333333337 and parameters: {'k': 47}. Best is trial 2 with value: 0.8333333333333333.\n",
      "[I 2025-02-25 17:07:18,687] Trial 46 finished with value: 0.875 and parameters: {'k': 4}. Best is trial 46 with value: 0.875.\n",
      "[I 2025-02-25 17:07:18,697] Trial 47 finished with value: 0.6666666666666667 and parameters: {'k': 1}. Best is trial 46 with value: 0.875.\n",
      "[I 2025-02-25 17:07:18,707] Trial 48 finished with value: 0.3125 and parameters: {'k': 48}. Best is trial 46 with value: 0.875.\n",
      "[I 2025-02-25 17:07:18,717] Trial 49 finished with value: 0.2916666666666667 and parameters: {'k': 45}. Best is trial 46 with value: 0.875.\n",
      "[I 2025-02-25 17:07:18,723] A new study created in memory with name: no-name-51461d2d-f46c-49e3-942c-547490302d72\n",
      "[I 2025-02-25 17:07:18,727] Trial 0 finished with value: 0.33333333333333337 and parameters: {'k': 29}. Best is trial 0 with value: 0.33333333333333337.\n",
      "[I 2025-02-25 17:07:18,731] Trial 1 finished with value: 0.20833333333333334 and parameters: {'k': 12}. Best is trial 0 with value: 0.33333333333333337.\n",
      "[I 2025-02-25 17:07:18,735] Trial 2 finished with value: 0.20833333333333334 and parameters: {'k': 11}. Best is trial 0 with value: 0.33333333333333337.\n",
      "[I 2025-02-25 17:07:18,739] Trial 3 finished with value: 0.25 and parameters: {'k': 42}. Best is trial 0 with value: 0.33333333333333337.\n",
      "[I 2025-02-25 17:07:18,743] Trial 4 finished with value: 0.25 and parameters: {'k': 3}. Best is trial 0 with value: 0.33333333333333337.\n",
      "[I 2025-02-25 17:07:18,748] Trial 5 finished with value: 0.375 and parameters: {'k': 28}. Best is trial 5 with value: 0.375.\n",
      "[I 2025-02-25 17:07:18,752] Trial 6 finished with value: 0.25 and parameters: {'k': 39}. Best is trial 5 with value: 0.375.\n",
      "[I 2025-02-25 17:07:18,757] Trial 7 finished with value: 0.08333333333333333 and parameters: {'k': 32}. Best is trial 5 with value: 0.375.\n",
      "[I 2025-02-25 17:07:18,762] Trial 8 finished with value: 0.41666666666666663 and parameters: {'k': 23}. Best is trial 8 with value: 0.41666666666666663.\n",
      "[I 2025-02-25 17:07:18,767] Trial 9 finished with value: 0.20833333333333334 and parameters: {'k': 5}. Best is trial 8 with value: 0.41666666666666663.\n",
      "[I 2025-02-25 17:07:18,772] Trial 10 finished with value: 0.041666666666666664 and parameters: {'k': 34}. Best is trial 8 with value: 0.41666666666666663.\n",
      "[I 2025-02-25 17:07:18,777] Trial 11 finished with value: 0.041666666666666664 and parameters: {'k': 36}. Best is trial 8 with value: 0.41666666666666663.\n",
      "[I 2025-02-25 17:07:18,782] Trial 12 finished with value: 0.375 and parameters: {'k': 27}. Best is trial 8 with value: 0.41666666666666663.\n",
      "[I 2025-02-25 17:07:18,788] Trial 13 finished with value: 0.041666666666666664 and parameters: {'k': 35}. Best is trial 8 with value: 0.41666666666666663.\n",
      "[I 2025-02-25 17:07:18,794] Trial 14 finished with value: 0.27083333333333337 and parameters: {'k': 19}. Best is trial 8 with value: 0.41666666666666663.\n",
      "[I 2025-02-25 17:07:18,799] Trial 15 finished with value: 0.20833333333333334 and parameters: {'k': 8}. Best is trial 8 with value: 0.41666666666666663.\n",
      "[I 2025-02-25 17:07:18,805] Trial 16 finished with value: 0.2708333333333333 and parameters: {'k': 15}. Best is trial 8 with value: 0.41666666666666663.\n",
      "[I 2025-02-25 17:07:18,811] Trial 17 finished with value: 0.2916666666666667 and parameters: {'k': 46}. Best is trial 8 with value: 0.41666666666666663.\n",
      "[I 2025-02-25 17:07:18,818] Trial 18 finished with value: 0.25 and parameters: {'k': 49}. Best is trial 8 with value: 0.41666666666666663.\n",
      "[I 2025-02-25 17:07:18,824] Trial 19 finished with value: 0.25 and parameters: {'k': 30}. Best is trial 8 with value: 0.41666666666666663.\n",
      "[I 2025-02-25 17:07:18,830] Trial 20 finished with value: 0.3125 and parameters: {'k': 16}. Best is trial 8 with value: 0.41666666666666663.\n",
      "[I 2025-02-25 17:07:18,836] Trial 21 finished with value: 0.16666666666666666 and parameters: {'k': 31}. Best is trial 8 with value: 0.41666666666666663.\n",
      "[I 2025-02-25 17:07:18,843] Trial 22 finished with value: 0.041666666666666664 and parameters: {'k': 33}. Best is trial 8 with value: 0.41666666666666663.\n",
      "[I 2025-02-25 17:07:18,850] Trial 23 finished with value: 0.27083333333333337 and parameters: {'k': 17}. Best is trial 8 with value: 0.41666666666666663.\n",
      "[I 2025-02-25 17:07:18,857] Trial 24 finished with value: 0.41666666666666663 and parameters: {'k': 43}. Best is trial 8 with value: 0.41666666666666663.\n",
      "[I 2025-02-25 17:07:18,864] Trial 25 finished with value: 0.33333333333333337 and parameters: {'k': 21}. Best is trial 8 with value: 0.41666666666666663.\n",
      "[I 2025-02-25 17:07:18,871] Trial 26 finished with value: 0.3541666666666667 and parameters: {'k': 44}. Best is trial 8 with value: 0.41666666666666663.\n",
      "[I 2025-02-25 17:07:18,879] Trial 27 finished with value: 0.20833333333333334 and parameters: {'k': 9}. Best is trial 8 with value: 0.41666666666666663.\n",
      "[I 2025-02-25 17:07:18,886] Trial 28 finished with value: 0.2708333333333333 and parameters: {'k': 14}. Best is trial 8 with value: 0.41666666666666663.\n",
      "[I 2025-02-25 17:07:18,894] Trial 29 finished with value: 0.375 and parameters: {'k': 26}. Best is trial 8 with value: 0.41666666666666663.\n",
      "[I 2025-02-25 17:07:18,902] Trial 30 finished with value: 0.20833333333333334 and parameters: {'k': 6}. Best is trial 8 with value: 0.41666666666666663.\n",
      "[I 2025-02-25 17:07:18,909] Trial 31 finished with value: 0.27083333333333337 and parameters: {'k': 18}. Best is trial 8 with value: 0.41666666666666663.\n",
      "[I 2025-02-25 17:07:18,917] Trial 32 finished with value: 0.25 and parameters: {'k': 41}. Best is trial 8 with value: 0.41666666666666663.\n",
      "[I 2025-02-25 17:07:18,926] Trial 33 finished with value: 0.16666666666666666 and parameters: {'k': 50}. Best is trial 8 with value: 0.41666666666666663.\n",
      "[I 2025-02-25 17:07:18,934] Trial 34 finished with value: 0.3333333333333333 and parameters: {'k': 2}. Best is trial 8 with value: 0.41666666666666663.\n",
      "[I 2025-02-25 17:07:18,942] Trial 35 finished with value: 0.16666666666666666 and parameters: {'k': 13}. Best is trial 8 with value: 0.41666666666666663.\n",
      "[I 2025-02-25 17:07:18,951] Trial 36 finished with value: 0.0625 and parameters: {'k': 38}. Best is trial 8 with value: 0.41666666666666663.\n",
      "[I 2025-02-25 17:07:18,960] Trial 37 finished with value: 0.375 and parameters: {'k': 25}. Best is trial 8 with value: 0.41666666666666663.\n",
      "[I 2025-02-25 17:07:18,969] Trial 38 finished with value: 0.20833333333333334 and parameters: {'k': 7}. Best is trial 8 with value: 0.41666666666666663.\n",
      "[I 2025-02-25 17:07:18,978] Trial 39 finished with value: 0.41666666666666663 and parameters: {'k': 24}. Best is trial 8 with value: 0.41666666666666663.\n",
      "[I 2025-02-25 17:07:18,987] Trial 40 finished with value: 0.14583333333333334 and parameters: {'k': 37}. Best is trial 8 with value: 0.41666666666666663.\n",
      "[I 2025-02-25 17:07:18,996] Trial 41 finished with value: 0.39583333333333337 and parameters: {'k': 22}. Best is trial 8 with value: 0.41666666666666663.\n",
      "[I 2025-02-25 17:07:19,006] Trial 42 finished with value: 0.3541666666666667 and parameters: {'k': 20}. Best is trial 8 with value: 0.41666666666666663.\n",
      "[I 2025-02-25 17:07:19,015] Trial 43 finished with value: 0.20833333333333334 and parameters: {'k': 10}. Best is trial 8 with value: 0.41666666666666663.\n",
      "[I 2025-02-25 17:07:19,025] Trial 44 finished with value: 0.25 and parameters: {'k': 40}. Best is trial 8 with value: 0.41666666666666663.\n",
      "[I 2025-02-25 17:07:19,035] Trial 45 finished with value: 0.3125 and parameters: {'k': 47}. Best is trial 8 with value: 0.41666666666666663.\n",
      "[I 2025-02-25 17:07:19,045] Trial 46 finished with value: 0.2916666666666667 and parameters: {'k': 4}. Best is trial 8 with value: 0.41666666666666663.\n",
      "[I 2025-02-25 17:07:19,055] Trial 47 finished with value: 0.375 and parameters: {'k': 1}. Best is trial 8 with value: 0.41666666666666663.\n",
      "[I 2025-02-25 17:07:19,065] Trial 48 finished with value: 0.2708333333333333 and parameters: {'k': 48}. Best is trial 8 with value: 0.41666666666666663.\n",
      "[I 2025-02-25 17:07:19,075] Trial 49 finished with value: 0.3333333333333333 and parameters: {'k': 45}. Best is trial 8 with value: 0.41666666666666663.\n",
      "[I 2025-02-25 17:07:19,090] A new study created in memory with name: no-name-e8e450dc-c07f-4b7c-bc5f-b212d2ba4720\n",
      "[I 2025-02-25 17:07:19,093] Trial 0 finished with value: 0.8333333333333333 and parameters: {'k': 29}. Best is trial 0 with value: 0.8333333333333333.\n",
      "[I 2025-02-25 17:07:19,097] Trial 1 finished with value: 0.8333333333333333 and parameters: {'k': 12}. Best is trial 0 with value: 0.8333333333333333.\n",
      "[I 2025-02-25 17:07:19,100] Trial 2 finished with value: 0.7916666666666666 and parameters: {'k': 11}. Best is trial 0 with value: 0.8333333333333333.\n",
      "[I 2025-02-25 17:07:19,104] Trial 3 finished with value: 0.875 and parameters: {'k': 42}. Best is trial 3 with value: 0.875.\n",
      "[I 2025-02-25 17:07:19,107] Trial 4 finished with value: 0.5208333333333334 and parameters: {'k': 3}. Best is trial 3 with value: 0.875.\n",
      "[I 2025-02-25 17:07:19,111] Trial 5 finished with value: 0.875 and parameters: {'k': 28}. Best is trial 3 with value: 0.875.\n",
      "[I 2025-02-25 17:07:19,115] Trial 6 finished with value: 0.875 and parameters: {'k': 39}. Best is trial 3 with value: 0.875.\n",
      "[I 2025-02-25 17:07:19,119] Trial 7 finished with value: 0.875 and parameters: {'k': 32}. Best is trial 3 with value: 0.875.\n",
      "[I 2025-02-25 17:07:19,123] Trial 8 finished with value: 0.8958333333333333 and parameters: {'k': 23}. Best is trial 8 with value: 0.8958333333333333.\n",
      "[I 2025-02-25 17:07:19,128] Trial 9 finished with value: 0.5833333333333334 and parameters: {'k': 5}. Best is trial 8 with value: 0.8958333333333333.\n",
      "[I 2025-02-25 17:07:19,132] Trial 10 finished with value: 0.7916666666666666 and parameters: {'k': 34}. Best is trial 8 with value: 0.8958333333333333.\n",
      "[I 2025-02-25 17:07:19,138] Trial 11 finished with value: 0.7916666666666666 and parameters: {'k': 36}. Best is trial 8 with value: 0.8958333333333333.\n",
      "[I 2025-02-25 17:07:19,142] Trial 12 finished with value: 0.9166666666666667 and parameters: {'k': 27}. Best is trial 12 with value: 0.9166666666666667.\n",
      "[I 2025-02-25 17:07:19,147] Trial 13 finished with value: 0.7916666666666666 and parameters: {'k': 35}. Best is trial 12 with value: 0.9166666666666667.\n",
      "[I 2025-02-25 17:07:19,152] Trial 14 finished with value: 0.8958333333333333 and parameters: {'k': 19}. Best is trial 12 with value: 0.9166666666666667.\n",
      "[I 2025-02-25 17:07:19,157] Trial 15 finished with value: 0.8541666666666667 and parameters: {'k': 8}. Best is trial 12 with value: 0.9166666666666667.\n",
      "[I 2025-02-25 17:07:19,163] Trial 16 finished with value: 0.9166666666666667 and parameters: {'k': 15}. Best is trial 12 with value: 0.9166666666666667.\n",
      "[I 2025-02-25 17:07:19,168] Trial 17 finished with value: 0.875 and parameters: {'k': 46}. Best is trial 12 with value: 0.9166666666666667.\n",
      "[I 2025-02-25 17:07:19,174] Trial 18 finished with value: 0.8333333333333333 and parameters: {'k': 49}. Best is trial 12 with value: 0.9166666666666667.\n",
      "[I 2025-02-25 17:07:19,180] Trial 19 finished with value: 0.875 and parameters: {'k': 30}. Best is trial 12 with value: 0.9166666666666667.\n",
      "[I 2025-02-25 17:07:19,185] Trial 20 finished with value: 0.9375 and parameters: {'k': 16}. Best is trial 20 with value: 0.9375.\n",
      "[I 2025-02-25 17:07:19,192] Trial 21 finished with value: 0.875 and parameters: {'k': 31}. Best is trial 20 with value: 0.9375.\n",
      "[I 2025-02-25 17:07:19,198] Trial 22 finished with value: 0.7916666666666666 and parameters: {'k': 33}. Best is trial 20 with value: 0.9375.\n",
      "[I 2025-02-25 17:07:19,204] Trial 23 finished with value: 0.9375 and parameters: {'k': 17}. Best is trial 20 with value: 0.9375.\n",
      "[I 2025-02-25 17:07:19,210] Trial 24 finished with value: 0.875 and parameters: {'k': 43}. Best is trial 20 with value: 0.9375.\n",
      "[I 2025-02-25 17:07:19,217] Trial 25 finished with value: 0.8958333333333333 and parameters: {'k': 21}. Best is trial 20 with value: 0.9375.\n",
      "[I 2025-02-25 17:07:19,223] Trial 26 finished with value: 0.875 and parameters: {'k': 44}. Best is trial 20 with value: 0.9375.\n",
      "[I 2025-02-25 17:07:19,230] Trial 27 finished with value: 0.8333333333333333 and parameters: {'k': 9}. Best is trial 20 with value: 0.9375.\n",
      "[I 2025-02-25 17:07:19,237] Trial 28 finished with value: 0.8541666666666667 and parameters: {'k': 14}. Best is trial 20 with value: 0.9375.\n",
      "[I 2025-02-25 17:07:19,244] Trial 29 finished with value: 0.9166666666666667 and parameters: {'k': 26}. Best is trial 20 with value: 0.9375.\n",
      "[I 2025-02-25 17:07:19,251] Trial 30 finished with value: 0.7916666666666667 and parameters: {'k': 6}. Best is trial 20 with value: 0.9375.\n",
      "[I 2025-02-25 17:07:19,258] Trial 31 finished with value: 0.8958333333333333 and parameters: {'k': 18}. Best is trial 20 with value: 0.9375.\n",
      "[I 2025-02-25 17:07:19,266] Trial 32 finished with value: 0.875 and parameters: {'k': 41}. Best is trial 20 with value: 0.9375.\n",
      "[I 2025-02-25 17:07:19,273] Trial 33 finished with value: 0.75 and parameters: {'k': 50}. Best is trial 20 with value: 0.9375.\n",
      "[I 2025-02-25 17:07:19,281] Trial 34 finished with value: 0.5625 and parameters: {'k': 2}. Best is trial 20 with value: 0.9375.\n"
     ]
    },
    {
     "name": "stdout",
     "output_type": "stream",
     "text": [
      "Model: SUPREMExtractor\n",
      "134\n"
     ]
    },
    {
     "name": "stderr",
     "output_type": "stream",
     "text": [
      "[I 2025-02-25 17:07:19,288] Trial 35 finished with value: 0.8333333333333333 and parameters: {'k': 13}. Best is trial 20 with value: 0.9375.\n",
      "[I 2025-02-25 17:07:19,297] Trial 36 finished with value: 0.7916666666666666 and parameters: {'k': 38}. Best is trial 20 with value: 0.9375.\n",
      "[I 2025-02-25 17:07:19,305] Trial 37 finished with value: 0.9166666666666667 and parameters: {'k': 25}. Best is trial 20 with value: 0.9375.\n",
      "[I 2025-02-25 17:07:19,313] Trial 38 finished with value: 0.8541666666666667 and parameters: {'k': 7}. Best is trial 20 with value: 0.9375.\n",
      "[I 2025-02-25 17:07:19,321] Trial 39 finished with value: 0.9166666666666667 and parameters: {'k': 24}. Best is trial 20 with value: 0.9375.\n",
      "[I 2025-02-25 17:07:19,330] Trial 40 finished with value: 0.7916666666666666 and parameters: {'k': 37}. Best is trial 20 with value: 0.9375.\n",
      "[I 2025-02-25 17:07:19,339] Trial 41 finished with value: 0.8958333333333333 and parameters: {'k': 22}. Best is trial 20 with value: 0.9375.\n",
      "[I 2025-02-25 17:07:19,347] Trial 42 finished with value: 0.8958333333333333 and parameters: {'k': 20}. Best is trial 20 with value: 0.9375.\n",
      "[I 2025-02-25 17:07:19,356] Trial 43 finished with value: 0.7916666666666667 and parameters: {'k': 10}. Best is trial 20 with value: 0.9375.\n",
      "[I 2025-02-25 17:07:19,365] Trial 44 finished with value: 0.875 and parameters: {'k': 40}. Best is trial 20 with value: 0.9375.\n",
      "[I 2025-02-25 17:07:19,375] Trial 45 finished with value: 0.8333333333333333 and parameters: {'k': 47}. Best is trial 20 with value: 0.9375.\n",
      "[I 2025-02-25 17:07:19,384] Trial 46 finished with value: 0.5208333333333334 and parameters: {'k': 4}. Best is trial 20 with value: 0.9375.\n",
      "[I 2025-02-25 17:07:19,393] Trial 47 finished with value: 0.6666666666666667 and parameters: {'k': 1}. Best is trial 20 with value: 0.9375.\n",
      "[I 2025-02-25 17:07:19,403] Trial 48 finished with value: 0.8333333333333333 and parameters: {'k': 48}. Best is trial 20 with value: 0.9375.\n",
      "[I 2025-02-25 17:07:19,412] Trial 49 finished with value: 0.875 and parameters: {'k': 45}. Best is trial 20 with value: 0.9375.\n",
      "[I 2025-02-25 17:07:19,417] A new study created in memory with name: no-name-a9d45f60-aab3-4f42-ac39-2d145b6e5f71\n",
      "[I 2025-02-25 17:07:19,421] Trial 0 finished with value: 0.875 and parameters: {'k': 29}. Best is trial 0 with value: 0.875.\n",
      "[I 2025-02-25 17:07:19,424] Trial 1 finished with value: 0.9166666666666667 and parameters: {'k': 12}. Best is trial 1 with value: 0.9166666666666667.\n",
      "[I 2025-02-25 17:07:19,427] Trial 2 finished with value: 0.9583333333333333 and parameters: {'k': 11}. Best is trial 2 with value: 0.9583333333333333.\n",
      "[I 2025-02-25 17:07:19,431] Trial 3 finished with value: 0.8958333333333333 and parameters: {'k': 42}. Best is trial 2 with value: 0.9583333333333333.\n",
      "[I 2025-02-25 17:07:19,435] Trial 4 finished with value: 0.9375 and parameters: {'k': 3}. Best is trial 2 with value: 0.9583333333333333.\n",
      "[I 2025-02-25 17:07:19,439] Trial 5 finished with value: 0.8958333333333333 and parameters: {'k': 28}. Best is trial 2 with value: 0.9583333333333333.\n",
      "[I 2025-02-25 17:07:19,443] Trial 6 finished with value: 0.9375 and parameters: {'k': 39}. Best is trial 2 with value: 0.9583333333333333.\n",
      "[I 2025-02-25 17:07:19,451] Trial 7 finished with value: 0.9375 and parameters: {'k': 32}. Best is trial 2 with value: 0.9583333333333333.\n",
      "[I 2025-02-25 17:07:19,456] Trial 8 finished with value: 0.8541666666666666 and parameters: {'k': 23}. Best is trial 2 with value: 0.9583333333333333.\n",
      "[I 2025-02-25 17:07:19,460] Trial 9 finished with value: 0.9166666666666666 and parameters: {'k': 5}. Best is trial 2 with value: 0.9583333333333333.\n",
      "[I 2025-02-25 17:07:19,465] Trial 10 finished with value: 0.9375 and parameters: {'k': 34}. Best is trial 2 with value: 0.9583333333333333.\n",
      "[I 2025-02-25 17:07:19,470] Trial 11 finished with value: 0.9375 and parameters: {'k': 36}. Best is trial 2 with value: 0.9583333333333333.\n",
      "[I 2025-02-25 17:07:19,475] Trial 12 finished with value: 0.9166666666666666 and parameters: {'k': 27}. Best is trial 2 with value: 0.9583333333333333.\n",
      "[I 2025-02-25 17:07:19,480] Trial 13 finished with value: 0.9375 and parameters: {'k': 35}. Best is trial 2 with value: 0.9583333333333333.\n",
      "[I 2025-02-25 17:07:19,485] Trial 14 finished with value: 0.8333333333333333 and parameters: {'k': 19}. Best is trial 2 with value: 0.9583333333333333.\n",
      "[I 2025-02-25 17:07:19,490] Trial 15 finished with value: 0.9791666666666666 and parameters: {'k': 8}. Best is trial 15 with value: 0.9791666666666666.\n",
      "[I 2025-02-25 17:07:19,495] Trial 16 finished with value: 0.875 and parameters: {'k': 15}. Best is trial 15 with value: 0.9791666666666666.\n",
      "[I 2025-02-25 17:07:19,501] Trial 17 finished with value: 0.8125 and parameters: {'k': 46}. Best is trial 15 with value: 0.9791666666666666.\n",
      "[I 2025-02-25 17:07:19,507] Trial 18 finished with value: 0.7083333333333334 and parameters: {'k': 49}. Best is trial 15 with value: 0.9791666666666666.\n",
      "[I 2025-02-25 17:07:19,512] Trial 19 finished with value: 0.8958333333333333 and parameters: {'k': 30}. Best is trial 15 with value: 0.9791666666666666.\n",
      "[I 2025-02-25 17:07:19,518] Trial 20 finished with value: 0.8541666666666666 and parameters: {'k': 16}. Best is trial 15 with value: 0.9791666666666666.\n",
      "[I 2025-02-25 17:07:19,524] Trial 21 finished with value: 0.9375 and parameters: {'k': 31}. Best is trial 15 with value: 0.9791666666666666.\n",
      "[I 2025-02-25 17:07:19,530] Trial 22 finished with value: 0.9375 and parameters: {'k': 33}. Best is trial 15 with value: 0.9791666666666666.\n",
      "[I 2025-02-25 17:07:19,536] Trial 23 finished with value: 0.875 and parameters: {'k': 17}. Best is trial 15 with value: 0.9791666666666666.\n",
      "[I 2025-02-25 17:07:19,543] Trial 24 finished with value: 0.8958333333333333 and parameters: {'k': 43}. Best is trial 15 with value: 0.9791666666666666.\n",
      "[I 2025-02-25 17:07:19,549] Trial 25 finished with value: 0.7291666666666666 and parameters: {'k': 21}. Best is trial 15 with value: 0.9791666666666666.\n",
      "[I 2025-02-25 17:07:19,556] Trial 26 finished with value: 0.8541666666666666 and parameters: {'k': 44}. Best is trial 15 with value: 0.9791666666666666.\n",
      "[I 2025-02-25 17:07:19,563] Trial 27 finished with value: 0.9375 and parameters: {'k': 9}. Best is trial 15 with value: 0.9791666666666666.\n",
      "[I 2025-02-25 17:07:19,570] Trial 28 finished with value: 0.8333333333333333 and parameters: {'k': 14}. Best is trial 15 with value: 0.9791666666666666.\n",
      "[I 2025-02-25 17:07:19,577] Trial 29 finished with value: 0.9375 and parameters: {'k': 26}. Best is trial 15 with value: 0.9791666666666666.\n",
      "[I 2025-02-25 17:07:19,584] Trial 30 finished with value: 0.9791666666666666 and parameters: {'k': 6}. Best is trial 15 with value: 0.9791666666666666.\n",
      "[I 2025-02-25 17:07:19,591] Trial 31 finished with value: 0.875 and parameters: {'k': 18}. Best is trial 15 with value: 0.9791666666666666.\n",
      "[I 2025-02-25 17:07:19,599] Trial 32 finished with value: 0.9375 and parameters: {'k': 41}. Best is trial 15 with value: 0.9791666666666666.\n",
      "[I 2025-02-25 17:07:19,606] Trial 33 finished with value: 0.7083333333333334 and parameters: {'k': 50}. Best is trial 15 with value: 0.9791666666666666.\n",
      "[I 2025-02-25 17:07:19,614] Trial 34 finished with value: 0.625 and parameters: {'k': 2}. Best is trial 15 with value: 0.9791666666666666.\n",
      "[I 2025-02-25 17:07:19,622] Trial 35 finished with value: 0.875 and parameters: {'k': 13}. Best is trial 15 with value: 0.9791666666666666.\n",
      "[I 2025-02-25 17:07:19,630] Trial 36 finished with value: 0.9375 and parameters: {'k': 38}. Best is trial 15 with value: 0.9791666666666666.\n",
      "[I 2025-02-25 17:07:19,638] Trial 37 finished with value: 0.9166666666666666 and parameters: {'k': 25}. Best is trial 15 with value: 0.9791666666666666.\n",
      "[I 2025-02-25 17:07:19,646] Trial 38 finished with value: 0.9791666666666666 and parameters: {'k': 7}. Best is trial 15 with value: 0.9791666666666666.\n",
      "[I 2025-02-25 17:07:19,654] Trial 39 finished with value: 0.8125 and parameters: {'k': 24}. Best is trial 15 with value: 0.9791666666666666.\n",
      "[I 2025-02-25 17:07:19,663] Trial 40 finished with value: 0.9375 and parameters: {'k': 37}. Best is trial 15 with value: 0.9791666666666666.\n",
      "[I 2025-02-25 17:07:19,672] Trial 41 finished with value: 0.7083333333333333 and parameters: {'k': 22}. Best is trial 15 with value: 0.9791666666666666.\n",
      "[I 2025-02-25 17:07:19,680] Trial 42 finished with value: 0.75 and parameters: {'k': 20}. Best is trial 15 with value: 0.9791666666666666.\n",
      "[I 2025-02-25 17:07:19,689] Trial 43 finished with value: 0.9375 and parameters: {'k': 10}. Best is trial 15 with value: 0.9791666666666666.\n",
      "[I 2025-02-25 17:07:19,698] Trial 44 finished with value: 0.9375 and parameters: {'k': 40}. Best is trial 15 with value: 0.9791666666666666.\n",
      "[I 2025-02-25 17:07:19,708] Trial 45 finished with value: 0.7708333333333333 and parameters: {'k': 47}. Best is trial 15 with value: 0.9791666666666666.\n",
      "[I 2025-02-25 17:07:19,717] Trial 46 finished with value: 0.9166666666666666 and parameters: {'k': 4}. Best is trial 15 with value: 0.9791666666666666.\n",
      "[I 2025-02-25 17:07:19,726] Trial 47 finished with value: 0.6666666666666667 and parameters: {'k': 1}. Best is trial 15 with value: 0.9791666666666666.\n",
      "[I 2025-02-25 17:07:19,736] Trial 48 finished with value: 0.7291666666666667 and parameters: {'k': 48}. Best is trial 15 with value: 0.9791666666666666.\n",
      "[I 2025-02-25 17:07:19,746] Trial 49 finished with value: 0.8541666666666666 and parameters: {'k': 45}. Best is trial 15 with value: 0.9791666666666666.\n",
      "[I 2025-02-25 17:07:19,751] A new study created in memory with name: no-name-500e14a8-1d41-48f9-bad9-de322712bb50\n",
      "[I 2025-02-25 17:07:19,755] Trial 0 finished with value: 0.75 and parameters: {'k': 29}. Best is trial 0 with value: 0.75.\n",
      "[I 2025-02-25 17:07:19,758] Trial 1 finished with value: 0.6666666666666667 and parameters: {'k': 12}. Best is trial 0 with value: 0.75.\n",
      "[I 2025-02-25 17:07:19,761] Trial 2 finished with value: 0.6875 and parameters: {'k': 11}. Best is trial 0 with value: 0.75.\n",
      "[I 2025-02-25 17:07:19,765] Trial 3 finished with value: 0.75 and parameters: {'k': 42}. Best is trial 0 with value: 0.75.\n",
      "[I 2025-02-25 17:07:19,769] Trial 4 finished with value: 0.3333333333333333 and parameters: {'k': 3}. Best is trial 0 with value: 0.75.\n",
      "[I 2025-02-25 17:07:19,773] Trial 5 finished with value: 0.7708333333333334 and parameters: {'k': 28}. Best is trial 5 with value: 0.7708333333333334.\n",
      "[I 2025-02-25 17:07:19,777] Trial 6 finished with value: 0.5 and parameters: {'k': 39}. Best is trial 5 with value: 0.7708333333333334.\n",
      "[I 2025-02-25 17:07:19,781] Trial 7 finished with value: 0.75 and parameters: {'k': 32}. Best is trial 5 with value: 0.7708333333333334.\n",
      "[I 2025-02-25 17:07:19,785] Trial 8 finished with value: 0.8333333333333333 and parameters: {'k': 23}. Best is trial 8 with value: 0.8333333333333333.\n",
      "[I 2025-02-25 17:07:19,789] Trial 9 finished with value: 0.6666666666666666 and parameters: {'k': 5}. Best is trial 8 with value: 0.8333333333333333.\n",
      "[I 2025-02-25 17:07:19,794] Trial 10 finished with value: 0.75 and parameters: {'k': 34}. Best is trial 8 with value: 0.8333333333333333.\n",
      "[I 2025-02-25 17:07:19,799] Trial 11 finished with value: 0.7083333333333333 and parameters: {'k': 36}. Best is trial 8 with value: 0.8333333333333333.\n",
      "[I 2025-02-25 17:07:19,804] Trial 12 finished with value: 0.7708333333333334 and parameters: {'k': 27}. Best is trial 8 with value: 0.8333333333333333.\n",
      "[I 2025-02-25 17:07:19,809] Trial 13 finished with value: 0.7083333333333333 and parameters: {'k': 35}. Best is trial 8 with value: 0.8333333333333333.\n",
      "[I 2025-02-25 17:07:19,814] Trial 14 finished with value: 0.7291666666666667 and parameters: {'k': 19}. Best is trial 8 with value: 0.8333333333333333.\n",
      "[I 2025-02-25 17:07:19,819] Trial 15 finished with value: 0.6458333333333333 and parameters: {'k': 8}. Best is trial 8 with value: 0.8333333333333333.\n",
      "[I 2025-02-25 17:07:19,824] Trial 16 finished with value: 0.6875 and parameters: {'k': 15}. Best is trial 8 with value: 0.8333333333333333.\n",
      "[I 2025-02-25 17:07:19,830] Trial 17 finished with value: 0.7083333333333334 and parameters: {'k': 46}. Best is trial 8 with value: 0.8333333333333333.\n",
      "[I 2025-02-25 17:07:19,835] Trial 18 finished with value: 0.5833333333333334 and parameters: {'k': 49}. Best is trial 8 with value: 0.8333333333333333.\n",
      "[I 2025-02-25 17:07:19,841] Trial 19 finished with value: 0.8333333333333333 and parameters: {'k': 30}. Best is trial 8 with value: 0.8333333333333333.\n",
      "[I 2025-02-25 17:07:19,847] Trial 20 finished with value: 0.75 and parameters: {'k': 16}. Best is trial 8 with value: 0.8333333333333333.\n",
      "[I 2025-02-25 17:07:19,853] Trial 21 finished with value: 0.7916666666666667 and parameters: {'k': 31}. Best is trial 8 with value: 0.8333333333333333.\n",
      "[I 2025-02-25 17:07:19,859] Trial 22 finished with value: 0.75 and parameters: {'k': 33}. Best is trial 8 with value: 0.8333333333333333.\n",
      "[I 2025-02-25 17:07:19,865] Trial 23 finished with value: 0.7291666666666666 and parameters: {'k': 17}. Best is trial 8 with value: 0.8333333333333333.\n",
      "[I 2025-02-25 17:07:19,871] Trial 24 finished with value: 0.75 and parameters: {'k': 43}. Best is trial 8 with value: 0.8333333333333333.\n",
      "[I 2025-02-25 17:07:19,878] Trial 25 finished with value: 0.8541666666666667 and parameters: {'k': 21}. Best is trial 25 with value: 0.8541666666666667.\n",
      "[I 2025-02-25 17:07:19,885] Trial 26 finished with value: 0.7083333333333334 and parameters: {'k': 44}. Best is trial 25 with value: 0.8541666666666667.\n",
      "[I 2025-02-25 17:07:19,891] Trial 27 finished with value: 0.6458333333333333 and parameters: {'k': 9}. Best is trial 25 with value: 0.8541666666666667.\n",
      "[I 2025-02-25 17:07:19,898] Trial 28 finished with value: 0.7291666666666666 and parameters: {'k': 14}. Best is trial 25 with value: 0.8541666666666667.\n",
      "[I 2025-02-25 17:07:19,905] Trial 29 finished with value: 0.8125 and parameters: {'k': 26}. Best is trial 25 with value: 0.8541666666666667.\n",
      "[I 2025-02-25 17:07:19,912] Trial 30 finished with value: 0.6666666666666666 and parameters: {'k': 6}. Best is trial 25 with value: 0.8541666666666667.\n",
      "[I 2025-02-25 17:07:19,919] Trial 31 finished with value: 0.75 and parameters: {'k': 18}. Best is trial 25 with value: 0.8541666666666667.\n",
      "[I 2025-02-25 17:07:19,927] Trial 32 finished with value: 0.5416666666666666 and parameters: {'k': 41}. Best is trial 25 with value: 0.8541666666666667.\n",
      "[I 2025-02-25 17:07:19,935] Trial 33 finished with value: 0.5416666666666666 and parameters: {'k': 50}. Best is trial 25 with value: 0.8541666666666667.\n",
      "[I 2025-02-25 17:07:19,942] Trial 34 finished with value: 0.375 and parameters: {'k': 2}. Best is trial 25 with value: 0.8541666666666667.\n",
      "[I 2025-02-25 17:07:19,950] Trial 35 finished with value: 0.7708333333333333 and parameters: {'k': 13}. Best is trial 25 with value: 0.8541666666666667.\n",
      "[I 2025-02-25 17:07:19,958] Trial 36 finished with value: 0.625 and parameters: {'k': 38}. Best is trial 25 with value: 0.8541666666666667.\n",
      "[I 2025-02-25 17:07:19,966] Trial 37 finished with value: 0.8125 and parameters: {'k': 25}. Best is trial 25 with value: 0.8541666666666667.\n",
      "[I 2025-02-25 17:07:19,975] Trial 38 finished with value: 0.6666666666666666 and parameters: {'k': 7}. Best is trial 25 with value: 0.8541666666666667.\n",
      "[I 2025-02-25 17:07:19,983] Trial 39 finished with value: 0.8333333333333333 and parameters: {'k': 24}. Best is trial 25 with value: 0.8541666666666667.\n",
      "[I 2025-02-25 17:07:19,992] Trial 40 finished with value: 0.6666666666666666 and parameters: {'k': 37}. Best is trial 25 with value: 0.8541666666666667.\n",
      "[I 2025-02-25 17:07:20,001] Trial 41 finished with value: 0.8541666666666667 and parameters: {'k': 22}. Best is trial 25 with value: 0.8541666666666667.\n",
      "[I 2025-02-25 17:07:20,009] Trial 42 finished with value: 0.8541666666666667 and parameters: {'k': 20}. Best is trial 25 with value: 0.8541666666666667.\n",
      "[I 2025-02-25 17:07:20,018] Trial 43 finished with value: 0.625 and parameters: {'k': 10}. Best is trial 25 with value: 0.8541666666666667.\n",
      "[I 2025-02-25 17:07:20,027] Trial 44 finished with value: 0.5625 and parameters: {'k': 40}. Best is trial 25 with value: 0.8541666666666667.\n",
      "[I 2025-02-25 17:07:20,037] Trial 45 finished with value: 0.6666666666666666 and parameters: {'k': 47}. Best is trial 25 with value: 0.8541666666666667.\n",
      "[I 2025-02-25 17:07:20,046] Trial 46 finished with value: 0.3333333333333333 and parameters: {'k': 4}. Best is trial 25 with value: 0.8541666666666667.\n",
      "[I 2025-02-25 17:07:20,055] Trial 47 finished with value: 0.4583333333333333 and parameters: {'k': 1}. Best is trial 25 with value: 0.8541666666666667.\n",
      "[I 2025-02-25 17:07:20,066] Trial 48 finished with value: 0.5833333333333334 and parameters: {'k': 48}. Best is trial 25 with value: 0.8541666666666667.\n",
      "[I 2025-02-25 17:07:20,075] Trial 49 finished with value: 0.7083333333333334 and parameters: {'k': 45}. Best is trial 25 with value: 0.8541666666666667.\n",
      "[I 2025-02-25 17:07:20,080] A new study created in memory with name: no-name-a62c70a8-828e-4140-9854-43781b2885e5\n",
      "[I 2025-02-25 17:07:20,084] Trial 0 finished with value: 0.9166666666666667 and parameters: {'k': 29}. Best is trial 0 with value: 0.9166666666666667.\n",
      "[I 2025-02-25 17:07:20,087] Trial 1 finished with value: 0.6666666666666667 and parameters: {'k': 12}. Best is trial 0 with value: 0.9166666666666667.\n",
      "[I 2025-02-25 17:07:20,090] Trial 2 finished with value: 0.7083333333333333 and parameters: {'k': 11}. Best is trial 0 with value: 0.9166666666666667.\n",
      "[I 2025-02-25 17:07:20,094] Trial 3 finished with value: 0.7916666666666667 and parameters: {'k': 42}. Best is trial 0 with value: 0.9166666666666667.\n",
      "[I 2025-02-25 17:07:20,098] Trial 4 finished with value: 0.6041666666666666 and parameters: {'k': 3}. Best is trial 0 with value: 0.9166666666666667.\n",
      "[I 2025-02-25 17:07:20,102] Trial 5 finished with value: 0.9375 and parameters: {'k': 28}. Best is trial 5 with value: 0.9375.\n",
      "[I 2025-02-25 17:07:20,106] Trial 6 finished with value: 0.75 and parameters: {'k': 39}. Best is trial 5 with value: 0.9375.\n",
      "[I 2025-02-25 17:07:20,110] Trial 7 finished with value: 0.8541666666666667 and parameters: {'k': 32}. Best is trial 5 with value: 0.9375.\n",
      "[I 2025-02-25 17:07:20,114] Trial 8 finished with value: 0.9791666666666666 and parameters: {'k': 23}. Best is trial 8 with value: 0.9791666666666666.\n",
      "[I 2025-02-25 17:07:20,119] Trial 9 finished with value: 0.6041666666666666 and parameters: {'k': 5}. Best is trial 8 with value: 0.9791666666666666.\n",
      "[I 2025-02-25 17:07:20,123] Trial 10 finished with value: 0.8541666666666667 and parameters: {'k': 34}. Best is trial 8 with value: 0.9791666666666666.\n",
      "[I 2025-02-25 17:07:20,128] Trial 11 finished with value: 0.8125 and parameters: {'k': 36}. Best is trial 8 with value: 0.9791666666666666.\n",
      "[I 2025-02-25 17:07:20,133] Trial 12 finished with value: 0.9375 and parameters: {'k': 27}. Best is trial 8 with value: 0.9791666666666666.\n",
      "[I 2025-02-25 17:07:20,138] Trial 13 finished with value: 0.8541666666666667 and parameters: {'k': 35}. Best is trial 8 with value: 0.9791666666666666.\n",
      "[I 2025-02-25 17:07:20,143] Trial 14 finished with value: 1.0 and parameters: {'k': 19}. Best is trial 14 with value: 1.0.\n",
      "[I 2025-02-25 17:07:20,148] Trial 15 finished with value: 0.7916666666666667 and parameters: {'k': 8}. Best is trial 14 with value: 1.0.\n",
      "[I 2025-02-25 17:07:20,153] Trial 16 finished with value: 0.7916666666666666 and parameters: {'k': 15}. Best is trial 14 with value: 1.0.\n",
      "[I 2025-02-25 17:07:20,159] Trial 17 finished with value: 0.7916666666666667 and parameters: {'k': 46}. Best is trial 14 with value: 1.0.\n",
      "[I 2025-02-25 17:07:20,165] Trial 18 finished with value: 0.75 and parameters: {'k': 49}. Best is trial 14 with value: 1.0.\n",
      "[I 2025-02-25 17:07:20,170] Trial 19 finished with value: 0.875 and parameters: {'k': 30}. Best is trial 14 with value: 1.0.\n",
      "[I 2025-02-25 17:07:20,176] Trial 20 finished with value: 0.75 and parameters: {'k': 16}. Best is trial 14 with value: 1.0.\n",
      "[I 2025-02-25 17:07:20,182] Trial 21 finished with value: 0.8541666666666667 and parameters: {'k': 31}. Best is trial 14 with value: 1.0.\n",
      "[I 2025-02-25 17:07:20,188] Trial 22 finished with value: 0.8541666666666667 and parameters: {'k': 33}. Best is trial 14 with value: 1.0.\n",
      "[I 2025-02-25 17:07:20,194] Trial 23 finished with value: 0.9375 and parameters: {'k': 17}. Best is trial 14 with value: 1.0.\n",
      "[I 2025-02-25 17:07:20,201] Trial 24 finished with value: 0.9166666666666667 and parameters: {'k': 43}. Best is trial 14 with value: 1.0.\n",
      "[I 2025-02-25 17:07:20,207] Trial 25 finished with value: 0.9791666666666666 and parameters: {'k': 21}. Best is trial 14 with value: 1.0.\n",
      "[I 2025-02-25 17:07:20,214] Trial 26 finished with value: 0.875 and parameters: {'k': 44}. Best is trial 14 with value: 1.0.\n",
      "[I 2025-02-25 17:07:20,221] Trial 27 finished with value: 0.75 and parameters: {'k': 9}. Best is trial 14 with value: 1.0.\n",
      "[I 2025-02-25 17:07:20,227] Trial 28 finished with value: 0.8333333333333333 and parameters: {'k': 14}. Best is trial 14 with value: 1.0.\n",
      "[I 2025-02-25 17:07:20,234] Trial 29 finished with value: 0.9166666666666666 and parameters: {'k': 26}. Best is trial 14 with value: 1.0.\n",
      "[I 2025-02-25 17:07:20,241] Trial 30 finished with value: 0.5625 and parameters: {'k': 6}. Best is trial 14 with value: 1.0.\n",
      "[I 2025-02-25 17:07:20,249] Trial 31 finished with value: 1.0 and parameters: {'k': 18}. Best is trial 14 with value: 1.0.\n",
      "[I 2025-02-25 17:07:20,256] Trial 32 finished with value: 0.8125 and parameters: {'k': 41}. Best is trial 14 with value: 1.0.\n",
      "[I 2025-02-25 17:07:20,264] Trial 33 finished with value: 0.75 and parameters: {'k': 50}. Best is trial 14 with value: 1.0.\n",
      "[I 2025-02-25 17:07:20,272] Trial 34 finished with value: 0.4166666666666667 and parameters: {'k': 2}. Best is trial 14 with value: 1.0.\n",
      "[I 2025-02-25 17:07:20,279] Trial 35 finished with value: 0.875 and parameters: {'k': 13}. Best is trial 14 with value: 1.0.\n",
      "[I 2025-02-25 17:07:20,287] Trial 36 finished with value: 0.7708333333333333 and parameters: {'k': 38}. Best is trial 14 with value: 1.0.\n",
      "[I 2025-02-25 17:07:20,295] Trial 37 finished with value: 0.9375 and parameters: {'k': 25}. Best is trial 14 with value: 1.0.\n",
      "[I 2025-02-25 17:07:20,304] Trial 38 finished with value: 0.5416666666666666 and parameters: {'k': 7}. Best is trial 14 with value: 1.0.\n",
      "[I 2025-02-25 17:07:20,312] Trial 39 finished with value: 0.9791666666666666 and parameters: {'k': 24}. Best is trial 14 with value: 1.0.\n",
      "[I 2025-02-25 17:07:20,320] Trial 40 finished with value: 0.7708333333333334 and parameters: {'k': 37}. Best is trial 14 with value: 1.0.\n",
      "[I 2025-02-25 17:07:20,329] Trial 41 finished with value: 0.9791666666666666 and parameters: {'k': 22}. Best is trial 14 with value: 1.0.\n",
      "[I 2025-02-25 17:07:20,338] Trial 42 finished with value: 1.0 and parameters: {'k': 20}. Best is trial 14 with value: 1.0.\n",
      "[I 2025-02-25 17:07:20,347] Trial 43 finished with value: 0.7083333333333333 and parameters: {'k': 10}. Best is trial 14 with value: 1.0.\n",
      "[I 2025-02-25 17:07:20,356] Trial 44 finished with value: 0.8541666666666666 and parameters: {'k': 40}. Best is trial 14 with value: 1.0.\n",
      "[I 2025-02-25 17:07:20,365] Trial 45 finished with value: 0.7916666666666667 and parameters: {'k': 47}. Best is trial 14 with value: 1.0.\n",
      "[I 2025-02-25 17:07:20,374] Trial 46 finished with value: 0.5625 and parameters: {'k': 4}. Best is trial 14 with value: 1.0.\n",
      "[I 2025-02-25 17:07:20,384] Trial 47 finished with value: 0.5 and parameters: {'k': 1}. Best is trial 14 with value: 1.0.\n",
      "[I 2025-02-25 17:07:20,393] Trial 48 finished with value: 0.7916666666666667 and parameters: {'k': 48}. Best is trial 14 with value: 1.0.\n",
      "[I 2025-02-25 17:07:20,403] Trial 49 finished with value: 0.7916666666666667 and parameters: {'k': 45}. Best is trial 14 with value: 1.0.\n",
      "[I 2025-02-25 17:07:20,408] A new study created in memory with name: no-name-49948f2f-9efc-4b73-bbcb-aafc23583483\n",
      "[I 2025-02-25 17:07:20,411] Trial 0 finished with value: 0.625 and parameters: {'k': 29}. Best is trial 0 with value: 0.625.\n",
      "[I 2025-02-25 17:07:20,415] Trial 1 finished with value: 0.4791666666666667 and parameters: {'k': 12}. Best is trial 0 with value: 0.625.\n",
      "[I 2025-02-25 17:07:20,418] Trial 2 finished with value: 0.5208333333333334 and parameters: {'k': 11}. Best is trial 0 with value: 0.625.\n",
      "[I 2025-02-25 17:07:20,422] Trial 3 finished with value: 0.47916666666666663 and parameters: {'k': 42}. Best is trial 0 with value: 0.625.\n",
      "[I 2025-02-25 17:07:20,425] Trial 4 finished with value: 0.39583333333333337 and parameters: {'k': 3}. Best is trial 0 with value: 0.625.\n",
      "[I 2025-02-25 17:07:20,429] Trial 5 finished with value: 0.6666666666666666 and parameters: {'k': 28}. Best is trial 5 with value: 0.6666666666666666.\n",
      "[I 2025-02-25 17:07:20,433] Trial 6 finished with value: 0.47916666666666663 and parameters: {'k': 39}. Best is trial 5 with value: 0.6666666666666666.\n",
      "[I 2025-02-25 17:07:20,438] Trial 7 finished with value: 0.625 and parameters: {'k': 32}. Best is trial 5 with value: 0.6666666666666666.\n",
      "[I 2025-02-25 17:07:20,442] Trial 8 finished with value: 0.5833333333333333 and parameters: {'k': 23}. Best is trial 5 with value: 0.6666666666666666.\n",
      "[I 2025-02-25 17:07:20,446] Trial 9 finished with value: 0.4791666666666667 and parameters: {'k': 5}. Best is trial 5 with value: 0.6666666666666666.\n",
      "[I 2025-02-25 17:07:20,451] Trial 10 finished with value: 0.5625 and parameters: {'k': 34}. Best is trial 5 with value: 0.6666666666666666.\n",
      "[I 2025-02-25 17:07:20,455] Trial 11 finished with value: 0.5625 and parameters: {'k': 36}. Best is trial 5 with value: 0.6666666666666666.\n",
      "[I 2025-02-25 17:07:20,461] Trial 12 finished with value: 0.5416666666666667 and parameters: {'k': 27}. Best is trial 5 with value: 0.6666666666666666.\n",
      "[I 2025-02-25 17:07:20,466] Trial 13 finished with value: 0.5625 and parameters: {'k': 35}. Best is trial 5 with value: 0.6666666666666666.\n",
      "[I 2025-02-25 17:07:20,471] Trial 14 finished with value: 0.4583333333333333 and parameters: {'k': 19}. Best is trial 5 with value: 0.6666666666666666.\n",
      "[I 2025-02-25 17:07:20,476] Trial 15 finished with value: 0.6458333333333334 and parameters: {'k': 8}. Best is trial 5 with value: 0.6666666666666666.\n",
      "[I 2025-02-25 17:07:20,482] Trial 16 finished with value: 0.3958333333333333 and parameters: {'k': 15}. Best is trial 5 with value: 0.6666666666666666.\n",
      "[I 2025-02-25 17:07:20,487] Trial 17 finished with value: 0.5625 and parameters: {'k': 46}. Best is trial 5 with value: 0.6666666666666666.\n",
      "[I 2025-02-25 17:07:20,493] Trial 18 finished with value: 0.75 and parameters: {'k': 49}. Best is trial 18 with value: 0.75.\n",
      "[I 2025-02-25 17:07:20,498] Trial 19 finished with value: 0.6041666666666666 and parameters: {'k': 30}. Best is trial 18 with value: 0.75.\n",
      "[I 2025-02-25 17:07:20,504] Trial 20 finished with value: 0.41666666666666663 and parameters: {'k': 16}. Best is trial 18 with value: 0.75.\n",
      "[I 2025-02-25 17:07:20,510] Trial 21 finished with value: 0.5833333333333333 and parameters: {'k': 31}. Best is trial 18 with value: 0.75.\n",
      "[I 2025-02-25 17:07:20,516] Trial 22 finished with value: 0.5833333333333334 and parameters: {'k': 33}. Best is trial 18 with value: 0.75.\n",
      "[I 2025-02-25 17:07:20,523] Trial 23 finished with value: 0.41666666666666663 and parameters: {'k': 17}. Best is trial 18 with value: 0.75.\n",
      "[I 2025-02-25 17:07:20,529] Trial 24 finished with value: 0.5833333333333334 and parameters: {'k': 43}. Best is trial 18 with value: 0.75.\n",
      "[I 2025-02-25 17:07:20,538] Trial 25 finished with value: 0.5416666666666667 and parameters: {'k': 21}. Best is trial 18 with value: 0.75.\n",
      "[I 2025-02-25 17:07:20,544] Trial 26 finished with value: 0.5833333333333334 and parameters: {'k': 44}. Best is trial 18 with value: 0.75.\n",
      "[I 2025-02-25 17:07:20,551] Trial 27 finished with value: 0.625 and parameters: {'k': 9}. Best is trial 18 with value: 0.75.\n",
      "[I 2025-02-25 17:07:20,558] Trial 28 finished with value: 0.4375 and parameters: {'k': 14}. Best is trial 18 with value: 0.75.\n",
      "[I 2025-02-25 17:07:20,565] Trial 29 finished with value: 0.5416666666666667 and parameters: {'k': 26}. Best is trial 18 with value: 0.75.\n",
      "[I 2025-02-25 17:07:20,572] Trial 30 finished with value: 0.4375 and parameters: {'k': 6}. Best is trial 18 with value: 0.75.\n",
      "[I 2025-02-25 17:07:20,579] Trial 31 finished with value: 0.37499999999999994 and parameters: {'k': 18}. Best is trial 18 with value: 0.75.\n",
      "[I 2025-02-25 17:07:20,586] Trial 32 finished with value: 0.5833333333333334 and parameters: {'k': 41}. Best is trial 18 with value: 0.75.\n",
      "[I 2025-02-25 17:07:20,594] Trial 33 finished with value: 0.75 and parameters: {'k': 50}. Best is trial 18 with value: 0.75.\n",
      "[I 2025-02-25 17:07:20,601] Trial 34 finished with value: 0.5 and parameters: {'k': 2}. Best is trial 18 with value: 0.75.\n",
      "[I 2025-02-25 17:07:20,609] Trial 35 finished with value: 0.4583333333333333 and parameters: {'k': 13}. Best is trial 18 with value: 0.75.\n",
      "[I 2025-02-25 17:07:20,617] Trial 36 finished with value: 0.47916666666666663 and parameters: {'k': 38}. Best is trial 18 with value: 0.75.\n",
      "[I 2025-02-25 17:07:20,625] Trial 37 finished with value: 0.625 and parameters: {'k': 25}. Best is trial 18 with value: 0.75.\n",
      "[I 2025-02-25 17:07:20,633] Trial 38 finished with value: 0.5 and parameters: {'k': 7}. Best is trial 18 with value: 0.75.\n",
      "[I 2025-02-25 17:07:20,641] Trial 39 finished with value: 0.625 and parameters: {'k': 24}. Best is trial 18 with value: 0.75.\n",
      "[I 2025-02-25 17:07:20,650] Trial 40 finished with value: 0.5208333333333333 and parameters: {'k': 37}. Best is trial 18 with value: 0.75.\n",
      "[I 2025-02-25 17:07:20,658] Trial 41 finished with value: 0.6666666666666666 and parameters: {'k': 22}. Best is trial 18 with value: 0.75.\n",
      "[I 2025-02-25 17:07:20,667] Trial 42 finished with value: 0.5833333333333333 and parameters: {'k': 20}. Best is trial 18 with value: 0.75.\n",
      "[I 2025-02-25 17:07:20,676] Trial 43 finished with value: 0.5833333333333333 and parameters: {'k': 10}. Best is trial 18 with value: 0.75.\n",
      "[I 2025-02-25 17:07:20,685] Trial 44 finished with value: 0.4166666666666667 and parameters: {'k': 40}. Best is trial 18 with value: 0.75.\n",
      "[I 2025-02-25 17:07:20,694] Trial 45 finished with value: 0.75 and parameters: {'k': 47}. Best is trial 18 with value: 0.75.\n",
      "[I 2025-02-25 17:07:20,703] Trial 46 finished with value: 0.39583333333333337 and parameters: {'k': 4}. Best is trial 18 with value: 0.75.\n",
      "[I 2025-02-25 17:07:20,713] Trial 47 finished with value: 0.4583333333333333 and parameters: {'k': 1}. Best is trial 18 with value: 0.75.\n",
      "[I 2025-02-25 17:07:20,722] Trial 48 finished with value: 0.75 and parameters: {'k': 48}. Best is trial 18 with value: 0.75.\n",
      "[I 2025-02-25 17:07:20,732] Trial 49 finished with value: 0.5625 and parameters: {'k': 45}. Best is trial 18 with value: 0.75.\n",
      "[I 2025-02-25 17:07:20,742] A new study created in memory with name: no-name-c0597695-516d-4267-a438-120830ed94eb\n",
      "[I 2025-02-25 17:07:20,745] Trial 0 finished with value: 0.3333333333333333 and parameters: {'k': 29}. Best is trial 0 with value: 0.3333333333333333.\n",
      "[I 2025-02-25 17:07:20,748] Trial 1 finished with value: 0.875 and parameters: {'k': 12}. Best is trial 1 with value: 0.875.\n",
      "[I 2025-02-25 17:07:20,752] Trial 2 finished with value: 0.875 and parameters: {'k': 11}. Best is trial 1 with value: 0.875.\n",
      "[I 2025-02-25 17:07:20,755] Trial 3 finished with value: 0.5833333333333333 and parameters: {'k': 42}. Best is trial 1 with value: 0.875.\n",
      "[I 2025-02-25 17:07:20,759] Trial 4 finished with value: 0.6041666666666666 and parameters: {'k': 3}. Best is trial 1 with value: 0.875.\n",
      "[I 2025-02-25 17:07:20,763] Trial 5 finished with value: 0.3333333333333333 and parameters: {'k': 28}. Best is trial 1 with value: 0.875.\n",
      "[I 2025-02-25 17:07:20,766] Trial 6 finished with value: 0.6666666666666666 and parameters: {'k': 39}. Best is trial 1 with value: 0.875.\n",
      "[I 2025-02-25 17:07:20,771] Trial 7 finished with value: 0.6666666666666666 and parameters: {'k': 32}. Best is trial 1 with value: 0.875.\n",
      "[I 2025-02-25 17:07:20,775] Trial 8 finished with value: 0.5833333333333334 and parameters: {'k': 23}. Best is trial 1 with value: 0.875.\n",
      "[I 2025-02-25 17:07:20,779] Trial 9 finished with value: 0.5208333333333333 and parameters: {'k': 5}. Best is trial 1 with value: 0.875.\n",
      "[I 2025-02-25 17:07:20,784] Trial 10 finished with value: 0.6666666666666666 and parameters: {'k': 34}. Best is trial 1 with value: 0.875.\n",
      "[I 2025-02-25 17:07:20,788] Trial 11 finished with value: 0.6666666666666666 and parameters: {'k': 36}. Best is trial 1 with value: 0.875.\n",
      "[I 2025-02-25 17:07:20,793] Trial 12 finished with value: 0.41666666666666663 and parameters: {'k': 27}. Best is trial 1 with value: 0.875.\n",
      "[I 2025-02-25 17:07:20,798] Trial 13 finished with value: 0.6666666666666666 and parameters: {'k': 35}. Best is trial 1 with value: 0.875.\n",
      "[I 2025-02-25 17:07:20,803] Trial 14 finished with value: 0.8333333333333333 and parameters: {'k': 19}. Best is trial 1 with value: 0.875.\n",
      "[I 2025-02-25 17:07:20,808] Trial 15 finished with value: 0.8333333333333333 and parameters: {'k': 8}. Best is trial 1 with value: 0.875.\n",
      "[I 2025-02-25 17:07:20,813] Trial 16 finished with value: 0.8541666666666667 and parameters: {'k': 15}. Best is trial 1 with value: 0.875.\n",
      "[I 2025-02-25 17:07:20,819] Trial 17 finished with value: 0.6666666666666666 and parameters: {'k': 46}. Best is trial 1 with value: 0.875.\n",
      "[I 2025-02-25 17:07:20,824] Trial 18 finished with value: 0.5208333333333334 and parameters: {'k': 49}. Best is trial 1 with value: 0.875.\n",
      "[I 2025-02-25 17:07:20,830] Trial 19 finished with value: 0.5 and parameters: {'k': 30}. Best is trial 1 with value: 0.875.\n",
      "[I 2025-02-25 17:07:20,836] Trial 20 finished with value: 0.9583333333333333 and parameters: {'k': 16}. Best is trial 20 with value: 0.9583333333333333.\n",
      "[I 2025-02-25 17:07:20,842] Trial 21 finished with value: 0.4583333333333333 and parameters: {'k': 31}. Best is trial 20 with value: 0.9583333333333333.\n",
      "[I 2025-02-25 17:07:20,848] Trial 22 finished with value: 0.6666666666666666 and parameters: {'k': 33}. Best is trial 20 with value: 0.9583333333333333.\n",
      "[I 2025-02-25 17:07:20,854] Trial 23 finished with value: 0.875 and parameters: {'k': 17}. Best is trial 20 with value: 0.9583333333333333.\n",
      "[I 2025-02-25 17:07:20,860] Trial 24 finished with value: 0.5416666666666666 and parameters: {'k': 43}. Best is trial 20 with value: 0.9583333333333333.\n",
      "[I 2025-02-25 17:07:20,867] Trial 25 finished with value: 0.7916666666666666 and parameters: {'k': 21}. Best is trial 20 with value: 0.9583333333333333.\n",
      "[I 2025-02-25 17:07:20,873] Trial 26 finished with value: 0.5416666666666666 and parameters: {'k': 44}. Best is trial 20 with value: 0.9583333333333333.\n",
      "[I 2025-02-25 17:07:20,880] Trial 27 finished with value: 0.8125 and parameters: {'k': 9}. Best is trial 20 with value: 0.9583333333333333.\n",
      "[I 2025-02-25 17:07:20,890] Trial 28 finished with value: 0.875 and parameters: {'k': 14}. Best is trial 20 with value: 0.9583333333333333.\n",
      "[I 2025-02-25 17:07:20,897] Trial 29 finished with value: 0.41666666666666663 and parameters: {'k': 26}. Best is trial 20 with value: 0.9583333333333333.\n",
      "[I 2025-02-25 17:07:20,904] Trial 30 finished with value: 0.5208333333333333 and parameters: {'k': 6}. Best is trial 20 with value: 0.9583333333333333.\n",
      "[I 2025-02-25 17:07:20,911] Trial 31 finished with value: 0.8333333333333333 and parameters: {'k': 18}. Best is trial 20 with value: 0.9583333333333333.\n",
      "[I 2025-02-25 17:07:20,918] Trial 32 finished with value: 0.5833333333333333 and parameters: {'k': 41}. Best is trial 20 with value: 0.9583333333333333.\n",
      "[I 2025-02-25 17:07:20,926] Trial 33 finished with value: 0.625 and parameters: {'k': 50}. Best is trial 20 with value: 0.9583333333333333.\n",
      "[I 2025-02-25 17:07:20,933] Trial 34 finished with value: 0.5208333333333334 and parameters: {'k': 2}. Best is trial 20 with value: 0.9583333333333333.\n"
     ]
    },
    {
     "name": "stdout",
     "output_type": "stream",
     "text": [
      "Model: MerlinExtractor\n",
      "134\n"
     ]
    },
    {
     "name": "stderr",
     "output_type": "stream",
     "text": [
      "[I 2025-02-25 17:07:20,941] Trial 35 finished with value: 0.7916666666666667 and parameters: {'k': 13}. Best is trial 20 with value: 0.9583333333333333.\n",
      "[I 2025-02-25 17:07:20,949] Trial 36 finished with value: 0.6666666666666666 and parameters: {'k': 38}. Best is trial 20 with value: 0.9583333333333333.\n",
      "[I 2025-02-25 17:07:20,957] Trial 37 finished with value: 0.5 and parameters: {'k': 25}. Best is trial 20 with value: 0.9583333333333333.\n",
      "[I 2025-02-25 17:07:20,965] Trial 38 finished with value: 0.6666666666666666 and parameters: {'k': 7}. Best is trial 20 with value: 0.9583333333333333.\n",
      "[I 2025-02-25 17:07:20,974] Trial 39 finished with value: 0.5833333333333334 and parameters: {'k': 24}. Best is trial 20 with value: 0.9583333333333333.\n",
      "[I 2025-02-25 17:07:20,982] Trial 40 finished with value: 0.6666666666666666 and parameters: {'k': 37}. Best is trial 20 with value: 0.9583333333333333.\n",
      "[I 2025-02-25 17:07:20,991] Trial 41 finished with value: 0.7083333333333333 and parameters: {'k': 22}. Best is trial 20 with value: 0.9583333333333333.\n",
      "[I 2025-02-25 17:07:20,999] Trial 42 finished with value: 0.8333333333333333 and parameters: {'k': 20}. Best is trial 20 with value: 0.9583333333333333.\n",
      "[I 2025-02-25 17:07:21,008] Trial 43 finished with value: 0.7291666666666667 and parameters: {'k': 10}. Best is trial 20 with value: 0.9583333333333333.\n",
      "[I 2025-02-25 17:07:21,017] Trial 44 finished with value: 0.6666666666666666 and parameters: {'k': 40}. Best is trial 20 with value: 0.9583333333333333.\n",
      "[I 2025-02-25 17:07:21,026] Trial 45 finished with value: 0.6458333333333334 and parameters: {'k': 47}. Best is trial 20 with value: 0.9583333333333333.\n",
      "[I 2025-02-25 17:07:21,035] Trial 46 finished with value: 0.5416666666666666 and parameters: {'k': 4}. Best is trial 20 with value: 0.9583333333333333.\n",
      "[I 2025-02-25 17:07:21,044] Trial 47 finished with value: 0.6666666666666667 and parameters: {'k': 1}. Best is trial 20 with value: 0.9583333333333333.\n",
      "[I 2025-02-25 17:07:21,054] Trial 48 finished with value: 0.5416666666666667 and parameters: {'k': 48}. Best is trial 20 with value: 0.9583333333333333.\n",
      "[I 2025-02-25 17:07:21,064] Trial 49 finished with value: 0.5416666666666666 and parameters: {'k': 45}. Best is trial 20 with value: 0.9583333333333333.\n",
      "[I 2025-02-25 17:07:21,068] A new study created in memory with name: no-name-0bd842a6-2479-42bb-bf01-534c33a1e005\n",
      "[I 2025-02-25 17:07:21,072] Trial 0 finished with value: 0.7083333333333334 and parameters: {'k': 29}. Best is trial 0 with value: 0.7083333333333334.\n",
      "[I 2025-02-25 17:07:21,075] Trial 1 finished with value: 0.7708333333333334 and parameters: {'k': 12}. Best is trial 1 with value: 0.7708333333333334.\n",
      "[I 2025-02-25 17:07:21,078] Trial 2 finished with value: 0.5833333333333334 and parameters: {'k': 11}. Best is trial 1 with value: 0.7708333333333334.\n",
      "[I 2025-02-25 17:07:21,082] Trial 3 finished with value: 0.6666666666666667 and parameters: {'k': 42}. Best is trial 1 with value: 0.7708333333333334.\n",
      "[I 2025-02-25 17:07:21,085] Trial 4 finished with value: 0.7916666666666667 and parameters: {'k': 3}. Best is trial 4 with value: 0.7916666666666667.\n",
      "[I 2025-02-25 17:07:21,089] Trial 5 finished with value: 0.7083333333333334 and parameters: {'k': 28}. Best is trial 4 with value: 0.7916666666666667.\n",
      "[I 2025-02-25 17:07:21,093] Trial 6 finished with value: 0.7083333333333333 and parameters: {'k': 39}. Best is trial 4 with value: 0.7916666666666667.\n",
      "[I 2025-02-25 17:07:21,097] Trial 7 finished with value: 0.5 and parameters: {'k': 32}. Best is trial 4 with value: 0.7916666666666667.\n",
      "[I 2025-02-25 17:07:21,101] Trial 8 finished with value: 0.6458333333333333 and parameters: {'k': 23}. Best is trial 4 with value: 0.7916666666666667.\n",
      "[I 2025-02-25 17:07:21,105] Trial 9 finished with value: 0.8333333333333333 and parameters: {'k': 5}. Best is trial 9 with value: 0.8333333333333333.\n",
      "[I 2025-02-25 17:07:21,110] Trial 10 finished with value: 0.8333333333333333 and parameters: {'k': 34}. Best is trial 9 with value: 0.8333333333333333.\n",
      "[I 2025-02-25 17:07:21,114] Trial 11 finished with value: 0.7916666666666667 and parameters: {'k': 36}. Best is trial 9 with value: 0.8333333333333333.\n",
      "[I 2025-02-25 17:07:21,119] Trial 12 finished with value: 0.5416666666666667 and parameters: {'k': 27}. Best is trial 9 with value: 0.8333333333333333.\n",
      "[I 2025-02-25 17:07:21,124] Trial 13 finished with value: 0.7916666666666667 and parameters: {'k': 35}. Best is trial 9 with value: 0.8333333333333333.\n",
      "[I 2025-02-25 17:07:21,129] Trial 14 finished with value: 0.7083333333333334 and parameters: {'k': 19}. Best is trial 9 with value: 0.8333333333333333.\n",
      "[I 2025-02-25 17:07:21,134] Trial 15 finished with value: 0.7708333333333333 and parameters: {'k': 8}. Best is trial 9 with value: 0.8333333333333333.\n",
      "[I 2025-02-25 17:07:21,139] Trial 16 finished with value: 0.6875 and parameters: {'k': 15}. Best is trial 9 with value: 0.8333333333333333.\n",
      "[I 2025-02-25 17:07:21,144] Trial 17 finished with value: 0.45833333333333337 and parameters: {'k': 46}. Best is trial 9 with value: 0.8333333333333333.\n",
      "[I 2025-02-25 17:07:21,150] Trial 18 finished with value: 0.5625 and parameters: {'k': 49}. Best is trial 9 with value: 0.8333333333333333.\n",
      "[I 2025-02-25 17:07:21,155] Trial 19 finished with value: 0.5416666666666666 and parameters: {'k': 30}. Best is trial 9 with value: 0.8333333333333333.\n",
      "[I 2025-02-25 17:07:21,161] Trial 20 finished with value: 0.6666666666666666 and parameters: {'k': 16}. Best is trial 9 with value: 0.8333333333333333.\n",
      "[I 2025-02-25 17:07:21,167] Trial 21 finished with value: 0.5 and parameters: {'k': 31}. Best is trial 9 with value: 0.8333333333333333.\n",
      "[I 2025-02-25 17:07:21,173] Trial 22 finished with value: 0.41666666666666663 and parameters: {'k': 33}. Best is trial 9 with value: 0.8333333333333333.\n",
      "[I 2025-02-25 17:07:21,179] Trial 23 finished with value: 0.5625 and parameters: {'k': 17}. Best is trial 9 with value: 0.8333333333333333.\n",
      "[I 2025-02-25 17:07:21,186] Trial 24 finished with value: 0.625 and parameters: {'k': 43}. Best is trial 9 with value: 0.8333333333333333.\n",
      "[I 2025-02-25 17:07:21,195] Trial 25 finished with value: 0.6875 and parameters: {'k': 21}. Best is trial 9 with value: 0.8333333333333333.\n",
      "[I 2025-02-25 17:07:21,201] Trial 26 finished with value: 0.5416666666666666 and parameters: {'k': 44}. Best is trial 9 with value: 0.8333333333333333.\n",
      "[I 2025-02-25 17:07:21,208] Trial 27 finished with value: 0.7291666666666666 and parameters: {'k': 9}. Best is trial 9 with value: 0.8333333333333333.\n",
      "[I 2025-02-25 17:07:21,215] Trial 28 finished with value: 0.7083333333333333 and parameters: {'k': 14}. Best is trial 9 with value: 0.8333333333333333.\n",
      "[I 2025-02-25 17:07:21,222] Trial 29 finished with value: 0.6041666666666666 and parameters: {'k': 26}. Best is trial 9 with value: 0.8333333333333333.\n",
      "[I 2025-02-25 17:07:21,229] Trial 30 finished with value: 0.8125 and parameters: {'k': 6}. Best is trial 9 with value: 0.8333333333333333.\n",
      "[I 2025-02-25 17:07:21,236] Trial 31 finished with value: 0.5416666666666667 and parameters: {'k': 18}. Best is trial 9 with value: 0.8333333333333333.\n",
      "[I 2025-02-25 17:07:21,243] Trial 32 finished with value: 0.6666666666666667 and parameters: {'k': 41}. Best is trial 9 with value: 0.8333333333333333.\n",
      "[I 2025-02-25 17:07:21,251] Trial 33 finished with value: 0.6666666666666667 and parameters: {'k': 50}. Best is trial 9 with value: 0.8333333333333333.\n",
      "[I 2025-02-25 17:07:21,258] Trial 34 finished with value: 0.8333333333333333 and parameters: {'k': 2}. Best is trial 9 with value: 0.8333333333333333.\n",
      "[I 2025-02-25 17:07:21,266] Trial 35 finished with value: 0.7291666666666667 and parameters: {'k': 13}. Best is trial 9 with value: 0.8333333333333333.\n",
      "[I 2025-02-25 17:07:21,274] Trial 36 finished with value: 0.75 and parameters: {'k': 38}. Best is trial 9 with value: 0.8333333333333333.\n",
      "[I 2025-02-25 17:07:21,282] Trial 37 finished with value: 0.6041666666666666 and parameters: {'k': 25}. Best is trial 9 with value: 0.8333333333333333.\n",
      "[I 2025-02-25 17:07:21,290] Trial 38 finished with value: 0.7708333333333334 and parameters: {'k': 7}. Best is trial 9 with value: 0.8333333333333333.\n",
      "[I 2025-02-25 17:07:21,299] Trial 39 finished with value: 0.6041666666666666 and parameters: {'k': 24}. Best is trial 9 with value: 0.8333333333333333.\n",
      "[I 2025-02-25 17:07:21,307] Trial 40 finished with value: 0.75 and parameters: {'k': 37}. Best is trial 9 with value: 0.8333333333333333.\n",
      "[I 2025-02-25 17:07:21,316] Trial 41 finished with value: 0.6458333333333333 and parameters: {'k': 22}. Best is trial 9 with value: 0.8333333333333333.\n",
      "[I 2025-02-25 17:07:21,324] Trial 42 finished with value: 0.625 and parameters: {'k': 20}. Best is trial 9 with value: 0.8333333333333333.\n",
      "[I 2025-02-25 17:07:21,333] Trial 43 finished with value: 0.6875 and parameters: {'k': 10}. Best is trial 9 with value: 0.8333333333333333.\n",
      "[I 2025-02-25 17:07:21,342] Trial 44 finished with value: 0.7083333333333333 and parameters: {'k': 40}. Best is trial 9 with value: 0.8333333333333333.\n",
      "[I 2025-02-25 17:07:21,351] Trial 45 finished with value: 0.45833333333333337 and parameters: {'k': 47}. Best is trial 9 with value: 0.8333333333333333.\n",
      "[I 2025-02-25 17:07:21,361] Trial 46 finished with value: 0.8333333333333333 and parameters: {'k': 4}. Best is trial 9 with value: 0.8333333333333333.\n",
      "[I 2025-02-25 17:07:21,370] Trial 47 finished with value: 0.7083333333333333 and parameters: {'k': 1}. Best is trial 9 with value: 0.8333333333333333.\n",
      "[I 2025-02-25 17:07:21,379] Trial 48 finished with value: 0.5625 and parameters: {'k': 48}. Best is trial 9 with value: 0.8333333333333333.\n",
      "[I 2025-02-25 17:07:21,389] Trial 49 finished with value: 0.5 and parameters: {'k': 45}. Best is trial 9 with value: 0.8333333333333333.\n",
      "[I 2025-02-25 17:07:21,394] A new study created in memory with name: no-name-3c6dd5c3-d63d-4ef1-967d-afa3fe47dd8c\n",
      "[I 2025-02-25 17:07:21,397] Trial 0 finished with value: 0.8333333333333334 and parameters: {'k': 29}. Best is trial 0 with value: 0.8333333333333334.\n",
      "[I 2025-02-25 17:07:21,401] Trial 1 finished with value: 0.3125 and parameters: {'k': 12}. Best is trial 0 with value: 0.8333333333333334.\n",
      "[I 2025-02-25 17:07:21,404] Trial 2 finished with value: 0.39583333333333337 and parameters: {'k': 11}. Best is trial 0 with value: 0.8333333333333334.\n",
      "[I 2025-02-25 17:07:21,408] Trial 3 finished with value: 0.6875 and parameters: {'k': 42}. Best is trial 0 with value: 0.8333333333333334.\n",
      "[I 2025-02-25 17:07:21,412] Trial 4 finished with value: 0.375 and parameters: {'k': 3}. Best is trial 0 with value: 0.8333333333333334.\n",
      "[I 2025-02-25 17:07:21,415] Trial 5 finished with value: 0.8541666666666666 and parameters: {'k': 28}. Best is trial 5 with value: 0.8541666666666666.\n",
      "[I 2025-02-25 17:07:21,419] Trial 6 finished with value: 0.6875 and parameters: {'k': 39}. Best is trial 5 with value: 0.8541666666666666.\n",
      "[I 2025-02-25 17:07:21,424] Trial 7 finished with value: 0.8333333333333334 and parameters: {'k': 32}. Best is trial 5 with value: 0.8541666666666666.\n",
      "[I 2025-02-25 17:07:21,428] Trial 8 finished with value: 0.8333333333333334 and parameters: {'k': 23}. Best is trial 5 with value: 0.8541666666666666.\n",
      "[I 2025-02-25 17:07:21,432] Trial 9 finished with value: 0.5 and parameters: {'k': 5}. Best is trial 5 with value: 0.8541666666666666.\n",
      "[I 2025-02-25 17:07:21,437] Trial 10 finished with value: 0.7708333333333333 and parameters: {'k': 34}. Best is trial 5 with value: 0.8541666666666666.\n",
      "[I 2025-02-25 17:07:21,442] Trial 11 finished with value: 0.7083333333333333 and parameters: {'k': 36}. Best is trial 5 with value: 0.8541666666666666.\n",
      "[I 2025-02-25 17:07:21,446] Trial 12 finished with value: 0.875 and parameters: {'k': 27}. Best is trial 12 with value: 0.875.\n",
      "[I 2025-02-25 17:07:21,452] Trial 13 finished with value: 0.75 and parameters: {'k': 35}. Best is trial 12 with value: 0.875.\n",
      "[I 2025-02-25 17:07:21,457] Trial 14 finished with value: 0.7083333333333334 and parameters: {'k': 19}. Best is trial 12 with value: 0.875.\n",
      "[I 2025-02-25 17:07:21,462] Trial 15 finished with value: 0.4166666666666667 and parameters: {'k': 8}. Best is trial 12 with value: 0.875.\n",
      "[I 2025-02-25 17:07:21,467] Trial 16 finished with value: 0.5625 and parameters: {'k': 15}. Best is trial 12 with value: 0.875.\n",
      "[I 2025-02-25 17:07:21,473] Trial 17 finished with value: 0.5625 and parameters: {'k': 46}. Best is trial 12 with value: 0.875.\n",
      "[I 2025-02-25 17:07:21,478] Trial 18 finished with value: 0.5208333333333333 and parameters: {'k': 49}. Best is trial 12 with value: 0.875.\n",
      "[I 2025-02-25 17:07:21,484] Trial 19 finished with value: 0.8333333333333334 and parameters: {'k': 30}. Best is trial 12 with value: 0.875.\n",
      "[I 2025-02-25 17:07:21,490] Trial 20 finished with value: 0.5416666666666666 and parameters: {'k': 16}. Best is trial 12 with value: 0.875.\n",
      "[I 2025-02-25 17:07:21,496] Trial 21 finished with value: 0.8333333333333334 and parameters: {'k': 31}. Best is trial 12 with value: 0.875.\n",
      "[I 2025-02-25 17:07:21,502] Trial 22 finished with value: 0.8125 and parameters: {'k': 33}. Best is trial 12 with value: 0.875.\n",
      "[I 2025-02-25 17:07:21,509] Trial 23 finished with value: 0.5208333333333333 and parameters: {'k': 17}. Best is trial 12 with value: 0.875.\n",
      "[I 2025-02-25 17:07:21,515] Trial 24 finished with value: 0.6666666666666667 and parameters: {'k': 43}. Best is trial 12 with value: 0.875.\n",
      "[I 2025-02-25 17:07:21,522] Trial 25 finished with value: 0.7291666666666667 and parameters: {'k': 21}. Best is trial 12 with value: 0.875.\n",
      "[I 2025-02-25 17:07:21,529] Trial 26 finished with value: 0.6666666666666667 and parameters: {'k': 44}. Best is trial 12 with value: 0.875.\n",
      "[I 2025-02-25 17:07:21,535] Trial 27 finished with value: 0.4166666666666667 and parameters: {'k': 9}. Best is trial 12 with value: 0.875.\n",
      "[I 2025-02-25 17:07:21,542] Trial 28 finished with value: 0.6041666666666666 and parameters: {'k': 14}. Best is trial 12 with value: 0.875.\n",
      "[I 2025-02-25 17:07:21,549] Trial 29 finished with value: 0.9166666666666667 and parameters: {'k': 26}. Best is trial 29 with value: 0.9166666666666667.\n",
      "[I 2025-02-25 17:07:21,557] Trial 30 finished with value: 0.45833333333333337 and parameters: {'k': 6}. Best is trial 29 with value: 0.9166666666666667.\n",
      "[I 2025-02-25 17:07:21,564] Trial 31 finished with value: 0.7708333333333333 and parameters: {'k': 18}. Best is trial 29 with value: 0.9166666666666667.\n",
      "[I 2025-02-25 17:07:21,571] Trial 32 finished with value: 0.6875 and parameters: {'k': 41}. Best is trial 29 with value: 0.9166666666666667.\n",
      "[I 2025-02-25 17:07:21,579] Trial 33 finished with value: 0.5208333333333333 and parameters: {'k': 50}. Best is trial 29 with value: 0.9166666666666667.\n",
      "[I 2025-02-25 17:07:21,587] Trial 34 finished with value: 0.4166666666666667 and parameters: {'k': 2}. Best is trial 29 with value: 0.9166666666666667.\n",
      "[I 2025-02-25 17:07:21,595] Trial 35 finished with value: 0.4166666666666667 and parameters: {'k': 13}. Best is trial 29 with value: 0.9166666666666667.\n",
      "[I 2025-02-25 17:07:21,603] Trial 36 finished with value: 0.6875 and parameters: {'k': 38}. Best is trial 29 with value: 0.9166666666666667.\n",
      "[I 2025-02-25 17:07:21,611] Trial 37 finished with value: 0.9583333333333334 and parameters: {'k': 25}. Best is trial 37 with value: 0.9583333333333334.\n",
      "[I 2025-02-25 17:07:21,619] Trial 38 finished with value: 0.45833333333333337 and parameters: {'k': 7}. Best is trial 37 with value: 0.9583333333333334.\n",
      "[I 2025-02-25 17:07:21,628] Trial 39 finished with value: 0.9583333333333334 and parameters: {'k': 24}. Best is trial 37 with value: 0.9583333333333334.\n",
      "[I 2025-02-25 17:07:21,636] Trial 40 finished with value: 0.6875 and parameters: {'k': 37}. Best is trial 37 with value: 0.9583333333333334.\n",
      "[I 2025-02-25 17:07:21,645] Trial 41 finished with value: 0.7916666666666667 and parameters: {'k': 22}. Best is trial 37 with value: 0.9583333333333334.\n",
      "[I 2025-02-25 17:07:21,653] Trial 42 finished with value: 0.7083333333333334 and parameters: {'k': 20}. Best is trial 37 with value: 0.9583333333333334.\n",
      "[I 2025-02-25 17:07:21,662] Trial 43 finished with value: 0.39583333333333337 and parameters: {'k': 10}. Best is trial 37 with value: 0.9583333333333334.\n",
      "[I 2025-02-25 17:07:21,671] Trial 44 finished with value: 0.6875 and parameters: {'k': 40}. Best is trial 37 with value: 0.9583333333333334.\n",
      "[I 2025-02-25 17:07:21,680] Trial 45 finished with value: 0.5416666666666666 and parameters: {'k': 47}. Best is trial 37 with value: 0.9583333333333334.\n",
      "[I 2025-02-25 17:07:21,689] Trial 46 finished with value: 0.2916666666666667 and parameters: {'k': 4}. Best is trial 37 with value: 0.9583333333333334.\n",
      "[I 2025-02-25 17:07:21,699] Trial 47 finished with value: 0.4583333333333333 and parameters: {'k': 1}. Best is trial 37 with value: 0.9583333333333334.\n",
      "[I 2025-02-25 17:07:21,708] Trial 48 finished with value: 0.5416666666666666 and parameters: {'k': 48}. Best is trial 37 with value: 0.9583333333333334.\n",
      "[I 2025-02-25 17:07:21,718] Trial 49 finished with value: 0.5833333333333334 and parameters: {'k': 45}. Best is trial 37 with value: 0.9583333333333334.\n",
      "[I 2025-02-25 17:07:21,723] A new study created in memory with name: no-name-092a99ef-41da-426f-9b44-7eb8dbd755df\n",
      "[I 2025-02-25 17:07:21,726] Trial 0 finished with value: 0.9166666666666666 and parameters: {'k': 29}. Best is trial 0 with value: 0.9166666666666666.\n",
      "[I 2025-02-25 17:07:21,729] Trial 1 finished with value: 0.5625 and parameters: {'k': 12}. Best is trial 0 with value: 0.9166666666666666.\n",
      "[I 2025-02-25 17:07:21,732] Trial 2 finished with value: 0.5625 and parameters: {'k': 11}. Best is trial 0 with value: 0.9166666666666666.\n",
      "[I 2025-02-25 17:07:21,736] Trial 3 finished with value: 0.625 and parameters: {'k': 42}. Best is trial 0 with value: 0.9166666666666666.\n",
      "[I 2025-02-25 17:07:21,739] Trial 4 finished with value: 0.6458333333333334 and parameters: {'k': 3}. Best is trial 0 with value: 0.9166666666666666.\n",
      "[I 2025-02-25 17:07:21,743] Trial 5 finished with value: 0.9166666666666666 and parameters: {'k': 28}. Best is trial 0 with value: 0.9166666666666666.\n",
      "[I 2025-02-25 17:07:21,747] Trial 6 finished with value: 0.6666666666666666 and parameters: {'k': 39}. Best is trial 0 with value: 0.9166666666666666.\n",
      "[I 2025-02-25 17:07:21,751] Trial 7 finished with value: 0.7916666666666667 and parameters: {'k': 32}. Best is trial 0 with value: 0.9166666666666666.\n",
      "[I 2025-02-25 17:07:21,755] Trial 8 finished with value: 0.8541666666666666 and parameters: {'k': 23}. Best is trial 0 with value: 0.9166666666666666.\n",
      "[I 2025-02-25 17:07:21,759] Trial 9 finished with value: 0.6458333333333333 and parameters: {'k': 5}. Best is trial 0 with value: 0.9166666666666666.\n",
      "[I 2025-02-25 17:07:21,764] Trial 10 finished with value: 0.7291666666666667 and parameters: {'k': 34}. Best is trial 0 with value: 0.9166666666666666.\n",
      "[I 2025-02-25 17:07:21,768] Trial 11 finished with value: 0.7083333333333334 and parameters: {'k': 36}. Best is trial 0 with value: 0.9166666666666666.\n",
      "[I 2025-02-25 17:07:21,773] Trial 12 finished with value: 0.9166666666666666 and parameters: {'k': 27}. Best is trial 0 with value: 0.9166666666666666.\n",
      "[I 2025-02-25 17:07:21,778] Trial 13 finished with value: 0.7083333333333334 and parameters: {'k': 35}. Best is trial 0 with value: 0.9166666666666666.\n",
      "[I 2025-02-25 17:07:21,783] Trial 14 finished with value: 0.875 and parameters: {'k': 19}. Best is trial 0 with value: 0.9166666666666666.\n",
      "[I 2025-02-25 17:07:21,788] Trial 15 finished with value: 0.625 and parameters: {'k': 8}. Best is trial 0 with value: 0.9166666666666666.\n",
      "[I 2025-02-25 17:07:21,793] Trial 16 finished with value: 0.6458333333333334 and parameters: {'k': 15}. Best is trial 0 with value: 0.9166666666666666.\n",
      "[I 2025-02-25 17:07:21,799] Trial 17 finished with value: 0.5833333333333333 and parameters: {'k': 46}. Best is trial 0 with value: 0.9166666666666666.\n",
      "[I 2025-02-25 17:07:21,804] Trial 18 finished with value: 0.45833333333333337 and parameters: {'k': 49}. Best is trial 0 with value: 0.9166666666666666.\n",
      "[I 2025-02-25 17:07:21,810] Trial 19 finished with value: 0.875 and parameters: {'k': 30}. Best is trial 0 with value: 0.9166666666666666.\n",
      "[I 2025-02-25 17:07:21,816] Trial 20 finished with value: 0.625 and parameters: {'k': 16}. Best is trial 0 with value: 0.9166666666666666.\n",
      "[I 2025-02-25 17:07:21,822] Trial 21 finished with value: 0.8125 and parameters: {'k': 31}. Best is trial 0 with value: 0.9166666666666666.\n",
      "[I 2025-02-25 17:07:21,828] Trial 22 finished with value: 0.75 and parameters: {'k': 33}. Best is trial 0 with value: 0.9166666666666666.\n",
      "[I 2025-02-25 17:07:21,834] Trial 23 finished with value: 0.5833333333333334 and parameters: {'k': 17}. Best is trial 0 with value: 0.9166666666666666.\n",
      "[I 2025-02-25 17:07:21,840] Trial 24 finished with value: 0.625 and parameters: {'k': 43}. Best is trial 0 with value: 0.9166666666666666.\n",
      "[I 2025-02-25 17:07:21,847] Trial 25 finished with value: 0.875 and parameters: {'k': 21}. Best is trial 0 with value: 0.9166666666666666.\n",
      "[I 2025-02-25 17:07:21,853] Trial 26 finished with value: 0.6041666666666666 and parameters: {'k': 44}. Best is trial 0 with value: 0.9166666666666666.\n",
      "[I 2025-02-25 17:07:21,860] Trial 27 finished with value: 0.625 and parameters: {'k': 9}. Best is trial 0 with value: 0.9166666666666666.\n",
      "[I 2025-02-25 17:07:21,867] Trial 28 finished with value: 0.6875 and parameters: {'k': 14}. Best is trial 0 with value: 0.9166666666666666.\n",
      "[I 2025-02-25 17:07:21,874] Trial 29 finished with value: 0.9375 and parameters: {'k': 26}. Best is trial 29 with value: 0.9375.\n",
      "[I 2025-02-25 17:07:21,881] Trial 30 finished with value: 0.625 and parameters: {'k': 6}. Best is trial 29 with value: 0.9375.\n",
      "[I 2025-02-25 17:07:21,888] Trial 31 finished with value: 0.7083333333333333 and parameters: {'k': 18}. Best is trial 29 with value: 0.9375.\n",
      "[I 2025-02-25 17:07:21,896] Trial 32 finished with value: 0.6458333333333333 and parameters: {'k': 41}. Best is trial 29 with value: 0.9375.\n",
      "[I 2025-02-25 17:07:21,903] Trial 33 finished with value: 0.5625 and parameters: {'k': 50}. Best is trial 29 with value: 0.9375.\n",
      "[I 2025-02-25 17:07:21,911] Trial 34 finished with value: 0.4166666666666667 and parameters: {'k': 2}. Best is trial 29 with value: 0.9375.\n",
      "[I 2025-02-25 17:07:21,918] Trial 35 finished with value: 0.5416666666666666 and parameters: {'k': 13}. Best is trial 29 with value: 0.9375.\n",
      "[I 2025-02-25 17:07:21,926] Trial 36 finished with value: 0.6666666666666666 and parameters: {'k': 38}. Best is trial 29 with value: 0.9375.\n",
      "[I 2025-02-25 17:07:21,934] Trial 37 finished with value: 0.9375 and parameters: {'k': 25}. Best is trial 29 with value: 0.9375.\n",
      "[I 2025-02-25 17:07:21,943] Trial 38 finished with value: 0.6458333333333334 and parameters: {'k': 7}. Best is trial 29 with value: 0.9375.\n",
      "[I 2025-02-25 17:07:21,951] Trial 39 finished with value: 0.8125 and parameters: {'k': 24}. Best is trial 29 with value: 0.9375.\n",
      "[I 2025-02-25 17:07:21,959] Trial 40 finished with value: 0.6666666666666666 and parameters: {'k': 37}. Best is trial 29 with value: 0.9375.\n",
      "[I 2025-02-25 17:07:21,968] Trial 41 finished with value: 0.8541666666666666 and parameters: {'k': 22}. Best is trial 29 with value: 0.9375.\n",
      "[I 2025-02-25 17:07:21,976] Trial 42 finished with value: 0.8541666666666666 and parameters: {'k': 20}. Best is trial 29 with value: 0.9375.\n",
      "[I 2025-02-25 17:07:21,985] Trial 43 finished with value: 0.5625 and parameters: {'k': 10}. Best is trial 29 with value: 0.9375.\n",
      "[I 2025-02-25 17:07:21,994] Trial 44 finished with value: 0.6666666666666666 and parameters: {'k': 40}. Best is trial 29 with value: 0.9375.\n",
      "[I 2025-02-25 17:07:22,003] Trial 45 finished with value: 0.5833333333333333 and parameters: {'k': 47}. Best is trial 29 with value: 0.9375.\n",
      "[I 2025-02-25 17:07:22,013] Trial 46 finished with value: 0.6666666666666666 and parameters: {'k': 4}. Best is trial 29 with value: 0.9375.\n",
      "[I 2025-02-25 17:07:22,022] Trial 47 finished with value: 0.4166666666666667 and parameters: {'k': 1}. Best is trial 29 with value: 0.9375.\n",
      "[I 2025-02-25 17:07:22,032] Trial 48 finished with value: 0.5208333333333334 and parameters: {'k': 48}. Best is trial 29 with value: 0.9375.\n",
      "[I 2025-02-25 17:07:22,041] Trial 49 finished with value: 0.5833333333333333 and parameters: {'k': 45}. Best is trial 29 with value: 0.9375.\n",
      "[I 2025-02-25 17:07:22,046] A new study created in memory with name: no-name-ea773b28-21d9-4ce1-90ff-5fdd6f7749c7\n",
      "[I 2025-02-25 17:07:22,049] Trial 0 finished with value: 0.8333333333333333 and parameters: {'k': 29}. Best is trial 0 with value: 0.8333333333333333.\n",
      "[I 2025-02-25 17:07:22,052] Trial 1 finished with value: 0.7083333333333333 and parameters: {'k': 12}. Best is trial 0 with value: 0.8333333333333333.\n",
      "[I 2025-02-25 17:07:22,056] Trial 2 finished with value: 0.5833333333333333 and parameters: {'k': 11}. Best is trial 0 with value: 0.8333333333333333.\n",
      "[I 2025-02-25 17:07:22,059] Trial 3 finished with value: 0.7083333333333334 and parameters: {'k': 42}. Best is trial 0 with value: 0.8333333333333333.\n",
      "[I 2025-02-25 17:07:22,063] Trial 4 finished with value: 0.6666666666666667 and parameters: {'k': 3}. Best is trial 0 with value: 0.8333333333333333.\n",
      "[I 2025-02-25 17:07:22,067] Trial 5 finished with value: 0.875 and parameters: {'k': 28}. Best is trial 5 with value: 0.875.\n",
      "[I 2025-02-25 17:07:22,071] Trial 6 finished with value: 0.7916666666666667 and parameters: {'k': 39}. Best is trial 5 with value: 0.875.\n",
      "[I 2025-02-25 17:07:22,075] Trial 7 finished with value: 0.75 and parameters: {'k': 32}. Best is trial 5 with value: 0.875.\n",
      "[I 2025-02-25 17:07:22,081] Trial 8 finished with value: 0.6458333333333334 and parameters: {'k': 23}. Best is trial 5 with value: 0.875.\n",
      "[I 2025-02-25 17:07:22,087] Trial 9 finished with value: 0.6666666666666667 and parameters: {'k': 5}. Best is trial 5 with value: 0.875.\n",
      "[I 2025-02-25 17:07:22,091] Trial 10 finished with value: 0.625 and parameters: {'k': 34}. Best is trial 5 with value: 0.875.\n",
      "[I 2025-02-25 17:07:22,096] Trial 11 finished with value: 0.7708333333333334 and parameters: {'k': 36}. Best is trial 5 with value: 0.875.\n",
      "[I 2025-02-25 17:07:22,101] Trial 12 finished with value: 0.7083333333333333 and parameters: {'k': 27}. Best is trial 5 with value: 0.875.\n",
      "[I 2025-02-25 17:07:22,105] Trial 13 finished with value: 0.625 and parameters: {'k': 35}. Best is trial 5 with value: 0.875.\n",
      "[I 2025-02-25 17:07:22,110] Trial 14 finished with value: 0.625 and parameters: {'k': 19}. Best is trial 5 with value: 0.875.\n",
      "[I 2025-02-25 17:07:22,115] Trial 15 finished with value: 0.6666666666666667 and parameters: {'k': 8}. Best is trial 5 with value: 0.875.\n",
      "[I 2025-02-25 17:07:22,121] Trial 16 finished with value: 0.7708333333333333 and parameters: {'k': 15}. Best is trial 5 with value: 0.875.\n",
      "[I 2025-02-25 17:07:22,126] Trial 17 finished with value: 0.7083333333333334 and parameters: {'k': 46}. Best is trial 5 with value: 0.875.\n",
      "[I 2025-02-25 17:07:22,132] Trial 18 finished with value: 0.6666666666666666 and parameters: {'k': 49}. Best is trial 5 with value: 0.875.\n",
      "[I 2025-02-25 17:07:22,137] Trial 19 finished with value: 0.875 and parameters: {'k': 30}. Best is trial 5 with value: 0.875.\n",
      "[I 2025-02-25 17:07:22,143] Trial 20 finished with value: 0.7083333333333333 and parameters: {'k': 16}. Best is trial 5 with value: 0.875.\n",
      "[I 2025-02-25 17:07:22,149] Trial 21 finished with value: 0.7916666666666667 and parameters: {'k': 31}. Best is trial 5 with value: 0.875.\n",
      "[I 2025-02-25 17:07:22,155] Trial 22 finished with value: 0.7083333333333334 and parameters: {'k': 33}. Best is trial 5 with value: 0.875.\n",
      "[I 2025-02-25 17:07:22,161] Trial 23 finished with value: 0.7916666666666666 and parameters: {'k': 17}. Best is trial 5 with value: 0.875.\n",
      "[I 2025-02-25 17:07:22,168] Trial 24 finished with value: 0.7083333333333334 and parameters: {'k': 43}. Best is trial 5 with value: 0.875.\n",
      "[I 2025-02-25 17:07:22,174] Trial 25 finished with value: 0.5416666666666666 and parameters: {'k': 21}. Best is trial 5 with value: 0.875.\n",
      "[I 2025-02-25 17:07:22,181] Trial 26 finished with value: 0.7083333333333334 and parameters: {'k': 44}. Best is trial 5 with value: 0.875.\n",
      "[I 2025-02-25 17:07:22,188] Trial 27 finished with value: 0.625 and parameters: {'k': 9}. Best is trial 5 with value: 0.875.\n",
      "[I 2025-02-25 17:07:22,194] Trial 28 finished with value: 0.8333333333333333 and parameters: {'k': 14}. Best is trial 5 with value: 0.875.\n",
      "[I 2025-02-25 17:07:22,201] Trial 29 finished with value: 0.5833333333333333 and parameters: {'k': 26}. Best is trial 5 with value: 0.875.\n",
      "[I 2025-02-25 17:07:22,209] Trial 30 finished with value: 0.6875 and parameters: {'k': 6}. Best is trial 5 with value: 0.875.\n",
      "[I 2025-02-25 17:07:22,216] Trial 31 finished with value: 0.7083333333333334 and parameters: {'k': 18}. Best is trial 5 with value: 0.875.\n",
      "[I 2025-02-25 17:07:22,223] Trial 32 finished with value: 0.7083333333333334 and parameters: {'k': 41}. Best is trial 5 with value: 0.875.\n",
      "[I 2025-02-25 17:07:22,231] Trial 33 finished with value: 0.6666666666666666 and parameters: {'k': 50}. Best is trial 5 with value: 0.875.\n",
      "[I 2025-02-25 17:07:22,239] Trial 34 finished with value: 0.6666666666666667 and parameters: {'k': 2}. Best is trial 5 with value: 0.875.\n",
      "[I 2025-02-25 17:07:22,246] Trial 35 finished with value: 0.6875 and parameters: {'k': 13}. Best is trial 5 with value: 0.875.\n",
      "[I 2025-02-25 17:07:22,254] Trial 36 finished with value: 0.6458333333333334 and parameters: {'k': 38}. Best is trial 5 with value: 0.875.\n",
      "[I 2025-02-25 17:07:22,262] Trial 37 finished with value: 0.625 and parameters: {'k': 25}. Best is trial 5 with value: 0.875.\n",
      "[I 2025-02-25 17:07:22,270] Trial 38 finished with value: 0.6666666666666667 and parameters: {'k': 7}. Best is trial 5 with value: 0.875.\n",
      "[I 2025-02-25 17:07:22,279] Trial 39 finished with value: 0.625 and parameters: {'k': 24}. Best is trial 5 with value: 0.875.\n",
      "[I 2025-02-25 17:07:22,287] Trial 40 finished with value: 0.7291666666666667 and parameters: {'k': 37}. Best is trial 5 with value: 0.875.\n",
      "[I 2025-02-25 17:07:22,296] Trial 41 finished with value: 0.5 and parameters: {'k': 22}. Best is trial 5 with value: 0.875.\n",
      "[I 2025-02-25 17:07:22,305] Trial 42 finished with value: 0.625 and parameters: {'k': 20}. Best is trial 5 with value: 0.875.\n",
      "[I 2025-02-25 17:07:22,313] Trial 43 finished with value: 0.6041666666666666 and parameters: {'k': 10}. Best is trial 5 with value: 0.875.\n",
      "[I 2025-02-25 17:07:22,322] Trial 44 finished with value: 0.75 and parameters: {'k': 40}. Best is trial 5 with value: 0.875.\n",
      "[I 2025-02-25 17:07:22,332] Trial 45 finished with value: 0.7083333333333334 and parameters: {'k': 47}. Best is trial 5 with value: 0.875.\n",
      "[I 2025-02-25 17:07:22,341] Trial 46 finished with value: 0.7708333333333334 and parameters: {'k': 4}. Best is trial 5 with value: 0.875.\n",
      "[I 2025-02-25 17:07:22,350] Trial 47 finished with value: 0.5833333333333333 and parameters: {'k': 1}. Best is trial 5 with value: 0.875.\n",
      "[I 2025-02-25 17:07:22,360] Trial 48 finished with value: 0.7083333333333334 and parameters: {'k': 48}. Best is trial 5 with value: 0.875.\n",
      "[I 2025-02-25 17:07:22,370] Trial 49 finished with value: 0.7083333333333334 and parameters: {'k': 45}. Best is trial 5 with value: 0.875.\n",
      "[I 2025-02-25 17:07:22,380] A new study created in memory with name: no-name-e2a06ed5-011d-4804-b475-b55a450ba5b5\n",
      "[I 2025-02-25 17:07:22,384] Trial 0 finished with value: 0.8333333333333333 and parameters: {'k': 29}. Best is trial 0 with value: 0.8333333333333333.\n",
      "[I 2025-02-25 17:07:22,388] Trial 1 finished with value: 0.875 and parameters: {'k': 12}. Best is trial 1 with value: 0.875.\n",
      "[I 2025-02-25 17:07:22,392] Trial 2 finished with value: 0.875 and parameters: {'k': 11}. Best is trial 1 with value: 0.875.\n",
      "[I 2025-02-25 17:07:22,397] Trial 3 finished with value: 0.875 and parameters: {'k': 42}. Best is trial 1 with value: 0.875.\n",
      "[I 2025-02-25 17:07:22,401] Trial 4 finished with value: 0.875 and parameters: {'k': 3}. Best is trial 1 with value: 0.875.\n",
      "[I 2025-02-25 17:07:22,406] Trial 5 finished with value: 0.75 and parameters: {'k': 28}. Best is trial 1 with value: 0.875.\n",
      "[I 2025-02-25 17:07:22,410] Trial 6 finished with value: 0.8125 and parameters: {'k': 39}. Best is trial 1 with value: 0.875.\n",
      "[I 2025-02-25 17:07:22,415] Trial 7 finished with value: 0.8125 and parameters: {'k': 32}. Best is trial 1 with value: 0.875.\n",
      "[I 2025-02-25 17:07:22,420] Trial 8 finished with value: 0.875 and parameters: {'k': 23}. Best is trial 1 with value: 0.875.\n",
      "[I 2025-02-25 17:07:22,426] Trial 9 finished with value: 0.9166666666666667 and parameters: {'k': 5}. Best is trial 9 with value: 0.9166666666666667.\n",
      "[I 2025-02-25 17:07:22,431] Trial 10 finished with value: 0.875 and parameters: {'k': 34}. Best is trial 9 with value: 0.9166666666666667.\n",
      "[I 2025-02-25 17:07:22,436] Trial 11 finished with value: 0.8958333333333333 and parameters: {'k': 36}. Best is trial 9 with value: 0.9166666666666667.\n",
      "[I 2025-02-25 17:07:22,442] Trial 12 finished with value: 0.8333333333333333 and parameters: {'k': 27}. Best is trial 9 with value: 0.9166666666666667.\n",
      "[I 2025-02-25 17:07:22,448] Trial 13 finished with value: 0.8958333333333333 and parameters: {'k': 35}. Best is trial 9 with value: 0.9166666666666667.\n",
      "[I 2025-02-25 17:07:22,453] Trial 14 finished with value: 0.9583333333333333 and parameters: {'k': 19}. Best is trial 14 with value: 0.9583333333333333.\n",
      "[I 2025-02-25 17:07:22,459] Trial 15 finished with value: 0.9166666666666667 and parameters: {'k': 8}. Best is trial 14 with value: 0.9583333333333333.\n",
      "[I 2025-02-25 17:07:22,465] Trial 16 finished with value: 0.9166666666666667 and parameters: {'k': 15}. Best is trial 14 with value: 0.9583333333333333.\n",
      "[I 2025-02-25 17:07:22,471] Trial 17 finished with value: 0.875 and parameters: {'k': 46}. Best is trial 14 with value: 0.9583333333333333.\n",
      "[I 2025-02-25 17:07:22,478] Trial 18 finished with value: 0.7916666666666667 and parameters: {'k': 49}. Best is trial 14 with value: 0.9583333333333333.\n",
      "[I 2025-02-25 17:07:22,484] Trial 19 finished with value: 0.8333333333333333 and parameters: {'k': 30}. Best is trial 14 with value: 0.9583333333333333.\n",
      "[I 2025-02-25 17:07:22,491] Trial 20 finished with value: 0.9166666666666667 and parameters: {'k': 16}. Best is trial 14 with value: 0.9583333333333333.\n",
      "[I 2025-02-25 17:07:22,497] Trial 21 finished with value: 0.8125 and parameters: {'k': 31}. Best is trial 14 with value: 0.9583333333333333.\n",
      "[I 2025-02-25 17:07:22,504] Trial 22 finished with value: 0.7916666666666667 and parameters: {'k': 33}. Best is trial 14 with value: 0.9583333333333333.\n",
      "[I 2025-02-25 17:07:22,511] Trial 23 finished with value: 1.0 and parameters: {'k': 17}. Best is trial 23 with value: 1.0.\n",
      "[I 2025-02-25 17:07:22,518] Trial 24 finished with value: 0.875 and parameters: {'k': 43}. Best is trial 23 with value: 1.0.\n",
      "[I 2025-02-25 17:07:22,525] Trial 25 finished with value: 0.9583333333333333 and parameters: {'k': 21}. Best is trial 23 with value: 1.0.\n",
      "[I 2025-02-25 17:07:22,533] Trial 26 finished with value: 0.875 and parameters: {'k': 44}. Best is trial 23 with value: 1.0.\n",
      "[I 2025-02-25 17:07:22,540] Trial 27 finished with value: 0.8958333333333333 and parameters: {'k': 9}. Best is trial 23 with value: 1.0.\n",
      "[I 2025-02-25 17:07:22,548] Trial 28 finished with value: 0.9166666666666667 and parameters: {'k': 14}. Best is trial 23 with value: 1.0.\n",
      "[I 2025-02-25 17:07:22,556] Trial 29 finished with value: 0.875 and parameters: {'k': 26}. Best is trial 23 with value: 1.0.\n",
      "[I 2025-02-25 17:07:22,563] Trial 30 finished with value: 0.8958333333333333 and parameters: {'k': 6}. Best is trial 23 with value: 1.0.\n",
      "[I 2025-02-25 17:07:22,571] Trial 31 finished with value: 0.9583333333333333 and parameters: {'k': 18}. Best is trial 23 with value: 1.0.\n"
     ]
    },
    {
     "name": "stdout",
     "output_type": "stream",
     "text": [
      "Model: ModelsGenExtractor\n",
      "134\n"
     ]
    },
    {
     "name": "stderr",
     "output_type": "stream",
     "text": [
      "[I 2025-02-25 17:07:22,580] Trial 32 finished with value: 0.7916666666666666 and parameters: {'k': 41}. Best is trial 23 with value: 1.0.\n",
      "[I 2025-02-25 17:07:22,588] Trial 33 finished with value: 0.7916666666666667 and parameters: {'k': 50}. Best is trial 23 with value: 1.0.\n",
      "[I 2025-02-25 17:07:22,596] Trial 34 finished with value: 0.7083333333333333 and parameters: {'k': 2}. Best is trial 23 with value: 1.0.\n",
      "[I 2025-02-25 17:07:22,605] Trial 35 finished with value: 0.9166666666666667 and parameters: {'k': 13}. Best is trial 23 with value: 1.0.\n",
      "[I 2025-02-25 17:07:22,614] Trial 36 finished with value: 0.8125 and parameters: {'k': 38}. Best is trial 23 with value: 1.0.\n",
      "[I 2025-02-25 17:07:22,622] Trial 37 finished with value: 0.875 and parameters: {'k': 25}. Best is trial 23 with value: 1.0.\n",
      "[I 2025-02-25 17:07:22,631] Trial 38 finished with value: 0.9166666666666667 and parameters: {'k': 7}. Best is trial 23 with value: 1.0.\n",
      "[I 2025-02-25 17:07:22,641] Trial 39 finished with value: 0.875 and parameters: {'k': 24}. Best is trial 23 with value: 1.0.\n",
      "[I 2025-02-25 17:07:22,650] Trial 40 finished with value: 0.8958333333333333 and parameters: {'k': 37}. Best is trial 23 with value: 1.0.\n",
      "[I 2025-02-25 17:07:22,659] Trial 41 finished with value: 0.9583333333333333 and parameters: {'k': 22}. Best is trial 23 with value: 1.0.\n",
      "[I 2025-02-25 17:07:22,669] Trial 42 finished with value: 0.9583333333333333 and parameters: {'k': 20}. Best is trial 23 with value: 1.0.\n",
      "[I 2025-02-25 17:07:22,678] Trial 43 finished with value: 0.9166666666666667 and parameters: {'k': 10}. Best is trial 23 with value: 1.0.\n",
      "[I 2025-02-25 17:07:22,688] Trial 44 finished with value: 0.7916666666666666 and parameters: {'k': 40}. Best is trial 23 with value: 1.0.\n",
      "[I 2025-02-25 17:07:22,698] Trial 45 finished with value: 0.8333333333333333 and parameters: {'k': 47}. Best is trial 23 with value: 1.0.\n",
      "[I 2025-02-25 17:07:22,708] Trial 46 finished with value: 0.75 and parameters: {'k': 4}. Best is trial 23 with value: 1.0.\n",
      "[I 2025-02-25 17:07:22,718] Trial 47 finished with value: 0.75 and parameters: {'k': 1}. Best is trial 23 with value: 1.0.\n",
      "[I 2025-02-25 17:07:22,728] Trial 48 finished with value: 0.8333333333333333 and parameters: {'k': 48}. Best is trial 23 with value: 1.0.\n",
      "[I 2025-02-25 17:07:22,738] Trial 49 finished with value: 0.875 and parameters: {'k': 45}. Best is trial 23 with value: 1.0.\n",
      "[I 2025-02-25 17:07:22,745] A new study created in memory with name: no-name-67d6c43a-abe2-453d-aa7e-e24facc93a60\n",
      "[I 2025-02-25 17:07:22,749] Trial 0 finished with value: 0.6666666666666667 and parameters: {'k': 29}. Best is trial 0 with value: 0.6666666666666667.\n",
      "[I 2025-02-25 17:07:22,753] Trial 1 finished with value: 0.7291666666666666 and parameters: {'k': 12}. Best is trial 1 with value: 0.7291666666666666.\n",
      "[I 2025-02-25 17:07:22,757] Trial 2 finished with value: 0.6458333333333333 and parameters: {'k': 11}. Best is trial 1 with value: 0.7291666666666666.\n",
      "[I 2025-02-25 17:07:22,761] Trial 3 finished with value: 0.5208333333333334 and parameters: {'k': 42}. Best is trial 1 with value: 0.7291666666666666.\n",
      "[I 2025-02-25 17:07:22,765] Trial 4 finished with value: 0.375 and parameters: {'k': 3}. Best is trial 1 with value: 0.7291666666666666.\n",
      "[I 2025-02-25 17:07:22,770] Trial 5 finished with value: 0.6875 and parameters: {'k': 28}. Best is trial 1 with value: 0.7291666666666666.\n",
      "[I 2025-02-25 17:07:22,775] Trial 6 finished with value: 0.6666666666666666 and parameters: {'k': 39}. Best is trial 1 with value: 0.7291666666666666.\n",
      "[I 2025-02-25 17:07:22,779] Trial 7 finished with value: 0.75 and parameters: {'k': 32}. Best is trial 7 with value: 0.75.\n",
      "[I 2025-02-25 17:07:22,784] Trial 8 finished with value: 0.6666666666666666 and parameters: {'k': 23}. Best is trial 7 with value: 0.75.\n",
      "[I 2025-02-25 17:07:22,789] Trial 9 finished with value: 0.8541666666666667 and parameters: {'k': 5}. Best is trial 9 with value: 0.8541666666666667.\n",
      "[I 2025-02-25 17:07:22,795] Trial 10 finished with value: 0.75 and parameters: {'k': 34}. Best is trial 9 with value: 0.8541666666666667.\n",
      "[I 2025-02-25 17:07:22,800] Trial 11 finished with value: 0.7291666666666666 and parameters: {'k': 36}. Best is trial 9 with value: 0.8541666666666667.\n",
      "[I 2025-02-25 17:07:22,805] Trial 12 finished with value: 0.7083333333333333 and parameters: {'k': 27}. Best is trial 9 with value: 0.8541666666666667.\n",
      "[I 2025-02-25 17:07:22,811] Trial 13 finished with value: 0.7291666666666666 and parameters: {'k': 35}. Best is trial 9 with value: 0.8541666666666667.\n",
      "[I 2025-02-25 17:07:22,817] Trial 14 finished with value: 0.6041666666666667 and parameters: {'k': 19}. Best is trial 9 with value: 0.8541666666666667.\n",
      "[I 2025-02-25 17:07:22,827] Trial 15 finished with value: 0.75 and parameters: {'k': 8}. Best is trial 9 with value: 0.8541666666666667.\n",
      "[I 2025-02-25 17:07:22,833] Trial 16 finished with value: 0.7083333333333333 and parameters: {'k': 15}. Best is trial 9 with value: 0.8541666666666667.\n",
      "[I 2025-02-25 17:07:22,839] Trial 17 finished with value: 0.6041666666666666 and parameters: {'k': 46}. Best is trial 9 with value: 0.8541666666666667.\n",
      "[I 2025-02-25 17:07:22,846] Trial 18 finished with value: 0.5625 and parameters: {'k': 49}. Best is trial 9 with value: 0.8541666666666667.\n",
      "[I 2025-02-25 17:07:22,852] Trial 19 finished with value: 0.6875 and parameters: {'k': 30}. Best is trial 9 with value: 0.8541666666666667.\n",
      "[I 2025-02-25 17:07:22,859] Trial 20 finished with value: 0.7083333333333333 and parameters: {'k': 16}. Best is trial 9 with value: 0.8541666666666667.\n",
      "[I 2025-02-25 17:07:22,865] Trial 21 finished with value: 0.8125 and parameters: {'k': 31}. Best is trial 9 with value: 0.8541666666666667.\n",
      "[I 2025-02-25 17:07:22,872] Trial 22 finished with value: 0.75 and parameters: {'k': 33}. Best is trial 9 with value: 0.8541666666666667.\n",
      "[I 2025-02-25 17:07:22,879] Trial 23 finished with value: 0.6666666666666666 and parameters: {'k': 17}. Best is trial 9 with value: 0.8541666666666667.\n",
      "[I 2025-02-25 17:07:22,886] Trial 24 finished with value: 0.47916666666666663 and parameters: {'k': 43}. Best is trial 9 with value: 0.8541666666666667.\n",
      "[I 2025-02-25 17:07:22,894] Trial 25 finished with value: 0.6041666666666666 and parameters: {'k': 21}. Best is trial 9 with value: 0.8541666666666667.\n",
      "[I 2025-02-25 17:07:22,901] Trial 26 finished with value: 0.5625 and parameters: {'k': 44}. Best is trial 9 with value: 0.8541666666666667.\n",
      "[I 2025-02-25 17:07:22,908] Trial 27 finished with value: 0.75 and parameters: {'k': 9}. Best is trial 9 with value: 0.8541666666666667.\n",
      "[I 2025-02-25 17:07:22,916] Trial 28 finished with value: 0.7291666666666666 and parameters: {'k': 14}. Best is trial 9 with value: 0.8541666666666667.\n",
      "[I 2025-02-25 17:07:22,924] Trial 29 finished with value: 0.7083333333333333 and parameters: {'k': 26}. Best is trial 9 with value: 0.8541666666666667.\n",
      "[I 2025-02-25 17:07:22,931] Trial 30 finished with value: 0.875 and parameters: {'k': 6}. Best is trial 30 with value: 0.875.\n",
      "[I 2025-02-25 17:07:22,940] Trial 31 finished with value: 0.625 and parameters: {'k': 18}. Best is trial 30 with value: 0.875.\n",
      "[I 2025-02-25 17:07:22,948] Trial 32 finished with value: 0.5625 and parameters: {'k': 41}. Best is trial 30 with value: 0.875.\n",
      "[I 2025-02-25 17:07:22,957] Trial 33 finished with value: 0.5625 and parameters: {'k': 50}. Best is trial 30 with value: 0.875.\n",
      "[I 2025-02-25 17:07:22,966] Trial 34 finished with value: 0.4166666666666667 and parameters: {'k': 2}. Best is trial 30 with value: 0.875.\n",
      "[I 2025-02-25 17:07:22,974] Trial 35 finished with value: 0.7291666666666666 and parameters: {'k': 13}. Best is trial 30 with value: 0.875.\n",
      "[I 2025-02-25 17:07:22,983] Trial 36 finished with value: 0.6875 and parameters: {'k': 38}. Best is trial 30 with value: 0.875.\n",
      "[I 2025-02-25 17:07:22,992] Trial 37 finished with value: 0.7083333333333333 and parameters: {'k': 25}. Best is trial 30 with value: 0.875.\n",
      "[I 2025-02-25 17:07:23,001] Trial 38 finished with value: 0.7708333333333333 and parameters: {'k': 7}. Best is trial 30 with value: 0.875.\n",
      "[I 2025-02-25 17:07:23,011] Trial 39 finished with value: 0.7291666666666666 and parameters: {'k': 24}. Best is trial 30 with value: 0.875.\n",
      "[I 2025-02-25 17:07:23,020] Trial 40 finished with value: 0.7083333333333333 and parameters: {'k': 37}. Best is trial 30 with value: 0.875.\n",
      "[I 2025-02-25 17:07:23,030] Trial 41 finished with value: 0.7083333333333333 and parameters: {'k': 22}. Best is trial 30 with value: 0.875.\n",
      "[I 2025-02-25 17:07:23,039] Trial 42 finished with value: 0.4791666666666667 and parameters: {'k': 20}. Best is trial 30 with value: 0.875.\n",
      "[I 2025-02-25 17:07:23,049] Trial 43 finished with value: 0.7291666666666667 and parameters: {'k': 10}. Best is trial 30 with value: 0.875.\n",
      "[I 2025-02-25 17:07:23,059] Trial 44 finished with value: 0.6041666666666666 and parameters: {'k': 40}. Best is trial 30 with value: 0.875.\n",
      "[I 2025-02-25 17:07:23,069] Trial 45 finished with value: 0.5625 and parameters: {'k': 47}. Best is trial 30 with value: 0.875.\n",
      "[I 2025-02-25 17:07:23,079] Trial 46 finished with value: 0.8333333333333333 and parameters: {'k': 4}. Best is trial 30 with value: 0.875.\n",
      "[I 2025-02-25 17:07:23,089] Trial 47 finished with value: 0.4583333333333333 and parameters: {'k': 1}. Best is trial 30 with value: 0.875.\n",
      "[I 2025-02-25 17:07:23,100] Trial 48 finished with value: 0.5625 and parameters: {'k': 48}. Best is trial 30 with value: 0.875.\n",
      "[I 2025-02-25 17:07:23,111] Trial 49 finished with value: 0.6041666666666666 and parameters: {'k': 45}. Best is trial 30 with value: 0.875.\n",
      "[I 2025-02-25 17:07:23,119] A new study created in memory with name: no-name-508a98a3-c8a3-4d7c-b660-7bfb150b7630\n",
      "[I 2025-02-25 17:07:23,123] Trial 0 finished with value: 0.9166666666666667 and parameters: {'k': 29}. Best is trial 0 with value: 0.9166666666666667.\n",
      "[I 2025-02-25 17:07:23,127] Trial 1 finished with value: 0.8958333333333334 and parameters: {'k': 12}. Best is trial 0 with value: 0.9166666666666667.\n",
      "[I 2025-02-25 17:07:23,131] Trial 2 finished with value: 0.9166666666666666 and parameters: {'k': 11}. Best is trial 0 with value: 0.9166666666666667.\n",
      "[I 2025-02-25 17:07:23,135] Trial 3 finished with value: 0.7916666666666666 and parameters: {'k': 42}. Best is trial 0 with value: 0.9166666666666667.\n",
      "[I 2025-02-25 17:07:23,140] Trial 4 finished with value: 0.4583333333333333 and parameters: {'k': 3}. Best is trial 0 with value: 0.9166666666666667.\n",
      "[I 2025-02-25 17:07:23,144] Trial 5 finished with value: 0.9166666666666667 and parameters: {'k': 28}. Best is trial 0 with value: 0.9166666666666667.\n",
      "[I 2025-02-25 17:07:23,149] Trial 6 finished with value: 0.8333333333333333 and parameters: {'k': 39}. Best is trial 0 with value: 0.9166666666666667.\n",
      "[I 2025-02-25 17:07:23,154] Trial 7 finished with value: 0.9166666666666667 and parameters: {'k': 32}. Best is trial 0 with value: 0.9166666666666667.\n",
      "[I 2025-02-25 17:07:23,159] Trial 8 finished with value: 0.7916666666666667 and parameters: {'k': 23}. Best is trial 0 with value: 0.9166666666666667.\n",
      "[I 2025-02-25 17:07:23,164] Trial 9 finished with value: 0.25 and parameters: {'k': 5}. Best is trial 0 with value: 0.9166666666666667.\n",
      "[I 2025-02-25 17:07:23,169] Trial 10 finished with value: 0.9166666666666667 and parameters: {'k': 34}. Best is trial 0 with value: 0.9166666666666667.\n",
      "[I 2025-02-25 17:07:23,175] Trial 11 finished with value: 0.8333333333333333 and parameters: {'k': 36}. Best is trial 0 with value: 0.9166666666666667.\n",
      "[I 2025-02-25 17:07:23,181] Trial 12 finished with value: 0.875 and parameters: {'k': 27}. Best is trial 0 with value: 0.9166666666666667.\n",
      "[I 2025-02-25 17:07:23,187] Trial 13 finished with value: 0.875 and parameters: {'k': 35}. Best is trial 0 with value: 0.9166666666666667.\n",
      "[I 2025-02-25 17:07:23,193] Trial 14 finished with value: 0.7708333333333333 and parameters: {'k': 19}. Best is trial 0 with value: 0.9166666666666667.\n",
      "[I 2025-02-25 17:07:23,199] Trial 15 finished with value: 0.8541666666666666 and parameters: {'k': 8}. Best is trial 0 with value: 0.9166666666666667.\n",
      "[I 2025-02-25 17:07:23,205] Trial 16 finished with value: 0.8333333333333333 and parameters: {'k': 15}. Best is trial 0 with value: 0.9166666666666667.\n",
      "[I 2025-02-25 17:07:23,212] Trial 17 finished with value: 0.7916666666666667 and parameters: {'k': 46}. Best is trial 0 with value: 0.9166666666666667.\n",
      "[I 2025-02-25 17:07:23,218] Trial 18 finished with value: 0.8333333333333333 and parameters: {'k': 49}. Best is trial 0 with value: 0.9166666666666667.\n",
      "[I 2025-02-25 17:07:23,225] Trial 19 finished with value: 0.9166666666666667 and parameters: {'k': 30}. Best is trial 0 with value: 0.9166666666666667.\n",
      "[I 2025-02-25 17:07:23,232] Trial 20 finished with value: 0.8333333333333333 and parameters: {'k': 16}. Best is trial 0 with value: 0.9166666666666667.\n",
      "[I 2025-02-25 17:07:23,238] Trial 21 finished with value: 0.9166666666666667 and parameters: {'k': 31}. Best is trial 0 with value: 0.9166666666666667.\n",
      "[I 2025-02-25 17:07:23,245] Trial 22 finished with value: 0.9166666666666667 and parameters: {'k': 33}. Best is trial 0 with value: 0.9166666666666667.\n",
      "[I 2025-02-25 17:07:23,252] Trial 23 finished with value: 0.8333333333333334 and parameters: {'k': 17}. Best is trial 0 with value: 0.9166666666666667.\n",
      "[I 2025-02-25 17:07:23,260] Trial 24 finished with value: 0.875 and parameters: {'k': 43}. Best is trial 0 with value: 0.9166666666666667.\n",
      "[I 2025-02-25 17:07:23,267] Trial 25 finished with value: 0.8541666666666667 and parameters: {'k': 21}. Best is trial 0 with value: 0.9166666666666667.\n",
      "[I 2025-02-25 17:07:23,274] Trial 26 finished with value: 0.875 and parameters: {'k': 44}. Best is trial 0 with value: 0.9166666666666667.\n",
      "[I 2025-02-25 17:07:23,282] Trial 27 finished with value: 0.8333333333333334 and parameters: {'k': 9}. Best is trial 0 with value: 0.9166666666666667.\n",
      "[I 2025-02-25 17:07:23,289] Trial 28 finished with value: 0.875 and parameters: {'k': 14}. Best is trial 0 with value: 0.9166666666666667.\n",
      "[I 2025-02-25 17:07:23,297] Trial 29 finished with value: 0.8333333333333334 and parameters: {'k': 26}. Best is trial 0 with value: 0.9166666666666667.\n",
      "[I 2025-02-25 17:07:23,305] Trial 30 finished with value: 0.5 and parameters: {'k': 6}. Best is trial 0 with value: 0.9166666666666667.\n",
      "[I 2025-02-25 17:07:23,313] Trial 31 finished with value: 0.8125 and parameters: {'k': 18}. Best is trial 0 with value: 0.9166666666666667.\n",
      "[I 2025-02-25 17:07:23,321] Trial 32 finished with value: 0.7916666666666666 and parameters: {'k': 41}. Best is trial 0 with value: 0.9166666666666667.\n",
      "[I 2025-02-25 17:07:23,329] Trial 33 finished with value: 0.75 and parameters: {'k': 50}. Best is trial 0 with value: 0.9166666666666667.\n",
      "[I 2025-02-25 17:07:23,338] Trial 34 finished with value: 0.4583333333333333 and parameters: {'k': 2}. Best is trial 0 with value: 0.9166666666666667.\n",
      "[I 2025-02-25 17:07:23,346] Trial 35 finished with value: 0.8958333333333334 and parameters: {'k': 13}. Best is trial 0 with value: 0.9166666666666667.\n",
      "[I 2025-02-25 17:07:23,355] Trial 36 finished with value: 0.8333333333333333 and parameters: {'k': 38}. Best is trial 0 with value: 0.9166666666666667.\n",
      "[I 2025-02-25 17:07:23,364] Trial 37 finished with value: 0.8333333333333334 and parameters: {'k': 25}. Best is trial 0 with value: 0.9166666666666667.\n",
      "[I 2025-02-25 17:07:23,372] Trial 38 finished with value: 0.6041666666666666 and parameters: {'k': 7}. Best is trial 0 with value: 0.9166666666666667.\n",
      "[I 2025-02-25 17:07:23,382] Trial 39 finished with value: 0.8541666666666667 and parameters: {'k': 24}. Best is trial 0 with value: 0.9166666666666667.\n",
      "[I 2025-02-25 17:07:23,391] Trial 40 finished with value: 0.8333333333333333 and parameters: {'k': 37}. Best is trial 0 with value: 0.9166666666666667.\n",
      "[I 2025-02-25 17:07:23,400] Trial 41 finished with value: 0.7916666666666667 and parameters: {'k': 22}. Best is trial 0 with value: 0.9166666666666667.\n",
      "[I 2025-02-25 17:07:23,410] Trial 42 finished with value: 0.8541666666666667 and parameters: {'k': 20}. Best is trial 0 with value: 0.9166666666666667.\n",
      "[I 2025-02-25 17:07:23,419] Trial 43 finished with value: 0.8333333333333334 and parameters: {'k': 10}. Best is trial 0 with value: 0.9166666666666667.\n",
      "[I 2025-02-25 17:07:23,429] Trial 44 finished with value: 0.7916666666666666 and parameters: {'k': 40}. Best is trial 0 with value: 0.9166666666666667.\n",
      "[I 2025-02-25 17:07:23,439] Trial 45 finished with value: 0.7291666666666667 and parameters: {'k': 47}. Best is trial 0 with value: 0.9166666666666667.\n",
      "[I 2025-02-25 17:07:23,449] Trial 46 finished with value: 0.3333333333333333 and parameters: {'k': 4}. Best is trial 0 with value: 0.9166666666666667.\n",
      "[I 2025-02-25 17:07:23,459] Trial 47 finished with value: 0.5 and parameters: {'k': 1}. Best is trial 0 with value: 0.9166666666666667.\n",
      "[I 2025-02-25 17:07:23,469] Trial 48 finished with value: 0.7291666666666667 and parameters: {'k': 48}. Best is trial 0 with value: 0.9166666666666667.\n",
      "[I 2025-02-25 17:07:23,480] Trial 49 finished with value: 0.875 and parameters: {'k': 45}. Best is trial 0 with value: 0.9166666666666667.\n",
      "[I 2025-02-25 17:07:23,486] A new study created in memory with name: no-name-1c9ee38d-afe9-459d-b414-1a33632c287a\n",
      "[I 2025-02-25 17:07:23,490] Trial 0 finished with value: 1.0 and parameters: {'k': 29}. Best is trial 0 with value: 1.0.\n",
      "[I 2025-02-25 17:07:23,494] Trial 1 finished with value: 1.0 and parameters: {'k': 12}. Best is trial 0 with value: 1.0.\n",
      "[I 2025-02-25 17:07:23,498] Trial 2 finished with value: 1.0 and parameters: {'k': 11}. Best is trial 0 with value: 1.0.\n",
      "[I 2025-02-25 17:07:23,503] Trial 3 finished with value: 0.9583333333333334 and parameters: {'k': 42}. Best is trial 0 with value: 1.0.\n",
      "[I 2025-02-25 17:07:23,507] Trial 4 finished with value: 0.5 and parameters: {'k': 3}. Best is trial 0 with value: 1.0.\n",
      "[I 2025-02-25 17:07:23,511] Trial 5 finished with value: 1.0 and parameters: {'k': 28}. Best is trial 0 with value: 1.0.\n",
      "[I 2025-02-25 17:07:23,516] Trial 6 finished with value: 1.0 and parameters: {'k': 39}. Best is trial 0 with value: 1.0.\n",
      "[I 2025-02-25 17:07:23,521] Trial 7 finished with value: 1.0 and parameters: {'k': 32}. Best is trial 0 with value: 1.0.\n",
      "[I 2025-02-25 17:07:23,526] Trial 8 finished with value: 1.0 and parameters: {'k': 23}. Best is trial 0 with value: 1.0.\n",
      "[I 2025-02-25 17:07:23,531] Trial 9 finished with value: 0.9583333333333333 and parameters: {'k': 5}. Best is trial 0 with value: 1.0.\n",
      "[I 2025-02-25 17:07:23,536] Trial 10 finished with value: 1.0 and parameters: {'k': 34}. Best is trial 0 with value: 1.0.\n",
      "[I 2025-02-25 17:07:23,541] Trial 11 finished with value: 1.0 and parameters: {'k': 36}. Best is trial 0 with value: 1.0.\n",
      "[I 2025-02-25 17:07:23,547] Trial 12 finished with value: 1.0 and parameters: {'k': 27}. Best is trial 0 with value: 1.0.\n",
      "[I 2025-02-25 17:07:23,553] Trial 13 finished with value: 1.0 and parameters: {'k': 35}. Best is trial 0 with value: 1.0.\n",
      "[I 2025-02-25 17:07:23,558] Trial 14 finished with value: 0.9791666666666666 and parameters: {'k': 19}. Best is trial 0 with value: 1.0.\n",
      "[I 2025-02-25 17:07:23,564] Trial 15 finished with value: 1.0 and parameters: {'k': 8}. Best is trial 0 with value: 1.0.\n",
      "[I 2025-02-25 17:07:23,570] Trial 16 finished with value: 1.0 and parameters: {'k': 15}. Best is trial 0 with value: 1.0.\n",
      "[I 2025-02-25 17:07:23,576] Trial 17 finished with value: 0.7916666666666666 and parameters: {'k': 46}. Best is trial 0 with value: 1.0.\n",
      "[I 2025-02-25 17:07:23,583] Trial 18 finished with value: 0.7083333333333334 and parameters: {'k': 49}. Best is trial 0 with value: 1.0.\n",
      "[I 2025-02-25 17:07:23,589] Trial 19 finished with value: 1.0 and parameters: {'k': 30}. Best is trial 0 with value: 1.0.\n",
      "[I 2025-02-25 17:07:23,596] Trial 20 finished with value: 0.9791666666666666 and parameters: {'k': 16}. Best is trial 0 with value: 1.0.\n",
      "[I 2025-02-25 17:07:23,605] Trial 21 finished with value: 1.0 and parameters: {'k': 31}. Best is trial 0 with value: 1.0.\n",
      "[I 2025-02-25 17:07:23,612] Trial 22 finished with value: 1.0 and parameters: {'k': 33}. Best is trial 0 with value: 1.0.\n",
      "[I 2025-02-25 17:07:23,619] Trial 23 finished with value: 1.0 and parameters: {'k': 17}. Best is trial 0 with value: 1.0.\n",
      "[I 2025-02-25 17:07:23,627] Trial 24 finished with value: 0.875 and parameters: {'k': 43}. Best is trial 0 with value: 1.0.\n",
      "[I 2025-02-25 17:07:23,634] Trial 25 finished with value: 0.9791666666666666 and parameters: {'k': 21}. Best is trial 0 with value: 1.0.\n",
      "[I 2025-02-25 17:07:23,641] Trial 26 finished with value: 0.875 and parameters: {'k': 44}. Best is trial 0 with value: 1.0.\n",
      "[I 2025-02-25 17:07:23,649] Trial 27 finished with value: 1.0 and parameters: {'k': 9}. Best is trial 0 with value: 1.0.\n",
      "[I 2025-02-25 17:07:23,656] Trial 28 finished with value: 1.0 and parameters: {'k': 14}. Best is trial 0 with value: 1.0.\n",
      "[I 2025-02-25 17:07:23,664] Trial 29 finished with value: 1.0 and parameters: {'k': 26}. Best is trial 0 with value: 1.0.\n",
      "[I 2025-02-25 17:07:23,672] Trial 30 finished with value: 0.9166666666666667 and parameters: {'k': 6}. Best is trial 0 with value: 1.0.\n",
      "[I 2025-02-25 17:07:23,680] Trial 31 finished with value: 1.0 and parameters: {'k': 18}. Best is trial 0 with value: 1.0.\n",
      "[I 2025-02-25 17:07:23,688] Trial 32 finished with value: 0.9791666666666666 and parameters: {'k': 41}. Best is trial 0 with value: 1.0.\n",
      "[I 2025-02-25 17:07:23,697] Trial 33 finished with value: 0.7083333333333334 and parameters: {'k': 50}. Best is trial 0 with value: 1.0.\n",
      "[I 2025-02-25 17:07:23,705] Trial 34 finished with value: 0.5 and parameters: {'k': 2}. Best is trial 0 with value: 1.0.\n",
      "[I 2025-02-25 17:07:23,714] Trial 35 finished with value: 1.0 and parameters: {'k': 13}. Best is trial 0 with value: 1.0.\n",
      "[I 2025-02-25 17:07:23,722] Trial 36 finished with value: 1.0 and parameters: {'k': 38}. Best is trial 0 with value: 1.0.\n",
      "[I 2025-02-25 17:07:23,731] Trial 37 finished with value: 1.0 and parameters: {'k': 25}. Best is trial 0 with value: 1.0.\n",
      "[I 2025-02-25 17:07:23,740] Trial 38 finished with value: 0.9583333333333334 and parameters: {'k': 7}. Best is trial 0 with value: 1.0.\n",
      "[I 2025-02-25 17:07:23,750] Trial 39 finished with value: 1.0 and parameters: {'k': 24}. Best is trial 0 with value: 1.0.\n",
      "[I 2025-02-25 17:07:23,759] Trial 40 finished with value: 1.0 and parameters: {'k': 37}. Best is trial 0 with value: 1.0.\n",
      "[I 2025-02-25 17:07:23,769] Trial 41 finished with value: 0.9583333333333334 and parameters: {'k': 22}. Best is trial 0 with value: 1.0.\n",
      "[I 2025-02-25 17:07:23,778] Trial 42 finished with value: 0.9791666666666666 and parameters: {'k': 20}. Best is trial 0 with value: 1.0.\n",
      "[I 2025-02-25 17:07:23,788] Trial 43 finished with value: 1.0 and parameters: {'k': 10}. Best is trial 0 with value: 1.0.\n",
      "[I 2025-02-25 17:07:23,798] Trial 44 finished with value: 1.0 and parameters: {'k': 40}. Best is trial 0 with value: 1.0.\n",
      "[I 2025-02-25 17:07:23,808] Trial 45 finished with value: 0.75 and parameters: {'k': 47}. Best is trial 0 with value: 1.0.\n",
      "[I 2025-02-25 17:07:23,818] Trial 46 finished with value: 0.9583333333333333 and parameters: {'k': 4}. Best is trial 0 with value: 1.0.\n",
      "[I 2025-02-25 17:07:23,828] Trial 47 finished with value: 0.5 and parameters: {'k': 1}. Best is trial 0 with value: 1.0.\n",
      "[I 2025-02-25 17:07:23,838] Trial 48 finished with value: 0.7291666666666666 and parameters: {'k': 48}. Best is trial 0 with value: 1.0.\n",
      "[I 2025-02-25 17:07:23,848] Trial 49 finished with value: 0.875 and parameters: {'k': 45}. Best is trial 0 with value: 1.0.\n",
      "[I 2025-02-25 17:07:23,855] A new study created in memory with name: no-name-039190a8-40c8-4eee-92b3-58fe1e0f8a2d\n",
      "[I 2025-02-25 17:07:23,859] Trial 0 finished with value: 0.4375 and parameters: {'k': 29}. Best is trial 0 with value: 0.4375.\n",
      "[I 2025-02-25 17:07:23,863] Trial 1 finished with value: 0.875 and parameters: {'k': 12}. Best is trial 1 with value: 0.875.\n",
      "[I 2025-02-25 17:07:23,867] Trial 2 finished with value: 0.7916666666666666 and parameters: {'k': 11}. Best is trial 1 with value: 0.875.\n",
      "[I 2025-02-25 17:07:23,871] Trial 3 finished with value: 0.7083333333333333 and parameters: {'k': 42}. Best is trial 1 with value: 0.875.\n",
      "[I 2025-02-25 17:07:23,876] Trial 4 finished with value: 0.5833333333333333 and parameters: {'k': 3}. Best is trial 1 with value: 0.875.\n",
      "[I 2025-02-25 17:07:23,880] Trial 5 finished with value: 0.47916666666666663 and parameters: {'k': 28}. Best is trial 1 with value: 0.875.\n",
      "[I 2025-02-25 17:07:23,885] Trial 6 finished with value: 0.8541666666666666 and parameters: {'k': 39}. Best is trial 1 with value: 0.875.\n",
      "[I 2025-02-25 17:07:23,890] Trial 7 finished with value: 0.6666666666666667 and parameters: {'k': 32}. Best is trial 1 with value: 0.875.\n",
      "[I 2025-02-25 17:07:23,895] Trial 8 finished with value: 0.7083333333333333 and parameters: {'k': 23}. Best is trial 1 with value: 0.875.\n",
      "[I 2025-02-25 17:07:23,900] Trial 9 finished with value: 0.5416666666666666 and parameters: {'k': 5}. Best is trial 1 with value: 0.875.\n",
      "[I 2025-02-25 17:07:23,905] Trial 10 finished with value: 0.75 and parameters: {'k': 34}. Best is trial 1 with value: 0.875.\n",
      "[I 2025-02-25 17:07:23,910] Trial 11 finished with value: 0.7916666666666666 and parameters: {'k': 36}. Best is trial 1 with value: 0.875.\n",
      "[I 2025-02-25 17:07:23,916] Trial 12 finished with value: 0.5208333333333334 and parameters: {'k': 27}. Best is trial 1 with value: 0.875.\n",
      "[I 2025-02-25 17:07:23,922] Trial 13 finished with value: 0.8333333333333333 and parameters: {'k': 35}. Best is trial 1 with value: 0.875.\n",
      "[I 2025-02-25 17:07:23,927] Trial 14 finished with value: 0.7708333333333334 and parameters: {'k': 19}. Best is trial 1 with value: 0.875.\n",
      "[I 2025-02-25 17:07:23,933] Trial 15 finished with value: 0.8958333333333333 and parameters: {'k': 8}. Best is trial 15 with value: 0.8958333333333333.\n",
      "[I 2025-02-25 17:07:23,939] Trial 16 finished with value: 0.8333333333333333 and parameters: {'k': 15}. Best is trial 15 with value: 0.8958333333333333.\n",
      "[I 2025-02-25 17:07:23,945] Trial 17 finished with value: 0.6041666666666667 and parameters: {'k': 46}. Best is trial 15 with value: 0.8958333333333333.\n",
      "[I 2025-02-25 17:07:23,952] Trial 18 finished with value: 0.5833333333333334 and parameters: {'k': 49}. Best is trial 15 with value: 0.8958333333333333.\n",
      "[I 2025-02-25 17:07:23,958] Trial 19 finished with value: 0.5416666666666667 and parameters: {'k': 30}. Best is trial 15 with value: 0.8958333333333333.\n",
      "[I 2025-02-25 17:07:23,965] Trial 20 finished with value: 0.8333333333333333 and parameters: {'k': 16}. Best is trial 15 with value: 0.8958333333333333.\n",
      "[I 2025-02-25 17:07:23,971] Trial 21 finished with value: 0.7083333333333334 and parameters: {'k': 31}. Best is trial 15 with value: 0.8958333333333333.\n",
      "[I 2025-02-25 17:07:23,978] Trial 22 finished with value: 0.6666666666666667 and parameters: {'k': 33}. Best is trial 15 with value: 0.8958333333333333.\n",
      "[I 2025-02-25 17:07:23,985] Trial 23 finished with value: 0.9166666666666666 and parameters: {'k': 17}. Best is trial 23 with value: 0.9166666666666666.\n",
      "[I 2025-02-25 17:07:23,992] Trial 24 finished with value: 0.7083333333333333 and parameters: {'k': 43}. Best is trial 23 with value: 0.9166666666666666.\n",
      "[I 2025-02-25 17:07:24,000] Trial 25 finished with value: 0.7083333333333333 and parameters: {'k': 21}. Best is trial 23 with value: 0.9166666666666666.\n",
      "[I 2025-02-25 17:07:24,007] Trial 26 finished with value: 0.6666666666666667 and parameters: {'k': 44}. Best is trial 23 with value: 0.9166666666666666.\n",
      "[I 2025-02-25 17:07:24,014] Trial 27 finished with value: 0.8541666666666667 and parameters: {'k': 9}. Best is trial 23 with value: 0.9166666666666666.\n",
      "[I 2025-02-25 17:07:24,022] Trial 28 finished with value: 0.8333333333333333 and parameters: {'k': 14}. Best is trial 23 with value: 0.9166666666666666.\n",
      "[I 2025-02-25 17:07:24,030] Trial 29 finished with value: 0.5833333333333334 and parameters: {'k': 26}. Best is trial 23 with value: 0.9166666666666666.\n",
      "[I 2025-02-25 17:07:24,038] Trial 30 finished with value: 0.8125 and parameters: {'k': 6}. Best is trial 23 with value: 0.9166666666666666.\n",
      "[I 2025-02-25 17:07:24,047] Trial 31 finished with value: 0.9166666666666666 and parameters: {'k': 18}. Best is trial 23 with value: 0.9166666666666666.\n",
      "[I 2025-02-25 17:07:24,055] Trial 32 finished with value: 0.75 and parameters: {'k': 41}. Best is trial 23 with value: 0.9166666666666666.\n",
      "[I 2025-02-25 17:07:24,063] Trial 33 finished with value: 0.5833333333333334 and parameters: {'k': 50}. Best is trial 23 with value: 0.9166666666666666.\n",
      "[I 2025-02-25 17:07:24,072] Trial 34 finished with value: 0.5833333333333333 and parameters: {'k': 2}. Best is trial 23 with value: 0.9166666666666666.\n",
      "[I 2025-02-25 17:07:24,081] Trial 35 finished with value: 0.8333333333333333 and parameters: {'k': 13}. Best is trial 23 with value: 0.9166666666666666.\n",
      "[I 2025-02-25 17:07:24,090] Trial 36 finished with value: 0.75 and parameters: {'k': 38}. Best is trial 23 with value: 0.9166666666666666.\n",
      "[I 2025-02-25 17:07:24,099] Trial 37 finished with value: 0.625 and parameters: {'k': 25}. Best is trial 23 with value: 0.9166666666666666.\n",
      "[I 2025-02-25 17:07:24,108] Trial 38 finished with value: 0.75 and parameters: {'k': 7}. Best is trial 23 with value: 0.9166666666666666.\n",
      "[I 2025-02-25 17:07:24,117] Trial 39 finished with value: 0.6875 and parameters: {'k': 24}. Best is trial 23 with value: 0.9166666666666666.\n",
      "[I 2025-02-25 17:07:24,127] Trial 40 finished with value: 0.7916666666666666 and parameters: {'k': 37}. Best is trial 23 with value: 0.9166666666666666.\n",
      "[I 2025-02-25 17:07:24,136] Trial 41 finished with value: 0.6458333333333333 and parameters: {'k': 22}. Best is trial 23 with value: 0.9166666666666666.\n",
      "[I 2025-02-25 17:07:24,146] Trial 42 finished with value: 0.7291666666666666 and parameters: {'k': 20}. Best is trial 23 with value: 0.9166666666666666.\n",
      "[I 2025-02-25 17:07:24,156] Trial 43 finished with value: 0.8541666666666667 and parameters: {'k': 10}. Best is trial 23 with value: 0.9166666666666666.\n",
      "[I 2025-02-25 17:07:24,166] Trial 44 finished with value: 0.8125 and parameters: {'k': 40}. Best is trial 23 with value: 0.9166666666666666.\n",
      "[I 2025-02-25 17:07:24,176] Trial 45 finished with value: 0.5625 and parameters: {'k': 47}. Best is trial 23 with value: 0.9166666666666666.\n",
      "[I 2025-02-25 17:07:24,187] Trial 46 finished with value: 0.5625 and parameters: {'k': 4}. Best is trial 23 with value: 0.9166666666666666.\n",
      "[I 2025-02-25 17:07:24,198] Trial 47 finished with value: 0.7083333333333333 and parameters: {'k': 1}. Best is trial 23 with value: 0.9166666666666666.\n",
      "[I 2025-02-25 17:07:24,208] Trial 48 finished with value: 0.7083333333333333 and parameters: {'k': 48}. Best is trial 23 with value: 0.9166666666666666.\n",
      "[I 2025-02-25 17:07:24,220] Trial 49 finished with value: 0.6041666666666667 and parameters: {'k': 45}. Best is trial 23 with value: 0.9166666666666666.\n"
     ]
    }
   ],
   "source": [
    "# Iterate through each model's features\n",
    "for model_name, values in data.items(): # Loop through each model and its corresponding features\n",
    "    # Skip MedImageInsightExtractor\n",
    "    if model_name == \"MedImageInsightExtractor\": # Skip the MedImageInsightExtractor model\n",
    "        continue\n",
    "    \n",
    "    print(f\"Model: {model_name}\") # Print the model name\n",
    "    \n",
    "    # Extract labels and features, filtering out nans\n",
    "    all_labels = [v[\"row\"][\"survival\"] for v in values[\"train\"] if not np.isnan(v[\"row\"][\"survival\"])]\n",
    "    # Stack features for non-nan labels\n",
    "    all_items = np.vstack([v[\"feature\"] for v in values[\"train\"] if not np.isnan(v[\"row\"][\"survival\"])])\n",
    "\n",
    "    print(len(all_items))\n",
    "    # Average across multiple shuffle splits\n",
    "    n_splits = 5\n",
    "    split_scores = []\n",
    "    \n",
    "    for split in range(n_splits):\n",
    "        # Get stratified indices for new train/val split with different random seeds\n",
    "        train_items, train_labels, val_items, val_labels, test_items, test_labels = split_shuffle_data(\n",
    "            all_items, all_labels, train_ratio=0.5, val_ratio=0.1, random_seed=10+split, stratify=True\n",
    "        )\n",
    "\n",
    "        # Train model with hyperparameter optimization\n",
    "        best_model, study = train_knn_classifier(train_items, train_labels, val_items, val_labels)\n",
    "        \n",
    "        # Get score for this split\n",
    "        split_score = evaluate_model(best_model, test_items, test_labels)\n",
    "        split_scores.append(split_score)\n",
    "    \n",
    "    # Average the scores across splits\n",
    "    avg_score = np.mean(split_scores)\n",
    "    \n",
    "    # Evaluate on test set\n",
    "    test_accuracies_dict[model_name] = avg_score"
   ]
  },
  {
   "cell_type": "code",
   "execution_count": 11,
   "metadata": {},
   "outputs": [
    {
     "data": {
      "application/vnd.plotly.v1+json": {
       "config": {
        "plotlyServerURL": "https://plot.ly"
       },
       "data": [
        {
         "alignmentgroup": "True",
         "hovertemplate": "Model=%{x}<br>Accuracy=%{y}<extra></extra>",
         "legendgroup": "",
         "marker": {
          "color": "#ADD8E6",
          "opacity": 0.8,
          "pattern": {
           "shape": ""
          }
         },
         "name": "",
         "offsetgroup": "",
         "orientation": "v",
         "showlegend": false,
         "textposition": "auto",
         "texttemplate": "%{y:.2f}",
         "type": "bar",
         "x": [
          "FMCIBExtractor",
          "CTFMExtractor",
          "PyramidExtractorVar",
          "PyramidExtractorNoVar",
          "VISTA3DExtractor",
          "VocoExtractor",
          "SUPREMExtractor",
          "MerlinExtractor",
          "ModelsGenExtractor"
         ],
         "xaxis": "x",
         "y": [
          0.6690972222222223,
          0.5017361111111112,
          0.5677083333333334,
          0.5347222222222222,
          0.6541666666666667,
          0.51875,
          0.7315972222222223,
          0.6517361111111111,
          0.6704861111111111
         ],
         "yaxis": "y"
        }
       ],
       "layout": {
        "barmode": "relative",
        "font": {
         "family": "Arial",
         "size": 12
        },
        "height": 400,
        "legend": {
         "tracegroupgap": 0
        },
        "margin": {
         "b": 20,
         "l": 20,
         "r": 20,
         "t": 40
        },
        "showlegend": false,
        "template": {
         "data": {
          "bar": [
           {
            "error_x": {
             "color": "rgb(36,36,36)"
            },
            "error_y": {
             "color": "rgb(36,36,36)"
            },
            "marker": {
             "line": {
              "color": "white",
              "width": 0.5
             },
             "pattern": {
              "fillmode": "overlay",
              "size": 10,
              "solidity": 0.2
             }
            },
            "type": "bar"
           }
          ],
          "barpolar": [
           {
            "marker": {
             "line": {
              "color": "white",
              "width": 0.5
             },
             "pattern": {
              "fillmode": "overlay",
              "size": 10,
              "solidity": 0.2
             }
            },
            "type": "barpolar"
           }
          ],
          "carpet": [
           {
            "aaxis": {
             "endlinecolor": "rgb(36,36,36)",
             "gridcolor": "white",
             "linecolor": "white",
             "minorgridcolor": "white",
             "startlinecolor": "rgb(36,36,36)"
            },
            "baxis": {
             "endlinecolor": "rgb(36,36,36)",
             "gridcolor": "white",
             "linecolor": "white",
             "minorgridcolor": "white",
             "startlinecolor": "rgb(36,36,36)"
            },
            "type": "carpet"
           }
          ],
          "choropleth": [
           {
            "colorbar": {
             "outlinewidth": 1,
             "tickcolor": "rgb(36,36,36)",
             "ticks": "outside"
            },
            "type": "choropleth"
           }
          ],
          "contour": [
           {
            "colorbar": {
             "outlinewidth": 1,
             "tickcolor": "rgb(36,36,36)",
             "ticks": "outside"
            },
            "colorscale": [
             [
              0,
              "#440154"
             ],
             [
              0.1111111111111111,
              "#482878"
             ],
             [
              0.2222222222222222,
              "#3e4989"
             ],
             [
              0.3333333333333333,
              "#31688e"
             ],
             [
              0.4444444444444444,
              "#26828e"
             ],
             [
              0.5555555555555556,
              "#1f9e89"
             ],
             [
              0.6666666666666666,
              "#35b779"
             ],
             [
              0.7777777777777778,
              "#6ece58"
             ],
             [
              0.8888888888888888,
              "#b5de2b"
             ],
             [
              1,
              "#fde725"
             ]
            ],
            "type": "contour"
           }
          ],
          "contourcarpet": [
           {
            "colorbar": {
             "outlinewidth": 1,
             "tickcolor": "rgb(36,36,36)",
             "ticks": "outside"
            },
            "type": "contourcarpet"
           }
          ],
          "heatmap": [
           {
            "colorbar": {
             "outlinewidth": 1,
             "tickcolor": "rgb(36,36,36)",
             "ticks": "outside"
            },
            "colorscale": [
             [
              0,
              "#440154"
             ],
             [
              0.1111111111111111,
              "#482878"
             ],
             [
              0.2222222222222222,
              "#3e4989"
             ],
             [
              0.3333333333333333,
              "#31688e"
             ],
             [
              0.4444444444444444,
              "#26828e"
             ],
             [
              0.5555555555555556,
              "#1f9e89"
             ],
             [
              0.6666666666666666,
              "#35b779"
             ],
             [
              0.7777777777777778,
              "#6ece58"
             ],
             [
              0.8888888888888888,
              "#b5de2b"
             ],
             [
              1,
              "#fde725"
             ]
            ],
            "type": "heatmap"
           }
          ],
          "heatmapgl": [
           {
            "colorbar": {
             "outlinewidth": 1,
             "tickcolor": "rgb(36,36,36)",
             "ticks": "outside"
            },
            "colorscale": [
             [
              0,
              "#440154"
             ],
             [
              0.1111111111111111,
              "#482878"
             ],
             [
              0.2222222222222222,
              "#3e4989"
             ],
             [
              0.3333333333333333,
              "#31688e"
             ],
             [
              0.4444444444444444,
              "#26828e"
             ],
             [
              0.5555555555555556,
              "#1f9e89"
             ],
             [
              0.6666666666666666,
              "#35b779"
             ],
             [
              0.7777777777777778,
              "#6ece58"
             ],
             [
              0.8888888888888888,
              "#b5de2b"
             ],
             [
              1,
              "#fde725"
             ]
            ],
            "type": "heatmapgl"
           }
          ],
          "histogram": [
           {
            "marker": {
             "line": {
              "color": "white",
              "width": 0.6
             }
            },
            "type": "histogram"
           }
          ],
          "histogram2d": [
           {
            "colorbar": {
             "outlinewidth": 1,
             "tickcolor": "rgb(36,36,36)",
             "ticks": "outside"
            },
            "colorscale": [
             [
              0,
              "#440154"
             ],
             [
              0.1111111111111111,
              "#482878"
             ],
             [
              0.2222222222222222,
              "#3e4989"
             ],
             [
              0.3333333333333333,
              "#31688e"
             ],
             [
              0.4444444444444444,
              "#26828e"
             ],
             [
              0.5555555555555556,
              "#1f9e89"
             ],
             [
              0.6666666666666666,
              "#35b779"
             ],
             [
              0.7777777777777778,
              "#6ece58"
             ],
             [
              0.8888888888888888,
              "#b5de2b"
             ],
             [
              1,
              "#fde725"
             ]
            ],
            "type": "histogram2d"
           }
          ],
          "histogram2dcontour": [
           {
            "colorbar": {
             "outlinewidth": 1,
             "tickcolor": "rgb(36,36,36)",
             "ticks": "outside"
            },
            "colorscale": [
             [
              0,
              "#440154"
             ],
             [
              0.1111111111111111,
              "#482878"
             ],
             [
              0.2222222222222222,
              "#3e4989"
             ],
             [
              0.3333333333333333,
              "#31688e"
             ],
             [
              0.4444444444444444,
              "#26828e"
             ],
             [
              0.5555555555555556,
              "#1f9e89"
             ],
             [
              0.6666666666666666,
              "#35b779"
             ],
             [
              0.7777777777777778,
              "#6ece58"
             ],
             [
              0.8888888888888888,
              "#b5de2b"
             ],
             [
              1,
              "#fde725"
             ]
            ],
            "type": "histogram2dcontour"
           }
          ],
          "mesh3d": [
           {
            "colorbar": {
             "outlinewidth": 1,
             "tickcolor": "rgb(36,36,36)",
             "ticks": "outside"
            },
            "type": "mesh3d"
           }
          ],
          "parcoords": [
           {
            "line": {
             "colorbar": {
              "outlinewidth": 1,
              "tickcolor": "rgb(36,36,36)",
              "ticks": "outside"
             }
            },
            "type": "parcoords"
           }
          ],
          "pie": [
           {
            "automargin": true,
            "type": "pie"
           }
          ],
          "scatter": [
           {
            "fillpattern": {
             "fillmode": "overlay",
             "size": 10,
             "solidity": 0.2
            },
            "type": "scatter"
           }
          ],
          "scatter3d": [
           {
            "line": {
             "colorbar": {
              "outlinewidth": 1,
              "tickcolor": "rgb(36,36,36)",
              "ticks": "outside"
             }
            },
            "marker": {
             "colorbar": {
              "outlinewidth": 1,
              "tickcolor": "rgb(36,36,36)",
              "ticks": "outside"
             }
            },
            "type": "scatter3d"
           }
          ],
          "scattercarpet": [
           {
            "marker": {
             "colorbar": {
              "outlinewidth": 1,
              "tickcolor": "rgb(36,36,36)",
              "ticks": "outside"
             }
            },
            "type": "scattercarpet"
           }
          ],
          "scattergeo": [
           {
            "marker": {
             "colorbar": {
              "outlinewidth": 1,
              "tickcolor": "rgb(36,36,36)",
              "ticks": "outside"
             }
            },
            "type": "scattergeo"
           }
          ],
          "scattergl": [
           {
            "marker": {
             "colorbar": {
              "outlinewidth": 1,
              "tickcolor": "rgb(36,36,36)",
              "ticks": "outside"
             }
            },
            "type": "scattergl"
           }
          ],
          "scattermapbox": [
           {
            "marker": {
             "colorbar": {
              "outlinewidth": 1,
              "tickcolor": "rgb(36,36,36)",
              "ticks": "outside"
             }
            },
            "type": "scattermapbox"
           }
          ],
          "scatterpolar": [
           {
            "marker": {
             "colorbar": {
              "outlinewidth": 1,
              "tickcolor": "rgb(36,36,36)",
              "ticks": "outside"
             }
            },
            "type": "scatterpolar"
           }
          ],
          "scatterpolargl": [
           {
            "marker": {
             "colorbar": {
              "outlinewidth": 1,
              "tickcolor": "rgb(36,36,36)",
              "ticks": "outside"
             }
            },
            "type": "scatterpolargl"
           }
          ],
          "scatterternary": [
           {
            "marker": {
             "colorbar": {
              "outlinewidth": 1,
              "tickcolor": "rgb(36,36,36)",
              "ticks": "outside"
             }
            },
            "type": "scatterternary"
           }
          ],
          "surface": [
           {
            "colorbar": {
             "outlinewidth": 1,
             "tickcolor": "rgb(36,36,36)",
             "ticks": "outside"
            },
            "colorscale": [
             [
              0,
              "#440154"
             ],
             [
              0.1111111111111111,
              "#482878"
             ],
             [
              0.2222222222222222,
              "#3e4989"
             ],
             [
              0.3333333333333333,
              "#31688e"
             ],
             [
              0.4444444444444444,
              "#26828e"
             ],
             [
              0.5555555555555556,
              "#1f9e89"
             ],
             [
              0.6666666666666666,
              "#35b779"
             ],
             [
              0.7777777777777778,
              "#6ece58"
             ],
             [
              0.8888888888888888,
              "#b5de2b"
             ],
             [
              1,
              "#fde725"
             ]
            ],
            "type": "surface"
           }
          ],
          "table": [
           {
            "cells": {
             "fill": {
              "color": "rgb(237,237,237)"
             },
             "line": {
              "color": "white"
             }
            },
            "header": {
             "fill": {
              "color": "rgb(217,217,217)"
             },
             "line": {
              "color": "white"
             }
            },
            "type": "table"
           }
          ]
         },
         "layout": {
          "annotationdefaults": {
           "arrowhead": 0,
           "arrowwidth": 1
          },
          "autotypenumbers": "strict",
          "coloraxis": {
           "colorbar": {
            "outlinewidth": 1,
            "tickcolor": "rgb(36,36,36)",
            "ticks": "outside"
           }
          },
          "colorscale": {
           "diverging": [
            [
             0,
             "rgb(103,0,31)"
            ],
            [
             0.1,
             "rgb(178,24,43)"
            ],
            [
             0.2,
             "rgb(214,96,77)"
            ],
            [
             0.3,
             "rgb(244,165,130)"
            ],
            [
             0.4,
             "rgb(253,219,199)"
            ],
            [
             0.5,
             "rgb(247,247,247)"
            ],
            [
             0.6,
             "rgb(209,229,240)"
            ],
            [
             0.7,
             "rgb(146,197,222)"
            ],
            [
             0.8,
             "rgb(67,147,195)"
            ],
            [
             0.9,
             "rgb(33,102,172)"
            ],
            [
             1,
             "rgb(5,48,97)"
            ]
           ],
           "sequential": [
            [
             0,
             "#440154"
            ],
            [
             0.1111111111111111,
             "#482878"
            ],
            [
             0.2222222222222222,
             "#3e4989"
            ],
            [
             0.3333333333333333,
             "#31688e"
            ],
            [
             0.4444444444444444,
             "#26828e"
            ],
            [
             0.5555555555555556,
             "#1f9e89"
            ],
            [
             0.6666666666666666,
             "#35b779"
            ],
            [
             0.7777777777777778,
             "#6ece58"
            ],
            [
             0.8888888888888888,
             "#b5de2b"
            ],
            [
             1,
             "#fde725"
            ]
           ],
           "sequentialminus": [
            [
             0,
             "#440154"
            ],
            [
             0.1111111111111111,
             "#482878"
            ],
            [
             0.2222222222222222,
             "#3e4989"
            ],
            [
             0.3333333333333333,
             "#31688e"
            ],
            [
             0.4444444444444444,
             "#26828e"
            ],
            [
             0.5555555555555556,
             "#1f9e89"
            ],
            [
             0.6666666666666666,
             "#35b779"
            ],
            [
             0.7777777777777778,
             "#6ece58"
            ],
            [
             0.8888888888888888,
             "#b5de2b"
            ],
            [
             1,
             "#fde725"
            ]
           ]
          },
          "colorway": [
           "#1F77B4",
           "#FF7F0E",
           "#2CA02C",
           "#D62728",
           "#9467BD",
           "#8C564B",
           "#E377C2",
           "#7F7F7F",
           "#BCBD22",
           "#17BECF"
          ],
          "font": {
           "color": "rgb(36,36,36)"
          },
          "geo": {
           "bgcolor": "white",
           "lakecolor": "white",
           "landcolor": "white",
           "showlakes": true,
           "showland": true,
           "subunitcolor": "white"
          },
          "hoverlabel": {
           "align": "left"
          },
          "hovermode": "closest",
          "mapbox": {
           "style": "light"
          },
          "paper_bgcolor": "white",
          "plot_bgcolor": "white",
          "polar": {
           "angularaxis": {
            "gridcolor": "rgb(232,232,232)",
            "linecolor": "rgb(36,36,36)",
            "showgrid": false,
            "showline": true,
            "ticks": "outside"
           },
           "bgcolor": "white",
           "radialaxis": {
            "gridcolor": "rgb(232,232,232)",
            "linecolor": "rgb(36,36,36)",
            "showgrid": false,
            "showline": true,
            "ticks": "outside"
           }
          },
          "scene": {
           "xaxis": {
            "backgroundcolor": "white",
            "gridcolor": "rgb(232,232,232)",
            "gridwidth": 2,
            "linecolor": "rgb(36,36,36)",
            "showbackground": true,
            "showgrid": false,
            "showline": true,
            "ticks": "outside",
            "zeroline": false,
            "zerolinecolor": "rgb(36,36,36)"
           },
           "yaxis": {
            "backgroundcolor": "white",
            "gridcolor": "rgb(232,232,232)",
            "gridwidth": 2,
            "linecolor": "rgb(36,36,36)",
            "showbackground": true,
            "showgrid": false,
            "showline": true,
            "ticks": "outside",
            "zeroline": false,
            "zerolinecolor": "rgb(36,36,36)"
           },
           "zaxis": {
            "backgroundcolor": "white",
            "gridcolor": "rgb(232,232,232)",
            "gridwidth": 2,
            "linecolor": "rgb(36,36,36)",
            "showbackground": true,
            "showgrid": false,
            "showline": true,
            "ticks": "outside",
            "zeroline": false,
            "zerolinecolor": "rgb(36,36,36)"
           }
          },
          "shapedefaults": {
           "fillcolor": "black",
           "line": {
            "width": 0
           },
           "opacity": 0.3
          },
          "ternary": {
           "aaxis": {
            "gridcolor": "rgb(232,232,232)",
            "linecolor": "rgb(36,36,36)",
            "showgrid": false,
            "showline": true,
            "ticks": "outside"
           },
           "baxis": {
            "gridcolor": "rgb(232,232,232)",
            "linecolor": "rgb(36,36,36)",
            "showgrid": false,
            "showline": true,
            "ticks": "outside"
           },
           "bgcolor": "white",
           "caxis": {
            "gridcolor": "rgb(232,232,232)",
            "linecolor": "rgb(36,36,36)",
            "showgrid": false,
            "showline": true,
            "ticks": "outside"
           }
          },
          "title": {
           "x": 0.05
          },
          "xaxis": {
           "automargin": true,
           "gridcolor": "rgb(232,232,232)",
           "linecolor": "rgb(36,36,36)",
           "showgrid": false,
           "showline": true,
           "ticks": "outside",
           "title": {
            "standoff": 15
           },
           "zeroline": false,
           "zerolinecolor": "rgb(36,36,36)"
          },
          "yaxis": {
           "automargin": true,
           "gridcolor": "rgb(232,232,232)",
           "linecolor": "rgb(36,36,36)",
           "showgrid": false,
           "showline": true,
           "ticks": "outside",
           "title": {
            "standoff": 15
           },
           "zeroline": false,
           "zerolinecolor": "rgb(36,36,36)"
          }
         }
        },
        "title": {
         "text": "Test AUC Comparison",
         "x": 0.5,
         "xanchor": "center"
        },
        "width": 500,
        "xaxis": {
         "anchor": "y",
         "domain": [
          0,
          1
         ],
         "showgrid": false,
         "showline": false,
         "tickfont": {
          "size": 12
         },
         "title": {
          "text": "Model"
         }
        },
        "yaxis": {
         "anchor": "x",
         "domain": [
          0,
          1
         ],
         "gridcolor": "lightgrey",
         "showgrid": true,
         "tickfont": {
          "size": 12
         },
         "title": {
          "text": "Accuracy"
         }
        }
       }
      },
      "text/html": [
       "<div>                            <div id=\"7d028ac3-8b35-4d3e-a707-4a8c2364f348\" class=\"plotly-graph-div\" style=\"height:400px; width:500px;\"></div>            <script type=\"text/javascript\">                require([\"plotly\"], function(Plotly) {                    window.PLOTLYENV=window.PLOTLYENV || {};                                    if (document.getElementById(\"7d028ac3-8b35-4d3e-a707-4a8c2364f348\")) {                    Plotly.newPlot(                        \"7d028ac3-8b35-4d3e-a707-4a8c2364f348\",                        [{\"alignmentgroup\":\"True\",\"hovertemplate\":\"Model=%{x}\\u003cbr\\u003eAccuracy=%{y}\\u003cextra\\u003e\\u003c\\u002fextra\\u003e\",\"legendgroup\":\"\",\"marker\":{\"color\":\"#ADD8E6\",\"pattern\":{\"shape\":\"\"},\"opacity\":0.8},\"name\":\"\",\"offsetgroup\":\"\",\"orientation\":\"v\",\"showlegend\":false,\"textposition\":\"auto\",\"x\":[\"FMCIBExtractor\",\"CTFMExtractor\",\"PyramidExtractorVar\",\"PyramidExtractorNoVar\",\"VISTA3DExtractor\",\"VocoExtractor\",\"SUPREMExtractor\",\"MerlinExtractor\",\"ModelsGenExtractor\"],\"xaxis\":\"x\",\"y\":[0.6690972222222223,0.5017361111111112,0.5677083333333334,0.5347222222222222,0.6541666666666667,0.51875,0.7315972222222223,0.6517361111111111,0.6704861111111111],\"yaxis\":\"y\",\"type\":\"bar\",\"texttemplate\":\"%{y:.2f}\"}],                        {\"template\":{\"data\":{\"barpolar\":[{\"marker\":{\"line\":{\"color\":\"white\",\"width\":0.5},\"pattern\":{\"fillmode\":\"overlay\",\"size\":10,\"solidity\":0.2}},\"type\":\"barpolar\"}],\"bar\":[{\"error_x\":{\"color\":\"rgb(36,36,36)\"},\"error_y\":{\"color\":\"rgb(36,36,36)\"},\"marker\":{\"line\":{\"color\":\"white\",\"width\":0.5},\"pattern\":{\"fillmode\":\"overlay\",\"size\":10,\"solidity\":0.2}},\"type\":\"bar\"}],\"carpet\":[{\"aaxis\":{\"endlinecolor\":\"rgb(36,36,36)\",\"gridcolor\":\"white\",\"linecolor\":\"white\",\"minorgridcolor\":\"white\",\"startlinecolor\":\"rgb(36,36,36)\"},\"baxis\":{\"endlinecolor\":\"rgb(36,36,36)\",\"gridcolor\":\"white\",\"linecolor\":\"white\",\"minorgridcolor\":\"white\",\"startlinecolor\":\"rgb(36,36,36)\"},\"type\":\"carpet\"}],\"choropleth\":[{\"colorbar\":{\"outlinewidth\":1,\"tickcolor\":\"rgb(36,36,36)\",\"ticks\":\"outside\"},\"type\":\"choropleth\"}],\"contourcarpet\":[{\"colorbar\":{\"outlinewidth\":1,\"tickcolor\":\"rgb(36,36,36)\",\"ticks\":\"outside\"},\"type\":\"contourcarpet\"}],\"contour\":[{\"colorbar\":{\"outlinewidth\":1,\"tickcolor\":\"rgb(36,36,36)\",\"ticks\":\"outside\"},\"colorscale\":[[0.0,\"#440154\"],[0.1111111111111111,\"#482878\"],[0.2222222222222222,\"#3e4989\"],[0.3333333333333333,\"#31688e\"],[0.4444444444444444,\"#26828e\"],[0.5555555555555556,\"#1f9e89\"],[0.6666666666666666,\"#35b779\"],[0.7777777777777778,\"#6ece58\"],[0.8888888888888888,\"#b5de2b\"],[1.0,\"#fde725\"]],\"type\":\"contour\"}],\"heatmapgl\":[{\"colorbar\":{\"outlinewidth\":1,\"tickcolor\":\"rgb(36,36,36)\",\"ticks\":\"outside\"},\"colorscale\":[[0.0,\"#440154\"],[0.1111111111111111,\"#482878\"],[0.2222222222222222,\"#3e4989\"],[0.3333333333333333,\"#31688e\"],[0.4444444444444444,\"#26828e\"],[0.5555555555555556,\"#1f9e89\"],[0.6666666666666666,\"#35b779\"],[0.7777777777777778,\"#6ece58\"],[0.8888888888888888,\"#b5de2b\"],[1.0,\"#fde725\"]],\"type\":\"heatmapgl\"}],\"heatmap\":[{\"colorbar\":{\"outlinewidth\":1,\"tickcolor\":\"rgb(36,36,36)\",\"ticks\":\"outside\"},\"colorscale\":[[0.0,\"#440154\"],[0.1111111111111111,\"#482878\"],[0.2222222222222222,\"#3e4989\"],[0.3333333333333333,\"#31688e\"],[0.4444444444444444,\"#26828e\"],[0.5555555555555556,\"#1f9e89\"],[0.6666666666666666,\"#35b779\"],[0.7777777777777778,\"#6ece58\"],[0.8888888888888888,\"#b5de2b\"],[1.0,\"#fde725\"]],\"type\":\"heatmap\"}],\"histogram2dcontour\":[{\"colorbar\":{\"outlinewidth\":1,\"tickcolor\":\"rgb(36,36,36)\",\"ticks\":\"outside\"},\"colorscale\":[[0.0,\"#440154\"],[0.1111111111111111,\"#482878\"],[0.2222222222222222,\"#3e4989\"],[0.3333333333333333,\"#31688e\"],[0.4444444444444444,\"#26828e\"],[0.5555555555555556,\"#1f9e89\"],[0.6666666666666666,\"#35b779\"],[0.7777777777777778,\"#6ece58\"],[0.8888888888888888,\"#b5de2b\"],[1.0,\"#fde725\"]],\"type\":\"histogram2dcontour\"}],\"histogram2d\":[{\"colorbar\":{\"outlinewidth\":1,\"tickcolor\":\"rgb(36,36,36)\",\"ticks\":\"outside\"},\"colorscale\":[[0.0,\"#440154\"],[0.1111111111111111,\"#482878\"],[0.2222222222222222,\"#3e4989\"],[0.3333333333333333,\"#31688e\"],[0.4444444444444444,\"#26828e\"],[0.5555555555555556,\"#1f9e89\"],[0.6666666666666666,\"#35b779\"],[0.7777777777777778,\"#6ece58\"],[0.8888888888888888,\"#b5de2b\"],[1.0,\"#fde725\"]],\"type\":\"histogram2d\"}],\"histogram\":[{\"marker\":{\"line\":{\"color\":\"white\",\"width\":0.6}},\"type\":\"histogram\"}],\"mesh3d\":[{\"colorbar\":{\"outlinewidth\":1,\"tickcolor\":\"rgb(36,36,36)\",\"ticks\":\"outside\"},\"type\":\"mesh3d\"}],\"parcoords\":[{\"line\":{\"colorbar\":{\"outlinewidth\":1,\"tickcolor\":\"rgb(36,36,36)\",\"ticks\":\"outside\"}},\"type\":\"parcoords\"}],\"pie\":[{\"automargin\":true,\"type\":\"pie\"}],\"scatter3d\":[{\"line\":{\"colorbar\":{\"outlinewidth\":1,\"tickcolor\":\"rgb(36,36,36)\",\"ticks\":\"outside\"}},\"marker\":{\"colorbar\":{\"outlinewidth\":1,\"tickcolor\":\"rgb(36,36,36)\",\"ticks\":\"outside\"}},\"type\":\"scatter3d\"}],\"scattercarpet\":[{\"marker\":{\"colorbar\":{\"outlinewidth\":1,\"tickcolor\":\"rgb(36,36,36)\",\"ticks\":\"outside\"}},\"type\":\"scattercarpet\"}],\"scattergeo\":[{\"marker\":{\"colorbar\":{\"outlinewidth\":1,\"tickcolor\":\"rgb(36,36,36)\",\"ticks\":\"outside\"}},\"type\":\"scattergeo\"}],\"scattergl\":[{\"marker\":{\"colorbar\":{\"outlinewidth\":1,\"tickcolor\":\"rgb(36,36,36)\",\"ticks\":\"outside\"}},\"type\":\"scattergl\"}],\"scattermapbox\":[{\"marker\":{\"colorbar\":{\"outlinewidth\":1,\"tickcolor\":\"rgb(36,36,36)\",\"ticks\":\"outside\"}},\"type\":\"scattermapbox\"}],\"scatterpolargl\":[{\"marker\":{\"colorbar\":{\"outlinewidth\":1,\"tickcolor\":\"rgb(36,36,36)\",\"ticks\":\"outside\"}},\"type\":\"scatterpolargl\"}],\"scatterpolar\":[{\"marker\":{\"colorbar\":{\"outlinewidth\":1,\"tickcolor\":\"rgb(36,36,36)\",\"ticks\":\"outside\"}},\"type\":\"scatterpolar\"}],\"scatter\":[{\"fillpattern\":{\"fillmode\":\"overlay\",\"size\":10,\"solidity\":0.2},\"type\":\"scatter\"}],\"scatterternary\":[{\"marker\":{\"colorbar\":{\"outlinewidth\":1,\"tickcolor\":\"rgb(36,36,36)\",\"ticks\":\"outside\"}},\"type\":\"scatterternary\"}],\"surface\":[{\"colorbar\":{\"outlinewidth\":1,\"tickcolor\":\"rgb(36,36,36)\",\"ticks\":\"outside\"},\"colorscale\":[[0.0,\"#440154\"],[0.1111111111111111,\"#482878\"],[0.2222222222222222,\"#3e4989\"],[0.3333333333333333,\"#31688e\"],[0.4444444444444444,\"#26828e\"],[0.5555555555555556,\"#1f9e89\"],[0.6666666666666666,\"#35b779\"],[0.7777777777777778,\"#6ece58\"],[0.8888888888888888,\"#b5de2b\"],[1.0,\"#fde725\"]],\"type\":\"surface\"}],\"table\":[{\"cells\":{\"fill\":{\"color\":\"rgb(237,237,237)\"},\"line\":{\"color\":\"white\"}},\"header\":{\"fill\":{\"color\":\"rgb(217,217,217)\"},\"line\":{\"color\":\"white\"}},\"type\":\"table\"}]},\"layout\":{\"annotationdefaults\":{\"arrowhead\":0,\"arrowwidth\":1},\"autotypenumbers\":\"strict\",\"coloraxis\":{\"colorbar\":{\"outlinewidth\":1,\"tickcolor\":\"rgb(36,36,36)\",\"ticks\":\"outside\"}},\"colorscale\":{\"diverging\":[[0.0,\"rgb(103,0,31)\"],[0.1,\"rgb(178,24,43)\"],[0.2,\"rgb(214,96,77)\"],[0.3,\"rgb(244,165,130)\"],[0.4,\"rgb(253,219,199)\"],[0.5,\"rgb(247,247,247)\"],[0.6,\"rgb(209,229,240)\"],[0.7,\"rgb(146,197,222)\"],[0.8,\"rgb(67,147,195)\"],[0.9,\"rgb(33,102,172)\"],[1.0,\"rgb(5,48,97)\"]],\"sequential\":[[0.0,\"#440154\"],[0.1111111111111111,\"#482878\"],[0.2222222222222222,\"#3e4989\"],[0.3333333333333333,\"#31688e\"],[0.4444444444444444,\"#26828e\"],[0.5555555555555556,\"#1f9e89\"],[0.6666666666666666,\"#35b779\"],[0.7777777777777778,\"#6ece58\"],[0.8888888888888888,\"#b5de2b\"],[1.0,\"#fde725\"]],\"sequentialminus\":[[0.0,\"#440154\"],[0.1111111111111111,\"#482878\"],[0.2222222222222222,\"#3e4989\"],[0.3333333333333333,\"#31688e\"],[0.4444444444444444,\"#26828e\"],[0.5555555555555556,\"#1f9e89\"],[0.6666666666666666,\"#35b779\"],[0.7777777777777778,\"#6ece58\"],[0.8888888888888888,\"#b5de2b\"],[1.0,\"#fde725\"]]},\"colorway\":[\"#1F77B4\",\"#FF7F0E\",\"#2CA02C\",\"#D62728\",\"#9467BD\",\"#8C564B\",\"#E377C2\",\"#7F7F7F\",\"#BCBD22\",\"#17BECF\"],\"font\":{\"color\":\"rgb(36,36,36)\"},\"geo\":{\"bgcolor\":\"white\",\"lakecolor\":\"white\",\"landcolor\":\"white\",\"showlakes\":true,\"showland\":true,\"subunitcolor\":\"white\"},\"hoverlabel\":{\"align\":\"left\"},\"hovermode\":\"closest\",\"mapbox\":{\"style\":\"light\"},\"paper_bgcolor\":\"white\",\"plot_bgcolor\":\"white\",\"polar\":{\"angularaxis\":{\"gridcolor\":\"rgb(232,232,232)\",\"linecolor\":\"rgb(36,36,36)\",\"showgrid\":false,\"showline\":true,\"ticks\":\"outside\"},\"bgcolor\":\"white\",\"radialaxis\":{\"gridcolor\":\"rgb(232,232,232)\",\"linecolor\":\"rgb(36,36,36)\",\"showgrid\":false,\"showline\":true,\"ticks\":\"outside\"}},\"scene\":{\"xaxis\":{\"backgroundcolor\":\"white\",\"gridcolor\":\"rgb(232,232,232)\",\"gridwidth\":2,\"linecolor\":\"rgb(36,36,36)\",\"showbackground\":true,\"showgrid\":false,\"showline\":true,\"ticks\":\"outside\",\"zeroline\":false,\"zerolinecolor\":\"rgb(36,36,36)\"},\"yaxis\":{\"backgroundcolor\":\"white\",\"gridcolor\":\"rgb(232,232,232)\",\"gridwidth\":2,\"linecolor\":\"rgb(36,36,36)\",\"showbackground\":true,\"showgrid\":false,\"showline\":true,\"ticks\":\"outside\",\"zeroline\":false,\"zerolinecolor\":\"rgb(36,36,36)\"},\"zaxis\":{\"backgroundcolor\":\"white\",\"gridcolor\":\"rgb(232,232,232)\",\"gridwidth\":2,\"linecolor\":\"rgb(36,36,36)\",\"showbackground\":true,\"showgrid\":false,\"showline\":true,\"ticks\":\"outside\",\"zeroline\":false,\"zerolinecolor\":\"rgb(36,36,36)\"}},\"shapedefaults\":{\"fillcolor\":\"black\",\"line\":{\"width\":0},\"opacity\":0.3},\"ternary\":{\"aaxis\":{\"gridcolor\":\"rgb(232,232,232)\",\"linecolor\":\"rgb(36,36,36)\",\"showgrid\":false,\"showline\":true,\"ticks\":\"outside\"},\"baxis\":{\"gridcolor\":\"rgb(232,232,232)\",\"linecolor\":\"rgb(36,36,36)\",\"showgrid\":false,\"showline\":true,\"ticks\":\"outside\"},\"bgcolor\":\"white\",\"caxis\":{\"gridcolor\":\"rgb(232,232,232)\",\"linecolor\":\"rgb(36,36,36)\",\"showgrid\":false,\"showline\":true,\"ticks\":\"outside\"}},\"title\":{\"x\":0.05},\"xaxis\":{\"automargin\":true,\"gridcolor\":\"rgb(232,232,232)\",\"linecolor\":\"rgb(36,36,36)\",\"showgrid\":false,\"showline\":true,\"ticks\":\"outside\",\"title\":{\"standoff\":15},\"zeroline\":false,\"zerolinecolor\":\"rgb(36,36,36)\"},\"yaxis\":{\"automargin\":true,\"gridcolor\":\"rgb(232,232,232)\",\"linecolor\":\"rgb(36,36,36)\",\"showgrid\":false,\"showline\":true,\"ticks\":\"outside\",\"title\":{\"standoff\":15},\"zeroline\":false,\"zerolinecolor\":\"rgb(36,36,36)\"}}},\"xaxis\":{\"anchor\":\"y\",\"domain\":[0.0,1.0],\"title\":{\"text\":\"Model\"},\"tickfont\":{\"size\":12},\"showline\":false,\"showgrid\":false},\"yaxis\":{\"anchor\":\"x\",\"domain\":[0.0,1.0],\"title\":{\"text\":\"Accuracy\"},\"tickfont\":{\"size\":12},\"showgrid\":true,\"gridcolor\":\"lightgrey\"},\"legend\":{\"tracegroupgap\":0},\"title\":{\"text\":\"Test AUC Comparison\",\"x\":0.5,\"xanchor\":\"center\"},\"barmode\":\"relative\",\"height\":400,\"width\":500,\"margin\":{\"l\":20,\"r\":20,\"t\":40,\"b\":20},\"font\":{\"size\":12,\"family\":\"Arial\"},\"showlegend\":false},                        {\"responsive\": true}                    ).then(function(){\n",
       "                            \n",
       "var gd = document.getElementById('7d028ac3-8b35-4d3e-a707-4a8c2364f348');\n",
       "var x = new MutationObserver(function (mutations, observer) {{\n",
       "        var display = window.getComputedStyle(gd).display;\n",
       "        if (!display || display === 'none') {{\n",
       "            console.log([gd, 'removed!']);\n",
       "            Plotly.purge(gd);\n",
       "            observer.disconnect();\n",
       "        }}\n",
       "}});\n",
       "\n",
       "// Listen for the removal of the full notebook cells\n",
       "var notebookContainer = gd.closest('#notebook-container');\n",
       "if (notebookContainer) {{\n",
       "    x.observe(notebookContainer, {childList: true});\n",
       "}}\n",
       "\n",
       "// Listen for the clearing of the current output cell\n",
       "var outputEl = gd.closest('.output');\n",
       "if (outputEl) {{\n",
       "    x.observe(outputEl, {childList: true});\n",
       "}}\n",
       "\n",
       "                        })                };                });            </script>        </div>"
      ]
     },
     "metadata": {},
     "output_type": "display_data"
    }
   ],
   "source": [
    "# Plot test accuracies\n",
    "fig = plot_model_comparison(test_accuracies_dict)\n",
    "fig.show() # Show the plot"
   ]
  },
  {
   "cell_type": "code",
   "execution_count": 12,
   "metadata": {},
   "outputs": [
    {
     "data": {
      "application/vnd.plotly.v1+json": {
       "config": {
        "plotlyServerURL": "https://plot.ly"
       },
       "data": [
        {
         "coloraxis": "coloraxis",
         "hovertemplate": "Model: %{x}<br>Model: %{y}<br>Average Overlap: %{z}<extra></extra>",
         "name": "0",
         "type": "heatmap",
         "x": [
          "FMCIBExtractor",
          "CTFMExtractor",
          "PyramidExtractorVar",
          "PyramidExtractorNoVar",
          "VISTA3DExtractor",
          "VocoExtractor",
          "SUPREMExtractor",
          "MerlinExtractor",
          "ModelsGenExtractor"
         ],
         "xaxis": "x",
         "y": [
          "FMCIBExtractor",
          "CTFMExtractor",
          "PyramidExtractorVar",
          "PyramidExtractorNoVar",
          "VISTA3DExtractor",
          "VocoExtractor",
          "SUPREMExtractor",
          "MerlinExtractor",
          "ModelsGenExtractor"
         ],
         "yaxis": "y",
         "z": [
          [
           null,
           1.8952380952380952,
           1.042857142857143,
           1.2476190476190476,
           2.795238095238095,
           0.47619047619047616,
           2.0952380952380953,
           1.723809523809524,
           2.461904761904762
          ],
          [
           1.8952380952380952,
           null,
           0.819047619047619,
           0.9761904761904762,
           2.7333333333333334,
           0.6142857142857143,
           1.6952380952380952,
           1.480952380952381,
           2.376190476190476
          ],
          [
           1.042857142857143,
           0.819047619047619,
           null,
           1.338095238095238,
           1.3,
           0.4666666666666667,
           0.9571428571428572,
           0.8476190476190476,
           1
          ],
          [
           1.2476190476190476,
           0.9761904761904762,
           1.338095238095238,
           null,
           1.4666666666666666,
           0.5857142857142857,
           1.1523809523809523,
           0.7952380952380952,
           1.2333333333333334
          ],
          [
           2.795238095238095,
           2.7333333333333334,
           1.3,
           1.4666666666666666,
           null,
           0.5857142857142857,
           2.6476190476190475,
           1.8761904761904762,
           3.776190476190476
          ],
          [
           0.47619047619047616,
           0.6142857142857143,
           0.4666666666666667,
           0.5857142857142857,
           0.5857142857142857,
           null,
           0.49047619047619045,
           0.5476190476190477,
           0.5523809523809524
          ],
          [
           2.0952380952380953,
           1.6952380952380952,
           0.9571428571428572,
           1.1523809523809523,
           2.6476190476190475,
           0.49047619047619045,
           null,
           1.561904761904762,
           2.7714285714285714
          ],
          [
           1.723809523809524,
           1.480952380952381,
           0.8476190476190476,
           0.7952380952380952,
           1.8761904761904762,
           0.5476190476190477,
           1.561904761904762,
           null,
           1.7857142857142858
          ],
          [
           2.461904761904762,
           2.376190476190476,
           1,
           1.2333333333333334,
           3.776190476190476,
           0.5523809523809524,
           2.7714285714285714,
           1.7857142857142858,
           null
          ]
         ]
        }
       ],
       "layout": {
        "coloraxis": {
         "colorbar": {
          "title": {
           "text": "Average Overlap"
          }
         },
         "colorscale": [
          [
           0,
           "rgb(247,251,255)"
          ],
          [
           0.125,
           "rgb(222,235,247)"
          ],
          [
           0.25,
           "rgb(198,219,239)"
          ],
          [
           0.375,
           "rgb(158,202,225)"
          ],
          [
           0.5,
           "rgb(107,174,214)"
          ],
          [
           0.625,
           "rgb(66,146,198)"
          ],
          [
           0.75,
           "rgb(33,113,181)"
          ],
          [
           0.875,
           "rgb(8,81,156)"
          ],
          [
           1,
           "rgb(8,48,107)"
          ]
         ]
        },
        "margin": {
         "t": 60
        },
        "template": {
         "data": {
          "bar": [
           {
            "error_x": {
             "color": "rgb(36,36,36)"
            },
            "error_y": {
             "color": "rgb(36,36,36)"
            },
            "marker": {
             "line": {
              "color": "white",
              "width": 0.5
             },
             "pattern": {
              "fillmode": "overlay",
              "size": 10,
              "solidity": 0.2
             }
            },
            "type": "bar"
           }
          ],
          "barpolar": [
           {
            "marker": {
             "line": {
              "color": "white",
              "width": 0.5
             },
             "pattern": {
              "fillmode": "overlay",
              "size": 10,
              "solidity": 0.2
             }
            },
            "type": "barpolar"
           }
          ],
          "carpet": [
           {
            "aaxis": {
             "endlinecolor": "rgb(36,36,36)",
             "gridcolor": "white",
             "linecolor": "white",
             "minorgridcolor": "white",
             "startlinecolor": "rgb(36,36,36)"
            },
            "baxis": {
             "endlinecolor": "rgb(36,36,36)",
             "gridcolor": "white",
             "linecolor": "white",
             "minorgridcolor": "white",
             "startlinecolor": "rgb(36,36,36)"
            },
            "type": "carpet"
           }
          ],
          "choropleth": [
           {
            "colorbar": {
             "outlinewidth": 1,
             "tickcolor": "rgb(36,36,36)",
             "ticks": "outside"
            },
            "type": "choropleth"
           }
          ],
          "contour": [
           {
            "colorbar": {
             "outlinewidth": 1,
             "tickcolor": "rgb(36,36,36)",
             "ticks": "outside"
            },
            "colorscale": [
             [
              0,
              "#440154"
             ],
             [
              0.1111111111111111,
              "#482878"
             ],
             [
              0.2222222222222222,
              "#3e4989"
             ],
             [
              0.3333333333333333,
              "#31688e"
             ],
             [
              0.4444444444444444,
              "#26828e"
             ],
             [
              0.5555555555555556,
              "#1f9e89"
             ],
             [
              0.6666666666666666,
              "#35b779"
             ],
             [
              0.7777777777777778,
              "#6ece58"
             ],
             [
              0.8888888888888888,
              "#b5de2b"
             ],
             [
              1,
              "#fde725"
             ]
            ],
            "type": "contour"
           }
          ],
          "contourcarpet": [
           {
            "colorbar": {
             "outlinewidth": 1,
             "tickcolor": "rgb(36,36,36)",
             "ticks": "outside"
            },
            "type": "contourcarpet"
           }
          ],
          "heatmap": [
           {
            "colorbar": {
             "outlinewidth": 1,
             "tickcolor": "rgb(36,36,36)",
             "ticks": "outside"
            },
            "colorscale": [
             [
              0,
              "#440154"
             ],
             [
              0.1111111111111111,
              "#482878"
             ],
             [
              0.2222222222222222,
              "#3e4989"
             ],
             [
              0.3333333333333333,
              "#31688e"
             ],
             [
              0.4444444444444444,
              "#26828e"
             ],
             [
              0.5555555555555556,
              "#1f9e89"
             ],
             [
              0.6666666666666666,
              "#35b779"
             ],
             [
              0.7777777777777778,
              "#6ece58"
             ],
             [
              0.8888888888888888,
              "#b5de2b"
             ],
             [
              1,
              "#fde725"
             ]
            ],
            "type": "heatmap"
           }
          ],
          "heatmapgl": [
           {
            "colorbar": {
             "outlinewidth": 1,
             "tickcolor": "rgb(36,36,36)",
             "ticks": "outside"
            },
            "colorscale": [
             [
              0,
              "#440154"
             ],
             [
              0.1111111111111111,
              "#482878"
             ],
             [
              0.2222222222222222,
              "#3e4989"
             ],
             [
              0.3333333333333333,
              "#31688e"
             ],
             [
              0.4444444444444444,
              "#26828e"
             ],
             [
              0.5555555555555556,
              "#1f9e89"
             ],
             [
              0.6666666666666666,
              "#35b779"
             ],
             [
              0.7777777777777778,
              "#6ece58"
             ],
             [
              0.8888888888888888,
              "#b5de2b"
             ],
             [
              1,
              "#fde725"
             ]
            ],
            "type": "heatmapgl"
           }
          ],
          "histogram": [
           {
            "marker": {
             "line": {
              "color": "white",
              "width": 0.6
             }
            },
            "type": "histogram"
           }
          ],
          "histogram2d": [
           {
            "colorbar": {
             "outlinewidth": 1,
             "tickcolor": "rgb(36,36,36)",
             "ticks": "outside"
            },
            "colorscale": [
             [
              0,
              "#440154"
             ],
             [
              0.1111111111111111,
              "#482878"
             ],
             [
              0.2222222222222222,
              "#3e4989"
             ],
             [
              0.3333333333333333,
              "#31688e"
             ],
             [
              0.4444444444444444,
              "#26828e"
             ],
             [
              0.5555555555555556,
              "#1f9e89"
             ],
             [
              0.6666666666666666,
              "#35b779"
             ],
             [
              0.7777777777777778,
              "#6ece58"
             ],
             [
              0.8888888888888888,
              "#b5de2b"
             ],
             [
              1,
              "#fde725"
             ]
            ],
            "type": "histogram2d"
           }
          ],
          "histogram2dcontour": [
           {
            "colorbar": {
             "outlinewidth": 1,
             "tickcolor": "rgb(36,36,36)",
             "ticks": "outside"
            },
            "colorscale": [
             [
              0,
              "#440154"
             ],
             [
              0.1111111111111111,
              "#482878"
             ],
             [
              0.2222222222222222,
              "#3e4989"
             ],
             [
              0.3333333333333333,
              "#31688e"
             ],
             [
              0.4444444444444444,
              "#26828e"
             ],
             [
              0.5555555555555556,
              "#1f9e89"
             ],
             [
              0.6666666666666666,
              "#35b779"
             ],
             [
              0.7777777777777778,
              "#6ece58"
             ],
             [
              0.8888888888888888,
              "#b5de2b"
             ],
             [
              1,
              "#fde725"
             ]
            ],
            "type": "histogram2dcontour"
           }
          ],
          "mesh3d": [
           {
            "colorbar": {
             "outlinewidth": 1,
             "tickcolor": "rgb(36,36,36)",
             "ticks": "outside"
            },
            "type": "mesh3d"
           }
          ],
          "parcoords": [
           {
            "line": {
             "colorbar": {
              "outlinewidth": 1,
              "tickcolor": "rgb(36,36,36)",
              "ticks": "outside"
             }
            },
            "type": "parcoords"
           }
          ],
          "pie": [
           {
            "automargin": true,
            "type": "pie"
           }
          ],
          "scatter": [
           {
            "fillpattern": {
             "fillmode": "overlay",
             "size": 10,
             "solidity": 0.2
            },
            "type": "scatter"
           }
          ],
          "scatter3d": [
           {
            "line": {
             "colorbar": {
              "outlinewidth": 1,
              "tickcolor": "rgb(36,36,36)",
              "ticks": "outside"
             }
            },
            "marker": {
             "colorbar": {
              "outlinewidth": 1,
              "tickcolor": "rgb(36,36,36)",
              "ticks": "outside"
             }
            },
            "type": "scatter3d"
           }
          ],
          "scattercarpet": [
           {
            "marker": {
             "colorbar": {
              "outlinewidth": 1,
              "tickcolor": "rgb(36,36,36)",
              "ticks": "outside"
             }
            },
            "type": "scattercarpet"
           }
          ],
          "scattergeo": [
           {
            "marker": {
             "colorbar": {
              "outlinewidth": 1,
              "tickcolor": "rgb(36,36,36)",
              "ticks": "outside"
             }
            },
            "type": "scattergeo"
           }
          ],
          "scattergl": [
           {
            "marker": {
             "colorbar": {
              "outlinewidth": 1,
              "tickcolor": "rgb(36,36,36)",
              "ticks": "outside"
             }
            },
            "type": "scattergl"
           }
          ],
          "scattermapbox": [
           {
            "marker": {
             "colorbar": {
              "outlinewidth": 1,
              "tickcolor": "rgb(36,36,36)",
              "ticks": "outside"
             }
            },
            "type": "scattermapbox"
           }
          ],
          "scatterpolar": [
           {
            "marker": {
             "colorbar": {
              "outlinewidth": 1,
              "tickcolor": "rgb(36,36,36)",
              "ticks": "outside"
             }
            },
            "type": "scatterpolar"
           }
          ],
          "scatterpolargl": [
           {
            "marker": {
             "colorbar": {
              "outlinewidth": 1,
              "tickcolor": "rgb(36,36,36)",
              "ticks": "outside"
             }
            },
            "type": "scatterpolargl"
           }
          ],
          "scatterternary": [
           {
            "marker": {
             "colorbar": {
              "outlinewidth": 1,
              "tickcolor": "rgb(36,36,36)",
              "ticks": "outside"
             }
            },
            "type": "scatterternary"
           }
          ],
          "surface": [
           {
            "colorbar": {
             "outlinewidth": 1,
             "tickcolor": "rgb(36,36,36)",
             "ticks": "outside"
            },
            "colorscale": [
             [
              0,
              "#440154"
             ],
             [
              0.1111111111111111,
              "#482878"
             ],
             [
              0.2222222222222222,
              "#3e4989"
             ],
             [
              0.3333333333333333,
              "#31688e"
             ],
             [
              0.4444444444444444,
              "#26828e"
             ],
             [
              0.5555555555555556,
              "#1f9e89"
             ],
             [
              0.6666666666666666,
              "#35b779"
             ],
             [
              0.7777777777777778,
              "#6ece58"
             ],
             [
              0.8888888888888888,
              "#b5de2b"
             ],
             [
              1,
              "#fde725"
             ]
            ],
            "type": "surface"
           }
          ],
          "table": [
           {
            "cells": {
             "fill": {
              "color": "rgb(237,237,237)"
             },
             "line": {
              "color": "white"
             }
            },
            "header": {
             "fill": {
              "color": "rgb(217,217,217)"
             },
             "line": {
              "color": "white"
             }
            },
            "type": "table"
           }
          ]
         },
         "layout": {
          "annotationdefaults": {
           "arrowhead": 0,
           "arrowwidth": 1
          },
          "autotypenumbers": "strict",
          "coloraxis": {
           "colorbar": {
            "outlinewidth": 1,
            "tickcolor": "rgb(36,36,36)",
            "ticks": "outside"
           }
          },
          "colorscale": {
           "diverging": [
            [
             0,
             "rgb(103,0,31)"
            ],
            [
             0.1,
             "rgb(178,24,43)"
            ],
            [
             0.2,
             "rgb(214,96,77)"
            ],
            [
             0.3,
             "rgb(244,165,130)"
            ],
            [
             0.4,
             "rgb(253,219,199)"
            ],
            [
             0.5,
             "rgb(247,247,247)"
            ],
            [
             0.6,
             "rgb(209,229,240)"
            ],
            [
             0.7,
             "rgb(146,197,222)"
            ],
            [
             0.8,
             "rgb(67,147,195)"
            ],
            [
             0.9,
             "rgb(33,102,172)"
            ],
            [
             1,
             "rgb(5,48,97)"
            ]
           ],
           "sequential": [
            [
             0,
             "#440154"
            ],
            [
             0.1111111111111111,
             "#482878"
            ],
            [
             0.2222222222222222,
             "#3e4989"
            ],
            [
             0.3333333333333333,
             "#31688e"
            ],
            [
             0.4444444444444444,
             "#26828e"
            ],
            [
             0.5555555555555556,
             "#1f9e89"
            ],
            [
             0.6666666666666666,
             "#35b779"
            ],
            [
             0.7777777777777778,
             "#6ece58"
            ],
            [
             0.8888888888888888,
             "#b5de2b"
            ],
            [
             1,
             "#fde725"
            ]
           ],
           "sequentialminus": [
            [
             0,
             "#440154"
            ],
            [
             0.1111111111111111,
             "#482878"
            ],
            [
             0.2222222222222222,
             "#3e4989"
            ],
            [
             0.3333333333333333,
             "#31688e"
            ],
            [
             0.4444444444444444,
             "#26828e"
            ],
            [
             0.5555555555555556,
             "#1f9e89"
            ],
            [
             0.6666666666666666,
             "#35b779"
            ],
            [
             0.7777777777777778,
             "#6ece58"
            ],
            [
             0.8888888888888888,
             "#b5de2b"
            ],
            [
             1,
             "#fde725"
            ]
           ]
          },
          "colorway": [
           "#1F77B4",
           "#FF7F0E",
           "#2CA02C",
           "#D62728",
           "#9467BD",
           "#8C564B",
           "#E377C2",
           "#7F7F7F",
           "#BCBD22",
           "#17BECF"
          ],
          "font": {
           "color": "rgb(36,36,36)"
          },
          "geo": {
           "bgcolor": "white",
           "lakecolor": "white",
           "landcolor": "white",
           "showlakes": true,
           "showland": true,
           "subunitcolor": "white"
          },
          "hoverlabel": {
           "align": "left"
          },
          "hovermode": "closest",
          "mapbox": {
           "style": "light"
          },
          "paper_bgcolor": "white",
          "plot_bgcolor": "white",
          "polar": {
           "angularaxis": {
            "gridcolor": "rgb(232,232,232)",
            "linecolor": "rgb(36,36,36)",
            "showgrid": false,
            "showline": true,
            "ticks": "outside"
           },
           "bgcolor": "white",
           "radialaxis": {
            "gridcolor": "rgb(232,232,232)",
            "linecolor": "rgb(36,36,36)",
            "showgrid": false,
            "showline": true,
            "ticks": "outside"
           }
          },
          "scene": {
           "xaxis": {
            "backgroundcolor": "white",
            "gridcolor": "rgb(232,232,232)",
            "gridwidth": 2,
            "linecolor": "rgb(36,36,36)",
            "showbackground": true,
            "showgrid": false,
            "showline": true,
            "ticks": "outside",
            "zeroline": false,
            "zerolinecolor": "rgb(36,36,36)"
           },
           "yaxis": {
            "backgroundcolor": "white",
            "gridcolor": "rgb(232,232,232)",
            "gridwidth": 2,
            "linecolor": "rgb(36,36,36)",
            "showbackground": true,
            "showgrid": false,
            "showline": true,
            "ticks": "outside",
            "zeroline": false,
            "zerolinecolor": "rgb(36,36,36)"
           },
           "zaxis": {
            "backgroundcolor": "white",
            "gridcolor": "rgb(232,232,232)",
            "gridwidth": 2,
            "linecolor": "rgb(36,36,36)",
            "showbackground": true,
            "showgrid": false,
            "showline": true,
            "ticks": "outside",
            "zeroline": false,
            "zerolinecolor": "rgb(36,36,36)"
           }
          },
          "shapedefaults": {
           "fillcolor": "black",
           "line": {
            "width": 0
           },
           "opacity": 0.3
          },
          "ternary": {
           "aaxis": {
            "gridcolor": "rgb(232,232,232)",
            "linecolor": "rgb(36,36,36)",
            "showgrid": false,
            "showline": true,
            "ticks": "outside"
           },
           "baxis": {
            "gridcolor": "rgb(232,232,232)",
            "linecolor": "rgb(36,36,36)",
            "showgrid": false,
            "showline": true,
            "ticks": "outside"
           },
           "bgcolor": "white",
           "caxis": {
            "gridcolor": "rgb(232,232,232)",
            "linecolor": "rgb(36,36,36)",
            "showgrid": false,
            "showline": true,
            "ticks": "outside"
           }
          },
          "title": {
           "x": 0.05
          },
          "xaxis": {
           "automargin": true,
           "gridcolor": "rgb(232,232,232)",
           "linecolor": "rgb(36,36,36)",
           "showgrid": false,
           "showline": true,
           "ticks": "outside",
           "title": {
            "standoff": 15
           },
           "zeroline": false,
           "zerolinecolor": "rgb(36,36,36)"
          },
          "yaxis": {
           "automargin": true,
           "gridcolor": "rgb(232,232,232)",
           "linecolor": "rgb(36,36,36)",
           "showgrid": false,
           "showline": true,
           "ticks": "outside",
           "title": {
            "standoff": 15
           },
           "zeroline": false,
           "zerolinecolor": "rgb(36,36,36)"
          }
         }
        },
        "title": {
         "text": "Mutual k-Nearest Neighbors Overlap Scores"
        },
        "width": 600,
        "xaxis": {
         "anchor": "y",
         "constrain": "domain",
         "domain": [
          0,
          1
         ],
         "scaleanchor": "y",
         "tickangle": 45,
         "title": {
          "text": "Model"
         }
        },
        "yaxis": {
         "anchor": "x",
         "autorange": "reversed",
         "constrain": "domain",
         "domain": [
          0,
          1
         ],
         "title": {
          "text": "Model"
         }
        }
       }
      },
      "text/html": [
       "<div>                            <div id=\"bdfba01d-3528-4d70-b2a5-5141bdad8dbb\" class=\"plotly-graph-div\" style=\"height:525px; width:600px;\"></div>            <script type=\"text/javascript\">                require([\"plotly\"], function(Plotly) {                    window.PLOTLYENV=window.PLOTLYENV || {};                                    if (document.getElementById(\"bdfba01d-3528-4d70-b2a5-5141bdad8dbb\")) {                    Plotly.newPlot(                        \"bdfba01d-3528-4d70-b2a5-5141bdad8dbb\",                        [{\"coloraxis\":\"coloraxis\",\"name\":\"0\",\"x\":[\"FMCIBExtractor\",\"CTFMExtractor\",\"PyramidExtractorVar\",\"PyramidExtractorNoVar\",\"VISTA3DExtractor\",\"VocoExtractor\",\"SUPREMExtractor\",\"MerlinExtractor\",\"ModelsGenExtractor\"],\"y\":[\"FMCIBExtractor\",\"CTFMExtractor\",\"PyramidExtractorVar\",\"PyramidExtractorNoVar\",\"VISTA3DExtractor\",\"VocoExtractor\",\"SUPREMExtractor\",\"MerlinExtractor\",\"ModelsGenExtractor\"],\"z\":[[null,1.8952380952380952,1.042857142857143,1.2476190476190476,2.795238095238095,0.47619047619047616,2.0952380952380953,1.723809523809524,2.461904761904762],[1.8952380952380952,null,0.819047619047619,0.9761904761904762,2.7333333333333334,0.6142857142857143,1.6952380952380952,1.480952380952381,2.376190476190476],[1.042857142857143,0.819047619047619,null,1.338095238095238,1.3,0.4666666666666667,0.9571428571428572,0.8476190476190476,1.0],[1.2476190476190476,0.9761904761904762,1.338095238095238,null,1.4666666666666666,0.5857142857142857,1.1523809523809523,0.7952380952380952,1.2333333333333334],[2.795238095238095,2.7333333333333334,1.3,1.4666666666666666,null,0.5857142857142857,2.6476190476190475,1.8761904761904762,3.776190476190476],[0.47619047619047616,0.6142857142857143,0.4666666666666667,0.5857142857142857,0.5857142857142857,null,0.49047619047619045,0.5476190476190477,0.5523809523809524],[2.0952380952380953,1.6952380952380952,0.9571428571428572,1.1523809523809523,2.6476190476190475,0.49047619047619045,null,1.561904761904762,2.7714285714285714],[1.723809523809524,1.480952380952381,0.8476190476190476,0.7952380952380952,1.8761904761904762,0.5476190476190477,1.561904761904762,null,1.7857142857142858],[2.461904761904762,2.376190476190476,1.0,1.2333333333333334,3.776190476190476,0.5523809523809524,2.7714285714285714,1.7857142857142858,null]],\"type\":\"heatmap\",\"xaxis\":\"x\",\"yaxis\":\"y\",\"hovertemplate\":\"Model: %{x}\\u003cbr\\u003eModel: %{y}\\u003cbr\\u003eAverage Overlap: %{z}\\u003cextra\\u003e\\u003c\\u002fextra\\u003e\"}],                        {\"template\":{\"data\":{\"barpolar\":[{\"marker\":{\"line\":{\"color\":\"white\",\"width\":0.5},\"pattern\":{\"fillmode\":\"overlay\",\"size\":10,\"solidity\":0.2}},\"type\":\"barpolar\"}],\"bar\":[{\"error_x\":{\"color\":\"rgb(36,36,36)\"},\"error_y\":{\"color\":\"rgb(36,36,36)\"},\"marker\":{\"line\":{\"color\":\"white\",\"width\":0.5},\"pattern\":{\"fillmode\":\"overlay\",\"size\":10,\"solidity\":0.2}},\"type\":\"bar\"}],\"carpet\":[{\"aaxis\":{\"endlinecolor\":\"rgb(36,36,36)\",\"gridcolor\":\"white\",\"linecolor\":\"white\",\"minorgridcolor\":\"white\",\"startlinecolor\":\"rgb(36,36,36)\"},\"baxis\":{\"endlinecolor\":\"rgb(36,36,36)\",\"gridcolor\":\"white\",\"linecolor\":\"white\",\"minorgridcolor\":\"white\",\"startlinecolor\":\"rgb(36,36,36)\"},\"type\":\"carpet\"}],\"choropleth\":[{\"colorbar\":{\"outlinewidth\":1,\"tickcolor\":\"rgb(36,36,36)\",\"ticks\":\"outside\"},\"type\":\"choropleth\"}],\"contourcarpet\":[{\"colorbar\":{\"outlinewidth\":1,\"tickcolor\":\"rgb(36,36,36)\",\"ticks\":\"outside\"},\"type\":\"contourcarpet\"}],\"contour\":[{\"colorbar\":{\"outlinewidth\":1,\"tickcolor\":\"rgb(36,36,36)\",\"ticks\":\"outside\"},\"colorscale\":[[0.0,\"#440154\"],[0.1111111111111111,\"#482878\"],[0.2222222222222222,\"#3e4989\"],[0.3333333333333333,\"#31688e\"],[0.4444444444444444,\"#26828e\"],[0.5555555555555556,\"#1f9e89\"],[0.6666666666666666,\"#35b779\"],[0.7777777777777778,\"#6ece58\"],[0.8888888888888888,\"#b5de2b\"],[1.0,\"#fde725\"]],\"type\":\"contour\"}],\"heatmapgl\":[{\"colorbar\":{\"outlinewidth\":1,\"tickcolor\":\"rgb(36,36,36)\",\"ticks\":\"outside\"},\"colorscale\":[[0.0,\"#440154\"],[0.1111111111111111,\"#482878\"],[0.2222222222222222,\"#3e4989\"],[0.3333333333333333,\"#31688e\"],[0.4444444444444444,\"#26828e\"],[0.5555555555555556,\"#1f9e89\"],[0.6666666666666666,\"#35b779\"],[0.7777777777777778,\"#6ece58\"],[0.8888888888888888,\"#b5de2b\"],[1.0,\"#fde725\"]],\"type\":\"heatmapgl\"}],\"heatmap\":[{\"colorbar\":{\"outlinewidth\":1,\"tickcolor\":\"rgb(36,36,36)\",\"ticks\":\"outside\"},\"colorscale\":[[0.0,\"#440154\"],[0.1111111111111111,\"#482878\"],[0.2222222222222222,\"#3e4989\"],[0.3333333333333333,\"#31688e\"],[0.4444444444444444,\"#26828e\"],[0.5555555555555556,\"#1f9e89\"],[0.6666666666666666,\"#35b779\"],[0.7777777777777778,\"#6ece58\"],[0.8888888888888888,\"#b5de2b\"],[1.0,\"#fde725\"]],\"type\":\"heatmap\"}],\"histogram2dcontour\":[{\"colorbar\":{\"outlinewidth\":1,\"tickcolor\":\"rgb(36,36,36)\",\"ticks\":\"outside\"},\"colorscale\":[[0.0,\"#440154\"],[0.1111111111111111,\"#482878\"],[0.2222222222222222,\"#3e4989\"],[0.3333333333333333,\"#31688e\"],[0.4444444444444444,\"#26828e\"],[0.5555555555555556,\"#1f9e89\"],[0.6666666666666666,\"#35b779\"],[0.7777777777777778,\"#6ece58\"],[0.8888888888888888,\"#b5de2b\"],[1.0,\"#fde725\"]],\"type\":\"histogram2dcontour\"}],\"histogram2d\":[{\"colorbar\":{\"outlinewidth\":1,\"tickcolor\":\"rgb(36,36,36)\",\"ticks\":\"outside\"},\"colorscale\":[[0.0,\"#440154\"],[0.1111111111111111,\"#482878\"],[0.2222222222222222,\"#3e4989\"],[0.3333333333333333,\"#31688e\"],[0.4444444444444444,\"#26828e\"],[0.5555555555555556,\"#1f9e89\"],[0.6666666666666666,\"#35b779\"],[0.7777777777777778,\"#6ece58\"],[0.8888888888888888,\"#b5de2b\"],[1.0,\"#fde725\"]],\"type\":\"histogram2d\"}],\"histogram\":[{\"marker\":{\"line\":{\"color\":\"white\",\"width\":0.6}},\"type\":\"histogram\"}],\"mesh3d\":[{\"colorbar\":{\"outlinewidth\":1,\"tickcolor\":\"rgb(36,36,36)\",\"ticks\":\"outside\"},\"type\":\"mesh3d\"}],\"parcoords\":[{\"line\":{\"colorbar\":{\"outlinewidth\":1,\"tickcolor\":\"rgb(36,36,36)\",\"ticks\":\"outside\"}},\"type\":\"parcoords\"}],\"pie\":[{\"automargin\":true,\"type\":\"pie\"}],\"scatter3d\":[{\"line\":{\"colorbar\":{\"outlinewidth\":1,\"tickcolor\":\"rgb(36,36,36)\",\"ticks\":\"outside\"}},\"marker\":{\"colorbar\":{\"outlinewidth\":1,\"tickcolor\":\"rgb(36,36,36)\",\"ticks\":\"outside\"}},\"type\":\"scatter3d\"}],\"scattercarpet\":[{\"marker\":{\"colorbar\":{\"outlinewidth\":1,\"tickcolor\":\"rgb(36,36,36)\",\"ticks\":\"outside\"}},\"type\":\"scattercarpet\"}],\"scattergeo\":[{\"marker\":{\"colorbar\":{\"outlinewidth\":1,\"tickcolor\":\"rgb(36,36,36)\",\"ticks\":\"outside\"}},\"type\":\"scattergeo\"}],\"scattergl\":[{\"marker\":{\"colorbar\":{\"outlinewidth\":1,\"tickcolor\":\"rgb(36,36,36)\",\"ticks\":\"outside\"}},\"type\":\"scattergl\"}],\"scattermapbox\":[{\"marker\":{\"colorbar\":{\"outlinewidth\":1,\"tickcolor\":\"rgb(36,36,36)\",\"ticks\":\"outside\"}},\"type\":\"scattermapbox\"}],\"scatterpolargl\":[{\"marker\":{\"colorbar\":{\"outlinewidth\":1,\"tickcolor\":\"rgb(36,36,36)\",\"ticks\":\"outside\"}},\"type\":\"scatterpolargl\"}],\"scatterpolar\":[{\"marker\":{\"colorbar\":{\"outlinewidth\":1,\"tickcolor\":\"rgb(36,36,36)\",\"ticks\":\"outside\"}},\"type\":\"scatterpolar\"}],\"scatter\":[{\"fillpattern\":{\"fillmode\":\"overlay\",\"size\":10,\"solidity\":0.2},\"type\":\"scatter\"}],\"scatterternary\":[{\"marker\":{\"colorbar\":{\"outlinewidth\":1,\"tickcolor\":\"rgb(36,36,36)\",\"ticks\":\"outside\"}},\"type\":\"scatterternary\"}],\"surface\":[{\"colorbar\":{\"outlinewidth\":1,\"tickcolor\":\"rgb(36,36,36)\",\"ticks\":\"outside\"},\"colorscale\":[[0.0,\"#440154\"],[0.1111111111111111,\"#482878\"],[0.2222222222222222,\"#3e4989\"],[0.3333333333333333,\"#31688e\"],[0.4444444444444444,\"#26828e\"],[0.5555555555555556,\"#1f9e89\"],[0.6666666666666666,\"#35b779\"],[0.7777777777777778,\"#6ece58\"],[0.8888888888888888,\"#b5de2b\"],[1.0,\"#fde725\"]],\"type\":\"surface\"}],\"table\":[{\"cells\":{\"fill\":{\"color\":\"rgb(237,237,237)\"},\"line\":{\"color\":\"white\"}},\"header\":{\"fill\":{\"color\":\"rgb(217,217,217)\"},\"line\":{\"color\":\"white\"}},\"type\":\"table\"}]},\"layout\":{\"annotationdefaults\":{\"arrowhead\":0,\"arrowwidth\":1},\"autotypenumbers\":\"strict\",\"coloraxis\":{\"colorbar\":{\"outlinewidth\":1,\"tickcolor\":\"rgb(36,36,36)\",\"ticks\":\"outside\"}},\"colorscale\":{\"diverging\":[[0.0,\"rgb(103,0,31)\"],[0.1,\"rgb(178,24,43)\"],[0.2,\"rgb(214,96,77)\"],[0.3,\"rgb(244,165,130)\"],[0.4,\"rgb(253,219,199)\"],[0.5,\"rgb(247,247,247)\"],[0.6,\"rgb(209,229,240)\"],[0.7,\"rgb(146,197,222)\"],[0.8,\"rgb(67,147,195)\"],[0.9,\"rgb(33,102,172)\"],[1.0,\"rgb(5,48,97)\"]],\"sequential\":[[0.0,\"#440154\"],[0.1111111111111111,\"#482878\"],[0.2222222222222222,\"#3e4989\"],[0.3333333333333333,\"#31688e\"],[0.4444444444444444,\"#26828e\"],[0.5555555555555556,\"#1f9e89\"],[0.6666666666666666,\"#35b779\"],[0.7777777777777778,\"#6ece58\"],[0.8888888888888888,\"#b5de2b\"],[1.0,\"#fde725\"]],\"sequentialminus\":[[0.0,\"#440154\"],[0.1111111111111111,\"#482878\"],[0.2222222222222222,\"#3e4989\"],[0.3333333333333333,\"#31688e\"],[0.4444444444444444,\"#26828e\"],[0.5555555555555556,\"#1f9e89\"],[0.6666666666666666,\"#35b779\"],[0.7777777777777778,\"#6ece58\"],[0.8888888888888888,\"#b5de2b\"],[1.0,\"#fde725\"]]},\"colorway\":[\"#1F77B4\",\"#FF7F0E\",\"#2CA02C\",\"#D62728\",\"#9467BD\",\"#8C564B\",\"#E377C2\",\"#7F7F7F\",\"#BCBD22\",\"#17BECF\"],\"font\":{\"color\":\"rgb(36,36,36)\"},\"geo\":{\"bgcolor\":\"white\",\"lakecolor\":\"white\",\"landcolor\":\"white\",\"showlakes\":true,\"showland\":true,\"subunitcolor\":\"white\"},\"hoverlabel\":{\"align\":\"left\"},\"hovermode\":\"closest\",\"mapbox\":{\"style\":\"light\"},\"paper_bgcolor\":\"white\",\"plot_bgcolor\":\"white\",\"polar\":{\"angularaxis\":{\"gridcolor\":\"rgb(232,232,232)\",\"linecolor\":\"rgb(36,36,36)\",\"showgrid\":false,\"showline\":true,\"ticks\":\"outside\"},\"bgcolor\":\"white\",\"radialaxis\":{\"gridcolor\":\"rgb(232,232,232)\",\"linecolor\":\"rgb(36,36,36)\",\"showgrid\":false,\"showline\":true,\"ticks\":\"outside\"}},\"scene\":{\"xaxis\":{\"backgroundcolor\":\"white\",\"gridcolor\":\"rgb(232,232,232)\",\"gridwidth\":2,\"linecolor\":\"rgb(36,36,36)\",\"showbackground\":true,\"showgrid\":false,\"showline\":true,\"ticks\":\"outside\",\"zeroline\":false,\"zerolinecolor\":\"rgb(36,36,36)\"},\"yaxis\":{\"backgroundcolor\":\"white\",\"gridcolor\":\"rgb(232,232,232)\",\"gridwidth\":2,\"linecolor\":\"rgb(36,36,36)\",\"showbackground\":true,\"showgrid\":false,\"showline\":true,\"ticks\":\"outside\",\"zeroline\":false,\"zerolinecolor\":\"rgb(36,36,36)\"},\"zaxis\":{\"backgroundcolor\":\"white\",\"gridcolor\":\"rgb(232,232,232)\",\"gridwidth\":2,\"linecolor\":\"rgb(36,36,36)\",\"showbackground\":true,\"showgrid\":false,\"showline\":true,\"ticks\":\"outside\",\"zeroline\":false,\"zerolinecolor\":\"rgb(36,36,36)\"}},\"shapedefaults\":{\"fillcolor\":\"black\",\"line\":{\"width\":0},\"opacity\":0.3},\"ternary\":{\"aaxis\":{\"gridcolor\":\"rgb(232,232,232)\",\"linecolor\":\"rgb(36,36,36)\",\"showgrid\":false,\"showline\":true,\"ticks\":\"outside\"},\"baxis\":{\"gridcolor\":\"rgb(232,232,232)\",\"linecolor\":\"rgb(36,36,36)\",\"showgrid\":false,\"showline\":true,\"ticks\":\"outside\"},\"bgcolor\":\"white\",\"caxis\":{\"gridcolor\":\"rgb(232,232,232)\",\"linecolor\":\"rgb(36,36,36)\",\"showgrid\":false,\"showline\":true,\"ticks\":\"outside\"}},\"title\":{\"x\":0.05},\"xaxis\":{\"automargin\":true,\"gridcolor\":\"rgb(232,232,232)\",\"linecolor\":\"rgb(36,36,36)\",\"showgrid\":false,\"showline\":true,\"ticks\":\"outside\",\"title\":{\"standoff\":15},\"zeroline\":false,\"zerolinecolor\":\"rgb(36,36,36)\"},\"yaxis\":{\"automargin\":true,\"gridcolor\":\"rgb(232,232,232)\",\"linecolor\":\"rgb(36,36,36)\",\"showgrid\":false,\"showline\":true,\"ticks\":\"outside\",\"title\":{\"standoff\":15},\"zeroline\":false,\"zerolinecolor\":\"rgb(36,36,36)\"}}},\"xaxis\":{\"anchor\":\"y\",\"domain\":[0.0,1.0],\"scaleanchor\":\"y\",\"constrain\":\"domain\",\"title\":{\"text\":\"Model\"},\"tickangle\":45},\"yaxis\":{\"anchor\":\"x\",\"domain\":[0.0,1.0],\"autorange\":\"reversed\",\"constrain\":\"domain\",\"title\":{\"text\":\"Model\"}},\"coloraxis\":{\"colorbar\":{\"title\":{\"text\":\"Average Overlap\"}},\"colorscale\":[[0.0,\"rgb(247,251,255)\"],[0.125,\"rgb(222,235,247)\"],[0.25,\"rgb(198,219,239)\"],[0.375,\"rgb(158,202,225)\"],[0.5,\"rgb(107,174,214)\"],[0.625,\"rgb(66,146,198)\"],[0.75,\"rgb(33,113,181)\"],[0.875,\"rgb(8,81,156)\"],[1.0,\"rgb(8,48,107)\"]]},\"margin\":{\"t\":60},\"title\":{\"text\":\"Mutual k-Nearest Neighbors Overlap Scores\"},\"width\":600},                        {\"responsive\": true}                    ).then(function(){\n",
       "                            \n",
       "var gd = document.getElementById('bdfba01d-3528-4d70-b2a5-5141bdad8dbb');\n",
       "var x = new MutationObserver(function (mutations, observer) {{\n",
       "        var display = window.getComputedStyle(gd).display;\n",
       "        if (!display || display === 'none') {{\n",
       "            console.log([gd, 'removed!']);\n",
       "            Plotly.purge(gd);\n",
       "            observer.disconnect();\n",
       "        }}\n",
       "}});\n",
       "\n",
       "// Listen for the removal of the full notebook cells\n",
       "var notebookContainer = gd.closest('#notebook-container');\n",
       "if (notebookContainer) {{\n",
       "    x.observe(notebookContainer, {childList: true});\n",
       "}}\n",
       "\n",
       "// Listen for the clearing of the current output cell\n",
       "var outputEl = gd.closest('.output');\n",
       "if (outputEl) {{\n",
       "    x.observe(outputEl, {childList: true});\n",
       "}}\n",
       "\n",
       "                        })                };                });            </script>        </div>"
      ]
     },
     "metadata": {},
     "output_type": "display_data"
    }
   ],
   "source": [
    "model_features = extract_model_features(data)\n",
    "model_neighbors = compute_knn_indices(model_features, num_neighbors=10, metric=\"cosine\")\n",
    "overlap_matrix, model_list = compute_overlap_matrix(model_neighbors)\n",
    "fig = plot_overlap_matrix(overlap_matrix, model_list)\n",
    "fig.show()\n"
   ]
  },
  {
   "cell_type": "code",
   "execution_count": null,
   "metadata": {},
   "outputs": [],
   "source": []
  }
 ],
 "metadata": {
  "kernelspec": {
   "display_name": "lighter_dev",
   "language": "python",
   "name": "python3"
  },
  "language_info": {
   "codemirror_mode": {
    "name": "ipython",
    "version": 3
   },
   "file_extension": ".py",
   "mimetype": "text/x-python",
   "name": "python",
   "nbconvert_exporter": "python",
   "pygments_lexer": "ipython3",
   "version": "3.10.14"
  }
 },
 "nbformat": 4,
 "nbformat_minor": 4
}
