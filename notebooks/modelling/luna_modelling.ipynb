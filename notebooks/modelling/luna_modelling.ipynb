{
 "cells": [
  {
   "cell_type": "code",
   "execution_count": 1,
   "id": "16418035",
   "metadata": {},
   "outputs": [],
   "source": [
    "# Import necessary libraries\n",
    "import pandas as pd # For data manipulation and analysis\n",
    "import numpy as np # For numerical operations\n",
    "import pickle # For serializing and deserializing Python objects\n",
    "from modelling_utils import train_knn_classifier, evaluate_model, plot_model_comparison, extract_model_features, compute_knn_indices, compute_overlap_matrix, plot_overlap_matrix, split_shuffle_data"
   ]
  },
  {
   "cell_type": "code",
   "execution_count": 2,
   "id": "b355f85f",
   "metadata": {},
   "outputs": [],
   "source": [
    "# Load features from a pickle file\n",
    "feature_dict_path = \"/home/suraj/Repositories/FM-extractors-radiomics/evaluation/features/luna.pkl\" # Path to the pickle file containing features\n",
    "with open(feature_dict_path, 'rb') as file: # Open the file in read binary mode\n",
    "    data = pickle.load(file) # Load the data from the pickle file"
   ]
  },
  {
   "cell_type": "code",
   "execution_count": 3,
   "id": "c48a0aeb",
   "metadata": {},
   "outputs": [],
   "source": [
    "# Store test accuracies for each model\n",
    "test_accuracies_dict = {} # Initialize an empty dictionary to store test accuracies"
   ]
  },
  {
   "cell_type": "code",
   "execution_count": 4,
   "id": "a2d6ca32",
   "metadata": {},
   "outputs": [
    {
     "name": "stderr",
     "output_type": "stream",
     "text": [
      "[I 2025-02-27 14:50:35,007] A new study created in memory with name: no-name-6fac199e-9e28-4371-ab4d-347d483efb86\n",
      "[I 2025-02-27 14:50:35,022] Trial 0 finished with value: 0.8810625175217268 and parameters: {'k': 29}. Best is trial 0 with value: 0.8810625175217268.\n",
      "[I 2025-02-27 14:50:35,034] Trial 1 finished with value: 0.8814830389683207 and parameters: {'k': 12}. Best is trial 1 with value: 0.8814830389683207.\n",
      "[I 2025-02-27 14:50:35,043] Trial 2 finished with value: 0.8832352116624614 and parameters: {'k': 11}. Best is trial 2 with value: 0.8832352116624614.\n",
      "[I 2025-02-27 14:50:35,053] Trial 3 finished with value: 0.8796607793664144 and parameters: {'k': 42}. Best is trial 2 with value: 0.8832352116624614.\n",
      "[I 2025-02-27 14:50:35,063] Trial 4 finished with value: 0.8395710681244744 and parameters: {'k': 3}. Best is trial 2 with value: 0.8832352116624614.\n",
      "[I 2025-02-27 14:50:35,073] Trial 5 finished with value: 0.88085225679843 and parameters: {'k': 28}. Best is trial 2 with value: 0.8832352116624614.\n",
      "[I 2025-02-27 14:50:35,086] Trial 6 finished with value: 0.8824642556770396 and parameters: {'k': 39}. Best is trial 2 with value: 0.8832352116624614.\n",
      "[I 2025-02-27 14:50:35,097] Trial 7 finished with value: 0.8830950378469301 and parameters: {'k': 32}. Best is trial 2 with value: 0.8832352116624614.\n",
      "[I 2025-02-27 14:50:35,107] Trial 8 finished with value: 0.8845668629100084 and parameters: {'k': 23}. Best is trial 8 with value: 0.8845668629100084.\n",
      "[I 2025-02-27 14:50:35,117] Trial 9 finished with value: 0.880641996075133 and parameters: {'k': 5}. Best is trial 8 with value: 0.8845668629100084.\n",
      "[I 2025-02-27 14:50:35,128] Trial 10 finished with value: 0.8819736473226801 and parameters: {'k': 34}. Best is trial 8 with value: 0.8845668629100084.\n",
      "[I 2025-02-27 14:50:35,139] Trial 11 finished with value: 0.8819035604149145 and parameters: {'k': 36}. Best is trial 8 with value: 0.8845668629100084.\n",
      "[I 2025-02-27 14:50:35,149] Trial 12 finished with value: 0.8782590412111017 and parameters: {'k': 27}. Best is trial 8 with value: 0.8845668629100084.\n",
      "[I 2025-02-27 14:50:35,161] Trial 13 finished with value: 0.8822539949537426 and parameters: {'k': 35}. Best is trial 8 with value: 0.8845668629100084.\n",
      "[I 2025-02-27 14:50:35,171] Trial 14 finished with value: 0.8840061676478833 and parameters: {'k': 19}. Best is trial 8 with value: 0.8845668629100084.\n",
      "[I 2025-02-27 14:50:35,182] Trial 15 finished with value: 0.8736333052985703 and parameters: {'k': 8}. Best is trial 8 with value: 0.8845668629100084.\n",
      "[I 2025-02-27 14:50:35,194] Trial 16 finished with value: 0.8895430333613681 and parameters: {'k': 15}. Best is trial 16 with value: 0.8895430333613681.\n",
      "[I 2025-02-27 14:50:35,205] Trial 17 finished with value: 0.8800112139052426 and parameters: {'k': 46}. Best is trial 16 with value: 0.8895430333613681.\n",
      "[I 2025-02-27 14:50:35,217] Trial 18 finished with value: 0.8813428651527895 and parameters: {'k': 49}. Best is trial 16 with value: 0.8895430333613681.\n",
      "[I 2025-02-27 14:50:35,229] Trial 19 finished with value: 0.8798009531819457 and parameters: {'k': 30}. Best is trial 16 with value: 0.8895430333613681.\n",
      "[I 2025-02-27 14:50:35,241] Trial 20 finished with value: 0.8875805999439303 and parameters: {'k': 16}. Best is trial 16 with value: 0.8895430333613681.\n",
      "[I 2025-02-27 14:50:35,253] Trial 21 finished with value: 0.879170171012055 and parameters: {'k': 31}. Best is trial 16 with value: 0.8895430333613681.\n",
      "[I 2025-02-27 14:50:35,265] Trial 22 finished with value: 0.8830950378469302 and parameters: {'k': 33}. Best is trial 16 with value: 0.8895430333613681.\n",
      "[I 2025-02-27 14:50:35,278] Trial 23 finished with value: 0.8875105130361648 and parameters: {'k': 17}. Best is trial 16 with value: 0.8895430333613681.\n",
      "[I 2025-02-27 14:50:35,290] Trial 24 finished with value: 0.8807120829828988 and parameters: {'k': 43}. Best is trial 16 with value: 0.8895430333613681.\n",
      "[I 2025-02-27 14:50:35,303] Trial 25 finished with value: 0.8862489486963835 and parameters: {'k': 21}. Best is trial 16 with value: 0.8895430333613681.\n",
      "[I 2025-02-27 14:50:35,316] Trial 26 finished with value: 0.8809223437061957 and parameters: {'k': 44}. Best is trial 16 with value: 0.8895430333613681.\n",
      "[I 2025-02-27 14:50:35,329] Trial 27 finished with value: 0.879170171012055 and parameters: {'k': 9}. Best is trial 16 with value: 0.8895430333613681.\n",
      "[I 2025-02-27 14:50:35,342] Trial 28 finished with value: 0.8882814690215867 and parameters: {'k': 14}. Best is trial 16 with value: 0.8895430333613681.\n",
      "[I 2025-02-27 14:50:35,355] Trial 29 finished with value: 0.8813428651527895 and parameters: {'k': 26}. Best is trial 16 with value: 0.8895430333613681.\n",
      "[I 2025-02-27 14:50:35,368] Trial 30 finished with value: 0.8720213064199607 and parameters: {'k': 6}. Best is trial 16 with value: 0.8895430333613681.\n",
      "[I 2025-02-27 14:50:35,382] Trial 31 finished with value: 0.8849873843566022 and parameters: {'k': 18}. Best is trial 16 with value: 0.8895430333613681.\n",
      "[I 2025-02-27 14:50:35,396] Trial 32 finished with value: 0.8793804317353517 and parameters: {'k': 41}. Best is trial 16 with value: 0.8895430333613681.\n",
      "[I 2025-02-27 14:50:35,410] Trial 33 finished with value: 0.8795206055508832 and parameters: {'k': 50}. Best is trial 16 with value: 0.8895430333613681.\n",
      "[I 2025-02-27 14:50:35,423] Trial 34 finished with value: 0.8401317633865993 and parameters: {'k': 2}. Best is trial 16 with value: 0.8895430333613681.\n",
      "[I 2025-02-27 14:50:35,437] Trial 35 finished with value: 0.8862489486963835 and parameters: {'k': 13}. Best is trial 16 with value: 0.8895430333613681.\n",
      "[I 2025-02-27 14:50:35,451] Trial 36 finished with value: 0.8819736473226801 and parameters: {'k': 38}. Best is trial 16 with value: 0.8895430333613681.\n",
      "[I 2025-02-27 14:50:35,465] Trial 37 finished with value: 0.883515559293524 and parameters: {'k': 25}. Best is trial 16 with value: 0.8895430333613681.\n",
      "[I 2025-02-27 14:50:35,480] Trial 38 finished with value: 0.8670451359686011 and parameters: {'k': 7}. Best is trial 16 with value: 0.8895430333613681.\n",
      "[I 2025-02-27 14:50:35,494] Trial 39 finished with value: 0.8836557331090552 and parameters: {'k': 24}. Best is trial 16 with value: 0.8895430333613681.\n",
      "[I 2025-02-27 14:50:35,509] Trial 40 finished with value: 0.8823941687692739 and parameters: {'k': 37}. Best is trial 16 with value: 0.8895430333613681.\n",
      "[I 2025-02-27 14:50:35,524] Trial 41 finished with value: 0.8876506868516961 and parameters: {'k': 22}. Best is trial 16 with value: 0.8895430333613681.\n",
      "[I 2025-02-27 14:50:35,539] Trial 42 finished with value: 0.8816932996916176 and parameters: {'k': 20}. Best is trial 16 with value: 0.8895430333613681.\n",
      "[I 2025-02-27 14:50:35,554] Trial 43 finished with value: 0.8828146902158677 and parameters: {'k': 10}. Best is trial 16 with value: 0.8895430333613681.\n",
      "[I 2025-02-27 14:50:35,569] Trial 44 finished with value: 0.8800813008130083 and parameters: {'k': 40}. Best is trial 16 with value: 0.8895430333613681.\n",
      "[I 2025-02-27 14:50:35,584] Trial 45 finished with value: 0.8806419960751333 and parameters: {'k': 47}. Best is trial 16 with value: 0.8895430333613681.\n",
      "[I 2025-02-27 14:50:35,600] Trial 46 finished with value: 0.8537286234931315 and parameters: {'k': 4}. Best is trial 16 with value: 0.8895430333613681.\n",
      "[I 2025-02-27 14:50:35,614] Trial 47 finished with value: 0.7688533781889543 and parameters: {'k': 1}. Best is trial 16 with value: 0.8895430333613681.\n",
      "[I 2025-02-27 14:50:35,630] Trial 48 finished with value: 0.881412952060555 and parameters: {'k': 48}. Best is trial 16 with value: 0.8895430333613681.\n",
      "[I 2025-02-27 14:50:35,646] Trial 49 finished with value: 0.8783291281188674 and parameters: {'k': 45}. Best is trial 16 with value: 0.8895430333613681.\n",
      "[I 2025-02-27 14:50:35,659] A new study created in memory with name: no-name-8a1cc66c-0d01-4ef9-848f-15563856933e\n",
      "[I 2025-02-27 14:50:35,664] Trial 0 finished with value: 0.7108214185590132 and parameters: {'k': 29}. Best is trial 0 with value: 0.7108214185590132.\n",
      "[I 2025-02-27 14:50:35,669] Trial 1 finished with value: 0.7288337538547799 and parameters: {'k': 12}. Best is trial 1 with value: 0.7288337538547799.\n",
      "[I 2025-02-27 14:50:35,674] Trial 2 finished with value: 0.721054107092795 and parameters: {'k': 11}. Best is trial 1 with value: 0.7288337538547799.\n",
      "[I 2025-02-27 14:50:35,680] Trial 3 finished with value: 0.7068264648163723 and parameters: {'k': 42}. Best is trial 1 with value: 0.7288337538547799.\n",
      "[I 2025-02-27 14:50:35,685] Trial 4 finished with value: 0.6959629941126997 and parameters: {'k': 3}. Best is trial 1 with value: 0.7288337538547799.\n",
      "[I 2025-02-27 14:50:35,690] Trial 5 finished with value: 0.7090692458648725 and parameters: {'k': 28}. Best is trial 1 with value: 0.7288337538547799.\n",
      "[I 2025-02-27 14:50:35,696] Trial 6 finished with value: 0.7127137650686851 and parameters: {'k': 39}. Best is trial 1 with value: 0.7288337538547799.\n",
      "[I 2025-02-27 14:50:35,702] Trial 7 finished with value: 0.7113120269133727 and parameters: {'k': 32}. Best is trial 1 with value: 0.7288337538547799.\n",
      "[I 2025-02-27 14:50:35,708] Trial 8 finished with value: 0.7261003644519204 and parameters: {'k': 23}. Best is trial 1 with value: 0.7288337538547799.\n",
      "[I 2025-02-27 14:50:35,716] Trial 9 finished with value: 0.7356321839080461 and parameters: {'k': 5}. Best is trial 9 with value: 0.7356321839080461.\n",
      "[I 2025-02-27 14:50:35,724] Trial 10 finished with value: 0.714255677039529 and parameters: {'k': 34}. Best is trial 9 with value: 0.7356321839080461.\n",
      "[I 2025-02-27 14:50:35,731] Trial 11 finished with value: 0.710260723296888 and parameters: {'k': 36}. Best is trial 9 with value: 0.7356321839080461.\n",
      "[I 2025-02-27 14:50:35,737] Trial 12 finished with value: 0.7106111578357164 and parameters: {'k': 27}. Best is trial 9 with value: 0.7356321839080461.\n",
      "[I 2025-02-27 14:50:35,744] Trial 13 finished with value: 0.7095598542192318 and parameters: {'k': 35}. Best is trial 9 with value: 0.7356321839080461.\n",
      "[I 2025-02-27 14:50:35,751] Trial 14 finished with value: 0.7282029716848892 and parameters: {'k': 19}. Best is trial 9 with value: 0.7356321839080461.\n",
      "[I 2025-02-27 14:50:35,757] Trial 15 finished with value: 0.7527333894028596 and parameters: {'k': 8}. Best is trial 15 with value: 0.7527333894028596.\n",
      "[I 2025-02-27 14:50:35,764] Trial 16 finished with value: 0.7295346229324362 and parameters: {'k': 15}. Best is trial 15 with value: 0.7527333894028596.\n",
      "[I 2025-02-27 14:50:35,772] Trial 17 finished with value: 0.7088589851415756 and parameters: {'k': 46}. Best is trial 15 with value: 0.7527333894028596.\n",
      "[I 2025-02-27 14:50:35,779] Trial 18 finished with value: 0.7118727221754976 and parameters: {'k': 49}. Best is trial 15 with value: 0.7527333894028596.\n",
      "[I 2025-02-27 14:50:35,787] Trial 19 finished with value: 0.7083683767872161 and parameters: {'k': 30}. Best is trial 15 with value: 0.7527333894028596.\n",
      "[I 2025-02-27 14:50:35,794] Trial 20 finished with value: 0.7261704513596859 and parameters: {'k': 16}. Best is trial 15 with value: 0.7527333894028596.\n",
      "[I 2025-02-27 14:50:35,802] Trial 21 finished with value: 0.7094897673114662 and parameters: {'k': 31}. Best is trial 15 with value: 0.7527333894028596.\n",
      "[I 2025-02-27 14:50:35,810] Trial 22 finished with value: 0.7073871600784974 and parameters: {'k': 33}. Best is trial 15 with value: 0.7527333894028596.\n",
      "[I 2025-02-27 14:50:35,818] Trial 23 finished with value: 0.7241379310344827 and parameters: {'k': 17}. Best is trial 15 with value: 0.7527333894028596.\n",
      "[I 2025-02-27 14:50:35,826] Trial 24 finished with value: 0.7084384636949818 and parameters: {'k': 43}. Best is trial 15 with value: 0.7527333894028596.\n",
      "[I 2025-02-27 14:50:35,834] Trial 25 finished with value: 0.7211942809083263 and parameters: {'k': 21}. Best is trial 15 with value: 0.7527333894028596.\n",
      "[I 2025-02-27 14:50:35,843] Trial 26 finished with value: 0.7109615923745444 and parameters: {'k': 44}. Best is trial 15 with value: 0.7527333894028596.\n",
      "[I 2025-02-27 14:50:35,851] Trial 27 finished with value: 0.757569386038688 and parameters: {'k': 9}. Best is trial 27 with value: 0.757569386038688.\n",
      "[I 2025-02-27 14:50:35,860] Trial 28 finished with value: 0.7436220913933278 and parameters: {'k': 14}. Best is trial 27 with value: 0.757569386038688.\n",
      "[I 2025-02-27 14:50:35,868] Trial 29 finished with value: 0.7119428090832631 and parameters: {'k': 26}. Best is trial 27 with value: 0.757569386038688.\n",
      "[I 2025-02-27 14:50:35,877] Trial 30 finished with value: 0.7497897392767031 and parameters: {'k': 6}. Best is trial 27 with value: 0.757569386038688.\n",
      "[I 2025-02-27 14:50:35,886] Trial 31 finished with value: 0.7234370619568266 and parameters: {'k': 18}. Best is trial 27 with value: 0.757569386038688.\n",
      "[I 2025-02-27 14:50:35,898] Trial 32 finished with value: 0.7120829828987946 and parameters: {'k': 41}. Best is trial 27 with value: 0.757569386038688.\n",
      "[I 2025-02-27 14:50:35,908] Trial 33 finished with value: 0.7090692458648723 and parameters: {'k': 50}. Best is trial 27 with value: 0.757569386038688.\n",
      "[I 2025-02-27 14:50:35,916] Trial 34 finished with value: 0.7119428090832631 and parameters: {'k': 2}. Best is trial 27 with value: 0.757569386038688.\n",
      "[I 2025-02-27 14:50:35,925] Trial 35 finished with value: 0.7387860947574993 and parameters: {'k': 13}. Best is trial 27 with value: 0.757569386038688.\n",
      "[I 2025-02-27 14:50:35,935] Trial 36 finished with value: 0.7087888982338099 and parameters: {'k': 38}. Best is trial 27 with value: 0.757569386038688.\n",
      "[I 2025-02-27 14:50:35,944] Trial 37 finished with value: 0.7120829828987946 and parameters: {'k': 25}. Best is trial 27 with value: 0.757569386038688.\n",
      "[I 2025-02-27 14:50:35,954] Trial 38 finished with value: 0.7564479955144378 and parameters: {'k': 7}. Best is trial 27 with value: 0.757569386038688.\n",
      "[I 2025-02-27 14:50:35,963] Trial 39 finished with value: 0.7228062797869358 and parameters: {'k': 24}. Best is trial 27 with value: 0.757569386038688.\n",
      "[I 2025-02-27 14:50:35,973] Trial 40 finished with value: 0.715587328287076 and parameters: {'k': 37}. Best is trial 27 with value: 0.757569386038688.\n",
      "[I 2025-02-27 14:50:35,983] Trial 41 finished with value: 0.7282029716848892 and parameters: {'k': 22}. Best is trial 27 with value: 0.757569386038688.\n",
      "[I 2025-02-27 14:50:35,993] Trial 42 finished with value: 0.7277123633305298 and parameters: {'k': 20}. Best is trial 27 with value: 0.757569386038688.\n",
      "[I 2025-02-27 14:50:36,003] Trial 43 finished with value: 0.7357022708158116 and parameters: {'k': 10}. Best is trial 27 with value: 0.757569386038688.\n",
      "[I 2025-02-27 14:50:36,014] Trial 44 finished with value: 0.7174095878889823 and parameters: {'k': 40}. Best is trial 27 with value: 0.757569386038688.\n",
      "[I 2025-02-27 14:50:36,025] Trial 45 finished with value: 0.7138351555929352 and parameters: {'k': 47}. Best is trial 27 with value: 0.757569386038688.\n",
      "[I 2025-02-27 14:50:36,036] Trial 46 finished with value: 0.6982758620689655 and parameters: {'k': 4}. Best is trial 27 with value: 0.757569386038688.\n",
      "[I 2025-02-27 14:50:36,046] Trial 47 finished with value: 0.6044294925707878 and parameters: {'k': 1}. Best is trial 27 with value: 0.757569386038688.\n",
      "[I 2025-02-27 14:50:36,057] Trial 48 finished with value: 0.7094897673114661 and parameters: {'k': 48}. Best is trial 27 with value: 0.757569386038688.\n",
      "[I 2025-02-27 14:50:36,069] Trial 49 finished with value: 0.7104008971124195 and parameters: {'k': 45}. Best is trial 27 with value: 0.757569386038688.\n",
      "[I 2025-02-27 14:50:36,076] A new study created in memory with name: no-name-6eef4f7b-6177-4e4f-b882-20c9c85ca0c4\n",
      "[I 2025-02-27 14:50:36,081] Trial 0 finished with value: 0.703111858704794 and parameters: {'k': 29}. Best is trial 0 with value: 0.703111858704794.\n",
      "[I 2025-02-27 14:50:36,086] Trial 1 finished with value: 0.700658816932997 and parameters: {'k': 12}. Best is trial 0 with value: 0.703111858704794.\n",
      "[I 2025-02-27 14:50:36,090] Trial 2 finished with value: 0.7046537706756377 and parameters: {'k': 11}. Best is trial 2 with value: 0.7046537706756377.\n",
      "[I 2025-02-27 14:50:36,096] Trial 3 finished with value: 0.6930894308943089 and parameters: {'k': 42}. Best is trial 2 with value: 0.7046537706756377.\n",
      "[I 2025-02-27 14:50:36,101] Trial 4 finished with value: 0.6517381553125876 and parameters: {'k': 3}. Best is trial 2 with value: 0.7046537706756377.\n",
      "[I 2025-02-27 14:50:36,106] Trial 5 finished with value: 0.7009391645640594 and parameters: {'k': 28}. Best is trial 2 with value: 0.7046537706756377.\n",
      "[I 2025-02-27 14:50:36,111] Trial 6 finished with value: 0.7039529015979816 and parameters: {'k': 39}. Best is trial 2 with value: 0.7046537706756377.\n",
      "[I 2025-02-27 14:50:36,117] Trial 7 finished with value: 0.7005887300252313 and parameters: {'k': 32}. Best is trial 2 with value: 0.7046537706756377.\n",
      "[I 2025-02-27 14:50:36,123] Trial 8 finished with value: 0.7081581160639193 and parameters: {'k': 23}. Best is trial 8 with value: 0.7081581160639193.\n",
      "[I 2025-02-27 14:50:36,128] Trial 9 finished with value: 0.6672273619287916 and parameters: {'k': 5}. Best is trial 8 with value: 0.7081581160639193.\n",
      "[I 2025-02-27 14:50:36,134] Trial 10 finished with value: 0.7057050742921224 and parameters: {'k': 34}. Best is trial 8 with value: 0.7081581160639193.\n",
      "[I 2025-02-27 14:50:36,141] Trial 11 finished with value: 0.705564900476591 and parameters: {'k': 36}. Best is trial 8 with value: 0.7081581160639193.\n",
      "[I 2025-02-27 14:50:36,147] Trial 12 finished with value: 0.7015699467339501 and parameters: {'k': 27}. Best is trial 8 with value: 0.7081581160639193.\n",
      "[I 2025-02-27 14:50:36,153] Trial 13 finished with value: 0.7029716848892628 and parameters: {'k': 35}. Best is trial 8 with value: 0.7081581160639193.\n",
      "[I 2025-02-27 14:50:36,160] Trial 14 finished with value: 0.7168488926268572 and parameters: {'k': 19}. Best is trial 14 with value: 0.7168488926268572.\n",
      "[I 2025-02-27 14:50:36,168] Trial 15 finished with value: 0.7035323801513876 and parameters: {'k': 8}. Best is trial 14 with value: 0.7168488926268572.\n",
      "[I 2025-02-27 14:50:36,176] Trial 16 finished with value: 0.6954723857583404 and parameters: {'k': 15}. Best is trial 14 with value: 0.7168488926268572.\n",
      "[I 2025-02-27 14:50:36,183] Trial 17 finished with value: 0.691197084384637 and parameters: {'k': 46}. Best is trial 14 with value: 0.7168488926268572.\n",
      "[I 2025-02-27 14:50:36,190] Trial 18 finished with value: 0.6926689094477152 and parameters: {'k': 49}. Best is trial 14 with value: 0.7168488926268572.\n",
      "[I 2025-02-27 14:50:36,198] Trial 19 finished with value: 0.6972946453602468 and parameters: {'k': 30}. Best is trial 14 with value: 0.7168488926268572.\n",
      "[I 2025-02-27 14:50:36,205] Trial 20 finished with value: 0.6942809083263246 and parameters: {'k': 16}. Best is trial 14 with value: 0.7168488926268572.\n",
      "[I 2025-02-27 14:50:36,212] Trial 21 finished with value: 0.6991869918699186 and parameters: {'k': 31}. Best is trial 14 with value: 0.7168488926268572.\n",
      "[I 2025-02-27 14:50:36,220] Trial 22 finished with value: 0.7030417717970283 and parameters: {'k': 33}. Best is trial 14 with value: 0.7168488926268572.\n",
      "[I 2025-02-27 14:50:36,227] Trial 23 finished with value: 0.7087188113260444 and parameters: {'k': 17}. Best is trial 14 with value: 0.7168488926268572.\n",
      "[I 2025-02-27 14:50:36,235] Trial 24 finished with value: 0.6968741239136529 and parameters: {'k': 43}. Best is trial 14 with value: 0.7168488926268572.\n",
      "[I 2025-02-27 14:50:36,243] Trial 25 finished with value: 0.7134847210541071 and parameters: {'k': 21}. Best is trial 14 with value: 0.7168488926268572.\n",
      "[I 2025-02-27 14:50:36,251] Trial 26 finished with value: 0.6959629941126999 and parameters: {'k': 44}. Best is trial 14 with value: 0.7168488926268572.\n",
      "[I 2025-02-27 14:50:36,259] Trial 27 finished with value: 0.7224558452481076 and parameters: {'k': 9}. Best is trial 27 with value: 0.7224558452481076.\n",
      "[I 2025-02-27 14:50:36,267] Trial 28 finished with value: 0.6970142977291842 and parameters: {'k': 14}. Best is trial 27 with value: 0.7224558452481076.\n",
      "[I 2025-02-27 14:50:36,276] Trial 29 finished with value: 0.697434819175778 and parameters: {'k': 26}. Best is trial 27 with value: 0.7224558452481076.\n",
      "[I 2025-02-27 14:50:36,284] Trial 30 finished with value: 0.6908466498458088 and parameters: {'k': 6}. Best is trial 27 with value: 0.7224558452481076.\n",
      "[I 2025-02-27 14:50:36,293] Trial 31 finished with value: 0.7129941126997477 and parameters: {'k': 18}. Best is trial 27 with value: 0.7224558452481076.\n",
      "[I 2025-02-27 14:50:36,302] Trial 32 finished with value: 0.6937902999719652 and parameters: {'k': 41}. Best is trial 27 with value: 0.7224558452481076.\n",
      "[I 2025-02-27 14:50:36,311] Trial 33 finished with value: 0.6864311746565741 and parameters: {'k': 50}. Best is trial 27 with value: 0.7224558452481076.\n",
      "[I 2025-02-27 14:50:36,320] Trial 34 finished with value: 0.6275581721334454 and parameters: {'k': 2}. Best is trial 27 with value: 0.7224558452481076.\n",
      "[I 2025-02-27 14:50:36,329] Trial 35 finished with value: 0.6989066442388563 and parameters: {'k': 13}. Best is trial 27 with value: 0.7224558452481076.\n",
      "[I 2025-02-27 14:50:36,338] Trial 36 finished with value: 0.7034622932436221 and parameters: {'k': 38}. Best is trial 27 with value: 0.7224558452481076.\n",
      "[I 2025-02-27 14:50:36,348] Trial 37 finished with value: 0.7071068124474349 and parameters: {'k': 25}. Best is trial 27 with value: 0.7224558452481076.\n",
      "[I 2025-02-27 14:50:36,357] Trial 38 finished with value: 0.6967339500981218 and parameters: {'k': 7}. Best is trial 27 with value: 0.7224558452481076.\n",
      "[I 2025-02-27 14:50:36,367] Trial 39 finished with value: 0.7115222876366695 and parameters: {'k': 24}. Best is trial 27 with value: 0.7224558452481076.\n",
      "[I 2025-02-27 14:50:36,377] Trial 40 finished with value: 0.703111858704794 and parameters: {'k': 37}. Best is trial 27 with value: 0.7224558452481076.\n",
      "[I 2025-02-27 14:50:36,387] Trial 41 finished with value: 0.7056349873843566 and parameters: {'k': 22}. Best is trial 27 with value: 0.7224558452481076.\n",
      "[I 2025-02-27 14:50:36,397] Trial 42 finished with value: 0.7196523689374825 and parameters: {'k': 20}. Best is trial 27 with value: 0.7224558452481076.\n",
      "[I 2025-02-27 14:50:36,407] Trial 43 finished with value: 0.7200028034763107 and parameters: {'k': 10}. Best is trial 27 with value: 0.7224558452481076.\n",
      "[I 2025-02-27 14:50:36,417] Trial 44 finished with value: 0.6981356882534343 and parameters: {'k': 40}. Best is trial 27 with value: 0.7224558452481076.\n",
      "[I 2025-02-27 14:50:36,428] Trial 45 finished with value: 0.6914073451079338 and parameters: {'k': 47}. Best is trial 27 with value: 0.7224558452481076.\n",
      "[I 2025-02-27 14:50:36,439] Trial 46 finished with value: 0.6686291000841043 and parameters: {'k': 4}. Best is trial 27 with value: 0.7224558452481076.\n",
      "[I 2025-02-27 14:50:36,449] Trial 47 finished with value: 0.6331651247546959 and parameters: {'k': 1}. Best is trial 27 with value: 0.7224558452481076.\n",
      "[I 2025-02-27 14:50:36,460] Trial 48 finished with value: 0.6888141295206055 and parameters: {'k': 48}. Best is trial 27 with value: 0.7224558452481076.\n",
      "[I 2025-02-27 14:50:36,471] Trial 49 finished with value: 0.6914774320156994 and parameters: {'k': 45}. Best is trial 27 with value: 0.7224558452481076.\n",
      "[I 2025-02-27 14:50:36,480] A new study created in memory with name: no-name-e6781680-9b53-4a32-83c5-3782a2557ab1\n",
      "[I 2025-02-27 14:50:36,485] Trial 0 finished with value: 0.5899215026633026 and parameters: {'k': 29}. Best is trial 0 with value: 0.5899215026633026.\n",
      "[I 2025-02-27 14:50:36,490] Trial 1 finished with value: 0.5852256798430054 and parameters: {'k': 12}. Best is trial 0 with value: 0.5899215026633026.\n",
      "[I 2025-02-27 14:50:36,495] Trial 2 finished with value: 0.5830529857022708 and parameters: {'k': 11}. Best is trial 0 with value: 0.5899215026633026.\n",
      "[I 2025-02-27 14:50:36,500] Trial 3 finished with value: 0.612349313148304 and parameters: {'k': 42}. Best is trial 3 with value: 0.612349313148304.\n",
      "[I 2025-02-27 14:50:36,505] Trial 4 finished with value: 0.5615363050182226 and parameters: {'k': 3}. Best is trial 3 with value: 0.612349313148304.\n",
      "[I 2025-02-27 14:50:36,510] Trial 5 finished with value: 0.5878188954303337 and parameters: {'k': 28}. Best is trial 3 with value: 0.612349313148304.\n",
      "[I 2025-02-27 14:50:36,516] Trial 6 finished with value: 0.6103868797308662 and parameters: {'k': 39}. Best is trial 3 with value: 0.612349313148304.\n",
      "[I 2025-02-27 14:50:36,522] Trial 7 finished with value: 0.5981917577796467 and parameters: {'k': 32}. Best is trial 3 with value: 0.612349313148304.\n",
      "[I 2025-02-27 14:50:36,527] Trial 8 finished with value: 0.5888001121390525 and parameters: {'k': 23}. Best is trial 3 with value: 0.612349313148304.\n",
      "[I 2025-02-27 14:50:36,533] Trial 9 finished with value: 0.5837538547799271 and parameters: {'k': 5}. Best is trial 3 with value: 0.612349313148304.\n",
      "[I 2025-02-27 14:50:36,539] Trial 10 finished with value: 0.6040790580319596 and parameters: {'k': 34}. Best is trial 3 with value: 0.612349313148304.\n",
      "[I 2025-02-27 14:50:36,545] Trial 11 finished with value: 0.6091954022988505 and parameters: {'k': 36}. Best is trial 3 with value: 0.612349313148304.\n",
      "[I 2025-02-27 14:50:36,551] Trial 12 finished with value: 0.5869778525371461 and parameters: {'k': 27}. Best is trial 3 with value: 0.612349313148304.\n",
      "[I 2025-02-27 14:50:36,558] Trial 13 finished with value: 0.6092654892066163 and parameters: {'k': 35}. Best is trial 3 with value: 0.612349313148304.\n",
      "[I 2025-02-27 14:50:36,564] Trial 14 finished with value: 0.6033081020465377 and parameters: {'k': 19}. Best is trial 3 with value: 0.612349313148304.\n",
      "[I 2025-02-27 14:50:36,571] Trial 15 finished with value: 0.5673535183627699 and parameters: {'k': 8}. Best is trial 3 with value: 0.612349313148304.\n",
      "[I 2025-02-27 14:50:36,577] Trial 16 finished with value: 0.5981917577796468 and parameters: {'k': 15}. Best is trial 3 with value: 0.612349313148304.\n",
      "[I 2025-02-27 14:50:36,584] Trial 17 finished with value: 0.6109475749929913 and parameters: {'k': 46}. Best is trial 3 with value: 0.612349313148304.\n",
      "[I 2025-02-27 14:50:36,592] Trial 18 finished with value: 0.6158536585365855 and parameters: {'k': 49}. Best is trial 18 with value: 0.6158536585365855.\n",
      "[I 2025-02-27 14:50:36,599] Trial 19 finished with value: 0.5930754135127558 and parameters: {'k': 30}. Best is trial 18 with value: 0.6158536585365855.\n",
      "[I 2025-02-27 14:50:36,606] Trial 20 finished with value: 0.5938463694981778 and parameters: {'k': 16}. Best is trial 18 with value: 0.6158536585365855.\n",
      "[I 2025-02-27 14:50:36,613] Trial 21 finished with value: 0.5946173254835997 and parameters: {'k': 31}. Best is trial 18 with value: 0.6158536585365855.\n",
      "[I 2025-02-27 14:50:36,621] Trial 22 finished with value: 0.5962994112699748 and parameters: {'k': 33}. Best is trial 18 with value: 0.6158536585365855.\n",
      "[I 2025-02-27 14:50:36,629] Trial 23 finished with value: 0.6038687973086627 and parameters: {'k': 17}. Best is trial 18 with value: 0.6158536585365855.\n",
      "[I 2025-02-27 14:50:36,637] Trial 24 finished with value: 0.6091954022988506 and parameters: {'k': 43}. Best is trial 18 with value: 0.6158536585365855.\n",
      "[I 2025-02-27 14:50:36,645] Trial 25 finished with value: 0.5927249789739277 and parameters: {'k': 21}. Best is trial 18 with value: 0.6158536585365855.\n",
      "[I 2025-02-27 14:50:36,653] Trial 26 finished with value: 0.6145220072890384 and parameters: {'k': 44}. Best is trial 18 with value: 0.6158536585365855.\n",
      "[I 2025-02-27 14:50:36,661] Trial 27 finished with value: 0.5886599383235213 and parameters: {'k': 9}. Best is trial 18 with value: 0.6158536585365855.\n",
      "[I 2025-02-27 14:50:36,669] Trial 28 finished with value: 0.6070927950658818 and parameters: {'k': 14}. Best is trial 18 with value: 0.6158536585365855.\n",
      "[I 2025-02-27 14:50:36,677] Trial 29 finished with value: 0.5811606391925989 and parameters: {'k': 26}. Best is trial 18 with value: 0.6158536585365855.\n",
      "[I 2025-02-27 14:50:36,686] Trial 30 finished with value: 0.5843846369498178 and parameters: {'k': 6}. Best is trial 18 with value: 0.6158536585365855.\n",
      "[I 2025-02-27 14:50:36,694] Trial 31 finished with value: 0.6063218390804598 and parameters: {'k': 18}. Best is trial 18 with value: 0.6158536585365855.\n",
      "[I 2025-02-27 14:50:36,703] Trial 32 finished with value: 0.6105270535463976 and parameters: {'k': 41}. Best is trial 18 with value: 0.6158536585365855.\n",
      "[I 2025-02-27 14:50:36,713] Trial 33 finished with value: 0.6187973086627419 and parameters: {'k': 50}. Best is trial 33 with value: 0.6187973086627419.\n",
      "[I 2025-02-27 14:50:36,721] Trial 34 finished with value: 0.5574712643678161 and parameters: {'k': 2}. Best is trial 33 with value: 0.6187973086627419.\n",
      "[I 2025-02-27 14:50:36,730] Trial 35 finished with value: 0.605901317633866 and parameters: {'k': 13}. Best is trial 33 with value: 0.6187973086627419.\n",
      "[I 2025-02-27 14:50:36,740] Trial 36 finished with value: 0.6089851415755536 and parameters: {'k': 38}. Best is trial 33 with value: 0.6187973086627419.\n",
      "[I 2025-02-27 14:50:36,750] Trial 37 finished with value: 0.5796888141295207 and parameters: {'k': 25}. Best is trial 33 with value: 0.6187973086627419.\n",
      "[I 2025-02-27 14:50:36,759] Trial 38 finished with value: 0.5885197645079899 and parameters: {'k': 7}. Best is trial 33 with value: 0.6187973086627419.\n",
      "[I 2025-02-27 14:50:36,769] Trial 39 finished with value: 0.5851555929352397 and parameters: {'k': 24}. Best is trial 33 with value: 0.6187973086627419.\n",
      "[I 2025-02-27 14:50:36,779] Trial 40 finished with value: 0.6099663582842725 and parameters: {'k': 37}. Best is trial 33 with value: 0.6187973086627419.\n",
      "[I 2025-02-27 14:50:36,789] Trial 41 finished with value: 0.5941267171292403 and parameters: {'k': 22}. Best is trial 33 with value: 0.6187973086627419.\n",
      "[I 2025-02-27 14:50:36,799] Trial 42 finished with value: 0.5963694981777404 and parameters: {'k': 20}. Best is trial 33 with value: 0.6187973086627419.\n",
      "[I 2025-02-27 14:50:36,809] Trial 43 finished with value: 0.5824222035323803 and parameters: {'k': 10}. Best is trial 33 with value: 0.6187973086627419.\n",
      "[I 2025-02-27 14:50:36,819] Trial 44 finished with value: 0.6127698345948978 and parameters: {'k': 40}. Best is trial 33 with value: 0.6187973086627419.\n",
      "[I 2025-02-27 14:50:36,830] Trial 45 finished with value: 0.6068124474348191 and parameters: {'k': 47}. Best is trial 33 with value: 0.6187973086627419.\n",
      "[I 2025-02-27 14:50:36,841] Trial 46 finished with value: 0.5457667507709559 and parameters: {'k': 4}. Best is trial 33 with value: 0.6187973086627419.\n",
      "[I 2025-02-27 14:50:36,851] Trial 47 finished with value: 0.5258620689655172 and parameters: {'k': 1}. Best is trial 33 with value: 0.6187973086627419.\n",
      "[I 2025-02-27 14:50:36,862] Trial 48 finished with value: 0.6117185309784132 and parameters: {'k': 48}. Best is trial 33 with value: 0.6187973086627419.\n",
      "[I 2025-02-27 14:50:36,874] Trial 49 finished with value: 0.6138211382113822 and parameters: {'k': 45}. Best is trial 33 with value: 0.6187973086627419.\n",
      "[I 2025-02-27 14:50:36,882] A new study created in memory with name: no-name-cbe26e80-d514-41f9-b82e-21e9b502296c\n",
      "[I 2025-02-27 14:50:36,887] Trial 0 finished with value: 0.7799271096159238 and parameters: {'k': 29}. Best is trial 0 with value: 0.7799271096159238.\n",
      "[I 2025-02-27 14:50:36,892] Trial 1 finished with value: 0.7971684889262686 and parameters: {'k': 12}. Best is trial 1 with value: 0.7971684889262686.\n",
      "[I 2025-02-27 14:50:36,897] Trial 2 finished with value: 0.7977291841883936 and parameters: {'k': 11}. Best is trial 2 with value: 0.7977291841883936.\n",
      "[I 2025-02-27 14:50:36,903] Trial 3 finished with value: 0.7781048500140174 and parameters: {'k': 42}. Best is trial 2 with value: 0.7977291841883936.\n",
      "[I 2025-02-27 14:50:36,908] Trial 4 finished with value: 0.7759321558732829 and parameters: {'k': 3}. Best is trial 2 with value: 0.7977291841883936.\n",
      "[I 2025-02-27 14:50:36,913] Trial 5 finished with value: 0.7848331931595178 and parameters: {'k': 28}. Best is trial 2 with value: 0.7977291841883936.\n",
      "[I 2025-02-27 14:50:36,919] Trial 6 finished with value: 0.7724278104850014 and parameters: {'k': 39}. Best is trial 2 with value: 0.7977291841883936.\n",
      "[I 2025-02-27 14:50:36,925] Trial 7 finished with value: 0.7738996355480795 and parameters: {'k': 32}. Best is trial 2 with value: 0.7977291841883936.\n",
      "[I 2025-02-27 14:50:36,931] Trial 8 finished with value: 0.7940145780768152 and parameters: {'k': 23}. Best is trial 2 with value: 0.7977291841883936.\n",
      "[I 2025-02-27 14:50:36,937] Trial 9 finished with value: 0.8003223997757218 and parameters: {'k': 5}. Best is trial 9 with value: 0.8003223997757218.\n",
      "[I 2025-02-27 14:50:36,944] Trial 10 finished with value: 0.775301373703392 and parameters: {'k': 34}. Best is trial 9 with value: 0.8003223997757218.\n",
      "[I 2025-02-27 14:50:36,950] Trial 11 finished with value: 0.7806980656013458 and parameters: {'k': 36}. Best is trial 9 with value: 0.8003223997757218.\n",
      "[I 2025-02-27 14:50:36,957] Trial 12 finished with value: 0.7891084945332212 and parameters: {'k': 27}. Best is trial 9 with value: 0.8003223997757218.\n",
      "[I 2025-02-27 14:50:36,964] Trial 13 finished with value: 0.7797168488926268 and parameters: {'k': 35}. Best is trial 9 with value: 0.8003223997757218.\n",
      "[I 2025-02-27 14:50:36,970] Trial 14 finished with value: 0.7901597981497056 and parameters: {'k': 19}. Best is trial 9 with value: 0.8003223997757218.\n",
      "[I 2025-02-27 14:50:36,977] Trial 15 finished with value: 0.8235211662461452 and parameters: {'k': 8}. Best is trial 15 with value: 0.8235211662461452.\n",
      "[I 2025-02-27 14:50:36,984] Trial 16 finished with value: 0.79121110176619 and parameters: {'k': 15}. Best is trial 15 with value: 0.8235211662461452.\n",
      "[I 2025-02-27 14:50:36,992] Trial 17 finished with value: 0.7825203252032521 and parameters: {'k': 46}. Best is trial 15 with value: 0.8235211662461452.\n",
      "[I 2025-02-27 14:50:36,999] Trial 18 finished with value: 0.7806980656013458 and parameters: {'k': 49}. Best is trial 15 with value: 0.8235211662461452.\n",
      "[I 2025-02-27 14:50:37,007] Trial 19 finished with value: 0.7824502382954864 and parameters: {'k': 30}. Best is trial 15 with value: 0.8235211662461452.\n",
      "[I 2025-02-27 14:50:37,015] Trial 20 finished with value: 0.7921222315671432 and parameters: {'k': 16}. Best is trial 15 with value: 0.8235211662461452.\n",
      "[I 2025-02-27 14:50:37,022] Trial 21 finished with value: 0.7750210260723298 and parameters: {'k': 31}. Best is trial 15 with value: 0.8235211662461452.\n",
      "[I 2025-02-27 14:50:37,033] Trial 22 finished with value: 0.7752312867956267 and parameters: {'k': 33}. Best is trial 15 with value: 0.8235211662461452.\n",
      "[I 2025-02-27 14:50:37,041] Trial 23 finished with value: 0.7886178861788617 and parameters: {'k': 17}. Best is trial 15 with value: 0.8235211662461452.\n",
      "[I 2025-02-27 14:50:37,050] Trial 24 finished with value: 0.7746005046257358 and parameters: {'k': 43}. Best is trial 15 with value: 0.8235211662461452.\n",
      "[I 2025-02-27 14:50:37,058] Trial 25 finished with value: 0.78896832071769 and parameters: {'k': 21}. Best is trial 15 with value: 0.8235211662461452.\n",
      "[I 2025-02-27 14:50:37,067] Trial 26 finished with value: 0.7854639753294085 and parameters: {'k': 44}. Best is trial 15 with value: 0.8235211662461452.\n",
      "[I 2025-02-27 14:50:37,075] Trial 27 finished with value: 0.8209980375665825 and parameters: {'k': 9}. Best is trial 15 with value: 0.8235211662461452.\n",
      "[I 2025-02-27 14:50:37,084] Trial 28 finished with value: 0.7839220633585645 and parameters: {'k': 14}. Best is trial 15 with value: 0.8235211662461452.\n",
      "[I 2025-02-27 14:50:37,093] Trial 29 finished with value: 0.7931735351836278 and parameters: {'k': 26}. Best is trial 15 with value: 0.8235211662461452.\n",
      "[I 2025-02-27 14:50:37,102] Trial 30 finished with value: 0.805578917858144 and parameters: {'k': 6}. Best is trial 15 with value: 0.8235211662461452.\n",
      "[I 2025-02-27 14:50:37,111] Trial 31 finished with value: 0.7849032800672835 and parameters: {'k': 18}. Best is trial 15 with value: 0.8235211662461452.\n",
      "[I 2025-02-27 14:50:37,120] Trial 32 finished with value: 0.7785253714606111 and parameters: {'k': 41}. Best is trial 15 with value: 0.8235211662461452.\n",
      "[I 2025-02-27 14:50:37,130] Trial 33 finished with value: 0.7799271096159238 and parameters: {'k': 50}. Best is trial 15 with value: 0.8235211662461452.\n",
      "[I 2025-02-27 14:50:37,139] Trial 34 finished with value: 0.7416596579758901 and parameters: {'k': 2}. Best is trial 15 with value: 0.8235211662461452.\n",
      "[I 2025-02-27 14:50:37,149] Trial 35 finished with value: 0.7894589290720494 and parameters: {'k': 13}. Best is trial 15 with value: 0.8235211662461452.\n",
      "[I 2025-02-27 14:50:37,159] Trial 36 finished with value: 0.7750911129800954 and parameters: {'k': 38}. Best is trial 15 with value: 0.8235211662461452.\n",
      "[I 2025-02-27 14:50:37,169] Trial 37 finished with value: 0.7921222315671432 and parameters: {'k': 25}. Best is trial 15 with value: 0.8235211662461452.\n",
      "[I 2025-02-27 14:50:37,178] Trial 38 finished with value: 0.80901317633866 and parameters: {'k': 7}. Best is trial 15 with value: 0.8235211662461452.\n",
      "[I 2025-02-27 14:50:37,189] Trial 39 finished with value: 0.7905803195962996 and parameters: {'k': 24}. Best is trial 15 with value: 0.8235211662461452.\n",
      "[I 2025-02-27 14:50:37,199] Trial 40 finished with value: 0.7794365012615643 and parameters: {'k': 37}. Best is trial 15 with value: 0.8235211662461452.\n",
      "[I 2025-02-27 14:50:37,210] Trial 41 finished with value: 0.7875665825623773 and parameters: {'k': 22}. Best is trial 15 with value: 0.8235211662461452.\n",
      "[I 2025-02-27 14:50:37,220] Trial 42 finished with value: 0.7926128399215027 and parameters: {'k': 20}. Best is trial 15 with value: 0.8235211662461452.\n",
      "[I 2025-02-27 14:50:37,231] Trial 43 finished with value: 0.8031258760863471 and parameters: {'k': 10}. Best is trial 15 with value: 0.8235211662461452.\n",
      "[I 2025-02-27 14:50:37,242] Trial 44 finished with value: 0.7740398093636109 and parameters: {'k': 40}. Best is trial 15 with value: 0.8235211662461452.\n",
      "[I 2025-02-27 14:50:37,253] Trial 45 finished with value: 0.7814690215867677 and parameters: {'k': 47}. Best is trial 15 with value: 0.8235211662461452.\n",
      "[I 2025-02-27 14:50:37,264] Trial 46 finished with value: 0.7874964956546117 and parameters: {'k': 4}. Best is trial 15 with value: 0.8235211662461452.\n",
      "[I 2025-02-27 14:50:37,275] Trial 47 finished with value: 0.7038828146902159 and parameters: {'k': 1}. Best is trial 15 with value: 0.8235211662461452.\n",
      "[I 2025-02-27 14:50:37,286] Trial 48 finished with value: 0.7801373703392206 and parameters: {'k': 48}. Best is trial 15 with value: 0.8235211662461452.\n",
      "[I 2025-02-27 14:50:37,298] Trial 49 finished with value: 0.7862349313148304 and parameters: {'k': 45}. Best is trial 15 with value: 0.8235211662461452.\n",
      "[I 2025-02-27 14:50:37,307] A new study created in memory with name: no-name-ae938975-2a0a-4343-90d0-0faf8605bfd5\n",
      "[I 2025-02-27 14:50:37,317] Trial 0 finished with value: 0.5416316232127838 and parameters: {'k': 29}. Best is trial 0 with value: 0.5416316232127838.\n",
      "[I 2025-02-27 14:50:37,325] Trial 1 finished with value: 0.5294365012615644 and parameters: {'k': 12}. Best is trial 0 with value: 0.5416316232127838.\n",
      "[I 2025-02-27 14:50:37,333] Trial 2 finished with value: 0.5019624334174376 and parameters: {'k': 11}. Best is trial 0 with value: 0.5416316232127838.\n",
      "[I 2025-02-27 14:50:37,342] Trial 3 finished with value: 0.555228483319316 and parameters: {'k': 42}. Best is trial 3 with value: 0.555228483319316.\n",
      "[I 2025-02-27 14:50:37,349] Trial 4 finished with value: 0.5442949257078777 and parameters: {'k': 3}. Best is trial 3 with value: 0.555228483319316.\n",
      "[I 2025-02-27 14:50:37,357] Trial 5 finished with value: 0.5546677880571909 and parameters: {'k': 28}. Best is trial 3 with value: 0.555228483319316.\n",
      "[I 2025-02-27 14:50:37,366] Trial 6 finished with value: 0.5866274179983179 and parameters: {'k': 39}. Best is trial 6 with value: 0.5866274179983179.\n",
      "[I 2025-02-27 14:50:37,374] Trial 7 finished with value: 0.5475890103728623 and parameters: {'k': 32}. Best is trial 6 with value: 0.5866274179983179.\n",
      "[I 2025-02-27 14:50:37,383] Trial 8 finished with value: 0.5704373423044575 and parameters: {'k': 23}. Best is trial 6 with value: 0.5866274179983179.\n",
      "[I 2025-02-27 14:50:37,391] Trial 9 finished with value: 0.5018222596019064 and parameters: {'k': 5}. Best is trial 6 with value: 0.5866274179983179.\n",
      "[I 2025-02-27 14:50:37,400] Trial 10 finished with value: 0.5444350995234091 and parameters: {'k': 34}. Best is trial 6 with value: 0.5866274179983179.\n",
      "[I 2025-02-27 14:50:37,409] Trial 11 finished with value: 0.563148303896832 and parameters: {'k': 36}. Best is trial 6 with value: 0.5866274179983179.\n",
      "[I 2025-02-27 14:50:37,418] Trial 12 finished with value: 0.5611157835716287 and parameters: {'k': 27}. Best is trial 6 with value: 0.5866274179983179.\n",
      "[I 2025-02-27 14:50:37,428] Trial 13 finished with value: 0.54008971124194 and parameters: {'k': 35}. Best is trial 6 with value: 0.5866274179983179.\n",
      "[I 2025-02-27 14:50:37,437] Trial 14 finished with value: 0.5426829268292683 and parameters: {'k': 19}. Best is trial 6 with value: 0.5866274179983179.\n",
      "[I 2025-02-27 14:50:37,446] Trial 15 finished with value: 0.49747687132043733 and parameters: {'k': 8}. Best is trial 6 with value: 0.5866274179983179.\n",
      "[I 2025-02-27 14:50:37,455] Trial 16 finished with value: 0.5280347631062517 and parameters: {'k': 15}. Best is trial 6 with value: 0.5866274179983179.\n",
      "[I 2025-02-27 14:50:37,465] Trial 17 finished with value: 0.5876086347070367 and parameters: {'k': 46}. Best is trial 17 with value: 0.5876086347070367.\n",
      "[I 2025-02-27 14:50:37,475] Trial 18 finished with value: 0.6023268853378189 and parameters: {'k': 49}. Best is trial 18 with value: 0.6023268853378189.\n",
      "[I 2025-02-27 14:50:37,485] Trial 19 finished with value: 0.54008971124194 and parameters: {'k': 30}. Best is trial 18 with value: 0.6023268853378189.\n",
      "[I 2025-02-27 14:50:37,495] Trial 20 finished with value: 0.5128259041211101 and parameters: {'k': 16}. Best is trial 18 with value: 0.6023268853378189.\n",
      "[I 2025-02-27 14:50:37,506] Trial 21 finished with value: 0.5434538828146902 and parameters: {'k': 31}. Best is trial 18 with value: 0.6023268853378189.\n",
      "[I 2025-02-27 14:50:37,516] Trial 22 finished with value: 0.5603448275862069 and parameters: {'k': 33}. Best is trial 18 with value: 0.6023268853378189.\n",
      "[I 2025-02-27 14:50:37,526] Trial 23 finished with value: 0.5252312867956266 and parameters: {'k': 17}. Best is trial 18 with value: 0.6023268853378189.\n",
      "[I 2025-02-27 14:50:37,537] Trial 24 finished with value: 0.5605550883095038 and parameters: {'k': 43}. Best is trial 18 with value: 0.6023268853378189.\n",
      "[I 2025-02-27 14:50:37,548] Trial 25 finished with value: 0.560905522848332 and parameters: {'k': 21}. Best is trial 18 with value: 0.6023268853378189.\n",
      "[I 2025-02-27 14:50:37,559] Trial 26 finished with value: 0.57071768993552 and parameters: {'k': 44}. Best is trial 18 with value: 0.6023268853378189.\n",
      "[I 2025-02-27 14:50:37,570] Trial 27 finished with value: 0.49039809363610876 and parameters: {'k': 9}. Best is trial 18 with value: 0.6023268853378189.\n",
      "[I 2025-02-27 14:50:37,581] Trial 28 finished with value: 0.5366554527614242 and parameters: {'k': 14}. Best is trial 18 with value: 0.6023268853378189.\n",
      "[I 2025-02-27 14:50:37,593] Trial 29 finished with value: 0.556910569105691 and parameters: {'k': 26}. Best is trial 18 with value: 0.6023268853378189.\n",
      "[I 2025-02-27 14:50:37,604] Trial 30 finished with value: 0.49698626296607795 and parameters: {'k': 6}. Best is trial 18 with value: 0.6023268853378189.\n",
      "[I 2025-02-27 14:50:37,615] Trial 31 finished with value: 0.5335015419119709 and parameters: {'k': 18}. Best is trial 18 with value: 0.6023268853378189.\n",
      "[I 2025-02-27 14:50:37,627] Trial 32 finished with value: 0.5673535183627698 and parameters: {'k': 41}. Best is trial 18 with value: 0.6023268853378189.\n",
      "[I 2025-02-27 14:50:37,640] Trial 33 finished with value: 0.6030277544154753 and parameters: {'k': 50}. Best is trial 33 with value: 0.6030277544154753.\n",
      "[I 2025-02-27 14:50:37,652] Trial 34 finished with value: 0.5123352957667507 and parameters: {'k': 2}. Best is trial 33 with value: 0.6030277544154753.\n",
      "[I 2025-02-27 14:50:37,664] Trial 35 finished with value: 0.5489206616204093 and parameters: {'k': 13}. Best is trial 33 with value: 0.6030277544154753.\n",
      "[I 2025-02-27 14:50:37,676] Trial 36 finished with value: 0.5785674236052706 and parameters: {'k': 38}. Best is trial 33 with value: 0.6030277544154753.\n",
      "[I 2025-02-27 14:50:37,688] Trial 37 finished with value: 0.5696663863190357 and parameters: {'k': 25}. Best is trial 33 with value: 0.6030277544154753.\n",
      "[I 2025-02-27 14:50:37,701] Trial 38 finished with value: 0.5054667788057191 and parameters: {'k': 7}. Best is trial 33 with value: 0.6030277544154753.\n",
      "[I 2025-02-27 14:50:37,714] Trial 39 finished with value: 0.5733109055228482 and parameters: {'k': 24}. Best is trial 33 with value: 0.6030277544154753.\n",
      "[I 2025-02-27 14:50:37,727] Trial 40 finished with value: 0.56959629941127 and parameters: {'k': 37}. Best is trial 33 with value: 0.6030277544154753.\n",
      "[I 2025-02-27 14:50:37,740] Trial 41 finished with value: 0.57183908045977 and parameters: {'k': 22}. Best is trial 33 with value: 0.6030277544154753.\n",
      "[I 2025-02-27 14:50:37,753] Trial 42 finished with value: 0.5440846649845809 and parameters: {'k': 20}. Best is trial 33 with value: 0.6030277544154753.\n",
      "[I 2025-02-27 14:50:37,766] Trial 43 finished with value: 0.5014718250630782 and parameters: {'k': 10}. Best is trial 33 with value: 0.6030277544154753.\n",
      "[I 2025-02-27 14:50:37,779] Trial 44 finished with value: 0.5838239416876927 and parameters: {'k': 40}. Best is trial 33 with value: 0.6030277544154753.\n",
      "[I 2025-02-27 14:50:37,793] Trial 45 finished with value: 0.5997336697504906 and parameters: {'k': 47}. Best is trial 33 with value: 0.6030277544154753.\n",
      "[I 2025-02-27 14:50:37,807] Trial 46 finished with value: 0.48458088029156154 and parameters: {'k': 4}. Best is trial 33 with value: 0.6030277544154753.\n",
      "[I 2025-02-27 14:50:37,820] Trial 47 finished with value: 0.4903280067283431 and parameters: {'k': 1}. Best is trial 33 with value: 0.6030277544154753.\n",
      "[I 2025-02-27 14:50:37,834] Trial 48 finished with value: 0.6079338379590693 and parameters: {'k': 48}. Best is trial 48 with value: 0.6079338379590693.\n",
      "[I 2025-02-27 14:50:37,848] Trial 49 finished with value: 0.5855761143818334 and parameters: {'k': 45}. Best is trial 48 with value: 0.6079338379590693.\n",
      "[I 2025-02-27 14:50:37,859] A new study created in memory with name: no-name-8428a544-488f-41d9-b518-6c9662754e92\n",
      "[I 2025-02-27 14:50:37,864] Trial 0 finished with value: 0.6206896551724138 and parameters: {'k': 29}. Best is trial 0 with value: 0.6206896551724138.\n",
      "[I 2025-02-27 14:50:37,869] Trial 1 finished with value: 0.5787075974208017 and parameters: {'k': 12}. Best is trial 0 with value: 0.6206896551724138.\n",
      "[I 2025-02-27 14:50:37,874] Trial 2 finished with value: 0.5983319315951781 and parameters: {'k': 11}. Best is trial 0 with value: 0.6206896551724138.\n",
      "[I 2025-02-27 14:50:37,879] Trial 3 finished with value: 0.666035884496776 and parameters: {'k': 42}. Best is trial 3 with value: 0.666035884496776.\n",
      "[I 2025-02-27 14:50:37,884] Trial 4 finished with value: 0.6445192038127279 and parameters: {'k': 3}. Best is trial 3 with value: 0.666035884496776.\n",
      "[I 2025-02-27 14:50:37,889] Trial 5 finished with value: 0.6118587047939444 and parameters: {'k': 28}. Best is trial 3 with value: 0.666035884496776.\n",
      "[I 2025-02-27 14:50:37,895] Trial 6 finished with value: 0.6590972806279787 and parameters: {'k': 39}. Best is trial 3 with value: 0.666035884496776.\n",
      "[I 2025-02-27 14:50:37,901] Trial 7 finished with value: 0.6331651247546959 and parameters: {'k': 32}. Best is trial 3 with value: 0.666035884496776.\n",
      "[I 2025-02-27 14:50:37,906] Trial 8 finished with value: 0.6110877488085226 and parameters: {'k': 23}. Best is trial 3 with value: 0.666035884496776.\n",
      "[I 2025-02-27 14:50:37,912] Trial 9 finished with value: 0.6215306980656014 and parameters: {'k': 5}. Best is trial 3 with value: 0.666035884496776.\n",
      "[I 2025-02-27 14:50:37,918] Trial 10 finished with value: 0.6263666947014297 and parameters: {'k': 34}. Best is trial 3 with value: 0.666035884496776.\n",
      "[I 2025-02-27 14:50:37,924] Trial 11 finished with value: 0.647322680123353 and parameters: {'k': 36}. Best is trial 3 with value: 0.666035884496776.\n",
      "[I 2025-02-27 14:50:37,931] Trial 12 finished with value: 0.5995234090271937 and parameters: {'k': 27}. Best is trial 3 with value: 0.666035884496776.\n",
      "[I 2025-02-27 14:50:37,937] Trial 13 finished with value: 0.6365292963274461 and parameters: {'k': 35}. Best is trial 3 with value: 0.666035884496776.\n",
      "[I 2025-02-27 14:50:37,944] Trial 14 finished with value: 0.6021166246145221 and parameters: {'k': 19}. Best is trial 3 with value: 0.666035884496776.\n",
      "[I 2025-02-27 14:50:37,950] Trial 15 finished with value: 0.6204093075413513 and parameters: {'k': 8}. Best is trial 3 with value: 0.666035884496776.\n",
      "[I 2025-02-27 14:50:37,957] Trial 16 finished with value: 0.5999439304737875 and parameters: {'k': 15}. Best is trial 3 with value: 0.666035884496776.\n",
      "[I 2025-02-27 14:50:37,964] Trial 17 finished with value: 0.6650546677880572 and parameters: {'k': 46}. Best is trial 3 with value: 0.666035884496776.\n",
      "[I 2025-02-27 14:50:37,972] Trial 18 finished with value: 0.6569946733950098 and parameters: {'k': 49}. Best is trial 3 with value: 0.666035884496776.\n",
      "[I 2025-02-27 14:50:37,979] Trial 19 finished with value: 0.613680964395851 and parameters: {'k': 30}. Best is trial 3 with value: 0.666035884496776.\n",
      "[I 2025-02-27 14:50:37,986] Trial 20 finished with value: 0.5916736753574432 and parameters: {'k': 16}. Best is trial 3 with value: 0.666035884496776.\n",
      "[I 2025-02-27 14:50:37,994] Trial 21 finished with value: 0.6234230445752734 and parameters: {'k': 31}. Best is trial 3 with value: 0.666035884496776.\n",
      "[I 2025-02-27 14:50:38,001] Trial 22 finished with value: 0.6261564339781329 and parameters: {'k': 33}. Best is trial 3 with value: 0.666035884496776.\n",
      "[I 2025-02-27 14:50:38,009] Trial 23 finished with value: 0.6073731426969442 and parameters: {'k': 17}. Best is trial 3 with value: 0.666035884496776.\n",
      "[I 2025-02-27 14:50:38,017] Trial 24 finished with value: 0.6646341463414634 and parameters: {'k': 43}. Best is trial 3 with value: 0.666035884496776.\n",
      "[I 2025-02-27 14:50:38,025] Trial 25 finished with value: 0.6056209700028035 and parameters: {'k': 21}. Best is trial 3 with value: 0.666035884496776.\n",
      "[I 2025-02-27 14:50:38,034] Trial 26 finished with value: 0.6700308382394169 and parameters: {'k': 44}. Best is trial 26 with value: 0.6700308382394169.\n",
      "[I 2025-02-27 14:50:38,042] Trial 27 finished with value: 0.5960891505466779 and parameters: {'k': 9}. Best is trial 26 with value: 0.6700308382394169.\n",
      "[I 2025-02-27 14:50:38,050] Trial 28 finished with value: 0.6008550602747407 and parameters: {'k': 14}. Best is trial 26 with value: 0.6700308382394169.\n",
      "[I 2025-02-27 14:50:38,059] Trial 29 finished with value: 0.604008971124194 and parameters: {'k': 26}. Best is trial 26 with value: 0.6700308382394169.\n",
      "[I 2025-02-27 14:50:38,067] Trial 30 finished with value: 0.6223016540510232 and parameters: {'k': 6}. Best is trial 26 with value: 0.6700308382394169.\n",
      "[I 2025-02-27 14:50:38,076] Trial 31 finished with value: 0.5818615082702551 and parameters: {'k': 18}. Best is trial 26 with value: 0.6700308382394169.\n",
      "[I 2025-02-27 14:50:38,085] Trial 32 finished with value: 0.6696103167928231 and parameters: {'k': 41}. Best is trial 26 with value: 0.6700308382394169.\n",
      "[I 2025-02-27 14:50:38,094] Trial 33 finished with value: 0.6487244182786656 and parameters: {'k': 50}. Best is trial 26 with value: 0.6700308382394169.\n",
      "[I 2025-02-27 14:50:38,103] Trial 34 finished with value: 0.6353378188954304 and parameters: {'k': 2}. Best is trial 26 with value: 0.6700308382394169.\n",
      "[I 2025-02-27 14:50:38,112] Trial 35 finished with value: 0.5955985421923186 and parameters: {'k': 13}. Best is trial 26 with value: 0.6700308382394169.\n",
      "[I 2025-02-27 14:50:38,122] Trial 36 finished with value: 0.6618306700308382 and parameters: {'k': 38}. Best is trial 26 with value: 0.6700308382394169.\n",
      "[I 2025-02-27 14:50:38,132] Trial 37 finished with value: 0.605550883095038 and parameters: {'k': 25}. Best is trial 26 with value: 0.6700308382394169.\n",
      "[I 2025-02-27 14:50:38,141] Trial 38 finished with value: 0.6047098402018503 and parameters: {'k': 7}. Best is trial 26 with value: 0.6700308382394169.\n",
      "[I 2025-02-27 14:50:38,151] Trial 39 finished with value: 0.6057611438183347 and parameters: {'k': 24}. Best is trial 26 with value: 0.6700308382394169.\n",
      "[I 2025-02-27 14:50:38,161] Trial 40 finished with value: 0.6558031959629941 and parameters: {'k': 37}. Best is trial 26 with value: 0.6700308382394169.\n",
      "[I 2025-02-27 14:50:38,171] Trial 41 finished with value: 0.6062517521726941 and parameters: {'k': 22}. Best is trial 26 with value: 0.6700308382394169.\n",
      "[I 2025-02-27 14:50:38,182] Trial 42 finished with value: 0.6176759181384917 and parameters: {'k': 20}. Best is trial 26 with value: 0.6700308382394169.\n",
      "[I 2025-02-27 14:50:38,192] Trial 43 finished with value: 0.5995934959349593 and parameters: {'k': 10}. Best is trial 26 with value: 0.6700308382394169.\n",
      "[I 2025-02-27 14:50:38,202] Trial 44 finished with value: 0.6531398934679002 and parameters: {'k': 40}. Best is trial 26 with value: 0.6700308382394169.\n",
      "[I 2025-02-27 14:50:38,213] Trial 45 finished with value: 0.6558732828707597 and parameters: {'k': 47}. Best is trial 26 with value: 0.6700308382394169.\n",
      "[I 2025-02-27 14:50:38,224] Trial 46 finished with value: 0.644869638351556 and parameters: {'k': 4}. Best is trial 26 with value: 0.6700308382394169.\n",
      "[I 2025-02-27 14:50:38,234] Trial 47 finished with value: 0.604569666386319 and parameters: {'k': 1}. Best is trial 26 with value: 0.6700308382394169.\n",
      "[I 2025-02-27 14:50:38,245] Trial 48 finished with value: 0.6520885898514157 and parameters: {'k': 48}. Best is trial 26 with value: 0.6700308382394169.\n",
      "[I 2025-02-27 14:50:38,257] Trial 49 finished with value: 0.662811886739557 and parameters: {'k': 45}. Best is trial 26 with value: 0.6700308382394169.\n",
      "[I 2025-02-27 14:50:38,273] A new study created in memory with name: no-name-f80d5ee3-2079-476f-b028-933dba2ff867\n",
      "[I 2025-02-27 14:50:38,282] Trial 0 finished with value: 0.7268012335295767 and parameters: {'k': 29}. Best is trial 0 with value: 0.7268012335295767.\n",
      "[I 2025-02-27 14:50:38,286] Trial 1 finished with value: 0.6671572750210261 and parameters: {'k': 12}. Best is trial 0 with value: 0.7268012335295767.\n",
      "[I 2025-02-27 14:50:38,291] Trial 2 finished with value: 0.6604990187832912 and parameters: {'k': 11}. Best is trial 0 with value: 0.7268012335295767.\n",
      "[I 2025-02-27 14:50:38,297] Trial 3 finished with value: 0.7421502663302495 and parameters: {'k': 42}. Best is trial 3 with value: 0.7421502663302495.\n",
      "[I 2025-02-27 14:50:38,302] Trial 4 finished with value: 0.6147322680123353 and parameters: {'k': 3}. Best is trial 3 with value: 0.7421502663302495.\n",
      "[I 2025-02-27 14:50:38,307] Trial 5 finished with value: 0.7164283711802636 and parameters: {'k': 28}. Best is trial 3 with value: 0.7421502663302495.\n",
      "[I 2025-02-27 14:50:38,313] Trial 6 finished with value: 0.7420801794224838 and parameters: {'k': 39}. Best is trial 3 with value: 0.7421502663302495.\n",
      "[I 2025-02-27 14:50:38,318] Trial 7 finished with value: 0.7153069806560135 and parameters: {'k': 32}. Best is trial 3 with value: 0.7421502663302495.\n",
      "[I 2025-02-27 14:50:38,325] Trial 8 finished with value: 0.7008690776562938 and parameters: {'k': 23}. Best is trial 3 with value: 0.7421502663302495.\n",
      "[I 2025-02-27 14:50:38,331] Trial 9 finished with value: 0.6287496495654612 and parameters: {'k': 5}. Best is trial 3 with value: 0.7421502663302495.\n",
      "[I 2025-02-27 14:50:38,337] Trial 10 finished with value: 0.7265909728062798 and parameters: {'k': 34}. Best is trial 3 with value: 0.7421502663302495.\n",
      "[I 2025-02-27 14:50:38,344] Trial 11 finished with value: 0.7307961872722175 and parameters: {'k': 36}. Best is trial 3 with value: 0.7421502663302495.\n",
      "[I 2025-02-27 14:50:38,350] Trial 12 finished with value: 0.718601065320998 and parameters: {'k': 27}. Best is trial 3 with value: 0.7421502663302495.\n",
      "[I 2025-02-27 14:50:38,357] Trial 13 finished with value: 0.7290440145780769 and parameters: {'k': 35}. Best is trial 3 with value: 0.7421502663302495.\n",
      "[I 2025-02-27 14:50:38,363] Trial 14 finished with value: 0.6961732548359967 and parameters: {'k': 19}. Best is trial 3 with value: 0.7421502663302495.\n",
      "[I 2025-02-27 14:50:38,370] Trial 15 finished with value: 0.6376506868516961 and parameters: {'k': 8}. Best is trial 3 with value: 0.7421502663302495.\n",
      "[I 2025-02-27 14:50:38,376] Trial 16 finished with value: 0.6568544995794785 and parameters: {'k': 15}. Best is trial 3 with value: 0.7421502663302495.\n",
      "[I 2025-02-27 14:50:38,384] Trial 17 finished with value: 0.7455144379029998 and parameters: {'k': 46}. Best is trial 17 with value: 0.7455144379029998.\n",
      "[I 2025-02-27 14:50:38,391] Trial 18 finished with value: 0.7535744322960471 and parameters: {'k': 49}. Best is trial 18 with value: 0.7535744322960471.\n",
      "[I 2025-02-27 14:50:38,398] Trial 19 finished with value: 0.7239276703111859 and parameters: {'k': 30}. Best is trial 18 with value: 0.7535744322960471.\n",
      "[I 2025-02-27 14:50:38,406] Trial 20 finished with value: 0.668138491729745 and parameters: {'k': 16}. Best is trial 18 with value: 0.7535744322960471.\n",
      "[I 2025-02-27 14:50:38,413] Trial 21 finished with value: 0.7174796747967479 and parameters: {'k': 31}. Best is trial 18 with value: 0.7535744322960471.\n",
      "[I 2025-02-27 14:50:38,421] Trial 22 finished with value: 0.716708718811326 and parameters: {'k': 33}. Best is trial 18 with value: 0.7535744322960471.\n",
      "[I 2025-02-27 14:50:38,429] Trial 23 finished with value: 0.6770395290159799 and parameters: {'k': 17}. Best is trial 18 with value: 0.7535744322960471.\n",
      "[I 2025-02-27 14:50:38,437] Trial 24 finished with value: 0.7352817493692179 and parameters: {'k': 43}. Best is trial 18 with value: 0.7535744322960471.\n",
      "[I 2025-02-27 14:50:38,445] Trial 25 finished with value: 0.7078076815250911 and parameters: {'k': 21}. Best is trial 18 with value: 0.7535744322960471.\n",
      "[I 2025-02-27 14:50:38,453] Trial 26 finished with value: 0.7417297448836558 and parameters: {'k': 44}. Best is trial 18 with value: 0.7535744322960471.\n",
      "[I 2025-02-27 14:50:38,461] Trial 27 finished with value: 0.6445892907204934 and parameters: {'k': 9}. Best is trial 18 with value: 0.7535744322960471.\n",
      "[I 2025-02-27 14:50:38,470] Trial 28 finished with value: 0.6588169329969161 and parameters: {'k': 14}. Best is trial 18 with value: 0.7535744322960471.\n",
      "[I 2025-02-27 14:50:38,478] Trial 29 finished with value: 0.7147462853938884 and parameters: {'k': 26}. Best is trial 18 with value: 0.7535744322960471.\n",
      "[I 2025-02-27 14:50:38,486] Trial 30 finished with value: 0.6258059994393048 and parameters: {'k': 6}. Best is trial 18 with value: 0.7535744322960471.\n",
      "[I 2025-02-27 14:50:38,495] Trial 31 finished with value: 0.6888141295206056 and parameters: {'k': 18}. Best is trial 18 with value: 0.7535744322960471.\n",
      "[I 2025-02-27 14:50:38,504] Trial 32 finished with value: 0.7406083543594056 and parameters: {'k': 41}. Best is trial 18 with value: 0.7535744322960471.\n",
      "[I 2025-02-27 14:50:38,514] Trial 33 finished with value: 0.7525231286795627 and parameters: {'k': 50}. Best is trial 18 with value: 0.7535744322960471.\n",
      "[I 2025-02-27 14:50:38,523] Trial 34 finished with value: 0.5731707317073171 and parameters: {'k': 2}. Best is trial 18 with value: 0.7535744322960471.\n",
      "[I 2025-02-27 14:50:38,532] Trial 35 finished with value: 0.6705214465937763 and parameters: {'k': 13}. Best is trial 18 with value: 0.7535744322960471.\n",
      "[I 2025-02-27 14:50:38,541] Trial 36 finished with value: 0.7388561816652649 and parameters: {'k': 38}. Best is trial 18 with value: 0.7535744322960471.\n",
      "[I 2025-02-27 14:50:38,551] Trial 37 finished with value: 0.7051443790299972 and parameters: {'k': 25}. Best is trial 18 with value: 0.7535744322960471.\n",
      "[I 2025-02-27 14:50:38,561] Trial 38 finished with value: 0.6372301654051025 and parameters: {'k': 7}. Best is trial 18 with value: 0.7535744322960471.\n",
      "[I 2025-02-27 14:50:38,570] Trial 39 finished with value: 0.7059854219231847 and parameters: {'k': 24}. Best is trial 18 with value: 0.7535744322960471.\n",
      "[I 2025-02-27 14:50:38,581] Trial 40 finished with value: 0.7368236613400616 and parameters: {'k': 37}. Best is trial 18 with value: 0.7535744322960471.\n",
      "[I 2025-02-27 14:50:38,591] Trial 41 finished with value: 0.7073170731707318 and parameters: {'k': 22}. Best is trial 18 with value: 0.7535744322960471.\n",
      "[I 2025-02-27 14:50:38,601] Trial 42 finished with value: 0.7011494252873564 and parameters: {'k': 20}. Best is trial 18 with value: 0.7535744322960471.\n",
      "[I 2025-02-27 14:50:38,611] Trial 43 finished with value: 0.6605691056910569 and parameters: {'k': 10}. Best is trial 18 with value: 0.7535744322960471.\n",
      "[I 2025-02-27 14:50:38,622] Trial 44 finished with value: 0.7394869638351557 and parameters: {'k': 40}. Best is trial 18 with value: 0.7535744322960471.\n",
      "[I 2025-02-27 14:50:38,633] Trial 45 finished with value: 0.7512615643397813 and parameters: {'k': 47}. Best is trial 18 with value: 0.7535744322960471.\n",
      "[I 2025-02-27 14:50:38,643] Trial 46 finished with value: 0.6370199046818055 and parameters: {'k': 4}. Best is trial 18 with value: 0.7535744322960471.\n",
      "[I 2025-02-27 14:50:38,654] Trial 47 finished with value: 0.511914774320157 and parameters: {'k': 1}. Best is trial 18 with value: 0.7535744322960471.\n",
      "[I 2025-02-27 14:50:38,665] Trial 48 finished with value: 0.7525231286795626 and parameters: {'k': 48}. Best is trial 18 with value: 0.7535744322960471.\n",
      "[I 2025-02-27 14:50:38,677] Trial 49 finished with value: 0.7435520044855621 and parameters: {'k': 45}. Best is trial 18 with value: 0.7535744322960471.\n",
      "[I 2025-02-27 14:50:38,688] A new study created in memory with name: no-name-74c026e8-2ce2-4039-ba7c-41613770050d\n",
      "[I 2025-02-27 14:50:38,700] Trial 0 finished with value: 0.8479114101485842 and parameters: {'k': 29}. Best is trial 0 with value: 0.8479114101485842.\n",
      "[I 2025-02-27 14:50:38,709] Trial 1 finished with value: 0.8726520885898514 and parameters: {'k': 12}. Best is trial 1 with value: 0.8726520885898514.\n",
      "[I 2025-02-27 14:50:38,718] Trial 2 finished with value: 0.8745444350995233 and parameters: {'k': 11}. Best is trial 2 with value: 0.8745444350995233.\n",
      "[I 2025-02-27 14:50:38,727] Trial 3 finished with value: 0.8460891505466779 and parameters: {'k': 42}. Best is trial 2 with value: 0.8745444350995233.\n",
      "[I 2025-02-27 14:50:38,737] Trial 4 finished with value: 0.8390804597701149 and parameters: {'k': 3}. Best is trial 2 with value: 0.8745444350995233.\n",
      "[I 2025-02-27 14:50:38,746] Trial 5 finished with value: 0.8472806279786936 and parameters: {'k': 28}. Best is trial 2 with value: 0.8745444350995233.\n",
      "[I 2025-02-27 14:50:38,756] Trial 6 finished with value: 0.8516961031679282 and parameters: {'k': 39}. Best is trial 2 with value: 0.8745444350995233.\n",
      "[I 2025-02-27 14:50:38,766] Trial 7 finished with value: 0.8482618446874124 and parameters: {'k': 32}. Best is trial 2 with value: 0.8745444350995233.\n",
      "[I 2025-02-27 14:50:38,776] Trial 8 finished with value: 0.8514157555368657 and parameters: {'k': 23}. Best is trial 2 with value: 0.8745444350995233.\n",
      "[I 2025-02-27 14:50:38,786] Trial 9 finished with value: 0.87026913372582 and parameters: {'k': 5}. Best is trial 2 with value: 0.8745444350995233.\n",
      "[I 2025-02-27 14:50:38,797] Trial 10 finished with value: 0.8437061956826464 and parameters: {'k': 34}. Best is trial 2 with value: 0.8745444350995233.\n",
      "[I 2025-02-27 14:50:38,807] Trial 11 finished with value: 0.8535884496776003 and parameters: {'k': 36}. Best is trial 2 with value: 0.8745444350995233.\n",
      "[I 2025-02-27 14:50:38,818] Trial 12 finished with value: 0.8451780207457247 and parameters: {'k': 27}. Best is trial 2 with value: 0.8745444350995233.\n",
      "[I 2025-02-27 14:50:38,829] Trial 13 finished with value: 0.8500841042893188 and parameters: {'k': 35}. Best is trial 2 with value: 0.8745444350995233.\n",
      "[I 2025-02-27 14:50:38,839] Trial 14 finished with value: 0.8563919259882254 and parameters: {'k': 19}. Best is trial 2 with value: 0.8745444350995233.\n",
      "[I 2025-02-27 14:50:38,850] Trial 15 finished with value: 0.8634006167647883 and parameters: {'k': 8}. Best is trial 2 with value: 0.8745444350995233.\n",
      "[I 2025-02-27 14:50:38,861] Trial 16 finished with value: 0.8699887860947575 and parameters: {'k': 15}. Best is trial 2 with value: 0.8745444350995233.\n",
      "[I 2025-02-27 14:50:38,873] Trial 17 finished with value: 0.8427950658816933 and parameters: {'k': 46}. Best is trial 2 with value: 0.8745444350995233.\n",
      "[I 2025-02-27 14:50:38,884] Trial 18 finished with value: 0.8357863751051303 and parameters: {'k': 49}. Best is trial 2 with value: 0.8745444350995233.\n",
      "[I 2025-02-27 14:50:38,896] Trial 19 finished with value: 0.8499439304737876 and parameters: {'k': 30}. Best is trial 2 with value: 0.8745444350995233.\n",
      "[I 2025-02-27 14:50:38,907] Trial 20 finished with value: 0.8643117465657415 and parameters: {'k': 16}. Best is trial 2 with value: 0.8745444350995233.\n",
      "[I 2025-02-27 14:50:38,919] Trial 21 finished with value: 0.8479814970563498 and parameters: {'k': 31}. Best is trial 2 with value: 0.8745444350995233.\n",
      "[I 2025-02-27 14:50:38,931] Trial 22 finished with value: 0.8493832352116625 and parameters: {'k': 33}. Best is trial 2 with value: 0.8745444350995233.\n",
      "[I 2025-02-27 14:50:38,943] Trial 23 finished with value: 0.85856462012896 and parameters: {'k': 17}. Best is trial 2 with value: 0.8745444350995233.\n",
      "[I 2025-02-27 14:50:38,956] Trial 24 finished with value: 0.8489627137650687 and parameters: {'k': 43}. Best is trial 2 with value: 0.8745444350995233.\n",
      "[I 2025-02-27 14:50:38,968] Trial 25 finished with value: 0.8475609756097561 and parameters: {'k': 21}. Best is trial 2 with value: 0.8745444350995233.\n",
      "[I 2025-02-27 14:50:38,981] Trial 26 finished with value: 0.8457387160078498 and parameters: {'k': 44}. Best is trial 2 with value: 0.8745444350995233.\n",
      "[I 2025-02-27 14:50:38,993] Trial 27 finished with value: 0.8635407905803197 and parameters: {'k': 9}. Best is trial 2 with value: 0.8745444350995233.\n",
      "[I 2025-02-27 14:50:39,006] Trial 28 finished with value: 0.8678160919540231 and parameters: {'k': 14}. Best is trial 2 with value: 0.8745444350995233.\n",
      "[I 2025-02-27 14:50:39,019] Trial 29 finished with value: 0.8420941968040372 and parameters: {'k': 26}. Best is trial 2 with value: 0.8745444350995233.\n",
      "[I 2025-02-27 14:50:39,032] Trial 30 finished with value: 0.8577235772357723 and parameters: {'k': 6}. Best is trial 2 with value: 0.8745444350995233.\n",
      "[I 2025-02-27 14:50:39,045] Trial 31 finished with value: 0.8591253153910848 and parameters: {'k': 18}. Best is trial 2 with value: 0.8745444350995233.\n",
      "[I 2025-02-27 14:50:39,059] Trial 32 finished with value: 0.8499439304737875 and parameters: {'k': 41}. Best is trial 2 with value: 0.8745444350995233.\n",
      "[I 2025-02-27 14:50:39,072] Trial 33 finished with value: 0.8373983739837398 and parameters: {'k': 50}. Best is trial 2 with value: 0.8745444350995233.\n",
      "[I 2025-02-27 14:50:39,085] Trial 34 finished with value: 0.8140594336977852 and parameters: {'k': 2}. Best is trial 2 with value: 0.8745444350995233.\n",
      "[I 2025-02-27 14:50:39,099] Trial 35 finished with value: 0.865363050182226 and parameters: {'k': 13}. Best is trial 2 with value: 0.8745444350995233.\n",
      "[I 2025-02-27 14:50:39,113] Trial 36 finished with value: 0.8531679282310064 and parameters: {'k': 38}. Best is trial 2 with value: 0.8745444350995233.\n",
      "[I 2025-02-27 14:50:39,127] Trial 37 finished with value: 0.8434959349593497 and parameters: {'k': 25}. Best is trial 2 with value: 0.8745444350995233.\n",
      "[I 2025-02-27 14:50:39,141] Trial 38 finished with value: 0.8703392206335857 and parameters: {'k': 7}. Best is trial 2 with value: 0.8745444350995233.\n",
      "[I 2025-02-27 14:50:39,155] Trial 39 finished with value: 0.8433557611438184 and parameters: {'k': 24}. Best is trial 2 with value: 0.8745444350995233.\n",
      "[I 2025-02-27 14:50:39,169] Trial 40 finished with value: 0.8510653209980376 and parameters: {'k': 37}. Best is trial 2 with value: 0.8745444350995233.\n",
      "[I 2025-02-27 14:50:39,184] Trial 41 finished with value: 0.8540790580319597 and parameters: {'k': 22}. Best is trial 2 with value: 0.8745444350995233.\n",
      "[I 2025-02-27 14:50:39,198] Trial 42 finished with value: 0.8500140173815531 and parameters: {'k': 20}. Best is trial 2 with value: 0.8745444350995233.\n",
      "[I 2025-02-27 14:50:39,213] Trial 43 finished with value: 0.8830950378469301 and parameters: {'k': 10}. Best is trial 43 with value: 0.8830950378469301.\n",
      "[I 2025-02-27 14:50:39,228] Trial 44 finished with value: 0.8537286234931314 and parameters: {'k': 40}. Best is trial 43 with value: 0.8830950378469301.\n",
      "[I 2025-02-27 14:50:39,243] Trial 45 finished with value: 0.8414634146341464 and parameters: {'k': 47}. Best is trial 43 with value: 0.8830950378469301.\n",
      "[I 2025-02-27 14:50:39,258] Trial 46 finished with value: 0.8602467059153349 and parameters: {'k': 4}. Best is trial 43 with value: 0.8830950378469301.\n",
      "[I 2025-02-27 14:50:39,273] Trial 47 finished with value: 0.7685029436501262 and parameters: {'k': 1}. Best is trial 43 with value: 0.8830950378469301.\n",
      "[I 2025-02-27 14:50:39,288] Trial 48 finished with value: 0.8379590692458649 and parameters: {'k': 48}. Best is trial 43 with value: 0.8830950378469301.\n",
      "[I 2025-02-27 14:50:39,304] Trial 49 finished with value: 0.842094196804037 and parameters: {'k': 45}. Best is trial 43 with value: 0.8830950378469301.\n"
     ]
    }
   ],
   "source": [
    "# Iterate through each model's features\n",
    "for model_name, values in data.items(): # Loop through each model and its corresponding features\n",
    "\n",
    "    # Skip MedImageInsightExtractor\n",
    "    if model_name == \"MedImageInsightExtractor\": # Skip the MedImageInsightExtractor model\n",
    "        continue\n",
    "\n",
    "    # Extract paths and labels for train, val, and test sets\n",
    "    train_labels = [v[\"row\"][\"malignancy\"] for v in values[\"train\"]] # Extract malignancy labels for the training set\n",
    "    val_labels = [v[\"row\"][\"malignancy\"] for v in values[\"val\"]] # Extract malignancy labels for the validation set\n",
    "    test_labels = [v[\"row\"][\"malignancy\"] for v in values[\"test\"]] # Extract malignancy labels for the test set\n",
    "    \n",
    "    # Stack features\n",
    "    train_items = np.vstack([v[\"feature\"] for v in values[\"train\"]]) # Stack features for the training set\n",
    "    val_items = np.vstack([v[\"feature\"] for v in values[\"val\"]]) # Stack features for the validation set\n",
    "    test_items = np.vstack([v[\"feature\"] for v in values[\"test\"]]) # Stack features for the test set\n",
    "\n",
    "\n",
    "\n",
    "    # Train model with hyperparameter optimization\n",
    "    best_model, study = train_knn_classifier(train_items, train_labels, val_items, val_labels)\n",
    "    \n",
    "    # Evaluate on test set\n",
    "    test_accuracies_dict[model_name] = evaluate_model(best_model, test_items, test_labels)"
   ]
  },
  {
   "cell_type": "code",
   "execution_count": null,
   "id": "347efbdb",
   "metadata": {},
   "outputs": [
    {
     "data": {
      "application/vnd.plotly.v1+json": {
       "config": {
        "plotlyServerURL": "https://plot.ly"
       },
       "data": [
        {
         "alignmentgroup": "True",
         "hovertemplate": "Model=%{x}<br>Accuracy=%{y}<extra></extra>",
         "legendgroup": "",
         "marker": {
          "color": "#ADD8E6",
          "opacity": 0.8,
          "pattern": {
           "shape": ""
          }
         },
         "name": "",
         "offsetgroup": "",
         "orientation": "v",
         "showlegend": false,
         "textposition": "auto",
         "texttemplate": "%{y:.2f}",
         "type": "bar",
         "x": [
          "FMCIBExtractor",
          "CTFMExtractor",
          "PyramidExtractorVar",
          "PyramidExtractorNoVar",
          "VISTA3DExtractor",
          "VocoExtractor",
          "SUPREMExtractor",
          "MerlinExtractor",
          "ModelsGenExtractor"
         ],
         "xaxis": "x",
         "y": [
          0.8734756097560975,
          0.5807926829268293,
          0.6315133037694013,
          0.644470620842572,
          0.6350471175166298,
          0.45558481152993346,
          0.575110864745011,
          0.5481568736141906,
          0.753880266075388
         ],
         "yaxis": "y"
        }
       ],
       "layout": {
        "barmode": "relative",
        "font": {
         "family": "Arial",
         "size": 16
        },
        "height": 600,
        "legend": {
         "tracegroupgap": 0
        },
        "margin": {
         "b": 20,
         "l": 20,
         "r": 20,
         "t": 40
        },
        "showlegend": false,
        "template": {
         "data": {
          "bar": [
           {
            "error_x": {
             "color": "rgb(36,36,36)"
            },
            "error_y": {
             "color": "rgb(36,36,36)"
            },
            "marker": {
             "line": {
              "color": "white",
              "width": 0.5
             },
             "pattern": {
              "fillmode": "overlay",
              "size": 10,
              "solidity": 0.2
             }
            },
            "type": "bar"
           }
          ],
          "barpolar": [
           {
            "marker": {
             "line": {
              "color": "white",
              "width": 0.5
             },
             "pattern": {
              "fillmode": "overlay",
              "size": 10,
              "solidity": 0.2
             }
            },
            "type": "barpolar"
           }
          ],
          "carpet": [
           {
            "aaxis": {
             "endlinecolor": "rgb(36,36,36)",
             "gridcolor": "white",
             "linecolor": "white",
             "minorgridcolor": "white",
             "startlinecolor": "rgb(36,36,36)"
            },
            "baxis": {
             "endlinecolor": "rgb(36,36,36)",
             "gridcolor": "white",
             "linecolor": "white",
             "minorgridcolor": "white",
             "startlinecolor": "rgb(36,36,36)"
            },
            "type": "carpet"
           }
          ],
          "choropleth": [
           {
            "colorbar": {
             "outlinewidth": 1,
             "tickcolor": "rgb(36,36,36)",
             "ticks": "outside"
            },
            "type": "choropleth"
           }
          ],
          "contour": [
           {
            "colorbar": {
             "outlinewidth": 1,
             "tickcolor": "rgb(36,36,36)",
             "ticks": "outside"
            },
            "colorscale": [
             [
              0,
              "#440154"
             ],
             [
              0.1111111111111111,
              "#482878"
             ],
             [
              0.2222222222222222,
              "#3e4989"
             ],
             [
              0.3333333333333333,
              "#31688e"
             ],
             [
              0.4444444444444444,
              "#26828e"
             ],
             [
              0.5555555555555556,
              "#1f9e89"
             ],
             [
              0.6666666666666666,
              "#35b779"
             ],
             [
              0.7777777777777778,
              "#6ece58"
             ],
             [
              0.8888888888888888,
              "#b5de2b"
             ],
             [
              1,
              "#fde725"
             ]
            ],
            "type": "contour"
           }
          ],
          "contourcarpet": [
           {
            "colorbar": {
             "outlinewidth": 1,
             "tickcolor": "rgb(36,36,36)",
             "ticks": "outside"
            },
            "type": "contourcarpet"
           }
          ],
          "heatmap": [
           {
            "colorbar": {
             "outlinewidth": 1,
             "tickcolor": "rgb(36,36,36)",
             "ticks": "outside"
            },
            "colorscale": [
             [
              0,
              "#440154"
             ],
             [
              0.1111111111111111,
              "#482878"
             ],
             [
              0.2222222222222222,
              "#3e4989"
             ],
             [
              0.3333333333333333,
              "#31688e"
             ],
             [
              0.4444444444444444,
              "#26828e"
             ],
             [
              0.5555555555555556,
              "#1f9e89"
             ],
             [
              0.6666666666666666,
              "#35b779"
             ],
             [
              0.7777777777777778,
              "#6ece58"
             ],
             [
              0.8888888888888888,
              "#b5de2b"
             ],
             [
              1,
              "#fde725"
             ]
            ],
            "type": "heatmap"
           }
          ],
          "heatmapgl": [
           {
            "colorbar": {
             "outlinewidth": 1,
             "tickcolor": "rgb(36,36,36)",
             "ticks": "outside"
            },
            "colorscale": [
             [
              0,
              "#440154"
             ],
             [
              0.1111111111111111,
              "#482878"
             ],
             [
              0.2222222222222222,
              "#3e4989"
             ],
             [
              0.3333333333333333,
              "#31688e"
             ],
             [
              0.4444444444444444,
              "#26828e"
             ],
             [
              0.5555555555555556,
              "#1f9e89"
             ],
             [
              0.6666666666666666,
              "#35b779"
             ],
             [
              0.7777777777777778,
              "#6ece58"
             ],
             [
              0.8888888888888888,
              "#b5de2b"
             ],
             [
              1,
              "#fde725"
             ]
            ],
            "type": "heatmapgl"
           }
          ],
          "histogram": [
           {
            "marker": {
             "line": {
              "color": "white",
              "width": 0.6
             }
            },
            "type": "histogram"
           }
          ],
          "histogram2d": [
           {
            "colorbar": {
             "outlinewidth": 1,
             "tickcolor": "rgb(36,36,36)",
             "ticks": "outside"
            },
            "colorscale": [
             [
              0,
              "#440154"
             ],
             [
              0.1111111111111111,
              "#482878"
             ],
             [
              0.2222222222222222,
              "#3e4989"
             ],
             [
              0.3333333333333333,
              "#31688e"
             ],
             [
              0.4444444444444444,
              "#26828e"
             ],
             [
              0.5555555555555556,
              "#1f9e89"
             ],
             [
              0.6666666666666666,
              "#35b779"
             ],
             [
              0.7777777777777778,
              "#6ece58"
             ],
             [
              0.8888888888888888,
              "#b5de2b"
             ],
             [
              1,
              "#fde725"
             ]
            ],
            "type": "histogram2d"
           }
          ],
          "histogram2dcontour": [
           {
            "colorbar": {
             "outlinewidth": 1,
             "tickcolor": "rgb(36,36,36)",
             "ticks": "outside"
            },
            "colorscale": [
             [
              0,
              "#440154"
             ],
             [
              0.1111111111111111,
              "#482878"
             ],
             [
              0.2222222222222222,
              "#3e4989"
             ],
             [
              0.3333333333333333,
              "#31688e"
             ],
             [
              0.4444444444444444,
              "#26828e"
             ],
             [
              0.5555555555555556,
              "#1f9e89"
             ],
             [
              0.6666666666666666,
              "#35b779"
             ],
             [
              0.7777777777777778,
              "#6ece58"
             ],
             [
              0.8888888888888888,
              "#b5de2b"
             ],
             [
              1,
              "#fde725"
             ]
            ],
            "type": "histogram2dcontour"
           }
          ],
          "mesh3d": [
           {
            "colorbar": {
             "outlinewidth": 1,
             "tickcolor": "rgb(36,36,36)",
             "ticks": "outside"
            },
            "type": "mesh3d"
           }
          ],
          "parcoords": [
           {
            "line": {
             "colorbar": {
              "outlinewidth": 1,
              "tickcolor": "rgb(36,36,36)",
              "ticks": "outside"
             }
            },
            "type": "parcoords"
           }
          ],
          "pie": [
           {
            "automargin": true,
            "type": "pie"
           }
          ],
          "scatter": [
           {
            "fillpattern": {
             "fillmode": "overlay",
             "size": 10,
             "solidity": 0.2
            },
            "type": "scatter"
           }
          ],
          "scatter3d": [
           {
            "line": {
             "colorbar": {
              "outlinewidth": 1,
              "tickcolor": "rgb(36,36,36)",
              "ticks": "outside"
             }
            },
            "marker": {
             "colorbar": {
              "outlinewidth": 1,
              "tickcolor": "rgb(36,36,36)",
              "ticks": "outside"
             }
            },
            "type": "scatter3d"
           }
          ],
          "scattercarpet": [
           {
            "marker": {
             "colorbar": {
              "outlinewidth": 1,
              "tickcolor": "rgb(36,36,36)",
              "ticks": "outside"
             }
            },
            "type": "scattercarpet"
           }
          ],
          "scattergeo": [
           {
            "marker": {
             "colorbar": {
              "outlinewidth": 1,
              "tickcolor": "rgb(36,36,36)",
              "ticks": "outside"
             }
            },
            "type": "scattergeo"
           }
          ],
          "scattergl": [
           {
            "marker": {
             "colorbar": {
              "outlinewidth": 1,
              "tickcolor": "rgb(36,36,36)",
              "ticks": "outside"
             }
            },
            "type": "scattergl"
           }
          ],
          "scattermapbox": [
           {
            "marker": {
             "colorbar": {
              "outlinewidth": 1,
              "tickcolor": "rgb(36,36,36)",
              "ticks": "outside"
             }
            },
            "type": "scattermapbox"
           }
          ],
          "scatterpolar": [
           {
            "marker": {
             "colorbar": {
              "outlinewidth": 1,
              "tickcolor": "rgb(36,36,36)",
              "ticks": "outside"
             }
            },
            "type": "scatterpolar"
           }
          ],
          "scatterpolargl": [
           {
            "marker": {
             "colorbar": {
              "outlinewidth": 1,
              "tickcolor": "rgb(36,36,36)",
              "ticks": "outside"
             }
            },
            "type": "scatterpolargl"
           }
          ],
          "scatterternary": [
           {
            "marker": {
             "colorbar": {
              "outlinewidth": 1,
              "tickcolor": "rgb(36,36,36)",
              "ticks": "outside"
             }
            },
            "type": "scatterternary"
           }
          ],
          "surface": [
           {
            "colorbar": {
             "outlinewidth": 1,
             "tickcolor": "rgb(36,36,36)",
             "ticks": "outside"
            },
            "colorscale": [
             [
              0,
              "#440154"
             ],
             [
              0.1111111111111111,
              "#482878"
             ],
             [
              0.2222222222222222,
              "#3e4989"
             ],
             [
              0.3333333333333333,
              "#31688e"
             ],
             [
              0.4444444444444444,
              "#26828e"
             ],
             [
              0.5555555555555556,
              "#1f9e89"
             ],
             [
              0.6666666666666666,
              "#35b779"
             ],
             [
              0.7777777777777778,
              "#6ece58"
             ],
             [
              0.8888888888888888,
              "#b5de2b"
             ],
             [
              1,
              "#fde725"
             ]
            ],
            "type": "surface"
           }
          ],
          "table": [
           {
            "cells": {
             "fill": {
              "color": "rgb(237,237,237)"
             },
             "line": {
              "color": "white"
             }
            },
            "header": {
             "fill": {
              "color": "rgb(217,217,217)"
             },
             "line": {
              "color": "white"
             }
            },
            "type": "table"
           }
          ]
         },
         "layout": {
          "annotationdefaults": {
           "arrowhead": 0,
           "arrowwidth": 1
          },
          "autotypenumbers": "strict",
          "coloraxis": {
           "colorbar": {
            "outlinewidth": 1,
            "tickcolor": "rgb(36,36,36)",
            "ticks": "outside"
           }
          },
          "colorscale": {
           "diverging": [
            [
             0,
             "rgb(103,0,31)"
            ],
            [
             0.1,
             "rgb(178,24,43)"
            ],
            [
             0.2,
             "rgb(214,96,77)"
            ],
            [
             0.3,
             "rgb(244,165,130)"
            ],
            [
             0.4,
             "rgb(253,219,199)"
            ],
            [
             0.5,
             "rgb(247,247,247)"
            ],
            [
             0.6,
             "rgb(209,229,240)"
            ],
            [
             0.7,
             "rgb(146,197,222)"
            ],
            [
             0.8,
             "rgb(67,147,195)"
            ],
            [
             0.9,
             "rgb(33,102,172)"
            ],
            [
             1,
             "rgb(5,48,97)"
            ]
           ],
           "sequential": [
            [
             0,
             "#440154"
            ],
            [
             0.1111111111111111,
             "#482878"
            ],
            [
             0.2222222222222222,
             "#3e4989"
            ],
            [
             0.3333333333333333,
             "#31688e"
            ],
            [
             0.4444444444444444,
             "#26828e"
            ],
            [
             0.5555555555555556,
             "#1f9e89"
            ],
            [
             0.6666666666666666,
             "#35b779"
            ],
            [
             0.7777777777777778,
             "#6ece58"
            ],
            [
             0.8888888888888888,
             "#b5de2b"
            ],
            [
             1,
             "#fde725"
            ]
           ],
           "sequentialminus": [
            [
             0,
             "#440154"
            ],
            [
             0.1111111111111111,
             "#482878"
            ],
            [
             0.2222222222222222,
             "#3e4989"
            ],
            [
             0.3333333333333333,
             "#31688e"
            ],
            [
             0.4444444444444444,
             "#26828e"
            ],
            [
             0.5555555555555556,
             "#1f9e89"
            ],
            [
             0.6666666666666666,
             "#35b779"
            ],
            [
             0.7777777777777778,
             "#6ece58"
            ],
            [
             0.8888888888888888,
             "#b5de2b"
            ],
            [
             1,
             "#fde725"
            ]
           ]
          },
          "colorway": [
           "#1F77B4",
           "#FF7F0E",
           "#2CA02C",
           "#D62728",
           "#9467BD",
           "#8C564B",
           "#E377C2",
           "#7F7F7F",
           "#BCBD22",
           "#17BECF"
          ],
          "font": {
           "color": "rgb(36,36,36)"
          },
          "geo": {
           "bgcolor": "white",
           "lakecolor": "white",
           "landcolor": "white",
           "showlakes": true,
           "showland": true,
           "subunitcolor": "white"
          },
          "hoverlabel": {
           "align": "left"
          },
          "hovermode": "closest",
          "mapbox": {
           "style": "light"
          },
          "paper_bgcolor": "white",
          "plot_bgcolor": "white",
          "polar": {
           "angularaxis": {
            "gridcolor": "rgb(232,232,232)",
            "linecolor": "rgb(36,36,36)",
            "showgrid": false,
            "showline": true,
            "ticks": "outside"
           },
           "bgcolor": "white",
           "radialaxis": {
            "gridcolor": "rgb(232,232,232)",
            "linecolor": "rgb(36,36,36)",
            "showgrid": false,
            "showline": true,
            "ticks": "outside"
           }
          },
          "scene": {
           "xaxis": {
            "backgroundcolor": "white",
            "gridcolor": "rgb(232,232,232)",
            "gridwidth": 2,
            "linecolor": "rgb(36,36,36)",
            "showbackground": true,
            "showgrid": false,
            "showline": true,
            "ticks": "outside",
            "zeroline": false,
            "zerolinecolor": "rgb(36,36,36)"
           },
           "yaxis": {
            "backgroundcolor": "white",
            "gridcolor": "rgb(232,232,232)",
            "gridwidth": 2,
            "linecolor": "rgb(36,36,36)",
            "showbackground": true,
            "showgrid": false,
            "showline": true,
            "ticks": "outside",
            "zeroline": false,
            "zerolinecolor": "rgb(36,36,36)"
           },
           "zaxis": {
            "backgroundcolor": "white",
            "gridcolor": "rgb(232,232,232)",
            "gridwidth": 2,
            "linecolor": "rgb(36,36,36)",
            "showbackground": true,
            "showgrid": false,
            "showline": true,
            "ticks": "outside",
            "zeroline": false,
            "zerolinecolor": "rgb(36,36,36)"
           }
          },
          "shapedefaults": {
           "fillcolor": "black",
           "line": {
            "width": 0
           },
           "opacity": 0.3
          },
          "ternary": {
           "aaxis": {
            "gridcolor": "rgb(232,232,232)",
            "linecolor": "rgb(36,36,36)",
            "showgrid": false,
            "showline": true,
            "ticks": "outside"
           },
           "baxis": {
            "gridcolor": "rgb(232,232,232)",
            "linecolor": "rgb(36,36,36)",
            "showgrid": false,
            "showline": true,
            "ticks": "outside"
           },
           "bgcolor": "white",
           "caxis": {
            "gridcolor": "rgb(232,232,232)",
            "linecolor": "rgb(36,36,36)",
            "showgrid": false,
            "showline": true,
            "ticks": "outside"
           }
          },
          "title": {
           "x": 0.05
          },
          "xaxis": {
           "automargin": true,
           "gridcolor": "rgb(232,232,232)",
           "linecolor": "rgb(36,36,36)",
           "showgrid": false,
           "showline": true,
           "ticks": "outside",
           "title": {
            "standoff": 15
           },
           "zeroline": false,
           "zerolinecolor": "rgb(36,36,36)"
          },
          "yaxis": {
           "automargin": true,
           "gridcolor": "rgb(232,232,232)",
           "linecolor": "rgb(36,36,36)",
           "showgrid": false,
           "showline": true,
           "ticks": "outside",
           "title": {
            "standoff": 15
           },
           "zeroline": false,
           "zerolinecolor": "rgb(36,36,36)"
          }
         }
        },
        "title": {
         "text": "Test AUC Comparison",
         "x": 0.5,
         "xanchor": "center"
        },
        "width": 600,
        "xaxis": {
         "anchor": "y",
         "domain": [
          0,
          1
         ],
         "showgrid": false,
         "showline": false,
         "tickfont": {
          "size": 16
         },
         "title": {
          "text": "Model"
         }
        },
        "yaxis": {
         "anchor": "x",
         "domain": [
          0,
          1
         ],
         "gridcolor": "lightgrey",
         "showgrid": true,
         "tickfont": {
          "size": 16
         },
         "title": {
          "text": "Accuracy"
         }
        }
       }
      },
      "text/html": [
       "<div>                            <div id=\"b7e50773-333b-4253-b00e-ac2f2d5fd928\" class=\"plotly-graph-div\" style=\"height:600px; width:600px;\"></div>            <script type=\"text/javascript\">                require([\"plotly\"], function(Plotly) {                    window.PLOTLYENV=window.PLOTLYENV || {};                                    if (document.getElementById(\"b7e50773-333b-4253-b00e-ac2f2d5fd928\")) {                    Plotly.newPlot(                        \"b7e50773-333b-4253-b00e-ac2f2d5fd928\",                        [{\"alignmentgroup\":\"True\",\"hovertemplate\":\"Model=%{x}\\u003cbr\\u003eAccuracy=%{y}\\u003cextra\\u003e\\u003c\\u002fextra\\u003e\",\"legendgroup\":\"\",\"marker\":{\"color\":\"#ADD8E6\",\"pattern\":{\"shape\":\"\"},\"opacity\":0.8},\"name\":\"\",\"offsetgroup\":\"\",\"orientation\":\"v\",\"showlegend\":false,\"textposition\":\"auto\",\"x\":[\"FMCIBExtractor\",\"CTFMExtractor\",\"PyramidExtractorVar\",\"PyramidExtractorNoVar\",\"VISTA3DExtractor\",\"VocoExtractor\",\"SUPREMExtractor\",\"MerlinExtractor\",\"ModelsGenExtractor\"],\"xaxis\":\"x\",\"y\":[0.8734756097560975,0.5807926829268293,0.6315133037694013,0.644470620842572,0.6350471175166298,0.45558481152993346,0.575110864745011,0.5481568736141906,0.753880266075388],\"yaxis\":\"y\",\"type\":\"bar\",\"texttemplate\":\"%{y:.2f}\"}],                        {\"template\":{\"data\":{\"barpolar\":[{\"marker\":{\"line\":{\"color\":\"white\",\"width\":0.5},\"pattern\":{\"fillmode\":\"overlay\",\"size\":10,\"solidity\":0.2}},\"type\":\"barpolar\"}],\"bar\":[{\"error_x\":{\"color\":\"rgb(36,36,36)\"},\"error_y\":{\"color\":\"rgb(36,36,36)\"},\"marker\":{\"line\":{\"color\":\"white\",\"width\":0.5},\"pattern\":{\"fillmode\":\"overlay\",\"size\":10,\"solidity\":0.2}},\"type\":\"bar\"}],\"carpet\":[{\"aaxis\":{\"endlinecolor\":\"rgb(36,36,36)\",\"gridcolor\":\"white\",\"linecolor\":\"white\",\"minorgridcolor\":\"white\",\"startlinecolor\":\"rgb(36,36,36)\"},\"baxis\":{\"endlinecolor\":\"rgb(36,36,36)\",\"gridcolor\":\"white\",\"linecolor\":\"white\",\"minorgridcolor\":\"white\",\"startlinecolor\":\"rgb(36,36,36)\"},\"type\":\"carpet\"}],\"choropleth\":[{\"colorbar\":{\"outlinewidth\":1,\"tickcolor\":\"rgb(36,36,36)\",\"ticks\":\"outside\"},\"type\":\"choropleth\"}],\"contourcarpet\":[{\"colorbar\":{\"outlinewidth\":1,\"tickcolor\":\"rgb(36,36,36)\",\"ticks\":\"outside\"},\"type\":\"contourcarpet\"}],\"contour\":[{\"colorbar\":{\"outlinewidth\":1,\"tickcolor\":\"rgb(36,36,36)\",\"ticks\":\"outside\"},\"colorscale\":[[0.0,\"#440154\"],[0.1111111111111111,\"#482878\"],[0.2222222222222222,\"#3e4989\"],[0.3333333333333333,\"#31688e\"],[0.4444444444444444,\"#26828e\"],[0.5555555555555556,\"#1f9e89\"],[0.6666666666666666,\"#35b779\"],[0.7777777777777778,\"#6ece58\"],[0.8888888888888888,\"#b5de2b\"],[1.0,\"#fde725\"]],\"type\":\"contour\"}],\"heatmapgl\":[{\"colorbar\":{\"outlinewidth\":1,\"tickcolor\":\"rgb(36,36,36)\",\"ticks\":\"outside\"},\"colorscale\":[[0.0,\"#440154\"],[0.1111111111111111,\"#482878\"],[0.2222222222222222,\"#3e4989\"],[0.3333333333333333,\"#31688e\"],[0.4444444444444444,\"#26828e\"],[0.5555555555555556,\"#1f9e89\"],[0.6666666666666666,\"#35b779\"],[0.7777777777777778,\"#6ece58\"],[0.8888888888888888,\"#b5de2b\"],[1.0,\"#fde725\"]],\"type\":\"heatmapgl\"}],\"heatmap\":[{\"colorbar\":{\"outlinewidth\":1,\"tickcolor\":\"rgb(36,36,36)\",\"ticks\":\"outside\"},\"colorscale\":[[0.0,\"#440154\"],[0.1111111111111111,\"#482878\"],[0.2222222222222222,\"#3e4989\"],[0.3333333333333333,\"#31688e\"],[0.4444444444444444,\"#26828e\"],[0.5555555555555556,\"#1f9e89\"],[0.6666666666666666,\"#35b779\"],[0.7777777777777778,\"#6ece58\"],[0.8888888888888888,\"#b5de2b\"],[1.0,\"#fde725\"]],\"type\":\"heatmap\"}],\"histogram2dcontour\":[{\"colorbar\":{\"outlinewidth\":1,\"tickcolor\":\"rgb(36,36,36)\",\"ticks\":\"outside\"},\"colorscale\":[[0.0,\"#440154\"],[0.1111111111111111,\"#482878\"],[0.2222222222222222,\"#3e4989\"],[0.3333333333333333,\"#31688e\"],[0.4444444444444444,\"#26828e\"],[0.5555555555555556,\"#1f9e89\"],[0.6666666666666666,\"#35b779\"],[0.7777777777777778,\"#6ece58\"],[0.8888888888888888,\"#b5de2b\"],[1.0,\"#fde725\"]],\"type\":\"histogram2dcontour\"}],\"histogram2d\":[{\"colorbar\":{\"outlinewidth\":1,\"tickcolor\":\"rgb(36,36,36)\",\"ticks\":\"outside\"},\"colorscale\":[[0.0,\"#440154\"],[0.1111111111111111,\"#482878\"],[0.2222222222222222,\"#3e4989\"],[0.3333333333333333,\"#31688e\"],[0.4444444444444444,\"#26828e\"],[0.5555555555555556,\"#1f9e89\"],[0.6666666666666666,\"#35b779\"],[0.7777777777777778,\"#6ece58\"],[0.8888888888888888,\"#b5de2b\"],[1.0,\"#fde725\"]],\"type\":\"histogram2d\"}],\"histogram\":[{\"marker\":{\"line\":{\"color\":\"white\",\"width\":0.6}},\"type\":\"histogram\"}],\"mesh3d\":[{\"colorbar\":{\"outlinewidth\":1,\"tickcolor\":\"rgb(36,36,36)\",\"ticks\":\"outside\"},\"type\":\"mesh3d\"}],\"parcoords\":[{\"line\":{\"colorbar\":{\"outlinewidth\":1,\"tickcolor\":\"rgb(36,36,36)\",\"ticks\":\"outside\"}},\"type\":\"parcoords\"}],\"pie\":[{\"automargin\":true,\"type\":\"pie\"}],\"scatter3d\":[{\"line\":{\"colorbar\":{\"outlinewidth\":1,\"tickcolor\":\"rgb(36,36,36)\",\"ticks\":\"outside\"}},\"marker\":{\"colorbar\":{\"outlinewidth\":1,\"tickcolor\":\"rgb(36,36,36)\",\"ticks\":\"outside\"}},\"type\":\"scatter3d\"}],\"scattercarpet\":[{\"marker\":{\"colorbar\":{\"outlinewidth\":1,\"tickcolor\":\"rgb(36,36,36)\",\"ticks\":\"outside\"}},\"type\":\"scattercarpet\"}],\"scattergeo\":[{\"marker\":{\"colorbar\":{\"outlinewidth\":1,\"tickcolor\":\"rgb(36,36,36)\",\"ticks\":\"outside\"}},\"type\":\"scattergeo\"}],\"scattergl\":[{\"marker\":{\"colorbar\":{\"outlinewidth\":1,\"tickcolor\":\"rgb(36,36,36)\",\"ticks\":\"outside\"}},\"type\":\"scattergl\"}],\"scattermapbox\":[{\"marker\":{\"colorbar\":{\"outlinewidth\":1,\"tickcolor\":\"rgb(36,36,36)\",\"ticks\":\"outside\"}},\"type\":\"scattermapbox\"}],\"scatterpolargl\":[{\"marker\":{\"colorbar\":{\"outlinewidth\":1,\"tickcolor\":\"rgb(36,36,36)\",\"ticks\":\"outside\"}},\"type\":\"scatterpolargl\"}],\"scatterpolar\":[{\"marker\":{\"colorbar\":{\"outlinewidth\":1,\"tickcolor\":\"rgb(36,36,36)\",\"ticks\":\"outside\"}},\"type\":\"scatterpolar\"}],\"scatter\":[{\"fillpattern\":{\"fillmode\":\"overlay\",\"size\":10,\"solidity\":0.2},\"type\":\"scatter\"}],\"scatterternary\":[{\"marker\":{\"colorbar\":{\"outlinewidth\":1,\"tickcolor\":\"rgb(36,36,36)\",\"ticks\":\"outside\"}},\"type\":\"scatterternary\"}],\"surface\":[{\"colorbar\":{\"outlinewidth\":1,\"tickcolor\":\"rgb(36,36,36)\",\"ticks\":\"outside\"},\"colorscale\":[[0.0,\"#440154\"],[0.1111111111111111,\"#482878\"],[0.2222222222222222,\"#3e4989\"],[0.3333333333333333,\"#31688e\"],[0.4444444444444444,\"#26828e\"],[0.5555555555555556,\"#1f9e89\"],[0.6666666666666666,\"#35b779\"],[0.7777777777777778,\"#6ece58\"],[0.8888888888888888,\"#b5de2b\"],[1.0,\"#fde725\"]],\"type\":\"surface\"}],\"table\":[{\"cells\":{\"fill\":{\"color\":\"rgb(237,237,237)\"},\"line\":{\"color\":\"white\"}},\"header\":{\"fill\":{\"color\":\"rgb(217,217,217)\"},\"line\":{\"color\":\"white\"}},\"type\":\"table\"}]},\"layout\":{\"annotationdefaults\":{\"arrowhead\":0,\"arrowwidth\":1},\"autotypenumbers\":\"strict\",\"coloraxis\":{\"colorbar\":{\"outlinewidth\":1,\"tickcolor\":\"rgb(36,36,36)\",\"ticks\":\"outside\"}},\"colorscale\":{\"diverging\":[[0.0,\"rgb(103,0,31)\"],[0.1,\"rgb(178,24,43)\"],[0.2,\"rgb(214,96,77)\"],[0.3,\"rgb(244,165,130)\"],[0.4,\"rgb(253,219,199)\"],[0.5,\"rgb(247,247,247)\"],[0.6,\"rgb(209,229,240)\"],[0.7,\"rgb(146,197,222)\"],[0.8,\"rgb(67,147,195)\"],[0.9,\"rgb(33,102,172)\"],[1.0,\"rgb(5,48,97)\"]],\"sequential\":[[0.0,\"#440154\"],[0.1111111111111111,\"#482878\"],[0.2222222222222222,\"#3e4989\"],[0.3333333333333333,\"#31688e\"],[0.4444444444444444,\"#26828e\"],[0.5555555555555556,\"#1f9e89\"],[0.6666666666666666,\"#35b779\"],[0.7777777777777778,\"#6ece58\"],[0.8888888888888888,\"#b5de2b\"],[1.0,\"#fde725\"]],\"sequentialminus\":[[0.0,\"#440154\"],[0.1111111111111111,\"#482878\"],[0.2222222222222222,\"#3e4989\"],[0.3333333333333333,\"#31688e\"],[0.4444444444444444,\"#26828e\"],[0.5555555555555556,\"#1f9e89\"],[0.6666666666666666,\"#35b779\"],[0.7777777777777778,\"#6ece58\"],[0.8888888888888888,\"#b5de2b\"],[1.0,\"#fde725\"]]},\"colorway\":[\"#1F77B4\",\"#FF7F0E\",\"#2CA02C\",\"#D62728\",\"#9467BD\",\"#8C564B\",\"#E377C2\",\"#7F7F7F\",\"#BCBD22\",\"#17BECF\"],\"font\":{\"color\":\"rgb(36,36,36)\"},\"geo\":{\"bgcolor\":\"white\",\"lakecolor\":\"white\",\"landcolor\":\"white\",\"showlakes\":true,\"showland\":true,\"subunitcolor\":\"white\"},\"hoverlabel\":{\"align\":\"left\"},\"hovermode\":\"closest\",\"mapbox\":{\"style\":\"light\"},\"paper_bgcolor\":\"white\",\"plot_bgcolor\":\"white\",\"polar\":{\"angularaxis\":{\"gridcolor\":\"rgb(232,232,232)\",\"linecolor\":\"rgb(36,36,36)\",\"showgrid\":false,\"showline\":true,\"ticks\":\"outside\"},\"bgcolor\":\"white\",\"radialaxis\":{\"gridcolor\":\"rgb(232,232,232)\",\"linecolor\":\"rgb(36,36,36)\",\"showgrid\":false,\"showline\":true,\"ticks\":\"outside\"}},\"scene\":{\"xaxis\":{\"backgroundcolor\":\"white\",\"gridcolor\":\"rgb(232,232,232)\",\"gridwidth\":2,\"linecolor\":\"rgb(36,36,36)\",\"showbackground\":true,\"showgrid\":false,\"showline\":true,\"ticks\":\"outside\",\"zeroline\":false,\"zerolinecolor\":\"rgb(36,36,36)\"},\"yaxis\":{\"backgroundcolor\":\"white\",\"gridcolor\":\"rgb(232,232,232)\",\"gridwidth\":2,\"linecolor\":\"rgb(36,36,36)\",\"showbackground\":true,\"showgrid\":false,\"showline\":true,\"ticks\":\"outside\",\"zeroline\":false,\"zerolinecolor\":\"rgb(36,36,36)\"},\"zaxis\":{\"backgroundcolor\":\"white\",\"gridcolor\":\"rgb(232,232,232)\",\"gridwidth\":2,\"linecolor\":\"rgb(36,36,36)\",\"showbackground\":true,\"showgrid\":false,\"showline\":true,\"ticks\":\"outside\",\"zeroline\":false,\"zerolinecolor\":\"rgb(36,36,36)\"}},\"shapedefaults\":{\"fillcolor\":\"black\",\"line\":{\"width\":0},\"opacity\":0.3},\"ternary\":{\"aaxis\":{\"gridcolor\":\"rgb(232,232,232)\",\"linecolor\":\"rgb(36,36,36)\",\"showgrid\":false,\"showline\":true,\"ticks\":\"outside\"},\"baxis\":{\"gridcolor\":\"rgb(232,232,232)\",\"linecolor\":\"rgb(36,36,36)\",\"showgrid\":false,\"showline\":true,\"ticks\":\"outside\"},\"bgcolor\":\"white\",\"caxis\":{\"gridcolor\":\"rgb(232,232,232)\",\"linecolor\":\"rgb(36,36,36)\",\"showgrid\":false,\"showline\":true,\"ticks\":\"outside\"}},\"title\":{\"x\":0.05},\"xaxis\":{\"automargin\":true,\"gridcolor\":\"rgb(232,232,232)\",\"linecolor\":\"rgb(36,36,36)\",\"showgrid\":false,\"showline\":true,\"ticks\":\"outside\",\"title\":{\"standoff\":15},\"zeroline\":false,\"zerolinecolor\":\"rgb(36,36,36)\"},\"yaxis\":{\"automargin\":true,\"gridcolor\":\"rgb(232,232,232)\",\"linecolor\":\"rgb(36,36,36)\",\"showgrid\":false,\"showline\":true,\"ticks\":\"outside\",\"title\":{\"standoff\":15},\"zeroline\":false,\"zerolinecolor\":\"rgb(36,36,36)\"}}},\"xaxis\":{\"anchor\":\"y\",\"domain\":[0.0,1.0],\"title\":{\"text\":\"Model\"},\"tickfont\":{\"size\":16},\"showline\":false,\"showgrid\":false},\"yaxis\":{\"anchor\":\"x\",\"domain\":[0.0,1.0],\"title\":{\"text\":\"Accuracy\"},\"tickfont\":{\"size\":16},\"showgrid\":true,\"gridcolor\":\"lightgrey\"},\"legend\":{\"tracegroupgap\":0},\"title\":{\"text\":\"Test AUC Comparison\",\"x\":0.5,\"xanchor\":\"center\"},\"barmode\":\"relative\",\"height\":600,\"width\":600,\"margin\":{\"l\":20,\"r\":20,\"t\":40,\"b\":20},\"font\":{\"size\":16,\"family\":\"Arial\"},\"showlegend\":false},                        {\"responsive\": true}                    ).then(function(){\n",
       "                            \n",
       "var gd = document.getElementById('b7e50773-333b-4253-b00e-ac2f2d5fd928');\n",
       "var x = new MutationObserver(function (mutations, observer) {{\n",
       "        var display = window.getComputedStyle(gd).display;\n",
       "        if (!display || display === 'none') {{\n",
       "            console.log([gd, 'removed!']);\n",
       "            Plotly.purge(gd);\n",
       "            observer.disconnect();\n",
       "        }}\n",
       "}});\n",
       "\n",
       "// Listen for the removal of the full notebook cells\n",
       "var notebookContainer = gd.closest('#notebook-container');\n",
       "if (notebookContainer) {{\n",
       "    x.observe(notebookContainer, {childList: true});\n",
       "}}\n",
       "\n",
       "// Listen for the clearing of the current output cell\n",
       "var outputEl = gd.closest('.output');\n",
       "if (outputEl) {{\n",
       "    x.observe(outputEl, {childList: true});\n",
       "}}\n",
       "\n",
       "                        })                };                });            </script>        </div>"
      ]
     },
     "metadata": {},
     "output_type": "display_data"
    }
   ],
   "source": [
    "# Plot test accuracies\n",
    "fig = plot_model_comparison(test_accuracies_dict, font_size=16, height=600, width=600, marker_color=\"#ADD8E6\")\n",
    "fig.show() # Show the plot"
   ]
  },
  {
   "cell_type": "code",
   "execution_count": 14,
   "id": "c1a0c758",
   "metadata": {},
   "outputs": [
    {
     "data": {
      "application/vnd.plotly.v1+json": {
       "config": {
        "plotlyServerURL": "https://plot.ly"
       },
       "data": [
        {
         "coloraxis": "coloraxis",
         "hovertemplate": "Model: %{x}<br>Model: %{y}<br>Average Overlap: %{z}<extra></extra>",
         "name": "0",
         "type": "heatmap",
         "x": [
          "FMCIBExtractor",
          "CTFMExtractor",
          "PyramidExtractorVar",
          "PyramidExtractorNoVar",
          "VISTA3DExtractor",
          "VocoExtractor",
          "SUPREMExtractor",
          "MerlinExtractor",
          "ModelsGenExtractor"
         ],
         "xaxis": "x",
         "y": [
          "FMCIBExtractor",
          "CTFMExtractor",
          "PyramidExtractorVar",
          "PyramidExtractorNoVar",
          "VISTA3DExtractor",
          "VocoExtractor",
          "SUPREMExtractor",
          "MerlinExtractor",
          "ModelsGenExtractor"
         ],
         "yaxis": "y",
         "z": [
          [
           null,
           2.0620384047267355,
           0.7976366322008862,
           0.5553914327917282,
           2.601181683899557,
           0.19497784342688332,
           1.621861152141802,
           0.9158050221565731,
           2.707533234859675
          ],
          [
           2.0620384047267355,
           null,
           0.5435745937961596,
           0.3810930576070901,
           3.4194977843426884,
           0.2481536189069424,
           1.9246676514032497,
           1.0280649926144756,
           3.2658788774002954
          ],
          [
           0.7976366322008862,
           0.5435745937961596,
           null,
           0.41063515509601184,
           0.7784342688330872,
           0.16691285081240767,
           0.5022156573116692,
           0.345642540620384,
           0.7119645494830132
          ],
          [
           0.5553914327917282,
           0.3810930576070901,
           0.41063515509601184,
           null,
           0.4667651403249631,
           0.16395864106351551,
           0.37370753323485967,
           0.30428360413589367,
           0.4564254062038405
          ],
          [
           2.601181683899557,
           3.4194977843426884,
           0.7784342688330872,
           0.4667651403249631,
           null,
           0.2274741506646972,
           2.2629246676514034,
           1.1137370753323486,
           4.197932053175776
          ],
          [
           0.19497784342688332,
           0.2481536189069424,
           0.16691285081240767,
           0.16395864106351551,
           0.2274741506646972,
           null,
           0.20974889217134415,
           0.19497784342688332,
           0.20974889217134415
          ],
          [
           1.621861152141802,
           1.9246676514032497,
           0.5022156573116692,
           0.37370753323485967,
           2.2629246676514034,
           0.20974889217134415,
           null,
           0.6971935007385525,
           2.41506646971935
          ],
          [
           0.9158050221565731,
           1.0280649926144756,
           0.345642540620384,
           0.30428360413589367,
           1.1137370753323486,
           0.19497784342688332,
           0.6971935007385525,
           null,
           1.0915805022156573
          ],
          [
           2.707533234859675,
           3.2658788774002954,
           0.7119645494830132,
           0.4564254062038405,
           4.197932053175776,
           0.20974889217134415,
           2.41506646971935,
           1.0915805022156573,
           null
          ]
         ]
        }
       ],
       "layout": {
        "coloraxis": {
         "colorbar": {
          "title": {
           "text": "Average Overlap"
          }
         },
         "colorscale": [
          [
           0,
           "rgb(247,251,255)"
          ],
          [
           0.125,
           "rgb(222,235,247)"
          ],
          [
           0.25,
           "rgb(198,219,239)"
          ],
          [
           0.375,
           "rgb(158,202,225)"
          ],
          [
           0.5,
           "rgb(107,174,214)"
          ],
          [
           0.625,
           "rgb(66,146,198)"
          ],
          [
           0.75,
           "rgb(33,113,181)"
          ],
          [
           0.875,
           "rgb(8,81,156)"
          ],
          [
           1,
           "rgb(8,48,107)"
          ]
         ]
        },
        "margin": {
         "t": 60
        },
        "template": {
         "data": {
          "bar": [
           {
            "error_x": {
             "color": "rgb(36,36,36)"
            },
            "error_y": {
             "color": "rgb(36,36,36)"
            },
            "marker": {
             "line": {
              "color": "white",
              "width": 0.5
             },
             "pattern": {
              "fillmode": "overlay",
              "size": 10,
              "solidity": 0.2
             }
            },
            "type": "bar"
           }
          ],
          "barpolar": [
           {
            "marker": {
             "line": {
              "color": "white",
              "width": 0.5
             },
             "pattern": {
              "fillmode": "overlay",
              "size": 10,
              "solidity": 0.2
             }
            },
            "type": "barpolar"
           }
          ],
          "carpet": [
           {
            "aaxis": {
             "endlinecolor": "rgb(36,36,36)",
             "gridcolor": "white",
             "linecolor": "white",
             "minorgridcolor": "white",
             "startlinecolor": "rgb(36,36,36)"
            },
            "baxis": {
             "endlinecolor": "rgb(36,36,36)",
             "gridcolor": "white",
             "linecolor": "white",
             "minorgridcolor": "white",
             "startlinecolor": "rgb(36,36,36)"
            },
            "type": "carpet"
           }
          ],
          "choropleth": [
           {
            "colorbar": {
             "outlinewidth": 1,
             "tickcolor": "rgb(36,36,36)",
             "ticks": "outside"
            },
            "type": "choropleth"
           }
          ],
          "contour": [
           {
            "colorbar": {
             "outlinewidth": 1,
             "tickcolor": "rgb(36,36,36)",
             "ticks": "outside"
            },
            "colorscale": [
             [
              0,
              "#440154"
             ],
             [
              0.1111111111111111,
              "#482878"
             ],
             [
              0.2222222222222222,
              "#3e4989"
             ],
             [
              0.3333333333333333,
              "#31688e"
             ],
             [
              0.4444444444444444,
              "#26828e"
             ],
             [
              0.5555555555555556,
              "#1f9e89"
             ],
             [
              0.6666666666666666,
              "#35b779"
             ],
             [
              0.7777777777777778,
              "#6ece58"
             ],
             [
              0.8888888888888888,
              "#b5de2b"
             ],
             [
              1,
              "#fde725"
             ]
            ],
            "type": "contour"
           }
          ],
          "contourcarpet": [
           {
            "colorbar": {
             "outlinewidth": 1,
             "tickcolor": "rgb(36,36,36)",
             "ticks": "outside"
            },
            "type": "contourcarpet"
           }
          ],
          "heatmap": [
           {
            "colorbar": {
             "outlinewidth": 1,
             "tickcolor": "rgb(36,36,36)",
             "ticks": "outside"
            },
            "colorscale": [
             [
              0,
              "#440154"
             ],
             [
              0.1111111111111111,
              "#482878"
             ],
             [
              0.2222222222222222,
              "#3e4989"
             ],
             [
              0.3333333333333333,
              "#31688e"
             ],
             [
              0.4444444444444444,
              "#26828e"
             ],
             [
              0.5555555555555556,
              "#1f9e89"
             ],
             [
              0.6666666666666666,
              "#35b779"
             ],
             [
              0.7777777777777778,
              "#6ece58"
             ],
             [
              0.8888888888888888,
              "#b5de2b"
             ],
             [
              1,
              "#fde725"
             ]
            ],
            "type": "heatmap"
           }
          ],
          "heatmapgl": [
           {
            "colorbar": {
             "outlinewidth": 1,
             "tickcolor": "rgb(36,36,36)",
             "ticks": "outside"
            },
            "colorscale": [
             [
              0,
              "#440154"
             ],
             [
              0.1111111111111111,
              "#482878"
             ],
             [
              0.2222222222222222,
              "#3e4989"
             ],
             [
              0.3333333333333333,
              "#31688e"
             ],
             [
              0.4444444444444444,
              "#26828e"
             ],
             [
              0.5555555555555556,
              "#1f9e89"
             ],
             [
              0.6666666666666666,
              "#35b779"
             ],
             [
              0.7777777777777778,
              "#6ece58"
             ],
             [
              0.8888888888888888,
              "#b5de2b"
             ],
             [
              1,
              "#fde725"
             ]
            ],
            "type": "heatmapgl"
           }
          ],
          "histogram": [
           {
            "marker": {
             "line": {
              "color": "white",
              "width": 0.6
             }
            },
            "type": "histogram"
           }
          ],
          "histogram2d": [
           {
            "colorbar": {
             "outlinewidth": 1,
             "tickcolor": "rgb(36,36,36)",
             "ticks": "outside"
            },
            "colorscale": [
             [
              0,
              "#440154"
             ],
             [
              0.1111111111111111,
              "#482878"
             ],
             [
              0.2222222222222222,
              "#3e4989"
             ],
             [
              0.3333333333333333,
              "#31688e"
             ],
             [
              0.4444444444444444,
              "#26828e"
             ],
             [
              0.5555555555555556,
              "#1f9e89"
             ],
             [
              0.6666666666666666,
              "#35b779"
             ],
             [
              0.7777777777777778,
              "#6ece58"
             ],
             [
              0.8888888888888888,
              "#b5de2b"
             ],
             [
              1,
              "#fde725"
             ]
            ],
            "type": "histogram2d"
           }
          ],
          "histogram2dcontour": [
           {
            "colorbar": {
             "outlinewidth": 1,
             "tickcolor": "rgb(36,36,36)",
             "ticks": "outside"
            },
            "colorscale": [
             [
              0,
              "#440154"
             ],
             [
              0.1111111111111111,
              "#482878"
             ],
             [
              0.2222222222222222,
              "#3e4989"
             ],
             [
              0.3333333333333333,
              "#31688e"
             ],
             [
              0.4444444444444444,
              "#26828e"
             ],
             [
              0.5555555555555556,
              "#1f9e89"
             ],
             [
              0.6666666666666666,
              "#35b779"
             ],
             [
              0.7777777777777778,
              "#6ece58"
             ],
             [
              0.8888888888888888,
              "#b5de2b"
             ],
             [
              1,
              "#fde725"
             ]
            ],
            "type": "histogram2dcontour"
           }
          ],
          "mesh3d": [
           {
            "colorbar": {
             "outlinewidth": 1,
             "tickcolor": "rgb(36,36,36)",
             "ticks": "outside"
            },
            "type": "mesh3d"
           }
          ],
          "parcoords": [
           {
            "line": {
             "colorbar": {
              "outlinewidth": 1,
              "tickcolor": "rgb(36,36,36)",
              "ticks": "outside"
             }
            },
            "type": "parcoords"
           }
          ],
          "pie": [
           {
            "automargin": true,
            "type": "pie"
           }
          ],
          "scatter": [
           {
            "fillpattern": {
             "fillmode": "overlay",
             "size": 10,
             "solidity": 0.2
            },
            "type": "scatter"
           }
          ],
          "scatter3d": [
           {
            "line": {
             "colorbar": {
              "outlinewidth": 1,
              "tickcolor": "rgb(36,36,36)",
              "ticks": "outside"
             }
            },
            "marker": {
             "colorbar": {
              "outlinewidth": 1,
              "tickcolor": "rgb(36,36,36)",
              "ticks": "outside"
             }
            },
            "type": "scatter3d"
           }
          ],
          "scattercarpet": [
           {
            "marker": {
             "colorbar": {
              "outlinewidth": 1,
              "tickcolor": "rgb(36,36,36)",
              "ticks": "outside"
             }
            },
            "type": "scattercarpet"
           }
          ],
          "scattergeo": [
           {
            "marker": {
             "colorbar": {
              "outlinewidth": 1,
              "tickcolor": "rgb(36,36,36)",
              "ticks": "outside"
             }
            },
            "type": "scattergeo"
           }
          ],
          "scattergl": [
           {
            "marker": {
             "colorbar": {
              "outlinewidth": 1,
              "tickcolor": "rgb(36,36,36)",
              "ticks": "outside"
             }
            },
            "type": "scattergl"
           }
          ],
          "scattermapbox": [
           {
            "marker": {
             "colorbar": {
              "outlinewidth": 1,
              "tickcolor": "rgb(36,36,36)",
              "ticks": "outside"
             }
            },
            "type": "scattermapbox"
           }
          ],
          "scatterpolar": [
           {
            "marker": {
             "colorbar": {
              "outlinewidth": 1,
              "tickcolor": "rgb(36,36,36)",
              "ticks": "outside"
             }
            },
            "type": "scatterpolar"
           }
          ],
          "scatterpolargl": [
           {
            "marker": {
             "colorbar": {
              "outlinewidth": 1,
              "tickcolor": "rgb(36,36,36)",
              "ticks": "outside"
             }
            },
            "type": "scatterpolargl"
           }
          ],
          "scatterternary": [
           {
            "marker": {
             "colorbar": {
              "outlinewidth": 1,
              "tickcolor": "rgb(36,36,36)",
              "ticks": "outside"
             }
            },
            "type": "scatterternary"
           }
          ],
          "surface": [
           {
            "colorbar": {
             "outlinewidth": 1,
             "tickcolor": "rgb(36,36,36)",
             "ticks": "outside"
            },
            "colorscale": [
             [
              0,
              "#440154"
             ],
             [
              0.1111111111111111,
              "#482878"
             ],
             [
              0.2222222222222222,
              "#3e4989"
             ],
             [
              0.3333333333333333,
              "#31688e"
             ],
             [
              0.4444444444444444,
              "#26828e"
             ],
             [
              0.5555555555555556,
              "#1f9e89"
             ],
             [
              0.6666666666666666,
              "#35b779"
             ],
             [
              0.7777777777777778,
              "#6ece58"
             ],
             [
              0.8888888888888888,
              "#b5de2b"
             ],
             [
              1,
              "#fde725"
             ]
            ],
            "type": "surface"
           }
          ],
          "table": [
           {
            "cells": {
             "fill": {
              "color": "rgb(237,237,237)"
             },
             "line": {
              "color": "white"
             }
            },
            "header": {
             "fill": {
              "color": "rgb(217,217,217)"
             },
             "line": {
              "color": "white"
             }
            },
            "type": "table"
           }
          ]
         },
         "layout": {
          "annotationdefaults": {
           "arrowhead": 0,
           "arrowwidth": 1
          },
          "autotypenumbers": "strict",
          "coloraxis": {
           "colorbar": {
            "outlinewidth": 1,
            "tickcolor": "rgb(36,36,36)",
            "ticks": "outside"
           }
          },
          "colorscale": {
           "diverging": [
            [
             0,
             "rgb(103,0,31)"
            ],
            [
             0.1,
             "rgb(178,24,43)"
            ],
            [
             0.2,
             "rgb(214,96,77)"
            ],
            [
             0.3,
             "rgb(244,165,130)"
            ],
            [
             0.4,
             "rgb(253,219,199)"
            ],
            [
             0.5,
             "rgb(247,247,247)"
            ],
            [
             0.6,
             "rgb(209,229,240)"
            ],
            [
             0.7,
             "rgb(146,197,222)"
            ],
            [
             0.8,
             "rgb(67,147,195)"
            ],
            [
             0.9,
             "rgb(33,102,172)"
            ],
            [
             1,
             "rgb(5,48,97)"
            ]
           ],
           "sequential": [
            [
             0,
             "#440154"
            ],
            [
             0.1111111111111111,
             "#482878"
            ],
            [
             0.2222222222222222,
             "#3e4989"
            ],
            [
             0.3333333333333333,
             "#31688e"
            ],
            [
             0.4444444444444444,
             "#26828e"
            ],
            [
             0.5555555555555556,
             "#1f9e89"
            ],
            [
             0.6666666666666666,
             "#35b779"
            ],
            [
             0.7777777777777778,
             "#6ece58"
            ],
            [
             0.8888888888888888,
             "#b5de2b"
            ],
            [
             1,
             "#fde725"
            ]
           ],
           "sequentialminus": [
            [
             0,
             "#440154"
            ],
            [
             0.1111111111111111,
             "#482878"
            ],
            [
             0.2222222222222222,
             "#3e4989"
            ],
            [
             0.3333333333333333,
             "#31688e"
            ],
            [
             0.4444444444444444,
             "#26828e"
            ],
            [
             0.5555555555555556,
             "#1f9e89"
            ],
            [
             0.6666666666666666,
             "#35b779"
            ],
            [
             0.7777777777777778,
             "#6ece58"
            ],
            [
             0.8888888888888888,
             "#b5de2b"
            ],
            [
             1,
             "#fde725"
            ]
           ]
          },
          "colorway": [
           "#1F77B4",
           "#FF7F0E",
           "#2CA02C",
           "#D62728",
           "#9467BD",
           "#8C564B",
           "#E377C2",
           "#7F7F7F",
           "#BCBD22",
           "#17BECF"
          ],
          "font": {
           "color": "rgb(36,36,36)"
          },
          "geo": {
           "bgcolor": "white",
           "lakecolor": "white",
           "landcolor": "white",
           "showlakes": true,
           "showland": true,
           "subunitcolor": "white"
          },
          "hoverlabel": {
           "align": "left"
          },
          "hovermode": "closest",
          "mapbox": {
           "style": "light"
          },
          "paper_bgcolor": "white",
          "plot_bgcolor": "white",
          "polar": {
           "angularaxis": {
            "gridcolor": "rgb(232,232,232)",
            "linecolor": "rgb(36,36,36)",
            "showgrid": false,
            "showline": true,
            "ticks": "outside"
           },
           "bgcolor": "white",
           "radialaxis": {
            "gridcolor": "rgb(232,232,232)",
            "linecolor": "rgb(36,36,36)",
            "showgrid": false,
            "showline": true,
            "ticks": "outside"
           }
          },
          "scene": {
           "xaxis": {
            "backgroundcolor": "white",
            "gridcolor": "rgb(232,232,232)",
            "gridwidth": 2,
            "linecolor": "rgb(36,36,36)",
            "showbackground": true,
            "showgrid": false,
            "showline": true,
            "ticks": "outside",
            "zeroline": false,
            "zerolinecolor": "rgb(36,36,36)"
           },
           "yaxis": {
            "backgroundcolor": "white",
            "gridcolor": "rgb(232,232,232)",
            "gridwidth": 2,
            "linecolor": "rgb(36,36,36)",
            "showbackground": true,
            "showgrid": false,
            "showline": true,
            "ticks": "outside",
            "zeroline": false,
            "zerolinecolor": "rgb(36,36,36)"
           },
           "zaxis": {
            "backgroundcolor": "white",
            "gridcolor": "rgb(232,232,232)",
            "gridwidth": 2,
            "linecolor": "rgb(36,36,36)",
            "showbackground": true,
            "showgrid": false,
            "showline": true,
            "ticks": "outside",
            "zeroline": false,
            "zerolinecolor": "rgb(36,36,36)"
           }
          },
          "shapedefaults": {
           "fillcolor": "black",
           "line": {
            "width": 0
           },
           "opacity": 0.3
          },
          "ternary": {
           "aaxis": {
            "gridcolor": "rgb(232,232,232)",
            "linecolor": "rgb(36,36,36)",
            "showgrid": false,
            "showline": true,
            "ticks": "outside"
           },
           "baxis": {
            "gridcolor": "rgb(232,232,232)",
            "linecolor": "rgb(36,36,36)",
            "showgrid": false,
            "showline": true,
            "ticks": "outside"
           },
           "bgcolor": "white",
           "caxis": {
            "gridcolor": "rgb(232,232,232)",
            "linecolor": "rgb(36,36,36)",
            "showgrid": false,
            "showline": true,
            "ticks": "outside"
           }
          },
          "title": {
           "x": 0.05
          },
          "xaxis": {
           "automargin": true,
           "gridcolor": "rgb(232,232,232)",
           "linecolor": "rgb(36,36,36)",
           "showgrid": false,
           "showline": true,
           "ticks": "outside",
           "title": {
            "standoff": 15
           },
           "zeroline": false,
           "zerolinecolor": "rgb(36,36,36)"
          },
          "yaxis": {
           "automargin": true,
           "gridcolor": "rgb(232,232,232)",
           "linecolor": "rgb(36,36,36)",
           "showgrid": false,
           "showline": true,
           "ticks": "outside",
           "title": {
            "standoff": 15
           },
           "zeroline": false,
           "zerolinecolor": "rgb(36,36,36)"
          }
         }
        },
        "title": {
         "text": "Mutual k-Nearest Neighbors Overlap Scores"
        },
        "width": 600,
        "xaxis": {
         "anchor": "y",
         "constrain": "domain",
         "domain": [
          0,
          1
         ],
         "scaleanchor": "y",
         "tickangle": 45,
         "title": {
          "text": "Model"
         }
        },
        "yaxis": {
         "anchor": "x",
         "autorange": "reversed",
         "constrain": "domain",
         "domain": [
          0,
          1
         ],
         "title": {
          "text": "Model"
         }
        }
       }
      },
      "text/html": [
       "<div>                            <div id=\"cd0473b0-e07e-4b95-bb1c-c5f150845891\" class=\"plotly-graph-div\" style=\"height:525px; width:600px;\"></div>            <script type=\"text/javascript\">                require([\"plotly\"], function(Plotly) {                    window.PLOTLYENV=window.PLOTLYENV || {};                                    if (document.getElementById(\"cd0473b0-e07e-4b95-bb1c-c5f150845891\")) {                    Plotly.newPlot(                        \"cd0473b0-e07e-4b95-bb1c-c5f150845891\",                        [{\"coloraxis\":\"coloraxis\",\"name\":\"0\",\"x\":[\"FMCIBExtractor\",\"CTFMExtractor\",\"PyramidExtractorVar\",\"PyramidExtractorNoVar\",\"VISTA3DExtractor\",\"VocoExtractor\",\"SUPREMExtractor\",\"MerlinExtractor\",\"ModelsGenExtractor\"],\"y\":[\"FMCIBExtractor\",\"CTFMExtractor\",\"PyramidExtractorVar\",\"PyramidExtractorNoVar\",\"VISTA3DExtractor\",\"VocoExtractor\",\"SUPREMExtractor\",\"MerlinExtractor\",\"ModelsGenExtractor\"],\"z\":[[null,2.0620384047267355,0.7976366322008862,0.5553914327917282,2.601181683899557,0.19497784342688332,1.621861152141802,0.9158050221565731,2.707533234859675],[2.0620384047267355,null,0.5435745937961596,0.3810930576070901,3.4194977843426884,0.2481536189069424,1.9246676514032497,1.0280649926144756,3.2658788774002954],[0.7976366322008862,0.5435745937961596,null,0.41063515509601184,0.7784342688330872,0.16691285081240767,0.5022156573116692,0.345642540620384,0.7119645494830132],[0.5553914327917282,0.3810930576070901,0.41063515509601184,null,0.4667651403249631,0.16395864106351551,0.37370753323485967,0.30428360413589367,0.4564254062038405],[2.601181683899557,3.4194977843426884,0.7784342688330872,0.4667651403249631,null,0.2274741506646972,2.2629246676514034,1.1137370753323486,4.197932053175776],[0.19497784342688332,0.2481536189069424,0.16691285081240767,0.16395864106351551,0.2274741506646972,null,0.20974889217134415,0.19497784342688332,0.20974889217134415],[1.621861152141802,1.9246676514032497,0.5022156573116692,0.37370753323485967,2.2629246676514034,0.20974889217134415,null,0.6971935007385525,2.41506646971935],[0.9158050221565731,1.0280649926144756,0.345642540620384,0.30428360413589367,1.1137370753323486,0.19497784342688332,0.6971935007385525,null,1.0915805022156573],[2.707533234859675,3.2658788774002954,0.7119645494830132,0.4564254062038405,4.197932053175776,0.20974889217134415,2.41506646971935,1.0915805022156573,null]],\"type\":\"heatmap\",\"xaxis\":\"x\",\"yaxis\":\"y\",\"hovertemplate\":\"Model: %{x}\\u003cbr\\u003eModel: %{y}\\u003cbr\\u003eAverage Overlap: %{z}\\u003cextra\\u003e\\u003c\\u002fextra\\u003e\"}],                        {\"template\":{\"data\":{\"barpolar\":[{\"marker\":{\"line\":{\"color\":\"white\",\"width\":0.5},\"pattern\":{\"fillmode\":\"overlay\",\"size\":10,\"solidity\":0.2}},\"type\":\"barpolar\"}],\"bar\":[{\"error_x\":{\"color\":\"rgb(36,36,36)\"},\"error_y\":{\"color\":\"rgb(36,36,36)\"},\"marker\":{\"line\":{\"color\":\"white\",\"width\":0.5},\"pattern\":{\"fillmode\":\"overlay\",\"size\":10,\"solidity\":0.2}},\"type\":\"bar\"}],\"carpet\":[{\"aaxis\":{\"endlinecolor\":\"rgb(36,36,36)\",\"gridcolor\":\"white\",\"linecolor\":\"white\",\"minorgridcolor\":\"white\",\"startlinecolor\":\"rgb(36,36,36)\"},\"baxis\":{\"endlinecolor\":\"rgb(36,36,36)\",\"gridcolor\":\"white\",\"linecolor\":\"white\",\"minorgridcolor\":\"white\",\"startlinecolor\":\"rgb(36,36,36)\"},\"type\":\"carpet\"}],\"choropleth\":[{\"colorbar\":{\"outlinewidth\":1,\"tickcolor\":\"rgb(36,36,36)\",\"ticks\":\"outside\"},\"type\":\"choropleth\"}],\"contourcarpet\":[{\"colorbar\":{\"outlinewidth\":1,\"tickcolor\":\"rgb(36,36,36)\",\"ticks\":\"outside\"},\"type\":\"contourcarpet\"}],\"contour\":[{\"colorbar\":{\"outlinewidth\":1,\"tickcolor\":\"rgb(36,36,36)\",\"ticks\":\"outside\"},\"colorscale\":[[0.0,\"#440154\"],[0.1111111111111111,\"#482878\"],[0.2222222222222222,\"#3e4989\"],[0.3333333333333333,\"#31688e\"],[0.4444444444444444,\"#26828e\"],[0.5555555555555556,\"#1f9e89\"],[0.6666666666666666,\"#35b779\"],[0.7777777777777778,\"#6ece58\"],[0.8888888888888888,\"#b5de2b\"],[1.0,\"#fde725\"]],\"type\":\"contour\"}],\"heatmapgl\":[{\"colorbar\":{\"outlinewidth\":1,\"tickcolor\":\"rgb(36,36,36)\",\"ticks\":\"outside\"},\"colorscale\":[[0.0,\"#440154\"],[0.1111111111111111,\"#482878\"],[0.2222222222222222,\"#3e4989\"],[0.3333333333333333,\"#31688e\"],[0.4444444444444444,\"#26828e\"],[0.5555555555555556,\"#1f9e89\"],[0.6666666666666666,\"#35b779\"],[0.7777777777777778,\"#6ece58\"],[0.8888888888888888,\"#b5de2b\"],[1.0,\"#fde725\"]],\"type\":\"heatmapgl\"}],\"heatmap\":[{\"colorbar\":{\"outlinewidth\":1,\"tickcolor\":\"rgb(36,36,36)\",\"ticks\":\"outside\"},\"colorscale\":[[0.0,\"#440154\"],[0.1111111111111111,\"#482878\"],[0.2222222222222222,\"#3e4989\"],[0.3333333333333333,\"#31688e\"],[0.4444444444444444,\"#26828e\"],[0.5555555555555556,\"#1f9e89\"],[0.6666666666666666,\"#35b779\"],[0.7777777777777778,\"#6ece58\"],[0.8888888888888888,\"#b5de2b\"],[1.0,\"#fde725\"]],\"type\":\"heatmap\"}],\"histogram2dcontour\":[{\"colorbar\":{\"outlinewidth\":1,\"tickcolor\":\"rgb(36,36,36)\",\"ticks\":\"outside\"},\"colorscale\":[[0.0,\"#440154\"],[0.1111111111111111,\"#482878\"],[0.2222222222222222,\"#3e4989\"],[0.3333333333333333,\"#31688e\"],[0.4444444444444444,\"#26828e\"],[0.5555555555555556,\"#1f9e89\"],[0.6666666666666666,\"#35b779\"],[0.7777777777777778,\"#6ece58\"],[0.8888888888888888,\"#b5de2b\"],[1.0,\"#fde725\"]],\"type\":\"histogram2dcontour\"}],\"histogram2d\":[{\"colorbar\":{\"outlinewidth\":1,\"tickcolor\":\"rgb(36,36,36)\",\"ticks\":\"outside\"},\"colorscale\":[[0.0,\"#440154\"],[0.1111111111111111,\"#482878\"],[0.2222222222222222,\"#3e4989\"],[0.3333333333333333,\"#31688e\"],[0.4444444444444444,\"#26828e\"],[0.5555555555555556,\"#1f9e89\"],[0.6666666666666666,\"#35b779\"],[0.7777777777777778,\"#6ece58\"],[0.8888888888888888,\"#b5de2b\"],[1.0,\"#fde725\"]],\"type\":\"histogram2d\"}],\"histogram\":[{\"marker\":{\"line\":{\"color\":\"white\",\"width\":0.6}},\"type\":\"histogram\"}],\"mesh3d\":[{\"colorbar\":{\"outlinewidth\":1,\"tickcolor\":\"rgb(36,36,36)\",\"ticks\":\"outside\"},\"type\":\"mesh3d\"}],\"parcoords\":[{\"line\":{\"colorbar\":{\"outlinewidth\":1,\"tickcolor\":\"rgb(36,36,36)\",\"ticks\":\"outside\"}},\"type\":\"parcoords\"}],\"pie\":[{\"automargin\":true,\"type\":\"pie\"}],\"scatter3d\":[{\"line\":{\"colorbar\":{\"outlinewidth\":1,\"tickcolor\":\"rgb(36,36,36)\",\"ticks\":\"outside\"}},\"marker\":{\"colorbar\":{\"outlinewidth\":1,\"tickcolor\":\"rgb(36,36,36)\",\"ticks\":\"outside\"}},\"type\":\"scatter3d\"}],\"scattercarpet\":[{\"marker\":{\"colorbar\":{\"outlinewidth\":1,\"tickcolor\":\"rgb(36,36,36)\",\"ticks\":\"outside\"}},\"type\":\"scattercarpet\"}],\"scattergeo\":[{\"marker\":{\"colorbar\":{\"outlinewidth\":1,\"tickcolor\":\"rgb(36,36,36)\",\"ticks\":\"outside\"}},\"type\":\"scattergeo\"}],\"scattergl\":[{\"marker\":{\"colorbar\":{\"outlinewidth\":1,\"tickcolor\":\"rgb(36,36,36)\",\"ticks\":\"outside\"}},\"type\":\"scattergl\"}],\"scattermapbox\":[{\"marker\":{\"colorbar\":{\"outlinewidth\":1,\"tickcolor\":\"rgb(36,36,36)\",\"ticks\":\"outside\"}},\"type\":\"scattermapbox\"}],\"scatterpolargl\":[{\"marker\":{\"colorbar\":{\"outlinewidth\":1,\"tickcolor\":\"rgb(36,36,36)\",\"ticks\":\"outside\"}},\"type\":\"scatterpolargl\"}],\"scatterpolar\":[{\"marker\":{\"colorbar\":{\"outlinewidth\":1,\"tickcolor\":\"rgb(36,36,36)\",\"ticks\":\"outside\"}},\"type\":\"scatterpolar\"}],\"scatter\":[{\"fillpattern\":{\"fillmode\":\"overlay\",\"size\":10,\"solidity\":0.2},\"type\":\"scatter\"}],\"scatterternary\":[{\"marker\":{\"colorbar\":{\"outlinewidth\":1,\"tickcolor\":\"rgb(36,36,36)\",\"ticks\":\"outside\"}},\"type\":\"scatterternary\"}],\"surface\":[{\"colorbar\":{\"outlinewidth\":1,\"tickcolor\":\"rgb(36,36,36)\",\"ticks\":\"outside\"},\"colorscale\":[[0.0,\"#440154\"],[0.1111111111111111,\"#482878\"],[0.2222222222222222,\"#3e4989\"],[0.3333333333333333,\"#31688e\"],[0.4444444444444444,\"#26828e\"],[0.5555555555555556,\"#1f9e89\"],[0.6666666666666666,\"#35b779\"],[0.7777777777777778,\"#6ece58\"],[0.8888888888888888,\"#b5de2b\"],[1.0,\"#fde725\"]],\"type\":\"surface\"}],\"table\":[{\"cells\":{\"fill\":{\"color\":\"rgb(237,237,237)\"},\"line\":{\"color\":\"white\"}},\"header\":{\"fill\":{\"color\":\"rgb(217,217,217)\"},\"line\":{\"color\":\"white\"}},\"type\":\"table\"}]},\"layout\":{\"annotationdefaults\":{\"arrowhead\":0,\"arrowwidth\":1},\"autotypenumbers\":\"strict\",\"coloraxis\":{\"colorbar\":{\"outlinewidth\":1,\"tickcolor\":\"rgb(36,36,36)\",\"ticks\":\"outside\"}},\"colorscale\":{\"diverging\":[[0.0,\"rgb(103,0,31)\"],[0.1,\"rgb(178,24,43)\"],[0.2,\"rgb(214,96,77)\"],[0.3,\"rgb(244,165,130)\"],[0.4,\"rgb(253,219,199)\"],[0.5,\"rgb(247,247,247)\"],[0.6,\"rgb(209,229,240)\"],[0.7,\"rgb(146,197,222)\"],[0.8,\"rgb(67,147,195)\"],[0.9,\"rgb(33,102,172)\"],[1.0,\"rgb(5,48,97)\"]],\"sequential\":[[0.0,\"#440154\"],[0.1111111111111111,\"#482878\"],[0.2222222222222222,\"#3e4989\"],[0.3333333333333333,\"#31688e\"],[0.4444444444444444,\"#26828e\"],[0.5555555555555556,\"#1f9e89\"],[0.6666666666666666,\"#35b779\"],[0.7777777777777778,\"#6ece58\"],[0.8888888888888888,\"#b5de2b\"],[1.0,\"#fde725\"]],\"sequentialminus\":[[0.0,\"#440154\"],[0.1111111111111111,\"#482878\"],[0.2222222222222222,\"#3e4989\"],[0.3333333333333333,\"#31688e\"],[0.4444444444444444,\"#26828e\"],[0.5555555555555556,\"#1f9e89\"],[0.6666666666666666,\"#35b779\"],[0.7777777777777778,\"#6ece58\"],[0.8888888888888888,\"#b5de2b\"],[1.0,\"#fde725\"]]},\"colorway\":[\"#1F77B4\",\"#FF7F0E\",\"#2CA02C\",\"#D62728\",\"#9467BD\",\"#8C564B\",\"#E377C2\",\"#7F7F7F\",\"#BCBD22\",\"#17BECF\"],\"font\":{\"color\":\"rgb(36,36,36)\"},\"geo\":{\"bgcolor\":\"white\",\"lakecolor\":\"white\",\"landcolor\":\"white\",\"showlakes\":true,\"showland\":true,\"subunitcolor\":\"white\"},\"hoverlabel\":{\"align\":\"left\"},\"hovermode\":\"closest\",\"mapbox\":{\"style\":\"light\"},\"paper_bgcolor\":\"white\",\"plot_bgcolor\":\"white\",\"polar\":{\"angularaxis\":{\"gridcolor\":\"rgb(232,232,232)\",\"linecolor\":\"rgb(36,36,36)\",\"showgrid\":false,\"showline\":true,\"ticks\":\"outside\"},\"bgcolor\":\"white\",\"radialaxis\":{\"gridcolor\":\"rgb(232,232,232)\",\"linecolor\":\"rgb(36,36,36)\",\"showgrid\":false,\"showline\":true,\"ticks\":\"outside\"}},\"scene\":{\"xaxis\":{\"backgroundcolor\":\"white\",\"gridcolor\":\"rgb(232,232,232)\",\"gridwidth\":2,\"linecolor\":\"rgb(36,36,36)\",\"showbackground\":true,\"showgrid\":false,\"showline\":true,\"ticks\":\"outside\",\"zeroline\":false,\"zerolinecolor\":\"rgb(36,36,36)\"},\"yaxis\":{\"backgroundcolor\":\"white\",\"gridcolor\":\"rgb(232,232,232)\",\"gridwidth\":2,\"linecolor\":\"rgb(36,36,36)\",\"showbackground\":true,\"showgrid\":false,\"showline\":true,\"ticks\":\"outside\",\"zeroline\":false,\"zerolinecolor\":\"rgb(36,36,36)\"},\"zaxis\":{\"backgroundcolor\":\"white\",\"gridcolor\":\"rgb(232,232,232)\",\"gridwidth\":2,\"linecolor\":\"rgb(36,36,36)\",\"showbackground\":true,\"showgrid\":false,\"showline\":true,\"ticks\":\"outside\",\"zeroline\":false,\"zerolinecolor\":\"rgb(36,36,36)\"}},\"shapedefaults\":{\"fillcolor\":\"black\",\"line\":{\"width\":0},\"opacity\":0.3},\"ternary\":{\"aaxis\":{\"gridcolor\":\"rgb(232,232,232)\",\"linecolor\":\"rgb(36,36,36)\",\"showgrid\":false,\"showline\":true,\"ticks\":\"outside\"},\"baxis\":{\"gridcolor\":\"rgb(232,232,232)\",\"linecolor\":\"rgb(36,36,36)\",\"showgrid\":false,\"showline\":true,\"ticks\":\"outside\"},\"bgcolor\":\"white\",\"caxis\":{\"gridcolor\":\"rgb(232,232,232)\",\"linecolor\":\"rgb(36,36,36)\",\"showgrid\":false,\"showline\":true,\"ticks\":\"outside\"}},\"title\":{\"x\":0.05},\"xaxis\":{\"automargin\":true,\"gridcolor\":\"rgb(232,232,232)\",\"linecolor\":\"rgb(36,36,36)\",\"showgrid\":false,\"showline\":true,\"ticks\":\"outside\",\"title\":{\"standoff\":15},\"zeroline\":false,\"zerolinecolor\":\"rgb(36,36,36)\"},\"yaxis\":{\"automargin\":true,\"gridcolor\":\"rgb(232,232,232)\",\"linecolor\":\"rgb(36,36,36)\",\"showgrid\":false,\"showline\":true,\"ticks\":\"outside\",\"title\":{\"standoff\":15},\"zeroline\":false,\"zerolinecolor\":\"rgb(36,36,36)\"}}},\"xaxis\":{\"anchor\":\"y\",\"domain\":[0.0,1.0],\"scaleanchor\":\"y\",\"constrain\":\"domain\",\"title\":{\"text\":\"Model\"},\"tickangle\":45},\"yaxis\":{\"anchor\":\"x\",\"domain\":[0.0,1.0],\"autorange\":\"reversed\",\"constrain\":\"domain\",\"title\":{\"text\":\"Model\"}},\"coloraxis\":{\"colorbar\":{\"title\":{\"text\":\"Average Overlap\"}},\"colorscale\":[[0.0,\"rgb(247,251,255)\"],[0.125,\"rgb(222,235,247)\"],[0.25,\"rgb(198,219,239)\"],[0.375,\"rgb(158,202,225)\"],[0.5,\"rgb(107,174,214)\"],[0.625,\"rgb(66,146,198)\"],[0.75,\"rgb(33,113,181)\"],[0.875,\"rgb(8,81,156)\"],[1.0,\"rgb(8,48,107)\"]]},\"margin\":{\"t\":60},\"title\":{\"text\":\"Mutual k-Nearest Neighbors Overlap Scores\"},\"width\":600},                        {\"responsive\": true}                    ).then(function(){\n",
       "                            \n",
       "var gd = document.getElementById('cd0473b0-e07e-4b95-bb1c-c5f150845891');\n",
       "var x = new MutationObserver(function (mutations, observer) {{\n",
       "        var display = window.getComputedStyle(gd).display;\n",
       "        if (!display || display === 'none') {{\n",
       "            console.log([gd, 'removed!']);\n",
       "            Plotly.purge(gd);\n",
       "            observer.disconnect();\n",
       "        }}\n",
       "}});\n",
       "\n",
       "// Listen for the removal of the full notebook cells\n",
       "var notebookContainer = gd.closest('#notebook-container');\n",
       "if (notebookContainer) {{\n",
       "    x.observe(notebookContainer, {childList: true});\n",
       "}}\n",
       "\n",
       "// Listen for the clearing of the current output cell\n",
       "var outputEl = gd.closest('.output');\n",
       "if (outputEl) {{\n",
       "    x.observe(outputEl, {childList: true});\n",
       "}}\n",
       "\n",
       "                        })                };                });            </script>        </div>"
      ]
     },
     "metadata": {},
     "output_type": "display_data"
    }
   ],
   "source": [
    "model_features = extract_model_features(data)\n",
    "model_neighbors = compute_knn_indices(model_features, num_neighbors=10, metric=\"cosine\")\n",
    "overlap_matrix, model_list = compute_overlap_matrix(model_neighbors)\n",
    "fig = plot_overlap_matrix(overlap_matrix, model_list)\n",
    "fig.show()"
   ]
  },
  {
   "cell_type": "code",
   "execution_count": null,
   "id": "8c0093bf",
   "metadata": {},
   "outputs": [],
   "source": []
  },
  {
   "cell_type": "code",
   "execution_count": null,
   "id": "7f0febe1",
   "metadata": {},
   "outputs": [],
   "source": []
  }
 ],
 "metadata": {
  "kernelspec": {
   "display_name": "lighter_dev",
   "language": "python",
   "name": "python3"
  },
  "language_info": {
   "codemirror_mode": {
    "name": "ipython",
    "version": 3
   },
   "file_extension": ".py",
   "mimetype": "text/x-python",
   "name": "python",
   "nbconvert_exporter": "python",
   "pygments_lexer": "ipython3",
   "version": "3.10.14"
  }
 },
 "nbformat": 4,
 "nbformat_minor": 5
}
