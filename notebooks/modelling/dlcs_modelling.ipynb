{
 "cells": [
  {
   "cell_type": "code",
   "execution_count": 8,
   "metadata": {},
   "outputs": [],
   "source": [
    "# Import necessary libraries\n",
    "\n",
    "import pandas as pd # For data manipulation and analysis\n",
    "import numpy as np # For numerical operations\n",
    "import pickle # For serializing and deserializing Python objects\n",
    "from modelling_utils import train_knn_classifier, evaluate_model, plot_model_comparison, extract_model_features, compute_knn_indices, compute_overlap_matrix, plot_overlap_matrix, split_shuffle_data\n"
   ]
  },
  {
   "cell_type": "code",
   "execution_count": 9,
   "metadata": {},
   "outputs": [],
   "source": [
    "# Load features from a pickle file\n",
    "feature_dict_path = \"/home/suraj/Repositories/FM-extractors-radiomics/evaluation/features/dlcs.pkl\" # Path to the pickle file containing features\n",
    "with open(feature_dict_path, 'rb') as file: # Open the file in read binary mode\n",
    "    data = pickle.load(file) # Load the data from the pickle file"
   ]
  },
  {
   "cell_type": "code",
   "execution_count": 10,
   "metadata": {},
   "outputs": [
    {
     "name": "stderr",
     "output_type": "stream",
     "text": [
      "[I 2025-02-25 17:08:31,770] A new study created in memory with name: no-name-c510f5e4-4a18-4c15-9f98-30df3df91937\n",
      "[I 2025-02-25 17:08:31,807] Trial 0 finished with value: 0.6864612188365651 and parameters: {'k': 29}. Best is trial 0 with value: 0.6864612188365651.\n",
      "[I 2025-02-25 17:08:31,830] Trial 1 finished with value: 0.6018005540166206 and parameters: {'k': 12}. Best is trial 0 with value: 0.6864612188365651.\n",
      "[I 2025-02-25 17:08:31,850] Trial 2 finished with value: 0.6016274238227146 and parameters: {'k': 11}. Best is trial 0 with value: 0.6864612188365651.\n",
      "[I 2025-02-25 17:08:31,871] Trial 3 finished with value: 0.6681094182825484 and parameters: {'k': 42}. Best is trial 0 with value: 0.6864612188365651.\n",
      "[I 2025-02-25 17:08:31,890] Trial 4 finished with value: 0.5832756232686981 and parameters: {'k': 3}. Best is trial 0 with value: 0.6864612188365651.\n",
      "[I 2025-02-25 17:08:31,910] Trial 5 finished with value: 0.6923476454293628 and parameters: {'k': 28}. Best is trial 5 with value: 0.6923476454293628.\n",
      "[I 2025-02-25 17:08:31,931] Trial 6 finished with value: 0.6712257617728532 and parameters: {'k': 39}. Best is trial 5 with value: 0.6923476454293628.\n",
      "[I 2025-02-25 17:08:31,952] Trial 7 finished with value: 0.695983379501385 and parameters: {'k': 32}. Best is trial 7 with value: 0.695983379501385.\n",
      "[I 2025-02-25 17:08:31,974] Trial 8 finished with value: 0.679016620498615 and parameters: {'k': 23}. Best is trial 7 with value: 0.695983379501385.\n",
      "[I 2025-02-25 17:08:31,995] Trial 9 finished with value: 0.5995498614958449 and parameters: {'k': 5}. Best is trial 7 with value: 0.695983379501385.\n",
      "[I 2025-02-25 17:08:32,017] Trial 10 finished with value: 0.6944252077562326 and parameters: {'k': 34}. Best is trial 7 with value: 0.695983379501385.\n",
      "[I 2025-02-25 17:08:32,039] Trial 11 finished with value: 0.6852493074792244 and parameters: {'k': 36}. Best is trial 7 with value: 0.695983379501385.\n",
      "[I 2025-02-25 17:08:32,061] Trial 12 finished with value: 0.7022160664819944 and parameters: {'k': 27}. Best is trial 12 with value: 0.7022160664819944.\n",
      "[I 2025-02-25 17:08:32,083] Trial 13 finished with value: 0.6949445983379501 and parameters: {'k': 35}. Best is trial 12 with value: 0.7022160664819944.\n",
      "[I 2025-02-25 17:08:32,106] Trial 14 finished with value: 0.6459487534626038 and parameters: {'k': 19}. Best is trial 12 with value: 0.7022160664819944.\n",
      "[I 2025-02-25 17:08:32,128] Trial 15 finished with value: 0.5676939058171744 and parameters: {'k': 8}. Best is trial 12 with value: 0.7022160664819944.\n",
      "[I 2025-02-25 17:08:32,150] Trial 16 finished with value: 0.6224030470914128 and parameters: {'k': 15}. Best is trial 12 with value: 0.7022160664819944.\n",
      "[I 2025-02-25 17:08:32,173] Trial 17 finished with value: 0.6800554016620498 and parameters: {'k': 46}. Best is trial 12 with value: 0.7022160664819944.\n",
      "[I 2025-02-25 17:08:32,197] Trial 18 finished with value: 0.6871537396121884 and parameters: {'k': 49}. Best is trial 12 with value: 0.7022160664819944.\n",
      "[I 2025-02-25 17:08:32,220] Trial 19 finished with value: 0.6812673130193905 and parameters: {'k': 30}. Best is trial 12 with value: 0.7022160664819944.\n",
      "[I 2025-02-25 17:08:32,243] Trial 20 finished with value: 0.6272506925207756 and parameters: {'k': 16}. Best is trial 12 with value: 0.7022160664819944.\n",
      "[I 2025-02-25 17:08:32,267] Trial 21 finished with value: 0.7015235457063711 and parameters: {'k': 31}. Best is trial 12 with value: 0.7022160664819944.\n",
      "[I 2025-02-25 17:08:32,290] Trial 22 finished with value: 0.6904432132963989 and parameters: {'k': 33}. Best is trial 12 with value: 0.7022160664819944.\n",
      "[I 2025-02-25 17:08:32,314] Trial 23 finished with value: 0.6397160664819945 and parameters: {'k': 17}. Best is trial 12 with value: 0.7022160664819944.\n",
      "[I 2025-02-25 17:08:32,339] Trial 24 finished with value: 0.6655124653739612 and parameters: {'k': 43}. Best is trial 12 with value: 0.7022160664819944.\n",
      "[I 2025-02-25 17:08:32,363] Trial 25 finished with value: 0.662915512465374 and parameters: {'k': 21}. Best is trial 12 with value: 0.7022160664819944.\n",
      "[I 2025-02-25 17:08:32,388] Trial 26 finished with value: 0.6620498614958449 and parameters: {'k': 44}. Best is trial 12 with value: 0.7022160664819944.\n",
      "[I 2025-02-25 17:08:32,412] Trial 27 finished with value: 0.6118421052631579 and parameters: {'k': 9}. Best is trial 12 with value: 0.7022160664819944.\n",
      "[I 2025-02-25 17:08:32,437] Trial 28 finished with value: 0.6248268698060941 and parameters: {'k': 14}. Best is trial 12 with value: 0.7022160664819944.\n"
     ]
    },
    {
     "name": "stderr",
     "output_type": "stream",
     "text": [
      "[I 2025-02-25 17:08:32,462] Trial 29 finished with value: 0.7056786703601108 and parameters: {'k': 26}. Best is trial 29 with value: 0.7056786703601108.\n",
      "[I 2025-02-25 17:08:32,487] Trial 30 finished with value: 0.5837950138504155 and parameters: {'k': 6}. Best is trial 29 with value: 0.7056786703601108.\n",
      "[I 2025-02-25 17:08:32,522] Trial 31 finished with value: 0.6376385041551247 and parameters: {'k': 18}. Best is trial 29 with value: 0.7056786703601108.\n",
      "[I 2025-02-25 17:08:32,550] Trial 32 finished with value: 0.6755540166204985 and parameters: {'k': 41}. Best is trial 29 with value: 0.7056786703601108.\n",
      "[I 2025-02-25 17:08:32,583] Trial 33 finished with value: 0.6909626038781164 and parameters: {'k': 50}. Best is trial 29 with value: 0.7056786703601108.\n",
      "[I 2025-02-25 17:08:32,610] Trial 34 finished with value: 0.566308864265928 and parameters: {'k': 2}. Best is trial 29 with value: 0.7056786703601108.\n",
      "[I 2025-02-25 17:08:32,641] Trial 35 finished with value: 0.6289819944598338 and parameters: {'k': 13}. Best is trial 29 with value: 0.7056786703601108.\n",
      "[I 2025-02-25 17:08:32,669] Trial 36 finished with value: 0.6741689750692521 and parameters: {'k': 38}. Best is trial 29 with value: 0.7056786703601108.\n",
      "[I 2025-02-25 17:08:32,710] Trial 37 finished with value: 0.6956371191135734 and parameters: {'k': 25}. Best is trial 29 with value: 0.7056786703601108.\n",
      "[I 2025-02-25 17:08:32,737] Trial 38 finished with value: 0.5805055401662048 and parameters: {'k': 7}. Best is trial 29 with value: 0.7056786703601108.\n",
      "[I 2025-02-25 17:08:32,764] Trial 39 finished with value: 0.6845567867036011 and parameters: {'k': 24}. Best is trial 29 with value: 0.7056786703601108.\n",
      "[I 2025-02-25 17:08:32,795] Trial 40 finished with value: 0.6812673130193906 and parameters: {'k': 37}. Best is trial 29 with value: 0.7056786703601108.\n",
      "[I 2025-02-25 17:08:32,822] Trial 41 finished with value: 0.6812673130193906 and parameters: {'k': 22}. Best is trial 29 with value: 0.7056786703601108.\n",
      "[I 2025-02-25 17:08:32,849] Trial 42 finished with value: 0.6625692520775623 and parameters: {'k': 20}. Best is trial 29 with value: 0.7056786703601108.\n",
      "[I 2025-02-25 17:08:32,876] Trial 43 finished with value: 0.6215373961218836 and parameters: {'k': 10}. Best is trial 29 with value: 0.7056786703601108.\n",
      "[I 2025-02-25 17:08:32,904] Trial 44 finished with value: 0.6764196675900277 and parameters: {'k': 40}. Best is trial 29 with value: 0.7056786703601108.\n",
      "[I 2025-02-25 17:08:32,933] Trial 45 finished with value: 0.6852493074792244 and parameters: {'k': 47}. Best is trial 29 with value: 0.7056786703601108.\n",
      "[I 2025-02-25 17:08:32,961] Trial 46 finished with value: 0.6128808864265927 and parameters: {'k': 4}. Best is trial 29 with value: 0.7056786703601108.\n",
      "[I 2025-02-25 17:08:32,991] Trial 47 finished with value: 0.5789473684210525 and parameters: {'k': 1}. Best is trial 29 with value: 0.7056786703601108.\n",
      "[I 2025-02-25 17:08:33,028] Trial 48 finished with value: 0.6897506925207756 and parameters: {'k': 48}. Best is trial 29 with value: 0.7056786703601108.\n",
      "[I 2025-02-25 17:08:33,058] Trial 49 finished with value: 0.6840373961218836 and parameters: {'k': 45}. Best is trial 29 with value: 0.7056786703601108.\n",
      "[I 2025-02-25 17:08:33,108] A new study created in memory with name: no-name-2c278bd3-934d-4f8d-8863-6963db29f53f\n",
      "[I 2025-02-25 17:08:33,136] Trial 0 finished with value: 0.7122576177285318 and parameters: {'k': 29}. Best is trial 0 with value: 0.7122576177285318.\n",
      "[I 2025-02-25 17:08:33,156] Trial 1 finished with value: 0.6781509695290858 and parameters: {'k': 12}. Best is trial 0 with value: 0.7122576177285318.\n",
      "[I 2025-02-25 17:08:33,176] Trial 2 finished with value: 0.6800554016620499 and parameters: {'k': 11}. Best is trial 0 with value: 0.7122576177285318.\n",
      "[I 2025-02-25 17:08:33,197] Trial 3 finished with value: 0.7288781163434903 and parameters: {'k': 42}. Best is trial 3 with value: 0.7288781163434903.\n",
      "[I 2025-02-25 17:08:33,217] Trial 4 finished with value: 0.6634349030470913 and parameters: {'k': 3}. Best is trial 3 with value: 0.7288781163434903.\n",
      "[I 2025-02-25 17:08:33,237] Trial 5 finished with value: 0.6871537396121883 and parameters: {'k': 28}. Best is trial 3 with value: 0.7288781163434903.\n",
      "[I 2025-02-25 17:08:33,258] Trial 6 finished with value: 0.7240304709141275 and parameters: {'k': 39}. Best is trial 3 with value: 0.7288781163434903.\n",
      "[I 2025-02-25 17:08:33,283] Trial 7 finished with value: 0.6926939058171745 and parameters: {'k': 32}. Best is trial 3 with value: 0.7288781163434903.\n",
      "[I 2025-02-25 17:08:33,305] Trial 8 finished with value: 0.6895775623268698 and parameters: {'k': 23}. Best is trial 3 with value: 0.7288781163434903.\n",
      "[I 2025-02-25 17:08:33,326] Trial 9 finished with value: 0.6398891966759003 and parameters: {'k': 5}. Best is trial 3 with value: 0.7288781163434903.\n",
      "[I 2025-02-25 17:08:33,348] Trial 10 finished with value: 0.7126038781163435 and parameters: {'k': 34}. Best is trial 3 with value: 0.7288781163434903.\n",
      "[I 2025-02-25 17:08:33,371] Trial 11 finished with value: 0.7148545706371191 and parameters: {'k': 36}. Best is trial 3 with value: 0.7288781163434903.\n",
      "[I 2025-02-25 17:08:33,394] Trial 12 finished with value: 0.6760734072022162 and parameters: {'k': 27}. Best is trial 3 with value: 0.7288781163434903.\n",
      "[I 2025-02-25 17:08:33,417] Trial 13 finished with value: 0.7226454293628809 and parameters: {'k': 35}. Best is trial 3 with value: 0.7288781163434903.\n",
      "[I 2025-02-25 17:08:33,440] Trial 14 finished with value: 0.6892313019390581 and parameters: {'k': 19}. Best is trial 3 with value: 0.7288781163434903.\n",
      "[I 2025-02-25 17:08:33,463] Trial 15 finished with value: 0.6667243767313019 and parameters: {'k': 8}. Best is trial 3 with value: 0.7288781163434903.\n",
      "[I 2025-02-25 17:08:33,486] Trial 16 finished with value: 0.6996191135734071 and parameters: {'k': 15}. Best is trial 3 with value: 0.7288781163434903.\n",
      "[I 2025-02-25 17:08:33,511] Trial 17 finished with value: 0.7387465373961218 and parameters: {'k': 46}. Best is trial 17 with value: 0.7387465373961218.\n",
      "[I 2025-02-25 17:08:33,535] Trial 18 finished with value: 0.7553670360110804 and parameters: {'k': 49}. Best is trial 18 with value: 0.7553670360110804.\n",
      "[I 2025-02-25 17:08:33,559] Trial 19 finished with value: 0.7138157894736842 and parameters: {'k': 30}. Best is trial 18 with value: 0.7553670360110804.\n",
      "[I 2025-02-25 17:08:33,583] Trial 20 finished with value: 0.6939058171745152 and parameters: {'k': 16}. Best is trial 18 with value: 0.7553670360110804.\n",
      "[I 2025-02-25 17:08:33,608] Trial 21 finished with value: 0.702562326869806 and parameters: {'k': 31}. Best is trial 18 with value: 0.7553670360110804.\n",
      "[I 2025-02-25 17:08:33,631] Trial 22 finished with value: 0.7053324099722992 and parameters: {'k': 33}. Best is trial 18 with value: 0.7553670360110804.\n",
      "[I 2025-02-25 17:08:33,655] Trial 23 finished with value: 0.6966759002770082 and parameters: {'k': 17}. Best is trial 18 with value: 0.7553670360110804.\n",
      "[I 2025-02-25 17:08:33,679] Trial 24 finished with value: 0.7219529085872576 and parameters: {'k': 43}. Best is trial 18 with value: 0.7553670360110804.\n",
      "[I 2025-02-25 17:08:33,703] Trial 25 finished with value: 0.6968490304709142 and parameters: {'k': 21}. Best is trial 18 with value: 0.7553670360110804.\n",
      "[I 2025-02-25 17:08:33,727] Trial 26 finished with value: 0.745325484764543 and parameters: {'k': 44}. Best is trial 18 with value: 0.7553670360110804.\n",
      "[I 2025-02-25 17:08:33,752] Trial 27 finished with value: 0.6795360110803323 and parameters: {'k': 9}. Best is trial 18 with value: 0.7553670360110804.\n",
      "[I 2025-02-25 17:08:33,776] Trial 28 finished with value: 0.6826523545706371 and parameters: {'k': 14}. Best is trial 18 with value: 0.7553670360110804.\n",
      "[I 2025-02-25 17:08:33,801] Trial 29 finished with value: 0.6862880886426592 and parameters: {'k': 26}. Best is trial 18 with value: 0.7553670360110804.\n",
      "[I 2025-02-25 17:08:33,826] Trial 30 finished with value: 0.6191135734072022 and parameters: {'k': 6}. Best is trial 18 with value: 0.7553670360110804.\n",
      "[I 2025-02-25 17:08:33,851] Trial 31 finished with value: 0.6890581717451524 and parameters: {'k': 18}. Best is trial 18 with value: 0.7553670360110804.\n",
      "[I 2025-02-25 17:08:33,877] Trial 32 finished with value: 0.7302631578947367 and parameters: {'k': 41}. Best is trial 18 with value: 0.7553670360110804.\n",
      "[I 2025-02-25 17:08:33,903] Trial 33 finished with value: 0.7681786703601108 and parameters: {'k': 50}. Best is trial 33 with value: 0.7681786703601108.\n",
      "[I 2025-02-25 17:08:33,928] Trial 34 finished with value: 0.6088988919667591 and parameters: {'k': 2}. Best is trial 33 with value: 0.7681786703601108.\n",
      "[I 2025-02-25 17:08:33,954] Trial 35 finished with value: 0.6672437673130193 and parameters: {'k': 13}. Best is trial 33 with value: 0.7681786703601108.\n",
      "[I 2025-02-25 17:08:33,980] Trial 36 finished with value: 0.7169321329639889 and parameters: {'k': 38}. Best is trial 33 with value: 0.7681786703601108.\n",
      "[I 2025-02-25 17:08:34,018] Trial 37 finished with value: 0.6759002770083102 and parameters: {'k': 25}. Best is trial 33 with value: 0.7681786703601108.\n",
      "[I 2025-02-25 17:08:34,046] Trial 38 finished with value: 0.672437673130194 and parameters: {'k': 7}. Best is trial 33 with value: 0.7681786703601108.\n",
      "[I 2025-02-25 17:08:34,073] Trial 39 finished with value: 0.6928670360110804 and parameters: {'k': 24}. Best is trial 33 with value: 0.7681786703601108.\n",
      "[I 2025-02-25 17:08:34,102] Trial 40 finished with value: 0.7152008310249308 and parameters: {'k': 37}. Best is trial 33 with value: 0.7681786703601108.\n",
      "[I 2025-02-25 17:08:34,129] Trial 41 finished with value: 0.685595567867036 and parameters: {'k': 22}. Best is trial 33 with value: 0.7681786703601108.\n",
      "[I 2025-02-25 17:08:34,157] Trial 42 finished with value: 0.6731301939058172 and parameters: {'k': 20}. Best is trial 33 with value: 0.7681786703601108.\n",
      "[I 2025-02-25 17:08:34,185] Trial 43 finished with value: 0.6681094182825484 and parameters: {'k': 10}. Best is trial 33 with value: 0.7681786703601108.\n",
      "[I 2025-02-25 17:08:34,213] Trial 44 finished with value: 0.718663434903047 and parameters: {'k': 40}. Best is trial 33 with value: 0.7681786703601108.\n",
      "[I 2025-02-25 17:08:34,242] Trial 45 finished with value: 0.7288781163434903 and parameters: {'k': 47}. Best is trial 33 with value: 0.7681786703601108.\n",
      "[I 2025-02-25 17:08:34,270] Trial 46 finished with value: 0.625 and parameters: {'k': 4}. Best is trial 33 with value: 0.7681786703601108.\n",
      "[I 2025-02-25 17:08:34,298] Trial 47 finished with value: 0.5888157894736842 and parameters: {'k': 1}. Best is trial 33 with value: 0.7681786703601108.\n",
      "[I 2025-02-25 17:08:34,327] Trial 48 finished with value: 0.7342451523545706 and parameters: {'k': 48}. Best is trial 33 with value: 0.7681786703601108.\n",
      "[I 2025-02-25 17:08:34,356] Trial 49 finished with value: 0.7375346260387812 and parameters: {'k': 45}. Best is trial 33 with value: 0.7681786703601108.\n",
      "[I 2025-02-25 17:08:34,407] A new study created in memory with name: no-name-66d8acee-6634-4892-a4fc-c1ecd440a5d0\n",
      "[I 2025-02-25 17:08:34,432] Trial 0 finished with value: 0.6452432824981845 and parameters: {'k': 29}. Best is trial 0 with value: 0.6452432824981845.\n",
      "[I 2025-02-25 17:08:34,452] Trial 1 finished with value: 0.6548656499636891 and parameters: {'k': 12}. Best is trial 1 with value: 0.6548656499636891.\n",
      "[I 2025-02-25 17:08:34,478] Trial 2 finished with value: 0.6699346405228758 and parameters: {'k': 11}. Best is trial 2 with value: 0.6699346405228758.\n",
      "[I 2025-02-25 17:08:34,501] Trial 3 finished with value: 0.7038852578068264 and parameters: {'k': 42}. Best is trial 3 with value: 0.7038852578068264.\n",
      "[I 2025-02-25 17:08:34,523] Trial 4 finished with value: 0.6436092955700798 and parameters: {'k': 3}. Best is trial 3 with value: 0.7038852578068264.\n",
      "[I 2025-02-25 17:08:34,545] Trial 5 finished with value: 0.6330791575889616 and parameters: {'k': 28}. Best is trial 3 with value: 0.7038852578068264.\n",
      "[I 2025-02-25 17:08:34,568] Trial 6 finished with value: 0.6820987654320987 and parameters: {'k': 39}. Best is trial 3 with value: 0.7038852578068264.\n",
      "[I 2025-02-25 17:08:34,603] Trial 7 finished with value: 0.6592229484386347 and parameters: {'k': 32}. Best is trial 3 with value: 0.7038852578068264.\n",
      "[I 2025-02-25 17:08:34,627] Trial 8 finished with value: 0.6259985475671751 and parameters: {'k': 23}. Best is trial 3 with value: 0.7038852578068264.\n",
      "[I 2025-02-25 17:08:34,649] Trial 9 finished with value: 0.637436456063907 and parameters: {'k': 5}. Best is trial 3 with value: 0.7038852578068264.\n",
      "[I 2025-02-25 17:08:34,677] Trial 10 finished with value: 0.7020697167755992 and parameters: {'k': 34}. Best is trial 3 with value: 0.7038852578068264.\n",
      "[I 2025-02-25 17:08:34,700] Trial 11 finished with value: 0.6942628903413217 and parameters: {'k': 36}. Best is trial 3 with value: 0.7038852578068264.\n",
      "[I 2025-02-25 17:08:34,723] Trial 12 finished with value: 0.624001452432825 and parameters: {'k': 27}. Best is trial 3 with value: 0.7038852578068264.\n",
      "[I 2025-02-25 17:08:34,747] Trial 13 finished with value: 0.6968046477850399 and parameters: {'k': 35}. Best is trial 3 with value: 0.7038852578068264.\n",
      "[I 2025-02-25 17:08:34,770] Trial 14 finished with value: 0.653050108932462 and parameters: {'k': 19}. Best is trial 3 with value: 0.7038852578068264.\n",
      "[I 2025-02-25 17:08:34,794] Trial 15 finished with value: 0.5951343500363109 and parameters: {'k': 8}. Best is trial 3 with value: 0.7038852578068264.\n",
      "[I 2025-02-25 17:08:34,817] Trial 16 finished with value: 0.6741103848946987 and parameters: {'k': 15}. Best is trial 3 with value: 0.7038852578068264.\n",
      "[I 2025-02-25 17:08:34,842] Trial 17 finished with value: 0.7095134350036311 and parameters: {'k': 46}. Best is trial 17 with value: 0.7095134350036311.\n",
      "[I 2025-02-25 17:08:34,876] Trial 18 finished with value: 0.7287581699346405 and parameters: {'k': 49}. Best is trial 18 with value: 0.7287581699346405.\n",
      "[I 2025-02-25 17:08:34,902] Trial 19 finished with value: 0.6632171387073348 and parameters: {'k': 30}. Best is trial 18 with value: 0.7287581699346405.\n",
      "[I 2025-02-25 17:08:34,929] Trial 20 finished with value: 0.6610384894698621 and parameters: {'k': 16}. Best is trial 18 with value: 0.7287581699346405.\n",
      "[I 2025-02-25 17:08:34,954] Trial 21 finished with value: 0.6579520697167757 and parameters: {'k': 31}. Best is trial 18 with value: 0.7287581699346405.\n",
      "[I 2025-02-25 17:08:34,979] Trial 22 finished with value: 0.6728395061728396 and parameters: {'k': 33}. Best is trial 18 with value: 0.7287581699346405.\n",
      "[I 2025-02-25 17:08:35,005] Trial 23 finished with value: 0.6510530137981119 and parameters: {'k': 17}. Best is trial 18 with value: 0.7287581699346405.\n",
      "[I 2025-02-25 17:08:35,032] Trial 24 finished with value: 0.7073347857661583 and parameters: {'k': 43}. Best is trial 18 with value: 0.7287581699346405.\n",
      "[I 2025-02-25 17:08:35,060] Trial 25 finished with value: 0.6407044299201161 and parameters: {'k': 21}. Best is trial 18 with value: 0.7287581699346405.\n",
      "[I 2025-02-25 17:08:35,086] Trial 26 finished with value: 0.7093318809005084 and parameters: {'k': 44}. Best is trial 18 with value: 0.7287581699346405.\n",
      "[I 2025-02-25 17:08:35,112] Trial 27 finished with value: 0.6245461147421931 and parameters: {'k': 9}. Best is trial 18 with value: 0.7287581699346405.\n",
      "[I 2025-02-25 17:08:35,154] Trial 28 finished with value: 0.6356209150326797 and parameters: {'k': 14}. Best is trial 18 with value: 0.7287581699346405.\n",
      "[I 2025-02-25 17:08:35,179] Trial 29 finished with value: 0.6207334785766159 and parameters: {'k': 26}. Best is trial 18 with value: 0.7287581699346405.\n",
      "[I 2025-02-25 17:08:35,206] Trial 30 finished with value: 0.6125635439360929 and parameters: {'k': 6}. Best is trial 18 with value: 0.7287581699346405.\n",
      "[I 2025-02-25 17:08:35,237] Trial 31 finished with value: 0.6461510530137982 and parameters: {'k': 18}. Best is trial 18 with value: 0.7287581699346405.\n",
      "[I 2025-02-25 17:08:35,263] Trial 32 finished with value: 0.7018881626724763 and parameters: {'k': 41}. Best is trial 18 with value: 0.7287581699346405.\n",
      "[I 2025-02-25 17:08:35,291] Trial 33 finished with value: 0.7278503994190269 and parameters: {'k': 50}. Best is trial 18 with value: 0.7287581699346405.\n",
      "[I 2025-02-25 17:08:35,317] Trial 34 finished with value: 0.6479665940450254 and parameters: {'k': 2}. Best is trial 18 with value: 0.7287581699346405.\n",
      "[I 2025-02-25 17:08:35,345] Trial 35 finished with value: 0.64360929557008 and parameters: {'k': 13}. Best is trial 18 with value: 0.7287581699346405.\n",
      "[I 2025-02-25 17:08:35,373] Trial 36 finished with value: 0.6899055918663762 and parameters: {'k': 38}. Best is trial 18 with value: 0.7287581699346405.\n",
      "[I 2025-02-25 17:08:35,401] Trial 37 finished with value: 0.6254538852578069 and parameters: {'k': 25}. Best is trial 18 with value: 0.7287581699346405.\n",
      "[I 2025-02-25 17:08:35,429] Trial 38 finished with value: 0.5873275236020334 and parameters: {'k': 7}. Best is trial 18 with value: 0.7287581699346405.\n",
      "[I 2025-02-25 17:08:35,458] Trial 39 finished with value: 0.6234567901234568 and parameters: {'k': 24}. Best is trial 18 with value: 0.7287581699346405.\n",
      "[I 2025-02-25 17:08:35,488] Trial 40 finished with value: 0.6971677559912854 and parameters: {'k': 37}. Best is trial 18 with value: 0.7287581699346405.\n",
      "[I 2025-02-25 17:08:35,517] Trial 41 finished with value: 0.6323529411764707 and parameters: {'k': 22}. Best is trial 18 with value: 0.7287581699346405.\n",
      "[I 2025-02-25 17:08:35,546] Trial 42 finished with value: 0.6430646332607117 and parameters: {'k': 20}. Best is trial 18 with value: 0.7287581699346405.\n",
      "[I 2025-02-25 17:08:35,574] Trial 43 finished with value: 0.6899055918663762 and parameters: {'k': 10}. Best is trial 18 with value: 0.7287581699346405.\n",
      "[I 2025-02-25 17:08:35,603] Trial 44 finished with value: 0.6824618736383442 and parameters: {'k': 40}. Best is trial 18 with value: 0.7287581699346405.\n",
      "[I 2025-02-25 17:08:35,632] Trial 45 finished with value: 0.7073347857661583 and parameters: {'k': 47}. Best is trial 18 with value: 0.7287581699346405.\n",
      "[I 2025-02-25 17:08:35,660] Trial 46 finished with value: 0.6363471314451707 and parameters: {'k': 4}. Best is trial 18 with value: 0.7287581699346405.\n",
      "[I 2025-02-25 17:08:35,688] Trial 47 finished with value: 0.6486928104575163 and parameters: {'k': 1}. Best is trial 18 with value: 0.7287581699346405.\n",
      "[I 2025-02-25 17:08:35,719] Trial 48 finished with value: 0.7167755991285403 and parameters: {'k': 48}. Best is trial 18 with value: 0.7287581699346405.\n",
      "[I 2025-02-25 17:08:35,749] Trial 49 finished with value: 0.7107843137254902 and parameters: {'k': 45}. Best is trial 18 with value: 0.7287581699346405.\n",
      "[I 2025-02-25 17:08:35,803] A new study created in memory with name: no-name-dee7b71a-c0f4-48ca-94b6-5881bce503fe\n",
      "[I 2025-02-25 17:08:35,828] Trial 0 finished with value: 0.6276439482961222 and parameters: {'k': 29}. Best is trial 0 with value: 0.6276439482961222.\n",
      "[I 2025-02-25 17:08:35,850] Trial 1 finished with value: 0.660840188014101 and parameters: {'k': 12}. Best is trial 1 with value: 0.660840188014101.\n",
      "[I 2025-02-25 17:08:35,873] Trial 2 finished with value: 0.6670094007050529 and parameters: {'k': 11}. Best is trial 2 with value: 0.6670094007050529.\n",
      "[I 2025-02-25 17:08:35,905] Trial 3 finished with value: 0.5799059929494712 and parameters: {'k': 42}. Best is trial 2 with value: 0.6670094007050529.\n",
      "[I 2025-02-25 17:08:35,936] Trial 4 finished with value: 0.6398354876615746 and parameters: {'k': 3}. Best is trial 2 with value: 0.6670094007050529.\n",
      "[I 2025-02-25 17:08:35,962] Trial 5 finished with value: 0.6360164512338425 and parameters: {'k': 28}. Best is trial 2 with value: 0.6670094007050529.\n",
      "[I 2025-02-25 17:08:35,986] Trial 6 finished with value: 0.592978848413631 and parameters: {'k': 39}. Best is trial 2 with value: 0.6670094007050529.\n",
      "[I 2025-02-25 17:08:36,024] Trial 7 finished with value: 0.6277908343125735 and parameters: {'k': 32}. Best is trial 2 with value: 0.6670094007050529.\n",
      "[I 2025-02-25 17:08:36,048] Trial 8 finished with value: 0.6252937720329025 and parameters: {'k': 23}. Best is trial 2 with value: 0.6670094007050529.\n",
      "[I 2025-02-25 17:08:36,070] Trial 9 finished with value: 0.6468860164512338 and parameters: {'k': 5}. Best is trial 2 with value: 0.6670094007050529.\n",
      "[I 2025-02-25 17:08:36,094] Trial 10 finished with value: 0.6023795534665101 and parameters: {'k': 34}. Best is trial 2 with value: 0.6670094007050529.\n",
      "[I 2025-02-25 17:08:36,117] Trial 11 finished with value: 0.6045828437132785 and parameters: {'k': 36}. Best is trial 2 with value: 0.6670094007050529.\n",
      "[I 2025-02-25 17:08:36,168] Trial 12 finished with value: 0.6336662749706228 and parameters: {'k': 27}. Best is trial 2 with value: 0.6670094007050529.\n",
      "[I 2025-02-25 17:08:36,196] Trial 13 finished with value: 0.6063454759106933 and parameters: {'k': 35}. Best is trial 2 with value: 0.6670094007050529.\n",
      "[I 2025-02-25 17:08:36,224] Trial 14 finished with value: 0.6689189189189189 and parameters: {'k': 19}. Best is trial 14 with value: 0.6689189189189189.\n",
      "[I 2025-02-25 17:08:36,274] Trial 15 finished with value: 0.6521739130434783 and parameters: {'k': 8}. Best is trial 14 with value: 0.6689189189189189.\n",
      "[I 2025-02-25 17:08:36,305] Trial 16 finished with value: 0.6615746180963572 and parameters: {'k': 15}. Best is trial 14 with value: 0.6689189189189189.\n",
      "[I 2025-02-25 17:08:36,328] Trial 17 finished with value: 0.5913631022326675 and parameters: {'k': 46}. Best is trial 14 with value: 0.6689189189189189.\n",
      "[I 2025-02-25 17:08:36,351] Trial 18 finished with value: 0.5991480611045829 and parameters: {'k': 49}. Best is trial 14 with value: 0.6689189189189189.\n",
      "[I 2025-02-25 17:08:36,374] Trial 19 finished with value: 0.6230904817861339 and parameters: {'k': 30}. Best is trial 14 with value: 0.6689189189189189.\n",
      "[I 2025-02-25 17:08:36,397] Trial 20 finished with value: 0.6555522914218566 and parameters: {'k': 16}. Best is trial 14 with value: 0.6689189189189189.\n",
      "[I 2025-02-25 17:08:36,420] Trial 21 finished with value: 0.6241186839012925 and parameters: {'k': 31}. Best is trial 14 with value: 0.6689189189189189.\n",
      "[I 2025-02-25 17:08:36,444] Trial 22 finished with value: 0.6163337250293772 and parameters: {'k': 33}. Best is trial 14 with value: 0.6689189189189189.\n",
      "[I 2025-02-25 17:08:36,501] Trial 23 finished with value: 0.6819917743830788 and parameters: {'k': 17}. Best is trial 23 with value: 0.6819917743830788.\n",
      "[I 2025-02-25 17:08:36,526] Trial 24 finished with value: 0.5931257344300822 and parameters: {'k': 43}. Best is trial 23 with value: 0.6819917743830788.\n",
      "[I 2025-02-25 17:08:36,550] Trial 25 finished with value: 0.6474735605170387 and parameters: {'k': 21}. Best is trial 23 with value: 0.6819917743830788.\n",
      "[I 2025-02-25 17:08:36,574] Trial 26 finished with value: 0.5950352526439483 and parameters: {'k': 44}. Best is trial 23 with value: 0.6819917743830788.\n",
      "[I 2025-02-25 17:08:36,598] Trial 27 finished with value: 0.6805229142185665 and parameters: {'k': 9}. Best is trial 23 with value: 0.6819917743830788.\n",
      "[I 2025-02-25 17:08:36,623] Trial 28 finished with value: 0.6711222091656874 and parameters: {'k': 14}. Best is trial 23 with value: 0.6819917743830788.\n",
      "[I 2025-02-25 17:08:36,649] Trial 29 finished with value: 0.6276439482961222 and parameters: {'k': 26}. Best is trial 23 with value: 0.6819917743830788.\n",
      "[I 2025-02-25 17:08:36,673] Trial 30 finished with value: 0.611192714453584 and parameters: {'k': 6}. Best is trial 23 with value: 0.6819917743830788.\n",
      "[I 2025-02-25 17:08:36,700] Trial 31 finished with value: 0.6777320799059929 and parameters: {'k': 18}. Best is trial 23 with value: 0.6819917743830788.\n",
      "[I 2025-02-25 17:08:36,727] Trial 32 finished with value: 0.5875440658049353 and parameters: {'k': 41}. Best is trial 23 with value: 0.6819917743830788.\n",
      "[I 2025-02-25 17:08:36,754] Trial 33 finished with value: 0.5941539365452408 and parameters: {'k': 50}. Best is trial 23 with value: 0.6819917743830788.\n",
      "[I 2025-02-25 17:08:36,779] Trial 34 finished with value: 0.6511457109283195 and parameters: {'k': 2}. Best is trial 23 with value: 0.6819917743830788.\n",
      "[I 2025-02-25 17:08:36,805] Trial 35 finished with value: 0.6618683901292596 and parameters: {'k': 13}. Best is trial 23 with value: 0.6819917743830788.\n",
      "[I 2025-02-25 17:08:36,831] Trial 36 finished with value: 0.6001762632197415 and parameters: {'k': 38}. Best is trial 23 with value: 0.6819917743830788.\n",
      "[I 2025-02-25 17:08:36,857] Trial 37 finished with value: 0.6198589894242068 and parameters: {'k': 25}. Best is trial 23 with value: 0.6819917743830788.\n",
      "[I 2025-02-25 17:08:36,884] Trial 38 finished with value: 0.6330787309048178 and parameters: {'k': 7}. Best is trial 23 with value: 0.6819917743830788.\n",
      "[I 2025-02-25 17:08:36,912] Trial 39 finished with value: 0.6257344300822562 and parameters: {'k': 24}. Best is trial 23 with value: 0.6819917743830788.\n",
      "[I 2025-02-25 17:08:36,940] Trial 40 finished with value: 0.6060517038777908 and parameters: {'k': 37}. Best is trial 23 with value: 0.6819917743830788.\n",
      "[I 2025-02-25 17:08:36,968] Trial 41 finished with value: 0.6385135135135135 and parameters: {'k': 22}. Best is trial 23 with value: 0.6819917743830788.\n",
      "[I 2025-02-25 17:08:36,995] Trial 42 finished with value: 0.6601057579318448 and parameters: {'k': 20}. Best is trial 23 with value: 0.6819917743830788.\n",
      "[I 2025-02-25 17:08:37,028] Trial 43 finished with value: 0.6937426556991775 and parameters: {'k': 10}. Best is trial 43 with value: 0.6937426556991775.\n",
      "[I 2025-02-25 17:08:37,066] Trial 44 finished with value: 0.5990011750881317 and parameters: {'k': 40}. Best is trial 43 with value: 0.6937426556991775.\n",
      "[I 2025-02-25 17:08:37,094] Trial 45 finished with value: 0.5965041128084606 and parameters: {'k': 47}. Best is trial 43 with value: 0.6937426556991775.\n",
      "[I 2025-02-25 17:08:37,124] Trial 46 finished with value: 0.63689776733255 and parameters: {'k': 4}. Best is trial 43 with value: 0.6937426556991775.\n",
      "[I 2025-02-25 17:08:37,172] Trial 47 finished with value: 0.6333725029377203 and parameters: {'k': 1}. Best is trial 43 with value: 0.6937426556991775.\n",
      "[I 2025-02-25 17:08:37,201] Trial 48 finished with value: 0.5991480611045827 and parameters: {'k': 48}. Best is trial 43 with value: 0.6937426556991775.\n",
      "[I 2025-02-25 17:08:37,230] Trial 49 finished with value: 0.5896004700352526 and parameters: {'k': 45}. Best is trial 43 with value: 0.6937426556991775.\n",
      "[I 2025-02-25 17:08:37,293] A new study created in memory with name: no-name-ab0f666d-fff3-4aaa-a4e4-1622f1d55051\n",
      "[I 2025-02-25 17:08:37,315] Trial 0 finished with value: 0.6527883880825057 and parameters: {'k': 29}. Best is trial 0 with value: 0.6527883880825057.\n",
      "[I 2025-02-25 17:08:37,336] Trial 1 finished with value: 0.7486631016042781 and parameters: {'k': 12}. Best is trial 1 with value: 0.7486631016042781.\n",
      "[I 2025-02-25 17:08:37,356] Trial 2 finished with value: 0.7511459129106188 and parameters: {'k': 11}. Best is trial 2 with value: 0.7511459129106188.\n",
      "[I 2025-02-25 17:08:37,377] Trial 3 finished with value: 0.6472498090145149 and parameters: {'k': 42}. Best is trial 2 with value: 0.7511459129106188.\n",
      "[I 2025-02-25 17:08:37,397] Trial 4 finished with value: 0.5655080213903743 and parameters: {'k': 3}. Best is trial 2 with value: 0.7511459129106188.\n",
      "[I 2025-02-25 17:08:37,419] Trial 5 finished with value: 0.6653934300993125 and parameters: {'k': 28}. Best is trial 2 with value: 0.7511459129106188.\n",
      "[I 2025-02-25 17:08:37,441] Trial 6 finished with value: 0.6537433155080214 and parameters: {'k': 39}. Best is trial 2 with value: 0.7511459129106188.\n",
      "[I 2025-02-25 17:08:37,483] Trial 7 finished with value: 0.6440030557677616 and parameters: {'k': 32}. Best is trial 2 with value: 0.7511459129106188.\n",
      "[I 2025-02-25 17:08:37,504] Trial 8 finished with value: 0.6848739495798319 and parameters: {'k': 23}. Best is trial 2 with value: 0.7511459129106188.\n",
      "[I 2025-02-25 17:08:37,526] Trial 9 finished with value: 0.6795263559969443 and parameters: {'k': 5}. Best is trial 2 with value: 0.7511459129106188.\n",
      "[I 2025-02-25 17:08:37,548] Trial 10 finished with value: 0.6541252864782277 and parameters: {'k': 34}. Best is trial 2 with value: 0.7511459129106188.\n",
      "[I 2025-02-25 17:08:37,570] Trial 11 finished with value: 0.6522154316271964 and parameters: {'k': 36}. Best is trial 2 with value: 0.7511459129106188.\n",
      "[I 2025-02-25 17:08:37,596] Trial 12 finished with value: 0.6812452253628724 and parameters: {'k': 27}. Best is trial 2 with value: 0.7511459129106188.\n",
      "[I 2025-02-25 17:08:37,618] Trial 13 finished with value: 0.6539343009931244 and parameters: {'k': 35}. Best is trial 2 with value: 0.7511459129106188.\n",
      "[I 2025-02-25 17:08:37,640] Trial 14 finished with value: 0.7089381207028265 and parameters: {'k': 19}. Best is trial 2 with value: 0.7511459129106188.\n",
      "[I 2025-02-25 17:08:37,663] Trial 15 finished with value: 0.6709320091673032 and parameters: {'k': 8}. Best is trial 2 with value: 0.7511459129106188.\n",
      "[I 2025-02-25 17:08:37,685] Trial 16 finished with value: 0.731283422459893 and parameters: {'k': 15}. Best is trial 2 with value: 0.7511459129106188.\n",
      "[I 2025-02-25 17:08:37,708] Trial 17 finished with value: 0.6262414056531704 and parameters: {'k': 46}. Best is trial 2 with value: 0.7511459129106188.\n",
      "[I 2025-02-25 17:08:37,732] Trial 18 finished with value: 0.6065699006875477 and parameters: {'k': 49}. Best is trial 2 with value: 0.7511459129106188.\n",
      "[I 2025-02-25 17:08:37,755] Trial 19 finished with value: 0.651642475171887 and parameters: {'k': 30}. Best is trial 2 with value: 0.7511459129106188.\n",
      "[I 2025-02-25 17:08:37,779] Trial 20 finished with value: 0.742742551566081 and parameters: {'k': 16}. Best is trial 2 with value: 0.7511459129106188.\n",
      "[I 2025-02-25 17:08:37,803] Trial 21 finished with value: 0.6417112299465241 and parameters: {'k': 31}. Best is trial 2 with value: 0.7511459129106188.\n",
      "[I 2025-02-25 17:08:37,827] Trial 22 finished with value: 0.6527883880825057 and parameters: {'k': 33}. Best is trial 2 with value: 0.7511459129106188.\n",
      "[I 2025-02-25 17:08:37,852] Trial 23 finished with value: 0.7333842627960275 and parameters: {'k': 17}. Best is trial 2 with value: 0.7511459129106188.\n",
      "[I 2025-02-25 17:08:37,877] Trial 24 finished with value: 0.6419022154316273 and parameters: {'k': 43}. Best is trial 2 with value: 0.7511459129106188.\n",
      "[I 2025-02-25 17:08:37,901] Trial 25 finished with value: 0.6915584415584415 and parameters: {'k': 21}. Best is trial 2 with value: 0.7511459129106188.\n",
      "[I 2025-02-25 17:08:37,922] Trial 26 finished with value: 0.6354087089381206 and parameters: {'k': 44}. Best is trial 2 with value: 0.7511459129106188.\n",
      "[I 2025-02-25 17:08:37,946] Trial 27 finished with value: 0.720970206264324 and parameters: {'k': 9}. Best is trial 2 with value: 0.7511459129106188.\n",
      "[I 2025-02-25 17:08:37,971] Trial 28 finished with value: 0.7456073338426279 and parameters: {'k': 14}. Best is trial 2 with value: 0.7511459129106188.\n",
      "[I 2025-02-25 17:08:37,996] Trial 29 finished with value: 0.6818181818181818 and parameters: {'k': 26}. Best is trial 2 with value: 0.7511459129106188.\n",
      "[I 2025-02-25 17:08:38,023] Trial 30 finished with value: 0.6831550802139037 and parameters: {'k': 6}. Best is trial 2 with value: 0.7511459129106188.\n",
      "[I 2025-02-25 17:08:38,049] Trial 31 finished with value: 0.7179144385026739 and parameters: {'k': 18}. Best is trial 2 with value: 0.7511459129106188.\n",
      "[I 2025-02-25 17:08:38,075] Trial 32 finished with value: 0.6470588235294118 and parameters: {'k': 41}. Best is trial 2 with value: 0.7511459129106188.\n",
      "[I 2025-02-25 17:08:38,101] Trial 33 finished with value: 0.6073338426279603 and parameters: {'k': 50}. Best is trial 2 with value: 0.7511459129106188.\n",
      "[I 2025-02-25 17:08:38,126] Trial 34 finished with value: 0.5494652406417112 and parameters: {'k': 2}. Best is trial 2 with value: 0.7511459129106188.\n",
      "[I 2025-02-25 17:08:38,169] Trial 35 finished with value: 0.7530557677616501 and parameters: {'k': 13}. Best is trial 35 with value: 0.7530557677616501.\n",
      "[I 2025-02-25 17:08:38,198] Trial 36 finished with value: 0.6527883880825057 and parameters: {'k': 38}. Best is trial 35 with value: 0.7530557677616501.\n",
      "[I 2025-02-25 17:08:38,225] Trial 37 finished with value: 0.6789533995416348 and parameters: {'k': 25}. Best is trial 35 with value: 0.7530557677616501.\n",
      "[I 2025-02-25 17:08:38,253] Trial 38 finished with value: 0.6885026737967914 and parameters: {'k': 7}. Best is trial 35 with value: 0.7530557677616501.\n",
      "[I 2025-02-25 17:08:38,280] Trial 39 finished with value: 0.6890756302521008 and parameters: {'k': 24}. Best is trial 35 with value: 0.7530557677616501.\n",
      "[I 2025-02-25 17:08:38,308] Trial 40 finished with value: 0.6598548510313217 and parameters: {'k': 37}. Best is trial 35 with value: 0.7530557677616501.\n",
      "[I 2025-02-25 17:08:38,335] Trial 41 finished with value: 0.6949961802902979 and parameters: {'k': 22}. Best is trial 35 with value: 0.7530557677616501.\n",
      "[I 2025-02-25 17:08:38,362] Trial 42 finished with value: 0.6938502673796793 and parameters: {'k': 20}. Best is trial 35 with value: 0.7530557677616501.\n",
      "[I 2025-02-25 17:08:38,389] Trial 43 finished with value: 0.7207792207792207 and parameters: {'k': 10}. Best is trial 35 with value: 0.7530557677616501.\n",
      "[I 2025-02-25 17:08:38,417] Trial 44 finished with value: 0.6518334606569901 and parameters: {'k': 40}. Best is trial 35 with value: 0.7530557677616501.\n",
      "[I 2025-02-25 17:08:38,446] Trial 45 finished with value: 0.6235676088617265 and parameters: {'k': 47}. Best is trial 35 with value: 0.7530557677616501.\n",
      "[I 2025-02-25 17:08:38,481] Trial 46 finished with value: 0.6730328495034377 and parameters: {'k': 4}. Best is trial 35 with value: 0.7530557677616501.\n",
      "[I 2025-02-25 17:08:38,508] Trial 47 finished with value: 0.5786860198624905 and parameters: {'k': 1}. Best is trial 35 with value: 0.7530557677616501.\n",
      "[I 2025-02-25 17:08:38,537] Trial 48 finished with value: 0.6134453781512604 and parameters: {'k': 48}. Best is trial 35 with value: 0.7530557677616501.\n",
      "[I 2025-02-25 17:08:38,567] Trial 49 finished with value: 0.630061115355233 and parameters: {'k': 45}. Best is trial 35 with value: 0.7530557677616501.\n",
      "[I 2025-02-25 17:08:38,638] A new study created in memory with name: no-name-14d63341-a3da-48ba-acb9-d87867a79dec\n",
      "[I 2025-02-25 17:08:38,647] Trial 0 finished with value: 0.5180055401662049 and parameters: {'k': 29}. Best is trial 0 with value: 0.5180055401662049.\n",
      "[I 2025-02-25 17:08:38,656] Trial 1 finished with value: 0.5093490304709142 and parameters: {'k': 12}. Best is trial 0 with value: 0.5180055401662049.\n",
      "[I 2025-02-25 17:08:38,665] Trial 2 finished with value: 0.48909279778393344 and parameters: {'k': 11}. Best is trial 0 with value: 0.5180055401662049.\n",
      "[I 2025-02-25 17:08:38,674] Trial 3 finished with value: 0.5315096952908587 and parameters: {'k': 42}. Best is trial 3 with value: 0.5315096952908587.\n",
      "[I 2025-02-25 17:08:38,683] Trial 4 finished with value: 0.5363573407202217 and parameters: {'k': 3}. Best is trial 4 with value: 0.5363573407202217.\n",
      "[I 2025-02-25 17:08:38,692] Trial 5 finished with value: 0.5209487534626038 and parameters: {'k': 28}. Best is trial 4 with value: 0.5363573407202217.\n",
      "[I 2025-02-25 17:08:38,702] Trial 6 finished with value: 0.5346260387811634 and parameters: {'k': 39}. Best is trial 4 with value: 0.5363573407202217.\n",
      "[I 2025-02-25 17:08:38,713] Trial 7 finished with value: 0.5446675900277008 and parameters: {'k': 32}. Best is trial 7 with value: 0.5446675900277008.\n",
      "[I 2025-02-25 17:08:38,723] Trial 8 finished with value: 0.537915512465374 and parameters: {'k': 23}. Best is trial 7 with value: 0.5446675900277008.\n",
      "[I 2025-02-25 17:08:38,733] Trial 9 finished with value: 0.542590027700831 and parameters: {'k': 5}. Best is trial 7 with value: 0.5446675900277008.\n",
      "[I 2025-02-25 17:08:38,743] Trial 10 finished with value: 0.5353185595567868 and parameters: {'k': 34}. Best is trial 7 with value: 0.5446675900277008.\n",
      "[I 2025-02-25 17:08:38,754] Trial 11 finished with value: 0.534106648199446 and parameters: {'k': 36}. Best is trial 7 with value: 0.5446675900277008.\n",
      "[I 2025-02-25 17:08:38,765] Trial 12 finished with value: 0.5219875346260388 and parameters: {'k': 27}. Best is trial 7 with value: 0.5446675900277008.\n",
      "[I 2025-02-25 17:08:38,776] Trial 13 finished with value: 0.5477839335180056 and parameters: {'k': 35}. Best is trial 13 with value: 0.5477839335180056.\n",
      "[I 2025-02-25 17:08:38,787] Trial 14 finished with value: 0.5413781163434902 and parameters: {'k': 19}. Best is trial 13 with value: 0.5477839335180056.\n",
      "[I 2025-02-25 17:08:38,798] Trial 15 finished with value: 0.5093490304709141 and parameters: {'k': 8}. Best is trial 13 with value: 0.5477839335180056.\n",
      "[I 2025-02-25 17:08:38,810] Trial 16 finished with value: 0.5169667590027701 and parameters: {'k': 15}. Best is trial 13 with value: 0.5477839335180056.\n",
      "[I 2025-02-25 17:08:38,822] Trial 17 finished with value: 0.528393351800554 and parameters: {'k': 46}. Best is trial 13 with value: 0.5477839335180056.\n",
      "[I 2025-02-25 17:08:38,834] Trial 18 finished with value: 0.5465720221606648 and parameters: {'k': 49}. Best is trial 13 with value: 0.5477839335180056.\n",
      "[I 2025-02-25 17:08:38,847] Trial 19 finished with value: 0.5351454293628809 and parameters: {'k': 30}. Best is trial 13 with value: 0.5477839335180056.\n",
      "[I 2025-02-25 17:08:38,859] Trial 20 finished with value: 0.5289127423822715 and parameters: {'k': 16}. Best is trial 13 with value: 0.5477839335180056.\n",
      "[I 2025-02-25 17:08:38,876] Trial 21 finished with value: 0.5389542936288089 and parameters: {'k': 31}. Best is trial 13 with value: 0.5477839335180056.\n",
      "[I 2025-02-25 17:08:38,889] Trial 22 finished with value: 0.5401662049861495 and parameters: {'k': 33}. Best is trial 13 with value: 0.5477839335180056.\n",
      "[I 2025-02-25 17:08:38,902] Trial 23 finished with value: 0.5204293628808864 and parameters: {'k': 17}. Best is trial 13 with value: 0.5477839335180056.\n",
      "[I 2025-02-25 17:08:38,916] Trial 24 finished with value: 0.5363573407202216 and parameters: {'k': 43}. Best is trial 13 with value: 0.5477839335180056.\n",
      "[I 2025-02-25 17:08:38,929] Trial 25 finished with value: 0.5318559556786703 and parameters: {'k': 21}. Best is trial 13 with value: 0.5477839335180056.\n",
      "[I 2025-02-25 17:08:38,943] Trial 26 finished with value: 0.5290858725761772 and parameters: {'k': 44}. Best is trial 13 with value: 0.5477839335180056.\n",
      "[I 2025-02-25 17:08:38,956] Trial 27 finished with value: 0.49982686980609414 and parameters: {'k': 9}. Best is trial 13 with value: 0.5477839335180056.\n",
      "[I 2025-02-25 17:08:38,970] Trial 28 finished with value: 0.5214681440443214 and parameters: {'k': 14}. Best is trial 13 with value: 0.5477839335180056.\n",
      "[I 2025-02-25 17:08:38,984] Trial 29 finished with value: 0.5216412742382271 and parameters: {'k': 26}. Best is trial 13 with value: 0.5477839335180056.\n",
      "[I 2025-02-25 17:08:38,997] Trial 30 finished with value: 0.5117728531855955 and parameters: {'k': 6}. Best is trial 13 with value: 0.5477839335180056.\n",
      "[I 2025-02-25 17:08:39,017] Trial 31 finished with value: 0.5441481994459834 and parameters: {'k': 18}. Best is trial 13 with value: 0.5477839335180056.\n",
      "[I 2025-02-25 17:08:39,033] Trial 32 finished with value: 0.5268351800554016 and parameters: {'k': 41}. Best is trial 13 with value: 0.5477839335180056.\n",
      "[I 2025-02-25 17:08:39,049] Trial 33 finished with value: 0.5515927977839336 and parameters: {'k': 50}. Best is trial 33 with value: 0.5515927977839336.\n",
      "[I 2025-02-25 17:08:39,064] Trial 34 finished with value: 0.5820637119113574 and parameters: {'k': 2}. Best is trial 34 with value: 0.5820637119113574.\n",
      "[I 2025-02-25 17:08:39,079] Trial 35 finished with value: 0.5261426592797784 and parameters: {'k': 13}. Best is trial 34 with value: 0.5820637119113574.\n",
      "[I 2025-02-25 17:08:39,095] Trial 36 finished with value: 0.5289127423822715 and parameters: {'k': 38}. Best is trial 34 with value: 0.5820637119113574.\n",
      "[I 2025-02-25 17:08:39,110] Trial 37 finished with value: 0.5278739612188366 and parameters: {'k': 25}. Best is trial 34 with value: 0.5820637119113574.\n",
      "[I 2025-02-25 17:08:39,126] Trial 38 finished with value: 0.48337950138504154 and parameters: {'k': 7}. Best is trial 34 with value: 0.5820637119113574.\n",
      "[I 2025-02-25 17:08:39,142] Trial 39 finished with value: 0.5278739612188366 and parameters: {'k': 24}. Best is trial 34 with value: 0.5820637119113574.\n",
      "[I 2025-02-25 17:08:39,158] Trial 40 finished with value: 0.5393005540166205 and parameters: {'k': 37}. Best is trial 34 with value: 0.5820637119113574.\n",
      "[I 2025-02-25 17:08:39,175] Trial 41 finished with value: 0.5372229916897506 and parameters: {'k': 22}. Best is trial 34 with value: 0.5820637119113574.\n",
      "[I 2025-02-25 17:08:39,195] Trial 42 finished with value: 0.5192174515235457 and parameters: {'k': 20}. Best is trial 34 with value: 0.5820637119113574.\n",
      "[I 2025-02-25 17:08:39,212] Trial 43 finished with value: 0.4949792243767313 and parameters: {'k': 10}. Best is trial 34 with value: 0.5820637119113574.\n",
      "[I 2025-02-25 17:08:39,229] Trial 44 finished with value: 0.5301246537396122 and parameters: {'k': 40}. Best is trial 34 with value: 0.5820637119113574.\n",
      "[I 2025-02-25 17:08:39,247] Trial 45 finished with value: 0.5389542936288088 and parameters: {'k': 47}. Best is trial 34 with value: 0.5820637119113574.\n",
      "[I 2025-02-25 17:08:39,263] Trial 46 finished with value: 0.5360110803324101 and parameters: {'k': 4}. Best is trial 34 with value: 0.5820637119113574.\n",
      "[I 2025-02-25 17:08:39,279] Trial 47 finished with value: 0.5427631578947368 and parameters: {'k': 1}. Best is trial 34 with value: 0.5820637119113574.\n",
      "[I 2025-02-25 17:08:39,298] Trial 48 finished with value: 0.5476108033240997 and parameters: {'k': 48}. Best is trial 34 with value: 0.5820637119113574.\n",
      "[I 2025-02-25 17:08:39,316] Trial 49 finished with value: 0.5256232686980609 and parameters: {'k': 45}. Best is trial 34 with value: 0.5820637119113574.\n",
      "[I 2025-02-25 17:08:39,331] A new study created in memory with name: no-name-d47bb505-cfcd-46bb-b586-068fa1ef634d\n",
      "[I 2025-02-25 17:08:39,340] Trial 0 finished with value: 0.6720914127423824 and parameters: {'k': 29}. Best is trial 0 with value: 0.6720914127423824.\n",
      "[I 2025-02-25 17:08:39,349] Trial 1 finished with value: 0.7141620498614958 and parameters: {'k': 12}. Best is trial 1 with value: 0.7141620498614958.\n",
      "[I 2025-02-25 17:08:39,358] Trial 2 finished with value: 0.6990997229916898 and parameters: {'k': 11}. Best is trial 1 with value: 0.7141620498614958.\n",
      "[I 2025-02-25 17:08:39,368] Trial 3 finished with value: 0.7266274238227146 and parameters: {'k': 42}. Best is trial 3 with value: 0.7266274238227146.\n",
      "[I 2025-02-25 17:08:39,377] Trial 4 finished with value: 0.6130540166204985 and parameters: {'k': 3}. Best is trial 3 with value: 0.7266274238227146.\n",
      "[I 2025-02-25 17:08:39,387] Trial 5 finished with value: 0.6738227146814404 and parameters: {'k': 28}. Best is trial 3 with value: 0.7266274238227146.\n",
      "[I 2025-02-25 17:08:39,397] Trial 6 finished with value: 0.7202216066481995 and parameters: {'k': 39}. Best is trial 3 with value: 0.7266274238227146.\n",
      "[I 2025-02-25 17:08:39,407] Trial 7 finished with value: 0.7119113573407202 and parameters: {'k': 32}. Best is trial 3 with value: 0.7266274238227146.\n",
      "[I 2025-02-25 17:08:39,417] Trial 8 finished with value: 0.6892313019390582 and parameters: {'k': 23}. Best is trial 3 with value: 0.7266274238227146.\n",
      "[I 2025-02-25 17:08:39,428] Trial 9 finished with value: 0.5869113573407202 and parameters: {'k': 5}. Best is trial 3 with value: 0.7266274238227146.\n",
      "[I 2025-02-25 17:08:39,438] Trial 10 finished with value: 0.7337257617728531 and parameters: {'k': 34}. Best is trial 10 with value: 0.7337257617728531.\n",
      "[I 2025-02-25 17:08:39,449] Trial 11 finished with value: 0.7344182825484765 and parameters: {'k': 36}. Best is trial 11 with value: 0.7344182825484765.\n",
      "[I 2025-02-25 17:08:39,472] Trial 12 finished with value: 0.6854224376731302 and parameters: {'k': 27}. Best is trial 11 with value: 0.7344182825484765.\n",
      "[I 2025-02-25 17:08:39,484] Trial 13 finished with value: 0.7454986149584488 and parameters: {'k': 35}. Best is trial 13 with value: 0.7454986149584488.\n",
      "[I 2025-02-25 17:08:39,501] Trial 14 finished with value: 0.7193559556786704 and parameters: {'k': 19}. Best is trial 13 with value: 0.7454986149584488.\n",
      "[I 2025-02-25 17:08:39,512] Trial 15 finished with value: 0.6892313019390581 and parameters: {'k': 8}. Best is trial 13 with value: 0.7454986149584488.\n",
      "[I 2025-02-25 17:08:39,524] Trial 16 finished with value: 0.7029085872576177 and parameters: {'k': 15}. Best is trial 13 with value: 0.7454986149584488.\n",
      "[I 2025-02-25 17:08:39,537] Trial 17 finished with value: 0.7126038781163435 and parameters: {'k': 46}. Best is trial 13 with value: 0.7454986149584488.\n",
      "[I 2025-02-25 17:08:39,549] Trial 18 finished with value: 0.711045706371191 and parameters: {'k': 49}. Best is trial 13 with value: 0.7454986149584488.\n",
      "[I 2025-02-25 17:08:39,562] Trial 19 finished with value: 0.7132963988919667 and parameters: {'k': 30}. Best is trial 13 with value: 0.7454986149584488.\n",
      "[I 2025-02-25 17:08:39,574] Trial 20 finished with value: 0.6916551246537397 and parameters: {'k': 16}. Best is trial 13 with value: 0.7454986149584488.\n",
      "[I 2025-02-25 17:08:39,588] Trial 21 finished with value: 0.6996191135734071 and parameters: {'k': 31}. Best is trial 13 with value: 0.7454986149584488.\n",
      "[I 2025-02-25 17:08:39,601] Trial 22 finished with value: 0.7269736842105263 and parameters: {'k': 33}. Best is trial 13 with value: 0.7454986149584488.\n",
      "[I 2025-02-25 17:08:39,614] Trial 23 finished with value: 0.6949445983379501 and parameters: {'k': 17}. Best is trial 13 with value: 0.7454986149584488.\n",
      "[I 2025-02-25 17:08:39,631] Trial 24 finished with value: 0.7252423822714681 and parameters: {'k': 43}. Best is trial 13 with value: 0.7454986149584488.\n",
      "[I 2025-02-25 17:08:39,645] Trial 25 finished with value: 0.7037742382271468 and parameters: {'k': 21}. Best is trial 13 with value: 0.7454986149584488.\n",
      "[I 2025-02-25 17:08:39,659] Trial 26 finished with value: 0.7171052631578947 and parameters: {'k': 44}. Best is trial 13 with value: 0.7454986149584488.\n",
      "[I 2025-02-25 17:08:39,672] Trial 27 finished with value: 0.6933864265927978 and parameters: {'k': 9}. Best is trial 13 with value: 0.7454986149584488.\n",
      "[I 2025-02-25 17:08:39,686] Trial 28 finished with value: 0.7008310249307479 and parameters: {'k': 14}. Best is trial 13 with value: 0.7454986149584488.\n",
      "[I 2025-02-25 17:08:39,701] Trial 29 finished with value: 0.6900969529085873 and parameters: {'k': 26}. Best is trial 13 with value: 0.7454986149584488.\n",
      "[I 2025-02-25 17:08:39,715] Trial 30 finished with value: 0.6404085872576177 and parameters: {'k': 6}. Best is trial 13 with value: 0.7454986149584488.\n",
      "[I 2025-02-25 17:08:39,729] Trial 31 finished with value: 0.6887119113573407 and parameters: {'k': 18}. Best is trial 13 with value: 0.7454986149584488.\n",
      "[I 2025-02-25 17:08:39,744] Trial 32 finished with value: 0.7068905817174514 and parameters: {'k': 41}. Best is trial 13 with value: 0.7454986149584488.\n",
      "[I 2025-02-25 17:08:39,760] Trial 33 finished with value: 0.7018698060941827 and parameters: {'k': 50}. Best is trial 13 with value: 0.7454986149584488.\n",
      "[I 2025-02-25 17:08:39,774] Trial 34 finished with value: 0.5938365650969529 and parameters: {'k': 2}. Best is trial 13 with value: 0.7454986149584488.\n",
      "[I 2025-02-25 17:08:39,789] Trial 35 finished with value: 0.6992728531855955 and parameters: {'k': 13}. Best is trial 13 with value: 0.7454986149584488.\n",
      "[I 2025-02-25 17:08:39,805] Trial 36 finished with value: 0.7271468144044322 and parameters: {'k': 38}. Best is trial 13 with value: 0.7454986149584488.\n",
      "[I 2025-02-25 17:08:39,821] Trial 37 finished with value: 0.6939058171745153 and parameters: {'k': 25}. Best is trial 13 with value: 0.7454986149584488.\n",
      "[I 2025-02-25 17:08:39,836] Trial 38 finished with value: 0.6975415512465374 and parameters: {'k': 7}. Best is trial 13 with value: 0.7454986149584488.\n",
      "[I 2025-02-25 17:08:39,852] Trial 39 finished with value: 0.7003116343490305 and parameters: {'k': 24}. Best is trial 13 with value: 0.7454986149584488.\n",
      "[I 2025-02-25 17:08:39,869] Trial 40 finished with value: 0.7288781163434904 and parameters: {'k': 37}. Best is trial 13 with value: 0.7454986149584488.\n",
      "[I 2025-02-25 17:08:39,885] Trial 41 finished with value: 0.6996191135734072 and parameters: {'k': 22}. Best is trial 13 with value: 0.7454986149584488.\n",
      "[I 2025-02-25 17:08:39,902] Trial 42 finished with value: 0.7087950138504155 and parameters: {'k': 20}. Best is trial 13 with value: 0.7454986149584488.\n",
      "[I 2025-02-25 17:08:39,919] Trial 43 finished with value: 0.6873268698060941 and parameters: {'k': 10}. Best is trial 13 with value: 0.7454986149584488.\n",
      "[I 2025-02-25 17:08:39,936] Trial 44 finished with value: 0.7124307479224377 and parameters: {'k': 40}. Best is trial 13 with value: 0.7454986149584488.\n",
      "[I 2025-02-25 17:08:39,954] Trial 45 finished with value: 0.7025623268698061 and parameters: {'k': 47}. Best is trial 13 with value: 0.7454986149584488.\n",
      "[I 2025-02-25 17:08:39,971] Trial 46 finished with value: 0.5689058171745152 and parameters: {'k': 4}. Best is trial 13 with value: 0.7454986149584488.\n",
      "[I 2025-02-25 17:08:39,987] Trial 47 finished with value: 0.5328947368421053 and parameters: {'k': 1}. Best is trial 13 with value: 0.7454986149584488.\n",
      "[I 2025-02-25 17:08:40,006] Trial 48 finished with value: 0.7113919667590027 and parameters: {'k': 48}. Best is trial 13 with value: 0.7454986149584488.\n",
      "[I 2025-02-25 17:08:40,025] Trial 49 finished with value: 0.6992728531855955 and parameters: {'k': 45}. Best is trial 13 with value: 0.7454986149584488.\n",
      "[I 2025-02-25 17:08:40,066] A new study created in memory with name: no-name-e0458984-c524-4101-bb22-8b9397c5aadd\n",
      "[I 2025-02-25 17:08:40,075] Trial 0 finished with value: 0.568082788671024 and parameters: {'k': 29}. Best is trial 0 with value: 0.568082788671024.\n",
      "[I 2025-02-25 17:08:40,083] Trial 1 finished with value: 0.5762527233115469 and parameters: {'k': 12}. Best is trial 1 with value: 0.5762527233115469.\n",
      "[I 2025-02-25 17:08:40,092] Trial 2 finished with value: 0.5866013071895425 and parameters: {'k': 11}. Best is trial 2 with value: 0.5866013071895425.\n",
      "[I 2025-02-25 17:08:40,102] Trial 3 finished with value: 0.6123819898329702 and parameters: {'k': 42}. Best is trial 3 with value: 0.6123819898329702.\n",
      "[I 2025-02-25 17:08:40,112] Trial 4 finished with value: 0.6259985475671751 and parameters: {'k': 3}. Best is trial 4 with value: 0.6259985475671751.\n",
      "[I 2025-02-25 17:08:40,121] Trial 5 finished with value: 0.5713507625272332 and parameters: {'k': 28}. Best is trial 4 with value: 0.6259985475671751.\n",
      "[I 2025-02-25 17:08:40,132] Trial 6 finished with value: 0.6011256354393609 and parameters: {'k': 39}. Best is trial 4 with value: 0.6259985475671751.\n",
      "[I 2025-02-25 17:08:40,142] Trial 7 finished with value: 0.5985838779956427 and parameters: {'k': 32}. Best is trial 4 with value: 0.6259985475671751.\n",
      "[I 2025-02-25 17:08:40,152] Trial 8 finished with value: 0.5737109658678285 and parameters: {'k': 23}. Best is trial 4 with value: 0.6259985475671751.\n",
      "[I 2025-02-25 17:08:40,162] Trial 9 finished with value: 0.5826071169208423 and parameters: {'k': 5}. Best is trial 4 with value: 0.6259985475671751.\n",
      "[I 2025-02-25 17:08:40,173] Trial 10 finished with value: 0.5758896151053013 and parameters: {'k': 34}. Best is trial 4 with value: 0.6259985475671751.\n",
      "[I 2025-02-25 17:08:40,190] Trial 11 finished with value: 0.5824255628177197 and parameters: {'k': 36}. Best is trial 4 with value: 0.6259985475671751.\n",
      "[I 2025-02-25 17:08:40,202] Trial 12 finished with value: 0.5853304284676835 and parameters: {'k': 27}. Best is trial 4 with value: 0.6259985475671751.\n",
      "[I 2025-02-25 17:08:40,214] Trial 13 finished with value: 0.5677196804647784 and parameters: {'k': 35}. Best is trial 4 with value: 0.6259985475671751.\n",
      "[I 2025-02-25 17:08:40,227] Trial 14 finished with value: 0.5733478576615832 and parameters: {'k': 19}. Best is trial 4 with value: 0.6259985475671751.\n",
      "[I 2025-02-25 17:08:40,238] Trial 15 finished with value: 0.6007625272331154 and parameters: {'k': 8}. Best is trial 4 with value: 0.6259985475671751.\n",
      "[I 2025-02-25 17:08:40,251] Trial 16 finished with value: 0.5448438634713144 and parameters: {'k': 15}. Best is trial 4 with value: 0.6259985475671751.\n",
      "[I 2025-02-25 17:08:40,264] Trial 17 finished with value: 0.6238198983297023 and parameters: {'k': 46}. Best is trial 4 with value: 0.6259985475671751.\n",
      "[I 2025-02-25 17:08:40,277] Trial 18 finished with value: 0.6181917211328978 and parameters: {'k': 49}. Best is trial 4 with value: 0.6259985475671751.\n",
      "[I 2025-02-25 17:08:40,291] Trial 19 finished with value: 0.5726216412490921 and parameters: {'k': 30}. Best is trial 4 with value: 0.6259985475671751.\n",
      "[I 2025-02-25 17:08:40,304] Trial 20 finished with value: 0.5588235294117647 and parameters: {'k': 16}. Best is trial 4 with value: 0.6259985475671751.\n",
      "[I 2025-02-25 17:08:40,317] Trial 21 finished with value: 0.5797022512708787 and parameters: {'k': 31}. Best is trial 4 with value: 0.6259985475671751.\n",
      "[I 2025-02-25 17:08:40,331] Trial 22 finished with value: 0.5900508351488744 and parameters: {'k': 33}. Best is trial 4 with value: 0.6259985475671751.\n",
      "[I 2025-02-25 17:08:40,345] Trial 23 finished with value: 0.586964415395788 and parameters: {'k': 17}. Best is trial 4 with value: 0.6259985475671751.\n",
      "[I 2025-02-25 17:08:40,359] Trial 24 finished with value: 0.6294480755265068 and parameters: {'k': 43}. Best is trial 24 with value: 0.6294480755265068.\n",
      "[I 2025-02-25 17:08:40,373] Trial 25 finished with value: 0.5582788671023965 and parameters: {'k': 21}. Best is trial 24 with value: 0.6294480755265068.\n",
      "[I 2025-02-25 17:08:40,388] Trial 26 finished with value: 0.6396151053013799 and parameters: {'k': 44}. Best is trial 26 with value: 0.6396151053013799.\n",
      "[I 2025-02-25 17:08:40,402] Trial 27 finished with value: 0.5942265795206971 and parameters: {'k': 9}. Best is trial 26 with value: 0.6396151053013799.\n",
      "[I 2025-02-25 17:08:40,417] Trial 28 finished with value: 0.55119825708061 and parameters: {'k': 14}. Best is trial 26 with value: 0.6396151053013799.\n",
      "[I 2025-02-25 17:08:40,432] Trial 29 finished with value: 0.5951343500363109 and parameters: {'k': 26}. Best is trial 26 with value: 0.6396151053013799.\n",
      "[I 2025-02-25 17:08:40,447] Trial 30 finished with value: 0.6276325344952796 and parameters: {'k': 6}. Best is trial 26 with value: 0.6396151053013799.\n",
      "[I 2025-02-25 17:08:40,483] Trial 31 finished with value: 0.5780682643427743 and parameters: {'k': 18}. Best is trial 26 with value: 0.6396151053013799.\n",
      "[I 2025-02-25 17:08:40,501] Trial 32 finished with value: 0.6140159767610748 and parameters: {'k': 41}. Best is trial 26 with value: 0.6396151053013799.\n",
      "[I 2025-02-25 17:08:40,517] Trial 33 finished with value: 0.6263616557734205 and parameters: {'k': 50}. Best is trial 26 with value: 0.6396151053013799.\n",
      "[I 2025-02-25 17:08:40,532] Trial 34 finished with value: 0.6726579520697168 and parameters: {'k': 2}. Best is trial 34 with value: 0.6726579520697168.\n",
      "[I 2025-02-25 17:08:40,548] Trial 35 finished with value: 0.565359477124183 and parameters: {'k': 13}. Best is trial 34 with value: 0.6726579520697168.\n",
      "[I 2025-02-25 17:08:40,564] Trial 36 finished with value: 0.5900508351488744 and parameters: {'k': 38}. Best is trial 34 with value: 0.6726579520697168.\n",
      "[I 2025-02-25 17:08:40,581] Trial 37 finished with value: 0.5733478576615831 and parameters: {'k': 25}. Best is trial 34 with value: 0.6726579520697168.\n",
      "[I 2025-02-25 17:08:40,597] Trial 38 finished with value: 0.6125635439360929 and parameters: {'k': 7}. Best is trial 34 with value: 0.6726579520697168.\n",
      "[I 2025-02-25 17:08:40,614] Trial 39 finished with value: 0.568082788671024 and parameters: {'k': 24}. Best is trial 34 with value: 0.6726579520697168.\n",
      "[I 2025-02-25 17:08:40,630] Trial 40 finished with value: 0.5757080610021786 and parameters: {'k': 37}. Best is trial 34 with value: 0.6726579520697168.\n",
      "[I 2025-02-25 17:08:40,647] Trial 41 finished with value: 0.5530137981118374 and parameters: {'k': 22}. Best is trial 34 with value: 0.6726579520697168.\n",
      "[I 2025-02-25 17:08:40,664] Trial 42 finished with value: 0.5724400871459695 and parameters: {'k': 20}. Best is trial 34 with value: 0.6726579520697168.\n",
      "[I 2025-02-25 17:08:40,681] Trial 43 finished with value: 0.5846042120551924 and parameters: {'k': 10}. Best is trial 34 with value: 0.6726579520697168.\n",
      "[I 2025-02-25 17:08:40,700] Trial 44 finished with value: 0.6156499636891793 and parameters: {'k': 40}. Best is trial 34 with value: 0.6726579520697168.\n",
      "[I 2025-02-25 17:08:40,718] Trial 45 finished with value: 0.6154684095860568 and parameters: {'k': 47}. Best is trial 34 with value: 0.6726579520697168.\n",
      "[I 2025-02-25 17:08:40,736] Trial 46 finished with value: 0.6065722585330429 and parameters: {'k': 4}. Best is trial 34 with value: 0.6726579520697168.\n",
      "[I 2025-02-25 17:08:40,753] Trial 47 finished with value: 0.6421568627450981 and parameters: {'k': 1}. Best is trial 34 with value: 0.6726579520697168.\n",
      "[I 2025-02-25 17:08:40,776] Trial 48 finished with value: 0.6067538126361656 and parameters: {'k': 48}. Best is trial 34 with value: 0.6726579520697168.\n",
      "[I 2025-02-25 17:08:40,795] Trial 49 finished with value: 0.6318082788671024 and parameters: {'k': 45}. Best is trial 34 with value: 0.6726579520697168.\n",
      "[I 2025-02-25 17:08:40,812] A new study created in memory with name: no-name-f461027a-2069-45b4-9eab-19d6463911cb\n",
      "[I 2025-02-25 17:08:40,823] Trial 0 finished with value: 0.6533490011750881 and parameters: {'k': 29}. Best is trial 0 with value: 0.6533490011750881.\n",
      "[I 2025-02-25 17:08:40,832] Trial 1 finished with value: 0.649529964747356 and parameters: {'k': 12}. Best is trial 0 with value: 0.6533490011750881.\n",
      "[I 2025-02-25 17:08:40,841] Trial 2 finished with value: 0.6558460634547592 and parameters: {'k': 11}. Best is trial 2 with value: 0.6558460634547592.\n",
      "[I 2025-02-25 17:08:40,852] Trial 3 finished with value: 0.6285252643948297 and parameters: {'k': 42}. Best is trial 2 with value: 0.6558460634547592.\n",
      "[I 2025-02-25 17:08:40,861] Trial 4 finished with value: 0.6066392479435958 and parameters: {'k': 3}. Best is trial 2 with value: 0.6558460634547592.\n",
      "[I 2025-02-25 17:08:40,873] Trial 5 finished with value: 0.6703877790834313 and parameters: {'k': 28}. Best is trial 5 with value: 0.6703877790834313.\n",
      "[I 2025-02-25 17:08:40,884] Trial 6 finished with value: 0.643213866039953 and parameters: {'k': 39}. Best is trial 5 with value: 0.6703877790834313.\n",
      "[I 2025-02-25 17:08:40,895] Trial 7 finished with value: 0.6413043478260869 and parameters: {'k': 32}. Best is trial 5 with value: 0.6703877790834313.\n",
      "[I 2025-02-25 17:08:40,906] Trial 8 finished with value: 0.6706815511163338 and parameters: {'k': 23}. Best is trial 8 with value: 0.6706815511163338.\n",
      "[I 2025-02-25 17:08:40,917] Trial 9 finished with value: 0.6117802585193889 and parameters: {'k': 5}. Best is trial 8 with value: 0.6706815511163338.\n",
      "[I 2025-02-25 17:08:40,929] Trial 10 finished with value: 0.6440951821386603 and parameters: {'k': 34}. Best is trial 8 with value: 0.6706815511163338.\n",
      "[I 2025-02-25 17:08:40,942] Trial 11 finished with value: 0.6374853113983548 and parameters: {'k': 36}. Best is trial 8 with value: 0.6706815511163338.\n",
      "[I 2025-02-25 17:08:40,953] Trial 12 finished with value: 0.6628965922444183 and parameters: {'k': 27}. Best is trial 8 with value: 0.6706815511163338.\n",
      "[I 2025-02-25 17:08:40,966] Trial 13 finished with value: 0.6473266745005876 and parameters: {'k': 35}. Best is trial 8 with value: 0.6706815511163338.\n",
      "[I 2025-02-25 17:08:40,978] Trial 14 finished with value: 0.6549647473560517 and parameters: {'k': 19}. Best is trial 8 with value: 0.6706815511163338.\n",
      "[I 2025-02-25 17:08:40,991] Trial 15 finished with value: 0.611780258519389 and parameters: {'k': 8}. Best is trial 8 with value: 0.6706815511163338.\n",
      "[I 2025-02-25 17:08:41,003] Trial 16 finished with value: 0.6543772032902467 and parameters: {'k': 15}. Best is trial 8 with value: 0.6706815511163338.\n",
      "[I 2025-02-25 17:08:41,018] Trial 17 finished with value: 0.6439482961222092 and parameters: {'k': 46}. Best is trial 8 with value: 0.6706815511163338.\n",
      "[I 2025-02-25 17:08:41,032] Trial 18 finished with value: 0.6581962397179788 and parameters: {'k': 49}. Best is trial 8 with value: 0.6706815511163338.\n",
      "[I 2025-02-25 17:08:41,047] Trial 19 finished with value: 0.648207990599295 and parameters: {'k': 30}. Best is trial 8 with value: 0.6706815511163338.\n",
      "[I 2025-02-25 17:08:41,061] Trial 20 finished with value: 0.6462984723854288 and parameters: {'k': 16}. Best is trial 8 with value: 0.6706815511163338.\n",
      "[I 2025-02-25 17:08:41,074] Trial 21 finished with value: 0.640129259694477 and parameters: {'k': 31}. Best is trial 8 with value: 0.6706815511163338.\n",
      "[I 2025-02-25 17:08:41,088] Trial 22 finished with value: 0.6527614571092832 and parameters: {'k': 33}. Best is trial 8 with value: 0.6706815511163338.\n",
      "[I 2025-02-25 17:08:41,102] Trial 23 finished with value: 0.629406580493537 and parameters: {'k': 17}. Best is trial 8 with value: 0.6706815511163338.\n",
      "[I 2025-02-25 17:08:41,117] Trial 24 finished with value: 0.6345475910693302 and parameters: {'k': 43}. Best is trial 8 with value: 0.6706815511163338.\n",
      "[I 2025-02-25 17:08:41,131] Trial 25 finished with value: 0.661427732079906 and parameters: {'k': 21}. Best is trial 8 with value: 0.6706815511163338.\n",
      "[I 2025-02-25 17:08:41,146] Trial 26 finished with value: 0.6439482961222093 and parameters: {'k': 44}. Best is trial 8 with value: 0.6706815511163338.\n",
      "[I 2025-02-25 17:08:41,160] Trial 27 finished with value: 0.5969447708578144 and parameters: {'k': 9}. Best is trial 8 with value: 0.6706815511163338.\n",
      "[I 2025-02-25 17:08:41,175] Trial 28 finished with value: 0.6515863689776733 and parameters: {'k': 14}. Best is trial 8 with value: 0.6706815511163338.\n",
      "[I 2025-02-25 17:08:41,194] Trial 29 finished with value: 0.6589306698002351 and parameters: {'k': 26}. Best is trial 8 with value: 0.6706815511163338.\n",
      "[I 2025-02-25 17:08:41,209] Trial 30 finished with value: 0.6047297297297298 and parameters: {'k': 6}. Best is trial 8 with value: 0.6706815511163338.\n",
      "[I 2025-02-25 17:08:41,224] Trial 31 finished with value: 0.6554054054054054 and parameters: {'k': 18}. Best is trial 8 with value: 0.6706815511163338.\n",
      "[I 2025-02-25 17:08:41,240] Trial 32 finished with value: 0.6424794359576969 and parameters: {'k': 41}. Best is trial 8 with value: 0.6706815511163338.\n",
      "[I 2025-02-25 17:08:41,257] Trial 33 finished with value: 0.655111633372503 and parameters: {'k': 50}. Best is trial 8 with value: 0.6706815511163338.\n",
      "[I 2025-02-25 17:08:41,272] Trial 34 finished with value: 0.5606639247943596 and parameters: {'k': 2}. Best is trial 8 with value: 0.6706815511163338.\n",
      "[I 2025-02-25 17:08:41,288] Trial 35 finished with value: 0.6458578143360751 and parameters: {'k': 13}. Best is trial 8 with value: 0.6706815511163338.\n",
      "[I 2025-02-25 17:08:41,305] Trial 36 finished with value: 0.6304347826086956 and parameters: {'k': 38}. Best is trial 8 with value: 0.6706815511163338.\n",
      "[I 2025-02-25 17:08:41,321] Trial 37 finished with value: 0.6617215041128084 and parameters: {'k': 25}. Best is trial 8 with value: 0.6706815511163338.\n",
      "[I 2025-02-25 17:08:41,338] Trial 38 finished with value: 0.6272032902467684 and parameters: {'k': 7}. Best is trial 8 with value: 0.6706815511163338.\n",
      "[I 2025-02-25 17:08:41,355] Trial 39 finished with value: 0.6678907168037603 and parameters: {'k': 24}. Best is trial 8 with value: 0.6706815511163338.\n",
      "[I 2025-02-25 17:08:41,375] Trial 40 finished with value: 0.6367508813160988 and parameters: {'k': 37}. Best is trial 8 with value: 0.6706815511163338.\n",
      "[I 2025-02-25 17:08:41,393] Trial 41 finished with value: 0.6705346650998825 and parameters: {'k': 22}. Best is trial 8 with value: 0.6706815511163338.\n",
      "[I 2025-02-25 17:08:41,411] Trial 42 finished with value: 0.667743830787309 and parameters: {'k': 20}. Best is trial 8 with value: 0.6706815511163338.\n",
      "[I 2025-02-25 17:08:41,429] Trial 43 finished with value: 0.6132491186839013 and parameters: {'k': 10}. Best is trial 8 with value: 0.6706815511163338.\n",
      "[I 2025-02-25 17:08:41,447] Trial 44 finished with value: 0.6464453584018802 and parameters: {'k': 40}. Best is trial 8 with value: 0.6706815511163338.\n",
      "[I 2025-02-25 17:08:41,466] Trial 45 finished with value: 0.6445358401880141 and parameters: {'k': 47}. Best is trial 8 with value: 0.6706815511163338.\n",
      "[I 2025-02-25 17:08:41,484] Trial 46 finished with value: 0.620593419506463 and parameters: {'k': 4}. Best is trial 8 with value: 0.6706815511163338.\n",
      "[I 2025-02-25 17:08:41,500] Trial 47 finished with value: 0.5396592244418331 and parameters: {'k': 1}. Best is trial 8 with value: 0.6706815511163338.\n",
      "[I 2025-02-25 17:08:41,520] Trial 48 finished with value: 0.6457109283196238 and parameters: {'k': 48}. Best is trial 8 with value: 0.6706815511163338.\n",
      "[I 2025-02-25 17:08:41,539] Trial 49 finished with value: 0.6461515863689776 and parameters: {'k': 45}. Best is trial 8 with value: 0.6706815511163338.\n",
      "[I 2025-02-25 17:08:41,564] A new study created in memory with name: no-name-4c6058b0-c0b1-445b-b028-1296768588d6\n",
      "[I 2025-02-25 17:08:41,574] Trial 0 finished with value: 0.5395339954163483 and parameters: {'k': 29}. Best is trial 0 with value: 0.5395339954163483.\n",
      "[I 2025-02-25 17:08:41,584] Trial 1 finished with value: 0.5074484339190222 and parameters: {'k': 12}. Best is trial 0 with value: 0.5395339954163483.\n",
      "[I 2025-02-25 17:08:41,593] Trial 2 finished with value: 0.533040488922842 and parameters: {'k': 11}. Best is trial 0 with value: 0.5395339954163483.\n",
      "[I 2025-02-25 17:08:41,604] Trial 3 finished with value: 0.5299847211611917 and parameters: {'k': 42}. Best is trial 0 with value: 0.5395339954163483.\n",
      "[I 2025-02-25 17:08:41,613] Trial 4 finished with value: 0.6394194041252865 and parameters: {'k': 3}. Best is trial 4 with value: 0.6394194041252865.\n",
      "[I 2025-02-25 17:08:41,624] Trial 5 finished with value: 0.5523300229182582 and parameters: {'k': 28}. Best is trial 4 with value: 0.6394194041252865.\n",
      "[I 2025-02-25 17:08:41,634] Trial 6 finished with value: 0.5211993888464477 and parameters: {'k': 39}. Best is trial 4 with value: 0.6394194041252865.\n",
      "[I 2025-02-25 17:08:41,645] Trial 7 finished with value: 0.5122230710466005 and parameters: {'k': 32}. Best is trial 4 with value: 0.6394194041252865.\n",
      "[I 2025-02-25 17:08:41,657] Trial 8 finished with value: 0.5349503437738732 and parameters: {'k': 23}. Best is trial 4 with value: 0.6394194041252865.\n",
      "[I 2025-02-25 17:08:41,668] Trial 9 finished with value: 0.5523300229182582 and parameters: {'k': 5}. Best is trial 4 with value: 0.6394194041252865.\n",
      "[I 2025-02-25 17:08:41,679] Trial 10 finished with value: 0.5233002291825821 and parameters: {'k': 34}. Best is trial 4 with value: 0.6394194041252865.\n",
      "[I 2025-02-25 17:08:41,692] Trial 11 finished with value: 0.5397249809014516 and parameters: {'k': 36}. Best is trial 4 with value: 0.6394194041252865.\n",
      "[I 2025-02-25 17:08:41,704] Trial 12 finished with value: 0.5357142857142857 and parameters: {'k': 27}. Best is trial 4 with value: 0.6394194041252865.\n",
      "[I 2025-02-25 17:08:41,716] Trial 13 finished with value: 0.5208174178762414 and parameters: {'k': 35}. Best is trial 4 with value: 0.6394194041252865.\n",
      "[I 2025-02-25 17:08:41,728] Trial 14 finished with value: 0.536096256684492 and parameters: {'k': 19}. Best is trial 4 with value: 0.6394194041252865.\n",
      "[I 2025-02-25 17:08:41,741] Trial 15 finished with value: 0.5842245989304813 and parameters: {'k': 8}. Best is trial 4 with value: 0.6394194041252865.\n",
      "[I 2025-02-25 17:08:41,754] Trial 16 finished with value: 0.5504201680672269 and parameters: {'k': 15}. Best is trial 4 with value: 0.6394194041252865.\n",
      "[I 2025-02-25 17:08:41,767] Trial 17 finished with value: 0.5444996180290298 and parameters: {'k': 46}. Best is trial 4 with value: 0.6394194041252865.\n",
      "[I 2025-02-25 17:08:41,780] Trial 18 finished with value: 0.5376241405653169 and parameters: {'k': 49}. Best is trial 4 with value: 0.6394194041252865.\n",
      "[I 2025-02-25 17:08:41,794] Trial 19 finished with value: 0.5280748663101604 and parameters: {'k': 30}. Best is trial 4 with value: 0.6394194041252865.\n",
      "[I 2025-02-25 17:08:41,807] Trial 20 finished with value: 0.5368601986249045 and parameters: {'k': 16}. Best is trial 4 with value: 0.6394194041252865.\n",
      "[I 2025-02-25 17:08:41,821] Trial 21 finished with value: 0.5286478227654698 and parameters: {'k': 31}. Best is trial 4 with value: 0.6394194041252865.\n",
      "[I 2025-02-25 17:08:41,835] Trial 22 finished with value: 0.5162337662337663 and parameters: {'k': 33}. Best is trial 4 with value: 0.6394194041252865.\n",
      "[I 2025-02-25 17:08:41,848] Trial 23 finished with value: 0.5215813598166539 and parameters: {'k': 17}. Best is trial 4 with value: 0.6394194041252865.\n",
      "[I 2025-02-25 17:08:41,863] Trial 24 finished with value: 0.5311306340718105 and parameters: {'k': 43}. Best is trial 4 with value: 0.6394194041252865.\n",
      "[I 2025-02-25 17:08:41,877] Trial 25 finished with value: 0.5425897631779986 and parameters: {'k': 21}. Best is trial 4 with value: 0.6394194041252865.\n",
      "[I 2025-02-25 17:08:41,897] Trial 26 finished with value: 0.524446142093201 and parameters: {'k': 44}. Best is trial 4 with value: 0.6394194041252865.\n",
      "[I 2025-02-25 17:08:41,915] Trial 27 finished with value: 0.5561497326203209 and parameters: {'k': 9}. Best is trial 4 with value: 0.6394194041252865.\n",
      "[I 2025-02-25 17:08:41,935] Trial 28 finished with value: 0.5429717341482048 and parameters: {'k': 14}. Best is trial 4 with value: 0.6394194041252865.\n",
      "[I 2025-02-25 17:08:41,952] Trial 29 finished with value: 0.5301757066462949 and parameters: {'k': 26}. Best is trial 4 with value: 0.6394194041252865.\n",
      "[I 2025-02-25 17:08:41,967] Trial 30 finished with value: 0.572192513368984 and parameters: {'k': 6}. Best is trial 4 with value: 0.6394194041252865.\n",
      "[I 2025-02-25 17:08:41,983] Trial 31 finished with value: 0.5250190985485103 and parameters: {'k': 18}. Best is trial 4 with value: 0.6394194041252865.\n",
      "[I 2025-02-25 17:08:41,998] Trial 32 finished with value: 0.5362872421695952 and parameters: {'k': 41}. Best is trial 4 with value: 0.6394194041252865.\n",
      "[I 2025-02-25 17:08:42,017] Trial 33 finished with value: 0.53475935828877 and parameters: {'k': 50}. Best is trial 4 with value: 0.6394194041252865.\n",
      "[I 2025-02-25 17:08:42,033] Trial 34 finished with value: 0.605423987776929 and parameters: {'k': 2}. Best is trial 4 with value: 0.6394194041252865.\n",
      "[I 2025-02-25 17:08:42,050] Trial 35 finished with value: 0.5487012987012987 and parameters: {'k': 13}. Best is trial 4 with value: 0.6394194041252865.\n",
      "[I 2025-02-25 17:08:42,067] Trial 36 finished with value: 0.529029793735676 and parameters: {'k': 38}. Best is trial 4 with value: 0.6394194041252865.\n",
      "[I 2025-02-25 17:08:42,084] Trial 37 finished with value: 0.5334224598930482 and parameters: {'k': 25}. Best is trial 4 with value: 0.6394194041252865.\n",
      "[I 2025-02-25 17:08:42,100] Trial 38 finished with value: 0.5872803666921314 and parameters: {'k': 7}. Best is trial 4 with value: 0.6394194041252865.\n",
      "[I 2025-02-25 17:08:42,117] Trial 39 finished with value: 0.5492742551566081 and parameters: {'k': 24}. Best is trial 4 with value: 0.6394194041252865.\n",
      "[I 2025-02-25 17:08:42,134] Trial 40 finished with value: 0.5425897631779986 and parameters: {'k': 37}. Best is trial 4 with value: 0.6394194041252865.\n",
      "[I 2025-02-25 17:08:42,152] Trial 41 finished with value: 0.5511841100076393 and parameters: {'k': 22}. Best is trial 4 with value: 0.6394194041252865.\n",
      "[I 2025-02-25 17:08:42,174] Trial 42 finished with value: 0.5508021390374331 and parameters: {'k': 20}. Best is trial 4 with value: 0.6394194041252865.\n",
      "[I 2025-02-25 17:08:42,196] Trial 43 finished with value: 0.5353323147440795 and parameters: {'k': 10}. Best is trial 4 with value: 0.6394194041252865.\n",
      "[I 2025-02-25 17:08:42,223] Trial 44 finished with value: 0.524637127578304 and parameters: {'k': 40}. Best is trial 4 with value: 0.6394194041252865.\n",
      "[I 2025-02-25 17:08:42,248] Trial 45 finished with value: 0.5366692131398013 and parameters: {'k': 47}. Best is trial 4 with value: 0.6394194041252865.\n",
      "[I 2025-02-25 17:08:42,294] Trial 46 finished with value: 0.604087089381207 and parameters: {'k': 4}. Best is trial 4 with value: 0.6394194041252865.\n",
      "[I 2025-02-25 17:08:42,315] Trial 47 finished with value: 0.6245225362872422 and parameters: {'k': 1}. Best is trial 4 with value: 0.6394194041252865.\n",
      "[I 2025-02-25 17:08:42,334] Trial 48 finished with value: 0.5362872421695951 and parameters: {'k': 48}. Best is trial 4 with value: 0.6394194041252865.\n",
      "[I 2025-02-25 17:08:42,353] Trial 49 finished with value: 0.5372421695951107 and parameters: {'k': 45}. Best is trial 4 with value: 0.6394194041252865.\n",
      "[I 2025-02-25 17:08:42,398] A new study created in memory with name: no-name-105bbdee-670c-4514-b182-b4695dd7485f\n",
      "[I 2025-02-25 17:08:42,408] Trial 0 finished with value: 0.4761080332409972 and parameters: {'k': 29}. Best is trial 0 with value: 0.4761080332409972.\n",
      "[I 2025-02-25 17:08:42,417] Trial 1 finished with value: 0.37222991689750695 and parameters: {'k': 12}. Best is trial 0 with value: 0.4761080332409972.\n",
      "[I 2025-02-25 17:08:42,427] Trial 2 finished with value: 0.39006232686980613 and parameters: {'k': 11}. Best is trial 0 with value: 0.4761080332409972.\n",
      "[I 2025-02-25 17:08:42,436] Trial 3 finished with value: 0.47541551246537395 and parameters: {'k': 42}. Best is trial 0 with value: 0.4761080332409972.\n",
      "[I 2025-02-25 17:08:42,446] Trial 4 finished with value: 0.46883656509695293 and parameters: {'k': 3}. Best is trial 0 with value: 0.4761080332409972.\n",
      "[I 2025-02-25 17:08:42,459] Trial 5 finished with value: 0.4634695290858726 and parameters: {'k': 28}. Best is trial 0 with value: 0.4761080332409972.\n",
      "[I 2025-02-25 17:08:42,469] Trial 6 finished with value: 0.48718836565096946 and parameters: {'k': 39}. Best is trial 6 with value: 0.48718836565096946.\n",
      "[I 2025-02-25 17:08:42,480] Trial 7 finished with value: 0.4887465373961219 and parameters: {'k': 32}. Best is trial 7 with value: 0.4887465373961219.\n",
      "[I 2025-02-25 17:08:42,490] Trial 8 finished with value: 0.4291897506925207 and parameters: {'k': 23}. Best is trial 7 with value: 0.4887465373961219.\n",
      "[I 2025-02-25 17:08:42,500] Trial 9 finished with value: 0.4929016620498615 and parameters: {'k': 5}. Best is trial 9 with value: 0.4929016620498615.\n",
      "[I 2025-02-25 17:08:42,512] Trial 10 finished with value: 0.49272853185595566 and parameters: {'k': 34}. Best is trial 9 with value: 0.4929016620498615.\n",
      "[I 2025-02-25 17:08:42,524] Trial 11 finished with value: 0.4745498614958448 and parameters: {'k': 36}. Best is trial 9 with value: 0.4929016620498615.\n",
      "[I 2025-02-25 17:08:42,535] Trial 12 finished with value: 0.4632963988919667 and parameters: {'k': 27}. Best is trial 9 with value: 0.4929016620498615.\n",
      "[I 2025-02-25 17:08:42,547] Trial 13 finished with value: 0.4783587257617728 and parameters: {'k': 35}. Best is trial 9 with value: 0.4929016620498615.\n",
      "[I 2025-02-25 17:08:42,559] Trial 14 finished with value: 0.4295360110803324 and parameters: {'k': 19}. Best is trial 9 with value: 0.4929016620498615.\n",
      "[I 2025-02-25 17:08:42,571] Trial 15 finished with value: 0.4553324099722992 and parameters: {'k': 8}. Best is trial 9 with value: 0.4929016620498615.\n",
      "[I 2025-02-25 17:08:42,582] Trial 16 finished with value: 0.4208795013850415 and parameters: {'k': 15}. Best is trial 9 with value: 0.4929016620498615.\n",
      "[I 2025-02-25 17:08:42,594] Trial 17 finished with value: 0.46952908587257614 and parameters: {'k': 46}. Best is trial 9 with value: 0.4929016620498615.\n",
      "[I 2025-02-25 17:08:42,607] Trial 18 finished with value: 0.5051939058171745 and parameters: {'k': 49}. Best is trial 18 with value: 0.5051939058171745.\n",
      "[I 2025-02-25 17:08:42,619] Trial 19 finished with value: 0.48112880886426596 and parameters: {'k': 30}. Best is trial 18 with value: 0.5051939058171745.\n",
      "[I 2025-02-25 17:08:42,630] Trial 20 finished with value: 0.45723684210526316 and parameters: {'k': 16}. Best is trial 18 with value: 0.5051939058171745.\n",
      "[I 2025-02-25 17:08:42,643] Trial 21 finished with value: 0.49619113573407203 and parameters: {'k': 31}. Best is trial 18 with value: 0.5051939058171745.\n",
      "[I 2025-02-25 17:08:42,655] Trial 22 finished with value: 0.49722991689750695 and parameters: {'k': 33}. Best is trial 18 with value: 0.5051939058171745.\n",
      "[I 2025-02-25 17:08:42,668] Trial 23 finished with value: 0.45290858725761773 and parameters: {'k': 17}. Best is trial 18 with value: 0.5051939058171745.\n",
      "[I 2025-02-25 17:08:42,681] Trial 24 finished with value: 0.48389889196675895 and parameters: {'k': 43}. Best is trial 18 with value: 0.5051939058171745.\n",
      "[I 2025-02-25 17:08:42,694] Trial 25 finished with value: 0.4260734072022161 and parameters: {'k': 21}. Best is trial 18 with value: 0.5051939058171745.\n",
      "[I 2025-02-25 17:08:42,707] Trial 26 finished with value: 0.4716066481994459 and parameters: {'k': 44}. Best is trial 18 with value: 0.5051939058171745.\n",
      "[I 2025-02-25 17:08:42,720] Trial 27 finished with value: 0.44217451523545703 and parameters: {'k': 9}. Best is trial 18 with value: 0.5051939058171745.\n",
      "[I 2025-02-25 17:08:42,733] Trial 28 finished with value: 0.3949099722991689 and parameters: {'k': 14}. Best is trial 18 with value: 0.5051939058171745.\n",
      "[I 2025-02-25 17:08:42,747] Trial 29 finished with value: 0.4795706371191136 and parameters: {'k': 26}. Best is trial 18 with value: 0.5051939058171745.\n",
      "[I 2025-02-25 17:08:42,760] Trial 30 finished with value: 0.49359418282548473 and parameters: {'k': 6}. Best is trial 18 with value: 0.5051939058171745.\n",
      "[I 2025-02-25 17:08:42,774] Trial 31 finished with value: 0.4264196675900277 and parameters: {'k': 18}. Best is trial 18 with value: 0.5051939058171745.\n",
      "[I 2025-02-25 17:08:42,789] Trial 32 finished with value: 0.465893351800554 and parameters: {'k': 41}. Best is trial 18 with value: 0.5051939058171745.\n",
      "[I 2025-02-25 17:08:42,804] Trial 33 finished with value: 0.5096952908587258 and parameters: {'k': 50}. Best is trial 33 with value: 0.5096952908587258.\n",
      "[I 2025-02-25 17:08:42,817] Trial 34 finished with value: 0.5055401662049861 and parameters: {'k': 2}. Best is trial 33 with value: 0.5096952908587258.\n",
      "[I 2025-02-25 17:08:42,832] Trial 35 finished with value: 0.39456371191135736 and parameters: {'k': 13}. Best is trial 33 with value: 0.5096952908587258.\n",
      "[I 2025-02-25 17:08:42,847] Trial 36 finished with value: 0.4783587257617728 and parameters: {'k': 38}. Best is trial 33 with value: 0.5096952908587258.\n",
      "[I 2025-02-25 17:08:42,862] Trial 37 finished with value: 0.4686634349030472 and parameters: {'k': 25}. Best is trial 33 with value: 0.5096952908587258.\n",
      "[I 2025-02-25 17:08:42,877] Trial 38 finished with value: 0.4832063711911357 and parameters: {'k': 7}. Best is trial 33 with value: 0.5096952908587258.\n",
      "[I 2025-02-25 17:08:42,893] Trial 39 finished with value: 0.45758310249307477 and parameters: {'k': 24}. Best is trial 33 with value: 0.5096952908587258.\n",
      "[I 2025-02-25 17:08:42,913] Trial 40 finished with value: 0.4793975069252077 and parameters: {'k': 37}. Best is trial 33 with value: 0.5096952908587258.\n",
      "[I 2025-02-25 17:08:42,929] Trial 41 finished with value: 0.4189750692520775 and parameters: {'k': 22}. Best is trial 33 with value: 0.5096952908587258.\n",
      "[I 2025-02-25 17:08:42,946] Trial 42 finished with value: 0.4278047091412742 and parameters: {'k': 20}. Best is trial 33 with value: 0.5096952908587258.\n",
      "[I 2025-02-25 17:08:42,962] Trial 43 finished with value: 0.41430055401662047 and parameters: {'k': 10}. Best is trial 33 with value: 0.5096952908587258.\n",
      "[I 2025-02-25 17:08:42,978] Trial 44 finished with value: 0.47905124653739606 and parameters: {'k': 40}. Best is trial 33 with value: 0.5096952908587258.\n",
      "[I 2025-02-25 17:08:42,996] Trial 45 finished with value: 0.47610803324099726 and parameters: {'k': 47}. Best is trial 33 with value: 0.5096952908587258.\n",
      "[I 2025-02-25 17:08:43,013] Trial 46 finished with value: 0.4409626038781163 and parameters: {'k': 4}. Best is trial 33 with value: 0.5096952908587258.\n",
      "[I 2025-02-25 17:08:43,030] Trial 47 finished with value: 0.4473684210526316 and parameters: {'k': 1}. Best is trial 33 with value: 0.5096952908587258.\n",
      "[I 2025-02-25 17:08:43,050] Trial 48 finished with value: 0.48286011080332414 and parameters: {'k': 48}. Best is trial 33 with value: 0.5096952908587258.\n",
      "[I 2025-02-25 17:08:43,070] Trial 49 finished with value: 0.4700484764542937 and parameters: {'k': 45}. Best is trial 33 with value: 0.5096952908587258.\n",
      "[I 2025-02-25 17:08:43,089] A new study created in memory with name: no-name-bd7aad6f-cd69-422d-930f-c9553430c008\n",
      "[I 2025-02-25 17:08:43,098] Trial 0 finished with value: 0.5393005540166205 and parameters: {'k': 29}. Best is trial 0 with value: 0.5393005540166205.\n",
      "[I 2025-02-25 17:08:43,107] Trial 1 finished with value: 0.5444944598337951 and parameters: {'k': 12}. Best is trial 1 with value: 0.5444944598337951.\n",
      "[I 2025-02-25 17:08:43,115] Trial 2 finished with value: 0.5467451523545706 and parameters: {'k': 11}. Best is trial 2 with value: 0.5467451523545706.\n",
      "[I 2025-02-25 17:08:43,125] Trial 3 finished with value: 0.5560941828254847 and parameters: {'k': 42}. Best is trial 3 with value: 0.5560941828254847.\n",
      "[I 2025-02-25 17:08:43,134] Trial 4 finished with value: 0.5325484764542937 and parameters: {'k': 3}. Best is trial 3 with value: 0.5560941828254847.\n",
      "[I 2025-02-25 17:08:43,143] Trial 5 finished with value: 0.5365304709141274 and parameters: {'k': 28}. Best is trial 3 with value: 0.5560941828254847.\n",
      "[I 2025-02-25 17:08:43,171] Trial 6 finished with value: 0.5417243767313019 and parameters: {'k': 39}. Best is trial 3 with value: 0.5560941828254847.\n",
      "[I 2025-02-25 17:08:43,192] Trial 7 finished with value: 0.5505540166204986 and parameters: {'k': 32}. Best is trial 3 with value: 0.5560941828254847.\n",
      "[I 2025-02-25 17:08:43,208] Trial 8 finished with value: 0.5451869806094183 and parameters: {'k': 23}. Best is trial 3 with value: 0.5560941828254847.\n",
      "[I 2025-02-25 17:08:43,223] Trial 9 finished with value: 0.5657894736842105 and parameters: {'k': 5}. Best is trial 9 with value: 0.5657894736842105.\n",
      "[I 2025-02-25 17:08:43,240] Trial 10 finished with value: 0.5545360110803325 and parameters: {'k': 34}. Best is trial 9 with value: 0.5657894736842105.\n",
      "[I 2025-02-25 17:08:43,252] Trial 11 finished with value: 0.5460526315789473 and parameters: {'k': 36}. Best is trial 9 with value: 0.5657894736842105.\n",
      "[I 2025-02-25 17:08:43,264] Trial 12 finished with value: 0.5541897506925207 and parameters: {'k': 27}. Best is trial 9 with value: 0.5657894736842105.\n",
      "[I 2025-02-25 17:08:43,277] Trial 13 finished with value: 0.5465720221606648 and parameters: {'k': 35}. Best is trial 9 with value: 0.5657894736842105.\n",
      "[I 2025-02-25 17:08:43,289] Trial 14 finished with value: 0.5275277008310248 and parameters: {'k': 19}. Best is trial 9 with value: 0.5657894736842105.\n",
      "[I 2025-02-25 17:08:43,301] Trial 15 finished with value: 0.5415512465373962 and parameters: {'k': 8}. Best is trial 9 with value: 0.5657894736842105.\n",
      "[I 2025-02-25 17:08:43,313] Trial 16 finished with value: 0.5427631578947368 and parameters: {'k': 15}. Best is trial 9 with value: 0.5657894736842105.\n",
      "[I 2025-02-25 17:08:43,326] Trial 17 finished with value: 0.5560941828254847 and parameters: {'k': 46}. Best is trial 9 with value: 0.5657894736842105.\n",
      "[I 2025-02-25 17:08:43,339] Trial 18 finished with value: 0.5718490304709142 and parameters: {'k': 49}. Best is trial 18 with value: 0.5718490304709142.\n",
      "[I 2025-02-25 17:08:43,352] Trial 19 finished with value: 0.5315096952908587 and parameters: {'k': 30}. Best is trial 18 with value: 0.5718490304709142.\n",
      "[I 2025-02-25 17:08:43,365] Trial 20 finished with value: 0.5294321329639889 and parameters: {'k': 16}. Best is trial 18 with value: 0.5718490304709142.\n",
      "[I 2025-02-25 17:08:43,379] Trial 21 finished with value: 0.5373961218836565 and parameters: {'k': 31}. Best is trial 18 with value: 0.5718490304709142.\n",
      "[I 2025-02-25 17:08:43,392] Trial 22 finished with value: 0.5609418282548476 and parameters: {'k': 33}. Best is trial 18 with value: 0.5718490304709142.\n",
      "[I 2025-02-25 17:08:43,406] Trial 23 finished with value: 0.5190443213296398 and parameters: {'k': 17}. Best is trial 18 with value: 0.5718490304709142.\n",
      "[I 2025-02-25 17:08:43,421] Trial 24 finished with value: 0.5522853185595569 and parameters: {'k': 43}. Best is trial 18 with value: 0.5718490304709142.\n",
      "[I 2025-02-25 17:08:43,435] Trial 25 finished with value: 0.5327216066481993 and parameters: {'k': 21}. Best is trial 18 with value: 0.5718490304709142.\n",
      "[I 2025-02-25 17:08:43,450] Trial 26 finished with value: 0.553843490304709 and parameters: {'k': 44}. Best is trial 18 with value: 0.5718490304709142.\n",
      "[I 2025-02-25 17:08:43,464] Trial 27 finished with value: 0.5554016620498614 and parameters: {'k': 9}. Best is trial 18 with value: 0.5718490304709142.\n",
      "[I 2025-02-25 17:08:43,478] Trial 28 finished with value: 0.5382617728531855 and parameters: {'k': 14}. Best is trial 18 with value: 0.5718490304709142.\n",
      "[I 2025-02-25 17:08:43,493] Trial 29 finished with value: 0.5434556786703602 and parameters: {'k': 26}. Best is trial 18 with value: 0.5718490304709142.\n",
      "[I 2025-02-25 17:08:43,507] Trial 30 finished with value: 0.5945290858725761 and parameters: {'k': 6}. Best is trial 30 with value: 0.5945290858725761.\n",
      "[I 2025-02-25 17:08:43,521] Trial 31 finished with value: 0.5420706371191136 and parameters: {'k': 18}. Best is trial 30 with value: 0.5945290858725761.\n",
      "[I 2025-02-25 17:08:43,536] Trial 32 finished with value: 0.5642313019390581 and parameters: {'k': 41}. Best is trial 30 with value: 0.5945290858725761.\n",
      "[I 2025-02-25 17:08:43,552] Trial 33 finished with value: 0.5631925207756232 and parameters: {'k': 50}. Best is trial 30 with value: 0.5945290858725761.\n",
      "[I 2025-02-25 17:08:43,566] Trial 34 finished with value: 0.4726454293628809 and parameters: {'k': 2}. Best is trial 30 with value: 0.5945290858725761.\n",
      "[I 2025-02-25 17:08:43,580] Trial 35 finished with value: 0.558691135734072 and parameters: {'k': 13}. Best is trial 30 with value: 0.5945290858725761.\n",
      "[I 2025-02-25 17:08:43,596] Trial 36 finished with value: 0.5450138504155124 and parameters: {'k': 38}. Best is trial 30 with value: 0.5945290858725761.\n",
      "[I 2025-02-25 17:08:43,611] Trial 37 finished with value: 0.5496883656509696 and parameters: {'k': 25}. Best is trial 30 with value: 0.5945290858725761.\n",
      "[I 2025-02-25 17:08:43,627] Trial 38 finished with value: 0.5621537396121883 and parameters: {'k': 7}. Best is trial 30 with value: 0.5945290858725761.\n",
      "[I 2025-02-25 17:08:43,643] Trial 39 finished with value: 0.546398891966759 and parameters: {'k': 24}. Best is trial 30 with value: 0.5945290858725761.\n",
      "[I 2025-02-25 17:08:43,660] Trial 40 finished with value: 0.542590027700831 and parameters: {'k': 37}. Best is trial 30 with value: 0.5945290858725761.\n",
      "[I 2025-02-25 17:08:43,676] Trial 41 finished with value: 0.5522853185595569 and parameters: {'k': 22}. Best is trial 30 with value: 0.5945290858725761.\n",
      "[I 2025-02-25 17:08:43,693] Trial 42 finished with value: 0.519909972299169 and parameters: {'k': 20}. Best is trial 30 with value: 0.5945290858725761.\n",
      "[I 2025-02-25 17:08:43,710] Trial 43 finished with value: 0.5661357340720221 and parameters: {'k': 10}. Best is trial 30 with value: 0.5945290858725761.\n",
      "[I 2025-02-25 17:08:43,727] Trial 44 finished with value: 0.5573060941828254 and parameters: {'k': 40}. Best is trial 30 with value: 0.5945290858725761.\n",
      "[I 2025-02-25 17:08:43,744] Trial 45 finished with value: 0.5616343490304709 and parameters: {'k': 47}. Best is trial 30 with value: 0.5945290858725761.\n",
      "[I 2025-02-25 17:08:43,761] Trial 46 finished with value: 0.5367036011080333 and parameters: {'k': 4}. Best is trial 30 with value: 0.5945290858725761.\n",
      "[I 2025-02-25 17:08:43,777] Trial 47 finished with value: 0.4638157894736842 and parameters: {'k': 1}. Best is trial 30 with value: 0.5945290858725761.\n",
      "[I 2025-02-25 17:08:43,795] Trial 48 finished with value: 0.5711565096952907 and parameters: {'k': 48}. Best is trial 30 with value: 0.5945290858725761.\n",
      "[I 2025-02-25 17:08:43,814] Trial 49 finished with value: 0.5441481994459834 and parameters: {'k': 45}. Best is trial 30 with value: 0.5945290858725761.\n",
      "[I 2025-02-25 17:08:43,833] A new study created in memory with name: no-name-da59b681-6651-4acf-b8b0-18976f457603\n",
      "[I 2025-02-25 17:08:43,842] Trial 0 finished with value: 0.543754538852578 and parameters: {'k': 29}. Best is trial 0 with value: 0.543754538852578.\n",
      "[I 2025-02-25 17:08:43,851] Trial 1 finished with value: 0.5757080610021788 and parameters: {'k': 12}. Best is trial 1 with value: 0.5757080610021788.\n",
      "[I 2025-02-25 17:08:43,859] Trial 2 finished with value: 0.5933188090050836 and parameters: {'k': 11}. Best is trial 2 with value: 0.5933188090050836.\n",
      "[I 2025-02-25 17:08:43,869] Trial 3 finished with value: 0.5677196804647785 and parameters: {'k': 42}. Best is trial 2 with value: 0.5933188090050836.\n",
      "[I 2025-02-25 17:08:43,878] Trial 4 finished with value: 0.6439724037763255 and parameters: {'k': 3}. Best is trial 4 with value: 0.6439724037763255.\n",
      "[I 2025-02-25 17:08:43,887] Trial 5 finished with value: 0.5521060275962236 and parameters: {'k': 28}. Best is trial 4 with value: 0.6439724037763255.\n",
      "[I 2025-02-25 17:08:43,897] Trial 6 finished with value: 0.563362381989833 and parameters: {'k': 39}. Best is trial 4 with value: 0.6439724037763255.\n",
      "[I 2025-02-25 17:08:43,907] Trial 7 finished with value: 0.54920116194626 and parameters: {'k': 32}. Best is trial 4 with value: 0.6439724037763255.\n",
      "[I 2025-02-25 17:08:43,918] Trial 8 finished with value: 0.5395787944807553 and parameters: {'k': 23}. Best is trial 4 with value: 0.6439724037763255.\n",
      "[I 2025-02-25 17:08:43,928] Trial 9 finished with value: 0.623275236020334 and parameters: {'k': 5}. Best is trial 4 with value: 0.6439724037763255.\n",
      "[I 2025-02-25 17:08:43,938] Trial 10 finished with value: 0.5541031227305737 and parameters: {'k': 34}. Best is trial 4 with value: 0.6439724037763255.\n",
      "[I 2025-02-25 17:08:43,949] Trial 11 finished with value: 0.5455700798838055 and parameters: {'k': 36}. Best is trial 4 with value: 0.6439724037763255.\n",
      "[I 2025-02-25 17:08:43,960] Trial 12 finished with value: 0.5401234567901234 and parameters: {'k': 27}. Best is trial 4 with value: 0.6439724037763255.\n",
      "[I 2025-02-25 17:08:43,971] Trial 13 finished with value: 0.5501089324618736 and parameters: {'k': 35}. Best is trial 4 with value: 0.6439724037763255.\n",
      "[I 2025-02-25 17:08:43,983] Trial 14 finished with value: 0.5501089324618736 and parameters: {'k': 19}. Best is trial 4 with value: 0.6439724037763255.\n",
      "[I 2025-02-25 17:08:43,994] Trial 15 finished with value: 0.5702614379084967 and parameters: {'k': 8}. Best is trial 4 with value: 0.6439724037763255.\n",
      "[I 2025-02-25 17:08:44,006] Trial 16 finished with value: 0.5383079157588961 and parameters: {'k': 15}. Best is trial 4 with value: 0.6439724037763255.\n",
      "[I 2025-02-25 17:08:44,035] Trial 17 finished with value: 0.5542846768336964 and parameters: {'k': 46}. Best is trial 4 with value: 0.6439724037763255.\n",
      "[I 2025-02-25 17:08:44,049] Trial 18 finished with value: 0.558641975308642 and parameters: {'k': 49}. Best is trial 4 with value: 0.6439724037763255.\n",
      "[I 2025-02-25 17:08:44,062] Trial 19 finished with value: 0.5533769063180827 and parameters: {'k': 30}. Best is trial 4 with value: 0.6439724037763255.\n",
      "[I 2025-02-25 17:08:44,074] Trial 20 finished with value: 0.5590050835148874 and parameters: {'k': 16}. Best is trial 4 with value: 0.6439724037763255.\n",
      "[I 2025-02-25 17:08:44,087] Trial 21 finished with value: 0.5393972403776325 and parameters: {'k': 31}. Best is trial 4 with value: 0.6439724037763255.\n",
      "[I 2025-02-25 17:08:44,099] Trial 22 finished with value: 0.5455700798838055 and parameters: {'k': 33}. Best is trial 4 with value: 0.6439724037763255.\n",
      "[I 2025-02-25 17:08:44,112] Trial 23 finished with value: 0.5530137981118373 and parameters: {'k': 17}. Best is trial 4 with value: 0.6439724037763255.\n",
      "[I 2025-02-25 17:08:44,125] Trial 24 finished with value: 0.5651779230210603 and parameters: {'k': 43}. Best is trial 4 with value: 0.6439724037763255.\n",
      "[I 2025-02-25 17:08:44,139] Trial 25 finished with value: 0.5490196078431373 and parameters: {'k': 21}. Best is trial 4 with value: 0.6439724037763255.\n",
      "[I 2025-02-25 17:08:44,153] Trial 26 finished with value: 0.5591866376180101 and parameters: {'k': 44}. Best is trial 4 with value: 0.6439724037763255.\n",
      "[I 2025-02-25 17:08:44,179] Trial 27 finished with value: 0.5771604938271604 and parameters: {'k': 9}. Best is trial 4 with value: 0.6439724037763255.\n",
      "[I 2025-02-25 17:08:44,195] Trial 28 finished with value: 0.5461147421931736 and parameters: {'k': 14}. Best is trial 4 with value: 0.6439724037763255.\n",
      "[I 2025-02-25 17:08:44,210] Trial 29 finished with value: 0.547930283224401 and parameters: {'k': 26}. Best is trial 4 with value: 0.6439724037763255.\n",
      "[I 2025-02-25 17:08:44,231] Trial 30 finished with value: 0.6276325344952797 and parameters: {'k': 6}. Best is trial 4 with value: 0.6439724037763255.\n",
      "[I 2025-02-25 17:08:44,248] Trial 31 finished with value: 0.5392156862745098 and parameters: {'k': 18}. Best is trial 4 with value: 0.6439724037763255.\n",
      "[I 2025-02-25 17:08:44,272] Trial 32 finished with value: 0.5824255628177196 and parameters: {'k': 41}. Best is trial 4 with value: 0.6439724037763255.\n",
      "[I 2025-02-25 17:08:44,288] Trial 33 finished with value: 0.557915758896151 and parameters: {'k': 50}. Best is trial 4 with value: 0.6439724037763255.\n",
      "[I 2025-02-25 17:08:44,302] Trial 34 finished with value: 0.5493827160493827 and parameters: {'k': 2}. Best is trial 4 with value: 0.6439724037763255.\n",
      "[I 2025-02-25 17:08:44,318] Trial 35 finished with value: 0.5455700798838055 and parameters: {'k': 13}. Best is trial 4 with value: 0.6439724037763255.\n",
      "[I 2025-02-25 17:08:44,333] Trial 36 finished with value: 0.5590050835148874 and parameters: {'k': 38}. Best is trial 4 with value: 0.6439724037763255.\n",
      "[I 2025-02-25 17:08:44,349] Trial 37 finished with value: 0.5580973129992738 and parameters: {'k': 25}. Best is trial 4 with value: 0.6439724037763255.\n",
      "[I 2025-02-25 17:08:44,364] Trial 38 finished with value: 0.6011256354393609 and parameters: {'k': 7}. Best is trial 4 with value: 0.6439724037763255.\n",
      "[I 2025-02-25 17:08:44,380] Trial 39 finished with value: 0.5591866376180101 and parameters: {'k': 24}. Best is trial 4 with value: 0.6439724037763255.\n",
      "[I 2025-02-25 17:08:44,397] Trial 40 finished with value: 0.567356572258533 and parameters: {'k': 37}. Best is trial 4 with value: 0.6439724037763255.\n",
      "[I 2025-02-25 17:08:44,413] Trial 41 finished with value: 0.5528322440087146 and parameters: {'k': 22}. Best is trial 4 with value: 0.6439724037763255.\n",
      "[I 2025-02-25 17:08:44,429] Trial 42 finished with value: 0.544480755265069 and parameters: {'k': 20}. Best is trial 4 with value: 0.6439724037763255.\n",
      "[I 2025-02-25 17:08:44,446] Trial 43 finished with value: 0.6029411764705883 and parameters: {'k': 10}. Best is trial 4 with value: 0.6439724037763255.\n",
      "[I 2025-02-25 17:08:44,471] Trial 44 finished with value: 0.5698983297022512 and parameters: {'k': 40}. Best is trial 4 with value: 0.6439724037763255.\n",
      "[I 2025-02-25 17:08:44,488] Trial 45 finished with value: 0.5608206245461147 and parameters: {'k': 47}. Best is trial 4 with value: 0.6439724037763255.\n",
      "[I 2025-02-25 17:08:44,505] Trial 46 finished with value: 0.6002178649237473 and parameters: {'k': 4}. Best is trial 4 with value: 0.6439724037763255.\n",
      "[I 2025-02-25 17:08:44,521] Trial 47 finished with value: 0.5866013071895424 and parameters: {'k': 1}. Best is trial 4 with value: 0.6439724037763255.\n",
      "[I 2025-02-25 17:08:44,539] Trial 48 finished with value: 0.5537400145243283 and parameters: {'k': 48}. Best is trial 4 with value: 0.6439724037763255.\n",
      "[I 2025-02-25 17:08:44,557] Trial 49 finished with value: 0.5651779230210603 and parameters: {'k': 45}. Best is trial 4 with value: 0.6439724037763255.\n",
      "[I 2025-02-25 17:08:44,573] A new study created in memory with name: no-name-0f31637c-ec35-416f-9ea0-ab27b55b39fa\n",
      "[I 2025-02-25 17:08:44,583] Trial 0 finished with value: 0.5384841363102233 and parameters: {'k': 29}. Best is trial 0 with value: 0.5384841363102233.\n",
      "[I 2025-02-25 17:08:44,591] Trial 1 finished with value: 0.559635722679201 and parameters: {'k': 12}. Best is trial 1 with value: 0.559635722679201.\n",
      "[I 2025-02-25 17:08:44,600] Trial 2 finished with value: 0.5453877790834312 and parameters: {'k': 11}. Best is trial 1 with value: 0.559635722679201.\n",
      "[I 2025-02-25 17:08:44,610] Trial 3 finished with value: 0.5201233842538191 and parameters: {'k': 42}. Best is trial 1 with value: 0.559635722679201.\n",
      "[I 2025-02-25 17:08:44,619] Trial 4 finished with value: 0.5403936545240893 and parameters: {'k': 3}. Best is trial 1 with value: 0.559635722679201.\n",
      "[I 2025-02-25 17:08:44,629] Trial 5 finished with value: 0.537749706227967 and parameters: {'k': 28}. Best is trial 1 with value: 0.559635722679201.\n",
      "[I 2025-02-25 17:08:44,639] Trial 6 finished with value: 0.5173325499412456 and parameters: {'k': 39}. Best is trial 1 with value: 0.559635722679201.\n",
      "[I 2025-02-25 17:08:44,649] Trial 7 finished with value: 0.5452408930669801 and parameters: {'k': 32}. Best is trial 1 with value: 0.559635722679201.\n",
      "[I 2025-02-25 17:08:44,659] Trial 8 finished with value: 0.49515276145710924 and parameters: {'k': 23}. Best is trial 1 with value: 0.559635722679201.\n",
      "[I 2025-02-25 17:08:44,670] Trial 9 finished with value: 0.47752643948296125 and parameters: {'k': 5}. Best is trial 1 with value: 0.559635722679201.\n",
      "[I 2025-02-25 17:08:44,681] Trial 10 finished with value: 0.5611045828437135 and parameters: {'k': 34}. Best is trial 10 with value: 0.5611045828437135.\n",
      "[I 2025-02-25 17:08:44,692] Trial 11 finished with value: 0.5377497062279671 and parameters: {'k': 36}. Best is trial 10 with value: 0.5611045828437135.\n",
      "[I 2025-02-25 17:08:44,703] Trial 12 finished with value: 0.5117508813160987 and parameters: {'k': 27}. Best is trial 10 with value: 0.5611045828437135.\n",
      "[I 2025-02-25 17:08:44,714] Trial 13 finished with value: 0.5497943595769683 and parameters: {'k': 35}. Best is trial 10 with value: 0.5611045828437135.\n",
      "[I 2025-02-25 17:08:44,725] Trial 14 finished with value: 0.4920681551116334 and parameters: {'k': 19}. Best is trial 10 with value: 0.5611045828437135.\n",
      "[I 2025-02-25 17:08:44,737] Trial 15 finished with value: 0.49911868390129255 and parameters: {'k': 8}. Best is trial 10 with value: 0.5611045828437135.\n",
      "[I 2025-02-25 17:08:44,751] Trial 16 finished with value: 0.5331962397179788 and parameters: {'k': 15}. Best is trial 10 with value: 0.5611045828437135.\n",
      "[I 2025-02-25 17:08:44,802] Trial 17 finished with value: 0.5312867215041128 and parameters: {'k': 46}. Best is trial 10 with value: 0.5611045828437135.\n",
      "[I 2025-02-25 17:08:44,826] Trial 18 finished with value: 0.5331962397179789 and parameters: {'k': 49}. Best is trial 10 with value: 0.5611045828437135.\n",
      "[I 2025-02-25 17:08:44,858] Trial 19 finished with value: 0.5323149236192715 and parameters: {'k': 30}. Best is trial 10 with value: 0.5611045828437135.\n",
      "[I 2025-02-25 17:08:44,878] Trial 20 finished with value: 0.5179200940070505 and parameters: {'k': 16}. Best is trial 10 with value: 0.5611045828437135.\n",
      "[I 2025-02-25 17:08:44,891] Trial 21 finished with value: 0.5298178613396005 and parameters: {'k': 31}. Best is trial 10 with value: 0.5611045828437135.\n",
      "[I 2025-02-25 17:08:44,915] Trial 22 finished with value: 0.5481786133960047 and parameters: {'k': 33}. Best is trial 10 with value: 0.5611045828437135.\n",
      "[I 2025-02-25 17:08:44,928] Trial 23 finished with value: 0.4863396004700352 and parameters: {'k': 17}. Best is trial 10 with value: 0.5611045828437135.\n",
      "[I 2025-02-25 17:08:44,941] Trial 24 finished with value: 0.5320211515863691 and parameters: {'k': 43}. Best is trial 10 with value: 0.5611045828437135.\n",
      "[I 2025-02-25 17:08:44,955] Trial 25 finished with value: 0.47253231492361925 and parameters: {'k': 21}. Best is trial 10 with value: 0.5611045828437135.\n",
      "[I 2025-02-25 17:08:44,969] Trial 26 finished with value: 0.5214453584018801 and parameters: {'k': 44}. Best is trial 10 with value: 0.5611045828437135.\n",
      "[I 2025-02-25 17:08:44,982] Trial 27 finished with value: 0.5070505287896592 and parameters: {'k': 9}. Best is trial 10 with value: 0.5611045828437135.\n",
      "[I 2025-02-25 17:08:44,996] Trial 28 finished with value: 0.5295240893066979 and parameters: {'k': 14}. Best is trial 10 with value: 0.5611045828437135.\n",
      "[I 2025-02-25 17:08:45,010] Trial 29 finished with value: 0.5020564042303173 and parameters: {'k': 26}. Best is trial 10 with value: 0.5611045828437135.\n",
      "[I 2025-02-25 17:08:45,026] Trial 30 finished with value: 0.47679200940070504 and parameters: {'k': 6}. Best is trial 10 with value: 0.5611045828437135.\n",
      "[I 2025-02-25 17:08:45,041] Trial 31 finished with value: 0.4888366627497062 and parameters: {'k': 18}. Best is trial 10 with value: 0.5611045828437135.\n",
      "[I 2025-02-25 17:08:45,056] Trial 32 finished with value: 0.5301116333725029 and parameters: {'k': 41}. Best is trial 10 with value: 0.5611045828437135.\n",
      "[I 2025-02-25 17:08:45,071] Trial 33 finished with value: 0.5237955346650999 and parameters: {'k': 50}. Best is trial 10 with value: 0.5611045828437135.\n",
      "[I 2025-02-25 17:08:45,085] Trial 34 finished with value: 0.5160105757931845 and parameters: {'k': 2}. Best is trial 10 with value: 0.5611045828437135.\n",
      "[I 2025-02-25 17:08:45,101] Trial 35 finished with value: 0.5381903642773208 and parameters: {'k': 13}. Best is trial 10 with value: 0.5611045828437135.\n",
      "[I 2025-02-25 17:08:45,117] Trial 36 finished with value: 0.5289365452408932 and parameters: {'k': 38}. Best is trial 10 with value: 0.5611045828437135.\n",
      "[I 2025-02-25 17:08:45,133] Trial 37 finished with value: 0.5032314923619271 and parameters: {'k': 25}. Best is trial 10 with value: 0.5611045828437135.\n",
      "[I 2025-02-25 17:08:45,148] Trial 38 finished with value: 0.4590188014101058 and parameters: {'k': 7}. Best is trial 10 with value: 0.5611045828437135.\n",
      "[I 2025-02-25 17:08:45,164] Trial 39 finished with value: 0.5183607520564042 and parameters: {'k': 24}. Best is trial 10 with value: 0.5611045828437135.\n",
      "[I 2025-02-25 17:08:45,186] Trial 40 finished with value: 0.537015276145711 and parameters: {'k': 37}. Best is trial 10 with value: 0.5611045828437135.\n",
      "[I 2025-02-25 17:08:45,202] Trial 41 finished with value: 0.47018213866039954 and parameters: {'k': 22}. Best is trial 10 with value: 0.5611045828437135.\n",
      "[I 2025-02-25 17:08:45,219] Trial 42 finished with value: 0.48942420681551113 and parameters: {'k': 20}. Best is trial 10 with value: 0.5611045828437135.\n",
      "[I 2025-02-25 17:08:45,236] Trial 43 finished with value: 0.5160105757931845 and parameters: {'k': 10}. Best is trial 10 with value: 0.5611045828437135.\n",
      "[I 2025-02-25 17:08:45,254] Trial 44 finished with value: 0.5215922444183314 and parameters: {'k': 40}. Best is trial 10 with value: 0.5611045828437135.\n",
      "[I 2025-02-25 17:08:45,271] Trial 45 finished with value: 0.5189482961222092 and parameters: {'k': 47}. Best is trial 10 with value: 0.5611045828437135.\n",
      "[I 2025-02-25 17:08:45,289] Trial 46 finished with value: 0.5165981198589894 and parameters: {'k': 4}. Best is trial 10 with value: 0.5611045828437135.\n",
      "[I 2025-02-25 17:08:45,304] Trial 47 finished with value: 0.5212984723854289 and parameters: {'k': 1}. Best is trial 10 with value: 0.5611045828437135.\n",
      "[I 2025-02-25 17:08:45,323] Trial 48 finished with value: 0.5235017626321974 and parameters: {'k': 48}. Best is trial 10 with value: 0.5611045828437135.\n",
      "[I 2025-02-25 17:08:45,341] Trial 49 finished with value: 0.5298178613396004 and parameters: {'k': 45}. Best is trial 10 with value: 0.5611045828437135.\n",
      "[I 2025-02-25 17:08:45,362] A new study created in memory with name: no-name-256df262-fba6-4ce3-b8b6-3124b8d535ff\n",
      "[I 2025-02-25 17:08:45,371] Trial 0 finished with value: 0.5458365164247517 and parameters: {'k': 29}. Best is trial 0 with value: 0.5458365164247517.\n",
      "[I 2025-02-25 17:08:45,380] Trial 1 finished with value: 0.43143621084797557 and parameters: {'k': 12}. Best is trial 0 with value: 0.5458365164247517.\n",
      "[I 2025-02-25 17:08:45,389] Trial 2 finished with value: 0.4377387318563789 and parameters: {'k': 11}. Best is trial 0 with value: 0.5458365164247517.\n",
      "[I 2025-02-25 17:08:45,399] Trial 3 finished with value: 0.5362872421695952 and parameters: {'k': 42}. Best is trial 0 with value: 0.5458365164247517.\n",
      "[I 2025-02-25 17:08:45,408] Trial 4 finished with value: 0.4923605805958748 and parameters: {'k': 3}. Best is trial 0 with value: 0.5458365164247517.\n",
      "[I 2025-02-25 17:08:45,417] Trial 5 finished with value: 0.5393430099312453 and parameters: {'k': 28}. Best is trial 0 with value: 0.5458365164247517.\n",
      "[I 2025-02-25 17:08:45,428] Trial 6 finished with value: 0.5320855614973262 and parameters: {'k': 39}. Best is trial 0 with value: 0.5458365164247517.\n",
      "[I 2025-02-25 17:08:45,438] Trial 7 finished with value: 0.544690603514133 and parameters: {'k': 32}. Best is trial 0 with value: 0.5458365164247517.\n",
      "[I 2025-02-25 17:08:45,448] Trial 8 finished with value: 0.5 and parameters: {'k': 23}. Best is trial 0 with value: 0.5458365164247517.\n",
      "[I 2025-02-25 17:08:45,480] Trial 9 finished with value: 0.47268907563025214 and parameters: {'k': 5}. Best is trial 0 with value: 0.5458365164247517.\n",
      "[I 2025-02-25 17:08:45,491] Trial 10 finished with value: 0.5431627196333079 and parameters: {'k': 34}. Best is trial 0 with value: 0.5458365164247517.\n",
      "[I 2025-02-25 17:08:45,502] Trial 11 finished with value: 0.5513750954927426 and parameters: {'k': 36}. Best is trial 11 with value: 0.5513750954927426.\n",
      "[I 2025-02-25 17:08:45,513] Trial 12 finished with value: 0.540488922841864 and parameters: {'k': 27}. Best is trial 11 with value: 0.5513750954927426.\n",
      "[I 2025-02-25 17:08:45,524] Trial 13 finished with value: 0.5511841100076394 and parameters: {'k': 35}. Best is trial 11 with value: 0.5513750954927426.\n",
      "[I 2025-02-25 17:08:45,536] Trial 14 finished with value: 0.4864400305576777 and parameters: {'k': 19}. Best is trial 11 with value: 0.5513750954927426.\n",
      "[I 2025-02-25 17:08:45,548] Trial 15 finished with value: 0.44136745607333844 and parameters: {'k': 8}. Best is trial 11 with value: 0.5513750954927426.\n",
      "[I 2025-02-25 17:08:45,559] Trial 16 finished with value: 0.4642857142857143 and parameters: {'k': 15}. Best is trial 11 with value: 0.5513750954927426.\n",
      "[I 2025-02-25 17:08:45,572] Trial 17 finished with value: 0.5532849503437739 and parameters: {'k': 46}. Best is trial 17 with value: 0.5532849503437739.\n",
      "[I 2025-02-25 17:08:45,584] Trial 18 finished with value: 0.5381970970206265 and parameters: {'k': 49}. Best is trial 17 with value: 0.5532849503437739.\n",
      "[I 2025-02-25 17:08:45,597] Trial 19 finished with value: 0.5534759358288771 and parameters: {'k': 30}. Best is trial 19 with value: 0.5534759358288771.\n",
      "[I 2025-02-25 17:08:45,609] Trial 20 finished with value: 0.45301757066462955 and parameters: {'k': 16}. Best is trial 19 with value: 0.5534759358288771.\n",
      "[I 2025-02-25 17:08:45,622] Trial 21 finished with value: 0.5443086325439267 and parameters: {'k': 31}. Best is trial 19 with value: 0.5534759358288771.\n",
      "[I 2025-02-25 17:08:45,635] Trial 22 finished with value: 0.5496562261268143 and parameters: {'k': 33}. Best is trial 19 with value: 0.5534759358288771.\n",
      "[I 2025-02-25 17:08:45,648] Trial 23 finished with value: 0.459511077158136 and parameters: {'k': 17}. Best is trial 19 with value: 0.5534759358288771.\n",
      "[I 2025-02-25 17:08:45,662] Trial 24 finished with value: 0.5401069518716578 and parameters: {'k': 43}. Best is trial 19 with value: 0.5534759358288771.\n",
      "[I 2025-02-25 17:08:45,675] Trial 25 finished with value: 0.5221543162719633 and parameters: {'k': 21}. Best is trial 19 with value: 0.5534759358288771.\n",
      "[I 2025-02-25 17:08:45,689] Trial 26 finished with value: 0.5456455309396486 and parameters: {'k': 44}. Best is trial 19 with value: 0.5534759358288771.\n",
      "[I 2025-02-25 17:08:45,703] Trial 27 finished with value: 0.4153934300993125 and parameters: {'k': 9}. Best is trial 19 with value: 0.5534759358288771.\n",
      "[I 2025-02-25 17:08:45,716] Trial 28 finished with value: 0.4243697478991597 and parameters: {'k': 14}. Best is trial 19 with value: 0.5534759358288771.\n",
      "[I 2025-02-25 17:08:45,731] Trial 29 finished with value: 0.5135599694423223 and parameters: {'k': 26}. Best is trial 19 with value: 0.5534759358288771.\n",
      "[I 2025-02-25 17:08:45,745] Trial 30 finished with value: 0.45607333842627956 and parameters: {'k': 6}. Best is trial 19 with value: 0.5534759358288771.\n",
      "[I 2025-02-25 17:08:45,759] Trial 31 finished with value: 0.48128342245989303 and parameters: {'k': 18}. Best is trial 19 with value: 0.5534759358288771.\n",
      "[I 2025-02-25 17:08:45,774] Trial 32 finished with value: 0.5166157372039725 and parameters: {'k': 41}. Best is trial 19 with value: 0.5534759358288771.\n",
      "[I 2025-02-25 17:08:45,790] Trial 33 finished with value: 0.5370511841100076 and parameters: {'k': 50}. Best is trial 19 with value: 0.5534759358288771.\n",
      "[I 2025-02-25 17:08:45,803] Trial 34 finished with value: 0.5005729564553094 and parameters: {'k': 2}. Best is trial 19 with value: 0.5534759358288771.\n",
      "[I 2025-02-25 17:08:45,819] Trial 35 finished with value: 0.4322001527883881 and parameters: {'k': 13}. Best is trial 19 with value: 0.5534759358288771.\n",
      "[I 2025-02-25 17:08:45,834] Trial 36 finished with value: 0.5343773873185639 and parameters: {'k': 38}. Best is trial 19 with value: 0.5534759358288771.\n",
      "[I 2025-02-25 17:08:45,850] Trial 37 finished with value: 0.5294117647058822 and parameters: {'k': 25}. Best is trial 19 with value: 0.5534759358288771.\n",
      "[I 2025-02-25 17:08:45,866] Trial 38 finished with value: 0.42818945760122235 and parameters: {'k': 7}. Best is trial 19 with value: 0.5534759358288771.\n",
      "[I 2025-02-25 17:08:45,882] Trial 39 finished with value: 0.5240641711229947 and parameters: {'k': 24}. Best is trial 19 with value: 0.5534759358288771.\n",
      "[I 2025-02-25 17:08:45,902] Trial 40 finished with value: 0.5376241405653169 and parameters: {'k': 37}. Best is trial 19 with value: 0.5534759358288771.\n",
      "[I 2025-02-25 17:08:45,918] Trial 41 finished with value: 0.5177616501145913 and parameters: {'k': 22}. Best is trial 19 with value: 0.5534759358288771.\n",
      "[I 2025-02-25 17:08:45,938] Trial 42 finished with value: 0.474025974025974 and parameters: {'k': 20}. Best is trial 19 with value: 0.5534759358288771.\n",
      "[I 2025-02-25 17:08:45,954] Trial 43 finished with value: 0.41252864782276544 and parameters: {'k': 10}. Best is trial 19 with value: 0.5534759358288771.\n",
      "[I 2025-02-25 17:08:45,971] Trial 44 finished with value: 0.5233002291825822 and parameters: {'k': 40}. Best is trial 19 with value: 0.5534759358288771.\n",
      "[I 2025-02-25 17:08:45,989] Trial 45 finished with value: 0.5425897631779983 and parameters: {'k': 47}. Best is trial 19 with value: 0.5534759358288771.\n",
      "[I 2025-02-25 17:08:46,011] Trial 46 finished with value: 0.4938884644766997 and parameters: {'k': 4}. Best is trial 19 with value: 0.5534759358288771.\n",
      "[I 2025-02-25 17:08:46,028] Trial 47 finished with value: 0.5557677616501145 and parameters: {'k': 1}. Best is trial 47 with value: 0.5557677616501145.\n",
      "[I 2025-02-25 17:08:46,046] Trial 48 finished with value: 0.5402979373567609 and parameters: {'k': 48}. Best is trial 47 with value: 0.5557677616501145.\n",
      "[I 2025-02-25 17:08:46,084] Trial 49 finished with value: 0.5439266615737204 and parameters: {'k': 45}. Best is trial 47 with value: 0.5557677616501145.\n",
      "[I 2025-02-25 17:08:46,126] A new study created in memory with name: no-name-67604868-f84c-4277-a98e-9676a36039ff\n",
      "[I 2025-02-25 17:08:46,135] Trial 0 finished with value: 0.45827562326869803 and parameters: {'k': 29}. Best is trial 0 with value: 0.45827562326869803.\n",
      "[I 2025-02-25 17:08:46,144] Trial 1 finished with value: 0.5249307479224377 and parameters: {'k': 12}. Best is trial 1 with value: 0.5249307479224377.\n",
      "[I 2025-02-25 17:08:46,153] Trial 2 finished with value: 0.5441481994459834 and parameters: {'k': 11}. Best is trial 2 with value: 0.5441481994459834.\n",
      "[I 2025-02-25 17:08:46,163] Trial 3 finished with value: 0.4705678670360111 and parameters: {'k': 42}. Best is trial 2 with value: 0.5441481994459834.\n",
      "[I 2025-02-25 17:08:46,190] Trial 4 finished with value: 0.45619806094182824 and parameters: {'k': 3}. Best is trial 2 with value: 0.5441481994459834.\n",
      "[I 2025-02-25 17:08:46,199] Trial 5 finished with value: 0.4671052631578947 and parameters: {'k': 28}. Best is trial 2 with value: 0.5441481994459834.\n",
      "[I 2025-02-25 17:08:46,210] Trial 6 finished with value: 0.47628116343490307 and parameters: {'k': 39}. Best is trial 2 with value: 0.5441481994459834.\n",
      "[I 2025-02-25 17:08:46,220] Trial 7 finished with value: 0.5032894736842105 and parameters: {'k': 32}. Best is trial 2 with value: 0.5441481994459834.\n",
      "[I 2025-02-25 17:08:46,230] Trial 8 finished with value: 0.47576177285318555 and parameters: {'k': 23}. Best is trial 2 with value: 0.5441481994459834.\n",
      "[I 2025-02-25 17:08:46,239] Trial 9 finished with value: 0.49930747922437674 and parameters: {'k': 5}. Best is trial 2 with value: 0.5441481994459834.\n",
      "[I 2025-02-25 17:08:46,250] Trial 10 finished with value: 0.48182132963988916 and parameters: {'k': 34}. Best is trial 2 with value: 0.5441481994459834.\n",
      "[I 2025-02-25 17:08:46,261] Trial 11 finished with value: 0.4935941828254848 and parameters: {'k': 36}. Best is trial 2 with value: 0.5441481994459834.\n",
      "[I 2025-02-25 17:08:46,272] Trial 12 finished with value: 0.45706371191135736 and parameters: {'k': 27}. Best is trial 2 with value: 0.5441481994459834.\n",
      "[I 2025-02-25 17:08:46,284] Trial 13 finished with value: 0.49047783933518 and parameters: {'k': 35}. Best is trial 2 with value: 0.5441481994459834.\n",
      "[I 2025-02-25 17:08:46,299] Trial 14 finished with value: 0.44944598337950137 and parameters: {'k': 19}. Best is trial 2 with value: 0.5441481994459834.\n",
      "[I 2025-02-25 17:08:46,310] Trial 15 finished with value: 0.5257963988919667 and parameters: {'k': 8}. Best is trial 2 with value: 0.5441481994459834.\n",
      "[I 2025-02-25 17:08:46,322] Trial 16 finished with value: 0.47749307479224373 and parameters: {'k': 15}. Best is trial 2 with value: 0.5441481994459834.\n",
      "[I 2025-02-25 17:08:46,334] Trial 17 finished with value: 0.4534279778393352 and parameters: {'k': 46}. Best is trial 2 with value: 0.5441481994459834.\n",
      "[I 2025-02-25 17:08:46,348] Trial 18 finished with value: 0.4510041551246537 and parameters: {'k': 49}. Best is trial 2 with value: 0.5441481994459834.\n",
      "[I 2025-02-25 17:08:46,361] Trial 19 finished with value: 0.4721260387811634 and parameters: {'k': 30}. Best is trial 2 with value: 0.5441481994459834.\n",
      "[I 2025-02-25 17:08:46,373] Trial 20 finished with value: 0.4889196675900277 and parameters: {'k': 16}. Best is trial 2 with value: 0.5441481994459834.\n",
      "[I 2025-02-25 17:08:46,385] Trial 21 finished with value: 0.4968836565096953 and parameters: {'k': 31}. Best is trial 2 with value: 0.5441481994459834.\n",
      "[I 2025-02-25 17:08:46,398] Trial 22 finished with value: 0.4925554016620498 and parameters: {'k': 33}. Best is trial 2 with value: 0.5441481994459834.\n",
      "[I 2025-02-25 17:08:46,410] Trial 23 finished with value: 0.4790512465373961 and parameters: {'k': 17}. Best is trial 2 with value: 0.5441481994459834.\n",
      "[I 2025-02-25 17:08:46,423] Trial 24 finished with value: 0.46433518005540164 and parameters: {'k': 43}. Best is trial 2 with value: 0.5441481994459834.\n",
      "[I 2025-02-25 17:08:46,437] Trial 25 finished with value: 0.4473684210526316 and parameters: {'k': 21}. Best is trial 2 with value: 0.5441481994459834.\n",
      "[I 2025-02-25 17:08:46,450] Trial 26 finished with value: 0.4558518005540166 and parameters: {'k': 44}. Best is trial 2 with value: 0.5441481994459834.\n",
      "[I 2025-02-25 17:08:46,464] Trial 27 finished with value: 0.502770083102493 and parameters: {'k': 9}. Best is trial 2 with value: 0.5441481994459834.\n",
      "[I 2025-02-25 17:08:46,477] Trial 28 finished with value: 0.5036357340720221 and parameters: {'k': 14}. Best is trial 2 with value: 0.5441481994459834.\n",
      "[I 2025-02-25 17:08:46,491] Trial 29 finished with value: 0.47506925207756234 and parameters: {'k': 26}. Best is trial 2 with value: 0.5441481994459834.\n",
      "[I 2025-02-25 17:08:46,505] Trial 30 finished with value: 0.5450138504155124 and parameters: {'k': 6}. Best is trial 30 with value: 0.5450138504155124.\n",
      "[I 2025-02-25 17:08:46,519] Trial 31 finished with value: 0.4622576177285319 and parameters: {'k': 18}. Best is trial 30 with value: 0.5450138504155124.\n",
      "[I 2025-02-25 17:08:46,534] Trial 32 finished with value: 0.4643351800554017 and parameters: {'k': 41}. Best is trial 30 with value: 0.5450138504155124.\n",
      "[I 2025-02-25 17:08:46,549] Trial 33 finished with value: 0.45013850415512463 and parameters: {'k': 50}. Best is trial 30 with value: 0.5450138504155124.\n",
      "[I 2025-02-25 17:08:46,563] Trial 34 finished with value: 0.4667590027700831 and parameters: {'k': 2}. Best is trial 30 with value: 0.5450138504155124.\n",
      "[I 2025-02-25 17:08:46,578] Trial 35 finished with value: 0.5029432132963989 and parameters: {'k': 13}. Best is trial 30 with value: 0.5450138504155124.\n",
      "[I 2025-02-25 17:08:46,593] Trial 36 finished with value: 0.485803324099723 and parameters: {'k': 38}. Best is trial 30 with value: 0.5450138504155124.\n",
      "[I 2025-02-25 17:08:46,609] Trial 37 finished with value: 0.46866343490304707 and parameters: {'k': 25}. Best is trial 30 with value: 0.5450138504155124.\n",
      "[I 2025-02-25 17:08:46,624] Trial 38 finished with value: 0.5367036011080333 and parameters: {'k': 7}. Best is trial 30 with value: 0.5450138504155124.\n",
      "[I 2025-02-25 17:08:46,640] Trial 39 finished with value: 0.47247229916897504 and parameters: {'k': 24}. Best is trial 30 with value: 0.5450138504155124.\n",
      "[I 2025-02-25 17:08:46,657] Trial 40 finished with value: 0.48441828254847646 and parameters: {'k': 37}. Best is trial 30 with value: 0.5450138504155124.\n",
      "[I 2025-02-25 17:08:46,673] Trial 41 finished with value: 0.4804362880886427 and parameters: {'k': 22}. Best is trial 30 with value: 0.5450138504155124.\n",
      "[I 2025-02-25 17:08:46,689] Trial 42 finished with value: 0.45914127423822715 and parameters: {'k': 20}. Best is trial 30 with value: 0.5450138504155124.\n",
      "[I 2025-02-25 17:08:46,705] Trial 43 finished with value: 0.4986149584487535 and parameters: {'k': 10}. Best is trial 30 with value: 0.5450138504155124.\n",
      "[I 2025-02-25 17:08:46,722] Trial 44 finished with value: 0.4674515235457064 and parameters: {'k': 40}. Best is trial 30 with value: 0.5450138504155124.\n",
      "[I 2025-02-25 17:08:46,739] Trial 45 finished with value: 0.4650277008310249 and parameters: {'k': 47}. Best is trial 30 with value: 0.5450138504155124.\n",
      "[I 2025-02-25 17:08:46,756] Trial 46 finished with value: 0.44529085872576174 and parameters: {'k': 4}. Best is trial 30 with value: 0.5450138504155124.\n",
      "[I 2025-02-25 17:08:46,771] Trial 47 finished with value: 0.5164473684210525 and parameters: {'k': 1}. Best is trial 30 with value: 0.5450138504155124.\n",
      "[I 2025-02-25 17:08:46,789] Trial 48 finished with value: 0.45827562326869803 and parameters: {'k': 48}. Best is trial 30 with value: 0.5450138504155124.\n",
      "[I 2025-02-25 17:08:46,807] Trial 49 finished with value: 0.45446675900277006 and parameters: {'k': 45}. Best is trial 30 with value: 0.5450138504155124.\n",
      "[I 2025-02-25 17:08:46,880] A new study created in memory with name: no-name-697eae0b-e961-4775-8d44-6db92fbcb577\n",
      "[I 2025-02-25 17:08:46,889] Trial 0 finished with value: 0.5102146814404431 and parameters: {'k': 29}. Best is trial 0 with value: 0.5102146814404431.\n",
      "[I 2025-02-25 17:08:46,899] Trial 1 finished with value: 0.532202216066482 and parameters: {'k': 12}. Best is trial 1 with value: 0.532202216066482.\n",
      "[I 2025-02-25 17:08:46,909] Trial 2 finished with value: 0.555921052631579 and parameters: {'k': 11}. Best is trial 2 with value: 0.555921052631579.\n",
      "[I 2025-02-25 17:08:46,919] Trial 3 finished with value: 0.5053670360110802 and parameters: {'k': 42}. Best is trial 2 with value: 0.555921052631579.\n",
      "[I 2025-02-25 17:08:46,930] Trial 4 finished with value: 0.5221606648199447 and parameters: {'k': 3}. Best is trial 2 with value: 0.555921052631579.\n",
      "[I 2025-02-25 17:08:46,940] Trial 5 finished with value: 0.5102146814404431 and parameters: {'k': 28}. Best is trial 2 with value: 0.555921052631579.\n",
      "[I 2025-02-25 17:08:46,952] Trial 6 finished with value: 0.5148891966759002 and parameters: {'k': 39}. Best is trial 2 with value: 0.555921052631579.\n",
      "[I 2025-02-25 17:08:46,964] Trial 7 finished with value: 0.5036357340720221 and parameters: {'k': 32}. Best is trial 2 with value: 0.555921052631579.\n",
      "[I 2025-02-25 17:08:46,976] Trial 8 finished with value: 0.5200831024930748 and parameters: {'k': 23}. Best is trial 2 with value: 0.555921052631579.\n",
      "[I 2025-02-25 17:08:46,986] Trial 9 finished with value: 0.5154085872576177 and parameters: {'k': 5}. Best is trial 2 with value: 0.555921052631579.\n",
      "[I 2025-02-25 17:08:47,012] Trial 10 finished with value: 0.5074445983379501 and parameters: {'k': 34}. Best is trial 2 with value: 0.555921052631579.\n",
      "[I 2025-02-25 17:08:47,023] Trial 11 finished with value: 0.5223337950138504 and parameters: {'k': 36}. Best is trial 2 with value: 0.555921052631579.\n",
      "[I 2025-02-25 17:08:47,034] Trial 12 finished with value: 0.48822714681440443 and parameters: {'k': 27}. Best is trial 2 with value: 0.555921052631579.\n",
      "[I 2025-02-25 17:08:47,046] Trial 13 finished with value: 0.5294321329639889 and parameters: {'k': 35}. Best is trial 2 with value: 0.555921052631579.\n",
      "[I 2025-02-25 17:08:47,057] Trial 14 finished with value: 0.5209487534626038 and parameters: {'k': 19}. Best is trial 2 with value: 0.555921052631579.\n",
      "[I 2025-02-25 17:08:47,078] Trial 15 finished with value: 0.5410318559556787 and parameters: {'k': 8}. Best is trial 2 with value: 0.555921052631579.\n",
      "[I 2025-02-25 17:08:47,089] Trial 16 finished with value: 0.5039819944598338 and parameters: {'k': 15}. Best is trial 2 with value: 0.555921052631579.\n",
      "[I 2025-02-25 17:08:47,101] Trial 17 finished with value: 0.47662742382271467 and parameters: {'k': 46}. Best is trial 2 with value: 0.555921052631579.\n",
      "[I 2025-02-25 17:08:47,113] Trial 18 finished with value: 0.47333795013850416 and parameters: {'k': 49}. Best is trial 2 with value: 0.555921052631579.\n",
      "[I 2025-02-25 17:08:47,125] Trial 19 finished with value: 0.4991343490304709 and parameters: {'k': 30}. Best is trial 2 with value: 0.555921052631579.\n",
      "[I 2025-02-25 17:08:47,137] Trial 20 finished with value: 0.5060595567867036 and parameters: {'k': 16}. Best is trial 2 with value: 0.555921052631579.\n",
      "[I 2025-02-25 17:08:47,150] Trial 21 finished with value: 0.512292243767313 and parameters: {'k': 31}. Best is trial 2 with value: 0.555921052631579.\n",
      "[I 2025-02-25 17:08:47,163] Trial 22 finished with value: 0.4851108033240996 and parameters: {'k': 33}. Best is trial 2 with value: 0.555921052631579.\n",
      "[I 2025-02-25 17:08:47,175] Trial 23 finished with value: 0.5199099722991689 and parameters: {'k': 17}. Best is trial 2 with value: 0.555921052631579.\n",
      "[I 2025-02-25 17:08:47,188] Trial 24 finished with value: 0.5006925207756232 and parameters: {'k': 43}. Best is trial 2 with value: 0.555921052631579.\n",
      "[I 2025-02-25 17:08:47,202] Trial 25 finished with value: 0.527527700831025 and parameters: {'k': 21}. Best is trial 2 with value: 0.555921052631579.\n",
      "[I 2025-02-25 17:08:47,215] Trial 26 finished with value: 0.4859764542936288 and parameters: {'k': 44}. Best is trial 2 with value: 0.555921052631579.\n",
      "[I 2025-02-25 17:08:47,229] Trial 27 finished with value: 0.5354916897506925 and parameters: {'k': 9}. Best is trial 2 with value: 0.555921052631579.\n",
      "[I 2025-02-25 17:08:47,242] Trial 28 finished with value: 0.5266620498614958 and parameters: {'k': 14}. Best is trial 2 with value: 0.555921052631579.\n",
      "[I 2025-02-25 17:08:47,256] Trial 29 finished with value: 0.49705678670360104 and parameters: {'k': 26}. Best is trial 2 with value: 0.555921052631579.\n",
      "[I 2025-02-25 17:08:47,270] Trial 30 finished with value: 0.5074445983379502 and parameters: {'k': 6}. Best is trial 2 with value: 0.555921052631579.\n",
      "[I 2025-02-25 17:08:47,284] Trial 31 finished with value: 0.5238919667590028 and parameters: {'k': 18}. Best is trial 2 with value: 0.555921052631579.\n",
      "[I 2025-02-25 17:08:47,299] Trial 32 finished with value: 0.519736842105263 and parameters: {'k': 41}. Best is trial 2 with value: 0.555921052631579.\n",
      "[I 2025-02-25 17:08:47,315] Trial 33 finished with value: 0.45360110803324105 and parameters: {'k': 50}. Best is trial 2 with value: 0.555921052631579.\n",
      "[I 2025-02-25 17:08:47,329] Trial 34 finished with value: 0.489612188365651 and parameters: {'k': 2}. Best is trial 2 with value: 0.555921052631579.\n",
      "[I 2025-02-25 17:08:47,344] Trial 35 finished with value: 0.5051939058171746 and parameters: {'k': 13}. Best is trial 2 with value: 0.555921052631579.\n",
      "[I 2025-02-25 17:08:47,359] Trial 36 finished with value: 0.5017313019390581 and parameters: {'k': 38}. Best is trial 2 with value: 0.555921052631579.\n",
      "[I 2025-02-25 17:08:47,375] Trial 37 finished with value: 0.4954986149584487 and parameters: {'k': 25}. Best is trial 2 with value: 0.555921052631579.\n",
      "[I 2025-02-25 17:08:47,391] Trial 38 finished with value: 0.5193905817174514 and parameters: {'k': 7}. Best is trial 2 with value: 0.555921052631579.\n",
      "[I 2025-02-25 17:08:47,407] Trial 39 finished with value: 0.5060595567867037 and parameters: {'k': 24}. Best is trial 2 with value: 0.555921052631579.\n",
      "[I 2025-02-25 17:08:47,423] Trial 40 finished with value: 0.51696675900277 and parameters: {'k': 37}. Best is trial 2 with value: 0.555921052631579.\n",
      "[I 2025-02-25 17:08:47,439] Trial 41 finished with value: 0.5358379501385041 and parameters: {'k': 22}. Best is trial 2 with value: 0.555921052631579.\n",
      "[I 2025-02-25 17:08:47,456] Trial 42 finished with value: 0.5342797783933517 and parameters: {'k': 20}. Best is trial 2 with value: 0.555921052631579.\n",
      "[I 2025-02-25 17:08:47,472] Trial 43 finished with value: 0.5181786703601108 and parameters: {'k': 10}. Best is trial 2 with value: 0.555921052631579.\n",
      "[I 2025-02-25 17:08:47,489] Trial 44 finished with value: 0.5159279778393351 and parameters: {'k': 40}. Best is trial 2 with value: 0.555921052631579.\n",
      "[I 2025-02-25 17:08:47,507] Trial 45 finished with value: 0.45966066481994455 and parameters: {'k': 47}. Best is trial 2 with value: 0.555921052631579.\n",
      "[I 2025-02-25 17:08:47,523] Trial 46 finished with value: 0.4849376731301939 and parameters: {'k': 4}. Best is trial 2 with value: 0.555921052631579.\n",
      "[I 2025-02-25 17:08:47,540] Trial 47 finished with value: 0.45723684210526316 and parameters: {'k': 1}. Best is trial 2 with value: 0.555921052631579.\n",
      "[I 2025-02-25 17:08:47,557] Trial 48 finished with value: 0.47558864265927975 and parameters: {'k': 48}. Best is trial 2 with value: 0.555921052631579.\n",
      "[I 2025-02-25 17:08:47,576] Trial 49 finished with value: 0.48511080332409967 and parameters: {'k': 45}. Best is trial 2 with value: 0.555921052631579.\n",
      "[I 2025-02-25 17:08:47,593] A new study created in memory with name: no-name-4adabc4c-c2ca-49a0-a810-e86d73699942\n",
      "[I 2025-02-25 17:08:47,602] Trial 0 finished with value: 0.4273783587509078 and parameters: {'k': 29}. Best is trial 0 with value: 0.4273783587509078.\n",
      "[I 2025-02-25 17:08:47,611] Trial 1 finished with value: 0.5751633986928104 and parameters: {'k': 12}. Best is trial 1 with value: 0.5751633986928104.\n",
      "[I 2025-02-25 17:08:47,620] Trial 2 finished with value: 0.5755265068990559 and parameters: {'k': 11}. Best is trial 2 with value: 0.5755265068990559.\n",
      "[I 2025-02-25 17:08:47,630] Trial 3 finished with value: 0.48366013071895425 and parameters: {'k': 42}. Best is trial 2 with value: 0.5755265068990559.\n",
      "[I 2025-02-25 17:08:47,639] Trial 4 finished with value: 0.6258169934640523 and parameters: {'k': 3}. Best is trial 4 with value: 0.6258169934640523.\n",
      "[I 2025-02-25 17:08:47,649] Trial 5 finished with value: 0.43391430646332607 and parameters: {'k': 28}. Best is trial 4 with value: 0.6258169934640523.\n",
      "[I 2025-02-25 17:08:47,659] Trial 6 finished with value: 0.464233841684822 and parameters: {'k': 39}. Best is trial 4 with value: 0.6258169934640523.\n",
      "[I 2025-02-25 17:08:47,669] Trial 7 finished with value: 0.4324618736383442 and parameters: {'k': 32}. Best is trial 4 with value: 0.6258169934640523.\n",
      "[I 2025-02-25 17:08:47,679] Trial 8 finished with value: 0.4854756717501816 and parameters: {'k': 23}. Best is trial 4 with value: 0.6258169934640523.\n",
      "[I 2025-02-25 17:08:47,690] Trial 9 finished with value: 0.6285403050108933 and parameters: {'k': 5}. Best is trial 9 with value: 0.6285403050108933.\n",
      "[I 2025-02-25 17:08:47,701] Trial 10 finished with value: 0.4375453885257807 and parameters: {'k': 34}. Best is trial 9 with value: 0.6285403050108933.\n",
      "[I 2025-02-25 17:08:47,712] Trial 11 finished with value: 0.4573347857661583 and parameters: {'k': 36}. Best is trial 9 with value: 0.6285403050108933.\n",
      "[I 2025-02-25 17:08:47,723] Trial 12 finished with value: 0.4380900508351489 and parameters: {'k': 27}. Best is trial 9 with value: 0.6285403050108933.\n",
      "[I 2025-02-25 17:08:47,734] Trial 13 finished with value: 0.444081336238199 and parameters: {'k': 35}. Best is trial 9 with value: 0.6285403050108933.\n",
      "[I 2025-02-25 17:08:47,746] Trial 14 finished with value: 0.5206971677559913 and parameters: {'k': 19}. Best is trial 9 with value: 0.6285403050108933.\n",
      "[I 2025-02-25 17:08:47,757] Trial 15 finished with value: 0.5657225853304284 and parameters: {'k': 8}. Best is trial 9 with value: 0.6285403050108933.\n",
      "[I 2025-02-25 17:08:47,769] Trial 16 finished with value: 0.5566448801742919 and parameters: {'k': 15}. Best is trial 9 with value: 0.6285403050108933.\n",
      "[I 2025-02-25 17:08:47,781] Trial 17 finished with value: 0.46332607116920843 and parameters: {'k': 46}. Best is trial 9 with value: 0.6285403050108933.\n",
      "[I 2025-02-25 17:08:47,794] Trial 18 finished with value: 0.4598765432098766 and parameters: {'k': 49}. Best is trial 9 with value: 0.6285403050108933.\n",
      "[I 2025-02-25 17:08:47,806] Trial 19 finished with value: 0.43809005083514885 and parameters: {'k': 30}. Best is trial 9 with value: 0.6285403050108933.\n",
      "[I 2025-02-25 17:08:47,819] Trial 20 finished with value: 0.5433914306463326 and parameters: {'k': 16}. Best is trial 9 with value: 0.6285403050108933.\n",
      "[I 2025-02-25 17:08:47,832] Trial 21 finished with value: 0.4288307915758896 and parameters: {'k': 31}. Best is trial 9 with value: 0.6285403050108933.\n",
      "[I 2025-02-25 17:08:47,845] Trial 22 finished with value: 0.4322803195352215 and parameters: {'k': 33}. Best is trial 9 with value: 0.6285403050108933.\n",
      "[I 2025-02-25 17:08:47,858] Trial 23 finished with value: 0.5290486564996368 and parameters: {'k': 17}. Best is trial 9 with value: 0.6285403050108933.\n",
      "[I 2025-02-25 17:08:47,872] Trial 24 finished with value: 0.47839506172839497 and parameters: {'k': 43}. Best is trial 9 with value: 0.6285403050108933.\n",
      "[I 2025-02-25 17:08:47,885] Trial 25 finished with value: 0.506717501815541 and parameters: {'k': 21}. Best is trial 9 with value: 0.6285403050108933.\n",
      "[I 2025-02-25 17:08:47,899] Trial 26 finished with value: 0.4667755991285403 and parameters: {'k': 44}. Best is trial 9 with value: 0.6285403050108933.\n",
      "[I 2025-02-25 17:08:47,913] Trial 27 finished with value: 0.5751633986928105 and parameters: {'k': 9}. Best is trial 9 with value: 0.6285403050108933.\n",
      "[I 2025-02-25 17:08:47,927] Trial 28 finished with value: 0.5628177196804648 and parameters: {'k': 14}. Best is trial 9 with value: 0.6285403050108933.\n",
      "[I 2025-02-25 17:08:47,941] Trial 29 finished with value: 0.4480755265068991 and parameters: {'k': 26}. Best is trial 9 with value: 0.6285403050108933.\n",
      "[I 2025-02-25 17:08:47,955] Trial 30 finished with value: 0.6203703703703703 and parameters: {'k': 6}. Best is trial 9 with value: 0.6285403050108933.\n",
      "[I 2025-02-25 17:08:47,970] Trial 31 finished with value: 0.5157952069716776 and parameters: {'k': 18}. Best is trial 9 with value: 0.6285403050108933.\n",
      "[I 2025-02-25 17:08:47,985] Trial 32 finished with value: 0.47222222222222215 and parameters: {'k': 41}. Best is trial 9 with value: 0.6285403050108933.\n",
      "[I 2025-02-25 17:08:48,000] Trial 33 finished with value: 0.47113289760348587 and parameters: {'k': 50}. Best is trial 9 with value: 0.6285403050108933.\n",
      "[I 2025-02-25 17:08:48,014] Trial 34 finished with value: 0.561909949164851 and parameters: {'k': 2}. Best is trial 9 with value: 0.6285403050108933.\n",
      "[I 2025-02-25 17:08:48,031] Trial 35 finished with value: 0.5722585330428468 and parameters: {'k': 13}. Best is trial 9 with value: 0.6285403050108933.\n",
      "[I 2025-02-25 17:08:48,048] Trial 36 finished with value: 0.46949891067538124 and parameters: {'k': 38}. Best is trial 9 with value: 0.6285403050108933.\n",
      "[I 2025-02-25 17:08:48,064] Trial 37 finished with value: 0.4518881626724764 and parameters: {'k': 25}. Best is trial 9 with value: 0.6285403050108933.\n",
      "[I 2025-02-25 17:08:48,079] Trial 38 finished with value: 0.5927741466957153 and parameters: {'k': 7}. Best is trial 9 with value: 0.6285403050108933.\n",
      "[I 2025-02-25 17:08:48,095] Trial 39 finished with value: 0.4682280319535221 and parameters: {'k': 24}. Best is trial 9 with value: 0.6285403050108933.\n",
      "[I 2025-02-25 17:08:48,111] Trial 40 finished with value: 0.45551924473493105 and parameters: {'k': 37}. Best is trial 9 with value: 0.6285403050108933.\n",
      "[I 2025-02-25 17:08:48,127] Trial 41 finished with value: 0.5016339869281046 and parameters: {'k': 22}. Best is trial 9 with value: 0.6285403050108933.\n",
      "[I 2025-02-25 17:08:48,144] Trial 42 finished with value: 0.5174291938997821 and parameters: {'k': 20}. Best is trial 9 with value: 0.6285403050108933.\n",
      "[I 2025-02-25 17:08:48,160] Trial 43 finished with value: 0.5510167029774873 and parameters: {'k': 10}. Best is trial 9 with value: 0.6285403050108933.\n",
      "[I 2025-02-25 17:08:48,177] Trial 44 finished with value: 0.46550472040668117 and parameters: {'k': 40}. Best is trial 9 with value: 0.6285403050108933.\n",
      "[I 2025-02-25 17:08:48,199] Trial 45 finished with value: 0.472403776325345 and parameters: {'k': 47}. Best is trial 9 with value: 0.6285403050108933.\n",
      "[I 2025-02-25 17:08:48,216] Trial 46 finished with value: 0.5875090777051561 and parameters: {'k': 4}. Best is trial 9 with value: 0.6285403050108933.\n",
      "[I 2025-02-25 17:08:48,232] Trial 47 finished with value: 0.5408496732026145 and parameters: {'k': 1}. Best is trial 9 with value: 0.6285403050108933.\n",
      "[I 2025-02-25 17:08:48,250] Trial 48 finished with value: 0.46568627450980393 and parameters: {'k': 48}. Best is trial 9 with value: 0.6285403050108933.\n",
      "[I 2025-02-25 17:08:48,268] Trial 49 finished with value: 0.4725853304284677 and parameters: {'k': 45}. Best is trial 9 with value: 0.6285403050108933.\n",
      "[I 2025-02-25 17:08:48,285] A new study created in memory with name: no-name-b533cfb1-091b-4f30-b428-faf0bbbe6a3b\n",
      "[I 2025-02-25 17:08:48,297] Trial 0 finished with value: 0.5568448883666276 and parameters: {'k': 29}. Best is trial 0 with value: 0.5568448883666276.\n",
      "[I 2025-02-25 17:08:48,306] Trial 1 finished with value: 0.5217391304347826 and parameters: {'k': 12}. Best is trial 0 with value: 0.5568448883666276.\n",
      "[I 2025-02-25 17:08:48,315] Trial 2 finished with value: 0.5374559341950647 and parameters: {'k': 11}. Best is trial 0 with value: 0.5568448883666276.\n",
      "[I 2025-02-25 17:08:48,325] Trial 3 finished with value: 0.5299647473560517 and parameters: {'k': 42}. Best is trial 0 with value: 0.5568448883666276.\n",
      "[I 2025-02-25 17:08:48,334] Trial 4 finished with value: 0.45475910693301996 and parameters: {'k': 3}. Best is trial 0 with value: 0.5568448883666276.\n",
      "[I 2025-02-25 17:08:48,344] Trial 5 finished with value: 0.5553760282021151 and parameters: {'k': 28}. Best is trial 0 with value: 0.5568448883666276.\n",
      "[I 2025-02-25 17:08:48,354] Trial 6 finished with value: 0.5683019976498238 and parameters: {'k': 39}. Best is trial 6 with value: 0.5683019976498238.\n",
      "[I 2025-02-25 17:08:48,364] Trial 7 finished with value: 0.5677144535840188 and parameters: {'k': 32}. Best is trial 6 with value: 0.5683019976498238.\n",
      "[I 2025-02-25 17:08:48,374] Trial 8 finished with value: 0.52262044653349 and parameters: {'k': 23}. Best is trial 6 with value: 0.5683019976498238.\n",
      "[I 2025-02-25 17:08:48,384] Trial 9 finished with value: 0.47091656874265575 and parameters: {'k': 5}. Best is trial 6 with value: 0.5683019976498238.\n",
      "[I 2025-02-25 17:08:48,395] Trial 10 finished with value: 0.5721210340775558 and parameters: {'k': 34}. Best is trial 10 with value: 0.5721210340775558.\n",
      "[I 2025-02-25 17:08:48,412] Trial 11 finished with value: 0.5624265569917744 and parameters: {'k': 36}. Best is trial 10 with value: 0.5721210340775558.\n",
      "[I 2025-02-25 17:08:48,423] Trial 12 finished with value: 0.5264394829612221 and parameters: {'k': 27}. Best is trial 10 with value: 0.5721210340775558.\n",
      "[I 2025-02-25 17:08:48,434] Trial 13 finished with value: 0.5542009400705052 and parameters: {'k': 35}. Best is trial 10 with value: 0.5721210340775558.\n",
      "[I 2025-02-25 17:08:48,446] Trial 14 finished with value: 0.5652173913043479 and parameters: {'k': 19}. Best is trial 10 with value: 0.5721210340775558.\n",
      "[I 2025-02-25 17:08:48,457] Trial 15 finished with value: 0.5301116333725029 and parameters: {'k': 8}. Best is trial 10 with value: 0.5721210340775558.\n",
      "[I 2025-02-25 17:08:48,469] Trial 16 finished with value: 0.5261457109283196 and parameters: {'k': 15}. Best is trial 10 with value: 0.5721210340775558.\n",
      "[I 2025-02-25 17:08:48,481] Trial 17 finished with value: 0.5459753231492361 and parameters: {'k': 46}. Best is trial 10 with value: 0.5721210340775558.\n",
      "[I 2025-02-25 17:08:48,493] Trial 18 finished with value: 0.5221797884841364 and parameters: {'k': 49}. Best is trial 10 with value: 0.5721210340775558.\n",
      "[I 2025-02-25 17:08:48,505] Trial 19 finished with value: 0.5580199764982374 and parameters: {'k': 30}. Best is trial 10 with value: 0.5721210340775558.\n",
      "[I 2025-02-25 17:08:48,518] Trial 20 finished with value: 0.5637485311398355 and parameters: {'k': 16}. Best is trial 10 with value: 0.5721210340775558.\n",
      "[I 2025-02-25 17:08:48,530] Trial 21 finished with value: 0.5721210340775559 and parameters: {'k': 31}. Best is trial 21 with value: 0.5721210340775559.\n",
      "[I 2025-02-25 17:08:48,543] Trial 22 finished with value: 0.569183313748531 and parameters: {'k': 33}. Best is trial 21 with value: 0.5721210340775559.\n",
      "[I 2025-02-25 17:08:48,556] Trial 23 finished with value: 0.5926850763807285 and parameters: {'k': 17}. Best is trial 23 with value: 0.5926850763807285.\n",
      "[I 2025-02-25 17:08:48,569] Trial 24 finished with value: 0.5204171562867216 and parameters: {'k': 43}. Best is trial 23 with value: 0.5926850763807285.\n",
      "[I 2025-02-25 17:08:48,582] Trial 25 finished with value: 0.5268801410105759 and parameters: {'k': 21}. Best is trial 23 with value: 0.5926850763807285.\n",
      "[I 2025-02-25 17:08:48,596] Trial 26 finished with value: 0.53334312573443 and parameters: {'k': 44}. Best is trial 23 with value: 0.5926850763807285.\n",
      "[I 2025-02-25 17:08:48,609] Trial 27 finished with value: 0.5706521739130435 and parameters: {'k': 9}. Best is trial 23 with value: 0.5926850763807285.\n",
      "[I 2025-02-25 17:08:48,623] Trial 28 finished with value: 0.5211515863689777 and parameters: {'k': 14}. Best is trial 23 with value: 0.5926850763807285.\n",
      "[I 2025-02-25 17:08:48,637] Trial 29 finished with value: 0.5277614571092832 and parameters: {'k': 26}. Best is trial 23 with value: 0.5926850763807285.\n",
      "[I 2025-02-25 17:08:48,651] Trial 30 finished with value: 0.4625440658049354 and parameters: {'k': 6}. Best is trial 23 with value: 0.5926850763807285.\n",
      "[I 2025-02-25 17:08:48,665] Trial 31 finished with value: 0.5724148061104581 and parameters: {'k': 18}. Best is trial 23 with value: 0.5926850763807285.\n",
      "[I 2025-02-25 17:08:48,680] Trial 32 finished with value: 0.5449471210340776 and parameters: {'k': 41}. Best is trial 23 with value: 0.5926850763807285.\n",
      "[I 2025-02-25 17:08:48,695] Trial 33 finished with value: 0.5167450058754407 and parameters: {'k': 50}. Best is trial 23 with value: 0.5926850763807285.\n",
      "[I 2025-02-25 17:08:48,708] Trial 34 finished with value: 0.4839894242068155 and parameters: {'k': 2}. Best is trial 23 with value: 0.5926850763807285.\n",
      "[I 2025-02-25 17:08:48,723] Trial 35 finished with value: 0.493096357226792 and parameters: {'k': 13}. Best is trial 23 with value: 0.5926850763807285.\n",
      "[I 2025-02-25 17:08:48,739] Trial 36 finished with value: 0.5775558166862514 and parameters: {'k': 38}. Best is trial 23 with value: 0.5926850763807285.\n",
      "[I 2025-02-25 17:08:48,754] Trial 37 finished with value: 0.5386310223266746 and parameters: {'k': 25}. Best is trial 23 with value: 0.5926850763807285.\n",
      "[I 2025-02-25 17:08:48,769] Trial 38 finished with value: 0.5055816686251469 and parameters: {'k': 7}. Best is trial 23 with value: 0.5926850763807285.\n",
      "[I 2025-02-25 17:08:48,785] Trial 39 finished with value: 0.5403936545240893 and parameters: {'k': 24}. Best is trial 23 with value: 0.5926850763807285.\n",
      "[I 2025-02-25 17:08:48,801] Trial 40 finished with value: 0.5716803760282021 and parameters: {'k': 37}. Best is trial 23 with value: 0.5926850763807285.\n",
      "[I 2025-02-25 17:08:48,817] Trial 41 finished with value: 0.5143948296122209 and parameters: {'k': 22}. Best is trial 23 with value: 0.5926850763807285.\n",
      "[I 2025-02-25 17:08:48,834] Trial 42 finished with value: 0.5452408930669801 and parameters: {'k': 20}. Best is trial 23 with value: 0.5926850763807285.\n",
      "[I 2025-02-25 17:08:48,850] Trial 43 finished with value: 0.5777027027027027 and parameters: {'k': 10}. Best is trial 23 with value: 0.5926850763807285.\n",
      "[I 2025-02-25 17:08:48,867] Trial 44 finished with value: 0.5553760282021152 and parameters: {'k': 40}. Best is trial 23 with value: 0.5926850763807285.\n",
      "[I 2025-02-25 17:08:48,884] Trial 45 finished with value: 0.5395123384253819 and parameters: {'k': 47}. Best is trial 23 with value: 0.5926850763807285.\n",
      "[I 2025-02-25 17:08:48,901] Trial 46 finished with value: 0.4916274970622797 and parameters: {'k': 4}. Best is trial 23 with value: 0.5926850763807285.\n",
      "[I 2025-02-25 17:08:48,916] Trial 47 finished with value: 0.5179200940070505 and parameters: {'k': 1}. Best is trial 23 with value: 0.5926850763807285.\n",
      "[I 2025-02-25 17:08:48,935] Trial 48 finished with value: 0.526439482961222 and parameters: {'k': 48}. Best is trial 23 with value: 0.5926850763807285.\n",
      "[I 2025-02-25 17:08:48,953] Trial 49 finished with value: 0.5283490011750881 and parameters: {'k': 45}. Best is trial 23 with value: 0.5926850763807285.\n",
      "[I 2025-02-25 17:08:48,970] A new study created in memory with name: no-name-a798eafc-ac24-4128-b93f-d881ca7ccd7d\n",
      "[I 2025-02-25 17:08:48,979] Trial 0 finished with value: 0.5355233002291826 and parameters: {'k': 29}. Best is trial 0 with value: 0.5355233002291826.\n",
      "[I 2025-02-25 17:08:48,988] Trial 1 finished with value: 0.5800229182582124 and parameters: {'k': 12}. Best is trial 1 with value: 0.5800229182582124.\n",
      "[I 2025-02-25 17:08:48,997] Trial 2 finished with value: 0.5697097020626432 and parameters: {'k': 11}. Best is trial 1 with value: 0.5800229182582124.\n",
      "[I 2025-02-25 17:08:49,018] Trial 3 finished with value: 0.5970206264323912 and parameters: {'k': 42}. Best is trial 3 with value: 0.5970206264323912.\n",
      "[I 2025-02-25 17:08:49,028] Trial 4 finished with value: 0.5937738731856379 and parameters: {'k': 3}. Best is trial 3 with value: 0.5970206264323912.\n",
      "[I 2025-02-25 17:08:49,038] Trial 5 finished with value: 0.520435446906035 and parameters: {'k': 28}. Best is trial 3 with value: 0.5970206264323912.\n",
      "[I 2025-02-25 17:08:49,048] Trial 6 finished with value: 0.6002673796791443 and parameters: {'k': 39}. Best is trial 6 with value: 0.6002673796791443.\n",
      "[I 2025-02-25 17:08:49,059] Trial 7 finished with value: 0.5494652406417112 and parameters: {'k': 32}. Best is trial 6 with value: 0.6002673796791443.\n",
      "[I 2025-02-25 17:08:49,069] Trial 8 finished with value: 0.5381970970206263 and parameters: {'k': 23}. Best is trial 6 with value: 0.6002673796791443.\n",
      "[I 2025-02-25 17:08:49,079] Trial 9 finished with value: 0.5464094728800611 and parameters: {'k': 5}. Best is trial 6 with value: 0.6002673796791443.\n",
      "[I 2025-02-25 17:08:49,090] Trial 10 finished with value: 0.5635981665393429 and parameters: {'k': 34}. Best is trial 6 with value: 0.6002673796791443.\n",
      "[I 2025-02-25 17:08:49,101] Trial 11 finished with value: 0.6006493506493507 and parameters: {'k': 36}. Best is trial 11 with value: 0.6006493506493507.\n",
      "[I 2025-02-25 17:08:49,112] Trial 12 finished with value: 0.5320855614973263 and parameters: {'k': 27}. Best is trial 11 with value: 0.6006493506493507.\n",
      "[I 2025-02-25 17:08:49,123] Trial 13 finished with value: 0.5847975553857907 and parameters: {'k': 35}. Best is trial 11 with value: 0.6006493506493507.\n",
      "[I 2025-02-25 17:08:49,134] Trial 14 finished with value: 0.5746753246753247 and parameters: {'k': 19}. Best is trial 11 with value: 0.6006493506493507.\n",
      "[I 2025-02-25 17:08:49,146] Trial 15 finished with value: 0.5418258212375859 and parameters: {'k': 8}. Best is trial 11 with value: 0.6006493506493507.\n",
      "[I 2025-02-25 17:08:49,157] Trial 16 finished with value: 0.5689457601222307 and parameters: {'k': 15}. Best is trial 11 with value: 0.6006493506493507.\n",
      "[I 2025-02-25 17:08:49,171] Trial 17 finished with value: 0.5975935828877005 and parameters: {'k': 46}. Best is trial 11 with value: 0.6006493506493507.\n",
      "[I 2025-02-25 17:08:49,195] Trial 18 finished with value: 0.6067608861726509 and parameters: {'k': 49}. Best is trial 18 with value: 0.6067608861726509.\n",
      "[I 2025-02-25 17:08:49,209] Trial 19 finished with value: 0.5586325439266615 and parameters: {'k': 30}. Best is trial 18 with value: 0.6067608861726509.\n",
      "[I 2025-02-25 17:08:49,222] Trial 20 finished with value: 0.5851795263559969 and parameters: {'k': 16}. Best is trial 18 with value: 0.6067608861726509.\n",
      "[I 2025-02-25 17:08:49,236] Trial 21 finished with value: 0.5601604278074866 and parameters: {'k': 31}. Best is trial 18 with value: 0.6067608861726509.\n",
      "[I 2025-02-25 17:08:49,274] Trial 22 finished with value: 0.5662719633307868 and parameters: {'k': 33}. Best is trial 18 with value: 0.6067608861726509.\n",
      "[I 2025-02-25 17:08:49,298] Trial 23 finished with value: 0.5914820473644002 and parameters: {'k': 17}. Best is trial 18 with value: 0.6067608861726509.\n",
      "[I 2025-02-25 17:08:49,322] Trial 24 finished with value: 0.589572192513369 and parameters: {'k': 43}. Best is trial 18 with value: 0.6067608861726509.\n",
      "[I 2025-02-25 17:08:49,336] Trial 25 finished with value: 0.5343773873185638 and parameters: {'k': 21}. Best is trial 18 with value: 0.6067608861726509.\n",
      "[I 2025-02-25 17:08:49,352] Trial 26 finished with value: 0.5882352941176471 and parameters: {'k': 44}. Best is trial 18 with value: 0.6067608861726509.\n",
      "[I 2025-02-25 17:08:49,366] Trial 27 finished with value: 0.5553857906799082 and parameters: {'k': 9}. Best is trial 18 with value: 0.6067608861726509.\n",
      "[I 2025-02-25 17:08:49,396] Trial 28 finished with value: 0.5788770053475936 and parameters: {'k': 14}. Best is trial 18 with value: 0.6067608861726509.\n",
      "[I 2025-02-25 17:08:49,410] Trial 29 finished with value: 0.5341864018334607 and parameters: {'k': 26}. Best is trial 18 with value: 0.6067608861726509.\n",
      "[I 2025-02-25 17:08:49,425] Trial 30 finished with value: 0.542016806722689 and parameters: {'k': 6}. Best is trial 18 with value: 0.6067608861726509.\n",
      "[I 2025-02-25 17:08:49,439] Trial 31 finished with value: 0.5888082505729565 and parameters: {'k': 18}. Best is trial 18 with value: 0.6067608861726509.\n",
      "[I 2025-02-25 17:08:49,454] Trial 32 finished with value: 0.5945378151260504 and parameters: {'k': 41}. Best is trial 18 with value: 0.6067608861726509.\n",
      "[I 2025-02-25 17:08:49,469] Trial 33 finished with value: 0.5995034377387319 and parameters: {'k': 50}. Best is trial 18 with value: 0.6067608861726509.\n",
      "[I 2025-02-25 17:08:49,484] Trial 34 finished with value: 0.5565317035905271 and parameters: {'k': 2}. Best is trial 18 with value: 0.6067608861726509.\n",
      "[I 2025-02-25 17:08:49,499] Trial 35 finished with value: 0.5748663101604278 and parameters: {'k': 13}. Best is trial 18 with value: 0.6067608861726509.\n",
      "[I 2025-02-25 17:08:49,515] Trial 36 finished with value: 0.6138273491214667 and parameters: {'k': 38}. Best is trial 36 with value: 0.6138273491214667.\n",
      "[I 2025-02-25 17:08:49,530] Trial 37 finished with value: 0.5118411000763942 and parameters: {'k': 25}. Best is trial 36 with value: 0.6138273491214667.\n",
      "[I 2025-02-25 17:08:49,546] Trial 38 finished with value: 0.5271199388846448 and parameters: {'k': 7}. Best is trial 36 with value: 0.6138273491214667.\n",
      "[I 2025-02-25 17:08:49,562] Trial 39 finished with value: 0.5194805194805195 and parameters: {'k': 24}. Best is trial 36 with value: 0.6138273491214667.\n",
      "[I 2025-02-25 17:08:49,578] Trial 40 finished with value: 0.5945378151260504 and parameters: {'k': 37}. Best is trial 36 with value: 0.6138273491214667.\n",
      "[I 2025-02-25 17:08:49,595] Trial 41 finished with value: 0.5380061115355232 and parameters: {'k': 22}. Best is trial 36 with value: 0.6138273491214667.\n",
      "[I 2025-02-25 17:08:49,611] Trial 42 finished with value: 0.555003819709702 and parameters: {'k': 20}. Best is trial 36 with value: 0.6138273491214667.\n",
      "[I 2025-02-25 17:08:49,629] Trial 43 finished with value: 0.5966386554621849 and parameters: {'k': 10}. Best is trial 36 with value: 0.6138273491214667.\n",
      "[I 2025-02-25 17:08:49,646] Trial 44 finished with value: 0.5874713521772345 and parameters: {'k': 40}. Best is trial 36 with value: 0.6138273491214667.\n",
      "[I 2025-02-25 17:08:49,663] Trial 45 finished with value: 0.5949197860962567 and parameters: {'k': 47}. Best is trial 36 with value: 0.6138273491214667.\n",
      "[I 2025-02-25 17:08:49,680] Trial 46 finished with value: 0.5807868601986249 and parameters: {'k': 4}. Best is trial 36 with value: 0.6138273491214667.\n",
      "[I 2025-02-25 17:08:49,696] Trial 47 finished with value: 0.5233002291825821 and parameters: {'k': 1}. Best is trial 36 with value: 0.6138273491214667.\n",
      "[I 2025-02-25 17:08:49,714] Trial 48 finished with value: 0.6056149732620321 and parameters: {'k': 48}. Best is trial 36 with value: 0.6138273491214667.\n",
      "[I 2025-02-25 17:08:49,733] Trial 49 finished with value: 0.5914820473644004 and parameters: {'k': 45}. Best is trial 36 with value: 0.6138273491214667.\n",
      "[I 2025-02-25 17:08:49,779] A new study created in memory with name: no-name-c66c5792-56a1-4758-8b3a-e202fe0434de\n",
      "[I 2025-02-25 17:08:49,789] Trial 0 finished with value: 0.5581717451523546 and parameters: {'k': 29}. Best is trial 0 with value: 0.5581717451523546.\n",
      "[I 2025-02-25 17:08:49,800] Trial 1 finished with value: 0.4804362880886426 and parameters: {'k': 12}. Best is trial 0 with value: 0.5581717451523546.\n",
      "[I 2025-02-25 17:08:49,809] Trial 2 finished with value: 0.4539473684210526 and parameters: {'k': 11}. Best is trial 0 with value: 0.5581717451523546.\n",
      "[I 2025-02-25 17:08:49,819] Trial 3 finished with value: 0.6135734072022161 and parameters: {'k': 42}. Best is trial 3 with value: 0.6135734072022161.\n",
      "[I 2025-02-25 17:08:49,828] Trial 4 finished with value: 0.5536703601108034 and parameters: {'k': 3}. Best is trial 3 with value: 0.6135734072022161.\n",
      "[I 2025-02-25 17:08:49,838] Trial 5 finished with value: 0.5562673130193906 and parameters: {'k': 28}. Best is trial 3 with value: 0.6135734072022161.\n",
      "[I 2025-02-25 17:08:49,849] Trial 6 finished with value: 0.6170360110803323 and parameters: {'k': 39}. Best is trial 6 with value: 0.6170360110803323.\n",
      "[I 2025-02-25 17:08:49,860] Trial 7 finished with value: 0.5645775623268697 and parameters: {'k': 32}. Best is trial 6 with value: 0.6170360110803323.\n",
      "[I 2025-02-25 17:08:49,870] Trial 8 finished with value: 0.5370498614958449 and parameters: {'k': 23}. Best is trial 6 with value: 0.6170360110803323.\n",
      "[I 2025-02-25 17:08:49,881] Trial 9 finished with value: 0.5024238227146814 and parameters: {'k': 5}. Best is trial 6 with value: 0.6170360110803323.\n",
      "[I 2025-02-25 17:08:49,892] Trial 10 finished with value: 0.5926246537396123 and parameters: {'k': 34}. Best is trial 6 with value: 0.6170360110803323.\n",
      "[I 2025-02-25 17:08:49,905] Trial 11 finished with value: 0.6291551246537396 and parameters: {'k': 36}. Best is trial 11 with value: 0.6291551246537396.\n",
      "[I 2025-02-25 17:08:49,917] Trial 12 finished with value: 0.5581717451523546 and parameters: {'k': 27}. Best is trial 11 with value: 0.6291551246537396.\n",
      "[I 2025-02-25 17:08:49,929] Trial 13 finished with value: 0.6187673130193906 and parameters: {'k': 35}. Best is trial 11 with value: 0.6291551246537396.\n",
      "[I 2025-02-25 17:08:49,940] Trial 14 finished with value: 0.5432825484764543 and parameters: {'k': 19}. Best is trial 11 with value: 0.6291551246537396.\n",
      "[I 2025-02-25 17:08:49,952] Trial 15 finished with value: 0.4440789473684211 and parameters: {'k': 8}. Best is trial 11 with value: 0.6291551246537396.\n",
      "[I 2025-02-25 17:08:49,963] Trial 16 finished with value: 0.4755886426592798 and parameters: {'k': 15}. Best is trial 11 with value: 0.6291551246537396.\n",
      "[I 2025-02-25 17:08:49,976] Trial 17 finished with value: 0.6224030470914128 and parameters: {'k': 46}. Best is trial 11 with value: 0.6291551246537396.\n",
      "[I 2025-02-25 17:08:49,989] Trial 18 finished with value: 0.605090027700831 and parameters: {'k': 49}. Best is trial 11 with value: 0.6291551246537396.\n",
      "[I 2025-02-25 17:08:50,001] Trial 19 finished with value: 0.5614612188365651 and parameters: {'k': 30}. Best is trial 11 with value: 0.6291551246537396.\n",
      "[I 2025-02-25 17:08:50,015] Trial 20 finished with value: 0.5261426592797784 and parameters: {'k': 16}. Best is trial 11 with value: 0.6291551246537396.\n",
      "[I 2025-02-25 17:08:50,030] Trial 21 finished with value: 0.5585180055401662 and parameters: {'k': 31}. Best is trial 11 with value: 0.6291551246537396.\n",
      "[I 2025-02-25 17:08:50,044] Trial 22 finished with value: 0.5592105263157895 and parameters: {'k': 33}. Best is trial 11 with value: 0.6291551246537396.\n",
      "[I 2025-02-25 17:08:50,058] Trial 23 finished with value: 0.5154085872576177 and parameters: {'k': 17}. Best is trial 11 with value: 0.6291551246537396.\n",
      "[I 2025-02-25 17:08:50,072] Trial 24 finished with value: 0.621191135734072 and parameters: {'k': 43}. Best is trial 11 with value: 0.6291551246537396.\n",
      "[I 2025-02-25 17:08:50,085] Trial 25 finished with value: 0.5491689750692521 and parameters: {'k': 21}. Best is trial 11 with value: 0.6291551246537396.\n",
      "[I 2025-02-25 17:08:50,099] Trial 26 finished with value: 0.5964335180055401 and parameters: {'k': 44}. Best is trial 11 with value: 0.6291551246537396.\n",
      "[I 2025-02-25 17:08:50,113] Trial 27 finished with value: 0.42728531855955676 and parameters: {'k': 9}. Best is trial 11 with value: 0.6291551246537396.\n",
      "[I 2025-02-25 17:08:50,127] Trial 28 finished with value: 0.476281163434903 and parameters: {'k': 14}. Best is trial 11 with value: 0.6291551246537396.\n",
      "[I 2025-02-25 17:08:50,142] Trial 29 finished with value: 0.5393005540166205 and parameters: {'k': 26}. Best is trial 11 with value: 0.6291551246537396.\n",
      "[I 2025-02-25 17:08:50,156] Trial 30 finished with value: 0.47177977839335183 and parameters: {'k': 6}. Best is trial 11 with value: 0.6291551246537396.\n",
      "[I 2025-02-25 17:08:50,170] Trial 31 finished with value: 0.5413781163434903 and parameters: {'k': 18}. Best is trial 11 with value: 0.6291551246537396.\n",
      "[I 2025-02-25 17:08:50,194] Trial 32 finished with value: 0.6130540166204985 and parameters: {'k': 41}. Best is trial 11 with value: 0.6291551246537396.\n",
      "[I 2025-02-25 17:08:50,209] Trial 33 finished with value: 0.6236149584487534 and parameters: {'k': 50}. Best is trial 11 with value: 0.6291551246537396.\n",
      "[I 2025-02-25 17:08:50,225] Trial 34 finished with value: 0.5526315789473684 and parameters: {'k': 2}. Best is trial 11 with value: 0.6291551246537396.\n",
      "[I 2025-02-25 17:08:50,240] Trial 35 finished with value: 0.5022506925207756 and parameters: {'k': 13}. Best is trial 11 with value: 0.6291551246537396.\n",
      "[I 2025-02-25 17:08:50,257] Trial 36 finished with value: 0.6088988919667588 and parameters: {'k': 38}. Best is trial 11 with value: 0.6291551246537396.\n",
      "[I 2025-02-25 17:08:50,273] Trial 37 finished with value: 0.5458795013850416 and parameters: {'k': 25}. Best is trial 11 with value: 0.6291551246537396.\n",
      "[I 2025-02-25 17:08:50,288] Trial 38 finished with value: 0.45256232686980613 and parameters: {'k': 7}. Best is trial 11 with value: 0.6291551246537396.\n",
      "[I 2025-02-25 17:08:50,305] Trial 39 finished with value: 0.5519390581717452 and parameters: {'k': 24}. Best is trial 11 with value: 0.6291551246537396.\n",
      "[I 2025-02-25 17:08:50,322] Trial 40 finished with value: 0.6094182825484764 and parameters: {'k': 37}. Best is trial 11 with value: 0.6291551246537396.\n",
      "[I 2025-02-25 17:08:50,340] Trial 41 finished with value: 0.5574792243767314 and parameters: {'k': 22}. Best is trial 11 with value: 0.6291551246537396.\n",
      "[I 2025-02-25 17:08:50,357] Trial 42 finished with value: 0.5316828254847645 and parameters: {'k': 20}. Best is trial 11 with value: 0.6291551246537396.\n",
      "[I 2025-02-25 17:08:50,373] Trial 43 finished with value: 0.44771468144044324 and parameters: {'k': 10}. Best is trial 11 with value: 0.6291551246537396.\n",
      "[I 2025-02-25 17:08:50,391] Trial 44 finished with value: 0.6220567867036011 and parameters: {'k': 40}. Best is trial 11 with value: 0.6291551246537396.\n",
      "[I 2025-02-25 17:08:50,409] Trial 45 finished with value: 0.6159972299168975 and parameters: {'k': 47}. Best is trial 11 with value: 0.6291551246537396.\n",
      "[I 2025-02-25 17:08:50,426] Trial 46 finished with value: 0.517139889196676 and parameters: {'k': 4}. Best is trial 11 with value: 0.6291551246537396.\n",
      "[I 2025-02-25 17:08:50,443] Trial 47 finished with value: 0.49013157894736836 and parameters: {'k': 1}. Best is trial 11 with value: 0.6291551246537396.\n",
      "[I 2025-02-25 17:08:50,461] Trial 48 finished with value: 0.6130540166204986 and parameters: {'k': 48}. Best is trial 11 with value: 0.6291551246537396.\n",
      "[I 2025-02-25 17:08:50,487] Trial 49 finished with value: 0.6166897506925207 and parameters: {'k': 45}. Best is trial 11 with value: 0.6291551246537396.\n",
      "[I 2025-02-25 17:08:50,507] A new study created in memory with name: no-name-91421896-7db5-4f68-a4ed-0c35d8123da3\n",
      "[I 2025-02-25 17:08:50,517] Trial 0 finished with value: 0.5998961218836565 and parameters: {'k': 29}. Best is trial 0 with value: 0.5998961218836565.\n",
      "[I 2025-02-25 17:08:50,527] Trial 1 finished with value: 0.5765235457063711 and parameters: {'k': 12}. Best is trial 0 with value: 0.5998961218836565.\n",
      "[I 2025-02-25 17:08:50,537] Trial 2 finished with value: 0.5988573407202216 and parameters: {'k': 11}. Best is trial 0 with value: 0.5998961218836565.\n",
      "[I 2025-02-25 17:08:50,547] Trial 3 finished with value: 0.5836218836565097 and parameters: {'k': 42}. Best is trial 0 with value: 0.5998961218836565.\n",
      "[I 2025-02-25 17:08:50,557] Trial 4 finished with value: 0.49497922437673125 and parameters: {'k': 3}. Best is trial 0 with value: 0.5998961218836565.\n",
      "[I 2025-02-25 17:08:50,567] Trial 5 finished with value: 0.5967797783933518 and parameters: {'k': 28}. Best is trial 0 with value: 0.5998961218836565.\n",
      "[I 2025-02-25 17:08:50,578] Trial 6 finished with value: 0.5995498614958449 and parameters: {'k': 39}. Best is trial 0 with value: 0.5998961218836565.\n",
      "[I 2025-02-25 17:08:50,589] Trial 7 finished with value: 0.6331371191135734 and parameters: {'k': 32}. Best is trial 7 with value: 0.6331371191135734.\n",
      "[I 2025-02-25 17:08:50,600] Trial 8 finished with value: 0.5657894736842104 and parameters: {'k': 23}. Best is trial 7 with value: 0.6331371191135734.\n",
      "[I 2025-02-25 17:08:50,611] Trial 9 finished with value: 0.47818559556786705 and parameters: {'k': 5}. Best is trial 7 with value: 0.6331371191135734.\n",
      "[I 2025-02-25 17:08:50,622] Trial 10 finished with value: 0.6256925207756232 and parameters: {'k': 34}. Best is trial 7 with value: 0.6331371191135734.\n",
      "[I 2025-02-25 17:08:50,634] Trial 11 finished with value: 0.6111495844875346 and parameters: {'k': 36}. Best is trial 7 with value: 0.6331371191135734.\n",
      "[I 2025-02-25 17:08:50,645] Trial 12 finished with value: 0.6064750692520776 and parameters: {'k': 27}. Best is trial 7 with value: 0.6331371191135734.\n",
      "[I 2025-02-25 17:08:50,657] Trial 13 finished with value: 0.6243074792243767 and parameters: {'k': 35}. Best is trial 7 with value: 0.6331371191135734.\n",
      "[I 2025-02-25 17:08:50,669] Trial 14 finished with value: 0.5529778393351801 and parameters: {'k': 19}. Best is trial 7 with value: 0.6331371191135734.\n",
      "[I 2025-02-25 17:08:50,681] Trial 15 finished with value: 0.618421052631579 and parameters: {'k': 8}. Best is trial 7 with value: 0.6331371191135734.\n",
      "[I 2025-02-25 17:08:50,693] Trial 16 finished with value: 0.5964335180055401 and parameters: {'k': 15}. Best is trial 7 with value: 0.6331371191135734.\n",
      "[I 2025-02-25 17:08:50,706] Trial 17 finished with value: 0.588123268698061 and parameters: {'k': 46}. Best is trial 7 with value: 0.6331371191135734.\n",
      "[I 2025-02-25 17:08:50,719] Trial 18 finished with value: 0.612707756232687 and parameters: {'k': 49}. Best is trial 7 with value: 0.6331371191135734.\n",
      "[I 2025-02-25 17:08:50,732] Trial 19 finished with value: 0.608898891966759 and parameters: {'k': 30}. Best is trial 7 with value: 0.6331371191135734.\n",
      "[I 2025-02-25 17:08:50,745] Trial 20 finished with value: 0.564404432132964 and parameters: {'k': 16}. Best is trial 7 with value: 0.6331371191135734.\n",
      "[I 2025-02-25 17:08:50,759] Trial 21 finished with value: 0.6305401662049861 and parameters: {'k': 31}. Best is trial 7 with value: 0.6331371191135734.\n",
      "[I 2025-02-25 17:08:50,776] Trial 22 finished with value: 0.6345221606648199 and parameters: {'k': 33}. Best is trial 22 with value: 0.6345221606648199.\n",
      "[I 2025-02-25 17:08:50,790] Trial 23 finished with value: 0.5699445983379501 and parameters: {'k': 17}. Best is trial 22 with value: 0.6345221606648199.\n",
      "[I 2025-02-25 17:08:50,804] Trial 24 finished with value: 0.594702216066482 and parameters: {'k': 43}. Best is trial 22 with value: 0.6345221606648199.\n",
      "[I 2025-02-25 17:08:50,818] Trial 25 finished with value: 0.552112188365651 and parameters: {'k': 21}. Best is trial 22 with value: 0.6345221606648199.\n",
      "[I 2025-02-25 17:08:50,833] Trial 26 finished with value: 0.5910664819944598 and parameters: {'k': 44}. Best is trial 22 with value: 0.6345221606648199.\n",
      "[I 2025-02-25 17:08:50,848] Trial 27 finished with value: 0.5983379501385042 and parameters: {'k': 9}. Best is trial 22 with value: 0.6345221606648199.\n",
      "[I 2025-02-25 17:08:50,862] Trial 28 finished with value: 0.5898545706371192 and parameters: {'k': 14}. Best is trial 22 with value: 0.6345221606648199.\n",
      "[I 2025-02-25 17:08:50,877] Trial 29 finished with value: 0.5931440443213295 and parameters: {'k': 26}. Best is trial 22 with value: 0.6345221606648199.\n",
      "[I 2025-02-25 17:08:50,892] Trial 30 finished with value: 0.5522853185595568 and parameters: {'k': 6}. Best is trial 22 with value: 0.6345221606648199.\n",
      "[I 2025-02-25 17:08:50,907] Trial 31 finished with value: 0.554016620498615 and parameters: {'k': 18}. Best is trial 22 with value: 0.6345221606648199.\n",
      "[I 2025-02-25 17:08:50,923] Trial 32 finished with value: 0.592797783933518 and parameters: {'k': 41}. Best is trial 22 with value: 0.6345221606648199.\n",
      "[I 2025-02-25 17:08:50,939] Trial 33 finished with value: 0.6097645429362881 and parameters: {'k': 50}. Best is trial 22 with value: 0.6345221606648199.\n",
      "[I 2025-02-25 17:08:50,953] Trial 34 finished with value: 0.4854570637119114 and parameters: {'k': 2}. Best is trial 22 with value: 0.6345221606648199.\n",
      "[I 2025-02-25 17:08:50,969] Trial 35 finished with value: 0.6095914127423823 and parameters: {'k': 13}. Best is trial 22 with value: 0.6345221606648199.\n",
      "[I 2025-02-25 17:08:50,986] Trial 36 finished with value: 0.6095914127423824 and parameters: {'k': 38}. Best is trial 22 with value: 0.6345221606648199.\n",
      "[I 2025-02-25 17:08:51,002] Trial 37 finished with value: 0.5948753462603877 and parameters: {'k': 25}. Best is trial 22 with value: 0.6345221606648199.\n",
      "[I 2025-02-25 17:08:51,020] Trial 38 finished with value: 0.5657894736842105 and parameters: {'k': 7}. Best is trial 22 with value: 0.6345221606648199.\n",
      "[I 2025-02-25 17:08:51,037] Trial 39 finished with value: 0.5889889196675901 and parameters: {'k': 24}. Best is trial 22 with value: 0.6345221606648199.\n",
      "[I 2025-02-25 17:08:51,055] Trial 40 finished with value: 0.5924515235457063 and parameters: {'k': 37}. Best is trial 22 with value: 0.6345221606648199.\n",
      "[I 2025-02-25 17:08:51,072] Trial 41 finished with value: 0.5460526315789473 and parameters: {'k': 22}. Best is trial 22 with value: 0.6345221606648199.\n",
      "[I 2025-02-25 17:08:51,089] Trial 42 finished with value: 0.5519390581717452 and parameters: {'k': 20}. Best is trial 22 with value: 0.6345221606648199.\n",
      "[I 2025-02-25 17:08:51,106] Trial 43 finished with value: 0.6095914127423823 and parameters: {'k': 10}. Best is trial 22 with value: 0.6345221606648199.\n",
      "[I 2025-02-25 17:08:51,124] Trial 44 finished with value: 0.5992036011080333 and parameters: {'k': 40}. Best is trial 22 with value: 0.6345221606648199.\n",
      "[I 2025-02-25 17:08:51,142] Trial 45 finished with value: 0.6005886426592798 and parameters: {'k': 47}. Best is trial 22 with value: 0.6345221606648199.\n",
      "[I 2025-02-25 17:08:51,160] Trial 46 finished with value: 0.49653739612188375 and parameters: {'k': 4}. Best is trial 22 with value: 0.6345221606648199.\n",
      "[I 2025-02-25 17:08:51,176] Trial 47 finished with value: 0.513157894736842 and parameters: {'k': 1}. Best is trial 22 with value: 0.6345221606648199.\n",
      "[I 2025-02-25 17:08:51,200] Trial 48 finished with value: 0.6056094182825484 and parameters: {'k': 48}. Best is trial 22 with value: 0.6345221606648199.\n",
      "[I 2025-02-25 17:08:51,219] Trial 49 finished with value: 0.594702216066482 and parameters: {'k': 45}. Best is trial 22 with value: 0.6345221606648199.\n",
      "[I 2025-02-25 17:08:51,249] A new study created in memory with name: no-name-b93de281-ff5a-4c5b-aa17-052bffedf244\n",
      "[I 2025-02-25 17:08:51,260] Trial 0 finished with value: 0.5506535947712418 and parameters: {'k': 29}. Best is trial 0 with value: 0.5506535947712418.\n",
      "[I 2025-02-25 17:08:51,269] Trial 1 finished with value: 0.5515613652868554 and parameters: {'k': 12}. Best is trial 1 with value: 0.5515613652868554.\n",
      "[I 2025-02-25 17:08:51,280] Trial 2 finished with value: 0.5513798111837327 and parameters: {'k': 11}. Best is trial 1 with value: 0.5515613652868554.\n",
      "[I 2025-02-25 17:08:51,290] Trial 3 finished with value: 0.5337690631808278 and parameters: {'k': 42}. Best is trial 1 with value: 0.5515613652868554.\n",
      "[I 2025-02-25 17:08:51,299] Trial 4 finished with value: 0.5423021060275962 and parameters: {'k': 3}. Best is trial 1 with value: 0.5515613652868554.\n",
      "[I 2025-02-25 17:08:51,310] Trial 5 finished with value: 0.5393972403776326 and parameters: {'k': 28}. Best is trial 1 with value: 0.5515613652868554.\n",
      "[I 2025-02-25 17:08:51,320] Trial 6 finished with value: 0.5388525780682644 and parameters: {'k': 39}. Best is trial 1 with value: 0.5515613652868554.\n",
      "[I 2025-02-25 17:08:51,331] Trial 7 finished with value: 0.5457516339869282 and parameters: {'k': 32}. Best is trial 1 with value: 0.5515613652868554.\n",
      "[I 2025-02-25 17:08:51,342] Trial 8 finished with value: 0.530319535221496 and parameters: {'k': 23}. Best is trial 1 with value: 0.5515613652868554.\n",
      "[I 2025-02-25 17:08:51,353] Trial 9 finished with value: 0.5368554829339143 and parameters: {'k': 5}. Best is trial 1 with value: 0.5515613652868554.\n",
      "[I 2025-02-25 17:08:51,364] Trial 10 finished with value: 0.5622730573710967 and parameters: {'k': 34}. Best is trial 10 with value: 0.5622730573710967.\n",
      "[I 2025-02-25 17:08:51,376] Trial 11 finished with value: 0.5466594045025418 and parameters: {'k': 36}. Best is trial 10 with value: 0.5622730573710967.\n",
      "[I 2025-02-25 17:08:51,387] Trial 12 finished with value: 0.5475671750181554 and parameters: {'k': 27}. Best is trial 10 with value: 0.5622730573710967.\n",
      "[I 2025-02-25 17:08:51,399] Trial 13 finished with value: 0.5537400145243283 and parameters: {'k': 35}. Best is trial 10 with value: 0.5622730573710967.\n",
      "[I 2025-02-25 17:08:51,411] Trial 14 finished with value: 0.5684458968772694 and parameters: {'k': 19}. Best is trial 14 with value: 0.5684458968772694.\n",
      "[I 2025-02-25 17:08:51,423] Trial 15 finished with value: 0.5261437908496732 and parameters: {'k': 8}. Best is trial 14 with value: 0.5684458968772694.\n",
      "[I 2025-02-25 17:08:51,434] Trial 16 finished with value: 0.5508351488743646 and parameters: {'k': 15}. Best is trial 14 with value: 0.5684458968772694.\n",
      "[I 2025-02-25 17:08:51,447] Trial 17 finished with value: 0.5408496732026143 and parameters: {'k': 46}. Best is trial 14 with value: 0.5684458968772694.\n",
      "[I 2025-02-25 17:08:51,526] Trial 18 finished with value: 0.5495642701525054 and parameters: {'k': 49}. Best is trial 14 with value: 0.5684458968772694.\n",
      "[I 2025-02-25 17:08:51,539] Trial 19 finished with value: 0.5566448801742919 and parameters: {'k': 30}. Best is trial 14 with value: 0.5684458968772694.\n",
      "[I 2025-02-25 17:08:51,551] Trial 20 finished with value: 0.5702614379084968 and parameters: {'k': 16}. Best is trial 20 with value: 0.5702614379084968.\n",
      "[I 2025-02-25 17:08:51,565] Trial 21 finished with value: 0.5568264342774147 and parameters: {'k': 31}. Best is trial 20 with value: 0.5702614379084968.\n",
      "[I 2025-02-25 17:08:51,578] Trial 22 finished with value: 0.5561002178649238 and parameters: {'k': 33}. Best is trial 20 with value: 0.5702614379084968.\n",
      "[I 2025-02-25 17:08:51,592] Trial 23 finished with value: 0.577523602033406 and parameters: {'k': 17}. Best is trial 23 with value: 0.577523602033406.\n",
      "[I 2025-02-25 17:08:51,639] Trial 24 finished with value: 0.5381263616557734 and parameters: {'k': 43}. Best is trial 23 with value: 0.577523602033406.\n",
      "[I 2025-02-25 17:08:51,667] Trial 25 finished with value: 0.5355846042120551 and parameters: {'k': 21}. Best is trial 23 with value: 0.577523602033406.\n",
      "[I 2025-02-25 17:08:51,691] Trial 26 finished with value: 0.5285039941902687 and parameters: {'k': 44}. Best is trial 23 with value: 0.577523602033406.\n",
      "[I 2025-02-25 17:08:51,706] Trial 27 finished with value: 0.5468409586056645 and parameters: {'k': 9}. Best is trial 23 with value: 0.577523602033406.\n",
      "[I 2025-02-25 17:08:51,735] Trial 28 finished with value: 0.5551924473493102 and parameters: {'k': 14}. Best is trial 23 with value: 0.577523602033406.\n",
      "[I 2025-02-25 17:08:51,750] Trial 29 finished with value: 0.5488380537400146 and parameters: {'k': 26}. Best is trial 23 with value: 0.577523602033406.\n",
      "[I 2025-02-25 17:08:51,764] Trial 30 finished with value: 0.5352214960058097 and parameters: {'k': 6}. Best is trial 23 with value: 0.577523602033406.\n",
      "[I 2025-02-25 17:08:51,779] Trial 31 finished with value: 0.5784313725490196 and parameters: {'k': 18}. Best is trial 31 with value: 0.5784313725490196.\n",
      "[I 2025-02-25 17:08:51,795] Trial 32 finished with value: 0.537763253449528 and parameters: {'k': 41}. Best is trial 31 with value: 0.5784313725490196.\n",
      "[I 2025-02-25 17:08:51,811] Trial 33 finished with value: 0.5477487291212781 and parameters: {'k': 50}. Best is trial 31 with value: 0.5784313725490196.\n",
      "[I 2025-02-25 17:08:51,826] Trial 34 finished with value: 0.5270515613652869 and parameters: {'k': 2}. Best is trial 31 with value: 0.5784313725490196.\n",
      "[I 2025-02-25 17:08:51,841] Trial 35 finished with value: 0.5435729847494553 and parameters: {'k': 13}. Best is trial 31 with value: 0.5784313725490196.\n",
      "[I 2025-02-25 17:08:51,858] Trial 36 finished with value: 0.5450254175744372 and parameters: {'k': 38}. Best is trial 31 with value: 0.5784313725490196.\n",
      "[I 2025-02-25 17:08:51,874] Trial 37 finished with value: 0.5577342047930283 and parameters: {'k': 25}. Best is trial 31 with value: 0.5784313725490196.\n",
      "[I 2025-02-25 17:08:51,890] Trial 38 finished with value: 0.537763253449528 and parameters: {'k': 7}. Best is trial 31 with value: 0.5784313725490196.\n",
      "[I 2025-02-25 17:08:51,907] Trial 39 finished with value: 0.556644880174292 and parameters: {'k': 24}. Best is trial 31 with value: 0.5784313725490196.\n",
      "[I 2025-02-25 17:08:51,924] Trial 40 finished with value: 0.5412127814088599 and parameters: {'k': 37}. Best is trial 31 with value: 0.5784313725490196.\n",
      "[I 2025-02-25 17:08:51,941] Trial 41 finished with value: 0.5470225127087872 and parameters: {'k': 22}. Best is trial 31 with value: 0.5784313725490196.\n",
      "[I 2025-02-25 17:08:51,958] Trial 42 finished with value: 0.5510167029774872 and parameters: {'k': 20}. Best is trial 31 with value: 0.5784313725490196.\n",
      "[I 2025-02-25 17:08:51,975] Trial 43 finished with value: 0.5742556281771968 and parameters: {'k': 10}. Best is trial 31 with value: 0.5784313725490196.\n",
      "[I 2025-02-25 17:08:51,993] Trial 44 finished with value: 0.5323166303558461 and parameters: {'k': 40}. Best is trial 31 with value: 0.5784313725490196.\n",
      "[I 2025-02-25 17:08:52,012] Trial 45 finished with value: 0.5481118373275236 and parameters: {'k': 47}. Best is trial 31 with value: 0.5784313725490196.\n",
      "[I 2025-02-25 17:08:52,030] Trial 46 finished with value: 0.5348583877995642 and parameters: {'k': 4}. Best is trial 31 with value: 0.5784313725490196.\n",
      "[I 2025-02-25 17:08:52,047] Trial 47 finished with value: 0.5065359477124184 and parameters: {'k': 1}. Best is trial 31 with value: 0.5784313725490196.\n",
      "[I 2025-02-25 17:08:52,067] Trial 48 finished with value: 0.5401234567901234 and parameters: {'k': 48}. Best is trial 31 with value: 0.5784313725490196.\n",
      "[I 2025-02-25 17:08:52,086] Trial 49 finished with value: 0.5317719680464779 and parameters: {'k': 45}. Best is trial 31 with value: 0.5784313725490196.\n",
      "[I 2025-02-25 17:08:52,105] A new study created in memory with name: no-name-bb533877-9bfd-4cff-bf7f-76ebe1d372a1\n",
      "[I 2025-02-25 17:08:52,115] Trial 0 finished with value: 0.6126615746180963 and parameters: {'k': 29}. Best is trial 0 with value: 0.6126615746180963.\n",
      "[I 2025-02-25 17:08:52,125] Trial 1 finished with value: 0.6178025851938895 and parameters: {'k': 12}. Best is trial 1 with value: 0.6178025851938895.\n",
      "[I 2025-02-25 17:08:52,135] Trial 2 finished with value: 0.6267626321974149 and parameters: {'k': 11}. Best is trial 2 with value: 0.6267626321974149.\n",
      "[I 2025-02-25 17:08:52,146] Trial 3 finished with value: 0.5826968272620446 and parameters: {'k': 42}. Best is trial 2 with value: 0.6267626321974149.\n",
      "[I 2025-02-25 17:08:52,155] Trial 4 finished with value: 0.5693301997649823 and parameters: {'k': 3}. Best is trial 2 with value: 0.6267626321974149.\n",
      "[I 2025-02-25 17:08:52,166] Trial 5 finished with value: 0.6247062279670975 and parameters: {'k': 28}. Best is trial 2 with value: 0.6267626321974149.\n",
      "[I 2025-02-25 17:08:52,177] Trial 6 finished with value: 0.5706521739130435 and parameters: {'k': 39}. Best is trial 2 with value: 0.6267626321974149.\n",
      "[I 2025-02-25 17:08:52,202] Trial 7 finished with value: 0.5984136310223266 and parameters: {'k': 32}. Best is trial 2 with value: 0.6267626321974149.\n",
      "[I 2025-02-25 17:08:52,214] Trial 8 finished with value: 0.6323443008225615 and parameters: {'k': 23}. Best is trial 8 with value: 0.6323443008225615.\n",
      "[I 2025-02-25 17:08:52,226] Trial 9 finished with value: 0.5628672150411281 and parameters: {'k': 5}. Best is trial 8 with value: 0.6323443008225615.\n",
      "[I 2025-02-25 17:08:52,240] Trial 10 finished with value: 0.5871034077555817 and parameters: {'k': 34}. Best is trial 8 with value: 0.6323443008225615.\n",
      "[I 2025-02-25 17:08:52,253] Trial 11 finished with value: 0.5857814336075206 and parameters: {'k': 36}. Best is trial 8 with value: 0.6323443008225615.\n",
      "[I 2025-02-25 17:08:52,268] Trial 12 finished with value: 0.624412455934195 and parameters: {'k': 27}. Best is trial 8 with value: 0.6323443008225615.\n",
      "[I 2025-02-25 17:08:52,281] Trial 13 finished with value: 0.5863689776733256 and parameters: {'k': 35}. Best is trial 8 with value: 0.6323443008225615.\n",
      "[I 2025-02-25 17:08:52,294] Trial 14 finished with value: 0.6692126909518215 and parameters: {'k': 19}. Best is trial 14 with value: 0.6692126909518215.\n",
      "[I 2025-02-25 17:08:52,307] Trial 15 finished with value: 0.6163337250293772 and parameters: {'k': 8}. Best is trial 14 with value: 0.6692126909518215.\n",
      "[I 2025-02-25 17:08:52,319] Trial 16 finished with value: 0.624412455934195 and parameters: {'k': 15}. Best is trial 14 with value: 0.6692126909518215.\n",
      "[I 2025-02-25 17:08:52,332] Trial 17 finished with value: 0.5744712103407756 and parameters: {'k': 46}. Best is trial 14 with value: 0.6692126909518215.\n",
      "[I 2025-02-25 17:08:52,346] Trial 18 finished with value: 0.579171562867215 and parameters: {'k': 49}. Best is trial 14 with value: 0.6692126909518215.\n",
      "[I 2025-02-25 17:08:52,359] Trial 19 finished with value: 0.6120740305522914 and parameters: {'k': 30}. Best is trial 14 with value: 0.6692126909518215.\n",
      "[I 2025-02-25 17:08:52,372] Trial 20 finished with value: 0.6169212690951821 and parameters: {'k': 16}. Best is trial 14 with value: 0.6692126909518215.\n",
      "[I 2025-02-25 17:08:52,386] Trial 21 finished with value: 0.5972385428907168 and parameters: {'k': 31}. Best is trial 14 with value: 0.6692126909518215.\n",
      "[I 2025-02-25 17:08:52,400] Trial 22 finished with value: 0.5846063454759107 and parameters: {'k': 33}. Best is trial 14 with value: 0.6692126909518215.\n",
      "[I 2025-02-25 17:08:52,414] Trial 23 finished with value: 0.6395417156286721 and parameters: {'k': 17}. Best is trial 14 with value: 0.6692126909518215.\n",
      "[I 2025-02-25 17:08:52,429] Trial 24 finished with value: 0.599882491186839 and parameters: {'k': 43}. Best is trial 14 with value: 0.6692126909518215.\n",
      "[I 2025-02-25 17:08:52,443] Trial 25 finished with value: 0.655846063454759 and parameters: {'k': 21}. Best is trial 14 with value: 0.6692126909518215.\n",
      "[I 2025-02-25 17:08:52,457] Trial 26 finished with value: 0.5900411280846063 and parameters: {'k': 44}. Best is trial 14 with value: 0.6692126909518215.\n",
      "[I 2025-02-25 17:08:52,491] Trial 27 finished with value: 0.6252937720329024 and parameters: {'k': 9}. Best is trial 14 with value: 0.6692126909518215.\n",
      "[I 2025-02-25 17:08:52,506] Trial 28 finished with value: 0.6198589894242068 and parameters: {'k': 14}. Best is trial 14 with value: 0.6692126909518215.\n",
      "[I 2025-02-25 17:08:52,521] Trial 29 finished with value: 0.6208871915393654 and parameters: {'k': 26}. Best is trial 14 with value: 0.6692126909518215.\n",
      "[I 2025-02-25 17:08:52,536] Trial 30 finished with value: 0.5910693301997649 and parameters: {'k': 6}. Best is trial 14 with value: 0.6692126909518215.\n",
      "[I 2025-02-25 17:08:52,551] Trial 31 finished with value: 0.6254406580493537 and parameters: {'k': 18}. Best is trial 14 with value: 0.6692126909518215.\n",
      "[I 2025-02-25 17:08:52,567] Trial 32 finished with value: 0.5493537015276145 and parameters: {'k': 41}. Best is trial 14 with value: 0.6692126909518215.\n",
      "[I 2025-02-25 17:08:52,584] Trial 33 finished with value: 0.5754994124559343 and parameters: {'k': 50}. Best is trial 14 with value: 0.6692126909518215.\n",
      "[I 2025-02-25 17:08:52,598] Trial 34 finished with value: 0.5913631022326675 and parameters: {'k': 2}. Best is trial 14 with value: 0.6692126909518215.\n",
      "[I 2025-02-25 17:08:52,614] Trial 35 finished with value: 0.6035546415981198 and parameters: {'k': 13}. Best is trial 14 with value: 0.6692126909518215.\n",
      "[I 2025-02-25 17:08:52,631] Trial 36 finished with value: 0.5771151586368977 and parameters: {'k': 38}. Best is trial 14 with value: 0.6692126909518215.\n",
      "[I 2025-02-25 17:08:52,647] Trial 37 finished with value: 0.6214747356051703 and parameters: {'k': 25}. Best is trial 14 with value: 0.6692126909518215.\n",
      "[I 2025-02-25 17:08:52,663] Trial 38 finished with value: 0.6179494712103407 and parameters: {'k': 7}. Best is trial 14 with value: 0.6692126909518215.\n",
      "[I 2025-02-25 17:08:52,680] Trial 39 finished with value: 0.6319036427732081 and parameters: {'k': 24}. Best is trial 14 with value: 0.6692126909518215.\n",
      "[I 2025-02-25 17:08:52,705] Trial 40 finished with value: 0.5915099882491187 and parameters: {'k': 37}. Best is trial 14 with value: 0.6692126909518215.\n",
      "[I 2025-02-25 17:08:52,722] Trial 41 finished with value: 0.6492361927144535 and parameters: {'k': 22}. Best is trial 14 with value: 0.6692126909518215.\n",
      "[I 2025-02-25 17:08:52,740] Trial 42 finished with value: 0.6571680376028203 and parameters: {'k': 20}. Best is trial 14 with value: 0.6692126909518215.\n",
      "[I 2025-02-25 17:08:52,757] Trial 43 finished with value: 0.6385135135135136 and parameters: {'k': 10}. Best is trial 14 with value: 0.6692126909518215.\n",
      "[I 2025-02-25 17:08:52,788] Trial 44 finished with value: 0.5593419506462984 and parameters: {'k': 40}. Best is trial 14 with value: 0.6692126909518215.\n",
      "[I 2025-02-25 17:08:52,807] Trial 45 finished with value: 0.593566392479436 and parameters: {'k': 47}. Best is trial 14 with value: 0.6692126909518215.\n",
      "[I 2025-02-25 17:08:52,825] Trial 46 finished with value: 0.5173325499412456 and parameters: {'k': 4}. Best is trial 14 with value: 0.6692126909518215.\n",
      "[I 2025-02-25 17:08:52,841] Trial 47 finished with value: 0.5715334900117508 and parameters: {'k': 1}. Best is trial 14 with value: 0.6692126909518215.\n",
      "[I 2025-02-25 17:08:52,884] Trial 48 finished with value: 0.586075205640423 and parameters: {'k': 48}. Best is trial 14 with value: 0.6692126909518215.\n",
      "[I 2025-02-25 17:08:52,916] Trial 49 finished with value: 0.5849001175088132 and parameters: {'k': 45}. Best is trial 14 with value: 0.6692126909518215.\n",
      "[I 2025-02-25 17:08:52,959] A new study created in memory with name: no-name-ef1347fd-1731-4e73-a884-22fa5c22a271\n",
      "[I 2025-02-25 17:08:53,000] Trial 0 finished with value: 0.5983575248281131 and parameters: {'k': 29}. Best is trial 0 with value: 0.5983575248281131.\n",
      "[I 2025-02-25 17:08:53,013] Trial 1 finished with value: 0.5437356760886173 and parameters: {'k': 12}. Best is trial 0 with value: 0.5983575248281131.\n",
      "[I 2025-02-25 17:08:53,023] Trial 2 finished with value: 0.5393430099312453 and parameters: {'k': 11}. Best is trial 0 with value: 0.5983575248281131.\n",
      "[I 2025-02-25 17:08:53,034] Trial 3 finished with value: 0.6174560733384262 and parameters: {'k': 42}. Best is trial 3 with value: 0.6174560733384262.\n",
      "[I 2025-02-25 17:08:53,045] Trial 4 finished with value: 0.5718105423987776 and parameters: {'k': 3}. Best is trial 3 with value: 0.6174560733384262.\n",
      "[I 2025-02-25 17:08:53,056] Trial 5 finished with value: 0.5872803666921314 and parameters: {'k': 28}. Best is trial 3 with value: 0.6174560733384262.\n",
      "[I 2025-02-25 17:08:53,067] Trial 6 finished with value: 0.6327349121466769 and parameters: {'k': 39}. Best is trial 6 with value: 0.6327349121466769.\n",
      "[I 2025-02-25 17:08:53,078] Trial 7 finished with value: 0.5939648586707409 and parameters: {'k': 32}. Best is trial 6 with value: 0.6327349121466769.\n",
      "[I 2025-02-25 17:08:53,089] Trial 8 finished with value: 0.5679908326967151 and parameters: {'k': 23}. Best is trial 6 with value: 0.6327349121466769.\n",
      "[I 2025-02-25 17:08:53,100] Trial 9 finished with value: 0.5788770053475937 and parameters: {'k': 5}. Best is trial 6 with value: 0.6327349121466769.\n",
      "[I 2025-02-25 17:08:53,112] Trial 10 finished with value: 0.6254774637127578 and parameters: {'k': 34}. Best is trial 6 with value: 0.6327349121466769.\n",
      "[I 2025-02-25 17:08:53,137] Trial 11 finished with value: 0.6281512605042017 and parameters: {'k': 36}. Best is trial 6 with value: 0.6327349121466769.\n",
      "[I 2025-02-25 17:08:53,176] Trial 12 finished with value: 0.6044690603514132 and parameters: {'k': 27}. Best is trial 6 with value: 0.6327349121466769.\n",
      "[I 2025-02-25 17:08:53,209] Trial 13 finished with value: 0.6193659281894577 and parameters: {'k': 35}. Best is trial 6 with value: 0.6327349121466769.\n",
      "[I 2025-02-25 17:08:53,231] Trial 14 finished with value: 0.5771581359816653 and parameters: {'k': 19}. Best is trial 6 with value: 0.6327349121466769.\n",
      "[I 2025-02-25 17:08:53,257] Trial 15 finished with value: 0.5825057295645532 and parameters: {'k': 8}. Best is trial 6 with value: 0.6327349121466769.\n",
      "[I 2025-02-25 17:08:53,270] Trial 16 finished with value: 0.5762032085561497 and parameters: {'k': 15}. Best is trial 6 with value: 0.6327349121466769.\n",
      "[I 2025-02-25 17:08:53,283] Trial 17 finished with value: 0.5855614973262031 and parameters: {'k': 46}. Best is trial 6 with value: 0.6327349121466769.\n",
      "[I 2025-02-25 17:08:53,301] Trial 18 finished with value: 0.5893812070282658 and parameters: {'k': 49}. Best is trial 6 with value: 0.6327349121466769.\n",
      "[I 2025-02-25 17:08:53,315] Trial 19 finished with value: 0.5960656990068754 and parameters: {'k': 30}. Best is trial 6 with value: 0.6327349121466769.\n",
      "[I 2025-02-25 17:08:53,329] Trial 20 finished with value: 0.5781130634071809 and parameters: {'k': 16}. Best is trial 6 with value: 0.6327349121466769.\n",
      "[I 2025-02-25 17:08:53,344] Trial 21 finished with value: 0.5821237585943468 and parameters: {'k': 31}. Best is trial 6 with value: 0.6327349121466769.\n",
      "[I 2025-02-25 17:08:53,358] Trial 22 finished with value: 0.6075248281130634 and parameters: {'k': 33}. Best is trial 6 with value: 0.6327349121466769.\n",
      "[I 2025-02-25 17:08:53,372] Trial 23 finished with value: 0.5886172650878534 and parameters: {'k': 17}. Best is trial 6 with value: 0.6327349121466769.\n",
      "[I 2025-02-25 17:08:53,386] Trial 24 finished with value: 0.6008403361344538 and parameters: {'k': 43}. Best is trial 6 with value: 0.6327349121466769.\n",
      "[I 2025-02-25 17:08:53,400] Trial 25 finished with value: 0.5637891520244462 and parameters: {'k': 21}. Best is trial 6 with value: 0.6327349121466769.\n",
      "[I 2025-02-25 17:08:53,414] Trial 26 finished with value: 0.5949197860962566 and parameters: {'k': 44}. Best is trial 6 with value: 0.6327349121466769.\n",
      "[I 2025-02-25 17:08:53,428] Trial 27 finished with value: 0.5595874713521773 and parameters: {'k': 9}. Best is trial 6 with value: 0.6327349121466769.\n",
      "[I 2025-02-25 17:08:53,443] Trial 28 finished with value: 0.546218487394958 and parameters: {'k': 14}. Best is trial 6 with value: 0.6327349121466769.\n",
      "[I 2025-02-25 17:08:53,458] Trial 29 finished with value: 0.5951107715813598 and parameters: {'k': 26}. Best is trial 6 with value: 0.6327349121466769.\n",
      "[I 2025-02-25 17:08:53,472] Trial 30 finished with value: 0.56951871657754 and parameters: {'k': 6}. Best is trial 6 with value: 0.6327349121466769.\n",
      "[I 2025-02-25 17:08:53,487] Trial 31 finished with value: 0.5840336134453782 and parameters: {'k': 18}. Best is trial 6 with value: 0.6327349121466769.\n",
      "[I 2025-02-25 17:08:53,503] Trial 32 finished with value: 0.6186019862490449 and parameters: {'k': 41}. Best is trial 6 with value: 0.6327349121466769.\n",
      "[I 2025-02-25 17:08:53,519] Trial 33 finished with value: 0.593964858670741 and parameters: {'k': 50}. Best is trial 6 with value: 0.6327349121466769.\n",
      "[I 2025-02-25 17:08:53,534] Trial 34 finished with value: 0.5588235294117647 and parameters: {'k': 2}. Best is trial 6 with value: 0.6327349121466769.\n",
      "[I 2025-02-25 17:08:53,549] Trial 35 finished with value: 0.5294117647058822 and parameters: {'k': 13}. Best is trial 6 with value: 0.6327349121466769.\n",
      "[I 2025-02-25 17:08:53,566] Trial 36 finished with value: 0.6436210847975554 and parameters: {'k': 38}. Best is trial 36 with value: 0.6436210847975554.\n",
      "[I 2025-02-25 17:08:53,582] Trial 37 finished with value: 0.5960656990068754 and parameters: {'k': 25}. Best is trial 36 with value: 0.6436210847975554.\n",
      "[I 2025-02-25 17:08:53,598] Trial 38 finished with value: 0.5586325439266615 and parameters: {'k': 7}. Best is trial 36 with value: 0.6436210847975554.\n",
      "[I 2025-02-25 17:08:53,614] Trial 39 finished with value: 0.5731474407944996 and parameters: {'k': 24}. Best is trial 36 with value: 0.6436210847975554.\n",
      "[I 2025-02-25 17:08:53,631] Trial 40 finished with value: 0.6464858670741023 and parameters: {'k': 37}. Best is trial 40 with value: 0.6464858670741023.\n",
      "[I 2025-02-25 17:08:53,648] Trial 41 finished with value: 0.5634071810542399 and parameters: {'k': 22}. Best is trial 40 with value: 0.6464858670741023.\n",
      "[I 2025-02-25 17:08:53,665] Trial 42 finished with value: 0.5741023682200153 and parameters: {'k': 20}. Best is trial 40 with value: 0.6464858670741023.\n",
      "[I 2025-02-25 17:08:53,682] Trial 43 finished with value: 0.5427807486631016 and parameters: {'k': 10}. Best is trial 40 with value: 0.6464858670741023.\n",
      "[I 2025-02-25 17:08:53,700] Trial 44 finished with value: 0.6264323911382735 and parameters: {'k': 40}. Best is trial 40 with value: 0.6464858670741023.\n",
      "[I 2025-02-25 17:08:53,718] Trial 45 finished with value: 0.5861344537815126 and parameters: {'k': 47}. Best is trial 40 with value: 0.6464858670741023.\n",
      "[I 2025-02-25 17:08:53,736] Trial 46 finished with value: 0.5315126050420168 and parameters: {'k': 4}. Best is trial 40 with value: 0.6464858670741023.\n",
      "[I 2025-02-25 17:08:53,753] Trial 47 finished with value: 0.5949197860962567 and parameters: {'k': 1}. Best is trial 40 with value: 0.6464858670741023.\n",
      "[I 2025-02-25 17:08:53,771] Trial 48 finished with value: 0.5836516424751719 and parameters: {'k': 48}. Best is trial 40 with value: 0.6464858670741023.\n",
      "[I 2025-02-25 17:08:53,790] Trial 49 finished with value: 0.5970206264323911 and parameters: {'k': 45}. Best is trial 40 with value: 0.6464858670741023.\n",
      "[I 2025-02-25 17:08:53,912] A new study created in memory with name: no-name-d7237fba-d57a-44e9-908d-9028400802ee\n",
      "[I 2025-02-25 17:08:53,929] Trial 0 finished with value: 0.503808864265928 and parameters: {'k': 29}. Best is trial 0 with value: 0.503808864265928.\n",
      "[I 2025-02-25 17:08:53,947] Trial 1 finished with value: 0.5562673130193906 and parameters: {'k': 12}. Best is trial 1 with value: 0.5562673130193906.\n",
      "[I 2025-02-25 17:08:53,966] Trial 2 finished with value: 0.5079639889196675 and parameters: {'k': 11}. Best is trial 1 with value: 0.5562673130193906.\n",
      "[I 2025-02-25 17:08:53,987] Trial 3 finished with value: 0.5761772853185595 and parameters: {'k': 42}. Best is trial 3 with value: 0.5761772853185595.\n",
      "[I 2025-02-25 17:08:54,004] Trial 4 finished with value: 0.6320983379501385 and parameters: {'k': 3}. Best is trial 4 with value: 0.6320983379501385.\n",
      "[I 2025-02-25 17:08:54,021] Trial 5 finished with value: 0.4859764542936288 and parameters: {'k': 28}. Best is trial 4 with value: 0.6320983379501385.\n",
      "[I 2025-02-25 17:08:54,040] Trial 6 finished with value: 0.5896814404432134 and parameters: {'k': 39}. Best is trial 4 with value: 0.6320983379501385.\n",
      "[I 2025-02-25 17:08:54,058] Trial 7 finished with value: 0.5199099722991689 and parameters: {'k': 32}. Best is trial 4 with value: 0.6320983379501385.\n",
      "[I 2025-02-25 17:08:54,081] Trial 8 finished with value: 0.49359418282548484 and parameters: {'k': 23}. Best is trial 4 with value: 0.6320983379501385.\n",
      "[I 2025-02-25 17:08:54,099] Trial 9 finished with value: 0.47212603878116344 and parameters: {'k': 5}. Best is trial 4 with value: 0.6320983379501385.\n",
      "[I 2025-02-25 17:08:54,118] Trial 10 finished with value: 0.5287396121883656 and parameters: {'k': 34}. Best is trial 4 with value: 0.6320983379501385.\n",
      "[I 2025-02-25 17:08:54,138] Trial 11 finished with value: 0.521814404432133 and parameters: {'k': 36}. Best is trial 4 with value: 0.6320983379501385.\n",
      "[I 2025-02-25 17:08:54,159] Trial 12 finished with value: 0.49982686980609414 and parameters: {'k': 27}. Best is trial 4 with value: 0.6320983379501385.\n",
      "[I 2025-02-25 17:08:54,178] Trial 13 finished with value: 0.5353185595567866 and parameters: {'k': 35}. Best is trial 4 with value: 0.6320983379501385.\n",
      "[I 2025-02-25 17:08:54,197] Trial 14 finished with value: 0.5486495844875345 and parameters: {'k': 19}. Best is trial 4 with value: 0.6320983379501385.\n",
      "[I 2025-02-25 17:08:54,216] Trial 15 finished with value: 0.4904778393351801 and parameters: {'k': 8}. Best is trial 4 with value: 0.6320983379501385.\n",
      "[I 2025-02-25 17:08:54,236] Trial 16 finished with value: 0.5595567867036011 and parameters: {'k': 15}. Best is trial 4 with value: 0.6320983379501385.\n",
      "[I 2025-02-25 17:08:54,256] Trial 17 finished with value: 0.6047437673130194 and parameters: {'k': 46}. Best is trial 4 with value: 0.6320983379501385.\n",
      "[I 2025-02-25 17:08:54,277] Trial 18 finished with value: 0.5940096952908588 and parameters: {'k': 49}. Best is trial 4 with value: 0.6320983379501385.\n",
      "[I 2025-02-25 17:08:54,306] Trial 19 finished with value: 0.504674515235457 and parameters: {'k': 30}. Best is trial 4 with value: 0.6320983379501385.\n",
      "[I 2025-02-25 17:08:54,344] Trial 20 finished with value: 0.5678670360110802 and parameters: {'k': 16}. Best is trial 4 with value: 0.6320983379501385.\n",
      "[I 2025-02-25 17:08:54,382] Trial 21 finished with value: 0.48666897506925205 and parameters: {'k': 31}. Best is trial 4 with value: 0.6320983379501385.\n",
      "[I 2025-02-25 17:08:54,421] Trial 22 finished with value: 0.5193905817174514 and parameters: {'k': 33}. Best is trial 4 with value: 0.6320983379501385.\n",
      "[I 2025-02-25 17:08:54,441] Trial 23 finished with value: 0.560595567867036 and parameters: {'k': 17}. Best is trial 4 with value: 0.6320983379501385.\n",
      "[I 2025-02-25 17:08:54,463] Trial 24 finished with value: 0.5618074792243768 and parameters: {'k': 43}. Best is trial 4 with value: 0.6320983379501385.\n",
      "[I 2025-02-25 17:08:54,484] Trial 25 finished with value: 0.5214681440443214 and parameters: {'k': 21}. Best is trial 4 with value: 0.6320983379501385.\n",
      "[I 2025-02-25 17:08:54,506] Trial 26 finished with value: 0.5730609418282548 and parameters: {'k': 44}. Best is trial 4 with value: 0.6320983379501385.\n",
      "[I 2025-02-25 17:08:54,527] Trial 27 finished with value: 0.47247229916897504 and parameters: {'k': 9}. Best is trial 4 with value: 0.6320983379501385.\n",
      "[I 2025-02-25 17:08:54,549] Trial 28 finished with value: 0.5922783933518005 and parameters: {'k': 14}. Best is trial 4 with value: 0.6320983379501385.\n",
      "[I 2025-02-25 17:08:54,572] Trial 29 finished with value: 0.5155817174515236 and parameters: {'k': 26}. Best is trial 4 with value: 0.6320983379501385.\n",
      "[I 2025-02-25 17:08:54,594] Trial 30 finished with value: 0.4832063711911357 and parameters: {'k': 6}. Best is trial 4 with value: 0.6320983379501385.\n",
      "[I 2025-02-25 17:08:54,617] Trial 31 finished with value: 0.5538434903047091 and parameters: {'k': 18}. Best is trial 4 with value: 0.6320983379501385.\n",
      "[I 2025-02-25 17:08:54,641] Trial 32 finished with value: 0.565270083102493 and parameters: {'k': 41}. Best is trial 4 with value: 0.6320983379501385.\n",
      "[I 2025-02-25 17:08:54,664] Trial 33 finished with value: 0.5805055401662049 and parameters: {'k': 50}. Best is trial 4 with value: 0.6320983379501385.\n",
      "[I 2025-02-25 17:08:54,687] Trial 34 finished with value: 0.6225761772853186 and parameters: {'k': 2}. Best is trial 4 with value: 0.6320983379501385.\n",
      "[I 2025-02-25 17:08:54,710] Trial 35 finished with value: 0.5900277008310248 and parameters: {'k': 13}. Best is trial 4 with value: 0.6320983379501385.\n",
      "[I 2025-02-25 17:08:54,735] Trial 36 finished with value: 0.5588642659279779 and parameters: {'k': 38}. Best is trial 4 with value: 0.6320983379501385.\n",
      "[I 2025-02-25 17:08:54,759] Trial 37 finished with value: 0.5115997229916898 and parameters: {'k': 25}. Best is trial 4 with value: 0.6320983379501385.\n",
      "[I 2025-02-25 17:08:54,783] Trial 38 finished with value: 0.48926592797783935 and parameters: {'k': 7}. Best is trial 4 with value: 0.6320983379501385.\n",
      "[I 2025-02-25 17:08:54,807] Trial 39 finished with value: 0.49844182825484773 and parameters: {'k': 24}. Best is trial 4 with value: 0.6320983379501385.\n",
      "[I 2025-02-25 17:08:54,832] Trial 40 finished with value: 0.5176592797783933 and parameters: {'k': 37}. Best is trial 4 with value: 0.6320983379501385.\n",
      "[I 2025-02-25 17:08:54,857] Trial 41 finished with value: 0.5072714681440443 and parameters: {'k': 22}. Best is trial 4 with value: 0.6320983379501385.\n",
      "[I 2025-02-25 17:08:54,882] Trial 42 finished with value: 0.5337603878116344 and parameters: {'k': 20}. Best is trial 4 with value: 0.6320983379501385.\n",
      "[I 2025-02-25 17:08:54,906] Trial 43 finished with value: 0.5005193905817175 and parameters: {'k': 10}. Best is trial 4 with value: 0.6320983379501385.\n",
      "[I 2025-02-25 17:08:54,931] Trial 44 finished with value: 0.5739265927977839 and parameters: {'k': 40}. Best is trial 4 with value: 0.6320983379501385.\n",
      "[I 2025-02-25 17:08:54,957] Trial 45 finished with value: 0.5972991689750693 and parameters: {'k': 47}. Best is trial 4 with value: 0.6320983379501385.\n",
      "[I 2025-02-25 17:08:54,982] Trial 46 finished with value: 0.47108725761772857 and parameters: {'k': 4}. Best is trial 4 with value: 0.6320983379501385.\n",
      "[I 2025-02-25 17:08:55,006] Trial 47 finished with value: 0.5559210526315789 and parameters: {'k': 1}. Best is trial 4 with value: 0.6320983379501385.\n",
      "[I 2025-02-25 17:08:55,032] Trial 48 finished with value: 0.5917590027700831 and parameters: {'k': 48}. Best is trial 4 with value: 0.6320983379501385.\n",
      "[I 2025-02-25 17:08:55,058] Trial 49 finished with value: 0.5818905817174514 and parameters: {'k': 45}. Best is trial 4 with value: 0.6320983379501385.\n",
      "[I 2025-02-25 17:08:55,096] A new study created in memory with name: no-name-4032a595-74a9-4256-b4d6-52fdbea16eeb\n",
      "[I 2025-02-25 17:08:55,113] Trial 0 finished with value: 0.5093490304709141 and parameters: {'k': 29}. Best is trial 0 with value: 0.5093490304709141.\n",
      "[I 2025-02-25 17:08:55,130] Trial 1 finished with value: 0.5557479224376731 and parameters: {'k': 12}. Best is trial 1 with value: 0.5557479224376731.\n",
      "[I 2025-02-25 17:08:55,147] Trial 2 finished with value: 0.564404432132964 and parameters: {'k': 11}. Best is trial 2 with value: 0.564404432132964.\n",
      "[I 2025-02-25 17:08:55,165] Trial 3 finished with value: 0.47056786703601106 and parameters: {'k': 42}. Best is trial 2 with value: 0.564404432132964.\n",
      "[I 2025-02-25 17:08:55,190] Trial 4 finished with value: 0.4598337950138504 and parameters: {'k': 3}. Best is trial 2 with value: 0.564404432132964.\n",
      "[I 2025-02-25 17:08:55,207] Trial 5 finished with value: 0.5159279778393352 and parameters: {'k': 28}. Best is trial 2 with value: 0.564404432132964.\n",
      "[I 2025-02-25 17:08:55,226] Trial 6 finished with value: 0.46693213296398894 and parameters: {'k': 39}. Best is trial 2 with value: 0.564404432132964.\n",
      "[I 2025-02-25 17:08:55,244] Trial 7 finished with value: 0.5041551246537397 and parameters: {'k': 32}. Best is trial 2 with value: 0.564404432132964.\n",
      "[I 2025-02-25 17:08:55,263] Trial 8 finished with value: 0.5223337950138504 and parameters: {'k': 23}. Best is trial 2 with value: 0.564404432132964.\n",
      "[I 2025-02-25 17:08:55,282] Trial 9 finished with value: 0.47662742382271467 and parameters: {'k': 5}. Best is trial 2 with value: 0.564404432132964.\n",
      "[I 2025-02-25 17:08:55,304] Trial 10 finished with value: 0.5135041551246537 and parameters: {'k': 34}. Best is trial 2 with value: 0.564404432132964.\n",
      "[I 2025-02-25 17:08:55,343] Trial 11 finished with value: 0.48009002770083103 and parameters: {'k': 36}. Best is trial 2 with value: 0.564404432132964.\n",
      "[I 2025-02-25 17:08:55,381] Trial 12 finished with value: 0.530297783933518 and parameters: {'k': 27}. Best is trial 2 with value: 0.564404432132964.\n",
      "[I 2025-02-25 17:08:55,402] Trial 13 finished with value: 0.49584487534626037 and parameters: {'k': 35}. Best is trial 2 with value: 0.564404432132964.\n",
      "[I 2025-02-25 17:08:55,422] Trial 14 finished with value: 0.555921052631579 and parameters: {'k': 19}. Best is trial 2 with value: 0.564404432132964.\n",
      "[I 2025-02-25 17:08:55,446] Trial 15 finished with value: 0.5219875346260388 and parameters: {'k': 8}. Best is trial 2 with value: 0.564404432132964.\n",
      "[I 2025-02-25 17:08:55,467] Trial 16 finished with value: 0.5585180055401662 and parameters: {'k': 15}. Best is trial 2 with value: 0.564404432132964.\n",
      "[I 2025-02-25 17:08:55,511] Trial 17 finished with value: 0.441308864265928 and parameters: {'k': 46}. Best is trial 2 with value: 0.564404432132964.\n",
      "[I 2025-02-25 17:08:55,532] Trial 18 finished with value: 0.4349030470914127 and parameters: {'k': 49}. Best is trial 2 with value: 0.564404432132964.\n",
      "[I 2025-02-25 17:08:55,553] Trial 19 finished with value: 0.5135041551246537 and parameters: {'k': 30}. Best is trial 2 with value: 0.564404432132964.\n",
      "[I 2025-02-25 17:08:55,574] Trial 20 finished with value: 0.5907202216066482 and parameters: {'k': 16}. Best is trial 20 with value: 0.5907202216066482.\n",
      "[I 2025-02-25 17:08:55,598] Trial 21 finished with value: 0.5126385041551246 and parameters: {'k': 31}. Best is trial 20 with value: 0.5907202216066482.\n",
      "[I 2025-02-25 17:08:55,620] Trial 22 finished with value: 0.5157548476454294 and parameters: {'k': 33}. Best is trial 20 with value: 0.5907202216066482.\n",
      "[I 2025-02-25 17:08:55,641] Trial 23 finished with value: 0.582409972299169 and parameters: {'k': 17}. Best is trial 20 with value: 0.5907202216066482.\n",
      "[I 2025-02-25 17:08:55,663] Trial 24 finished with value: 0.469702216066482 and parameters: {'k': 43}. Best is trial 20 with value: 0.5907202216066482.\n",
      "[I 2025-02-25 17:08:55,688] Trial 25 finished with value: 0.5417243767313019 and parameters: {'k': 21}. Best is trial 20 with value: 0.5907202216066482.\n",
      "[I 2025-02-25 17:08:55,714] Trial 26 finished with value: 0.4655470914127424 and parameters: {'k': 44}. Best is trial 20 with value: 0.5907202216066482.\n",
      "[I 2025-02-25 17:08:55,736] Trial 27 finished with value: 0.5206024930747922 and parameters: {'k': 9}. Best is trial 20 with value: 0.5907202216066482.\n",
      "[I 2025-02-25 17:08:55,759] Trial 28 finished with value: 0.5739265927977839 and parameters: {'k': 14}. Best is trial 20 with value: 0.5907202216066482.\n",
      "[I 2025-02-25 17:08:55,782] Trial 29 finished with value: 0.5247576177285318 and parameters: {'k': 26}. Best is trial 20 with value: 0.5907202216066482.\n",
      "[I 2025-02-25 17:08:55,804] Trial 30 finished with value: 0.4695290858725762 and parameters: {'k': 6}. Best is trial 20 with value: 0.5907202216066482.\n",
      "[I 2025-02-25 17:08:55,826] Trial 31 finished with value: 0.5550554016620499 and parameters: {'k': 18}. Best is trial 20 with value: 0.5907202216066482.\n",
      "[I 2025-02-25 17:08:55,849] Trial 32 finished with value: 0.46312326869806086 and parameters: {'k': 41}. Best is trial 20 with value: 0.5907202216066482.\n",
      "[I 2025-02-25 17:08:55,874] Trial 33 finished with value: 0.43524930747922436 and parameters: {'k': 50}. Best is trial 20 with value: 0.5907202216066482.\n",
      "[I 2025-02-25 17:08:55,897] Trial 34 finished with value: 0.4440789473684211 and parameters: {'k': 2}. Best is trial 20 with value: 0.5907202216066482.\n",
      "[I 2025-02-25 17:08:55,919] Trial 35 finished with value: 0.5552285318559557 and parameters: {'k': 13}. Best is trial 20 with value: 0.5907202216066482.\n",
      "[I 2025-02-25 17:08:55,943] Trial 36 finished with value: 0.4463296398891966 and parameters: {'k': 38}. Best is trial 20 with value: 0.5907202216066482.\n",
      "[I 2025-02-25 17:08:55,967] Trial 37 finished with value: 0.5235457063711911 and parameters: {'k': 25}. Best is trial 20 with value: 0.5907202216066482.\n",
      "[I 2025-02-25 17:08:55,990] Trial 38 finished with value: 0.47680055401662047 and parameters: {'k': 7}. Best is trial 20 with value: 0.5907202216066482.\n",
      "[I 2025-02-25 17:08:56,020] Trial 39 finished with value: 0.5334141274238227 and parameters: {'k': 24}. Best is trial 20 with value: 0.5907202216066482.\n",
      "[I 2025-02-25 17:08:56,045] Trial 40 finished with value: 0.4632963988919668 and parameters: {'k': 37}. Best is trial 20 with value: 0.5907202216066482.\n",
      "[I 2025-02-25 17:08:56,071] Trial 41 finished with value: 0.5334141274238227 and parameters: {'k': 22}. Best is trial 20 with value: 0.5907202216066482.\n",
      "[I 2025-02-25 17:08:56,111] Trial 42 finished with value: 0.5588642659279778 and parameters: {'k': 20}. Best is trial 20 with value: 0.5907202216066482.\n",
      "[I 2025-02-25 17:08:56,136] Trial 43 finished with value: 0.5855263157894737 and parameters: {'k': 10}. Best is trial 20 with value: 0.5907202216066482.\n",
      "[I 2025-02-25 17:08:56,161] Trial 44 finished with value: 0.4598337950138504 and parameters: {'k': 40}. Best is trial 20 with value: 0.5907202216066482.\n",
      "[I 2025-02-25 17:08:56,187] Trial 45 finished with value: 0.43767313019390586 and parameters: {'k': 47}. Best is trial 20 with value: 0.5907202216066482.\n",
      "[I 2025-02-25 17:08:56,240] Trial 46 finished with value: 0.4568905817174515 and parameters: {'k': 4}. Best is trial 20 with value: 0.5907202216066482.\n",
      "[I 2025-02-25 17:08:56,264] Trial 47 finished with value: 0.47039473684210525 and parameters: {'k': 1}. Best is trial 20 with value: 0.5907202216066482.\n",
      "[I 2025-02-25 17:08:56,290] Trial 48 finished with value: 0.44771468144044324 and parameters: {'k': 48}. Best is trial 20 with value: 0.5907202216066482.\n",
      "[I 2025-02-25 17:08:56,317] Trial 49 finished with value: 0.4579293628808864 and parameters: {'k': 45}. Best is trial 20 with value: 0.5907202216066482.\n",
      "[I 2025-02-25 17:08:56,358] A new study created in memory with name: no-name-a293acf4-96bd-4962-8a74-fae8a675b264\n",
      "[I 2025-02-25 17:08:56,384] Trial 0 finished with value: 0.4560639070442992 and parameters: {'k': 29}. Best is trial 0 with value: 0.4560639070442992.\n",
      "[I 2025-02-25 17:08:56,401] Trial 1 finished with value: 0.4805737109658679 and parameters: {'k': 12}. Best is trial 1 with value: 0.4805737109658679.\n",
      "[I 2025-02-25 17:08:56,421] Trial 2 finished with value: 0.4961873638344227 and parameters: {'k': 11}. Best is trial 2 with value: 0.4961873638344227.\n",
      "[I 2025-02-25 17:08:56,449] Trial 3 finished with value: 0.504720406681191 and parameters: {'k': 42}. Best is trial 3 with value: 0.504720406681191.\n",
      "[I 2025-02-25 17:08:56,526] Trial 4 finished with value: 0.5550108932461872 and parameters: {'k': 3}. Best is trial 4 with value: 0.5550108932461872.\n",
      "[I 2025-02-25 17:08:56,546] Trial 5 finished with value: 0.4448075526506899 and parameters: {'k': 28}. Best is trial 4 with value: 0.5550108932461872.\n",
      "[I 2025-02-25 17:08:56,564] Trial 6 finished with value: 0.4794843863471315 and parameters: {'k': 39}. Best is trial 4 with value: 0.5550108932461872.\n",
      "[I 2025-02-25 17:08:56,582] Trial 7 finished with value: 0.45588235294117646 and parameters: {'k': 32}. Best is trial 4 with value: 0.5550108932461872.\n",
      "[I 2025-02-25 17:08:56,601] Trial 8 finished with value: 0.46423384168482207 and parameters: {'k': 23}. Best is trial 4 with value: 0.5550108932461872.\n",
      "[I 2025-02-25 17:08:56,620] Trial 9 finished with value: 0.5254175744371823 and parameters: {'k': 5}. Best is trial 4 with value: 0.5550108932461872.\n",
      "[I 2025-02-25 17:08:56,640] Trial 10 finished with value: 0.4497095134350036 and parameters: {'k': 34}. Best is trial 4 with value: 0.5550108932461872.\n",
      "[I 2025-02-25 17:08:56,660] Trial 11 finished with value: 0.4972766884531591 and parameters: {'k': 36}. Best is trial 4 with value: 0.5550108932461872.\n",
      "[I 2025-02-25 17:08:56,679] Trial 12 finished with value: 0.451525054466231 and parameters: {'k': 27}. Best is trial 4 with value: 0.5550108932461872.\n",
      "[I 2025-02-25 17:08:56,698] Trial 13 finished with value: 0.48111837327523604 and parameters: {'k': 35}. Best is trial 4 with value: 0.5550108932461872.\n",
      "[I 2025-02-25 17:08:56,718] Trial 14 finished with value: 0.46804647785039943 and parameters: {'k': 19}. Best is trial 4 with value: 0.5550108932461872.\n",
      "[I 2025-02-25 17:08:56,741] Trial 15 finished with value: 0.5595497458242557 and parameters: {'k': 8}. Best is trial 15 with value: 0.5595497458242557.\n",
      "[I 2025-02-25 17:08:56,761] Trial 16 finished with value: 0.5034495279593318 and parameters: {'k': 15}. Best is trial 15 with value: 0.5595497458242557.\n",
      "[I 2025-02-25 17:08:56,781] Trial 17 finished with value: 0.5286855482933914 and parameters: {'k': 46}. Best is trial 15 with value: 0.5595497458242557.\n",
      "[I 2025-02-25 17:08:56,801] Trial 18 finished with value: 0.5403050108932461 and parameters: {'k': 49}. Best is trial 15 with value: 0.5595497458242557.\n",
      "[I 2025-02-25 17:08:56,821] Trial 19 finished with value: 0.4482570806100218 and parameters: {'k': 30}. Best is trial 15 with value: 0.5595497458242557.\n",
      "[I 2025-02-25 17:08:56,842] Trial 20 finished with value: 0.4883805374001452 and parameters: {'k': 16}. Best is trial 15 with value: 0.5595497458242557.\n",
      "[I 2025-02-25 17:08:56,862] Trial 21 finished with value: 0.4651416122004357 and parameters: {'k': 31}. Best is trial 15 with value: 0.5595497458242557.\n",
      "[I 2025-02-25 17:08:56,884] Trial 22 finished with value: 0.45715323166303556 and parameters: {'k': 33}. Best is trial 15 with value: 0.5595497458242557.\n",
      "[I 2025-02-25 17:08:56,905] Trial 23 finished with value: 0.4771241830065359 and parameters: {'k': 17}. Best is trial 15 with value: 0.5595497458242557.\n",
      "[I 2025-02-25 17:08:56,929] Trial 24 finished with value: 0.5219680464778504 and parameters: {'k': 43}. Best is trial 15 with value: 0.5595497458242557.\n",
      "[I 2025-02-25 17:08:56,950] Trial 25 finished with value: 0.4653231663035584 and parameters: {'k': 21}. Best is trial 15 with value: 0.5595497458242557.\n",
      "[I 2025-02-25 17:08:56,972] Trial 26 finished with value: 0.5259622367465504 and parameters: {'k': 44}. Best is trial 15 with value: 0.5595497458242557.\n",
      "[I 2025-02-25 17:08:56,994] Trial 27 finished with value: 0.537037037037037 and parameters: {'k': 9}. Best is trial 15 with value: 0.5595497458242557.\n",
      "[I 2025-02-25 17:08:57,020] Trial 28 finished with value: 0.5183369644153958 and parameters: {'k': 14}. Best is trial 15 with value: 0.5595497458242557.\n",
      "[I 2025-02-25 17:08:57,046] Trial 29 finished with value: 0.4642338416848221 and parameters: {'k': 26}. Best is trial 15 with value: 0.5595497458242557.\n",
      "[I 2025-02-25 17:08:57,068] Trial 30 finished with value: 0.5413943355119826 and parameters: {'k': 6}. Best is trial 15 with value: 0.5595497458242557.\n",
      "[I 2025-02-25 17:08:57,090] Trial 31 finished with value: 0.4789397240377633 and parameters: {'k': 18}. Best is trial 15 with value: 0.5595497458242557.\n",
      "[I 2025-02-25 17:08:57,113] Trial 32 finished with value: 0.49618736383442263 and parameters: {'k': 41}. Best is trial 15 with value: 0.5595497458242557.\n",
      "[I 2025-02-25 17:08:57,136] Trial 33 finished with value: 0.5459331880900509 and parameters: {'k': 50}. Best is trial 15 with value: 0.5595497458242557.\n",
      "[I 2025-02-25 17:08:57,158] Trial 34 finished with value: 0.5312273057371096 and parameters: {'k': 2}. Best is trial 15 with value: 0.5595497458242557.\n",
      "[I 2025-02-25 17:08:57,184] Trial 35 finished with value: 0.4927378358750908 and parameters: {'k': 13}. Best is trial 15 with value: 0.5595497458242557.\n",
      "[I 2025-02-25 17:08:57,208] Trial 36 finished with value: 0.48202614379084974 and parameters: {'k': 38}. Best is trial 15 with value: 0.5595497458242557.\n",
      "[I 2025-02-25 17:08:57,235] Trial 37 finished with value: 0.4625998547567175 and parameters: {'k': 25}. Best is trial 15 with value: 0.5595497458242557.\n",
      "[I 2025-02-25 17:08:57,263] Trial 38 finished with value: 0.5515613652868555 and parameters: {'k': 7}. Best is trial 15 with value: 0.5595497458242557.\n",
      "[I 2025-02-25 17:08:57,302] Trial 39 finished with value: 0.47095134350036316 and parameters: {'k': 24}. Best is trial 15 with value: 0.5595497458242557.\n",
      "[I 2025-02-25 17:08:57,391] Trial 40 finished with value: 0.4863834422657952 and parameters: {'k': 37}. Best is trial 15 with value: 0.5595497458242557.\n",
      "[I 2025-02-25 17:08:57,428] Trial 41 finished with value: 0.4822076978939724 and parameters: {'k': 22}. Best is trial 15 with value: 0.5595497458242557.\n",
      "[I 2025-02-25 17:08:57,459] Trial 42 finished with value: 0.4796659404502541 and parameters: {'k': 20}. Best is trial 15 with value: 0.5595497458242557.\n",
      "[I 2025-02-25 17:08:57,491] Trial 43 finished with value: 0.5261437908496732 and parameters: {'k': 10}. Best is trial 15 with value: 0.5595497458242557.\n",
      "[I 2025-02-25 17:08:57,535] Trial 44 finished with value: 0.4950980392156863 and parameters: {'k': 40}. Best is trial 15 with value: 0.5595497458242557.\n",
      "[I 2025-02-25 17:08:57,565] Trial 45 finished with value: 0.5379448075526506 and parameters: {'k': 47}. Best is trial 15 with value: 0.5595497458242557.\n",
      "[I 2025-02-25 17:08:57,589] Trial 46 finished with value: 0.5413943355119825 and parameters: {'k': 4}. Best is trial 15 with value: 0.5595497458242557.\n",
      "[I 2025-02-25 17:08:57,623] Trial 47 finished with value: 0.5130718954248367 and parameters: {'k': 1}. Best is trial 15 with value: 0.5595497458242557.\n",
      "[I 2025-02-25 17:08:57,649] Trial 48 finished with value: 0.5312273057371096 and parameters: {'k': 48}. Best is trial 15 with value: 0.5595497458242557.\n",
      "[I 2025-02-25 17:08:57,675] Trial 49 finished with value: 0.5339506172839507 and parameters: {'k': 45}. Best is trial 15 with value: 0.5595497458242557.\n",
      "[I 2025-02-25 17:08:57,725] A new study created in memory with name: no-name-89ffc97a-6618-40b2-842c-6d9b3a50d875\n",
      "[I 2025-02-25 17:08:57,741] Trial 0 finished with value: 0.4858989424206815 and parameters: {'k': 29}. Best is trial 0 with value: 0.4858989424206815.\n",
      "[I 2025-02-25 17:08:57,758] Trial 1 finished with value: 0.513219741480611 and parameters: {'k': 12}. Best is trial 1 with value: 0.513219741480611.\n",
      "[I 2025-02-25 17:08:57,774] Trial 2 finished with value: 0.5035252643948296 and parameters: {'k': 11}. Best is trial 1 with value: 0.513219741480611.\n",
      "[I 2025-02-25 17:08:57,791] Trial 3 finished with value: 0.5167450058754406 and parameters: {'k': 42}. Best is trial 3 with value: 0.5167450058754406.\n",
      "[I 2025-02-25 17:08:57,807] Trial 4 finished with value: 0.47400117508813167 and parameters: {'k': 3}. Best is trial 3 with value: 0.5167450058754406.\n",
      "[I 2025-02-25 17:08:57,824] Trial 5 finished with value: 0.4732667450058754 and parameters: {'k': 28}. Best is trial 3 with value: 0.5167450058754406.\n",
      "[I 2025-02-25 17:08:57,842] Trial 6 finished with value: 0.5584606345475911 and parameters: {'k': 39}. Best is trial 6 with value: 0.5584606345475911.\n",
      "[I 2025-02-25 17:08:57,860] Trial 7 finished with value: 0.517626321974148 and parameters: {'k': 32}. Best is trial 6 with value: 0.5584606345475911.\n",
      "[I 2025-02-25 17:08:57,877] Trial 8 finished with value: 0.46092831962397174 and parameters: {'k': 23}. Best is trial 6 with value: 0.5584606345475911.\n",
      "[I 2025-02-25 17:08:57,895] Trial 9 finished with value: 0.5155699177438308 and parameters: {'k': 5}. Best is trial 6 with value: 0.5584606345475911.\n",
      "[I 2025-02-25 17:08:57,913] Trial 10 finished with value: 0.5475910693301999 and parameters: {'k': 34}. Best is trial 6 with value: 0.5584606345475911.\n",
      "[I 2025-02-25 17:08:57,931] Trial 11 finished with value: 0.5586075205640423 and parameters: {'k': 36}. Best is trial 11 with value: 0.5586075205640423.\n",
      "[I 2025-02-25 17:08:57,950] Trial 12 finished with value: 0.4710634547591069 and parameters: {'k': 27}. Best is trial 11 with value: 0.5586075205640423.\n",
      "[I 2025-02-25 17:08:57,968] Trial 13 finished with value: 0.5584606345475911 and parameters: {'k': 35}. Best is trial 11 with value: 0.5586075205640423.\n",
      "[I 2025-02-25 17:08:57,987] Trial 14 finished with value: 0.4637191539365453 and parameters: {'k': 19}. Best is trial 11 with value: 0.5586075205640423.\n",
      "[I 2025-02-25 17:08:58,006] Trial 15 finished with value: 0.535840188014101 and parameters: {'k': 8}. Best is trial 11 with value: 0.5586075205640423.\n",
      "[I 2025-02-25 17:08:58,030] Trial 16 finished with value: 0.4529964747356052 and parameters: {'k': 15}. Best is trial 11 with value: 0.5586075205640423.\n",
      "[I 2025-02-25 17:08:58,051] Trial 17 finished with value: 0.4811985898942421 and parameters: {'k': 46}. Best is trial 11 with value: 0.5586075205640423.\n",
      "[I 2025-02-25 17:08:58,072] Trial 18 finished with value: 0.47811398354876616 and parameters: {'k': 49}. Best is trial 11 with value: 0.5586075205640423.\n",
      "[I 2025-02-25 17:08:58,091] Trial 19 finished with value: 0.4960340775558167 and parameters: {'k': 30}. Best is trial 11 with value: 0.5586075205640423.\n",
      "[I 2025-02-25 17:08:58,111] Trial 20 finished with value: 0.47400117508813155 and parameters: {'k': 16}. Best is trial 11 with value: 0.5586075205640423.\n",
      "[I 2025-02-25 17:08:58,131] Trial 21 finished with value: 0.5060223266745005 and parameters: {'k': 31}. Best is trial 11 with value: 0.5586075205640423.\n",
      "[I 2025-02-25 17:08:58,153] Trial 22 finished with value: 0.5317273795534665 and parameters: {'k': 33}. Best is trial 11 with value: 0.5586075205640423.\n",
      "[I 2025-02-25 17:08:58,173] Trial 23 finished with value: 0.4908930669800235 and parameters: {'k': 17}. Best is trial 11 with value: 0.5586075205640423.\n",
      "[I 2025-02-25 17:08:58,202] Trial 24 finished with value: 0.49676850763807284 and parameters: {'k': 43}. Best is trial 11 with value: 0.5586075205640423.\n",
      "[I 2025-02-25 17:08:58,228] Trial 25 finished with value: 0.48178613396004694 and parameters: {'k': 21}. Best is trial 11 with value: 0.5586075205640423.\n",
      "[I 2025-02-25 17:08:58,257] Trial 26 finished with value: 0.49926556991774385 and parameters: {'k': 44}. Best is trial 11 with value: 0.5586075205640423.\n",
      "[I 2025-02-25 17:08:58,295] Trial 27 finished with value: 0.5123384253819036 and parameters: {'k': 9}. Best is trial 11 with value: 0.5586075205640423.\n",
      "[I 2025-02-25 17:08:58,316] Trial 28 finished with value: 0.4712103407755581 and parameters: {'k': 14}. Best is trial 11 with value: 0.5586075205640423.\n",
      "[I 2025-02-25 17:08:58,341] Trial 29 finished with value: 0.4693008225616921 and parameters: {'k': 26}. Best is trial 11 with value: 0.5586075205640423.\n",
      "[I 2025-02-25 17:08:58,363] Trial 30 finished with value: 0.565364277320799 and parameters: {'k': 6}. Best is trial 30 with value: 0.565364277320799.\n",
      "[I 2025-02-25 17:08:58,385] Trial 31 finished with value: 0.48075793184488835 and parameters: {'k': 18}. Best is trial 30 with value: 0.565364277320799.\n",
      "[I 2025-02-25 17:08:58,407] Trial 32 finished with value: 0.532021151586369 and parameters: {'k': 41}. Best is trial 30 with value: 0.565364277320799.\n",
      "[I 2025-02-25 17:08:58,430] Trial 33 finished with value: 0.49500587544065805 and parameters: {'k': 50}. Best is trial 30 with value: 0.565364277320799.\n",
      "[I 2025-02-25 17:08:58,452] Trial 34 finished with value: 0.4985311398354876 and parameters: {'k': 2}. Best is trial 30 with value: 0.565364277320799.\n",
      "[I 2025-02-25 17:08:58,486] Trial 35 finished with value: 0.5186545240893067 and parameters: {'k': 13}. Best is trial 30 with value: 0.565364277320799.\n",
      "[I 2025-02-25 17:08:58,510] Trial 36 finished with value: 0.5578730904817861 and parameters: {'k': 38}. Best is trial 30 with value: 0.565364277320799.\n",
      "[I 2025-02-25 17:08:58,534] Trial 37 finished with value: 0.47723266745005877 and parameters: {'k': 25}. Best is trial 30 with value: 0.565364277320799.\n",
      "[I 2025-02-25 17:08:58,557] Trial 38 finished with value: 0.5311398354876615 and parameters: {'k': 7}. Best is trial 30 with value: 0.565364277320799.\n",
      "[I 2025-02-25 17:08:58,581] Trial 39 finished with value: 0.46695064629847244 and parameters: {'k': 24}. Best is trial 30 with value: 0.565364277320799.\n",
      "[I 2025-02-25 17:08:58,606] Trial 40 finished with value: 0.5461222091656874 and parameters: {'k': 37}. Best is trial 30 with value: 0.565364277320799.\n",
      "[I 2025-02-25 17:08:58,630] Trial 41 finished with value: 0.47693889541715623 and parameters: {'k': 22}. Best is trial 30 with value: 0.565364277320799.\n",
      "[I 2025-02-25 17:08:58,654] Trial 42 finished with value: 0.483695652173913 and parameters: {'k': 20}. Best is trial 30 with value: 0.565364277320799.\n",
      "[I 2025-02-25 17:08:58,680] Trial 43 finished with value: 0.5092538190364276 and parameters: {'k': 10}. Best is trial 30 with value: 0.565364277320799.\n",
      "[I 2025-02-25 17:08:58,705] Trial 44 finished with value: 0.5414218566392479 and parameters: {'k': 40}. Best is trial 30 with value: 0.565364277320799.\n",
      "[I 2025-02-25 17:08:58,730] Trial 45 finished with value: 0.4920681551116334 and parameters: {'k': 47}. Best is trial 30 with value: 0.565364277320799.\n",
      "[I 2025-02-25 17:08:58,755] Trial 46 finished with value: 0.5145417156286721 and parameters: {'k': 4}. Best is trial 30 with value: 0.565364277320799.\n",
      "[I 2025-02-25 17:08:58,778] Trial 47 finished with value: 0.46768507638072854 and parameters: {'k': 1}. Best is trial 30 with value: 0.565364277320799.\n",
      "[I 2025-02-25 17:08:58,804] Trial 48 finished with value: 0.4816392479435958 and parameters: {'k': 48}. Best is trial 30 with value: 0.565364277320799.\n",
      "[I 2025-02-25 17:08:58,830] Trial 49 finished with value: 0.4897179788484136 and parameters: {'k': 45}. Best is trial 30 with value: 0.565364277320799.\n",
      "[I 2025-02-25 17:08:58,870] A new study created in memory with name: no-name-0adea945-324c-43af-b73a-ef4bb9b87e6d\n",
      "[I 2025-02-25 17:08:58,886] Trial 0 finished with value: 0.5804048892284186 and parameters: {'k': 29}. Best is trial 0 with value: 0.5804048892284186.\n",
      "[I 2025-02-25 17:08:58,903] Trial 1 finished with value: 0.6006493506493507 and parameters: {'k': 12}. Best is trial 1 with value: 0.6006493506493507.\n",
      "[I 2025-02-25 17:08:58,919] Trial 2 finished with value: 0.6187929717341483 and parameters: {'k': 11}. Best is trial 2 with value: 0.6187929717341483.\n",
      "[I 2025-02-25 17:08:58,936] Trial 3 finished with value: 0.5148968678380443 and parameters: {'k': 42}. Best is trial 2 with value: 0.6187929717341483.\n",
      "[I 2025-02-25 17:08:58,953] Trial 4 finished with value: 0.5840336134453781 and parameters: {'k': 3}. Best is trial 2 with value: 0.6187929717341483.\n",
      "[I 2025-02-25 17:08:58,970] Trial 5 finished with value: 0.599694423223835 and parameters: {'k': 28}. Best is trial 2 with value: 0.6187929717341483.\n",
      "[I 2025-02-25 17:08:58,988] Trial 6 finished with value: 0.5372421695951108 and parameters: {'k': 39}. Best is trial 2 with value: 0.6187929717341483.\n",
      "[I 2025-02-25 17:08:59,006] Trial 7 finished with value: 0.5618792971734148 and parameters: {'k': 32}. Best is trial 2 with value: 0.6187929717341483.\n",
      "[I 2025-02-25 17:08:59,058] Trial 8 finished with value: 0.6023682200152788 and parameters: {'k': 23}. Best is trial 2 with value: 0.6187929717341483.\n",
      "[I 2025-02-25 17:08:59,076] Trial 9 finished with value: 0.5076394194041253 and parameters: {'k': 5}. Best is trial 2 with value: 0.6187929717341483.\n",
      "[I 2025-02-25 17:08:59,094] Trial 10 finished with value: 0.567990832696715 and parameters: {'k': 34}. Best is trial 2 with value: 0.6187929717341483.\n",
      "[I 2025-02-25 17:08:59,112] Trial 11 finished with value: 0.5861344537815126 and parameters: {'k': 36}. Best is trial 2 with value: 0.6187929717341483.\n",
      "[I 2025-02-25 17:08:59,164] Trial 12 finished with value: 0.5960656990068754 and parameters: {'k': 27}. Best is trial 2 with value: 0.6187929717341483.\n",
      "[I 2025-02-25 17:08:59,192] Trial 13 finished with value: 0.5796409472880061 and parameters: {'k': 35}. Best is trial 2 with value: 0.6187929717341483.\n",
      "[I 2025-02-25 17:08:59,300] Trial 14 finished with value: 0.5746753246753247 and parameters: {'k': 19}. Best is trial 2 with value: 0.6187929717341483.\n",
      "[I 2025-02-25 17:08:59,319] Trial 15 finished with value: 0.5884262796027502 and parameters: {'k': 8}. Best is trial 2 with value: 0.6187929717341483.\n",
      "[I 2025-02-25 17:08:59,338] Trial 16 finished with value: 0.5985485103132162 and parameters: {'k': 15}. Best is trial 2 with value: 0.6187929717341483.\n",
      "[I 2025-02-25 17:08:59,358] Trial 17 finished with value: 0.5190985485103132 and parameters: {'k': 46}. Best is trial 2 with value: 0.6187929717341483.\n",
      "[I 2025-02-25 17:08:59,379] Trial 18 finished with value: 0.4912146676852559 and parameters: {'k': 49}. Best is trial 2 with value: 0.6187929717341483.\n",
      "[I 2025-02-25 17:08:59,399] Trial 19 finished with value: 0.5731474407944995 and parameters: {'k': 30}. Best is trial 2 with value: 0.6187929717341483.\n",
      "[I 2025-02-25 17:08:59,419] Trial 20 finished with value: 0.576585179526356 and parameters: {'k': 16}. Best is trial 2 with value: 0.6187929717341483.\n",
      "[I 2025-02-25 17:08:59,439] Trial 21 finished with value: 0.5691367456073337 and parameters: {'k': 31}. Best is trial 2 with value: 0.6187929717341483.\n",
      "[I 2025-02-25 17:08:59,472] Trial 22 finished with value: 0.5574866310160428 and parameters: {'k': 33}. Best is trial 2 with value: 0.6187929717341483.\n",
      "[I 2025-02-25 17:08:59,493] Trial 23 finished with value: 0.5362872421695951 and parameters: {'k': 17}. Best is trial 2 with value: 0.6187929717341483.\n",
      "[I 2025-02-25 17:08:59,514] Trial 24 finished with value: 0.5248281130634072 and parameters: {'k': 43}. Best is trial 2 with value: 0.6187929717341483.\n",
      "[I 2025-02-25 17:08:59,535] Trial 25 finished with value: 0.6025592055003819 and parameters: {'k': 21}. Best is trial 2 with value: 0.6187929717341483.\n",
      "[I 2025-02-25 17:08:59,557] Trial 26 finished with value: 0.5231092436974789 and parameters: {'k': 44}. Best is trial 2 with value: 0.6187929717341483.\n",
      "[I 2025-02-25 17:08:59,578] Trial 27 finished with value: 0.621466768525592 and parameters: {'k': 9}. Best is trial 27 with value: 0.621466768525592.\n",
      "[I 2025-02-25 17:08:59,602] Trial 28 finished with value: 0.6334988540870894 and parameters: {'k': 14}. Best is trial 28 with value: 0.6334988540870894.\n",
      "[I 2025-02-25 17:08:59,624] Trial 29 finished with value: 0.6130634071810542 and parameters: {'k': 26}. Best is trial 28 with value: 0.6334988540870894.\n",
      "[I 2025-02-25 17:08:59,647] Trial 30 finished with value: 0.5412528647822766 and parameters: {'k': 6}. Best is trial 28 with value: 0.6334988540870894.\n",
      "[I 2025-02-25 17:08:59,670] Trial 31 finished with value: 0.5387700534759359 and parameters: {'k': 18}. Best is trial 28 with value: 0.6334988540870894.\n",
      "[I 2025-02-25 17:08:59,693] Trial 32 finished with value: 0.5301757066462948 and parameters: {'k': 41}. Best is trial 28 with value: 0.6334988540870894.\n",
      "[I 2025-02-25 17:08:59,717] Trial 33 finished with value: 0.4889228418640183 and parameters: {'k': 50}. Best is trial 28 with value: 0.6334988540870894.\n",
      "[I 2025-02-25 17:08:59,739] Trial 34 finished with value: 0.49025974025974034 and parameters: {'k': 2}. Best is trial 28 with value: 0.6334988540870894.\n",
      "[I 2025-02-25 17:08:59,763] Trial 35 finished with value: 0.6386554621848739 and parameters: {'k': 13}. Best is trial 35 with value: 0.6386554621848739.\n",
      "[I 2025-02-25 17:08:59,791] Trial 36 finished with value: 0.5603514132925898 and parameters: {'k': 38}. Best is trial 35 with value: 0.6386554621848739.\n",
      "[I 2025-02-25 17:08:59,815] Trial 37 finished with value: 0.5937738731856379 and parameters: {'k': 25}. Best is trial 35 with value: 0.6386554621848739.\n",
      "[I 2025-02-25 17:08:59,860] Trial 38 finished with value: 0.573720397249809 and parameters: {'k': 7}. Best is trial 35 with value: 0.6386554621848739.\n",
      "[I 2025-02-25 17:08:59,918] Trial 39 finished with value: 0.5947288006111535 and parameters: {'k': 24}. Best is trial 35 with value: 0.6386554621848739.\n",
      "[I 2025-02-25 17:08:59,942] Trial 40 finished with value: 0.5821237585943468 and parameters: {'k': 37}. Best is trial 35 with value: 0.6386554621848739.\n",
      "[I 2025-02-25 17:08:59,967] Trial 41 finished with value: 0.6323529411764706 and parameters: {'k': 22}. Best is trial 35 with value: 0.6386554621848739.\n",
      "[I 2025-02-25 17:08:59,997] Trial 42 finished with value: 0.6205118411000764 and parameters: {'k': 20}. Best is trial 35 with value: 0.6386554621848739.\n",
      "[I 2025-02-25 17:09:00,031] Trial 43 finished with value: 0.6306340718105424 and parameters: {'k': 10}. Best is trial 35 with value: 0.6386554621848739.\n",
      "[I 2025-02-25 17:09:00,057] Trial 44 finished with value: 0.5351413292589763 and parameters: {'k': 40}. Best is trial 35 with value: 0.6386554621848739.\n",
      "[I 2025-02-25 17:09:00,083] Trial 45 finished with value: 0.514514896867838 and parameters: {'k': 47}. Best is trial 35 with value: 0.6386554621848739.\n",
      "[I 2025-02-25 17:09:00,108] Trial 46 finished with value: 0.529029793735676 and parameters: {'k': 4}. Best is trial 35 with value: 0.6386554621848739.\n",
      "[I 2025-02-25 17:09:00,132] Trial 47 finished with value: 0.5068754774637128 and parameters: {'k': 1}. Best is trial 35 with value: 0.6386554621848739.\n",
      "[I 2025-02-25 17:09:00,161] Trial 48 finished with value: 0.5013368983957219 and parameters: {'k': 48}. Best is trial 35 with value: 0.6386554621848739.\n",
      "[I 2025-02-25 17:09:00,187] Trial 49 finished with value: 0.5131779984721161 and parameters: {'k': 45}. Best is trial 35 with value: 0.6386554621848739.\n",
      "[I 2025-02-25 17:09:00,323] A new study created in memory with name: no-name-41ad9782-8688-4988-af6c-f8cc2a7a2422\n",
      "[I 2025-02-25 17:09:00,332] Trial 0 finished with value: 0.4264196675900277 and parameters: {'k': 29}. Best is trial 0 with value: 0.4264196675900277.\n",
      "[I 2025-02-25 17:09:00,341] Trial 1 finished with value: 0.476281163434903 and parameters: {'k': 12}. Best is trial 1 with value: 0.476281163434903.\n",
      "[I 2025-02-25 17:09:00,349] Trial 2 finished with value: 0.491516620498615 and parameters: {'k': 11}. Best is trial 2 with value: 0.491516620498615.\n",
      "[I 2025-02-25 17:09:00,358] Trial 3 finished with value: 0.4302285318559557 and parameters: {'k': 42}. Best is trial 2 with value: 0.491516620498615.\n",
      "[I 2025-02-25 17:09:00,367] Trial 4 finished with value: 0.4759349030470914 and parameters: {'k': 3}. Best is trial 2 with value: 0.491516620498615.\n",
      "[I 2025-02-25 17:09:00,377] Trial 5 finished with value: 0.4364612188365651 and parameters: {'k': 28}. Best is trial 2 with value: 0.491516620498615.\n",
      "[I 2025-02-25 17:09:00,387] Trial 6 finished with value: 0.4137811634349031 and parameters: {'k': 39}. Best is trial 2 with value: 0.491516620498615.\n",
      "[I 2025-02-25 17:09:00,396] Trial 7 finished with value: 0.41430055401662047 and parameters: {'k': 32}. Best is trial 2 with value: 0.491516620498615.\n",
      "[I 2025-02-25 17:09:00,406] Trial 8 finished with value: 0.42572714681440443 and parameters: {'k': 23}. Best is trial 2 with value: 0.491516620498615.\n",
      "[I 2025-02-25 17:09:00,415] Trial 9 finished with value: 0.49567174515235457 and parameters: {'k': 5}. Best is trial 9 with value: 0.49567174515235457.\n",
      "[I 2025-02-25 17:09:00,426] Trial 10 finished with value: 0.41516620498614965 and parameters: {'k': 34}. Best is trial 9 with value: 0.49567174515235457.\n",
      "[I 2025-02-25 17:09:00,436] Trial 11 finished with value: 0.4046052631578948 and parameters: {'k': 36}. Best is trial 9 with value: 0.49567174515235457.\n",
      "[I 2025-02-25 17:09:00,446] Trial 12 finished with value: 0.44581024930747926 and parameters: {'k': 27}. Best is trial 9 with value: 0.49567174515235457.\n",
      "[I 2025-02-25 17:09:00,460] Trial 13 finished with value: 0.4170706371191135 and parameters: {'k': 35}. Best is trial 9 with value: 0.49567174515235457.\n",
      "[I 2025-02-25 17:09:00,471] Trial 14 finished with value: 0.4397506925207756 and parameters: {'k': 19}. Best is trial 9 with value: 0.49567174515235457.\n",
      "[I 2025-02-25 17:09:00,481] Trial 15 finished with value: 0.49948060941828254 and parameters: {'k': 8}. Best is trial 15 with value: 0.49948060941828254.\n",
      "[I 2025-02-25 17:09:00,493] Trial 16 finished with value: 0.44390581717451516 and parameters: {'k': 15}. Best is trial 15 with value: 0.49948060941828254.\n",
      "[I 2025-02-25 17:09:00,507] Trial 17 finished with value: 0.43438365650969524 and parameters: {'k': 46}. Best is trial 15 with value: 0.49948060941828254.\n",
      "[I 2025-02-25 17:09:00,519] Trial 18 finished with value: 0.4420013850415513 and parameters: {'k': 49}. Best is trial 15 with value: 0.49948060941828254.\n",
      "[I 2025-02-25 17:09:00,531] Trial 19 finished with value: 0.4200138504155124 and parameters: {'k': 30}. Best is trial 15 with value: 0.49948060941828254.\n",
      "[I 2025-02-25 17:09:00,543] Trial 20 finished with value: 0.47801246537396125 and parameters: {'k': 16}. Best is trial 15 with value: 0.49948060941828254.\n",
      "[I 2025-02-25 17:09:00,555] Trial 21 finished with value: 0.4248614958448753 and parameters: {'k': 31}. Best is trial 15 with value: 0.49948060941828254.\n",
      "[I 2025-02-25 17:09:00,568] Trial 22 finished with value: 0.41828254847645424 and parameters: {'k': 33}. Best is trial 15 with value: 0.49948060941828254.\n",
      "[I 2025-02-25 17:09:00,580] Trial 23 finished with value: 0.4662396121883656 and parameters: {'k': 17}. Best is trial 15 with value: 0.49948060941828254.\n",
      "[I 2025-02-25 17:09:00,626] Trial 24 finished with value: 0.4492728531855955 and parameters: {'k': 43}. Best is trial 15 with value: 0.49948060941828254.\n",
      "[I 2025-02-25 17:09:00,652] Trial 25 finished with value: 0.4587950138504155 and parameters: {'k': 21}. Best is trial 15 with value: 0.49948060941828254.\n",
      "[I 2025-02-25 17:09:00,679] Trial 26 finished with value: 0.4468490304709142 and parameters: {'k': 44}. Best is trial 15 with value: 0.49948060941828254.\n",
      "[I 2025-02-25 17:09:00,694] Trial 27 finished with value: 0.4901315789473685 and parameters: {'k': 9}. Best is trial 15 with value: 0.49948060941828254.\n",
      "[I 2025-02-25 17:09:00,707] Trial 28 finished with value: 0.45792936288088637 and parameters: {'k': 14}. Best is trial 15 with value: 0.49948060941828254.\n",
      "[I 2025-02-25 17:09:00,723] Trial 29 finished with value: 0.43490304709141275 and parameters: {'k': 26}. Best is trial 15 with value: 0.49948060941828254.\n",
      "[I 2025-02-25 17:09:00,736] Trial 30 finished with value: 0.49826869806094193 and parameters: {'k': 6}. Best is trial 15 with value: 0.49948060941828254.\n",
      "[I 2025-02-25 17:09:00,749] Trial 31 finished with value: 0.4541204986149584 and parameters: {'k': 18}. Best is trial 15 with value: 0.49948060941828254.\n",
      "[I 2025-02-25 17:09:00,763] Trial 32 finished with value: 0.4328254847645429 and parameters: {'k': 41}. Best is trial 15 with value: 0.49948060941828254.\n",
      "[I 2025-02-25 17:09:00,778] Trial 33 finished with value: 0.44459833795013853 and parameters: {'k': 50}. Best is trial 15 with value: 0.49948060941828254.\n",
      "[I 2025-02-25 17:09:00,792] Trial 34 finished with value: 0.5060595567867036 and parameters: {'k': 2}. Best is trial 34 with value: 0.5060595567867036.\n",
      "[I 2025-02-25 17:09:00,806] Trial 35 finished with value: 0.4674515235457063 and parameters: {'k': 13}. Best is trial 34 with value: 0.5060595567867036.\n",
      "[I 2025-02-25 17:09:00,821] Trial 36 finished with value: 0.4246883656509695 and parameters: {'k': 38}. Best is trial 34 with value: 0.5060595567867036.\n",
      "[I 2025-02-25 17:09:00,836] Trial 37 finished with value: 0.40927977839335183 and parameters: {'k': 25}. Best is trial 34 with value: 0.5060595567867036.\n",
      "[I 2025-02-25 17:09:00,850] Trial 38 finished with value: 0.5001731301939059 and parameters: {'k': 7}. Best is trial 34 with value: 0.5060595567867036.\n",
      "[I 2025-02-25 17:09:00,865] Trial 39 finished with value: 0.42711218836565096 and parameters: {'k': 24}. Best is trial 34 with value: 0.5060595567867036.\n",
      "[I 2025-02-25 17:09:00,881] Trial 40 finished with value: 0.4259002770083103 and parameters: {'k': 37}. Best is trial 34 with value: 0.5060595567867036.\n",
      "[I 2025-02-25 17:09:00,896] Trial 41 finished with value: 0.444078947368421 and parameters: {'k': 22}. Best is trial 34 with value: 0.5060595567867036.\n",
      "[I 2025-02-25 17:09:00,911] Trial 42 finished with value: 0.47091412742382266 and parameters: {'k': 20}. Best is trial 34 with value: 0.5060595567867036.\n",
      "[I 2025-02-25 17:09:00,927] Trial 43 finished with value: 0.47662742382271467 and parameters: {'k': 10}. Best is trial 34 with value: 0.5060595567867036.\n",
      "[I 2025-02-25 17:09:00,944] Trial 44 finished with value: 0.4106648199445983 and parameters: {'k': 40}. Best is trial 34 with value: 0.5060595567867036.\n",
      "[I 2025-02-25 17:09:00,960] Trial 45 finished with value: 0.43421052631578944 and parameters: {'k': 47}. Best is trial 34 with value: 0.5060595567867036.\n",
      "[I 2025-02-25 17:09:00,976] Trial 46 finished with value: 0.48407202216066486 and parameters: {'k': 4}. Best is trial 34 with value: 0.5060595567867036.\n",
      "[I 2025-02-25 17:09:00,998] Trial 47 finished with value: 0.45723684210526316 and parameters: {'k': 1}. Best is trial 34 with value: 0.5060595567867036.\n",
      "[I 2025-02-25 17:09:01,018] Trial 48 finished with value: 0.43247922437673125 and parameters: {'k': 48}. Best is trial 34 with value: 0.5060595567867036.\n",
      "[I 2025-02-25 17:09:01,039] Trial 49 finished with value: 0.43559556786703596 and parameters: {'k': 45}. Best is trial 34 with value: 0.5060595567867036.\n",
      "[I 2025-02-25 17:09:01,076] A new study created in memory with name: no-name-b598c3df-f189-4e64-8ed8-09ca3a2c442c\n",
      "[I 2025-02-25 17:09:01,086] Trial 0 finished with value: 0.49359418282548484 and parameters: {'k': 29}. Best is trial 0 with value: 0.49359418282548484.\n",
      "[I 2025-02-25 17:09:01,094] Trial 1 finished with value: 0.47524238227146814 and parameters: {'k': 12}. Best is trial 0 with value: 0.49359418282548484.\n",
      "[I 2025-02-25 17:09:01,102] Trial 2 finished with value: 0.4632963988919667 and parameters: {'k': 11}. Best is trial 0 with value: 0.49359418282548484.\n",
      "[I 2025-02-25 17:09:01,114] Trial 3 finished with value: 0.5365304709141274 and parameters: {'k': 42}. Best is trial 3 with value: 0.5365304709141274.\n",
      "[I 2025-02-25 17:09:01,124] Trial 4 finished with value: 0.5496883656509696 and parameters: {'k': 3}. Best is trial 4 with value: 0.5496883656509696.\n",
      "[I 2025-02-25 17:09:01,133] Trial 5 finished with value: 0.5095221606648199 and parameters: {'k': 28}. Best is trial 4 with value: 0.5496883656509696.\n",
      "[I 2025-02-25 17:09:01,142] Trial 6 finished with value: 0.5496883656509696 and parameters: {'k': 39}. Best is trial 4 with value: 0.5496883656509696.\n",
      "[I 2025-02-25 17:09:01,152] Trial 7 finished with value: 0.4617382271468144 and parameters: {'k': 32}. Best is trial 4 with value: 0.5496883656509696.\n",
      "[I 2025-02-25 17:09:01,161] Trial 8 finished with value: 0.4948060941828255 and parameters: {'k': 23}. Best is trial 4 with value: 0.5496883656509696.\n",
      "[I 2025-02-25 17:09:01,171] Trial 9 finished with value: 0.5328947368421053 and parameters: {'k': 5}. Best is trial 4 with value: 0.5496883656509696.\n",
      "[I 2025-02-25 17:09:01,181] Trial 10 finished with value: 0.4665858725761773 and parameters: {'k': 34}. Best is trial 4 with value: 0.5496883656509696.\n",
      "[I 2025-02-25 17:09:01,191] Trial 11 finished with value: 0.5041551246537396 and parameters: {'k': 36}. Best is trial 4 with value: 0.5496883656509696.\n",
      "[I 2025-02-25 17:09:01,201] Trial 12 finished with value: 0.5148891966759004 and parameters: {'k': 27}. Best is trial 4 with value: 0.5496883656509696.\n",
      "[I 2025-02-25 17:09:01,212] Trial 13 finished with value: 0.4951523545706371 and parameters: {'k': 35}. Best is trial 4 with value: 0.5496883656509696.\n",
      "[I 2025-02-25 17:09:01,229] Trial 14 finished with value: 0.4710872576177285 and parameters: {'k': 19}. Best is trial 4 with value: 0.5496883656509696.\n",
      "[I 2025-02-25 17:09:01,240] Trial 15 finished with value: 0.4627770083102493 and parameters: {'k': 8}. Best is trial 4 with value: 0.5496883656509696.\n",
      "[I 2025-02-25 17:09:01,251] Trial 16 finished with value: 0.4989612188365651 and parameters: {'k': 15}. Best is trial 4 with value: 0.5496883656509696.\n",
      "[I 2025-02-25 17:09:01,263] Trial 17 finished with value: 0.538781163434903 and parameters: {'k': 46}. Best is trial 4 with value: 0.5496883656509696.\n",
      "[I 2025-02-25 17:09:01,274] Trial 18 finished with value: 0.5299515235457064 and parameters: {'k': 49}. Best is trial 4 with value: 0.5496883656509696.\n",
      "[I 2025-02-25 17:09:01,286] Trial 19 finished with value: 0.47524238227146814 and parameters: {'k': 30}. Best is trial 4 with value: 0.5496883656509696.\n",
      "[I 2025-02-25 17:09:01,300] Trial 20 finished with value: 0.48130193905817176 and parameters: {'k': 16}. Best is trial 4 with value: 0.5496883656509696.\n",
      "[I 2025-02-25 17:09:01,312] Trial 21 finished with value: 0.4575831024930748 and parameters: {'k': 31}. Best is trial 4 with value: 0.5496883656509696.\n",
      "[I 2025-02-25 17:09:01,325] Trial 22 finished with value: 0.4825138504155124 and parameters: {'k': 33}. Best is trial 4 with value: 0.5496883656509696.\n",
      "[I 2025-02-25 17:09:01,337] Trial 23 finished with value: 0.46797091412742386 and parameters: {'k': 17}. Best is trial 4 with value: 0.5496883656509696.\n",
      "[I 2025-02-25 17:09:01,351] Trial 24 finished with value: 0.5315096952908587 and parameters: {'k': 43}. Best is trial 4 with value: 0.5496883656509696.\n",
      "[I 2025-02-25 17:09:01,364] Trial 25 finished with value: 0.4851108033240997 and parameters: {'k': 21}. Best is trial 4 with value: 0.5496883656509696.\n",
      "[I 2025-02-25 17:09:01,378] Trial 26 finished with value: 0.5296052631578947 and parameters: {'k': 44}. Best is trial 4 with value: 0.5496883656509696.\n",
      "[I 2025-02-25 17:09:01,391] Trial 27 finished with value: 0.4795706371191136 and parameters: {'k': 9}. Best is trial 4 with value: 0.5496883656509696.\n",
      "[I 2025-02-25 17:09:01,419] Trial 28 finished with value: 0.513157894736842 and parameters: {'k': 14}. Best is trial 4 with value: 0.5496883656509696.\n",
      "[I 2025-02-25 17:09:01,435] Trial 29 finished with value: 0.5154085872576177 and parameters: {'k': 26}. Best is trial 4 with value: 0.5496883656509696.\n",
      "[I 2025-02-25 17:09:01,451] Trial 30 finished with value: 0.5020775623268698 and parameters: {'k': 6}. Best is trial 4 with value: 0.5496883656509696.\n",
      "[I 2025-02-25 17:09:01,479] Trial 31 finished with value: 0.4840720221606648 and parameters: {'k': 18}. Best is trial 4 with value: 0.5496883656509696.\n",
      "[I 2025-02-25 17:09:01,494] Trial 32 finished with value: 0.5552285318559556 and parameters: {'k': 41}. Best is trial 32 with value: 0.5552285318559556.\n",
      "[I 2025-02-25 17:09:01,509] Trial 33 finished with value: 0.5296052631578947 and parameters: {'k': 50}. Best is trial 32 with value: 0.5552285318559556.\n",
      "[I 2025-02-25 17:09:01,523] Trial 34 finished with value: 0.5817174515235456 and parameters: {'k': 2}. Best is trial 34 with value: 0.5817174515235456.\n",
      "[I 2025-02-25 17:09:01,537] Trial 35 finished with value: 0.4925554016620498 and parameters: {'k': 13}. Best is trial 34 with value: 0.5817174515235456.\n",
      "[I 2025-02-25 17:09:01,552] Trial 36 finished with value: 0.5315096952908587 and parameters: {'k': 38}. Best is trial 34 with value: 0.5817174515235456.\n",
      "[I 2025-02-25 17:09:01,567] Trial 37 finished with value: 0.5200831024930748 and parameters: {'k': 25}. Best is trial 34 with value: 0.5817174515235456.\n",
      "[I 2025-02-25 17:09:01,581] Trial 38 finished with value: 0.47610803324099726 and parameters: {'k': 7}. Best is trial 34 with value: 0.5817174515235456.\n",
      "[I 2025-02-25 17:09:01,597] Trial 39 finished with value: 0.4954986149584487 and parameters: {'k': 24}. Best is trial 34 with value: 0.5817174515235456.\n",
      "[I 2025-02-25 17:09:01,612] Trial 40 finished with value: 0.5264889196675899 and parameters: {'k': 37}. Best is trial 34 with value: 0.5817174515235456.\n",
      "[I 2025-02-25 17:09:01,628] Trial 41 finished with value: 0.49255540166204986 and parameters: {'k': 22}. Best is trial 34 with value: 0.5817174515235456.\n",
      "[I 2025-02-25 17:09:01,644] Trial 42 finished with value: 0.4525623268698061 and parameters: {'k': 20}. Best is trial 34 with value: 0.5817174515235456.\n",
      "[I 2025-02-25 17:09:01,660] Trial 43 finished with value: 0.47177977839335183 and parameters: {'k': 10}. Best is trial 34 with value: 0.5817174515235456.\n",
      "[I 2025-02-25 17:09:01,676] Trial 44 finished with value: 0.5396468144044322 and parameters: {'k': 40}. Best is trial 34 with value: 0.5817174515235456.\n",
      "[I 2025-02-25 17:09:01,693] Trial 45 finished with value: 0.5296052631578947 and parameters: {'k': 47}. Best is trial 34 with value: 0.5817174515235456.\n",
      "[I 2025-02-25 17:09:01,709] Trial 46 finished with value: 0.5114265927977839 and parameters: {'k': 4}. Best is trial 34 with value: 0.5817174515235456.\n",
      "[I 2025-02-25 17:09:01,725] Trial 47 finished with value: 0.6118421052631579 and parameters: {'k': 1}. Best is trial 47 with value: 0.6118421052631579.\n",
      "[I 2025-02-25 17:09:01,743] Trial 48 finished with value: 0.5339335180055401 and parameters: {'k': 48}. Best is trial 47 with value: 0.6118421052631579.\n",
      "[I 2025-02-25 17:09:01,760] Trial 49 finished with value: 0.5261426592797784 and parameters: {'k': 45}. Best is trial 47 with value: 0.6118421052631579.\n",
      "[I 2025-02-25 17:09:01,773] A new study created in memory with name: no-name-da125016-6b94-4bfc-85a3-34da58e2ef15\n",
      "[I 2025-02-25 17:09:01,782] Trial 0 finished with value: 0.546477850399419 and parameters: {'k': 29}. Best is trial 0 with value: 0.546477850399419.\n",
      "[I 2025-02-25 17:09:01,791] Trial 1 finished with value: 0.4929193899782135 and parameters: {'k': 12}. Best is trial 0 with value: 0.546477850399419.\n",
      "[I 2025-02-25 17:09:01,800] Trial 2 finished with value: 0.4707697893972404 and parameters: {'k': 11}. Best is trial 0 with value: 0.546477850399419.\n",
      "[I 2025-02-25 17:09:01,809] Trial 3 finished with value: 0.5203340595497459 and parameters: {'k': 42}. Best is trial 0 with value: 0.546477850399419.\n",
      "[I 2025-02-25 17:09:01,818] Trial 4 finished with value: 0.4978213507625272 and parameters: {'k': 3}. Best is trial 0 with value: 0.546477850399419.\n",
      "[I 2025-02-25 17:09:01,828] Trial 5 finished with value: 0.553921568627451 and parameters: {'k': 28}. Best is trial 5 with value: 0.553921568627451.\n",
      "[I 2025-02-25 17:09:01,838] Trial 6 finished with value: 0.5136165577342048 and parameters: {'k': 39}. Best is trial 5 with value: 0.553921568627451.\n",
      "[I 2025-02-25 17:09:01,849] Trial 7 finished with value: 0.5344952795933188 and parameters: {'k': 32}. Best is trial 5 with value: 0.553921568627451.\n",
      "[I 2025-02-25 17:09:01,859] Trial 8 finished with value: 0.509440813362382 and parameters: {'k': 23}. Best is trial 5 with value: 0.553921568627451.\n",
      "[I 2025-02-25 17:09:01,869] Trial 9 finished with value: 0.5573710965867829 and parameters: {'k': 5}. Best is trial 9 with value: 0.5573710965867829.\n",
      "[I 2025-02-25 17:09:01,880] Trial 10 finished with value: 0.5266884531590414 and parameters: {'k': 34}. Best is trial 9 with value: 0.5573710965867829.\n",
      "[I 2025-02-25 17:09:01,891] Trial 11 finished with value: 0.5112563543936093 and parameters: {'k': 36}. Best is trial 9 with value: 0.5573710965867829.\n",
      "[I 2025-02-25 17:09:01,904] Trial 12 finished with value: 0.5561002178649237 and parameters: {'k': 27}. Best is trial 9 with value: 0.5573710965867829.\n",
      "[I 2025-02-25 17:09:01,918] Trial 13 finished with value: 0.522149600580973 and parameters: {'k': 35}. Best is trial 9 with value: 0.5573710965867829.\n",
      "[I 2025-02-25 17:09:01,931] Trial 14 finished with value: 0.5183369644153958 and parameters: {'k': 19}. Best is trial 9 with value: 0.5573710965867829.\n",
      "[I 2025-02-25 17:09:01,943] Trial 15 finished with value: 0.5306826434277414 and parameters: {'k': 8}. Best is trial 9 with value: 0.5573710965867829.\n",
      "[I 2025-02-25 17:09:01,955] Trial 16 finished with value: 0.4856572258533043 and parameters: {'k': 15}. Best is trial 9 with value: 0.5573710965867829.\n",
      "[I 2025-02-25 17:09:01,967] Trial 17 finished with value: 0.4976397966594045 and parameters: {'k': 46}. Best is trial 9 with value: 0.5573710965867829.\n",
      "[I 2025-02-25 17:09:01,981] Trial 18 finished with value: 0.48474945533769065 and parameters: {'k': 49}. Best is trial 9 with value: 0.5573710965867829.\n",
      "[I 2025-02-25 17:09:01,994] Trial 19 finished with value: 0.5595497458242557 and parameters: {'k': 30}. Best is trial 19 with value: 0.5595497458242557.\n",
      "[I 2025-02-25 17:09:02,006] Trial 20 finished with value: 0.4780319535221496 and parameters: {'k': 16}. Best is trial 19 with value: 0.5595497458242557.\n",
      "[I 2025-02-25 17:09:02,054] Trial 21 finished with value: 0.5472040668119099 and parameters: {'k': 31}. Best is trial 19 with value: 0.5595497458242557.\n",
      "[I 2025-02-25 17:09:02,071] Trial 22 finished with value: 0.5328612926652142 and parameters: {'k': 33}. Best is trial 19 with value: 0.5595497458242557.\n",
      "[I 2025-02-25 17:09:02,094] Trial 23 finished with value: 0.464960058097313 and parameters: {'k': 17}. Best is trial 19 with value: 0.5595497458242557.\n",
      "[I 2025-02-25 17:09:02,111] Trial 24 finished with value: 0.5105301379811183 and parameters: {'k': 43}. Best is trial 19 with value: 0.5595497458242557.\n",
      "[I 2025-02-25 17:09:02,127] Trial 25 finished with value: 0.5050835148874365 and parameters: {'k': 21}. Best is trial 19 with value: 0.5595497458242557.\n",
      "[I 2025-02-25 17:09:02,149] Trial 26 finished with value: 0.49618736383442263 and parameters: {'k': 44}. Best is trial 19 with value: 0.5595497458242557.\n",
      "[I 2025-02-25 17:09:02,163] Trial 27 finished with value: 0.49527959331880894 and parameters: {'k': 9}. Best is trial 19 with value: 0.5595497458242557.\n",
      "[I 2025-02-25 17:09:02,176] Trial 28 finished with value: 0.46695715323166304 and parameters: {'k': 14}. Best is trial 19 with value: 0.5595497458242557.\n",
      "[I 2025-02-25 17:09:02,193] Trial 29 finished with value: 0.5319535221496006 and parameters: {'k': 26}. Best is trial 19 with value: 0.5595497458242557.\n",
      "[I 2025-02-25 17:09:02,207] Trial 30 finished with value: 0.5639070442992011 and parameters: {'k': 6}. Best is trial 30 with value: 0.5639070442992011.\n",
      "[I 2025-02-25 17:09:02,222] Trial 31 finished with value: 0.45461147421931736 and parameters: {'k': 18}. Best is trial 30 with value: 0.5639070442992011.\n",
      "[I 2025-02-25 17:09:02,237] Trial 32 finished with value: 0.516158315177923 and parameters: {'k': 41}. Best is trial 30 with value: 0.5639070442992011.\n",
      "[I 2025-02-25 17:09:02,253] Trial 33 finished with value: 0.47403776325344954 and parameters: {'k': 50}. Best is trial 30 with value: 0.5639070442992011.\n",
      "[I 2025-02-25 17:09:02,268] Trial 34 finished with value: 0.5174291938997821 and parameters: {'k': 2}. Best is trial 30 with value: 0.5639070442992011.\n",
      "[I 2025-02-25 17:09:02,284] Trial 35 finished with value: 0.4783950617283951 and parameters: {'k': 13}. Best is trial 30 with value: 0.5639070442992011.\n",
      "[I 2025-02-25 17:09:02,305] Trial 36 finished with value: 0.5125272331154684 and parameters: {'k': 38}. Best is trial 30 with value: 0.5639070442992011.\n",
      "[I 2025-02-25 17:09:02,321] Trial 37 finished with value: 0.5354030501089324 and parameters: {'k': 25}. Best is trial 30 with value: 0.5639070442992011.\n",
      "[I 2025-02-25 17:09:02,337] Trial 38 finished with value: 0.5628177196804648 and parameters: {'k': 7}. Best is trial 30 with value: 0.5639070442992011.\n",
      "[I 2025-02-25 17:09:02,353] Trial 39 finished with value: 0.4949164851125636 and parameters: {'k': 24}. Best is trial 30 with value: 0.5639070442992011.\n",
      "[I 2025-02-25 17:09:02,370] Trial 40 finished with value: 0.5156136528685549 and parameters: {'k': 37}. Best is trial 30 with value: 0.5639070442992011.\n",
      "[I 2025-02-25 17:09:02,387] Trial 41 finished with value: 0.513435003631082 and parameters: {'k': 22}. Best is trial 30 with value: 0.5639070442992011.\n",
      "[I 2025-02-25 17:09:02,406] Trial 42 finished with value: 0.4974582425562818 and parameters: {'k': 20}. Best is trial 30 with value: 0.5639070442992011.\n",
      "[I 2025-02-25 17:09:02,424] Trial 43 finished with value: 0.47349310094408126 and parameters: {'k': 10}. Best is trial 30 with value: 0.5639070442992011.\n",
      "[I 2025-02-25 17:09:02,442] Trial 44 finished with value: 0.5332244008714597 and parameters: {'k': 40}. Best is trial 30 with value: 0.5639070442992011.\n",
      "[I 2025-02-25 17:09:02,460] Trial 45 finished with value: 0.4923747276688454 and parameters: {'k': 47}. Best is trial 30 with value: 0.5639070442992011.\n",
      "[I 2025-02-25 17:09:02,527] Trial 46 finished with value: 0.5615468409586056 and parameters: {'k': 4}. Best is trial 30 with value: 0.5639070442992011.\n",
      "[I 2025-02-25 17:09:02,542] Trial 47 finished with value: 0.49836601307189543 and parameters: {'k': 1}. Best is trial 30 with value: 0.5639070442992011.\n",
      "[I 2025-02-25 17:09:02,561] Trial 48 finished with value: 0.48456790123456794 and parameters: {'k': 48}. Best is trial 30 with value: 0.5639070442992011.\n",
      "[I 2025-02-25 17:09:02,579] Trial 49 finished with value: 0.5043572984749456 and parameters: {'k': 45}. Best is trial 30 with value: 0.5639070442992011.\n",
      "[I 2025-02-25 17:09:02,600] A new study created in memory with name: no-name-12762a59-4541-4f01-85a2-0bfd2861ef9f\n",
      "[I 2025-02-25 17:09:02,609] Trial 0 finished with value: 0.579171562867215 and parameters: {'k': 29}. Best is trial 0 with value: 0.579171562867215.\n",
      "[I 2025-02-25 17:09:02,618] Trial 1 finished with value: 0.5838719153936546 and parameters: {'k': 12}. Best is trial 1 with value: 0.5838719153936546.\n",
      "[I 2025-02-25 17:09:02,627] Trial 2 finished with value: 0.5876909518213866 and parameters: {'k': 11}. Best is trial 2 with value: 0.5876909518213866.\n",
      "[I 2025-02-25 17:09:02,637] Trial 3 finished with value: 0.5220329024676851 and parameters: {'k': 42}. Best is trial 2 with value: 0.5876909518213866.\n",
      "[I 2025-02-25 17:09:02,646] Trial 4 finished with value: 0.5815217391304347 and parameters: {'k': 3}. Best is trial 2 with value: 0.5876909518213866.\n",
      "[I 2025-02-25 17:09:02,655] Trial 5 finished with value: 0.5700646298472385 and parameters: {'k': 28}. Best is trial 2 with value: 0.5876909518213866.\n",
      "[I 2025-02-25 17:09:02,666] Trial 6 finished with value: 0.5543478260869565 and parameters: {'k': 39}. Best is trial 2 with value: 0.5876909518213866.\n",
      "[I 2025-02-25 17:09:02,676] Trial 7 finished with value: 0.57975910693302 and parameters: {'k': 32}. Best is trial 2 with value: 0.5876909518213866.\n",
      "[I 2025-02-25 17:09:02,687] Trial 8 finished with value: 0.5744712103407755 and parameters: {'k': 23}. Best is trial 2 with value: 0.5876909518213866.\n",
      "[I 2025-02-25 17:09:02,697] Trial 9 finished with value: 0.5641891891891893 and parameters: {'k': 5}. Best is trial 2 with value: 0.5876909518213866.\n",
      "[I 2025-02-25 17:09:02,708] Trial 10 finished with value: 0.5602232667450059 and parameters: {'k': 34}. Best is trial 2 with value: 0.5876909518213866.\n",
      "[I 2025-02-25 17:09:02,719] Trial 11 finished with value: 0.5584606345475911 and parameters: {'k': 36}. Best is trial 2 with value: 0.5876909518213866.\n",
      "[I 2025-02-25 17:09:02,730] Trial 12 finished with value: 0.5619858989424207 and parameters: {'k': 27}. Best is trial 2 with value: 0.5876909518213866.\n",
      "[I 2025-02-25 17:09:02,741] Trial 13 finished with value: 0.5665393654524089 and parameters: {'k': 35}. Best is trial 2 with value: 0.5876909518213866.\n",
      "[I 2025-02-25 17:09:02,753] Trial 14 finished with value: 0.5095475910693302 and parameters: {'k': 19}. Best is trial 2 with value: 0.5876909518213866.\n",
      "[I 2025-02-25 17:09:02,764] Trial 15 finished with value: 0.5985605170387779 and parameters: {'k': 8}. Best is trial 15 with value: 0.5985605170387779.\n",
      "[I 2025-02-25 17:09:02,776] Trial 16 finished with value: 0.551556991774383 and parameters: {'k': 15}. Best is trial 15 with value: 0.5985605170387779.\n",
      "[I 2025-02-25 17:09:02,788] Trial 17 finished with value: 0.5205640423031728 and parameters: {'k': 46}. Best is trial 15 with value: 0.5985605170387779.\n",
      "[I 2025-02-25 17:09:02,801] Trial 18 finished with value: 0.49750293772032905 and parameters: {'k': 49}. Best is trial 15 with value: 0.5985605170387779.\n",
      "[I 2025-02-25 17:09:02,813] Trial 19 finished with value: 0.586075205640423 and parameters: {'k': 30}. Best is trial 15 with value: 0.5985605170387779.\n",
      "[I 2025-02-25 17:09:02,825] Trial 20 finished with value: 0.5593419506462984 and parameters: {'k': 16}. Best is trial 15 with value: 0.5985605170387779.\n",
      "[I 2025-02-25 17:09:02,838] Trial 21 finished with value: 0.5725616921269095 and parameters: {'k': 31}. Best is trial 15 with value: 0.5985605170387779.\n",
      "[I 2025-02-25 17:09:02,852] Trial 22 finished with value: 0.5762338425381903 and parameters: {'k': 33}. Best is trial 15 with value: 0.5985605170387779.\n",
      "[I 2025-02-25 17:09:02,865] Trial 23 finished with value: 0.5546415981198589 and parameters: {'k': 17}. Best is trial 15 with value: 0.5985605170387779.\n",
      "[I 2025-02-25 17:09:02,878] Trial 24 finished with value: 0.5308460634547592 and parameters: {'k': 43}. Best is trial 15 with value: 0.5985605170387779.\n",
      "[I 2025-02-25 17:09:02,892] Trial 25 finished with value: 0.5440658049353702 and parameters: {'k': 21}. Best is trial 15 with value: 0.5985605170387779.\n",
      "[I 2025-02-25 17:09:02,906] Trial 26 finished with value: 0.5242361927144537 and parameters: {'k': 44}. Best is trial 15 with value: 0.5985605170387779.\n",
      "[I 2025-02-25 17:09:02,919] Trial 27 finished with value: 0.5962103407755582 and parameters: {'k': 9}. Best is trial 15 with value: 0.5985605170387779.\n",
      "[I 2025-02-25 17:09:02,933] Trial 28 finished with value: 0.5669800235017627 and parameters: {'k': 14}. Best is trial 15 with value: 0.5985605170387779.\n",
      "[I 2025-02-25 17:09:02,947] Trial 29 finished with value: 0.574764982373678 and parameters: {'k': 26}. Best is trial 15 with value: 0.5985605170387779.\n",
      "[I 2025-02-25 17:09:02,961] Trial 30 finished with value: 0.5863689776733255 and parameters: {'k': 6}. Best is trial 15 with value: 0.5985605170387779.\n",
      "[I 2025-02-25 17:09:02,976] Trial 31 finished with value: 0.5293772032902467 and parameters: {'k': 18}. Best is trial 15 with value: 0.5985605170387779.\n",
      "[I 2025-02-25 17:09:02,991] Trial 32 finished with value: 0.5315804935370153 and parameters: {'k': 41}. Best is trial 15 with value: 0.5985605170387779.\n",
      "[I 2025-02-25 17:09:03,006] Trial 33 finished with value: 0.4964747356051703 and parameters: {'k': 50}. Best is trial 15 with value: 0.5985605170387779.\n",
      "[I 2025-02-25 17:09:03,022] Trial 34 finished with value: 0.555229142185664 and parameters: {'k': 2}. Best is trial 15 with value: 0.5985605170387779.\n",
      "[I 2025-02-25 17:09:03,038] Trial 35 finished with value: 0.5725616921269095 and parameters: {'k': 13}. Best is trial 15 with value: 0.5985605170387779.\n",
      "[I 2025-02-25 17:09:03,054] Trial 36 finished with value: 0.5705052878965923 and parameters: {'k': 38}. Best is trial 15 with value: 0.5985605170387779.\n",
      "[I 2025-02-25 17:09:03,070] Trial 37 finished with value: 0.5804935370152762 and parameters: {'k': 25}. Best is trial 15 with value: 0.5985605170387779.\n",
      "[I 2025-02-25 17:09:03,086] Trial 38 finished with value: 0.5951821386603995 and parameters: {'k': 7}. Best is trial 15 with value: 0.5985605170387779.\n",
      "[I 2025-02-25 17:09:03,102] Trial 39 finished with value: 0.5652173913043479 and parameters: {'k': 24}. Best is trial 15 with value: 0.5985605170387779.\n",
      "[I 2025-02-25 17:09:03,118] Trial 40 finished with value: 0.5633078730904817 and parameters: {'k': 37}. Best is trial 15 with value: 0.5985605170387779.\n",
      "[I 2025-02-25 17:09:03,135] Trial 41 finished with value: 0.5611045828437132 and parameters: {'k': 22}. Best is trial 15 with value: 0.5985605170387779.\n",
      "[I 2025-02-25 17:09:03,151] Trial 42 finished with value: 0.5160105757931845 and parameters: {'k': 20}. Best is trial 15 with value: 0.5985605170387779.\n",
      "[I 2025-02-25 17:09:03,168] Trial 43 finished with value: 0.5937132784958872 and parameters: {'k': 10}. Best is trial 15 with value: 0.5985605170387779.\n",
      "[I 2025-02-25 17:09:03,185] Trial 44 finished with value: 0.5461222091656874 and parameters: {'k': 40}. Best is trial 15 with value: 0.5985605170387779.\n",
      "[I 2025-02-25 17:09:03,203] Trial 45 finished with value: 0.5130728554641597 and parameters: {'k': 47}. Best is trial 15 with value: 0.5985605170387779.\n",
      "[I 2025-02-25 17:09:03,220] Trial 46 finished with value: 0.5696239717978848 and parameters: {'k': 4}. Best is trial 15 with value: 0.5985605170387779.\n",
      "[I 2025-02-25 17:09:03,257] Trial 47 finished with value: 0.5130728554641598 and parameters: {'k': 1}. Best is trial 15 with value: 0.5985605170387779.\n",
      "[I 2025-02-25 17:09:03,279] Trial 48 finished with value: 0.5095475910693303 and parameters: {'k': 48}. Best is trial 15 with value: 0.5985605170387779.\n",
      "[I 2025-02-25 17:09:03,299] Trial 49 finished with value: 0.5334900117508813 and parameters: {'k': 45}. Best is trial 15 with value: 0.5985605170387779.\n",
      "[I 2025-02-25 17:09:03,326] A new study created in memory with name: no-name-db466cc1-9fd2-41d8-843d-faff2326ad08\n",
      "[I 2025-02-25 17:09:03,347] Trial 0 finished with value: 0.569327731092437 and parameters: {'k': 29}. Best is trial 0 with value: 0.569327731092437.\n",
      "[I 2025-02-25 17:09:03,357] Trial 1 finished with value: 0.5032467532467533 and parameters: {'k': 12}. Best is trial 0 with value: 0.569327731092437.\n",
      "[I 2025-02-25 17:09:03,366] Trial 2 finished with value: 0.5099312452253629 and parameters: {'k': 11}. Best is trial 0 with value: 0.569327731092437.\n",
      "[I 2025-02-25 17:09:03,393] Trial 3 finished with value: 0.5632161955691367 and parameters: {'k': 42}. Best is trial 0 with value: 0.569327731092437.\n",
      "[I 2025-02-25 17:09:03,401] Trial 4 finished with value: 0.4375477463712758 and parameters: {'k': 3}. Best is trial 0 with value: 0.569327731092437.\n",
      "[I 2025-02-25 17:09:03,411] Trial 5 finished with value: 0.5574866310160427 and parameters: {'k': 28}. Best is trial 0 with value: 0.569327731092437.\n",
      "[I 2025-02-25 17:09:03,422] Trial 6 finished with value: 0.5634071810542399 and parameters: {'k': 39}. Best is trial 0 with value: 0.569327731092437.\n",
      "[I 2025-02-25 17:09:03,432] Trial 7 finished with value: 0.5548128342245989 and parameters: {'k': 32}. Best is trial 0 with value: 0.569327731092437.\n",
      "[I 2025-02-25 17:09:03,443] Trial 8 finished with value: 0.48433919022154315 and parameters: {'k': 23}. Best is trial 0 with value: 0.569327731092437.\n",
      "[I 2025-02-25 17:09:03,453] Trial 9 finished with value: 0.4553093964858671 and parameters: {'k': 5}. Best is trial 0 with value: 0.569327731092437.\n",
      "[I 2025-02-25 17:09:03,480] Trial 10 finished with value: 0.5301757066462949 and parameters: {'k': 34}. Best is trial 0 with value: 0.569327731092437.\n",
      "[I 2025-02-25 17:09:03,492] Trial 11 finished with value: 0.5416348357524828 and parameters: {'k': 36}. Best is trial 0 with value: 0.569327731092437.\n",
      "[I 2025-02-25 17:09:03,503] Trial 12 finished with value: 0.573720397249809 and parameters: {'k': 27}. Best is trial 12 with value: 0.573720397249809.\n",
      "[I 2025-02-25 17:09:03,515] Trial 13 finished with value: 0.5198624904507257 and parameters: {'k': 35}. Best is trial 12 with value: 0.573720397249809.\n",
      "[I 2025-02-25 17:09:03,526] Trial 14 finished with value: 0.4814744079449962 and parameters: {'k': 19}. Best is trial 12 with value: 0.573720397249809.\n",
      "[I 2025-02-25 17:09:03,538] Trial 15 finished with value: 0.5171886936592819 and parameters: {'k': 8}. Best is trial 12 with value: 0.573720397249809.\n",
      "[I 2025-02-25 17:09:03,550] Trial 16 finished with value: 0.45702826585179523 and parameters: {'k': 15}. Best is trial 12 with value: 0.573720397249809.\n",
      "[I 2025-02-25 17:09:03,562] Trial 17 finished with value: 0.5498472116119174 and parameters: {'k': 46}. Best is trial 12 with value: 0.573720397249809.\n",
      "[I 2025-02-25 17:09:03,575] Trial 18 finished with value: 0.5311306340718106 and parameters: {'k': 49}. Best is trial 12 with value: 0.573720397249809.\n",
      "[I 2025-02-25 17:09:03,587] Trial 19 finished with value: 0.5467914438502675 and parameters: {'k': 30}. Best is trial 12 with value: 0.573720397249809.\n",
      "[I 2025-02-25 17:09:03,600] Trial 20 finished with value: 0.43105423987776925 and parameters: {'k': 16}. Best is trial 12 with value: 0.573720397249809.\n",
      "[I 2025-02-25 17:09:03,613] Trial 21 finished with value: 0.547746371275783 and parameters: {'k': 31}. Best is trial 12 with value: 0.573720397249809.\n",
      "[I 2025-02-25 17:09:03,626] Trial 22 finished with value: 0.5385790679908328 and parameters: {'k': 33}. Best is trial 12 with value: 0.573720397249809.\n",
      "[I 2025-02-25 17:09:03,639] Trial 23 finished with value: 0.44041252864782277 and parameters: {'k': 17}. Best is trial 12 with value: 0.573720397249809.\n",
      "[I 2025-02-25 17:09:03,653] Trial 24 finished with value: 0.5834606569900689 and parameters: {'k': 43}. Best is trial 24 with value: 0.5834606569900689.\n",
      "[I 2025-02-25 17:09:03,667] Trial 25 finished with value: 0.48949579831932777 and parameters: {'k': 21}. Best is trial 24 with value: 0.5834606569900689.\n",
      "[I 2025-02-25 17:09:03,681] Trial 26 finished with value: 0.5802139037433155 and parameters: {'k': 44}. Best is trial 24 with value: 0.5834606569900689.\n",
      "[I 2025-02-25 17:09:03,695] Trial 27 finished with value: 0.49789915966386555 and parameters: {'k': 9}. Best is trial 24 with value: 0.5834606569900689.\n",
      "[I 2025-02-25 17:09:03,709] Trial 28 finished with value: 0.4736440030557677 and parameters: {'k': 14}. Best is trial 24 with value: 0.5834606569900689.\n",
      "[I 2025-02-25 17:09:03,723] Trial 29 finished with value: 0.53170359052712 and parameters: {'k': 26}. Best is trial 24 with value: 0.5834606569900689.\n",
      "[I 2025-02-25 17:09:03,737] Trial 30 finished with value: 0.46886936592818945 and parameters: {'k': 6}. Best is trial 24 with value: 0.5834606569900689.\n",
      "[I 2025-02-25 17:09:03,752] Trial 31 finished with value: 0.47058823529411764 and parameters: {'k': 18}. Best is trial 24 with value: 0.5834606569900689.\n",
      "[I 2025-02-25 17:09:03,767] Trial 32 finished with value: 0.5718105423987777 and parameters: {'k': 41}. Best is trial 24 with value: 0.5834606569900689.\n",
      "[I 2025-02-25 17:09:03,783] Trial 33 finished with value: 0.5380061115355232 and parameters: {'k': 50}. Best is trial 24 with value: 0.5834606569900689.\n",
      "[I 2025-02-25 17:09:03,797] Trial 34 finished with value: 0.5003819709702063 and parameters: {'k': 2}. Best is trial 24 with value: 0.5834606569900689.\n",
      "[I 2025-02-25 17:09:03,812] Trial 35 finished with value: 0.49255156608097783 and parameters: {'k': 13}. Best is trial 24 with value: 0.5834606569900689.\n",
      "[I 2025-02-25 17:09:03,828] Trial 36 finished with value: 0.5523300229182582 and parameters: {'k': 38}. Best is trial 24 with value: 0.5834606569900689.\n",
      "[I 2025-02-25 17:09:03,844] Trial 37 finished with value: 0.5313216195569137 and parameters: {'k': 25}. Best is trial 24 with value: 0.5834606569900689.\n",
      "[I 2025-02-25 17:09:03,860] Trial 38 finished with value: 0.5236822001527884 and parameters: {'k': 7}. Best is trial 24 with value: 0.5834606569900689.\n",
      "[I 2025-02-25 17:09:03,876] Trial 39 finished with value: 0.4935064935064935 and parameters: {'k': 24}. Best is trial 24 with value: 0.5834606569900689.\n",
      "[I 2025-02-25 17:09:03,893] Trial 40 finished with value: 0.555003819709702 and parameters: {'k': 37}. Best is trial 24 with value: 0.5834606569900689.\n",
      "[I 2025-02-25 17:09:03,909] Trial 41 finished with value: 0.4845301757066463 and parameters: {'k': 22}. Best is trial 24 with value: 0.5834606569900689.\n",
      "[I 2025-02-25 17:09:03,926] Trial 42 finished with value: 0.48395721925133695 and parameters: {'k': 20}. Best is trial 24 with value: 0.5834606569900689.\n",
      "[I 2025-02-25 17:09:03,942] Trial 43 finished with value: 0.5315126050420169 and parameters: {'k': 10}. Best is trial 24 with value: 0.5834606569900689.\n",
      "[I 2025-02-25 17:09:03,960] Trial 44 finished with value: 0.5752482811306341 and parameters: {'k': 40}. Best is trial 24 with value: 0.5834606569900689.\n",
      "[I 2025-02-25 17:09:03,978] Trial 45 finished with value: 0.5444996180290298 and parameters: {'k': 47}. Best is trial 24 with value: 0.5834606569900689.\n",
      "[I 2025-02-25 17:09:03,995] Trial 46 finished with value: 0.43277310924369744 and parameters: {'k': 4}. Best is trial 24 with value: 0.5834606569900689.\n",
      "[I 2025-02-25 17:09:04,011] Trial 47 finished with value: 0.5034377387318564 and parameters: {'k': 1}. Best is trial 24 with value: 0.5834606569900689.\n",
      "[I 2025-02-25 17:09:04,032] Trial 48 finished with value: 0.5412528647822766 and parameters: {'k': 48}. Best is trial 24 with value: 0.5834606569900689.\n",
      "[I 2025-02-25 17:09:04,051] Trial 49 finished with value: 0.5702826585179526 and parameters: {'k': 45}. Best is trial 24 with value: 0.5834606569900689.\n",
      "[I 2025-02-25 17:09:04,151] A new study created in memory with name: no-name-a25f10f1-9d6d-41ec-9bb4-b66efb8e5ce6\n",
      "[I 2025-02-25 17:09:04,160] Trial 0 finished with value: 0.45412049861495846 and parameters: {'k': 29}. Best is trial 0 with value: 0.45412049861495846.\n",
      "[I 2025-02-25 17:09:04,169] Trial 1 finished with value: 0.5548822714681441 and parameters: {'k': 12}. Best is trial 1 with value: 0.5548822714681441.\n",
      "[I 2025-02-25 17:09:04,179] Trial 2 finished with value: 0.5155817174515236 and parameters: {'k': 11}. Best is trial 1 with value: 0.5548822714681441.\n",
      "[I 2025-02-25 17:09:04,190] Trial 3 finished with value: 0.49220914127423826 and parameters: {'k': 42}. Best is trial 1 with value: 0.5548822714681441.\n",
      "[I 2025-02-25 17:09:04,199] Trial 4 finished with value: 0.4293628808864266 and parameters: {'k': 3}. Best is trial 1 with value: 0.5548822714681441.\n",
      "[I 2025-02-25 17:09:04,209] Trial 5 finished with value: 0.4626038781163435 and parameters: {'k': 28}. Best is trial 1 with value: 0.5548822714681441.\n",
      "[I 2025-02-25 17:09:04,219] Trial 6 finished with value: 0.5090027700831025 and parameters: {'k': 39}. Best is trial 1 with value: 0.5548822714681441.\n",
      "[I 2025-02-25 17:09:04,248] Trial 7 finished with value: 0.43767313019390575 and parameters: {'k': 32}. Best is trial 1 with value: 0.5548822714681441.\n",
      "[I 2025-02-25 17:09:04,258] Trial 8 finished with value: 0.48753462603878117 and parameters: {'k': 23}. Best is trial 1 with value: 0.5548822714681441.\n",
      "[I 2025-02-25 17:09:04,269] Trial 9 finished with value: 0.4929016620498615 and parameters: {'k': 5}. Best is trial 1 with value: 0.5548822714681441.\n",
      "[I 2025-02-25 17:09:04,280] Trial 10 finished with value: 0.4681440443213296 and parameters: {'k': 34}. Best is trial 1 with value: 0.5548822714681441.\n",
      "[I 2025-02-25 17:09:04,291] Trial 11 finished with value: 0.4774930747922438 and parameters: {'k': 36}. Best is trial 1 with value: 0.5548822714681441.\n",
      "[I 2025-02-25 17:09:04,304] Trial 12 finished with value: 0.47524238227146814 and parameters: {'k': 27}. Best is trial 1 with value: 0.5548822714681441.\n",
      "[I 2025-02-25 17:09:04,316] Trial 13 finished with value: 0.4894390581717451 and parameters: {'k': 35}. Best is trial 1 with value: 0.5548822714681441.\n",
      "[I 2025-02-25 17:09:04,327] Trial 14 finished with value: 0.5396468144044321 and parameters: {'k': 19}. Best is trial 1 with value: 0.5548822714681441.\n",
      "[I 2025-02-25 17:09:04,339] Trial 15 finished with value: 0.5161011080332409 and parameters: {'k': 8}. Best is trial 1 with value: 0.5548822714681441.\n",
      "[I 2025-02-25 17:09:04,350] Trial 16 finished with value: 0.5723684210526316 and parameters: {'k': 15}. Best is trial 16 with value: 0.5723684210526316.\n",
      "[I 2025-02-25 17:09:04,363] Trial 17 finished with value: 0.5219875346260388 and parameters: {'k': 46}. Best is trial 16 with value: 0.5723684210526316.\n",
      "[I 2025-02-25 17:09:04,375] Trial 18 finished with value: 0.5185249307479225 and parameters: {'k': 49}. Best is trial 16 with value: 0.5723684210526316.\n",
      "[I 2025-02-25 17:09:04,388] Trial 19 finished with value: 0.45654432132963985 and parameters: {'k': 30}. Best is trial 16 with value: 0.5723684210526316.\n",
      "[I 2025-02-25 17:09:04,401] Trial 20 finished with value: 0.575831024930748 and parameters: {'k': 16}. Best is trial 20 with value: 0.575831024930748.\n",
      "[I 2025-02-25 17:09:04,413] Trial 21 finished with value: 0.4426939058171745 and parameters: {'k': 31}. Best is trial 20 with value: 0.575831024930748.\n",
      "[I 2025-02-25 17:09:04,427] Trial 22 finished with value: 0.4598337950138504 and parameters: {'k': 33}. Best is trial 20 with value: 0.575831024930748.\n",
      "[I 2025-02-25 17:09:04,440] Trial 23 finished with value: 0.5922783933518005 and parameters: {'k': 17}. Best is trial 23 with value: 0.5922783933518005.\n",
      "[I 2025-02-25 17:09:04,454] Trial 24 finished with value: 0.4908240997229917 and parameters: {'k': 43}. Best is trial 23 with value: 0.5922783933518005.\n",
      "[I 2025-02-25 17:09:04,467] Trial 25 finished with value: 0.4941135734072022 and parameters: {'k': 21}. Best is trial 23 with value: 0.5922783933518005.\n",
      "[I 2025-02-25 17:09:04,481] Trial 26 finished with value: 0.5161011080332409 and parameters: {'k': 44}. Best is trial 23 with value: 0.5922783933518005.\n",
      "[I 2025-02-25 17:09:04,495] Trial 27 finished with value: 0.5086565096952909 and parameters: {'k': 9}. Best is trial 23 with value: 0.5922783933518005.\n",
      "[I 2025-02-25 17:09:04,509] Trial 28 finished with value: 0.5805055401662049 and parameters: {'k': 14}. Best is trial 23 with value: 0.5922783933518005.\n",
      "[I 2025-02-25 17:09:04,523] Trial 29 finished with value: 0.4806094182825485 and parameters: {'k': 26}. Best is trial 23 with value: 0.5922783933518005.\n",
      "[I 2025-02-25 17:09:04,537] Trial 30 finished with value: 0.4655470914127424 and parameters: {'k': 6}. Best is trial 23 with value: 0.5922783933518005.\n",
      "[I 2025-02-25 17:09:04,552] Trial 31 finished with value: 0.5631925207756232 and parameters: {'k': 18}. Best is trial 23 with value: 0.5922783933518005.\n",
      "[I 2025-02-25 17:09:04,567] Trial 32 finished with value: 0.49965373961218834 and parameters: {'k': 41}. Best is trial 23 with value: 0.5922783933518005.\n",
      "[I 2025-02-25 17:09:04,583] Trial 33 finished with value: 0.5212950138504155 and parameters: {'k': 50}. Best is trial 23 with value: 0.5922783933518005.\n",
      "[I 2025-02-25 17:09:04,602] Trial 34 finished with value: 0.4598337950138504 and parameters: {'k': 2}. Best is trial 23 with value: 0.5922783933518005.\n",
      "[I 2025-02-25 17:09:04,617] Trial 35 finished with value: 0.5393005540166205 and parameters: {'k': 13}. Best is trial 23 with value: 0.5922783933518005.\n",
      "[I 2025-02-25 17:09:04,633] Trial 36 finished with value: 0.48130193905817176 and parameters: {'k': 38}. Best is trial 23 with value: 0.5922783933518005.\n",
      "[I 2025-02-25 17:09:04,649] Trial 37 finished with value: 0.4884002770083102 and parameters: {'k': 25}. Best is trial 23 with value: 0.5922783933518005.\n",
      "[I 2025-02-25 17:09:04,664] Trial 38 finished with value: 0.4684903047091412 and parameters: {'k': 7}. Best is trial 23 with value: 0.5922783933518005.\n",
      "[I 2025-02-25 17:09:04,680] Trial 39 finished with value: 0.49757617728531855 and parameters: {'k': 24}. Best is trial 23 with value: 0.5922783933518005.\n",
      "[I 2025-02-25 17:09:04,697] Trial 40 finished with value: 0.4707409972299168 and parameters: {'k': 37}. Best is trial 23 with value: 0.5922783933518005.\n",
      "[I 2025-02-25 17:09:04,713] Trial 41 finished with value: 0.49359418282548473 and parameters: {'k': 22}. Best is trial 23 with value: 0.5922783933518005.\n",
      "[I 2025-02-25 17:09:04,742] Trial 42 finished with value: 0.5157548476454293 and parameters: {'k': 20}. Best is trial 23 with value: 0.5922783933518005.\n",
      "[I 2025-02-25 17:09:04,759] Trial 43 finished with value: 0.5259695290858726 and parameters: {'k': 10}. Best is trial 23 with value: 0.5922783933518005.\n",
      "[I 2025-02-25 17:09:04,780] Trial 44 finished with value: 0.5088296398891966 and parameters: {'k': 40}. Best is trial 23 with value: 0.5922783933518005.\n",
      "[I 2025-02-25 17:09:04,810] Trial 45 finished with value: 0.5315096952908587 and parameters: {'k': 47}. Best is trial 23 with value: 0.5922783933518005.\n",
      "[I 2025-02-25 17:09:04,831] Trial 46 finished with value: 0.5024238227146814 and parameters: {'k': 4}. Best is trial 23 with value: 0.5922783933518005.\n",
      "[I 2025-02-25 17:09:04,853] Trial 47 finished with value: 0.5098684210526315 and parameters: {'k': 1}. Best is trial 23 with value: 0.5922783933518005.\n",
      "[I 2025-02-25 17:09:04,872] Trial 48 finished with value: 0.5202562326869806 and parameters: {'k': 48}. Best is trial 23 with value: 0.5922783933518005.\n",
      "[I 2025-02-25 17:09:04,890] Trial 49 finished with value: 0.5332409972299168 and parameters: {'k': 45}. Best is trial 23 with value: 0.5922783933518005.\n",
      "[I 2025-02-25 17:09:04,909] A new study created in memory with name: no-name-634258b2-8738-4071-ab62-d44e760f899f\n",
      "[I 2025-02-25 17:09:04,919] Trial 0 finished with value: 0.7048130193905817 and parameters: {'k': 29}. Best is trial 0 with value: 0.7048130193905817.\n",
      "[I 2025-02-25 17:09:04,928] Trial 1 finished with value: 0.6835180055401662 and parameters: {'k': 12}. Best is trial 0 with value: 0.7048130193905817.\n",
      "[I 2025-02-25 17:09:04,937] Trial 2 finished with value: 0.6589335180055401 and parameters: {'k': 11}. Best is trial 0 with value: 0.7048130193905817.\n",
      "[I 2025-02-25 17:09:04,946] Trial 3 finished with value: 0.7209141274238227 and parameters: {'k': 42}. Best is trial 3 with value: 0.7209141274238227.\n",
      "[I 2025-02-25 17:09:04,955] Trial 4 finished with value: 0.6000692520775622 and parameters: {'k': 3}. Best is trial 3 with value: 0.7209141274238227.\n",
      "[I 2025-02-25 17:09:04,965] Trial 5 finished with value: 0.6959833795013849 and parameters: {'k': 28}. Best is trial 3 with value: 0.7209141274238227.\n",
      "[I 2025-02-25 17:09:04,975] Trial 6 finished with value: 0.7222991689750693 and parameters: {'k': 39}. Best is trial 6 with value: 0.7222991689750693.\n",
      "[I 2025-02-25 17:09:04,985] Trial 7 finished with value: 0.7134695290858726 and parameters: {'k': 32}. Best is trial 6 with value: 0.7222991689750693.\n",
      "[I 2025-02-25 17:09:04,995] Trial 8 finished with value: 0.7191828254847645 and parameters: {'k': 23}. Best is trial 6 with value: 0.7222991689750693.\n",
      "[I 2025-02-25 17:09:05,008] Trial 9 finished with value: 0.6597991689750693 and parameters: {'k': 5}. Best is trial 6 with value: 0.7222991689750693.\n",
      "[I 2025-02-25 17:09:05,022] Trial 10 finished with value: 0.7164127423822715 and parameters: {'k': 34}. Best is trial 6 with value: 0.7222991689750693.\n",
      "[I 2025-02-25 17:09:05,034] Trial 11 finished with value: 0.7143351800554018 and parameters: {'k': 36}. Best is trial 6 with value: 0.7222991689750693.\n",
      "[I 2025-02-25 17:09:05,045] Trial 12 finished with value: 0.6958102493074793 and parameters: {'k': 27}. Best is trial 6 with value: 0.7222991689750693.\n",
      "[I 2025-02-25 17:09:05,056] Trial 13 finished with value: 0.7172783933518005 and parameters: {'k': 35}. Best is trial 6 with value: 0.7222991689750693.\n",
      "[I 2025-02-25 17:09:05,067] Trial 14 finished with value: 0.7292243767313019 and parameters: {'k': 19}. Best is trial 14 with value: 0.7292243767313019.\n",
      "[I 2025-02-25 17:09:05,079] Trial 15 finished with value: 0.6528739612188366 and parameters: {'k': 8}. Best is trial 14 with value: 0.7292243767313019.\n",
      "[I 2025-02-25 17:09:05,099] Trial 16 finished with value: 0.7165858725761772 and parameters: {'k': 15}. Best is trial 14 with value: 0.7292243767313019.\n",
      "[I 2025-02-25 17:09:05,119] Trial 17 finished with value: 0.6868074792243767 and parameters: {'k': 46}. Best is trial 14 with value: 0.7292243767313019.\n",
      "[I 2025-02-25 17:09:05,144] Trial 18 finished with value: 0.7072368421052632 and parameters: {'k': 49}. Best is trial 14 with value: 0.7292243767313019.\n",
      "[I 2025-02-25 17:09:05,164] Trial 19 finished with value: 0.7101800554016621 and parameters: {'k': 30}. Best is trial 14 with value: 0.7292243767313019.\n",
      "[I 2025-02-25 17:09:05,194] Trial 20 finished with value: 0.7261080332409973 and parameters: {'k': 16}. Best is trial 14 with value: 0.7292243767313019.\n",
      "[I 2025-02-25 17:09:05,218] Trial 21 finished with value: 0.7146814404432134 and parameters: {'k': 31}. Best is trial 14 with value: 0.7292243767313019.\n",
      "[I 2025-02-25 17:09:05,243] Trial 22 finished with value: 0.7186634349030471 and parameters: {'k': 33}. Best is trial 14 with value: 0.7292243767313019.\n",
      "[I 2025-02-25 17:09:05,269] Trial 23 finished with value: 0.7503462603878117 and parameters: {'k': 17}. Best is trial 23 with value: 0.7503462603878117.\n",
      "[I 2025-02-25 17:09:05,295] Trial 24 finished with value: 0.7101800554016621 and parameters: {'k': 43}. Best is trial 23 with value: 0.7503462603878117.\n",
      "[I 2025-02-25 17:09:05,313] Trial 25 finished with value: 0.7307825484764542 and parameters: {'k': 21}. Best is trial 23 with value: 0.7503462603878117.\n",
      "[I 2025-02-25 17:09:05,328] Trial 26 finished with value: 0.6996191135734072 and parameters: {'k': 44}. Best is trial 23 with value: 0.7503462603878117.\n",
      "[I 2025-02-25 17:09:05,341] Trial 27 finished with value: 0.6689750692520776 and parameters: {'k': 9}. Best is trial 23 with value: 0.7503462603878117.\n",
      "[I 2025-02-25 17:09:05,355] Trial 28 finished with value: 0.7119113573407202 and parameters: {'k': 14}. Best is trial 23 with value: 0.7503462603878117.\n",
      "[I 2025-02-25 17:09:05,370] Trial 29 finished with value: 0.7058518005540166 and parameters: {'k': 26}. Best is trial 23 with value: 0.7503462603878117.\n",
      "[I 2025-02-25 17:09:05,384] Trial 30 finished with value: 0.6726108033240996 and parameters: {'k': 6}. Best is trial 23 with value: 0.7503462603878117.\n",
      "[I 2025-02-25 17:09:05,399] Trial 31 finished with value: 0.7415166204986149 and parameters: {'k': 18}. Best is trial 23 with value: 0.7503462603878117.\n",
      "[I 2025-02-25 17:09:05,414] Trial 32 finished with value: 0.7205678670360112 and parameters: {'k': 41}. Best is trial 23 with value: 0.7503462603878117.\n",
      "[I 2025-02-25 17:09:05,429] Trial 33 finished with value: 0.7001385041551247 and parameters: {'k': 50}. Best is trial 23 with value: 0.7503462603878117.\n",
      "[I 2025-02-25 17:09:05,443] Trial 34 finished with value: 0.5974722991689752 and parameters: {'k': 2}. Best is trial 23 with value: 0.7503462603878117.\n",
      "[I 2025-02-25 17:09:05,459] Trial 35 finished with value: 0.6859418282548475 and parameters: {'k': 13}. Best is trial 23 with value: 0.7503462603878117.\n",
      "[I 2025-02-25 17:09:05,474] Trial 36 finished with value: 0.7262811634349031 and parameters: {'k': 38}. Best is trial 23 with value: 0.7503462603878117.\n",
      "[I 2025-02-25 17:09:05,490] Trial 37 finished with value: 0.7197022160664819 and parameters: {'k': 25}. Best is trial 23 with value: 0.7503462603878117.\n",
      "[I 2025-02-25 17:09:05,506] Trial 38 finished with value: 0.6594529085872576 and parameters: {'k': 7}. Best is trial 23 with value: 0.7503462603878117.\n",
      "[I 2025-02-25 17:09:05,523] Trial 39 finished with value: 0.7326869806094183 and parameters: {'k': 24}. Best is trial 23 with value: 0.7503462603878117.\n",
      "[I 2025-02-25 17:09:05,539] Trial 40 finished with value: 0.7150277008310248 and parameters: {'k': 37}. Best is trial 23 with value: 0.7503462603878117.\n",
      "[I 2025-02-25 17:09:05,556] Trial 41 finished with value: 0.7269736842105262 and parameters: {'k': 22}. Best is trial 23 with value: 0.7503462603878117.\n",
      "[I 2025-02-25 17:09:05,572] Trial 42 finished with value: 0.7247229916897507 and parameters: {'k': 20}. Best is trial 23 with value: 0.7503462603878117.\n",
      "[I 2025-02-25 17:09:05,589] Trial 43 finished with value: 0.6440443213296398 and parameters: {'k': 10}. Best is trial 23 with value: 0.7503462603878117.\n",
      "[I 2025-02-25 17:09:05,606] Trial 44 finished with value: 0.7281855955678671 and parameters: {'k': 40}. Best is trial 23 with value: 0.7503462603878117.\n",
      "[I 2025-02-25 17:09:05,624] Trial 45 finished with value: 0.6970221606648199 and parameters: {'k': 47}. Best is trial 23 with value: 0.7503462603878117.\n",
      "[I 2025-02-25 17:09:05,641] Trial 46 finished with value: 0.6108033240997229 and parameters: {'k': 4}. Best is trial 23 with value: 0.7503462603878117.\n",
      "[I 2025-02-25 17:09:05,658] Trial 47 finished with value: 0.569078947368421 and parameters: {'k': 1}. Best is trial 23 with value: 0.7503462603878117.\n",
      "[I 2025-02-25 17:09:05,676] Trial 48 finished with value: 0.6952908587257617 and parameters: {'k': 48}. Best is trial 23 with value: 0.7503462603878117.\n",
      "[I 2025-02-25 17:09:05,694] Trial 49 finished with value: 0.6921745152354571 and parameters: {'k': 45}. Best is trial 23 with value: 0.7503462603878117.\n",
      "[I 2025-02-25 17:09:05,713] A new study created in memory with name: no-name-68c4409e-7092-4309-a71e-be368fad7745\n",
      "[I 2025-02-25 17:09:05,722] Trial 0 finished with value: 0.6076615831517791 and parameters: {'k': 29}. Best is trial 0 with value: 0.6076615831517791.\n",
      "[I 2025-02-25 17:09:05,731] Trial 1 finished with value: 0.5695352214960059 and parameters: {'k': 12}. Best is trial 0 with value: 0.6076615831517791.\n",
      "[I 2025-02-25 17:09:05,740] Trial 2 finished with value: 0.564088598402324 and parameters: {'k': 11}. Best is trial 0 with value: 0.6076615831517791.\n",
      "[I 2025-02-25 17:09:05,750] Trial 3 finished with value: 0.59840232389252 and parameters: {'k': 42}. Best is trial 0 with value: 0.6076615831517791.\n",
      "[I 2025-02-25 17:09:05,759] Trial 4 finished with value: 0.6154684095860566 and parameters: {'k': 3}. Best is trial 4 with value: 0.6154684095860566.\n",
      "[I 2025-02-25 17:09:05,769] Trial 5 finished with value: 0.6209150326797386 and parameters: {'k': 28}. Best is trial 5 with value: 0.6209150326797386.\n",
      "[I 2025-02-25 17:09:05,779] Trial 6 finished with value: 0.5882352941176471 and parameters: {'k': 39}. Best is trial 5 with value: 0.6209150326797386.\n",
      "[I 2025-02-25 17:09:05,790] Trial 7 finished with value: 0.6034858387799564 and parameters: {'k': 32}. Best is trial 5 with value: 0.6209150326797386.\n",
      "[I 2025-02-25 17:09:05,800] Trial 8 finished with value: 0.5791575889615106 and parameters: {'k': 23}. Best is trial 5 with value: 0.6209150326797386.\n",
      "[I 2025-02-25 17:09:05,810] Trial 9 finished with value: 0.5806100217864923 and parameters: {'k': 5}. Best is trial 5 with value: 0.6209150326797386.\n",
      "[I 2025-02-25 17:09:05,821] Trial 10 finished with value: 0.6100217864923747 and parameters: {'k': 34}. Best is trial 5 with value: 0.6209150326797386.\n",
      "[I 2025-02-25 17:09:05,833] Trial 11 finished with value: 0.6022149600580973 and parameters: {'k': 36}. Best is trial 5 with value: 0.6209150326797386.\n",
      "[I 2025-02-25 17:09:05,869] Trial 12 finished with value: 0.5931372549019608 and parameters: {'k': 27}. Best is trial 5 with value: 0.6209150326797386.\n",
      "[I 2025-02-25 17:09:05,893] Trial 13 finished with value: 0.5976761074800291 and parameters: {'k': 35}. Best is trial 5 with value: 0.6209150326797386.\n",
      "[I 2025-02-25 17:09:05,909] Trial 14 finished with value: 0.5873275236020334 and parameters: {'k': 19}. Best is trial 5 with value: 0.6209150326797386.\n",
      "[I 2025-02-25 17:09:05,925] Trial 15 finished with value: 0.583514887436456 and parameters: {'k': 8}. Best is trial 5 with value: 0.6209150326797386.\n",
      "[I 2025-02-25 17:09:05,941] Trial 16 finished with value: 0.6160130718954249 and parameters: {'k': 15}. Best is trial 5 with value: 0.6209150326797386.\n",
      "[I 2025-02-25 17:09:05,954] Trial 17 finished with value: 0.6494190268700072 and parameters: {'k': 46}. Best is trial 17 with value: 0.6494190268700072.\n",
      "[I 2025-02-25 17:09:05,967] Trial 18 finished with value: 0.6652142338416848 and parameters: {'k': 49}. Best is trial 18 with value: 0.6652142338416848.\n",
      "[I 2025-02-25 17:09:05,992] Trial 19 finished with value: 0.6045751633986929 and parameters: {'k': 30}. Best is trial 18 with value: 0.6652142338416848.\n",
      "[I 2025-02-25 17:09:06,004] Trial 20 finished with value: 0.6102033405954975 and parameters: {'k': 16}. Best is trial 18 with value: 0.6652142338416848.\n",
      "[I 2025-02-25 17:09:06,020] Trial 21 finished with value: 0.6034858387799564 and parameters: {'k': 31}. Best is trial 18 with value: 0.6652142338416848.\n",
      "[I 2025-02-25 17:09:06,033] Trial 22 finished with value: 0.6198257080610021 and parameters: {'k': 33}. Best is trial 18 with value: 0.6652142338416848.\n",
      "[I 2025-02-25 17:09:06,047] Trial 23 finished with value: 0.5905954974582426 and parameters: {'k': 17}. Best is trial 18 with value: 0.6652142338416848.\n",
      "[I 2025-02-25 17:09:06,061] Trial 24 finished with value: 0.6107480029048656 and parameters: {'k': 43}. Best is trial 18 with value: 0.6652142338416848.\n",
      "[I 2025-02-25 17:09:06,074] Trial 25 finished with value: 0.5744371822803195 and parameters: {'k': 21}. Best is trial 18 with value: 0.6652142338416848.\n",
      "[I 2025-02-25 17:09:06,089] Trial 26 finished with value: 0.6318082788671023 and parameters: {'k': 44}. Best is trial 18 with value: 0.6652142338416848.\n",
      "[I 2025-02-25 17:09:06,102] Trial 27 finished with value: 0.5793391430646333 and parameters: {'k': 9}. Best is trial 18 with value: 0.6652142338416848.\n",
      "[I 2025-02-25 17:09:06,117] Trial 28 finished with value: 0.5858750907770516 and parameters: {'k': 14}. Best is trial 18 with value: 0.6652142338416848.\n",
      "[I 2025-02-25 17:09:06,131] Trial 29 finished with value: 0.5964052287581699 and parameters: {'k': 26}. Best is trial 18 with value: 0.6652142338416848.\n",
      "[I 2025-02-25 17:09:06,145] Trial 30 finished with value: 0.5718954248366013 and parameters: {'k': 6}. Best is trial 18 with value: 0.6652142338416848.\n",
      "[I 2025-02-25 17:09:06,160] Trial 31 finished with value: 0.5635439360929557 and parameters: {'k': 18}. Best is trial 18 with value: 0.6652142338416848.\n",
      "[I 2025-02-25 17:09:06,175] Trial 32 finished with value: 0.5896877269426289 and parameters: {'k': 41}. Best is trial 18 with value: 0.6652142338416848.\n",
      "[I 2025-02-25 17:09:06,195] Trial 33 finished with value: 0.661038489469862 and parameters: {'k': 50}. Best is trial 18 with value: 0.6652142338416848.\n",
      "[I 2025-02-25 17:09:06,209] Trial 34 finished with value: 0.5964052287581699 and parameters: {'k': 2}. Best is trial 18 with value: 0.6652142338416848.\n",
      "[I 2025-02-25 17:09:06,224] Trial 35 finished with value: 0.5867828612926651 and parameters: {'k': 13}. Best is trial 18 with value: 0.6652142338416848.\n",
      "[I 2025-02-25 17:09:06,240] Trial 36 finished with value: 0.5895061728395061 and parameters: {'k': 38}. Best is trial 18 with value: 0.6652142338416848.\n",
      "[I 2025-02-25 17:09:06,257] Trial 37 finished with value: 0.5945896877269425 and parameters: {'k': 25}. Best is trial 18 with value: 0.6652142338416848.\n",
      "[I 2025-02-25 17:09:06,273] Trial 38 finished with value: 0.5904139433551199 and parameters: {'k': 7}. Best is trial 18 with value: 0.6652142338416848.\n",
      "[I 2025-02-25 17:09:06,290] Trial 39 finished with value: 0.571350762527233 and parameters: {'k': 24}. Best is trial 18 with value: 0.6652142338416848.\n",
      "[I 2025-02-25 17:09:06,306] Trial 40 finished with value: 0.5982207697893972 and parameters: {'k': 37}. Best is trial 18 with value: 0.6652142338416848.\n",
      "[I 2025-02-25 17:09:06,330] Trial 41 finished with value: 0.5557371096586783 and parameters: {'k': 22}. Best is trial 18 with value: 0.6652142338416848.\n",
      "[I 2025-02-25 17:09:06,347] Trial 42 finished with value: 0.5777051561365287 and parameters: {'k': 20}. Best is trial 18 with value: 0.6652142338416848.\n",
      "[I 2025-02-25 17:09:06,364] Trial 43 finished with value: 0.5644517066085694 and parameters: {'k': 10}. Best is trial 18 with value: 0.6652142338416848.\n",
      "[I 2025-02-25 17:09:06,381] Trial 44 finished with value: 0.595679012345679 and parameters: {'k': 40}. Best is trial 18 with value: 0.6652142338416848.\n",
      "[I 2025-02-25 17:09:06,399] Trial 45 finished with value: 0.6506899055918663 and parameters: {'k': 47}. Best is trial 18 with value: 0.6652142338416848.\n",
      "[I 2025-02-25 17:09:06,416] Trial 46 finished with value: 0.5951343500363108 and parameters: {'k': 4}. Best is trial 18 with value: 0.6652142338416848.\n",
      "[I 2025-02-25 17:09:06,432] Trial 47 finished with value: 0.4934640522875817 and parameters: {'k': 1}. Best is trial 18 with value: 0.6652142338416848.\n",
      "[I 2025-02-25 17:09:06,453] Trial 48 finished with value: 0.6481481481481481 and parameters: {'k': 48}. Best is trial 18 with value: 0.6652142338416848.\n",
      "[I 2025-02-25 17:09:06,472] Trial 49 finished with value: 0.632716049382716 and parameters: {'k': 45}. Best is trial 18 with value: 0.6652142338416848.\n",
      "[I 2025-02-25 17:09:06,493] A new study created in memory with name: no-name-d1ecc22d-2234-42d7-8bf0-282b5fa3b912\n",
      "[I 2025-02-25 17:09:06,503] Trial 0 finished with value: 0.5467097532314924 and parameters: {'k': 29}. Best is trial 0 with value: 0.5467097532314924.\n",
      "[I 2025-02-25 17:09:06,512] Trial 1 finished with value: 0.5017626321974149 and parameters: {'k': 12}. Best is trial 0 with value: 0.5467097532314924.\n",
      "[I 2025-02-25 17:09:06,521] Trial 2 finished with value: 0.5264394829612221 and parameters: {'k': 11}. Best is trial 0 with value: 0.5467097532314924.\n",
      "[I 2025-02-25 17:09:06,530] Trial 3 finished with value: 0.5001468860164513 and parameters: {'k': 42}. Best is trial 0 with value: 0.5467097532314924.\n",
      "[I 2025-02-25 17:09:06,539] Trial 4 finished with value: 0.512632197414806 and parameters: {'k': 3}. Best is trial 0 with value: 0.5467097532314924.\n",
      "[I 2025-02-25 17:09:06,549] Trial 5 finished with value: 0.5481786133960047 and parameters: {'k': 28}. Best is trial 5 with value: 0.5481786133960047.\n",
      "[I 2025-02-25 17:09:06,560] Trial 6 finished with value: 0.5094007050528789 and parameters: {'k': 39}. Best is trial 5 with value: 0.5481786133960047.\n",
      "[I 2025-02-25 17:09:06,572] Trial 7 finished with value: 0.5317273795534665 and parameters: {'k': 32}. Best is trial 5 with value: 0.5481786133960047.\n",
      "[I 2025-02-25 17:09:06,583] Trial 8 finished with value: 0.5550822561692127 and parameters: {'k': 23}. Best is trial 8 with value: 0.5550822561692127.\n",
      "[I 2025-02-25 17:09:06,599] Trial 9 finished with value: 0.45813748531139836 and parameters: {'k': 5}. Best is trial 8 with value: 0.5550822561692127.\n",
      "[I 2025-02-25 17:09:06,614] Trial 10 finished with value: 0.529524089306698 and parameters: {'k': 34}. Best is trial 8 with value: 0.5550822561692127.\n",
      "[I 2025-02-25 17:09:06,625] Trial 11 finished with value: 0.5145417156286721 and parameters: {'k': 36}. Best is trial 8 with value: 0.5550822561692127.\n",
      "[I 2025-02-25 17:09:06,636] Trial 12 finished with value: 0.5543478260869565 and parameters: {'k': 27}. Best is trial 8 with value: 0.5550822561692127.\n",
      "[I 2025-02-25 17:09:06,697] Trial 13 finished with value: 0.5124853113983548 and parameters: {'k': 35}. Best is trial 8 with value: 0.5550822561692127.\n",
      "[I 2025-02-25 17:09:06,717] Trial 14 finished with value: 0.5636016451233843 and parameters: {'k': 19}. Best is trial 14 with value: 0.5636016451233843.\n",
      "[I 2025-02-25 17:09:06,737] Trial 15 finished with value: 0.5318742655699178 and parameters: {'k': 8}. Best is trial 14 with value: 0.5636016451233843.\n",
      "[I 2025-02-25 17:09:06,755] Trial 16 finished with value: 0.532021151586369 and parameters: {'k': 15}. Best is trial 14 with value: 0.5636016451233843.\n",
      "[I 2025-02-25 17:09:06,783] Trial 17 finished with value: 0.4963278495887191 and parameters: {'k': 46}. Best is trial 14 with value: 0.5636016451233843.\n",
      "[I 2025-02-25 17:09:06,795] Trial 18 finished with value: 0.4803172737955346 and parameters: {'k': 49}. Best is trial 14 with value: 0.5636016451233843.\n",
      "[I 2025-02-25 17:09:06,808] Trial 19 finished with value: 0.5373090481786134 and parameters: {'k': 30}. Best is trial 14 with value: 0.5636016451233843.\n",
      "[I 2025-02-25 17:09:06,820] Trial 20 finished with value: 0.563454759106933 and parameters: {'k': 16}. Best is trial 14 with value: 0.5636016451233843.\n",
      "[I 2025-02-25 17:09:06,833] Trial 21 finished with value: 0.5395123384253819 and parameters: {'k': 31}. Best is trial 14 with value: 0.5636016451233843.\n",
      "[I 2025-02-25 17:09:06,846] Trial 22 finished with value: 0.5312867215041128 and parameters: {'k': 33}. Best is trial 14 with value: 0.5636016451233843.\n",
      "[I 2025-02-25 17:09:06,859] Trial 23 finished with value: 0.5703584018801411 and parameters: {'k': 17}. Best is trial 23 with value: 0.5703584018801411.\n",
      "[I 2025-02-25 17:09:06,872] Trial 24 finished with value: 0.49529964747356053 and parameters: {'k': 43}. Best is trial 23 with value: 0.5703584018801411.\n",
      "[I 2025-02-25 17:09:06,886] Trial 25 finished with value: 0.5647767332549941 and parameters: {'k': 21}. Best is trial 23 with value: 0.5703584018801411.\n",
      "[I 2025-02-25 17:09:06,900] Trial 26 finished with value: 0.4951527614571093 and parameters: {'k': 44}. Best is trial 23 with value: 0.5703584018801411.\n",
      "[I 2025-02-25 17:09:06,915] Trial 27 finished with value: 0.5486192714453583 and parameters: {'k': 9}. Best is trial 23 with value: 0.5703584018801411.\n",
      "[I 2025-02-25 17:09:06,931] Trial 28 finished with value: 0.5212984723854288 and parameters: {'k': 14}. Best is trial 23 with value: 0.5703584018801411.\n",
      "[I 2025-02-25 17:09:06,979] Trial 29 finished with value: 0.5321680376028203 and parameters: {'k': 26}. Best is trial 23 with value: 0.5703584018801411.\n",
      "[I 2025-02-25 17:09:06,993] Trial 30 finished with value: 0.484283196239718 and parameters: {'k': 6}. Best is trial 23 with value: 0.5703584018801411.\n",
      "[I 2025-02-25 17:09:07,017] Trial 31 finished with value: 0.5781433607520564 and parameters: {'k': 18}. Best is trial 31 with value: 0.5781433607520564.\n",
      "[I 2025-02-25 17:09:07,037] Trial 32 finished with value: 0.4992655699177438 and parameters: {'k': 41}. Best is trial 31 with value: 0.5781433607520564.\n",
      "[I 2025-02-25 17:09:07,053] Trial 33 finished with value: 0.4870740305522914 and parameters: {'k': 50}. Best is trial 31 with value: 0.5781433607520564.\n",
      "[I 2025-02-25 17:09:07,078] Trial 34 finished with value: 0.5362808460634547 and parameters: {'k': 2}. Best is trial 31 with value: 0.5781433607520564.\n",
      "[I 2025-02-25 17:09:07,093] Trial 35 finished with value: 0.5240893066980024 and parameters: {'k': 13}. Best is trial 31 with value: 0.5781433607520564.\n",
      "[I 2025-02-25 17:09:07,109] Trial 36 finished with value: 0.5123384253819037 and parameters: {'k': 38}. Best is trial 31 with value: 0.5781433607520564.\n",
      "[I 2025-02-25 17:09:07,129] Trial 37 finished with value: 0.5449471210340776 and parameters: {'k': 25}. Best is trial 31 with value: 0.5781433607520564.\n",
      "[I 2025-02-25 17:09:07,145] Trial 38 finished with value: 0.5367215041128085 and parameters: {'k': 7}. Best is trial 31 with value: 0.5781433607520564.\n",
      "[I 2025-02-25 17:09:07,161] Trial 39 finished with value: 0.5362808460634548 and parameters: {'k': 24}. Best is trial 31 with value: 0.5781433607520564.\n",
      "[I 2025-02-25 17:09:07,178] Trial 40 finished with value: 0.5085193889541715 and parameters: {'k': 37}. Best is trial 31 with value: 0.5781433607520564.\n",
      "[I 2025-02-25 17:09:07,196] Trial 41 finished with value: 0.5697708578143361 and parameters: {'k': 22}. Best is trial 31 with value: 0.5781433607520564.\n",
      "[I 2025-02-25 17:09:07,213] Trial 42 finished with value: 0.5791715628672149 and parameters: {'k': 20}. Best is trial 42 with value: 0.5791715628672149.\n",
      "[I 2025-02-25 17:09:07,230] Trial 43 finished with value: 0.547737955346651 and parameters: {'k': 10}. Best is trial 42 with value: 0.5791715628672149.\n",
      "[I 2025-02-25 17:09:07,247] Trial 44 finished with value: 0.5047003525264394 and parameters: {'k': 40}. Best is trial 42 with value: 0.5791715628672149.\n",
      "[I 2025-02-25 17:09:07,271] Trial 45 finished with value: 0.4807579318448883 and parameters: {'k': 47}. Best is trial 42 with value: 0.5791715628672149.\n",
      "[I 2025-02-25 17:09:07,288] Trial 46 finished with value: 0.46841950646298475 and parameters: {'k': 4}. Best is trial 42 with value: 0.5791715628672149.\n",
      "[I 2025-02-25 17:09:07,305] Trial 47 finished with value: 0.5164512338425382 and parameters: {'k': 1}. Best is trial 42 with value: 0.5791715628672149.\n",
      "[I 2025-02-25 17:09:07,329] Trial 48 finished with value: 0.48075793184488835 and parameters: {'k': 48}. Best is trial 42 with value: 0.5791715628672149.\n",
      "[I 2025-02-25 17:09:07,351] Trial 49 finished with value: 0.4995593419506462 and parameters: {'k': 45}. Best is trial 42 with value: 0.5791715628672149.\n",
      "[I 2025-02-25 17:09:07,378] A new study created in memory with name: no-name-ff07be8e-bccd-4e21-89a4-6ac62f288158\n",
      "[I 2025-02-25 17:09:07,389] Trial 0 finished with value: 0.6615737203972497 and parameters: {'k': 29}. Best is trial 0 with value: 0.6615737203972497.\n",
      "[I 2025-02-25 17:09:07,399] Trial 1 finished with value: 0.645912910618793 and parameters: {'k': 12}. Best is trial 0 with value: 0.6615737203972497.\n",
      "[I 2025-02-25 17:09:07,409] Trial 2 finished with value: 0.6399923605805959 and parameters: {'k': 11}. Best is trial 0 with value: 0.6615737203972497.\n",
      "[I 2025-02-25 17:09:07,419] Trial 3 finished with value: 0.6548892284186402 and parameters: {'k': 42}. Best is trial 0 with value: 0.6615737203972497.\n",
      "[I 2025-02-25 17:09:07,428] Trial 4 finished with value: 0.6168831168831169 and parameters: {'k': 3}. Best is trial 0 with value: 0.6615737203972497.\n",
      "[I 2025-02-25 17:09:07,438] Trial 5 finished with value: 0.6596638655462186 and parameters: {'k': 28}. Best is trial 0 with value: 0.6615737203972497.\n",
      "[I 2025-02-25 17:09:07,448] Trial 6 finished with value: 0.6440030557677616 and parameters: {'k': 39}. Best is trial 0 with value: 0.6615737203972497.\n",
      "[I 2025-02-25 17:09:07,458] Trial 7 finished with value: 0.6663483575248281 and parameters: {'k': 32}. Best is trial 7 with value: 0.6663483575248281.\n",
      "[I 2025-02-25 17:09:07,469] Trial 8 finished with value: 0.6665393430099313 and parameters: {'k': 23}. Best is trial 8 with value: 0.6665393430099313.\n",
      "[I 2025-02-25 17:09:07,479] Trial 9 finished with value: 0.6268143621084799 and parameters: {'k': 5}. Best is trial 8 with value: 0.6665393430099313.\n",
      "[I 2025-02-25 17:09:07,490] Trial 10 finished with value: 0.6485867074102368 and parameters: {'k': 34}. Best is trial 8 with value: 0.6665393430099313.\n",
      "[I 2025-02-25 17:09:07,502] Trial 11 finished with value: 0.6527883880825057 and parameters: {'k': 36}. Best is trial 8 with value: 0.6665393430099313.\n",
      "[I 2025-02-25 17:09:07,513] Trial 12 finished with value: 0.6428571428571428 and parameters: {'k': 27}. Best is trial 8 with value: 0.6665393430099313.\n",
      "[I 2025-02-25 17:09:07,525] Trial 13 finished with value: 0.6455309396485867 and parameters: {'k': 35}. Best is trial 8 with value: 0.6665393430099313.\n",
      "[I 2025-02-25 17:09:07,536] Trial 14 finished with value: 0.6900305576776165 and parameters: {'k': 19}. Best is trial 14 with value: 0.6900305576776165.\n",
      "[I 2025-02-25 17:09:07,547] Trial 15 finished with value: 0.6247135217723453 and parameters: {'k': 8}. Best is trial 14 with value: 0.6900305576776165.\n",
      "[I 2025-02-25 17:09:07,559] Trial 16 finished with value: 0.6499236058059588 and parameters: {'k': 15}. Best is trial 14 with value: 0.6900305576776165.\n",
      "[I 2025-02-25 17:09:07,572] Trial 17 finished with value: 0.6953781512605042 and parameters: {'k': 46}. Best is trial 17 with value: 0.6953781512605042.\n",
      "[I 2025-02-25 17:09:07,585] Trial 18 finished with value: 0.6848739495798319 and parameters: {'k': 49}. Best is trial 17 with value: 0.6953781512605042.\n",
      "[I 2025-02-25 17:09:07,597] Trial 19 finished with value: 0.6770435446906035 and parameters: {'k': 30}. Best is trial 17 with value: 0.6953781512605042.\n",
      "[I 2025-02-25 17:09:07,614] Trial 20 finished with value: 0.6602368220015279 and parameters: {'k': 16}. Best is trial 17 with value: 0.6953781512605042.\n",
      "[I 2025-02-25 17:09:07,627] Trial 21 finished with value: 0.6808632543926662 and parameters: {'k': 31}. Best is trial 17 with value: 0.6953781512605042.\n",
      "[I 2025-02-25 17:09:07,640] Trial 22 finished with value: 0.6587089381207029 and parameters: {'k': 33}. Best is trial 17 with value: 0.6953781512605042.\n",
      "[I 2025-02-25 17:09:07,654] Trial 23 finished with value: 0.6770435446906035 and parameters: {'k': 17}. Best is trial 17 with value: 0.6953781512605042.\n",
      "[I 2025-02-25 17:09:07,667] Trial 24 finished with value: 0.6716959511077158 and parameters: {'k': 43}. Best is trial 17 with value: 0.6953781512605042.\n",
      "[I 2025-02-25 17:09:07,682] Trial 25 finished with value: 0.6697860962566845 and parameters: {'k': 21}. Best is trial 17 with value: 0.6953781512605042.\n",
      "[I 2025-02-25 17:09:07,696] Trial 26 finished with value: 0.6802902979373567 and parameters: {'k': 44}. Best is trial 17 with value: 0.6953781512605042.\n",
      "[I 2025-02-25 17:09:07,710] Trial 27 finished with value: 0.6037051184110007 and parameters: {'k': 9}. Best is trial 17 with value: 0.6953781512605042.\n",
      "[I 2025-02-25 17:09:07,724] Trial 28 finished with value: 0.6646294881589 and parameters: {'k': 14}. Best is trial 17 with value: 0.6953781512605042.\n",
      "[I 2025-02-25 17:09:07,738] Trial 29 finished with value: 0.6336898395721926 and parameters: {'k': 26}. Best is trial 17 with value: 0.6953781512605042.\n",
      "[I 2025-02-25 17:09:07,752] Trial 30 finished with value: 0.5979755538579068 and parameters: {'k': 6}. Best is trial 17 with value: 0.6953781512605042.\n",
      "[I 2025-02-25 17:09:07,767] Trial 31 finished with value: 0.6963330786860198 and parameters: {'k': 18}. Best is trial 31 with value: 0.6963330786860198.\n",
      "[I 2025-02-25 17:09:07,782] Trial 32 finished with value: 0.6501145912910619 and parameters: {'k': 41}. Best is trial 31 with value: 0.6963330786860198.\n",
      "[I 2025-02-25 17:09:07,797] Trial 33 finished with value: 0.6909854851031322 and parameters: {'k': 50}. Best is trial 31 with value: 0.6963330786860198.\n",
      "[I 2025-02-25 17:09:07,811] Trial 34 finished with value: 0.6247135217723453 and parameters: {'k': 2}. Best is trial 31 with value: 0.6963330786860198.\n",
      "[I 2025-02-25 17:09:07,826] Trial 35 finished with value: 0.6432391138273491 and parameters: {'k': 13}. Best is trial 31 with value: 0.6963330786860198.\n",
      "[I 2025-02-25 17:09:07,842] Trial 36 finished with value: 0.6449579831932772 and parameters: {'k': 38}. Best is trial 31 with value: 0.6963330786860198.\n",
      "[I 2025-02-25 17:09:07,858] Trial 37 finished with value: 0.6588999236058058 and parameters: {'k': 25}. Best is trial 31 with value: 0.6963330786860198.\n",
      "[I 2025-02-25 17:09:07,874] Trial 38 finished with value: 0.5767761650114591 and parameters: {'k': 7}. Best is trial 31 with value: 0.6963330786860198.\n",
      "[I 2025-02-25 17:09:07,890] Trial 39 finished with value: 0.6634835752482812 and parameters: {'k': 24}. Best is trial 31 with value: 0.6963330786860198.\n",
      "[I 2025-02-25 17:09:07,906] Trial 40 finished with value: 0.6493506493506493 and parameters: {'k': 37}. Best is trial 31 with value: 0.6963330786860198.\n",
      "[I 2025-02-25 17:09:07,923] Trial 41 finished with value: 0.6648204736440031 and parameters: {'k': 22}. Best is trial 31 with value: 0.6963330786860198.\n",
      "[I 2025-02-25 17:09:07,939] Trial 42 finished with value: 0.6841100076394194 and parameters: {'k': 20}. Best is trial 31 with value: 0.6963330786860198.\n",
      "[I 2025-02-25 17:09:07,956] Trial 43 finished with value: 0.6461038961038961 and parameters: {'k': 10}. Best is trial 31 with value: 0.6963330786860198.\n",
      "[I 2025-02-25 17:09:07,974] Trial 44 finished with value: 0.650305576776165 and parameters: {'k': 40}. Best is trial 31 with value: 0.6963330786860198.\n",
      "[I 2025-02-25 17:09:07,991] Trial 45 finished with value: 0.6928953399541635 and parameters: {'k': 47}. Best is trial 31 with value: 0.6963330786860198.\n",
      "[I 2025-02-25 17:09:08,008] Trial 46 finished with value: 0.5846065699006875 and parameters: {'k': 4}. Best is trial 31 with value: 0.6963330786860198.\n",
      "[I 2025-02-25 17:09:08,024] Trial 47 finished with value: 0.6016042780748664 and parameters: {'k': 1}. Best is trial 31 with value: 0.6963330786860198.\n",
      "[I 2025-02-25 17:09:08,043] Trial 48 finished with value: 0.6997708174178762 and parameters: {'k': 48}. Best is trial 48 with value: 0.6997708174178762.\n",
      "[I 2025-02-25 17:09:08,062] Trial 49 finished with value: 0.6776165011459129 and parameters: {'k': 45}. Best is trial 48 with value: 0.6997708174178762.\n",
      "[I 2025-02-25 17:09:08,190] A new study created in memory with name: no-name-9ed76e11-0c46-4370-905d-652a93bf21e7\n",
      "[I 2025-02-25 17:09:08,208] Trial 0 finished with value: 0.5860457063711911 and parameters: {'k': 29}. Best is trial 0 with value: 0.5860457063711911.\n",
      "[I 2025-02-25 17:09:08,228] Trial 1 finished with value: 0.5114265927977839 and parameters: {'k': 12}. Best is trial 0 with value: 0.5860457063711911.\n",
      "[I 2025-02-25 17:09:08,265] Trial 2 finished with value: 0.5277008310249307 and parameters: {'k': 11}. Best is trial 0 with value: 0.5860457063711911.\n",
      "[I 2025-02-25 17:09:08,289] Trial 3 finished with value: 0.5960872576177285 and parameters: {'k': 42}. Best is trial 3 with value: 0.5960872576177285.\n",
      "[I 2025-02-25 17:09:08,312] Trial 4 finished with value: 0.528393351800554 and parameters: {'k': 3}. Best is trial 3 with value: 0.5960872576177285.\n",
      "[I 2025-02-25 17:09:08,345] Trial 5 finished with value: 0.5851800554016621 and parameters: {'k': 28}. Best is trial 3 with value: 0.5960872576177285.\n",
      "[I 2025-02-25 17:09:08,369] Trial 6 finished with value: 0.5863919667590027 and parameters: {'k': 39}. Best is trial 3 with value: 0.5960872576177285.\n",
      "[I 2025-02-25 17:09:08,390] Trial 7 finished with value: 0.5786011080332409 and parameters: {'k': 32}. Best is trial 3 with value: 0.5960872576177285.\n",
      "[I 2025-02-25 17:09:08,411] Trial 8 finished with value: 0.5500346260387811 and parameters: {'k': 23}. Best is trial 3 with value: 0.5960872576177285.\n",
      "[I 2025-02-25 17:09:08,432] Trial 9 finished with value: 0.5528047091412742 and parameters: {'k': 5}. Best is trial 3 with value: 0.5960872576177285.\n",
      "[I 2025-02-25 17:09:08,454] Trial 10 finished with value: 0.5992036011080332 and parameters: {'k': 34}. Best is trial 10 with value: 0.5992036011080332.\n",
      "[I 2025-02-25 17:09:08,476] Trial 11 finished with value: 0.5905470914127424 and parameters: {'k': 36}. Best is trial 10 with value: 0.5992036011080332.\n",
      "[I 2025-02-25 17:09:08,498] Trial 12 finished with value: 0.565270083102493 and parameters: {'k': 27}. Best is trial 10 with value: 0.5992036011080332.\n",
      "[I 2025-02-25 17:09:08,520] Trial 13 finished with value: 0.5817174515235457 and parameters: {'k': 35}. Best is trial 10 with value: 0.5992036011080332.\n",
      "[I 2025-02-25 17:09:08,542] Trial 14 finished with value: 0.522680055401662 and parameters: {'k': 19}. Best is trial 10 with value: 0.5992036011080332.\n",
      "[I 2025-02-25 17:09:08,564] Trial 15 finished with value: 0.5335872576177285 and parameters: {'k': 8}. Best is trial 10 with value: 0.5992036011080332.\n",
      "[I 2025-02-25 17:09:08,587] Trial 16 finished with value: 0.5129847645429363 and parameters: {'k': 15}. Best is trial 10 with value: 0.5992036011080332.\n",
      "[I 2025-02-25 17:09:08,610] Trial 17 finished with value: 0.5964335180055401 and parameters: {'k': 46}. Best is trial 10 with value: 0.5992036011080332.\n",
      "[I 2025-02-25 17:09:08,633] Trial 18 finished with value: 0.5938365650969528 and parameters: {'k': 49}. Best is trial 10 with value: 0.5992036011080332.\n",
      "[I 2025-02-25 17:09:08,656] Trial 19 finished with value: 0.5789473684210527 and parameters: {'k': 30}. Best is trial 10 with value: 0.5992036011080332.\n",
      "[I 2025-02-25 17:09:08,679] Trial 20 finished with value: 0.5029432132963989 and parameters: {'k': 16}. Best is trial 10 with value: 0.5992036011080332.\n",
      "[I 2025-02-25 17:09:08,703] Trial 21 finished with value: 0.5801592797783934 and parameters: {'k': 31}. Best is trial 10 with value: 0.5992036011080332.\n",
      "[I 2025-02-25 17:09:08,726] Trial 22 finished with value: 0.597472299168975 and parameters: {'k': 33}. Best is trial 10 with value: 0.5992036011080332.\n",
      "[I 2025-02-25 17:09:08,750] Trial 23 finished with value: 0.5277008310249307 and parameters: {'k': 17}. Best is trial 10 with value: 0.5992036011080332.\n",
      "[I 2025-02-25 17:09:08,774] Trial 24 finished with value: 0.5924515235457064 and parameters: {'k': 43}. Best is trial 10 with value: 0.5992036011080332.\n",
      "[I 2025-02-25 17:09:08,798] Trial 25 finished with value: 0.5186980609418282 and parameters: {'k': 21}. Best is trial 10 with value: 0.5992036011080332.\n",
      "[I 2025-02-25 17:09:08,834] Trial 26 finished with value: 0.6012811634349031 and parameters: {'k': 44}. Best is trial 26 with value: 0.6012811634349031.\n",
      "[I 2025-02-25 17:09:08,859] Trial 27 finished with value: 0.5308171745152355 and parameters: {'k': 9}. Best is trial 26 with value: 0.6012811634349031.\n",
      "[I 2025-02-25 17:09:08,884] Trial 28 finished with value: 0.5020775623268697 and parameters: {'k': 14}. Best is trial 26 with value: 0.6012811634349031.\n",
      "[I 2025-02-25 17:09:08,920] Trial 29 finished with value: 0.55297783933518 and parameters: {'k': 26}. Best is trial 26 with value: 0.6012811634349031.\n",
      "[I 2025-02-25 17:09:08,945] Trial 30 finished with value: 0.5408587257617729 and parameters: {'k': 6}. Best is trial 26 with value: 0.6012811634349031.\n",
      "[I 2025-02-25 17:09:08,970] Trial 31 finished with value: 0.5256232686980609 and parameters: {'k': 18}. Best is trial 26 with value: 0.6012811634349031.\n",
      "[I 2025-02-25 17:09:08,996] Trial 32 finished with value: 0.6037049861495845 and parameters: {'k': 41}. Best is trial 32 with value: 0.6037049861495845.\n",
      "[I 2025-02-25 17:09:09,030] Trial 33 finished with value: 0.586045706371191 and parameters: {'k': 50}. Best is trial 32 with value: 0.6037049861495845.\n",
      "[I 2025-02-25 17:09:09,058] Trial 34 finished with value: 0.5221606648199445 and parameters: {'k': 2}. Best is trial 32 with value: 0.6037049861495845.\n",
      "[I 2025-02-25 17:09:09,084] Trial 35 finished with value: 0.5010387811634348 and parameters: {'k': 13}. Best is trial 32 with value: 0.6037049861495845.\n",
      "[I 2025-02-25 17:09:09,110] Trial 36 finished with value: 0.5972991689750692 and parameters: {'k': 38}. Best is trial 32 with value: 0.6037049861495845.\n",
      "[I 2025-02-25 17:09:09,137] Trial 37 finished with value: 0.5631925207756233 and parameters: {'k': 25}. Best is trial 32 with value: 0.6037049861495845.\n",
      "[I 2025-02-25 17:09:09,163] Trial 38 finished with value: 0.534106648199446 and parameters: {'k': 7}. Best is trial 32 with value: 0.6037049861495845.\n",
      "[I 2025-02-25 17:09:09,197] Trial 39 finished with value: 0.5680401662049862 and parameters: {'k': 24}. Best is trial 32 with value: 0.6037049861495845.\n",
      "[I 2025-02-25 17:09:09,224] Trial 40 finished with value: 0.5818905817174516 and parameters: {'k': 37}. Best is trial 32 with value: 0.6037049861495845.\n",
      "[I 2025-02-25 17:09:09,250] Trial 41 finished with value: 0.5391274238227146 and parameters: {'k': 22}. Best is trial 32 with value: 0.6037049861495845.\n",
      "[I 2025-02-25 17:09:09,283] Trial 42 finished with value: 0.5129847645429363 and parameters: {'k': 20}. Best is trial 32 with value: 0.6037049861495845.\n",
      "[I 2025-02-25 17:09:09,323] Trial 43 finished with value: 0.5602493074792244 and parameters: {'k': 10}. Best is trial 32 with value: 0.6037049861495845.\n",
      "[I 2025-02-25 17:09:09,359] Trial 44 finished with value: 0.5874307479224377 and parameters: {'k': 40}. Best is trial 32 with value: 0.6037049861495845.\n",
      "[I 2025-02-25 17:09:09,388] Trial 45 finished with value: 0.5959141274238227 and parameters: {'k': 47}. Best is trial 32 with value: 0.6037049861495845.\n",
      "[I 2025-02-25 17:09:09,415] Trial 46 finished with value: 0.5259695290858727 and parameters: {'k': 4}. Best is trial 32 with value: 0.6037049861495845.\n",
      "[I 2025-02-25 17:09:09,442] Trial 47 finished with value: 0.47039473684210525 and parameters: {'k': 1}. Best is trial 32 with value: 0.6037049861495845.\n",
      "[I 2025-02-25 17:09:09,494] Trial 48 finished with value: 0.585180055401662 and parameters: {'k': 48}. Best is trial 32 with value: 0.6037049861495845.\n",
      "[I 2025-02-25 17:09:09,523] Trial 49 finished with value: 0.5898545706371191 and parameters: {'k': 45}. Best is trial 32 with value: 0.6037049861495845.\n",
      "[I 2025-02-25 17:09:09,569] A new study created in memory with name: no-name-6fc675fc-cb6b-4495-a86c-dbeae8ee585a\n",
      "[I 2025-02-25 17:09:09,591] Trial 0 finished with value: 0.726281163434903 and parameters: {'k': 29}. Best is trial 0 with value: 0.726281163434903.\n",
      "[I 2025-02-25 17:09:09,611] Trial 1 finished with value: 0.5955678670360112 and parameters: {'k': 12}. Best is trial 0 with value: 0.726281163434903.\n",
      "[I 2025-02-25 17:09:09,631] Trial 2 finished with value: 0.6101108033240997 and parameters: {'k': 11}. Best is trial 0 with value: 0.726281163434903.\n",
      "[I 2025-02-25 17:09:09,651] Trial 3 finished with value: 0.769909972299169 and parameters: {'k': 42}. Best is trial 3 with value: 0.769909972299169.\n",
      "[I 2025-02-25 17:09:09,671] Trial 4 finished with value: 0.5228531855955678 and parameters: {'k': 3}. Best is trial 3 with value: 0.769909972299169.\n",
      "[I 2025-02-25 17:09:09,691] Trial 5 finished with value: 0.7167590027700831 and parameters: {'k': 28}. Best is trial 3 with value: 0.769909972299169.\n",
      "[I 2025-02-25 17:09:09,713] Trial 6 finished with value: 0.7624653739612188 and parameters: {'k': 39}. Best is trial 3 with value: 0.769909972299169.\n",
      "[I 2025-02-25 17:09:09,734] Trial 7 finished with value: 0.7287049861495846 and parameters: {'k': 32}. Best is trial 3 with value: 0.769909972299169.\n",
      "[I 2025-02-25 17:09:09,755] Trial 8 finished with value: 0.6670706371191136 and parameters: {'k': 23}. Best is trial 3 with value: 0.769909972299169.\n",
      "[I 2025-02-25 17:09:09,776] Trial 9 finished with value: 0.5415512465373962 and parameters: {'k': 5}. Best is trial 3 with value: 0.769909972299169.\n",
      "[I 2025-02-25 17:09:09,798] Trial 10 finished with value: 0.7242036011080333 and parameters: {'k': 34}. Best is trial 3 with value: 0.769909972299169.\n",
      "[I 2025-02-25 17:09:09,820] Trial 11 finished with value: 0.731994459833795 and parameters: {'k': 36}. Best is trial 3 with value: 0.769909972299169.\n",
      "[I 2025-02-25 17:09:09,842] Trial 12 finished with value: 0.6963296398891966 and parameters: {'k': 27}. Best is trial 3 with value: 0.769909972299169.\n",
      "[I 2025-02-25 17:09:09,864] Trial 13 finished with value: 0.7304362880886426 and parameters: {'k': 35}. Best is trial 3 with value: 0.769909972299169.\n",
      "[I 2025-02-25 17:09:09,886] Trial 14 finished with value: 0.6156509695290858 and parameters: {'k': 19}. Best is trial 3 with value: 0.769909972299169.\n",
      "[I 2025-02-25 17:09:09,909] Trial 15 finished with value: 0.597472299168975 and parameters: {'k': 8}. Best is trial 3 with value: 0.769909972299169.\n",
      "[I 2025-02-25 17:09:09,931] Trial 16 finished with value: 0.5668282548476454 and parameters: {'k': 15}. Best is trial 3 with value: 0.769909972299169.\n",
      "[I 2025-02-25 17:09:09,955] Trial 17 finished with value: 0.7607340720221607 and parameters: {'k': 46}. Best is trial 3 with value: 0.769909972299169.\n",
      "[I 2025-02-25 17:09:09,979] Trial 18 finished with value: 0.761426592797784 and parameters: {'k': 49}. Best is trial 3 with value: 0.769909972299169.\n",
      "[I 2025-02-25 17:09:10,002] Trial 19 finished with value: 0.7344182825484764 and parameters: {'k': 30}. Best is trial 3 with value: 0.769909972299169.\n",
      "[I 2025-02-25 17:09:10,028] Trial 20 finished with value: 0.5694252077562327 and parameters: {'k': 16}. Best is trial 3 with value: 0.769909972299169.\n",
      "[I 2025-02-25 17:09:10,055] Trial 21 finished with value: 0.7321675900277008 and parameters: {'k': 31}. Best is trial 3 with value: 0.769909972299169.\n",
      "[I 2025-02-25 17:09:10,079] Trial 22 finished with value: 0.7278393351800554 and parameters: {'k': 33}. Best is trial 3 with value: 0.769909972299169.\n",
      "[I 2025-02-25 17:09:10,103] Trial 23 finished with value: 0.5879501385041552 and parameters: {'k': 17}. Best is trial 3 with value: 0.769909972299169.\n",
      "[I 2025-02-25 17:09:10,127] Trial 24 finished with value: 0.768871191135734 and parameters: {'k': 43}. Best is trial 3 with value: 0.769909972299169.\n",
      "[I 2025-02-25 17:09:10,152] Trial 25 finished with value: 0.638331024930748 and parameters: {'k': 21}. Best is trial 3 with value: 0.769909972299169.\n",
      "[I 2025-02-25 17:09:10,177] Trial 26 finished with value: 0.7693905817174516 and parameters: {'k': 44}. Best is trial 3 with value: 0.769909972299169.\n",
      "[I 2025-02-25 17:09:10,236] Trial 27 finished with value: 0.5794667590027701 and parameters: {'k': 9}. Best is trial 3 with value: 0.769909972299169.\n",
      "[I 2025-02-25 17:09:10,261] Trial 28 finished with value: 0.5749653739612188 and parameters: {'k': 14}. Best is trial 3 with value: 0.769909972299169.\n",
      "[I 2025-02-25 17:09:10,287] Trial 29 finished with value: 0.6923476454293629 and parameters: {'k': 26}. Best is trial 3 with value: 0.769909972299169.\n",
      "[I 2025-02-25 17:09:10,312] Trial 30 finished with value: 0.5834487534626038 and parameters: {'k': 6}. Best is trial 3 with value: 0.769909972299169.\n",
      "[I 2025-02-25 17:09:10,338] Trial 31 finished with value: 0.5938365650969529 and parameters: {'k': 18}. Best is trial 3 with value: 0.769909972299169.\n",
      "[I 2025-02-25 17:09:10,365] Trial 32 finished with value: 0.760387811634349 and parameters: {'k': 41}. Best is trial 3 with value: 0.769909972299169.\n",
      "[I 2025-02-25 17:09:10,393] Trial 33 finished with value: 0.77648891966759 and parameters: {'k': 50}. Best is trial 33 with value: 0.77648891966759.\n",
      "[I 2025-02-25 17:09:10,419] Trial 34 finished with value: 0.5562673130193906 and parameters: {'k': 2}. Best is trial 33 with value: 0.77648891966759.\n",
      "[I 2025-02-25 17:09:10,446] Trial 35 finished with value: 0.5884695290858726 and parameters: {'k': 13}. Best is trial 33 with value: 0.77648891966759.\n",
      "[I 2025-02-25 17:09:10,474] Trial 36 finished with value: 0.7631578947368421 and parameters: {'k': 38}. Best is trial 33 with value: 0.77648891966759.\n",
      "[I 2025-02-25 17:09:10,502] Trial 37 finished with value: 0.6897506925207756 and parameters: {'k': 25}. Best is trial 33 with value: 0.77648891966759.\n",
      "[I 2025-02-25 17:09:10,578] Trial 38 finished with value: 0.574792243767313 and parameters: {'k': 7}. Best is trial 33 with value: 0.77648891966759.\n",
      "[I 2025-02-25 17:09:10,610] Trial 39 finished with value: 0.6899238227146814 and parameters: {'k': 24}. Best is trial 33 with value: 0.77648891966759.\n",
      "[I 2025-02-25 17:09:10,638] Trial 40 finished with value: 0.7482686980609418 and parameters: {'k': 37}. Best is trial 33 with value: 0.77648891966759.\n",
      "[I 2025-02-25 17:09:10,666] Trial 41 finished with value: 0.6573753462603877 and parameters: {'k': 22}. Best is trial 33 with value: 0.77648891966759.\n",
      "[I 2025-02-25 17:09:10,693] Trial 42 finished with value: 0.6407548476454294 and parameters: {'k': 20}. Best is trial 33 with value: 0.77648891966759.\n",
      "[I 2025-02-25 17:09:10,720] Trial 43 finished with value: 0.6040512465373962 and parameters: {'k': 10}. Best is trial 33 with value: 0.77648891966759.\n",
      "[I 2025-02-25 17:09:10,748] Trial 44 finished with value: 0.7545013850415512 and parameters: {'k': 40}. Best is trial 33 with value: 0.77648891966759.\n",
      "[I 2025-02-25 17:09:10,777] Trial 45 finished with value: 0.7598684210526316 and parameters: {'k': 47}. Best is trial 33 with value: 0.77648891966759.\n",
      "[I 2025-02-25 17:09:10,805] Trial 46 finished with value: 0.53601108033241 and parameters: {'k': 4}. Best is trial 33 with value: 0.77648891966759.\n",
      "[I 2025-02-25 17:09:10,864] Trial 47 finished with value: 0.5427631578947368 and parameters: {'k': 1}. Best is trial 33 with value: 0.77648891966759.\n",
      "[I 2025-02-25 17:09:10,893] Trial 48 finished with value: 0.7685249307479225 and parameters: {'k': 48}. Best is trial 33 with value: 0.77648891966759.\n",
      "[I 2025-02-25 17:09:10,924] Trial 49 finished with value: 0.7693905817174516 and parameters: {'k': 45}. Best is trial 33 with value: 0.77648891966759.\n",
      "[I 2025-02-25 17:09:10,969] A new study created in memory with name: no-name-f6ad7bb9-6773-4eae-a967-5bf42ba41685\n",
      "[I 2025-02-25 17:09:10,989] Trial 0 finished with value: 0.6417937545388526 and parameters: {'k': 29}. Best is trial 0 with value: 0.6417937545388526.\n",
      "[I 2025-02-25 17:09:11,019] Trial 1 finished with value: 0.6250907770515614 and parameters: {'k': 12}. Best is trial 0 with value: 0.6417937545388526.\n",
      "[I 2025-02-25 17:09:11,040] Trial 2 finished with value: 0.6314451706608569 and parameters: {'k': 11}. Best is trial 0 with value: 0.6417937545388526.\n",
      "[I 2025-02-25 17:09:11,060] Trial 3 finished with value: 0.5893246187363834 and parameters: {'k': 42}. Best is trial 0 with value: 0.6417937545388526.\n",
      "[I 2025-02-25 17:09:11,080] Trial 4 finished with value: 0.4871096586782862 and parameters: {'k': 3}. Best is trial 0 with value: 0.6417937545388526.\n",
      "[I 2025-02-25 17:09:11,100] Trial 5 finished with value: 0.6414306463326072 and parameters: {'k': 28}. Best is trial 0 with value: 0.6417937545388526.\n",
      "[I 2025-02-25 17:09:11,121] Trial 6 finished with value: 0.6060275962236746 and parameters: {'k': 39}. Best is trial 0 with value: 0.6417937545388526.\n",
      "[I 2025-02-25 17:09:11,142] Trial 7 finished with value: 0.6285403050108933 and parameters: {'k': 32}. Best is trial 0 with value: 0.6417937545388526.\n",
      "[I 2025-02-25 17:09:11,194] Trial 8 finished with value: 0.605119825708061 and parameters: {'k': 23}. Best is trial 0 with value: 0.6417937545388526.\n",
      "[I 2025-02-25 17:09:11,215] Trial 9 finished with value: 0.5508351488743646 and parameters: {'k': 5}. Best is trial 0 with value: 0.6417937545388526.\n",
      "[I 2025-02-25 17:09:11,236] Trial 10 finished with value: 0.6163761801016703 and parameters: {'k': 34}. Best is trial 0 with value: 0.6417937545388526.\n",
      "[I 2025-02-25 17:09:11,271] Trial 11 finished with value: 0.6112926652142339 and parameters: {'k': 36}. Best is trial 0 with value: 0.6417937545388526.\n",
      "[I 2025-02-25 17:09:11,293] Trial 12 finished with value: 0.6200072621641249 and parameters: {'k': 27}. Best is trial 0 with value: 0.6417937545388526.\n",
      "[I 2025-02-25 17:09:11,316] Trial 13 finished with value: 0.6109295570079883 and parameters: {'k': 35}. Best is trial 0 with value: 0.6417937545388526.\n",
      "[I 2025-02-25 17:09:11,339] Trial 14 finished with value: 0.6141975308641976 and parameters: {'k': 19}. Best is trial 0 with value: 0.6417937545388526.\n",
      "[I 2025-02-25 17:09:11,362] Trial 15 finished with value: 0.5079883805374001 and parameters: {'k': 8}. Best is trial 0 with value: 0.6417937545388526.\n",
      "[I 2025-02-25 17:09:11,386] Trial 16 finished with value: 0.6047567175018156 and parameters: {'k': 15}. Best is trial 0 with value: 0.6417937545388526.\n",
      "[I 2025-02-25 17:09:11,409] Trial 17 finished with value: 0.5840595497458242 and parameters: {'k': 46}. Best is trial 0 with value: 0.6417937545388526.\n",
      "[I 2025-02-25 17:09:11,433] Trial 18 finished with value: 0.5840595497458242 and parameters: {'k': 49}. Best is trial 0 with value: 0.6417937545388526.\n",
      "[I 2025-02-25 17:09:11,456] Trial 19 finished with value: 0.6365286855482933 and parameters: {'k': 30}. Best is trial 0 with value: 0.6417937545388526.\n",
      "[I 2025-02-25 17:09:11,536] Trial 20 finished with value: 0.6285403050108933 and parameters: {'k': 16}. Best is trial 0 with value: 0.6417937545388526.\n",
      "[I 2025-02-25 17:09:11,560] Trial 21 finished with value: 0.6427015250544663 and parameters: {'k': 31}. Best is trial 21 with value: 0.6427015250544663.\n",
      "[I 2025-02-25 17:09:11,584] Trial 22 finished with value: 0.615831517792302 and parameters: {'k': 33}. Best is trial 21 with value: 0.6427015250544663.\n",
      "[I 2025-02-25 17:09:11,607] Trial 23 finished with value: 0.6160130718954249 and parameters: {'k': 17}. Best is trial 21 with value: 0.6427015250544663.\n",
      "[I 2025-02-25 17:09:11,632] Trial 24 finished with value: 0.5994916485112564 and parameters: {'k': 43}. Best is trial 21 with value: 0.6427015250544663.\n",
      "[I 2025-02-25 17:09:11,656] Trial 25 finished with value: 0.6036673928830791 and parameters: {'k': 21}. Best is trial 21 with value: 0.6427015250544663.\n",
      "[I 2025-02-25 17:09:11,681] Trial 26 finished with value: 0.5938634713144517 and parameters: {'k': 44}. Best is trial 21 with value: 0.6427015250544663.\n",
      "[I 2025-02-25 17:09:11,705] Trial 27 finished with value: 0.5497458242556281 and parameters: {'k': 9}. Best is trial 21 with value: 0.6427015250544663.\n",
      "[I 2025-02-25 17:09:11,729] Trial 28 finished with value: 0.6278140885984023 and parameters: {'k': 14}. Best is trial 21 with value: 0.6427015250544663.\n",
      "[I 2025-02-25 17:09:11,754] Trial 29 finished with value: 0.6289034132171386 and parameters: {'k': 26}. Best is trial 21 with value: 0.6427015250544663.\n",
      "[I 2025-02-25 17:09:11,779] Trial 30 finished with value: 0.5553740014524329 and parameters: {'k': 6}. Best is trial 21 with value: 0.6427015250544663.\n",
      "[I 2025-02-25 17:09:11,804] Trial 31 finished with value: 0.6103848946986201 and parameters: {'k': 18}. Best is trial 21 with value: 0.6427015250544663.\n",
      "[I 2025-02-25 17:09:11,830] Trial 32 finished with value: 0.5893246187363834 and parameters: {'k': 41}. Best is trial 21 with value: 0.6427015250544663.\n",
      "[I 2025-02-25 17:09:11,856] Trial 33 finished with value: 0.5960421205519244 and parameters: {'k': 50}. Best is trial 21 with value: 0.6427015250544663.\n",
      "[I 2025-02-25 17:09:11,881] Trial 34 finished with value: 0.5181554103122731 and parameters: {'k': 2}. Best is trial 21 with value: 0.6427015250544663.\n",
      "[I 2025-02-25 17:09:11,907] Trial 35 finished with value: 0.6116557734204793 and parameters: {'k': 13}. Best is trial 21 with value: 0.6427015250544663.\n",
      "[I 2025-02-25 17:09:11,934] Trial 36 finished with value: 0.6172839506172839 and parameters: {'k': 38}. Best is trial 21 with value: 0.6427015250544663.\n",
      "[I 2025-02-25 17:09:11,962] Trial 37 finished with value: 0.6347131445170661 and parameters: {'k': 25}. Best is trial 21 with value: 0.6427015250544663.\n",
      "[I 2025-02-25 17:09:11,994] Trial 38 finished with value: 0.531590413943355 and parameters: {'k': 7}. Best is trial 21 with value: 0.6427015250544663.\n",
      "[I 2025-02-25 17:09:12,042] Trial 39 finished with value: 0.588961510530138 and parameters: {'k': 24}. Best is trial 21 with value: 0.6427015250544663.\n",
      "[I 2025-02-25 17:09:12,069] Trial 40 finished with value: 0.6127450980392157 and parameters: {'k': 37}. Best is trial 21 with value: 0.6427015250544663.\n",
      "[I 2025-02-25 17:09:12,096] Trial 41 finished with value: 0.6141975308641975 and parameters: {'k': 22}. Best is trial 21 with value: 0.6427015250544663.\n",
      "[I 2025-02-25 17:09:12,123] Trial 42 finished with value: 0.6013071895424835 and parameters: {'k': 20}. Best is trial 21 with value: 0.6427015250544663.\n",
      "[I 2025-02-25 17:09:12,150] Trial 43 finished with value: 0.5746187363834423 and parameters: {'k': 10}. Best is trial 21 with value: 0.6427015250544663.\n",
      "[I 2025-02-25 17:09:12,178] Trial 44 finished with value: 0.5925925925925926 and parameters: {'k': 40}. Best is trial 21 with value: 0.6427015250544663.\n",
      "[I 2025-02-25 17:09:12,207] Trial 45 finished with value: 0.5737109658678287 and parameters: {'k': 47}. Best is trial 21 with value: 0.6427015250544663.\n",
      "[I 2025-02-25 17:09:12,252] Trial 46 finished with value: 0.5386710239651417 and parameters: {'k': 4}. Best is trial 21 with value: 0.6427015250544663.\n",
      "[I 2025-02-25 17:09:12,290] Trial 47 finished with value: 0.5408496732026145 and parameters: {'k': 1}. Best is trial 21 with value: 0.6427015250544663.\n",
      "[I 2025-02-25 17:09:12,319] Trial 48 finished with value: 0.5777051561365287 and parameters: {'k': 48}. Best is trial 21 with value: 0.6427015250544663.\n",
      "[I 2025-02-25 17:09:12,351] Trial 49 finished with value: 0.6025780682643428 and parameters: {'k': 45}. Best is trial 21 with value: 0.6427015250544663.\n",
      "[I 2025-02-25 17:09:12,414] A new study created in memory with name: no-name-2eb3b23a-5fee-42d8-8137-082ffb5efa1e\n",
      "[I 2025-02-25 17:09:12,434] Trial 0 finished with value: 0.6326380728554641 and parameters: {'k': 29}. Best is trial 0 with value: 0.6326380728554641.\n",
      "[I 2025-02-25 17:09:12,495] Trial 1 finished with value: 0.711075205640423 and parameters: {'k': 12}. Best is trial 1 with value: 0.711075205640423.\n",
      "[I 2025-02-25 17:09:12,514] Trial 2 finished with value: 0.7074030552291422 and parameters: {'k': 11}. Best is trial 1 with value: 0.711075205640423.\n",
      "[I 2025-02-25 17:09:12,535] Trial 3 finished with value: 0.6665687426556992 and parameters: {'k': 42}. Best is trial 1 with value: 0.711075205640423.\n",
      "[I 2025-02-25 17:09:12,555] Trial 4 finished with value: 0.6227967097532314 and parameters: {'k': 3}. Best is trial 1 with value: 0.711075205640423.\n",
      "[I 2025-02-25 17:09:12,576] Trial 5 finished with value: 0.6336662749706229 and parameters: {'k': 28}. Best is trial 1 with value: 0.711075205640423.\n",
      "[I 2025-02-25 17:09:12,597] Trial 6 finished with value: 0.6675969447708578 and parameters: {'k': 39}. Best is trial 1 with value: 0.711075205640423.\n",
      "[I 2025-02-25 17:09:12,618] Trial 7 finished with value: 0.6661280846063454 and parameters: {'k': 32}. Best is trial 1 with value: 0.711075205640423.\n",
      "[I 2025-02-25 17:09:12,639] Trial 8 finished with value: 0.6395417156286721 and parameters: {'k': 23}. Best is trial 1 with value: 0.711075205640423.\n",
      "[I 2025-02-25 17:09:12,660] Trial 9 finished with value: 0.6822855464159812 and parameters: {'k': 5}. Best is trial 1 with value: 0.711075205640423.\n",
      "[I 2025-02-25 17:09:12,682] Trial 10 finished with value: 0.6761163337250294 and parameters: {'k': 34}. Best is trial 1 with value: 0.711075205640423.\n",
      "[I 2025-02-25 17:09:12,704] Trial 11 finished with value: 0.6722972972972974 and parameters: {'k': 36}. Best is trial 1 with value: 0.711075205640423.\n",
      "[I 2025-02-25 17:09:12,726] Trial 12 finished with value: 0.626321974148061 and parameters: {'k': 27}. Best is trial 1 with value: 0.711075205640423.\n",
      "[I 2025-02-25 17:09:12,749] Trial 13 finished with value: 0.672737955346651 and parameters: {'k': 35}. Best is trial 1 with value: 0.711075205640423.\n",
      "[I 2025-02-25 17:09:12,771] Trial 14 finished with value: 0.6598119858989425 and parameters: {'k': 19}. Best is trial 1 with value: 0.711075205640423.\n",
      "[I 2025-02-25 17:09:12,794] Trial 15 finished with value: 0.7151880141010576 and parameters: {'k': 8}. Best is trial 15 with value: 0.7151880141010576.\n",
      "[I 2025-02-25 17:09:12,817] Trial 16 finished with value: 0.6774383078730906 and parameters: {'k': 15}. Best is trial 15 with value: 0.7151880141010576.\n",
      "[I 2025-02-25 17:09:12,840] Trial 17 finished with value: 0.6477673325499412 and parameters: {'k': 46}. Best is trial 15 with value: 0.7151880141010576.\n",
      "[I 2025-02-25 17:09:12,864] Trial 18 finished with value: 0.6489424206815512 and parameters: {'k': 49}. Best is trial 15 with value: 0.7151880141010576.\n",
      "[I 2025-02-25 17:09:12,887] Trial 19 finished with value: 0.63572267920094 and parameters: {'k': 30}. Best is trial 15 with value: 0.7151880141010576.\n",
      "[I 2025-02-25 17:09:12,911] Trial 20 finished with value: 0.6681844888366628 and parameters: {'k': 16}. Best is trial 15 with value: 0.7151880141010576.\n",
      "[I 2025-02-25 17:09:12,935] Trial 21 finished with value: 0.6593713278495887 and parameters: {'k': 31}. Best is trial 15 with value: 0.7151880141010576.\n",
      "[I 2025-02-25 17:09:12,959] Trial 22 finished with value: 0.6637779083431257 and parameters: {'k': 33}. Best is trial 15 with value: 0.7151880141010576.\n",
      "[I 2025-02-25 17:09:12,982] Trial 23 finished with value: 0.6533490011750882 and parameters: {'k': 17}. Best is trial 15 with value: 0.7151880141010576.\n",
      "[I 2025-02-25 17:09:13,007] Trial 24 finished with value: 0.657608695652174 and parameters: {'k': 43}. Best is trial 15 with value: 0.7151880141010576.\n",
      "[I 2025-02-25 17:09:13,049] Trial 25 finished with value: 0.6509988249118683 and parameters: {'k': 21}. Best is trial 15 with value: 0.7151880141010576.\n",
      "[I 2025-02-25 17:09:13,075] Trial 26 finished with value: 0.6556991774383079 and parameters: {'k': 44}. Best is trial 15 with value: 0.7151880141010576.\n",
      "[I 2025-02-25 17:09:13,099] Trial 27 finished with value: 0.70475910693302 and parameters: {'k': 9}. Best is trial 15 with value: 0.7151880141010576.\n",
      "[I 2025-02-25 17:09:13,124] Trial 28 finished with value: 0.6909518213866039 and parameters: {'k': 14}. Best is trial 15 with value: 0.7151880141010576.\n",
      "[I 2025-02-25 17:09:13,149] Trial 29 finished with value: 0.6326380728554641 and parameters: {'k': 26}. Best is trial 15 with value: 0.7151880141010576.\n",
      "[I 2025-02-25 17:09:13,174] Trial 30 finished with value: 0.7150411280846063 and parameters: {'k': 6}. Best is trial 15 with value: 0.7151880141010576.\n",
      "[I 2025-02-25 17:09:13,200] Trial 31 finished with value: 0.6673031727379554 and parameters: {'k': 18}. Best is trial 15 with value: 0.7151880141010576.\n",
      "[I 2025-02-25 17:09:13,225] Trial 32 finished with value: 0.6623090481786134 and parameters: {'k': 41}. Best is trial 15 with value: 0.7151880141010576.\n",
      "[I 2025-02-25 17:09:13,252] Trial 33 finished with value: 0.6543772032902467 and parameters: {'k': 50}. Best is trial 15 with value: 0.7151880141010576.\n",
      "[I 2025-02-25 17:09:13,278] Trial 34 finished with value: 0.5984136310223266 and parameters: {'k': 2}. Best is trial 15 with value: 0.7151880141010576.\n",
      "[I 2025-02-25 17:09:13,307] Trial 35 finished with value: 0.7062279670975322 and parameters: {'k': 13}. Best is trial 15 with value: 0.7151880141010576.\n",
      "[I 2025-02-25 17:09:13,334] Trial 36 finished with value: 0.6636310223266746 and parameters: {'k': 38}. Best is trial 15 with value: 0.7151880141010576.\n",
      "[I 2025-02-25 17:09:13,363] Trial 37 finished with value: 0.6236780258519389 and parameters: {'k': 25}. Best is trial 15 with value: 0.7151880141010576.\n",
      "[I 2025-02-25 17:09:13,403] Trial 38 finished with value: 0.7238542890716804 and parameters: {'k': 7}. Best is trial 38 with value: 0.7238542890716804.\n",
      "[I 2025-02-25 17:09:13,435] Trial 39 finished with value: 0.6333725029377203 and parameters: {'k': 24}. Best is trial 38 with value: 0.7238542890716804.\n",
      "[I 2025-02-25 17:09:13,528] Trial 40 finished with value: 0.6655405405405406 and parameters: {'k': 37}. Best is trial 38 with value: 0.7238542890716804.\n",
      "[I 2025-02-25 17:09:13,556] Trial 41 finished with value: 0.6532021151586369 and parameters: {'k': 22}. Best is trial 38 with value: 0.7238542890716804.\n",
      "[I 2025-02-25 17:09:13,583] Trial 42 finished with value: 0.6603995299647474 and parameters: {'k': 20}. Best is trial 38 with value: 0.7238542890716804.\n",
      "[I 2025-02-25 17:09:13,632] Trial 43 finished with value: 0.7013807285546416 and parameters: {'k': 10}. Best is trial 38 with value: 0.7238542890716804.\n",
      "[I 2025-02-25 17:09:13,661] Trial 44 finished with value: 0.6573149236192715 and parameters: {'k': 40}. Best is trial 38 with value: 0.7238542890716804.\n",
      "[I 2025-02-25 17:09:13,690] Trial 45 finished with value: 0.6458578143360753 and parameters: {'k': 47}. Best is trial 38 with value: 0.7238542890716804.\n",
      "[I 2025-02-25 17:09:13,718] Trial 46 finished with value: 0.6603995299647474 and parameters: {'k': 4}. Best is trial 38 with value: 0.7238542890716804.\n",
      "[I 2025-02-25 17:09:13,745] Trial 47 finished with value: 0.5715334900117508 and parameters: {'k': 1}. Best is trial 38 with value: 0.7238542890716804.\n",
      "[I 2025-02-25 17:09:13,778] Trial 48 finished with value: 0.6451233842538191 and parameters: {'k': 48}. Best is trial 38 with value: 0.7238542890716804.\n",
      "[I 2025-02-25 17:09:13,814] Trial 49 finished with value: 0.6465922444183313 and parameters: {'k': 45}. Best is trial 38 with value: 0.7238542890716804.\n",
      "[I 2025-02-25 17:09:13,861] A new study created in memory with name: no-name-1b99469f-9a9e-4994-8a05-d9e43c3559de\n",
      "[I 2025-02-25 17:09:13,881] Trial 0 finished with value: 0.6233766233766234 and parameters: {'k': 29}. Best is trial 0 with value: 0.6233766233766234.\n",
      "[I 2025-02-25 17:09:13,903] Trial 1 finished with value: 0.6306340718105424 and parameters: {'k': 12}. Best is trial 1 with value: 0.6306340718105424.\n",
      "[I 2025-02-25 17:09:13,966] Trial 2 finished with value: 0.6462948815889993 and parameters: {'k': 11}. Best is trial 2 with value: 0.6462948815889993.\n",
      "[I 2025-02-25 17:09:14,014] Trial 3 finished with value: 0.7039724980901452 and parameters: {'k': 42}. Best is trial 3 with value: 0.7039724980901452.\n",
      "[I 2025-02-25 17:09:14,045] Trial 4 finished with value: 0.5359052711993889 and parameters: {'k': 3}. Best is trial 3 with value: 0.7039724980901452.\n",
      "[I 2025-02-25 17:09:14,080] Trial 5 finished with value: 0.618601986249045 and parameters: {'k': 28}. Best is trial 3 with value: 0.7039724980901452.\n",
      "[I 2025-02-25 17:09:14,101] Trial 6 finished with value: 0.6688311688311688 and parameters: {'k': 39}. Best is trial 3 with value: 0.7039724980901452.\n",
      "[I 2025-02-25 17:09:14,122] Trial 7 finished with value: 0.6124904507257448 and parameters: {'k': 32}. Best is trial 3 with value: 0.7039724980901452.\n",
      "[I 2025-02-25 17:09:14,143] Trial 8 finished with value: 0.6562261268143622 and parameters: {'k': 23}. Best is trial 3 with value: 0.7039724980901452.\n",
      "[I 2025-02-25 17:09:14,204] Trial 9 finished with value: 0.5941558441558441 and parameters: {'k': 5}. Best is trial 3 with value: 0.7039724980901452.\n",
      "[I 2025-02-25 17:09:14,254] Trial 10 finished with value: 0.6079067990832696 and parameters: {'k': 34}. Best is trial 3 with value: 0.7039724980901452.\n",
      "[I 2025-02-25 17:09:14,332] Trial 11 finished with value: 0.6420932009167303 and parameters: {'k': 36}. Best is trial 3 with value: 0.7039724980901452.\n",
      "[I 2025-02-25 17:09:14,355] Trial 12 finished with value: 0.634453781512605 and parameters: {'k': 27}. Best is trial 3 with value: 0.7039724980901452.\n",
      "[I 2025-02-25 17:09:14,377] Trial 13 finished with value: 0.6208938120702826 and parameters: {'k': 35}. Best is trial 3 with value: 0.7039724980901452.\n",
      "[I 2025-02-25 17:09:14,399] Trial 14 finished with value: 0.6522154316271963 and parameters: {'k': 19}. Best is trial 3 with value: 0.7039724980901452.\n",
      "[I 2025-02-25 17:09:14,422] Trial 15 finished with value: 0.5783040488922843 and parameters: {'k': 8}. Best is trial 3 with value: 0.7039724980901452.\n",
      "[I 2025-02-25 17:09:14,446] Trial 16 finished with value: 0.6692131398013752 and parameters: {'k': 15}. Best is trial 3 with value: 0.7039724980901452.\n",
      "[I 2025-02-25 17:09:14,525] Trial 17 finished with value: 0.6982429335370512 and parameters: {'k': 46}. Best is trial 3 with value: 0.7039724980901452.\n",
      "[I 2025-02-25 17:09:14,549] Trial 18 finished with value: 0.7234530175706646 and parameters: {'k': 49}. Best is trial 18 with value: 0.7234530175706646.\n",
      "[I 2025-02-25 17:09:14,573] Trial 19 finished with value: 0.6187929717341482 and parameters: {'k': 30}. Best is trial 18 with value: 0.7234530175706646.\n",
      "[I 2025-02-25 17:09:14,596] Trial 20 finished with value: 0.6600458365164248 and parameters: {'k': 16}. Best is trial 18 with value: 0.7234530175706646.\n",
      "[I 2025-02-25 17:09:14,619] Trial 21 finished with value: 0.6229946524064172 and parameters: {'k': 31}. Best is trial 18 with value: 0.7234530175706646.\n",
      "[I 2025-02-25 17:09:14,643] Trial 22 finished with value: 0.6233766233766234 and parameters: {'k': 33}. Best is trial 18 with value: 0.7234530175706646.\n",
      "[I 2025-02-25 17:09:14,666] Trial 23 finished with value: 0.6831550802139037 and parameters: {'k': 17}. Best is trial 18 with value: 0.7234530175706646.\n",
      "[I 2025-02-25 17:09:14,691] Trial 24 finished with value: 0.6904125286478228 and parameters: {'k': 43}. Best is trial 18 with value: 0.7234530175706646.\n",
      "[I 2025-02-25 17:09:14,715] Trial 25 finished with value: 0.6623376623376622 and parameters: {'k': 21}. Best is trial 18 with value: 0.7234530175706646.\n",
      "[I 2025-02-25 17:09:14,739] Trial 26 finished with value: 0.6923223834988541 and parameters: {'k': 44}. Best is trial 18 with value: 0.7234530175706646.\n",
      "[I 2025-02-25 17:09:14,763] Trial 27 finished with value: 0.5811688311688311 and parameters: {'k': 9}. Best is trial 18 with value: 0.7234530175706646.\n",
      "[I 2025-02-25 17:09:14,788] Trial 28 finished with value: 0.657563025210084 and parameters: {'k': 14}. Best is trial 18 with value: 0.7234530175706646.\n",
      "[I 2025-02-25 17:09:14,812] Trial 29 finished with value: 0.6487776928953399 and parameters: {'k': 26}. Best is trial 18 with value: 0.7234530175706646.\n",
      "[I 2025-02-25 17:09:14,837] Trial 30 finished with value: 0.5832696715049656 and parameters: {'k': 6}. Best is trial 18 with value: 0.7234530175706646.\n",
      "[I 2025-02-25 17:09:14,862] Trial 31 finished with value: 0.6736058059587471 and parameters: {'k': 18}. Best is trial 18 with value: 0.7234530175706646.\n",
      "[I 2025-02-25 17:09:14,887] Trial 32 finished with value: 0.707983193277311 and parameters: {'k': 41}. Best is trial 18 with value: 0.7234530175706646.\n",
      "[I 2025-02-25 17:09:14,913] Trial 33 finished with value: 0.7097020626432391 and parameters: {'k': 50}. Best is trial 18 with value: 0.7234530175706646.\n",
      "[I 2025-02-25 17:09:14,938] Trial 34 finished with value: 0.5448815889992361 and parameters: {'k': 2}. Best is trial 18 with value: 0.7234530175706646.\n",
      "[I 2025-02-25 17:09:14,964] Trial 35 finished with value: 0.6497326203208557 and parameters: {'k': 13}. Best is trial 18 with value: 0.7234530175706646.\n",
      "[I 2025-02-25 17:09:14,990] Trial 36 finished with value: 0.6640565317035906 and parameters: {'k': 38}. Best is trial 18 with value: 0.7234530175706646.\n",
      "[I 2025-02-25 17:09:15,025] Trial 37 finished with value: 0.6571810542398778 and parameters: {'k': 25}. Best is trial 18 with value: 0.7234530175706646.\n",
      "[I 2025-02-25 17:09:15,052] Trial 38 finished with value: 0.5597784568372802 and parameters: {'k': 7}. Best is trial 18 with value: 0.7234530175706646.\n",
      "[I 2025-02-25 17:09:15,078] Trial 39 finished with value: 0.6636745607333843 and parameters: {'k': 24}. Best is trial 18 with value: 0.7234530175706646.\n",
      "[I 2025-02-25 17:09:15,105] Trial 40 finished with value: 0.6520244461420932 and parameters: {'k': 37}. Best is trial 18 with value: 0.7234530175706646.\n",
      "[I 2025-02-25 17:09:15,132] Trial 41 finished with value: 0.6749427043544691 and parameters: {'k': 22}. Best is trial 18 with value: 0.7234530175706646.\n",
      "[I 2025-02-25 17:09:15,159] Trial 42 finished with value: 0.6420932009167304 and parameters: {'k': 20}. Best is trial 18 with value: 0.7234530175706646.\n",
      "[I 2025-02-25 17:09:15,187] Trial 43 finished with value: 0.605423987776929 and parameters: {'k': 10}. Best is trial 18 with value: 0.7234530175706646.\n",
      "[I 2025-02-25 17:09:15,214] Trial 44 finished with value: 0.6894576012223071 and parameters: {'k': 40}. Best is trial 18 with value: 0.7234530175706646.\n",
      "[I 2025-02-25 17:09:15,243] Trial 45 finished with value: 0.706646294881589 and parameters: {'k': 47}. Best is trial 18 with value: 0.7234530175706646.\n",
      "[I 2025-02-25 17:09:15,270] Trial 46 finished with value: 0.582505729564553 and parameters: {'k': 4}. Best is trial 18 with value: 0.7234530175706646.\n",
      "[I 2025-02-25 17:09:15,307] Trial 47 finished with value: 0.5590145148968679 and parameters: {'k': 1}. Best is trial 18 with value: 0.7234530175706646.\n",
      "[I 2025-02-25 17:09:15,345] Trial 48 finished with value: 0.716577540106952 and parameters: {'k': 48}. Best is trial 18 with value: 0.7234530175706646.\n",
      "[I 2025-02-25 17:09:15,374] Trial 49 finished with value: 0.6875477463712758 and parameters: {'k': 45}. Best is trial 18 with value: 0.7234530175706646.\n"
     ]
    }
   ],
   "source": [
    "# Store test accuracies for each model\n",
    "test_accuracies_dict = {} # Initialize an empty dictionary to store test accuracies\n",
    "\n",
    "# Iterate through each model's features\n",
    "for model_name, values in data.items(): # Loop through each model and its corresponding features\n",
    "    # Skip MedImageInsightExtractor\n",
    "    if model_name == \"MedImageInsightExtractor\": # Skip the MedImageInsightExtractor model\n",
    "        continue\n",
    "\n",
    "    # Extract paths and labels for train, val, and test sets\n",
    "    train_labels = [v[\"row\"][\"Malignant_lbl\"] for v in values[\"train\"]] # Extract malignancy labels for the training set\n",
    "    val_labels = [v[\"row\"][\"Malignant_lbl\"] for v in values[\"val\"]] # Extract malignancy labels for the validation set\n",
    "    \n",
    "    # Stack features\n",
    "    train_items = np.vstack([v[\"feature\"] for v in values[\"train\"]]) # Stack features for the training set\n",
    "    val_items = np.vstack([v[\"feature\"] for v in values[\"val\"]]) # Stack features for the validation set\n",
    "    \n",
    "    # Concatenate train and val\n",
    "    all_items = np.vstack((train_items, val_items))\n",
    "    all_labels = train_labels + val_labels\n",
    "\n",
    "    # Average across multiple shuffle splits\n",
    "    n_splits = 5\n",
    "    split_scores = []\n",
    "    \n",
    "    for split in range(n_splits):\n",
    "        # Get stratified indices for new train/val split with different random seeds\n",
    "        train_items, train_labels, val_items, val_labels, test_items, test_labels = split_shuffle_data(\n",
    "            all_items, all_labels, train_ratio=0.5, val_ratio=0.1, random_seed=10+split\n",
    "        )\n",
    "\n",
    "        # Train model with hyperparameter optimization\n",
    "        best_model, study = train_knn_classifier(train_items, train_labels, val_items, val_labels)\n",
    "        \n",
    "        # Get score for this split\n",
    "        split_score = evaluate_model(best_model, test_items, test_labels)\n",
    "        split_scores.append(split_score)\n",
    "    \n",
    "    # Average the scores across splits\n",
    "    avg_score = np.mean(split_scores)\n",
    "    \n",
    "    # Evaluate on test set\n",
    "    test_accuracies_dict[model_name] = avg_score"
   ]
  },
  {
   "cell_type": "code",
   "execution_count": 11,
   "metadata": {},
   "outputs": [
    {
     "data": {
      "application/vnd.plotly.v1+json": {
       "config": {
        "plotlyServerURL": "https://plot.ly"
       },
       "data": [
        {
         "alignmentgroup": "True",
         "hovertemplate": "Model=%{x}<br>Accuracy=%{y}<extra></extra>",
         "legendgroup": "",
         "marker": {
          "color": "#ADD8E6",
          "opacity": 0.8,
          "pattern": {
           "shape": ""
          }
         },
         "name": "",
         "offsetgroup": "",
         "orientation": "v",
         "showlegend": false,
         "textposition": "auto",
         "texttemplate": "%{y:.2f}",
         "type": "bar",
         "x": [
          "FMCIBExtractor",
          "CTFMExtractor",
          "PyramidExtractorVar",
          "PyramidExtractorNoVar",
          "VISTA3DExtractor",
          "VocoExtractor",
          "SUPREMExtractor",
          "MerlinExtractor",
          "ModelsGenExtractor"
         ],
         "xaxis": "x",
         "y": [
          0.6885225737439178,
          0.5456092822662677,
          0.5613404166204544,
          0.5310744484950248,
          0.5853259989974988,
          0.5220525223492423,
          0.5241857760914848,
          0.5915583233151764,
          0.6432897903528356
         ],
         "yaxis": "y"
        }
       ],
       "layout": {
        "barmode": "relative",
        "font": {
         "family": "Arial",
         "size": 12
        },
        "height": 400,
        "legend": {
         "tracegroupgap": 0
        },
        "margin": {
         "b": 20,
         "l": 20,
         "r": 20,
         "t": 40
        },
        "showlegend": false,
        "template": {
         "data": {
          "bar": [
           {
            "error_x": {
             "color": "rgb(36,36,36)"
            },
            "error_y": {
             "color": "rgb(36,36,36)"
            },
            "marker": {
             "line": {
              "color": "white",
              "width": 0.5
             },
             "pattern": {
              "fillmode": "overlay",
              "size": 10,
              "solidity": 0.2
             }
            },
            "type": "bar"
           }
          ],
          "barpolar": [
           {
            "marker": {
             "line": {
              "color": "white",
              "width": 0.5
             },
             "pattern": {
              "fillmode": "overlay",
              "size": 10,
              "solidity": 0.2
             }
            },
            "type": "barpolar"
           }
          ],
          "carpet": [
           {
            "aaxis": {
             "endlinecolor": "rgb(36,36,36)",
             "gridcolor": "white",
             "linecolor": "white",
             "minorgridcolor": "white",
             "startlinecolor": "rgb(36,36,36)"
            },
            "baxis": {
             "endlinecolor": "rgb(36,36,36)",
             "gridcolor": "white",
             "linecolor": "white",
             "minorgridcolor": "white",
             "startlinecolor": "rgb(36,36,36)"
            },
            "type": "carpet"
           }
          ],
          "choropleth": [
           {
            "colorbar": {
             "outlinewidth": 1,
             "tickcolor": "rgb(36,36,36)",
             "ticks": "outside"
            },
            "type": "choropleth"
           }
          ],
          "contour": [
           {
            "colorbar": {
             "outlinewidth": 1,
             "tickcolor": "rgb(36,36,36)",
             "ticks": "outside"
            },
            "colorscale": [
             [
              0,
              "#440154"
             ],
             [
              0.1111111111111111,
              "#482878"
             ],
             [
              0.2222222222222222,
              "#3e4989"
             ],
             [
              0.3333333333333333,
              "#31688e"
             ],
             [
              0.4444444444444444,
              "#26828e"
             ],
             [
              0.5555555555555556,
              "#1f9e89"
             ],
             [
              0.6666666666666666,
              "#35b779"
             ],
             [
              0.7777777777777778,
              "#6ece58"
             ],
             [
              0.8888888888888888,
              "#b5de2b"
             ],
             [
              1,
              "#fde725"
             ]
            ],
            "type": "contour"
           }
          ],
          "contourcarpet": [
           {
            "colorbar": {
             "outlinewidth": 1,
             "tickcolor": "rgb(36,36,36)",
             "ticks": "outside"
            },
            "type": "contourcarpet"
           }
          ],
          "heatmap": [
           {
            "colorbar": {
             "outlinewidth": 1,
             "tickcolor": "rgb(36,36,36)",
             "ticks": "outside"
            },
            "colorscale": [
             [
              0,
              "#440154"
             ],
             [
              0.1111111111111111,
              "#482878"
             ],
             [
              0.2222222222222222,
              "#3e4989"
             ],
             [
              0.3333333333333333,
              "#31688e"
             ],
             [
              0.4444444444444444,
              "#26828e"
             ],
             [
              0.5555555555555556,
              "#1f9e89"
             ],
             [
              0.6666666666666666,
              "#35b779"
             ],
             [
              0.7777777777777778,
              "#6ece58"
             ],
             [
              0.8888888888888888,
              "#b5de2b"
             ],
             [
              1,
              "#fde725"
             ]
            ],
            "type": "heatmap"
           }
          ],
          "heatmapgl": [
           {
            "colorbar": {
             "outlinewidth": 1,
             "tickcolor": "rgb(36,36,36)",
             "ticks": "outside"
            },
            "colorscale": [
             [
              0,
              "#440154"
             ],
             [
              0.1111111111111111,
              "#482878"
             ],
             [
              0.2222222222222222,
              "#3e4989"
             ],
             [
              0.3333333333333333,
              "#31688e"
             ],
             [
              0.4444444444444444,
              "#26828e"
             ],
             [
              0.5555555555555556,
              "#1f9e89"
             ],
             [
              0.6666666666666666,
              "#35b779"
             ],
             [
              0.7777777777777778,
              "#6ece58"
             ],
             [
              0.8888888888888888,
              "#b5de2b"
             ],
             [
              1,
              "#fde725"
             ]
            ],
            "type": "heatmapgl"
           }
          ],
          "histogram": [
           {
            "marker": {
             "line": {
              "color": "white",
              "width": 0.6
             }
            },
            "type": "histogram"
           }
          ],
          "histogram2d": [
           {
            "colorbar": {
             "outlinewidth": 1,
             "tickcolor": "rgb(36,36,36)",
             "ticks": "outside"
            },
            "colorscale": [
             [
              0,
              "#440154"
             ],
             [
              0.1111111111111111,
              "#482878"
             ],
             [
              0.2222222222222222,
              "#3e4989"
             ],
             [
              0.3333333333333333,
              "#31688e"
             ],
             [
              0.4444444444444444,
              "#26828e"
             ],
             [
              0.5555555555555556,
              "#1f9e89"
             ],
             [
              0.6666666666666666,
              "#35b779"
             ],
             [
              0.7777777777777778,
              "#6ece58"
             ],
             [
              0.8888888888888888,
              "#b5de2b"
             ],
             [
              1,
              "#fde725"
             ]
            ],
            "type": "histogram2d"
           }
          ],
          "histogram2dcontour": [
           {
            "colorbar": {
             "outlinewidth": 1,
             "tickcolor": "rgb(36,36,36)",
             "ticks": "outside"
            },
            "colorscale": [
             [
              0,
              "#440154"
             ],
             [
              0.1111111111111111,
              "#482878"
             ],
             [
              0.2222222222222222,
              "#3e4989"
             ],
             [
              0.3333333333333333,
              "#31688e"
             ],
             [
              0.4444444444444444,
              "#26828e"
             ],
             [
              0.5555555555555556,
              "#1f9e89"
             ],
             [
              0.6666666666666666,
              "#35b779"
             ],
             [
              0.7777777777777778,
              "#6ece58"
             ],
             [
              0.8888888888888888,
              "#b5de2b"
             ],
             [
              1,
              "#fde725"
             ]
            ],
            "type": "histogram2dcontour"
           }
          ],
          "mesh3d": [
           {
            "colorbar": {
             "outlinewidth": 1,
             "tickcolor": "rgb(36,36,36)",
             "ticks": "outside"
            },
            "type": "mesh3d"
           }
          ],
          "parcoords": [
           {
            "line": {
             "colorbar": {
              "outlinewidth": 1,
              "tickcolor": "rgb(36,36,36)",
              "ticks": "outside"
             }
            },
            "type": "parcoords"
           }
          ],
          "pie": [
           {
            "automargin": true,
            "type": "pie"
           }
          ],
          "scatter": [
           {
            "fillpattern": {
             "fillmode": "overlay",
             "size": 10,
             "solidity": 0.2
            },
            "type": "scatter"
           }
          ],
          "scatter3d": [
           {
            "line": {
             "colorbar": {
              "outlinewidth": 1,
              "tickcolor": "rgb(36,36,36)",
              "ticks": "outside"
             }
            },
            "marker": {
             "colorbar": {
              "outlinewidth": 1,
              "tickcolor": "rgb(36,36,36)",
              "ticks": "outside"
             }
            },
            "type": "scatter3d"
           }
          ],
          "scattercarpet": [
           {
            "marker": {
             "colorbar": {
              "outlinewidth": 1,
              "tickcolor": "rgb(36,36,36)",
              "ticks": "outside"
             }
            },
            "type": "scattercarpet"
           }
          ],
          "scattergeo": [
           {
            "marker": {
             "colorbar": {
              "outlinewidth": 1,
              "tickcolor": "rgb(36,36,36)",
              "ticks": "outside"
             }
            },
            "type": "scattergeo"
           }
          ],
          "scattergl": [
           {
            "marker": {
             "colorbar": {
              "outlinewidth": 1,
              "tickcolor": "rgb(36,36,36)",
              "ticks": "outside"
             }
            },
            "type": "scattergl"
           }
          ],
          "scattermapbox": [
           {
            "marker": {
             "colorbar": {
              "outlinewidth": 1,
              "tickcolor": "rgb(36,36,36)",
              "ticks": "outside"
             }
            },
            "type": "scattermapbox"
           }
          ],
          "scatterpolar": [
           {
            "marker": {
             "colorbar": {
              "outlinewidth": 1,
              "tickcolor": "rgb(36,36,36)",
              "ticks": "outside"
             }
            },
            "type": "scatterpolar"
           }
          ],
          "scatterpolargl": [
           {
            "marker": {
             "colorbar": {
              "outlinewidth": 1,
              "tickcolor": "rgb(36,36,36)",
              "ticks": "outside"
             }
            },
            "type": "scatterpolargl"
           }
          ],
          "scatterternary": [
           {
            "marker": {
             "colorbar": {
              "outlinewidth": 1,
              "tickcolor": "rgb(36,36,36)",
              "ticks": "outside"
             }
            },
            "type": "scatterternary"
           }
          ],
          "surface": [
           {
            "colorbar": {
             "outlinewidth": 1,
             "tickcolor": "rgb(36,36,36)",
             "ticks": "outside"
            },
            "colorscale": [
             [
              0,
              "#440154"
             ],
             [
              0.1111111111111111,
              "#482878"
             ],
             [
              0.2222222222222222,
              "#3e4989"
             ],
             [
              0.3333333333333333,
              "#31688e"
             ],
             [
              0.4444444444444444,
              "#26828e"
             ],
             [
              0.5555555555555556,
              "#1f9e89"
             ],
             [
              0.6666666666666666,
              "#35b779"
             ],
             [
              0.7777777777777778,
              "#6ece58"
             ],
             [
              0.8888888888888888,
              "#b5de2b"
             ],
             [
              1,
              "#fde725"
             ]
            ],
            "type": "surface"
           }
          ],
          "table": [
           {
            "cells": {
             "fill": {
              "color": "rgb(237,237,237)"
             },
             "line": {
              "color": "white"
             }
            },
            "header": {
             "fill": {
              "color": "rgb(217,217,217)"
             },
             "line": {
              "color": "white"
             }
            },
            "type": "table"
           }
          ]
         },
         "layout": {
          "annotationdefaults": {
           "arrowhead": 0,
           "arrowwidth": 1
          },
          "autotypenumbers": "strict",
          "coloraxis": {
           "colorbar": {
            "outlinewidth": 1,
            "tickcolor": "rgb(36,36,36)",
            "ticks": "outside"
           }
          },
          "colorscale": {
           "diverging": [
            [
             0,
             "rgb(103,0,31)"
            ],
            [
             0.1,
             "rgb(178,24,43)"
            ],
            [
             0.2,
             "rgb(214,96,77)"
            ],
            [
             0.3,
             "rgb(244,165,130)"
            ],
            [
             0.4,
             "rgb(253,219,199)"
            ],
            [
             0.5,
             "rgb(247,247,247)"
            ],
            [
             0.6,
             "rgb(209,229,240)"
            ],
            [
             0.7,
             "rgb(146,197,222)"
            ],
            [
             0.8,
             "rgb(67,147,195)"
            ],
            [
             0.9,
             "rgb(33,102,172)"
            ],
            [
             1,
             "rgb(5,48,97)"
            ]
           ],
           "sequential": [
            [
             0,
             "#440154"
            ],
            [
             0.1111111111111111,
             "#482878"
            ],
            [
             0.2222222222222222,
             "#3e4989"
            ],
            [
             0.3333333333333333,
             "#31688e"
            ],
            [
             0.4444444444444444,
             "#26828e"
            ],
            [
             0.5555555555555556,
             "#1f9e89"
            ],
            [
             0.6666666666666666,
             "#35b779"
            ],
            [
             0.7777777777777778,
             "#6ece58"
            ],
            [
             0.8888888888888888,
             "#b5de2b"
            ],
            [
             1,
             "#fde725"
            ]
           ],
           "sequentialminus": [
            [
             0,
             "#440154"
            ],
            [
             0.1111111111111111,
             "#482878"
            ],
            [
             0.2222222222222222,
             "#3e4989"
            ],
            [
             0.3333333333333333,
             "#31688e"
            ],
            [
             0.4444444444444444,
             "#26828e"
            ],
            [
             0.5555555555555556,
             "#1f9e89"
            ],
            [
             0.6666666666666666,
             "#35b779"
            ],
            [
             0.7777777777777778,
             "#6ece58"
            ],
            [
             0.8888888888888888,
             "#b5de2b"
            ],
            [
             1,
             "#fde725"
            ]
           ]
          },
          "colorway": [
           "#1F77B4",
           "#FF7F0E",
           "#2CA02C",
           "#D62728",
           "#9467BD",
           "#8C564B",
           "#E377C2",
           "#7F7F7F",
           "#BCBD22",
           "#17BECF"
          ],
          "font": {
           "color": "rgb(36,36,36)"
          },
          "geo": {
           "bgcolor": "white",
           "lakecolor": "white",
           "landcolor": "white",
           "showlakes": true,
           "showland": true,
           "subunitcolor": "white"
          },
          "hoverlabel": {
           "align": "left"
          },
          "hovermode": "closest",
          "mapbox": {
           "style": "light"
          },
          "paper_bgcolor": "white",
          "plot_bgcolor": "white",
          "polar": {
           "angularaxis": {
            "gridcolor": "rgb(232,232,232)",
            "linecolor": "rgb(36,36,36)",
            "showgrid": false,
            "showline": true,
            "ticks": "outside"
           },
           "bgcolor": "white",
           "radialaxis": {
            "gridcolor": "rgb(232,232,232)",
            "linecolor": "rgb(36,36,36)",
            "showgrid": false,
            "showline": true,
            "ticks": "outside"
           }
          },
          "scene": {
           "xaxis": {
            "backgroundcolor": "white",
            "gridcolor": "rgb(232,232,232)",
            "gridwidth": 2,
            "linecolor": "rgb(36,36,36)",
            "showbackground": true,
            "showgrid": false,
            "showline": true,
            "ticks": "outside",
            "zeroline": false,
            "zerolinecolor": "rgb(36,36,36)"
           },
           "yaxis": {
            "backgroundcolor": "white",
            "gridcolor": "rgb(232,232,232)",
            "gridwidth": 2,
            "linecolor": "rgb(36,36,36)",
            "showbackground": true,
            "showgrid": false,
            "showline": true,
            "ticks": "outside",
            "zeroline": false,
            "zerolinecolor": "rgb(36,36,36)"
           },
           "zaxis": {
            "backgroundcolor": "white",
            "gridcolor": "rgb(232,232,232)",
            "gridwidth": 2,
            "linecolor": "rgb(36,36,36)",
            "showbackground": true,
            "showgrid": false,
            "showline": true,
            "ticks": "outside",
            "zeroline": false,
            "zerolinecolor": "rgb(36,36,36)"
           }
          },
          "shapedefaults": {
           "fillcolor": "black",
           "line": {
            "width": 0
           },
           "opacity": 0.3
          },
          "ternary": {
           "aaxis": {
            "gridcolor": "rgb(232,232,232)",
            "linecolor": "rgb(36,36,36)",
            "showgrid": false,
            "showline": true,
            "ticks": "outside"
           },
           "baxis": {
            "gridcolor": "rgb(232,232,232)",
            "linecolor": "rgb(36,36,36)",
            "showgrid": false,
            "showline": true,
            "ticks": "outside"
           },
           "bgcolor": "white",
           "caxis": {
            "gridcolor": "rgb(232,232,232)",
            "linecolor": "rgb(36,36,36)",
            "showgrid": false,
            "showline": true,
            "ticks": "outside"
           }
          },
          "title": {
           "x": 0.05
          },
          "xaxis": {
           "automargin": true,
           "gridcolor": "rgb(232,232,232)",
           "linecolor": "rgb(36,36,36)",
           "showgrid": false,
           "showline": true,
           "ticks": "outside",
           "title": {
            "standoff": 15
           },
           "zeroline": false,
           "zerolinecolor": "rgb(36,36,36)"
          },
          "yaxis": {
           "automargin": true,
           "gridcolor": "rgb(232,232,232)",
           "linecolor": "rgb(36,36,36)",
           "showgrid": false,
           "showline": true,
           "ticks": "outside",
           "title": {
            "standoff": 15
           },
           "zeroline": false,
           "zerolinecolor": "rgb(36,36,36)"
          }
         }
        },
        "title": {
         "text": "Test AUC Comparison",
         "x": 0.5,
         "xanchor": "center"
        },
        "width": 500,
        "xaxis": {
         "anchor": "y",
         "domain": [
          0,
          1
         ],
         "showgrid": false,
         "showline": false,
         "tickfont": {
          "size": 12
         },
         "title": {
          "text": "Model"
         }
        },
        "yaxis": {
         "anchor": "x",
         "domain": [
          0,
          1
         ],
         "gridcolor": "lightgrey",
         "showgrid": true,
         "tickfont": {
          "size": 12
         },
         "title": {
          "text": "Accuracy"
         }
        }
       }
      },
      "text/html": [
       "<div>                            <div id=\"cc430779-be2e-4833-8a96-04c0579c66dc\" class=\"plotly-graph-div\" style=\"height:400px; width:500px;\"></div>            <script type=\"text/javascript\">                require([\"plotly\"], function(Plotly) {                    window.PLOTLYENV=window.PLOTLYENV || {};                                    if (document.getElementById(\"cc430779-be2e-4833-8a96-04c0579c66dc\")) {                    Plotly.newPlot(                        \"cc430779-be2e-4833-8a96-04c0579c66dc\",                        [{\"alignmentgroup\":\"True\",\"hovertemplate\":\"Model=%{x}\\u003cbr\\u003eAccuracy=%{y}\\u003cextra\\u003e\\u003c\\u002fextra\\u003e\",\"legendgroup\":\"\",\"marker\":{\"color\":\"#ADD8E6\",\"pattern\":{\"shape\":\"\"},\"opacity\":0.8},\"name\":\"\",\"offsetgroup\":\"\",\"orientation\":\"v\",\"showlegend\":false,\"textposition\":\"auto\",\"x\":[\"FMCIBExtractor\",\"CTFMExtractor\",\"PyramidExtractorVar\",\"PyramidExtractorNoVar\",\"VISTA3DExtractor\",\"VocoExtractor\",\"SUPREMExtractor\",\"MerlinExtractor\",\"ModelsGenExtractor\"],\"xaxis\":\"x\",\"y\":[0.6885225737439178,0.5456092822662677,0.5613404166204544,0.5310744484950248,0.5853259989974988,0.5220525223492423,0.5241857760914848,0.5915583233151764,0.6432897903528356],\"yaxis\":\"y\",\"type\":\"bar\",\"texttemplate\":\"%{y:.2f}\"}],                        {\"template\":{\"data\":{\"barpolar\":[{\"marker\":{\"line\":{\"color\":\"white\",\"width\":0.5},\"pattern\":{\"fillmode\":\"overlay\",\"size\":10,\"solidity\":0.2}},\"type\":\"barpolar\"}],\"bar\":[{\"error_x\":{\"color\":\"rgb(36,36,36)\"},\"error_y\":{\"color\":\"rgb(36,36,36)\"},\"marker\":{\"line\":{\"color\":\"white\",\"width\":0.5},\"pattern\":{\"fillmode\":\"overlay\",\"size\":10,\"solidity\":0.2}},\"type\":\"bar\"}],\"carpet\":[{\"aaxis\":{\"endlinecolor\":\"rgb(36,36,36)\",\"gridcolor\":\"white\",\"linecolor\":\"white\",\"minorgridcolor\":\"white\",\"startlinecolor\":\"rgb(36,36,36)\"},\"baxis\":{\"endlinecolor\":\"rgb(36,36,36)\",\"gridcolor\":\"white\",\"linecolor\":\"white\",\"minorgridcolor\":\"white\",\"startlinecolor\":\"rgb(36,36,36)\"},\"type\":\"carpet\"}],\"choropleth\":[{\"colorbar\":{\"outlinewidth\":1,\"tickcolor\":\"rgb(36,36,36)\",\"ticks\":\"outside\"},\"type\":\"choropleth\"}],\"contourcarpet\":[{\"colorbar\":{\"outlinewidth\":1,\"tickcolor\":\"rgb(36,36,36)\",\"ticks\":\"outside\"},\"type\":\"contourcarpet\"}],\"contour\":[{\"colorbar\":{\"outlinewidth\":1,\"tickcolor\":\"rgb(36,36,36)\",\"ticks\":\"outside\"},\"colorscale\":[[0.0,\"#440154\"],[0.1111111111111111,\"#482878\"],[0.2222222222222222,\"#3e4989\"],[0.3333333333333333,\"#31688e\"],[0.4444444444444444,\"#26828e\"],[0.5555555555555556,\"#1f9e89\"],[0.6666666666666666,\"#35b779\"],[0.7777777777777778,\"#6ece58\"],[0.8888888888888888,\"#b5de2b\"],[1.0,\"#fde725\"]],\"type\":\"contour\"}],\"heatmapgl\":[{\"colorbar\":{\"outlinewidth\":1,\"tickcolor\":\"rgb(36,36,36)\",\"ticks\":\"outside\"},\"colorscale\":[[0.0,\"#440154\"],[0.1111111111111111,\"#482878\"],[0.2222222222222222,\"#3e4989\"],[0.3333333333333333,\"#31688e\"],[0.4444444444444444,\"#26828e\"],[0.5555555555555556,\"#1f9e89\"],[0.6666666666666666,\"#35b779\"],[0.7777777777777778,\"#6ece58\"],[0.8888888888888888,\"#b5de2b\"],[1.0,\"#fde725\"]],\"type\":\"heatmapgl\"}],\"heatmap\":[{\"colorbar\":{\"outlinewidth\":1,\"tickcolor\":\"rgb(36,36,36)\",\"ticks\":\"outside\"},\"colorscale\":[[0.0,\"#440154\"],[0.1111111111111111,\"#482878\"],[0.2222222222222222,\"#3e4989\"],[0.3333333333333333,\"#31688e\"],[0.4444444444444444,\"#26828e\"],[0.5555555555555556,\"#1f9e89\"],[0.6666666666666666,\"#35b779\"],[0.7777777777777778,\"#6ece58\"],[0.8888888888888888,\"#b5de2b\"],[1.0,\"#fde725\"]],\"type\":\"heatmap\"}],\"histogram2dcontour\":[{\"colorbar\":{\"outlinewidth\":1,\"tickcolor\":\"rgb(36,36,36)\",\"ticks\":\"outside\"},\"colorscale\":[[0.0,\"#440154\"],[0.1111111111111111,\"#482878\"],[0.2222222222222222,\"#3e4989\"],[0.3333333333333333,\"#31688e\"],[0.4444444444444444,\"#26828e\"],[0.5555555555555556,\"#1f9e89\"],[0.6666666666666666,\"#35b779\"],[0.7777777777777778,\"#6ece58\"],[0.8888888888888888,\"#b5de2b\"],[1.0,\"#fde725\"]],\"type\":\"histogram2dcontour\"}],\"histogram2d\":[{\"colorbar\":{\"outlinewidth\":1,\"tickcolor\":\"rgb(36,36,36)\",\"ticks\":\"outside\"},\"colorscale\":[[0.0,\"#440154\"],[0.1111111111111111,\"#482878\"],[0.2222222222222222,\"#3e4989\"],[0.3333333333333333,\"#31688e\"],[0.4444444444444444,\"#26828e\"],[0.5555555555555556,\"#1f9e89\"],[0.6666666666666666,\"#35b779\"],[0.7777777777777778,\"#6ece58\"],[0.8888888888888888,\"#b5de2b\"],[1.0,\"#fde725\"]],\"type\":\"histogram2d\"}],\"histogram\":[{\"marker\":{\"line\":{\"color\":\"white\",\"width\":0.6}},\"type\":\"histogram\"}],\"mesh3d\":[{\"colorbar\":{\"outlinewidth\":1,\"tickcolor\":\"rgb(36,36,36)\",\"ticks\":\"outside\"},\"type\":\"mesh3d\"}],\"parcoords\":[{\"line\":{\"colorbar\":{\"outlinewidth\":1,\"tickcolor\":\"rgb(36,36,36)\",\"ticks\":\"outside\"}},\"type\":\"parcoords\"}],\"pie\":[{\"automargin\":true,\"type\":\"pie\"}],\"scatter3d\":[{\"line\":{\"colorbar\":{\"outlinewidth\":1,\"tickcolor\":\"rgb(36,36,36)\",\"ticks\":\"outside\"}},\"marker\":{\"colorbar\":{\"outlinewidth\":1,\"tickcolor\":\"rgb(36,36,36)\",\"ticks\":\"outside\"}},\"type\":\"scatter3d\"}],\"scattercarpet\":[{\"marker\":{\"colorbar\":{\"outlinewidth\":1,\"tickcolor\":\"rgb(36,36,36)\",\"ticks\":\"outside\"}},\"type\":\"scattercarpet\"}],\"scattergeo\":[{\"marker\":{\"colorbar\":{\"outlinewidth\":1,\"tickcolor\":\"rgb(36,36,36)\",\"ticks\":\"outside\"}},\"type\":\"scattergeo\"}],\"scattergl\":[{\"marker\":{\"colorbar\":{\"outlinewidth\":1,\"tickcolor\":\"rgb(36,36,36)\",\"ticks\":\"outside\"}},\"type\":\"scattergl\"}],\"scattermapbox\":[{\"marker\":{\"colorbar\":{\"outlinewidth\":1,\"tickcolor\":\"rgb(36,36,36)\",\"ticks\":\"outside\"}},\"type\":\"scattermapbox\"}],\"scatterpolargl\":[{\"marker\":{\"colorbar\":{\"outlinewidth\":1,\"tickcolor\":\"rgb(36,36,36)\",\"ticks\":\"outside\"}},\"type\":\"scatterpolargl\"}],\"scatterpolar\":[{\"marker\":{\"colorbar\":{\"outlinewidth\":1,\"tickcolor\":\"rgb(36,36,36)\",\"ticks\":\"outside\"}},\"type\":\"scatterpolar\"}],\"scatter\":[{\"fillpattern\":{\"fillmode\":\"overlay\",\"size\":10,\"solidity\":0.2},\"type\":\"scatter\"}],\"scatterternary\":[{\"marker\":{\"colorbar\":{\"outlinewidth\":1,\"tickcolor\":\"rgb(36,36,36)\",\"ticks\":\"outside\"}},\"type\":\"scatterternary\"}],\"surface\":[{\"colorbar\":{\"outlinewidth\":1,\"tickcolor\":\"rgb(36,36,36)\",\"ticks\":\"outside\"},\"colorscale\":[[0.0,\"#440154\"],[0.1111111111111111,\"#482878\"],[0.2222222222222222,\"#3e4989\"],[0.3333333333333333,\"#31688e\"],[0.4444444444444444,\"#26828e\"],[0.5555555555555556,\"#1f9e89\"],[0.6666666666666666,\"#35b779\"],[0.7777777777777778,\"#6ece58\"],[0.8888888888888888,\"#b5de2b\"],[1.0,\"#fde725\"]],\"type\":\"surface\"}],\"table\":[{\"cells\":{\"fill\":{\"color\":\"rgb(237,237,237)\"},\"line\":{\"color\":\"white\"}},\"header\":{\"fill\":{\"color\":\"rgb(217,217,217)\"},\"line\":{\"color\":\"white\"}},\"type\":\"table\"}]},\"layout\":{\"annotationdefaults\":{\"arrowhead\":0,\"arrowwidth\":1},\"autotypenumbers\":\"strict\",\"coloraxis\":{\"colorbar\":{\"outlinewidth\":1,\"tickcolor\":\"rgb(36,36,36)\",\"ticks\":\"outside\"}},\"colorscale\":{\"diverging\":[[0.0,\"rgb(103,0,31)\"],[0.1,\"rgb(178,24,43)\"],[0.2,\"rgb(214,96,77)\"],[0.3,\"rgb(244,165,130)\"],[0.4,\"rgb(253,219,199)\"],[0.5,\"rgb(247,247,247)\"],[0.6,\"rgb(209,229,240)\"],[0.7,\"rgb(146,197,222)\"],[0.8,\"rgb(67,147,195)\"],[0.9,\"rgb(33,102,172)\"],[1.0,\"rgb(5,48,97)\"]],\"sequential\":[[0.0,\"#440154\"],[0.1111111111111111,\"#482878\"],[0.2222222222222222,\"#3e4989\"],[0.3333333333333333,\"#31688e\"],[0.4444444444444444,\"#26828e\"],[0.5555555555555556,\"#1f9e89\"],[0.6666666666666666,\"#35b779\"],[0.7777777777777778,\"#6ece58\"],[0.8888888888888888,\"#b5de2b\"],[1.0,\"#fde725\"]],\"sequentialminus\":[[0.0,\"#440154\"],[0.1111111111111111,\"#482878\"],[0.2222222222222222,\"#3e4989\"],[0.3333333333333333,\"#31688e\"],[0.4444444444444444,\"#26828e\"],[0.5555555555555556,\"#1f9e89\"],[0.6666666666666666,\"#35b779\"],[0.7777777777777778,\"#6ece58\"],[0.8888888888888888,\"#b5de2b\"],[1.0,\"#fde725\"]]},\"colorway\":[\"#1F77B4\",\"#FF7F0E\",\"#2CA02C\",\"#D62728\",\"#9467BD\",\"#8C564B\",\"#E377C2\",\"#7F7F7F\",\"#BCBD22\",\"#17BECF\"],\"font\":{\"color\":\"rgb(36,36,36)\"},\"geo\":{\"bgcolor\":\"white\",\"lakecolor\":\"white\",\"landcolor\":\"white\",\"showlakes\":true,\"showland\":true,\"subunitcolor\":\"white\"},\"hoverlabel\":{\"align\":\"left\"},\"hovermode\":\"closest\",\"mapbox\":{\"style\":\"light\"},\"paper_bgcolor\":\"white\",\"plot_bgcolor\":\"white\",\"polar\":{\"angularaxis\":{\"gridcolor\":\"rgb(232,232,232)\",\"linecolor\":\"rgb(36,36,36)\",\"showgrid\":false,\"showline\":true,\"ticks\":\"outside\"},\"bgcolor\":\"white\",\"radialaxis\":{\"gridcolor\":\"rgb(232,232,232)\",\"linecolor\":\"rgb(36,36,36)\",\"showgrid\":false,\"showline\":true,\"ticks\":\"outside\"}},\"scene\":{\"xaxis\":{\"backgroundcolor\":\"white\",\"gridcolor\":\"rgb(232,232,232)\",\"gridwidth\":2,\"linecolor\":\"rgb(36,36,36)\",\"showbackground\":true,\"showgrid\":false,\"showline\":true,\"ticks\":\"outside\",\"zeroline\":false,\"zerolinecolor\":\"rgb(36,36,36)\"},\"yaxis\":{\"backgroundcolor\":\"white\",\"gridcolor\":\"rgb(232,232,232)\",\"gridwidth\":2,\"linecolor\":\"rgb(36,36,36)\",\"showbackground\":true,\"showgrid\":false,\"showline\":true,\"ticks\":\"outside\",\"zeroline\":false,\"zerolinecolor\":\"rgb(36,36,36)\"},\"zaxis\":{\"backgroundcolor\":\"white\",\"gridcolor\":\"rgb(232,232,232)\",\"gridwidth\":2,\"linecolor\":\"rgb(36,36,36)\",\"showbackground\":true,\"showgrid\":false,\"showline\":true,\"ticks\":\"outside\",\"zeroline\":false,\"zerolinecolor\":\"rgb(36,36,36)\"}},\"shapedefaults\":{\"fillcolor\":\"black\",\"line\":{\"width\":0},\"opacity\":0.3},\"ternary\":{\"aaxis\":{\"gridcolor\":\"rgb(232,232,232)\",\"linecolor\":\"rgb(36,36,36)\",\"showgrid\":false,\"showline\":true,\"ticks\":\"outside\"},\"baxis\":{\"gridcolor\":\"rgb(232,232,232)\",\"linecolor\":\"rgb(36,36,36)\",\"showgrid\":false,\"showline\":true,\"ticks\":\"outside\"},\"bgcolor\":\"white\",\"caxis\":{\"gridcolor\":\"rgb(232,232,232)\",\"linecolor\":\"rgb(36,36,36)\",\"showgrid\":false,\"showline\":true,\"ticks\":\"outside\"}},\"title\":{\"x\":0.05},\"xaxis\":{\"automargin\":true,\"gridcolor\":\"rgb(232,232,232)\",\"linecolor\":\"rgb(36,36,36)\",\"showgrid\":false,\"showline\":true,\"ticks\":\"outside\",\"title\":{\"standoff\":15},\"zeroline\":false,\"zerolinecolor\":\"rgb(36,36,36)\"},\"yaxis\":{\"automargin\":true,\"gridcolor\":\"rgb(232,232,232)\",\"linecolor\":\"rgb(36,36,36)\",\"showgrid\":false,\"showline\":true,\"ticks\":\"outside\",\"title\":{\"standoff\":15},\"zeroline\":false,\"zerolinecolor\":\"rgb(36,36,36)\"}}},\"xaxis\":{\"anchor\":\"y\",\"domain\":[0.0,1.0],\"title\":{\"text\":\"Model\"},\"tickfont\":{\"size\":12},\"showline\":false,\"showgrid\":false},\"yaxis\":{\"anchor\":\"x\",\"domain\":[0.0,1.0],\"title\":{\"text\":\"Accuracy\"},\"tickfont\":{\"size\":12},\"showgrid\":true,\"gridcolor\":\"lightgrey\"},\"legend\":{\"tracegroupgap\":0},\"title\":{\"text\":\"Test AUC Comparison\",\"x\":0.5,\"xanchor\":\"center\"},\"barmode\":\"relative\",\"height\":400,\"width\":500,\"margin\":{\"l\":20,\"r\":20,\"t\":40,\"b\":20},\"font\":{\"size\":12,\"family\":\"Arial\"},\"showlegend\":false},                        {\"responsive\": true}                    ).then(function(){\n",
       "                            \n",
       "var gd = document.getElementById('cc430779-be2e-4833-8a96-04c0579c66dc');\n",
       "var x = new MutationObserver(function (mutations, observer) {{\n",
       "        var display = window.getComputedStyle(gd).display;\n",
       "        if (!display || display === 'none') {{\n",
       "            console.log([gd, 'removed!']);\n",
       "            Plotly.purge(gd);\n",
       "            observer.disconnect();\n",
       "        }}\n",
       "}});\n",
       "\n",
       "// Listen for the removal of the full notebook cells\n",
       "var notebookContainer = gd.closest('#notebook-container');\n",
       "if (notebookContainer) {{\n",
       "    x.observe(notebookContainer, {childList: true});\n",
       "}}\n",
       "\n",
       "// Listen for the clearing of the current output cell\n",
       "var outputEl = gd.closest('.output');\n",
       "if (outputEl) {{\n",
       "    x.observe(outputEl, {childList: true});\n",
       "}}\n",
       "\n",
       "                        })                };                });            </script>        </div>"
      ]
     },
     "metadata": {},
     "output_type": "display_data"
    }
   ],
   "source": [
    "# Plot test accuracies\n",
    "fig = plot_model_comparison(test_accuracies_dict)\n",
    "fig.show() # Show the plot"
   ]
  },
  {
   "cell_type": "code",
   "execution_count": 12,
   "metadata": {},
   "outputs": [
    {
     "data": {
      "application/vnd.plotly.v1+json": {
       "config": {
        "plotlyServerURL": "https://plot.ly"
       },
       "data": [
        {
         "coloraxis": "coloraxis",
         "hovertemplate": "Model: %{x}<br>Model: %{y}<br>Average Overlap: %{z}<extra></extra>",
         "name": "0",
         "type": "heatmap",
         "x": [
          "FMCIBExtractor",
          "CTFMExtractor",
          "PyramidExtractorVar",
          "PyramidExtractorNoVar",
          "VISTA3DExtractor",
          "VocoExtractor",
          "SUPREMExtractor",
          "MerlinExtractor",
          "ModelsGenExtractor"
         ],
         "xaxis": "x",
         "y": [
          "FMCIBExtractor",
          "CTFMExtractor",
          "PyramidExtractorVar",
          "PyramidExtractorNoVar",
          "VISTA3DExtractor",
          "VocoExtractor",
          "SUPREMExtractor",
          "MerlinExtractor",
          "ModelsGenExtractor"
         ],
         "yaxis": "y",
         "z": [
          [
           null,
           2.0490081680280046,
           0.6301050175029171,
           0.29638273045507585,
           2.6662777129521587,
           0.10618436406067679,
           1.7753792298716453,
           0.8512252042007001,
           2.7753792298716453
          ],
          [
           2.0490081680280046,
           null,
           0.42998833138856474,
           0.2117852975495916,
           3.1114352392065343,
           0.10326721120186698,
           2.0828471411901983,
           0.9049008168028004,
           2.9924154025670946
          ],
          [
           0.6301050175029171,
           0.42998833138856474,
           null,
           0.22287047841306884,
           0.6050175029171528,
           0.07117852975495916,
           0.4457409568261377,
           0.25845974329054844,
           0.5968494749124854
          ],
          [
           0.29638273045507585,
           0.2117852975495916,
           0.22287047841306884,
           null,
           0.2701283547257876,
           0.0647607934655776,
           0.2147024504084014,
           0.1633605600933489,
           0.2660443407234539
          ],
          [
           2.6662777129521587,
           3.1114352392065343,
           0.6050175029171528,
           0.2701283547257876,
           null,
           0.10501750291715285,
           2.7018669778296385,
           1.0093348891481915,
           3.9959159859976663
          ],
          [
           0.10618436406067679,
           0.10326721120186698,
           0.07117852975495916,
           0.0647607934655776,
           0.10501750291715285,
           null,
           0.09801633605600933,
           0.09451575262543757,
           0.10035005834305717
          ],
          [
           1.7753792298716453,
           2.0828471411901983,
           0.4457409568261377,
           0.2147024504084014,
           2.7018669778296385,
           0.09801633605600933,
           null,
           0.6557759626604434,
           2.6668611435239207
          ],
          [
           0.8512252042007001,
           0.9049008168028004,
           0.25845974329054844,
           0.1633605600933489,
           1.0093348891481915,
           0.09451575262543757,
           0.6557759626604434,
           null,
           0.9760793465577596
          ],
          [
           2.7753792298716453,
           2.9924154025670946,
           0.5968494749124854,
           0.2660443407234539,
           3.9959159859976663,
           0.10035005834305717,
           2.6668611435239207,
           0.9760793465577596,
           null
          ]
         ]
        }
       ],
       "layout": {
        "coloraxis": {
         "colorbar": {
          "title": {
           "text": "Average Overlap"
          }
         },
         "colorscale": [
          [
           0,
           "rgb(247,251,255)"
          ],
          [
           0.125,
           "rgb(222,235,247)"
          ],
          [
           0.25,
           "rgb(198,219,239)"
          ],
          [
           0.375,
           "rgb(158,202,225)"
          ],
          [
           0.5,
           "rgb(107,174,214)"
          ],
          [
           0.625,
           "rgb(66,146,198)"
          ],
          [
           0.75,
           "rgb(33,113,181)"
          ],
          [
           0.875,
           "rgb(8,81,156)"
          ],
          [
           1,
           "rgb(8,48,107)"
          ]
         ]
        },
        "margin": {
         "t": 60
        },
        "template": {
         "data": {
          "bar": [
           {
            "error_x": {
             "color": "rgb(36,36,36)"
            },
            "error_y": {
             "color": "rgb(36,36,36)"
            },
            "marker": {
             "line": {
              "color": "white",
              "width": 0.5
             },
             "pattern": {
              "fillmode": "overlay",
              "size": 10,
              "solidity": 0.2
             }
            },
            "type": "bar"
           }
          ],
          "barpolar": [
           {
            "marker": {
             "line": {
              "color": "white",
              "width": 0.5
             },
             "pattern": {
              "fillmode": "overlay",
              "size": 10,
              "solidity": 0.2
             }
            },
            "type": "barpolar"
           }
          ],
          "carpet": [
           {
            "aaxis": {
             "endlinecolor": "rgb(36,36,36)",
             "gridcolor": "white",
             "linecolor": "white",
             "minorgridcolor": "white",
             "startlinecolor": "rgb(36,36,36)"
            },
            "baxis": {
             "endlinecolor": "rgb(36,36,36)",
             "gridcolor": "white",
             "linecolor": "white",
             "minorgridcolor": "white",
             "startlinecolor": "rgb(36,36,36)"
            },
            "type": "carpet"
           }
          ],
          "choropleth": [
           {
            "colorbar": {
             "outlinewidth": 1,
             "tickcolor": "rgb(36,36,36)",
             "ticks": "outside"
            },
            "type": "choropleth"
           }
          ],
          "contour": [
           {
            "colorbar": {
             "outlinewidth": 1,
             "tickcolor": "rgb(36,36,36)",
             "ticks": "outside"
            },
            "colorscale": [
             [
              0,
              "#440154"
             ],
             [
              0.1111111111111111,
              "#482878"
             ],
             [
              0.2222222222222222,
              "#3e4989"
             ],
             [
              0.3333333333333333,
              "#31688e"
             ],
             [
              0.4444444444444444,
              "#26828e"
             ],
             [
              0.5555555555555556,
              "#1f9e89"
             ],
             [
              0.6666666666666666,
              "#35b779"
             ],
             [
              0.7777777777777778,
              "#6ece58"
             ],
             [
              0.8888888888888888,
              "#b5de2b"
             ],
             [
              1,
              "#fde725"
             ]
            ],
            "type": "contour"
           }
          ],
          "contourcarpet": [
           {
            "colorbar": {
             "outlinewidth": 1,
             "tickcolor": "rgb(36,36,36)",
             "ticks": "outside"
            },
            "type": "contourcarpet"
           }
          ],
          "heatmap": [
           {
            "colorbar": {
             "outlinewidth": 1,
             "tickcolor": "rgb(36,36,36)",
             "ticks": "outside"
            },
            "colorscale": [
             [
              0,
              "#440154"
             ],
             [
              0.1111111111111111,
              "#482878"
             ],
             [
              0.2222222222222222,
              "#3e4989"
             ],
             [
              0.3333333333333333,
              "#31688e"
             ],
             [
              0.4444444444444444,
              "#26828e"
             ],
             [
              0.5555555555555556,
              "#1f9e89"
             ],
             [
              0.6666666666666666,
              "#35b779"
             ],
             [
              0.7777777777777778,
              "#6ece58"
             ],
             [
              0.8888888888888888,
              "#b5de2b"
             ],
             [
              1,
              "#fde725"
             ]
            ],
            "type": "heatmap"
           }
          ],
          "heatmapgl": [
           {
            "colorbar": {
             "outlinewidth": 1,
             "tickcolor": "rgb(36,36,36)",
             "ticks": "outside"
            },
            "colorscale": [
             [
              0,
              "#440154"
             ],
             [
              0.1111111111111111,
              "#482878"
             ],
             [
              0.2222222222222222,
              "#3e4989"
             ],
             [
              0.3333333333333333,
              "#31688e"
             ],
             [
              0.4444444444444444,
              "#26828e"
             ],
             [
              0.5555555555555556,
              "#1f9e89"
             ],
             [
              0.6666666666666666,
              "#35b779"
             ],
             [
              0.7777777777777778,
              "#6ece58"
             ],
             [
              0.8888888888888888,
              "#b5de2b"
             ],
             [
              1,
              "#fde725"
             ]
            ],
            "type": "heatmapgl"
           }
          ],
          "histogram": [
           {
            "marker": {
             "line": {
              "color": "white",
              "width": 0.6
             }
            },
            "type": "histogram"
           }
          ],
          "histogram2d": [
           {
            "colorbar": {
             "outlinewidth": 1,
             "tickcolor": "rgb(36,36,36)",
             "ticks": "outside"
            },
            "colorscale": [
             [
              0,
              "#440154"
             ],
             [
              0.1111111111111111,
              "#482878"
             ],
             [
              0.2222222222222222,
              "#3e4989"
             ],
             [
              0.3333333333333333,
              "#31688e"
             ],
             [
              0.4444444444444444,
              "#26828e"
             ],
             [
              0.5555555555555556,
              "#1f9e89"
             ],
             [
              0.6666666666666666,
              "#35b779"
             ],
             [
              0.7777777777777778,
              "#6ece58"
             ],
             [
              0.8888888888888888,
              "#b5de2b"
             ],
             [
              1,
              "#fde725"
             ]
            ],
            "type": "histogram2d"
           }
          ],
          "histogram2dcontour": [
           {
            "colorbar": {
             "outlinewidth": 1,
             "tickcolor": "rgb(36,36,36)",
             "ticks": "outside"
            },
            "colorscale": [
             [
              0,
              "#440154"
             ],
             [
              0.1111111111111111,
              "#482878"
             ],
             [
              0.2222222222222222,
              "#3e4989"
             ],
             [
              0.3333333333333333,
              "#31688e"
             ],
             [
              0.4444444444444444,
              "#26828e"
             ],
             [
              0.5555555555555556,
              "#1f9e89"
             ],
             [
              0.6666666666666666,
              "#35b779"
             ],
             [
              0.7777777777777778,
              "#6ece58"
             ],
             [
              0.8888888888888888,
              "#b5de2b"
             ],
             [
              1,
              "#fde725"
             ]
            ],
            "type": "histogram2dcontour"
           }
          ],
          "mesh3d": [
           {
            "colorbar": {
             "outlinewidth": 1,
             "tickcolor": "rgb(36,36,36)",
             "ticks": "outside"
            },
            "type": "mesh3d"
           }
          ],
          "parcoords": [
           {
            "line": {
             "colorbar": {
              "outlinewidth": 1,
              "tickcolor": "rgb(36,36,36)",
              "ticks": "outside"
             }
            },
            "type": "parcoords"
           }
          ],
          "pie": [
           {
            "automargin": true,
            "type": "pie"
           }
          ],
          "scatter": [
           {
            "fillpattern": {
             "fillmode": "overlay",
             "size": 10,
             "solidity": 0.2
            },
            "type": "scatter"
           }
          ],
          "scatter3d": [
           {
            "line": {
             "colorbar": {
              "outlinewidth": 1,
              "tickcolor": "rgb(36,36,36)",
              "ticks": "outside"
             }
            },
            "marker": {
             "colorbar": {
              "outlinewidth": 1,
              "tickcolor": "rgb(36,36,36)",
              "ticks": "outside"
             }
            },
            "type": "scatter3d"
           }
          ],
          "scattercarpet": [
           {
            "marker": {
             "colorbar": {
              "outlinewidth": 1,
              "tickcolor": "rgb(36,36,36)",
              "ticks": "outside"
             }
            },
            "type": "scattercarpet"
           }
          ],
          "scattergeo": [
           {
            "marker": {
             "colorbar": {
              "outlinewidth": 1,
              "tickcolor": "rgb(36,36,36)",
              "ticks": "outside"
             }
            },
            "type": "scattergeo"
           }
          ],
          "scattergl": [
           {
            "marker": {
             "colorbar": {
              "outlinewidth": 1,
              "tickcolor": "rgb(36,36,36)",
              "ticks": "outside"
             }
            },
            "type": "scattergl"
           }
          ],
          "scattermapbox": [
           {
            "marker": {
             "colorbar": {
              "outlinewidth": 1,
              "tickcolor": "rgb(36,36,36)",
              "ticks": "outside"
             }
            },
            "type": "scattermapbox"
           }
          ],
          "scatterpolar": [
           {
            "marker": {
             "colorbar": {
              "outlinewidth": 1,
              "tickcolor": "rgb(36,36,36)",
              "ticks": "outside"
             }
            },
            "type": "scatterpolar"
           }
          ],
          "scatterpolargl": [
           {
            "marker": {
             "colorbar": {
              "outlinewidth": 1,
              "tickcolor": "rgb(36,36,36)",
              "ticks": "outside"
             }
            },
            "type": "scatterpolargl"
           }
          ],
          "scatterternary": [
           {
            "marker": {
             "colorbar": {
              "outlinewidth": 1,
              "tickcolor": "rgb(36,36,36)",
              "ticks": "outside"
             }
            },
            "type": "scatterternary"
           }
          ],
          "surface": [
           {
            "colorbar": {
             "outlinewidth": 1,
             "tickcolor": "rgb(36,36,36)",
             "ticks": "outside"
            },
            "colorscale": [
             [
              0,
              "#440154"
             ],
             [
              0.1111111111111111,
              "#482878"
             ],
             [
              0.2222222222222222,
              "#3e4989"
             ],
             [
              0.3333333333333333,
              "#31688e"
             ],
             [
              0.4444444444444444,
              "#26828e"
             ],
             [
              0.5555555555555556,
              "#1f9e89"
             ],
             [
              0.6666666666666666,
              "#35b779"
             ],
             [
              0.7777777777777778,
              "#6ece58"
             ],
             [
              0.8888888888888888,
              "#b5de2b"
             ],
             [
              1,
              "#fde725"
             ]
            ],
            "type": "surface"
           }
          ],
          "table": [
           {
            "cells": {
             "fill": {
              "color": "rgb(237,237,237)"
             },
             "line": {
              "color": "white"
             }
            },
            "header": {
             "fill": {
              "color": "rgb(217,217,217)"
             },
             "line": {
              "color": "white"
             }
            },
            "type": "table"
           }
          ]
         },
         "layout": {
          "annotationdefaults": {
           "arrowhead": 0,
           "arrowwidth": 1
          },
          "autotypenumbers": "strict",
          "coloraxis": {
           "colorbar": {
            "outlinewidth": 1,
            "tickcolor": "rgb(36,36,36)",
            "ticks": "outside"
           }
          },
          "colorscale": {
           "diverging": [
            [
             0,
             "rgb(103,0,31)"
            ],
            [
             0.1,
             "rgb(178,24,43)"
            ],
            [
             0.2,
             "rgb(214,96,77)"
            ],
            [
             0.3,
             "rgb(244,165,130)"
            ],
            [
             0.4,
             "rgb(253,219,199)"
            ],
            [
             0.5,
             "rgb(247,247,247)"
            ],
            [
             0.6,
             "rgb(209,229,240)"
            ],
            [
             0.7,
             "rgb(146,197,222)"
            ],
            [
             0.8,
             "rgb(67,147,195)"
            ],
            [
             0.9,
             "rgb(33,102,172)"
            ],
            [
             1,
             "rgb(5,48,97)"
            ]
           ],
           "sequential": [
            [
             0,
             "#440154"
            ],
            [
             0.1111111111111111,
             "#482878"
            ],
            [
             0.2222222222222222,
             "#3e4989"
            ],
            [
             0.3333333333333333,
             "#31688e"
            ],
            [
             0.4444444444444444,
             "#26828e"
            ],
            [
             0.5555555555555556,
             "#1f9e89"
            ],
            [
             0.6666666666666666,
             "#35b779"
            ],
            [
             0.7777777777777778,
             "#6ece58"
            ],
            [
             0.8888888888888888,
             "#b5de2b"
            ],
            [
             1,
             "#fde725"
            ]
           ],
           "sequentialminus": [
            [
             0,
             "#440154"
            ],
            [
             0.1111111111111111,
             "#482878"
            ],
            [
             0.2222222222222222,
             "#3e4989"
            ],
            [
             0.3333333333333333,
             "#31688e"
            ],
            [
             0.4444444444444444,
             "#26828e"
            ],
            [
             0.5555555555555556,
             "#1f9e89"
            ],
            [
             0.6666666666666666,
             "#35b779"
            ],
            [
             0.7777777777777778,
             "#6ece58"
            ],
            [
             0.8888888888888888,
             "#b5de2b"
            ],
            [
             1,
             "#fde725"
            ]
           ]
          },
          "colorway": [
           "#1F77B4",
           "#FF7F0E",
           "#2CA02C",
           "#D62728",
           "#9467BD",
           "#8C564B",
           "#E377C2",
           "#7F7F7F",
           "#BCBD22",
           "#17BECF"
          ],
          "font": {
           "color": "rgb(36,36,36)"
          },
          "geo": {
           "bgcolor": "white",
           "lakecolor": "white",
           "landcolor": "white",
           "showlakes": true,
           "showland": true,
           "subunitcolor": "white"
          },
          "hoverlabel": {
           "align": "left"
          },
          "hovermode": "closest",
          "mapbox": {
           "style": "light"
          },
          "paper_bgcolor": "white",
          "plot_bgcolor": "white",
          "polar": {
           "angularaxis": {
            "gridcolor": "rgb(232,232,232)",
            "linecolor": "rgb(36,36,36)",
            "showgrid": false,
            "showline": true,
            "ticks": "outside"
           },
           "bgcolor": "white",
           "radialaxis": {
            "gridcolor": "rgb(232,232,232)",
            "linecolor": "rgb(36,36,36)",
            "showgrid": false,
            "showline": true,
            "ticks": "outside"
           }
          },
          "scene": {
           "xaxis": {
            "backgroundcolor": "white",
            "gridcolor": "rgb(232,232,232)",
            "gridwidth": 2,
            "linecolor": "rgb(36,36,36)",
            "showbackground": true,
            "showgrid": false,
            "showline": true,
            "ticks": "outside",
            "zeroline": false,
            "zerolinecolor": "rgb(36,36,36)"
           },
           "yaxis": {
            "backgroundcolor": "white",
            "gridcolor": "rgb(232,232,232)",
            "gridwidth": 2,
            "linecolor": "rgb(36,36,36)",
            "showbackground": true,
            "showgrid": false,
            "showline": true,
            "ticks": "outside",
            "zeroline": false,
            "zerolinecolor": "rgb(36,36,36)"
           },
           "zaxis": {
            "backgroundcolor": "white",
            "gridcolor": "rgb(232,232,232)",
            "gridwidth": 2,
            "linecolor": "rgb(36,36,36)",
            "showbackground": true,
            "showgrid": false,
            "showline": true,
            "ticks": "outside",
            "zeroline": false,
            "zerolinecolor": "rgb(36,36,36)"
           }
          },
          "shapedefaults": {
           "fillcolor": "black",
           "line": {
            "width": 0
           },
           "opacity": 0.3
          },
          "ternary": {
           "aaxis": {
            "gridcolor": "rgb(232,232,232)",
            "linecolor": "rgb(36,36,36)",
            "showgrid": false,
            "showline": true,
            "ticks": "outside"
           },
           "baxis": {
            "gridcolor": "rgb(232,232,232)",
            "linecolor": "rgb(36,36,36)",
            "showgrid": false,
            "showline": true,
            "ticks": "outside"
           },
           "bgcolor": "white",
           "caxis": {
            "gridcolor": "rgb(232,232,232)",
            "linecolor": "rgb(36,36,36)",
            "showgrid": false,
            "showline": true,
            "ticks": "outside"
           }
          },
          "title": {
           "x": 0.05
          },
          "xaxis": {
           "automargin": true,
           "gridcolor": "rgb(232,232,232)",
           "linecolor": "rgb(36,36,36)",
           "showgrid": false,
           "showline": true,
           "ticks": "outside",
           "title": {
            "standoff": 15
           },
           "zeroline": false,
           "zerolinecolor": "rgb(36,36,36)"
          },
          "yaxis": {
           "automargin": true,
           "gridcolor": "rgb(232,232,232)",
           "linecolor": "rgb(36,36,36)",
           "showgrid": false,
           "showline": true,
           "ticks": "outside",
           "title": {
            "standoff": 15
           },
           "zeroline": false,
           "zerolinecolor": "rgb(36,36,36)"
          }
         }
        },
        "title": {
         "text": "Mutual k-Nearest Neighbors Overlap Scores"
        },
        "width": 600,
        "xaxis": {
         "anchor": "y",
         "constrain": "domain",
         "domain": [
          0,
          1
         ],
         "scaleanchor": "y",
         "tickangle": 45,
         "title": {
          "text": "Model"
         }
        },
        "yaxis": {
         "anchor": "x",
         "autorange": "reversed",
         "constrain": "domain",
         "domain": [
          0,
          1
         ],
         "title": {
          "text": "Model"
         }
        }
       }
      },
      "text/html": [
       "<div>                            <div id=\"be54d0ce-cc70-4e35-b2db-80a88cf0ac81\" class=\"plotly-graph-div\" style=\"height:525px; width:600px;\"></div>            <script type=\"text/javascript\">                require([\"plotly\"], function(Plotly) {                    window.PLOTLYENV=window.PLOTLYENV || {};                                    if (document.getElementById(\"be54d0ce-cc70-4e35-b2db-80a88cf0ac81\")) {                    Plotly.newPlot(                        \"be54d0ce-cc70-4e35-b2db-80a88cf0ac81\",                        [{\"coloraxis\":\"coloraxis\",\"name\":\"0\",\"x\":[\"FMCIBExtractor\",\"CTFMExtractor\",\"PyramidExtractorVar\",\"PyramidExtractorNoVar\",\"VISTA3DExtractor\",\"VocoExtractor\",\"SUPREMExtractor\",\"MerlinExtractor\",\"ModelsGenExtractor\"],\"y\":[\"FMCIBExtractor\",\"CTFMExtractor\",\"PyramidExtractorVar\",\"PyramidExtractorNoVar\",\"VISTA3DExtractor\",\"VocoExtractor\",\"SUPREMExtractor\",\"MerlinExtractor\",\"ModelsGenExtractor\"],\"z\":[[null,2.0490081680280046,0.6301050175029171,0.29638273045507585,2.6662777129521587,0.10618436406067679,1.7753792298716453,0.8512252042007001,2.7753792298716453],[2.0490081680280046,null,0.42998833138856474,0.2117852975495916,3.1114352392065343,0.10326721120186698,2.0828471411901983,0.9049008168028004,2.9924154025670946],[0.6301050175029171,0.42998833138856474,null,0.22287047841306884,0.6050175029171528,0.07117852975495916,0.4457409568261377,0.25845974329054844,0.5968494749124854],[0.29638273045507585,0.2117852975495916,0.22287047841306884,null,0.2701283547257876,0.0647607934655776,0.2147024504084014,0.1633605600933489,0.2660443407234539],[2.6662777129521587,3.1114352392065343,0.6050175029171528,0.2701283547257876,null,0.10501750291715285,2.7018669778296385,1.0093348891481915,3.9959159859976663],[0.10618436406067679,0.10326721120186698,0.07117852975495916,0.0647607934655776,0.10501750291715285,null,0.09801633605600933,0.09451575262543757,0.10035005834305717],[1.7753792298716453,2.0828471411901983,0.4457409568261377,0.2147024504084014,2.7018669778296385,0.09801633605600933,null,0.6557759626604434,2.6668611435239207],[0.8512252042007001,0.9049008168028004,0.25845974329054844,0.1633605600933489,1.0093348891481915,0.09451575262543757,0.6557759626604434,null,0.9760793465577596],[2.7753792298716453,2.9924154025670946,0.5968494749124854,0.2660443407234539,3.9959159859976663,0.10035005834305717,2.6668611435239207,0.9760793465577596,null]],\"type\":\"heatmap\",\"xaxis\":\"x\",\"yaxis\":\"y\",\"hovertemplate\":\"Model: %{x}\\u003cbr\\u003eModel: %{y}\\u003cbr\\u003eAverage Overlap: %{z}\\u003cextra\\u003e\\u003c\\u002fextra\\u003e\"}],                        {\"template\":{\"data\":{\"barpolar\":[{\"marker\":{\"line\":{\"color\":\"white\",\"width\":0.5},\"pattern\":{\"fillmode\":\"overlay\",\"size\":10,\"solidity\":0.2}},\"type\":\"barpolar\"}],\"bar\":[{\"error_x\":{\"color\":\"rgb(36,36,36)\"},\"error_y\":{\"color\":\"rgb(36,36,36)\"},\"marker\":{\"line\":{\"color\":\"white\",\"width\":0.5},\"pattern\":{\"fillmode\":\"overlay\",\"size\":10,\"solidity\":0.2}},\"type\":\"bar\"}],\"carpet\":[{\"aaxis\":{\"endlinecolor\":\"rgb(36,36,36)\",\"gridcolor\":\"white\",\"linecolor\":\"white\",\"minorgridcolor\":\"white\",\"startlinecolor\":\"rgb(36,36,36)\"},\"baxis\":{\"endlinecolor\":\"rgb(36,36,36)\",\"gridcolor\":\"white\",\"linecolor\":\"white\",\"minorgridcolor\":\"white\",\"startlinecolor\":\"rgb(36,36,36)\"},\"type\":\"carpet\"}],\"choropleth\":[{\"colorbar\":{\"outlinewidth\":1,\"tickcolor\":\"rgb(36,36,36)\",\"ticks\":\"outside\"},\"type\":\"choropleth\"}],\"contourcarpet\":[{\"colorbar\":{\"outlinewidth\":1,\"tickcolor\":\"rgb(36,36,36)\",\"ticks\":\"outside\"},\"type\":\"contourcarpet\"}],\"contour\":[{\"colorbar\":{\"outlinewidth\":1,\"tickcolor\":\"rgb(36,36,36)\",\"ticks\":\"outside\"},\"colorscale\":[[0.0,\"#440154\"],[0.1111111111111111,\"#482878\"],[0.2222222222222222,\"#3e4989\"],[0.3333333333333333,\"#31688e\"],[0.4444444444444444,\"#26828e\"],[0.5555555555555556,\"#1f9e89\"],[0.6666666666666666,\"#35b779\"],[0.7777777777777778,\"#6ece58\"],[0.8888888888888888,\"#b5de2b\"],[1.0,\"#fde725\"]],\"type\":\"contour\"}],\"heatmapgl\":[{\"colorbar\":{\"outlinewidth\":1,\"tickcolor\":\"rgb(36,36,36)\",\"ticks\":\"outside\"},\"colorscale\":[[0.0,\"#440154\"],[0.1111111111111111,\"#482878\"],[0.2222222222222222,\"#3e4989\"],[0.3333333333333333,\"#31688e\"],[0.4444444444444444,\"#26828e\"],[0.5555555555555556,\"#1f9e89\"],[0.6666666666666666,\"#35b779\"],[0.7777777777777778,\"#6ece58\"],[0.8888888888888888,\"#b5de2b\"],[1.0,\"#fde725\"]],\"type\":\"heatmapgl\"}],\"heatmap\":[{\"colorbar\":{\"outlinewidth\":1,\"tickcolor\":\"rgb(36,36,36)\",\"ticks\":\"outside\"},\"colorscale\":[[0.0,\"#440154\"],[0.1111111111111111,\"#482878\"],[0.2222222222222222,\"#3e4989\"],[0.3333333333333333,\"#31688e\"],[0.4444444444444444,\"#26828e\"],[0.5555555555555556,\"#1f9e89\"],[0.6666666666666666,\"#35b779\"],[0.7777777777777778,\"#6ece58\"],[0.8888888888888888,\"#b5de2b\"],[1.0,\"#fde725\"]],\"type\":\"heatmap\"}],\"histogram2dcontour\":[{\"colorbar\":{\"outlinewidth\":1,\"tickcolor\":\"rgb(36,36,36)\",\"ticks\":\"outside\"},\"colorscale\":[[0.0,\"#440154\"],[0.1111111111111111,\"#482878\"],[0.2222222222222222,\"#3e4989\"],[0.3333333333333333,\"#31688e\"],[0.4444444444444444,\"#26828e\"],[0.5555555555555556,\"#1f9e89\"],[0.6666666666666666,\"#35b779\"],[0.7777777777777778,\"#6ece58\"],[0.8888888888888888,\"#b5de2b\"],[1.0,\"#fde725\"]],\"type\":\"histogram2dcontour\"}],\"histogram2d\":[{\"colorbar\":{\"outlinewidth\":1,\"tickcolor\":\"rgb(36,36,36)\",\"ticks\":\"outside\"},\"colorscale\":[[0.0,\"#440154\"],[0.1111111111111111,\"#482878\"],[0.2222222222222222,\"#3e4989\"],[0.3333333333333333,\"#31688e\"],[0.4444444444444444,\"#26828e\"],[0.5555555555555556,\"#1f9e89\"],[0.6666666666666666,\"#35b779\"],[0.7777777777777778,\"#6ece58\"],[0.8888888888888888,\"#b5de2b\"],[1.0,\"#fde725\"]],\"type\":\"histogram2d\"}],\"histogram\":[{\"marker\":{\"line\":{\"color\":\"white\",\"width\":0.6}},\"type\":\"histogram\"}],\"mesh3d\":[{\"colorbar\":{\"outlinewidth\":1,\"tickcolor\":\"rgb(36,36,36)\",\"ticks\":\"outside\"},\"type\":\"mesh3d\"}],\"parcoords\":[{\"line\":{\"colorbar\":{\"outlinewidth\":1,\"tickcolor\":\"rgb(36,36,36)\",\"ticks\":\"outside\"}},\"type\":\"parcoords\"}],\"pie\":[{\"automargin\":true,\"type\":\"pie\"}],\"scatter3d\":[{\"line\":{\"colorbar\":{\"outlinewidth\":1,\"tickcolor\":\"rgb(36,36,36)\",\"ticks\":\"outside\"}},\"marker\":{\"colorbar\":{\"outlinewidth\":1,\"tickcolor\":\"rgb(36,36,36)\",\"ticks\":\"outside\"}},\"type\":\"scatter3d\"}],\"scattercarpet\":[{\"marker\":{\"colorbar\":{\"outlinewidth\":1,\"tickcolor\":\"rgb(36,36,36)\",\"ticks\":\"outside\"}},\"type\":\"scattercarpet\"}],\"scattergeo\":[{\"marker\":{\"colorbar\":{\"outlinewidth\":1,\"tickcolor\":\"rgb(36,36,36)\",\"ticks\":\"outside\"}},\"type\":\"scattergeo\"}],\"scattergl\":[{\"marker\":{\"colorbar\":{\"outlinewidth\":1,\"tickcolor\":\"rgb(36,36,36)\",\"ticks\":\"outside\"}},\"type\":\"scattergl\"}],\"scattermapbox\":[{\"marker\":{\"colorbar\":{\"outlinewidth\":1,\"tickcolor\":\"rgb(36,36,36)\",\"ticks\":\"outside\"}},\"type\":\"scattermapbox\"}],\"scatterpolargl\":[{\"marker\":{\"colorbar\":{\"outlinewidth\":1,\"tickcolor\":\"rgb(36,36,36)\",\"ticks\":\"outside\"}},\"type\":\"scatterpolargl\"}],\"scatterpolar\":[{\"marker\":{\"colorbar\":{\"outlinewidth\":1,\"tickcolor\":\"rgb(36,36,36)\",\"ticks\":\"outside\"}},\"type\":\"scatterpolar\"}],\"scatter\":[{\"fillpattern\":{\"fillmode\":\"overlay\",\"size\":10,\"solidity\":0.2},\"type\":\"scatter\"}],\"scatterternary\":[{\"marker\":{\"colorbar\":{\"outlinewidth\":1,\"tickcolor\":\"rgb(36,36,36)\",\"ticks\":\"outside\"}},\"type\":\"scatterternary\"}],\"surface\":[{\"colorbar\":{\"outlinewidth\":1,\"tickcolor\":\"rgb(36,36,36)\",\"ticks\":\"outside\"},\"colorscale\":[[0.0,\"#440154\"],[0.1111111111111111,\"#482878\"],[0.2222222222222222,\"#3e4989\"],[0.3333333333333333,\"#31688e\"],[0.4444444444444444,\"#26828e\"],[0.5555555555555556,\"#1f9e89\"],[0.6666666666666666,\"#35b779\"],[0.7777777777777778,\"#6ece58\"],[0.8888888888888888,\"#b5de2b\"],[1.0,\"#fde725\"]],\"type\":\"surface\"}],\"table\":[{\"cells\":{\"fill\":{\"color\":\"rgb(237,237,237)\"},\"line\":{\"color\":\"white\"}},\"header\":{\"fill\":{\"color\":\"rgb(217,217,217)\"},\"line\":{\"color\":\"white\"}},\"type\":\"table\"}]},\"layout\":{\"annotationdefaults\":{\"arrowhead\":0,\"arrowwidth\":1},\"autotypenumbers\":\"strict\",\"coloraxis\":{\"colorbar\":{\"outlinewidth\":1,\"tickcolor\":\"rgb(36,36,36)\",\"ticks\":\"outside\"}},\"colorscale\":{\"diverging\":[[0.0,\"rgb(103,0,31)\"],[0.1,\"rgb(178,24,43)\"],[0.2,\"rgb(214,96,77)\"],[0.3,\"rgb(244,165,130)\"],[0.4,\"rgb(253,219,199)\"],[0.5,\"rgb(247,247,247)\"],[0.6,\"rgb(209,229,240)\"],[0.7,\"rgb(146,197,222)\"],[0.8,\"rgb(67,147,195)\"],[0.9,\"rgb(33,102,172)\"],[1.0,\"rgb(5,48,97)\"]],\"sequential\":[[0.0,\"#440154\"],[0.1111111111111111,\"#482878\"],[0.2222222222222222,\"#3e4989\"],[0.3333333333333333,\"#31688e\"],[0.4444444444444444,\"#26828e\"],[0.5555555555555556,\"#1f9e89\"],[0.6666666666666666,\"#35b779\"],[0.7777777777777778,\"#6ece58\"],[0.8888888888888888,\"#b5de2b\"],[1.0,\"#fde725\"]],\"sequentialminus\":[[0.0,\"#440154\"],[0.1111111111111111,\"#482878\"],[0.2222222222222222,\"#3e4989\"],[0.3333333333333333,\"#31688e\"],[0.4444444444444444,\"#26828e\"],[0.5555555555555556,\"#1f9e89\"],[0.6666666666666666,\"#35b779\"],[0.7777777777777778,\"#6ece58\"],[0.8888888888888888,\"#b5de2b\"],[1.0,\"#fde725\"]]},\"colorway\":[\"#1F77B4\",\"#FF7F0E\",\"#2CA02C\",\"#D62728\",\"#9467BD\",\"#8C564B\",\"#E377C2\",\"#7F7F7F\",\"#BCBD22\",\"#17BECF\"],\"font\":{\"color\":\"rgb(36,36,36)\"},\"geo\":{\"bgcolor\":\"white\",\"lakecolor\":\"white\",\"landcolor\":\"white\",\"showlakes\":true,\"showland\":true,\"subunitcolor\":\"white\"},\"hoverlabel\":{\"align\":\"left\"},\"hovermode\":\"closest\",\"mapbox\":{\"style\":\"light\"},\"paper_bgcolor\":\"white\",\"plot_bgcolor\":\"white\",\"polar\":{\"angularaxis\":{\"gridcolor\":\"rgb(232,232,232)\",\"linecolor\":\"rgb(36,36,36)\",\"showgrid\":false,\"showline\":true,\"ticks\":\"outside\"},\"bgcolor\":\"white\",\"radialaxis\":{\"gridcolor\":\"rgb(232,232,232)\",\"linecolor\":\"rgb(36,36,36)\",\"showgrid\":false,\"showline\":true,\"ticks\":\"outside\"}},\"scene\":{\"xaxis\":{\"backgroundcolor\":\"white\",\"gridcolor\":\"rgb(232,232,232)\",\"gridwidth\":2,\"linecolor\":\"rgb(36,36,36)\",\"showbackground\":true,\"showgrid\":false,\"showline\":true,\"ticks\":\"outside\",\"zeroline\":false,\"zerolinecolor\":\"rgb(36,36,36)\"},\"yaxis\":{\"backgroundcolor\":\"white\",\"gridcolor\":\"rgb(232,232,232)\",\"gridwidth\":2,\"linecolor\":\"rgb(36,36,36)\",\"showbackground\":true,\"showgrid\":false,\"showline\":true,\"ticks\":\"outside\",\"zeroline\":false,\"zerolinecolor\":\"rgb(36,36,36)\"},\"zaxis\":{\"backgroundcolor\":\"white\",\"gridcolor\":\"rgb(232,232,232)\",\"gridwidth\":2,\"linecolor\":\"rgb(36,36,36)\",\"showbackground\":true,\"showgrid\":false,\"showline\":true,\"ticks\":\"outside\",\"zeroline\":false,\"zerolinecolor\":\"rgb(36,36,36)\"}},\"shapedefaults\":{\"fillcolor\":\"black\",\"line\":{\"width\":0},\"opacity\":0.3},\"ternary\":{\"aaxis\":{\"gridcolor\":\"rgb(232,232,232)\",\"linecolor\":\"rgb(36,36,36)\",\"showgrid\":false,\"showline\":true,\"ticks\":\"outside\"},\"baxis\":{\"gridcolor\":\"rgb(232,232,232)\",\"linecolor\":\"rgb(36,36,36)\",\"showgrid\":false,\"showline\":true,\"ticks\":\"outside\"},\"bgcolor\":\"white\",\"caxis\":{\"gridcolor\":\"rgb(232,232,232)\",\"linecolor\":\"rgb(36,36,36)\",\"showgrid\":false,\"showline\":true,\"ticks\":\"outside\"}},\"title\":{\"x\":0.05},\"xaxis\":{\"automargin\":true,\"gridcolor\":\"rgb(232,232,232)\",\"linecolor\":\"rgb(36,36,36)\",\"showgrid\":false,\"showline\":true,\"ticks\":\"outside\",\"title\":{\"standoff\":15},\"zeroline\":false,\"zerolinecolor\":\"rgb(36,36,36)\"},\"yaxis\":{\"automargin\":true,\"gridcolor\":\"rgb(232,232,232)\",\"linecolor\":\"rgb(36,36,36)\",\"showgrid\":false,\"showline\":true,\"ticks\":\"outside\",\"title\":{\"standoff\":15},\"zeroline\":false,\"zerolinecolor\":\"rgb(36,36,36)\"}}},\"xaxis\":{\"anchor\":\"y\",\"domain\":[0.0,1.0],\"scaleanchor\":\"y\",\"constrain\":\"domain\",\"title\":{\"text\":\"Model\"},\"tickangle\":45},\"yaxis\":{\"anchor\":\"x\",\"domain\":[0.0,1.0],\"autorange\":\"reversed\",\"constrain\":\"domain\",\"title\":{\"text\":\"Model\"}},\"coloraxis\":{\"colorbar\":{\"title\":{\"text\":\"Average Overlap\"}},\"colorscale\":[[0.0,\"rgb(247,251,255)\"],[0.125,\"rgb(222,235,247)\"],[0.25,\"rgb(198,219,239)\"],[0.375,\"rgb(158,202,225)\"],[0.5,\"rgb(107,174,214)\"],[0.625,\"rgb(66,146,198)\"],[0.75,\"rgb(33,113,181)\"],[0.875,\"rgb(8,81,156)\"],[1.0,\"rgb(8,48,107)\"]]},\"margin\":{\"t\":60},\"title\":{\"text\":\"Mutual k-Nearest Neighbors Overlap Scores\"},\"width\":600},                        {\"responsive\": true}                    ).then(function(){\n",
       "                            \n",
       "var gd = document.getElementById('be54d0ce-cc70-4e35-b2db-80a88cf0ac81');\n",
       "var x = new MutationObserver(function (mutations, observer) {{\n",
       "        var display = window.getComputedStyle(gd).display;\n",
       "        if (!display || display === 'none') {{\n",
       "            console.log([gd, 'removed!']);\n",
       "            Plotly.purge(gd);\n",
       "            observer.disconnect();\n",
       "        }}\n",
       "}});\n",
       "\n",
       "// Listen for the removal of the full notebook cells\n",
       "var notebookContainer = gd.closest('#notebook-container');\n",
       "if (notebookContainer) {{\n",
       "    x.observe(notebookContainer, {childList: true});\n",
       "}}\n",
       "\n",
       "// Listen for the clearing of the current output cell\n",
       "var outputEl = gd.closest('.output');\n",
       "if (outputEl) {{\n",
       "    x.observe(outputEl, {childList: true});\n",
       "}}\n",
       "\n",
       "                        })                };                });            </script>        </div>"
      ]
     },
     "metadata": {},
     "output_type": "display_data"
    }
   ],
   "source": [
    "model_features = extract_model_features(data)\n",
    "model_neighbors = compute_knn_indices(model_features, num_neighbors=10, metric=\"cosine\")\n",
    "overlap_matrix, model_list = compute_overlap_matrix(model_neighbors)\n",
    "fig = plot_overlap_matrix(overlap_matrix, model_list)\n",
    "fig.show()"
   ]
  },
  {
   "cell_type": "code",
   "execution_count": null,
   "metadata": {},
   "outputs": [],
   "source": []
  }
 ],
 "metadata": {
  "kernelspec": {
   "display_name": "lighter_dev",
   "language": "python",
   "name": "python3"
  },
  "language_info": {
   "codemirror_mode": {
    "name": "ipython",
    "version": 3
   },
   "file_extension": ".py",
   "mimetype": "text/x-python",
   "name": "python",
   "nbconvert_exporter": "python",
   "pygments_lexer": "ipython3",
   "version": "3.10.14"
  }
 },
 "nbformat": 4,
 "nbformat_minor": 4
}
