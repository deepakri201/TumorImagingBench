{
 "cells": [
  {
   "cell_type": "code",
   "execution_count": 6,
   "metadata": {},
   "outputs": [],
   "source": [
    "# Import necessary libraries\n",
    "import pandas as pd # For data manipulation and analysis\n",
    "import numpy as np # For numerical operations\n",
    "import pickle # For serializing and deserializing Python objects\n",
    "from modelling_utils import train_knn_classifier, evaluate_model, plot_model_comparison"
   ]
  },
  {
   "cell_type": "code",
   "execution_count": 7,
   "metadata": {},
   "outputs": [],
   "source": [
    "# Load features from a pickle file\n",
    "feature_dict_path = \"/home/suraj/Repositories/FM-extractors-radiomics/evaluation/features/lndb.pkl\" # Path to the pickle file containing features\n",
    "with open(feature_dict_path, 'rb') as file: # Open the file in read binary mode\n",
    "    data = pickle.load(file) # Load the data from the pickle file"
   ]
  },
  {
   "cell_type": "code",
   "execution_count": 10,
   "metadata": {},
   "outputs": [
    {
     "name": "stderr",
     "output_type": "stream",
     "text": [
      "[I 2025-01-22 17:02:14,039] A new study created in memory with name: no-name-5724e3a5-5a6e-4f1a-bad4-7c517d6d5a4c\n"
     ]
    },
    {
     "name": "stderr",
     "output_type": "stream",
     "text": [
      "[I 2025-01-22 17:02:14,058] Trial 0 finished with value: 0.5443209969780041 and parameters: {'k': 29}. Best is trial 0 with value: 0.5443209969780041.\n",
      "[I 2025-01-22 17:02:14,081] Trial 1 finished with value: 0.5638025639158633 and parameters: {'k': 12}. Best is trial 1 with value: 0.5638025639158633.\n",
      "[I 2025-01-22 17:02:14,102] Trial 2 finished with value: 0.5633504352867482 and parameters: {'k': 11}. Best is trial 1 with value: 0.5638025639158633.\n",
      "[I 2025-01-22 17:02:14,124] Trial 3 finished with value: 0.5697650794742779 and parameters: {'k': 42}. Best is trial 3 with value: 0.5697650794742779.\n",
      "[I 2025-01-22 17:02:14,145] Trial 4 finished with value: 0.5608328014556713 and parameters: {'k': 3}. Best is trial 3 with value: 0.5697650794742779.\n",
      "[I 2025-01-22 17:02:14,171] Trial 5 finished with value: 0.5575009213524532 and parameters: {'k': 28}. Best is trial 3 with value: 0.5697650794742779.\n",
      "[I 2025-01-22 17:02:14,196] Trial 6 finished with value: 0.5663784658524991 and parameters: {'k': 39}. Best is trial 3 with value: 0.5697650794742779.\n",
      "[I 2025-01-22 17:02:14,219] Trial 7 finished with value: 0.5823661599255269 and parameters: {'k': 32}. Best is trial 7 with value: 0.5823661599255269.\n",
      "[I 2025-01-22 17:02:14,242] Trial 8 finished with value: 0.5369411848322516 and parameters: {'k': 23}. Best is trial 7 with value: 0.5823661599255269.\n",
      "[I 2025-01-22 17:02:14,267] Trial 9 finished with value: 0.6010445519223913 and parameters: {'k': 5}. Best is trial 9 with value: 0.6010445519223913.\n",
      "[I 2025-01-22 17:02:14,291] Trial 10 finished with value: 0.5849020879372199 and parameters: {'k': 34}. Best is trial 9 with value: 0.6010445519223913.\n",
      "[I 2025-01-22 17:02:14,315] Trial 11 finished with value: 0.5800575510658228 and parameters: {'k': 36}. Best is trial 9 with value: 0.6010445519223913.\n",
      "[I 2025-01-22 17:02:14,338] Trial 12 finished with value: 0.5385989409492109 and parameters: {'k': 27}. Best is trial 9 with value: 0.6010445519223913.\n",
      "[I 2025-01-22 17:02:14,361] Trial 13 finished with value: 0.5780239467141882 and parameters: {'k': 35}. Best is trial 9 with value: 0.6010445519223913.\n",
      "[I 2025-01-22 17:02:14,386] Trial 14 finished with value: 0.5439516127754186 and parameters: {'k': 19}. Best is trial 9 with value: 0.6010445519223913.\n",
      "[I 2025-01-22 17:02:14,420] Trial 15 finished with value: 0.6018907289006402 and parameters: {'k': 8}. Best is trial 15 with value: 0.6018907289006402.\n",
      "[I 2025-01-22 17:02:14,447] Trial 16 finished with value: 0.5419133382946688 and parameters: {'k': 15}. Best is trial 15 with value: 0.6018907289006402.\n",
      "[I 2025-01-22 17:02:14,476] Trial 17 finished with value: 0.5664520968020351 and parameters: {'k': 46}. Best is trial 15 with value: 0.6018907289006402.\n",
      "[I 2025-01-22 17:02:14,503] Trial 18 finished with value: 0.5840470827989481 and parameters: {'k': 49}. Best is trial 15 with value: 0.6018907289006402.\n",
      "[I 2025-01-22 17:02:14,531] Trial 19 finished with value: 0.5629125993968205 and parameters: {'k': 30}. Best is trial 15 with value: 0.6018907289006402.\n",
      "[I 2025-01-22 17:02:14,567] Trial 20 finished with value: 0.537211836326628 and parameters: {'k': 16}. Best is trial 15 with value: 0.6018907289006402.\n",
      "[I 2025-01-22 17:02:14,597] Trial 21 finished with value: 0.5614383896144549 and parameters: {'k': 31}. Best is trial 15 with value: 0.6018907289006402.\n",
      "[I 2025-01-22 17:02:14,626] Trial 22 finished with value: 0.5726661208293824 and parameters: {'k': 33}. Best is trial 15 with value: 0.6018907289006402.\n",
      "[I 2025-01-22 17:02:14,651] Trial 23 finished with value: 0.5331278369675783 and parameters: {'k': 17}. Best is trial 15 with value: 0.6018907289006402.\n",
      "[I 2025-01-22 17:02:14,689] Trial 24 finished with value: 0.5648586523878983 and parameters: {'k': 43}. Best is trial 15 with value: 0.6018907289006402.\n",
      "[I 2025-01-22 17:02:14,713] Trial 25 finished with value: 0.544089987774242 and parameters: {'k': 21}. Best is trial 15 with value: 0.6018907289006402.\n",
      "[I 2025-01-22 17:02:14,736] Trial 26 finished with value: 0.5784753215359689 and parameters: {'k': 44}. Best is trial 15 with value: 0.6018907289006402.\n",
      "[I 2025-01-22 17:02:14,759] Trial 27 finished with value: 0.5856796283676776 and parameters: {'k': 9}. Best is trial 15 with value: 0.6018907289006402.\n",
      "[I 2025-01-22 17:02:14,782] Trial 28 finished with value: 0.5433349890204039 and parameters: {'k': 14}. Best is trial 15 with value: 0.6018907289006402.\n",
      "[I 2025-01-22 17:02:14,807] Trial 29 finished with value: 0.5266793251801819 and parameters: {'k': 26}. Best is trial 15 with value: 0.6018907289006402.\n",
      "[I 2025-01-22 17:02:14,831] Trial 30 finished with value: 0.5903511581994846 and parameters: {'k': 6}. Best is trial 15 with value: 0.6018907289006402.\n",
      "[I 2025-01-22 17:02:14,857] Trial 31 finished with value: 0.5217544914939031 and parameters: {'k': 18}. Best is trial 15 with value: 0.6018907289006402.\n",
      "[I 2025-01-22 17:02:14,886] Trial 32 finished with value: 0.5579658093401392 and parameters: {'k': 41}. Best is trial 15 with value: 0.6018907289006402.\n",
      "[I 2025-01-22 17:02:14,911] Trial 33 finished with value: 0.5789344945444685 and parameters: {'k': 50}. Best is trial 15 with value: 0.6018907289006402.\n",
      "[I 2025-01-22 17:02:14,935] Trial 34 finished with value: 0.5900175879482635 and parameters: {'k': 2}. Best is trial 15 with value: 0.6018907289006402.\n",
      "[I 2025-01-22 17:02:14,959] Trial 35 finished with value: 0.5453676172311607 and parameters: {'k': 13}. Best is trial 15 with value: 0.6018907289006402.\n",
      "[I 2025-01-22 17:02:14,985] Trial 36 finished with value: 0.5693881899170121 and parameters: {'k': 38}. Best is trial 15 with value: 0.6018907289006402.\n",
      "[I 2025-01-22 17:02:15,012] Trial 37 finished with value: 0.5348657659774809 and parameters: {'k': 25}. Best is trial 15 with value: 0.6018907289006402.\n",
      "[I 2025-01-22 17:02:15,055] Trial 38 finished with value: 0.5932379192893922 and parameters: {'k': 7}. Best is trial 15 with value: 0.6018907289006402.\n",
      "[I 2025-01-22 17:02:15,097] Trial 39 finished with value: 0.528141064397305 and parameters: {'k': 24}. Best is trial 15 with value: 0.6018907289006402.\n",
      "[I 2025-01-22 17:02:15,130] Trial 40 finished with value: 0.5751139629393531 and parameters: {'k': 37}. Best is trial 15 with value: 0.6018907289006402.\n",
      "[I 2025-01-22 17:02:15,162] Trial 41 finished with value: 0.5294152601838533 and parameters: {'k': 22}. Best is trial 15 with value: 0.6018907289006402.\n",
      "[I 2025-01-22 17:02:15,192] Trial 42 finished with value: 0.5479086477184338 and parameters: {'k': 20}. Best is trial 15 with value: 0.6018907289006402.\n",
      "[I 2025-01-22 17:02:15,223] Trial 43 finished with value: 0.5709880492852435 and parameters: {'k': 10}. Best is trial 15 with value: 0.6018907289006402.\n",
      "[I 2025-01-22 17:02:15,255] Trial 44 finished with value: 0.5607644001243971 and parameters: {'k': 40}. Best is trial 15 with value: 0.6018907289006402.\n",
      "[I 2025-01-22 17:02:15,294] Trial 45 finished with value: 0.5705345343050064 and parameters: {'k': 47}. Best is trial 15 with value: 0.6018907289006402.\n",
      "[I 2025-01-22 17:02:15,332] Trial 46 finished with value: 0.5904465045260167 and parameters: {'k': 4}. Best is trial 15 with value: 0.6018907289006402.\n",
      "[I 2025-01-22 17:02:15,365] Trial 47 finished with value: 0.5953602496527277 and parameters: {'k': 1}. Best is trial 15 with value: 0.6018907289006402.\n",
      "[I 2025-01-22 17:02:15,399] Trial 48 finished with value: 0.5739996220053698 and parameters: {'k': 48}. Best is trial 15 with value: 0.6018907289006402.\n",
      "[I 2025-01-22 17:02:15,433] Trial 49 finished with value: 0.5746479596031006 and parameters: {'k': 45}. Best is trial 15 with value: 0.6018907289006402.\n",
      "[I 2025-01-22 17:02:15,524] A new study created in memory with name: no-name-890de040-30d4-4ce9-8294-518fb9471488\n",
      "[I 2025-01-22 17:02:15,537] Trial 0 finished with value: 0.4991559600685436 and parameters: {'k': 29}. Best is trial 0 with value: 0.4991559600685436.\n",
      "[I 2025-01-22 17:02:15,553] Trial 1 finished with value: 0.550708772118467 and parameters: {'k': 12}. Best is trial 1 with value: 0.550708772118467.\n",
      "[I 2025-01-22 17:02:15,569] Trial 2 finished with value: 0.5702531075287843 and parameters: {'k': 11}. Best is trial 2 with value: 0.5702531075287843.\n",
      "[I 2025-01-22 17:02:15,584] Trial 3 finished with value: 0.505948656649951 and parameters: {'k': 42}. Best is trial 2 with value: 0.5702531075287843.\n",
      "[I 2025-01-22 17:02:15,596] Trial 4 finished with value: 0.6286214856459899 and parameters: {'k': 3}. Best is trial 4 with value: 0.6286214856459899.\n",
      "[I 2025-01-22 17:02:15,610] Trial 5 finished with value: 0.4884724692927058 and parameters: {'k': 28}. Best is trial 4 with value: 0.6286214856459899.\n",
      "[I 2025-01-22 17:02:15,626] Trial 6 finished with value: 0.5081647138670493 and parameters: {'k': 39}. Best is trial 4 with value: 0.6286214856459899.\n",
      "[I 2025-01-22 17:02:15,641] Trial 7 finished with value: 0.5231095295547374 and parameters: {'k': 32}. Best is trial 4 with value: 0.6286214856459899.\n",
      "[I 2025-01-22 17:02:15,654] Trial 8 finished with value: 0.509143977826183 and parameters: {'k': 23}. Best is trial 4 with value: 0.6286214856459899.\n",
      "[I 2025-01-22 17:02:15,666] Trial 9 finished with value: 0.6119026381019582 and parameters: {'k': 5}. Best is trial 4 with value: 0.6286214856459899.\n"
     ]
    }
   ],
   "source": [
    "# Store test accuracies for each model\n",
    "test_accuracies_dict = {} # Initialize an empty dictionary to store test accuracies\n",
    "\n",
    "# Iterate through each model's features\n",
    "for model_name, values in data.items(): # Loop through each model and its corresponding features\n",
    "    # Skip MedImageInsightExtractor\n",
    "    if model_name == \"MedImageInsightExtractor\": # Skip the MedImageInsightExtractor model\n",
    "        continue\n",
    "\n",
    "    # Process each dataset split\n",
    "    splits = ['train', 'val', 'test']\n",
    "    items, labels = {}, {}\n",
    "    \n",
    "    for split in splits:\n",
    "        # Extract features and labels\n",
    "        labels[split] = np.array([v[\"row\"][\"texture\"] for v in values[split]])\n",
    "        items[split] = np.vstack([v[\"feature\"] for v in values[split]])\n",
    "        \n",
    "        # Remove samples with nan labels\n",
    "        mask = ~np.isnan(labels[split])\n",
    "        items[split] = items[split][mask]\n",
    "        labels[split] = labels[split][mask]\n",
    "    \n",
    "    # Combine train and validation sets\n",
    "    combined_items = np.vstack([items['train'], items['val']])\n",
    "    combined_labels = np.concatenate([labels['train'], labels['val']])\n",
    "    \n",
    "    # Randomly shuffle the combined data\n",
    "    shuffle_idx = np.random.permutation(len(combined_items))\n",
    "    combined_items = combined_items[shuffle_idx]\n",
    "    combined_labels = combined_labels[shuffle_idx]\n",
    "    \n",
    "    # Split into new train and validation sets (80-20 split)\n",
    "    split_idx = int(0.6 * len(combined_items))\n",
    "    train_items, train_labels = combined_items[:split_idx], combined_labels[:split_idx]\n",
    "    val_items, val_labels = combined_items[split_idx:], combined_labels[split_idx:]\n",
    "    \n",
    "    # Keep test set as is\n",
    "    test_items, test_labels = items['test'], labels['test']\n",
    "    \n",
    "\n",
    "    # Train model with hyperparameter optimization\n",
    "    best_model, study = train_knn_classifier(train_items, train_labels, val_items, val_labels, n_trials=300)\n",
    "    \n",
    "    # Evaluate on test set\n",
    "    test_accuracies_dict[model_name] = evaluate_model(best_model, test_items, test_labels)"
   ]
  },
  {
   "cell_type": "code",
   "execution_count": 9,
   "metadata": {},
   "outputs": [
    {
     "data": {
      "application/vnd.plotly.v1+json": {
       "config": {
        "plotlyServerURL": "https://plot.ly"
       },
       "data": [
        {
         "alignmentgroup": "True",
         "hovertemplate": "Model Name=%{x}<br>Test Accuracy=%{y}<br>text=%{text}<extra></extra>",
         "legendgroup": "",
         "marker": {
          "color": "#1f77b4",
          "pattern": {
           "shape": ""
          }
         },
         "name": "",
         "offsetgroup": "",
         "orientation": "v",
         "showlegend": false,
         "text": [
          "0.572",
          "0.519",
          "0.504",
          "0.531",
          "0.466",
          "0.573",
          "0.549",
          "0.486"
         ],
         "textposition": "outside",
         "type": "bar",
         "x": [
          "FMCIBExtractor",
          "CTFMExtractor",
          "PyramidExtractor",
          "VISTA3DExtractor",
          "VocoExtractor",
          "SUPREMExtractor",
          "MerlinExtractor",
          "ModelsGenExtractor"
         ],
         "xaxis": "x",
         "y": [
          0.5718548448823699,
          0.5186388355766488,
          0.5038896550829725,
          0.5306153841857082,
          0.4663520599685412,
          0.572665054790677,
          0.5486597539276378,
          0.4862780068958477
         ],
         "yaxis": "y"
        }
       ],
       "layout": {
        "barmode": "relative",
        "font": {
         "size": 10
        },
        "height": 500,
        "legend": {
         "tracegroupgap": 0
        },
        "plot_bgcolor": "rgba(0,0,0,0)",
        "showlegend": false,
        "template": {
         "data": {
          "bar": [
           {
            "error_x": {
             "color": "#2a3f5f"
            },
            "error_y": {
             "color": "#2a3f5f"
            },
            "marker": {
             "line": {
              "color": "white",
              "width": 0.5
             },
             "pattern": {
              "fillmode": "overlay",
              "size": 10,
              "solidity": 0.2
             }
            },
            "type": "bar"
           }
          ],
          "barpolar": [
           {
            "marker": {
             "line": {
              "color": "white",
              "width": 0.5
             },
             "pattern": {
              "fillmode": "overlay",
              "size": 10,
              "solidity": 0.2
             }
            },
            "type": "barpolar"
           }
          ],
          "carpet": [
           {
            "aaxis": {
             "endlinecolor": "#2a3f5f",
             "gridcolor": "#C8D4E3",
             "linecolor": "#C8D4E3",
             "minorgridcolor": "#C8D4E3",
             "startlinecolor": "#2a3f5f"
            },
            "baxis": {
             "endlinecolor": "#2a3f5f",
             "gridcolor": "#C8D4E3",
             "linecolor": "#C8D4E3",
             "minorgridcolor": "#C8D4E3",
             "startlinecolor": "#2a3f5f"
            },
            "type": "carpet"
           }
          ],
          "choropleth": [
           {
            "colorbar": {
             "outlinewidth": 0,
             "ticks": ""
            },
            "type": "choropleth"
           }
          ],
          "contour": [
           {
            "colorbar": {
             "outlinewidth": 0,
             "ticks": ""
            },
            "colorscale": [
             [
              0,
              "#0d0887"
             ],
             [
              0.1111111111111111,
              "#46039f"
             ],
             [
              0.2222222222222222,
              "#7201a8"
             ],
             [
              0.3333333333333333,
              "#9c179e"
             ],
             [
              0.4444444444444444,
              "#bd3786"
             ],
             [
              0.5555555555555556,
              "#d8576b"
             ],
             [
              0.6666666666666666,
              "#ed7953"
             ],
             [
              0.7777777777777778,
              "#fb9f3a"
             ],
             [
              0.8888888888888888,
              "#fdca26"
             ],
             [
              1,
              "#f0f921"
             ]
            ],
            "type": "contour"
           }
          ],
          "contourcarpet": [
           {
            "colorbar": {
             "outlinewidth": 0,
             "ticks": ""
            },
            "type": "contourcarpet"
           }
          ],
          "heatmap": [
           {
            "colorbar": {
             "outlinewidth": 0,
             "ticks": ""
            },
            "colorscale": [
             [
              0,
              "#0d0887"
             ],
             [
              0.1111111111111111,
              "#46039f"
             ],
             [
              0.2222222222222222,
              "#7201a8"
             ],
             [
              0.3333333333333333,
              "#9c179e"
             ],
             [
              0.4444444444444444,
              "#bd3786"
             ],
             [
              0.5555555555555556,
              "#d8576b"
             ],
             [
              0.6666666666666666,
              "#ed7953"
             ],
             [
              0.7777777777777778,
              "#fb9f3a"
             ],
             [
              0.8888888888888888,
              "#fdca26"
             ],
             [
              1,
              "#f0f921"
             ]
            ],
            "type": "heatmap"
           }
          ],
          "heatmapgl": [
           {
            "colorbar": {
             "outlinewidth": 0,
             "ticks": ""
            },
            "colorscale": [
             [
              0,
              "#0d0887"
             ],
             [
              0.1111111111111111,
              "#46039f"
             ],
             [
              0.2222222222222222,
              "#7201a8"
             ],
             [
              0.3333333333333333,
              "#9c179e"
             ],
             [
              0.4444444444444444,
              "#bd3786"
             ],
             [
              0.5555555555555556,
              "#d8576b"
             ],
             [
              0.6666666666666666,
              "#ed7953"
             ],
             [
              0.7777777777777778,
              "#fb9f3a"
             ],
             [
              0.8888888888888888,
              "#fdca26"
             ],
             [
              1,
              "#f0f921"
             ]
            ],
            "type": "heatmapgl"
           }
          ],
          "histogram": [
           {
            "marker": {
             "pattern": {
              "fillmode": "overlay",
              "size": 10,
              "solidity": 0.2
             }
            },
            "type": "histogram"
           }
          ],
          "histogram2d": [
           {
            "colorbar": {
             "outlinewidth": 0,
             "ticks": ""
            },
            "colorscale": [
             [
              0,
              "#0d0887"
             ],
             [
              0.1111111111111111,
              "#46039f"
             ],
             [
              0.2222222222222222,
              "#7201a8"
             ],
             [
              0.3333333333333333,
              "#9c179e"
             ],
             [
              0.4444444444444444,
              "#bd3786"
             ],
             [
              0.5555555555555556,
              "#d8576b"
             ],
             [
              0.6666666666666666,
              "#ed7953"
             ],
             [
              0.7777777777777778,
              "#fb9f3a"
             ],
             [
              0.8888888888888888,
              "#fdca26"
             ],
             [
              1,
              "#f0f921"
             ]
            ],
            "type": "histogram2d"
           }
          ],
          "histogram2dcontour": [
           {
            "colorbar": {
             "outlinewidth": 0,
             "ticks": ""
            },
            "colorscale": [
             [
              0,
              "#0d0887"
             ],
             [
              0.1111111111111111,
              "#46039f"
             ],
             [
              0.2222222222222222,
              "#7201a8"
             ],
             [
              0.3333333333333333,
              "#9c179e"
             ],
             [
              0.4444444444444444,
              "#bd3786"
             ],
             [
              0.5555555555555556,
              "#d8576b"
             ],
             [
              0.6666666666666666,
              "#ed7953"
             ],
             [
              0.7777777777777778,
              "#fb9f3a"
             ],
             [
              0.8888888888888888,
              "#fdca26"
             ],
             [
              1,
              "#f0f921"
             ]
            ],
            "type": "histogram2dcontour"
           }
          ],
          "mesh3d": [
           {
            "colorbar": {
             "outlinewidth": 0,
             "ticks": ""
            },
            "type": "mesh3d"
           }
          ],
          "parcoords": [
           {
            "line": {
             "colorbar": {
              "outlinewidth": 0,
              "ticks": ""
             }
            },
            "type": "parcoords"
           }
          ],
          "pie": [
           {
            "automargin": true,
            "type": "pie"
           }
          ],
          "scatter": [
           {
            "fillpattern": {
             "fillmode": "overlay",
             "size": 10,
             "solidity": 0.2
            },
            "type": "scatter"
           }
          ],
          "scatter3d": [
           {
            "line": {
             "colorbar": {
              "outlinewidth": 0,
              "ticks": ""
             }
            },
            "marker": {
             "colorbar": {
              "outlinewidth": 0,
              "ticks": ""
             }
            },
            "type": "scatter3d"
           }
          ],
          "scattercarpet": [
           {
            "marker": {
             "colorbar": {
              "outlinewidth": 0,
              "ticks": ""
             }
            },
            "type": "scattercarpet"
           }
          ],
          "scattergeo": [
           {
            "marker": {
             "colorbar": {
              "outlinewidth": 0,
              "ticks": ""
             }
            },
            "type": "scattergeo"
           }
          ],
          "scattergl": [
           {
            "marker": {
             "colorbar": {
              "outlinewidth": 0,
              "ticks": ""
             }
            },
            "type": "scattergl"
           }
          ],
          "scattermapbox": [
           {
            "marker": {
             "colorbar": {
              "outlinewidth": 0,
              "ticks": ""
             }
            },
            "type": "scattermapbox"
           }
          ],
          "scatterpolar": [
           {
            "marker": {
             "colorbar": {
              "outlinewidth": 0,
              "ticks": ""
             }
            },
            "type": "scatterpolar"
           }
          ],
          "scatterpolargl": [
           {
            "marker": {
             "colorbar": {
              "outlinewidth": 0,
              "ticks": ""
             }
            },
            "type": "scatterpolargl"
           }
          ],
          "scatterternary": [
           {
            "marker": {
             "colorbar": {
              "outlinewidth": 0,
              "ticks": ""
             }
            },
            "type": "scatterternary"
           }
          ],
          "surface": [
           {
            "colorbar": {
             "outlinewidth": 0,
             "ticks": ""
            },
            "colorscale": [
             [
              0,
              "#0d0887"
             ],
             [
              0.1111111111111111,
              "#46039f"
             ],
             [
              0.2222222222222222,
              "#7201a8"
             ],
             [
              0.3333333333333333,
              "#9c179e"
             ],
             [
              0.4444444444444444,
              "#bd3786"
             ],
             [
              0.5555555555555556,
              "#d8576b"
             ],
             [
              0.6666666666666666,
              "#ed7953"
             ],
             [
              0.7777777777777778,
              "#fb9f3a"
             ],
             [
              0.8888888888888888,
              "#fdca26"
             ],
             [
              1,
              "#f0f921"
             ]
            ],
            "type": "surface"
           }
          ],
          "table": [
           {
            "cells": {
             "fill": {
              "color": "#EBF0F8"
             },
             "line": {
              "color": "white"
             }
            },
            "header": {
             "fill": {
              "color": "#C8D4E3"
             },
             "line": {
              "color": "white"
             }
            },
            "type": "table"
           }
          ]
         },
         "layout": {
          "annotationdefaults": {
           "arrowcolor": "#2a3f5f",
           "arrowhead": 0,
           "arrowwidth": 1
          },
          "autotypenumbers": "strict",
          "coloraxis": {
           "colorbar": {
            "outlinewidth": 0,
            "ticks": ""
           }
          },
          "colorscale": {
           "diverging": [
            [
             0,
             "#8e0152"
            ],
            [
             0.1,
             "#c51b7d"
            ],
            [
             0.2,
             "#de77ae"
            ],
            [
             0.3,
             "#f1b6da"
            ],
            [
             0.4,
             "#fde0ef"
            ],
            [
             0.5,
             "#f7f7f7"
            ],
            [
             0.6,
             "#e6f5d0"
            ],
            [
             0.7,
             "#b8e186"
            ],
            [
             0.8,
             "#7fbc41"
            ],
            [
             0.9,
             "#4d9221"
            ],
            [
             1,
             "#276419"
            ]
           ],
           "sequential": [
            [
             0,
             "#0d0887"
            ],
            [
             0.1111111111111111,
             "#46039f"
            ],
            [
             0.2222222222222222,
             "#7201a8"
            ],
            [
             0.3333333333333333,
             "#9c179e"
            ],
            [
             0.4444444444444444,
             "#bd3786"
            ],
            [
             0.5555555555555556,
             "#d8576b"
            ],
            [
             0.6666666666666666,
             "#ed7953"
            ],
            [
             0.7777777777777778,
             "#fb9f3a"
            ],
            [
             0.8888888888888888,
             "#fdca26"
            ],
            [
             1,
             "#f0f921"
            ]
           ],
           "sequentialminus": [
            [
             0,
             "#0d0887"
            ],
            [
             0.1111111111111111,
             "#46039f"
            ],
            [
             0.2222222222222222,
             "#7201a8"
            ],
            [
             0.3333333333333333,
             "#9c179e"
            ],
            [
             0.4444444444444444,
             "#bd3786"
            ],
            [
             0.5555555555555556,
             "#d8576b"
            ],
            [
             0.6666666666666666,
             "#ed7953"
            ],
            [
             0.7777777777777778,
             "#fb9f3a"
            ],
            [
             0.8888888888888888,
             "#fdca26"
            ],
            [
             1,
             "#f0f921"
            ]
           ]
          },
          "colorway": [
           "#636efa",
           "#EF553B",
           "#00cc96",
           "#ab63fa",
           "#FFA15A",
           "#19d3f3",
           "#FF6692",
           "#B6E880",
           "#FF97FF",
           "#FECB52"
          ],
          "font": {
           "color": "#2a3f5f"
          },
          "geo": {
           "bgcolor": "white",
           "lakecolor": "white",
           "landcolor": "white",
           "showlakes": true,
           "showland": true,
           "subunitcolor": "#C8D4E3"
          },
          "hoverlabel": {
           "align": "left"
          },
          "hovermode": "closest",
          "mapbox": {
           "style": "light"
          },
          "paper_bgcolor": "white",
          "plot_bgcolor": "white",
          "polar": {
           "angularaxis": {
            "gridcolor": "#EBF0F8",
            "linecolor": "#EBF0F8",
            "ticks": ""
           },
           "bgcolor": "white",
           "radialaxis": {
            "gridcolor": "#EBF0F8",
            "linecolor": "#EBF0F8",
            "ticks": ""
           }
          },
          "scene": {
           "xaxis": {
            "backgroundcolor": "white",
            "gridcolor": "#DFE8F3",
            "gridwidth": 2,
            "linecolor": "#EBF0F8",
            "showbackground": true,
            "ticks": "",
            "zerolinecolor": "#EBF0F8"
           },
           "yaxis": {
            "backgroundcolor": "white",
            "gridcolor": "#DFE8F3",
            "gridwidth": 2,
            "linecolor": "#EBF0F8",
            "showbackground": true,
            "ticks": "",
            "zerolinecolor": "#EBF0F8"
           },
           "zaxis": {
            "backgroundcolor": "white",
            "gridcolor": "#DFE8F3",
            "gridwidth": 2,
            "linecolor": "#EBF0F8",
            "showbackground": true,
            "ticks": "",
            "zerolinecolor": "#EBF0F8"
           }
          },
          "shapedefaults": {
           "line": {
            "color": "#2a3f5f"
           }
          },
          "ternary": {
           "aaxis": {
            "gridcolor": "#DFE8F3",
            "linecolor": "#A2B1C6",
            "ticks": ""
           },
           "baxis": {
            "gridcolor": "#DFE8F3",
            "linecolor": "#A2B1C6",
            "ticks": ""
           },
           "bgcolor": "white",
           "caxis": {
            "gridcolor": "#DFE8F3",
            "linecolor": "#A2B1C6",
            "ticks": ""
           }
          },
          "title": {
           "x": 0.05
          },
          "xaxis": {
           "automargin": true,
           "gridcolor": "#EBF0F8",
           "linecolor": "#EBF0F8",
           "ticks": "",
           "title": {
            "standoff": 15
           },
           "zerolinecolor": "#EBF0F8",
           "zerolinewidth": 2
          },
          "yaxis": {
           "automargin": true,
           "gridcolor": "#EBF0F8",
           "linecolor": "#EBF0F8",
           "ticks": "",
           "title": {
            "standoff": 15
           },
           "zerolinecolor": "#EBF0F8",
           "zerolinewidth": 2
          }
         }
        },
        "title": {
         "text": "Test AUC Comparison Between Models",
         "x": 0.5
        },
        "width": 500,
        "xaxis": {
         "anchor": "y",
         "domain": [
          0,
          1
         ],
         "linecolor": "black",
         "ticks": "",
         "title": {
          "text": "Model Name"
         }
        },
        "yaxis": {
         "anchor": "x",
         "domain": [
          0,
          1
         ],
         "linecolor": "black",
         "range": [
          0,
          1
         ],
         "ticks": "",
         "title": {
          "text": "Test Accuracy"
         }
        }
       }
      },
      "text/html": [
       "<div>                            <div id=\"a72a14ca-d8fa-485a-b714-0c5b5190dda8\" class=\"plotly-graph-div\" style=\"height:500px; width:500px;\"></div>            <script type=\"text/javascript\">                require([\"plotly\"], function(Plotly) {                    window.PLOTLYENV=window.PLOTLYENV || {};                                    if (document.getElementById(\"a72a14ca-d8fa-485a-b714-0c5b5190dda8\")) {                    Plotly.newPlot(                        \"a72a14ca-d8fa-485a-b714-0c5b5190dda8\",                        [{\"alignmentgroup\":\"True\",\"hovertemplate\":\"Model Name=%{x}\\u003cbr\\u003eTest Accuracy=%{y}\\u003cbr\\u003etext=%{text}\\u003cextra\\u003e\\u003c\\u002fextra\\u003e\",\"legendgroup\":\"\",\"marker\":{\"color\":\"#1f77b4\",\"pattern\":{\"shape\":\"\"}},\"name\":\"\",\"offsetgroup\":\"\",\"orientation\":\"v\",\"showlegend\":false,\"text\":[\"0.572\",\"0.519\",\"0.504\",\"0.531\",\"0.466\",\"0.573\",\"0.549\",\"0.486\"],\"textposition\":\"outside\",\"x\":[\"FMCIBExtractor\",\"CTFMExtractor\",\"PyramidExtractor\",\"VISTA3DExtractor\",\"VocoExtractor\",\"SUPREMExtractor\",\"MerlinExtractor\",\"ModelsGenExtractor\"],\"xaxis\":\"x\",\"y\":[0.5718548448823699,0.5186388355766488,0.5038896550829725,0.5306153841857082,0.4663520599685412,0.572665054790677,0.5486597539276378,0.4862780068958477],\"yaxis\":\"y\",\"type\":\"bar\"}],                        {\"template\":{\"data\":{\"barpolar\":[{\"marker\":{\"line\":{\"color\":\"white\",\"width\":0.5},\"pattern\":{\"fillmode\":\"overlay\",\"size\":10,\"solidity\":0.2}},\"type\":\"barpolar\"}],\"bar\":[{\"error_x\":{\"color\":\"#2a3f5f\"},\"error_y\":{\"color\":\"#2a3f5f\"},\"marker\":{\"line\":{\"color\":\"white\",\"width\":0.5},\"pattern\":{\"fillmode\":\"overlay\",\"size\":10,\"solidity\":0.2}},\"type\":\"bar\"}],\"carpet\":[{\"aaxis\":{\"endlinecolor\":\"#2a3f5f\",\"gridcolor\":\"#C8D4E3\",\"linecolor\":\"#C8D4E3\",\"minorgridcolor\":\"#C8D4E3\",\"startlinecolor\":\"#2a3f5f\"},\"baxis\":{\"endlinecolor\":\"#2a3f5f\",\"gridcolor\":\"#C8D4E3\",\"linecolor\":\"#C8D4E3\",\"minorgridcolor\":\"#C8D4E3\",\"startlinecolor\":\"#2a3f5f\"},\"type\":\"carpet\"}],\"choropleth\":[{\"colorbar\":{\"outlinewidth\":0,\"ticks\":\"\"},\"type\":\"choropleth\"}],\"contourcarpet\":[{\"colorbar\":{\"outlinewidth\":0,\"ticks\":\"\"},\"type\":\"contourcarpet\"}],\"contour\":[{\"colorbar\":{\"outlinewidth\":0,\"ticks\":\"\"},\"colorscale\":[[0.0,\"#0d0887\"],[0.1111111111111111,\"#46039f\"],[0.2222222222222222,\"#7201a8\"],[0.3333333333333333,\"#9c179e\"],[0.4444444444444444,\"#bd3786\"],[0.5555555555555556,\"#d8576b\"],[0.6666666666666666,\"#ed7953\"],[0.7777777777777778,\"#fb9f3a\"],[0.8888888888888888,\"#fdca26\"],[1.0,\"#f0f921\"]],\"type\":\"contour\"}],\"heatmapgl\":[{\"colorbar\":{\"outlinewidth\":0,\"ticks\":\"\"},\"colorscale\":[[0.0,\"#0d0887\"],[0.1111111111111111,\"#46039f\"],[0.2222222222222222,\"#7201a8\"],[0.3333333333333333,\"#9c179e\"],[0.4444444444444444,\"#bd3786\"],[0.5555555555555556,\"#d8576b\"],[0.6666666666666666,\"#ed7953\"],[0.7777777777777778,\"#fb9f3a\"],[0.8888888888888888,\"#fdca26\"],[1.0,\"#f0f921\"]],\"type\":\"heatmapgl\"}],\"heatmap\":[{\"colorbar\":{\"outlinewidth\":0,\"ticks\":\"\"},\"colorscale\":[[0.0,\"#0d0887\"],[0.1111111111111111,\"#46039f\"],[0.2222222222222222,\"#7201a8\"],[0.3333333333333333,\"#9c179e\"],[0.4444444444444444,\"#bd3786\"],[0.5555555555555556,\"#d8576b\"],[0.6666666666666666,\"#ed7953\"],[0.7777777777777778,\"#fb9f3a\"],[0.8888888888888888,\"#fdca26\"],[1.0,\"#f0f921\"]],\"type\":\"heatmap\"}],\"histogram2dcontour\":[{\"colorbar\":{\"outlinewidth\":0,\"ticks\":\"\"},\"colorscale\":[[0.0,\"#0d0887\"],[0.1111111111111111,\"#46039f\"],[0.2222222222222222,\"#7201a8\"],[0.3333333333333333,\"#9c179e\"],[0.4444444444444444,\"#bd3786\"],[0.5555555555555556,\"#d8576b\"],[0.6666666666666666,\"#ed7953\"],[0.7777777777777778,\"#fb9f3a\"],[0.8888888888888888,\"#fdca26\"],[1.0,\"#f0f921\"]],\"type\":\"histogram2dcontour\"}],\"histogram2d\":[{\"colorbar\":{\"outlinewidth\":0,\"ticks\":\"\"},\"colorscale\":[[0.0,\"#0d0887\"],[0.1111111111111111,\"#46039f\"],[0.2222222222222222,\"#7201a8\"],[0.3333333333333333,\"#9c179e\"],[0.4444444444444444,\"#bd3786\"],[0.5555555555555556,\"#d8576b\"],[0.6666666666666666,\"#ed7953\"],[0.7777777777777778,\"#fb9f3a\"],[0.8888888888888888,\"#fdca26\"],[1.0,\"#f0f921\"]],\"type\":\"histogram2d\"}],\"histogram\":[{\"marker\":{\"pattern\":{\"fillmode\":\"overlay\",\"size\":10,\"solidity\":0.2}},\"type\":\"histogram\"}],\"mesh3d\":[{\"colorbar\":{\"outlinewidth\":0,\"ticks\":\"\"},\"type\":\"mesh3d\"}],\"parcoords\":[{\"line\":{\"colorbar\":{\"outlinewidth\":0,\"ticks\":\"\"}},\"type\":\"parcoords\"}],\"pie\":[{\"automargin\":true,\"type\":\"pie\"}],\"scatter3d\":[{\"line\":{\"colorbar\":{\"outlinewidth\":0,\"ticks\":\"\"}},\"marker\":{\"colorbar\":{\"outlinewidth\":0,\"ticks\":\"\"}},\"type\":\"scatter3d\"}],\"scattercarpet\":[{\"marker\":{\"colorbar\":{\"outlinewidth\":0,\"ticks\":\"\"}},\"type\":\"scattercarpet\"}],\"scattergeo\":[{\"marker\":{\"colorbar\":{\"outlinewidth\":0,\"ticks\":\"\"}},\"type\":\"scattergeo\"}],\"scattergl\":[{\"marker\":{\"colorbar\":{\"outlinewidth\":0,\"ticks\":\"\"}},\"type\":\"scattergl\"}],\"scattermapbox\":[{\"marker\":{\"colorbar\":{\"outlinewidth\":0,\"ticks\":\"\"}},\"type\":\"scattermapbox\"}],\"scatterpolargl\":[{\"marker\":{\"colorbar\":{\"outlinewidth\":0,\"ticks\":\"\"}},\"type\":\"scatterpolargl\"}],\"scatterpolar\":[{\"marker\":{\"colorbar\":{\"outlinewidth\":0,\"ticks\":\"\"}},\"type\":\"scatterpolar\"}],\"scatter\":[{\"fillpattern\":{\"fillmode\":\"overlay\",\"size\":10,\"solidity\":0.2},\"type\":\"scatter\"}],\"scatterternary\":[{\"marker\":{\"colorbar\":{\"outlinewidth\":0,\"ticks\":\"\"}},\"type\":\"scatterternary\"}],\"surface\":[{\"colorbar\":{\"outlinewidth\":0,\"ticks\":\"\"},\"colorscale\":[[0.0,\"#0d0887\"],[0.1111111111111111,\"#46039f\"],[0.2222222222222222,\"#7201a8\"],[0.3333333333333333,\"#9c179e\"],[0.4444444444444444,\"#bd3786\"],[0.5555555555555556,\"#d8576b\"],[0.6666666666666666,\"#ed7953\"],[0.7777777777777778,\"#fb9f3a\"],[0.8888888888888888,\"#fdca26\"],[1.0,\"#f0f921\"]],\"type\":\"surface\"}],\"table\":[{\"cells\":{\"fill\":{\"color\":\"#EBF0F8\"},\"line\":{\"color\":\"white\"}},\"header\":{\"fill\":{\"color\":\"#C8D4E3\"},\"line\":{\"color\":\"white\"}},\"type\":\"table\"}]},\"layout\":{\"annotationdefaults\":{\"arrowcolor\":\"#2a3f5f\",\"arrowhead\":0,\"arrowwidth\":1},\"autotypenumbers\":\"strict\",\"coloraxis\":{\"colorbar\":{\"outlinewidth\":0,\"ticks\":\"\"}},\"colorscale\":{\"diverging\":[[0,\"#8e0152\"],[0.1,\"#c51b7d\"],[0.2,\"#de77ae\"],[0.3,\"#f1b6da\"],[0.4,\"#fde0ef\"],[0.5,\"#f7f7f7\"],[0.6,\"#e6f5d0\"],[0.7,\"#b8e186\"],[0.8,\"#7fbc41\"],[0.9,\"#4d9221\"],[1,\"#276419\"]],\"sequential\":[[0.0,\"#0d0887\"],[0.1111111111111111,\"#46039f\"],[0.2222222222222222,\"#7201a8\"],[0.3333333333333333,\"#9c179e\"],[0.4444444444444444,\"#bd3786\"],[0.5555555555555556,\"#d8576b\"],[0.6666666666666666,\"#ed7953\"],[0.7777777777777778,\"#fb9f3a\"],[0.8888888888888888,\"#fdca26\"],[1.0,\"#f0f921\"]],\"sequentialminus\":[[0.0,\"#0d0887\"],[0.1111111111111111,\"#46039f\"],[0.2222222222222222,\"#7201a8\"],[0.3333333333333333,\"#9c179e\"],[0.4444444444444444,\"#bd3786\"],[0.5555555555555556,\"#d8576b\"],[0.6666666666666666,\"#ed7953\"],[0.7777777777777778,\"#fb9f3a\"],[0.8888888888888888,\"#fdca26\"],[1.0,\"#f0f921\"]]},\"colorway\":[\"#636efa\",\"#EF553B\",\"#00cc96\",\"#ab63fa\",\"#FFA15A\",\"#19d3f3\",\"#FF6692\",\"#B6E880\",\"#FF97FF\",\"#FECB52\"],\"font\":{\"color\":\"#2a3f5f\"},\"geo\":{\"bgcolor\":\"white\",\"lakecolor\":\"white\",\"landcolor\":\"white\",\"showlakes\":true,\"showland\":true,\"subunitcolor\":\"#C8D4E3\"},\"hoverlabel\":{\"align\":\"left\"},\"hovermode\":\"closest\",\"mapbox\":{\"style\":\"light\"},\"paper_bgcolor\":\"white\",\"plot_bgcolor\":\"white\",\"polar\":{\"angularaxis\":{\"gridcolor\":\"#EBF0F8\",\"linecolor\":\"#EBF0F8\",\"ticks\":\"\"},\"bgcolor\":\"white\",\"radialaxis\":{\"gridcolor\":\"#EBF0F8\",\"linecolor\":\"#EBF0F8\",\"ticks\":\"\"}},\"scene\":{\"xaxis\":{\"backgroundcolor\":\"white\",\"gridcolor\":\"#DFE8F3\",\"gridwidth\":2,\"linecolor\":\"#EBF0F8\",\"showbackground\":true,\"ticks\":\"\",\"zerolinecolor\":\"#EBF0F8\"},\"yaxis\":{\"backgroundcolor\":\"white\",\"gridcolor\":\"#DFE8F3\",\"gridwidth\":2,\"linecolor\":\"#EBF0F8\",\"showbackground\":true,\"ticks\":\"\",\"zerolinecolor\":\"#EBF0F8\"},\"zaxis\":{\"backgroundcolor\":\"white\",\"gridcolor\":\"#DFE8F3\",\"gridwidth\":2,\"linecolor\":\"#EBF0F8\",\"showbackground\":true,\"ticks\":\"\",\"zerolinecolor\":\"#EBF0F8\"}},\"shapedefaults\":{\"line\":{\"color\":\"#2a3f5f\"}},\"ternary\":{\"aaxis\":{\"gridcolor\":\"#DFE8F3\",\"linecolor\":\"#A2B1C6\",\"ticks\":\"\"},\"baxis\":{\"gridcolor\":\"#DFE8F3\",\"linecolor\":\"#A2B1C6\",\"ticks\":\"\"},\"bgcolor\":\"white\",\"caxis\":{\"gridcolor\":\"#DFE8F3\",\"linecolor\":\"#A2B1C6\",\"ticks\":\"\"}},\"title\":{\"x\":0.05},\"xaxis\":{\"automargin\":true,\"gridcolor\":\"#EBF0F8\",\"linecolor\":\"#EBF0F8\",\"ticks\":\"\",\"title\":{\"standoff\":15},\"zerolinecolor\":\"#EBF0F8\",\"zerolinewidth\":2},\"yaxis\":{\"automargin\":true,\"gridcolor\":\"#EBF0F8\",\"linecolor\":\"#EBF0F8\",\"ticks\":\"\",\"title\":{\"standoff\":15},\"zerolinecolor\":\"#EBF0F8\",\"zerolinewidth\":2}}},\"xaxis\":{\"anchor\":\"y\",\"domain\":[0.0,1.0],\"title\":{\"text\":\"Model Name\"},\"linecolor\":\"black\",\"ticks\":\"\"},\"yaxis\":{\"anchor\":\"x\",\"domain\":[0.0,1.0],\"title\":{\"text\":\"Test Accuracy\"},\"range\":[0,1],\"linecolor\":\"black\",\"ticks\":\"\"},\"legend\":{\"tracegroupgap\":0},\"title\":{\"text\":\"Test AUC Comparison Between Models\",\"x\":0.5},\"barmode\":\"relative\",\"height\":500,\"width\":500,\"font\":{\"size\":10},\"showlegend\":false,\"plot_bgcolor\":\"rgba(0,0,0,0)\"},                        {\"responsive\": true}                    ).then(function(){\n",
       "                            \n",
       "var gd = document.getElementById('a72a14ca-d8fa-485a-b714-0c5b5190dda8');\n",
       "var x = new MutationObserver(function (mutations, observer) {{\n",
       "        var display = window.getComputedStyle(gd).display;\n",
       "        if (!display || display === 'none') {{\n",
       "            console.log([gd, 'removed!']);\n",
       "            Plotly.purge(gd);\n",
       "            observer.disconnect();\n",
       "        }}\n",
       "}});\n",
       "\n",
       "// Listen for the removal of the full notebook cells\n",
       "var notebookContainer = gd.closest('#notebook-container');\n",
       "if (notebookContainer) {{\n",
       "    x.observe(notebookContainer, {childList: true});\n",
       "}}\n",
       "\n",
       "// Listen for the clearing of the current output cell\n",
       "var outputEl = gd.closest('.output');\n",
       "if (outputEl) {{\n",
       "    x.observe(outputEl, {childList: true});\n",
       "}}\n",
       "\n",
       "                        })                };                });            </script>        </div>"
      ]
     },
     "metadata": {},
     "output_type": "display_data"
    }
   ],
   "source": [
    "# Plot test accuracies\n",
    "fig = plot_model_comparison(test_accuracies_dict)\n",
    "fig.show() # Show the plot"
   ]
  },
  {
   "cell_type": "code",
   "execution_count": null,
   "metadata": {},
   "outputs": [],
   "source": []
  }
 ],
 "metadata": {
  "kernelspec": {
   "display_name": "Python 3",
   "language": "python",
   "name": "python3"
  },
  "language_info": {
   "codemirror_mode": {
    "name": "ipython",
    "version": 3
   },
   "file_extension": ".py",
   "mimetype": "text/x-python",
   "name": "python",
   "nbconvert_exporter": "python",
   "pygments_lexer": "ipython3",
   "version": "3.10.14"
  }
 },
 "nbformat": 4,
 "nbformat_minor": 4
}
