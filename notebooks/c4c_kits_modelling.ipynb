{
 "cells": [
  {
   "cell_type": "code",
   "execution_count": 1,
   "metadata": {},
   "outputs": [],
   "source": [
    "# Import necessary libraries\n",
    "\n",
    "import pandas as pd # For data manipulation and analysis\n",
    "import numpy as np # For numerical operations\n",
    "import pickle # For serializing and deserializing Python objects\n",
    "from modelling_utils import train_knn_classifier, evaluate_model, plot_model_comparison"
   ]
  },
  {
   "cell_type": "code",
   "execution_count": 2,
   "metadata": {},
   "outputs": [],
   "source": [
    "# Load features from a pickle file\n",
    "feature_dict_path = \"/home/suraj/Repositories/FM-extractors-radiomics/evaluation/features/c4c_kits.pkl\" # Path to the pickle file containing features\n",
    "with open(feature_dict_path, 'rb') as file: # Open the file in read binary mode\n",
    "    data = pickle.load(file) # Load the data from the pickle file"
   ]
  },
  {
   "cell_type": "code",
   "execution_count": 14,
   "metadata": {},
   "outputs": [],
   "source": [
    "# Store test accuracies for each model\n",
    "test_accuracies_dict = {} # Initialize an empty dictionary to store test accuracies\n",
    "\n",
    "# Process survival data\n",
    "for model_name, values in data.items():  # Iterate through each model\n",
    "    for dataset in [\"train\", \"val\", \"test\"]:  # Apply to train, val, and test data\n",
    "        vital_days = [v[\"row\"][\"vital_days_after_surgery\"] for v in values[dataset]]  # Extract vital days\n",
    "        vital_status = [v[\"row\"][\"vital_status\"] for v in values[dataset]]  # Extract vital status\n",
    "        survival = []\n",
    "        \n",
    "        for days, censor in zip(vital_days, vital_status):\n",
    "            if days >= 790.5:\n",
    "                survival.append(1)\n",
    "            elif censor != 'censored' and days < 790.5:\n",
    "                survival.append(0)\n",
    "            else:\n",
    "                survival.append(np.nan)\n",
    "\n",
    "        items = data[model_name][dataset]\n",
    "        for idx in range(len(items)):\n",
    "            items[idx][\"row\"][\"survival\"] = survival[idx]  # Store survival status"
   ]
  },
  {
   "cell_type": "code",
   "execution_count": 31,
   "metadata": {},
   "outputs": [
    {
     "name": "stderr",
     "output_type": "stream",
     "text": [
      "[I 2025-01-22 16:57:43,431] A new study created in memory with name: no-name-bf415315-41bb-46a1-87c2-0d1f23332da7\n",
      "[I 2025-01-22 16:57:43,449] Trial 0 finished with value: 0.75 and parameters: {'k': 29}. Best is trial 0 with value: 0.75.\n",
      "[I 2025-01-22 16:57:43,456] Trial 1 finished with value: 0.6730769230769231 and parameters: {'k': 12}. Best is trial 0 with value: 0.75.\n",
      "[I 2025-01-22 16:57:43,463] Trial 2 finished with value: 0.5192307692307692 and parameters: {'k': 11}. Best is trial 0 with value: 0.75.\n",
      "[I 2025-01-22 16:57:43,478] Trial 3 finished with value: 0.7307692307692308 and parameters: {'k': 42}. Best is trial 0 with value: 0.75.\n",
      "[I 2025-01-22 16:57:43,488] Trial 4 finished with value: 0.6346153846153846 and parameters: {'k': 3}. Best is trial 0 with value: 0.75.\n",
      "[I 2025-01-22 16:57:43,498] Trial 5 finished with value: 0.7692307692307693 and parameters: {'k': 28}. Best is trial 5 with value: 0.7692307692307693.\n",
      "[I 2025-01-22 16:57:43,507] Trial 6 finished with value: 0.75 and parameters: {'k': 39}. Best is trial 5 with value: 0.7692307692307693.\n",
      "[I 2025-01-22 16:57:43,516] Trial 7 finished with value: 0.7307692307692307 and parameters: {'k': 32}. Best is trial 5 with value: 0.7692307692307693.\n",
      "[I 2025-01-22 16:57:43,524] Trial 8 finished with value: 0.6346153846153846 and parameters: {'k': 23}. Best is trial 5 with value: 0.7692307692307693.\n",
      "[I 2025-01-22 16:57:43,533] Trial 9 finished with value: 0.5384615384615385 and parameters: {'k': 5}. Best is trial 5 with value: 0.7692307692307693.\n",
      "[I 2025-01-22 16:57:43,542] Trial 10 finished with value: 0.7307692307692307 and parameters: {'k': 34}. Best is trial 5 with value: 0.7692307692307693.\n",
      "[I 2025-01-22 16:57:43,551] Trial 11 finished with value: 0.7884615384615384 and parameters: {'k': 36}. Best is trial 11 with value: 0.7884615384615384.\n",
      "[I 2025-01-22 16:57:43,559] Trial 12 finished with value: 0.7692307692307693 and parameters: {'k': 27}. Best is trial 11 with value: 0.7884615384615384.\n",
      "[I 2025-01-22 16:57:43,569] Trial 13 finished with value: 0.7884615384615384 and parameters: {'k': 35}. Best is trial 11 with value: 0.7884615384615384.\n",
      "[I 2025-01-22 16:57:43,578] Trial 14 finished with value: 0.6538461538461539 and parameters: {'k': 19}. Best is trial 11 with value: 0.7884615384615384.\n",
      "[I 2025-01-22 16:57:43,588] Trial 15 finished with value: 0.5576923076923077 and parameters: {'k': 8}. Best is trial 11 with value: 0.7884615384615384.\n",
      "[I 2025-01-22 16:57:43,598] Trial 16 finished with value: 0.6346153846153847 and parameters: {'k': 15}. Best is trial 11 with value: 0.7884615384615384.\n",
      "[I 2025-01-22 16:57:43,608] Trial 17 finished with value: 0.8076923076923077 and parameters: {'k': 46}. Best is trial 17 with value: 0.8076923076923077.\n",
      "[I 2025-01-22 16:57:43,619] Trial 18 finished with value: 0.6923076923076923 and parameters: {'k': 49}. Best is trial 17 with value: 0.8076923076923077.\n"
     ]
    },
    {
     "name": "stdout",
     "output_type": "stream",
     "text": [
      "Model: FMCIBExtractor\n",
      "Train labels (0/1): [ 8 48]\n",
      "Val labels (0/1): [ 2 13]\n",
      "Test labels (0/1): [ 6 44]\n",
      "Train items: (56, 4096)\n",
      "Train labels: 56\n",
      "Val items: (15, 4096)\n",
      "Val labels: 15\n",
      "Test items: (50, 4096)\n",
      "Test labels: 50\n"
     ]
    },
    {
     "name": "stderr",
     "output_type": "stream",
     "text": [
      "[I 2025-01-22 16:57:43,631] Trial 19 finished with value: 0.75 and parameters: {'k': 30}. Best is trial 17 with value: 0.8076923076923077.\n",
      "[I 2025-01-22 16:57:43,643] Trial 20 finished with value: 0.5961538461538463 and parameters: {'k': 16}. Best is trial 17 with value: 0.8076923076923077.\n",
      "[I 2025-01-22 16:57:43,654] Trial 21 finished with value: 0.75 and parameters: {'k': 31}. Best is trial 17 with value: 0.8076923076923077.\n",
      "[I 2025-01-22 16:57:43,665] Trial 22 finished with value: 0.7307692307692307 and parameters: {'k': 33}. Best is trial 17 with value: 0.8076923076923077.\n",
      "[I 2025-01-22 16:57:43,677] Trial 23 finished with value: 0.6538461538461539 and parameters: {'k': 17}. Best is trial 17 with value: 0.8076923076923077.\n",
      "[I 2025-01-22 16:57:43,688] Trial 24 finished with value: 0.75 and parameters: {'k': 43}. Best is trial 17 with value: 0.8076923076923077.\n",
      "[I 2025-01-22 16:57:43,699] Trial 25 finished with value: 0.6538461538461539 and parameters: {'k': 21}. Best is trial 17 with value: 0.8076923076923077.\n",
      "[I 2025-01-22 16:57:43,711] Trial 26 finished with value: 0.7115384615384616 and parameters: {'k': 44}. Best is trial 17 with value: 0.8076923076923077.\n",
      "[I 2025-01-22 16:57:43,723] Trial 27 finished with value: 0.5961538461538461 and parameters: {'k': 9}. Best is trial 17 with value: 0.8076923076923077.\n",
      "[I 2025-01-22 16:57:43,735] Trial 28 finished with value: 0.6538461538461539 and parameters: {'k': 14}. Best is trial 17 with value: 0.8076923076923077.\n",
      "[I 2025-01-22 16:57:43,746] Trial 29 finished with value: 0.7692307692307693 and parameters: {'k': 26}. Best is trial 17 with value: 0.8076923076923077.\n",
      "[I 2025-01-22 16:57:43,760] Trial 30 finished with value: 0.5576923076923077 and parameters: {'k': 6}. Best is trial 17 with value: 0.8076923076923077.\n",
      "[I 2025-01-22 16:57:43,773] Trial 31 finished with value: 0.6538461538461539 and parameters: {'k': 18}. Best is trial 17 with value: 0.8076923076923077.\n",
      "[I 2025-01-22 16:57:43,786] Trial 32 finished with value: 0.75 and parameters: {'k': 41}. Best is trial 17 with value: 0.8076923076923077.\n",
      "[I 2025-01-22 16:57:43,801] Trial 33 finished with value: 0.6923076923076923 and parameters: {'k': 50}. Best is trial 17 with value: 0.8076923076923077.\n",
      "[I 2025-01-22 16:57:43,823] Trial 34 finished with value: 0.6153846153846154 and parameters: {'k': 2}. Best is trial 17 with value: 0.8076923076923077.\n",
      "[I 2025-01-22 16:57:43,835] Trial 35 finished with value: 0.6538461538461539 and parameters: {'k': 13}. Best is trial 17 with value: 0.8076923076923077.\n",
      "[I 2025-01-22 16:57:43,846] Trial 36 finished with value: 0.7692307692307692 and parameters: {'k': 38}. Best is trial 17 with value: 0.8076923076923077.\n",
      "[I 2025-01-22 16:57:43,858] Trial 37 finished with value: 0.6730769230769231 and parameters: {'k': 25}. Best is trial 17 with value: 0.8076923076923077.\n",
      "[I 2025-01-22 16:57:43,870] Trial 38 finished with value: 0.5384615384615385 and parameters: {'k': 7}. Best is trial 17 with value: 0.8076923076923077.\n",
      "[I 2025-01-22 16:57:43,882] Trial 39 finished with value: 0.6923076923076923 and parameters: {'k': 24}. Best is trial 17 with value: 0.8076923076923077.\n",
      "[I 2025-01-22 16:57:43,895] Trial 40 finished with value: 0.7692307692307692 and parameters: {'k': 37}. Best is trial 17 with value: 0.8076923076923077.\n",
      "[I 2025-01-22 16:57:43,907] Trial 41 finished with value: 0.6346153846153846 and parameters: {'k': 22}. Best is trial 17 with value: 0.8076923076923077.\n",
      "[I 2025-01-22 16:57:43,919] Trial 42 finished with value: 0.6538461538461539 and parameters: {'k': 20}. Best is trial 17 with value: 0.8076923076923077.\n",
      "[I 2025-01-22 16:57:43,932] Trial 43 finished with value: 0.5769230769230769 and parameters: {'k': 10}. Best is trial 17 with value: 0.8076923076923077.\n",
      "[I 2025-01-22 16:57:43,945] Trial 44 finished with value: 0.75 and parameters: {'k': 40}. Best is trial 17 with value: 0.8076923076923077.\n",
      "[I 2025-01-22 16:57:43,958] Trial 45 finished with value: 0.8076923076923077 and parameters: {'k': 47}. Best is trial 17 with value: 0.8076923076923077.\n",
      "[I 2025-01-22 16:57:43,970] Trial 46 finished with value: 0.5769230769230769 and parameters: {'k': 4}. Best is trial 17 with value: 0.8076923076923077.\n",
      "[I 2025-01-22 16:57:43,983] Trial 47 finished with value: 0.6346153846153846 and parameters: {'k': 1}. Best is trial 17 with value: 0.8076923076923077.\n",
      "[I 2025-01-22 16:57:43,997] Trial 48 finished with value: 0.7692307692307693 and parameters: {'k': 48}. Best is trial 17 with value: 0.8076923076923077.\n",
      "[I 2025-01-22 16:57:44,013] Trial 49 finished with value: 0.7115384615384616 and parameters: {'k': 45}. Best is trial 17 with value: 0.8076923076923077.\n",
      "[I 2025-01-22 16:57:44,036] A new study created in memory with name: no-name-9c44904d-6fbe-4bf9-b9b6-8b5404aa0513\n",
      "[I 2025-01-22 16:57:44,045] Trial 0 finished with value: 0.5 and parameters: {'k': 29}. Best is trial 0 with value: 0.5.\n",
      "[I 2025-01-22 16:57:44,054] Trial 1 finished with value: 0.5192307692307693 and parameters: {'k': 12}. Best is trial 1 with value: 0.5192307692307693.\n",
      "[I 2025-01-22 16:57:44,063] Trial 2 finished with value: 0.5192307692307693 and parameters: {'k': 11}. Best is trial 1 with value: 0.5192307692307693.\n",
      "[I 2025-01-22 16:57:44,071] Trial 3 finished with value: 0.4230769230769231 and parameters: {'k': 42}. Best is trial 1 with value: 0.5192307692307693.\n",
      "[I 2025-01-22 16:57:44,078] Trial 4 finished with value: 0.6730769230769231 and parameters: {'k': 3}. Best is trial 4 with value: 0.6730769230769231.\n",
      "[I 2025-01-22 16:57:44,084] Trial 5 finished with value: 0.5192307692307693 and parameters: {'k': 28}. Best is trial 4 with value: 0.6730769230769231.\n",
      "[I 2025-01-22 16:57:44,090] Trial 6 finished with value: 0.5961538461538461 and parameters: {'k': 39}. Best is trial 4 with value: 0.6730769230769231.\n",
      "[I 2025-01-22 16:57:44,097] Trial 7 finished with value: 0.4807692307692307 and parameters: {'k': 32}. Best is trial 4 with value: 0.6730769230769231.\n",
      "[I 2025-01-22 16:57:44,105] Trial 8 finished with value: 0.6153846153846154 and parameters: {'k': 23}. Best is trial 4 with value: 0.6730769230769231.\n",
      "[I 2025-01-22 16:57:44,112] Trial 9 finished with value: 0.6730769230769231 and parameters: {'k': 5}. Best is trial 4 with value: 0.6730769230769231.\n",
      "[I 2025-01-22 16:57:44,120] Trial 10 finished with value: 0.4615384615384615 and parameters: {'k': 34}. Best is trial 4 with value: 0.6730769230769231.\n",
      "[I 2025-01-22 16:57:44,127] Trial 11 finished with value: 0.5384615384615385 and parameters: {'k': 36}. Best is trial 4 with value: 0.6730769230769231.\n",
      "[I 2025-01-22 16:57:44,135] Trial 12 finished with value: 0.5192307692307693 and parameters: {'k': 27}. Best is trial 4 with value: 0.6730769230769231.\n",
      "[I 2025-01-22 16:57:44,143] Trial 13 finished with value: 0.44230769230769235 and parameters: {'k': 35}. Best is trial 4 with value: 0.6730769230769231.\n",
      "[I 2025-01-22 16:57:44,151] Trial 14 finished with value: 0.75 and parameters: {'k': 19}. Best is trial 14 with value: 0.75.\n",
      "[I 2025-01-22 16:57:44,159] Trial 15 finished with value: 0.5961538461538461 and parameters: {'k': 8}. Best is trial 14 with value: 0.75.\n",
      "[I 2025-01-22 16:57:44,168] Trial 16 finished with value: 0.5769230769230769 and parameters: {'k': 15}. Best is trial 14 with value: 0.75.\n",
      "[I 2025-01-22 16:57:44,177] Trial 17 finished with value: 0.6153846153846154 and parameters: {'k': 46}. Best is trial 14 with value: 0.75.\n",
      "[I 2025-01-22 16:57:44,186] Trial 18 finished with value: 0.75 and parameters: {'k': 49}. Best is trial 14 with value: 0.75.\n",
      "[I 2025-01-22 16:57:44,195] Trial 19 finished with value: 0.4807692307692307 and parameters: {'k': 30}. Best is trial 14 with value: 0.75.\n",
      "[I 2025-01-22 16:57:44,204] Trial 20 finished with value: 0.6153846153846154 and parameters: {'k': 16}. Best is trial 14 with value: 0.75.\n",
      "[I 2025-01-22 16:57:44,213] Trial 21 finished with value: 0.4807692307692307 and parameters: {'k': 31}. Best is trial 14 with value: 0.75.\n",
      "[I 2025-01-22 16:57:44,225] Trial 22 finished with value: 0.4807692307692307 and parameters: {'k': 33}. Best is trial 14 with value: 0.75.\n"
     ]
    },
    {
     "name": "stdout",
     "output_type": "stream",
     "text": [
      "Model: CTFMExtractor\n",
      "Train labels (0/1): [ 8 48]\n",
      "Val labels (0/1): [ 2 13]\n",
      "Test labels (0/1): [ 6 44]\n",
      "Train items: (56, 512)\n",
      "Train labels: 56\n",
      "Val items: (15, 512)\n",
      "Val labels: 15\n",
      "Test items: (50, 512)\n",
      "Test labels: 50\n"
     ]
    },
    {
     "name": "stderr",
     "output_type": "stream",
     "text": [
      "[I 2025-01-22 16:57:44,235] Trial 23 finished with value: 0.7884615384615385 and parameters: {'k': 17}. Best is trial 23 with value: 0.7884615384615385.\n",
      "[I 2025-01-22 16:57:44,244] Trial 24 finished with value: 0.4230769230769231 and parameters: {'k': 43}. Best is trial 23 with value: 0.7884615384615385.\n",
      "[I 2025-01-22 16:57:44,253] Trial 25 finished with value: 0.7307692307692308 and parameters: {'k': 21}. Best is trial 23 with value: 0.7884615384615385.\n",
      "[I 2025-01-22 16:57:44,262] Trial 26 finished with value: 0.5192307692307693 and parameters: {'k': 44}. Best is trial 23 with value: 0.7884615384615385.\n",
      "[I 2025-01-22 16:57:44,271] Trial 27 finished with value: 0.576923076923077 and parameters: {'k': 9}. Best is trial 23 with value: 0.7884615384615385.\n",
      "[I 2025-01-22 16:57:44,281] Trial 28 finished with value: 0.5 and parameters: {'k': 14}. Best is trial 23 with value: 0.7884615384615385.\n",
      "[I 2025-01-22 16:57:44,290] Trial 29 finished with value: 0.5384615384615385 and parameters: {'k': 26}. Best is trial 23 with value: 0.7884615384615385.\n",
      "[I 2025-01-22 16:57:44,300] Trial 30 finished with value: 0.6730769230769231 and parameters: {'k': 6}. Best is trial 23 with value: 0.7884615384615385.\n",
      "[I 2025-01-22 16:57:44,310] Trial 31 finished with value: 0.7692307692307693 and parameters: {'k': 18}. Best is trial 23 with value: 0.7884615384615385.\n",
      "[I 2025-01-22 16:57:44,320] Trial 32 finished with value: 0.5192307692307692 and parameters: {'k': 41}. Best is trial 23 with value: 0.7884615384615385.\n",
      "[I 2025-01-22 16:57:44,331] Trial 33 finished with value: 0.6730769230769231 and parameters: {'k': 50}. Best is trial 23 with value: 0.7884615384615385.\n",
      "[I 2025-01-22 16:57:44,342] Trial 34 finished with value: 0.6730769230769231 and parameters: {'k': 2}. Best is trial 23 with value: 0.7884615384615385.\n",
      "[I 2025-01-22 16:57:44,356] Trial 35 finished with value: 0.5 and parameters: {'k': 13}. Best is trial 23 with value: 0.7884615384615385.\n",
      "[I 2025-01-22 16:57:44,367] Trial 36 finished with value: 0.6346153846153846 and parameters: {'k': 38}. Best is trial 23 with value: 0.7884615384615385.\n",
      "[I 2025-01-22 16:57:44,378] Trial 37 finished with value: 0.576923076923077 and parameters: {'k': 25}. Best is trial 23 with value: 0.7884615384615385.\n",
      "[I 2025-01-22 16:57:44,388] Trial 38 finished with value: 0.6153846153846154 and parameters: {'k': 7}. Best is trial 23 with value: 0.7884615384615385.\n",
      "[I 2025-01-22 16:57:44,399] Trial 39 finished with value: 0.6153846153846154 and parameters: {'k': 24}. Best is trial 23 with value: 0.7884615384615385.\n",
      "[I 2025-01-22 16:57:44,409] Trial 40 finished with value: 0.7115384615384617 and parameters: {'k': 37}. Best is trial 23 with value: 0.7884615384615385.\n",
      "[I 2025-01-22 16:57:44,420] Trial 41 finished with value: 0.6730769230769231 and parameters: {'k': 22}. Best is trial 23 with value: 0.7884615384615385.\n",
      "[I 2025-01-22 16:57:44,431] Trial 42 finished with value: 0.75 and parameters: {'k': 20}. Best is trial 23 with value: 0.7884615384615385.\n",
      "[I 2025-01-22 16:57:44,443] Trial 43 finished with value: 0.5576923076923077 and parameters: {'k': 10}. Best is trial 23 with value: 0.7884615384615385.\n",
      "[I 2025-01-22 16:57:44,454] Trial 44 finished with value: 0.5384615384615384 and parameters: {'k': 40}. Best is trial 23 with value: 0.7884615384615385.\n",
      "[I 2025-01-22 16:57:44,466] Trial 45 finished with value: 0.576923076923077 and parameters: {'k': 47}. Best is trial 23 with value: 0.7884615384615385.\n",
      "[I 2025-01-22 16:57:44,478] Trial 46 finished with value: 0.6730769230769231 and parameters: {'k': 4}. Best is trial 23 with value: 0.7884615384615385.\n",
      "[I 2025-01-22 16:57:44,490] Trial 47 finished with value: 0.75 and parameters: {'k': 1}. Best is trial 23 with value: 0.7884615384615385.\n",
      "[I 2025-01-22 16:57:44,502] Trial 48 finished with value: 0.6538461538461539 and parameters: {'k': 48}. Best is trial 23 with value: 0.7884615384615385.\n",
      "[I 2025-01-22 16:57:44,518] Trial 49 finished with value: 0.6730769230769231 and parameters: {'k': 45}. Best is trial 23 with value: 0.7884615384615385.\n",
      "[I 2025-01-22 16:57:44,533] A new study created in memory with name: no-name-8e0ed7b6-461b-4b04-8d01-431bb279981e\n",
      "[I 2025-01-22 16:57:44,539] Trial 0 finished with value: 0.3269230769230769 and parameters: {'k': 29}. Best is trial 0 with value: 0.3269230769230769.\n",
      "[I 2025-01-22 16:57:44,545] Trial 1 finished with value: 0.36538461538461536 and parameters: {'k': 12}. Best is trial 1 with value: 0.36538461538461536.\n",
      "[I 2025-01-22 16:57:44,550] Trial 2 finished with value: 0.36538461538461536 and parameters: {'k': 11}. Best is trial 1 with value: 0.36538461538461536.\n",
      "[I 2025-01-22 16:57:44,555] Trial 3 finished with value: 0.40384615384615385 and parameters: {'k': 42}. Best is trial 3 with value: 0.40384615384615385.\n",
      "[I 2025-01-22 16:57:44,560] Trial 4 finished with value: 0.34615384615384615 and parameters: {'k': 3}. Best is trial 3 with value: 0.40384615384615385.\n",
      "[I 2025-01-22 16:57:44,566] Trial 5 finished with value: 0.2884615384615385 and parameters: {'k': 28}. Best is trial 3 with value: 0.40384615384615385.\n",
      "[I 2025-01-22 16:57:44,572] Trial 6 finished with value: 0.3846153846153846 and parameters: {'k': 39}. Best is trial 3 with value: 0.40384615384615385.\n",
      "[I 2025-01-22 16:57:44,578] Trial 7 finished with value: 0.44230769230769235 and parameters: {'k': 32}. Best is trial 7 with value: 0.44230769230769235.\n",
      "[I 2025-01-22 16:57:44,584] Trial 8 finished with value: 0.46153846153846156 and parameters: {'k': 23}. Best is trial 8 with value: 0.46153846153846156.\n",
      "[I 2025-01-22 16:57:44,590] Trial 9 finished with value: 0.4807692307692308 and parameters: {'k': 5}. Best is trial 9 with value: 0.4807692307692308.\n",
      "[I 2025-01-22 16:57:44,596] Trial 10 finished with value: 0.5576923076923077 and parameters: {'k': 34}. Best is trial 10 with value: 0.5576923076923077.\n",
      "[I 2025-01-22 16:57:44,603] Trial 11 finished with value: 0.5769230769230769 and parameters: {'k': 36}. Best is trial 11 with value: 0.5769230769230769.\n",
      "[I 2025-01-22 16:57:44,609] Trial 12 finished with value: 0.38461538461538464 and parameters: {'k': 27}. Best is trial 11 with value: 0.5769230769230769.\n",
      "[I 2025-01-22 16:57:44,615] Trial 13 finished with value: 0.5961538461538461 and parameters: {'k': 35}. Best is trial 13 with value: 0.5961538461538461.\n",
      "[I 2025-01-22 16:57:44,620] Trial 14 finished with value: 0.40384615384615385 and parameters: {'k': 19}. Best is trial 13 with value: 0.5961538461538461.\n",
      "[I 2025-01-22 16:57:44,626] Trial 15 finished with value: 0.4615384615384615 and parameters: {'k': 8}. Best is trial 13 with value: 0.5961538461538461.\n",
      "[I 2025-01-22 16:57:44,632] Trial 16 finished with value: 0.3076923076923077 and parameters: {'k': 15}. Best is trial 13 with value: 0.5961538461538461.\n",
      "[I 2025-01-22 16:57:44,639] Trial 17 finished with value: 0.3653846153846154 and parameters: {'k': 46}. Best is trial 13 with value: 0.5961538461538461.\n",
      "[I 2025-01-22 16:57:44,646] Trial 18 finished with value: 0.5 and parameters: {'k': 49}. Best is trial 13 with value: 0.5961538461538461.\n",
      "[I 2025-01-22 16:57:44,653] Trial 19 finished with value: 0.3269230769230769 and parameters: {'k': 30}. Best is trial 13 with value: 0.5961538461538461.\n",
      "[I 2025-01-22 16:57:44,660] Trial 20 finished with value: 0.2884615384615385 and parameters: {'k': 16}. Best is trial 13 with value: 0.5961538461538461.\n",
      "[I 2025-01-22 16:57:44,667] Trial 21 finished with value: 0.3269230769230769 and parameters: {'k': 31}. Best is trial 13 with value: 0.5961538461538461.\n",
      "[I 2025-01-22 16:57:44,674] Trial 22 finished with value: 0.5576923076923077 and parameters: {'k': 33}. Best is trial 13 with value: 0.5961538461538461.\n",
      "[I 2025-01-22 16:57:44,682] Trial 23 finished with value: 0.25 and parameters: {'k': 17}. Best is trial 13 with value: 0.5961538461538461.\n",
      "[I 2025-01-22 16:57:44,690] Trial 24 finished with value: 0.4230769230769231 and parameters: {'k': 43}. Best is trial 13 with value: 0.5961538461538461.\n",
      "[I 2025-01-22 16:57:44,697] Trial 25 finished with value: 0.3269230769230769 and parameters: {'k': 21}. Best is trial 13 with value: 0.5961538461538461.\n",
      "[I 2025-01-22 16:57:44,705] Trial 26 finished with value: 0.40384615384615385 and parameters: {'k': 44}. Best is trial 13 with value: 0.5961538461538461.\n",
      "[I 2025-01-22 16:57:44,712] Trial 27 finished with value: 0.38461538461538464 and parameters: {'k': 9}. Best is trial 13 with value: 0.5961538461538461.\n",
      "[I 2025-01-22 16:57:44,721] Trial 28 finished with value: 0.3076923076923077 and parameters: {'k': 14}. Best is trial 13 with value: 0.5961538461538461.\n"
     ]
    },
    {
     "name": "stdout",
     "output_type": "stream",
     "text": [
      "Model: PyramidExtractor\n",
      "Train labels (0/1): [ 8 48]\n",
      "Val labels (0/1): [ 2 13]\n",
      "Test labels (0/1): [ 6 44]\n",
      "Train items: (56, 512)\n",
      "Train labels: 56\n",
      "Val items: (15, 512)\n",
      "Val labels: 15\n",
      "Test items: (50, 512)\n",
      "Test labels: 50\n"
     ]
    },
    {
     "name": "stderr",
     "output_type": "stream",
     "text": [
      "[I 2025-01-22 16:57:44,731] Trial 29 finished with value: 0.48076923076923084 and parameters: {'k': 26}. Best is trial 13 with value: 0.5961538461538461.\n",
      "[I 2025-01-22 16:57:44,741] Trial 30 finished with value: 0.4807692307692308 and parameters: {'k': 6}. Best is trial 13 with value: 0.5961538461538461.\n",
      "[I 2025-01-22 16:57:44,753] Trial 31 finished with value: 0.3653846153846154 and parameters: {'k': 18}. Best is trial 13 with value: 0.5961538461538461.\n",
      "[I 2025-01-22 16:57:44,765] Trial 32 finished with value: 0.40384615384615385 and parameters: {'k': 41}. Best is trial 13 with value: 0.5961538461538461.\n",
      "[I 2025-01-22 16:57:44,777] Trial 33 finished with value: 0.5 and parameters: {'k': 50}. Best is trial 13 with value: 0.5961538461538461.\n",
      "[I 2025-01-22 16:57:44,789] Trial 34 finished with value: 0.4230769230769231 and parameters: {'k': 2}. Best is trial 13 with value: 0.5961538461538461.\n",
      "[I 2025-01-22 16:57:44,801] Trial 35 finished with value: 0.3461538461538462 and parameters: {'k': 13}. Best is trial 13 with value: 0.5961538461538461.\n",
      "[I 2025-01-22 16:57:44,814] Trial 36 finished with value: 0.42307692307692313 and parameters: {'k': 38}. Best is trial 13 with value: 0.5961538461538461.\n",
      "[I 2025-01-22 16:57:44,828] Trial 37 finished with value: 0.4230769230769231 and parameters: {'k': 25}. Best is trial 13 with value: 0.5961538461538461.\n",
      "[I 2025-01-22 16:57:44,841] Trial 38 finished with value: 0.5 and parameters: {'k': 7}. Best is trial 13 with value: 0.5961538461538461.\n",
      "[I 2025-01-22 16:57:44,853] Trial 39 finished with value: 0.4230769230769231 and parameters: {'k': 24}. Best is trial 13 with value: 0.5961538461538461.\n",
      "[I 2025-01-22 16:57:44,867] Trial 40 finished with value: 0.4807692307692308 and parameters: {'k': 37}. Best is trial 13 with value: 0.5961538461538461.\n",
      "[I 2025-01-22 16:57:44,881] Trial 41 finished with value: 0.46153846153846156 and parameters: {'k': 22}. Best is trial 13 with value: 0.5961538461538461.\n",
      "[I 2025-01-22 16:57:44,895] Trial 42 finished with value: 0.40384615384615385 and parameters: {'k': 20}. Best is trial 13 with value: 0.5961538461538461.\n",
      "[I 2025-01-22 16:57:44,909] Trial 43 finished with value: 0.38461538461538464 and parameters: {'k': 10}. Best is trial 13 with value: 0.5961538461538461.\n",
      "[I 2025-01-22 16:57:44,924] Trial 44 finished with value: 0.40384615384615385 and parameters: {'k': 40}. Best is trial 13 with value: 0.5961538461538461.\n",
      "[I 2025-01-22 16:57:44,939] Trial 45 finished with value: 0.3653846153846154 and parameters: {'k': 47}. Best is trial 13 with value: 0.5961538461538461.\n",
      "[I 2025-01-22 16:57:44,954] Trial 46 finished with value: 0.4807692307692308 and parameters: {'k': 4}. Best is trial 13 with value: 0.5961538461538461.\n",
      "[I 2025-01-22 16:57:44,968] Trial 47 finished with value: 0.4230769230769231 and parameters: {'k': 1}. Best is trial 13 with value: 0.5961538461538461.\n",
      "[I 2025-01-22 16:57:44,983] Trial 48 finished with value: 0.5 and parameters: {'k': 48}. Best is trial 13 with value: 0.5961538461538461.\n",
      "[I 2025-01-22 16:57:44,999] Trial 49 finished with value: 0.38461538461538464 and parameters: {'k': 45}. Best is trial 13 with value: 0.5961538461538461.\n",
      "[I 2025-01-22 16:57:45,017] A new study created in memory with name: no-name-3bff115e-3e7b-4c75-afbb-20d590d77318\n",
      "[I 2025-01-22 16:57:45,023] Trial 0 finished with value: 0.46153846153846156 and parameters: {'k': 29}. Best is trial 0 with value: 0.46153846153846156.\n",
      "[I 2025-01-22 16:57:45,029] Trial 1 finished with value: 0.5769230769230769 and parameters: {'k': 12}. Best is trial 1 with value: 0.5769230769230769.\n",
      "[I 2025-01-22 16:57:45,034] Trial 2 finished with value: 0.6153846153846154 and parameters: {'k': 11}. Best is trial 2 with value: 0.6153846153846154.\n",
      "[I 2025-01-22 16:57:45,040] Trial 3 finished with value: 0.3846153846153846 and parameters: {'k': 42}. Best is trial 2 with value: 0.6153846153846154.\n",
      "[I 2025-01-22 16:57:45,046] Trial 4 finished with value: 0.5576923076923077 and parameters: {'k': 3}. Best is trial 2 with value: 0.6153846153846154.\n",
      "[I 2025-01-22 16:57:45,052] Trial 5 finished with value: 0.4807692307692308 and parameters: {'k': 28}. Best is trial 2 with value: 0.6153846153846154.\n",
      "[I 2025-01-22 16:57:45,057] Trial 6 finished with value: 0.3846153846153846 and parameters: {'k': 39}. Best is trial 2 with value: 0.6153846153846154.\n",
      "[I 2025-01-22 16:57:45,064] Trial 7 finished with value: 0.4423076923076923 and parameters: {'k': 32}. Best is trial 2 with value: 0.6153846153846154.\n",
      "[I 2025-01-22 16:57:45,070] Trial 8 finished with value: 0.5 and parameters: {'k': 23}. Best is trial 2 with value: 0.6153846153846154.\n",
      "[I 2025-01-22 16:57:45,076] Trial 9 finished with value: 0.7884615384615385 and parameters: {'k': 5}. Best is trial 9 with value: 0.7884615384615385.\n",
      "[I 2025-01-22 16:57:45,083] Trial 10 finished with value: 0.40384615384615385 and parameters: {'k': 34}. Best is trial 9 with value: 0.7884615384615385.\n",
      "[I 2025-01-22 16:57:45,090] Trial 11 finished with value: 0.3653846153846154 and parameters: {'k': 36}. Best is trial 9 with value: 0.7884615384615385.\n",
      "[I 2025-01-22 16:57:45,097] Trial 12 finished with value: 0.4807692307692308 and parameters: {'k': 27}. Best is trial 9 with value: 0.7884615384615385.\n",
      "[I 2025-01-22 16:57:45,104] Trial 13 finished with value: 0.38461538461538464 and parameters: {'k': 35}. Best is trial 9 with value: 0.7884615384615385.\n",
      "[I 2025-01-22 16:57:45,113] Trial 14 finished with value: 0.6153846153846154 and parameters: {'k': 19}. Best is trial 9 with value: 0.7884615384615385.\n",
      "[I 2025-01-22 16:57:45,123] Trial 15 finished with value: 0.7115384615384616 and parameters: {'k': 8}. Best is trial 9 with value: 0.7884615384615385.\n",
      "[I 2025-01-22 16:57:45,133] Trial 16 finished with value: 0.5769230769230769 and parameters: {'k': 15}. Best is trial 9 with value: 0.7884615384615385.\n",
      "[I 2025-01-22 16:57:45,142] Trial 17 finished with value: 0.5384615384615385 and parameters: {'k': 46}. Best is trial 9 with value: 0.7884615384615385.\n",
      "[I 2025-01-22 16:57:45,151] Trial 18 finished with value: 0.5192307692307692 and parameters: {'k': 49}. Best is trial 9 with value: 0.7884615384615385.\n",
      "[I 2025-01-22 16:57:45,161] Trial 19 finished with value: 0.46153846153846156 and parameters: {'k': 30}. Best is trial 9 with value: 0.7884615384615385.\n",
      "[I 2025-01-22 16:57:45,170] Trial 20 finished with value: 0.5769230769230769 and parameters: {'k': 16}. Best is trial 9 with value: 0.7884615384615385.\n",
      "[I 2025-01-22 16:57:45,181] Trial 21 finished with value: 0.46153846153846156 and parameters: {'k': 31}. Best is trial 9 with value: 0.7884615384615385.\n",
      "[I 2025-01-22 16:57:45,191] Trial 22 finished with value: 0.4230769230769231 and parameters: {'k': 33}. Best is trial 9 with value: 0.7884615384615385.\n",
      "[I 2025-01-22 16:57:45,202] Trial 23 finished with value: 0.5576923076923077 and parameters: {'k': 17}. Best is trial 9 with value: 0.7884615384615385.\n",
      "[I 2025-01-22 16:57:45,213] Trial 24 finished with value: 0.36538461538461536 and parameters: {'k': 43}. Best is trial 9 with value: 0.7884615384615385.\n"
     ]
    },
    {
     "name": "stdout",
     "output_type": "stream",
     "text": [
      "Model: VISTA3DExtractor\n",
      "Train labels (0/1): [ 8 48]\n",
      "Val labels (0/1): [ 2 13]\n",
      "Test labels (0/1): [ 6 44]\n",
      "Train items: (56, 768)\n",
      "Train labels: 56\n",
      "Val items: (15, 768)\n",
      "Val labels: 15\n",
      "Test items: (50, 768)\n",
      "Test labels: 50\n"
     ]
    },
    {
     "name": "stderr",
     "output_type": "stream",
     "text": [
      "[I 2025-01-22 16:57:45,224] Trial 25 finished with value: 0.5961538461538463 and parameters: {'k': 21}. Best is trial 9 with value: 0.7884615384615385.\n",
      "[I 2025-01-22 16:57:45,235] Trial 26 finished with value: 0.46153846153846156 and parameters: {'k': 44}. Best is trial 9 with value: 0.7884615384615385.\n",
      "[I 2025-01-22 16:57:45,244] Trial 27 finished with value: 0.7115384615384616 and parameters: {'k': 9}. Best is trial 9 with value: 0.7884615384615385.\n",
      "[I 2025-01-22 16:57:45,253] Trial 28 finished with value: 0.5961538461538461 and parameters: {'k': 14}. Best is trial 9 with value: 0.7884615384615385.\n",
      "[I 2025-01-22 16:57:45,262] Trial 29 finished with value: 0.4807692307692308 and parameters: {'k': 26}. Best is trial 9 with value: 0.7884615384615385.\n",
      "[I 2025-01-22 16:57:45,271] Trial 30 finished with value: 0.7692307692307692 and parameters: {'k': 6}. Best is trial 9 with value: 0.7884615384615385.\n",
      "[I 2025-01-22 16:57:45,281] Trial 31 finished with value: 0.6153846153846154 and parameters: {'k': 18}. Best is trial 9 with value: 0.7884615384615385.\n",
      "[I 2025-01-22 16:57:45,290] Trial 32 finished with value: 0.3846153846153846 and parameters: {'k': 41}. Best is trial 9 with value: 0.7884615384615385.\n",
      "[I 2025-01-22 16:57:45,300] Trial 33 finished with value: 0.6153846153846154 and parameters: {'k': 50}. Best is trial 9 with value: 0.7884615384615385.\n",
      "[I 2025-01-22 16:57:45,313] Trial 34 finished with value: 0.5192307692307692 and parameters: {'k': 2}. Best is trial 9 with value: 0.7884615384615385.\n",
      "[I 2025-01-22 16:57:45,326] Trial 35 finished with value: 0.6346153846153846 and parameters: {'k': 13}. Best is trial 9 with value: 0.7884615384615385.\n",
      "[I 2025-01-22 16:57:45,337] Trial 36 finished with value: 0.40384615384615385 and parameters: {'k': 38}. Best is trial 9 with value: 0.7884615384615385.\n",
      "[I 2025-01-22 16:57:45,348] Trial 37 finished with value: 0.4807692307692308 and parameters: {'k': 25}. Best is trial 9 with value: 0.7884615384615385.\n",
      "[I 2025-01-22 16:57:45,358] Trial 38 finished with value: 0.7307692307692308 and parameters: {'k': 7}. Best is trial 9 with value: 0.7884615384615385.\n",
      "[I 2025-01-22 16:57:45,369] Trial 39 finished with value: 0.4807692307692308 and parameters: {'k': 24}. Best is trial 9 with value: 0.7884615384615385.\n",
      "[I 2025-01-22 16:57:45,380] Trial 40 finished with value: 0.42307692307692313 and parameters: {'k': 37}. Best is trial 9 with value: 0.7884615384615385.\n",
      "[I 2025-01-22 16:57:45,392] Trial 41 finished with value: 0.5384615384615385 and parameters: {'k': 22}. Best is trial 9 with value: 0.7884615384615385.\n",
      "[I 2025-01-22 16:57:45,403] Trial 42 finished with value: 0.6153846153846154 and parameters: {'k': 20}. Best is trial 9 with value: 0.7884615384615385.\n",
      "[I 2025-01-22 16:57:45,415] Trial 43 finished with value: 0.6538461538461539 and parameters: {'k': 10}. Best is trial 9 with value: 0.7884615384615385.\n",
      "[I 2025-01-22 16:57:45,452] Trial 44 finished with value: 0.3846153846153846 and parameters: {'k': 40}. Best is trial 9 with value: 0.7884615384615385.\n",
      "[I 2025-01-22 16:57:45,472] Trial 45 finished with value: 0.5961538461538463 and parameters: {'k': 47}. Best is trial 9 with value: 0.7884615384615385.\n",
      "[I 2025-01-22 16:57:45,487] Trial 46 finished with value: 0.5961538461538461 and parameters: {'k': 4}. Best is trial 9 with value: 0.7884615384615385.\n",
      "[I 2025-01-22 16:57:45,503] Trial 47 finished with value: 0.6730769230769231 and parameters: {'k': 1}. Best is trial 9 with value: 0.7884615384615385.\n",
      "[I 2025-01-22 16:57:45,520] Trial 48 finished with value: 0.5384615384615384 and parameters: {'k': 48}. Best is trial 9 with value: 0.7884615384615385.\n",
      "[I 2025-01-22 16:57:45,538] Trial 49 finished with value: 0.5192307692307693 and parameters: {'k': 45}. Best is trial 9 with value: 0.7884615384615385.\n",
      "[I 2025-01-22 16:57:45,563] A new study created in memory with name: no-name-9d34704a-38b5-4f44-bae8-5c6dc2c94df6\n",
      "[I 2025-01-22 16:57:45,572] Trial 0 finished with value: 0.40384615384615385 and parameters: {'k': 29}. Best is trial 0 with value: 0.40384615384615385.\n",
      "[I 2025-01-22 16:57:45,580] Trial 1 finished with value: 0.6153846153846154 and parameters: {'k': 12}. Best is trial 1 with value: 0.6153846153846154.\n",
      "[I 2025-01-22 16:57:45,588] Trial 2 finished with value: 0.5769230769230769 and parameters: {'k': 11}. Best is trial 1 with value: 0.6153846153846154.\n",
      "[I 2025-01-22 16:57:45,597] Trial 3 finished with value: 0.8846153846153846 and parameters: {'k': 42}. Best is trial 3 with value: 0.8846153846153846.\n",
      "[I 2025-01-22 16:57:45,605] Trial 4 finished with value: 0.2692307692307692 and parameters: {'k': 3}. Best is trial 3 with value: 0.8846153846153846.\n",
      "[I 2025-01-22 16:57:45,613] Trial 5 finished with value: 0.4230769230769231 and parameters: {'k': 28}. Best is trial 3 with value: 0.8846153846153846.\n",
      "[I 2025-01-22 16:57:45,622] Trial 6 finished with value: 0.7884615384615384 and parameters: {'k': 39}. Best is trial 3 with value: 0.8846153846153846.\n",
      "[I 2025-01-22 16:57:45,631] Trial 7 finished with value: 0.3269230769230769 and parameters: {'k': 32}. Best is trial 3 with value: 0.8846153846153846.\n",
      "[I 2025-01-22 16:57:45,641] Trial 8 finished with value: 0.5 and parameters: {'k': 23}. Best is trial 3 with value: 0.8846153846153846.\n",
      "[I 2025-01-22 16:57:45,650] Trial 9 finished with value: 0.3269230769230769 and parameters: {'k': 5}. Best is trial 3 with value: 0.8846153846153846.\n",
      "[I 2025-01-22 16:57:45,660] Trial 10 finished with value: 0.6153846153846154 and parameters: {'k': 34}. Best is trial 3 with value: 0.8846153846153846.\n",
      "[I 2025-01-22 16:57:45,670] Trial 11 finished with value: 0.6153846153846154 and parameters: {'k': 36}. Best is trial 3 with value: 0.8846153846153846.\n",
      "[I 2025-01-22 16:57:45,680] Trial 12 finished with value: 0.4423076923076923 and parameters: {'k': 27}. Best is trial 3 with value: 0.8846153846153846.\n",
      "[I 2025-01-22 16:57:45,691] Trial 13 finished with value: 0.8076923076923077 and parameters: {'k': 35}. Best is trial 3 with value: 0.8846153846153846.\n",
      "[I 2025-01-22 16:57:45,701] Trial 14 finished with value: 0.576923076923077 and parameters: {'k': 19}. Best is trial 3 with value: 0.8846153846153846.\n",
      "[I 2025-01-22 16:57:45,712] Trial 15 finished with value: 0.8076923076923077 and parameters: {'k': 8}. Best is trial 3 with value: 0.8846153846153846.\n",
      "[I 2025-01-22 16:57:45,722] Trial 16 finished with value: 0.6153846153846154 and parameters: {'k': 15}. Best is trial 3 with value: 0.8846153846153846.\n",
      "[I 2025-01-22 16:57:45,733] Trial 17 finished with value: 0.5384615384615384 and parameters: {'k': 46}. Best is trial 3 with value: 0.8846153846153846.\n",
      "[I 2025-01-22 16:57:45,745] Trial 18 finished with value: 0.4423076923076923 and parameters: {'k': 49}. Best is trial 3 with value: 0.8846153846153846.\n"
     ]
    },
    {
     "name": "stdout",
     "output_type": "stream",
     "text": [
      "Model: VocoExtractor\n",
      "Train labels (0/1): [ 8 48]\n",
      "Val labels (0/1): [ 2 13]\n",
      "Test labels (0/1): [ 6 44]\n",
      "Train items: (56, 3072)\n",
      "Train labels: 56\n",
      "Val items: (15, 3072)\n",
      "Val labels: 15\n",
      "Test items: (50, 3072)\n",
      "Test labels: 50\n"
     ]
    },
    {
     "name": "stderr",
     "output_type": "stream",
     "text": [
      "[I 2025-01-22 16:57:45,757] Trial 19 finished with value: 0.38461538461538464 and parameters: {'k': 30}. Best is trial 3 with value: 0.8846153846153846.\n",
      "[I 2025-01-22 16:57:45,769] Trial 20 finished with value: 0.6923076923076923 and parameters: {'k': 16}. Best is trial 3 with value: 0.8846153846153846.\n",
      "[I 2025-01-22 16:57:45,781] Trial 21 finished with value: 0.38461538461538464 and parameters: {'k': 31}. Best is trial 3 with value: 0.8846153846153846.\n",
      "[I 2025-01-22 16:57:45,792] Trial 22 finished with value: 0.46153846153846156 and parameters: {'k': 33}. Best is trial 3 with value: 0.8846153846153846.\n",
      "[I 2025-01-22 16:57:45,804] Trial 23 finished with value: 0.6538461538461539 and parameters: {'k': 17}. Best is trial 3 with value: 0.8846153846153846.\n",
      "[I 2025-01-22 16:57:45,817] Trial 24 finished with value: 0.8076923076923077 and parameters: {'k': 43}. Best is trial 3 with value: 0.8846153846153846.\n",
      "[I 2025-01-22 16:57:45,830] Trial 25 finished with value: 0.42307692307692313 and parameters: {'k': 21}. Best is trial 3 with value: 0.8846153846153846.\n",
      "[I 2025-01-22 16:57:45,842] Trial 26 finished with value: 0.6923076923076923 and parameters: {'k': 44}. Best is trial 3 with value: 0.8846153846153846.\n",
      "[I 2025-01-22 16:57:45,855] Trial 27 finished with value: 0.7307692307692308 and parameters: {'k': 9}. Best is trial 3 with value: 0.8846153846153846.\n",
      "[I 2025-01-22 16:57:45,869] Trial 28 finished with value: 0.6538461538461539 and parameters: {'k': 14}. Best is trial 3 with value: 0.8846153846153846.\n",
      "[I 2025-01-22 16:57:45,883] Trial 29 finished with value: 0.4423076923076923 and parameters: {'k': 26}. Best is trial 3 with value: 0.8846153846153846.\n",
      "[I 2025-01-22 16:57:45,894] Trial 30 finished with value: 0.46153846153846156 and parameters: {'k': 6}. Best is trial 3 with value: 0.8846153846153846.\n",
      "[I 2025-01-22 16:57:45,906] Trial 31 finished with value: 0.6153846153846154 and parameters: {'k': 18}. Best is trial 3 with value: 0.8846153846153846.\n",
      "[I 2025-01-22 16:57:45,917] Trial 32 finished with value: 1.0 and parameters: {'k': 41}. Best is trial 32 with value: 1.0.\n",
      "[I 2025-01-22 16:57:45,929] Trial 33 finished with value: 0.4423076923076923 and parameters: {'k': 50}. Best is trial 32 with value: 1.0.\n",
      "[I 2025-01-22 16:57:45,941] Trial 34 finished with value: 0.3076923076923077 and parameters: {'k': 2}. Best is trial 32 with value: 1.0.\n",
      "[I 2025-01-22 16:57:45,953] Trial 35 finished with value: 0.6538461538461539 and parameters: {'k': 13}. Best is trial 32 with value: 1.0.\n",
      "[I 2025-01-22 16:57:45,966] Trial 36 finished with value: 0.7884615384615384 and parameters: {'k': 38}. Best is trial 32 with value: 1.0.\n",
      "[I 2025-01-22 16:57:45,978] Trial 37 finished with value: 0.4423076923076923 and parameters: {'k': 25}. Best is trial 32 with value: 1.0.\n",
      "[I 2025-01-22 16:57:45,991] Trial 38 finished with value: 0.6538461538461539 and parameters: {'k': 7}. Best is trial 32 with value: 1.0.\n",
      "[I 2025-01-22 16:57:46,005] Trial 39 finished with value: 0.4807692307692308 and parameters: {'k': 24}. Best is trial 32 with value: 1.0.\n",
      "[I 2025-01-22 16:57:46,019] Trial 40 finished with value: 0.8076923076923077 and parameters: {'k': 37}. Best is trial 32 with value: 1.0.\n",
      "[I 2025-01-22 16:57:46,033] Trial 41 finished with value: 0.5576923076923077 and parameters: {'k': 22}. Best is trial 32 with value: 1.0.\n",
      "[I 2025-01-22 16:57:46,047] Trial 42 finished with value: 0.4807692307692308 and parameters: {'k': 20}. Best is trial 32 with value: 1.0.\n",
      "[I 2025-01-22 16:57:46,062] Trial 43 finished with value: 0.5769230769230769 and parameters: {'k': 10}. Best is trial 32 with value: 1.0.\n",
      "[I 2025-01-22 16:57:46,077] Trial 44 finished with value: 0.7692307692307692 and parameters: {'k': 40}. Best is trial 32 with value: 1.0.\n",
      "[I 2025-01-22 16:57:46,092] Trial 45 finished with value: 0.5 and parameters: {'k': 47}. Best is trial 32 with value: 1.0.\n",
      "[I 2025-01-22 16:57:46,107] Trial 46 finished with value: 0.38461538461538464 and parameters: {'k': 4}. Best is trial 32 with value: 1.0.\n",
      "[I 2025-01-22 16:57:46,122] Trial 47 finished with value: 0.4230769230769231 and parameters: {'k': 1}. Best is trial 32 with value: 1.0.\n",
      "[I 2025-01-22 16:57:46,140] Trial 48 finished with value: 0.5 and parameters: {'k': 48}. Best is trial 32 with value: 1.0.\n",
      "[I 2025-01-22 16:57:46,155] Trial 49 finished with value: 0.6923076923076923 and parameters: {'k': 45}. Best is trial 32 with value: 1.0.\n",
      "[I 2025-01-22 16:57:46,170] A new study created in memory with name: no-name-e1addecb-def3-4d58-b3a0-40de5f50ce06\n",
      "[I 2025-01-22 16:57:46,175] Trial 0 finished with value: 0.75 and parameters: {'k': 29}. Best is trial 0 with value: 0.75.\n",
      "[I 2025-01-22 16:57:46,180] Trial 1 finished with value: 0.7884615384615384 and parameters: {'k': 12}. Best is trial 1 with value: 0.7884615384615384.\n",
      "[I 2025-01-22 16:57:46,185] Trial 2 finished with value: 0.7884615384615384 and parameters: {'k': 11}. Best is trial 1 with value: 0.7884615384615384.\n",
      "[I 2025-01-22 16:57:46,191] Trial 3 finished with value: 0.6923076923076923 and parameters: {'k': 42}. Best is trial 1 with value: 0.7884615384615384.\n",
      "[I 2025-01-22 16:57:46,196] Trial 4 finished with value: 0.7692307692307693 and parameters: {'k': 3}. Best is trial 1 with value: 0.7884615384615384.\n",
      "[I 2025-01-22 16:57:46,203] Trial 5 finished with value: 0.7307692307692308 and parameters: {'k': 28}. Best is trial 1 with value: 0.7884615384615384.\n",
      "[I 2025-01-22 16:57:46,210] Trial 6 finished with value: 0.6923076923076923 and parameters: {'k': 39}. Best is trial 1 with value: 0.7884615384615384.\n",
      "[I 2025-01-22 16:57:46,217] Trial 7 finished with value: 0.7115384615384616 and parameters: {'k': 32}. Best is trial 1 with value: 0.7884615384615384.\n",
      "[I 2025-01-22 16:57:46,225] Trial 8 finished with value: 0.7692307692307692 and parameters: {'k': 23}. Best is trial 1 with value: 0.7884615384615384.\n",
      "[I 2025-01-22 16:57:46,238] Trial 9 finished with value: 0.75 and parameters: {'k': 5}. Best is trial 1 with value: 0.7884615384615384.\n",
      "[I 2025-01-22 16:57:46,246] Trial 10 finished with value: 0.8076923076923077 and parameters: {'k': 34}. Best is trial 10 with value: 0.8076923076923077.\n",
      "[I 2025-01-22 16:57:46,253] Trial 11 finished with value: 0.7692307692307692 and parameters: {'k': 36}. Best is trial 10 with value: 0.8076923076923077.\n",
      "[I 2025-01-22 16:57:46,262] Trial 12 finished with value: 0.6153846153846154 and parameters: {'k': 27}. Best is trial 10 with value: 0.8076923076923077.\n",
      "[I 2025-01-22 16:57:46,269] Trial 13 finished with value: 0.7692307692307692 and parameters: {'k': 35}. Best is trial 10 with value: 0.8076923076923077.\n",
      "[I 2025-01-22 16:57:46,277] Trial 14 finished with value: 0.8076923076923077 and parameters: {'k': 19}. Best is trial 10 with value: 0.8076923076923077.\n",
      "[I 2025-01-22 16:57:46,286] Trial 15 finished with value: 0.8076923076923077 and parameters: {'k': 8}. Best is trial 10 with value: 0.8076923076923077.\n",
      "[I 2025-01-22 16:57:46,294] Trial 16 finished with value: 0.75 and parameters: {'k': 15}. Best is trial 10 with value: 0.8076923076923077.\n",
      "[I 2025-01-22 16:57:46,303] Trial 17 finished with value: 0.6153846153846154 and parameters: {'k': 46}. Best is trial 10 with value: 0.8076923076923077.\n",
      "[I 2025-01-22 16:57:46,312] Trial 18 finished with value: 0.5 and parameters: {'k': 49}. Best is trial 10 with value: 0.8076923076923077.\n",
      "[I 2025-01-22 16:57:46,321] Trial 19 finished with value: 0.7115384615384616 and parameters: {'k': 30}. Best is trial 10 with value: 0.8076923076923077.\n",
      "[I 2025-01-22 16:57:46,329] Trial 20 finished with value: 0.8461538461538463 and parameters: {'k': 16}. Best is trial 20 with value: 0.8461538461538463.\n",
      "[I 2025-01-22 16:57:46,338] Trial 21 finished with value: 0.7115384615384616 and parameters: {'k': 31}. Best is trial 20 with value: 0.8461538461538463.\n",
      "[I 2025-01-22 16:57:46,347] Trial 22 finished with value: 0.8076923076923077 and parameters: {'k': 33}. Best is trial 20 with value: 0.8461538461538463.\n",
      "[I 2025-01-22 16:57:46,356] Trial 23 finished with value: 0.8076923076923077 and parameters: {'k': 17}. Best is trial 20 with value: 0.8461538461538463.\n",
      "[I 2025-01-22 16:57:46,366] Trial 24 finished with value: 0.6923076923076923 and parameters: {'k': 43}. Best is trial 20 with value: 0.8461538461538463.\n"
     ]
    },
    {
     "name": "stdout",
     "output_type": "stream",
     "text": [
      "Model: SUPREMExtractor\n",
      "Train labels (0/1): [ 8 48]\n",
      "Val labels (0/1): [ 2 13]\n",
      "Test labels (0/1): [ 6 44]\n",
      "Train items: (56, 512)\n",
      "Train labels: 56\n",
      "Val items: (15, 512)\n",
      "Val labels: 15\n",
      "Test items: (50, 512)\n",
      "Test labels: 50\n"
     ]
    },
    {
     "name": "stderr",
     "output_type": "stream",
     "text": [
      "[I 2025-01-22 16:57:46,377] Trial 25 finished with value: 0.7884615384615384 and parameters: {'k': 21}. Best is trial 20 with value: 0.8461538461538463.\n",
      "[I 2025-01-22 16:57:46,388] Trial 26 finished with value: 0.6923076923076923 and parameters: {'k': 44}. Best is trial 20 with value: 0.8461538461538463.\n",
      "[I 2025-01-22 16:57:46,398] Trial 27 finished with value: 0.8076923076923077 and parameters: {'k': 9}. Best is trial 20 with value: 0.8461538461538463.\n",
      "[I 2025-01-22 16:57:46,410] Trial 28 finished with value: 0.7692307692307693 and parameters: {'k': 14}. Best is trial 20 with value: 0.8461538461538463.\n",
      "[I 2025-01-22 16:57:46,421] Trial 29 finished with value: 0.6153846153846154 and parameters: {'k': 26}. Best is trial 20 with value: 0.8461538461538463.\n",
      "[I 2025-01-22 16:57:46,432] Trial 30 finished with value: 0.7307692307692308 and parameters: {'k': 6}. Best is trial 20 with value: 0.8461538461538463.\n",
      "[I 2025-01-22 16:57:46,443] Trial 31 finished with value: 0.8076923076923077 and parameters: {'k': 18}. Best is trial 20 with value: 0.8461538461538463.\n",
      "[I 2025-01-22 16:57:46,455] Trial 32 finished with value: 0.6923076923076923 and parameters: {'k': 41}. Best is trial 20 with value: 0.8461538461538463.\n",
      "[I 2025-01-22 16:57:46,467] Trial 33 finished with value: 0.5 and parameters: {'k': 50}. Best is trial 20 with value: 0.8461538461538463.\n",
      "[I 2025-01-22 16:57:46,478] Trial 34 finished with value: 0.8846153846153846 and parameters: {'k': 2}. Best is trial 34 with value: 0.8846153846153846.\n",
      "[I 2025-01-22 16:57:46,490] Trial 35 finished with value: 0.7884615384615384 and parameters: {'k': 13}. Best is trial 34 with value: 0.8846153846153846.\n",
      "[I 2025-01-22 16:57:46,502] Trial 36 finished with value: 0.7307692307692308 and parameters: {'k': 38}. Best is trial 34 with value: 0.8846153846153846.\n",
      "[I 2025-01-22 16:57:46,515] Trial 37 finished with value: 0.6153846153846154 and parameters: {'k': 25}. Best is trial 34 with value: 0.8846153846153846.\n",
      "[I 2025-01-22 16:57:46,527] Trial 38 finished with value: 0.7884615384615385 and parameters: {'k': 7}. Best is trial 34 with value: 0.8846153846153846.\n",
      "[I 2025-01-22 16:57:46,540] Trial 39 finished with value: 0.6923076923076923 and parameters: {'k': 24}. Best is trial 34 with value: 0.8846153846153846.\n",
      "[I 2025-01-22 16:57:46,553] Trial 40 finished with value: 0.7307692307692308 and parameters: {'k': 37}. Best is trial 34 with value: 0.8846153846153846.\n",
      "[I 2025-01-22 16:57:46,567] Trial 41 finished with value: 0.7692307692307692 and parameters: {'k': 22}. Best is trial 34 with value: 0.8846153846153846.\n",
      "[I 2025-01-22 16:57:46,581] Trial 42 finished with value: 0.8076923076923077 and parameters: {'k': 20}. Best is trial 34 with value: 0.8846153846153846.\n",
      "[I 2025-01-22 16:57:46,596] Trial 43 finished with value: 0.8076923076923077 and parameters: {'k': 10}. Best is trial 34 with value: 0.8846153846153846.\n",
      "[I 2025-01-22 16:57:46,611] Trial 44 finished with value: 0.6923076923076923 and parameters: {'k': 40}. Best is trial 34 with value: 0.8846153846153846.\n",
      "[I 2025-01-22 16:57:46,626] Trial 45 finished with value: 0.6153846153846154 and parameters: {'k': 47}. Best is trial 34 with value: 0.8846153846153846.\n",
      "[I 2025-01-22 16:57:46,640] Trial 46 finished with value: 0.6923076923076923 and parameters: {'k': 4}. Best is trial 34 with value: 0.8846153846153846.\n",
      "[I 2025-01-22 16:57:46,655] Trial 47 finished with value: 0.8076923076923077 and parameters: {'k': 1}. Best is trial 34 with value: 0.8846153846153846.\n",
      "[I 2025-01-22 16:57:46,670] Trial 48 finished with value: 0.5 and parameters: {'k': 48}. Best is trial 34 with value: 0.8846153846153846.\n",
      "[I 2025-01-22 16:57:46,685] Trial 49 finished with value: 0.6923076923076923 and parameters: {'k': 45}. Best is trial 34 with value: 0.8846153846153846.\n",
      "[I 2025-01-22 16:57:46,701] A new study created in memory with name: no-name-8670fbe6-8090-44eb-a5c2-7168d8c6cb53\n",
      "[I 2025-01-22 16:57:46,707] Trial 0 finished with value: 0.6923076923076923 and parameters: {'k': 29}. Best is trial 0 with value: 0.6923076923076923.\n",
      "[I 2025-01-22 16:57:46,712] Trial 1 finished with value: 0.8461538461538461 and parameters: {'k': 12}. Best is trial 1 with value: 0.8461538461538461.\n",
      "[I 2025-01-22 16:57:46,717] Trial 2 finished with value: 0.8461538461538461 and parameters: {'k': 11}. Best is trial 1 with value: 0.8461538461538461.\n",
      "[I 2025-01-22 16:57:46,722] Trial 3 finished with value: 0.7115384615384616 and parameters: {'k': 42}. Best is trial 1 with value: 0.8461538461538461.\n",
      "[I 2025-01-22 16:57:46,727] Trial 4 finished with value: 0.8269230769230769 and parameters: {'k': 3}. Best is trial 1 with value: 0.8461538461538461.\n",
      "[I 2025-01-22 16:57:46,732] Trial 5 finished with value: 0.6923076923076923 and parameters: {'k': 28}. Best is trial 1 with value: 0.8461538461538461.\n",
      "[I 2025-01-22 16:57:46,738] Trial 6 finished with value: 0.5769230769230769 and parameters: {'k': 39}. Best is trial 1 with value: 0.8461538461538461.\n",
      "[I 2025-01-22 16:57:46,744] Trial 7 finished with value: 0.5192307692307692 and parameters: {'k': 32}. Best is trial 1 with value: 0.8461538461538461.\n",
      "[I 2025-01-22 16:57:46,750] Trial 8 finished with value: 0.7307692307692308 and parameters: {'k': 23}. Best is trial 1 with value: 0.8461538461538461.\n",
      "[I 2025-01-22 16:57:46,756] Trial 9 finished with value: 0.9230769230769231 and parameters: {'k': 5}. Best is trial 9 with value: 0.9230769230769231.\n",
      "[I 2025-01-22 16:57:46,763] Trial 10 finished with value: 0.6923076923076923 and parameters: {'k': 34}. Best is trial 9 with value: 0.9230769230769231.\n",
      "[I 2025-01-22 16:57:46,769] Trial 11 finished with value: 0.6538461538461539 and parameters: {'k': 36}. Best is trial 9 with value: 0.9230769230769231.\n",
      "[I 2025-01-22 16:57:46,776] Trial 12 finished with value: 0.6923076923076923 and parameters: {'k': 27}. Best is trial 9 with value: 0.9230769230769231.\n",
      "[I 2025-01-22 16:57:46,783] Trial 13 finished with value: 0.6538461538461539 and parameters: {'k': 35}. Best is trial 9 with value: 0.9230769230769231.\n",
      "[I 2025-01-22 16:57:46,790] Trial 14 finished with value: 0.8076923076923077 and parameters: {'k': 19}. Best is trial 9 with value: 0.9230769230769231.\n",
      "[I 2025-01-22 16:57:46,796] Trial 15 finished with value: 0.8846153846153846 and parameters: {'k': 8}. Best is trial 9 with value: 0.9230769230769231.\n",
      "[I 2025-01-22 16:57:46,802] Trial 16 finished with value: 0.8461538461538461 and parameters: {'k': 15}. Best is trial 9 with value: 0.9230769230769231.\n",
      "[I 2025-01-22 16:57:46,809] Trial 17 finished with value: 0.6346153846153846 and parameters: {'k': 46}. Best is trial 9 with value: 0.9230769230769231.\n",
      "[I 2025-01-22 16:57:46,817] Trial 18 finished with value: 0.4807692307692308 and parameters: {'k': 49}. Best is trial 9 with value: 0.9230769230769231.\n",
      "[I 2025-01-22 16:57:46,829] Trial 19 finished with value: 0.5961538461538461 and parameters: {'k': 30}. Best is trial 9 with value: 0.9230769230769231.\n",
      "[I 2025-01-22 16:57:46,838] Trial 20 finished with value: 0.8461538461538461 and parameters: {'k': 16}. Best is trial 9 with value: 0.9230769230769231.\n",
      "[I 2025-01-22 16:57:46,848] Trial 21 finished with value: 0.5576923076923077 and parameters: {'k': 31}. Best is trial 9 with value: 0.9230769230769231.\n",
      "[I 2025-01-22 16:57:46,857] Trial 22 finished with value: 0.5192307692307692 and parameters: {'k': 33}. Best is trial 9 with value: 0.9230769230769231.\n",
      "[I 2025-01-22 16:57:46,865] Trial 23 finished with value: 0.8461538461538461 and parameters: {'k': 17}. Best is trial 9 with value: 0.9230769230769231.\n",
      "[I 2025-01-22 16:57:46,874] Trial 24 finished with value: 0.576923076923077 and parameters: {'k': 43}. Best is trial 9 with value: 0.9230769230769231.\n",
      "[I 2025-01-22 16:57:46,884] Trial 25 finished with value: 0.7692307692307692 and parameters: {'k': 21}. Best is trial 9 with value: 0.9230769230769231.\n"
     ]
    },
    {
     "name": "stdout",
     "output_type": "stream",
     "text": [
      "Model: MerlinExtractor\n",
      "Train labels (0/1): [ 8 48]\n",
      "Val labels (0/1): [ 2 13]\n",
      "Test labels (0/1): [ 6 44]\n",
      "Train items: (56, 512)\n",
      "Train labels: 56\n",
      "Val items: (15, 512)\n",
      "Val labels: 15\n",
      "Test items: (50, 512)\n",
      "Test labels: 50\n"
     ]
    },
    {
     "name": "stderr",
     "output_type": "stream",
     "text": [
      "[I 2025-01-22 16:57:46,894] Trial 26 finished with value: 0.6153846153846154 and parameters: {'k': 44}. Best is trial 9 with value: 0.9230769230769231.\n",
      "[I 2025-01-22 16:57:46,905] Trial 27 finished with value: 0.903846153846154 and parameters: {'k': 9}. Best is trial 9 with value: 0.9230769230769231.\n",
      "[I 2025-01-22 16:57:46,917] Trial 28 finished with value: 0.9230769230769231 and parameters: {'k': 14}. Best is trial 9 with value: 0.9230769230769231.\n",
      "[I 2025-01-22 16:57:46,931] Trial 29 finished with value: 0.7307692307692308 and parameters: {'k': 26}. Best is trial 9 with value: 0.9230769230769231.\n",
      "[I 2025-01-22 16:57:46,943] Trial 30 finished with value: 0.9230769230769231 and parameters: {'k': 6}. Best is trial 9 with value: 0.9230769230769231.\n",
      "[I 2025-01-22 16:57:46,954] Trial 31 finished with value: 0.8461538461538461 and parameters: {'k': 18}. Best is trial 9 with value: 0.9230769230769231.\n",
      "[I 2025-01-22 16:57:46,967] Trial 32 finished with value: 0.7115384615384616 and parameters: {'k': 41}. Best is trial 9 with value: 0.9230769230769231.\n",
      "[I 2025-01-22 16:57:46,979] Trial 33 finished with value: 0.6538461538461539 and parameters: {'k': 50}. Best is trial 9 with value: 0.9230769230769231.\n",
      "[I 2025-01-22 16:57:46,992] Trial 34 finished with value: 0.6538461538461539 and parameters: {'k': 2}. Best is trial 9 with value: 0.9230769230769231.\n",
      "[I 2025-01-22 16:57:47,004] Trial 35 finished with value: 0.9230769230769231 and parameters: {'k': 13}. Best is trial 9 with value: 0.9230769230769231.\n",
      "[I 2025-01-22 16:57:47,018] Trial 36 finished with value: 0.6153846153846154 and parameters: {'k': 38}. Best is trial 9 with value: 0.9230769230769231.\n",
      "[I 2025-01-22 16:57:47,034] Trial 37 finished with value: 0.7692307692307693 and parameters: {'k': 25}. Best is trial 9 with value: 0.9230769230769231.\n",
      "[I 2025-01-22 16:57:47,046] Trial 38 finished with value: 0.8846153846153846 and parameters: {'k': 7}. Best is trial 9 with value: 0.9230769230769231.\n",
      "[I 2025-01-22 16:57:47,059] Trial 39 finished with value: 0.6538461538461539 and parameters: {'k': 24}. Best is trial 9 with value: 0.9230769230769231.\n",
      "[I 2025-01-22 16:57:47,074] Trial 40 finished with value: 0.6153846153846154 and parameters: {'k': 37}. Best is trial 9 with value: 0.9230769230769231.\n",
      "[I 2025-01-22 16:57:47,089] Trial 41 finished with value: 0.7692307692307692 and parameters: {'k': 22}. Best is trial 9 with value: 0.9230769230769231.\n",
      "[I 2025-01-22 16:57:47,103] Trial 42 finished with value: 0.8076923076923077 and parameters: {'k': 20}. Best is trial 9 with value: 0.9230769230769231.\n",
      "[I 2025-01-22 16:57:47,118] Trial 43 finished with value: 0.8846153846153846 and parameters: {'k': 10}. Best is trial 9 with value: 0.9230769230769231.\n",
      "[I 2025-01-22 16:57:47,134] Trial 44 finished with value: 0.5769230769230769 and parameters: {'k': 40}. Best is trial 9 with value: 0.9230769230769231.\n",
      "[I 2025-01-22 16:57:47,149] Trial 45 finished with value: 0.5961538461538461 and parameters: {'k': 47}. Best is trial 9 with value: 0.9230769230769231.\n",
      "[I 2025-01-22 16:57:47,165] Trial 46 finished with value: 0.9423076923076923 and parameters: {'k': 4}. Best is trial 46 with value: 0.9423076923076923.\n",
      "[I 2025-01-22 16:57:47,183] Trial 47 finished with value: 0.6730769230769231 and parameters: {'k': 1}. Best is trial 46 with value: 0.9423076923076923.\n",
      "[I 2025-01-22 16:57:47,198] Trial 48 finished with value: 0.5192307692307692 and parameters: {'k': 48}. Best is trial 46 with value: 0.9423076923076923.\n",
      "[I 2025-01-22 16:57:47,214] Trial 49 finished with value: 0.6923076923076923 and parameters: {'k': 45}. Best is trial 46 with value: 0.9423076923076923.\n",
      "[I 2025-01-22 16:57:47,236] A new study created in memory with name: no-name-c215f9c7-6185-4580-8f28-5b533a7d0834\n",
      "[I 2025-01-22 16:57:47,243] Trial 0 finished with value: 0.75 and parameters: {'k': 29}. Best is trial 0 with value: 0.75.\n",
      "[I 2025-01-22 16:57:47,251] Trial 1 finished with value: 0.6346153846153846 and parameters: {'k': 12}. Best is trial 0 with value: 0.75.\n",
      "[I 2025-01-22 16:57:47,259] Trial 2 finished with value: 0.6923076923076923 and parameters: {'k': 11}. Best is trial 0 with value: 0.75.\n",
      "[I 2025-01-22 16:57:47,267] Trial 3 finished with value: 0.7307692307692308 and parameters: {'k': 42}. Best is trial 0 with value: 0.75.\n",
      "[I 2025-01-22 16:57:47,275] Trial 4 finished with value: 0.6346153846153846 and parameters: {'k': 3}. Best is trial 0 with value: 0.75.\n",
      "[I 2025-01-22 16:57:47,285] Trial 5 finished with value: 0.6923076923076923 and parameters: {'k': 28}. Best is trial 0 with value: 0.75.\n",
      "[I 2025-01-22 16:57:47,295] Trial 6 finished with value: 0.75 and parameters: {'k': 39}. Best is trial 0 with value: 0.75.\n",
      "[I 2025-01-22 16:57:47,308] Trial 7 finished with value: 0.7307692307692307 and parameters: {'k': 32}. Best is trial 0 with value: 0.75.\n",
      "[I 2025-01-22 16:57:47,317] Trial 8 finished with value: 0.7115384615384616 and parameters: {'k': 23}. Best is trial 0 with value: 0.75.\n",
      "[I 2025-01-22 16:57:47,328] Trial 9 finished with value: 0.6153846153846154 and parameters: {'k': 5}. Best is trial 0 with value: 0.75.\n",
      "[I 2025-01-22 16:57:47,337] Trial 10 finished with value: 0.7307692307692307 and parameters: {'k': 34}. Best is trial 0 with value: 0.75.\n",
      "[I 2025-01-22 16:57:47,347] Trial 11 finished with value: 0.7692307692307692 and parameters: {'k': 36}. Best is trial 11 with value: 0.7692307692307692.\n",
      "[I 2025-01-22 16:57:47,355] Trial 12 finished with value: 0.7115384615384616 and parameters: {'k': 27}. Best is trial 11 with value: 0.7692307692307692.\n",
      "[I 2025-01-22 16:57:47,366] Trial 13 finished with value: 0.8076923076923077 and parameters: {'k': 35}. Best is trial 13 with value: 0.8076923076923077.\n",
      "[I 2025-01-22 16:57:47,380] Trial 14 finished with value: 0.5576923076923077 and parameters: {'k': 19}. Best is trial 13 with value: 0.8076923076923077.\n",
      "[I 2025-01-22 16:57:47,391] Trial 15 finished with value: 0.576923076923077 and parameters: {'k': 8}. Best is trial 13 with value: 0.8076923076923077.\n",
      "[I 2025-01-22 16:57:47,407] Trial 16 finished with value: 0.6346153846153846 and parameters: {'k': 15}. Best is trial 13 with value: 0.8076923076923077.\n",
      "[I 2025-01-22 16:57:47,421] Trial 17 finished with value: 0.6923076923076923 and parameters: {'k': 46}. Best is trial 13 with value: 0.8076923076923077.\n"
     ]
    },
    {
     "name": "stdout",
     "output_type": "stream",
     "text": [
      "Model: ModelsGenExtractor\n",
      "Train labels (0/1): [ 8 48]\n",
      "Val labels (0/1): [ 2 13]\n",
      "Test labels (0/1): [ 6 44]\n",
      "Train items: (56, 4096)\n",
      "Train labels: 56\n",
      "Val items: (15, 4096)\n",
      "Val labels: 15\n",
      "Test items: (50, 4096)\n",
      "Test labels: 50\n"
     ]
    },
    {
     "name": "stderr",
     "output_type": "stream",
     "text": [
      "[I 2025-01-22 16:57:47,433] Trial 18 finished with value: 0.5769230769230769 and parameters: {'k': 49}. Best is trial 13 with value: 0.8076923076923077.\n",
      "[I 2025-01-22 16:57:47,444] Trial 19 finished with value: 0.7307692307692308 and parameters: {'k': 30}. Best is trial 13 with value: 0.8076923076923077.\n",
      "[I 2025-01-22 16:57:47,456] Trial 20 finished with value: 0.6346153846153846 and parameters: {'k': 16}. Best is trial 13 with value: 0.8076923076923077.\n",
      "[I 2025-01-22 16:57:47,471] Trial 21 finished with value: 0.75 and parameters: {'k': 31}. Best is trial 13 with value: 0.8076923076923077.\n",
      "[I 2025-01-22 16:57:47,487] Trial 22 finished with value: 0.7307692307692307 and parameters: {'k': 33}. Best is trial 13 with value: 0.8076923076923077.\n",
      "[I 2025-01-22 16:57:47,503] Trial 23 finished with value: 0.6346153846153846 and parameters: {'k': 17}. Best is trial 13 with value: 0.8076923076923077.\n",
      "[I 2025-01-22 16:57:47,515] Trial 24 finished with value: 0.6538461538461537 and parameters: {'k': 43}. Best is trial 13 with value: 0.8076923076923077.\n",
      "[I 2025-01-22 16:57:47,527] Trial 25 finished with value: 0.5192307692307693 and parameters: {'k': 21}. Best is trial 13 with value: 0.8076923076923077.\n",
      "[I 2025-01-22 16:57:47,539] Trial 26 finished with value: 0.7692307692307692 and parameters: {'k': 44}. Best is trial 13 with value: 0.8076923076923077.\n",
      "[I 2025-01-22 16:57:47,550] Trial 27 finished with value: 0.5576923076923077 and parameters: {'k': 9}. Best is trial 13 with value: 0.8076923076923077.\n",
      "[I 2025-01-22 16:57:47,562] Trial 28 finished with value: 0.6923076923076923 and parameters: {'k': 14}. Best is trial 13 with value: 0.8076923076923077.\n",
      "[I 2025-01-22 16:57:47,574] Trial 29 finished with value: 0.7307692307692308 and parameters: {'k': 26}. Best is trial 13 with value: 0.8076923076923077.\n",
      "[I 2025-01-22 16:57:47,585] Trial 30 finished with value: 0.5961538461538461 and parameters: {'k': 6}. Best is trial 13 with value: 0.8076923076923077.\n",
      "[I 2025-01-22 16:57:47,597] Trial 31 finished with value: 0.5961538461538463 and parameters: {'k': 18}. Best is trial 13 with value: 0.8076923076923077.\n",
      "[I 2025-01-22 16:57:47,610] Trial 32 finished with value: 0.7307692307692308 and parameters: {'k': 41}. Best is trial 13 with value: 0.8076923076923077.\n",
      "[I 2025-01-22 16:57:47,623] Trial 33 finished with value: 0.5769230769230769 and parameters: {'k': 50}. Best is trial 13 with value: 0.8076923076923077.\n",
      "[I 2025-01-22 16:57:47,634] Trial 34 finished with value: 0.5961538461538461 and parameters: {'k': 2}. Best is trial 13 with value: 0.8076923076923077.\n",
      "[I 2025-01-22 16:57:47,647] Trial 35 finished with value: 0.576923076923077 and parameters: {'k': 13}. Best is trial 13 with value: 0.8076923076923077.\n",
      "[I 2025-01-22 16:57:47,664] Trial 36 finished with value: 0.7884615384615384 and parameters: {'k': 38}. Best is trial 13 with value: 0.8076923076923077.\n",
      "[I 2025-01-22 16:57:47,680] Trial 37 finished with value: 0.6923076923076923 and parameters: {'k': 25}. Best is trial 13 with value: 0.8076923076923077.\n",
      "[I 2025-01-22 16:57:47,695] Trial 38 finished with value: 0.576923076923077 and parameters: {'k': 7}. Best is trial 13 with value: 0.8076923076923077.\n",
      "[I 2025-01-22 16:57:47,706] Trial 39 finished with value: 0.7115384615384616 and parameters: {'k': 24}. Best is trial 13 with value: 0.8076923076923077.\n",
      "[I 2025-01-22 16:57:47,718] Trial 40 finished with value: 0.75 and parameters: {'k': 37}. Best is trial 13 with value: 0.8076923076923077.\n",
      "[I 2025-01-22 16:57:47,731] Trial 41 finished with value: 0.6346153846153846 and parameters: {'k': 22}. Best is trial 13 with value: 0.8076923076923077.\n",
      "[I 2025-01-22 16:57:47,745] Trial 42 finished with value: 0.5576923076923077 and parameters: {'k': 20}. Best is trial 13 with value: 0.8076923076923077.\n",
      "[I 2025-01-22 16:57:47,756] Trial 43 finished with value: 0.5961538461538461 and parameters: {'k': 10}. Best is trial 13 with value: 0.8076923076923077.\n",
      "[I 2025-01-22 16:57:47,771] Trial 44 finished with value: 0.75 and parameters: {'k': 40}. Best is trial 13 with value: 0.8076923076923077.\n",
      "[I 2025-01-22 16:57:47,783] Trial 45 finished with value: 0.6538461538461539 and parameters: {'k': 47}. Best is trial 13 with value: 0.8076923076923077.\n",
      "[I 2025-01-22 16:57:47,796] Trial 46 finished with value: 0.6153846153846154 and parameters: {'k': 4}. Best is trial 13 with value: 0.8076923076923077.\n",
      "[I 2025-01-22 16:57:47,811] Trial 47 finished with value: 0.6346153846153846 and parameters: {'k': 1}. Best is trial 13 with value: 0.8076923076923077.\n",
      "[I 2025-01-22 16:57:47,823] Trial 48 finished with value: 0.6153846153846154 and parameters: {'k': 48}. Best is trial 13 with value: 0.8076923076923077.\n",
      "[I 2025-01-22 16:57:47,835] Trial 49 finished with value: 0.7692307692307692 and parameters: {'k': 45}. Best is trial 13 with value: 0.8076923076923077.\n"
     ]
    }
   ],
   "source": [
    "# Iterate through each model's features\n",
    "for model_name, values in data.items(): # Loop through each model and its corresponding features\n",
    "    # Skip MedImageInsightExtractor\n",
    "    if model_name == \"MedImageInsightExtractor\": # Skip the MedImageInsightExtractor model\n",
    "        continue\n",
    "    \n",
    "    print(f\"Model: {model_name}\") # Print the model name\n",
    "    \n",
    "    # Extract labels and features, filtering out nans\n",
    "    train_labels = [v[\"row\"][\"survival\"] for v in values[\"train\"] if not np.isnan(v[\"row\"][\"survival\"])]\n",
    "    val_labels = [v[\"row\"][\"survival\"] for v in values[\"val\"] if not np.isnan(v[\"row\"][\"survival\"])]\n",
    "    test_labels = [v[\"row\"][\"survival\"] for v in values[\"test\"] if not np.isnan(v[\"row\"][\"survival\"])]\n",
    "\n",
    "\n",
    "\n",
    "    # Stack features for non-nan labels\n",
    "    train_items = np.vstack([v[\"feature\"] for v in values[\"train\"] if not np.isnan(v[\"row\"][\"survival\"])])\n",
    "    val_items = np.vstack([v[\"feature\"] for v in values[\"val\"] if not np.isnan(v[\"row\"][\"survival\"])])\n",
    "    test_items = np.vstack([v[\"feature\"] for v in values[\"test\"] if not np.isnan(v[\"row\"][\"survival\"])])\n",
    "\n",
    "    # Combine train and val data\n",
    "    combined_items = np.vstack([train_items, val_items])\n",
    "    combined_labels = train_labels + val_labels\n",
    "\n",
    "    # Get stratified indices for new train/val split\n",
    "    from sklearn.model_selection import train_test_split\n",
    "    train_items, val_items, train_labels, val_labels = train_test_split(\n",
    "        combined_items,\n",
    "        combined_labels,\n",
    "        test_size=0.2,\n",
    "        stratify=combined_labels,\n",
    "        random_state=42,\n",
    "    )\n",
    "\n",
    "        # Print label counts\n",
    "    print(\"Train labels (0/1):\", np.bincount(train_labels))\n",
    "    print(\"Val labels (0/1):\", np.bincount(val_labels)) \n",
    "    print(\"Test labels (0/1):\", np.bincount(test_labels))\n",
    "\n",
    "    print(f\"Train items: {train_items.shape}\", \n",
    "          f\"Train labels: {len(train_labels)}\", \n",
    "          f\"Val items: {val_items.shape}\", \n",
    "          f\"Val labels: {len(val_labels)}\", \n",
    "          f\"Test items: {test_items.shape}\", \n",
    "          f\"Test labels: {len(test_labels)}\", sep=\"\\n\")\n",
    "\n",
    "    # Train model with hyperparameter optimization\n",
    "    best_model, study = train_knn_classifier(train_items, train_labels, val_items, val_labels, n_trials=200)\n",
    "    \n",
    "    # Evaluate on test set\n",
    "    test_accuracies_dict[model_name] = evaluate_model(best_model, test_items, test_labels)"
   ]
  },
  {
   "cell_type": "code",
   "execution_count": 32,
   "metadata": {},
   "outputs": [
    {
     "data": {
      "application/vnd.plotly.v1+json": {
       "config": {
        "plotlyServerURL": "https://plot.ly"
       },
       "data": [
        {
         "alignmentgroup": "True",
         "hovertemplate": "Model Name=%{x}<br>Test Accuracy=%{y}<br>text=%{text}<extra></extra>",
         "legendgroup": "",
         "marker": {
          "color": "#1f77b4",
          "pattern": {
           "shape": ""
          }
         },
         "name": "",
         "offsetgroup": "",
         "orientation": "v",
         "showlegend": false,
         "text": [
          "0.735",
          "0.509",
          "0.572",
          "0.572",
          "0.525",
          "0.636",
          "0.483",
          "0.500"
         ],
         "textposition": "outside",
         "type": "bar",
         "x": [
          "FMCIBExtractor",
          "CTFMExtractor",
          "PyramidExtractor",
          "VISTA3DExtractor",
          "VocoExtractor",
          "SUPREMExtractor",
          "MerlinExtractor",
          "ModelsGenExtractor"
         ],
         "xaxis": "x",
         "y": [
          0.7348484848484849,
          0.509469696969697,
          0.5719696969696969,
          0.571969696969697,
          0.5246212121212122,
          0.6363636363636365,
          0.4829545454545454,
          0.5
         ],
         "yaxis": "y"
        }
       ],
       "layout": {
        "barmode": "relative",
        "font": {
         "size": 10
        },
        "height": 500,
        "legend": {
         "tracegroupgap": 0
        },
        "plot_bgcolor": "rgba(0,0,0,0)",
        "showlegend": false,
        "template": {
         "data": {
          "bar": [
           {
            "error_x": {
             "color": "#2a3f5f"
            },
            "error_y": {
             "color": "#2a3f5f"
            },
            "marker": {
             "line": {
              "color": "white",
              "width": 0.5
             },
             "pattern": {
              "fillmode": "overlay",
              "size": 10,
              "solidity": 0.2
             }
            },
            "type": "bar"
           }
          ],
          "barpolar": [
           {
            "marker": {
             "line": {
              "color": "white",
              "width": 0.5
             },
             "pattern": {
              "fillmode": "overlay",
              "size": 10,
              "solidity": 0.2
             }
            },
            "type": "barpolar"
           }
          ],
          "carpet": [
           {
            "aaxis": {
             "endlinecolor": "#2a3f5f",
             "gridcolor": "#C8D4E3",
             "linecolor": "#C8D4E3",
             "minorgridcolor": "#C8D4E3",
             "startlinecolor": "#2a3f5f"
            },
            "baxis": {
             "endlinecolor": "#2a3f5f",
             "gridcolor": "#C8D4E3",
             "linecolor": "#C8D4E3",
             "minorgridcolor": "#C8D4E3",
             "startlinecolor": "#2a3f5f"
            },
            "type": "carpet"
           }
          ],
          "choropleth": [
           {
            "colorbar": {
             "outlinewidth": 0,
             "ticks": ""
            },
            "type": "choropleth"
           }
          ],
          "contour": [
           {
            "colorbar": {
             "outlinewidth": 0,
             "ticks": ""
            },
            "colorscale": [
             [
              0,
              "#0d0887"
             ],
             [
              0.1111111111111111,
              "#46039f"
             ],
             [
              0.2222222222222222,
              "#7201a8"
             ],
             [
              0.3333333333333333,
              "#9c179e"
             ],
             [
              0.4444444444444444,
              "#bd3786"
             ],
             [
              0.5555555555555556,
              "#d8576b"
             ],
             [
              0.6666666666666666,
              "#ed7953"
             ],
             [
              0.7777777777777778,
              "#fb9f3a"
             ],
             [
              0.8888888888888888,
              "#fdca26"
             ],
             [
              1,
              "#f0f921"
             ]
            ],
            "type": "contour"
           }
          ],
          "contourcarpet": [
           {
            "colorbar": {
             "outlinewidth": 0,
             "ticks": ""
            },
            "type": "contourcarpet"
           }
          ],
          "heatmap": [
           {
            "colorbar": {
             "outlinewidth": 0,
             "ticks": ""
            },
            "colorscale": [
             [
              0,
              "#0d0887"
             ],
             [
              0.1111111111111111,
              "#46039f"
             ],
             [
              0.2222222222222222,
              "#7201a8"
             ],
             [
              0.3333333333333333,
              "#9c179e"
             ],
             [
              0.4444444444444444,
              "#bd3786"
             ],
             [
              0.5555555555555556,
              "#d8576b"
             ],
             [
              0.6666666666666666,
              "#ed7953"
             ],
             [
              0.7777777777777778,
              "#fb9f3a"
             ],
             [
              0.8888888888888888,
              "#fdca26"
             ],
             [
              1,
              "#f0f921"
             ]
            ],
            "type": "heatmap"
           }
          ],
          "heatmapgl": [
           {
            "colorbar": {
             "outlinewidth": 0,
             "ticks": ""
            },
            "colorscale": [
             [
              0,
              "#0d0887"
             ],
             [
              0.1111111111111111,
              "#46039f"
             ],
             [
              0.2222222222222222,
              "#7201a8"
             ],
             [
              0.3333333333333333,
              "#9c179e"
             ],
             [
              0.4444444444444444,
              "#bd3786"
             ],
             [
              0.5555555555555556,
              "#d8576b"
             ],
             [
              0.6666666666666666,
              "#ed7953"
             ],
             [
              0.7777777777777778,
              "#fb9f3a"
             ],
             [
              0.8888888888888888,
              "#fdca26"
             ],
             [
              1,
              "#f0f921"
             ]
            ],
            "type": "heatmapgl"
           }
          ],
          "histogram": [
           {
            "marker": {
             "pattern": {
              "fillmode": "overlay",
              "size": 10,
              "solidity": 0.2
             }
            },
            "type": "histogram"
           }
          ],
          "histogram2d": [
           {
            "colorbar": {
             "outlinewidth": 0,
             "ticks": ""
            },
            "colorscale": [
             [
              0,
              "#0d0887"
             ],
             [
              0.1111111111111111,
              "#46039f"
             ],
             [
              0.2222222222222222,
              "#7201a8"
             ],
             [
              0.3333333333333333,
              "#9c179e"
             ],
             [
              0.4444444444444444,
              "#bd3786"
             ],
             [
              0.5555555555555556,
              "#d8576b"
             ],
             [
              0.6666666666666666,
              "#ed7953"
             ],
             [
              0.7777777777777778,
              "#fb9f3a"
             ],
             [
              0.8888888888888888,
              "#fdca26"
             ],
             [
              1,
              "#f0f921"
             ]
            ],
            "type": "histogram2d"
           }
          ],
          "histogram2dcontour": [
           {
            "colorbar": {
             "outlinewidth": 0,
             "ticks": ""
            },
            "colorscale": [
             [
              0,
              "#0d0887"
             ],
             [
              0.1111111111111111,
              "#46039f"
             ],
             [
              0.2222222222222222,
              "#7201a8"
             ],
             [
              0.3333333333333333,
              "#9c179e"
             ],
             [
              0.4444444444444444,
              "#bd3786"
             ],
             [
              0.5555555555555556,
              "#d8576b"
             ],
             [
              0.6666666666666666,
              "#ed7953"
             ],
             [
              0.7777777777777778,
              "#fb9f3a"
             ],
             [
              0.8888888888888888,
              "#fdca26"
             ],
             [
              1,
              "#f0f921"
             ]
            ],
            "type": "histogram2dcontour"
           }
          ],
          "mesh3d": [
           {
            "colorbar": {
             "outlinewidth": 0,
             "ticks": ""
            },
            "type": "mesh3d"
           }
          ],
          "parcoords": [
           {
            "line": {
             "colorbar": {
              "outlinewidth": 0,
              "ticks": ""
             }
            },
            "type": "parcoords"
           }
          ],
          "pie": [
           {
            "automargin": true,
            "type": "pie"
           }
          ],
          "scatter": [
           {
            "fillpattern": {
             "fillmode": "overlay",
             "size": 10,
             "solidity": 0.2
            },
            "type": "scatter"
           }
          ],
          "scatter3d": [
           {
            "line": {
             "colorbar": {
              "outlinewidth": 0,
              "ticks": ""
             }
            },
            "marker": {
             "colorbar": {
              "outlinewidth": 0,
              "ticks": ""
             }
            },
            "type": "scatter3d"
           }
          ],
          "scattercarpet": [
           {
            "marker": {
             "colorbar": {
              "outlinewidth": 0,
              "ticks": ""
             }
            },
            "type": "scattercarpet"
           }
          ],
          "scattergeo": [
           {
            "marker": {
             "colorbar": {
              "outlinewidth": 0,
              "ticks": ""
             }
            },
            "type": "scattergeo"
           }
          ],
          "scattergl": [
           {
            "marker": {
             "colorbar": {
              "outlinewidth": 0,
              "ticks": ""
             }
            },
            "type": "scattergl"
           }
          ],
          "scattermapbox": [
           {
            "marker": {
             "colorbar": {
              "outlinewidth": 0,
              "ticks": ""
             }
            },
            "type": "scattermapbox"
           }
          ],
          "scatterpolar": [
           {
            "marker": {
             "colorbar": {
              "outlinewidth": 0,
              "ticks": ""
             }
            },
            "type": "scatterpolar"
           }
          ],
          "scatterpolargl": [
           {
            "marker": {
             "colorbar": {
              "outlinewidth": 0,
              "ticks": ""
             }
            },
            "type": "scatterpolargl"
           }
          ],
          "scatterternary": [
           {
            "marker": {
             "colorbar": {
              "outlinewidth": 0,
              "ticks": ""
             }
            },
            "type": "scatterternary"
           }
          ],
          "surface": [
           {
            "colorbar": {
             "outlinewidth": 0,
             "ticks": ""
            },
            "colorscale": [
             [
              0,
              "#0d0887"
             ],
             [
              0.1111111111111111,
              "#46039f"
             ],
             [
              0.2222222222222222,
              "#7201a8"
             ],
             [
              0.3333333333333333,
              "#9c179e"
             ],
             [
              0.4444444444444444,
              "#bd3786"
             ],
             [
              0.5555555555555556,
              "#d8576b"
             ],
             [
              0.6666666666666666,
              "#ed7953"
             ],
             [
              0.7777777777777778,
              "#fb9f3a"
             ],
             [
              0.8888888888888888,
              "#fdca26"
             ],
             [
              1,
              "#f0f921"
             ]
            ],
            "type": "surface"
           }
          ],
          "table": [
           {
            "cells": {
             "fill": {
              "color": "#EBF0F8"
             },
             "line": {
              "color": "white"
             }
            },
            "header": {
             "fill": {
              "color": "#C8D4E3"
             },
             "line": {
              "color": "white"
             }
            },
            "type": "table"
           }
          ]
         },
         "layout": {
          "annotationdefaults": {
           "arrowcolor": "#2a3f5f",
           "arrowhead": 0,
           "arrowwidth": 1
          },
          "autotypenumbers": "strict",
          "coloraxis": {
           "colorbar": {
            "outlinewidth": 0,
            "ticks": ""
           }
          },
          "colorscale": {
           "diverging": [
            [
             0,
             "#8e0152"
            ],
            [
             0.1,
             "#c51b7d"
            ],
            [
             0.2,
             "#de77ae"
            ],
            [
             0.3,
             "#f1b6da"
            ],
            [
             0.4,
             "#fde0ef"
            ],
            [
             0.5,
             "#f7f7f7"
            ],
            [
             0.6,
             "#e6f5d0"
            ],
            [
             0.7,
             "#b8e186"
            ],
            [
             0.8,
             "#7fbc41"
            ],
            [
             0.9,
             "#4d9221"
            ],
            [
             1,
             "#276419"
            ]
           ],
           "sequential": [
            [
             0,
             "#0d0887"
            ],
            [
             0.1111111111111111,
             "#46039f"
            ],
            [
             0.2222222222222222,
             "#7201a8"
            ],
            [
             0.3333333333333333,
             "#9c179e"
            ],
            [
             0.4444444444444444,
             "#bd3786"
            ],
            [
             0.5555555555555556,
             "#d8576b"
            ],
            [
             0.6666666666666666,
             "#ed7953"
            ],
            [
             0.7777777777777778,
             "#fb9f3a"
            ],
            [
             0.8888888888888888,
             "#fdca26"
            ],
            [
             1,
             "#f0f921"
            ]
           ],
           "sequentialminus": [
            [
             0,
             "#0d0887"
            ],
            [
             0.1111111111111111,
             "#46039f"
            ],
            [
             0.2222222222222222,
             "#7201a8"
            ],
            [
             0.3333333333333333,
             "#9c179e"
            ],
            [
             0.4444444444444444,
             "#bd3786"
            ],
            [
             0.5555555555555556,
             "#d8576b"
            ],
            [
             0.6666666666666666,
             "#ed7953"
            ],
            [
             0.7777777777777778,
             "#fb9f3a"
            ],
            [
             0.8888888888888888,
             "#fdca26"
            ],
            [
             1,
             "#f0f921"
            ]
           ]
          },
          "colorway": [
           "#636efa",
           "#EF553B",
           "#00cc96",
           "#ab63fa",
           "#FFA15A",
           "#19d3f3",
           "#FF6692",
           "#B6E880",
           "#FF97FF",
           "#FECB52"
          ],
          "font": {
           "color": "#2a3f5f"
          },
          "geo": {
           "bgcolor": "white",
           "lakecolor": "white",
           "landcolor": "white",
           "showlakes": true,
           "showland": true,
           "subunitcolor": "#C8D4E3"
          },
          "hoverlabel": {
           "align": "left"
          },
          "hovermode": "closest",
          "mapbox": {
           "style": "light"
          },
          "paper_bgcolor": "white",
          "plot_bgcolor": "white",
          "polar": {
           "angularaxis": {
            "gridcolor": "#EBF0F8",
            "linecolor": "#EBF0F8",
            "ticks": ""
           },
           "bgcolor": "white",
           "radialaxis": {
            "gridcolor": "#EBF0F8",
            "linecolor": "#EBF0F8",
            "ticks": ""
           }
          },
          "scene": {
           "xaxis": {
            "backgroundcolor": "white",
            "gridcolor": "#DFE8F3",
            "gridwidth": 2,
            "linecolor": "#EBF0F8",
            "showbackground": true,
            "ticks": "",
            "zerolinecolor": "#EBF0F8"
           },
           "yaxis": {
            "backgroundcolor": "white",
            "gridcolor": "#DFE8F3",
            "gridwidth": 2,
            "linecolor": "#EBF0F8",
            "showbackground": true,
            "ticks": "",
            "zerolinecolor": "#EBF0F8"
           },
           "zaxis": {
            "backgroundcolor": "white",
            "gridcolor": "#DFE8F3",
            "gridwidth": 2,
            "linecolor": "#EBF0F8",
            "showbackground": true,
            "ticks": "",
            "zerolinecolor": "#EBF0F8"
           }
          },
          "shapedefaults": {
           "line": {
            "color": "#2a3f5f"
           }
          },
          "ternary": {
           "aaxis": {
            "gridcolor": "#DFE8F3",
            "linecolor": "#A2B1C6",
            "ticks": ""
           },
           "baxis": {
            "gridcolor": "#DFE8F3",
            "linecolor": "#A2B1C6",
            "ticks": ""
           },
           "bgcolor": "white",
           "caxis": {
            "gridcolor": "#DFE8F3",
            "linecolor": "#A2B1C6",
            "ticks": ""
           }
          },
          "title": {
           "x": 0.05
          },
          "xaxis": {
           "automargin": true,
           "gridcolor": "#EBF0F8",
           "linecolor": "#EBF0F8",
           "ticks": "",
           "title": {
            "standoff": 15
           },
           "zerolinecolor": "#EBF0F8",
           "zerolinewidth": 2
          },
          "yaxis": {
           "automargin": true,
           "gridcolor": "#EBF0F8",
           "linecolor": "#EBF0F8",
           "ticks": "",
           "title": {
            "standoff": 15
           },
           "zerolinecolor": "#EBF0F8",
           "zerolinewidth": 2
          }
         }
        },
        "title": {
         "text": "Test AUC Comparison Between Models",
         "x": 0.5
        },
        "width": 500,
        "xaxis": {
         "anchor": "y",
         "domain": [
          0,
          1
         ],
         "linecolor": "black",
         "ticks": "",
         "title": {
          "text": "Model Name"
         }
        },
        "yaxis": {
         "anchor": "x",
         "domain": [
          0,
          1
         ],
         "linecolor": "black",
         "range": [
          0,
          1
         ],
         "ticks": "",
         "title": {
          "text": "Test Accuracy"
         }
        }
       }
      },
      "text/html": [
       "<div>                            <div id=\"f62db820-4b8a-4aea-8188-2d546deeef18\" class=\"plotly-graph-div\" style=\"height:500px; width:500px;\"></div>            <script type=\"text/javascript\">                require([\"plotly\"], function(Plotly) {                    window.PLOTLYENV=window.PLOTLYENV || {};                                    if (document.getElementById(\"f62db820-4b8a-4aea-8188-2d546deeef18\")) {                    Plotly.newPlot(                        \"f62db820-4b8a-4aea-8188-2d546deeef18\",                        [{\"alignmentgroup\":\"True\",\"hovertemplate\":\"Model Name=%{x}\\u003cbr\\u003eTest Accuracy=%{y}\\u003cbr\\u003etext=%{text}\\u003cextra\\u003e\\u003c\\u002fextra\\u003e\",\"legendgroup\":\"\",\"marker\":{\"color\":\"#1f77b4\",\"pattern\":{\"shape\":\"\"}},\"name\":\"\",\"offsetgroup\":\"\",\"orientation\":\"v\",\"showlegend\":false,\"text\":[\"0.735\",\"0.509\",\"0.572\",\"0.572\",\"0.525\",\"0.636\",\"0.483\",\"0.500\"],\"textposition\":\"outside\",\"x\":[\"FMCIBExtractor\",\"CTFMExtractor\",\"PyramidExtractor\",\"VISTA3DExtractor\",\"VocoExtractor\",\"SUPREMExtractor\",\"MerlinExtractor\",\"ModelsGenExtractor\"],\"xaxis\":\"x\",\"y\":[0.7348484848484849,0.509469696969697,0.5719696969696969,0.571969696969697,0.5246212121212122,0.6363636363636365,0.4829545454545454,0.5],\"yaxis\":\"y\",\"type\":\"bar\"}],                        {\"template\":{\"data\":{\"barpolar\":[{\"marker\":{\"line\":{\"color\":\"white\",\"width\":0.5},\"pattern\":{\"fillmode\":\"overlay\",\"size\":10,\"solidity\":0.2}},\"type\":\"barpolar\"}],\"bar\":[{\"error_x\":{\"color\":\"#2a3f5f\"},\"error_y\":{\"color\":\"#2a3f5f\"},\"marker\":{\"line\":{\"color\":\"white\",\"width\":0.5},\"pattern\":{\"fillmode\":\"overlay\",\"size\":10,\"solidity\":0.2}},\"type\":\"bar\"}],\"carpet\":[{\"aaxis\":{\"endlinecolor\":\"#2a3f5f\",\"gridcolor\":\"#C8D4E3\",\"linecolor\":\"#C8D4E3\",\"minorgridcolor\":\"#C8D4E3\",\"startlinecolor\":\"#2a3f5f\"},\"baxis\":{\"endlinecolor\":\"#2a3f5f\",\"gridcolor\":\"#C8D4E3\",\"linecolor\":\"#C8D4E3\",\"minorgridcolor\":\"#C8D4E3\",\"startlinecolor\":\"#2a3f5f\"},\"type\":\"carpet\"}],\"choropleth\":[{\"colorbar\":{\"outlinewidth\":0,\"ticks\":\"\"},\"type\":\"choropleth\"}],\"contourcarpet\":[{\"colorbar\":{\"outlinewidth\":0,\"ticks\":\"\"},\"type\":\"contourcarpet\"}],\"contour\":[{\"colorbar\":{\"outlinewidth\":0,\"ticks\":\"\"},\"colorscale\":[[0.0,\"#0d0887\"],[0.1111111111111111,\"#46039f\"],[0.2222222222222222,\"#7201a8\"],[0.3333333333333333,\"#9c179e\"],[0.4444444444444444,\"#bd3786\"],[0.5555555555555556,\"#d8576b\"],[0.6666666666666666,\"#ed7953\"],[0.7777777777777778,\"#fb9f3a\"],[0.8888888888888888,\"#fdca26\"],[1.0,\"#f0f921\"]],\"type\":\"contour\"}],\"heatmapgl\":[{\"colorbar\":{\"outlinewidth\":0,\"ticks\":\"\"},\"colorscale\":[[0.0,\"#0d0887\"],[0.1111111111111111,\"#46039f\"],[0.2222222222222222,\"#7201a8\"],[0.3333333333333333,\"#9c179e\"],[0.4444444444444444,\"#bd3786\"],[0.5555555555555556,\"#d8576b\"],[0.6666666666666666,\"#ed7953\"],[0.7777777777777778,\"#fb9f3a\"],[0.8888888888888888,\"#fdca26\"],[1.0,\"#f0f921\"]],\"type\":\"heatmapgl\"}],\"heatmap\":[{\"colorbar\":{\"outlinewidth\":0,\"ticks\":\"\"},\"colorscale\":[[0.0,\"#0d0887\"],[0.1111111111111111,\"#46039f\"],[0.2222222222222222,\"#7201a8\"],[0.3333333333333333,\"#9c179e\"],[0.4444444444444444,\"#bd3786\"],[0.5555555555555556,\"#d8576b\"],[0.6666666666666666,\"#ed7953\"],[0.7777777777777778,\"#fb9f3a\"],[0.8888888888888888,\"#fdca26\"],[1.0,\"#f0f921\"]],\"type\":\"heatmap\"}],\"histogram2dcontour\":[{\"colorbar\":{\"outlinewidth\":0,\"ticks\":\"\"},\"colorscale\":[[0.0,\"#0d0887\"],[0.1111111111111111,\"#46039f\"],[0.2222222222222222,\"#7201a8\"],[0.3333333333333333,\"#9c179e\"],[0.4444444444444444,\"#bd3786\"],[0.5555555555555556,\"#d8576b\"],[0.6666666666666666,\"#ed7953\"],[0.7777777777777778,\"#fb9f3a\"],[0.8888888888888888,\"#fdca26\"],[1.0,\"#f0f921\"]],\"type\":\"histogram2dcontour\"}],\"histogram2d\":[{\"colorbar\":{\"outlinewidth\":0,\"ticks\":\"\"},\"colorscale\":[[0.0,\"#0d0887\"],[0.1111111111111111,\"#46039f\"],[0.2222222222222222,\"#7201a8\"],[0.3333333333333333,\"#9c179e\"],[0.4444444444444444,\"#bd3786\"],[0.5555555555555556,\"#d8576b\"],[0.6666666666666666,\"#ed7953\"],[0.7777777777777778,\"#fb9f3a\"],[0.8888888888888888,\"#fdca26\"],[1.0,\"#f0f921\"]],\"type\":\"histogram2d\"}],\"histogram\":[{\"marker\":{\"pattern\":{\"fillmode\":\"overlay\",\"size\":10,\"solidity\":0.2}},\"type\":\"histogram\"}],\"mesh3d\":[{\"colorbar\":{\"outlinewidth\":0,\"ticks\":\"\"},\"type\":\"mesh3d\"}],\"parcoords\":[{\"line\":{\"colorbar\":{\"outlinewidth\":0,\"ticks\":\"\"}},\"type\":\"parcoords\"}],\"pie\":[{\"automargin\":true,\"type\":\"pie\"}],\"scatter3d\":[{\"line\":{\"colorbar\":{\"outlinewidth\":0,\"ticks\":\"\"}},\"marker\":{\"colorbar\":{\"outlinewidth\":0,\"ticks\":\"\"}},\"type\":\"scatter3d\"}],\"scattercarpet\":[{\"marker\":{\"colorbar\":{\"outlinewidth\":0,\"ticks\":\"\"}},\"type\":\"scattercarpet\"}],\"scattergeo\":[{\"marker\":{\"colorbar\":{\"outlinewidth\":0,\"ticks\":\"\"}},\"type\":\"scattergeo\"}],\"scattergl\":[{\"marker\":{\"colorbar\":{\"outlinewidth\":0,\"ticks\":\"\"}},\"type\":\"scattergl\"}],\"scattermapbox\":[{\"marker\":{\"colorbar\":{\"outlinewidth\":0,\"ticks\":\"\"}},\"type\":\"scattermapbox\"}],\"scatterpolargl\":[{\"marker\":{\"colorbar\":{\"outlinewidth\":0,\"ticks\":\"\"}},\"type\":\"scatterpolargl\"}],\"scatterpolar\":[{\"marker\":{\"colorbar\":{\"outlinewidth\":0,\"ticks\":\"\"}},\"type\":\"scatterpolar\"}],\"scatter\":[{\"fillpattern\":{\"fillmode\":\"overlay\",\"size\":10,\"solidity\":0.2},\"type\":\"scatter\"}],\"scatterternary\":[{\"marker\":{\"colorbar\":{\"outlinewidth\":0,\"ticks\":\"\"}},\"type\":\"scatterternary\"}],\"surface\":[{\"colorbar\":{\"outlinewidth\":0,\"ticks\":\"\"},\"colorscale\":[[0.0,\"#0d0887\"],[0.1111111111111111,\"#46039f\"],[0.2222222222222222,\"#7201a8\"],[0.3333333333333333,\"#9c179e\"],[0.4444444444444444,\"#bd3786\"],[0.5555555555555556,\"#d8576b\"],[0.6666666666666666,\"#ed7953\"],[0.7777777777777778,\"#fb9f3a\"],[0.8888888888888888,\"#fdca26\"],[1.0,\"#f0f921\"]],\"type\":\"surface\"}],\"table\":[{\"cells\":{\"fill\":{\"color\":\"#EBF0F8\"},\"line\":{\"color\":\"white\"}},\"header\":{\"fill\":{\"color\":\"#C8D4E3\"},\"line\":{\"color\":\"white\"}},\"type\":\"table\"}]},\"layout\":{\"annotationdefaults\":{\"arrowcolor\":\"#2a3f5f\",\"arrowhead\":0,\"arrowwidth\":1},\"autotypenumbers\":\"strict\",\"coloraxis\":{\"colorbar\":{\"outlinewidth\":0,\"ticks\":\"\"}},\"colorscale\":{\"diverging\":[[0,\"#8e0152\"],[0.1,\"#c51b7d\"],[0.2,\"#de77ae\"],[0.3,\"#f1b6da\"],[0.4,\"#fde0ef\"],[0.5,\"#f7f7f7\"],[0.6,\"#e6f5d0\"],[0.7,\"#b8e186\"],[0.8,\"#7fbc41\"],[0.9,\"#4d9221\"],[1,\"#276419\"]],\"sequential\":[[0.0,\"#0d0887\"],[0.1111111111111111,\"#46039f\"],[0.2222222222222222,\"#7201a8\"],[0.3333333333333333,\"#9c179e\"],[0.4444444444444444,\"#bd3786\"],[0.5555555555555556,\"#d8576b\"],[0.6666666666666666,\"#ed7953\"],[0.7777777777777778,\"#fb9f3a\"],[0.8888888888888888,\"#fdca26\"],[1.0,\"#f0f921\"]],\"sequentialminus\":[[0.0,\"#0d0887\"],[0.1111111111111111,\"#46039f\"],[0.2222222222222222,\"#7201a8\"],[0.3333333333333333,\"#9c179e\"],[0.4444444444444444,\"#bd3786\"],[0.5555555555555556,\"#d8576b\"],[0.6666666666666666,\"#ed7953\"],[0.7777777777777778,\"#fb9f3a\"],[0.8888888888888888,\"#fdca26\"],[1.0,\"#f0f921\"]]},\"colorway\":[\"#636efa\",\"#EF553B\",\"#00cc96\",\"#ab63fa\",\"#FFA15A\",\"#19d3f3\",\"#FF6692\",\"#B6E880\",\"#FF97FF\",\"#FECB52\"],\"font\":{\"color\":\"#2a3f5f\"},\"geo\":{\"bgcolor\":\"white\",\"lakecolor\":\"white\",\"landcolor\":\"white\",\"showlakes\":true,\"showland\":true,\"subunitcolor\":\"#C8D4E3\"},\"hoverlabel\":{\"align\":\"left\"},\"hovermode\":\"closest\",\"mapbox\":{\"style\":\"light\"},\"paper_bgcolor\":\"white\",\"plot_bgcolor\":\"white\",\"polar\":{\"angularaxis\":{\"gridcolor\":\"#EBF0F8\",\"linecolor\":\"#EBF0F8\",\"ticks\":\"\"},\"bgcolor\":\"white\",\"radialaxis\":{\"gridcolor\":\"#EBF0F8\",\"linecolor\":\"#EBF0F8\",\"ticks\":\"\"}},\"scene\":{\"xaxis\":{\"backgroundcolor\":\"white\",\"gridcolor\":\"#DFE8F3\",\"gridwidth\":2,\"linecolor\":\"#EBF0F8\",\"showbackground\":true,\"ticks\":\"\",\"zerolinecolor\":\"#EBF0F8\"},\"yaxis\":{\"backgroundcolor\":\"white\",\"gridcolor\":\"#DFE8F3\",\"gridwidth\":2,\"linecolor\":\"#EBF0F8\",\"showbackground\":true,\"ticks\":\"\",\"zerolinecolor\":\"#EBF0F8\"},\"zaxis\":{\"backgroundcolor\":\"white\",\"gridcolor\":\"#DFE8F3\",\"gridwidth\":2,\"linecolor\":\"#EBF0F8\",\"showbackground\":true,\"ticks\":\"\",\"zerolinecolor\":\"#EBF0F8\"}},\"shapedefaults\":{\"line\":{\"color\":\"#2a3f5f\"}},\"ternary\":{\"aaxis\":{\"gridcolor\":\"#DFE8F3\",\"linecolor\":\"#A2B1C6\",\"ticks\":\"\"},\"baxis\":{\"gridcolor\":\"#DFE8F3\",\"linecolor\":\"#A2B1C6\",\"ticks\":\"\"},\"bgcolor\":\"white\",\"caxis\":{\"gridcolor\":\"#DFE8F3\",\"linecolor\":\"#A2B1C6\",\"ticks\":\"\"}},\"title\":{\"x\":0.05},\"xaxis\":{\"automargin\":true,\"gridcolor\":\"#EBF0F8\",\"linecolor\":\"#EBF0F8\",\"ticks\":\"\",\"title\":{\"standoff\":15},\"zerolinecolor\":\"#EBF0F8\",\"zerolinewidth\":2},\"yaxis\":{\"automargin\":true,\"gridcolor\":\"#EBF0F8\",\"linecolor\":\"#EBF0F8\",\"ticks\":\"\",\"title\":{\"standoff\":15},\"zerolinecolor\":\"#EBF0F8\",\"zerolinewidth\":2}}},\"xaxis\":{\"anchor\":\"y\",\"domain\":[0.0,1.0],\"title\":{\"text\":\"Model Name\"},\"linecolor\":\"black\",\"ticks\":\"\"},\"yaxis\":{\"anchor\":\"x\",\"domain\":[0.0,1.0],\"title\":{\"text\":\"Test Accuracy\"},\"range\":[0,1],\"linecolor\":\"black\",\"ticks\":\"\"},\"legend\":{\"tracegroupgap\":0},\"title\":{\"text\":\"Test AUC Comparison Between Models\",\"x\":0.5},\"barmode\":\"relative\",\"height\":500,\"width\":500,\"font\":{\"size\":10},\"showlegend\":false,\"plot_bgcolor\":\"rgba(0,0,0,0)\"},                        {\"responsive\": true}                    ).then(function(){\n",
       "                            \n",
       "var gd = document.getElementById('f62db820-4b8a-4aea-8188-2d546deeef18');\n",
       "var x = new MutationObserver(function (mutations, observer) {{\n",
       "        var display = window.getComputedStyle(gd).display;\n",
       "        if (!display || display === 'none') {{\n",
       "            console.log([gd, 'removed!']);\n",
       "            Plotly.purge(gd);\n",
       "            observer.disconnect();\n",
       "        }}\n",
       "}});\n",
       "\n",
       "// Listen for the removal of the full notebook cells\n",
       "var notebookContainer = gd.closest('#notebook-container');\n",
       "if (notebookContainer) {{\n",
       "    x.observe(notebookContainer, {childList: true});\n",
       "}}\n",
       "\n",
       "// Listen for the clearing of the current output cell\n",
       "var outputEl = gd.closest('.output');\n",
       "if (outputEl) {{\n",
       "    x.observe(outputEl, {childList: true});\n",
       "}}\n",
       "\n",
       "                        })                };                });            </script>        </div>"
      ]
     },
     "metadata": {},
     "output_type": "display_data"
    }
   ],
   "source": [
    "# Plot test accuracies\n",
    "fig = plot_model_comparison(test_accuracies_dict)\n",
    "fig.show() # Show the plot"
   ]
  }
 ],
 "metadata": {
  "kernelspec": {
   "display_name": "Python 3",
   "language": "python",
   "name": "python3"
  },
  "language_info": {
   "codemirror_mode": {
    "name": "ipython",
    "version": 3
   },
   "file_extension": ".py",
   "mimetype": "text/x-python",
   "name": "python",
   "nbconvert_exporter": "python",
   "pygments_lexer": "ipython3",
   "version": "3.10.14"
  }
 },
 "nbformat": 4,
 "nbformat_minor": 4
}
